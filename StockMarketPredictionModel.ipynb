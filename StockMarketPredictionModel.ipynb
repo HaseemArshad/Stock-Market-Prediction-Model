{
 "cells": [
  {
   "cell_type": "markdown",
   "metadata": {},
   "source": [
    "# Stock Market Prediction Model of the Magnificient Seven "
   ]
  },
  {
   "cell_type": "markdown",
   "metadata": {},
   "source": [
    "#pip install the dependencies from requirements. May take up to 12 minutes"
   ]
  },
  {
   "cell_type": "code",
   "execution_count": 112,
   "metadata": {},
   "outputs": [
    {
     "name": "stdout",
     "output_type": "stream",
     "text": [
      "Defaulting to user installation because normal site-packages is not writeable\n",
      "Requirement already satisfied: pandas in /Users/haseemarshad/Library/Python/3.9/lib/python/site-packages (from -r requirements.txt (line 1)) (2.2.3)\n",
      "Requirement already satisfied: finnhub-python in /Users/haseemarshad/Library/Python/3.9/lib/python/site-packages (from -r requirements.txt (line 2)) (2.4.23)\n",
      "Requirement already satisfied: numpy in /Users/haseemarshad/Library/Python/3.9/lib/python/site-packages (from -r requirements.txt (line 3)) (2.0.2)\n",
      "Requirement already satisfied: cassandra-driver in /Users/haseemarshad/Library/Python/3.9/lib/python/site-packages (from -r requirements.txt (line 4)) (3.29.2)\n",
      "Requirement already satisfied: seaborn in /Users/haseemarshad/Library/Python/3.9/lib/python/site-packages (from -r requirements.txt (line 5)) (0.13.2)\n",
      "Requirement already satisfied: matplotlib in /Users/haseemarshad/Library/Python/3.9/lib/python/site-packages (from -r requirements.txt (line 6)) (3.9.4)\n",
      "Requirement already satisfied: plotly in /Users/haseemarshad/Library/Python/3.9/lib/python/site-packages (from -r requirements.txt (line 7)) (6.0.1)\n",
      "Requirement already satisfied: statsmodels in /Users/haseemarshad/Library/Python/3.9/lib/python/site-packages (from -r requirements.txt (line 8)) (0.14.4)\n",
      "Requirement already satisfied: tensorflow in /Users/haseemarshad/Library/Python/3.9/lib/python/site-packages (from -r requirements.txt (line 9)) (2.19.0)\n",
      "Requirement already satisfied: yfinance in /Users/haseemarshad/Library/Python/3.9/lib/python/site-packages (from -r requirements.txt (line 10)) (0.2.55)\n",
      "Requirement already satisfied: nbformat in /Users/haseemarshad/Library/Python/3.9/lib/python/site-packages (from -r requirements.txt (line 11)) (5.10.4)\n",
      "Requirement already satisfied: sklearn in /Users/haseemarshad/Library/Python/3.9/lib/python/site-packages (from -r requirements.txt (line 12)) (0.0)\n",
      "Requirement already satisfied: xgboost in /Users/haseemarshad/Library/Python/3.9/lib/python/site-packages (from -r requirements.txt (line 13)) (2.1.4)\n",
      "Requirement already satisfied: pytz>=2020.1 in /Users/haseemarshad/Library/Python/3.9/lib/python/site-packages (from pandas->-r requirements.txt (line 1)) (2025.1)\n",
      "Requirement already satisfied: tzdata>=2022.7 in /Users/haseemarshad/Library/Python/3.9/lib/python/site-packages (from pandas->-r requirements.txt (line 1)) (2025.2)\n",
      "Requirement already satisfied: python-dateutil>=2.8.2 in /Users/haseemarshad/Library/Python/3.9/lib/python/site-packages (from pandas->-r requirements.txt (line 1)) (2.9.0.post0)\n",
      "Requirement already satisfied: requests>=2.22.0 in /Users/haseemarshad/Library/Python/3.9/lib/python/site-packages (from finnhub-python->-r requirements.txt (line 2)) (2.32.3)\n",
      "Requirement already satisfied: geomet<0.3,>=0.1 in /Users/haseemarshad/Library/Python/3.9/lib/python/site-packages (from cassandra-driver->-r requirements.txt (line 4)) (0.2.1.post1)\n",
      "Requirement already satisfied: pillow>=8 in /Users/haseemarshad/Library/Python/3.9/lib/python/site-packages (from matplotlib->-r requirements.txt (line 6)) (11.1.0)\n",
      "Requirement already satisfied: contourpy>=1.0.1 in /Users/haseemarshad/Library/Python/3.9/lib/python/site-packages (from matplotlib->-r requirements.txt (line 6)) (1.3.0)\n",
      "Requirement already satisfied: importlib-resources>=3.2.0 in /Users/haseemarshad/Library/Python/3.9/lib/python/site-packages (from matplotlib->-r requirements.txt (line 6)) (6.5.2)\n",
      "Requirement already satisfied: kiwisolver>=1.3.1 in /Users/haseemarshad/Library/Python/3.9/lib/python/site-packages (from matplotlib->-r requirements.txt (line 6)) (1.4.7)\n",
      "Requirement already satisfied: pyparsing>=2.3.1 in /Users/haseemarshad/Library/Python/3.9/lib/python/site-packages (from matplotlib->-r requirements.txt (line 6)) (3.2.2)\n",
      "Requirement already satisfied: packaging>=20.0 in /Users/haseemarshad/Library/Python/3.9/lib/python/site-packages (from matplotlib->-r requirements.txt (line 6)) (24.2)\n",
      "Requirement already satisfied: cycler>=0.10 in /Users/haseemarshad/Library/Python/3.9/lib/python/site-packages (from matplotlib->-r requirements.txt (line 6)) (0.12.1)\n",
      "Requirement already satisfied: fonttools>=4.22.0 in /Users/haseemarshad/Library/Python/3.9/lib/python/site-packages (from matplotlib->-r requirements.txt (line 6)) (4.56.0)\n",
      "Requirement already satisfied: narwhals>=1.15.1 in /Users/haseemarshad/Library/Python/3.9/lib/python/site-packages (from plotly->-r requirements.txt (line 7)) (1.32.0)\n",
      "Requirement already satisfied: patsy>=0.5.6 in /Users/haseemarshad/Library/Python/3.9/lib/python/site-packages (from statsmodels->-r requirements.txt (line 8)) (1.0.1)\n",
      "Requirement already satisfied: scipy!=1.9.2,>=1.8 in /Users/haseemarshad/Library/Python/3.9/lib/python/site-packages (from statsmodels->-r requirements.txt (line 8)) (1.13.1)\n",
      "Requirement already satisfied: h5py>=3.11.0 in /Users/haseemarshad/Library/Python/3.9/lib/python/site-packages (from tensorflow->-r requirements.txt (line 9)) (3.13.0)\n",
      "Requirement already satisfied: google-pasta>=0.1.1 in /Users/haseemarshad/Library/Python/3.9/lib/python/site-packages (from tensorflow->-r requirements.txt (line 9)) (0.2.0)\n",
      "Requirement already satisfied: flatbuffers>=24.3.25 in /Users/haseemarshad/Library/Python/3.9/lib/python/site-packages (from tensorflow->-r requirements.txt (line 9)) (25.2.10)\n",
      "Requirement already satisfied: gast!=0.5.0,!=0.5.1,!=0.5.2,>=0.2.1 in /Users/haseemarshad/Library/Python/3.9/lib/python/site-packages (from tensorflow->-r requirements.txt (line 9)) (0.6.0)\n",
      "Requirement already satisfied: wrapt>=1.11.0 in /Users/haseemarshad/Library/Python/3.9/lib/python/site-packages (from tensorflow->-r requirements.txt (line 9)) (1.17.2)\n",
      "Requirement already satisfied: typing-extensions>=3.6.6 in /Users/haseemarshad/Library/Python/3.9/lib/python/site-packages (from tensorflow->-r requirements.txt (line 9)) (4.12.2)\n",
      "Requirement already satisfied: astunparse>=1.6.0 in /Users/haseemarshad/Library/Python/3.9/lib/python/site-packages (from tensorflow->-r requirements.txt (line 9)) (1.6.3)\n",
      "Requirement already satisfied: termcolor>=1.1.0 in /Users/haseemarshad/Library/Python/3.9/lib/python/site-packages (from tensorflow->-r requirements.txt (line 9)) (2.5.0)\n",
      "Requirement already satisfied: opt-einsum>=2.3.2 in /Users/haseemarshad/Library/Python/3.9/lib/python/site-packages (from tensorflow->-r requirements.txt (line 9)) (3.4.0)\n",
      "Requirement already satisfied: grpcio<2.0,>=1.24.3 in /Users/haseemarshad/Library/Python/3.9/lib/python/site-packages (from tensorflow->-r requirements.txt (line 9)) (1.71.0)\n",
      "Requirement already satisfied: keras>=3.5.0 in /Users/haseemarshad/Library/Python/3.9/lib/python/site-packages (from tensorflow->-r requirements.txt (line 9)) (3.9.0)\n",
      "Requirement already satisfied: absl-py>=1.0.0 in /Users/haseemarshad/Library/Python/3.9/lib/python/site-packages (from tensorflow->-r requirements.txt (line 9)) (2.2.0)\n",
      "Requirement already satisfied: six>=1.12.0 in /Library/Developer/CommandLineTools/Library/Frameworks/Python3.framework/Versions/3.9/lib/python3.9/site-packages (from tensorflow->-r requirements.txt (line 9)) (1.15.0)\n",
      "Requirement already satisfied: tensorflow-io-gcs-filesystem>=0.23.1 in /Users/haseemarshad/Library/Python/3.9/lib/python/site-packages (from tensorflow->-r requirements.txt (line 9)) (0.37.1)\n",
      "Requirement already satisfied: libclang>=13.0.0 in /Users/haseemarshad/Library/Python/3.9/lib/python/site-packages (from tensorflow->-r requirements.txt (line 9)) (18.1.1)\n",
      "Requirement already satisfied: ml-dtypes<1.0.0,>=0.5.1 in /Users/haseemarshad/Library/Python/3.9/lib/python/site-packages (from tensorflow->-r requirements.txt (line 9)) (0.5.1)\n",
      "Requirement already satisfied: tensorboard~=2.19.0 in /Users/haseemarshad/Library/Python/3.9/lib/python/site-packages (from tensorflow->-r requirements.txt (line 9)) (2.19.0)\n",
      "Requirement already satisfied: setuptools in /Library/Developer/CommandLineTools/Library/Frameworks/Python3.framework/Versions/3.9/lib/python3.9/site-packages (from tensorflow->-r requirements.txt (line 9)) (58.0.4)\n",
      "Requirement already satisfied: protobuf!=4.21.0,!=4.21.1,!=4.21.2,!=4.21.3,!=4.21.4,!=4.21.5,<6.0.0dev,>=3.20.3 in /Users/haseemarshad/Library/Python/3.9/lib/python/site-packages (from tensorflow->-r requirements.txt (line 9)) (5.29.4)\n",
      "Requirement already satisfied: frozendict>=2.3.4 in /Users/haseemarshad/Library/Python/3.9/lib/python/site-packages (from yfinance->-r requirements.txt (line 10)) (2.4.6)\n",
      "Requirement already satisfied: platformdirs>=2.0.0 in /Users/haseemarshad/Library/Python/3.9/lib/python/site-packages (from yfinance->-r requirements.txt (line 10)) (4.3.7)\n",
      "Requirement already satisfied: multitasking>=0.0.7 in /Users/haseemarshad/Library/Python/3.9/lib/python/site-packages (from yfinance->-r requirements.txt (line 10)) (0.0.11)\n",
      "Requirement already satisfied: beautifulsoup4>=4.11.1 in /Users/haseemarshad/Library/Python/3.9/lib/python/site-packages (from yfinance->-r requirements.txt (line 10)) (4.13.3)\n",
      "Requirement already satisfied: peewee>=3.16.2 in /Users/haseemarshad/Library/Python/3.9/lib/python/site-packages (from yfinance->-r requirements.txt (line 10)) (3.17.9)\n",
      "Requirement already satisfied: jsonschema>=2.6 in /Users/haseemarshad/Library/Python/3.9/lib/python/site-packages (from nbformat->-r requirements.txt (line 11)) (4.23.0)\n",
      "Requirement already satisfied: traitlets>=5.1 in /Users/haseemarshad/Library/Python/3.9/lib/python/site-packages (from nbformat->-r requirements.txt (line 11)) (5.14.3)\n",
      "Requirement already satisfied: jupyter-core!=5.0.*,>=4.12 in /Users/haseemarshad/Library/Python/3.9/lib/python/site-packages (from nbformat->-r requirements.txt (line 11)) (5.7.2)\n",
      "Requirement already satisfied: fastjsonschema>=2.15 in /Users/haseemarshad/Library/Python/3.9/lib/python/site-packages (from nbformat->-r requirements.txt (line 11)) (2.21.1)\n",
      "Requirement already satisfied: scikit-learn in /Users/haseemarshad/Library/Python/3.9/lib/python/site-packages (from sklearn->-r requirements.txt (line 12)) (1.6.1)\n",
      "Requirement already satisfied: wheel<1.0,>=0.23.0 in /Library/Developer/CommandLineTools/Library/Frameworks/Python3.framework/Versions/3.9/lib/python3.9/site-packages (from astunparse>=1.6.0->tensorflow->-r requirements.txt (line 9)) (0.37.0)\n",
      "Requirement already satisfied: soupsieve>1.2 in /Users/haseemarshad/Library/Python/3.9/lib/python/site-packages (from beautifulsoup4>=4.11.1->yfinance->-r requirements.txt (line 10)) (2.6)\n",
      "Requirement already satisfied: click in /Users/haseemarshad/Library/Python/3.9/lib/python/site-packages (from geomet<0.3,>=0.1->cassandra-driver->-r requirements.txt (line 4)) (8.1.8)\n",
      "Requirement already satisfied: zipp>=3.1.0 in /Users/haseemarshad/Library/Python/3.9/lib/python/site-packages (from importlib-resources>=3.2.0->matplotlib->-r requirements.txt (line 6)) (3.21.0)\n",
      "Requirement already satisfied: jsonschema-specifications>=2023.03.6 in /Users/haseemarshad/Library/Python/3.9/lib/python/site-packages (from jsonschema>=2.6->nbformat->-r requirements.txt (line 11)) (2024.10.1)\n",
      "Requirement already satisfied: rpds-py>=0.7.1 in /Users/haseemarshad/Library/Python/3.9/lib/python/site-packages (from jsonschema>=2.6->nbformat->-r requirements.txt (line 11)) (0.24.0)\n",
      "Requirement already satisfied: referencing>=0.28.4 in /Users/haseemarshad/Library/Python/3.9/lib/python/site-packages (from jsonschema>=2.6->nbformat->-r requirements.txt (line 11)) (0.36.2)\n",
      "Requirement already satisfied: attrs>=22.2.0 in /Users/haseemarshad/Library/Python/3.9/lib/python/site-packages (from jsonschema>=2.6->nbformat->-r requirements.txt (line 11)) (25.3.0)\n",
      "Requirement already satisfied: rich in /Users/haseemarshad/Library/Python/3.9/lib/python/site-packages (from keras>=3.5.0->tensorflow->-r requirements.txt (line 9)) (13.9.4)\n",
      "Requirement already satisfied: namex in /Users/haseemarshad/Library/Python/3.9/lib/python/site-packages (from keras>=3.5.0->tensorflow->-r requirements.txt (line 9)) (0.0.8)\n",
      "Requirement already satisfied: optree in /Users/haseemarshad/Library/Python/3.9/lib/python/site-packages (from keras>=3.5.0->tensorflow->-r requirements.txt (line 9)) (0.14.1)\n",
      "Requirement already satisfied: idna<4,>=2.5 in /Users/haseemarshad/Library/Python/3.9/lib/python/site-packages (from requests>=2.22.0->finnhub-python->-r requirements.txt (line 2)) (3.10)\n",
      "Requirement already satisfied: urllib3<3,>=1.21.1 in /Users/haseemarshad/Library/Python/3.9/lib/python/site-packages (from requests>=2.22.0->finnhub-python->-r requirements.txt (line 2)) (2.3.0)\n",
      "Requirement already satisfied: certifi>=2017.4.17 in /Users/haseemarshad/Library/Python/3.9/lib/python/site-packages (from requests>=2.22.0->finnhub-python->-r requirements.txt (line 2)) (2025.1.31)\n",
      "Requirement already satisfied: charset-normalizer<4,>=2 in /Users/haseemarshad/Library/Python/3.9/lib/python/site-packages (from requests>=2.22.0->finnhub-python->-r requirements.txt (line 2)) (3.4.1)\n",
      "Requirement already satisfied: markdown>=2.6.8 in /Users/haseemarshad/Library/Python/3.9/lib/python/site-packages (from tensorboard~=2.19.0->tensorflow->-r requirements.txt (line 9)) (3.7)\n",
      "Requirement already satisfied: werkzeug>=1.0.1 in /Users/haseemarshad/Library/Python/3.9/lib/python/site-packages (from tensorboard~=2.19.0->tensorflow->-r requirements.txt (line 9)) (3.1.3)\n",
      "Requirement already satisfied: tensorboard-data-server<0.8.0,>=0.7.0 in /Users/haseemarshad/Library/Python/3.9/lib/python/site-packages (from tensorboard~=2.19.0->tensorflow->-r requirements.txt (line 9)) (0.7.2)\n",
      "Requirement already satisfied: importlib-metadata>=4.4 in /Users/haseemarshad/Library/Python/3.9/lib/python/site-packages (from markdown>=2.6.8->tensorboard~=2.19.0->tensorflow->-r requirements.txt (line 9)) (8.6.1)\n",
      "Requirement already satisfied: MarkupSafe>=2.1.1 in /Users/haseemarshad/Library/Python/3.9/lib/python/site-packages (from werkzeug>=1.0.1->tensorboard~=2.19.0->tensorflow->-r requirements.txt (line 9)) (3.0.2)\n",
      "Requirement already satisfied: markdown-it-py>=2.2.0 in /Users/haseemarshad/Library/Python/3.9/lib/python/site-packages (from rich->keras>=3.5.0->tensorflow->-r requirements.txt (line 9)) (3.0.0)\n",
      "Requirement already satisfied: pygments<3.0.0,>=2.13.0 in /Users/haseemarshad/Library/Python/3.9/lib/python/site-packages (from rich->keras>=3.5.0->tensorflow->-r requirements.txt (line 9)) (2.19.1)\n",
      "Requirement already satisfied: mdurl~=0.1 in /Users/haseemarshad/Library/Python/3.9/lib/python/site-packages (from markdown-it-py>=2.2.0->rich->keras>=3.5.0->tensorflow->-r requirements.txt (line 9)) (0.1.2)\n",
      "Requirement already satisfied: joblib>=1.2.0 in /Users/haseemarshad/Library/Python/3.9/lib/python/site-packages (from scikit-learn->sklearn->-r requirements.txt (line 12)) (1.4.2)\n",
      "Requirement already satisfied: threadpoolctl>=3.1.0 in /Users/haseemarshad/Library/Python/3.9/lib/python/site-packages (from scikit-learn->sklearn->-r requirements.txt (line 12)) (3.6.0)\n",
      "\u001b[33mWARNING: You are using pip version 21.2.4; however, version 25.0.1 is available.\n",
      "You should consider upgrading via the '/Library/Developer/CommandLineTools/usr/bin/python3 -m pip install --upgrade pip' command.\u001b[0m\n"
     ]
    }
   ],
   "source": [
    "!python3 -m pip install -r requirements.txt"
   ]
  },
  {
   "cell_type": "markdown",
   "metadata": {},
   "source": [
    "### importing our libraries after pipinstall"
   ]
  },
  {
   "cell_type": "code",
   "execution_count": 13,
   "metadata": {},
   "outputs": [],
   "source": [
    "\n",
    "#python data manipulation\n",
    "import pandas as pd\n",
    "import numpy as np\n",
    "\n",
    "#data visualizaiton tools, EDA\n",
    "import seaborn as sns\n",
    "import matplotlib.pyplot as plt\n",
    "import plotly.express as px\n",
    "\n",
    "#mysql and Cassandra\n",
    "from cassandra.cluster import Cluster          \n",
    "\n",
    "from sklearn.preprocessing import MinMaxScaler\n",
    "from sklearn.metrics import mean_squared_error, r2_score\n",
    "#ARIMA\n",
    "from statsmodels.tsa.arima.model import ARIMA\n",
    "import statsmodels.api as sm\n",
    "\n",
    "\n",
    "\n",
    "#LSTM Neural network\n",
    "from tensorflow.keras.models import Sequential\n",
    "from tensorflow.keras.layers import LSTM, Dense\n",
    "import tensorflow as tf\n",
    "\n",
    "# our finance data\n",
    "import yfinance as yf\n",
    "\n"
   ]
  },
  {
   "cell_type": "markdown",
   "metadata": {},
   "source": [
    "## Extracting the Historical Data.\n",
    "\n",
    "\n",
    " ### The historical aspect of the data is starting from January 1st 2020 to yesterday (april 6th), We can adjust this to most recent always. We extracted the 7 companies and start with first 7 features from our project proposal: Date/time, open price, low price, high price, adjusted close price, trading volume"
   ]
  },
  {
   "cell_type": "code",
   "execution_count": 14,
   "metadata": {},
   "outputs": [],
   "source": [
    "def extract_data(tickers, start_date=\"2020-01-01\", end_date=\"2025-04-06\", interval=\"1d\"):\n",
    "    # importing the yfinance api data, making sure the autoadjust is off because it overrides the close value if its on\n",
    "    df = yf.download(tickers, start=start_date, end=end_date, interval=interval, auto_adjust=False)\n",
    "    # tidying the data to make it better for analysis and transformation later\n",
    "    df.columns = df.columns.swaplevel(0, 1)\n",
    "    df = df.sort_index(axis=1, level=0)\n",
    "    df_flat = df.stack(level=0, future_stack=True).reset_index()  \n",
    "    df_flat.rename(columns={'level_0': 'Date'}, inplace=True)\n",
    "    # renaming 'Adj Close' to 'Adj_Close' for consistency\n",
    "    if 'Adj Close' in df_flat.columns:\n",
    "        df_flat.rename(columns={'Adj Close': 'Adj_Close'}, inplace=True)\n",
    "    # adding the previous day's close price per ticker\n",
    "    df_flat['Previous_Close'] = df_flat.groupby('Ticker')['Close'].shift(1)\n",
    "    # selecting the columns we expect and need\n",
    "    expected_cols = ['Date', 'Ticker', 'Open', 'High', 'Low', 'Close', 'Adj_Close', 'Previous_Close', 'Volume']\n",
    "    existing_cols = [col for col in expected_cols if col in df_flat.columns]\n",
    "    return df_flat[existing_cols]\n"
   ]
  },
  {
   "cell_type": "code",
   "execution_count": 15,
   "metadata": {},
   "outputs": [
    {
     "name": "stderr",
     "output_type": "stream",
     "text": [
      "[*********************100%***********************]  7 of 7 completed\n"
     ]
    },
    {
     "data": {
      "text/html": [
       "<div>\n",
       "<style scoped>\n",
       "    .dataframe tbody tr th:only-of-type {\n",
       "        vertical-align: middle;\n",
       "    }\n",
       "\n",
       "    .dataframe tbody tr th {\n",
       "        vertical-align: top;\n",
       "    }\n",
       "\n",
       "    .dataframe thead th {\n",
       "        text-align: right;\n",
       "    }\n",
       "</style>\n",
       "<table border=\"1\" class=\"dataframe\">\n",
       "  <thead>\n",
       "    <tr style=\"text-align: right;\">\n",
       "      <th>Price</th>\n",
       "      <th>Date</th>\n",
       "      <th>Ticker</th>\n",
       "      <th>Open</th>\n",
       "      <th>High</th>\n",
       "      <th>Low</th>\n",
       "      <th>Close</th>\n",
       "      <th>Adj_Close</th>\n",
       "      <th>Previous_Close</th>\n",
       "      <th>Volume</th>\n",
       "    </tr>\n",
       "  </thead>\n",
       "  <tbody>\n",
       "    <tr>\n",
       "      <th>0</th>\n",
       "      <td>2020-01-02</td>\n",
       "      <td>AAPL</td>\n",
       "      <td>74.059998</td>\n",
       "      <td>75.150002</td>\n",
       "      <td>73.797501</td>\n",
       "      <td>75.087502</td>\n",
       "      <td>72.716064</td>\n",
       "      <td>NaN</td>\n",
       "      <td>135480400</td>\n",
       "    </tr>\n",
       "    <tr>\n",
       "      <th>1</th>\n",
       "      <td>2020-01-02</td>\n",
       "      <td>AMZN</td>\n",
       "      <td>93.750000</td>\n",
       "      <td>94.900497</td>\n",
       "      <td>93.207497</td>\n",
       "      <td>94.900497</td>\n",
       "      <td>94.900497</td>\n",
       "      <td>NaN</td>\n",
       "      <td>80580000</td>\n",
       "    </tr>\n",
       "    <tr>\n",
       "      <th>2</th>\n",
       "      <td>2020-01-02</td>\n",
       "      <td>GOOGL</td>\n",
       "      <td>67.420502</td>\n",
       "      <td>68.433998</td>\n",
       "      <td>67.324501</td>\n",
       "      <td>68.433998</td>\n",
       "      <td>68.108368</td>\n",
       "      <td>NaN</td>\n",
       "      <td>27278000</td>\n",
       "    </tr>\n",
       "    <tr>\n",
       "      <th>3</th>\n",
       "      <td>2020-01-02</td>\n",
       "      <td>META</td>\n",
       "      <td>206.750000</td>\n",
       "      <td>209.789993</td>\n",
       "      <td>206.270004</td>\n",
       "      <td>209.779999</td>\n",
       "      <td>208.795944</td>\n",
       "      <td>NaN</td>\n",
       "      <td>12077100</td>\n",
       "    </tr>\n",
       "    <tr>\n",
       "      <th>4</th>\n",
       "      <td>2020-01-02</td>\n",
       "      <td>MSFT</td>\n",
       "      <td>158.779999</td>\n",
       "      <td>160.729996</td>\n",
       "      <td>158.330002</td>\n",
       "      <td>160.619995</td>\n",
       "      <td>153.323273</td>\n",
       "      <td>NaN</td>\n",
       "      <td>22622100</td>\n",
       "    </tr>\n",
       "    <tr>\n",
       "      <th>...</th>\n",
       "      <td>...</td>\n",
       "      <td>...</td>\n",
       "      <td>...</td>\n",
       "      <td>...</td>\n",
       "      <td>...</td>\n",
       "      <td>...</td>\n",
       "      <td>...</td>\n",
       "      <td>...</td>\n",
       "      <td>...</td>\n",
       "    </tr>\n",
       "    <tr>\n",
       "      <th>9249</th>\n",
       "      <td>2025-04-04</td>\n",
       "      <td>GOOGL</td>\n",
       "      <td>148.009995</td>\n",
       "      <td>151.070007</td>\n",
       "      <td>145.380005</td>\n",
       "      <td>145.600006</td>\n",
       "      <td>145.600006</td>\n",
       "      <td>150.720001</td>\n",
       "      <td>62259500</td>\n",
       "    </tr>\n",
       "    <tr>\n",
       "      <th>9250</th>\n",
       "      <td>2025-04-04</td>\n",
       "      <td>META</td>\n",
       "      <td>506.619995</td>\n",
       "      <td>518.000000</td>\n",
       "      <td>494.200012</td>\n",
       "      <td>504.730011</td>\n",
       "      <td>504.730011</td>\n",
       "      <td>531.619995</td>\n",
       "      <td>38589800</td>\n",
       "    </tr>\n",
       "    <tr>\n",
       "      <th>9251</th>\n",
       "      <td>2025-04-04</td>\n",
       "      <td>MSFT</td>\n",
       "      <td>364.130005</td>\n",
       "      <td>374.589996</td>\n",
       "      <td>359.480011</td>\n",
       "      <td>359.839996</td>\n",
       "      <td>359.839996</td>\n",
       "      <td>373.109985</td>\n",
       "      <td>49209900</td>\n",
       "    </tr>\n",
       "    <tr>\n",
       "      <th>9252</th>\n",
       "      <td>2025-04-04</td>\n",
       "      <td>NVDA</td>\n",
       "      <td>98.910004</td>\n",
       "      <td>100.129997</td>\n",
       "      <td>92.110001</td>\n",
       "      <td>94.309998</td>\n",
       "      <td>94.309998</td>\n",
       "      <td>101.800003</td>\n",
       "      <td>532273800</td>\n",
       "    </tr>\n",
       "    <tr>\n",
       "      <th>9253</th>\n",
       "      <td>2025-04-04</td>\n",
       "      <td>TSLA</td>\n",
       "      <td>255.380005</td>\n",
       "      <td>261.000000</td>\n",
       "      <td>236.000000</td>\n",
       "      <td>239.429993</td>\n",
       "      <td>239.429993</td>\n",
       "      <td>267.279999</td>\n",
       "      <td>181229400</td>\n",
       "    </tr>\n",
       "  </tbody>\n",
       "</table>\n",
       "<p>9254 rows × 9 columns</p>\n",
       "</div>"
      ],
      "text/plain": [
       "Price       Date Ticker        Open        High         Low       Close  \\\n",
       "0     2020-01-02   AAPL   74.059998   75.150002   73.797501   75.087502   \n",
       "1     2020-01-02   AMZN   93.750000   94.900497   93.207497   94.900497   \n",
       "2     2020-01-02  GOOGL   67.420502   68.433998   67.324501   68.433998   \n",
       "3     2020-01-02   META  206.750000  209.789993  206.270004  209.779999   \n",
       "4     2020-01-02   MSFT  158.779999  160.729996  158.330002  160.619995   \n",
       "...          ...    ...         ...         ...         ...         ...   \n",
       "9249  2025-04-04  GOOGL  148.009995  151.070007  145.380005  145.600006   \n",
       "9250  2025-04-04   META  506.619995  518.000000  494.200012  504.730011   \n",
       "9251  2025-04-04   MSFT  364.130005  374.589996  359.480011  359.839996   \n",
       "9252  2025-04-04   NVDA   98.910004  100.129997   92.110001   94.309998   \n",
       "9253  2025-04-04   TSLA  255.380005  261.000000  236.000000  239.429993   \n",
       "\n",
       "Price   Adj_Close  Previous_Close     Volume  \n",
       "0       72.716064             NaN  135480400  \n",
       "1       94.900497             NaN   80580000  \n",
       "2       68.108368             NaN   27278000  \n",
       "3      208.795944             NaN   12077100  \n",
       "4      153.323273             NaN   22622100  \n",
       "...           ...             ...        ...  \n",
       "9249   145.600006      150.720001   62259500  \n",
       "9250   504.730011      531.619995   38589800  \n",
       "9251   359.839996      373.109985   49209900  \n",
       "9252    94.309998      101.800003  532273800  \n",
       "9253   239.429993      267.279999  181229400  \n",
       "\n",
       "[9254 rows x 9 columns]"
      ]
     },
     "metadata": {},
     "output_type": "display_data"
    }
   ],
   "source": [
    "#giving yfinance a list of companies to return a list of data of. AND displaying the df\n",
    "tickers = [\"AAPL\", \"MSFT\", \"GOOGL\", \"AMZN\", \"META\", \"NVDA\", \"TSLA\"]\n",
    "df_raw = extract_data(tickers)\n",
    "display(df_raw)"
   ]
  },
  {
   "cell_type": "markdown",
   "metadata": {},
   "source": [
    "## Historical Data: Data Cleaning: \n",
    "### We will clean the data by taking care of any null values. We can use back and forward filling if there is a value missing from a float/int value. Otherwise we will drop the value if its in the date or Ticker/ or use the average of the past few days for the column. Additionally if there are are any duplicate records for a company and a speciifc date, one should be kept while rest dropped."
   ]
  },
  {
   "cell_type": "code",
   "execution_count": 16,
   "metadata": {},
   "outputs": [
    {
     "name": "stdout",
     "output_type": "stream",
     "text": [
      "Price\n",
      "Date              0\n",
      "Ticker            0\n",
      "Open              0\n",
      "High              0\n",
      "Low               0\n",
      "Close             0\n",
      "Adj_Close         0\n",
      "Previous_Close    7\n",
      "Volume            0\n",
      "dtype: int64\n",
      "Null values after cleaning:\n",
      "Price\n",
      "Date              0\n",
      "Ticker            0\n",
      "Open              0\n",
      "High              0\n",
      "Low               0\n",
      "Close             0\n",
      "Adj_Close         0\n",
      "Previous_Close    0\n",
      "Volume            0\n",
      "dtype: int64\n"
     ]
    },
    {
     "data": {
      "text/html": [
       "<div>\n",
       "<style scoped>\n",
       "    .dataframe tbody tr th:only-of-type {\n",
       "        vertical-align: middle;\n",
       "    }\n",
       "\n",
       "    .dataframe tbody tr th {\n",
       "        vertical-align: top;\n",
       "    }\n",
       "\n",
       "    .dataframe thead th {\n",
       "        text-align: right;\n",
       "    }\n",
       "</style>\n",
       "<table border=\"1\" class=\"dataframe\">\n",
       "  <thead>\n",
       "    <tr style=\"text-align: right;\">\n",
       "      <th>Price</th>\n",
       "      <th>Date</th>\n",
       "      <th>Ticker</th>\n",
       "      <th>Open</th>\n",
       "      <th>High</th>\n",
       "      <th>Low</th>\n",
       "      <th>Close</th>\n",
       "      <th>Adj_Close</th>\n",
       "      <th>Previous_Close</th>\n",
       "      <th>Volume</th>\n",
       "    </tr>\n",
       "  </thead>\n",
       "  <tbody>\n",
       "    <tr>\n",
       "      <th>0</th>\n",
       "      <td>2020-01-02</td>\n",
       "      <td>AAPL</td>\n",
       "      <td>74.059998</td>\n",
       "      <td>75.150002</td>\n",
       "      <td>73.797501</td>\n",
       "      <td>75.087502</td>\n",
       "      <td>72.716064</td>\n",
       "      <td>75.087502</td>\n",
       "      <td>135480400</td>\n",
       "    </tr>\n",
       "    <tr>\n",
       "      <th>1</th>\n",
       "      <td>2020-01-02</td>\n",
       "      <td>AMZN</td>\n",
       "      <td>93.750000</td>\n",
       "      <td>94.900497</td>\n",
       "      <td>93.207497</td>\n",
       "      <td>94.900497</td>\n",
       "      <td>94.900497</td>\n",
       "      <td>94.900497</td>\n",
       "      <td>80580000</td>\n",
       "    </tr>\n",
       "    <tr>\n",
       "      <th>2</th>\n",
       "      <td>2020-01-02</td>\n",
       "      <td>GOOGL</td>\n",
       "      <td>67.420502</td>\n",
       "      <td>68.433998</td>\n",
       "      <td>67.324501</td>\n",
       "      <td>68.433998</td>\n",
       "      <td>68.108368</td>\n",
       "      <td>68.433998</td>\n",
       "      <td>27278000</td>\n",
       "    </tr>\n",
       "    <tr>\n",
       "      <th>3</th>\n",
       "      <td>2020-01-02</td>\n",
       "      <td>META</td>\n",
       "      <td>206.750000</td>\n",
       "      <td>209.789993</td>\n",
       "      <td>206.270004</td>\n",
       "      <td>209.779999</td>\n",
       "      <td>208.795944</td>\n",
       "      <td>209.779999</td>\n",
       "      <td>12077100</td>\n",
       "    </tr>\n",
       "    <tr>\n",
       "      <th>4</th>\n",
       "      <td>2020-01-02</td>\n",
       "      <td>MSFT</td>\n",
       "      <td>158.779999</td>\n",
       "      <td>160.729996</td>\n",
       "      <td>158.330002</td>\n",
       "      <td>160.619995</td>\n",
       "      <td>153.323273</td>\n",
       "      <td>160.619995</td>\n",
       "      <td>22622100</td>\n",
       "    </tr>\n",
       "    <tr>\n",
       "      <th>...</th>\n",
       "      <td>...</td>\n",
       "      <td>...</td>\n",
       "      <td>...</td>\n",
       "      <td>...</td>\n",
       "      <td>...</td>\n",
       "      <td>...</td>\n",
       "      <td>...</td>\n",
       "      <td>...</td>\n",
       "      <td>...</td>\n",
       "    </tr>\n",
       "    <tr>\n",
       "      <th>9249</th>\n",
       "      <td>2025-04-04</td>\n",
       "      <td>GOOGL</td>\n",
       "      <td>148.009995</td>\n",
       "      <td>151.070007</td>\n",
       "      <td>145.380005</td>\n",
       "      <td>145.600006</td>\n",
       "      <td>145.600006</td>\n",
       "      <td>150.720001</td>\n",
       "      <td>62259500</td>\n",
       "    </tr>\n",
       "    <tr>\n",
       "      <th>9250</th>\n",
       "      <td>2025-04-04</td>\n",
       "      <td>META</td>\n",
       "      <td>506.619995</td>\n",
       "      <td>518.000000</td>\n",
       "      <td>494.200012</td>\n",
       "      <td>504.730011</td>\n",
       "      <td>504.730011</td>\n",
       "      <td>531.619995</td>\n",
       "      <td>38589800</td>\n",
       "    </tr>\n",
       "    <tr>\n",
       "      <th>9251</th>\n",
       "      <td>2025-04-04</td>\n",
       "      <td>MSFT</td>\n",
       "      <td>364.130005</td>\n",
       "      <td>374.589996</td>\n",
       "      <td>359.480011</td>\n",
       "      <td>359.839996</td>\n",
       "      <td>359.839996</td>\n",
       "      <td>373.109985</td>\n",
       "      <td>49209900</td>\n",
       "    </tr>\n",
       "    <tr>\n",
       "      <th>9252</th>\n",
       "      <td>2025-04-04</td>\n",
       "      <td>NVDA</td>\n",
       "      <td>98.910004</td>\n",
       "      <td>100.129997</td>\n",
       "      <td>92.110001</td>\n",
       "      <td>94.309998</td>\n",
       "      <td>94.309998</td>\n",
       "      <td>101.800003</td>\n",
       "      <td>532273800</td>\n",
       "    </tr>\n",
       "    <tr>\n",
       "      <th>9253</th>\n",
       "      <td>2025-04-04</td>\n",
       "      <td>TSLA</td>\n",
       "      <td>255.380005</td>\n",
       "      <td>261.000000</td>\n",
       "      <td>236.000000</td>\n",
       "      <td>239.429993</td>\n",
       "      <td>239.429993</td>\n",
       "      <td>267.279999</td>\n",
       "      <td>181229400</td>\n",
       "    </tr>\n",
       "  </tbody>\n",
       "</table>\n",
       "<p>9254 rows × 9 columns</p>\n",
       "</div>"
      ],
      "text/plain": [
       "Price       Date Ticker        Open        High         Low       Close  \\\n",
       "0     2020-01-02   AAPL   74.059998   75.150002   73.797501   75.087502   \n",
       "1     2020-01-02   AMZN   93.750000   94.900497   93.207497   94.900497   \n",
       "2     2020-01-02  GOOGL   67.420502   68.433998   67.324501   68.433998   \n",
       "3     2020-01-02   META  206.750000  209.789993  206.270004  209.779999   \n",
       "4     2020-01-02   MSFT  158.779999  160.729996  158.330002  160.619995   \n",
       "...          ...    ...         ...         ...         ...         ...   \n",
       "9249  2025-04-04  GOOGL  148.009995  151.070007  145.380005  145.600006   \n",
       "9250  2025-04-04   META  506.619995  518.000000  494.200012  504.730011   \n",
       "9251  2025-04-04   MSFT  364.130005  374.589996  359.480011  359.839996   \n",
       "9252  2025-04-04   NVDA   98.910004  100.129997   92.110001   94.309998   \n",
       "9253  2025-04-04   TSLA  255.380005  261.000000  236.000000  239.429993   \n",
       "\n",
       "Price   Adj_Close  Previous_Close     Volume  \n",
       "0       72.716064       75.087502  135480400  \n",
       "1       94.900497       94.900497   80580000  \n",
       "2       68.108368       68.433998   27278000  \n",
       "3      208.795944      209.779999   12077100  \n",
       "4      153.323273      160.619995   22622100  \n",
       "...           ...             ...        ...  \n",
       "9249   145.600006      150.720001   62259500  \n",
       "9250   504.730011      531.619995   38589800  \n",
       "9251   359.839996      373.109985   49209900  \n",
       "9252    94.309998      101.800003  532273800  \n",
       "9253   239.429993      267.279999  181229400  \n",
       "\n",
       "[9254 rows x 9 columns]"
      ]
     },
     "metadata": {},
     "output_type": "display_data"
    }
   ],
   "source": [
    "nans = df_raw.isna().sum()\n",
    "print(nans)\n",
    "def cleaning(df):\n",
    "    # Step 1: Drop duplicates (keep the first entry for each Ticker-Date pair)\n",
    "    df = df.drop_duplicates(subset=['Date', 'Ticker'], keep='first')\n",
    "\n",
    "    # Step 2: Define numeric columns to clean (excluding 'Date' and 'Ticker')\n",
    "    numeric_cols = ['Open', 'High', 'Low', 'Close', 'Adj_Close', 'Volume', 'Previous_Close']\n",
    "    \n",
    "    # Step 3: Fill missing values for numeric columns\n",
    "    for col in numeric_cols:\n",
    "        # Forward fill and backward fill first\n",
    "        df[col] = df.groupby('Ticker')[col].transform(lambda x: x.ffill().bfill())\n",
    "        \n",
    "        # Fill remaining NaNs with rolling mean (3-day window)\n",
    "        df[col] = df.groupby('Ticker')[col].transform(\n",
    "            lambda x: x.fillna(x.rolling(window=3, min_periods=1).mean())\n",
    "        )\n",
    "\n",
    "    # Step 4: Ensure 'Previous_Close' is properly filled (first entry has no previous data)\n",
    "    df['Previous_Close'] = df.groupby('Ticker')['Previous_Close'].ffill()\n",
    "\n",
    "    # Step 5: Drop rows with nulls in 'Date' or 'Ticker' (shouldn't exist, but safety check)\n",
    "    df = df.dropna(subset=['Date', 'Ticker'])\n",
    "\n",
    "    return df\n",
    "# Apply cleaning\n",
    "df_cleaned = cleaning(df_raw)\n",
    "\n",
    "# Verify results\n",
    "print(\"Null values after cleaning:\")\n",
    "print(df_cleaned.isna().sum())\n",
    "display(df_cleaned)"
   ]
  },
  {
   "cell_type": "markdown",
   "metadata": {},
   "source": [
    "## Historical Data, Feature Engineering:\n",
    "\n",
    "### We are going to be transforming the tidy dataframe by doing some feature engineering. We will create the following fields into our table by manipulating the prexisting data from df_cleaned: \n",
    "1. Simple Moving Average (SMA)\n",
    "2. Exponential Moving Average (EMA)\n",
    "3. Relative Strength Index (RSI)\n",
    "4. Bollinger Bands\n",
    "5. MACD (Moving Average Convergence Divergence)\n",
    "6. On-Balance Volume (OBV)\n",
    "7. Volatility (ATR - Average True Range)\n"
   ]
  },
  {
   "cell_type": "code",
   "execution_count": 17,
   "metadata": {},
   "outputs": [
    {
     "data": {
      "text/html": [
       "<div>\n",
       "<style scoped>\n",
       "    .dataframe tbody tr th:only-of-type {\n",
       "        vertical-align: middle;\n",
       "    }\n",
       "\n",
       "    .dataframe tbody tr th {\n",
       "        vertical-align: top;\n",
       "    }\n",
       "\n",
       "    .dataframe thead th {\n",
       "        text-align: right;\n",
       "    }\n",
       "</style>\n",
       "<table border=\"1\" class=\"dataframe\">\n",
       "  <thead>\n",
       "    <tr style=\"text-align: right;\">\n",
       "      <th>Price</th>\n",
       "      <th>Date</th>\n",
       "      <th>Ticker</th>\n",
       "      <th>SMA_20</th>\n",
       "      <th>EMA_20</th>\n",
       "      <th>RSI_14</th>\n",
       "      <th>BB_Upper</th>\n",
       "      <th>BB_Lower</th>\n",
       "      <th>MACD</th>\n",
       "    </tr>\n",
       "  </thead>\n",
       "  <tbody>\n",
       "    <tr>\n",
       "      <th>0</th>\n",
       "      <td>2020-01-02</td>\n",
       "      <td>AAPL</td>\n",
       "      <td>NaN</td>\n",
       "      <td>75.087502</td>\n",
       "      <td>NaN</td>\n",
       "      <td>NaN</td>\n",
       "      <td>NaN</td>\n",
       "      <td>0.000000</td>\n",
       "    </tr>\n",
       "    <tr>\n",
       "      <th>1</th>\n",
       "      <td>2020-01-03</td>\n",
       "      <td>AAPL</td>\n",
       "      <td>NaN</td>\n",
       "      <td>75.017977</td>\n",
       "      <td>NaN</td>\n",
       "      <td>NaN</td>\n",
       "      <td>NaN</td>\n",
       "      <td>-0.058234</td>\n",
       "    </tr>\n",
       "    <tr>\n",
       "      <th>2</th>\n",
       "      <td>2020-01-06</td>\n",
       "      <td>AAPL</td>\n",
       "      <td>NaN</td>\n",
       "      <td>75.011503</td>\n",
       "      <td>NaN</td>\n",
       "      <td>NaN</td>\n",
       "      <td>NaN</td>\n",
       "      <td>-0.055930</td>\n",
       "    </tr>\n",
       "    <tr>\n",
       "      <th>3</th>\n",
       "      <td>2020-01-07</td>\n",
       "      <td>AAPL</td>\n",
       "      <td>NaN</td>\n",
       "      <td>74.972075</td>\n",
       "      <td>NaN</td>\n",
       "      <td>NaN</td>\n",
       "      <td>NaN</td>\n",
       "      <td>-0.081607</td>\n",
       "    </tr>\n",
       "    <tr>\n",
       "      <th>4</th>\n",
       "      <td>2020-01-08</td>\n",
       "      <td>AAPL</td>\n",
       "      <td>NaN</td>\n",
       "      <td>75.050687</td>\n",
       "      <td>NaN</td>\n",
       "      <td>NaN</td>\n",
       "      <td>NaN</td>\n",
       "      <td>-0.005068</td>\n",
       "    </tr>\n",
       "    <tr>\n",
       "      <th>5</th>\n",
       "      <td>2020-01-09</td>\n",
       "      <td>AAPL</td>\n",
       "      <td>NaN</td>\n",
       "      <td>75.275145</td>\n",
       "      <td>NaN</td>\n",
       "      <td>NaN</td>\n",
       "      <td>NaN</td>\n",
       "      <td>0.183389</td>\n",
       "    </tr>\n",
       "    <tr>\n",
       "      <th>6</th>\n",
       "      <td>2020-01-10</td>\n",
       "      <td>AAPL</td>\n",
       "      <td>NaN</td>\n",
       "      <td>75.494893</td>\n",
       "      <td>NaN</td>\n",
       "      <td>NaN</td>\n",
       "      <td>NaN</td>\n",
       "      <td>0.342911</td>\n",
       "    </tr>\n",
       "    <tr>\n",
       "      <th>7</th>\n",
       "      <td>2020-01-13</td>\n",
       "      <td>AAPL</td>\n",
       "      <td>NaN</td>\n",
       "      <td>75.851570</td>\n",
       "      <td>NaN</td>\n",
       "      <td>NaN</td>\n",
       "      <td>NaN</td>\n",
       "      <td>0.596207</td>\n",
       "    </tr>\n",
       "    <tr>\n",
       "      <th>8</th>\n",
       "      <td>2020-01-14</td>\n",
       "      <td>AAPL</td>\n",
       "      <td>NaN</td>\n",
       "      <td>76.072372</td>\n",
       "      <td>NaN</td>\n",
       "      <td>NaN</td>\n",
       "      <td>NaN</td>\n",
       "      <td>0.702507</td>\n",
       "    </tr>\n",
       "    <tr>\n",
       "      <th>9</th>\n",
       "      <td>2020-01-15</td>\n",
       "      <td>AAPL</td>\n",
       "      <td>NaN</td>\n",
       "      <td>76.240241</td>\n",
       "      <td>NaN</td>\n",
       "      <td>NaN</td>\n",
       "      <td>NaN</td>\n",
       "      <td>0.751062</td>\n",
       "    </tr>\n",
       "    <tr>\n",
       "      <th>10</th>\n",
       "      <td>2020-01-16</td>\n",
       "      <td>AAPL</td>\n",
       "      <td>NaN</td>\n",
       "      <td>76.484980</td>\n",
       "      <td>NaN</td>\n",
       "      <td>NaN</td>\n",
       "      <td>NaN</td>\n",
       "      <td>0.858322</td>\n",
       "    </tr>\n",
       "    <tr>\n",
       "      <th>11</th>\n",
       "      <td>2020-01-17</td>\n",
       "      <td>AAPL</td>\n",
       "      <td>NaN</td>\n",
       "      <td>76.789506</td>\n",
       "      <td>NaN</td>\n",
       "      <td>NaN</td>\n",
       "      <td>NaN</td>\n",
       "      <td>1.002178</td>\n",
       "    </tr>\n",
       "    <tr>\n",
       "      <th>12</th>\n",
       "      <td>2020-01-21</td>\n",
       "      <td>AAPL</td>\n",
       "      <td>NaN</td>\n",
       "      <td>77.013601</td>\n",
       "      <td>NaN</td>\n",
       "      <td>NaN</td>\n",
       "      <td>NaN</td>\n",
       "      <td>1.060387</td>\n",
       "    </tr>\n",
       "    <tr>\n",
       "      <th>13</th>\n",
       "      <td>2020-01-22</td>\n",
       "      <td>AAPL</td>\n",
       "      <td>NaN</td>\n",
       "      <td>77.243258</td>\n",
       "      <td>70.868434</td>\n",
       "      <td>NaN</td>\n",
       "      <td>NaN</td>\n",
       "      <td>1.116444</td>\n",
       "    </tr>\n",
       "    <tr>\n",
       "      <th>14</th>\n",
       "      <td>2020-01-23</td>\n",
       "      <td>AAPL</td>\n",
       "      <td>NaN</td>\n",
       "      <td>77.487472</td>\n",
       "      <td>71.902570</td>\n",
       "      <td>NaN</td>\n",
       "      <td>NaN</td>\n",
       "      <td>1.178154</td>\n",
       "    </tr>\n",
       "    <tr>\n",
       "      <th>15</th>\n",
       "      <td>2020-01-24</td>\n",
       "      <td>AAPL</td>\n",
       "      <td>NaN</td>\n",
       "      <td>77.686522</td>\n",
       "      <td>75.401481</td>\n",
       "      <td>NaN</td>\n",
       "      <td>NaN</td>\n",
       "      <td>1.194728</td>\n",
       "    </tr>\n",
       "    <tr>\n",
       "      <th>16</th>\n",
       "      <td>2020-01-27</td>\n",
       "      <td>AAPL</td>\n",
       "      <td>NaN</td>\n",
       "      <td>77.643759</td>\n",
       "      <td>59.513444</td>\n",
       "      <td>NaN</td>\n",
       "      <td>NaN</td>\n",
       "      <td>1.007431</td>\n",
       "    </tr>\n",
       "    <tr>\n",
       "      <th>17</th>\n",
       "      <td>2020-01-28</td>\n",
       "      <td>AAPL</td>\n",
       "      <td>NaN</td>\n",
       "      <td>77.813163</td>\n",
       "      <td>67.412481</td>\n",
       "      <td>NaN</td>\n",
       "      <td>NaN</td>\n",
       "      <td>1.023510</td>\n",
       "    </tr>\n",
       "    <tr>\n",
       "      <th>18</th>\n",
       "      <td>2020-01-29</td>\n",
       "      <td>AAPL</td>\n",
       "      <td>NaN</td>\n",
       "      <td>78.124766</td>\n",
       "      <td>68.465163</td>\n",
       "      <td>NaN</td>\n",
       "      <td>NaN</td>\n",
       "      <td>1.157064</td>\n",
       "    </tr>\n",
       "    <tr>\n",
       "      <th>19</th>\n",
       "      <td>2020-01-30</td>\n",
       "      <td>AAPL</td>\n",
       "      <td>78.009125</td>\n",
       "      <td>78.395502</td>\n",
       "      <td>63.879136</td>\n",
       "      <td>82.191922</td>\n",
       "      <td>73.826328</td>\n",
       "      <td>1.239142</td>\n",
       "    </tr>\n",
       "  </tbody>\n",
       "</table>\n",
       "</div>"
      ],
      "text/plain": [
       "Price       Date Ticker     SMA_20     EMA_20     RSI_14   BB_Upper  \\\n",
       "0     2020-01-02   AAPL        NaN  75.087502        NaN        NaN   \n",
       "1     2020-01-03   AAPL        NaN  75.017977        NaN        NaN   \n",
       "2     2020-01-06   AAPL        NaN  75.011503        NaN        NaN   \n",
       "3     2020-01-07   AAPL        NaN  74.972075        NaN        NaN   \n",
       "4     2020-01-08   AAPL        NaN  75.050687        NaN        NaN   \n",
       "5     2020-01-09   AAPL        NaN  75.275145        NaN        NaN   \n",
       "6     2020-01-10   AAPL        NaN  75.494893        NaN        NaN   \n",
       "7     2020-01-13   AAPL        NaN  75.851570        NaN        NaN   \n",
       "8     2020-01-14   AAPL        NaN  76.072372        NaN        NaN   \n",
       "9     2020-01-15   AAPL        NaN  76.240241        NaN        NaN   \n",
       "10    2020-01-16   AAPL        NaN  76.484980        NaN        NaN   \n",
       "11    2020-01-17   AAPL        NaN  76.789506        NaN        NaN   \n",
       "12    2020-01-21   AAPL        NaN  77.013601        NaN        NaN   \n",
       "13    2020-01-22   AAPL        NaN  77.243258  70.868434        NaN   \n",
       "14    2020-01-23   AAPL        NaN  77.487472  71.902570        NaN   \n",
       "15    2020-01-24   AAPL        NaN  77.686522  75.401481        NaN   \n",
       "16    2020-01-27   AAPL        NaN  77.643759  59.513444        NaN   \n",
       "17    2020-01-28   AAPL        NaN  77.813163  67.412481        NaN   \n",
       "18    2020-01-29   AAPL        NaN  78.124766  68.465163        NaN   \n",
       "19    2020-01-30   AAPL  78.009125  78.395502  63.879136  82.191922   \n",
       "\n",
       "Price   BB_Lower      MACD  \n",
       "0            NaN  0.000000  \n",
       "1            NaN -0.058234  \n",
       "2            NaN -0.055930  \n",
       "3            NaN -0.081607  \n",
       "4            NaN -0.005068  \n",
       "5            NaN  0.183389  \n",
       "6            NaN  0.342911  \n",
       "7            NaN  0.596207  \n",
       "8            NaN  0.702507  \n",
       "9            NaN  0.751062  \n",
       "10           NaN  0.858322  \n",
       "11           NaN  1.002178  \n",
       "12           NaN  1.060387  \n",
       "13           NaN  1.116444  \n",
       "14           NaN  1.178154  \n",
       "15           NaN  1.194728  \n",
       "16           NaN  1.007431  \n",
       "17           NaN  1.023510  \n",
       "18           NaN  1.157064  \n",
       "19     73.826328  1.239142  "
      ]
     },
     "metadata": {},
     "output_type": "display_data"
    },
    {
     "data": {
      "text/html": [
       "<div>\n",
       "<style scoped>\n",
       "    .dataframe tbody tr th:only-of-type {\n",
       "        vertical-align: middle;\n",
       "    }\n",
       "\n",
       "    .dataframe tbody tr th {\n",
       "        vertical-align: top;\n",
       "    }\n",
       "\n",
       "    .dataframe thead th {\n",
       "        text-align: right;\n",
       "    }\n",
       "</style>\n",
       "<table border=\"1\" class=\"dataframe\">\n",
       "  <thead>\n",
       "    <tr style=\"text-align: right;\">\n",
       "      <th>Price</th>\n",
       "      <th>Date</th>\n",
       "      <th>Ticker</th>\n",
       "      <th>Open</th>\n",
       "      <th>High</th>\n",
       "      <th>Low</th>\n",
       "      <th>Close</th>\n",
       "      <th>Adj_Close</th>\n",
       "      <th>Previous_Close</th>\n",
       "      <th>Volume</th>\n",
       "      <th>SMA_20</th>\n",
       "      <th>EMA_20</th>\n",
       "      <th>RSI_14</th>\n",
       "      <th>BB_Middle</th>\n",
       "      <th>BB_Std</th>\n",
       "      <th>BB_Upper</th>\n",
       "      <th>BB_Lower</th>\n",
       "      <th>MACD</th>\n",
       "      <th>MACD_Signal</th>\n",
       "    </tr>\n",
       "  </thead>\n",
       "  <tbody>\n",
       "    <tr>\n",
       "      <th>5308</th>\n",
       "      <td>2020-01-31</td>\n",
       "      <td>MSFT</td>\n",
       "      <td>172.210007</td>\n",
       "      <td>172.399994</td>\n",
       "      <td>169.580002</td>\n",
       "      <td>170.229996</td>\n",
       "      <td>162.496689</td>\n",
       "      <td>172.779999</td>\n",
       "      <td>36142700</td>\n",
       "      <td>164.167999</td>\n",
       "      <td>165.244291</td>\n",
       "      <td>65.892017</td>\n",
       "      <td>164.167999</td>\n",
       "      <td>3.935323</td>\n",
       "      <td>172.038644</td>\n",
       "      <td>156.297353</td>\n",
       "      <td>2.175122</td>\n",
       "      <td>1.508417</td>\n",
       "    </tr>\n",
       "    <tr>\n",
       "      <th>5309</th>\n",
       "      <td>2020-02-03</td>\n",
       "      <td>MSFT</td>\n",
       "      <td>170.429993</td>\n",
       "      <td>174.500000</td>\n",
       "      <td>170.399994</td>\n",
       "      <td>174.380005</td>\n",
       "      <td>166.458130</td>\n",
       "      <td>170.229996</td>\n",
       "      <td>30107000</td>\n",
       "      <td>164.955999</td>\n",
       "      <td>166.114359</td>\n",
       "      <td>68.389658</td>\n",
       "      <td>164.955999</td>\n",
       "      <td>4.324559</td>\n",
       "      <td>173.605117</td>\n",
       "      <td>156.306881</td>\n",
       "      <td>2.627071</td>\n",
       "      <td>1.732148</td>\n",
       "    </tr>\n",
       "    <tr>\n",
       "      <th>5310</th>\n",
       "      <td>2020-02-04</td>\n",
       "      <td>MSFT</td>\n",
       "      <td>177.139999</td>\n",
       "      <td>180.639999</td>\n",
       "      <td>176.309998</td>\n",
       "      <td>180.119995</td>\n",
       "      <td>171.937378</td>\n",
       "      <td>174.380005</td>\n",
       "      <td>36433300</td>\n",
       "      <td>166.010499</td>\n",
       "      <td>167.448229</td>\n",
       "      <td>75.869974</td>\n",
       "      <td>166.010499</td>\n",
       "      <td>5.271194</td>\n",
       "      <td>176.552887</td>\n",
       "      <td>155.468110</td>\n",
       "      <td>3.409114</td>\n",
       "      <td>2.067541</td>\n",
       "    </tr>\n",
       "    <tr>\n",
       "      <th>5311</th>\n",
       "      <td>2020-02-05</td>\n",
       "      <td>MSFT</td>\n",
       "      <td>184.029999</td>\n",
       "      <td>184.199997</td>\n",
       "      <td>178.410004</td>\n",
       "      <td>179.899994</td>\n",
       "      <td>171.727386</td>\n",
       "      <td>180.119995</td>\n",
       "      <td>39186300</td>\n",
       "      <td>167.126498</td>\n",
       "      <td>168.634112</td>\n",
       "      <td>74.631681</td>\n",
       "      <td>167.126498</td>\n",
       "      <td>5.734751</td>\n",
       "      <td>178.596000</td>\n",
       "      <td>155.656997</td>\n",
       "      <td>3.965426</td>\n",
       "      <td>2.447118</td>\n",
       "    </tr>\n",
       "    <tr>\n",
       "      <th>5312</th>\n",
       "      <td>2020-02-06</td>\n",
       "      <td>MSFT</td>\n",
       "      <td>180.970001</td>\n",
       "      <td>183.820007</td>\n",
       "      <td>180.059998</td>\n",
       "      <td>183.630005</td>\n",
       "      <td>175.287933</td>\n",
       "      <td>179.899994</td>\n",
       "      <td>27751400</td>\n",
       "      <td>168.303499</td>\n",
       "      <td>170.062292</td>\n",
       "      <td>75.172992</td>\n",
       "      <td>168.303499</td>\n",
       "      <td>6.569494</td>\n",
       "      <td>181.442486</td>\n",
       "      <td>155.164511</td>\n",
       "      <td>4.653644</td>\n",
       "      <td>2.888423</td>\n",
       "    </tr>\n",
       "  </tbody>\n",
       "</table>\n",
       "</div>"
      ],
      "text/plain": [
       "Price       Date Ticker        Open        High         Low       Close  \\\n",
       "5308  2020-01-31   MSFT  172.210007  172.399994  169.580002  170.229996   \n",
       "5309  2020-02-03   MSFT  170.429993  174.500000  170.399994  174.380005   \n",
       "5310  2020-02-04   MSFT  177.139999  180.639999  176.309998  180.119995   \n",
       "5311  2020-02-05   MSFT  184.029999  184.199997  178.410004  179.899994   \n",
       "5312  2020-02-06   MSFT  180.970001  183.820007  180.059998  183.630005   \n",
       "\n",
       "Price   Adj_Close  Previous_Close    Volume      SMA_20      EMA_20  \\\n",
       "5308   162.496689      172.779999  36142700  164.167999  165.244291   \n",
       "5309   166.458130      170.229996  30107000  164.955999  166.114359   \n",
       "5310   171.937378      174.380005  36433300  166.010499  167.448229   \n",
       "5311   171.727386      180.119995  39186300  167.126498  168.634112   \n",
       "5312   175.287933      179.899994  27751400  168.303499  170.062292   \n",
       "\n",
       "Price     RSI_14   BB_Middle    BB_Std    BB_Upper    BB_Lower      MACD  \\\n",
       "5308   65.892017  164.167999  3.935323  172.038644  156.297353  2.175122   \n",
       "5309   68.389658  164.955999  4.324559  173.605117  156.306881  2.627071   \n",
       "5310   75.869974  166.010499  5.271194  176.552887  155.468110  3.409114   \n",
       "5311   74.631681  167.126498  5.734751  178.596000  155.656997  3.965426   \n",
       "5312   75.172992  168.303499  6.569494  181.442486  155.164511  4.653644   \n",
       "\n",
       "Price  MACD_Signal  \n",
       "5308      1.508417  \n",
       "5309      1.732148  \n",
       "5310      2.067541  \n",
       "5311      2.447118  \n",
       "5312      2.888423  "
      ]
     },
     "metadata": {},
     "output_type": "display_data"
    },
    {
     "data": {
      "text/html": [
       "<div>\n",
       "<style scoped>\n",
       "    .dataframe tbody tr th:only-of-type {\n",
       "        vertical-align: middle;\n",
       "    }\n",
       "\n",
       "    .dataframe tbody tr th {\n",
       "        vertical-align: top;\n",
       "    }\n",
       "\n",
       "    .dataframe thead th {\n",
       "        text-align: right;\n",
       "    }\n",
       "</style>\n",
       "<table border=\"1\" class=\"dataframe\">\n",
       "  <thead>\n",
       "    <tr style=\"text-align: right;\">\n",
       "      <th>Price</th>\n",
       "      <th>Date</th>\n",
       "      <th>Ticker</th>\n",
       "      <th>Open</th>\n",
       "      <th>High</th>\n",
       "      <th>Low</th>\n",
       "      <th>Close</th>\n",
       "      <th>Adj_Close</th>\n",
       "      <th>Previous_Close</th>\n",
       "      <th>Volume</th>\n",
       "      <th>SMA_20</th>\n",
       "      <th>EMA_20</th>\n",
       "      <th>RSI_14</th>\n",
       "      <th>BB_Middle</th>\n",
       "      <th>BB_Std</th>\n",
       "      <th>BB_Upper</th>\n",
       "      <th>BB_Lower</th>\n",
       "      <th>MACD</th>\n",
       "      <th>MACD_Signal</th>\n",
       "    </tr>\n",
       "  </thead>\n",
       "  <tbody>\n",
       "    <tr>\n",
       "      <th>8259</th>\n",
       "      <td>2021-04-21</td>\n",
       "      <td>TSLA</td>\n",
       "      <td>234.923340</td>\n",
       "      <td>248.279999</td>\n",
       "      <td>232.666672</td>\n",
       "      <td>248.039993</td>\n",
       "      <td>248.039993</td>\n",
       "      <td>239.663330</td>\n",
       "      <td>93646500</td>\n",
       "      <td>228.888667</td>\n",
       "      <td>234.763997</td>\n",
       "      <td>65.004529</td>\n",
       "      <td>228.888667</td>\n",
       "      <td>14.965193</td>\n",
       "      <td>258.819052</td>\n",
       "      <td>198.958281</td>\n",
       "      <td>4.595011</td>\n",
       "      <td>2.097745</td>\n",
       "    </tr>\n",
       "    <tr>\n",
       "      <th>2607</th>\n",
       "      <td>2025-02-12</td>\n",
       "      <td>AMZN</td>\n",
       "      <td>230.460007</td>\n",
       "      <td>231.179993</td>\n",
       "      <td>228.160004</td>\n",
       "      <td>228.929993</td>\n",
       "      <td>228.929993</td>\n",
       "      <td>232.759995</td>\n",
       "      <td>32285200</td>\n",
       "      <td>233.367999</td>\n",
       "      <td>232.278669</td>\n",
       "      <td>42.227535</td>\n",
       "      <td>233.367999</td>\n",
       "      <td>5.437464</td>\n",
       "      <td>244.242927</td>\n",
       "      <td>222.493072</td>\n",
       "      <td>2.327343</td>\n",
       "      <td>3.522466</td>\n",
       "    </tr>\n",
       "    <tr>\n",
       "      <th>1182</th>\n",
       "      <td>2024-09-13</td>\n",
       "      <td>AAPL</td>\n",
       "      <td>223.580002</td>\n",
       "      <td>224.039993</td>\n",
       "      <td>221.910004</td>\n",
       "      <td>222.500000</td>\n",
       "      <td>222.011368</td>\n",
       "      <td>222.770004</td>\n",
       "      <td>36766600</td>\n",
       "      <td>224.624001</td>\n",
       "      <td>222.875580</td>\n",
       "      <td>40.082264</td>\n",
       "      <td>224.624001</td>\n",
       "      <td>2.954762</td>\n",
       "      <td>230.533524</td>\n",
       "      <td>218.714477</td>\n",
       "      <td>0.244604</td>\n",
       "      <td>0.827747</td>\n",
       "    </tr>\n",
       "    <tr>\n",
       "      <th>8329</th>\n",
       "      <td>2021-07-30</td>\n",
       "      <td>TSLA</td>\n",
       "      <td>223.919998</td>\n",
       "      <td>232.509995</td>\n",
       "      <td>223.000000</td>\n",
       "      <td>229.066666</td>\n",
       "      <td>229.066666</td>\n",
       "      <td>225.783340</td>\n",
       "      <td>88969200</td>\n",
       "      <td>219.398501</td>\n",
       "      <td>219.083657</td>\n",
       "      <td>50.519463</td>\n",
       "      <td>219.398501</td>\n",
       "      <td>4.686105</td>\n",
       "      <td>228.770710</td>\n",
       "      <td>210.026291</td>\n",
       "      <td>1.821965</td>\n",
       "      <td>1.368714</td>\n",
       "    </tr>\n",
       "    <tr>\n",
       "      <th>3216</th>\n",
       "      <td>2022-04-08</td>\n",
       "      <td>GOOGL</td>\n",
       "      <td>135.583496</td>\n",
       "      <td>135.669998</td>\n",
       "      <td>132.965500</td>\n",
       "      <td>133.287506</td>\n",
       "      <td>132.653290</td>\n",
       "      <td>135.888504</td>\n",
       "      <td>25142000</td>\n",
       "      <td>137.514402</td>\n",
       "      <td>137.478366</td>\n",
       "      <td>44.798522</td>\n",
       "      <td>137.514402</td>\n",
       "      <td>4.634982</td>\n",
       "      <td>146.784366</td>\n",
       "      <td>128.244438</td>\n",
       "      <td>0.750488</td>\n",
       "      <td>1.398527</td>\n",
       "    </tr>\n",
       "    <tr>\n",
       "      <th>408</th>\n",
       "      <td>2021-08-16</td>\n",
       "      <td>AAPL</td>\n",
       "      <td>148.539993</td>\n",
       "      <td>151.190002</td>\n",
       "      <td>146.470001</td>\n",
       "      <td>151.119995</td>\n",
       "      <td>148.304688</td>\n",
       "      <td>149.100006</td>\n",
       "      <td>103296000</td>\n",
       "      <td>146.942000</td>\n",
       "      <td>146.478374</td>\n",
       "      <td>67.611312</td>\n",
       "      <td>146.942000</td>\n",
       "      <td>1.606587</td>\n",
       "      <td>150.155175</td>\n",
       "      <td>143.728825</td>\n",
       "      <td>2.040491</td>\n",
       "      <td>2.111980</td>\n",
       "    </tr>\n",
       "    <tr>\n",
       "      <th>1197</th>\n",
       "      <td>2024-10-04</td>\n",
       "      <td>AAPL</td>\n",
       "      <td>227.899994</td>\n",
       "      <td>228.000000</td>\n",
       "      <td>224.130005</td>\n",
       "      <td>226.800003</td>\n",
       "      <td>226.301941</td>\n",
       "      <td>225.669998</td>\n",
       "      <td>37245100</td>\n",
       "      <td>224.690000</td>\n",
       "      <td>225.700740</td>\n",
       "      <td>65.840394</td>\n",
       "      <td>224.690000</td>\n",
       "      <td>4.218173</td>\n",
       "      <td>233.126345</td>\n",
       "      <td>216.253655</td>\n",
       "      <td>1.324742</td>\n",
       "      <td>1.291114</td>\n",
       "    </tr>\n",
       "    <tr>\n",
       "      <th>4629</th>\n",
       "      <td>2022-08-19</td>\n",
       "      <td>META</td>\n",
       "      <td>170.199997</td>\n",
       "      <td>172.320007</td>\n",
       "      <td>167.050003</td>\n",
       "      <td>167.960007</td>\n",
       "      <td>167.172134</td>\n",
       "      <td>174.660004</td>\n",
       "      <td>26240800</td>\n",
       "      <td>169.737001</td>\n",
       "      <td>172.115461</td>\n",
       "      <td>58.737774</td>\n",
       "      <td>169.737001</td>\n",
       "      <td>7.385001</td>\n",
       "      <td>184.507002</td>\n",
       "      <td>154.967000</td>\n",
       "      <td>1.568672</td>\n",
       "      <td>1.277200</td>\n",
       "    </tr>\n",
       "    <tr>\n",
       "      <th>6521</th>\n",
       "      <td>2024-11-25</td>\n",
       "      <td>MSFT</td>\n",
       "      <td>418.380005</td>\n",
       "      <td>421.079987</td>\n",
       "      <td>414.850006</td>\n",
       "      <td>418.790009</td>\n",
       "      <td>417.951965</td>\n",
       "      <td>417.000000</td>\n",
       "      <td>27691100</td>\n",
       "      <td>418.755002</td>\n",
       "      <td>418.716103</td>\n",
       "      <td>56.569288</td>\n",
       "      <td>418.755002</td>\n",
       "      <td>7.280439</td>\n",
       "      <td>433.315881</td>\n",
       "      <td>404.194123</td>\n",
       "      <td>-1.061799</td>\n",
       "      <td>-0.762079</td>\n",
       "    </tr>\n",
       "    <tr>\n",
       "      <th>5361</th>\n",
       "      <td>2020-04-17</td>\n",
       "      <td>MSFT</td>\n",
       "      <td>179.500000</td>\n",
       "      <td>180.000000</td>\n",
       "      <td>175.869995</td>\n",
       "      <td>178.600006</td>\n",
       "      <td>170.952133</td>\n",
       "      <td>177.039993</td>\n",
       "      <td>52765600</td>\n",
       "      <td>158.965000</td>\n",
       "      <td>163.756429</td>\n",
       "      <td>76.177560</td>\n",
       "      <td>158.965000</td>\n",
       "      <td>11.949684</td>\n",
       "      <td>182.864368</td>\n",
       "      <td>135.065633</td>\n",
       "      <td>4.784275</td>\n",
       "      <td>1.861169</td>\n",
       "    </tr>\n",
       "  </tbody>\n",
       "</table>\n",
       "</div>"
      ],
      "text/plain": [
       "Price       Date Ticker        Open        High         Low       Close  \\\n",
       "8259  2021-04-21   TSLA  234.923340  248.279999  232.666672  248.039993   \n",
       "2607  2025-02-12   AMZN  230.460007  231.179993  228.160004  228.929993   \n",
       "1182  2024-09-13   AAPL  223.580002  224.039993  221.910004  222.500000   \n",
       "8329  2021-07-30   TSLA  223.919998  232.509995  223.000000  229.066666   \n",
       "3216  2022-04-08  GOOGL  135.583496  135.669998  132.965500  133.287506   \n",
       "408   2021-08-16   AAPL  148.539993  151.190002  146.470001  151.119995   \n",
       "1197  2024-10-04   AAPL  227.899994  228.000000  224.130005  226.800003   \n",
       "4629  2022-08-19   META  170.199997  172.320007  167.050003  167.960007   \n",
       "6521  2024-11-25   MSFT  418.380005  421.079987  414.850006  418.790009   \n",
       "5361  2020-04-17   MSFT  179.500000  180.000000  175.869995  178.600006   \n",
       "\n",
       "Price   Adj_Close  Previous_Close     Volume      SMA_20      EMA_20  \\\n",
       "8259   248.039993      239.663330   93646500  228.888667  234.763997   \n",
       "2607   228.929993      232.759995   32285200  233.367999  232.278669   \n",
       "1182   222.011368      222.770004   36766600  224.624001  222.875580   \n",
       "8329   229.066666      225.783340   88969200  219.398501  219.083657   \n",
       "3216   132.653290      135.888504   25142000  137.514402  137.478366   \n",
       "408    148.304688      149.100006  103296000  146.942000  146.478374   \n",
       "1197   226.301941      225.669998   37245100  224.690000  225.700740   \n",
       "4629   167.172134      174.660004   26240800  169.737001  172.115461   \n",
       "6521   417.951965      417.000000   27691100  418.755002  418.716103   \n",
       "5361   170.952133      177.039993   52765600  158.965000  163.756429   \n",
       "\n",
       "Price     RSI_14   BB_Middle     BB_Std    BB_Upper    BB_Lower      MACD  \\\n",
       "8259   65.004529  228.888667  14.965193  258.819052  198.958281  4.595011   \n",
       "2607   42.227535  233.367999   5.437464  244.242927  222.493072  2.327343   \n",
       "1182   40.082264  224.624001   2.954762  230.533524  218.714477  0.244604   \n",
       "8329   50.519463  219.398501   4.686105  228.770710  210.026291  1.821965   \n",
       "3216   44.798522  137.514402   4.634982  146.784366  128.244438  0.750488   \n",
       "408    67.611312  146.942000   1.606587  150.155175  143.728825  2.040491   \n",
       "1197   65.840394  224.690000   4.218173  233.126345  216.253655  1.324742   \n",
       "4629   58.737774  169.737001   7.385001  184.507002  154.967000  1.568672   \n",
       "6521   56.569288  418.755002   7.280439  433.315881  404.194123 -1.061799   \n",
       "5361   76.177560  158.965000  11.949684  182.864368  135.065633  4.784275   \n",
       "\n",
       "Price  MACD_Signal  \n",
       "8259      2.097745  \n",
       "2607      3.522466  \n",
       "1182      0.827747  \n",
       "8329      1.368714  \n",
       "3216      1.398527  \n",
       "408       2.111980  \n",
       "1197      1.291114  \n",
       "4629      1.277200  \n",
       "6521     -0.762079  \n",
       "5361      1.861169  "
      ]
     },
     "metadata": {},
     "output_type": "display_data"
    }
   ],
   "source": [
    "def transform(df):\n",
    "    # Ensure data is sorted by Ticker and Date\n",
    "    df = df.sort_values(['Ticker', 'Date']).reset_index(drop=True)\n",
    "    \n",
    "    # 1. Simple Moving Average (SMA)\n",
    "    #uses 20 periods of data (NaN till 19 row)\n",
    "    df['SMA_20'] = df.groupby('Ticker')['Close'].transform(lambda x: x.rolling(window=20).mean())\n",
    "    \n",
    "    # 2. Exponential Moving Average (EMA)\n",
    "    df['EMA_20'] = df.groupby('Ticker')['Close'].transform(lambda x: x.ewm(span=20, adjust=False).mean())\n",
    "    \n",
    "    # 3. Relative Strength Index (RSI)\n",
    "    #uses 14 periods of data (NaN till 13 row)\n",
    "    def compute_rsi(data, period=14):\n",
    "        delta = data.diff()\n",
    "        gain = delta.where(delta > 0, 0)\n",
    "        loss = -delta.where(delta < 0, 0)\n",
    "        avg_gain = gain.rolling(window=period).mean()\n",
    "        avg_loss = loss.rolling(window=period).mean()\n",
    "        rs = avg_gain / avg_loss\n",
    "        return 100 - (100 / (1 + rs))\n",
    "    df['RSI_14'] = df.groupby('Ticker')['Close'].transform(compute_rsi)\n",
    "    \n",
    "    # 4. Bollinger Bands\n",
    "    #NaN till we get SMA values (19th row)\n",
    "    df['BB_Middle'] = df['SMA_20']\n",
    "    df['BB_Std'] = df.groupby('Ticker')['Close'].transform(lambda x: x.rolling(window=20).std())\n",
    "    df['BB_Upper'] = df['BB_Middle'] + 2 * df['BB_Std']\n",
    "    df['BB_Lower'] = df['BB_Middle'] - 2 * df['BB_Std']\n",
    "    \n",
    "    # 5. MACD\n",
    "    def compute_macd(data):\n",
    "        ema12 = data.ewm(span=12, adjust=False).mean()\n",
    "        ema26 = data.ewm(span=26, adjust=False).mean()\n",
    "        return ema12 - ema26\n",
    "    df['MACD'] = df.groupby('Ticker')['Close'].transform(compute_macd)\n",
    "    df['MACD_Signal'] = df.groupby('Ticker')['MACD'].transform(lambda x: x.ewm(span=9, adjust=False).mean())\n",
    "    \n",
    "    # # 6. On-Balance Volume (OBV)\n",
    "    # def compute_obv(group):\n",
    "    #     obv = (np.where(group['Close'].diff() > 0, group['Volume'],\n",
    "    #             np.where(group['Close'].diff() < 0, -group['Volume'], 0))).cumsum()\n",
    "    #     return obv\n",
    "    \n",
    "    # df['OBV'] = df.groupby('Ticker', group_keys=False).apply(compute_obv).reset_index(drop=True)\n",
    "    \n",
    "    # # 7. Average True Range (ATR)\n",
    "    # def compute_atr(group):\n",
    "    #     high_low = group['High'] - group['Low']\n",
    "    #     high_close = (group['High'] - group['Close'].shift()).abs()\n",
    "    #     low_close = (group['Low'] - group['Close'].shift()).abs()\n",
    "    #     tr = pd.concat([high_low, high_close, low_close], axis=1).max(axis=1)\n",
    "    #     return tr.rolling(window=14).mean()\n",
    "    \n",
    "    # df['ATR_14'] = df.groupby('Ticker', group_keys=False).apply(compute_atr).reset_index(drop=True)\n",
    "    \n",
    "    # # Forward fill missing values created by rolling windows\n",
    "    # df = df.groupby('Ticker').ffill().reset_index(drop=True)\n",
    "    \n",
    "    return df\n",
    "\n",
    "# Apply transformation to cleaned data\n",
    "df_transformed = transform(df_cleaned)\n",
    "display(df_transformed[['Date', 'Ticker', 'SMA_20', 'EMA_20', 'RSI_14', 'BB_Upper', 'BB_Lower', 'MACD']].head(n=20)) #only shows APPL b/c all other tickers appear later. \n",
    "#add in 'OBV' and 'ATR_14' when fixed \n",
    "\n",
    "#to filter a specific ticker: \n",
    "display(df_transformed[df_transformed['Ticker'] == 'MSFT'].iloc[20:25])\n",
    "\n",
    "#to shuffle/show random rows: \n",
    "display(df_transformed.sample(10))  # Show random rows\n",
    "\n",
    "# count = len(df_transformed)\n",
    "# print(count)\n"
   ]
  },
  {
   "cell_type": "markdown",
   "metadata": {},
   "source": [
    "## Loading into MySQL with historical data "
   ]
  },
  {
   "cell_type": "markdown",
   "metadata": {},
   "source": [
    "## Extracting Real time data\n",
    "### Using Finnhub API to get real time data of the stock market , filling the Cassandra database every 10 seconds until 60seconds is reached for the past minute of data"
   ]
  },
  {
   "cell_type": "code",
   "execution_count": 18,
   "metadata": {},
   "outputs": [],
   "source": [
    "from datetime import datetime\n",
    "import finnhub\n",
    "\n",
    "#using finhub api, use api key\n",
    "finnhub_client = finnhub.Client(api_key=\"cvhdlvhr01qrtb3o0350cvhdlvhr01qrtb3o035g\")\n",
    "\n",
    "tickers = [\"AAPL\", \"MSFT\", \"GOOGL\", \"AMZN\", \"META\", \"NVDA\", \"TSLA\"]\n",
    "\n",
    "def get_realtime_quotes():\n",
    "    quotes = []\n",
    "    for symbol in tickers:\n",
    "        data = finnhub_client.quote(symbol)\n",
    "        quotes.append({\n",
    "            \"Date\": pd.to_datetime(data['t'], unit='s'),\n",
    "            \"Ticker\": symbol,\n",
    "            \"Open\": data['o'],\n",
    "            \"High\": data['h'],\n",
    "            \"Low\": data['l'],\n",
    "            \"Close\": data['c'],           \n",
    "            \"Adj_Close\": data['c'],       \n",
    "            \"Previous_Close\": data['pc'],  \n",
    "            \"Volume\": None               \n",
    "        })\n",
    "    return pd.DataFrame(quotes)\n"
   ]
  },
  {
   "cell_type": "markdown",
   "metadata": {},
   "source": [
    "## Loading into Cassandra with Real time data"
   ]
  },
  {
   "cell_type": "code",
   "execution_count": 19,
   "metadata": {},
   "outputs": [
    {
     "name": "stdout",
     "output_type": "stream",
     "text": [
      "Cassandra connection established.\n"
     ]
    },
    {
     "data": {
      "text/plain": [
       "<cassandra.cluster.ResultSet at 0x17adc7b80>"
      ]
     },
     "execution_count": 19,
     "metadata": {},
     "output_type": "execute_result"
    }
   ],
   "source": [
    "from cassandra.cluster import Cluster\n",
    "\n",
    "try:\n",
    "    cluster = Cluster(['localhost'])\n",
    "    session = cluster.connect()\n",
    "    print(\"Cassandra connection established.\")\n",
    "except Exception as e:\n",
    "    print(\"Connection error:\", e)\n",
    "\n",
    "\n",
    "# connecting to  the Cassandra session\n",
    "cluster = Cluster(['localhost'])\n",
    "session = cluster.connect()\n",
    "\n",
    "# we are making a keyspace called \"stock data\" and inside the keyspace we have a table called real_time_quotes where we are pulling data realtime from the finnhub api\n",
    "session.execute(\"\"\"\n",
    "    CREATE KEYSPACE IF NOT EXISTS stock_data \n",
    "    WITH replication = {'class': 'SimpleStrategy', 'replication_factor': 1};\n",
    "\"\"\")\n",
    "session.set_keyspace('stock_data')\n",
    "#schema for the cassandra csql table\n",
    "session.execute(\"\"\"\n",
    "    CREATE TABLE IF NOT EXISTS real_time_quotes (\n",
    "    ticker TEXT,\n",
    "    date TIMESTAMP,\n",
    "    open DOUBLE,\n",
    "    high DOUBLE,\n",
    "    low DOUBLE,\n",
    "    close DOUBLE,\n",
    "    adj_close DOUBLE,\n",
    "    volume BIGINT,\n",
    "    previous_close DOUBLE,\n",
    "    PRIMARY KEY (ticker, date)\n",
    ");\n",
    "\"\"\")\n"
   ]
  },
  {
   "cell_type": "code",
   "execution_count": 20,
   "metadata": {},
   "outputs": [],
   "source": [
    "#from cassandra.query import PreparedStatement\n",
    "import time\n",
    "#inserting the values from the api and clearing the white space and storing the columns as ticker, date, open, high, low, close, adj_close, and volume\n",
    "def insert_to_cassandra(df):\n",
    "    query = \"\"\"\n",
    "            INSERT INTO real_time_quotes (ticker, date, open, high, low, close, adj_close, volume, previous_close)\n",
    "            VALUES (%s, %s, %s, %s, %s, %s, %s, %s, %s)\n",
    "            \"\"\"\n",
    "\n",
    "    for _, row in df.iterrows():\n",
    "        session.execute(query, (\n",
    "            row['Ticker'],\n",
    "            row['Date'].to_pydatetime(),\n",
    "            row['Open'],\n",
    "            row['High'],\n",
    "            row['Low'],\n",
    "            row['Close'],\n",
    "            row['Adj_Close'],\n",
    "            row['Volume'] if pd.notna(row['Volume']) else 0,\n",
    "            row['Previous_Close'] if pd.notna(row['Previous_Close']) else None\n",
    "        ))  \n",
    "\n",
    "#making a backup incase the cassandra server acts up\n",
    "#def backup_to_csv(df, path='realtime_backup.csv'):\n",
    "    #header = not os.path.exists(path)\n",
    "    #df.to_csv(path, mode='a', index=False, header=header)\n",
    "\n"
   ]
  },
  {
   "cell_type": "code",
   "execution_count": 21,
   "metadata": {},
   "outputs": [
    {
     "name": "stdout",
     "output_type": "stream",
     "text": [
      " For 10 seconds: Adding a new batch of 7 rows into Cassandra DB.\n",
      " For 10 seconds: Adding a new batch of 7 rows into Cassandra DB.\n",
      " For 10 seconds: Adding a new batch of 7 rows into Cassandra DB.\n",
      " For 10 seconds: Adding a new batch of 7 rows into Cassandra DB.\n",
      " For 10 seconds: Adding a new batch of 7 rows into Cassandra DB.\n",
      " For 10 seconds: Adding a new batch of 7 rows into Cassandra DB.\n",
      " For 10 seconds: Adding a new batch of 7 rows into Cassandra DB.\n",
      " For 10 seconds: Adding a new batch of 7 rows into Cassandra DB.\n",
      " For 10 seconds: Adding a new batch of 7 rows into Cassandra DB.\n",
      " For 10 seconds: Adding a new batch of 7 rows into Cassandra DB.\n",
      " For 10 seconds: Adding a new batch of 7 rows into Cassandra DB.\n",
      " For 10 seconds: Adding a new batch of 7 rows into Cassandra DB.\n",
      " For 10 seconds: Adding a new batch of 7 rows into Cassandra DB.\n",
      " For 10 seconds: Adding a new batch of 7 rows into Cassandra DB.\n",
      " For 10 seconds: Adding a new batch of 7 rows into Cassandra DB.\n",
      " For 10 seconds: Adding a new batch of 7 rows into Cassandra DB.\n",
      " For 10 seconds: Adding a new batch of 7 rows into Cassandra DB.\n",
      " For 10 seconds: Adding a new batch of 7 rows into Cassandra DB.\n"
     ]
    }
   ],
   "source": [
    "# pulls stocks values every 10 seconds, 18 times for about 3 minutes + some buffer time \n",
    "for _ in range(18):\n",
    "    df_tenseconds = get_realtime_quotes()\n",
    "    insert_to_cassandra(df_tenseconds)\n",
    "    #backup_to_csv(df_hour)\n",
    "    print(\" For 10 seconds: Adding a new batch of 7 rows into Cassandra DB.\")\n",
    "    time.sleep(10)  # delay to avoid rate limiting with the API"
   ]
  },
  {
   "cell_type": "code",
   "execution_count": 22,
   "metadata": {},
   "outputs": [
    {
     "data": {
      "text/html": [
       "<div>\n",
       "<style scoped>\n",
       "    .dataframe tbody tr th:only-of-type {\n",
       "        vertical-align: middle;\n",
       "    }\n",
       "\n",
       "    .dataframe tbody tr th {\n",
       "        vertical-align: top;\n",
       "    }\n",
       "\n",
       "    .dataframe thead th {\n",
       "        text-align: right;\n",
       "    }\n",
       "</style>\n",
       "<table border=\"1\" class=\"dataframe\">\n",
       "  <thead>\n",
       "    <tr style=\"text-align: right;\">\n",
       "      <th></th>\n",
       "      <th>ticker</th>\n",
       "      <th>date</th>\n",
       "      <th>adj_close</th>\n",
       "      <th>close</th>\n",
       "      <th>high</th>\n",
       "      <th>low</th>\n",
       "      <th>open</th>\n",
       "      <th>previous_close</th>\n",
       "      <th>volume</th>\n",
       "    </tr>\n",
       "  </thead>\n",
       "  <tbody>\n",
       "    <tr>\n",
       "      <th>0</th>\n",
       "      <td>META</td>\n",
       "      <td>2025-04-21 19:02:49</td>\n",
       "      <td>483.97</td>\n",
       "      <td>483.97</td>\n",
       "      <td>493.50</td>\n",
       "      <td>479.80</td>\n",
       "      <td>491.325</td>\n",
       "      <td>501.48</td>\n",
       "      <td>0</td>\n",
       "    </tr>\n",
       "    <tr>\n",
       "      <th>1</th>\n",
       "      <td>META</td>\n",
       "      <td>2025-04-21 19:02:58</td>\n",
       "      <td>483.97</td>\n",
       "      <td>483.97</td>\n",
       "      <td>493.50</td>\n",
       "      <td>479.80</td>\n",
       "      <td>491.325</td>\n",
       "      <td>501.48</td>\n",
       "      <td>0</td>\n",
       "    </tr>\n",
       "    <tr>\n",
       "      <th>2</th>\n",
       "      <td>META</td>\n",
       "      <td>2025-04-21 19:03:07</td>\n",
       "      <td>483.99</td>\n",
       "      <td>483.99</td>\n",
       "      <td>493.50</td>\n",
       "      <td>479.80</td>\n",
       "      <td>491.325</td>\n",
       "      <td>501.48</td>\n",
       "      <td>0</td>\n",
       "    </tr>\n",
       "    <tr>\n",
       "      <th>3</th>\n",
       "      <td>META</td>\n",
       "      <td>2025-04-21 19:03:19</td>\n",
       "      <td>483.99</td>\n",
       "      <td>483.99</td>\n",
       "      <td>493.50</td>\n",
       "      <td>479.80</td>\n",
       "      <td>491.325</td>\n",
       "      <td>501.48</td>\n",
       "      <td>0</td>\n",
       "    </tr>\n",
       "    <tr>\n",
       "      <th>4</th>\n",
       "      <td>META</td>\n",
       "      <td>2025-04-21 19:03:25</td>\n",
       "      <td>483.99</td>\n",
       "      <td>483.99</td>\n",
       "      <td>493.50</td>\n",
       "      <td>479.80</td>\n",
       "      <td>491.325</td>\n",
       "      <td>501.48</td>\n",
       "      <td>0</td>\n",
       "    </tr>\n",
       "    <tr>\n",
       "      <th>...</th>\n",
       "      <td>...</td>\n",
       "      <td>...</td>\n",
       "      <td>...</td>\n",
       "      <td>...</td>\n",
       "      <td>...</td>\n",
       "      <td>...</td>\n",
       "      <td>...</td>\n",
       "      <td>...</td>\n",
       "      <td>...</td>\n",
       "    </tr>\n",
       "    <tr>\n",
       "      <th>121</th>\n",
       "      <td>MSFT</td>\n",
       "      <td>2025-04-21 19:05:00</td>\n",
       "      <td>356.48</td>\n",
       "      <td>356.48</td>\n",
       "      <td>364.48</td>\n",
       "      <td>355.67</td>\n",
       "      <td>362.815</td>\n",
       "      <td>367.78</td>\n",
       "      <td>0</td>\n",
       "    </tr>\n",
       "    <tr>\n",
       "      <th>122</th>\n",
       "      <td>MSFT</td>\n",
       "      <td>2025-04-21 19:05:12</td>\n",
       "      <td>356.61</td>\n",
       "      <td>356.61</td>\n",
       "      <td>364.48</td>\n",
       "      <td>355.67</td>\n",
       "      <td>362.815</td>\n",
       "      <td>367.78</td>\n",
       "      <td>0</td>\n",
       "    </tr>\n",
       "    <tr>\n",
       "      <th>123</th>\n",
       "      <td>MSFT</td>\n",
       "      <td>2025-04-21 19:05:20</td>\n",
       "      <td>356.61</td>\n",
       "      <td>356.61</td>\n",
       "      <td>364.48</td>\n",
       "      <td>355.67</td>\n",
       "      <td>362.815</td>\n",
       "      <td>367.78</td>\n",
       "      <td>0</td>\n",
       "    </tr>\n",
       "    <tr>\n",
       "      <th>124</th>\n",
       "      <td>MSFT</td>\n",
       "      <td>2025-04-21 19:05:28</td>\n",
       "      <td>356.61</td>\n",
       "      <td>356.61</td>\n",
       "      <td>364.48</td>\n",
       "      <td>355.67</td>\n",
       "      <td>362.815</td>\n",
       "      <td>367.78</td>\n",
       "      <td>0</td>\n",
       "    </tr>\n",
       "    <tr>\n",
       "      <th>125</th>\n",
       "      <td>MSFT</td>\n",
       "      <td>2025-04-21 19:05:35</td>\n",
       "      <td>356.61</td>\n",
       "      <td>356.61</td>\n",
       "      <td>364.48</td>\n",
       "      <td>355.67</td>\n",
       "      <td>362.815</td>\n",
       "      <td>367.78</td>\n",
       "      <td>0</td>\n",
       "    </tr>\n",
       "  </tbody>\n",
       "</table>\n",
       "<p>126 rows × 9 columns</p>\n",
       "</div>"
      ],
      "text/plain": [
       "    ticker                date  adj_close   close    high     low     open  \\\n",
       "0     META 2025-04-21 19:02:49     483.97  483.97  493.50  479.80  491.325   \n",
       "1     META 2025-04-21 19:02:58     483.97  483.97  493.50  479.80  491.325   \n",
       "2     META 2025-04-21 19:03:07     483.99  483.99  493.50  479.80  491.325   \n",
       "3     META 2025-04-21 19:03:19     483.99  483.99  493.50  479.80  491.325   \n",
       "4     META 2025-04-21 19:03:25     483.99  483.99  493.50  479.80  491.325   \n",
       "..     ...                 ...        ...     ...     ...     ...      ...   \n",
       "121   MSFT 2025-04-21 19:05:00     356.48  356.48  364.48  355.67  362.815   \n",
       "122   MSFT 2025-04-21 19:05:12     356.61  356.61  364.48  355.67  362.815   \n",
       "123   MSFT 2025-04-21 19:05:20     356.61  356.61  364.48  355.67  362.815   \n",
       "124   MSFT 2025-04-21 19:05:28     356.61  356.61  364.48  355.67  362.815   \n",
       "125   MSFT 2025-04-21 19:05:35     356.61  356.61  364.48  355.67  362.815   \n",
       "\n",
       "     previous_close  volume  \n",
       "0            501.48       0  \n",
       "1            501.48       0  \n",
       "2            501.48       0  \n",
       "3            501.48       0  \n",
       "4            501.48       0  \n",
       "..              ...     ...  \n",
       "121          367.78       0  \n",
       "122          367.78       0  \n",
       "123          367.78       0  \n",
       "124          367.78       0  \n",
       "125          367.78       0  \n",
       "\n",
       "[126 rows x 9 columns]"
      ]
     },
     "metadata": {},
     "output_type": "display_data"
    }
   ],
   "source": [
    "#turning the cassandra table into a python pandas dataframe for datamanipulation\n",
    "query = \"SELECT * FROM stock_data.real_time_quotes\"\n",
    "rows = session.execute(query)\n",
    "df_cassandra = pd.DataFrame(rows)\n",
    "display(df_cassandra)"
   ]
  },
  {
   "cell_type": "markdown",
   "metadata": {},
   "source": [
    "## Real Time Data: Data Cleaning \n",
    "Note: we are not removing outliers since time series stock data rely on drastic changes or spikes. Any outliers would be crucial to determine the volatility of a stock. \n"
   ]
  },
  {
   "cell_type": "code",
   "execution_count": 23,
   "metadata": {},
   "outputs": [
    {
     "data": {
      "text/html": [
       "<div>\n",
       "<style scoped>\n",
       "    .dataframe tbody tr th:only-of-type {\n",
       "        vertical-align: middle;\n",
       "    }\n",
       "\n",
       "    .dataframe tbody tr th {\n",
       "        vertical-align: top;\n",
       "    }\n",
       "\n",
       "    .dataframe thead th {\n",
       "        text-align: right;\n",
       "    }\n",
       "</style>\n",
       "<table border=\"1\" class=\"dataframe\">\n",
       "  <thead>\n",
       "    <tr style=\"text-align: right;\">\n",
       "      <th></th>\n",
       "      <th>ticker</th>\n",
       "      <th>date</th>\n",
       "      <th>adj_close</th>\n",
       "      <th>close</th>\n",
       "      <th>high</th>\n",
       "      <th>low</th>\n",
       "      <th>open</th>\n",
       "      <th>previous_close</th>\n",
       "      <th>volume</th>\n",
       "    </tr>\n",
       "  </thead>\n",
       "  <tbody>\n",
       "    <tr>\n",
       "      <th>0</th>\n",
       "      <td>META</td>\n",
       "      <td>2025-04-21 19:02:49</td>\n",
       "      <td>483.97</td>\n",
       "      <td>483.97</td>\n",
       "      <td>493.50</td>\n",
       "      <td>479.80</td>\n",
       "      <td>491.325</td>\n",
       "      <td>501.48</td>\n",
       "      <td>0</td>\n",
       "    </tr>\n",
       "    <tr>\n",
       "      <th>1</th>\n",
       "      <td>META</td>\n",
       "      <td>2025-04-21 19:02:58</td>\n",
       "      <td>483.97</td>\n",
       "      <td>483.97</td>\n",
       "      <td>493.50</td>\n",
       "      <td>479.80</td>\n",
       "      <td>491.325</td>\n",
       "      <td>501.48</td>\n",
       "      <td>0</td>\n",
       "    </tr>\n",
       "    <tr>\n",
       "      <th>2</th>\n",
       "      <td>META</td>\n",
       "      <td>2025-04-21 19:03:07</td>\n",
       "      <td>483.99</td>\n",
       "      <td>483.99</td>\n",
       "      <td>493.50</td>\n",
       "      <td>479.80</td>\n",
       "      <td>491.325</td>\n",
       "      <td>501.48</td>\n",
       "      <td>0</td>\n",
       "    </tr>\n",
       "    <tr>\n",
       "      <th>3</th>\n",
       "      <td>META</td>\n",
       "      <td>2025-04-21 19:03:19</td>\n",
       "      <td>483.99</td>\n",
       "      <td>483.99</td>\n",
       "      <td>493.50</td>\n",
       "      <td>479.80</td>\n",
       "      <td>491.325</td>\n",
       "      <td>501.48</td>\n",
       "      <td>0</td>\n",
       "    </tr>\n",
       "    <tr>\n",
       "      <th>4</th>\n",
       "      <td>META</td>\n",
       "      <td>2025-04-21 19:03:25</td>\n",
       "      <td>483.99</td>\n",
       "      <td>483.99</td>\n",
       "      <td>493.50</td>\n",
       "      <td>479.80</td>\n",
       "      <td>491.325</td>\n",
       "      <td>501.48</td>\n",
       "      <td>0</td>\n",
       "    </tr>\n",
       "    <tr>\n",
       "      <th>...</th>\n",
       "      <td>...</td>\n",
       "      <td>...</td>\n",
       "      <td>...</td>\n",
       "      <td>...</td>\n",
       "      <td>...</td>\n",
       "      <td>...</td>\n",
       "      <td>...</td>\n",
       "      <td>...</td>\n",
       "      <td>...</td>\n",
       "    </tr>\n",
       "    <tr>\n",
       "      <th>121</th>\n",
       "      <td>MSFT</td>\n",
       "      <td>2025-04-21 19:05:00</td>\n",
       "      <td>356.48</td>\n",
       "      <td>356.48</td>\n",
       "      <td>364.48</td>\n",
       "      <td>355.67</td>\n",
       "      <td>362.815</td>\n",
       "      <td>367.78</td>\n",
       "      <td>0</td>\n",
       "    </tr>\n",
       "    <tr>\n",
       "      <th>122</th>\n",
       "      <td>MSFT</td>\n",
       "      <td>2025-04-21 19:05:12</td>\n",
       "      <td>356.61</td>\n",
       "      <td>356.61</td>\n",
       "      <td>364.48</td>\n",
       "      <td>355.67</td>\n",
       "      <td>362.815</td>\n",
       "      <td>367.78</td>\n",
       "      <td>0</td>\n",
       "    </tr>\n",
       "    <tr>\n",
       "      <th>123</th>\n",
       "      <td>MSFT</td>\n",
       "      <td>2025-04-21 19:05:20</td>\n",
       "      <td>356.61</td>\n",
       "      <td>356.61</td>\n",
       "      <td>364.48</td>\n",
       "      <td>355.67</td>\n",
       "      <td>362.815</td>\n",
       "      <td>367.78</td>\n",
       "      <td>0</td>\n",
       "    </tr>\n",
       "    <tr>\n",
       "      <th>124</th>\n",
       "      <td>MSFT</td>\n",
       "      <td>2025-04-21 19:05:28</td>\n",
       "      <td>356.61</td>\n",
       "      <td>356.61</td>\n",
       "      <td>364.48</td>\n",
       "      <td>355.67</td>\n",
       "      <td>362.815</td>\n",
       "      <td>367.78</td>\n",
       "      <td>0</td>\n",
       "    </tr>\n",
       "    <tr>\n",
       "      <th>125</th>\n",
       "      <td>MSFT</td>\n",
       "      <td>2025-04-21 19:05:35</td>\n",
       "      <td>356.61</td>\n",
       "      <td>356.61</td>\n",
       "      <td>364.48</td>\n",
       "      <td>355.67</td>\n",
       "      <td>362.815</td>\n",
       "      <td>367.78</td>\n",
       "      <td>0</td>\n",
       "    </tr>\n",
       "  </tbody>\n",
       "</table>\n",
       "<p>126 rows × 9 columns</p>\n",
       "</div>"
      ],
      "text/plain": [
       "    ticker                date  adj_close   close    high     low     open  \\\n",
       "0     META 2025-04-21 19:02:49     483.97  483.97  493.50  479.80  491.325   \n",
       "1     META 2025-04-21 19:02:58     483.97  483.97  493.50  479.80  491.325   \n",
       "2     META 2025-04-21 19:03:07     483.99  483.99  493.50  479.80  491.325   \n",
       "3     META 2025-04-21 19:03:19     483.99  483.99  493.50  479.80  491.325   \n",
       "4     META 2025-04-21 19:03:25     483.99  483.99  493.50  479.80  491.325   \n",
       "..     ...                 ...        ...     ...     ...     ...      ...   \n",
       "121   MSFT 2025-04-21 19:05:00     356.48  356.48  364.48  355.67  362.815   \n",
       "122   MSFT 2025-04-21 19:05:12     356.61  356.61  364.48  355.67  362.815   \n",
       "123   MSFT 2025-04-21 19:05:20     356.61  356.61  364.48  355.67  362.815   \n",
       "124   MSFT 2025-04-21 19:05:28     356.61  356.61  364.48  355.67  362.815   \n",
       "125   MSFT 2025-04-21 19:05:35     356.61  356.61  364.48  355.67  362.815   \n",
       "\n",
       "     previous_close  volume  \n",
       "0            501.48       0  \n",
       "1            501.48       0  \n",
       "2            501.48       0  \n",
       "3            501.48       0  \n",
       "4            501.48       0  \n",
       "..              ...     ...  \n",
       "121          367.78       0  \n",
       "122          367.78       0  \n",
       "123          367.78       0  \n",
       "124          367.78       0  \n",
       "125          367.78       0  \n",
       "\n",
       "[126 rows x 9 columns]"
      ]
     },
     "metadata": {},
     "output_type": "display_data"
    },
    {
     "name": "stdout",
     "output_type": "stream",
     "text": [
      "\n",
      "Null Count for Real Time Data (Extracted from Cassandra):\n",
      "\n",
      "ticker            0\n",
      "date              0\n",
      "adj_close         0\n",
      "close             0\n",
      "high              0\n",
      "low               0\n",
      "open              0\n",
      "previous_close    0\n",
      "volume            0\n",
      "dtype: int64\n"
     ]
    }
   ],
   "source": [
    "def cleaning(df):\n",
    "    # making sure the date column is only in date time format\n",
    "    df['date'] = pd.to_datetime(df['date'])\n",
    "    #dropping rows that are missing ticker or date since its the most integral portion\n",
    "    df = df.dropna(subset=['ticker', 'date'])\n",
    "    # filling in the missing values using forward fill, or backfill when available \n",
    "    float_cols = ['open', 'high', 'low', 'close', 'adj_close', 'volume', 'previous_close']\n",
    "    for col in float_cols:\n",
    "        if col in df.columns:\n",
    "            df[col] = df[col].ffill().bfill()\n",
    "    # if there is still any remaining numerical columns (float)we can just average fill it \n",
    "    for col in float_cols:\n",
    "        if df[col].isna().any():\n",
    "            df[col] = df[col].fillna(df[col].mean())\n",
    "    # making sure theres no duplicate \n",
    "    df = df.drop_duplicates(subset=['ticker', 'date'], keep='last')\n",
    "    # reseting index if we drop\n",
    "    df = df.reset_index(drop=True)\n",
    "    return df\n",
    "\n",
    "\n",
    "#applying the cleaning function on our previous tile: df_cassandra dataframe\n",
    "df_cassandracleaned = cleaning(df_cassandra)\n",
    "display(df_cassandracleaned)\n",
    "print(\"\\nNull Count for Real Time Data (Extracted from Cassandra):\\n\")\n",
    "print(df_cassandracleaned.isnull().sum())"
   ]
  },
  {
   "cell_type": "markdown",
   "metadata": {},
   "source": [
    "### Note: Finnhub API does not provide real time volume in its free API model. Additionally accuracy of per second volume would be hard to predict. We would potentially need to drop this or exclude volume entirely from subsequent machine learning later"
   ]
  },
  {
   "cell_type": "markdown",
   "metadata": {},
   "source": [
    "## Real Time Data: Feature Engineering\n",
    "### Can only perform this on a weekday between 8am EST and 4pm EST. Otherwise we will not be able to get more than 1 iteration of results since stock market is closed realtime. \n",
    "1. Simple Moving Average (SMA)\n",
    "2. Exponential Moving Average (EMA)\n",
    "3. Relative Strength Index (RSI)\n",
    "4. Bollinger Bands\n",
    "5. MACD (Moving Average Convergence Divergence)\n",
    "6. On-Balance Volume (OBV)\n",
    "7. Volatility (ATR - Average True Range)\n"
   ]
  },
  {
   "cell_type": "code",
   "execution_count": 24,
   "metadata": {},
   "outputs": [
    {
     "data": {
      "text/html": [
       "<div>\n",
       "<style scoped>\n",
       "    .dataframe tbody tr th:only-of-type {\n",
       "        vertical-align: middle;\n",
       "    }\n",
       "\n",
       "    .dataframe tbody tr th {\n",
       "        vertical-align: top;\n",
       "    }\n",
       "\n",
       "    .dataframe thead th {\n",
       "        text-align: right;\n",
       "    }\n",
       "</style>\n",
       "<table border=\"1\" class=\"dataframe\">\n",
       "  <thead>\n",
       "    <tr style=\"text-align: right;\">\n",
       "      <th></th>\n",
       "      <th>ticker</th>\n",
       "      <th>date</th>\n",
       "      <th>adj_close</th>\n",
       "      <th>close</th>\n",
       "      <th>high</th>\n",
       "      <th>low</th>\n",
       "      <th>open</th>\n",
       "      <th>previous_close</th>\n",
       "      <th>volume</th>\n",
       "      <th>SMA_5</th>\n",
       "      <th>EMA_5</th>\n",
       "      <th>RSI_5</th>\n",
       "      <th>BB_Middle</th>\n",
       "      <th>BB_Std</th>\n",
       "      <th>BB_Upper</th>\n",
       "      <th>BB_Lower</th>\n",
       "      <th>MACD</th>\n",
       "      <th>MACD_Signal</th>\n",
       "      <th>OBV</th>\n",
       "      <th>ATR_5</th>\n",
       "    </tr>\n",
       "  </thead>\n",
       "  <tbody>\n",
       "    <tr>\n",
       "      <th>36</th>\n",
       "      <td>AAPL</td>\n",
       "      <td>2025-04-21 19:02:45</td>\n",
       "      <td>190.63</td>\n",
       "      <td>190.63</td>\n",
       "      <td>193.80</td>\n",
       "      <td>189.8112</td>\n",
       "      <td>193.265</td>\n",
       "      <td>196.98</td>\n",
       "      <td>0</td>\n",
       "      <td>NaN</td>\n",
       "      <td>190.630000</td>\n",
       "      <td>NaN</td>\n",
       "      <td>NaN</td>\n",
       "      <td>NaN</td>\n",
       "      <td>NaN</td>\n",
       "      <td>NaN</td>\n",
       "      <td>0.000000</td>\n",
       "      <td>0.000000</td>\n",
       "      <td>0</td>\n",
       "      <td>NaN</td>\n",
       "    </tr>\n",
       "    <tr>\n",
       "      <th>37</th>\n",
       "      <td>AAPL</td>\n",
       "      <td>2025-04-21 19:02:58</td>\n",
       "      <td>190.63</td>\n",
       "      <td>190.63</td>\n",
       "      <td>193.80</td>\n",
       "      <td>189.8112</td>\n",
       "      <td>193.265</td>\n",
       "      <td>196.98</td>\n",
       "      <td>0</td>\n",
       "      <td>NaN</td>\n",
       "      <td>190.630000</td>\n",
       "      <td>NaN</td>\n",
       "      <td>NaN</td>\n",
       "      <td>NaN</td>\n",
       "      <td>NaN</td>\n",
       "      <td>NaN</td>\n",
       "      <td>0.000000</td>\n",
       "      <td>0.000000</td>\n",
       "      <td>0</td>\n",
       "      <td>NaN</td>\n",
       "    </tr>\n",
       "    <tr>\n",
       "      <th>38</th>\n",
       "      <td>AAPL</td>\n",
       "      <td>2025-04-21 19:03:06</td>\n",
       "      <td>190.64</td>\n",
       "      <td>190.64</td>\n",
       "      <td>193.80</td>\n",
       "      <td>189.8112</td>\n",
       "      <td>193.265</td>\n",
       "      <td>196.98</td>\n",
       "      <td>0</td>\n",
       "      <td>NaN</td>\n",
       "      <td>190.633333</td>\n",
       "      <td>NaN</td>\n",
       "      <td>NaN</td>\n",
       "      <td>NaN</td>\n",
       "      <td>NaN</td>\n",
       "      <td>NaN</td>\n",
       "      <td>0.000798</td>\n",
       "      <td>0.000160</td>\n",
       "      <td>0</td>\n",
       "      <td>NaN</td>\n",
       "    </tr>\n",
       "    <tr>\n",
       "      <th>39</th>\n",
       "      <td>AAPL</td>\n",
       "      <td>2025-04-21 19:03:19</td>\n",
       "      <td>190.64</td>\n",
       "      <td>190.64</td>\n",
       "      <td>193.80</td>\n",
       "      <td>189.8112</td>\n",
       "      <td>193.265</td>\n",
       "      <td>196.98</td>\n",
       "      <td>0</td>\n",
       "      <td>NaN</td>\n",
       "      <td>190.635556</td>\n",
       "      <td>NaN</td>\n",
       "      <td>NaN</td>\n",
       "      <td>NaN</td>\n",
       "      <td>NaN</td>\n",
       "      <td>NaN</td>\n",
       "      <td>0.001414</td>\n",
       "      <td>0.000410</td>\n",
       "      <td>0</td>\n",
       "      <td>NaN</td>\n",
       "    </tr>\n",
       "    <tr>\n",
       "      <th>40</th>\n",
       "      <td>AAPL</td>\n",
       "      <td>2025-04-21 19:03:26</td>\n",
       "      <td>190.64</td>\n",
       "      <td>190.64</td>\n",
       "      <td>193.80</td>\n",
       "      <td>189.8112</td>\n",
       "      <td>193.265</td>\n",
       "      <td>196.98</td>\n",
       "      <td>0</td>\n",
       "      <td>190.636</td>\n",
       "      <td>190.637037</td>\n",
       "      <td>100.0</td>\n",
       "      <td>190.636</td>\n",
       "      <td>0.005477</td>\n",
       "      <td>190.646954</td>\n",
       "      <td>190.625046</td>\n",
       "      <td>0.001880</td>\n",
       "      <td>0.000704</td>\n",
       "      <td>0</td>\n",
       "      <td>3.9888</td>\n",
       "    </tr>\n",
       "    <tr>\n",
       "      <th>...</th>\n",
       "      <td>...</td>\n",
       "      <td>...</td>\n",
       "      <td>...</td>\n",
       "      <td>...</td>\n",
       "      <td>...</td>\n",
       "      <td>...</td>\n",
       "      <td>...</td>\n",
       "      <td>...</td>\n",
       "      <td>...</td>\n",
       "      <td>...</td>\n",
       "      <td>...</td>\n",
       "      <td>...</td>\n",
       "      <td>...</td>\n",
       "      <td>...</td>\n",
       "      <td>...</td>\n",
       "      <td>...</td>\n",
       "      <td>...</td>\n",
       "      <td>...</td>\n",
       "      <td>...</td>\n",
       "      <td>...</td>\n",
       "    </tr>\n",
       "    <tr>\n",
       "      <th>31</th>\n",
       "      <td>TSLA</td>\n",
       "      <td>2025-04-21 19:05:00</td>\n",
       "      <td>224.56</td>\n",
       "      <td>224.56</td>\n",
       "      <td>232.21</td>\n",
       "      <td>222.7900</td>\n",
       "      <td>230.260</td>\n",
       "      <td>241.37</td>\n",
       "      <td>0</td>\n",
       "      <td>224.560</td>\n",
       "      <td>224.551435</td>\n",
       "      <td>NaN</td>\n",
       "      <td>224.560</td>\n",
       "      <td>0.000000</td>\n",
       "      <td>224.560000</td>\n",
       "      <td>224.560000</td>\n",
       "      <td>0.073533</td>\n",
       "      <td>0.060727</td>\n",
       "      <td>0</td>\n",
       "      <td>9.4200</td>\n",
       "    </tr>\n",
       "    <tr>\n",
       "      <th>32</th>\n",
       "      <td>TSLA</td>\n",
       "      <td>2025-04-21 19:05:12</td>\n",
       "      <td>224.66</td>\n",
       "      <td>224.66</td>\n",
       "      <td>232.21</td>\n",
       "      <td>222.7900</td>\n",
       "      <td>230.260</td>\n",
       "      <td>241.37</td>\n",
       "      <td>0</td>\n",
       "      <td>224.580</td>\n",
       "      <td>224.587623</td>\n",
       "      <td>100.0</td>\n",
       "      <td>224.580</td>\n",
       "      <td>0.044721</td>\n",
       "      <td>224.669443</td>\n",
       "      <td>224.490557</td>\n",
       "      <td>0.080555</td>\n",
       "      <td>0.064693</td>\n",
       "      <td>0</td>\n",
       "      <td>9.4200</td>\n",
       "    </tr>\n",
       "    <tr>\n",
       "      <th>33</th>\n",
       "      <td>TSLA</td>\n",
       "      <td>2025-04-21 19:05:22</td>\n",
       "      <td>224.66</td>\n",
       "      <td>224.66</td>\n",
       "      <td>232.21</td>\n",
       "      <td>222.7900</td>\n",
       "      <td>230.260</td>\n",
       "      <td>241.37</td>\n",
       "      <td>0</td>\n",
       "      <td>224.600</td>\n",
       "      <td>224.611749</td>\n",
       "      <td>100.0</td>\n",
       "      <td>224.600</td>\n",
       "      <td>0.054772</td>\n",
       "      <td>224.709545</td>\n",
       "      <td>224.490455</td>\n",
       "      <td>0.085138</td>\n",
       "      <td>0.068782</td>\n",
       "      <td>0</td>\n",
       "      <td>9.4200</td>\n",
       "    </tr>\n",
       "    <tr>\n",
       "      <th>34</th>\n",
       "      <td>TSLA</td>\n",
       "      <td>2025-04-21 19:05:30</td>\n",
       "      <td>224.66</td>\n",
       "      <td>224.66</td>\n",
       "      <td>232.21</td>\n",
       "      <td>222.7900</td>\n",
       "      <td>230.260</td>\n",
       "      <td>241.37</td>\n",
       "      <td>0</td>\n",
       "      <td>224.620</td>\n",
       "      <td>224.627833</td>\n",
       "      <td>100.0</td>\n",
       "      <td>224.620</td>\n",
       "      <td>0.054772</td>\n",
       "      <td>224.729545</td>\n",
       "      <td>224.510455</td>\n",
       "      <td>0.087759</td>\n",
       "      <td>0.072577</td>\n",
       "      <td>0</td>\n",
       "      <td>9.4200</td>\n",
       "    </tr>\n",
       "    <tr>\n",
       "      <th>35</th>\n",
       "      <td>TSLA</td>\n",
       "      <td>2025-04-21 19:05:39</td>\n",
       "      <td>224.66</td>\n",
       "      <td>224.66</td>\n",
       "      <td>232.21</td>\n",
       "      <td>222.7900</td>\n",
       "      <td>230.260</td>\n",
       "      <td>241.37</td>\n",
       "      <td>0</td>\n",
       "      <td>224.640</td>\n",
       "      <td>224.638555</td>\n",
       "      <td>100.0</td>\n",
       "      <td>224.640</td>\n",
       "      <td>0.044721</td>\n",
       "      <td>224.729443</td>\n",
       "      <td>224.550557</td>\n",
       "      <td>0.088812</td>\n",
       "      <td>0.075824</td>\n",
       "      <td>0</td>\n",
       "      <td>9.4200</td>\n",
       "    </tr>\n",
       "  </tbody>\n",
       "</table>\n",
       "<p>126 rows × 20 columns</p>\n",
       "</div>"
      ],
      "text/plain": [
       "   ticker                date  adj_close   close    high       low     open  \\\n",
       "36   AAPL 2025-04-21 19:02:45     190.63  190.63  193.80  189.8112  193.265   \n",
       "37   AAPL 2025-04-21 19:02:58     190.63  190.63  193.80  189.8112  193.265   \n",
       "38   AAPL 2025-04-21 19:03:06     190.64  190.64  193.80  189.8112  193.265   \n",
       "39   AAPL 2025-04-21 19:03:19     190.64  190.64  193.80  189.8112  193.265   \n",
       "40   AAPL 2025-04-21 19:03:26     190.64  190.64  193.80  189.8112  193.265   \n",
       "..    ...                 ...        ...     ...     ...       ...      ...   \n",
       "31   TSLA 2025-04-21 19:05:00     224.56  224.56  232.21  222.7900  230.260   \n",
       "32   TSLA 2025-04-21 19:05:12     224.66  224.66  232.21  222.7900  230.260   \n",
       "33   TSLA 2025-04-21 19:05:22     224.66  224.66  232.21  222.7900  230.260   \n",
       "34   TSLA 2025-04-21 19:05:30     224.66  224.66  232.21  222.7900  230.260   \n",
       "35   TSLA 2025-04-21 19:05:39     224.66  224.66  232.21  222.7900  230.260   \n",
       "\n",
       "    previous_close  volume    SMA_5       EMA_5  RSI_5  BB_Middle    BB_Std  \\\n",
       "36          196.98       0      NaN  190.630000    NaN        NaN       NaN   \n",
       "37          196.98       0      NaN  190.630000    NaN        NaN       NaN   \n",
       "38          196.98       0      NaN  190.633333    NaN        NaN       NaN   \n",
       "39          196.98       0      NaN  190.635556    NaN        NaN       NaN   \n",
       "40          196.98       0  190.636  190.637037  100.0    190.636  0.005477   \n",
       "..             ...     ...      ...         ...    ...        ...       ...   \n",
       "31          241.37       0  224.560  224.551435    NaN    224.560  0.000000   \n",
       "32          241.37       0  224.580  224.587623  100.0    224.580  0.044721   \n",
       "33          241.37       0  224.600  224.611749  100.0    224.600  0.054772   \n",
       "34          241.37       0  224.620  224.627833  100.0    224.620  0.054772   \n",
       "35          241.37       0  224.640  224.638555  100.0    224.640  0.044721   \n",
       "\n",
       "      BB_Upper    BB_Lower      MACD  MACD_Signal  OBV   ATR_5  \n",
       "36         NaN         NaN  0.000000     0.000000    0     NaN  \n",
       "37         NaN         NaN  0.000000     0.000000    0     NaN  \n",
       "38         NaN         NaN  0.000798     0.000160    0     NaN  \n",
       "39         NaN         NaN  0.001414     0.000410    0     NaN  \n",
       "40  190.646954  190.625046  0.001880     0.000704    0  3.9888  \n",
       "..         ...         ...       ...          ...  ...     ...  \n",
       "31  224.560000  224.560000  0.073533     0.060727    0  9.4200  \n",
       "32  224.669443  224.490557  0.080555     0.064693    0  9.4200  \n",
       "33  224.709545  224.490455  0.085138     0.068782    0  9.4200  \n",
       "34  224.729545  224.510455  0.087759     0.072577    0  9.4200  \n",
       "35  224.729443  224.550557  0.088812     0.075824    0  9.4200  \n",
       "\n",
       "[126 rows x 20 columns]"
      ]
     },
     "metadata": {},
     "output_type": "display_data"
    }
   ],
   "source": [
    "def add_technical_indicators(df):\n",
    "    df = df.sort_values(by=['ticker', 'date'])\n",
    "    \n",
    "    # calculating Simple Moving Average (SMA)\n",
    "    df['SMA_5'] = df.groupby('ticker')['close'].transform(lambda x: x.rolling(window=5).mean())\n",
    "\n",
    "    # calculating Exponential Moving Average (EMA)\n",
    "    df['EMA_5'] = df.groupby('ticker')['close'].transform(lambda x: x.ewm(span=5, adjust=False).mean())\n",
    "\n",
    "    # calculating Relative Strength Index (RSI)\n",
    "    def compute_rsi(series, period=5):\n",
    "        delta = series.diff()\n",
    "        gain = delta.where(delta > 0, 0.0)\n",
    "        loss = -delta.where(delta < 0, 0.0)\n",
    "        avg_gain = gain.rolling(window=period).mean()\n",
    "        avg_loss = loss.rolling(window=period).mean()\n",
    "        rs = avg_gain / avg_loss\n",
    "        return 100 - (100 / (1 + rs))\n",
    "    \n",
    "    df['RSI_5'] = df.groupby('ticker')['close'].transform(lambda x: compute_rsi(x))\n",
    "\n",
    "    # calculating Bollinger Bands\n",
    "    df['BB_Middle'] = df.groupby('ticker')['close'].transform(lambda x: x.rolling(window=5).mean())\n",
    "    df['BB_Std'] = df.groupby('ticker')['close'].transform(lambda x: x.rolling(window=5).std())\n",
    "    df['BB_Upper'] = df['BB_Middle'] + 2 * df['BB_Std']\n",
    "    df['BB_Lower'] = df['BB_Middle'] - 2 * df['BB_Std']\n",
    "\n",
    "\n",
    "    # calculating MACD\n",
    "    ema12 = df.groupby('ticker')['close'].transform(lambda x: x.ewm(span=12, adjust=False).mean())\n",
    "    ema26 = df.groupby('ticker')['close'].transform(lambda x: x.ewm(span=26, adjust=False).mean())\n",
    "    df['MACD'] = ema12 - ema26\n",
    "    df['MACD_Signal'] = df.groupby('ticker')['MACD'].transform(lambda x: x.ewm(span=9, adjust=False).mean())\n",
    "\n",
    "    # calclulating On Balance Volume (OBV)\n",
    "    def compute_obv(group):\n",
    "        obv = [0]\n",
    "        for i in range(1, len(group)):\n",
    "            if group['close'].iloc[i] > group['close'].iloc[i - 1]:\n",
    "                obv.append(obv[-1] + group['volume'].iloc[i])\n",
    "            elif group['close'].iloc[i] < group['close'].iloc[i - 1]:\n",
    "                obv.append(obv[-1] - group['volume'].iloc[i])\n",
    "            else:\n",
    "                obv.append(obv[-1])\n",
    "        return pd.Series(obv, index=group.index)\n",
    "\n",
    "    df['OBV'] = df.groupby('ticker')[['close', 'volume']].apply(compute_obv).reset_index(level=0, drop=True)\n",
    "\n",
    "    # calculating Average True Range (ATR)\n",
    "    df['prev_close'] = df.groupby('ticker')['close'].shift(1)\n",
    "    df['high_low'] = df['high'] - df['low']\n",
    "    df['high_prev_close'] = (df['high'] - df['prev_close']).abs()\n",
    "    df['low_prev_close'] = (df['low'] - df['prev_close']).abs()\n",
    "    df['TR'] = df[['high_low', 'high_prev_close', 'low_prev_close']].max(axis=1)\n",
    "    df['ATR_5'] = df.groupby('ticker')['TR'].transform(lambda x: x.rolling(window=5).mean())\n",
    "\n",
    "    # dropping the temporary columns we had \n",
    "    df.drop(columns=['prev_close', 'high_low', 'high_prev_close', 'low_prev_close', 'TR'], inplace=True)\n",
    "\n",
    "    return df\n",
    "\n",
    "df_cleaned_cass_features=add_technical_indicators(df_cassandracleaned)\n",
    "display(df_cleaned_cass_features)"
   ]
  },
  {
   "cell_type": "markdown",
   "metadata": {},
   "source": [
    "## real time data: final cleaning \n",
    "Feature engineering introduced new features some of witch now contain nans such as SMA5, RSI5, Bollinger Bonds(BB upper, lower,std,middle), and ATR5. However OBV is 0 since it relies on volume which is not provided by 0. We would need to drop the volume and OBV column since it does not provide us data. However for: SMA_5, RSI_5, BB_Upper/Lower/Std/middle, ATR_5 they all have rollin windows of 5 values. So its suppose to have have NaN values in the first rows. We are not removing outliers since time series stock data rely on drastic changes or spikes."
   ]
  },
  {
   "cell_type": "code",
   "execution_count": 25,
   "metadata": {},
   "outputs": [
    {
     "data": {
      "text/html": [
       "<div>\n",
       "<style scoped>\n",
       "    .dataframe tbody tr th:only-of-type {\n",
       "        vertical-align: middle;\n",
       "    }\n",
       "\n",
       "    .dataframe tbody tr th {\n",
       "        vertical-align: top;\n",
       "    }\n",
       "\n",
       "    .dataframe thead th {\n",
       "        text-align: right;\n",
       "    }\n",
       "</style>\n",
       "<table border=\"1\" class=\"dataframe\">\n",
       "  <thead>\n",
       "    <tr style=\"text-align: right;\">\n",
       "      <th></th>\n",
       "      <th>ticker</th>\n",
       "      <th>date</th>\n",
       "      <th>adj_close</th>\n",
       "      <th>close</th>\n",
       "      <th>high</th>\n",
       "      <th>low</th>\n",
       "      <th>open</th>\n",
       "      <th>previous_close</th>\n",
       "      <th>SMA_5</th>\n",
       "      <th>EMA_5</th>\n",
       "      <th>RSI_5</th>\n",
       "      <th>BB_Middle</th>\n",
       "      <th>BB_Std</th>\n",
       "      <th>BB_Upper</th>\n",
       "      <th>BB_Lower</th>\n",
       "      <th>MACD</th>\n",
       "      <th>MACD_Signal</th>\n",
       "      <th>ATR_5</th>\n",
       "    </tr>\n",
       "  </thead>\n",
       "  <tbody>\n",
       "    <tr>\n",
       "      <th>0</th>\n",
       "      <td>AAPL</td>\n",
       "      <td>2025-04-21 19:03:26</td>\n",
       "      <td>190.64</td>\n",
       "      <td>190.64</td>\n",
       "      <td>193.80</td>\n",
       "      <td>189.8112</td>\n",
       "      <td>193.265</td>\n",
       "      <td>196.98</td>\n",
       "      <td>190.636</td>\n",
       "      <td>190.637037</td>\n",
       "      <td>100.0</td>\n",
       "      <td>190.636</td>\n",
       "      <td>0.005477</td>\n",
       "      <td>190.646954</td>\n",
       "      <td>190.625046</td>\n",
       "      <td>0.001880</td>\n",
       "      <td>0.000704</td>\n",
       "      <td>3.9888</td>\n",
       "    </tr>\n",
       "    <tr>\n",
       "      <th>1</th>\n",
       "      <td>AAPL</td>\n",
       "      <td>2025-04-21 19:03:40</td>\n",
       "      <td>190.64</td>\n",
       "      <td>190.64</td>\n",
       "      <td>193.80</td>\n",
       "      <td>189.8112</td>\n",
       "      <td>193.265</td>\n",
       "      <td>196.98</td>\n",
       "      <td>190.638</td>\n",
       "      <td>190.638025</td>\n",
       "      <td>100.0</td>\n",
       "      <td>190.638</td>\n",
       "      <td>0.004472</td>\n",
       "      <td>190.646944</td>\n",
       "      <td>190.629056</td>\n",
       "      <td>0.002224</td>\n",
       "      <td>0.001008</td>\n",
       "      <td>3.9888</td>\n",
       "    </tr>\n",
       "    <tr>\n",
       "      <th>2</th>\n",
       "      <td>AAPL</td>\n",
       "      <td>2025-04-21 19:03:47</td>\n",
       "      <td>190.64</td>\n",
       "      <td>190.64</td>\n",
       "      <td>193.80</td>\n",
       "      <td>189.8112</td>\n",
       "      <td>193.265</td>\n",
       "      <td>196.98</td>\n",
       "      <td>190.640</td>\n",
       "      <td>190.638683</td>\n",
       "      <td>100.0</td>\n",
       "      <td>190.640</td>\n",
       "      <td>0.000000</td>\n",
       "      <td>190.640000</td>\n",
       "      <td>190.640000</td>\n",
       "      <td>0.002468</td>\n",
       "      <td>0.001300</td>\n",
       "      <td>3.9888</td>\n",
       "    </tr>\n",
       "    <tr>\n",
       "      <th>3</th>\n",
       "      <td>AAPL</td>\n",
       "      <td>2025-04-21 19:03:55</td>\n",
       "      <td>190.64</td>\n",
       "      <td>190.64</td>\n",
       "      <td>193.80</td>\n",
       "      <td>189.8112</td>\n",
       "      <td>193.265</td>\n",
       "      <td>196.98</td>\n",
       "      <td>190.640</td>\n",
       "      <td>190.639122</td>\n",
       "      <td>100.0</td>\n",
       "      <td>190.640</td>\n",
       "      <td>0.000000</td>\n",
       "      <td>190.640000</td>\n",
       "      <td>190.640000</td>\n",
       "      <td>0.002631</td>\n",
       "      <td>0.001566</td>\n",
       "      <td>3.9888</td>\n",
       "    </tr>\n",
       "    <tr>\n",
       "      <th>4</th>\n",
       "      <td>AAPL</td>\n",
       "      <td>2025-04-21 19:04:09</td>\n",
       "      <td>190.74</td>\n",
       "      <td>190.74</td>\n",
       "      <td>193.80</td>\n",
       "      <td>189.8112</td>\n",
       "      <td>193.265</td>\n",
       "      <td>196.98</td>\n",
       "      <td>190.660</td>\n",
       "      <td>190.672748</td>\n",
       "      <td>100.0</td>\n",
       "      <td>190.660</td>\n",
       "      <td>0.044721</td>\n",
       "      <td>190.749443</td>\n",
       "      <td>190.570557</td>\n",
       "      <td>0.010707</td>\n",
       "      <td>0.003394</td>\n",
       "      <td>3.9888</td>\n",
       "    </tr>\n",
       "    <tr>\n",
       "      <th>...</th>\n",
       "      <td>...</td>\n",
       "      <td>...</td>\n",
       "      <td>...</td>\n",
       "      <td>...</td>\n",
       "      <td>...</td>\n",
       "      <td>...</td>\n",
       "      <td>...</td>\n",
       "      <td>...</td>\n",
       "      <td>...</td>\n",
       "      <td>...</td>\n",
       "      <td>...</td>\n",
       "      <td>...</td>\n",
       "      <td>...</td>\n",
       "      <td>...</td>\n",
       "      <td>...</td>\n",
       "      <td>...</td>\n",
       "      <td>...</td>\n",
       "      <td>...</td>\n",
       "    </tr>\n",
       "    <tr>\n",
       "      <th>117</th>\n",
       "      <td>TSLA</td>\n",
       "      <td>2025-04-21 19:05:00</td>\n",
       "      <td>224.56</td>\n",
       "      <td>224.56</td>\n",
       "      <td>232.21</td>\n",
       "      <td>222.7900</td>\n",
       "      <td>230.260</td>\n",
       "      <td>241.37</td>\n",
       "      <td>224.560</td>\n",
       "      <td>224.551435</td>\n",
       "      <td>100.0</td>\n",
       "      <td>224.560</td>\n",
       "      <td>0.000000</td>\n",
       "      <td>224.560000</td>\n",
       "      <td>224.560000</td>\n",
       "      <td>0.073533</td>\n",
       "      <td>0.060727</td>\n",
       "      <td>9.4200</td>\n",
       "    </tr>\n",
       "    <tr>\n",
       "      <th>118</th>\n",
       "      <td>TSLA</td>\n",
       "      <td>2025-04-21 19:05:12</td>\n",
       "      <td>224.66</td>\n",
       "      <td>224.66</td>\n",
       "      <td>232.21</td>\n",
       "      <td>222.7900</td>\n",
       "      <td>230.260</td>\n",
       "      <td>241.37</td>\n",
       "      <td>224.580</td>\n",
       "      <td>224.587623</td>\n",
       "      <td>100.0</td>\n",
       "      <td>224.580</td>\n",
       "      <td>0.044721</td>\n",
       "      <td>224.669443</td>\n",
       "      <td>224.490557</td>\n",
       "      <td>0.080555</td>\n",
       "      <td>0.064693</td>\n",
       "      <td>9.4200</td>\n",
       "    </tr>\n",
       "    <tr>\n",
       "      <th>119</th>\n",
       "      <td>TSLA</td>\n",
       "      <td>2025-04-21 19:05:22</td>\n",
       "      <td>224.66</td>\n",
       "      <td>224.66</td>\n",
       "      <td>232.21</td>\n",
       "      <td>222.7900</td>\n",
       "      <td>230.260</td>\n",
       "      <td>241.37</td>\n",
       "      <td>224.600</td>\n",
       "      <td>224.611749</td>\n",
       "      <td>100.0</td>\n",
       "      <td>224.600</td>\n",
       "      <td>0.054772</td>\n",
       "      <td>224.709545</td>\n",
       "      <td>224.490455</td>\n",
       "      <td>0.085138</td>\n",
       "      <td>0.068782</td>\n",
       "      <td>9.4200</td>\n",
       "    </tr>\n",
       "    <tr>\n",
       "      <th>120</th>\n",
       "      <td>TSLA</td>\n",
       "      <td>2025-04-21 19:05:30</td>\n",
       "      <td>224.66</td>\n",
       "      <td>224.66</td>\n",
       "      <td>232.21</td>\n",
       "      <td>222.7900</td>\n",
       "      <td>230.260</td>\n",
       "      <td>241.37</td>\n",
       "      <td>224.620</td>\n",
       "      <td>224.627833</td>\n",
       "      <td>100.0</td>\n",
       "      <td>224.620</td>\n",
       "      <td>0.054772</td>\n",
       "      <td>224.729545</td>\n",
       "      <td>224.510455</td>\n",
       "      <td>0.087759</td>\n",
       "      <td>0.072577</td>\n",
       "      <td>9.4200</td>\n",
       "    </tr>\n",
       "    <tr>\n",
       "      <th>121</th>\n",
       "      <td>TSLA</td>\n",
       "      <td>2025-04-21 19:05:39</td>\n",
       "      <td>224.66</td>\n",
       "      <td>224.66</td>\n",
       "      <td>232.21</td>\n",
       "      <td>222.7900</td>\n",
       "      <td>230.260</td>\n",
       "      <td>241.37</td>\n",
       "      <td>224.640</td>\n",
       "      <td>224.638555</td>\n",
       "      <td>100.0</td>\n",
       "      <td>224.640</td>\n",
       "      <td>0.044721</td>\n",
       "      <td>224.729443</td>\n",
       "      <td>224.550557</td>\n",
       "      <td>0.088812</td>\n",
       "      <td>0.075824</td>\n",
       "      <td>9.4200</td>\n",
       "    </tr>\n",
       "  </tbody>\n",
       "</table>\n",
       "<p>122 rows × 18 columns</p>\n",
       "</div>"
      ],
      "text/plain": [
       "    ticker                date  adj_close   close    high       low     open  \\\n",
       "0     AAPL 2025-04-21 19:03:26     190.64  190.64  193.80  189.8112  193.265   \n",
       "1     AAPL 2025-04-21 19:03:40     190.64  190.64  193.80  189.8112  193.265   \n",
       "2     AAPL 2025-04-21 19:03:47     190.64  190.64  193.80  189.8112  193.265   \n",
       "3     AAPL 2025-04-21 19:03:55     190.64  190.64  193.80  189.8112  193.265   \n",
       "4     AAPL 2025-04-21 19:04:09     190.74  190.74  193.80  189.8112  193.265   \n",
       "..     ...                 ...        ...     ...     ...       ...      ...   \n",
       "117   TSLA 2025-04-21 19:05:00     224.56  224.56  232.21  222.7900  230.260   \n",
       "118   TSLA 2025-04-21 19:05:12     224.66  224.66  232.21  222.7900  230.260   \n",
       "119   TSLA 2025-04-21 19:05:22     224.66  224.66  232.21  222.7900  230.260   \n",
       "120   TSLA 2025-04-21 19:05:30     224.66  224.66  232.21  222.7900  230.260   \n",
       "121   TSLA 2025-04-21 19:05:39     224.66  224.66  232.21  222.7900  230.260   \n",
       "\n",
       "     previous_close    SMA_5       EMA_5  RSI_5  BB_Middle    BB_Std  \\\n",
       "0            196.98  190.636  190.637037  100.0    190.636  0.005477   \n",
       "1            196.98  190.638  190.638025  100.0    190.638  0.004472   \n",
       "2            196.98  190.640  190.638683  100.0    190.640  0.000000   \n",
       "3            196.98  190.640  190.639122  100.0    190.640  0.000000   \n",
       "4            196.98  190.660  190.672748  100.0    190.660  0.044721   \n",
       "..              ...      ...         ...    ...        ...       ...   \n",
       "117          241.37  224.560  224.551435  100.0    224.560  0.000000   \n",
       "118          241.37  224.580  224.587623  100.0    224.580  0.044721   \n",
       "119          241.37  224.600  224.611749  100.0    224.600  0.054772   \n",
       "120          241.37  224.620  224.627833  100.0    224.620  0.054772   \n",
       "121          241.37  224.640  224.638555  100.0    224.640  0.044721   \n",
       "\n",
       "       BB_Upper    BB_Lower      MACD  MACD_Signal   ATR_5  \n",
       "0    190.646954  190.625046  0.001880     0.000704  3.9888  \n",
       "1    190.646944  190.629056  0.002224     0.001008  3.9888  \n",
       "2    190.640000  190.640000  0.002468     0.001300  3.9888  \n",
       "3    190.640000  190.640000  0.002631     0.001566  3.9888  \n",
       "4    190.749443  190.570557  0.010707     0.003394  3.9888  \n",
       "..          ...         ...       ...          ...     ...  \n",
       "117  224.560000  224.560000  0.073533     0.060727  9.4200  \n",
       "118  224.669443  224.490557  0.080555     0.064693  9.4200  \n",
       "119  224.709545  224.490455  0.085138     0.068782  9.4200  \n",
       "120  224.729545  224.510455  0.087759     0.072577  9.4200  \n",
       "121  224.729443  224.550557  0.088812     0.075824  9.4200  \n",
       "\n",
       "[122 rows x 18 columns]"
      ]
     },
     "metadata": {},
     "output_type": "display_data"
    },
    {
     "name": "stdout",
     "output_type": "stream",
     "text": [
      "Which columns still have null?:\n",
      "ticker            0\n",
      "date              0\n",
      "adj_close         0\n",
      "close             0\n",
      "high              0\n",
      "low               0\n",
      "open              0\n",
      "previous_close    0\n",
      "SMA_5             0\n",
      "EMA_5             0\n",
      "RSI_5             0\n",
      "BB_Middle         0\n",
      "BB_Std            0\n",
      "BB_Upper          0\n",
      "BB_Lower          0\n",
      "MACD              0\n",
      "MACD_Signal       0\n",
      "ATR_5             0\n",
      "dtype: int64\n"
     ]
    }
   ],
   "source": [
    "def final_clean_realtime(df):\n",
    "    # first droppoing OBV and volume since it is not available in finnhub\n",
    "    df = df.drop(columns=['volume', 'OBV'])\n",
    "\n",
    "    #to remedy the remaining nulls we are applying forward fill \n",
    "    rolling_cols = ['SMA_5', 'EMA_5', 'RSI_5', 'BB_Middle', 'BB_Std', 'BB_Upper', 'BB_Lower', 'ATR_5']\n",
    "    df[rolling_cols] = df[rolling_cols].ffill()\n",
    "\n",
    "    #dropping the remaining nans that are not able to be forward filled\n",
    "    df = df.dropna(subset=rolling_cols).reset_index(drop=True)\n",
    "\n",
    "    return df\n",
    "\n",
    "df_cass_final = final_clean_realtime(df_cleaned_cass_features)\n",
    "display(df_cass_final)\n",
    "print('Which columns still have null?:')\n",
    "print(df_cass_final.isnull().sum())"
   ]
  },
  {
   "cell_type": "markdown",
   "metadata": {},
   "source": [
    "### Analysis: We should keep NaNs during modeling prep later on since the remaining nans are only from rolling basis which is needed for our rolling features such as (SMA_5RSI_5,BB_Middle,BB_Std,BB_Upper,BB_Lower,ATR_5) to formulate a data point.\n",
    "\n",
    "### We should drop or fill NaNs only for visualization, or use .dropna() just before plotting specific columns that require to have full rows without nans"
   ]
  },
  {
   "cell_type": "markdown",
   "metadata": {},
   "source": [
    "## Exploratory Data Analysis"
   ]
  },
  {
   "cell_type": "code",
   "execution_count": 27,
   "metadata": {},
   "outputs": [
    {
     "data": {
      "application/vnd.plotly.v1+json": {
       "config": {
        "plotlyServerURL": "https://plot.ly"
       },
       "data": [
        {
         "legendgroup": "AAPL",
         "line": {
          "color": "blue"
         },
         "mode": "lines+markers",
         "name": "Close",
         "showlegend": true,
         "type": "scatter",
         "x": [
          "2025-04-21T19:03:26.000000000",
          "2025-04-21T19:03:40.000000000",
          "2025-04-21T19:03:47.000000000",
          "2025-04-21T19:03:55.000000000",
          "2025-04-21T19:04:09.000000000",
          "2025-04-21T19:04:17.000000000",
          "2025-04-21T19:04:30.000000000",
          "2025-04-21T19:04:38.000000000",
          "2025-04-21T19:04:51.000000000",
          "2025-04-21T19:05:00.000000000",
          "2025-04-21T19:05:08.000000000",
          "2025-04-21T19:05:20.000000000",
          "2025-04-21T19:05:29.000000000",
          "2025-04-21T19:05:42.000000000"
         ],
         "xaxis": "x",
         "y": {
          "bdata": "FK5H4XrUZ0AUrkfhetRnQBSuR+F61GdAFK5H4XrUZ0BI4XoUrtdnQEjhehSu12dASOF6FK7XZ0BI4XoUrtdnQEjhehSu12dASOF6FK7XZ0DsUbgehddnQOxRuB6F12dA7FG4HoXXZ0DsUbgehddnQA==",
          "dtype": "f8"
         },
         "yaxis": "y"
        },
        {
         "legendgroup": "AAPL",
         "line": {
          "color": "orange",
          "dash": "dash"
         },
         "mode": "lines+markers",
         "name": "SMA_5",
         "showlegend": true,
         "type": "scatter",
         "x": [
          "2025-04-21T19:03:26.000000000",
          "2025-04-21T19:03:40.000000000",
          "2025-04-21T19:03:47.000000000",
          "2025-04-21T19:03:55.000000000",
          "2025-04-21T19:04:09.000000000",
          "2025-04-21T19:04:17.000000000",
          "2025-04-21T19:04:30.000000000",
          "2025-04-21T19:04:38.000000000",
          "2025-04-21T19:04:51.000000000",
          "2025-04-21T19:05:00.000000000",
          "2025-04-21T19:05:08.000000000",
          "2025-04-21T19:05:20.000000000",
          "2025-04-21T19:05:29.000000000",
          "2025-04-21T19:05:42.000000000"
         ],
         "xaxis": "x",
         "y": {
          "bdata": "MQisHFrUZ0Ai2/l+atRnQBSuR+F61GdAFK5H4XrUZ0CF61G4HtVnQPYoXI/C1WdAZmZmZmbWZ0DXo3A9CtdnQEjhehSu12dASOF6FK7XZ0DP91PjpddnQFYOLbKd12dA3iQGgZXXZ0BlO99PjddnQA==",
          "dtype": "f8"
         },
         "yaxis": "y"
        },
        {
         "legendgroup": "AAPL",
         "line": {
          "color": "green",
          "dash": "dot"
         },
         "mode": "lines+markers",
         "name": "EMA_5",
         "showlegend": true,
         "type": "scatter",
         "x": [
          "2025-04-21T19:03:26.000000000",
          "2025-04-21T19:03:40.000000000",
          "2025-04-21T19:03:47.000000000",
          "2025-04-21T19:03:55.000000000",
          "2025-04-21T19:04:09.000000000",
          "2025-04-21T19:04:17.000000000",
          "2025-04-21T19:04:30.000000000",
          "2025-04-21T19:04:38.000000000",
          "2025-04-21T19:04:51.000000000",
          "2025-04-21T19:05:00.000000000",
          "2025-04-21T19:05:08.000000000",
          "2025-04-21T19:05:20.000000000",
          "2025-04-21T19:05:29.000000000",
          "2025-04-21T19:05:42.000000000"
         ],
         "xaxis": "x",
         "y": {
          "bdata": "Rg1/m2LUZ0CL7cGyatRnQLktmRdw1GdA2K0osHPUZ0D+vu4mh9VnQGzKcss+1mdAYCcgObnWZ0CuupPXCtdnQOIcNkFB12dAWl6ih2XXZ0A2WlQPcNdnQMisdRR312dA1OOLwnvXZ0DcXUXhftdnQA==",
          "dtype": "f8"
         },
         "yaxis": "y"
        },
        {
         "legendgroup": "MSFT",
         "line": {
          "color": "blue"
         },
         "mode": "lines+markers",
         "name": "Close",
         "showlegend": false,
         "type": "scatter",
         "x": [
          "2025-04-21T19:02:45.000000000",
          "2025-04-21T19:02:58.000000000",
          "2025-04-21T19:03:07.000000000",
          "2025-04-21T19:03:19.000000000",
          "2025-04-21T19:03:24.000000000",
          "2025-04-21T19:03:39.000000000",
          "2025-04-21T19:03:44.000000000",
          "2025-04-21T19:03:53.000000000",
          "2025-04-21T19:04:09.000000000",
          "2025-04-21T19:04:17.000000000",
          "2025-04-21T19:04:30.000000000",
          "2025-04-21T19:04:38.000000000",
          "2025-04-21T19:04:51.000000000",
          "2025-04-21T19:05:00.000000000",
          "2025-04-21T19:05:12.000000000",
          "2025-04-21T19:05:20.000000000",
          "2025-04-21T19:05:28.000000000",
          "2025-04-21T19:05:35.000000000"
         ],
         "xaxis": "x2",
         "y": {
          "bdata": "UrgehetFdkBSuB6F60V2QArXo3A9SnZACtejcD1KdkAK16NwPUp2QArXo3A9SnZACtejcD1KdkAK16NwPUp2QEjhehSuR3ZASOF6FK5HdkBI4XoUrkd2QEjhehSuR3ZASOF6FK5HdkBI4XoUrkd2QPYoXI/CSXZA9ihcj8JJdkD2KFyPwkl2QPYoXI/CSXZA",
          "dtype": "f8"
         },
         "yaxis": "y2"
        },
        {
         "legendgroup": "MSFT",
         "line": {
          "color": "orange",
          "dash": "dash"
         },
         "mode": "lines+markers",
         "name": "SMA_5",
         "showlegend": false,
         "type": "scatter",
         "x": [
          "2025-04-21T19:02:45.000000000",
          "2025-04-21T19:02:58.000000000",
          "2025-04-21T19:03:07.000000000",
          "2025-04-21T19:03:19.000000000",
          "2025-04-21T19:03:24.000000000",
          "2025-04-21T19:03:39.000000000",
          "2025-04-21T19:03:44.000000000",
          "2025-04-21T19:03:53.000000000",
          "2025-04-21T19:04:09.000000000",
          "2025-04-21T19:04:17.000000000",
          "2025-04-21T19:04:30.000000000",
          "2025-04-21T19:04:38.000000000",
          "2025-04-21T19:04:51.000000000",
          "2025-04-21T19:05:00.000000000",
          "2025-04-21T19:05:12.000000000",
          "2025-04-21T19:05:20.000000000",
          "2025-04-21T19:05:28.000000000",
          "2025-04-21T19:05:35.000000000"
         ],
         "xaxis": "x2",
         "y": {
          "bdata": "SzeJQWBBfkBLN4lBYEF+QEs3iUFgQX5ASzeJQWBBfkCNl24Sg0h2QEw3iUFgSXZACtejcD1KdkAK16NwPUp2QH0/NV66SXZA8KfGSzdJdkBiEFg5tEh2QNV46SYxSHZASOF6FK5HdkBI4XoUrkd2QGu8dJMYSHZAjpduEoNIdkCwcmiR7Uh2QNNNYhBYSXZA",
          "dtype": "f8"
         },
         "yaxis": "y2"
        },
        {
         "legendgroup": "MSFT",
         "line": {
          "color": "green",
          "dash": "dot"
         },
         "mode": "lines+markers",
         "name": "EMA_5",
         "showlegend": false,
         "type": "scatter",
         "x": [
          "2025-04-21T19:02:45.000000000",
          "2025-04-21T19:02:58.000000000",
          "2025-04-21T19:03:07.000000000",
          "2025-04-21T19:03:19.000000000",
          "2025-04-21T19:03:24.000000000",
          "2025-04-21T19:03:39.000000000",
          "2025-04-21T19:03:44.000000000",
          "2025-04-21T19:03:53.000000000",
          "2025-04-21T19:04:09.000000000",
          "2025-04-21T19:04:17.000000000",
          "2025-04-21T19:04:30.000000000",
          "2025-04-21T19:04:38.000000000",
          "2025-04-21T19:04:51.000000000",
          "2025-04-21T19:05:00.000000000",
          "2025-04-21T19:05:12.000000000",
          "2025-04-21T19:05:20.000000000",
          "2025-04-21T19:05:28.000000000",
          "2025-04-21T19:05:35.000000000"
         ],
         "xaxis": "x2",
         "y": {
          "bdata": "UrgehetFdkBSuB6F60V2QJDC9ShcR3ZAuR6F61FIdkAqXI/C9Uh2QMovlvxiSXZANRLwzatJdkDSU4FZ3El2QKQtf0IiSXZAhmkoM6ZIdkDH5kN+U0h2QPLkAFscSHZADznUmPdHdkDNG2EX30d2QIZ1Xz+ASHZAAVxer+tIdkBToF1PM0l2QDQjXQ9jSXZA",
          "dtype": "f8"
         },
         "yaxis": "y2"
        },
        {
         "legendgroup": "AMZN",
         "line": {
          "color": "blue"
         },
         "mode": "lines+markers",
         "name": "Close",
         "showlegend": false,
         "type": "scatter",
         "x": [
          "2025-04-21T19:02:45.000000000",
          "2025-04-21T19:02:58.000000000",
          "2025-04-21T19:03:07.000000000",
          "2025-04-21T19:03:18.000000000",
          "2025-04-21T19:03:24.000000000",
          "2025-04-21T19:03:39.000000000",
          "2025-04-21T19:03:47.000000000",
          "2025-04-21T19:03:56.000000000",
          "2025-04-21T19:04:09.000000000",
          "2025-04-21T19:04:17.000000000",
          "2025-04-21T19:04:30.000000000",
          "2025-04-21T19:04:38.000000000",
          "2025-04-21T19:04:50.000000000",
          "2025-04-21T19:05:00.000000000",
          "2025-04-21T19:05:12.000000000",
          "2025-04-21T19:05:21.000000000",
          "2025-04-21T19:05:30.000000000",
          "2025-04-21T19:05:38.000000000"
         ],
         "xaxis": "x3",
         "y": {
          "bdata": "UrgeheuxZEBSuB6F67FkQFyPwvUotGRAXI/C9Si0ZEBcj8L1KLRkQFyPwvUotGRAXI/C9Si0ZEBcj8L1KLRkQHWTGARWtmRAdZMYBFa2ZEB1kxgEVrZkQHWTGARWtmRAdZMYBFa2ZEB1kxgEVrZkQClcj8L1uGRAKVyPwvW4ZEApXI/C9bhkQClcj8L1uGRA",
          "dtype": "f8"
         },
         "yaxis": "y3"
        },
        {
         "legendgroup": "AMZN",
         "line": {
          "color": "orange",
          "dash": "dash"
         },
         "mode": "lines+markers",
         "name": "SMA_5",
         "showlegend": false,
         "type": "scatter",
         "x": [
          "2025-04-21T19:02:45.000000000",
          "2025-04-21T19:02:58.000000000",
          "2025-04-21T19:03:07.000000000",
          "2025-04-21T19:03:18.000000000",
          "2025-04-21T19:03:24.000000000",
          "2025-04-21T19:03:39.000000000",
          "2025-04-21T19:03:47.000000000",
          "2025-04-21T19:03:56.000000000",
          "2025-04-21T19:04:09.000000000",
          "2025-04-21T19:04:17.000000000",
          "2025-04-21T19:04:30.000000000",
          "2025-04-21T19:04:38.000000000",
          "2025-04-21T19:04:50.000000000",
          "2025-04-21T19:05:00.000000000",
          "2025-04-21T19:05:12.000000000",
          "2025-04-21T19:05:21.000000000",
          "2025-04-21T19:05:30.000000000",
          "2025-04-21T19:05:38.000000000"
         ],
         "xaxis": "x3",
         "y": {
          "bdata": "ZTvfT43XZ0BlO99PjddnQGU730+N12dAZTvfT43XZ0AlBoGVQ7NkQMHKoUW2s2RAXI/C9Si0ZEBcj8L1KLRkQJT2Bl+YtGRAzV1LyAe1ZEAFxY8xd7VkQD0s1JrmtWRAdZMYBFa2ZEB1kxgEVrZkQGaIY13ctmRAVn2utmK3ZEBHcvkP6bdkQDhnRGlvuGRA",
          "dtype": "f8"
         },
         "yaxis": "y3"
        },
        {
         "legendgroup": "AMZN",
         "line": {
          "color": "green",
          "dash": "dot"
         },
         "mode": "lines+markers",
         "name": "EMA_5",
         "showlegend": false,
         "type": "scatter",
         "x": [
          "2025-04-21T19:02:45.000000000",
          "2025-04-21T19:02:58.000000000",
          "2025-04-21T19:03:07.000000000",
          "2025-04-21T19:03:18.000000000",
          "2025-04-21T19:03:24.000000000",
          "2025-04-21T19:03:39.000000000",
          "2025-04-21T19:03:47.000000000",
          "2025-04-21T19:03:56.000000000",
          "2025-04-21T19:04:09.000000000",
          "2025-04-21T19:04:17.000000000",
          "2025-04-21T19:04:30.000000000",
          "2025-04-21T19:04:38.000000000",
          "2025-04-21T19:04:50.000000000",
          "2025-04-21T19:05:00.000000000",
          "2025-04-21T19:05:12.000000000",
          "2025-04-21T19:05:21.000000000",
          "2025-04-21T19:05:30.000000000",
          "2025-04-21T19:05:38.000000000"
         ],
         "xaxis": "x3",
         "y": {
          "bdata": "UrgeheuxZEBSuB6F67FkQKuqqqqqsmRA5vYHGSqzZEC4KUYNf7NkQJpLGrC3s2RA2wz9cd2zZECxjemd9rNkQJ2PThXBtGRAO+aRD0i1ZECkyr4LorVkQJUNMgnetWRA4OR+Bwa2ZEBndAexILZkQP0WimESt2RADC7hgbO3ZEAW6MXsHrhkQB1kXolmuGRA",
          "dtype": "f8"
         },
         "yaxis": "y3"
        },
        {
         "legendgroup": "GOOGL",
         "line": {
          "color": "blue"
         },
         "mode": "lines+markers",
         "name": "Close",
         "showlegend": false,
         "type": "scatter",
         "x": [
          "2025-04-21T19:02:45.000000000",
          "2025-04-21T19:02:58.000000000",
          "2025-04-21T19:03:07.000000000",
          "2025-04-21T19:03:19.000000000",
          "2025-04-21T19:03:24.000000000",
          "2025-04-21T19:03:40.000000000",
          "2025-04-21T19:03:48.000000000",
          "2025-04-21T19:03:54.000000000",
          "2025-04-21T19:04:09.000000000",
          "2025-04-21T19:04:18.000000000",
          "2025-04-21T19:04:29.000000000",
          "2025-04-21T19:04:38.000000000",
          "2025-04-21T19:04:51.000000000",
          "2025-04-21T19:04:59.000000000",
          "2025-04-21T19:05:08.000000000",
          "2025-04-21T19:05:21.000000000",
          "2025-04-21T19:05:30.000000000",
          "2025-04-21T19:05:37.000000000"
         ],
         "xaxis": "x4",
         "y": {
          "bdata": "bcX+sntMYkBtxf6ye0xiQGZmZmZmTmJAZmZmZmZOYkBmZmZmZk5iQGZmZmZmTmJAZmZmZmZOYkBmZmZmZk5iQAAAAAAAUGJAAAAAAABQYkAAAAAAAFBiQAAAAAAAUGJAAAAAAABQYkAAAAAAAFBiQI/C9ShcT2JAj8L1KFxPYkCPwvUoXE9iQI/C9ShcT2JA",
          "dtype": "f8"
         },
         "yaxis": "y4"
        },
        {
         "legendgroup": "GOOGL",
         "line": {
          "color": "orange",
          "dash": "dash"
         },
         "mode": "lines+markers",
         "name": "SMA_5",
         "showlegend": false,
         "type": "scatter",
         "x": [
          "2025-04-21T19:02:45.000000000",
          "2025-04-21T19:02:58.000000000",
          "2025-04-21T19:03:07.000000000",
          "2025-04-21T19:03:19.000000000",
          "2025-04-21T19:03:24.000000000",
          "2025-04-21T19:03:40.000000000",
          "2025-04-21T19:03:48.000000000",
          "2025-04-21T19:03:54.000000000",
          "2025-04-21T19:04:09.000000000",
          "2025-04-21T19:04:18.000000000",
          "2025-04-21T19:04:29.000000000",
          "2025-04-21T19:04:38.000000000",
          "2025-04-21T19:04:51.000000000",
          "2025-04-21T19:04:59.000000000",
          "2025-04-21T19:05:08.000000000",
          "2025-04-21T19:05:21.000000000",
          "2025-04-21T19:05:30.000000000",
          "2025-04-21T19:05:37.000000000"
         ],
         "xaxis": "x4",
         "y": {
          "bdata": "OGdEaW+4ZEA4Z0Rpb7hkQDhnRGlvuGRAOGdEaW+4ZEA2WaMeok1iQM7fhEIETmJAZmZmZmZOYkBmZmZmZk5iQB6F61G4TmJA1qNwPQpPYkCOwvUoXE9iQEjhehSuT2JAAAAAAABQYkAAAAAAAFBiQBxaZDvfT2JAOrTIdr5PYkBWDi2ynU9iQHNoke18T2JA",
          "dtype": "f8"
         },
         "yaxis": "y4"
        },
        {
         "legendgroup": "GOOGL",
         "line": {
          "color": "green",
          "dash": "dot"
         },
         "mode": "lines+markers",
         "name": "EMA_5",
         "showlegend": false,
         "type": "scatter",
         "x": [
          "2025-04-21T19:02:45.000000000",
          "2025-04-21T19:02:58.000000000",
          "2025-04-21T19:03:07.000000000",
          "2025-04-21T19:03:19.000000000",
          "2025-04-21T19:03:24.000000000",
          "2025-04-21T19:03:40.000000000",
          "2025-04-21T19:03:48.000000000",
          "2025-04-21T19:03:54.000000000",
          "2025-04-21T19:04:09.000000000",
          "2025-04-21T19:04:18.000000000",
          "2025-04-21T19:04:29.000000000",
          "2025-04-21T19:04:38.000000000",
          "2025-04-21T19:04:51.000000000",
          "2025-04-21T19:04:59.000000000",
          "2025-04-21T19:05:08.000000000",
          "2025-04-21T19:05:21.000000000",
          "2025-04-21T19:05:30.000000000",
          "2025-04-21T19:05:37.000000000"
         ],
         "xaxis": "x4",
         "y": {
          "bdata": "bcX+sntMYkBtxf6ye0xiQGtQIUQfTWJAFK2NT4xNYkDa6tUB1U1iQLS+sHgFTmJA8EvtxyVOYkAYqhVSO05iQBAcuTbSTmJAthImzzZPYkAkt27feU9iQBh69JSmT2JAu6ZNY8RPYkB9xDNC2E9iQINudOSuT2JAh4qfUJNPYkA1nRHugE9iQKmpXax0T2JA",
          "dtype": "f8"
         },
         "yaxis": "y4"
        },
        {
         "legendgroup": "META",
         "line": {
          "color": "blue"
         },
         "mode": "lines+markers",
         "name": "Close",
         "showlegend": false,
         "type": "scatter",
         "x": [
          "2025-04-21T19:02:49.000000000",
          "2025-04-21T19:02:58.000000000",
          "2025-04-21T19:03:07.000000000",
          "2025-04-21T19:03:19.000000000",
          "2025-04-21T19:03:25.000000000",
          "2025-04-21T19:03:34.000000000",
          "2025-04-21T19:03:43.000000000",
          "2025-04-21T19:03:51.000000000",
          "2025-04-21T19:04:06.000000000",
          "2025-04-21T19:04:16.000000000",
          "2025-04-21T19:04:30.000000000",
          "2025-04-21T19:04:36.000000000",
          "2025-04-21T19:04:42.000000000",
          "2025-04-21T19:04:59.000000000",
          "2025-04-21T19:05:08.000000000",
          "2025-04-21T19:05:21.000000000",
          "2025-04-21T19:05:27.000000000",
          "2025-04-21T19:05:37.000000000"
         ],
         "xaxis": "x5",
         "y": {
          "bdata": "7FG4HoU/fkDsUbgehT9+QKRwPQrXP35ApHA9Ctc/fkCkcD0K1z9+QKRwPQrXP35ApHA9Ctc/fkCkcD0K1z9+QNejcD0KQ35A16NwPQpDfkDXo3A9CkN+QNejcD0KQ35A16NwPQpDfkDXo3A9CkN+QClcj8L1QH5AKVyPwvVAfkApXI/C9UB+QClcj8L1QH5A",
          "dtype": "f8"
         },
         "yaxis": "y5"
        },
        {
         "legendgroup": "META",
         "line": {
          "color": "orange",
          "dash": "dash"
         },
         "mode": "lines+markers",
         "name": "SMA_5",
         "showlegend": false,
         "type": "scatter",
         "x": [
          "2025-04-21T19:02:49.000000000",
          "2025-04-21T19:02:58.000000000",
          "2025-04-21T19:03:07.000000000",
          "2025-04-21T19:03:19.000000000",
          "2025-04-21T19:03:25.000000000",
          "2025-04-21T19:03:34.000000000",
          "2025-04-21T19:03:43.000000000",
          "2025-04-21T19:03:51.000000000",
          "2025-04-21T19:04:06.000000000",
          "2025-04-21T19:04:16.000000000",
          "2025-04-21T19:04:30.000000000",
          "2025-04-21T19:04:36.000000000",
          "2025-04-21T19:04:42.000000000",
          "2025-04-21T19:04:59.000000000",
          "2025-04-21T19:05:08.000000000",
          "2025-04-21T19:05:21.000000000",
          "2025-04-21T19:05:27.000000000",
          "2025-04-21T19:05:37.000000000"
         ],
         "xaxis": "x5",
         "y": {
          "bdata": "c2iR7XxPYkBzaJHtfE9iQHNoke18T2JAc2iR7XxPYkDAyqFFtj9+QLOd76fGP35ApHA9Ctc/fkCkcD0K1z9+QBWuR+F6QH5AhetRuB5BfkD2KFyPwkF+QGZmZmZmQn5A16NwPQpDfkDXo3A9CkN+QLPIdr6fQn5Aku18PzVCfkBuEoPAykF+QEs3iUFgQX5A",
          "dtype": "f8"
         },
         "yaxis": "y5"
        },
        {
         "legendgroup": "META",
         "line": {
          "color": "green",
          "dash": "dot"
         },
         "mode": "lines+markers",
         "name": "EMA_5",
         "showlegend": false,
         "type": "scatter",
         "x": [
          "2025-04-21T19:02:49.000000000",
          "2025-04-21T19:02:58.000000000",
          "2025-04-21T19:03:07.000000000",
          "2025-04-21T19:03:19.000000000",
          "2025-04-21T19:03:25.000000000",
          "2025-04-21T19:03:34.000000000",
          "2025-04-21T19:03:43.000000000",
          "2025-04-21T19:03:51.000000000",
          "2025-04-21T19:04:06.000000000",
          "2025-04-21T19:04:16.000000000",
          "2025-04-21T19:04:30.000000000",
          "2025-04-21T19:04:36.000000000",
          "2025-04-21T19:04:42.000000000",
          "2025-04-21T19:04:59.000000000",
          "2025-04-21T19:05:08.000000000",
          "2025-04-21T19:05:21.000000000",
          "2025-04-21T19:05:27.000000000",
          "2025-04-21T19:05:37.000000000"
         ],
         "xaxis": "x5",
         "y": {
          "bdata": "7FG4HoU/fkDsUbgehT9+QNQGOm2gP35Ab3+QobI/fkDWz3TEvj9+QBuwt9vGP35ASfCOQMw/fkBocB7Zzz9+QI2B5E/jQH5A+4xo9JpBfkDv6RViFUJ+QD19iQBnQn5Acd8rap1CfkDpIJiwwUJ+QFTfP2EoQn5ARl5aLMJBfkDnshYJfkF+QFPrPpxQQX5A",
          "dtype": "f8"
         },
         "yaxis": "y5"
        },
        {
         "legendgroup": "TSLA",
         "line": {
          "color": "blue"
         },
         "mode": "lines+markers",
         "name": "Close",
         "showlegend": false,
         "type": "scatter",
         "x": [
          "2025-04-21T19:02:49.000000000",
          "2025-04-21T19:02:58.000000000",
          "2025-04-21T19:03:07.000000000",
          "2025-04-21T19:03:19.000000000",
          "2025-04-21T19:03:26.000000000",
          "2025-04-21T19:03:39.000000000",
          "2025-04-21T19:03:48.000000000",
          "2025-04-21T19:03:56.000000000",
          "2025-04-21T19:04:09.000000000",
          "2025-04-21T19:04:18.000000000",
          "2025-04-21T19:04:30.000000000",
          "2025-04-21T19:04:38.000000000",
          "2025-04-21T19:04:51.000000000",
          "2025-04-21T19:05:00.000000000",
          "2025-04-21T19:05:12.000000000",
          "2025-04-21T19:05:22.000000000",
          "2025-04-21T19:05:30.000000000",
          "2025-04-21T19:05:39.000000000"
         ],
         "xaxis": "x6",
         "y": {
          "bdata": "KVyPwvUIbEApXI/C9QhsQI/C9ShcD2xAj8L1KFwPbECPwvUoXA9sQI/C9ShcD2xAj8L1KFwPbECPwvUoXA9sQFK4HoXrEWxAUrgehesRbEBSuB6F6xFsQFK4HoXrEWxAUrgehesRbEBSuB6F6xFsQIXrUbgeFWxAhetRuB4VbECF61G4HhVsQIXrUbgeFWxA",
          "dtype": "f8"
         },
         "yaxis": "y6"
        },
        {
         "legendgroup": "TSLA",
         "line": {
          "color": "orange",
          "dash": "dash"
         },
         "mode": "lines+markers",
         "name": "SMA_5",
         "showlegend": false,
         "type": "scatter",
         "x": [
          "2025-04-21T19:02:49.000000000",
          "2025-04-21T19:02:58.000000000",
          "2025-04-21T19:03:07.000000000",
          "2025-04-21T19:03:19.000000000",
          "2025-04-21T19:03:26.000000000",
          "2025-04-21T19:03:39.000000000",
          "2025-04-21T19:03:48.000000000",
          "2025-04-21T19:03:56.000000000",
          "2025-04-21T19:04:09.000000000",
          "2025-04-21T19:04:18.000000000",
          "2025-04-21T19:04:30.000000000",
          "2025-04-21T19:04:38.000000000",
          "2025-04-21T19:04:51.000000000",
          "2025-04-21T19:05:00.000000000",
          "2025-04-21T19:05:12.000000000",
          "2025-04-21T19:05:22.000000000",
          "2025-04-21T19:05:30.000000000",
          "2025-04-21T19:05:39.000000000"
         ],
         "xaxis": "x6",
         "y": {
          "bdata": "9iNFZFjpV0D2I0VkWOlXQPYjRWRY6VdA9iNFZFjpV0DNzMzMzAxsQK5H4XoUDmxAj8L1KFwPbECPwvUoXA9sQB1aZDvfD2xAqvHSTWIQbEA2iUFg5RBsQMUgsHJoEWxAUrgehesRbEBSuB6F6xFsQMP1KFyPEmxAMzMzMzMTbECjcD0K1xNsQBWuR+F6FGxA",
          "dtype": "f8"
         },
         "yaxis": "y6"
        },
        {
         "legendgroup": "TSLA",
         "line": {
          "color": "green",
          "dash": "dot"
         },
         "mode": "lines+markers",
         "name": "EMA_5",
         "showlegend": false,
         "type": "scatter",
         "x": [
          "2025-04-21T19:02:49.000000000",
          "2025-04-21T19:02:58.000000000",
          "2025-04-21T19:03:07.000000000",
          "2025-04-21T19:03:19.000000000",
          "2025-04-21T19:03:26.000000000",
          "2025-04-21T19:03:39.000000000",
          "2025-04-21T19:03:48.000000000",
          "2025-04-21T19:03:56.000000000",
          "2025-04-21T19:04:09.000000000",
          "2025-04-21T19:04:18.000000000",
          "2025-04-21T19:04:30.000000000",
          "2025-04-21T19:04:38.000000000",
          "2025-04-21T19:04:51.000000000",
          "2025-04-21T19:05:00.000000000",
          "2025-04-21T19:05:12.000000000",
          "2025-04-21T19:05:22.000000000",
          "2025-04-21T19:05:30.000000000",
          "2025-04-21T19:05:39.000000000"
         ],
         "xaxis": "x6",
         "y": {
          "bdata": "KVyPwvUIbEApXI/C9QhsQEt+seQXC2xAYupy+4MMbEBxMkm1dg1sQNG3goYYDmxAZrtTZ4QObEDJvYlSzA5sQKJmu7jWD2xAMtcxUogQbEDozIC4/hBsQGEbYKdNEWxAB6WfRoIRbEB2q3RbpRFsQHtrvs/NEmxA1ECacpMTbEBlJII0FxRsQBu8HAtvFGxA",
          "dtype": "f8"
         },
         "yaxis": "y6"
        },
        {
         "legendgroup": "NVDA",
         "line": {
          "color": "blue"
         },
         "mode": "lines+markers",
         "name": "Close",
         "showlegend": false,
         "type": "scatter",
         "x": [
          "2025-04-21T19:02:44.000000000",
          "2025-04-21T19:02:58.000000000",
          "2025-04-21T19:03:06.000000000",
          "2025-04-21T19:03:19.000000000",
          "2025-04-21T19:03:27.000000000",
          "2025-04-21T19:03:40.000000000",
          "2025-04-21T19:03:48.000000000",
          "2025-04-21T19:03:56.000000000",
          "2025-04-21T19:04:09.000000000",
          "2025-04-21T19:04:17.000000000",
          "2025-04-21T19:04:30.000000000",
          "2025-04-21T19:04:38.000000000",
          "2025-04-21T19:04:51.000000000",
          "2025-04-21T19:05:00.000000000",
          "2025-04-21T19:05:12.000000000",
          "2025-04-21T19:05:21.000000000",
          "2025-04-21T19:05:30.000000000",
          "2025-04-21T19:05:43.000000000"
         ],
         "xaxis": "x7",
         "y": {
          "bdata": "MzMzMzPjV0AzMzMzM+NXQDcawFsg5VdANxrAWyDlV0A3GsBbIOVXQDcawFsg5VdANxrAWyDlV0A3GsBbIOVXQInS3uAL51dAidLe4AvnV0CJ0t7gC+dXQInS3uAL51dAidLe4AvnV0CJ0t7gC+dXQFK4HoXr6VdAUrgehevpV0BSuB6F6+lXQFK4HoXr6VdA",
          "dtype": "f8"
         },
         "yaxis": "y7"
        },
        {
         "legendgroup": "NVDA",
         "line": {
          "color": "orange",
          "dash": "dash"
         },
         "mode": "lines+markers",
         "name": "SMA_5",
         "showlegend": false,
         "type": "scatter",
         "x": [
          "2025-04-21T19:02:44.000000000",
          "2025-04-21T19:02:58.000000000",
          "2025-04-21T19:03:06.000000000",
          "2025-04-21T19:03:19.000000000",
          "2025-04-21T19:03:27.000000000",
          "2025-04-21T19:03:40.000000000",
          "2025-04-21T19:03:48.000000000",
          "2025-04-21T19:03:56.000000000",
          "2025-04-21T19:04:09.000000000",
          "2025-04-21T19:04:17.000000000",
          "2025-04-21T19:04:30.000000000",
          "2025-04-21T19:04:38.000000000",
          "2025-04-21T19:04:51.000000000",
          "2025-04-21T19:05:00.000000000",
          "2025-04-21T19:05:12.000000000",
          "2025-04-21T19:05:21.000000000",
          "2025-04-21T19:05:30.000000000",
          "2025-04-21T19:05:43.000000000"
         ],
         "xaxis": "x7",
         "y": {
          "bdata": "001iEFhJdkDTTWIQWEl2QNNNYhBYSXZA001iEFhJdkCcilQYW+RXQGpSCrq95FdANxrAWyDlV0A3GsBbIOVXQOELk6mC5VdAi/1l9+TlV0A17zhFR+ZXQN/gC5Op5ldAidLe4AvnV0CJ0t7gC+dXQOVmuAGf51dAQPuRIjLoV0Cbj2tDxehXQPYjRWRY6VdA",
          "dtype": "f8"
         },
         "yaxis": "y7"
        },
        {
         "legendgroup": "NVDA",
         "line": {
          "color": "green",
          "dash": "dot"
         },
         "mode": "lines+markers",
         "name": "EMA_5",
         "showlegend": false,
         "type": "scatter",
         "x": [
          "2025-04-21T19:02:44.000000000",
          "2025-04-21T19:02:58.000000000",
          "2025-04-21T19:03:06.000000000",
          "2025-04-21T19:03:19.000000000",
          "2025-04-21T19:03:27.000000000",
          "2025-04-21T19:03:40.000000000",
          "2025-04-21T19:03:48.000000000",
          "2025-04-21T19:03:56.000000000",
          "2025-04-21T19:04:09.000000000",
          "2025-04-21T19:04:17.000000000",
          "2025-04-21T19:04:30.000000000",
          "2025-04-21T19:04:38.000000000",
          "2025-04-21T19:04:51.000000000",
          "2025-04-21T19:05:00.000000000",
          "2025-04-21T19:05:12.000000000",
          "2025-04-21T19:05:21.000000000",
          "2025-04-21T19:05:30.000000000",
          "2025-04-21T19:05:43.000000000"
         ],
         "xaxis": "x7",
         "y": {
          "bdata": "MzMzMzPjV0AzMzMzM+NXQIrVDJbX41dAGZdILUXkV0DOwsU8juRXQPHfw/G+5FdAs0htat/kV0CKjjMQ9eRXQIr6wVWn5VdA35fLLh7mV0AYVidqbeZXQJN/ZDyi5ldAkPA3c8XmV0DjOxrt3OZXQAgQccrh51dAdp1Vs4/oV0DA++2jA+lXQJw6/u5Q6VdA",
          "dtype": "f8"
         },
         "yaxis": "y7"
        }
       ],
       "layout": {
        "annotations": [
         {
          "font": {
           "size": 16
          },
          "showarrow": false,
          "text": "AAPL",
          "x": 0.14444444444444446,
          "xanchor": "center",
          "xref": "paper",
          "y": 1,
          "yanchor": "bottom",
          "yref": "paper"
         },
         {
          "font": {
           "size": 16
          },
          "showarrow": false,
          "text": "MSFT",
          "x": 0.5,
          "xanchor": "center",
          "xref": "paper",
          "y": 1,
          "yanchor": "bottom",
          "yref": "paper"
         },
         {
          "font": {
           "size": 16
          },
          "showarrow": false,
          "text": "AMZN",
          "x": 0.8555555555555556,
          "xanchor": "center",
          "xref": "paper",
          "y": 1,
          "yanchor": "bottom",
          "yref": "paper"
         },
         {
          "font": {
           "size": 16
          },
          "showarrow": false,
          "text": "GOOGL",
          "x": 0.14444444444444446,
          "xanchor": "center",
          "xref": "paper",
          "y": 0.6111111111111112,
          "yanchor": "bottom",
          "yref": "paper"
         },
         {
          "font": {
           "size": 16
          },
          "showarrow": false,
          "text": "META",
          "x": 0.5,
          "xanchor": "center",
          "xref": "paper",
          "y": 0.6111111111111112,
          "yanchor": "bottom",
          "yref": "paper"
         },
         {
          "font": {
           "size": 16
          },
          "showarrow": false,
          "text": "TSLA",
          "x": 0.8555555555555556,
          "xanchor": "center",
          "xref": "paper",
          "y": 0.6111111111111112,
          "yanchor": "bottom",
          "yref": "paper"
         },
         {
          "font": {
           "size": 16
          },
          "showarrow": false,
          "text": "NVDA",
          "x": 0.14444444444444446,
          "xanchor": "center",
          "xref": "paper",
          "y": 0.22222222222222224,
          "yanchor": "bottom",
          "yref": "paper"
         }
        ],
        "height": 1000,
        "template": {
         "data": {
          "bar": [
           {
            "error_x": {
             "color": "#2a3f5f"
            },
            "error_y": {
             "color": "#2a3f5f"
            },
            "marker": {
             "line": {
              "color": "#E5ECF6",
              "width": 0.5
             },
             "pattern": {
              "fillmode": "overlay",
              "size": 10,
              "solidity": 0.2
             }
            },
            "type": "bar"
           }
          ],
          "barpolar": [
           {
            "marker": {
             "line": {
              "color": "#E5ECF6",
              "width": 0.5
             },
             "pattern": {
              "fillmode": "overlay",
              "size": 10,
              "solidity": 0.2
             }
            },
            "type": "barpolar"
           }
          ],
          "carpet": [
           {
            "aaxis": {
             "endlinecolor": "#2a3f5f",
             "gridcolor": "white",
             "linecolor": "white",
             "minorgridcolor": "white",
             "startlinecolor": "#2a3f5f"
            },
            "baxis": {
             "endlinecolor": "#2a3f5f",
             "gridcolor": "white",
             "linecolor": "white",
             "minorgridcolor": "white",
             "startlinecolor": "#2a3f5f"
            },
            "type": "carpet"
           }
          ],
          "choropleth": [
           {
            "colorbar": {
             "outlinewidth": 0,
             "ticks": ""
            },
            "type": "choropleth"
           }
          ],
          "contour": [
           {
            "colorbar": {
             "outlinewidth": 0,
             "ticks": ""
            },
            "colorscale": [
             [
              0,
              "#0d0887"
             ],
             [
              0.1111111111111111,
              "#46039f"
             ],
             [
              0.2222222222222222,
              "#7201a8"
             ],
             [
              0.3333333333333333,
              "#9c179e"
             ],
             [
              0.4444444444444444,
              "#bd3786"
             ],
             [
              0.5555555555555556,
              "#d8576b"
             ],
             [
              0.6666666666666666,
              "#ed7953"
             ],
             [
              0.7777777777777778,
              "#fb9f3a"
             ],
             [
              0.8888888888888888,
              "#fdca26"
             ],
             [
              1,
              "#f0f921"
             ]
            ],
            "type": "contour"
           }
          ],
          "contourcarpet": [
           {
            "colorbar": {
             "outlinewidth": 0,
             "ticks": ""
            },
            "type": "contourcarpet"
           }
          ],
          "heatmap": [
           {
            "colorbar": {
             "outlinewidth": 0,
             "ticks": ""
            },
            "colorscale": [
             [
              0,
              "#0d0887"
             ],
             [
              0.1111111111111111,
              "#46039f"
             ],
             [
              0.2222222222222222,
              "#7201a8"
             ],
             [
              0.3333333333333333,
              "#9c179e"
             ],
             [
              0.4444444444444444,
              "#bd3786"
             ],
             [
              0.5555555555555556,
              "#d8576b"
             ],
             [
              0.6666666666666666,
              "#ed7953"
             ],
             [
              0.7777777777777778,
              "#fb9f3a"
             ],
             [
              0.8888888888888888,
              "#fdca26"
             ],
             [
              1,
              "#f0f921"
             ]
            ],
            "type": "heatmap"
           }
          ],
          "histogram": [
           {
            "marker": {
             "pattern": {
              "fillmode": "overlay",
              "size": 10,
              "solidity": 0.2
             }
            },
            "type": "histogram"
           }
          ],
          "histogram2d": [
           {
            "colorbar": {
             "outlinewidth": 0,
             "ticks": ""
            },
            "colorscale": [
             [
              0,
              "#0d0887"
             ],
             [
              0.1111111111111111,
              "#46039f"
             ],
             [
              0.2222222222222222,
              "#7201a8"
             ],
             [
              0.3333333333333333,
              "#9c179e"
             ],
             [
              0.4444444444444444,
              "#bd3786"
             ],
             [
              0.5555555555555556,
              "#d8576b"
             ],
             [
              0.6666666666666666,
              "#ed7953"
             ],
             [
              0.7777777777777778,
              "#fb9f3a"
             ],
             [
              0.8888888888888888,
              "#fdca26"
             ],
             [
              1,
              "#f0f921"
             ]
            ],
            "type": "histogram2d"
           }
          ],
          "histogram2dcontour": [
           {
            "colorbar": {
             "outlinewidth": 0,
             "ticks": ""
            },
            "colorscale": [
             [
              0,
              "#0d0887"
             ],
             [
              0.1111111111111111,
              "#46039f"
             ],
             [
              0.2222222222222222,
              "#7201a8"
             ],
             [
              0.3333333333333333,
              "#9c179e"
             ],
             [
              0.4444444444444444,
              "#bd3786"
             ],
             [
              0.5555555555555556,
              "#d8576b"
             ],
             [
              0.6666666666666666,
              "#ed7953"
             ],
             [
              0.7777777777777778,
              "#fb9f3a"
             ],
             [
              0.8888888888888888,
              "#fdca26"
             ],
             [
              1,
              "#f0f921"
             ]
            ],
            "type": "histogram2dcontour"
           }
          ],
          "mesh3d": [
           {
            "colorbar": {
             "outlinewidth": 0,
             "ticks": ""
            },
            "type": "mesh3d"
           }
          ],
          "parcoords": [
           {
            "line": {
             "colorbar": {
              "outlinewidth": 0,
              "ticks": ""
             }
            },
            "type": "parcoords"
           }
          ],
          "pie": [
           {
            "automargin": true,
            "type": "pie"
           }
          ],
          "scatter": [
           {
            "fillpattern": {
             "fillmode": "overlay",
             "size": 10,
             "solidity": 0.2
            },
            "type": "scatter"
           }
          ],
          "scatter3d": [
           {
            "line": {
             "colorbar": {
              "outlinewidth": 0,
              "ticks": ""
             }
            },
            "marker": {
             "colorbar": {
              "outlinewidth": 0,
              "ticks": ""
             }
            },
            "type": "scatter3d"
           }
          ],
          "scattercarpet": [
           {
            "marker": {
             "colorbar": {
              "outlinewidth": 0,
              "ticks": ""
             }
            },
            "type": "scattercarpet"
           }
          ],
          "scattergeo": [
           {
            "marker": {
             "colorbar": {
              "outlinewidth": 0,
              "ticks": ""
             }
            },
            "type": "scattergeo"
           }
          ],
          "scattergl": [
           {
            "marker": {
             "colorbar": {
              "outlinewidth": 0,
              "ticks": ""
             }
            },
            "type": "scattergl"
           }
          ],
          "scattermap": [
           {
            "marker": {
             "colorbar": {
              "outlinewidth": 0,
              "ticks": ""
             }
            },
            "type": "scattermap"
           }
          ],
          "scattermapbox": [
           {
            "marker": {
             "colorbar": {
              "outlinewidth": 0,
              "ticks": ""
             }
            },
            "type": "scattermapbox"
           }
          ],
          "scatterpolar": [
           {
            "marker": {
             "colorbar": {
              "outlinewidth": 0,
              "ticks": ""
             }
            },
            "type": "scatterpolar"
           }
          ],
          "scatterpolargl": [
           {
            "marker": {
             "colorbar": {
              "outlinewidth": 0,
              "ticks": ""
             }
            },
            "type": "scatterpolargl"
           }
          ],
          "scatterternary": [
           {
            "marker": {
             "colorbar": {
              "outlinewidth": 0,
              "ticks": ""
             }
            },
            "type": "scatterternary"
           }
          ],
          "surface": [
           {
            "colorbar": {
             "outlinewidth": 0,
             "ticks": ""
            },
            "colorscale": [
             [
              0,
              "#0d0887"
             ],
             [
              0.1111111111111111,
              "#46039f"
             ],
             [
              0.2222222222222222,
              "#7201a8"
             ],
             [
              0.3333333333333333,
              "#9c179e"
             ],
             [
              0.4444444444444444,
              "#bd3786"
             ],
             [
              0.5555555555555556,
              "#d8576b"
             ],
             [
              0.6666666666666666,
              "#ed7953"
             ],
             [
              0.7777777777777778,
              "#fb9f3a"
             ],
             [
              0.8888888888888888,
              "#fdca26"
             ],
             [
              1,
              "#f0f921"
             ]
            ],
            "type": "surface"
           }
          ],
          "table": [
           {
            "cells": {
             "fill": {
              "color": "#EBF0F8"
             },
             "line": {
              "color": "white"
             }
            },
            "header": {
             "fill": {
              "color": "#C8D4E3"
             },
             "line": {
              "color": "white"
             }
            },
            "type": "table"
           }
          ]
         },
         "layout": {
          "annotationdefaults": {
           "arrowcolor": "#2a3f5f",
           "arrowhead": 0,
           "arrowwidth": 1
          },
          "autotypenumbers": "strict",
          "coloraxis": {
           "colorbar": {
            "outlinewidth": 0,
            "ticks": ""
           }
          },
          "colorscale": {
           "diverging": [
            [
             0,
             "#8e0152"
            ],
            [
             0.1,
             "#c51b7d"
            ],
            [
             0.2,
             "#de77ae"
            ],
            [
             0.3,
             "#f1b6da"
            ],
            [
             0.4,
             "#fde0ef"
            ],
            [
             0.5,
             "#f7f7f7"
            ],
            [
             0.6,
             "#e6f5d0"
            ],
            [
             0.7,
             "#b8e186"
            ],
            [
             0.8,
             "#7fbc41"
            ],
            [
             0.9,
             "#4d9221"
            ],
            [
             1,
             "#276419"
            ]
           ],
           "sequential": [
            [
             0,
             "#0d0887"
            ],
            [
             0.1111111111111111,
             "#46039f"
            ],
            [
             0.2222222222222222,
             "#7201a8"
            ],
            [
             0.3333333333333333,
             "#9c179e"
            ],
            [
             0.4444444444444444,
             "#bd3786"
            ],
            [
             0.5555555555555556,
             "#d8576b"
            ],
            [
             0.6666666666666666,
             "#ed7953"
            ],
            [
             0.7777777777777778,
             "#fb9f3a"
            ],
            [
             0.8888888888888888,
             "#fdca26"
            ],
            [
             1,
             "#f0f921"
            ]
           ],
           "sequentialminus": [
            [
             0,
             "#0d0887"
            ],
            [
             0.1111111111111111,
             "#46039f"
            ],
            [
             0.2222222222222222,
             "#7201a8"
            ],
            [
             0.3333333333333333,
             "#9c179e"
            ],
            [
             0.4444444444444444,
             "#bd3786"
            ],
            [
             0.5555555555555556,
             "#d8576b"
            ],
            [
             0.6666666666666666,
             "#ed7953"
            ],
            [
             0.7777777777777778,
             "#fb9f3a"
            ],
            [
             0.8888888888888888,
             "#fdca26"
            ],
            [
             1,
             "#f0f921"
            ]
           ]
          },
          "colorway": [
           "#636efa",
           "#EF553B",
           "#00cc96",
           "#ab63fa",
           "#FFA15A",
           "#19d3f3",
           "#FF6692",
           "#B6E880",
           "#FF97FF",
           "#FECB52"
          ],
          "font": {
           "color": "#2a3f5f"
          },
          "geo": {
           "bgcolor": "white",
           "lakecolor": "white",
           "landcolor": "#E5ECF6",
           "showlakes": true,
           "showland": true,
           "subunitcolor": "white"
          },
          "hoverlabel": {
           "align": "left"
          },
          "hovermode": "closest",
          "mapbox": {
           "style": "light"
          },
          "paper_bgcolor": "white",
          "plot_bgcolor": "#E5ECF6",
          "polar": {
           "angularaxis": {
            "gridcolor": "white",
            "linecolor": "white",
            "ticks": ""
           },
           "bgcolor": "#E5ECF6",
           "radialaxis": {
            "gridcolor": "white",
            "linecolor": "white",
            "ticks": ""
           }
          },
          "scene": {
           "xaxis": {
            "backgroundcolor": "#E5ECF6",
            "gridcolor": "white",
            "gridwidth": 2,
            "linecolor": "white",
            "showbackground": true,
            "ticks": "",
            "zerolinecolor": "white"
           },
           "yaxis": {
            "backgroundcolor": "#E5ECF6",
            "gridcolor": "white",
            "gridwidth": 2,
            "linecolor": "white",
            "showbackground": true,
            "ticks": "",
            "zerolinecolor": "white"
           },
           "zaxis": {
            "backgroundcolor": "#E5ECF6",
            "gridcolor": "white",
            "gridwidth": 2,
            "linecolor": "white",
            "showbackground": true,
            "ticks": "",
            "zerolinecolor": "white"
           }
          },
          "shapedefaults": {
           "line": {
            "color": "#2a3f5f"
           }
          },
          "ternary": {
           "aaxis": {
            "gridcolor": "white",
            "linecolor": "white",
            "ticks": ""
           },
           "baxis": {
            "gridcolor": "white",
            "linecolor": "white",
            "ticks": ""
           },
           "bgcolor": "#E5ECF6",
           "caxis": {
            "gridcolor": "white",
            "linecolor": "white",
            "ticks": ""
           }
          },
          "title": {
           "x": 0.05
          },
          "xaxis": {
           "automargin": true,
           "gridcolor": "white",
           "linecolor": "white",
           "ticks": "",
           "title": {
            "standoff": 15
           },
           "zerolinecolor": "white",
           "zerolinewidth": 2
          },
          "yaxis": {
           "automargin": true,
           "gridcolor": "white",
           "linecolor": "white",
           "ticks": "",
           "title": {
            "standoff": 15
           },
           "zerolinecolor": "white",
           "zerolinewidth": 2
          }
         }
        },
        "title": {
         "text": "Close Price vs. SMA vs. EMA per Ticker (Real-Time Data)"
        },
        "width": 1200,
        "xaxis": {
         "anchor": "y",
         "domain": [
          0,
          0.2888888888888889
         ]
        },
        "xaxis2": {
         "anchor": "y2",
         "domain": [
          0.35555555555555557,
          0.6444444444444445
         ]
        },
        "xaxis3": {
         "anchor": "y3",
         "domain": [
          0.7111111111111111,
          1
         ]
        },
        "xaxis4": {
         "anchor": "y4",
         "domain": [
          0,
          0.2888888888888889
         ]
        },
        "xaxis5": {
         "anchor": "y5",
         "domain": [
          0.35555555555555557,
          0.6444444444444445
         ]
        },
        "xaxis6": {
         "anchor": "y6",
         "domain": [
          0.7111111111111111,
          1
         ]
        },
        "xaxis7": {
         "anchor": "y7",
         "domain": [
          0,
          0.2888888888888889
         ]
        },
        "xaxis8": {
         "anchor": "y8",
         "domain": [
          0.35555555555555557,
          0.6444444444444445
         ]
        },
        "xaxis9": {
         "anchor": "y9",
         "domain": [
          0.7111111111111111,
          1
         ]
        },
        "yaxis": {
         "anchor": "x",
         "domain": [
          0.7777777777777778,
          1
         ]
        },
        "yaxis2": {
         "anchor": "x2",
         "domain": [
          0.7777777777777778,
          1
         ]
        },
        "yaxis3": {
         "anchor": "x3",
         "domain": [
          0.7777777777777778,
          1
         ]
        },
        "yaxis4": {
         "anchor": "x4",
         "domain": [
          0.3888888888888889,
          0.6111111111111112
         ]
        },
        "yaxis5": {
         "anchor": "x5",
         "domain": [
          0.3888888888888889,
          0.6111111111111112
         ]
        },
        "yaxis6": {
         "anchor": "x6",
         "domain": [
          0.3888888888888889,
          0.6111111111111112
         ]
        },
        "yaxis7": {
         "anchor": "x7",
         "domain": [
          0,
          0.22222222222222224
         ]
        },
        "yaxis8": {
         "anchor": "x8",
         "domain": [
          0,
          0.22222222222222224
         ]
        },
        "yaxis9": {
         "anchor": "x9",
         "domain": [
          0,
          0.22222222222222224
         ]
        }
       }
      }
     },
     "metadata": {},
     "output_type": "display_data"
    }
   ],
   "source": [
    "import plotly.graph_objects as go\n",
    "from plotly.subplots import make_subplots\n",
    "\n",
    "# tickers \n",
    "tickers = ['AAPL', 'MSFT', 'AMZN', 'GOOGL', 'META', 'TSLA', 'NVDA']\n",
    "\n",
    "#in order to fit 7 tickers we are going to use a  3x3 grid of subplots\n",
    "#writing it ouside the makesubplots function so we can use it in the for loop\n",
    "rows = 3\n",
    "cols = 3\n",
    "\n",
    "#creating the subplot\n",
    "fig = make_subplots(rows=3,cols=3,subplot_titles=[f\"{ticker}\" for ticker in tickers])\n",
    "\n",
    "# using a forloop and running each ticker and its Close price, SMA_5, and EMA_5 \n",
    "for i, ticker in enumerate(tickers):\n",
    "    row = i // cols + 1  \n",
    "    col = i % cols + 1 \n",
    "    subset = df_cass_final[df_cass_final['ticker'] == ticker]  \n",
    "\n",
    "    # adding close price line\n",
    "    fig.add_trace(\n",
    "        go.Scatter(x=subset['date'],y=subset['close'], mode='lines+markers', name='Close',legendgroup=ticker, showlegend=(i == 0),line=dict(color='blue')),\n",
    "        row=row, col=col)\n",
    "\n",
    "    # adding SMA_5 value line (Simple Moving Average)\n",
    "    fig.add_trace(\n",
    "        go.Scatter(x=subset['date'],y=subset['SMA_5'],mode='lines+markers', name='SMA_5',legendgroup=ticker,showlegend=(i == 0), line=dict(color='orange', dash='dash')),\n",
    "        row=row, col=col)\n",
    "    # adding EMA_5 value line (Exponential Moving Average)\n",
    "    fig.add_trace(\n",
    "        go.Scatter(x=subset['date'],y=subset['EMA_5'],mode='lines+markers',name='EMA_5',legendgroup=ticker,showlegend=(i == 0),line=dict(color='green', dash='dot') ),row=row, col=col)\n",
    "# updating the hieght and width and title\n",
    "fig.update_layout(height=1000,  width=1200, title_text=\"Close Price vs. SMA vs. EMA per Ticker (Real-Time Data)\")\n",
    "#show\n",
    "fig.show()\n"
   ]
  },
  {
   "cell_type": "markdown",
   "metadata": {},
   "source": [
    "### The above plot is a great summary analysis of SMA (average of last 5 close prices) and EMA (weighted average of the last 5 close prices) as it compares to our close price (last traded price at each time interval). This graph is useful in showing how closely EMA and SMA fit the close values. If EMA crosses above the SMA we can see a sigh of a bullish cross over which is often seen as a entry signal to buy stocks. However if SMA crosses over the EMA then it might be signs of a bearish crossover which indicates time to sell and exit out your stocks.  Note: There is a jump after 5 dots (data points) because SMA_5, EMA_5 take atleast 5 values before they are able to calculate their rolling average. \n"
   ]
  },
  {
   "cell_type": "code",
   "execution_count": 28,
   "metadata": {},
   "outputs": [
    {
     "data": {
      "application/vnd.plotly.v1+json": {
       "config": {
        "plotlyServerURL": "https://plot.ly"
       },
       "data": [
        {
         "close": {
          "bdata": "FK5H4XrUZ0AUrkfhetRnQBSuR+F61GdAFK5H4XrUZ0BI4XoUrtdnQEjhehSu12dASOF6FK7XZ0BI4XoUrtdnQEjhehSu12dASOF6FK7XZ0DsUbgehddnQOxRuB6F12dA7FG4HoXXZ0DsUbgehddnQA==",
          "dtype": "f8"
         },
         "high": {
          "bdata": "mpmZmZk5aECamZmZmTloQJqZmZmZOWhAmpmZmZk5aECamZmZmTloQJqZmZmZOWhAmpmZmZk5aECamZmZmTloQJqZmZmZOWhAmpmZmZk5aECamZmZmTloQJqZmZmZOWhAmpmZmZk5aECamZmZmTloQA==",
          "dtype": "f8"
         },
         "low": {
          "bdata": "fdCzWfW5Z0B90LNZ9blnQH3Qs1n1uWdAfdCzWfW5Z0B90LNZ9blnQH3Qs1n1uWdAfdCzWfW5Z0B90LNZ9blnQH3Qs1n1uWdAfdCzWfW5Z0B90LNZ9blnQH3Qs1n1uWdAfdCzWfW5Z0B90LNZ9blnQA==",
          "dtype": "f8"
         },
         "open": {
          "bdata": "FK5H4XooaEAUrkfheihoQBSuR+F6KGhAFK5H4XooaEAUrkfheihoQBSuR+F6KGhAFK5H4XooaEAUrkfheihoQBSuR+F6KGhAFK5H4XooaEAUrkfheihoQBSuR+F6KGhAFK5H4XooaEAUrkfheihoQA==",
          "dtype": "f8"
         },
         "type": "candlestick",
         "x": [
          "2025-04-21T19:03:26.000000000",
          "2025-04-21T19:03:40.000000000",
          "2025-04-21T19:03:47.000000000",
          "2025-04-21T19:03:55.000000000",
          "2025-04-21T19:04:09.000000000",
          "2025-04-21T19:04:17.000000000",
          "2025-04-21T19:04:30.000000000",
          "2025-04-21T19:04:38.000000000",
          "2025-04-21T19:04:51.000000000",
          "2025-04-21T19:05:00.000000000",
          "2025-04-21T19:05:08.000000000",
          "2025-04-21T19:05:20.000000000",
          "2025-04-21T19:05:29.000000000",
          "2025-04-21T19:05:42.000000000"
         ]
        }
       ],
       "layout": {
        "template": {
         "data": {
          "bar": [
           {
            "error_x": {
             "color": "#2a3f5f"
            },
            "error_y": {
             "color": "#2a3f5f"
            },
            "marker": {
             "line": {
              "color": "#E5ECF6",
              "width": 0.5
             },
             "pattern": {
              "fillmode": "overlay",
              "size": 10,
              "solidity": 0.2
             }
            },
            "type": "bar"
           }
          ],
          "barpolar": [
           {
            "marker": {
             "line": {
              "color": "#E5ECF6",
              "width": 0.5
             },
             "pattern": {
              "fillmode": "overlay",
              "size": 10,
              "solidity": 0.2
             }
            },
            "type": "barpolar"
           }
          ],
          "carpet": [
           {
            "aaxis": {
             "endlinecolor": "#2a3f5f",
             "gridcolor": "white",
             "linecolor": "white",
             "minorgridcolor": "white",
             "startlinecolor": "#2a3f5f"
            },
            "baxis": {
             "endlinecolor": "#2a3f5f",
             "gridcolor": "white",
             "linecolor": "white",
             "minorgridcolor": "white",
             "startlinecolor": "#2a3f5f"
            },
            "type": "carpet"
           }
          ],
          "choropleth": [
           {
            "colorbar": {
             "outlinewidth": 0,
             "ticks": ""
            },
            "type": "choropleth"
           }
          ],
          "contour": [
           {
            "colorbar": {
             "outlinewidth": 0,
             "ticks": ""
            },
            "colorscale": [
             [
              0,
              "#0d0887"
             ],
             [
              0.1111111111111111,
              "#46039f"
             ],
             [
              0.2222222222222222,
              "#7201a8"
             ],
             [
              0.3333333333333333,
              "#9c179e"
             ],
             [
              0.4444444444444444,
              "#bd3786"
             ],
             [
              0.5555555555555556,
              "#d8576b"
             ],
             [
              0.6666666666666666,
              "#ed7953"
             ],
             [
              0.7777777777777778,
              "#fb9f3a"
             ],
             [
              0.8888888888888888,
              "#fdca26"
             ],
             [
              1,
              "#f0f921"
             ]
            ],
            "type": "contour"
           }
          ],
          "contourcarpet": [
           {
            "colorbar": {
             "outlinewidth": 0,
             "ticks": ""
            },
            "type": "contourcarpet"
           }
          ],
          "heatmap": [
           {
            "colorbar": {
             "outlinewidth": 0,
             "ticks": ""
            },
            "colorscale": [
             [
              0,
              "#0d0887"
             ],
             [
              0.1111111111111111,
              "#46039f"
             ],
             [
              0.2222222222222222,
              "#7201a8"
             ],
             [
              0.3333333333333333,
              "#9c179e"
             ],
             [
              0.4444444444444444,
              "#bd3786"
             ],
             [
              0.5555555555555556,
              "#d8576b"
             ],
             [
              0.6666666666666666,
              "#ed7953"
             ],
             [
              0.7777777777777778,
              "#fb9f3a"
             ],
             [
              0.8888888888888888,
              "#fdca26"
             ],
             [
              1,
              "#f0f921"
             ]
            ],
            "type": "heatmap"
           }
          ],
          "histogram": [
           {
            "marker": {
             "pattern": {
              "fillmode": "overlay",
              "size": 10,
              "solidity": 0.2
             }
            },
            "type": "histogram"
           }
          ],
          "histogram2d": [
           {
            "colorbar": {
             "outlinewidth": 0,
             "ticks": ""
            },
            "colorscale": [
             [
              0,
              "#0d0887"
             ],
             [
              0.1111111111111111,
              "#46039f"
             ],
             [
              0.2222222222222222,
              "#7201a8"
             ],
             [
              0.3333333333333333,
              "#9c179e"
             ],
             [
              0.4444444444444444,
              "#bd3786"
             ],
             [
              0.5555555555555556,
              "#d8576b"
             ],
             [
              0.6666666666666666,
              "#ed7953"
             ],
             [
              0.7777777777777778,
              "#fb9f3a"
             ],
             [
              0.8888888888888888,
              "#fdca26"
             ],
             [
              1,
              "#f0f921"
             ]
            ],
            "type": "histogram2d"
           }
          ],
          "histogram2dcontour": [
           {
            "colorbar": {
             "outlinewidth": 0,
             "ticks": ""
            },
            "colorscale": [
             [
              0,
              "#0d0887"
             ],
             [
              0.1111111111111111,
              "#46039f"
             ],
             [
              0.2222222222222222,
              "#7201a8"
             ],
             [
              0.3333333333333333,
              "#9c179e"
             ],
             [
              0.4444444444444444,
              "#bd3786"
             ],
             [
              0.5555555555555556,
              "#d8576b"
             ],
             [
              0.6666666666666666,
              "#ed7953"
             ],
             [
              0.7777777777777778,
              "#fb9f3a"
             ],
             [
              0.8888888888888888,
              "#fdca26"
             ],
             [
              1,
              "#f0f921"
             ]
            ],
            "type": "histogram2dcontour"
           }
          ],
          "mesh3d": [
           {
            "colorbar": {
             "outlinewidth": 0,
             "ticks": ""
            },
            "type": "mesh3d"
           }
          ],
          "parcoords": [
           {
            "line": {
             "colorbar": {
              "outlinewidth": 0,
              "ticks": ""
             }
            },
            "type": "parcoords"
           }
          ],
          "pie": [
           {
            "automargin": true,
            "type": "pie"
           }
          ],
          "scatter": [
           {
            "fillpattern": {
             "fillmode": "overlay",
             "size": 10,
             "solidity": 0.2
            },
            "type": "scatter"
           }
          ],
          "scatter3d": [
           {
            "line": {
             "colorbar": {
              "outlinewidth": 0,
              "ticks": ""
             }
            },
            "marker": {
             "colorbar": {
              "outlinewidth": 0,
              "ticks": ""
             }
            },
            "type": "scatter3d"
           }
          ],
          "scattercarpet": [
           {
            "marker": {
             "colorbar": {
              "outlinewidth": 0,
              "ticks": ""
             }
            },
            "type": "scattercarpet"
           }
          ],
          "scattergeo": [
           {
            "marker": {
             "colorbar": {
              "outlinewidth": 0,
              "ticks": ""
             }
            },
            "type": "scattergeo"
           }
          ],
          "scattergl": [
           {
            "marker": {
             "colorbar": {
              "outlinewidth": 0,
              "ticks": ""
             }
            },
            "type": "scattergl"
           }
          ],
          "scattermap": [
           {
            "marker": {
             "colorbar": {
              "outlinewidth": 0,
              "ticks": ""
             }
            },
            "type": "scattermap"
           }
          ],
          "scattermapbox": [
           {
            "marker": {
             "colorbar": {
              "outlinewidth": 0,
              "ticks": ""
             }
            },
            "type": "scattermapbox"
           }
          ],
          "scatterpolar": [
           {
            "marker": {
             "colorbar": {
              "outlinewidth": 0,
              "ticks": ""
             }
            },
            "type": "scatterpolar"
           }
          ],
          "scatterpolargl": [
           {
            "marker": {
             "colorbar": {
              "outlinewidth": 0,
              "ticks": ""
             }
            },
            "type": "scatterpolargl"
           }
          ],
          "scatterternary": [
           {
            "marker": {
             "colorbar": {
              "outlinewidth": 0,
              "ticks": ""
             }
            },
            "type": "scatterternary"
           }
          ],
          "surface": [
           {
            "colorbar": {
             "outlinewidth": 0,
             "ticks": ""
            },
            "colorscale": [
             [
              0,
              "#0d0887"
             ],
             [
              0.1111111111111111,
              "#46039f"
             ],
             [
              0.2222222222222222,
              "#7201a8"
             ],
             [
              0.3333333333333333,
              "#9c179e"
             ],
             [
              0.4444444444444444,
              "#bd3786"
             ],
             [
              0.5555555555555556,
              "#d8576b"
             ],
             [
              0.6666666666666666,
              "#ed7953"
             ],
             [
              0.7777777777777778,
              "#fb9f3a"
             ],
             [
              0.8888888888888888,
              "#fdca26"
             ],
             [
              1,
              "#f0f921"
             ]
            ],
            "type": "surface"
           }
          ],
          "table": [
           {
            "cells": {
             "fill": {
              "color": "#EBF0F8"
             },
             "line": {
              "color": "white"
             }
            },
            "header": {
             "fill": {
              "color": "#C8D4E3"
             },
             "line": {
              "color": "white"
             }
            },
            "type": "table"
           }
          ]
         },
         "layout": {
          "annotationdefaults": {
           "arrowcolor": "#2a3f5f",
           "arrowhead": 0,
           "arrowwidth": 1
          },
          "autotypenumbers": "strict",
          "coloraxis": {
           "colorbar": {
            "outlinewidth": 0,
            "ticks": ""
           }
          },
          "colorscale": {
           "diverging": [
            [
             0,
             "#8e0152"
            ],
            [
             0.1,
             "#c51b7d"
            ],
            [
             0.2,
             "#de77ae"
            ],
            [
             0.3,
             "#f1b6da"
            ],
            [
             0.4,
             "#fde0ef"
            ],
            [
             0.5,
             "#f7f7f7"
            ],
            [
             0.6,
             "#e6f5d0"
            ],
            [
             0.7,
             "#b8e186"
            ],
            [
             0.8,
             "#7fbc41"
            ],
            [
             0.9,
             "#4d9221"
            ],
            [
             1,
             "#276419"
            ]
           ],
           "sequential": [
            [
             0,
             "#0d0887"
            ],
            [
             0.1111111111111111,
             "#46039f"
            ],
            [
             0.2222222222222222,
             "#7201a8"
            ],
            [
             0.3333333333333333,
             "#9c179e"
            ],
            [
             0.4444444444444444,
             "#bd3786"
            ],
            [
             0.5555555555555556,
             "#d8576b"
            ],
            [
             0.6666666666666666,
             "#ed7953"
            ],
            [
             0.7777777777777778,
             "#fb9f3a"
            ],
            [
             0.8888888888888888,
             "#fdca26"
            ],
            [
             1,
             "#f0f921"
            ]
           ],
           "sequentialminus": [
            [
             0,
             "#0d0887"
            ],
            [
             0.1111111111111111,
             "#46039f"
            ],
            [
             0.2222222222222222,
             "#7201a8"
            ],
            [
             0.3333333333333333,
             "#9c179e"
            ],
            [
             0.4444444444444444,
             "#bd3786"
            ],
            [
             0.5555555555555556,
             "#d8576b"
            ],
            [
             0.6666666666666666,
             "#ed7953"
            ],
            [
             0.7777777777777778,
             "#fb9f3a"
            ],
            [
             0.8888888888888888,
             "#fdca26"
            ],
            [
             1,
             "#f0f921"
            ]
           ]
          },
          "colorway": [
           "#636efa",
           "#EF553B",
           "#00cc96",
           "#ab63fa",
           "#FFA15A",
           "#19d3f3",
           "#FF6692",
           "#B6E880",
           "#FF97FF",
           "#FECB52"
          ],
          "font": {
           "color": "#2a3f5f"
          },
          "geo": {
           "bgcolor": "white",
           "lakecolor": "white",
           "landcolor": "#E5ECF6",
           "showlakes": true,
           "showland": true,
           "subunitcolor": "white"
          },
          "hoverlabel": {
           "align": "left"
          },
          "hovermode": "closest",
          "mapbox": {
           "style": "light"
          },
          "paper_bgcolor": "white",
          "plot_bgcolor": "#E5ECF6",
          "polar": {
           "angularaxis": {
            "gridcolor": "white",
            "linecolor": "white",
            "ticks": ""
           },
           "bgcolor": "#E5ECF6",
           "radialaxis": {
            "gridcolor": "white",
            "linecolor": "white",
            "ticks": ""
           }
          },
          "scene": {
           "xaxis": {
            "backgroundcolor": "#E5ECF6",
            "gridcolor": "white",
            "gridwidth": 2,
            "linecolor": "white",
            "showbackground": true,
            "ticks": "",
            "zerolinecolor": "white"
           },
           "yaxis": {
            "backgroundcolor": "#E5ECF6",
            "gridcolor": "white",
            "gridwidth": 2,
            "linecolor": "white",
            "showbackground": true,
            "ticks": "",
            "zerolinecolor": "white"
           },
           "zaxis": {
            "backgroundcolor": "#E5ECF6",
            "gridcolor": "white",
            "gridwidth": 2,
            "linecolor": "white",
            "showbackground": true,
            "ticks": "",
            "zerolinecolor": "white"
           }
          },
          "shapedefaults": {
           "line": {
            "color": "#2a3f5f"
           }
          },
          "ternary": {
           "aaxis": {
            "gridcolor": "white",
            "linecolor": "white",
            "ticks": ""
           },
           "baxis": {
            "gridcolor": "white",
            "linecolor": "white",
            "ticks": ""
           },
           "bgcolor": "#E5ECF6",
           "caxis": {
            "gridcolor": "white",
            "linecolor": "white",
            "ticks": ""
           }
          },
          "title": {
           "x": 0.05
          },
          "xaxis": {
           "automargin": true,
           "gridcolor": "white",
           "linecolor": "white",
           "ticks": "",
           "title": {
            "standoff": 15
           },
           "zerolinecolor": "white",
           "zerolinewidth": 2
          },
          "yaxis": {
           "automargin": true,
           "gridcolor": "white",
           "linecolor": "white",
           "ticks": "",
           "title": {
            "standoff": 15
           },
           "zerolinecolor": "white",
           "zerolinewidth": 2
          }
         }
        },
        "title": {
         "text": "AAPL Candlestick Chart (Real Time Data)"
        },
        "xaxis": {
         "title": {
          "text": "Time"
         }
        },
        "yaxis": {
         "title": {
          "text": "Price"
         }
        }
       }
      }
     },
     "metadata": {},
     "output_type": "display_data"
    },
    {
     "data": {
      "application/vnd.plotly.v1+json": {
       "config": {
        "plotlyServerURL": "https://plot.ly"
       },
       "data": [
        {
         "close": {
          "bdata": "UrgeheuxZEBSuB6F67FkQFyPwvUotGRAXI/C9Si0ZEBcj8L1KLRkQFyPwvUotGRAXI/C9Si0ZEBcj8L1KLRkQHWTGARWtmRAdZMYBFa2ZEB1kxgEVrZkQHWTGARWtmRAdZMYBFa2ZEB1kxgEVrZkQClcj8L1uGRAKVyPwvW4ZEApXI/C9bhkQClcj8L1uGRA",
          "dtype": "f8"
         },
         "high": {
          "bdata": "MzMzMzMzZUAzMzMzMzNlQDMzMzMzM2VAMzMzMzMzZUAzMzMzMzNlQDMzMzMzM2VAMzMzMzMzZUAzMzMzMzNlQDMzMzMzM2VAMzMzMzMzZUAzMzMzMzNlQDMzMzMzM2VAMzMzMzMzZUAzMzMzMzNlQDMzMzMzM2VAMzMzMzMzZUAzMzMzMzNlQDMzMzMzM2VA",
          "dtype": "f8"
         },
         "low": {
          "bdata": "hetRuB6pZECF61G4HqlkQIXrUbgeqWRAhetRuB6pZECF61G4HqlkQIXrUbgeqWRAhetRuB6pZECF61G4HqlkQIXrUbgeqWRAhetRuB6pZECF61G4HqlkQIXrUbgeqWRAhetRuB6pZECF61G4HqlkQIXrUbgeqWRAhetRuB6pZECF61G4HqlkQIXrUbgeqWRA",
          "dtype": "f8"
         },
         "open": {
          "bdata": "MzMzMzMzZUAzMzMzMzNlQDMzMzMzM2VAMzMzMzMzZUAzMzMzMzNlQDMzMzMzM2VAMzMzMzMzZUAzMzMzMzNlQDMzMzMzM2VAMzMzMzMzZUAzMzMzMzNlQDMzMzMzM2VAMzMzMzMzZUAzMzMzMzNlQDMzMzMzM2VAMzMzMzMzZUAzMzMzMzNlQDMzMzMzM2VA",
          "dtype": "f8"
         },
         "type": "candlestick",
         "x": [
          "2025-04-21T19:02:45.000000000",
          "2025-04-21T19:02:58.000000000",
          "2025-04-21T19:03:07.000000000",
          "2025-04-21T19:03:18.000000000",
          "2025-04-21T19:03:24.000000000",
          "2025-04-21T19:03:39.000000000",
          "2025-04-21T19:03:47.000000000",
          "2025-04-21T19:03:56.000000000",
          "2025-04-21T19:04:09.000000000",
          "2025-04-21T19:04:17.000000000",
          "2025-04-21T19:04:30.000000000",
          "2025-04-21T19:04:38.000000000",
          "2025-04-21T19:04:50.000000000",
          "2025-04-21T19:05:00.000000000",
          "2025-04-21T19:05:12.000000000",
          "2025-04-21T19:05:21.000000000",
          "2025-04-21T19:05:30.000000000",
          "2025-04-21T19:05:38.000000000"
         ]
        }
       ],
       "layout": {
        "template": {
         "data": {
          "bar": [
           {
            "error_x": {
             "color": "#2a3f5f"
            },
            "error_y": {
             "color": "#2a3f5f"
            },
            "marker": {
             "line": {
              "color": "#E5ECF6",
              "width": 0.5
             },
             "pattern": {
              "fillmode": "overlay",
              "size": 10,
              "solidity": 0.2
             }
            },
            "type": "bar"
           }
          ],
          "barpolar": [
           {
            "marker": {
             "line": {
              "color": "#E5ECF6",
              "width": 0.5
             },
             "pattern": {
              "fillmode": "overlay",
              "size": 10,
              "solidity": 0.2
             }
            },
            "type": "barpolar"
           }
          ],
          "carpet": [
           {
            "aaxis": {
             "endlinecolor": "#2a3f5f",
             "gridcolor": "white",
             "linecolor": "white",
             "minorgridcolor": "white",
             "startlinecolor": "#2a3f5f"
            },
            "baxis": {
             "endlinecolor": "#2a3f5f",
             "gridcolor": "white",
             "linecolor": "white",
             "minorgridcolor": "white",
             "startlinecolor": "#2a3f5f"
            },
            "type": "carpet"
           }
          ],
          "choropleth": [
           {
            "colorbar": {
             "outlinewidth": 0,
             "ticks": ""
            },
            "type": "choropleth"
           }
          ],
          "contour": [
           {
            "colorbar": {
             "outlinewidth": 0,
             "ticks": ""
            },
            "colorscale": [
             [
              0,
              "#0d0887"
             ],
             [
              0.1111111111111111,
              "#46039f"
             ],
             [
              0.2222222222222222,
              "#7201a8"
             ],
             [
              0.3333333333333333,
              "#9c179e"
             ],
             [
              0.4444444444444444,
              "#bd3786"
             ],
             [
              0.5555555555555556,
              "#d8576b"
             ],
             [
              0.6666666666666666,
              "#ed7953"
             ],
             [
              0.7777777777777778,
              "#fb9f3a"
             ],
             [
              0.8888888888888888,
              "#fdca26"
             ],
             [
              1,
              "#f0f921"
             ]
            ],
            "type": "contour"
           }
          ],
          "contourcarpet": [
           {
            "colorbar": {
             "outlinewidth": 0,
             "ticks": ""
            },
            "type": "contourcarpet"
           }
          ],
          "heatmap": [
           {
            "colorbar": {
             "outlinewidth": 0,
             "ticks": ""
            },
            "colorscale": [
             [
              0,
              "#0d0887"
             ],
             [
              0.1111111111111111,
              "#46039f"
             ],
             [
              0.2222222222222222,
              "#7201a8"
             ],
             [
              0.3333333333333333,
              "#9c179e"
             ],
             [
              0.4444444444444444,
              "#bd3786"
             ],
             [
              0.5555555555555556,
              "#d8576b"
             ],
             [
              0.6666666666666666,
              "#ed7953"
             ],
             [
              0.7777777777777778,
              "#fb9f3a"
             ],
             [
              0.8888888888888888,
              "#fdca26"
             ],
             [
              1,
              "#f0f921"
             ]
            ],
            "type": "heatmap"
           }
          ],
          "histogram": [
           {
            "marker": {
             "pattern": {
              "fillmode": "overlay",
              "size": 10,
              "solidity": 0.2
             }
            },
            "type": "histogram"
           }
          ],
          "histogram2d": [
           {
            "colorbar": {
             "outlinewidth": 0,
             "ticks": ""
            },
            "colorscale": [
             [
              0,
              "#0d0887"
             ],
             [
              0.1111111111111111,
              "#46039f"
             ],
             [
              0.2222222222222222,
              "#7201a8"
             ],
             [
              0.3333333333333333,
              "#9c179e"
             ],
             [
              0.4444444444444444,
              "#bd3786"
             ],
             [
              0.5555555555555556,
              "#d8576b"
             ],
             [
              0.6666666666666666,
              "#ed7953"
             ],
             [
              0.7777777777777778,
              "#fb9f3a"
             ],
             [
              0.8888888888888888,
              "#fdca26"
             ],
             [
              1,
              "#f0f921"
             ]
            ],
            "type": "histogram2d"
           }
          ],
          "histogram2dcontour": [
           {
            "colorbar": {
             "outlinewidth": 0,
             "ticks": ""
            },
            "colorscale": [
             [
              0,
              "#0d0887"
             ],
             [
              0.1111111111111111,
              "#46039f"
             ],
             [
              0.2222222222222222,
              "#7201a8"
             ],
             [
              0.3333333333333333,
              "#9c179e"
             ],
             [
              0.4444444444444444,
              "#bd3786"
             ],
             [
              0.5555555555555556,
              "#d8576b"
             ],
             [
              0.6666666666666666,
              "#ed7953"
             ],
             [
              0.7777777777777778,
              "#fb9f3a"
             ],
             [
              0.8888888888888888,
              "#fdca26"
             ],
             [
              1,
              "#f0f921"
             ]
            ],
            "type": "histogram2dcontour"
           }
          ],
          "mesh3d": [
           {
            "colorbar": {
             "outlinewidth": 0,
             "ticks": ""
            },
            "type": "mesh3d"
           }
          ],
          "parcoords": [
           {
            "line": {
             "colorbar": {
              "outlinewidth": 0,
              "ticks": ""
             }
            },
            "type": "parcoords"
           }
          ],
          "pie": [
           {
            "automargin": true,
            "type": "pie"
           }
          ],
          "scatter": [
           {
            "fillpattern": {
             "fillmode": "overlay",
             "size": 10,
             "solidity": 0.2
            },
            "type": "scatter"
           }
          ],
          "scatter3d": [
           {
            "line": {
             "colorbar": {
              "outlinewidth": 0,
              "ticks": ""
             }
            },
            "marker": {
             "colorbar": {
              "outlinewidth": 0,
              "ticks": ""
             }
            },
            "type": "scatter3d"
           }
          ],
          "scattercarpet": [
           {
            "marker": {
             "colorbar": {
              "outlinewidth": 0,
              "ticks": ""
             }
            },
            "type": "scattercarpet"
           }
          ],
          "scattergeo": [
           {
            "marker": {
             "colorbar": {
              "outlinewidth": 0,
              "ticks": ""
             }
            },
            "type": "scattergeo"
           }
          ],
          "scattergl": [
           {
            "marker": {
             "colorbar": {
              "outlinewidth": 0,
              "ticks": ""
             }
            },
            "type": "scattergl"
           }
          ],
          "scattermap": [
           {
            "marker": {
             "colorbar": {
              "outlinewidth": 0,
              "ticks": ""
             }
            },
            "type": "scattermap"
           }
          ],
          "scattermapbox": [
           {
            "marker": {
             "colorbar": {
              "outlinewidth": 0,
              "ticks": ""
             }
            },
            "type": "scattermapbox"
           }
          ],
          "scatterpolar": [
           {
            "marker": {
             "colorbar": {
              "outlinewidth": 0,
              "ticks": ""
             }
            },
            "type": "scatterpolar"
           }
          ],
          "scatterpolargl": [
           {
            "marker": {
             "colorbar": {
              "outlinewidth": 0,
              "ticks": ""
             }
            },
            "type": "scatterpolargl"
           }
          ],
          "scatterternary": [
           {
            "marker": {
             "colorbar": {
              "outlinewidth": 0,
              "ticks": ""
             }
            },
            "type": "scatterternary"
           }
          ],
          "surface": [
           {
            "colorbar": {
             "outlinewidth": 0,
             "ticks": ""
            },
            "colorscale": [
             [
              0,
              "#0d0887"
             ],
             [
              0.1111111111111111,
              "#46039f"
             ],
             [
              0.2222222222222222,
              "#7201a8"
             ],
             [
              0.3333333333333333,
              "#9c179e"
             ],
             [
              0.4444444444444444,
              "#bd3786"
             ],
             [
              0.5555555555555556,
              "#d8576b"
             ],
             [
              0.6666666666666666,
              "#ed7953"
             ],
             [
              0.7777777777777778,
              "#fb9f3a"
             ],
             [
              0.8888888888888888,
              "#fdca26"
             ],
             [
              1,
              "#f0f921"
             ]
            ],
            "type": "surface"
           }
          ],
          "table": [
           {
            "cells": {
             "fill": {
              "color": "#EBF0F8"
             },
             "line": {
              "color": "white"
             }
            },
            "header": {
             "fill": {
              "color": "#C8D4E3"
             },
             "line": {
              "color": "white"
             }
            },
            "type": "table"
           }
          ]
         },
         "layout": {
          "annotationdefaults": {
           "arrowcolor": "#2a3f5f",
           "arrowhead": 0,
           "arrowwidth": 1
          },
          "autotypenumbers": "strict",
          "coloraxis": {
           "colorbar": {
            "outlinewidth": 0,
            "ticks": ""
           }
          },
          "colorscale": {
           "diverging": [
            [
             0,
             "#8e0152"
            ],
            [
             0.1,
             "#c51b7d"
            ],
            [
             0.2,
             "#de77ae"
            ],
            [
             0.3,
             "#f1b6da"
            ],
            [
             0.4,
             "#fde0ef"
            ],
            [
             0.5,
             "#f7f7f7"
            ],
            [
             0.6,
             "#e6f5d0"
            ],
            [
             0.7,
             "#b8e186"
            ],
            [
             0.8,
             "#7fbc41"
            ],
            [
             0.9,
             "#4d9221"
            ],
            [
             1,
             "#276419"
            ]
           ],
           "sequential": [
            [
             0,
             "#0d0887"
            ],
            [
             0.1111111111111111,
             "#46039f"
            ],
            [
             0.2222222222222222,
             "#7201a8"
            ],
            [
             0.3333333333333333,
             "#9c179e"
            ],
            [
             0.4444444444444444,
             "#bd3786"
            ],
            [
             0.5555555555555556,
             "#d8576b"
            ],
            [
             0.6666666666666666,
             "#ed7953"
            ],
            [
             0.7777777777777778,
             "#fb9f3a"
            ],
            [
             0.8888888888888888,
             "#fdca26"
            ],
            [
             1,
             "#f0f921"
            ]
           ],
           "sequentialminus": [
            [
             0,
             "#0d0887"
            ],
            [
             0.1111111111111111,
             "#46039f"
            ],
            [
             0.2222222222222222,
             "#7201a8"
            ],
            [
             0.3333333333333333,
             "#9c179e"
            ],
            [
             0.4444444444444444,
             "#bd3786"
            ],
            [
             0.5555555555555556,
             "#d8576b"
            ],
            [
             0.6666666666666666,
             "#ed7953"
            ],
            [
             0.7777777777777778,
             "#fb9f3a"
            ],
            [
             0.8888888888888888,
             "#fdca26"
            ],
            [
             1,
             "#f0f921"
            ]
           ]
          },
          "colorway": [
           "#636efa",
           "#EF553B",
           "#00cc96",
           "#ab63fa",
           "#FFA15A",
           "#19d3f3",
           "#FF6692",
           "#B6E880",
           "#FF97FF",
           "#FECB52"
          ],
          "font": {
           "color": "#2a3f5f"
          },
          "geo": {
           "bgcolor": "white",
           "lakecolor": "white",
           "landcolor": "#E5ECF6",
           "showlakes": true,
           "showland": true,
           "subunitcolor": "white"
          },
          "hoverlabel": {
           "align": "left"
          },
          "hovermode": "closest",
          "mapbox": {
           "style": "light"
          },
          "paper_bgcolor": "white",
          "plot_bgcolor": "#E5ECF6",
          "polar": {
           "angularaxis": {
            "gridcolor": "white",
            "linecolor": "white",
            "ticks": ""
           },
           "bgcolor": "#E5ECF6",
           "radialaxis": {
            "gridcolor": "white",
            "linecolor": "white",
            "ticks": ""
           }
          },
          "scene": {
           "xaxis": {
            "backgroundcolor": "#E5ECF6",
            "gridcolor": "white",
            "gridwidth": 2,
            "linecolor": "white",
            "showbackground": true,
            "ticks": "",
            "zerolinecolor": "white"
           },
           "yaxis": {
            "backgroundcolor": "#E5ECF6",
            "gridcolor": "white",
            "gridwidth": 2,
            "linecolor": "white",
            "showbackground": true,
            "ticks": "",
            "zerolinecolor": "white"
           },
           "zaxis": {
            "backgroundcolor": "#E5ECF6",
            "gridcolor": "white",
            "gridwidth": 2,
            "linecolor": "white",
            "showbackground": true,
            "ticks": "",
            "zerolinecolor": "white"
           }
          },
          "shapedefaults": {
           "line": {
            "color": "#2a3f5f"
           }
          },
          "ternary": {
           "aaxis": {
            "gridcolor": "white",
            "linecolor": "white",
            "ticks": ""
           },
           "baxis": {
            "gridcolor": "white",
            "linecolor": "white",
            "ticks": ""
           },
           "bgcolor": "#E5ECF6",
           "caxis": {
            "gridcolor": "white",
            "linecolor": "white",
            "ticks": ""
           }
          },
          "title": {
           "x": 0.05
          },
          "xaxis": {
           "automargin": true,
           "gridcolor": "white",
           "linecolor": "white",
           "ticks": "",
           "title": {
            "standoff": 15
           },
           "zerolinecolor": "white",
           "zerolinewidth": 2
          },
          "yaxis": {
           "automargin": true,
           "gridcolor": "white",
           "linecolor": "white",
           "ticks": "",
           "title": {
            "standoff": 15
           },
           "zerolinecolor": "white",
           "zerolinewidth": 2
          }
         }
        },
        "title": {
         "text": "AMZN Candlestick Chart (Real Time Data)"
        },
        "xaxis": {
         "title": {
          "text": "Time"
         }
        },
        "yaxis": {
         "title": {
          "text": "Price"
         }
        }
       }
      }
     },
     "metadata": {},
     "output_type": "display_data"
    },
    {
     "data": {
      "application/vnd.plotly.v1+json": {
       "config": {
        "plotlyServerURL": "https://plot.ly"
       },
       "data": [
        {
         "close": {
          "bdata": "bcX+sntMYkBtxf6ye0xiQGZmZmZmTmJAZmZmZmZOYkBmZmZmZk5iQGZmZmZmTmJAZmZmZmZOYkBmZmZmZk5iQAAAAAAAUGJAAAAAAABQYkAAAAAAAFBiQAAAAAAAUGJAAAAAAABQYkAAAAAAAFBiQI/C9ShcT2JAj8L1KFxPYkCPwvUoXE9iQI/C9ShcT2JA",
          "dtype": "f8"
         },
         "high": {
          "bdata": "CtejcD2eYkAK16NwPZ5iQArXo3A9nmJACtejcD2eYkAK16NwPZ5iQArXo3A9nmJACtejcD2eYkAK16NwPZ5iQArXo3A9nmJACtejcD2eYkAK16NwPZ5iQArXo3A9nmJACtejcD2eYkAK16NwPZ5iQArXo3A9nmJACtejcD2eYkAK16NwPZ5iQArXo3A9nmJA",
          "dtype": "f8"
         },
         "low": {
          "bdata": "MzMzMzNDYkAzMzMzM0NiQDMzMzMzQ2JAMzMzMzNDYkAzMzMzM0NiQDMzMzMzQ2JAMzMzMzNDYkAzMzMzM0NiQDMzMzMzQ2JAMzMzMzNDYkAzMzMzM0NiQDMzMzMzQ2JAMzMzMzNDYkAzMzMzM0NiQDMzMzMzQ2JAMzMzMzNDYkAzMzMzM0NiQDMzMzMzQ2JA",
          "dtype": "f8"
         },
         "open": {
          "bdata": "XI/C9SicYkBcj8L1KJxiQFyPwvUonGJAXI/C9SicYkBcj8L1KJxiQFyPwvUonGJAXI/C9SicYkBcj8L1KJxiQFyPwvUonGJAXI/C9SicYkBcj8L1KJxiQFyPwvUonGJAXI/C9SicYkBcj8L1KJxiQFyPwvUonGJAXI/C9SicYkBcj8L1KJxiQFyPwvUonGJA",
          "dtype": "f8"
         },
         "type": "candlestick",
         "x": [
          "2025-04-21T19:02:45.000000000",
          "2025-04-21T19:02:58.000000000",
          "2025-04-21T19:03:07.000000000",
          "2025-04-21T19:03:19.000000000",
          "2025-04-21T19:03:24.000000000",
          "2025-04-21T19:03:40.000000000",
          "2025-04-21T19:03:48.000000000",
          "2025-04-21T19:03:54.000000000",
          "2025-04-21T19:04:09.000000000",
          "2025-04-21T19:04:18.000000000",
          "2025-04-21T19:04:29.000000000",
          "2025-04-21T19:04:38.000000000",
          "2025-04-21T19:04:51.000000000",
          "2025-04-21T19:04:59.000000000",
          "2025-04-21T19:05:08.000000000",
          "2025-04-21T19:05:21.000000000",
          "2025-04-21T19:05:30.000000000",
          "2025-04-21T19:05:37.000000000"
         ]
        }
       ],
       "layout": {
        "template": {
         "data": {
          "bar": [
           {
            "error_x": {
             "color": "#2a3f5f"
            },
            "error_y": {
             "color": "#2a3f5f"
            },
            "marker": {
             "line": {
              "color": "#E5ECF6",
              "width": 0.5
             },
             "pattern": {
              "fillmode": "overlay",
              "size": 10,
              "solidity": 0.2
             }
            },
            "type": "bar"
           }
          ],
          "barpolar": [
           {
            "marker": {
             "line": {
              "color": "#E5ECF6",
              "width": 0.5
             },
             "pattern": {
              "fillmode": "overlay",
              "size": 10,
              "solidity": 0.2
             }
            },
            "type": "barpolar"
           }
          ],
          "carpet": [
           {
            "aaxis": {
             "endlinecolor": "#2a3f5f",
             "gridcolor": "white",
             "linecolor": "white",
             "minorgridcolor": "white",
             "startlinecolor": "#2a3f5f"
            },
            "baxis": {
             "endlinecolor": "#2a3f5f",
             "gridcolor": "white",
             "linecolor": "white",
             "minorgridcolor": "white",
             "startlinecolor": "#2a3f5f"
            },
            "type": "carpet"
           }
          ],
          "choropleth": [
           {
            "colorbar": {
             "outlinewidth": 0,
             "ticks": ""
            },
            "type": "choropleth"
           }
          ],
          "contour": [
           {
            "colorbar": {
             "outlinewidth": 0,
             "ticks": ""
            },
            "colorscale": [
             [
              0,
              "#0d0887"
             ],
             [
              0.1111111111111111,
              "#46039f"
             ],
             [
              0.2222222222222222,
              "#7201a8"
             ],
             [
              0.3333333333333333,
              "#9c179e"
             ],
             [
              0.4444444444444444,
              "#bd3786"
             ],
             [
              0.5555555555555556,
              "#d8576b"
             ],
             [
              0.6666666666666666,
              "#ed7953"
             ],
             [
              0.7777777777777778,
              "#fb9f3a"
             ],
             [
              0.8888888888888888,
              "#fdca26"
             ],
             [
              1,
              "#f0f921"
             ]
            ],
            "type": "contour"
           }
          ],
          "contourcarpet": [
           {
            "colorbar": {
             "outlinewidth": 0,
             "ticks": ""
            },
            "type": "contourcarpet"
           }
          ],
          "heatmap": [
           {
            "colorbar": {
             "outlinewidth": 0,
             "ticks": ""
            },
            "colorscale": [
             [
              0,
              "#0d0887"
             ],
             [
              0.1111111111111111,
              "#46039f"
             ],
             [
              0.2222222222222222,
              "#7201a8"
             ],
             [
              0.3333333333333333,
              "#9c179e"
             ],
             [
              0.4444444444444444,
              "#bd3786"
             ],
             [
              0.5555555555555556,
              "#d8576b"
             ],
             [
              0.6666666666666666,
              "#ed7953"
             ],
             [
              0.7777777777777778,
              "#fb9f3a"
             ],
             [
              0.8888888888888888,
              "#fdca26"
             ],
             [
              1,
              "#f0f921"
             ]
            ],
            "type": "heatmap"
           }
          ],
          "histogram": [
           {
            "marker": {
             "pattern": {
              "fillmode": "overlay",
              "size": 10,
              "solidity": 0.2
             }
            },
            "type": "histogram"
           }
          ],
          "histogram2d": [
           {
            "colorbar": {
             "outlinewidth": 0,
             "ticks": ""
            },
            "colorscale": [
             [
              0,
              "#0d0887"
             ],
             [
              0.1111111111111111,
              "#46039f"
             ],
             [
              0.2222222222222222,
              "#7201a8"
             ],
             [
              0.3333333333333333,
              "#9c179e"
             ],
             [
              0.4444444444444444,
              "#bd3786"
             ],
             [
              0.5555555555555556,
              "#d8576b"
             ],
             [
              0.6666666666666666,
              "#ed7953"
             ],
             [
              0.7777777777777778,
              "#fb9f3a"
             ],
             [
              0.8888888888888888,
              "#fdca26"
             ],
             [
              1,
              "#f0f921"
             ]
            ],
            "type": "histogram2d"
           }
          ],
          "histogram2dcontour": [
           {
            "colorbar": {
             "outlinewidth": 0,
             "ticks": ""
            },
            "colorscale": [
             [
              0,
              "#0d0887"
             ],
             [
              0.1111111111111111,
              "#46039f"
             ],
             [
              0.2222222222222222,
              "#7201a8"
             ],
             [
              0.3333333333333333,
              "#9c179e"
             ],
             [
              0.4444444444444444,
              "#bd3786"
             ],
             [
              0.5555555555555556,
              "#d8576b"
             ],
             [
              0.6666666666666666,
              "#ed7953"
             ],
             [
              0.7777777777777778,
              "#fb9f3a"
             ],
             [
              0.8888888888888888,
              "#fdca26"
             ],
             [
              1,
              "#f0f921"
             ]
            ],
            "type": "histogram2dcontour"
           }
          ],
          "mesh3d": [
           {
            "colorbar": {
             "outlinewidth": 0,
             "ticks": ""
            },
            "type": "mesh3d"
           }
          ],
          "parcoords": [
           {
            "line": {
             "colorbar": {
              "outlinewidth": 0,
              "ticks": ""
             }
            },
            "type": "parcoords"
           }
          ],
          "pie": [
           {
            "automargin": true,
            "type": "pie"
           }
          ],
          "scatter": [
           {
            "fillpattern": {
             "fillmode": "overlay",
             "size": 10,
             "solidity": 0.2
            },
            "type": "scatter"
           }
          ],
          "scatter3d": [
           {
            "line": {
             "colorbar": {
              "outlinewidth": 0,
              "ticks": ""
             }
            },
            "marker": {
             "colorbar": {
              "outlinewidth": 0,
              "ticks": ""
             }
            },
            "type": "scatter3d"
           }
          ],
          "scattercarpet": [
           {
            "marker": {
             "colorbar": {
              "outlinewidth": 0,
              "ticks": ""
             }
            },
            "type": "scattercarpet"
           }
          ],
          "scattergeo": [
           {
            "marker": {
             "colorbar": {
              "outlinewidth": 0,
              "ticks": ""
             }
            },
            "type": "scattergeo"
           }
          ],
          "scattergl": [
           {
            "marker": {
             "colorbar": {
              "outlinewidth": 0,
              "ticks": ""
             }
            },
            "type": "scattergl"
           }
          ],
          "scattermap": [
           {
            "marker": {
             "colorbar": {
              "outlinewidth": 0,
              "ticks": ""
             }
            },
            "type": "scattermap"
           }
          ],
          "scattermapbox": [
           {
            "marker": {
             "colorbar": {
              "outlinewidth": 0,
              "ticks": ""
             }
            },
            "type": "scattermapbox"
           }
          ],
          "scatterpolar": [
           {
            "marker": {
             "colorbar": {
              "outlinewidth": 0,
              "ticks": ""
             }
            },
            "type": "scatterpolar"
           }
          ],
          "scatterpolargl": [
           {
            "marker": {
             "colorbar": {
              "outlinewidth": 0,
              "ticks": ""
             }
            },
            "type": "scatterpolargl"
           }
          ],
          "scatterternary": [
           {
            "marker": {
             "colorbar": {
              "outlinewidth": 0,
              "ticks": ""
             }
            },
            "type": "scatterternary"
           }
          ],
          "surface": [
           {
            "colorbar": {
             "outlinewidth": 0,
             "ticks": ""
            },
            "colorscale": [
             [
              0,
              "#0d0887"
             ],
             [
              0.1111111111111111,
              "#46039f"
             ],
             [
              0.2222222222222222,
              "#7201a8"
             ],
             [
              0.3333333333333333,
              "#9c179e"
             ],
             [
              0.4444444444444444,
              "#bd3786"
             ],
             [
              0.5555555555555556,
              "#d8576b"
             ],
             [
              0.6666666666666666,
              "#ed7953"
             ],
             [
              0.7777777777777778,
              "#fb9f3a"
             ],
             [
              0.8888888888888888,
              "#fdca26"
             ],
             [
              1,
              "#f0f921"
             ]
            ],
            "type": "surface"
           }
          ],
          "table": [
           {
            "cells": {
             "fill": {
              "color": "#EBF0F8"
             },
             "line": {
              "color": "white"
             }
            },
            "header": {
             "fill": {
              "color": "#C8D4E3"
             },
             "line": {
              "color": "white"
             }
            },
            "type": "table"
           }
          ]
         },
         "layout": {
          "annotationdefaults": {
           "arrowcolor": "#2a3f5f",
           "arrowhead": 0,
           "arrowwidth": 1
          },
          "autotypenumbers": "strict",
          "coloraxis": {
           "colorbar": {
            "outlinewidth": 0,
            "ticks": ""
           }
          },
          "colorscale": {
           "diverging": [
            [
             0,
             "#8e0152"
            ],
            [
             0.1,
             "#c51b7d"
            ],
            [
             0.2,
             "#de77ae"
            ],
            [
             0.3,
             "#f1b6da"
            ],
            [
             0.4,
             "#fde0ef"
            ],
            [
             0.5,
             "#f7f7f7"
            ],
            [
             0.6,
             "#e6f5d0"
            ],
            [
             0.7,
             "#b8e186"
            ],
            [
             0.8,
             "#7fbc41"
            ],
            [
             0.9,
             "#4d9221"
            ],
            [
             1,
             "#276419"
            ]
           ],
           "sequential": [
            [
             0,
             "#0d0887"
            ],
            [
             0.1111111111111111,
             "#46039f"
            ],
            [
             0.2222222222222222,
             "#7201a8"
            ],
            [
             0.3333333333333333,
             "#9c179e"
            ],
            [
             0.4444444444444444,
             "#bd3786"
            ],
            [
             0.5555555555555556,
             "#d8576b"
            ],
            [
             0.6666666666666666,
             "#ed7953"
            ],
            [
             0.7777777777777778,
             "#fb9f3a"
            ],
            [
             0.8888888888888888,
             "#fdca26"
            ],
            [
             1,
             "#f0f921"
            ]
           ],
           "sequentialminus": [
            [
             0,
             "#0d0887"
            ],
            [
             0.1111111111111111,
             "#46039f"
            ],
            [
             0.2222222222222222,
             "#7201a8"
            ],
            [
             0.3333333333333333,
             "#9c179e"
            ],
            [
             0.4444444444444444,
             "#bd3786"
            ],
            [
             0.5555555555555556,
             "#d8576b"
            ],
            [
             0.6666666666666666,
             "#ed7953"
            ],
            [
             0.7777777777777778,
             "#fb9f3a"
            ],
            [
             0.8888888888888888,
             "#fdca26"
            ],
            [
             1,
             "#f0f921"
            ]
           ]
          },
          "colorway": [
           "#636efa",
           "#EF553B",
           "#00cc96",
           "#ab63fa",
           "#FFA15A",
           "#19d3f3",
           "#FF6692",
           "#B6E880",
           "#FF97FF",
           "#FECB52"
          ],
          "font": {
           "color": "#2a3f5f"
          },
          "geo": {
           "bgcolor": "white",
           "lakecolor": "white",
           "landcolor": "#E5ECF6",
           "showlakes": true,
           "showland": true,
           "subunitcolor": "white"
          },
          "hoverlabel": {
           "align": "left"
          },
          "hovermode": "closest",
          "mapbox": {
           "style": "light"
          },
          "paper_bgcolor": "white",
          "plot_bgcolor": "#E5ECF6",
          "polar": {
           "angularaxis": {
            "gridcolor": "white",
            "linecolor": "white",
            "ticks": ""
           },
           "bgcolor": "#E5ECF6",
           "radialaxis": {
            "gridcolor": "white",
            "linecolor": "white",
            "ticks": ""
           }
          },
          "scene": {
           "xaxis": {
            "backgroundcolor": "#E5ECF6",
            "gridcolor": "white",
            "gridwidth": 2,
            "linecolor": "white",
            "showbackground": true,
            "ticks": "",
            "zerolinecolor": "white"
           },
           "yaxis": {
            "backgroundcolor": "#E5ECF6",
            "gridcolor": "white",
            "gridwidth": 2,
            "linecolor": "white",
            "showbackground": true,
            "ticks": "",
            "zerolinecolor": "white"
           },
           "zaxis": {
            "backgroundcolor": "#E5ECF6",
            "gridcolor": "white",
            "gridwidth": 2,
            "linecolor": "white",
            "showbackground": true,
            "ticks": "",
            "zerolinecolor": "white"
           }
          },
          "shapedefaults": {
           "line": {
            "color": "#2a3f5f"
           }
          },
          "ternary": {
           "aaxis": {
            "gridcolor": "white",
            "linecolor": "white",
            "ticks": ""
           },
           "baxis": {
            "gridcolor": "white",
            "linecolor": "white",
            "ticks": ""
           },
           "bgcolor": "#E5ECF6",
           "caxis": {
            "gridcolor": "white",
            "linecolor": "white",
            "ticks": ""
           }
          },
          "title": {
           "x": 0.05
          },
          "xaxis": {
           "automargin": true,
           "gridcolor": "white",
           "linecolor": "white",
           "ticks": "",
           "title": {
            "standoff": 15
           },
           "zerolinecolor": "white",
           "zerolinewidth": 2
          },
          "yaxis": {
           "automargin": true,
           "gridcolor": "white",
           "linecolor": "white",
           "ticks": "",
           "title": {
            "standoff": 15
           },
           "zerolinecolor": "white",
           "zerolinewidth": 2
          }
         }
        },
        "title": {
         "text": "GOOGL Candlestick Chart (Real Time Data)"
        },
        "xaxis": {
         "title": {
          "text": "Time"
         }
        },
        "yaxis": {
         "title": {
          "text": "Price"
         }
        }
       }
      }
     },
     "metadata": {},
     "output_type": "display_data"
    },
    {
     "data": {
      "application/vnd.plotly.v1+json": {
       "config": {
        "plotlyServerURL": "https://plot.ly"
       },
       "data": [
        {
         "close": {
          "bdata": "7FG4HoU/fkDsUbgehT9+QKRwPQrXP35ApHA9Ctc/fkCkcD0K1z9+QKRwPQrXP35ApHA9Ctc/fkCkcD0K1z9+QNejcD0KQ35A16NwPQpDfkDXo3A9CkN+QNejcD0KQ35A16NwPQpDfkDXo3A9CkN+QClcj8L1QH5AKVyPwvVAfkApXI/C9UB+QClcj8L1QH5A",
          "dtype": "f8"
         },
         "high": {
          "bdata": "AAAAAADYfkAAAAAAANh+QAAAAAAA2H5AAAAAAADYfkAAAAAAANh+QAAAAAAA2H5AAAAAAADYfkAAAAAAANh+QAAAAAAA2H5AAAAAAADYfkAAAAAAANh+QAAAAAAA2H5AAAAAAADYfkAAAAAAANh+QAAAAAAA2H5AAAAAAADYfkAAAAAAANh+QAAAAAAA2H5A",
          "dtype": "f8"
         },
         "low": {
          "bdata": "zczMzMz8fUDNzMzMzPx9QM3MzMzM/H1AzczMzMz8fUDNzMzMzPx9QM3MzMzM/H1AzczMzMz8fUDNzMzMzPx9QM3MzMzM/H1AzczMzMz8fUDNzMzMzPx9QM3MzMzM/H1AzczMzMz8fUDNzMzMzPx9QM3MzMzM/H1AzczMzMz8fUDNzMzMzPx9QM3MzMzM/H1A",
          "dtype": "f8"
         },
         "open": {
          "bdata": "MzMzMzO1fkAzMzMzM7V+QDMzMzMztX5AMzMzMzO1fkAzMzMzM7V+QDMzMzMztX5AMzMzMzO1fkAzMzMzM7V+QDMzMzMztX5AMzMzMzO1fkAzMzMzM7V+QDMzMzMztX5AMzMzMzO1fkAzMzMzM7V+QDMzMzMztX5AMzMzMzO1fkAzMzMzM7V+QDMzMzMztX5A",
          "dtype": "f8"
         },
         "type": "candlestick",
         "x": [
          "2025-04-21T19:02:49.000000000",
          "2025-04-21T19:02:58.000000000",
          "2025-04-21T19:03:07.000000000",
          "2025-04-21T19:03:19.000000000",
          "2025-04-21T19:03:25.000000000",
          "2025-04-21T19:03:34.000000000",
          "2025-04-21T19:03:43.000000000",
          "2025-04-21T19:03:51.000000000",
          "2025-04-21T19:04:06.000000000",
          "2025-04-21T19:04:16.000000000",
          "2025-04-21T19:04:30.000000000",
          "2025-04-21T19:04:36.000000000",
          "2025-04-21T19:04:42.000000000",
          "2025-04-21T19:04:59.000000000",
          "2025-04-21T19:05:08.000000000",
          "2025-04-21T19:05:21.000000000",
          "2025-04-21T19:05:27.000000000",
          "2025-04-21T19:05:37.000000000"
         ]
        }
       ],
       "layout": {
        "template": {
         "data": {
          "bar": [
           {
            "error_x": {
             "color": "#2a3f5f"
            },
            "error_y": {
             "color": "#2a3f5f"
            },
            "marker": {
             "line": {
              "color": "#E5ECF6",
              "width": 0.5
             },
             "pattern": {
              "fillmode": "overlay",
              "size": 10,
              "solidity": 0.2
             }
            },
            "type": "bar"
           }
          ],
          "barpolar": [
           {
            "marker": {
             "line": {
              "color": "#E5ECF6",
              "width": 0.5
             },
             "pattern": {
              "fillmode": "overlay",
              "size": 10,
              "solidity": 0.2
             }
            },
            "type": "barpolar"
           }
          ],
          "carpet": [
           {
            "aaxis": {
             "endlinecolor": "#2a3f5f",
             "gridcolor": "white",
             "linecolor": "white",
             "minorgridcolor": "white",
             "startlinecolor": "#2a3f5f"
            },
            "baxis": {
             "endlinecolor": "#2a3f5f",
             "gridcolor": "white",
             "linecolor": "white",
             "minorgridcolor": "white",
             "startlinecolor": "#2a3f5f"
            },
            "type": "carpet"
           }
          ],
          "choropleth": [
           {
            "colorbar": {
             "outlinewidth": 0,
             "ticks": ""
            },
            "type": "choropleth"
           }
          ],
          "contour": [
           {
            "colorbar": {
             "outlinewidth": 0,
             "ticks": ""
            },
            "colorscale": [
             [
              0,
              "#0d0887"
             ],
             [
              0.1111111111111111,
              "#46039f"
             ],
             [
              0.2222222222222222,
              "#7201a8"
             ],
             [
              0.3333333333333333,
              "#9c179e"
             ],
             [
              0.4444444444444444,
              "#bd3786"
             ],
             [
              0.5555555555555556,
              "#d8576b"
             ],
             [
              0.6666666666666666,
              "#ed7953"
             ],
             [
              0.7777777777777778,
              "#fb9f3a"
             ],
             [
              0.8888888888888888,
              "#fdca26"
             ],
             [
              1,
              "#f0f921"
             ]
            ],
            "type": "contour"
           }
          ],
          "contourcarpet": [
           {
            "colorbar": {
             "outlinewidth": 0,
             "ticks": ""
            },
            "type": "contourcarpet"
           }
          ],
          "heatmap": [
           {
            "colorbar": {
             "outlinewidth": 0,
             "ticks": ""
            },
            "colorscale": [
             [
              0,
              "#0d0887"
             ],
             [
              0.1111111111111111,
              "#46039f"
             ],
             [
              0.2222222222222222,
              "#7201a8"
             ],
             [
              0.3333333333333333,
              "#9c179e"
             ],
             [
              0.4444444444444444,
              "#bd3786"
             ],
             [
              0.5555555555555556,
              "#d8576b"
             ],
             [
              0.6666666666666666,
              "#ed7953"
             ],
             [
              0.7777777777777778,
              "#fb9f3a"
             ],
             [
              0.8888888888888888,
              "#fdca26"
             ],
             [
              1,
              "#f0f921"
             ]
            ],
            "type": "heatmap"
           }
          ],
          "histogram": [
           {
            "marker": {
             "pattern": {
              "fillmode": "overlay",
              "size": 10,
              "solidity": 0.2
             }
            },
            "type": "histogram"
           }
          ],
          "histogram2d": [
           {
            "colorbar": {
             "outlinewidth": 0,
             "ticks": ""
            },
            "colorscale": [
             [
              0,
              "#0d0887"
             ],
             [
              0.1111111111111111,
              "#46039f"
             ],
             [
              0.2222222222222222,
              "#7201a8"
             ],
             [
              0.3333333333333333,
              "#9c179e"
             ],
             [
              0.4444444444444444,
              "#bd3786"
             ],
             [
              0.5555555555555556,
              "#d8576b"
             ],
             [
              0.6666666666666666,
              "#ed7953"
             ],
             [
              0.7777777777777778,
              "#fb9f3a"
             ],
             [
              0.8888888888888888,
              "#fdca26"
             ],
             [
              1,
              "#f0f921"
             ]
            ],
            "type": "histogram2d"
           }
          ],
          "histogram2dcontour": [
           {
            "colorbar": {
             "outlinewidth": 0,
             "ticks": ""
            },
            "colorscale": [
             [
              0,
              "#0d0887"
             ],
             [
              0.1111111111111111,
              "#46039f"
             ],
             [
              0.2222222222222222,
              "#7201a8"
             ],
             [
              0.3333333333333333,
              "#9c179e"
             ],
             [
              0.4444444444444444,
              "#bd3786"
             ],
             [
              0.5555555555555556,
              "#d8576b"
             ],
             [
              0.6666666666666666,
              "#ed7953"
             ],
             [
              0.7777777777777778,
              "#fb9f3a"
             ],
             [
              0.8888888888888888,
              "#fdca26"
             ],
             [
              1,
              "#f0f921"
             ]
            ],
            "type": "histogram2dcontour"
           }
          ],
          "mesh3d": [
           {
            "colorbar": {
             "outlinewidth": 0,
             "ticks": ""
            },
            "type": "mesh3d"
           }
          ],
          "parcoords": [
           {
            "line": {
             "colorbar": {
              "outlinewidth": 0,
              "ticks": ""
             }
            },
            "type": "parcoords"
           }
          ],
          "pie": [
           {
            "automargin": true,
            "type": "pie"
           }
          ],
          "scatter": [
           {
            "fillpattern": {
             "fillmode": "overlay",
             "size": 10,
             "solidity": 0.2
            },
            "type": "scatter"
           }
          ],
          "scatter3d": [
           {
            "line": {
             "colorbar": {
              "outlinewidth": 0,
              "ticks": ""
             }
            },
            "marker": {
             "colorbar": {
              "outlinewidth": 0,
              "ticks": ""
             }
            },
            "type": "scatter3d"
           }
          ],
          "scattercarpet": [
           {
            "marker": {
             "colorbar": {
              "outlinewidth": 0,
              "ticks": ""
             }
            },
            "type": "scattercarpet"
           }
          ],
          "scattergeo": [
           {
            "marker": {
             "colorbar": {
              "outlinewidth": 0,
              "ticks": ""
             }
            },
            "type": "scattergeo"
           }
          ],
          "scattergl": [
           {
            "marker": {
             "colorbar": {
              "outlinewidth": 0,
              "ticks": ""
             }
            },
            "type": "scattergl"
           }
          ],
          "scattermap": [
           {
            "marker": {
             "colorbar": {
              "outlinewidth": 0,
              "ticks": ""
             }
            },
            "type": "scattermap"
           }
          ],
          "scattermapbox": [
           {
            "marker": {
             "colorbar": {
              "outlinewidth": 0,
              "ticks": ""
             }
            },
            "type": "scattermapbox"
           }
          ],
          "scatterpolar": [
           {
            "marker": {
             "colorbar": {
              "outlinewidth": 0,
              "ticks": ""
             }
            },
            "type": "scatterpolar"
           }
          ],
          "scatterpolargl": [
           {
            "marker": {
             "colorbar": {
              "outlinewidth": 0,
              "ticks": ""
             }
            },
            "type": "scatterpolargl"
           }
          ],
          "scatterternary": [
           {
            "marker": {
             "colorbar": {
              "outlinewidth": 0,
              "ticks": ""
             }
            },
            "type": "scatterternary"
           }
          ],
          "surface": [
           {
            "colorbar": {
             "outlinewidth": 0,
             "ticks": ""
            },
            "colorscale": [
             [
              0,
              "#0d0887"
             ],
             [
              0.1111111111111111,
              "#46039f"
             ],
             [
              0.2222222222222222,
              "#7201a8"
             ],
             [
              0.3333333333333333,
              "#9c179e"
             ],
             [
              0.4444444444444444,
              "#bd3786"
             ],
             [
              0.5555555555555556,
              "#d8576b"
             ],
             [
              0.6666666666666666,
              "#ed7953"
             ],
             [
              0.7777777777777778,
              "#fb9f3a"
             ],
             [
              0.8888888888888888,
              "#fdca26"
             ],
             [
              1,
              "#f0f921"
             ]
            ],
            "type": "surface"
           }
          ],
          "table": [
           {
            "cells": {
             "fill": {
              "color": "#EBF0F8"
             },
             "line": {
              "color": "white"
             }
            },
            "header": {
             "fill": {
              "color": "#C8D4E3"
             },
             "line": {
              "color": "white"
             }
            },
            "type": "table"
           }
          ]
         },
         "layout": {
          "annotationdefaults": {
           "arrowcolor": "#2a3f5f",
           "arrowhead": 0,
           "arrowwidth": 1
          },
          "autotypenumbers": "strict",
          "coloraxis": {
           "colorbar": {
            "outlinewidth": 0,
            "ticks": ""
           }
          },
          "colorscale": {
           "diverging": [
            [
             0,
             "#8e0152"
            ],
            [
             0.1,
             "#c51b7d"
            ],
            [
             0.2,
             "#de77ae"
            ],
            [
             0.3,
             "#f1b6da"
            ],
            [
             0.4,
             "#fde0ef"
            ],
            [
             0.5,
             "#f7f7f7"
            ],
            [
             0.6,
             "#e6f5d0"
            ],
            [
             0.7,
             "#b8e186"
            ],
            [
             0.8,
             "#7fbc41"
            ],
            [
             0.9,
             "#4d9221"
            ],
            [
             1,
             "#276419"
            ]
           ],
           "sequential": [
            [
             0,
             "#0d0887"
            ],
            [
             0.1111111111111111,
             "#46039f"
            ],
            [
             0.2222222222222222,
             "#7201a8"
            ],
            [
             0.3333333333333333,
             "#9c179e"
            ],
            [
             0.4444444444444444,
             "#bd3786"
            ],
            [
             0.5555555555555556,
             "#d8576b"
            ],
            [
             0.6666666666666666,
             "#ed7953"
            ],
            [
             0.7777777777777778,
             "#fb9f3a"
            ],
            [
             0.8888888888888888,
             "#fdca26"
            ],
            [
             1,
             "#f0f921"
            ]
           ],
           "sequentialminus": [
            [
             0,
             "#0d0887"
            ],
            [
             0.1111111111111111,
             "#46039f"
            ],
            [
             0.2222222222222222,
             "#7201a8"
            ],
            [
             0.3333333333333333,
             "#9c179e"
            ],
            [
             0.4444444444444444,
             "#bd3786"
            ],
            [
             0.5555555555555556,
             "#d8576b"
            ],
            [
             0.6666666666666666,
             "#ed7953"
            ],
            [
             0.7777777777777778,
             "#fb9f3a"
            ],
            [
             0.8888888888888888,
             "#fdca26"
            ],
            [
             1,
             "#f0f921"
            ]
           ]
          },
          "colorway": [
           "#636efa",
           "#EF553B",
           "#00cc96",
           "#ab63fa",
           "#FFA15A",
           "#19d3f3",
           "#FF6692",
           "#B6E880",
           "#FF97FF",
           "#FECB52"
          ],
          "font": {
           "color": "#2a3f5f"
          },
          "geo": {
           "bgcolor": "white",
           "lakecolor": "white",
           "landcolor": "#E5ECF6",
           "showlakes": true,
           "showland": true,
           "subunitcolor": "white"
          },
          "hoverlabel": {
           "align": "left"
          },
          "hovermode": "closest",
          "mapbox": {
           "style": "light"
          },
          "paper_bgcolor": "white",
          "plot_bgcolor": "#E5ECF6",
          "polar": {
           "angularaxis": {
            "gridcolor": "white",
            "linecolor": "white",
            "ticks": ""
           },
           "bgcolor": "#E5ECF6",
           "radialaxis": {
            "gridcolor": "white",
            "linecolor": "white",
            "ticks": ""
           }
          },
          "scene": {
           "xaxis": {
            "backgroundcolor": "#E5ECF6",
            "gridcolor": "white",
            "gridwidth": 2,
            "linecolor": "white",
            "showbackground": true,
            "ticks": "",
            "zerolinecolor": "white"
           },
           "yaxis": {
            "backgroundcolor": "#E5ECF6",
            "gridcolor": "white",
            "gridwidth": 2,
            "linecolor": "white",
            "showbackground": true,
            "ticks": "",
            "zerolinecolor": "white"
           },
           "zaxis": {
            "backgroundcolor": "#E5ECF6",
            "gridcolor": "white",
            "gridwidth": 2,
            "linecolor": "white",
            "showbackground": true,
            "ticks": "",
            "zerolinecolor": "white"
           }
          },
          "shapedefaults": {
           "line": {
            "color": "#2a3f5f"
           }
          },
          "ternary": {
           "aaxis": {
            "gridcolor": "white",
            "linecolor": "white",
            "ticks": ""
           },
           "baxis": {
            "gridcolor": "white",
            "linecolor": "white",
            "ticks": ""
           },
           "bgcolor": "#E5ECF6",
           "caxis": {
            "gridcolor": "white",
            "linecolor": "white",
            "ticks": ""
           }
          },
          "title": {
           "x": 0.05
          },
          "xaxis": {
           "automargin": true,
           "gridcolor": "white",
           "linecolor": "white",
           "ticks": "",
           "title": {
            "standoff": 15
           },
           "zerolinecolor": "white",
           "zerolinewidth": 2
          },
          "yaxis": {
           "automargin": true,
           "gridcolor": "white",
           "linecolor": "white",
           "ticks": "",
           "title": {
            "standoff": 15
           },
           "zerolinecolor": "white",
           "zerolinewidth": 2
          }
         }
        },
        "title": {
         "text": "META Candlestick Chart (Real Time Data)"
        },
        "xaxis": {
         "title": {
          "text": "Time"
         }
        },
        "yaxis": {
         "title": {
          "text": "Price"
         }
        }
       }
      }
     },
     "metadata": {},
     "output_type": "display_data"
    },
    {
     "data": {
      "application/vnd.plotly.v1+json": {
       "config": {
        "plotlyServerURL": "https://plot.ly"
       },
       "data": [
        {
         "close": {
          "bdata": "UrgehetFdkBSuB6F60V2QArXo3A9SnZACtejcD1KdkAK16NwPUp2QArXo3A9SnZACtejcD1KdkAK16NwPUp2QEjhehSuR3ZASOF6FK5HdkBI4XoUrkd2QEjhehSuR3ZASOF6FK5HdkBI4XoUrkd2QPYoXI/CSXZA9ihcj8JJdkD2KFyPwkl2QPYoXI/CSXZA",
          "dtype": "f8"
         },
         "high": {
          "bdata": "SOF6FK7HdkBI4XoUrsd2QEjhehSux3ZASOF6FK7HdkBI4XoUrsd2QEjhehSux3ZASOF6FK7HdkBI4XoUrsd2QEjhehSux3ZASOF6FK7HdkBI4XoUrsd2QEjhehSux3ZASOF6FK7HdkBI4XoUrsd2QEjhehSux3ZASOF6FK7HdkBI4XoUrsd2QEjhehSux3ZA",
          "dtype": "f8"
         },
         "low": {
          "bdata": "H4XrUbg6dkAfhetRuDp2QB+F61G4OnZAH4XrUbg6dkAfhetRuDp2QB+F61G4OnZAH4XrUbg6dkAfhetRuDp2QB+F61G4OnZAH4XrUbg6dkAfhetRuDp2QB+F61G4OnZAH4XrUbg6dkAfhetRuDp2QB+F61G4OnZAH4XrUbg6dkAfhetRuDp2QB+F61G4OnZA",
          "dtype": "f8"
         },
         "open": {
          "bdata": "16NwPQqtdkDXo3A9Cq12QNejcD0KrXZA16NwPQqtdkDXo3A9Cq12QNejcD0KrXZA16NwPQqtdkDXo3A9Cq12QNejcD0KrXZA16NwPQqtdkDXo3A9Cq12QNejcD0KrXZA16NwPQqtdkDXo3A9Cq12QNejcD0KrXZA16NwPQqtdkDXo3A9Cq12QNejcD0KrXZA",
          "dtype": "f8"
         },
         "type": "candlestick",
         "x": [
          "2025-04-21T19:02:45.000000000",
          "2025-04-21T19:02:58.000000000",
          "2025-04-21T19:03:07.000000000",
          "2025-04-21T19:03:19.000000000",
          "2025-04-21T19:03:24.000000000",
          "2025-04-21T19:03:39.000000000",
          "2025-04-21T19:03:44.000000000",
          "2025-04-21T19:03:53.000000000",
          "2025-04-21T19:04:09.000000000",
          "2025-04-21T19:04:17.000000000",
          "2025-04-21T19:04:30.000000000",
          "2025-04-21T19:04:38.000000000",
          "2025-04-21T19:04:51.000000000",
          "2025-04-21T19:05:00.000000000",
          "2025-04-21T19:05:12.000000000",
          "2025-04-21T19:05:20.000000000",
          "2025-04-21T19:05:28.000000000",
          "2025-04-21T19:05:35.000000000"
         ]
        }
       ],
       "layout": {
        "template": {
         "data": {
          "bar": [
           {
            "error_x": {
             "color": "#2a3f5f"
            },
            "error_y": {
             "color": "#2a3f5f"
            },
            "marker": {
             "line": {
              "color": "#E5ECF6",
              "width": 0.5
             },
             "pattern": {
              "fillmode": "overlay",
              "size": 10,
              "solidity": 0.2
             }
            },
            "type": "bar"
           }
          ],
          "barpolar": [
           {
            "marker": {
             "line": {
              "color": "#E5ECF6",
              "width": 0.5
             },
             "pattern": {
              "fillmode": "overlay",
              "size": 10,
              "solidity": 0.2
             }
            },
            "type": "barpolar"
           }
          ],
          "carpet": [
           {
            "aaxis": {
             "endlinecolor": "#2a3f5f",
             "gridcolor": "white",
             "linecolor": "white",
             "minorgridcolor": "white",
             "startlinecolor": "#2a3f5f"
            },
            "baxis": {
             "endlinecolor": "#2a3f5f",
             "gridcolor": "white",
             "linecolor": "white",
             "minorgridcolor": "white",
             "startlinecolor": "#2a3f5f"
            },
            "type": "carpet"
           }
          ],
          "choropleth": [
           {
            "colorbar": {
             "outlinewidth": 0,
             "ticks": ""
            },
            "type": "choropleth"
           }
          ],
          "contour": [
           {
            "colorbar": {
             "outlinewidth": 0,
             "ticks": ""
            },
            "colorscale": [
             [
              0,
              "#0d0887"
             ],
             [
              0.1111111111111111,
              "#46039f"
             ],
             [
              0.2222222222222222,
              "#7201a8"
             ],
             [
              0.3333333333333333,
              "#9c179e"
             ],
             [
              0.4444444444444444,
              "#bd3786"
             ],
             [
              0.5555555555555556,
              "#d8576b"
             ],
             [
              0.6666666666666666,
              "#ed7953"
             ],
             [
              0.7777777777777778,
              "#fb9f3a"
             ],
             [
              0.8888888888888888,
              "#fdca26"
             ],
             [
              1,
              "#f0f921"
             ]
            ],
            "type": "contour"
           }
          ],
          "contourcarpet": [
           {
            "colorbar": {
             "outlinewidth": 0,
             "ticks": ""
            },
            "type": "contourcarpet"
           }
          ],
          "heatmap": [
           {
            "colorbar": {
             "outlinewidth": 0,
             "ticks": ""
            },
            "colorscale": [
             [
              0,
              "#0d0887"
             ],
             [
              0.1111111111111111,
              "#46039f"
             ],
             [
              0.2222222222222222,
              "#7201a8"
             ],
             [
              0.3333333333333333,
              "#9c179e"
             ],
             [
              0.4444444444444444,
              "#bd3786"
             ],
             [
              0.5555555555555556,
              "#d8576b"
             ],
             [
              0.6666666666666666,
              "#ed7953"
             ],
             [
              0.7777777777777778,
              "#fb9f3a"
             ],
             [
              0.8888888888888888,
              "#fdca26"
             ],
             [
              1,
              "#f0f921"
             ]
            ],
            "type": "heatmap"
           }
          ],
          "histogram": [
           {
            "marker": {
             "pattern": {
              "fillmode": "overlay",
              "size": 10,
              "solidity": 0.2
             }
            },
            "type": "histogram"
           }
          ],
          "histogram2d": [
           {
            "colorbar": {
             "outlinewidth": 0,
             "ticks": ""
            },
            "colorscale": [
             [
              0,
              "#0d0887"
             ],
             [
              0.1111111111111111,
              "#46039f"
             ],
             [
              0.2222222222222222,
              "#7201a8"
             ],
             [
              0.3333333333333333,
              "#9c179e"
             ],
             [
              0.4444444444444444,
              "#bd3786"
             ],
             [
              0.5555555555555556,
              "#d8576b"
             ],
             [
              0.6666666666666666,
              "#ed7953"
             ],
             [
              0.7777777777777778,
              "#fb9f3a"
             ],
             [
              0.8888888888888888,
              "#fdca26"
             ],
             [
              1,
              "#f0f921"
             ]
            ],
            "type": "histogram2d"
           }
          ],
          "histogram2dcontour": [
           {
            "colorbar": {
             "outlinewidth": 0,
             "ticks": ""
            },
            "colorscale": [
             [
              0,
              "#0d0887"
             ],
             [
              0.1111111111111111,
              "#46039f"
             ],
             [
              0.2222222222222222,
              "#7201a8"
             ],
             [
              0.3333333333333333,
              "#9c179e"
             ],
             [
              0.4444444444444444,
              "#bd3786"
             ],
             [
              0.5555555555555556,
              "#d8576b"
             ],
             [
              0.6666666666666666,
              "#ed7953"
             ],
             [
              0.7777777777777778,
              "#fb9f3a"
             ],
             [
              0.8888888888888888,
              "#fdca26"
             ],
             [
              1,
              "#f0f921"
             ]
            ],
            "type": "histogram2dcontour"
           }
          ],
          "mesh3d": [
           {
            "colorbar": {
             "outlinewidth": 0,
             "ticks": ""
            },
            "type": "mesh3d"
           }
          ],
          "parcoords": [
           {
            "line": {
             "colorbar": {
              "outlinewidth": 0,
              "ticks": ""
             }
            },
            "type": "parcoords"
           }
          ],
          "pie": [
           {
            "automargin": true,
            "type": "pie"
           }
          ],
          "scatter": [
           {
            "fillpattern": {
             "fillmode": "overlay",
             "size": 10,
             "solidity": 0.2
            },
            "type": "scatter"
           }
          ],
          "scatter3d": [
           {
            "line": {
             "colorbar": {
              "outlinewidth": 0,
              "ticks": ""
             }
            },
            "marker": {
             "colorbar": {
              "outlinewidth": 0,
              "ticks": ""
             }
            },
            "type": "scatter3d"
           }
          ],
          "scattercarpet": [
           {
            "marker": {
             "colorbar": {
              "outlinewidth": 0,
              "ticks": ""
             }
            },
            "type": "scattercarpet"
           }
          ],
          "scattergeo": [
           {
            "marker": {
             "colorbar": {
              "outlinewidth": 0,
              "ticks": ""
             }
            },
            "type": "scattergeo"
           }
          ],
          "scattergl": [
           {
            "marker": {
             "colorbar": {
              "outlinewidth": 0,
              "ticks": ""
             }
            },
            "type": "scattergl"
           }
          ],
          "scattermap": [
           {
            "marker": {
             "colorbar": {
              "outlinewidth": 0,
              "ticks": ""
             }
            },
            "type": "scattermap"
           }
          ],
          "scattermapbox": [
           {
            "marker": {
             "colorbar": {
              "outlinewidth": 0,
              "ticks": ""
             }
            },
            "type": "scattermapbox"
           }
          ],
          "scatterpolar": [
           {
            "marker": {
             "colorbar": {
              "outlinewidth": 0,
              "ticks": ""
             }
            },
            "type": "scatterpolar"
           }
          ],
          "scatterpolargl": [
           {
            "marker": {
             "colorbar": {
              "outlinewidth": 0,
              "ticks": ""
             }
            },
            "type": "scatterpolargl"
           }
          ],
          "scatterternary": [
           {
            "marker": {
             "colorbar": {
              "outlinewidth": 0,
              "ticks": ""
             }
            },
            "type": "scatterternary"
           }
          ],
          "surface": [
           {
            "colorbar": {
             "outlinewidth": 0,
             "ticks": ""
            },
            "colorscale": [
             [
              0,
              "#0d0887"
             ],
             [
              0.1111111111111111,
              "#46039f"
             ],
             [
              0.2222222222222222,
              "#7201a8"
             ],
             [
              0.3333333333333333,
              "#9c179e"
             ],
             [
              0.4444444444444444,
              "#bd3786"
             ],
             [
              0.5555555555555556,
              "#d8576b"
             ],
             [
              0.6666666666666666,
              "#ed7953"
             ],
             [
              0.7777777777777778,
              "#fb9f3a"
             ],
             [
              0.8888888888888888,
              "#fdca26"
             ],
             [
              1,
              "#f0f921"
             ]
            ],
            "type": "surface"
           }
          ],
          "table": [
           {
            "cells": {
             "fill": {
              "color": "#EBF0F8"
             },
             "line": {
              "color": "white"
             }
            },
            "header": {
             "fill": {
              "color": "#C8D4E3"
             },
             "line": {
              "color": "white"
             }
            },
            "type": "table"
           }
          ]
         },
         "layout": {
          "annotationdefaults": {
           "arrowcolor": "#2a3f5f",
           "arrowhead": 0,
           "arrowwidth": 1
          },
          "autotypenumbers": "strict",
          "coloraxis": {
           "colorbar": {
            "outlinewidth": 0,
            "ticks": ""
           }
          },
          "colorscale": {
           "diverging": [
            [
             0,
             "#8e0152"
            ],
            [
             0.1,
             "#c51b7d"
            ],
            [
             0.2,
             "#de77ae"
            ],
            [
             0.3,
             "#f1b6da"
            ],
            [
             0.4,
             "#fde0ef"
            ],
            [
             0.5,
             "#f7f7f7"
            ],
            [
             0.6,
             "#e6f5d0"
            ],
            [
             0.7,
             "#b8e186"
            ],
            [
             0.8,
             "#7fbc41"
            ],
            [
             0.9,
             "#4d9221"
            ],
            [
             1,
             "#276419"
            ]
           ],
           "sequential": [
            [
             0,
             "#0d0887"
            ],
            [
             0.1111111111111111,
             "#46039f"
            ],
            [
             0.2222222222222222,
             "#7201a8"
            ],
            [
             0.3333333333333333,
             "#9c179e"
            ],
            [
             0.4444444444444444,
             "#bd3786"
            ],
            [
             0.5555555555555556,
             "#d8576b"
            ],
            [
             0.6666666666666666,
             "#ed7953"
            ],
            [
             0.7777777777777778,
             "#fb9f3a"
            ],
            [
             0.8888888888888888,
             "#fdca26"
            ],
            [
             1,
             "#f0f921"
            ]
           ],
           "sequentialminus": [
            [
             0,
             "#0d0887"
            ],
            [
             0.1111111111111111,
             "#46039f"
            ],
            [
             0.2222222222222222,
             "#7201a8"
            ],
            [
             0.3333333333333333,
             "#9c179e"
            ],
            [
             0.4444444444444444,
             "#bd3786"
            ],
            [
             0.5555555555555556,
             "#d8576b"
            ],
            [
             0.6666666666666666,
             "#ed7953"
            ],
            [
             0.7777777777777778,
             "#fb9f3a"
            ],
            [
             0.8888888888888888,
             "#fdca26"
            ],
            [
             1,
             "#f0f921"
            ]
           ]
          },
          "colorway": [
           "#636efa",
           "#EF553B",
           "#00cc96",
           "#ab63fa",
           "#FFA15A",
           "#19d3f3",
           "#FF6692",
           "#B6E880",
           "#FF97FF",
           "#FECB52"
          ],
          "font": {
           "color": "#2a3f5f"
          },
          "geo": {
           "bgcolor": "white",
           "lakecolor": "white",
           "landcolor": "#E5ECF6",
           "showlakes": true,
           "showland": true,
           "subunitcolor": "white"
          },
          "hoverlabel": {
           "align": "left"
          },
          "hovermode": "closest",
          "mapbox": {
           "style": "light"
          },
          "paper_bgcolor": "white",
          "plot_bgcolor": "#E5ECF6",
          "polar": {
           "angularaxis": {
            "gridcolor": "white",
            "linecolor": "white",
            "ticks": ""
           },
           "bgcolor": "#E5ECF6",
           "radialaxis": {
            "gridcolor": "white",
            "linecolor": "white",
            "ticks": ""
           }
          },
          "scene": {
           "xaxis": {
            "backgroundcolor": "#E5ECF6",
            "gridcolor": "white",
            "gridwidth": 2,
            "linecolor": "white",
            "showbackground": true,
            "ticks": "",
            "zerolinecolor": "white"
           },
           "yaxis": {
            "backgroundcolor": "#E5ECF6",
            "gridcolor": "white",
            "gridwidth": 2,
            "linecolor": "white",
            "showbackground": true,
            "ticks": "",
            "zerolinecolor": "white"
           },
           "zaxis": {
            "backgroundcolor": "#E5ECF6",
            "gridcolor": "white",
            "gridwidth": 2,
            "linecolor": "white",
            "showbackground": true,
            "ticks": "",
            "zerolinecolor": "white"
           }
          },
          "shapedefaults": {
           "line": {
            "color": "#2a3f5f"
           }
          },
          "ternary": {
           "aaxis": {
            "gridcolor": "white",
            "linecolor": "white",
            "ticks": ""
           },
           "baxis": {
            "gridcolor": "white",
            "linecolor": "white",
            "ticks": ""
           },
           "bgcolor": "#E5ECF6",
           "caxis": {
            "gridcolor": "white",
            "linecolor": "white",
            "ticks": ""
           }
          },
          "title": {
           "x": 0.05
          },
          "xaxis": {
           "automargin": true,
           "gridcolor": "white",
           "linecolor": "white",
           "ticks": "",
           "title": {
            "standoff": 15
           },
           "zerolinecolor": "white",
           "zerolinewidth": 2
          },
          "yaxis": {
           "automargin": true,
           "gridcolor": "white",
           "linecolor": "white",
           "ticks": "",
           "title": {
            "standoff": 15
           },
           "zerolinecolor": "white",
           "zerolinewidth": 2
          }
         }
        },
        "title": {
         "text": "MSFT Candlestick Chart (Real Time Data)"
        },
        "xaxis": {
         "title": {
          "text": "Time"
         }
        },
        "yaxis": {
         "title": {
          "text": "Price"
         }
        }
       }
      }
     },
     "metadata": {},
     "output_type": "display_data"
    },
    {
     "data": {
      "application/vnd.plotly.v1+json": {
       "config": {
        "plotlyServerURL": "https://plot.ly"
       },
       "data": [
        {
         "close": {
          "bdata": "MzMzMzPjV0AzMzMzM+NXQDcawFsg5VdANxrAWyDlV0A3GsBbIOVXQDcawFsg5VdANxrAWyDlV0A3GsBbIOVXQInS3uAL51dAidLe4AvnV0CJ0t7gC+dXQInS3uAL51dAidLe4AvnV0CJ0t7gC+dXQFK4HoXr6VdAUrgehevpV0BSuB6F6+lXQFK4HoXr6VdA",
          "dtype": "f8"
         },
         "high": {
          "bdata": "XI/C9SjcWEBcj8L1KNxYQFyPwvUo3FhAXI/C9SjcWEBcj8L1KNxYQFyPwvUo3FhAXI/C9SjcWEBcj8L1KNxYQFyPwvUo3FhAXI/C9SjcWEBcj8L1KNxYQFyPwvUo3FhAXI/C9SjcWEBcj8L1KNxYQFyPwvUo3FhAXI/C9SjcWEBcj8L1KNxYQFyPwvUo3FhA",
          "dtype": "f8"
         },
         "low": {
          "bdata": "w/UoXI/CV0DD9Shcj8JXQMP1KFyPwldAw/UoXI/CV0DD9Shcj8JXQMP1KFyPwldAw/UoXI/CV0DD9Shcj8JXQMP1KFyPwldAw/UoXI/CV0DD9Shcj8JXQMP1KFyPwldAw/UoXI/CV0DD9Shcj8JXQMP1KFyPwldAw/UoXI/CV0DD9Shcj8JXQMP1KFyPwldA",
          "dtype": "f8"
         },
         "open": {
          "bdata": "4XoUrkexWEDhehSuR7FYQOF6FK5HsVhA4XoUrkexWEDhehSuR7FYQOF6FK5HsVhA4XoUrkexWEDhehSuR7FYQOF6FK5HsVhA4XoUrkexWEDhehSuR7FYQOF6FK5HsVhA4XoUrkexWEDhehSuR7FYQOF6FK5HsVhA4XoUrkexWEDhehSuR7FYQOF6FK5HsVhA",
          "dtype": "f8"
         },
         "type": "candlestick",
         "x": [
          "2025-04-21T19:02:44.000000000",
          "2025-04-21T19:02:58.000000000",
          "2025-04-21T19:03:06.000000000",
          "2025-04-21T19:03:19.000000000",
          "2025-04-21T19:03:27.000000000",
          "2025-04-21T19:03:40.000000000",
          "2025-04-21T19:03:48.000000000",
          "2025-04-21T19:03:56.000000000",
          "2025-04-21T19:04:09.000000000",
          "2025-04-21T19:04:17.000000000",
          "2025-04-21T19:04:30.000000000",
          "2025-04-21T19:04:38.000000000",
          "2025-04-21T19:04:51.000000000",
          "2025-04-21T19:05:00.000000000",
          "2025-04-21T19:05:12.000000000",
          "2025-04-21T19:05:21.000000000",
          "2025-04-21T19:05:30.000000000",
          "2025-04-21T19:05:43.000000000"
         ]
        }
       ],
       "layout": {
        "template": {
         "data": {
          "bar": [
           {
            "error_x": {
             "color": "#2a3f5f"
            },
            "error_y": {
             "color": "#2a3f5f"
            },
            "marker": {
             "line": {
              "color": "#E5ECF6",
              "width": 0.5
             },
             "pattern": {
              "fillmode": "overlay",
              "size": 10,
              "solidity": 0.2
             }
            },
            "type": "bar"
           }
          ],
          "barpolar": [
           {
            "marker": {
             "line": {
              "color": "#E5ECF6",
              "width": 0.5
             },
             "pattern": {
              "fillmode": "overlay",
              "size": 10,
              "solidity": 0.2
             }
            },
            "type": "barpolar"
           }
          ],
          "carpet": [
           {
            "aaxis": {
             "endlinecolor": "#2a3f5f",
             "gridcolor": "white",
             "linecolor": "white",
             "minorgridcolor": "white",
             "startlinecolor": "#2a3f5f"
            },
            "baxis": {
             "endlinecolor": "#2a3f5f",
             "gridcolor": "white",
             "linecolor": "white",
             "minorgridcolor": "white",
             "startlinecolor": "#2a3f5f"
            },
            "type": "carpet"
           }
          ],
          "choropleth": [
           {
            "colorbar": {
             "outlinewidth": 0,
             "ticks": ""
            },
            "type": "choropleth"
           }
          ],
          "contour": [
           {
            "colorbar": {
             "outlinewidth": 0,
             "ticks": ""
            },
            "colorscale": [
             [
              0,
              "#0d0887"
             ],
             [
              0.1111111111111111,
              "#46039f"
             ],
             [
              0.2222222222222222,
              "#7201a8"
             ],
             [
              0.3333333333333333,
              "#9c179e"
             ],
             [
              0.4444444444444444,
              "#bd3786"
             ],
             [
              0.5555555555555556,
              "#d8576b"
             ],
             [
              0.6666666666666666,
              "#ed7953"
             ],
             [
              0.7777777777777778,
              "#fb9f3a"
             ],
             [
              0.8888888888888888,
              "#fdca26"
             ],
             [
              1,
              "#f0f921"
             ]
            ],
            "type": "contour"
           }
          ],
          "contourcarpet": [
           {
            "colorbar": {
             "outlinewidth": 0,
             "ticks": ""
            },
            "type": "contourcarpet"
           }
          ],
          "heatmap": [
           {
            "colorbar": {
             "outlinewidth": 0,
             "ticks": ""
            },
            "colorscale": [
             [
              0,
              "#0d0887"
             ],
             [
              0.1111111111111111,
              "#46039f"
             ],
             [
              0.2222222222222222,
              "#7201a8"
             ],
             [
              0.3333333333333333,
              "#9c179e"
             ],
             [
              0.4444444444444444,
              "#bd3786"
             ],
             [
              0.5555555555555556,
              "#d8576b"
             ],
             [
              0.6666666666666666,
              "#ed7953"
             ],
             [
              0.7777777777777778,
              "#fb9f3a"
             ],
             [
              0.8888888888888888,
              "#fdca26"
             ],
             [
              1,
              "#f0f921"
             ]
            ],
            "type": "heatmap"
           }
          ],
          "histogram": [
           {
            "marker": {
             "pattern": {
              "fillmode": "overlay",
              "size": 10,
              "solidity": 0.2
             }
            },
            "type": "histogram"
           }
          ],
          "histogram2d": [
           {
            "colorbar": {
             "outlinewidth": 0,
             "ticks": ""
            },
            "colorscale": [
             [
              0,
              "#0d0887"
             ],
             [
              0.1111111111111111,
              "#46039f"
             ],
             [
              0.2222222222222222,
              "#7201a8"
             ],
             [
              0.3333333333333333,
              "#9c179e"
             ],
             [
              0.4444444444444444,
              "#bd3786"
             ],
             [
              0.5555555555555556,
              "#d8576b"
             ],
             [
              0.6666666666666666,
              "#ed7953"
             ],
             [
              0.7777777777777778,
              "#fb9f3a"
             ],
             [
              0.8888888888888888,
              "#fdca26"
             ],
             [
              1,
              "#f0f921"
             ]
            ],
            "type": "histogram2d"
           }
          ],
          "histogram2dcontour": [
           {
            "colorbar": {
             "outlinewidth": 0,
             "ticks": ""
            },
            "colorscale": [
             [
              0,
              "#0d0887"
             ],
             [
              0.1111111111111111,
              "#46039f"
             ],
             [
              0.2222222222222222,
              "#7201a8"
             ],
             [
              0.3333333333333333,
              "#9c179e"
             ],
             [
              0.4444444444444444,
              "#bd3786"
             ],
             [
              0.5555555555555556,
              "#d8576b"
             ],
             [
              0.6666666666666666,
              "#ed7953"
             ],
             [
              0.7777777777777778,
              "#fb9f3a"
             ],
             [
              0.8888888888888888,
              "#fdca26"
             ],
             [
              1,
              "#f0f921"
             ]
            ],
            "type": "histogram2dcontour"
           }
          ],
          "mesh3d": [
           {
            "colorbar": {
             "outlinewidth": 0,
             "ticks": ""
            },
            "type": "mesh3d"
           }
          ],
          "parcoords": [
           {
            "line": {
             "colorbar": {
              "outlinewidth": 0,
              "ticks": ""
             }
            },
            "type": "parcoords"
           }
          ],
          "pie": [
           {
            "automargin": true,
            "type": "pie"
           }
          ],
          "scatter": [
           {
            "fillpattern": {
             "fillmode": "overlay",
             "size": 10,
             "solidity": 0.2
            },
            "type": "scatter"
           }
          ],
          "scatter3d": [
           {
            "line": {
             "colorbar": {
              "outlinewidth": 0,
              "ticks": ""
             }
            },
            "marker": {
             "colorbar": {
              "outlinewidth": 0,
              "ticks": ""
             }
            },
            "type": "scatter3d"
           }
          ],
          "scattercarpet": [
           {
            "marker": {
             "colorbar": {
              "outlinewidth": 0,
              "ticks": ""
             }
            },
            "type": "scattercarpet"
           }
          ],
          "scattergeo": [
           {
            "marker": {
             "colorbar": {
              "outlinewidth": 0,
              "ticks": ""
             }
            },
            "type": "scattergeo"
           }
          ],
          "scattergl": [
           {
            "marker": {
             "colorbar": {
              "outlinewidth": 0,
              "ticks": ""
             }
            },
            "type": "scattergl"
           }
          ],
          "scattermap": [
           {
            "marker": {
             "colorbar": {
              "outlinewidth": 0,
              "ticks": ""
             }
            },
            "type": "scattermap"
           }
          ],
          "scattermapbox": [
           {
            "marker": {
             "colorbar": {
              "outlinewidth": 0,
              "ticks": ""
             }
            },
            "type": "scattermapbox"
           }
          ],
          "scatterpolar": [
           {
            "marker": {
             "colorbar": {
              "outlinewidth": 0,
              "ticks": ""
             }
            },
            "type": "scatterpolar"
           }
          ],
          "scatterpolargl": [
           {
            "marker": {
             "colorbar": {
              "outlinewidth": 0,
              "ticks": ""
             }
            },
            "type": "scatterpolargl"
           }
          ],
          "scatterternary": [
           {
            "marker": {
             "colorbar": {
              "outlinewidth": 0,
              "ticks": ""
             }
            },
            "type": "scatterternary"
           }
          ],
          "surface": [
           {
            "colorbar": {
             "outlinewidth": 0,
             "ticks": ""
            },
            "colorscale": [
             [
              0,
              "#0d0887"
             ],
             [
              0.1111111111111111,
              "#46039f"
             ],
             [
              0.2222222222222222,
              "#7201a8"
             ],
             [
              0.3333333333333333,
              "#9c179e"
             ],
             [
              0.4444444444444444,
              "#bd3786"
             ],
             [
              0.5555555555555556,
              "#d8576b"
             ],
             [
              0.6666666666666666,
              "#ed7953"
             ],
             [
              0.7777777777777778,
              "#fb9f3a"
             ],
             [
              0.8888888888888888,
              "#fdca26"
             ],
             [
              1,
              "#f0f921"
             ]
            ],
            "type": "surface"
           }
          ],
          "table": [
           {
            "cells": {
             "fill": {
              "color": "#EBF0F8"
             },
             "line": {
              "color": "white"
             }
            },
            "header": {
             "fill": {
              "color": "#C8D4E3"
             },
             "line": {
              "color": "white"
             }
            },
            "type": "table"
           }
          ]
         },
         "layout": {
          "annotationdefaults": {
           "arrowcolor": "#2a3f5f",
           "arrowhead": 0,
           "arrowwidth": 1
          },
          "autotypenumbers": "strict",
          "coloraxis": {
           "colorbar": {
            "outlinewidth": 0,
            "ticks": ""
           }
          },
          "colorscale": {
           "diverging": [
            [
             0,
             "#8e0152"
            ],
            [
             0.1,
             "#c51b7d"
            ],
            [
             0.2,
             "#de77ae"
            ],
            [
             0.3,
             "#f1b6da"
            ],
            [
             0.4,
             "#fde0ef"
            ],
            [
             0.5,
             "#f7f7f7"
            ],
            [
             0.6,
             "#e6f5d0"
            ],
            [
             0.7,
             "#b8e186"
            ],
            [
             0.8,
             "#7fbc41"
            ],
            [
             0.9,
             "#4d9221"
            ],
            [
             1,
             "#276419"
            ]
           ],
           "sequential": [
            [
             0,
             "#0d0887"
            ],
            [
             0.1111111111111111,
             "#46039f"
            ],
            [
             0.2222222222222222,
             "#7201a8"
            ],
            [
             0.3333333333333333,
             "#9c179e"
            ],
            [
             0.4444444444444444,
             "#bd3786"
            ],
            [
             0.5555555555555556,
             "#d8576b"
            ],
            [
             0.6666666666666666,
             "#ed7953"
            ],
            [
             0.7777777777777778,
             "#fb9f3a"
            ],
            [
             0.8888888888888888,
             "#fdca26"
            ],
            [
             1,
             "#f0f921"
            ]
           ],
           "sequentialminus": [
            [
             0,
             "#0d0887"
            ],
            [
             0.1111111111111111,
             "#46039f"
            ],
            [
             0.2222222222222222,
             "#7201a8"
            ],
            [
             0.3333333333333333,
             "#9c179e"
            ],
            [
             0.4444444444444444,
             "#bd3786"
            ],
            [
             0.5555555555555556,
             "#d8576b"
            ],
            [
             0.6666666666666666,
             "#ed7953"
            ],
            [
             0.7777777777777778,
             "#fb9f3a"
            ],
            [
             0.8888888888888888,
             "#fdca26"
            ],
            [
             1,
             "#f0f921"
            ]
           ]
          },
          "colorway": [
           "#636efa",
           "#EF553B",
           "#00cc96",
           "#ab63fa",
           "#FFA15A",
           "#19d3f3",
           "#FF6692",
           "#B6E880",
           "#FF97FF",
           "#FECB52"
          ],
          "font": {
           "color": "#2a3f5f"
          },
          "geo": {
           "bgcolor": "white",
           "lakecolor": "white",
           "landcolor": "#E5ECF6",
           "showlakes": true,
           "showland": true,
           "subunitcolor": "white"
          },
          "hoverlabel": {
           "align": "left"
          },
          "hovermode": "closest",
          "mapbox": {
           "style": "light"
          },
          "paper_bgcolor": "white",
          "plot_bgcolor": "#E5ECF6",
          "polar": {
           "angularaxis": {
            "gridcolor": "white",
            "linecolor": "white",
            "ticks": ""
           },
           "bgcolor": "#E5ECF6",
           "radialaxis": {
            "gridcolor": "white",
            "linecolor": "white",
            "ticks": ""
           }
          },
          "scene": {
           "xaxis": {
            "backgroundcolor": "#E5ECF6",
            "gridcolor": "white",
            "gridwidth": 2,
            "linecolor": "white",
            "showbackground": true,
            "ticks": "",
            "zerolinecolor": "white"
           },
           "yaxis": {
            "backgroundcolor": "#E5ECF6",
            "gridcolor": "white",
            "gridwidth": 2,
            "linecolor": "white",
            "showbackground": true,
            "ticks": "",
            "zerolinecolor": "white"
           },
           "zaxis": {
            "backgroundcolor": "#E5ECF6",
            "gridcolor": "white",
            "gridwidth": 2,
            "linecolor": "white",
            "showbackground": true,
            "ticks": "",
            "zerolinecolor": "white"
           }
          },
          "shapedefaults": {
           "line": {
            "color": "#2a3f5f"
           }
          },
          "ternary": {
           "aaxis": {
            "gridcolor": "white",
            "linecolor": "white",
            "ticks": ""
           },
           "baxis": {
            "gridcolor": "white",
            "linecolor": "white",
            "ticks": ""
           },
           "bgcolor": "#E5ECF6",
           "caxis": {
            "gridcolor": "white",
            "linecolor": "white",
            "ticks": ""
           }
          },
          "title": {
           "x": 0.05
          },
          "xaxis": {
           "automargin": true,
           "gridcolor": "white",
           "linecolor": "white",
           "ticks": "",
           "title": {
            "standoff": 15
           },
           "zerolinecolor": "white",
           "zerolinewidth": 2
          },
          "yaxis": {
           "automargin": true,
           "gridcolor": "white",
           "linecolor": "white",
           "ticks": "",
           "title": {
            "standoff": 15
           },
           "zerolinecolor": "white",
           "zerolinewidth": 2
          }
         }
        },
        "title": {
         "text": "NVDA Candlestick Chart (Real Time Data)"
        },
        "xaxis": {
         "title": {
          "text": "Time"
         }
        },
        "yaxis": {
         "title": {
          "text": "Price"
         }
        }
       }
      }
     },
     "metadata": {},
     "output_type": "display_data"
    },
    {
     "data": {
      "application/vnd.plotly.v1+json": {
       "config": {
        "plotlyServerURL": "https://plot.ly"
       },
       "data": [
        {
         "close": {
          "bdata": "KVyPwvUIbEApXI/C9QhsQI/C9ShcD2xAj8L1KFwPbECPwvUoXA9sQI/C9ShcD2xAj8L1KFwPbECPwvUoXA9sQFK4HoXrEWxAUrgehesRbEBSuB6F6xFsQFK4HoXrEWxAUrgehesRbEBSuB6F6xFsQIXrUbgeFWxAhetRuB4VbECF61G4HhVsQIXrUbgeFWxA",
          "dtype": "f8"
         },
         "high": {
          "bdata": "H4XrUbgGbUAfhetRuAZtQB+F61G4Bm1AH4XrUbgGbUAfhetRuAZtQB+F61G4Bm1AH4XrUbgGbUAfhetRuAZtQB+F61G4Bm1AH4XrUbgGbUAfhetRuAZtQB+F61G4Bm1AH4XrUbgGbUAfhetRuAZtQB+F61G4Bm1AH4XrUbgGbUAfhetRuAZtQB+F61G4Bm1A",
          "dtype": "f8"
         },
         "low": {
          "bdata": "4XoUrkfZa0DhehSuR9lrQOF6FK5H2WtA4XoUrkfZa0DhehSuR9lrQOF6FK5H2WtA4XoUrkfZa0DhehSuR9lrQOF6FK5H2WtA4XoUrkfZa0DhehSuR9lrQOF6FK5H2WtA4XoUrkfZa0DhehSuR9lrQOF6FK5H2WtA4XoUrkfZa0DhehSuR9lrQOF6FK5H2WtA",
          "dtype": "f8"
         },
         "open": {
          "bdata": "uB6F61HIbEC4HoXrUchsQLgehetRyGxAuB6F61HIbEC4HoXrUchsQLgehetRyGxAuB6F61HIbEC4HoXrUchsQLgehetRyGxAuB6F61HIbEC4HoXrUchsQLgehetRyGxAuB6F61HIbEC4HoXrUchsQLgehetRyGxAuB6F61HIbEC4HoXrUchsQLgehetRyGxA",
          "dtype": "f8"
         },
         "type": "candlestick",
         "x": [
          "2025-04-21T19:02:49.000000000",
          "2025-04-21T19:02:58.000000000",
          "2025-04-21T19:03:07.000000000",
          "2025-04-21T19:03:19.000000000",
          "2025-04-21T19:03:26.000000000",
          "2025-04-21T19:03:39.000000000",
          "2025-04-21T19:03:48.000000000",
          "2025-04-21T19:03:56.000000000",
          "2025-04-21T19:04:09.000000000",
          "2025-04-21T19:04:18.000000000",
          "2025-04-21T19:04:30.000000000",
          "2025-04-21T19:04:38.000000000",
          "2025-04-21T19:04:51.000000000",
          "2025-04-21T19:05:00.000000000",
          "2025-04-21T19:05:12.000000000",
          "2025-04-21T19:05:22.000000000",
          "2025-04-21T19:05:30.000000000",
          "2025-04-21T19:05:39.000000000"
         ]
        }
       ],
       "layout": {
        "template": {
         "data": {
          "bar": [
           {
            "error_x": {
             "color": "#2a3f5f"
            },
            "error_y": {
             "color": "#2a3f5f"
            },
            "marker": {
             "line": {
              "color": "#E5ECF6",
              "width": 0.5
             },
             "pattern": {
              "fillmode": "overlay",
              "size": 10,
              "solidity": 0.2
             }
            },
            "type": "bar"
           }
          ],
          "barpolar": [
           {
            "marker": {
             "line": {
              "color": "#E5ECF6",
              "width": 0.5
             },
             "pattern": {
              "fillmode": "overlay",
              "size": 10,
              "solidity": 0.2
             }
            },
            "type": "barpolar"
           }
          ],
          "carpet": [
           {
            "aaxis": {
             "endlinecolor": "#2a3f5f",
             "gridcolor": "white",
             "linecolor": "white",
             "minorgridcolor": "white",
             "startlinecolor": "#2a3f5f"
            },
            "baxis": {
             "endlinecolor": "#2a3f5f",
             "gridcolor": "white",
             "linecolor": "white",
             "minorgridcolor": "white",
             "startlinecolor": "#2a3f5f"
            },
            "type": "carpet"
           }
          ],
          "choropleth": [
           {
            "colorbar": {
             "outlinewidth": 0,
             "ticks": ""
            },
            "type": "choropleth"
           }
          ],
          "contour": [
           {
            "colorbar": {
             "outlinewidth": 0,
             "ticks": ""
            },
            "colorscale": [
             [
              0,
              "#0d0887"
             ],
             [
              0.1111111111111111,
              "#46039f"
             ],
             [
              0.2222222222222222,
              "#7201a8"
             ],
             [
              0.3333333333333333,
              "#9c179e"
             ],
             [
              0.4444444444444444,
              "#bd3786"
             ],
             [
              0.5555555555555556,
              "#d8576b"
             ],
             [
              0.6666666666666666,
              "#ed7953"
             ],
             [
              0.7777777777777778,
              "#fb9f3a"
             ],
             [
              0.8888888888888888,
              "#fdca26"
             ],
             [
              1,
              "#f0f921"
             ]
            ],
            "type": "contour"
           }
          ],
          "contourcarpet": [
           {
            "colorbar": {
             "outlinewidth": 0,
             "ticks": ""
            },
            "type": "contourcarpet"
           }
          ],
          "heatmap": [
           {
            "colorbar": {
             "outlinewidth": 0,
             "ticks": ""
            },
            "colorscale": [
             [
              0,
              "#0d0887"
             ],
             [
              0.1111111111111111,
              "#46039f"
             ],
             [
              0.2222222222222222,
              "#7201a8"
             ],
             [
              0.3333333333333333,
              "#9c179e"
             ],
             [
              0.4444444444444444,
              "#bd3786"
             ],
             [
              0.5555555555555556,
              "#d8576b"
             ],
             [
              0.6666666666666666,
              "#ed7953"
             ],
             [
              0.7777777777777778,
              "#fb9f3a"
             ],
             [
              0.8888888888888888,
              "#fdca26"
             ],
             [
              1,
              "#f0f921"
             ]
            ],
            "type": "heatmap"
           }
          ],
          "histogram": [
           {
            "marker": {
             "pattern": {
              "fillmode": "overlay",
              "size": 10,
              "solidity": 0.2
             }
            },
            "type": "histogram"
           }
          ],
          "histogram2d": [
           {
            "colorbar": {
             "outlinewidth": 0,
             "ticks": ""
            },
            "colorscale": [
             [
              0,
              "#0d0887"
             ],
             [
              0.1111111111111111,
              "#46039f"
             ],
             [
              0.2222222222222222,
              "#7201a8"
             ],
             [
              0.3333333333333333,
              "#9c179e"
             ],
             [
              0.4444444444444444,
              "#bd3786"
             ],
             [
              0.5555555555555556,
              "#d8576b"
             ],
             [
              0.6666666666666666,
              "#ed7953"
             ],
             [
              0.7777777777777778,
              "#fb9f3a"
             ],
             [
              0.8888888888888888,
              "#fdca26"
             ],
             [
              1,
              "#f0f921"
             ]
            ],
            "type": "histogram2d"
           }
          ],
          "histogram2dcontour": [
           {
            "colorbar": {
             "outlinewidth": 0,
             "ticks": ""
            },
            "colorscale": [
             [
              0,
              "#0d0887"
             ],
             [
              0.1111111111111111,
              "#46039f"
             ],
             [
              0.2222222222222222,
              "#7201a8"
             ],
             [
              0.3333333333333333,
              "#9c179e"
             ],
             [
              0.4444444444444444,
              "#bd3786"
             ],
             [
              0.5555555555555556,
              "#d8576b"
             ],
             [
              0.6666666666666666,
              "#ed7953"
             ],
             [
              0.7777777777777778,
              "#fb9f3a"
             ],
             [
              0.8888888888888888,
              "#fdca26"
             ],
             [
              1,
              "#f0f921"
             ]
            ],
            "type": "histogram2dcontour"
           }
          ],
          "mesh3d": [
           {
            "colorbar": {
             "outlinewidth": 0,
             "ticks": ""
            },
            "type": "mesh3d"
           }
          ],
          "parcoords": [
           {
            "line": {
             "colorbar": {
              "outlinewidth": 0,
              "ticks": ""
             }
            },
            "type": "parcoords"
           }
          ],
          "pie": [
           {
            "automargin": true,
            "type": "pie"
           }
          ],
          "scatter": [
           {
            "fillpattern": {
             "fillmode": "overlay",
             "size": 10,
             "solidity": 0.2
            },
            "type": "scatter"
           }
          ],
          "scatter3d": [
           {
            "line": {
             "colorbar": {
              "outlinewidth": 0,
              "ticks": ""
             }
            },
            "marker": {
             "colorbar": {
              "outlinewidth": 0,
              "ticks": ""
             }
            },
            "type": "scatter3d"
           }
          ],
          "scattercarpet": [
           {
            "marker": {
             "colorbar": {
              "outlinewidth": 0,
              "ticks": ""
             }
            },
            "type": "scattercarpet"
           }
          ],
          "scattergeo": [
           {
            "marker": {
             "colorbar": {
              "outlinewidth": 0,
              "ticks": ""
             }
            },
            "type": "scattergeo"
           }
          ],
          "scattergl": [
           {
            "marker": {
             "colorbar": {
              "outlinewidth": 0,
              "ticks": ""
             }
            },
            "type": "scattergl"
           }
          ],
          "scattermap": [
           {
            "marker": {
             "colorbar": {
              "outlinewidth": 0,
              "ticks": ""
             }
            },
            "type": "scattermap"
           }
          ],
          "scattermapbox": [
           {
            "marker": {
             "colorbar": {
              "outlinewidth": 0,
              "ticks": ""
             }
            },
            "type": "scattermapbox"
           }
          ],
          "scatterpolar": [
           {
            "marker": {
             "colorbar": {
              "outlinewidth": 0,
              "ticks": ""
             }
            },
            "type": "scatterpolar"
           }
          ],
          "scatterpolargl": [
           {
            "marker": {
             "colorbar": {
              "outlinewidth": 0,
              "ticks": ""
             }
            },
            "type": "scatterpolargl"
           }
          ],
          "scatterternary": [
           {
            "marker": {
             "colorbar": {
              "outlinewidth": 0,
              "ticks": ""
             }
            },
            "type": "scatterternary"
           }
          ],
          "surface": [
           {
            "colorbar": {
             "outlinewidth": 0,
             "ticks": ""
            },
            "colorscale": [
             [
              0,
              "#0d0887"
             ],
             [
              0.1111111111111111,
              "#46039f"
             ],
             [
              0.2222222222222222,
              "#7201a8"
             ],
             [
              0.3333333333333333,
              "#9c179e"
             ],
             [
              0.4444444444444444,
              "#bd3786"
             ],
             [
              0.5555555555555556,
              "#d8576b"
             ],
             [
              0.6666666666666666,
              "#ed7953"
             ],
             [
              0.7777777777777778,
              "#fb9f3a"
             ],
             [
              0.8888888888888888,
              "#fdca26"
             ],
             [
              1,
              "#f0f921"
             ]
            ],
            "type": "surface"
           }
          ],
          "table": [
           {
            "cells": {
             "fill": {
              "color": "#EBF0F8"
             },
             "line": {
              "color": "white"
             }
            },
            "header": {
             "fill": {
              "color": "#C8D4E3"
             },
             "line": {
              "color": "white"
             }
            },
            "type": "table"
           }
          ]
         },
         "layout": {
          "annotationdefaults": {
           "arrowcolor": "#2a3f5f",
           "arrowhead": 0,
           "arrowwidth": 1
          },
          "autotypenumbers": "strict",
          "coloraxis": {
           "colorbar": {
            "outlinewidth": 0,
            "ticks": ""
           }
          },
          "colorscale": {
           "diverging": [
            [
             0,
             "#8e0152"
            ],
            [
             0.1,
             "#c51b7d"
            ],
            [
             0.2,
             "#de77ae"
            ],
            [
             0.3,
             "#f1b6da"
            ],
            [
             0.4,
             "#fde0ef"
            ],
            [
             0.5,
             "#f7f7f7"
            ],
            [
             0.6,
             "#e6f5d0"
            ],
            [
             0.7,
             "#b8e186"
            ],
            [
             0.8,
             "#7fbc41"
            ],
            [
             0.9,
             "#4d9221"
            ],
            [
             1,
             "#276419"
            ]
           ],
           "sequential": [
            [
             0,
             "#0d0887"
            ],
            [
             0.1111111111111111,
             "#46039f"
            ],
            [
             0.2222222222222222,
             "#7201a8"
            ],
            [
             0.3333333333333333,
             "#9c179e"
            ],
            [
             0.4444444444444444,
             "#bd3786"
            ],
            [
             0.5555555555555556,
             "#d8576b"
            ],
            [
             0.6666666666666666,
             "#ed7953"
            ],
            [
             0.7777777777777778,
             "#fb9f3a"
            ],
            [
             0.8888888888888888,
             "#fdca26"
            ],
            [
             1,
             "#f0f921"
            ]
           ],
           "sequentialminus": [
            [
             0,
             "#0d0887"
            ],
            [
             0.1111111111111111,
             "#46039f"
            ],
            [
             0.2222222222222222,
             "#7201a8"
            ],
            [
             0.3333333333333333,
             "#9c179e"
            ],
            [
             0.4444444444444444,
             "#bd3786"
            ],
            [
             0.5555555555555556,
             "#d8576b"
            ],
            [
             0.6666666666666666,
             "#ed7953"
            ],
            [
             0.7777777777777778,
             "#fb9f3a"
            ],
            [
             0.8888888888888888,
             "#fdca26"
            ],
            [
             1,
             "#f0f921"
            ]
           ]
          },
          "colorway": [
           "#636efa",
           "#EF553B",
           "#00cc96",
           "#ab63fa",
           "#FFA15A",
           "#19d3f3",
           "#FF6692",
           "#B6E880",
           "#FF97FF",
           "#FECB52"
          ],
          "font": {
           "color": "#2a3f5f"
          },
          "geo": {
           "bgcolor": "white",
           "lakecolor": "white",
           "landcolor": "#E5ECF6",
           "showlakes": true,
           "showland": true,
           "subunitcolor": "white"
          },
          "hoverlabel": {
           "align": "left"
          },
          "hovermode": "closest",
          "mapbox": {
           "style": "light"
          },
          "paper_bgcolor": "white",
          "plot_bgcolor": "#E5ECF6",
          "polar": {
           "angularaxis": {
            "gridcolor": "white",
            "linecolor": "white",
            "ticks": ""
           },
           "bgcolor": "#E5ECF6",
           "radialaxis": {
            "gridcolor": "white",
            "linecolor": "white",
            "ticks": ""
           }
          },
          "scene": {
           "xaxis": {
            "backgroundcolor": "#E5ECF6",
            "gridcolor": "white",
            "gridwidth": 2,
            "linecolor": "white",
            "showbackground": true,
            "ticks": "",
            "zerolinecolor": "white"
           },
           "yaxis": {
            "backgroundcolor": "#E5ECF6",
            "gridcolor": "white",
            "gridwidth": 2,
            "linecolor": "white",
            "showbackground": true,
            "ticks": "",
            "zerolinecolor": "white"
           },
           "zaxis": {
            "backgroundcolor": "#E5ECF6",
            "gridcolor": "white",
            "gridwidth": 2,
            "linecolor": "white",
            "showbackground": true,
            "ticks": "",
            "zerolinecolor": "white"
           }
          },
          "shapedefaults": {
           "line": {
            "color": "#2a3f5f"
           }
          },
          "ternary": {
           "aaxis": {
            "gridcolor": "white",
            "linecolor": "white",
            "ticks": ""
           },
           "baxis": {
            "gridcolor": "white",
            "linecolor": "white",
            "ticks": ""
           },
           "bgcolor": "#E5ECF6",
           "caxis": {
            "gridcolor": "white",
            "linecolor": "white",
            "ticks": ""
           }
          },
          "title": {
           "x": 0.05
          },
          "xaxis": {
           "automargin": true,
           "gridcolor": "white",
           "linecolor": "white",
           "ticks": "",
           "title": {
            "standoff": 15
           },
           "zerolinecolor": "white",
           "zerolinewidth": 2
          },
          "yaxis": {
           "automargin": true,
           "gridcolor": "white",
           "linecolor": "white",
           "ticks": "",
           "title": {
            "standoff": 15
           },
           "zerolinecolor": "white",
           "zerolinewidth": 2
          }
         }
        },
        "title": {
         "text": "TSLA Candlestick Chart (Real Time Data)"
        },
        "xaxis": {
         "title": {
          "text": "Time"
         }
        },
        "yaxis": {
         "title": {
          "text": "Price"
         }
        }
       }
      }
     },
     "metadata": {},
     "output_type": "display_data"
    }
   ],
   "source": [
    "# creating candlestick charts for each ticker\n",
    "#allowing the ability to see open, high, low, and close prices while hovering over in plotly\n",
    "for ticker in df_cass_final['ticker'].unique():\n",
    "    subset = df_cass_final[df_cass_final['ticker'] == ticker]\n",
    "    fig = go.Figure(data=[go.Candlestick(\n",
    "        x=subset['date'],\n",
    "        open=subset['open'],\n",
    "        high=subset['high'],\n",
    "        low=subset['low'],\n",
    "        close=subset['close']\n",
    "    )])\n",
    "    fig.update_layout(title=f\"{ticker} Candlestick Chart (Real Time Data)\", xaxis_title='Time', yaxis_title='Price')\n",
    "    fig.show()\n"
   ]
  },
  {
   "cell_type": "markdown",
   "metadata": {},
   "source": [
    "#### Above is a series of 7 candlestick graphs that relate to each of the 7 tickers of the magnificent 7.  Candlestick graphs are an industry standard for financial markets as they are helpful for short term time series analysis like ours. Each graph is made in plotly so that we can hover over each candle and see the changes of open price, low price, high price and closing price. This is useful unlike a boxplot since we can see real time changes rather than just distribution and outliers."
   ]
  },
  {
   "cell_type": "code",
   "execution_count": 29,
   "metadata": {},
   "outputs": [
    {
     "data": {
      "application/vnd.plotly.v1+json": {
       "config": {
        "plotlyServerURL": "https://plot.ly"
       },
       "data": [
        {
         "line": {
          "color": "blue"
         },
         "mode": "lines+markers",
         "name": "AAPL RSI",
         "showlegend": true,
         "type": "scatter",
         "x": [
          "2025-04-21T19:03:26.000000000",
          "2025-04-21T19:03:40.000000000",
          "2025-04-21T19:03:47.000000000",
          "2025-04-21T19:03:55.000000000",
          "2025-04-21T19:04:09.000000000",
          "2025-04-21T19:04:17.000000000",
          "2025-04-21T19:04:30.000000000",
          "2025-04-21T19:04:38.000000000",
          "2025-04-21T19:04:51.000000000",
          "2025-04-21T19:05:00.000000000",
          "2025-04-21T19:05:08.000000000",
          "2025-04-21T19:05:20.000000000",
          "2025-04-21T19:05:29.000000000",
          "2025-04-21T19:05:42.000000000"
         ],
         "xaxis": "x",
         "y": {
          "bdata": "AAAAAAAAWUAAAAAAAABZQAAAAAAAAFlAAAAAAAAAWUAAAAAAAABZQAAAAAAAAFlAAAAAAAAAWUAAAAAAAABZQAAAAAAAAFlAAAAAAAAAWUAAAAAAAAAAAAAAAAAAAAAAAAAAAAAAAAAAAAAAAAAAAA==",
          "dtype": "f8"
         },
         "yaxis": "y"
        },
        {
         "line": {
          "color": "red",
          "dash": "dash"
         },
         "mode": "lines",
         "name": "RSI 70 (Overbought)",
         "showlegend": true,
         "type": "scatter",
         "x": [
          "2025-04-21T19:03:26.000000000",
          "2025-04-21T19:03:40.000000000",
          "2025-04-21T19:03:47.000000000",
          "2025-04-21T19:03:55.000000000",
          "2025-04-21T19:04:09.000000000",
          "2025-04-21T19:04:17.000000000",
          "2025-04-21T19:04:30.000000000",
          "2025-04-21T19:04:38.000000000",
          "2025-04-21T19:04:51.000000000",
          "2025-04-21T19:05:00.000000000",
          "2025-04-21T19:05:08.000000000",
          "2025-04-21T19:05:20.000000000",
          "2025-04-21T19:05:29.000000000",
          "2025-04-21T19:05:42.000000000"
         ],
         "xaxis": "x",
         "y": [
          70,
          70,
          70,
          70,
          70,
          70,
          70,
          70,
          70,
          70,
          70,
          70,
          70,
          70
         ],
         "yaxis": "y"
        },
        {
         "line": {
          "color": "green",
          "dash": "dash"
         },
         "mode": "lines",
         "name": "RSI 30 (Oversold)",
         "showlegend": true,
         "type": "scatter",
         "x": [
          "2025-04-21T19:03:26.000000000",
          "2025-04-21T19:03:40.000000000",
          "2025-04-21T19:03:47.000000000",
          "2025-04-21T19:03:55.000000000",
          "2025-04-21T19:04:09.000000000",
          "2025-04-21T19:04:17.000000000",
          "2025-04-21T19:04:30.000000000",
          "2025-04-21T19:04:38.000000000",
          "2025-04-21T19:04:51.000000000",
          "2025-04-21T19:05:00.000000000",
          "2025-04-21T19:05:08.000000000",
          "2025-04-21T19:05:20.000000000",
          "2025-04-21T19:05:29.000000000",
          "2025-04-21T19:05:42.000000000"
         ],
         "xaxis": "x",
         "y": [
          30,
          30,
          30,
          30,
          30,
          30,
          30,
          30,
          30,
          30,
          30,
          30,
          30,
          30
         ],
         "yaxis": "y"
        },
        {
         "line": {
          "color": "blue"
         },
         "mode": "lines+markers",
         "name": "MSFT RSI",
         "showlegend": true,
         "type": "scatter",
         "x": [
          "2025-04-21T19:02:45.000000000",
          "2025-04-21T19:02:58.000000000",
          "2025-04-21T19:03:07.000000000",
          "2025-04-21T19:03:19.000000000",
          "2025-04-21T19:03:24.000000000",
          "2025-04-21T19:03:39.000000000",
          "2025-04-21T19:03:44.000000000",
          "2025-04-21T19:03:53.000000000",
          "2025-04-21T19:04:09.000000000",
          "2025-04-21T19:04:17.000000000",
          "2025-04-21T19:04:30.000000000",
          "2025-04-21T19:04:38.000000000",
          "2025-04-21T19:04:51.000000000",
          "2025-04-21T19:05:00.000000000",
          "2025-04-21T19:05:12.000000000",
          "2025-04-21T19:05:20.000000000",
          "2025-04-21T19:05:28.000000000",
          "2025-04-21T19:05:35.000000000"
         ],
         "xaxis": "x2",
         "y": {
          "bdata": "AAAAAAAAAAAAAAAAAAAAAAAAAAAAAAAAAAAAAAAAAAAAAAAAAABZQAAAAAAAAFlAAAAAAAAAWUAAAAAAAABZQAAAAAAAAAAAAAAAAAAAAAAAAAAAAAAAAAAAAAAAAAAAAAAAAAAAAAAAAAAAAAAAAAAAAAAAAFlAAAAAAAAAWUAAAAAAAABZQAAAAAAAAFlA",
          "dtype": "f8"
         },
         "yaxis": "y2"
        },
        {
         "line": {
          "color": "red",
          "dash": "dash"
         },
         "mode": "lines",
         "name": "RSI 70 (Overbought)",
         "showlegend": false,
         "type": "scatter",
         "x": [
          "2025-04-21T19:02:45.000000000",
          "2025-04-21T19:02:58.000000000",
          "2025-04-21T19:03:07.000000000",
          "2025-04-21T19:03:19.000000000",
          "2025-04-21T19:03:24.000000000",
          "2025-04-21T19:03:39.000000000",
          "2025-04-21T19:03:44.000000000",
          "2025-04-21T19:03:53.000000000",
          "2025-04-21T19:04:09.000000000",
          "2025-04-21T19:04:17.000000000",
          "2025-04-21T19:04:30.000000000",
          "2025-04-21T19:04:38.000000000",
          "2025-04-21T19:04:51.000000000",
          "2025-04-21T19:05:00.000000000",
          "2025-04-21T19:05:12.000000000",
          "2025-04-21T19:05:20.000000000",
          "2025-04-21T19:05:28.000000000",
          "2025-04-21T19:05:35.000000000"
         ],
         "xaxis": "x2",
         "y": [
          70,
          70,
          70,
          70,
          70,
          70,
          70,
          70,
          70,
          70,
          70,
          70,
          70,
          70,
          70,
          70,
          70,
          70
         ],
         "yaxis": "y2"
        },
        {
         "line": {
          "color": "green",
          "dash": "dash"
         },
         "mode": "lines",
         "name": "RSI 30 (Oversold)",
         "showlegend": false,
         "type": "scatter",
         "x": [
          "2025-04-21T19:02:45.000000000",
          "2025-04-21T19:02:58.000000000",
          "2025-04-21T19:03:07.000000000",
          "2025-04-21T19:03:19.000000000",
          "2025-04-21T19:03:24.000000000",
          "2025-04-21T19:03:39.000000000",
          "2025-04-21T19:03:44.000000000",
          "2025-04-21T19:03:53.000000000",
          "2025-04-21T19:04:09.000000000",
          "2025-04-21T19:04:17.000000000",
          "2025-04-21T19:04:30.000000000",
          "2025-04-21T19:04:38.000000000",
          "2025-04-21T19:04:51.000000000",
          "2025-04-21T19:05:00.000000000",
          "2025-04-21T19:05:12.000000000",
          "2025-04-21T19:05:20.000000000",
          "2025-04-21T19:05:28.000000000",
          "2025-04-21T19:05:35.000000000"
         ],
         "xaxis": "x2",
         "y": [
          30,
          30,
          30,
          30,
          30,
          30,
          30,
          30,
          30,
          30,
          30,
          30,
          30,
          30,
          30,
          30,
          30,
          30
         ],
         "yaxis": "y2"
        },
        {
         "line": {
          "color": "blue"
         },
         "mode": "lines+markers",
         "name": "AMZN RSI",
         "showlegend": true,
         "type": "scatter",
         "x": [
          "2025-04-21T19:02:45.000000000",
          "2025-04-21T19:02:58.000000000",
          "2025-04-21T19:03:07.000000000",
          "2025-04-21T19:03:18.000000000",
          "2025-04-21T19:03:24.000000000",
          "2025-04-21T19:03:39.000000000",
          "2025-04-21T19:03:47.000000000",
          "2025-04-21T19:03:56.000000000",
          "2025-04-21T19:04:09.000000000",
          "2025-04-21T19:04:17.000000000",
          "2025-04-21T19:04:30.000000000",
          "2025-04-21T19:04:38.000000000",
          "2025-04-21T19:04:50.000000000",
          "2025-04-21T19:05:00.000000000",
          "2025-04-21T19:05:12.000000000",
          "2025-04-21T19:05:21.000000000",
          "2025-04-21T19:05:30.000000000",
          "2025-04-21T19:05:38.000000000"
         ],
         "xaxis": "x3",
         "y": {
          "bdata": "AAAAAAAAAAAAAAAAAAAAAAAAAAAAAAAAAAAAAAAAAAAAAAAAAABZQAAAAAAAAFlAAAAAAAAAWUAAAAAAAABZQAAAAAAAAFlAAAAAAAAAWUAAAAAAAABZQAAAAAAAAFlAAAAAAAAAWUAAAAAAAABZQAAAAAAAAFlAAAAAAAAAWUAAAAAAAABZQAAAAAAAAFlA",
          "dtype": "f8"
         },
         "yaxis": "y3"
        },
        {
         "line": {
          "color": "red",
          "dash": "dash"
         },
         "mode": "lines",
         "name": "RSI 70 (Overbought)",
         "showlegend": false,
         "type": "scatter",
         "x": [
          "2025-04-21T19:02:45.000000000",
          "2025-04-21T19:02:58.000000000",
          "2025-04-21T19:03:07.000000000",
          "2025-04-21T19:03:18.000000000",
          "2025-04-21T19:03:24.000000000",
          "2025-04-21T19:03:39.000000000",
          "2025-04-21T19:03:47.000000000",
          "2025-04-21T19:03:56.000000000",
          "2025-04-21T19:04:09.000000000",
          "2025-04-21T19:04:17.000000000",
          "2025-04-21T19:04:30.000000000",
          "2025-04-21T19:04:38.000000000",
          "2025-04-21T19:04:50.000000000",
          "2025-04-21T19:05:00.000000000",
          "2025-04-21T19:05:12.000000000",
          "2025-04-21T19:05:21.000000000",
          "2025-04-21T19:05:30.000000000",
          "2025-04-21T19:05:38.000000000"
         ],
         "xaxis": "x3",
         "y": [
          70,
          70,
          70,
          70,
          70,
          70,
          70,
          70,
          70,
          70,
          70,
          70,
          70,
          70,
          70,
          70,
          70,
          70
         ],
         "yaxis": "y3"
        },
        {
         "line": {
          "color": "green",
          "dash": "dash"
         },
         "mode": "lines",
         "name": "RSI 30 (Oversold)",
         "showlegend": false,
         "type": "scatter",
         "x": [
          "2025-04-21T19:02:45.000000000",
          "2025-04-21T19:02:58.000000000",
          "2025-04-21T19:03:07.000000000",
          "2025-04-21T19:03:18.000000000",
          "2025-04-21T19:03:24.000000000",
          "2025-04-21T19:03:39.000000000",
          "2025-04-21T19:03:47.000000000",
          "2025-04-21T19:03:56.000000000",
          "2025-04-21T19:04:09.000000000",
          "2025-04-21T19:04:17.000000000",
          "2025-04-21T19:04:30.000000000",
          "2025-04-21T19:04:38.000000000",
          "2025-04-21T19:04:50.000000000",
          "2025-04-21T19:05:00.000000000",
          "2025-04-21T19:05:12.000000000",
          "2025-04-21T19:05:21.000000000",
          "2025-04-21T19:05:30.000000000",
          "2025-04-21T19:05:38.000000000"
         ],
         "xaxis": "x3",
         "y": [
          30,
          30,
          30,
          30,
          30,
          30,
          30,
          30,
          30,
          30,
          30,
          30,
          30,
          30,
          30,
          30,
          30,
          30
         ],
         "yaxis": "y3"
        },
        {
         "line": {
          "color": "blue"
         },
         "mode": "lines+markers",
         "name": "GOOGL RSI",
         "showlegend": true,
         "type": "scatter",
         "x": [
          "2025-04-21T19:02:45.000000000",
          "2025-04-21T19:02:58.000000000",
          "2025-04-21T19:03:07.000000000",
          "2025-04-21T19:03:19.000000000",
          "2025-04-21T19:03:24.000000000",
          "2025-04-21T19:03:40.000000000",
          "2025-04-21T19:03:48.000000000",
          "2025-04-21T19:03:54.000000000",
          "2025-04-21T19:04:09.000000000",
          "2025-04-21T19:04:18.000000000",
          "2025-04-21T19:04:29.000000000",
          "2025-04-21T19:04:38.000000000",
          "2025-04-21T19:04:51.000000000",
          "2025-04-21T19:04:59.000000000",
          "2025-04-21T19:05:08.000000000",
          "2025-04-21T19:05:21.000000000",
          "2025-04-21T19:05:30.000000000",
          "2025-04-21T19:05:37.000000000"
         ],
         "xaxis": "x4",
         "y": {
          "bdata": "AAAAAAAAWUAAAAAAAABZQAAAAAAAAFlAAAAAAAAAWUAAAAAAAABZQAAAAAAAAFlAAAAAAAAAWUAAAAAAAABZQAAAAAAAAFlAAAAAAAAAWUAAAAAAAABZQAAAAAAAAFlAAAAAAAAAWUAAAAAAAABZQAAAAAAAAAAAAAAAAAAAAAAAAAAAAAAAAAAAAAAAAAAA",
          "dtype": "f8"
         },
         "yaxis": "y4"
        },
        {
         "line": {
          "color": "red",
          "dash": "dash"
         },
         "mode": "lines",
         "name": "RSI 70 (Overbought)",
         "showlegend": false,
         "type": "scatter",
         "x": [
          "2025-04-21T19:02:45.000000000",
          "2025-04-21T19:02:58.000000000",
          "2025-04-21T19:03:07.000000000",
          "2025-04-21T19:03:19.000000000",
          "2025-04-21T19:03:24.000000000",
          "2025-04-21T19:03:40.000000000",
          "2025-04-21T19:03:48.000000000",
          "2025-04-21T19:03:54.000000000",
          "2025-04-21T19:04:09.000000000",
          "2025-04-21T19:04:18.000000000",
          "2025-04-21T19:04:29.000000000",
          "2025-04-21T19:04:38.000000000",
          "2025-04-21T19:04:51.000000000",
          "2025-04-21T19:04:59.000000000",
          "2025-04-21T19:05:08.000000000",
          "2025-04-21T19:05:21.000000000",
          "2025-04-21T19:05:30.000000000",
          "2025-04-21T19:05:37.000000000"
         ],
         "xaxis": "x4",
         "y": [
          70,
          70,
          70,
          70,
          70,
          70,
          70,
          70,
          70,
          70,
          70,
          70,
          70,
          70,
          70,
          70,
          70,
          70
         ],
         "yaxis": "y4"
        },
        {
         "line": {
          "color": "green",
          "dash": "dash"
         },
         "mode": "lines",
         "name": "RSI 30 (Oversold)",
         "showlegend": false,
         "type": "scatter",
         "x": [
          "2025-04-21T19:02:45.000000000",
          "2025-04-21T19:02:58.000000000",
          "2025-04-21T19:03:07.000000000",
          "2025-04-21T19:03:19.000000000",
          "2025-04-21T19:03:24.000000000",
          "2025-04-21T19:03:40.000000000",
          "2025-04-21T19:03:48.000000000",
          "2025-04-21T19:03:54.000000000",
          "2025-04-21T19:04:09.000000000",
          "2025-04-21T19:04:18.000000000",
          "2025-04-21T19:04:29.000000000",
          "2025-04-21T19:04:38.000000000",
          "2025-04-21T19:04:51.000000000",
          "2025-04-21T19:04:59.000000000",
          "2025-04-21T19:05:08.000000000",
          "2025-04-21T19:05:21.000000000",
          "2025-04-21T19:05:30.000000000",
          "2025-04-21T19:05:37.000000000"
         ],
         "xaxis": "x4",
         "y": [
          30,
          30,
          30,
          30,
          30,
          30,
          30,
          30,
          30,
          30,
          30,
          30,
          30,
          30,
          30,
          30,
          30,
          30
         ],
         "yaxis": "y4"
        },
        {
         "line": {
          "color": "blue"
         },
         "mode": "lines+markers",
         "name": "META RSI",
         "showlegend": true,
         "type": "scatter",
         "x": [
          "2025-04-21T19:02:49.000000000",
          "2025-04-21T19:02:58.000000000",
          "2025-04-21T19:03:07.000000000",
          "2025-04-21T19:03:19.000000000",
          "2025-04-21T19:03:25.000000000",
          "2025-04-21T19:03:34.000000000",
          "2025-04-21T19:03:43.000000000",
          "2025-04-21T19:03:51.000000000",
          "2025-04-21T19:04:06.000000000",
          "2025-04-21T19:04:16.000000000",
          "2025-04-21T19:04:30.000000000",
          "2025-04-21T19:04:36.000000000",
          "2025-04-21T19:04:42.000000000",
          "2025-04-21T19:04:59.000000000",
          "2025-04-21T19:05:08.000000000",
          "2025-04-21T19:05:21.000000000",
          "2025-04-21T19:05:27.000000000",
          "2025-04-21T19:05:37.000000000"
         ],
         "xaxis": "x5",
         "y": {
          "bdata": "AAAAAAAAAAAAAAAAAAAAAAAAAAAAAAAAAAAAAAAAAAAAAAAAAABZQAAAAAAAAFlAAAAAAAAAWUAAAAAAAABZQAAAAAAAAFlAAAAAAAAAWUAAAAAAAABZQAAAAAAAAFlAAAAAAAAAWUAAAAAAAABZQAAAAAAAAAAAAAAAAAAAAAAAAAAAAAAAAAAAAAAAAAAA",
          "dtype": "f8"
         },
         "yaxis": "y5"
        },
        {
         "line": {
          "color": "red",
          "dash": "dash"
         },
         "mode": "lines",
         "name": "RSI 70 (Overbought)",
         "showlegend": false,
         "type": "scatter",
         "x": [
          "2025-04-21T19:02:49.000000000",
          "2025-04-21T19:02:58.000000000",
          "2025-04-21T19:03:07.000000000",
          "2025-04-21T19:03:19.000000000",
          "2025-04-21T19:03:25.000000000",
          "2025-04-21T19:03:34.000000000",
          "2025-04-21T19:03:43.000000000",
          "2025-04-21T19:03:51.000000000",
          "2025-04-21T19:04:06.000000000",
          "2025-04-21T19:04:16.000000000",
          "2025-04-21T19:04:30.000000000",
          "2025-04-21T19:04:36.000000000",
          "2025-04-21T19:04:42.000000000",
          "2025-04-21T19:04:59.000000000",
          "2025-04-21T19:05:08.000000000",
          "2025-04-21T19:05:21.000000000",
          "2025-04-21T19:05:27.000000000",
          "2025-04-21T19:05:37.000000000"
         ],
         "xaxis": "x5",
         "y": [
          70,
          70,
          70,
          70,
          70,
          70,
          70,
          70,
          70,
          70,
          70,
          70,
          70,
          70,
          70,
          70,
          70,
          70
         ],
         "yaxis": "y5"
        },
        {
         "line": {
          "color": "green",
          "dash": "dash"
         },
         "mode": "lines",
         "name": "RSI 30 (Oversold)",
         "showlegend": false,
         "type": "scatter",
         "x": [
          "2025-04-21T19:02:49.000000000",
          "2025-04-21T19:02:58.000000000",
          "2025-04-21T19:03:07.000000000",
          "2025-04-21T19:03:19.000000000",
          "2025-04-21T19:03:25.000000000",
          "2025-04-21T19:03:34.000000000",
          "2025-04-21T19:03:43.000000000",
          "2025-04-21T19:03:51.000000000",
          "2025-04-21T19:04:06.000000000",
          "2025-04-21T19:04:16.000000000",
          "2025-04-21T19:04:30.000000000",
          "2025-04-21T19:04:36.000000000",
          "2025-04-21T19:04:42.000000000",
          "2025-04-21T19:04:59.000000000",
          "2025-04-21T19:05:08.000000000",
          "2025-04-21T19:05:21.000000000",
          "2025-04-21T19:05:27.000000000",
          "2025-04-21T19:05:37.000000000"
         ],
         "xaxis": "x5",
         "y": [
          30,
          30,
          30,
          30,
          30,
          30,
          30,
          30,
          30,
          30,
          30,
          30,
          30,
          30,
          30,
          30,
          30,
          30
         ],
         "yaxis": "y5"
        },
        {
         "line": {
          "color": "blue"
         },
         "mode": "lines+markers",
         "name": "TSLA RSI",
         "showlegend": true,
         "type": "scatter",
         "x": [
          "2025-04-21T19:02:49.000000000",
          "2025-04-21T19:02:58.000000000",
          "2025-04-21T19:03:07.000000000",
          "2025-04-21T19:03:19.000000000",
          "2025-04-21T19:03:26.000000000",
          "2025-04-21T19:03:39.000000000",
          "2025-04-21T19:03:48.000000000",
          "2025-04-21T19:03:56.000000000",
          "2025-04-21T19:04:09.000000000",
          "2025-04-21T19:04:18.000000000",
          "2025-04-21T19:04:30.000000000",
          "2025-04-21T19:04:38.000000000",
          "2025-04-21T19:04:51.000000000",
          "2025-04-21T19:05:00.000000000",
          "2025-04-21T19:05:12.000000000",
          "2025-04-21T19:05:22.000000000",
          "2025-04-21T19:05:30.000000000",
          "2025-04-21T19:05:39.000000000"
         ],
         "xaxis": "x6",
         "y": {
          "bdata": "AAAAAAAAWUAAAAAAAABZQAAAAAAAAFlAAAAAAAAAWUAAAAAAAABZQAAAAAAAAFlAAAAAAAAAWUAAAAAAAABZQAAAAAAAAFlAAAAAAAAAWUAAAAAAAABZQAAAAAAAAFlAAAAAAAAAWUAAAAAAAABZQAAAAAAAAFlAAAAAAAAAWUAAAAAAAABZQAAAAAAAAFlA",
          "dtype": "f8"
         },
         "yaxis": "y6"
        },
        {
         "line": {
          "color": "red",
          "dash": "dash"
         },
         "mode": "lines",
         "name": "RSI 70 (Overbought)",
         "showlegend": false,
         "type": "scatter",
         "x": [
          "2025-04-21T19:02:49.000000000",
          "2025-04-21T19:02:58.000000000",
          "2025-04-21T19:03:07.000000000",
          "2025-04-21T19:03:19.000000000",
          "2025-04-21T19:03:26.000000000",
          "2025-04-21T19:03:39.000000000",
          "2025-04-21T19:03:48.000000000",
          "2025-04-21T19:03:56.000000000",
          "2025-04-21T19:04:09.000000000",
          "2025-04-21T19:04:18.000000000",
          "2025-04-21T19:04:30.000000000",
          "2025-04-21T19:04:38.000000000",
          "2025-04-21T19:04:51.000000000",
          "2025-04-21T19:05:00.000000000",
          "2025-04-21T19:05:12.000000000",
          "2025-04-21T19:05:22.000000000",
          "2025-04-21T19:05:30.000000000",
          "2025-04-21T19:05:39.000000000"
         ],
         "xaxis": "x6",
         "y": [
          70,
          70,
          70,
          70,
          70,
          70,
          70,
          70,
          70,
          70,
          70,
          70,
          70,
          70,
          70,
          70,
          70,
          70
         ],
         "yaxis": "y6"
        },
        {
         "line": {
          "color": "green",
          "dash": "dash"
         },
         "mode": "lines",
         "name": "RSI 30 (Oversold)",
         "showlegend": false,
         "type": "scatter",
         "x": [
          "2025-04-21T19:02:49.000000000",
          "2025-04-21T19:02:58.000000000",
          "2025-04-21T19:03:07.000000000",
          "2025-04-21T19:03:19.000000000",
          "2025-04-21T19:03:26.000000000",
          "2025-04-21T19:03:39.000000000",
          "2025-04-21T19:03:48.000000000",
          "2025-04-21T19:03:56.000000000",
          "2025-04-21T19:04:09.000000000",
          "2025-04-21T19:04:18.000000000",
          "2025-04-21T19:04:30.000000000",
          "2025-04-21T19:04:38.000000000",
          "2025-04-21T19:04:51.000000000",
          "2025-04-21T19:05:00.000000000",
          "2025-04-21T19:05:12.000000000",
          "2025-04-21T19:05:22.000000000",
          "2025-04-21T19:05:30.000000000",
          "2025-04-21T19:05:39.000000000"
         ],
         "xaxis": "x6",
         "y": [
          30,
          30,
          30,
          30,
          30,
          30,
          30,
          30,
          30,
          30,
          30,
          30,
          30,
          30,
          30,
          30,
          30,
          30
         ],
         "yaxis": "y6"
        },
        {
         "line": {
          "color": "blue"
         },
         "mode": "lines+markers",
         "name": "NVDA RSI",
         "showlegend": true,
         "type": "scatter",
         "x": [
          "2025-04-21T19:02:44.000000000",
          "2025-04-21T19:02:58.000000000",
          "2025-04-21T19:03:06.000000000",
          "2025-04-21T19:03:19.000000000",
          "2025-04-21T19:03:27.000000000",
          "2025-04-21T19:03:40.000000000",
          "2025-04-21T19:03:48.000000000",
          "2025-04-21T19:03:56.000000000",
          "2025-04-21T19:04:09.000000000",
          "2025-04-21T19:04:17.000000000",
          "2025-04-21T19:04:30.000000000",
          "2025-04-21T19:04:38.000000000",
          "2025-04-21T19:04:51.000000000",
          "2025-04-21T19:05:00.000000000",
          "2025-04-21T19:05:12.000000000",
          "2025-04-21T19:05:21.000000000",
          "2025-04-21T19:05:30.000000000",
          "2025-04-21T19:05:43.000000000"
         ],
         "xaxis": "x7",
         "y": {
          "bdata": "AAAAAAAAWUAAAAAAAABZQAAAAAAAAFlAAAAAAAAAWUAAAAAAAABZQAAAAAAAAFlAAAAAAAAAWUAAAAAAAABZQAAAAAAAAFlAAAAAAAAAWUAAAAAAAABZQAAAAAAAAFlAAAAAAAAAWUAAAAAAAABZQAAAAAAAAFlAAAAAAAAAWUAAAAAAAABZQAAAAAAAAFlA",
          "dtype": "f8"
         },
         "yaxis": "y7"
        },
        {
         "line": {
          "color": "red",
          "dash": "dash"
         },
         "mode": "lines",
         "name": "RSI 70 (Overbought)",
         "showlegend": false,
         "type": "scatter",
         "x": [
          "2025-04-21T19:02:44.000000000",
          "2025-04-21T19:02:58.000000000",
          "2025-04-21T19:03:06.000000000",
          "2025-04-21T19:03:19.000000000",
          "2025-04-21T19:03:27.000000000",
          "2025-04-21T19:03:40.000000000",
          "2025-04-21T19:03:48.000000000",
          "2025-04-21T19:03:56.000000000",
          "2025-04-21T19:04:09.000000000",
          "2025-04-21T19:04:17.000000000",
          "2025-04-21T19:04:30.000000000",
          "2025-04-21T19:04:38.000000000",
          "2025-04-21T19:04:51.000000000",
          "2025-04-21T19:05:00.000000000",
          "2025-04-21T19:05:12.000000000",
          "2025-04-21T19:05:21.000000000",
          "2025-04-21T19:05:30.000000000",
          "2025-04-21T19:05:43.000000000"
         ],
         "xaxis": "x7",
         "y": [
          70,
          70,
          70,
          70,
          70,
          70,
          70,
          70,
          70,
          70,
          70,
          70,
          70,
          70,
          70,
          70,
          70,
          70
         ],
         "yaxis": "y7"
        },
        {
         "line": {
          "color": "green",
          "dash": "dash"
         },
         "mode": "lines",
         "name": "RSI 30 (Oversold)",
         "showlegend": false,
         "type": "scatter",
         "x": [
          "2025-04-21T19:02:44.000000000",
          "2025-04-21T19:02:58.000000000",
          "2025-04-21T19:03:06.000000000",
          "2025-04-21T19:03:19.000000000",
          "2025-04-21T19:03:27.000000000",
          "2025-04-21T19:03:40.000000000",
          "2025-04-21T19:03:48.000000000",
          "2025-04-21T19:03:56.000000000",
          "2025-04-21T19:04:09.000000000",
          "2025-04-21T19:04:17.000000000",
          "2025-04-21T19:04:30.000000000",
          "2025-04-21T19:04:38.000000000",
          "2025-04-21T19:04:51.000000000",
          "2025-04-21T19:05:00.000000000",
          "2025-04-21T19:05:12.000000000",
          "2025-04-21T19:05:21.000000000",
          "2025-04-21T19:05:30.000000000",
          "2025-04-21T19:05:43.000000000"
         ],
         "xaxis": "x7",
         "y": [
          30,
          30,
          30,
          30,
          30,
          30,
          30,
          30,
          30,
          30,
          30,
          30,
          30,
          30,
          30,
          30,
          30,
          30
         ],
         "yaxis": "y7"
        }
       ],
       "layout": {
        "annotations": [
         {
          "font": {
           "size": 16
          },
          "showarrow": false,
          "text": "AAPL - RSI Over Time",
          "x": 0.14444444444444446,
          "xanchor": "center",
          "xref": "paper",
          "y": 1,
          "yanchor": "bottom",
          "yref": "paper"
         },
         {
          "font": {
           "size": 16
          },
          "showarrow": false,
          "text": "MSFT - RSI Over Time",
          "x": 0.5,
          "xanchor": "center",
          "xref": "paper",
          "y": 1,
          "yanchor": "bottom",
          "yref": "paper"
         },
         {
          "font": {
           "size": 16
          },
          "showarrow": false,
          "text": "AMZN - RSI Over Time",
          "x": 0.8555555555555556,
          "xanchor": "center",
          "xref": "paper",
          "y": 1,
          "yanchor": "bottom",
          "yref": "paper"
         },
         {
          "font": {
           "size": 16
          },
          "showarrow": false,
          "text": "GOOGL - RSI Over Time",
          "x": 0.14444444444444446,
          "xanchor": "center",
          "xref": "paper",
          "y": 0.6111111111111112,
          "yanchor": "bottom",
          "yref": "paper"
         },
         {
          "font": {
           "size": 16
          },
          "showarrow": false,
          "text": "META - RSI Over Time",
          "x": 0.5,
          "xanchor": "center",
          "xref": "paper",
          "y": 0.6111111111111112,
          "yanchor": "bottom",
          "yref": "paper"
         },
         {
          "font": {
           "size": 16
          },
          "showarrow": false,
          "text": "TSLA - RSI Over Time",
          "x": 0.8555555555555556,
          "xanchor": "center",
          "xref": "paper",
          "y": 0.6111111111111112,
          "yanchor": "bottom",
          "yref": "paper"
         },
         {
          "font": {
           "size": 16
          },
          "showarrow": false,
          "text": "NVDA - RSI Over Time",
          "x": 0.14444444444444446,
          "xanchor": "center",
          "xref": "paper",
          "y": 0.22222222222222224,
          "yanchor": "bottom",
          "yref": "paper"
         }
        ],
        "height": 1000,
        "template": {
         "data": {
          "bar": [
           {
            "error_x": {
             "color": "#2a3f5f"
            },
            "error_y": {
             "color": "#2a3f5f"
            },
            "marker": {
             "line": {
              "color": "#E5ECF6",
              "width": 0.5
             },
             "pattern": {
              "fillmode": "overlay",
              "size": 10,
              "solidity": 0.2
             }
            },
            "type": "bar"
           }
          ],
          "barpolar": [
           {
            "marker": {
             "line": {
              "color": "#E5ECF6",
              "width": 0.5
             },
             "pattern": {
              "fillmode": "overlay",
              "size": 10,
              "solidity": 0.2
             }
            },
            "type": "barpolar"
           }
          ],
          "carpet": [
           {
            "aaxis": {
             "endlinecolor": "#2a3f5f",
             "gridcolor": "white",
             "linecolor": "white",
             "minorgridcolor": "white",
             "startlinecolor": "#2a3f5f"
            },
            "baxis": {
             "endlinecolor": "#2a3f5f",
             "gridcolor": "white",
             "linecolor": "white",
             "minorgridcolor": "white",
             "startlinecolor": "#2a3f5f"
            },
            "type": "carpet"
           }
          ],
          "choropleth": [
           {
            "colorbar": {
             "outlinewidth": 0,
             "ticks": ""
            },
            "type": "choropleth"
           }
          ],
          "contour": [
           {
            "colorbar": {
             "outlinewidth": 0,
             "ticks": ""
            },
            "colorscale": [
             [
              0,
              "#0d0887"
             ],
             [
              0.1111111111111111,
              "#46039f"
             ],
             [
              0.2222222222222222,
              "#7201a8"
             ],
             [
              0.3333333333333333,
              "#9c179e"
             ],
             [
              0.4444444444444444,
              "#bd3786"
             ],
             [
              0.5555555555555556,
              "#d8576b"
             ],
             [
              0.6666666666666666,
              "#ed7953"
             ],
             [
              0.7777777777777778,
              "#fb9f3a"
             ],
             [
              0.8888888888888888,
              "#fdca26"
             ],
             [
              1,
              "#f0f921"
             ]
            ],
            "type": "contour"
           }
          ],
          "contourcarpet": [
           {
            "colorbar": {
             "outlinewidth": 0,
             "ticks": ""
            },
            "type": "contourcarpet"
           }
          ],
          "heatmap": [
           {
            "colorbar": {
             "outlinewidth": 0,
             "ticks": ""
            },
            "colorscale": [
             [
              0,
              "#0d0887"
             ],
             [
              0.1111111111111111,
              "#46039f"
             ],
             [
              0.2222222222222222,
              "#7201a8"
             ],
             [
              0.3333333333333333,
              "#9c179e"
             ],
             [
              0.4444444444444444,
              "#bd3786"
             ],
             [
              0.5555555555555556,
              "#d8576b"
             ],
             [
              0.6666666666666666,
              "#ed7953"
             ],
             [
              0.7777777777777778,
              "#fb9f3a"
             ],
             [
              0.8888888888888888,
              "#fdca26"
             ],
             [
              1,
              "#f0f921"
             ]
            ],
            "type": "heatmap"
           }
          ],
          "histogram": [
           {
            "marker": {
             "pattern": {
              "fillmode": "overlay",
              "size": 10,
              "solidity": 0.2
             }
            },
            "type": "histogram"
           }
          ],
          "histogram2d": [
           {
            "colorbar": {
             "outlinewidth": 0,
             "ticks": ""
            },
            "colorscale": [
             [
              0,
              "#0d0887"
             ],
             [
              0.1111111111111111,
              "#46039f"
             ],
             [
              0.2222222222222222,
              "#7201a8"
             ],
             [
              0.3333333333333333,
              "#9c179e"
             ],
             [
              0.4444444444444444,
              "#bd3786"
             ],
             [
              0.5555555555555556,
              "#d8576b"
             ],
             [
              0.6666666666666666,
              "#ed7953"
             ],
             [
              0.7777777777777778,
              "#fb9f3a"
             ],
             [
              0.8888888888888888,
              "#fdca26"
             ],
             [
              1,
              "#f0f921"
             ]
            ],
            "type": "histogram2d"
           }
          ],
          "histogram2dcontour": [
           {
            "colorbar": {
             "outlinewidth": 0,
             "ticks": ""
            },
            "colorscale": [
             [
              0,
              "#0d0887"
             ],
             [
              0.1111111111111111,
              "#46039f"
             ],
             [
              0.2222222222222222,
              "#7201a8"
             ],
             [
              0.3333333333333333,
              "#9c179e"
             ],
             [
              0.4444444444444444,
              "#bd3786"
             ],
             [
              0.5555555555555556,
              "#d8576b"
             ],
             [
              0.6666666666666666,
              "#ed7953"
             ],
             [
              0.7777777777777778,
              "#fb9f3a"
             ],
             [
              0.8888888888888888,
              "#fdca26"
             ],
             [
              1,
              "#f0f921"
             ]
            ],
            "type": "histogram2dcontour"
           }
          ],
          "mesh3d": [
           {
            "colorbar": {
             "outlinewidth": 0,
             "ticks": ""
            },
            "type": "mesh3d"
           }
          ],
          "parcoords": [
           {
            "line": {
             "colorbar": {
              "outlinewidth": 0,
              "ticks": ""
             }
            },
            "type": "parcoords"
           }
          ],
          "pie": [
           {
            "automargin": true,
            "type": "pie"
           }
          ],
          "scatter": [
           {
            "fillpattern": {
             "fillmode": "overlay",
             "size": 10,
             "solidity": 0.2
            },
            "type": "scatter"
           }
          ],
          "scatter3d": [
           {
            "line": {
             "colorbar": {
              "outlinewidth": 0,
              "ticks": ""
             }
            },
            "marker": {
             "colorbar": {
              "outlinewidth": 0,
              "ticks": ""
             }
            },
            "type": "scatter3d"
           }
          ],
          "scattercarpet": [
           {
            "marker": {
             "colorbar": {
              "outlinewidth": 0,
              "ticks": ""
             }
            },
            "type": "scattercarpet"
           }
          ],
          "scattergeo": [
           {
            "marker": {
             "colorbar": {
              "outlinewidth": 0,
              "ticks": ""
             }
            },
            "type": "scattergeo"
           }
          ],
          "scattergl": [
           {
            "marker": {
             "colorbar": {
              "outlinewidth": 0,
              "ticks": ""
             }
            },
            "type": "scattergl"
           }
          ],
          "scattermap": [
           {
            "marker": {
             "colorbar": {
              "outlinewidth": 0,
              "ticks": ""
             }
            },
            "type": "scattermap"
           }
          ],
          "scattermapbox": [
           {
            "marker": {
             "colorbar": {
              "outlinewidth": 0,
              "ticks": ""
             }
            },
            "type": "scattermapbox"
           }
          ],
          "scatterpolar": [
           {
            "marker": {
             "colorbar": {
              "outlinewidth": 0,
              "ticks": ""
             }
            },
            "type": "scatterpolar"
           }
          ],
          "scatterpolargl": [
           {
            "marker": {
             "colorbar": {
              "outlinewidth": 0,
              "ticks": ""
             }
            },
            "type": "scatterpolargl"
           }
          ],
          "scatterternary": [
           {
            "marker": {
             "colorbar": {
              "outlinewidth": 0,
              "ticks": ""
             }
            },
            "type": "scatterternary"
           }
          ],
          "surface": [
           {
            "colorbar": {
             "outlinewidth": 0,
             "ticks": ""
            },
            "colorscale": [
             [
              0,
              "#0d0887"
             ],
             [
              0.1111111111111111,
              "#46039f"
             ],
             [
              0.2222222222222222,
              "#7201a8"
             ],
             [
              0.3333333333333333,
              "#9c179e"
             ],
             [
              0.4444444444444444,
              "#bd3786"
             ],
             [
              0.5555555555555556,
              "#d8576b"
             ],
             [
              0.6666666666666666,
              "#ed7953"
             ],
             [
              0.7777777777777778,
              "#fb9f3a"
             ],
             [
              0.8888888888888888,
              "#fdca26"
             ],
             [
              1,
              "#f0f921"
             ]
            ],
            "type": "surface"
           }
          ],
          "table": [
           {
            "cells": {
             "fill": {
              "color": "#EBF0F8"
             },
             "line": {
              "color": "white"
             }
            },
            "header": {
             "fill": {
              "color": "#C8D4E3"
             },
             "line": {
              "color": "white"
             }
            },
            "type": "table"
           }
          ]
         },
         "layout": {
          "annotationdefaults": {
           "arrowcolor": "#2a3f5f",
           "arrowhead": 0,
           "arrowwidth": 1
          },
          "autotypenumbers": "strict",
          "coloraxis": {
           "colorbar": {
            "outlinewidth": 0,
            "ticks": ""
           }
          },
          "colorscale": {
           "diverging": [
            [
             0,
             "#8e0152"
            ],
            [
             0.1,
             "#c51b7d"
            ],
            [
             0.2,
             "#de77ae"
            ],
            [
             0.3,
             "#f1b6da"
            ],
            [
             0.4,
             "#fde0ef"
            ],
            [
             0.5,
             "#f7f7f7"
            ],
            [
             0.6,
             "#e6f5d0"
            ],
            [
             0.7,
             "#b8e186"
            ],
            [
             0.8,
             "#7fbc41"
            ],
            [
             0.9,
             "#4d9221"
            ],
            [
             1,
             "#276419"
            ]
           ],
           "sequential": [
            [
             0,
             "#0d0887"
            ],
            [
             0.1111111111111111,
             "#46039f"
            ],
            [
             0.2222222222222222,
             "#7201a8"
            ],
            [
             0.3333333333333333,
             "#9c179e"
            ],
            [
             0.4444444444444444,
             "#bd3786"
            ],
            [
             0.5555555555555556,
             "#d8576b"
            ],
            [
             0.6666666666666666,
             "#ed7953"
            ],
            [
             0.7777777777777778,
             "#fb9f3a"
            ],
            [
             0.8888888888888888,
             "#fdca26"
            ],
            [
             1,
             "#f0f921"
            ]
           ],
           "sequentialminus": [
            [
             0,
             "#0d0887"
            ],
            [
             0.1111111111111111,
             "#46039f"
            ],
            [
             0.2222222222222222,
             "#7201a8"
            ],
            [
             0.3333333333333333,
             "#9c179e"
            ],
            [
             0.4444444444444444,
             "#bd3786"
            ],
            [
             0.5555555555555556,
             "#d8576b"
            ],
            [
             0.6666666666666666,
             "#ed7953"
            ],
            [
             0.7777777777777778,
             "#fb9f3a"
            ],
            [
             0.8888888888888888,
             "#fdca26"
            ],
            [
             1,
             "#f0f921"
            ]
           ]
          },
          "colorway": [
           "#636efa",
           "#EF553B",
           "#00cc96",
           "#ab63fa",
           "#FFA15A",
           "#19d3f3",
           "#FF6692",
           "#B6E880",
           "#FF97FF",
           "#FECB52"
          ],
          "font": {
           "color": "#2a3f5f"
          },
          "geo": {
           "bgcolor": "white",
           "lakecolor": "white",
           "landcolor": "#E5ECF6",
           "showlakes": true,
           "showland": true,
           "subunitcolor": "white"
          },
          "hoverlabel": {
           "align": "left"
          },
          "hovermode": "closest",
          "mapbox": {
           "style": "light"
          },
          "paper_bgcolor": "white",
          "plot_bgcolor": "#E5ECF6",
          "polar": {
           "angularaxis": {
            "gridcolor": "white",
            "linecolor": "white",
            "ticks": ""
           },
           "bgcolor": "#E5ECF6",
           "radialaxis": {
            "gridcolor": "white",
            "linecolor": "white",
            "ticks": ""
           }
          },
          "scene": {
           "xaxis": {
            "backgroundcolor": "#E5ECF6",
            "gridcolor": "white",
            "gridwidth": 2,
            "linecolor": "white",
            "showbackground": true,
            "ticks": "",
            "zerolinecolor": "white"
           },
           "yaxis": {
            "backgroundcolor": "#E5ECF6",
            "gridcolor": "white",
            "gridwidth": 2,
            "linecolor": "white",
            "showbackground": true,
            "ticks": "",
            "zerolinecolor": "white"
           },
           "zaxis": {
            "backgroundcolor": "#E5ECF6",
            "gridcolor": "white",
            "gridwidth": 2,
            "linecolor": "white",
            "showbackground": true,
            "ticks": "",
            "zerolinecolor": "white"
           }
          },
          "shapedefaults": {
           "line": {
            "color": "#2a3f5f"
           }
          },
          "ternary": {
           "aaxis": {
            "gridcolor": "white",
            "linecolor": "white",
            "ticks": ""
           },
           "baxis": {
            "gridcolor": "white",
            "linecolor": "white",
            "ticks": ""
           },
           "bgcolor": "#E5ECF6",
           "caxis": {
            "gridcolor": "white",
            "linecolor": "white",
            "ticks": ""
           }
          },
          "title": {
           "x": 0.05
          },
          "xaxis": {
           "automargin": true,
           "gridcolor": "white",
           "linecolor": "white",
           "ticks": "",
           "title": {
            "standoff": 15
           },
           "zerolinecolor": "white",
           "zerolinewidth": 2
          },
          "yaxis": {
           "automargin": true,
           "gridcolor": "white",
           "linecolor": "white",
           "ticks": "",
           "title": {
            "standoff": 15
           },
           "zerolinecolor": "white",
           "zerolinewidth": 2
          }
         }
        },
        "title": {
         "text": "RSI Over Time (Real-Time Data)"
        },
        "width": 1100,
        "xaxis": {
         "anchor": "y",
         "domain": [
          0,
          0.2888888888888889
         ]
        },
        "xaxis2": {
         "anchor": "y2",
         "domain": [
          0.35555555555555557,
          0.6444444444444445
         ]
        },
        "xaxis3": {
         "anchor": "y3",
         "domain": [
          0.7111111111111111,
          1
         ]
        },
        "xaxis4": {
         "anchor": "y4",
         "domain": [
          0,
          0.2888888888888889
         ]
        },
        "xaxis5": {
         "anchor": "y5",
         "domain": [
          0.35555555555555557,
          0.6444444444444445
         ]
        },
        "xaxis6": {
         "anchor": "y6",
         "domain": [
          0.7111111111111111,
          1
         ]
        },
        "xaxis7": {
         "anchor": "y7",
         "domain": [
          0,
          0.2888888888888889
         ]
        },
        "xaxis8": {
         "anchor": "y8",
         "domain": [
          0.35555555555555557,
          0.6444444444444445
         ]
        },
        "xaxis9": {
         "anchor": "y9",
         "domain": [
          0.7111111111111111,
          1
         ]
        },
        "yaxis": {
         "anchor": "x",
         "domain": [
          0.7777777777777778,
          1
         ]
        },
        "yaxis2": {
         "anchor": "x2",
         "domain": [
          0.7777777777777778,
          1
         ]
        },
        "yaxis3": {
         "anchor": "x3",
         "domain": [
          0.7777777777777778,
          1
         ]
        },
        "yaxis4": {
         "anchor": "x4",
         "domain": [
          0.3888888888888889,
          0.6111111111111112
         ]
        },
        "yaxis5": {
         "anchor": "x5",
         "domain": [
          0.3888888888888889,
          0.6111111111111112
         ]
        },
        "yaxis6": {
         "anchor": "x6",
         "domain": [
          0.3888888888888889,
          0.6111111111111112
         ]
        },
        "yaxis7": {
         "anchor": "x7",
         "domain": [
          0,
          0.22222222222222224
         ]
        },
        "yaxis8": {
         "anchor": "x8",
         "domain": [
          0,
          0.22222222222222224
         ]
        },
        "yaxis9": {
         "anchor": "x9",
         "domain": [
          0,
          0.22222222222222224
         ]
        }
       }
      }
     },
     "metadata": {},
     "output_type": "display_data"
    }
   ],
   "source": [
    "\n",
    "#adding tickers, subplot dimensions and calling the other tickers\n",
    "tickers = ['AAPL', 'MSFT', 'AMZN', 'GOOGL', 'META', 'TSLA', 'NVDA']\n",
    "rows, cols = 3, 3\n",
    "fig = make_subplots(rows=rows, cols=cols, subplot_titles=[f\"{ticker} - RSI Over Time\" for ticker in tickers])\n",
    "\n",
    "# looping and adding our lines for traces\n",
    "for i, ticker in enumerate(tickers):\n",
    "    row = i // cols + 1\n",
    "    col = i % cols + 1\n",
    "    group = df_cass_final[df_cass_final['ticker'] == ticker]\n",
    "\n",
    "    # RSI value trace line\n",
    "    fig.add_trace(go.Scatter(x=group['date'],y=group['RSI_5'],mode='lines+markers',name=f\"{ticker} RSI\",line=dict(color='blue'),showlegend=True),row=row, col=col)\n",
    "\n",
    "    # adding the overbought and oversold to the first subplot only so it shows up in the legend, didnt appear error otherwise\n",
    "    show_legend = (i == 0)\n",
    "\n",
    "    # RSI when overbought\n",
    "    fig.add_trace(go.Scatter(x=group['date'],y=[70]*len(group),mode='lines',line=dict(color='red', dash='dash'),name='RSI 70 (Overbought)',showlegend=show_legend),\n",
    "        row=row, col=col)\n",
    "\n",
    "    # RSI when oversold\n",
    "    fig.add_trace(\n",
    "        go.Scatter(x=group['date'], y=[30]*len(group),mode='lines',line=dict(color='green', dash='dash'),name='RSI 30 (Oversold)',showlegend=show_legend),\n",
    "        row=row, col=col)\n",
    "\n",
    "# title, adding hxw\n",
    "fig.update_layout(height=1000,width=1100,title_text=\"RSI Over Time (Real-Time Data)\")\n",
    "fig.show()\n"
   ]
  },
  {
   "cell_type": "markdown",
   "metadata": {},
   "source": [
    "### The above graph shows the RSI index for all 7 companies based on increments over 3 minutes. Since we are operating in a scope of 3 minutes, the RSI does not have the most data so it's increasing and decreasing very sharply. Typically it is better suited for historical data. We can hover over the dots in the blue line to see each time stamp. The red line signifies the threshold of overbought stocks and the green line signifies oversold threshold. \n",
    "\n",
    "### If there is a period of 100 RSI that would mean that all the price changes recently were gains (no losses were reported). However, if it drops suddenly to 0, it would mean that the RSI calculation flipped due to its sensitivity to price drops (3-minute limit). This price drop to 0 relays the idea of all losses (no gains were reported). Side Note: There is a jump after 5 dots (data points) because RSI_5 take atleast 5 values before they are able to calculate their rolling average. "
   ]
  },
  {
   "cell_type": "code",
   "execution_count": 30,
   "metadata": {},
   "outputs": [
    {
     "name": "stderr",
     "output_type": "stream",
     "text": [
      "/var/folders/94/_l0wmbt11w71fxhk3zvh0t580000gn/T/ipykernel_66466/1009826423.py:6: DeprecationWarning:\n",
      "\n",
      "DataFrameGroupBy.apply operated on the grouping columns. This behavior is deprecated, and in a future version of pandas the grouping columns will be excluded from the operation. Either pass `include_groups=False` to exclude the groupings or explicitly select the grouping columns after groupby to silence this warning.\n",
      "\n"
     ]
    },
    {
     "data": {
      "application/vnd.plotly.v1+json": {
       "config": {
        "plotlyServerURL": "https://plot.ly"
       },
       "data": [
        {
         "fillpattern": {
          "shape": ""
         },
         "hovertemplate": "ticker=AAPL<br>date=%{x}<br>ATR_5=%{y}<extra></extra>",
         "legendgroup": "AAPL",
         "line": {
          "color": "#636efa"
         },
         "marker": {
          "symbol": "circle"
         },
         "mode": "lines+markers",
         "name": "AAPL",
         "orientation": "v",
         "showlegend": true,
         "stackgroup": "1",
         "type": "scatter",
         "x": [
          "2025-04-21T19:04:17.000000000",
          "2025-04-21T19:04:30.000000000",
          "2025-04-21T19:04:38.000000000",
          "2025-04-21T19:04:51.000000000",
          "2025-04-21T19:05:00.000000000",
          "2025-04-21T19:05:08.000000000",
          "2025-04-21T19:05:20.000000000",
          "2025-04-21T19:05:29.000000000",
          "2025-04-21T19:05:42.000000000"
         ],
         "xaxis": "x",
         "y": {
          "bdata": "QEdy+Q/pD0BAR3L5D+kPQEBHcvkP6Q9AQEdy+Q/pD0BAR3L5D+kPQEBHcvkP6Q9AQEdy+Q/pD0BAR3L5D+kPQEBHcvkP6Q9A",
          "dtype": "f8"
         },
         "yaxis": "y"
        },
        {
         "fillpattern": {
          "shape": ""
         },
         "hovertemplate": "ticker=AMZN<br>date=%{x}<br>ATR_5=%{y}<extra></extra>",
         "legendgroup": "AMZN",
         "line": {
          "color": "#EF553B"
         },
         "marker": {
          "symbol": "circle"
         },
         "mode": "lines+markers",
         "name": "AMZN",
         "orientation": "v",
         "showlegend": true,
         "stackgroup": "1",
         "type": "scatter",
         "x": [
          "2025-04-21T19:03:39.000000000",
          "2025-04-21T19:03:47.000000000",
          "2025-04-21T19:03:56.000000000",
          "2025-04-21T19:04:09.000000000",
          "2025-04-21T19:04:17.000000000",
          "2025-04-21T19:04:30.000000000",
          "2025-04-21T19:04:38.000000000",
          "2025-04-21T19:04:50.000000000",
          "2025-04-21T19:05:00.000000000",
          "2025-04-21T19:05:12.000000000",
          "2025-04-21T19:05:21.000000000",
          "2025-04-21T19:05:30.000000000",
          "2025-04-21T19:05:38.000000000"
         ],
         "xaxis": "x",
         "y": {
          "bdata": "wPUoXI9CEUDA9Shcj0IRQMD1KFyPQhFAwPUoXI9CEUDA9Shcj0IRQMD1KFyPQhFAwPUoXI9CEUDA9Shcj0IRQMD1KFyPQhFAwPUoXI9CEUDA9Shcj0IRQMD1KFyPQhFAwPUoXI9CEUA=",
          "dtype": "f8"
         },
         "yaxis": "y"
        },
        {
         "fillpattern": {
          "shape": ""
         },
         "hovertemplate": "ticker=GOOGL<br>date=%{x}<br>ATR_5=%{y}<extra></extra>",
         "legendgroup": "GOOGL",
         "line": {
          "color": "#00cc96"
         },
         "marker": {
          "symbol": "circle"
         },
         "mode": "lines+markers",
         "name": "GOOGL",
         "orientation": "v",
         "showlegend": true,
         "stackgroup": "1",
         "type": "scatter",
         "x": [
          "2025-04-21T19:03:40.000000000",
          "2025-04-21T19:03:48.000000000",
          "2025-04-21T19:03:54.000000000",
          "2025-04-21T19:04:09.000000000",
          "2025-04-21T19:04:18.000000000",
          "2025-04-21T19:04:29.000000000",
          "2025-04-21T19:04:38.000000000",
          "2025-04-21T19:04:51.000000000",
          "2025-04-21T19:04:59.000000000",
          "2025-04-21T19:05:08.000000000",
          "2025-04-21T19:05:21.000000000",
          "2025-04-21T19:05:30.000000000",
          "2025-04-21T19:05:37.000000000"
         ],
         "xaxis": "x",
         "y": {
          "bdata": "wPUoXI/CBkDA9Shcj8IGQMD1KFyPwgZAwPUoXI/CBkDA9Shcj8IGQMD1KFyPwgZAwPUoXI/CBkDA9Shcj8IGQMD1KFyPwgZAwPUoXI/CBkDA9Shcj8IGQMD1KFyPwgZAwPUoXI/CBkA=",
          "dtype": "f8"
         },
         "yaxis": "y"
        },
        {
         "fillpattern": {
          "shape": ""
         },
         "hovertemplate": "ticker=META<br>date=%{x}<br>ATR_5=%{y}<extra></extra>",
         "legendgroup": "META",
         "line": {
          "color": "#ab63fa"
         },
         "marker": {
          "symbol": "circle"
         },
         "mode": "lines+markers",
         "name": "META",
         "orientation": "v",
         "showlegend": true,
         "stackgroup": "1",
         "type": "scatter",
         "x": [
          "2025-04-21T19:03:34.000000000",
          "2025-04-21T19:03:43.000000000",
          "2025-04-21T19:03:51.000000000",
          "2025-04-21T19:04:06.000000000",
          "2025-04-21T19:04:16.000000000",
          "2025-04-21T19:04:30.000000000",
          "2025-04-21T19:04:36.000000000",
          "2025-04-21T19:04:42.000000000",
          "2025-04-21T19:04:59.000000000",
          "2025-04-21T19:05:08.000000000",
          "2025-04-21T19:05:21.000000000",
          "2025-04-21T19:05:27.000000000",
          "2025-04-21T19:05:37.000000000"
         ],
         "xaxis": "x",
         "y": {
          "bdata": "YGZmZmZmK0BgZmZmZmYrQGBmZmZmZitAYGZmZmZmK0BgZmZmZmYrQGBmZmZmZitAYGZmZmZmK0BgZmZmZmYrQGBmZmZmZitAYGZmZmZmK0BgZmZmZmYrQGBmZmZmZitAYGZmZmZmK0A=",
          "dtype": "f8"
         },
         "yaxis": "y"
        },
        {
         "fillpattern": {
          "shape": ""
         },
         "hovertemplate": "ticker=MSFT<br>date=%{x}<br>ATR_5=%{y}<extra></extra>",
         "legendgroup": "MSFT",
         "line": {
          "color": "#FFA15A"
         },
         "marker": {
          "symbol": "circle"
         },
         "mode": "lines+markers",
         "name": "MSFT",
         "orientation": "v",
         "showlegend": true,
         "stackgroup": "1",
         "type": "scatter",
         "x": [
          "2025-04-21T19:03:39.000000000",
          "2025-04-21T19:03:44.000000000",
          "2025-04-21T19:03:53.000000000",
          "2025-04-21T19:04:09.000000000",
          "2025-04-21T19:04:17.000000000",
          "2025-04-21T19:04:30.000000000",
          "2025-04-21T19:04:38.000000000",
          "2025-04-21T19:04:51.000000000",
          "2025-04-21T19:05:00.000000000",
          "2025-04-21T19:05:12.000000000",
          "2025-04-21T19:05:20.000000000",
          "2025-04-21T19:05:28.000000000",
          "2025-04-21T19:05:35.000000000"
         ],
         "xaxis": "x",
         "y": {
          "bdata": "IIXrUbieIUAghetRuJ4hQCCF61G4niFAIIXrUbieIUAghetRuJ4hQCCF61G4niFAIIXrUbieIUAghetRuJ4hQCCF61G4niFAIIXrUbieIUAghetRuJ4hQCCF61G4niFAIIXrUbieIUA=",
          "dtype": "f8"
         },
         "yaxis": "y"
        },
        {
         "fillpattern": {
          "shape": ""
         },
         "hovertemplate": "ticker=NVDA<br>date=%{x}<br>ATR_5=%{y}<extra></extra>",
         "legendgroup": "NVDA",
         "line": {
          "color": "#19d3f3"
         },
         "marker": {
          "symbol": "circle"
         },
         "mode": "lines+markers",
         "name": "NVDA",
         "orientation": "v",
         "showlegend": true,
         "stackgroup": "1",
         "type": "scatter",
         "x": [
          "2025-04-21T19:03:40.000000000",
          "2025-04-21T19:03:48.000000000",
          "2025-04-21T19:03:56.000000000",
          "2025-04-21T19:04:09.000000000",
          "2025-04-21T19:04:17.000000000",
          "2025-04-21T19:04:30.000000000",
          "2025-04-21T19:04:38.000000000",
          "2025-04-21T19:04:51.000000000",
          "2025-04-21T19:05:00.000000000",
          "2025-04-21T19:05:12.000000000",
          "2025-04-21T19:05:21.000000000",
          "2025-04-21T19:05:30.000000000",
          "2025-04-21T19:05:43.000000000"
         ],
         "xaxis": "x",
         "y": {
          "bdata": "kJmZmZmZEUCQmZmZmZkRQJCZmZmZmRFAkJmZmZmZEUCQmZmZmZkRQJCZmZmZmRFAkJmZmZmZEUCQmZmZmZkRQJCZmZmZmRFAkJmZmZmZEUCQmZmZmZkRQJCZmZmZmRFAkJmZmZmZEUA=",
          "dtype": "f8"
         },
         "yaxis": "y"
        },
        {
         "fillpattern": {
          "shape": ""
         },
         "hovertemplate": "ticker=TSLA<br>date=%{x}<br>ATR_5=%{y}<extra></extra>",
         "legendgroup": "TSLA",
         "line": {
          "color": "#FF6692"
         },
         "marker": {
          "symbol": "circle"
         },
         "mode": "lines+markers",
         "name": "TSLA",
         "orientation": "v",
         "showlegend": true,
         "stackgroup": "1",
         "type": "scatter",
         "x": [
          "2025-04-21T19:03:39.000000000",
          "2025-04-21T19:03:48.000000000",
          "2025-04-21T19:03:56.000000000",
          "2025-04-21T19:04:09.000000000",
          "2025-04-21T19:04:18.000000000",
          "2025-04-21T19:04:30.000000000",
          "2025-04-21T19:04:38.000000000",
          "2025-04-21T19:04:51.000000000",
          "2025-04-21T19:05:00.000000000",
          "2025-04-21T19:05:12.000000000",
          "2025-04-21T19:05:22.000000000",
          "2025-04-21T19:05:30.000000000",
          "2025-04-21T19:05:39.000000000"
         ],
         "xaxis": "x",
         "y": {
          "bdata": "4KNwPQrXIkDgo3A9CtciQOCjcD0K1yJA4KNwPQrXIkDgo3A9CtciQOCjcD0K1yJA4KNwPQrXIkDgo3A9CtciQOCjcD0K1yJA4KNwPQrXIkDgo3A9CtciQOCjcD0K1yJA4KNwPQrXIkA=",
          "dtype": "f8"
         },
         "yaxis": "y"
        }
       ],
       "layout": {
        "height": 500,
        "legend": {
         "title": {
          "text": "ticker"
         },
         "tracegroupgap": 0
        },
        "template": {
         "data": {
          "bar": [
           {
            "error_x": {
             "color": "#2a3f5f"
            },
            "error_y": {
             "color": "#2a3f5f"
            },
            "marker": {
             "line": {
              "color": "#E5ECF6",
              "width": 0.5
             },
             "pattern": {
              "fillmode": "overlay",
              "size": 10,
              "solidity": 0.2
             }
            },
            "type": "bar"
           }
          ],
          "barpolar": [
           {
            "marker": {
             "line": {
              "color": "#E5ECF6",
              "width": 0.5
             },
             "pattern": {
              "fillmode": "overlay",
              "size": 10,
              "solidity": 0.2
             }
            },
            "type": "barpolar"
           }
          ],
          "carpet": [
           {
            "aaxis": {
             "endlinecolor": "#2a3f5f",
             "gridcolor": "white",
             "linecolor": "white",
             "minorgridcolor": "white",
             "startlinecolor": "#2a3f5f"
            },
            "baxis": {
             "endlinecolor": "#2a3f5f",
             "gridcolor": "white",
             "linecolor": "white",
             "minorgridcolor": "white",
             "startlinecolor": "#2a3f5f"
            },
            "type": "carpet"
           }
          ],
          "choropleth": [
           {
            "colorbar": {
             "outlinewidth": 0,
             "ticks": ""
            },
            "type": "choropleth"
           }
          ],
          "contour": [
           {
            "colorbar": {
             "outlinewidth": 0,
             "ticks": ""
            },
            "colorscale": [
             [
              0,
              "#0d0887"
             ],
             [
              0.1111111111111111,
              "#46039f"
             ],
             [
              0.2222222222222222,
              "#7201a8"
             ],
             [
              0.3333333333333333,
              "#9c179e"
             ],
             [
              0.4444444444444444,
              "#bd3786"
             ],
             [
              0.5555555555555556,
              "#d8576b"
             ],
             [
              0.6666666666666666,
              "#ed7953"
             ],
             [
              0.7777777777777778,
              "#fb9f3a"
             ],
             [
              0.8888888888888888,
              "#fdca26"
             ],
             [
              1,
              "#f0f921"
             ]
            ],
            "type": "contour"
           }
          ],
          "contourcarpet": [
           {
            "colorbar": {
             "outlinewidth": 0,
             "ticks": ""
            },
            "type": "contourcarpet"
           }
          ],
          "heatmap": [
           {
            "colorbar": {
             "outlinewidth": 0,
             "ticks": ""
            },
            "colorscale": [
             [
              0,
              "#0d0887"
             ],
             [
              0.1111111111111111,
              "#46039f"
             ],
             [
              0.2222222222222222,
              "#7201a8"
             ],
             [
              0.3333333333333333,
              "#9c179e"
             ],
             [
              0.4444444444444444,
              "#bd3786"
             ],
             [
              0.5555555555555556,
              "#d8576b"
             ],
             [
              0.6666666666666666,
              "#ed7953"
             ],
             [
              0.7777777777777778,
              "#fb9f3a"
             ],
             [
              0.8888888888888888,
              "#fdca26"
             ],
             [
              1,
              "#f0f921"
             ]
            ],
            "type": "heatmap"
           }
          ],
          "histogram": [
           {
            "marker": {
             "pattern": {
              "fillmode": "overlay",
              "size": 10,
              "solidity": 0.2
             }
            },
            "type": "histogram"
           }
          ],
          "histogram2d": [
           {
            "colorbar": {
             "outlinewidth": 0,
             "ticks": ""
            },
            "colorscale": [
             [
              0,
              "#0d0887"
             ],
             [
              0.1111111111111111,
              "#46039f"
             ],
             [
              0.2222222222222222,
              "#7201a8"
             ],
             [
              0.3333333333333333,
              "#9c179e"
             ],
             [
              0.4444444444444444,
              "#bd3786"
             ],
             [
              0.5555555555555556,
              "#d8576b"
             ],
             [
              0.6666666666666666,
              "#ed7953"
             ],
             [
              0.7777777777777778,
              "#fb9f3a"
             ],
             [
              0.8888888888888888,
              "#fdca26"
             ],
             [
              1,
              "#f0f921"
             ]
            ],
            "type": "histogram2d"
           }
          ],
          "histogram2dcontour": [
           {
            "colorbar": {
             "outlinewidth": 0,
             "ticks": ""
            },
            "colorscale": [
             [
              0,
              "#0d0887"
             ],
             [
              0.1111111111111111,
              "#46039f"
             ],
             [
              0.2222222222222222,
              "#7201a8"
             ],
             [
              0.3333333333333333,
              "#9c179e"
             ],
             [
              0.4444444444444444,
              "#bd3786"
             ],
             [
              0.5555555555555556,
              "#d8576b"
             ],
             [
              0.6666666666666666,
              "#ed7953"
             ],
             [
              0.7777777777777778,
              "#fb9f3a"
             ],
             [
              0.8888888888888888,
              "#fdca26"
             ],
             [
              1,
              "#f0f921"
             ]
            ],
            "type": "histogram2dcontour"
           }
          ],
          "mesh3d": [
           {
            "colorbar": {
             "outlinewidth": 0,
             "ticks": ""
            },
            "type": "mesh3d"
           }
          ],
          "parcoords": [
           {
            "line": {
             "colorbar": {
              "outlinewidth": 0,
              "ticks": ""
             }
            },
            "type": "parcoords"
           }
          ],
          "pie": [
           {
            "automargin": true,
            "type": "pie"
           }
          ],
          "scatter": [
           {
            "fillpattern": {
             "fillmode": "overlay",
             "size": 10,
             "solidity": 0.2
            },
            "type": "scatter"
           }
          ],
          "scatter3d": [
           {
            "line": {
             "colorbar": {
              "outlinewidth": 0,
              "ticks": ""
             }
            },
            "marker": {
             "colorbar": {
              "outlinewidth": 0,
              "ticks": ""
             }
            },
            "type": "scatter3d"
           }
          ],
          "scattercarpet": [
           {
            "marker": {
             "colorbar": {
              "outlinewidth": 0,
              "ticks": ""
             }
            },
            "type": "scattercarpet"
           }
          ],
          "scattergeo": [
           {
            "marker": {
             "colorbar": {
              "outlinewidth": 0,
              "ticks": ""
             }
            },
            "type": "scattergeo"
           }
          ],
          "scattergl": [
           {
            "marker": {
             "colorbar": {
              "outlinewidth": 0,
              "ticks": ""
             }
            },
            "type": "scattergl"
           }
          ],
          "scattermap": [
           {
            "marker": {
             "colorbar": {
              "outlinewidth": 0,
              "ticks": ""
             }
            },
            "type": "scattermap"
           }
          ],
          "scattermapbox": [
           {
            "marker": {
             "colorbar": {
              "outlinewidth": 0,
              "ticks": ""
             }
            },
            "type": "scattermapbox"
           }
          ],
          "scatterpolar": [
           {
            "marker": {
             "colorbar": {
              "outlinewidth": 0,
              "ticks": ""
             }
            },
            "type": "scatterpolar"
           }
          ],
          "scatterpolargl": [
           {
            "marker": {
             "colorbar": {
              "outlinewidth": 0,
              "ticks": ""
             }
            },
            "type": "scatterpolargl"
           }
          ],
          "scatterternary": [
           {
            "marker": {
             "colorbar": {
              "outlinewidth": 0,
              "ticks": ""
             }
            },
            "type": "scatterternary"
           }
          ],
          "surface": [
           {
            "colorbar": {
             "outlinewidth": 0,
             "ticks": ""
            },
            "colorscale": [
             [
              0,
              "#0d0887"
             ],
             [
              0.1111111111111111,
              "#46039f"
             ],
             [
              0.2222222222222222,
              "#7201a8"
             ],
             [
              0.3333333333333333,
              "#9c179e"
             ],
             [
              0.4444444444444444,
              "#bd3786"
             ],
             [
              0.5555555555555556,
              "#d8576b"
             ],
             [
              0.6666666666666666,
              "#ed7953"
             ],
             [
              0.7777777777777778,
              "#fb9f3a"
             ],
             [
              0.8888888888888888,
              "#fdca26"
             ],
             [
              1,
              "#f0f921"
             ]
            ],
            "type": "surface"
           }
          ],
          "table": [
           {
            "cells": {
             "fill": {
              "color": "#EBF0F8"
             },
             "line": {
              "color": "white"
             }
            },
            "header": {
             "fill": {
              "color": "#C8D4E3"
             },
             "line": {
              "color": "white"
             }
            },
            "type": "table"
           }
          ]
         },
         "layout": {
          "annotationdefaults": {
           "arrowcolor": "#2a3f5f",
           "arrowhead": 0,
           "arrowwidth": 1
          },
          "autotypenumbers": "strict",
          "coloraxis": {
           "colorbar": {
            "outlinewidth": 0,
            "ticks": ""
           }
          },
          "colorscale": {
           "diverging": [
            [
             0,
             "#8e0152"
            ],
            [
             0.1,
             "#c51b7d"
            ],
            [
             0.2,
             "#de77ae"
            ],
            [
             0.3,
             "#f1b6da"
            ],
            [
             0.4,
             "#fde0ef"
            ],
            [
             0.5,
             "#f7f7f7"
            ],
            [
             0.6,
             "#e6f5d0"
            ],
            [
             0.7,
             "#b8e186"
            ],
            [
             0.8,
             "#7fbc41"
            ],
            [
             0.9,
             "#4d9221"
            ],
            [
             1,
             "#276419"
            ]
           ],
           "sequential": [
            [
             0,
             "#0d0887"
            ],
            [
             0.1111111111111111,
             "#46039f"
            ],
            [
             0.2222222222222222,
             "#7201a8"
            ],
            [
             0.3333333333333333,
             "#9c179e"
            ],
            [
             0.4444444444444444,
             "#bd3786"
            ],
            [
             0.5555555555555556,
             "#d8576b"
            ],
            [
             0.6666666666666666,
             "#ed7953"
            ],
            [
             0.7777777777777778,
             "#fb9f3a"
            ],
            [
             0.8888888888888888,
             "#fdca26"
            ],
            [
             1,
             "#f0f921"
            ]
           ],
           "sequentialminus": [
            [
             0,
             "#0d0887"
            ],
            [
             0.1111111111111111,
             "#46039f"
            ],
            [
             0.2222222222222222,
             "#7201a8"
            ],
            [
             0.3333333333333333,
             "#9c179e"
            ],
            [
             0.4444444444444444,
             "#bd3786"
            ],
            [
             0.5555555555555556,
             "#d8576b"
            ],
            [
             0.6666666666666666,
             "#ed7953"
            ],
            [
             0.7777777777777778,
             "#fb9f3a"
            ],
            [
             0.8888888888888888,
             "#fdca26"
            ],
            [
             1,
             "#f0f921"
            ]
           ]
          },
          "colorway": [
           "#636efa",
           "#EF553B",
           "#00cc96",
           "#ab63fa",
           "#FFA15A",
           "#19d3f3",
           "#FF6692",
           "#B6E880",
           "#FF97FF",
           "#FECB52"
          ],
          "font": {
           "color": "#2a3f5f"
          },
          "geo": {
           "bgcolor": "white",
           "lakecolor": "white",
           "landcolor": "#E5ECF6",
           "showlakes": true,
           "showland": true,
           "subunitcolor": "white"
          },
          "hoverlabel": {
           "align": "left"
          },
          "hovermode": "closest",
          "mapbox": {
           "style": "light"
          },
          "paper_bgcolor": "white",
          "plot_bgcolor": "#E5ECF6",
          "polar": {
           "angularaxis": {
            "gridcolor": "white",
            "linecolor": "white",
            "ticks": ""
           },
           "bgcolor": "#E5ECF6",
           "radialaxis": {
            "gridcolor": "white",
            "linecolor": "white",
            "ticks": ""
           }
          },
          "scene": {
           "xaxis": {
            "backgroundcolor": "#E5ECF6",
            "gridcolor": "white",
            "gridwidth": 2,
            "linecolor": "white",
            "showbackground": true,
            "ticks": "",
            "zerolinecolor": "white"
           },
           "yaxis": {
            "backgroundcolor": "#E5ECF6",
            "gridcolor": "white",
            "gridwidth": 2,
            "linecolor": "white",
            "showbackground": true,
            "ticks": "",
            "zerolinecolor": "white"
           },
           "zaxis": {
            "backgroundcolor": "#E5ECF6",
            "gridcolor": "white",
            "gridwidth": 2,
            "linecolor": "white",
            "showbackground": true,
            "ticks": "",
            "zerolinecolor": "white"
           }
          },
          "shapedefaults": {
           "line": {
            "color": "#2a3f5f"
           }
          },
          "ternary": {
           "aaxis": {
            "gridcolor": "white",
            "linecolor": "white",
            "ticks": ""
           },
           "baxis": {
            "gridcolor": "white",
            "linecolor": "white",
            "ticks": ""
           },
           "bgcolor": "#E5ECF6",
           "caxis": {
            "gridcolor": "white",
            "linecolor": "white",
            "ticks": ""
           }
          },
          "title": {
           "x": 0.05
          },
          "xaxis": {
           "automargin": true,
           "gridcolor": "white",
           "linecolor": "white",
           "ticks": "",
           "title": {
            "standoff": 15
           },
           "zerolinecolor": "white",
           "zerolinewidth": 2
          },
          "yaxis": {
           "automargin": true,
           "gridcolor": "white",
           "linecolor": "white",
           "ticks": "",
           "title": {
            "standoff": 15
           },
           "zerolinecolor": "white",
           "zerolinewidth": 2
          }
         }
        },
        "title": {
         "text": "ATR Area Plot Over Time (Real Time Data)"
        },
        "xaxis": {
         "anchor": "y",
         "domain": [
          0,
          1
         ],
         "title": {
          "text": "Time"
         }
        },
        "yaxis": {
         "anchor": "x",
         "domain": [
          0,
          1
         ],
         "title": {
          "text": "ATR (5-period)"
         }
        }
       }
      }
     },
     "metadata": {},
     "output_type": "display_data"
    }
   ],
   "source": [
    "import plotly.express as px\n",
    "#creating an area plot that shows the ATR or average true range over time \n",
    "# using the 5 period ATR but skipping the first 5 since the window is not done rotating \n",
    "\n",
    "fig = px.area(\n",
    "   df_cass_final.groupby('ticker').apply(lambda x: x.iloc[5:]).reset_index(drop=True),\n",
    "    x=\"date\",\n",
    "    y=\"ATR_5\",\n",
    "    color=\"ticker\",\n",
    "    title=\"ATR Area Plot Over Time (Real Time Data)\",\n",
    "    markers=True\n",
    ")\n",
    "#updating title, and axis and height\n",
    "fig.update_layout(xaxis_title=\"Time\",yaxis_title=\"ATR (5-period)\",height=500)\n",
    "fig.show()\n"
   ]
  },
  {
   "cell_type": "markdown",
   "metadata": {},
   "source": [
    "### Above is a plotly area graph that shows the Average True Range (or volatility) of the magnificent 7 companies in our 3-minute time frame. A higher value means that the stock might have more fluctuation in the short term. Note: this graph does not include the 5 original datapoints needed for the rollingwindow (it was filtered out for clarity)"
   ]
  },
  {
   "cell_type": "code",
   "execution_count": 31,
   "metadata": {},
   "outputs": [
    {
     "data": {
      "application/vnd.plotly.v1+json": {
       "config": {
        "plotlyServerURL": "https://plot.ly"
       },
       "data": [
        {
         "mode": "lines",
         "name": "AAPL MACD",
         "type": "scatter",
         "x": [
          "2025-04-21T19:03:26.000000000",
          "2025-04-21T19:03:40.000000000",
          "2025-04-21T19:03:47.000000000",
          "2025-04-21T19:03:55.000000000",
          "2025-04-21T19:04:09.000000000",
          "2025-04-21T19:04:17.000000000",
          "2025-04-21T19:04:30.000000000",
          "2025-04-21T19:04:38.000000000",
          "2025-04-21T19:04:51.000000000",
          "2025-04-21T19:05:00.000000000",
          "2025-04-21T19:05:08.000000000",
          "2025-04-21T19:05:20.000000000",
          "2025-04-21T19:05:29.000000000",
          "2025-04-21T19:05:42.000000000"
         ],
         "xaxis": "x",
         "y": {
          "bdata": "AABsSIzNXj8AACt+OjhiPwAA3CdROGQ/AAALX4mOZT8AgPTiS+2FPwAgW0kmUZE/AIC4KPQYlj8AoPzXTpeZPwDAlqVaCZw/ACAohw2inT8AYFyyPyOePwDg6DOMMJ4/ACDkcuTinT8AoEGX3E6dPw==",
          "dtype": "f8"
         },
         "yaxis": "y"
        },
        {
         "line": {
          "dash": "dash"
         },
         "mode": "lines",
         "name": "AAPL MACD_Signal",
         "type": "scatter",
         "x": [
          "2025-04-21T19:03:26.000000000",
          "2025-04-21T19:03:40.000000000",
          "2025-04-21T19:03:47.000000000",
          "2025-04-21T19:03:55.000000000",
          "2025-04-21T19:04:09.000000000",
          "2025-04-21T19:04:17.000000000",
          "2025-04-21T19:04:30.000000000",
          "2025-04-21T19:04:38.000000000",
          "2025-04-21T19:04:51.000000000",
          "2025-04-21T19:05:00.000000000",
          "2025-04-21T19:05:08.000000000",
          "2025-04-21T19:05:20.000000000",
          "2025-04-21T19:05:29.000000000",
          "2025-04-21T19:05:42.000000000"
         ],
         "xaxis": "x",
         "y": {
          "bdata": "KVz3vxkURz+q8UB/7oRQP1XBWA+sTVU/eGdLMlqqWT8w9hQwx85rPxR8hOcH+ng/CJhL02TUgj/U7AeZ1kyJPxHXdYlpdI8/oY+d6yyCkj/oUl0Tl9WUPyBvrOaUtJY/5/gdaT4kmD+GTVhyxCyZPw==",
          "dtype": "f8"
         },
         "yaxis": "y"
        },
        {
         "mode": "lines",
         "name": "MSFT MACD",
         "type": "scatter",
         "x": [
          "2025-04-21T19:02:45.000000000",
          "2025-04-21T19:02:58.000000000",
          "2025-04-21T19:03:07.000000000",
          "2025-04-21T19:03:19.000000000",
          "2025-04-21T19:03:24.000000000",
          "2025-04-21T19:03:39.000000000",
          "2025-04-21T19:03:44.000000000",
          "2025-04-21T19:03:53.000000000",
          "2025-04-21T19:04:09.000000000",
          "2025-04-21T19:04:17.000000000",
          "2025-04-21T19:04:30.000000000",
          "2025-04-21T19:04:38.000000000",
          "2025-04-21T19:04:51.000000000",
          "2025-04-21T19:05:00.000000000",
          "2025-04-21T19:05:12.000000000",
          "2025-04-21T19:05:20.000000000",
          "2025-04-21T19:05:28.000000000",
          "2025-04-21T19:05:35.000000000"
         ],
         "xaxis": "x2",
         "y": {
          "bdata": "AAAAAAAAAAAAAAAAAAAAAADAp68tDpY/AMAdRL2Koz8AwBpdbv2pPwCg6LTivq4/AMCheYQPsT8AsDHoQzCyPwDAErbqMa8/AOC+H4rHqj8AwHteygOnPwDAk9SSzaM/AKD2Ep0PoT8AAGY7vm+dPwBAa45QBqI/AGDvx+VopD8A4GdEuwumPwCAQs2PE6c/",
          "dtype": "f8"
         },
         "yaxis": "y2"
        },
        {
         "line": {
          "dash": "dash"
         },
         "mode": "lines",
         "name": "MSFT MACD_Signal",
         "type": "scatter",
         "x": [
          "2025-04-21T19:02:45.000000000",
          "2025-04-21T19:02:58.000000000",
          "2025-04-21T19:03:07.000000000",
          "2025-04-21T19:03:19.000000000",
          "2025-04-21T19:03:24.000000000",
          "2025-04-21T19:03:39.000000000",
          "2025-04-21T19:03:44.000000000",
          "2025-04-21T19:03:53.000000000",
          "2025-04-21T19:04:09.000000000",
          "2025-04-21T19:04:17.000000000",
          "2025-04-21T19:04:30.000000000",
          "2025-04-21T19:04:38.000000000",
          "2025-04-21T19:04:51.000000000",
          "2025-04-21T19:05:00.000000000",
          "2025-04-21T19:05:12.000000000",
          "2025-04-21T19:05:20.000000000",
          "2025-04-21T19:05:28.000000000",
          "2025-04-21T19:05:35.000000000"
         ],
         "xaxis": "x2",
         "y": {
          "bdata": "AAAAAAAAAAAAAAAAAAAAAAAAU1nxpHE/mpnS8/ewhj8+ivi59XiTP2V7vXZS4Js/j+TyLIn5oT8Mym8avKelPz37KdMrkKc/MVzhSNg0qD9bo2aA1fenP0ncoveUIqc/CJ2zlpbrpT86F01L2HqkP/y47Isj/aM//XMgy7ASpD/+72HjsnekP5jZjnhF/aQ/",
          "dtype": "f8"
         },
         "yaxis": "y2"
        },
        {
         "mode": "lines",
         "name": "AMZN MACD",
         "type": "scatter",
         "x": [
          "2025-04-21T19:02:45.000000000",
          "2025-04-21T19:02:58.000000000",
          "2025-04-21T19:03:07.000000000",
          "2025-04-21T19:03:18.000000000",
          "2025-04-21T19:03:24.000000000",
          "2025-04-21T19:03:39.000000000",
          "2025-04-21T19:03:47.000000000",
          "2025-04-21T19:03:56.000000000",
          "2025-04-21T19:04:09.000000000",
          "2025-04-21T19:04:17.000000000",
          "2025-04-21T19:04:30.000000000",
          "2025-04-21T19:04:38.000000000",
          "2025-04-21T19:04:50.000000000",
          "2025-04-21T19:05:00.000000000",
          "2025-04-21T19:05:12.000000000",
          "2025-04-21T19:05:21.000000000",
          "2025-04-21T19:05:30.000000000",
          "2025-04-21T19:05:38.000000000"
         ],
         "xaxis": "x3",
         "y": {
          "bdata": "AAAAAAAAAAAAAAAAAAAAAAAAm9JL33Y/AEB0pQZEhD8AQF6/2vOKPwCAy1xm4o8/AMDgAkexkT8AACozuNySPwBAsSxMHpk/AADRvtC7nT8AsH5/YYGgPwBQMRvgmaE/AJC3f0lCoj8AwJ8h95CiPwAAFl/T8aU/AKDd52ZXqD8AIBpsHPGpPwCwFwxt5qo/",
          "dtype": "f8"
         },
         "yaxis": "y3"
        },
        {
         "line": {
          "dash": "dash"
         },
         "mode": "lines",
         "name": "AMZN MACD_Signal",
         "type": "scatter",
         "x": [
          "2025-04-21T19:02:45.000000000",
          "2025-04-21T19:02:58.000000000",
          "2025-04-21T19:03:07.000000000",
          "2025-04-21T19:03:18.000000000",
          "2025-04-21T19:03:24.000000000",
          "2025-04-21T19:03:39.000000000",
          "2025-04-21T19:03:47.000000000",
          "2025-04-21T19:03:56.000000000",
          "2025-04-21T19:04:09.000000000",
          "2025-04-21T19:04:17.000000000",
          "2025-04-21T19:04:30.000000000",
          "2025-04-21T19:04:38.000000000",
          "2025-04-21T19:04:50.000000000",
          "2025-04-21T19:05:00.000000000",
          "2025-04-21T19:05:12.000000000",
          "2025-04-21T19:05:21.000000000",
          "2025-04-21T19:05:30.000000000",
          "2025-04-21T19:05:38.000000000"
         ],
         "xaxis": "x3",
         "y": {
          "bdata": "AAAAAAAAAAAAAAAAAAAAAAAAfKg8TFI/mpmOlB2IZz8LV/iHljF0PwmssV6h6Hw/0cRtjfajgj8ONwLsDnWGPz/fe5tdA4w/s7/ByugmkT9ceZo74VKUPxeBwm2nTJc/4KB+JHDxmT/nM6UqVi6cPyDDWXuZUp8/QKG2X7hloT8zVJfIMhujPykAsW8+qqQ/",
          "dtype": "f8"
         },
         "yaxis": "y3"
        },
        {
         "mode": "lines",
         "name": "GOOGL MACD",
         "type": "scatter",
         "x": [
          "2025-04-21T19:02:45.000000000",
          "2025-04-21T19:02:58.000000000",
          "2025-04-21T19:03:07.000000000",
          "2025-04-21T19:03:19.000000000",
          "2025-04-21T19:03:24.000000000",
          "2025-04-21T19:03:40.000000000",
          "2025-04-21T19:03:48.000000000",
          "2025-04-21T19:03:54.000000000",
          "2025-04-21T19:04:09.000000000",
          "2025-04-21T19:04:18.000000000",
          "2025-04-21T19:04:29.000000000",
          "2025-04-21T19:04:38.000000000",
          "2025-04-21T19:04:51.000000000",
          "2025-04-21T19:04:59.000000000",
          "2025-04-21T19:05:08.000000000",
          "2025-04-21T19:05:21.000000000",
          "2025-04-21T19:05:30.000000000",
          "2025-04-21T19:05:37.000000000"
         ],
         "xaxis": "x4",
         "y": {
          "bdata": "AAAAAAAAAAAAAAAAAAAAAAAAP+l1knM/AEBKyndXgT8AwDnWTRCHPwDADqKuSIs/AAAD5IhHjj8AAMQYASSQPwAAh4tC05Q/ACAstRdCmD8AYKHO3auaPwBgTBsRQpw/AMCfH+AtnT8A4BvDf5GdPwDgFeAN55s/AMDA6opHmj8AwFYOVbWYPwDgDGggMpc/",
          "dtype": "f8"
         },
         "yaxis": "y4"
        },
        {
         "line": {
          "dash": "dash"
         },
         "mode": "lines",
         "name": "GOOGL MACD_Signal",
         "type": "scatter",
         "x": [
          "2025-04-21T19:02:45.000000000",
          "2025-04-21T19:02:58.000000000",
          "2025-04-21T19:03:07.000000000",
          "2025-04-21T19:03:19.000000000",
          "2025-04-21T19:03:24.000000000",
          "2025-04-21T19:03:40.000000000",
          "2025-04-21T19:03:48.000000000",
          "2025-04-21T19:03:54.000000000",
          "2025-04-21T19:04:09.000000000",
          "2025-04-21T19:04:18.000000000",
          "2025-04-21T19:04:29.000000000",
          "2025-04-21T19:04:38.000000000",
          "2025-04-21T19:04:51.000000000",
          "2025-04-21T19:04:59.000000000",
          "2025-04-21T19:05:08.000000000",
          "2025-04-21T19:05:21.000000000",
          "2025-04-21T19:05:30.000000000",
          "2025-04-21T19:05:37.000000000"
         ],
         "xaxis": "x4",
         "y": {
          "bdata": "AAAAAAAAAAAAAAAAAAAAAM3MZKi8UE8/w/W19usiZD9O4l+4sEdxP9gBuTrTvHg/egFivd/mfz8xmnUijTeDP46uLSAltIc/P2VplY2qjD/mbkqY/syQP7g4seWbF5M/x1NH8Q8clT851nFOJs2WPy7YxZ5U0pc/JaCRRyxQmD+42YWiZ2SYP8enbTAmJ5g/",
          "dtype": "f8"
         },
         "yaxis": "y4"
        },
        {
         "mode": "lines",
         "name": "META MACD",
         "type": "scatter",
         "x": [
          "2025-04-21T19:02:49.000000000",
          "2025-04-21T19:02:58.000000000",
          "2025-04-21T19:03:07.000000000",
          "2025-04-21T19:03:19.000000000",
          "2025-04-21T19:03:25.000000000",
          "2025-04-21T19:03:34.000000000",
          "2025-04-21T19:03:43.000000000",
          "2025-04-21T19:03:51.000000000",
          "2025-04-21T19:04:06.000000000",
          "2025-04-21T19:04:16.000000000",
          "2025-04-21T19:04:30.000000000",
          "2025-04-21T19:04:36.000000000",
          "2025-04-21T19:04:42.000000000",
          "2025-04-21T19:04:59.000000000",
          "2025-04-21T19:05:08.000000000",
          "2025-04-21T19:05:21.000000000",
          "2025-04-21T19:05:27.000000000",
          "2025-04-21T19:05:37.000000000"
         ],
         "xaxis": "x5",
         "y": {
          "bdata": "AAAAAAAAAAAAAAAAAAAAAAAAaF7EI1o/AADOKiwpZz8AAGxIjM1uPwAAK346OHI/AADdJ1E4dD8AAAxfiY51PwAA9eJL7ZU/AGBbSSZRoT8AwLgo9BimPwDg/NdOl6k/AACXpVoJrD8AQCiHDaKtPwAgqeCKPKk/AADcoxuBpT8AALzXz1WiPwAAQ3FhSZ8/",
          "dtype": "f8"
         },
         "yaxis": "y5"
        },
        {
         "line": {
          "dash": "dash"
         },
         "mode": "lines",
         "name": "META MACD_Signal",
         "type": "scatter",
         "x": [
          "2025-04-21T19:02:49.000000000",
          "2025-04-21T19:02:58.000000000",
          "2025-04-21T19:03:07.000000000",
          "2025-04-21T19:03:19.000000000",
          "2025-04-21T19:03:25.000000000",
          "2025-04-21T19:03:34.000000000",
          "2025-04-21T19:03:43.000000000",
          "2025-04-21T19:03:51.000000000",
          "2025-04-21T19:04:06.000000000",
          "2025-04-21T19:04:16.000000000",
          "2025-04-21T19:04:30.000000000",
          "2025-04-21T19:04:36.000000000",
          "2025-04-21T19:04:42.000000000",
          "2025-04-21T19:04:59.000000000",
          "2025-04-21T19:05:08.000000000",
          "2025-04-21T19:05:21.000000000",
          "2025-04-21T19:05:27.000000000",
          "2025-04-21T19:05:37.000000000"
         ],
         "xaxis": "x5",
         "y": {
          "bdata": "AAAAAAAAAAAAAAAAAAAAAAAAIOVp6TQ/Z2Z+F7TkSj8pXPe/GRRXP6rxQH/uhGA/vCdZD6xNZT/KH0wyWqppP1GmFTDHzns/uvWE5wf6iD9L4kvTZNSSP9ZBCJnWTJk/rDR2iWl0nz94u53rLIKiP8cCoBym2qM/Bs94BCQvpD/S2B+VedCjP3UtoALr+qI/",
          "dtype": "f8"
         },
         "yaxis": "y5"
        },
        {
         "mode": "lines",
         "name": "TSLA MACD",
         "type": "scatter",
         "x": [
          "2025-04-21T19:02:49.000000000",
          "2025-04-21T19:02:58.000000000",
          "2025-04-21T19:03:07.000000000",
          "2025-04-21T19:03:19.000000000",
          "2025-04-21T19:03:26.000000000",
          "2025-04-21T19:03:39.000000000",
          "2025-04-21T19:03:48.000000000",
          "2025-04-21T19:03:56.000000000",
          "2025-04-21T19:04:09.000000000",
          "2025-04-21T19:04:18.000000000",
          "2025-04-21T19:04:30.000000000",
          "2025-04-21T19:04:38.000000000",
          "2025-04-21T19:04:51.000000000",
          "2025-04-21T19:05:00.000000000",
          "2025-04-21T19:05:12.000000000",
          "2025-04-21T19:05:22.000000000",
          "2025-04-21T19:05:30.000000000",
          "2025-04-21T19:05:39.000000000"
         ],
         "xaxis": "x6",
         "y": {
          "bdata": "AAAAAAAAAAAAAAAAAAAAAAAAAbtaVpA/AGCBNXfznD8AMEOtd0CjPwDQtR1JxqY/AEDTcWVGqT8AYM62K/KqPwBgj1MuN68/AEhe7joasT8AsFjyHxSyPwDw7UIro7I/AOjJTN7csj8AuIRpC9OyPwBYt2s5n7Q/ALj1E5rLtT8AiBHvWne2PwCI0pVgvLY/",
          "dtype": "f8"
         },
         "yaxis": "y6"
        },
        {
         "line": {
          "dash": "dash"
         },
         "mode": "lines",
         "name": "TSLA MACD_Signal",
         "type": "scatter",
         "x": [
          "2025-04-21T19:02:49.000000000",
          "2025-04-21T19:02:58.000000000",
          "2025-04-21T19:03:07.000000000",
          "2025-04-21T19:03:19.000000000",
          "2025-04-21T19:03:26.000000000",
          "2025-04-21T19:03:39.000000000",
          "2025-04-21T19:03:48.000000000",
          "2025-04-21T19:03:56.000000000",
          "2025-04-21T19:04:09.000000000",
          "2025-04-21T19:04:18.000000000",
          "2025-04-21T19:04:30.000000000",
          "2025-04-21T19:04:38.000000000",
          "2025-04-21T19:04:51.000000000",
          "2025-04-21T19:05:00.000000000",
          "2025-04-21T19:05:12.000000000",
          "2025-04-21T19:05:22.000000000",
          "2025-04-21T19:05:30.000000000",
          "2025-04-21T19:05:39.000000000"
         ],
         "xaxis": "x6",
         "y": {
          "bdata": "AAAAAAAAAAAAAAAAAAAAAAAAaF7EI2o/NPOujvDOgD/36PQvINmMP8kWER8qppQ/ofguExehmj90Q29feAqgP118QpBpE6M/5BmOnwUapj/qJ5XgqumoP7xMowGaYqs/ZM05Uwd0rT9QVGMGpBevP7qZf36zj7A/+9Iwaa6bsT+WXfeDapSyPxJmVlQ1abM/",
          "dtype": "f8"
         },
         "yaxis": "y6"
        },
        {
         "mode": "lines",
         "name": "NVDA MACD",
         "type": "scatter",
         "x": [
          "2025-04-21T19:02:44.000000000",
          "2025-04-21T19:02:58.000000000",
          "2025-04-21T19:03:06.000000000",
          "2025-04-21T19:03:19.000000000",
          "2025-04-21T19:03:27.000000000",
          "2025-04-21T19:03:40.000000000",
          "2025-04-21T19:03:48.000000000",
          "2025-04-21T19:03:56.000000000",
          "2025-04-21T19:04:09.000000000",
          "2025-04-21T19:04:17.000000000",
          "2025-04-21T19:04:30.000000000",
          "2025-04-21T19:04:38.000000000",
          "2025-04-21T19:04:51.000000000",
          "2025-04-21T19:05:00.000000000",
          "2025-04-21T19:05:12.000000000",
          "2025-04-21T19:05:21.000000000",
          "2025-04-21T19:05:30.000000000",
          "2025-04-21T19:05:43.000000000"
         ],
         "xaxis": "x7",
         "y": {
          "bdata": "AAAAAAAAAAAAAAAAAAAAAAAA7AGOq2M/AAC7y7NtcT8AAH/23y13PwDApPOpa3s/AIBZa1tufj8AIFLksjiAPwBAt3/XuYU/AEBTB33KiT8AgGtZka6MPwCgvN65no4/ACA9tB/Kjz8AgBnv+SuQPwBwaJxL35M/APDFooWLlj8AsLQf02GYPwDQT98pi5k/",
          "dtype": "f8"
         },
         "yaxis": "y7"
        },
        {
         "line": {
          "dash": "dash"
         },
         "mode": "lines",
         "name": "NVDA MACD_Signal",
         "type": "scatter",
         "x": [
          "2025-04-21T19:02:44.000000000",
          "2025-04-21T19:02:58.000000000",
          "2025-04-21T19:03:06.000000000",
          "2025-04-21T19:03:19.000000000",
          "2025-04-21T19:03:27.000000000",
          "2025-04-21T19:03:40.000000000",
          "2025-04-21T19:03:48.000000000",
          "2025-04-21T19:03:56.000000000",
          "2025-04-21T19:04:09.000000000",
          "2025-04-21T19:04:17.000000000",
          "2025-04-21T19:04:30.000000000",
          "2025-04-21T19:04:38.000000000",
          "2025-04-21T19:04:51.000000000",
          "2025-04-21T19:05:00.000000000",
          "2025-04-21T19:05:12.000000000",
          "2025-04-21T19:05:21.000000000",
          "2025-04-21T19:05:30.000000000",
          "2025-04-21T19:05:43.000000000"
         ],
         "xaxis": "x7",
         "y": {
          "bdata": "AAAAAAAAAAAAAAAAAAAAAGdmRjbjeD8/4XpwR708VD+Nlyx/2F1hP6RfMseK3Gg/qAwmZeMHcD8gSj+sMFBzP+dU4rwWJHg/IPdvABGhfT9ASUJFipaBPzT0jf3GMYQ/kJZKVXKDhj9ARaxwv3qIP839Gf9QiIs/pcQwDUMLjz92C54LRUuRPyuZwQKm8ZI/",
          "dtype": "f8"
         },
         "yaxis": "y7"
        }
       ],
       "layout": {
        "annotations": [
         {
          "font": {
           "size": 16
          },
          "showarrow": false,
          "text": "AAPL: MACD vs MACD Signal",
          "x": 0.225,
          "xanchor": "center",
          "xref": "paper",
          "y": 1,
          "yanchor": "bottom",
          "yref": "paper"
         },
         {
          "font": {
           "size": 16
          },
          "showarrow": false,
          "text": "MSFT: MACD vs MACD Signal",
          "x": 0.775,
          "xanchor": "center",
          "xref": "paper",
          "y": 1,
          "yanchor": "bottom",
          "yref": "paper"
         },
         {
          "font": {
           "size": 16
          },
          "showarrow": false,
          "text": "AMZN: MACD vs MACD Signal",
          "x": 0.225,
          "xanchor": "center",
          "xref": "paper",
          "y": 0.71875,
          "yanchor": "bottom",
          "yref": "paper"
         },
         {
          "font": {
           "size": 16
          },
          "showarrow": false,
          "text": "GOOGL: MACD vs MACD Signal",
          "x": 0.775,
          "xanchor": "center",
          "xref": "paper",
          "y": 0.71875,
          "yanchor": "bottom",
          "yref": "paper"
         },
         {
          "font": {
           "size": 16
          },
          "showarrow": false,
          "text": "META: MACD vs MACD Signal",
          "x": 0.225,
          "xanchor": "center",
          "xref": "paper",
          "y": 0.4375,
          "yanchor": "bottom",
          "yref": "paper"
         },
         {
          "font": {
           "size": 16
          },
          "showarrow": false,
          "text": "TSLA: MACD vs MACD Signal",
          "x": 0.775,
          "xanchor": "center",
          "xref": "paper",
          "y": 0.4375,
          "yanchor": "bottom",
          "yref": "paper"
         },
         {
          "font": {
           "size": 16
          },
          "showarrow": false,
          "text": "NVDA: MACD vs MACD Signal",
          "x": 0.225,
          "xanchor": "center",
          "xref": "paper",
          "y": 0.15625,
          "yanchor": "bottom",
          "yref": "paper"
         }
        ],
        "height": 1000,
        "template": {
         "data": {
          "bar": [
           {
            "error_x": {
             "color": "#2a3f5f"
            },
            "error_y": {
             "color": "#2a3f5f"
            },
            "marker": {
             "line": {
              "color": "#E5ECF6",
              "width": 0.5
             },
             "pattern": {
              "fillmode": "overlay",
              "size": 10,
              "solidity": 0.2
             }
            },
            "type": "bar"
           }
          ],
          "barpolar": [
           {
            "marker": {
             "line": {
              "color": "#E5ECF6",
              "width": 0.5
             },
             "pattern": {
              "fillmode": "overlay",
              "size": 10,
              "solidity": 0.2
             }
            },
            "type": "barpolar"
           }
          ],
          "carpet": [
           {
            "aaxis": {
             "endlinecolor": "#2a3f5f",
             "gridcolor": "white",
             "linecolor": "white",
             "minorgridcolor": "white",
             "startlinecolor": "#2a3f5f"
            },
            "baxis": {
             "endlinecolor": "#2a3f5f",
             "gridcolor": "white",
             "linecolor": "white",
             "minorgridcolor": "white",
             "startlinecolor": "#2a3f5f"
            },
            "type": "carpet"
           }
          ],
          "choropleth": [
           {
            "colorbar": {
             "outlinewidth": 0,
             "ticks": ""
            },
            "type": "choropleth"
           }
          ],
          "contour": [
           {
            "colorbar": {
             "outlinewidth": 0,
             "ticks": ""
            },
            "colorscale": [
             [
              0,
              "#0d0887"
             ],
             [
              0.1111111111111111,
              "#46039f"
             ],
             [
              0.2222222222222222,
              "#7201a8"
             ],
             [
              0.3333333333333333,
              "#9c179e"
             ],
             [
              0.4444444444444444,
              "#bd3786"
             ],
             [
              0.5555555555555556,
              "#d8576b"
             ],
             [
              0.6666666666666666,
              "#ed7953"
             ],
             [
              0.7777777777777778,
              "#fb9f3a"
             ],
             [
              0.8888888888888888,
              "#fdca26"
             ],
             [
              1,
              "#f0f921"
             ]
            ],
            "type": "contour"
           }
          ],
          "contourcarpet": [
           {
            "colorbar": {
             "outlinewidth": 0,
             "ticks": ""
            },
            "type": "contourcarpet"
           }
          ],
          "heatmap": [
           {
            "colorbar": {
             "outlinewidth": 0,
             "ticks": ""
            },
            "colorscale": [
             [
              0,
              "#0d0887"
             ],
             [
              0.1111111111111111,
              "#46039f"
             ],
             [
              0.2222222222222222,
              "#7201a8"
             ],
             [
              0.3333333333333333,
              "#9c179e"
             ],
             [
              0.4444444444444444,
              "#bd3786"
             ],
             [
              0.5555555555555556,
              "#d8576b"
             ],
             [
              0.6666666666666666,
              "#ed7953"
             ],
             [
              0.7777777777777778,
              "#fb9f3a"
             ],
             [
              0.8888888888888888,
              "#fdca26"
             ],
             [
              1,
              "#f0f921"
             ]
            ],
            "type": "heatmap"
           }
          ],
          "histogram": [
           {
            "marker": {
             "pattern": {
              "fillmode": "overlay",
              "size": 10,
              "solidity": 0.2
             }
            },
            "type": "histogram"
           }
          ],
          "histogram2d": [
           {
            "colorbar": {
             "outlinewidth": 0,
             "ticks": ""
            },
            "colorscale": [
             [
              0,
              "#0d0887"
             ],
             [
              0.1111111111111111,
              "#46039f"
             ],
             [
              0.2222222222222222,
              "#7201a8"
             ],
             [
              0.3333333333333333,
              "#9c179e"
             ],
             [
              0.4444444444444444,
              "#bd3786"
             ],
             [
              0.5555555555555556,
              "#d8576b"
             ],
             [
              0.6666666666666666,
              "#ed7953"
             ],
             [
              0.7777777777777778,
              "#fb9f3a"
             ],
             [
              0.8888888888888888,
              "#fdca26"
             ],
             [
              1,
              "#f0f921"
             ]
            ],
            "type": "histogram2d"
           }
          ],
          "histogram2dcontour": [
           {
            "colorbar": {
             "outlinewidth": 0,
             "ticks": ""
            },
            "colorscale": [
             [
              0,
              "#0d0887"
             ],
             [
              0.1111111111111111,
              "#46039f"
             ],
             [
              0.2222222222222222,
              "#7201a8"
             ],
             [
              0.3333333333333333,
              "#9c179e"
             ],
             [
              0.4444444444444444,
              "#bd3786"
             ],
             [
              0.5555555555555556,
              "#d8576b"
             ],
             [
              0.6666666666666666,
              "#ed7953"
             ],
             [
              0.7777777777777778,
              "#fb9f3a"
             ],
             [
              0.8888888888888888,
              "#fdca26"
             ],
             [
              1,
              "#f0f921"
             ]
            ],
            "type": "histogram2dcontour"
           }
          ],
          "mesh3d": [
           {
            "colorbar": {
             "outlinewidth": 0,
             "ticks": ""
            },
            "type": "mesh3d"
           }
          ],
          "parcoords": [
           {
            "line": {
             "colorbar": {
              "outlinewidth": 0,
              "ticks": ""
             }
            },
            "type": "parcoords"
           }
          ],
          "pie": [
           {
            "automargin": true,
            "type": "pie"
           }
          ],
          "scatter": [
           {
            "fillpattern": {
             "fillmode": "overlay",
             "size": 10,
             "solidity": 0.2
            },
            "type": "scatter"
           }
          ],
          "scatter3d": [
           {
            "line": {
             "colorbar": {
              "outlinewidth": 0,
              "ticks": ""
             }
            },
            "marker": {
             "colorbar": {
              "outlinewidth": 0,
              "ticks": ""
             }
            },
            "type": "scatter3d"
           }
          ],
          "scattercarpet": [
           {
            "marker": {
             "colorbar": {
              "outlinewidth": 0,
              "ticks": ""
             }
            },
            "type": "scattercarpet"
           }
          ],
          "scattergeo": [
           {
            "marker": {
             "colorbar": {
              "outlinewidth": 0,
              "ticks": ""
             }
            },
            "type": "scattergeo"
           }
          ],
          "scattergl": [
           {
            "marker": {
             "colorbar": {
              "outlinewidth": 0,
              "ticks": ""
             }
            },
            "type": "scattergl"
           }
          ],
          "scattermap": [
           {
            "marker": {
             "colorbar": {
              "outlinewidth": 0,
              "ticks": ""
             }
            },
            "type": "scattermap"
           }
          ],
          "scattermapbox": [
           {
            "marker": {
             "colorbar": {
              "outlinewidth": 0,
              "ticks": ""
             }
            },
            "type": "scattermapbox"
           }
          ],
          "scatterpolar": [
           {
            "marker": {
             "colorbar": {
              "outlinewidth": 0,
              "ticks": ""
             }
            },
            "type": "scatterpolar"
           }
          ],
          "scatterpolargl": [
           {
            "marker": {
             "colorbar": {
              "outlinewidth": 0,
              "ticks": ""
             }
            },
            "type": "scatterpolargl"
           }
          ],
          "scatterternary": [
           {
            "marker": {
             "colorbar": {
              "outlinewidth": 0,
              "ticks": ""
             }
            },
            "type": "scatterternary"
           }
          ],
          "surface": [
           {
            "colorbar": {
             "outlinewidth": 0,
             "ticks": ""
            },
            "colorscale": [
             [
              0,
              "#0d0887"
             ],
             [
              0.1111111111111111,
              "#46039f"
             ],
             [
              0.2222222222222222,
              "#7201a8"
             ],
             [
              0.3333333333333333,
              "#9c179e"
             ],
             [
              0.4444444444444444,
              "#bd3786"
             ],
             [
              0.5555555555555556,
              "#d8576b"
             ],
             [
              0.6666666666666666,
              "#ed7953"
             ],
             [
              0.7777777777777778,
              "#fb9f3a"
             ],
             [
              0.8888888888888888,
              "#fdca26"
             ],
             [
              1,
              "#f0f921"
             ]
            ],
            "type": "surface"
           }
          ],
          "table": [
           {
            "cells": {
             "fill": {
              "color": "#EBF0F8"
             },
             "line": {
              "color": "white"
             }
            },
            "header": {
             "fill": {
              "color": "#C8D4E3"
             },
             "line": {
              "color": "white"
             }
            },
            "type": "table"
           }
          ]
         },
         "layout": {
          "annotationdefaults": {
           "arrowcolor": "#2a3f5f",
           "arrowhead": 0,
           "arrowwidth": 1
          },
          "autotypenumbers": "strict",
          "coloraxis": {
           "colorbar": {
            "outlinewidth": 0,
            "ticks": ""
           }
          },
          "colorscale": {
           "diverging": [
            [
             0,
             "#8e0152"
            ],
            [
             0.1,
             "#c51b7d"
            ],
            [
             0.2,
             "#de77ae"
            ],
            [
             0.3,
             "#f1b6da"
            ],
            [
             0.4,
             "#fde0ef"
            ],
            [
             0.5,
             "#f7f7f7"
            ],
            [
             0.6,
             "#e6f5d0"
            ],
            [
             0.7,
             "#b8e186"
            ],
            [
             0.8,
             "#7fbc41"
            ],
            [
             0.9,
             "#4d9221"
            ],
            [
             1,
             "#276419"
            ]
           ],
           "sequential": [
            [
             0,
             "#0d0887"
            ],
            [
             0.1111111111111111,
             "#46039f"
            ],
            [
             0.2222222222222222,
             "#7201a8"
            ],
            [
             0.3333333333333333,
             "#9c179e"
            ],
            [
             0.4444444444444444,
             "#bd3786"
            ],
            [
             0.5555555555555556,
             "#d8576b"
            ],
            [
             0.6666666666666666,
             "#ed7953"
            ],
            [
             0.7777777777777778,
             "#fb9f3a"
            ],
            [
             0.8888888888888888,
             "#fdca26"
            ],
            [
             1,
             "#f0f921"
            ]
           ],
           "sequentialminus": [
            [
             0,
             "#0d0887"
            ],
            [
             0.1111111111111111,
             "#46039f"
            ],
            [
             0.2222222222222222,
             "#7201a8"
            ],
            [
             0.3333333333333333,
             "#9c179e"
            ],
            [
             0.4444444444444444,
             "#bd3786"
            ],
            [
             0.5555555555555556,
             "#d8576b"
            ],
            [
             0.6666666666666666,
             "#ed7953"
            ],
            [
             0.7777777777777778,
             "#fb9f3a"
            ],
            [
             0.8888888888888888,
             "#fdca26"
            ],
            [
             1,
             "#f0f921"
            ]
           ]
          },
          "colorway": [
           "#636efa",
           "#EF553B",
           "#00cc96",
           "#ab63fa",
           "#FFA15A",
           "#19d3f3",
           "#FF6692",
           "#B6E880",
           "#FF97FF",
           "#FECB52"
          ],
          "font": {
           "color": "#2a3f5f"
          },
          "geo": {
           "bgcolor": "white",
           "lakecolor": "white",
           "landcolor": "#E5ECF6",
           "showlakes": true,
           "showland": true,
           "subunitcolor": "white"
          },
          "hoverlabel": {
           "align": "left"
          },
          "hovermode": "closest",
          "mapbox": {
           "style": "light"
          },
          "paper_bgcolor": "white",
          "plot_bgcolor": "#E5ECF6",
          "polar": {
           "angularaxis": {
            "gridcolor": "white",
            "linecolor": "white",
            "ticks": ""
           },
           "bgcolor": "#E5ECF6",
           "radialaxis": {
            "gridcolor": "white",
            "linecolor": "white",
            "ticks": ""
           }
          },
          "scene": {
           "xaxis": {
            "backgroundcolor": "#E5ECF6",
            "gridcolor": "white",
            "gridwidth": 2,
            "linecolor": "white",
            "showbackground": true,
            "ticks": "",
            "zerolinecolor": "white"
           },
           "yaxis": {
            "backgroundcolor": "#E5ECF6",
            "gridcolor": "white",
            "gridwidth": 2,
            "linecolor": "white",
            "showbackground": true,
            "ticks": "",
            "zerolinecolor": "white"
           },
           "zaxis": {
            "backgroundcolor": "#E5ECF6",
            "gridcolor": "white",
            "gridwidth": 2,
            "linecolor": "white",
            "showbackground": true,
            "ticks": "",
            "zerolinecolor": "white"
           }
          },
          "shapedefaults": {
           "line": {
            "color": "#2a3f5f"
           }
          },
          "ternary": {
           "aaxis": {
            "gridcolor": "white",
            "linecolor": "white",
            "ticks": ""
           },
           "baxis": {
            "gridcolor": "white",
            "linecolor": "white",
            "ticks": ""
           },
           "bgcolor": "#E5ECF6",
           "caxis": {
            "gridcolor": "white",
            "linecolor": "white",
            "ticks": ""
           }
          },
          "title": {
           "x": 0.05
          },
          "xaxis": {
           "automargin": true,
           "gridcolor": "white",
           "linecolor": "white",
           "ticks": "",
           "title": {
            "standoff": 15
           },
           "zerolinecolor": "white",
           "zerolinewidth": 2
          },
          "yaxis": {
           "automargin": true,
           "gridcolor": "white",
           "linecolor": "white",
           "ticks": "",
           "title": {
            "standoff": 15
           },
           "zerolinecolor": "white",
           "zerolinewidth": 2
          }
         }
        },
        "title": {
         "text": "MACD vs MACD Signal for All Tickers (Real-Time Data)"
        },
        "xaxis": {
         "anchor": "y",
         "domain": [
          0,
          0.45
         ]
        },
        "xaxis2": {
         "anchor": "y2",
         "domain": [
          0.55,
          1
         ]
        },
        "xaxis3": {
         "anchor": "y3",
         "domain": [
          0,
          0.45
         ]
        },
        "xaxis4": {
         "anchor": "y4",
         "domain": [
          0.55,
          1
         ]
        },
        "xaxis5": {
         "anchor": "y5",
         "domain": [
          0,
          0.45
         ]
        },
        "xaxis6": {
         "anchor": "y6",
         "domain": [
          0.55,
          1
         ]
        },
        "xaxis7": {
         "anchor": "y7",
         "domain": [
          0,
          0.45
         ]
        },
        "xaxis8": {
         "anchor": "y8",
         "domain": [
          0.55,
          1
         ]
        },
        "yaxis": {
         "anchor": "x",
         "domain": [
          0.84375,
          1
         ]
        },
        "yaxis2": {
         "anchor": "x2",
         "domain": [
          0.84375,
          1
         ]
        },
        "yaxis3": {
         "anchor": "x3",
         "domain": [
          0.5625,
          0.71875
         ]
        },
        "yaxis4": {
         "anchor": "x4",
         "domain": [
          0.5625,
          0.71875
         ]
        },
        "yaxis5": {
         "anchor": "x5",
         "domain": [
          0.28125,
          0.4375
         ]
        },
        "yaxis6": {
         "anchor": "x6",
         "domain": [
          0.28125,
          0.4375
         ]
        },
        "yaxis7": {
         "anchor": "x7",
         "domain": [
          0,
          0.15625
         ]
        },
        "yaxis8": {
         "anchor": "x8",
         "domain": [
          0,
          0.15625
         ]
        }
       }
      }
     },
     "metadata": {},
     "output_type": "display_data"
    }
   ],
   "source": [
    "#creating a subplot for the MACD and MACD signal\n",
    "tickers = ['AAPL', 'MSFT', 'AMZN', 'GOOGL', 'META', 'TSLA', 'NVDA']\n",
    "fig = make_subplots(rows=4, cols=2, subplot_titles=[f\"{ticker}: MACD vs MACD Signal\" for ticker in tickers])\n",
    "row = 1\n",
    "col=1\n",
    "for i, ticker in enumerate(tickers):\n",
    "    subset = df_cass_final[df_cass_final['ticker'] == ticker]\n",
    "#adding a trace for the MACD and MACD signal\n",
    "    fig.add_trace(go.Scatter(x=subset['date'], y=subset['MACD'], mode='lines', name=f'{ticker} MACD'), row=row, col=col)\n",
    "    fig.add_trace(go.Scatter(x=subset['date'], y=subset['MACD_Signal'], mode='lines', name=f'{ticker} MACD_Signal',\n",
    "                             line=dict(dash='dash')), row=row, col=col)\n",
    "    col += 1\n",
    "    if col > 2:\n",
    "        row += 1\n",
    "        col = 1\n",
    "#updating height and adding title\n",
    "fig.update_layout(height=1000, title_text=\"MACD vs MACD Signal for All Tickers (Real-Time Data)\",)\n",
    "fig.show()\n"
   ]
  },
  {
   "cell_type": "markdown",
   "metadata": {},
   "source": [
    "### This subplot is comprised of 7 line graphs analyzing the Moving Average Convergence Divergence, (which is the difference between short-term and long-term EMAs), and MACD signal line which is a smoother indicator for buy/sell signals (bull vs bear signals). At every timestamp, when we see the MACD rising above a 0 it signifies a bullish trend which means to buy. The distance between a MACD and its signal line can show us the strength of the trend itself. If the MACD falls below 0 then we have a bearish trend. Additionally if there is a crossover of MACD above the signal lne then its a buy signal whereas the MACD below the signal line is a sell signal (bearish). This graph allows us to see which stocks are gaining momentum. Note: The first few rows do not have enough data which is why the graph is flat at the beginning for all companies."
   ]
  },
  {
   "cell_type": "code",
   "execution_count": 32,
   "metadata": {},
   "outputs": [
    {
     "data": {
      "application/vnd.plotly.v1+json": {
       "config": {
        "plotlyServerURL": "https://plot.ly"
       },
       "data": [
        {
         "alignmentgroup": "True",
         "hovertemplate": "Ticker=%{x}<br>MACD Value=%{y}<extra></extra>",
         "legendgroup": "AAPL",
         "marker": {
          "color": "#636efa"
         },
         "name": "AAPL",
         "notched": false,
         "offsetgroup": "AAPL",
         "orientation": "v",
         "showlegend": true,
         "type": "box",
         "x": [
          "AAPL",
          "AAPL",
          "AAPL",
          "AAPL",
          "AAPL",
          "AAPL",
          "AAPL",
          "AAPL",
          "AAPL",
          "AAPL",
          "AAPL",
          "AAPL",
          "AAPL",
          "AAPL"
         ],
         "x0": " ",
         "xaxis": "x",
         "y": {
          "bdata": "AABsSIzNXj8AACt+OjhiPwAA3CdROGQ/AAALX4mOZT8AgPTiS+2FPwAgW0kmUZE/AIC4KPQYlj8AoPzXTpeZPwDAlqVaCZw/ACAohw2inT8AYFyyPyOePwDg6DOMMJ4/ACDkcuTinT8AoEGX3E6dPw==",
          "dtype": "f8"
         },
         "y0": " ",
         "yaxis": "y"
        },
        {
         "alignmentgroup": "True",
         "hovertemplate": "Ticker=%{x}<br>MACD Value=%{y}<extra></extra>",
         "legendgroup": "AMZN",
         "marker": {
          "color": "#EF553B"
         },
         "name": "AMZN",
         "notched": false,
         "offsetgroup": "AMZN",
         "orientation": "v",
         "showlegend": true,
         "type": "box",
         "x": [
          "AMZN",
          "AMZN",
          "AMZN",
          "AMZN",
          "AMZN",
          "AMZN",
          "AMZN",
          "AMZN",
          "AMZN",
          "AMZN",
          "AMZN",
          "AMZN",
          "AMZN",
          "AMZN",
          "AMZN",
          "AMZN",
          "AMZN",
          "AMZN"
         ],
         "x0": " ",
         "xaxis": "x",
         "y": {
          "bdata": "AAAAAAAAAAAAAAAAAAAAAAAAm9JL33Y/AEB0pQZEhD8AQF6/2vOKPwCAy1xm4o8/AMDgAkexkT8AACozuNySPwBAsSxMHpk/AADRvtC7nT8AsH5/YYGgPwBQMRvgmaE/AJC3f0lCoj8AwJ8h95CiPwAAFl/T8aU/AKDd52ZXqD8AIBpsHPGpPwCwFwxt5qo/",
          "dtype": "f8"
         },
         "y0": " ",
         "yaxis": "y"
        },
        {
         "alignmentgroup": "True",
         "hovertemplate": "Ticker=%{x}<br>MACD Value=%{y}<extra></extra>",
         "legendgroup": "GOOGL",
         "marker": {
          "color": "#00cc96"
         },
         "name": "GOOGL",
         "notched": false,
         "offsetgroup": "GOOGL",
         "orientation": "v",
         "showlegend": true,
         "type": "box",
         "x": [
          "GOOGL",
          "GOOGL",
          "GOOGL",
          "GOOGL",
          "GOOGL",
          "GOOGL",
          "GOOGL",
          "GOOGL",
          "GOOGL",
          "GOOGL",
          "GOOGL",
          "GOOGL",
          "GOOGL",
          "GOOGL",
          "GOOGL",
          "GOOGL",
          "GOOGL",
          "GOOGL"
         ],
         "x0": " ",
         "xaxis": "x",
         "y": {
          "bdata": "AAAAAAAAAAAAAAAAAAAAAAAAP+l1knM/AEBKyndXgT8AwDnWTRCHPwDADqKuSIs/AAAD5IhHjj8AAMQYASSQPwAAh4tC05Q/ACAstRdCmD8AYKHO3auaPwBgTBsRQpw/AMCfH+AtnT8A4BvDf5GdPwDgFeAN55s/AMDA6opHmj8AwFYOVbWYPwDgDGggMpc/",
          "dtype": "f8"
         },
         "y0": " ",
         "yaxis": "y"
        },
        {
         "alignmentgroup": "True",
         "hovertemplate": "Ticker=%{x}<br>MACD Value=%{y}<extra></extra>",
         "legendgroup": "META",
         "marker": {
          "color": "#ab63fa"
         },
         "name": "META",
         "notched": false,
         "offsetgroup": "META",
         "orientation": "v",
         "showlegend": true,
         "type": "box",
         "x": [
          "META",
          "META",
          "META",
          "META",
          "META",
          "META",
          "META",
          "META",
          "META",
          "META",
          "META",
          "META",
          "META",
          "META",
          "META",
          "META",
          "META",
          "META"
         ],
         "x0": " ",
         "xaxis": "x",
         "y": {
          "bdata": "AAAAAAAAAAAAAAAAAAAAAAAAaF7EI1o/AADOKiwpZz8AAGxIjM1uPwAAK346OHI/AADdJ1E4dD8AAAxfiY51PwAA9eJL7ZU/AGBbSSZRoT8AwLgo9BimPwDg/NdOl6k/AACXpVoJrD8AQCiHDaKtPwAgqeCKPKk/AADcoxuBpT8AALzXz1WiPwAAQ3FhSZ8/",
          "dtype": "f8"
         },
         "y0": " ",
         "yaxis": "y"
        },
        {
         "alignmentgroup": "True",
         "hovertemplate": "Ticker=%{x}<br>MACD Value=%{y}<extra></extra>",
         "legendgroup": "MSFT",
         "marker": {
          "color": "#FFA15A"
         },
         "name": "MSFT",
         "notched": false,
         "offsetgroup": "MSFT",
         "orientation": "v",
         "showlegend": true,
         "type": "box",
         "x": [
          "MSFT",
          "MSFT",
          "MSFT",
          "MSFT",
          "MSFT",
          "MSFT",
          "MSFT",
          "MSFT",
          "MSFT",
          "MSFT",
          "MSFT",
          "MSFT",
          "MSFT",
          "MSFT",
          "MSFT",
          "MSFT",
          "MSFT",
          "MSFT"
         ],
         "x0": " ",
         "xaxis": "x",
         "y": {
          "bdata": "AAAAAAAAAAAAAAAAAAAAAADAp68tDpY/AMAdRL2Koz8AwBpdbv2pPwCg6LTivq4/AMCheYQPsT8AsDHoQzCyPwDAErbqMa8/AOC+H4rHqj8AwHteygOnPwDAk9SSzaM/AKD2Ep0PoT8AAGY7vm+dPwBAa45QBqI/AGDvx+VopD8A4GdEuwumPwCAQs2PE6c/",
          "dtype": "f8"
         },
         "y0": " ",
         "yaxis": "y"
        },
        {
         "alignmentgroup": "True",
         "hovertemplate": "Ticker=%{x}<br>MACD Value=%{y}<extra></extra>",
         "legendgroup": "NVDA",
         "marker": {
          "color": "#19d3f3"
         },
         "name": "NVDA",
         "notched": false,
         "offsetgroup": "NVDA",
         "orientation": "v",
         "showlegend": true,
         "type": "box",
         "x": [
          "NVDA",
          "NVDA",
          "NVDA",
          "NVDA",
          "NVDA",
          "NVDA",
          "NVDA",
          "NVDA",
          "NVDA",
          "NVDA",
          "NVDA",
          "NVDA",
          "NVDA",
          "NVDA",
          "NVDA",
          "NVDA",
          "NVDA",
          "NVDA"
         ],
         "x0": " ",
         "xaxis": "x",
         "y": {
          "bdata": "AAAAAAAAAAAAAAAAAAAAAAAA7AGOq2M/AAC7y7NtcT8AAH/23y13PwDApPOpa3s/AIBZa1tufj8AIFLksjiAPwBAt3/XuYU/AEBTB33KiT8AgGtZka6MPwCgvN65no4/ACA9tB/Kjz8AgBnv+SuQPwBwaJxL35M/APDFooWLlj8AsLQf02GYPwDQT98pi5k/",
          "dtype": "f8"
         },
         "y0": " ",
         "yaxis": "y"
        },
        {
         "alignmentgroup": "True",
         "hovertemplate": "Ticker=%{x}<br>MACD Value=%{y}<extra></extra>",
         "legendgroup": "TSLA",
         "marker": {
          "color": "#FF6692"
         },
         "name": "TSLA",
         "notched": false,
         "offsetgroup": "TSLA",
         "orientation": "v",
         "showlegend": true,
         "type": "box",
         "x": [
          "TSLA",
          "TSLA",
          "TSLA",
          "TSLA",
          "TSLA",
          "TSLA",
          "TSLA",
          "TSLA",
          "TSLA",
          "TSLA",
          "TSLA",
          "TSLA",
          "TSLA",
          "TSLA",
          "TSLA",
          "TSLA",
          "TSLA",
          "TSLA"
         ],
         "x0": " ",
         "xaxis": "x",
         "y": {
          "bdata": "AAAAAAAAAAAAAAAAAAAAAAAAAbtaVpA/AGCBNXfznD8AMEOtd0CjPwDQtR1JxqY/AEDTcWVGqT8AYM62K/KqPwBgj1MuN68/AEhe7joasT8AsFjyHxSyPwDw7UIro7I/AOjJTN7csj8AuIRpC9OyPwBYt2s5n7Q/ALj1E5rLtT8AiBHvWne2PwCI0pVgvLY/",
          "dtype": "f8"
         },
         "y0": " ",
         "yaxis": "y"
        }
       ],
       "layout": {
        "boxmode": "overlay",
        "legend": {
         "title": {
          "text": "Ticker"
         },
         "tracegroupgap": 0
        },
        "template": {
         "data": {
          "bar": [
           {
            "error_x": {
             "color": "#2a3f5f"
            },
            "error_y": {
             "color": "#2a3f5f"
            },
            "marker": {
             "line": {
              "color": "#E5ECF6",
              "width": 0.5
             },
             "pattern": {
              "fillmode": "overlay",
              "size": 10,
              "solidity": 0.2
             }
            },
            "type": "bar"
           }
          ],
          "barpolar": [
           {
            "marker": {
             "line": {
              "color": "#E5ECF6",
              "width": 0.5
             },
             "pattern": {
              "fillmode": "overlay",
              "size": 10,
              "solidity": 0.2
             }
            },
            "type": "barpolar"
           }
          ],
          "carpet": [
           {
            "aaxis": {
             "endlinecolor": "#2a3f5f",
             "gridcolor": "white",
             "linecolor": "white",
             "minorgridcolor": "white",
             "startlinecolor": "#2a3f5f"
            },
            "baxis": {
             "endlinecolor": "#2a3f5f",
             "gridcolor": "white",
             "linecolor": "white",
             "minorgridcolor": "white",
             "startlinecolor": "#2a3f5f"
            },
            "type": "carpet"
           }
          ],
          "choropleth": [
           {
            "colorbar": {
             "outlinewidth": 0,
             "ticks": ""
            },
            "type": "choropleth"
           }
          ],
          "contour": [
           {
            "colorbar": {
             "outlinewidth": 0,
             "ticks": ""
            },
            "colorscale": [
             [
              0,
              "#0d0887"
             ],
             [
              0.1111111111111111,
              "#46039f"
             ],
             [
              0.2222222222222222,
              "#7201a8"
             ],
             [
              0.3333333333333333,
              "#9c179e"
             ],
             [
              0.4444444444444444,
              "#bd3786"
             ],
             [
              0.5555555555555556,
              "#d8576b"
             ],
             [
              0.6666666666666666,
              "#ed7953"
             ],
             [
              0.7777777777777778,
              "#fb9f3a"
             ],
             [
              0.8888888888888888,
              "#fdca26"
             ],
             [
              1,
              "#f0f921"
             ]
            ],
            "type": "contour"
           }
          ],
          "contourcarpet": [
           {
            "colorbar": {
             "outlinewidth": 0,
             "ticks": ""
            },
            "type": "contourcarpet"
           }
          ],
          "heatmap": [
           {
            "colorbar": {
             "outlinewidth": 0,
             "ticks": ""
            },
            "colorscale": [
             [
              0,
              "#0d0887"
             ],
             [
              0.1111111111111111,
              "#46039f"
             ],
             [
              0.2222222222222222,
              "#7201a8"
             ],
             [
              0.3333333333333333,
              "#9c179e"
             ],
             [
              0.4444444444444444,
              "#bd3786"
             ],
             [
              0.5555555555555556,
              "#d8576b"
             ],
             [
              0.6666666666666666,
              "#ed7953"
             ],
             [
              0.7777777777777778,
              "#fb9f3a"
             ],
             [
              0.8888888888888888,
              "#fdca26"
             ],
             [
              1,
              "#f0f921"
             ]
            ],
            "type": "heatmap"
           }
          ],
          "histogram": [
           {
            "marker": {
             "pattern": {
              "fillmode": "overlay",
              "size": 10,
              "solidity": 0.2
             }
            },
            "type": "histogram"
           }
          ],
          "histogram2d": [
           {
            "colorbar": {
             "outlinewidth": 0,
             "ticks": ""
            },
            "colorscale": [
             [
              0,
              "#0d0887"
             ],
             [
              0.1111111111111111,
              "#46039f"
             ],
             [
              0.2222222222222222,
              "#7201a8"
             ],
             [
              0.3333333333333333,
              "#9c179e"
             ],
             [
              0.4444444444444444,
              "#bd3786"
             ],
             [
              0.5555555555555556,
              "#d8576b"
             ],
             [
              0.6666666666666666,
              "#ed7953"
             ],
             [
              0.7777777777777778,
              "#fb9f3a"
             ],
             [
              0.8888888888888888,
              "#fdca26"
             ],
             [
              1,
              "#f0f921"
             ]
            ],
            "type": "histogram2d"
           }
          ],
          "histogram2dcontour": [
           {
            "colorbar": {
             "outlinewidth": 0,
             "ticks": ""
            },
            "colorscale": [
             [
              0,
              "#0d0887"
             ],
             [
              0.1111111111111111,
              "#46039f"
             ],
             [
              0.2222222222222222,
              "#7201a8"
             ],
             [
              0.3333333333333333,
              "#9c179e"
             ],
             [
              0.4444444444444444,
              "#bd3786"
             ],
             [
              0.5555555555555556,
              "#d8576b"
             ],
             [
              0.6666666666666666,
              "#ed7953"
             ],
             [
              0.7777777777777778,
              "#fb9f3a"
             ],
             [
              0.8888888888888888,
              "#fdca26"
             ],
             [
              1,
              "#f0f921"
             ]
            ],
            "type": "histogram2dcontour"
           }
          ],
          "mesh3d": [
           {
            "colorbar": {
             "outlinewidth": 0,
             "ticks": ""
            },
            "type": "mesh3d"
           }
          ],
          "parcoords": [
           {
            "line": {
             "colorbar": {
              "outlinewidth": 0,
              "ticks": ""
             }
            },
            "type": "parcoords"
           }
          ],
          "pie": [
           {
            "automargin": true,
            "type": "pie"
           }
          ],
          "scatter": [
           {
            "fillpattern": {
             "fillmode": "overlay",
             "size": 10,
             "solidity": 0.2
            },
            "type": "scatter"
           }
          ],
          "scatter3d": [
           {
            "line": {
             "colorbar": {
              "outlinewidth": 0,
              "ticks": ""
             }
            },
            "marker": {
             "colorbar": {
              "outlinewidth": 0,
              "ticks": ""
             }
            },
            "type": "scatter3d"
           }
          ],
          "scattercarpet": [
           {
            "marker": {
             "colorbar": {
              "outlinewidth": 0,
              "ticks": ""
             }
            },
            "type": "scattercarpet"
           }
          ],
          "scattergeo": [
           {
            "marker": {
             "colorbar": {
              "outlinewidth": 0,
              "ticks": ""
             }
            },
            "type": "scattergeo"
           }
          ],
          "scattergl": [
           {
            "marker": {
             "colorbar": {
              "outlinewidth": 0,
              "ticks": ""
             }
            },
            "type": "scattergl"
           }
          ],
          "scattermap": [
           {
            "marker": {
             "colorbar": {
              "outlinewidth": 0,
              "ticks": ""
             }
            },
            "type": "scattermap"
           }
          ],
          "scattermapbox": [
           {
            "marker": {
             "colorbar": {
              "outlinewidth": 0,
              "ticks": ""
             }
            },
            "type": "scattermapbox"
           }
          ],
          "scatterpolar": [
           {
            "marker": {
             "colorbar": {
              "outlinewidth": 0,
              "ticks": ""
             }
            },
            "type": "scatterpolar"
           }
          ],
          "scatterpolargl": [
           {
            "marker": {
             "colorbar": {
              "outlinewidth": 0,
              "ticks": ""
             }
            },
            "type": "scatterpolargl"
           }
          ],
          "scatterternary": [
           {
            "marker": {
             "colorbar": {
              "outlinewidth": 0,
              "ticks": ""
             }
            },
            "type": "scatterternary"
           }
          ],
          "surface": [
           {
            "colorbar": {
             "outlinewidth": 0,
             "ticks": ""
            },
            "colorscale": [
             [
              0,
              "#0d0887"
             ],
             [
              0.1111111111111111,
              "#46039f"
             ],
             [
              0.2222222222222222,
              "#7201a8"
             ],
             [
              0.3333333333333333,
              "#9c179e"
             ],
             [
              0.4444444444444444,
              "#bd3786"
             ],
             [
              0.5555555555555556,
              "#d8576b"
             ],
             [
              0.6666666666666666,
              "#ed7953"
             ],
             [
              0.7777777777777778,
              "#fb9f3a"
             ],
             [
              0.8888888888888888,
              "#fdca26"
             ],
             [
              1,
              "#f0f921"
             ]
            ],
            "type": "surface"
           }
          ],
          "table": [
           {
            "cells": {
             "fill": {
              "color": "#EBF0F8"
             },
             "line": {
              "color": "white"
             }
            },
            "header": {
             "fill": {
              "color": "#C8D4E3"
             },
             "line": {
              "color": "white"
             }
            },
            "type": "table"
           }
          ]
         },
         "layout": {
          "annotationdefaults": {
           "arrowcolor": "#2a3f5f",
           "arrowhead": 0,
           "arrowwidth": 1
          },
          "autotypenumbers": "strict",
          "coloraxis": {
           "colorbar": {
            "outlinewidth": 0,
            "ticks": ""
           }
          },
          "colorscale": {
           "diverging": [
            [
             0,
             "#8e0152"
            ],
            [
             0.1,
             "#c51b7d"
            ],
            [
             0.2,
             "#de77ae"
            ],
            [
             0.3,
             "#f1b6da"
            ],
            [
             0.4,
             "#fde0ef"
            ],
            [
             0.5,
             "#f7f7f7"
            ],
            [
             0.6,
             "#e6f5d0"
            ],
            [
             0.7,
             "#b8e186"
            ],
            [
             0.8,
             "#7fbc41"
            ],
            [
             0.9,
             "#4d9221"
            ],
            [
             1,
             "#276419"
            ]
           ],
           "sequential": [
            [
             0,
             "#0d0887"
            ],
            [
             0.1111111111111111,
             "#46039f"
            ],
            [
             0.2222222222222222,
             "#7201a8"
            ],
            [
             0.3333333333333333,
             "#9c179e"
            ],
            [
             0.4444444444444444,
             "#bd3786"
            ],
            [
             0.5555555555555556,
             "#d8576b"
            ],
            [
             0.6666666666666666,
             "#ed7953"
            ],
            [
             0.7777777777777778,
             "#fb9f3a"
            ],
            [
             0.8888888888888888,
             "#fdca26"
            ],
            [
             1,
             "#f0f921"
            ]
           ],
           "sequentialminus": [
            [
             0,
             "#0d0887"
            ],
            [
             0.1111111111111111,
             "#46039f"
            ],
            [
             0.2222222222222222,
             "#7201a8"
            ],
            [
             0.3333333333333333,
             "#9c179e"
            ],
            [
             0.4444444444444444,
             "#bd3786"
            ],
            [
             0.5555555555555556,
             "#d8576b"
            ],
            [
             0.6666666666666666,
             "#ed7953"
            ],
            [
             0.7777777777777778,
             "#fb9f3a"
            ],
            [
             0.8888888888888888,
             "#fdca26"
            ],
            [
             1,
             "#f0f921"
            ]
           ]
          },
          "colorway": [
           "#636efa",
           "#EF553B",
           "#00cc96",
           "#ab63fa",
           "#FFA15A",
           "#19d3f3",
           "#FF6692",
           "#B6E880",
           "#FF97FF",
           "#FECB52"
          ],
          "font": {
           "color": "#2a3f5f"
          },
          "geo": {
           "bgcolor": "white",
           "lakecolor": "white",
           "landcolor": "#E5ECF6",
           "showlakes": true,
           "showland": true,
           "subunitcolor": "white"
          },
          "hoverlabel": {
           "align": "left"
          },
          "hovermode": "closest",
          "mapbox": {
           "style": "light"
          },
          "paper_bgcolor": "white",
          "plot_bgcolor": "#E5ECF6",
          "polar": {
           "angularaxis": {
            "gridcolor": "white",
            "linecolor": "white",
            "ticks": ""
           },
           "bgcolor": "#E5ECF6",
           "radialaxis": {
            "gridcolor": "white",
            "linecolor": "white",
            "ticks": ""
           }
          },
          "scene": {
           "xaxis": {
            "backgroundcolor": "#E5ECF6",
            "gridcolor": "white",
            "gridwidth": 2,
            "linecolor": "white",
            "showbackground": true,
            "ticks": "",
            "zerolinecolor": "white"
           },
           "yaxis": {
            "backgroundcolor": "#E5ECF6",
            "gridcolor": "white",
            "gridwidth": 2,
            "linecolor": "white",
            "showbackground": true,
            "ticks": "",
            "zerolinecolor": "white"
           },
           "zaxis": {
            "backgroundcolor": "#E5ECF6",
            "gridcolor": "white",
            "gridwidth": 2,
            "linecolor": "white",
            "showbackground": true,
            "ticks": "",
            "zerolinecolor": "white"
           }
          },
          "shapedefaults": {
           "line": {
            "color": "#2a3f5f"
           }
          },
          "ternary": {
           "aaxis": {
            "gridcolor": "white",
            "linecolor": "white",
            "ticks": ""
           },
           "baxis": {
            "gridcolor": "white",
            "linecolor": "white",
            "ticks": ""
           },
           "bgcolor": "#E5ECF6",
           "caxis": {
            "gridcolor": "white",
            "linecolor": "white",
            "ticks": ""
           }
          },
          "title": {
           "x": 0.05
          },
          "xaxis": {
           "automargin": true,
           "gridcolor": "white",
           "linecolor": "white",
           "ticks": "",
           "title": {
            "standoff": 15
           },
           "zerolinecolor": "white",
           "zerolinewidth": 2
          },
          "yaxis": {
           "automargin": true,
           "gridcolor": "white",
           "linecolor": "white",
           "ticks": "",
           "title": {
            "standoff": 15
           },
           "zerolinecolor": "white",
           "zerolinewidth": 2
          }
         }
        },
        "title": {
         "text": "MACD Distribution by Ticker (Real-Time)"
        },
        "xaxis": {
         "anchor": "y",
         "categoryarray": [
          "AAPL",
          "AMZN",
          "GOOGL",
          "META",
          "MSFT",
          "NVDA",
          "TSLA"
         ],
         "categoryorder": "array",
         "domain": [
          0,
          1
         ],
         "title": {
          "text": "Ticker"
         }
        },
        "yaxis": {
         "anchor": "x",
         "domain": [
          0,
          1
         ],
         "title": {
          "text": "MACD Value"
         }
        }
       }
      }
     },
     "metadata": {},
     "output_type": "display_data"
    }
   ],
   "source": [
    "#creating a box plot that shows the distrubtion of MACD. This is different from previous graph because it lets us see things like outliers and the median\n",
    "fig = px.box(\n",
    "    df_cass_final, \n",
    "    x='ticker', \n",
    "    y='MACD', \n",
    "    color='ticker',\n",
    "    title='MACD Distribution by Ticker (Real-Time)',\n",
    "    labels={'ticker': 'Ticker', 'MACD': 'MACD Value'},\n",
    ")\n",
    "#updating layout\n",
    "fig.update_layout(\n",
    "    yaxis_title='MACD Value',\n",
    "    xaxis_title='Ticker',)\n",
    "fig.show()\n",
    "\n"
   ]
  },
  {
   "cell_type": "markdown",
   "metadata": {},
   "source": [
    "### The plot above shows a boxplot of the Distribution of the Moving Average Convergence Divergence (MACD). We can see the median MACD for each company. Additionally the height of the box shows us the interquartile range. A larger IQR means a higher amount of volatility in monentum. Dots represent outliers. If we see tighter and smaller distributions it implies that the company is currently more stable in the past 3 minutes of real time anaylsis. Whereas if the MACD values are higher and at a bigger box height, it could imply a larger price divergence. This grpah is useful for a quick analysis between each company unlike the prior tile above."
   ]
  },
  {
   "cell_type": "code",
   "execution_count": 33,
   "metadata": {},
   "outputs": [
    {
     "data": {
      "application/vnd.plotly.v1+json": {
       "config": {
        "plotlyServerURL": "https://plot.ly"
       },
       "data": [
        {
         "line": {
          "color": "black"
         },
         "mode": "lines",
         "name": "BB_Middle",
         "showlegend": true,
         "type": "scatter",
         "x": [
          "2025-04-21T19:03:26.000000000",
          "2025-04-21T19:03:40.000000000",
          "2025-04-21T19:03:47.000000000",
          "2025-04-21T19:03:55.000000000",
          "2025-04-21T19:04:09.000000000",
          "2025-04-21T19:04:17.000000000",
          "2025-04-21T19:04:30.000000000",
          "2025-04-21T19:04:38.000000000",
          "2025-04-21T19:04:51.000000000",
          "2025-04-21T19:05:00.000000000",
          "2025-04-21T19:05:08.000000000",
          "2025-04-21T19:05:20.000000000",
          "2025-04-21T19:05:29.000000000",
          "2025-04-21T19:05:42.000000000"
         ],
         "xaxis": "x",
         "y": {
          "bdata": "MQisHFrUZ0Ai2/l+atRnQBSuR+F61GdAFK5H4XrUZ0CF61G4HtVnQPYoXI/C1WdAZmZmZmbWZ0DXo3A9CtdnQEjhehSu12dASOF6FK7XZ0DP91PjpddnQFYOLbKd12dA3iQGgZXXZ0BlO99PjddnQA==",
          "dtype": "f8"
         },
         "yaxis": "y"
        },
        {
         "line": {
          "color": "blue",
          "dash": "dash"
         },
         "mode": "lines",
         "name": "BB_Upper",
         "showlegend": true,
         "type": "scatter",
         "x": [
          "2025-04-21T19:03:26.000000000",
          "2025-04-21T19:03:40.000000000",
          "2025-04-21T19:03:47.000000000",
          "2025-04-21T19:03:55.000000000",
          "2025-04-21T19:04:09.000000000",
          "2025-04-21T19:04:17.000000000",
          "2025-04-21T19:04:30.000000000",
          "2025-04-21T19:04:38.000000000",
          "2025-04-21T19:04:51.000000000",
          "2025-04-21T19:05:00.000000000",
          "2025-04-21T19:05:08.000000000",
          "2025-04-21T19:05:20.000000000",
          "2025-04-21T19:05:29.000000000",
          "2025-04-21T19:05:42.000000000"
         ],
         "xaxis": "x",
         "y": {
          "bdata": "HzbS2bPUZ0ADRnnEs9RnQBSuR+F61GdAFK5H4XrUZ0BRGExv+9dnQET02fJD2WdAtDHkyefZZ0Cj0Gr05tlnQEjhehSu12dASOF6FK7XZ0BnrROGytdnQG0lwJDK12dA9TuZX8LXZ0D98J7ysddnQA==",
          "dtype": "f8"
         },
         "yaxis": "y"
        },
        {
         "line": {
          "color": "orange",
          "dash": "dash"
         },
         "mode": "lines",
         "name": "BB_Lower",
         "showlegend": true,
         "type": "scatter",
         "x": [
          "2025-04-21T19:03:26.000000000",
          "2025-04-21T19:03:40.000000000",
          "2025-04-21T19:03:47.000000000",
          "2025-04-21T19:03:55.000000000",
          "2025-04-21T19:04:09.000000000",
          "2025-04-21T19:04:17.000000000",
          "2025-04-21T19:04:30.000000000",
          "2025-04-21T19:04:38.000000000",
          "2025-04-21T19:04:51.000000000",
          "2025-04-21T19:05:00.000000000",
          "2025-04-21T19:05:08.000000000",
          "2025-04-21T19:05:20.000000000",
          "2025-04-21T19:05:29.000000000",
          "2025-04-21T19:05:42.000000000"
         ],
         "xaxis": "x",
         "y": {
          "bdata": "Q9qFXwDUZ0BBcHo5IdRnQBSuR+F61GdAFK5H4XrUZ0C5vlcBQtJnQKhd3itB0mdAGJvoAuXSZ0ALd3aGLdRnQEjhehSu12dASOF6FK7XZ0A3QpRAgddnQD/3mdNw12dAxw1zomjXZ0DNhR+taNdnQA==",
          "dtype": "f8"
         },
         "yaxis": "y"
        },
        {
         "fill": "toself",
         "fillcolor": "rgba(173, 216, 230, 0.2)",
         "hoverinfo": "skip",
         "line": {
          "color": "rgba(255,255,255,0)"
         },
         "showlegend": false,
         "type": "scatter",
         "x": [
          "2025-04-21T19:03:26",
          "2025-04-21T19:03:40",
          "2025-04-21T19:03:47",
          "2025-04-21T19:03:55",
          "2025-04-21T19:04:09",
          "2025-04-21T19:04:17",
          "2025-04-21T19:04:30",
          "2025-04-21T19:04:38",
          "2025-04-21T19:04:51",
          "2025-04-21T19:05:00",
          "2025-04-21T19:05:08",
          "2025-04-21T19:05:20",
          "2025-04-21T19:05:29",
          "2025-04-21T19:05:42",
          "2025-04-21T19:05:42",
          "2025-04-21T19:05:29",
          "2025-04-21T19:05:20",
          "2025-04-21T19:05:08",
          "2025-04-21T19:05:00",
          "2025-04-21T19:04:51",
          "2025-04-21T19:04:38",
          "2025-04-21T19:04:30",
          "2025-04-21T19:04:17",
          "2025-04-21T19:04:09",
          "2025-04-21T19:03:55",
          "2025-04-21T19:03:47",
          "2025-04-21T19:03:40",
          "2025-04-21T19:03:26"
         ],
         "xaxis": "x",
         "y": [
          190.6469544511501,
          190.64694427190997,
          190.64,
          190.64,
          190.74944271910002,
          190.78954451150105,
          190.80954451150103,
          190.80944271910002,
          190.74,
          190.74,
          190.74347213595613,
          190.74347722557596,
          190.74247722557598,
          190.74047213595614,
          190.7315278640439,
          190.73152277442406,
          190.73252277442404,
          190.73452786404388,
          190.74,
          190.74,
          190.63055728089998,
          190.59045548849895,
          190.57045548849896,
          190.57055728089998,
          190.64,
          190.64,
          190.62905572808998,
          190.6250455488499
         ],
         "yaxis": "y"
        },
        {
         "line": {
          "color": "black"
         },
         "mode": "lines",
         "name": "BB_Middle",
         "showlegend": false,
         "type": "scatter",
         "x": [
          "2025-04-21T19:02:45.000000000",
          "2025-04-21T19:02:58.000000000",
          "2025-04-21T19:03:07.000000000",
          "2025-04-21T19:03:19.000000000",
          "2025-04-21T19:03:24.000000000",
          "2025-04-21T19:03:39.000000000",
          "2025-04-21T19:03:44.000000000",
          "2025-04-21T19:03:53.000000000",
          "2025-04-21T19:04:09.000000000",
          "2025-04-21T19:04:17.000000000",
          "2025-04-21T19:04:30.000000000",
          "2025-04-21T19:04:38.000000000",
          "2025-04-21T19:04:51.000000000",
          "2025-04-21T19:05:00.000000000",
          "2025-04-21T19:05:12.000000000",
          "2025-04-21T19:05:20.000000000",
          "2025-04-21T19:05:28.000000000",
          "2025-04-21T19:05:35.000000000"
         ],
         "xaxis": "x2",
         "y": {
          "bdata": "SzeJQWBBfkBLN4lBYEF+QEs3iUFgQX5ASzeJQWBBfkCNl24Sg0h2QEw3iUFgSXZACtejcD1KdkAK16NwPUp2QH0/NV66SXZA8KfGSzdJdkBiEFg5tEh2QNV46SYxSHZASOF6FK5HdkBI4XoUrkd2QGu8dJMYSHZAjpduEoNIdkCwcmiR7Uh2QNNNYhBYSXZA",
          "dtype": "f8"
         },
         "yaxis": "y2"
        },
        {
         "line": {
          "color": "blue",
          "dash": "dash"
         },
         "mode": "lines",
         "name": "BB_Upper",
         "showlegend": false,
         "type": "scatter",
         "x": [
          "2025-04-21T19:02:45.000000000",
          "2025-04-21T19:02:58.000000000",
          "2025-04-21T19:03:07.000000000",
          "2025-04-21T19:03:19.000000000",
          "2025-04-21T19:03:24.000000000",
          "2025-04-21T19:03:39.000000000",
          "2025-04-21T19:03:44.000000000",
          "2025-04-21T19:03:53.000000000",
          "2025-04-21T19:04:09.000000000",
          "2025-04-21T19:04:17.000000000",
          "2025-04-21T19:04:30.000000000",
          "2025-04-21T19:04:38.000000000",
          "2025-04-21T19:04:51.000000000",
          "2025-04-21T19:05:00.000000000",
          "2025-04-21T19:05:12.000000000",
          "2025-04-21T19:05:20.000000000",
          "2025-04-21T19:05:28.000000000",
          "2025-04-21T19:05:35.000000000"
         ],
         "xaxis": "x2",
         "y": {
          "bdata": "/G1FhTxDfkD8bUWFPEN+QPxtRYU8Q35A/G1FhTxDfkCcA/KLPk12QCtawWs9TXZACtejcD1KdkAK16NwPUp2QIaWMIoETHZAYRf4NAVMdkDUf4kigkt2QN/P5FJ7SnZASOF6FK5HdkBI4XoUrkd2QCXzMNf0SXZAG8LmX8pKdkA8neDeNEt2QIiEHlQ0S3ZA",
          "dtype": "f8"
         },
         "yaxis": "y2"
        },
        {
         "line": {
          "color": "orange",
          "dash": "dash"
         },
         "mode": "lines",
         "name": "BB_Lower",
         "showlegend": false,
         "type": "scatter",
         "x": [
          "2025-04-21T19:02:45.000000000",
          "2025-04-21T19:02:58.000000000",
          "2025-04-21T19:03:07.000000000",
          "2025-04-21T19:03:19.000000000",
          "2025-04-21T19:03:24.000000000",
          "2025-04-21T19:03:39.000000000",
          "2025-04-21T19:03:44.000000000",
          "2025-04-21T19:03:53.000000000",
          "2025-04-21T19:04:09.000000000",
          "2025-04-21T19:04:17.000000000",
          "2025-04-21T19:04:30.000000000",
          "2025-04-21T19:04:38.000000000",
          "2025-04-21T19:04:51.000000000",
          "2025-04-21T19:05:00.000000000",
          "2025-04-21T19:05:12.000000000",
          "2025-04-21T19:05:20.000000000",
          "2025-04-21T19:05:28.000000000",
          "2025-04-21T19:05:35.000000000"
         ],
         "xaxis": "x2",
         "y": {
          "bdata": "mgDN/YM/fkCaAM39gz9+QJoAzf2DP35AmgDN/YM/fkB+K+uYx0N2QG0UUReDRXZACtejcD1KdkAK16NwPUp2QHToOTJwR3ZAfziVYmlGdkDwoCZQ5kV2QMsh7vrmRXZASOF6FK5HdkBI4XoUrkd2QLGFuE88RnZAAW32xDtGdkAkSPBDpkZ2QB4Xpsx7R3ZA",
          "dtype": "f8"
         },
         "yaxis": "y2"
        },
        {
         "fill": "toself",
         "fillcolor": "rgba(173, 216, 230, 0.2)",
         "hoverinfo": "skip",
         "line": {
          "color": "rgba(255,255,255,0)"
         },
         "showlegend": false,
         "type": "scatter",
         "x": [
          "2025-04-21T19:02:45",
          "2025-04-21T19:02:58",
          "2025-04-21T19:03:07",
          "2025-04-21T19:03:19",
          "2025-04-21T19:03:24",
          "2025-04-21T19:03:39",
          "2025-04-21T19:03:44",
          "2025-04-21T19:03:53",
          "2025-04-21T19:04:09",
          "2025-04-21T19:04:17",
          "2025-04-21T19:04:30",
          "2025-04-21T19:04:38",
          "2025-04-21T19:04:51",
          "2025-04-21T19:05:00",
          "2025-04-21T19:05:12",
          "2025-04-21T19:05:20",
          "2025-04-21T19:05:28",
          "2025-04-21T19:05:35",
          "2025-04-21T19:05:35",
          "2025-04-21T19:05:28",
          "2025-04-21T19:05:20",
          "2025-04-21T19:05:12",
          "2025-04-21T19:05:00",
          "2025-04-21T19:04:51",
          "2025-04-21T19:04:38",
          "2025-04-21T19:04:30",
          "2025-04-21T19:04:17",
          "2025-04-21T19:04:09",
          "2025-04-21T19:03:53",
          "2025-04-21T19:03:44",
          "2025-04-21T19:03:39",
          "2025-04-21T19:03:24",
          "2025-04-21T19:03:19",
          "2025-04-21T19:03:07",
          "2025-04-21T19:02:58",
          "2025-04-21T19:02:45"
         ],
         "xaxis": "x2",
         "y": [
          484.2022755348296,
          484.2022755348296,
          484.2022755348296,
          484.2022755348296,
          356.82777018105276,
          356.82749534157,
          356.64,
          356.64,
          356.75110835056,
          356.75127121840166,
          356.7192712184017,
          356.65510835056006,
          356.48,
          356.48,
          356.6222755348302,
          356.67440786495143,
          356.70040786495133,
          356.70027553482987,
          356.46772446517014,
          356.41559213504866,
          356.38959213504864,
          356.3897244651699,
          356.48,
          356.48,
          356.36889164943995,
          356.3687287815983,
          356.4007287815984,
          356.46489164944,
          356.64,
          356.64,
          356.34450465843,
          356.2362298189472,
          483.9697244651703,
          483.9697244651703,
          483.9697244651703,
          483.9697244651703
         ],
         "yaxis": "y2"
        },
        {
         "line": {
          "color": "black"
         },
         "mode": "lines",
         "name": "BB_Middle",
         "showlegend": false,
         "type": "scatter",
         "x": [
          "2025-04-21T19:02:45.000000000",
          "2025-04-21T19:02:58.000000000",
          "2025-04-21T19:03:07.000000000",
          "2025-04-21T19:03:18.000000000",
          "2025-04-21T19:03:24.000000000",
          "2025-04-21T19:03:39.000000000",
          "2025-04-21T19:03:47.000000000",
          "2025-04-21T19:03:56.000000000",
          "2025-04-21T19:04:09.000000000",
          "2025-04-21T19:04:17.000000000",
          "2025-04-21T19:04:30.000000000",
          "2025-04-21T19:04:38.000000000",
          "2025-04-21T19:04:50.000000000",
          "2025-04-21T19:05:00.000000000",
          "2025-04-21T19:05:12.000000000",
          "2025-04-21T19:05:21.000000000",
          "2025-04-21T19:05:30.000000000",
          "2025-04-21T19:05:38.000000000"
         ],
         "xaxis": "x3",
         "y": {
          "bdata": "ZTvfT43XZ0BlO99PjddnQGU730+N12dAZTvfT43XZ0AlBoGVQ7NkQMHKoUW2s2RAXI/C9Si0ZEBcj8L1KLRkQJT2Bl+YtGRAzV1LyAe1ZEAFxY8xd7VkQD0s1JrmtWRAdZMYBFa2ZEB1kxgEVrZkQGaIY13ctmRAVn2utmK3ZEBHcvkP6bdkQDhnRGlvuGRA",
          "dtype": "f8"
         },
         "yaxis": "y3"
        },
        {
         "line": {
          "color": "blue",
          "dash": "dash"
         },
         "mode": "lines",
         "name": "BB_Upper",
         "showlegend": false,
         "type": "scatter",
         "x": [
          "2025-04-21T19:02:45.000000000",
          "2025-04-21T19:02:58.000000000",
          "2025-04-21T19:03:07.000000000",
          "2025-04-21T19:03:18.000000000",
          "2025-04-21T19:03:24.000000000",
          "2025-04-21T19:03:39.000000000",
          "2025-04-21T19:03:47.000000000",
          "2025-04-21T19:03:56.000000000",
          "2025-04-21T19:04:09.000000000",
          "2025-04-21T19:04:17.000000000",
          "2025-04-21T19:04:30.000000000",
          "2025-04-21T19:04:38.000000000",
          "2025-04-21T19:04:50.000000000",
          "2025-04-21T19:05:00.000000000",
          "2025-04-21T19:05:12.000000000",
          "2025-04-21T19:05:21.000000000",
          "2025-04-21T19:05:30.000000000",
          "2025-04-21T19:05:38.000000000"
         ],
         "xaxis": "x3",
         "y": {
          "bdata": "/fCe8rHXZ0D98J7ysddnQP3wnvKx12dA/fCe8rHXZ0CoR4zBt7VkQOi2HSy3tWRAXI/C9Si0ZEBcj8L1KLRkQI0AA56KtmRA62K1AWq3ZEAjyvlq2bdkQDQ20NnYt2RAdZMYBFa2ZEB1kxgEVrZkQJjB3jA1uWRAJymBkkK6ZEAXHszryLpkQGigvzzIumRA",
          "dtype": "f8"
         },
         "yaxis": "y3"
        },
        {
         "line": {
          "color": "orange",
          "dash": "dash"
         },
         "mode": "lines",
         "name": "BB_Lower",
         "showlegend": false,
         "type": "scatter",
         "x": [
          "2025-04-21T19:02:45.000000000",
          "2025-04-21T19:02:58.000000000",
          "2025-04-21T19:03:07.000000000",
          "2025-04-21T19:03:18.000000000",
          "2025-04-21T19:03:24.000000000",
          "2025-04-21T19:03:39.000000000",
          "2025-04-21T19:03:47.000000000",
          "2025-04-21T19:03:56.000000000",
          "2025-04-21T19:04:09.000000000",
          "2025-04-21T19:04:17.000000000",
          "2025-04-21T19:04:30.000000000",
          "2025-04-21T19:04:38.000000000",
          "2025-04-21T19:04:50.000000000",
          "2025-04-21T19:05:00.000000000",
          "2025-04-21T19:05:12.000000000",
          "2025-04-21T19:05:21.000000000",
          "2025-04-21T19:05:30.000000000",
          "2025-04-21T19:05:38.000000000"
         ],
         "xaxis": "x3",
         "y": {
          "bdata": "zYUfrWjXZ0DNhR+taNdnQM2FH61o12dAzYUfrWjXZ0CixHVpz7BkQJreJV+1sWRAXI/C9Si0ZEBcj8L1KLRkQJvsCiCmsmRAr1jhjqWyZEDnvyX4FLNkQEYi2Fv0s2RAdZMYBFa2ZEB1kxgEVrZkQDRP6ImDtGRAhdHb2oK0ZEB3xiY0CbVkQAguyZUWtmRA",
          "dtype": "f8"
         },
         "yaxis": "y3"
        },
        {
         "fill": "toself",
         "fillcolor": "rgba(173, 216, 230, 0.2)",
         "hoverinfo": "skip",
         "line": {
          "color": "rgba(255,255,255,0)"
         },
         "showlegend": false,
         "type": "scatter",
         "x": [
          "2025-04-21T19:02:45",
          "2025-04-21T19:02:58",
          "2025-04-21T19:03:07",
          "2025-04-21T19:03:18",
          "2025-04-21T19:03:24",
          "2025-04-21T19:03:39",
          "2025-04-21T19:03:47",
          "2025-04-21T19:03:56",
          "2025-04-21T19:04:09",
          "2025-04-21T19:04:17",
          "2025-04-21T19:04:30",
          "2025-04-21T19:04:38",
          "2025-04-21T19:04:50",
          "2025-04-21T19:05:00",
          "2025-04-21T19:05:12",
          "2025-04-21T19:05:21",
          "2025-04-21T19:05:30",
          "2025-04-21T19:05:38",
          "2025-04-21T19:05:38",
          "2025-04-21T19:05:30",
          "2025-04-21T19:05:21",
          "2025-04-21T19:05:12",
          "2025-04-21T19:05:00",
          "2025-04-21T19:04:50",
          "2025-04-21T19:04:38",
          "2025-04-21T19:04:30",
          "2025-04-21T19:04:17",
          "2025-04-21T19:04:09",
          "2025-04-21T19:03:56",
          "2025-04-21T19:03:47",
          "2025-04-21T19:03:39",
          "2025-04-21T19:03:24",
          "2025-04-21T19:03:18",
          "2025-04-21T19:03:07",
          "2025-04-21T19:02:58",
          "2025-04-21T19:02:45"
         ],
         "xaxis": "x3",
         "y": [
          190.74047213595614,
          190.74047213595614,
          190.74047213595614,
          190.74047213595614,
          165.67868115805072,
          165.67860990337,
          165.63,
          165.63,
          165.70442104898794,
          165.73169026782065,
          165.74529026782065,
          165.7452210489879,
          165.698,
          165.698,
          165.7877430296619,
          165.82062649943074,
          165.83702649943072,
          165.83694302966182,
          165.69025697033817,
          165.65737350056926,
          165.64097350056923,
          165.64105697033813,
          165.698,
          165.698,
          165.62357895101212,
          165.59630973217938,
          165.58270973217938,
          165.58277895101205,
          165.63,
          165.63,
          165.55339009663004,
          165.5253188419493,
          190.7315278640439,
          190.7315278640439,
          190.7315278640439,
          190.7315278640439
         ],
         "yaxis": "y3"
        },
        {
         "line": {
          "color": "black"
         },
         "mode": "lines",
         "name": "BB_Middle",
         "showlegend": false,
         "type": "scatter",
         "x": [
          "2025-04-21T19:02:45.000000000",
          "2025-04-21T19:02:58.000000000",
          "2025-04-21T19:03:07.000000000",
          "2025-04-21T19:03:19.000000000",
          "2025-04-21T19:03:24.000000000",
          "2025-04-21T19:03:40.000000000",
          "2025-04-21T19:03:48.000000000",
          "2025-04-21T19:03:54.000000000",
          "2025-04-21T19:04:09.000000000",
          "2025-04-21T19:04:18.000000000",
          "2025-04-21T19:04:29.000000000",
          "2025-04-21T19:04:38.000000000",
          "2025-04-21T19:04:51.000000000",
          "2025-04-21T19:04:59.000000000",
          "2025-04-21T19:05:08.000000000",
          "2025-04-21T19:05:21.000000000",
          "2025-04-21T19:05:30.000000000",
          "2025-04-21T19:05:37.000000000"
         ],
         "xaxis": "x4",
         "y": {
          "bdata": "OGdEaW+4ZEA4Z0Rpb7hkQDhnRGlvuGRAOGdEaW+4ZEA2WaMeok1iQM7fhEIETmJAZmZmZmZOYkBmZmZmZk5iQB6F61G4TmJA1qNwPQpPYkCOwvUoXE9iQEjhehSuT2JAAAAAAABQYkAAAAAAAFBiQBxaZDvfT2JAOrTIdr5PYkBWDi2ynU9iQHNoke18T2JA",
          "dtype": "f8"
         },
         "yaxis": "y4"
        },
        {
         "line": {
          "color": "blue",
          "dash": "dash"
         },
         "mode": "lines",
         "name": "BB_Upper",
         "showlegend": false,
         "type": "scatter",
         "x": [
          "2025-04-21T19:02:45.000000000",
          "2025-04-21T19:02:58.000000000",
          "2025-04-21T19:03:07.000000000",
          "2025-04-21T19:03:19.000000000",
          "2025-04-21T19:03:24.000000000",
          "2025-04-21T19:03:40.000000000",
          "2025-04-21T19:03:48.000000000",
          "2025-04-21T19:03:54.000000000",
          "2025-04-21T19:04:09.000000000",
          "2025-04-21T19:04:18.000000000",
          "2025-04-21T19:04:29.000000000",
          "2025-04-21T19:04:38.000000000",
          "2025-04-21T19:04:51.000000000",
          "2025-04-21T19:04:59.000000000",
          "2025-04-21T19:05:08.000000000",
          "2025-04-21T19:05:21.000000000",
          "2025-04-21T19:05:30.000000000",
          "2025-04-21T19:05:37.000000000"
         ],
         "xaxis": "x4",
         "y": {
          "bdata": "aKC/PMi6ZEBooL88yLpkQGigvzzIumRAaKC/PMi6ZEDFKc2nu09iQF4v7ie7T2JAZmZmZmZOYkBmZmZmZk5iQIObaK0mUGJAfYkv78pQYkA2qLTaHFFiQLD3928cUWJAAAAAAABQYkAAAAAAAFBiQOYvY8ZxUGJAHBAV8XFQYkA3anksUVBiQDk+kHgPUGJA",
          "dtype": "f8"
         },
         "yaxis": "y4"
        },
        {
         "line": {
          "color": "orange",
          "dash": "dash"
         },
         "mode": "lines",
         "name": "BB_Lower",
         "showlegend": false,
         "type": "scatter",
         "x": [
          "2025-04-21T19:02:45.000000000",
          "2025-04-21T19:02:58.000000000",
          "2025-04-21T19:03:07.000000000",
          "2025-04-21T19:03:19.000000000",
          "2025-04-21T19:03:24.000000000",
          "2025-04-21T19:03:40.000000000",
          "2025-04-21T19:03:48.000000000",
          "2025-04-21T19:03:54.000000000",
          "2025-04-21T19:04:09.000000000",
          "2025-04-21T19:04:18.000000000",
          "2025-04-21T19:04:29.000000000",
          "2025-04-21T19:04:38.000000000",
          "2025-04-21T19:04:51.000000000",
          "2025-04-21T19:04:59.000000000",
          "2025-04-21T19:05:08.000000000",
          "2025-04-21T19:05:21.000000000",
          "2025-04-21T19:05:30.000000000",
          "2025-04-21T19:05:37.000000000"
         ],
         "xaxis": "x4",
         "y": {
          "bdata": "CC7JlRa2ZEAILsmVFrZkQAguyZUWtmRACC7JlRa2ZECniHmViEtiQD6QG11NTGJAZmZmZmZOYkBmZmZmZk5iQLlubvZJTWJAL76xi0lNYkDm3DZ3m01iQODK/bg/TmJAAAAAAABQYkAAAAAAAFBiQFKEZbBMT2JAWFh8/ApPYkB1suA36k5iQK2SkmLqTmJA",
          "dtype": "f8"
         },
         "yaxis": "y4"
        },
        {
         "fill": "toself",
         "fillcolor": "rgba(173, 216, 230, 0.2)",
         "hoverinfo": "skip",
         "line": {
          "color": "rgba(255,255,255,0)"
         },
         "showlegend": false,
         "type": "scatter",
         "x": [
          "2025-04-21T19:02:45",
          "2025-04-21T19:02:58",
          "2025-04-21T19:03:07",
          "2025-04-21T19:03:19",
          "2025-04-21T19:03:24",
          "2025-04-21T19:03:40",
          "2025-04-21T19:03:48",
          "2025-04-21T19:03:54",
          "2025-04-21T19:04:09",
          "2025-04-21T19:04:18",
          "2025-04-21T19:04:29",
          "2025-04-21T19:04:38",
          "2025-04-21T19:04:51",
          "2025-04-21T19:04:59",
          "2025-04-21T19:05:08",
          "2025-04-21T19:05:21",
          "2025-04-21T19:05:30",
          "2025-04-21T19:05:37",
          "2025-04-21T19:05:37",
          "2025-04-21T19:05:30",
          "2025-04-21T19:05:21",
          "2025-04-21T19:05:08",
          "2025-04-21T19:04:59",
          "2025-04-21T19:04:51",
          "2025-04-21T19:04:38",
          "2025-04-21T19:04:29",
          "2025-04-21T19:04:18",
          "2025-04-21T19:04:09",
          "2025-04-21T19:03:54",
          "2025-04-21T19:03:48",
          "2025-04-21T19:03:40",
          "2025-04-21T19:03:24",
          "2025-04-21T19:03:19",
          "2025-04-21T19:03:07",
          "2025-04-21T19:02:58",
          "2025-04-21T19:02:45"
         ],
         "xaxis": "x4",
         "y": [
          165.83694302966182,
          165.83694302966182,
          165.83694302966182,
          165.83694302966182,
          146.4916571623891,
          146.49159618874086,
          146.45,
          146.45,
          146.50472135954996,
          146.5247722557505,
          146.5347722557505,
          146.53472135955008,
          146.5,
          146.5,
          146.5138885438202,
          146.5139089023004,
          146.50990890230034,
          146.50188854382012,
          146.4661114561799,
          146.46609109769966,
          146.47009109769965,
          146.47811145617976,
          146.5,
          146.5,
          146.44527864044994,
          146.4252277442494,
          146.41522774424945,
          146.41527864045,
          146.45,
          146.45,
          146.38444381125913,
          146.3604228376109,
          165.69025697033817,
          165.69025697033817,
          165.69025697033817,
          165.69025697033817
         ],
         "yaxis": "y4"
        },
        {
         "line": {
          "color": "black"
         },
         "mode": "lines",
         "name": "BB_Middle",
         "showlegend": false,
         "type": "scatter",
         "x": [
          "2025-04-21T19:02:49.000000000",
          "2025-04-21T19:02:58.000000000",
          "2025-04-21T19:03:07.000000000",
          "2025-04-21T19:03:19.000000000",
          "2025-04-21T19:03:25.000000000",
          "2025-04-21T19:03:34.000000000",
          "2025-04-21T19:03:43.000000000",
          "2025-04-21T19:03:51.000000000",
          "2025-04-21T19:04:06.000000000",
          "2025-04-21T19:04:16.000000000",
          "2025-04-21T19:04:30.000000000",
          "2025-04-21T19:04:36.000000000",
          "2025-04-21T19:04:42.000000000",
          "2025-04-21T19:04:59.000000000",
          "2025-04-21T19:05:08.000000000",
          "2025-04-21T19:05:21.000000000",
          "2025-04-21T19:05:27.000000000",
          "2025-04-21T19:05:37.000000000"
         ],
         "xaxis": "x5",
         "y": {
          "bdata": "c2iR7XxPYkBzaJHtfE9iQHNoke18T2JAc2iR7XxPYkDAyqFFtj9+QLOd76fGP35ApHA9Ctc/fkCkcD0K1z9+QBWuR+F6QH5AhetRuB5BfkD2KFyPwkF+QGZmZmZmQn5A16NwPQpDfkDXo3A9CkN+QLPIdr6fQn5Aku18PzVCfkBuEoPAykF+QEs3iUFgQX5A",
          "dtype": "f8"
         },
         "yaxis": "y5"
        },
        {
         "line": {
          "color": "blue",
          "dash": "dash"
         },
         "mode": "lines",
         "name": "BB_Upper",
         "showlegend": false,
         "type": "scatter",
         "x": [
          "2025-04-21T19:02:49.000000000",
          "2025-04-21T19:02:58.000000000",
          "2025-04-21T19:03:07.000000000",
          "2025-04-21T19:03:19.000000000",
          "2025-04-21T19:03:25.000000000",
          "2025-04-21T19:03:34.000000000",
          "2025-04-21T19:03:43.000000000",
          "2025-04-21T19:03:51.000000000",
          "2025-04-21T19:04:06.000000000",
          "2025-04-21T19:04:16.000000000",
          "2025-04-21T19:04:30.000000000",
          "2025-04-21T19:04:36.000000000",
          "2025-04-21T19:04:42.000000000",
          "2025-04-21T19:04:59.000000000",
          "2025-04-21T19:05:08.000000000",
          "2025-04-21T19:05:21.000000000",
          "2025-04-21T19:05:27.000000000",
          "2025-04-21T19:05:37.000000000"
         ],
         "xaxis": "x5",
         "y": {
          "bdata": "OT6QeA9QYkA5PpB4D1BiQDk+kHgPUGJAOT6QeA9QYkCu+McCEEB+QJQIb+0PQH5ApHA9Ctc/fkCkcD0K1z9+QODaQZhXQ35A0rbPG6BEfkBE9NnyQ0V+QDKTYB1DRX5A16NwPQpDfkDXo3A9CkN+QGz/MgJ8RH5AHhj1jHxEfkD3PPsNEkR+QPxtRYU8Q35A",
          "dtype": "f8"
         },
         "yaxis": "y5"
        },
        {
         "line": {
          "color": "orange",
          "dash": "dash"
         },
         "mode": "lines",
         "name": "BB_Lower",
         "showlegend": false,
         "type": "scatter",
         "x": [
          "2025-04-21T19:02:49.000000000",
          "2025-04-21T19:02:58.000000000",
          "2025-04-21T19:03:07.000000000",
          "2025-04-21T19:03:19.000000000",
          "2025-04-21T19:03:25.000000000",
          "2025-04-21T19:03:34.000000000",
          "2025-04-21T19:03:43.000000000",
          "2025-04-21T19:03:51.000000000",
          "2025-04-21T19:04:06.000000000",
          "2025-04-21T19:04:16.000000000",
          "2025-04-21T19:04:30.000000000",
          "2025-04-21T19:04:36.000000000",
          "2025-04-21T19:04:42.000000000",
          "2025-04-21T19:04:59.000000000",
          "2025-04-21T19:05:08.000000000",
          "2025-04-21T19:05:21.000000000",
          "2025-04-21T19:05:27.000000000",
          "2025-04-21T19:05:37.000000000"
         ],
         "xaxis": "x5",
         "y": {
          "bdata": "rZKSYupOYkCtkpJi6k5iQK2SkmLqTmJArZKSYupOYkDSnHuIXD9+QNIycGJ9P35ApHA9Ctc/fkCkcD0K1z9+QEqBTSqePX5AOCDUVJ09fkCoXd4rQT5+QJo5bK+JP35A16NwPQpDfkDXo3A9CkN+QPqRunrDQH5ABsME8u0/fkDl5wpzgz9+QJoAzf2DP35A",
          "dtype": "f8"
         },
         "yaxis": "y5"
        },
        {
         "fill": "toself",
         "fillcolor": "rgba(173, 216, 230, 0.2)",
         "hoverinfo": "skip",
         "line": {
          "color": "rgba(255,255,255,0)"
         },
         "showlegend": false,
         "type": "scatter",
         "x": [
          "2025-04-21T19:02:49",
          "2025-04-21T19:02:58",
          "2025-04-21T19:03:07",
          "2025-04-21T19:03:19",
          "2025-04-21T19:03:25",
          "2025-04-21T19:03:34",
          "2025-04-21T19:03:43",
          "2025-04-21T19:03:51",
          "2025-04-21T19:04:06",
          "2025-04-21T19:04:16",
          "2025-04-21T19:04:30",
          "2025-04-21T19:04:36",
          "2025-04-21T19:04:42",
          "2025-04-21T19:04:59",
          "2025-04-21T19:05:08",
          "2025-04-21T19:05:21",
          "2025-04-21T19:05:27",
          "2025-04-21T19:05:37",
          "2025-04-21T19:05:37",
          "2025-04-21T19:05:27",
          "2025-04-21T19:05:21",
          "2025-04-21T19:05:08",
          "2025-04-21T19:04:59",
          "2025-04-21T19:04:42",
          "2025-04-21T19:04:36",
          "2025-04-21T19:04:30",
          "2025-04-21T19:04:16",
          "2025-04-21T19:04:06",
          "2025-04-21T19:03:51",
          "2025-04-21T19:03:43",
          "2025-04-21T19:03:34",
          "2025-04-21T19:03:25",
          "2025-04-21T19:03:19",
          "2025-04-21T19:03:07",
          "2025-04-21T19:02:58",
          "2025-04-21T19:02:49"
         ],
         "xaxis": "x5",
         "y": [
          146.50188854382012,
          146.50188854382012,
          146.50188854382012,
          146.50188854382012,
          484.00390890230017,
          484.00388854382004,
          483.99,
          483.99,
          484.2088854382,
          484.289089023002,
          484.3290890230021,
          484.3288854382,
          484.19,
          484.19,
          484.28027553483,
          484.28040786495137,
          484.25440786495113,
          484.2022755348296,
          483.9697244651703,
          483.9695921350488,
          483.9955921350487,
          484.04772446516984,
          484.19,
          484.19,
          483.97111456179994,
          483.89091097699793,
          483.85091097699797,
          483.85111456180005,
          483.99,
          483.99,
          483.96811145618005,
          483.9600910976998,
          146.4661114561799,
          146.4661114561799,
          146.4661114561799,
          146.4661114561799
         ],
         "yaxis": "y5"
        },
        {
         "line": {
          "color": "black"
         },
         "mode": "lines",
         "name": "BB_Middle",
         "showlegend": false,
         "type": "scatter",
         "x": [
          "2025-04-21T19:02:49.000000000",
          "2025-04-21T19:02:58.000000000",
          "2025-04-21T19:03:07.000000000",
          "2025-04-21T19:03:19.000000000",
          "2025-04-21T19:03:26.000000000",
          "2025-04-21T19:03:39.000000000",
          "2025-04-21T19:03:48.000000000",
          "2025-04-21T19:03:56.000000000",
          "2025-04-21T19:04:09.000000000",
          "2025-04-21T19:04:18.000000000",
          "2025-04-21T19:04:30.000000000",
          "2025-04-21T19:04:38.000000000",
          "2025-04-21T19:04:51.000000000",
          "2025-04-21T19:05:00.000000000",
          "2025-04-21T19:05:12.000000000",
          "2025-04-21T19:05:22.000000000",
          "2025-04-21T19:05:30.000000000",
          "2025-04-21T19:05:39.000000000"
         ],
         "xaxis": "x6",
         "y": {
          "bdata": "9iNFZFjpV0D2I0VkWOlXQPYjRWRY6VdA9iNFZFjpV0DNzMzMzAxsQK5H4XoUDmxAj8L1KFwPbECPwvUoXA9sQB1aZDvfD2xAqvHSTWIQbEA2iUFg5RBsQMUgsHJoEWxAUrgehesRbEBSuB6F6xFsQMP1KFyPEmxAMzMzMzMTbECjcD0K1xNsQBWuR+F6FGxA",
          "dtype": "f8"
         },
         "yaxis": "y6"
        },
        {
         "line": {
          "color": "blue",
          "dash": "dash"
         },
         "mode": "lines",
         "name": "BB_Upper",
         "showlegend": false,
         "type": "scatter",
         "x": [
          "2025-04-21T19:02:49.000000000",
          "2025-04-21T19:02:58.000000000",
          "2025-04-21T19:03:07.000000000",
          "2025-04-21T19:03:19.000000000",
          "2025-04-21T19:03:26.000000000",
          "2025-04-21T19:03:39.000000000",
          "2025-04-21T19:03:48.000000000",
          "2025-04-21T19:03:56.000000000",
          "2025-04-21T19:04:09.000000000",
          "2025-04-21T19:04:18.000000000",
          "2025-04-21T19:04:30.000000000",
          "2025-04-21T19:04:38.000000000",
          "2025-04-21T19:04:51.000000000",
          "2025-04-21T19:05:00.000000000",
          "2025-04-21T19:05:12.000000000",
          "2025-04-21T19:05:22.000000000",
          "2025-04-21T19:05:30.000000000",
          "2025-04-21T19:05:39.000000000"
         ],
         "xaxis": "x6",
         "y": {
          "bdata": "eIKZXurrV0B4gple6utXQHiCmV7q61dAeIKZXurrV0BoY8iTzxNsQEOh1ejNE2xAj8L1KFwPbECPwvUoXA9sQCWxX2cpEmxAG2EENzATbECo+HJJsxNsQM53q56yE2xAUrgehesRbEBSuB6F6xFsQI8iIxNsFWxAgv6wlrQWbEDzO7ttWBdsQOPaQZhXF2xA",
          "dtype": "f8"
         },
         "yaxis": "y6"
        },
        {
         "line": {
          "color": "orange",
          "dash": "dash"
         },
         "mode": "lines",
         "name": "BB_Lower",
         "showlegend": false,
         "type": "scatter",
         "x": [
          "2025-04-21T19:02:49.000000000",
          "2025-04-21T19:02:58.000000000",
          "2025-04-21T19:03:07.000000000",
          "2025-04-21T19:03:19.000000000",
          "2025-04-21T19:03:26.000000000",
          "2025-04-21T19:03:39.000000000",
          "2025-04-21T19:03:48.000000000",
          "2025-04-21T19:03:56.000000000",
          "2025-04-21T19:04:09.000000000",
          "2025-04-21T19:04:18.000000000",
          "2025-04-21T19:04:30.000000000",
          "2025-04-21T19:04:38.000000000",
          "2025-04-21T19:04:51.000000000",
          "2025-04-21T19:05:00.000000000",
          "2025-04-21T19:05:12.000000000",
          "2025-04-21T19:05:22.000000000",
          "2025-04-21T19:05:30.000000000",
          "2025-04-21T19:05:39.000000000"
         ],
         "xaxis": "x6",
         "y": {
          "bdata": "dMXwacbmV0B0xfBpxuZXQHTF8GnG5ldAdMXwacbmV0AyNtEFygVsQBnu7AxbCGxAj8L1KFwPbECPwvUoXA9sQBUDaQ+VDWxAOYKhZJQNbEDEGRB3Fw5sQLzJtEYeD2xAUrgehesRbEBSuB6F6xFsQPfILqWyD2xA5Ge1z7EPbEBTpb+mVRBsQEeBTSqeEWxA",
          "dtype": "f8"
         },
         "yaxis": "y6"
        },
        {
         "fill": "toself",
         "fillcolor": "rgba(173, 216, 230, 0.2)",
         "hoverinfo": "skip",
         "line": {
          "color": "rgba(255,255,255,0)"
         },
         "showlegend": false,
         "type": "scatter",
         "x": [
          "2025-04-21T19:02:49",
          "2025-04-21T19:02:58",
          "2025-04-21T19:03:07",
          "2025-04-21T19:03:19",
          "2025-04-21T19:03:26",
          "2025-04-21T19:03:39",
          "2025-04-21T19:03:48",
          "2025-04-21T19:03:56",
          "2025-04-21T19:04:09",
          "2025-04-21T19:04:18",
          "2025-04-21T19:04:30",
          "2025-04-21T19:04:38",
          "2025-04-21T19:04:51",
          "2025-04-21T19:05:00",
          "2025-04-21T19:05:12",
          "2025-04-21T19:05:22",
          "2025-04-21T19:05:30",
          "2025-04-21T19:05:39",
          "2025-04-21T19:05:39",
          "2025-04-21T19:05:30",
          "2025-04-21T19:05:22",
          "2025-04-21T19:05:12",
          "2025-04-21T19:05:00",
          "2025-04-21T19:04:51",
          "2025-04-21T19:04:38",
          "2025-04-21T19:04:30",
          "2025-04-21T19:04:18",
          "2025-04-21T19:04:09",
          "2025-04-21T19:03:56",
          "2025-04-21T19:03:48",
          "2025-04-21T19:03:39",
          "2025-04-21T19:03:26",
          "2025-04-21T19:03:19",
          "2025-04-21T19:03:07",
          "2025-04-21T19:02:58",
          "2025-04-21T19:02:49"
         ],
         "xaxis": "x6",
         "y": [
          95.68617978087593,
          95.68617978087593,
          95.68617978087593,
          95.68617978087593,
          224.61908902300206,
          224.61888543819995,
          224.48,
          224.48,
          224.56755417527998,
          224.59963560920082,
          224.6156356092008,
          224.61555417528,
          224.56,
          224.56,
          224.66944271910003,
          224.70954451150106,
          224.72954451150108,
          224.7294427191001,
          224.55055728089994,
          224.51045548849888,
          224.49045548849892,
          224.4905572809,
          224.56,
          224.56,
          224.47244582472,
          224.44036439079912,
          224.42436439079918,
          224.42444582472004,
          224.48,
          224.48,
          224.26111456180004,
          224.18091097699795,
          95.60586021912405,
          95.60586021912405,
          95.60586021912405,
          95.60586021912405
         ],
         "yaxis": "y6"
        },
        {
         "line": {
          "color": "black"
         },
         "mode": "lines",
         "name": "BB_Middle",
         "showlegend": false,
         "type": "scatter",
         "x": [
          "2025-04-21T19:02:44.000000000",
          "2025-04-21T19:02:58.000000000",
          "2025-04-21T19:03:06.000000000",
          "2025-04-21T19:03:19.000000000",
          "2025-04-21T19:03:27.000000000",
          "2025-04-21T19:03:40.000000000",
          "2025-04-21T19:03:48.000000000",
          "2025-04-21T19:03:56.000000000",
          "2025-04-21T19:04:09.000000000",
          "2025-04-21T19:04:17.000000000",
          "2025-04-21T19:04:30.000000000",
          "2025-04-21T19:04:38.000000000",
          "2025-04-21T19:04:51.000000000",
          "2025-04-21T19:05:00.000000000",
          "2025-04-21T19:05:12.000000000",
          "2025-04-21T19:05:21.000000000",
          "2025-04-21T19:05:30.000000000",
          "2025-04-21T19:05:43.000000000"
         ],
         "xaxis": "x7",
         "y": {
          "bdata": "001iEFhJdkDTTWIQWEl2QNNNYhBYSXZA001iEFhJdkCcilQYW+RXQGpSCrq95FdANxrAWyDlV0A3GsBbIOVXQOELk6mC5VdAi/1l9+TlV0A17zhFR+ZXQN/gC5Op5ldAidLe4AvnV0CJ0t7gC+dXQOVmuAGf51dAQPuRIjLoV0Cbj2tDxehXQPYjRWRY6VdA",
          "dtype": "f8"
         },
         "yaxis": "y7"
        },
        {
         "line": {
          "color": "blue",
          "dash": "dash"
         },
         "mode": "lines",
         "name": "BB_Upper",
         "showlegend": false,
         "type": "scatter",
         "x": [
          "2025-04-21T19:02:44.000000000",
          "2025-04-21T19:02:58.000000000",
          "2025-04-21T19:03:06.000000000",
          "2025-04-21T19:03:19.000000000",
          "2025-04-21T19:03:27.000000000",
          "2025-04-21T19:03:40.000000000",
          "2025-04-21T19:03:48.000000000",
          "2025-04-21T19:03:56.000000000",
          "2025-04-21T19:04:09.000000000",
          "2025-04-21T19:04:17.000000000",
          "2025-04-21T19:04:30.000000000",
          "2025-04-21T19:04:38.000000000",
          "2025-04-21T19:04:51.000000000",
          "2025-04-21T19:05:00.000000000",
          "2025-04-21T19:05:12.000000000",
          "2025-04-21T19:05:21.000000000",
          "2025-04-21T19:05:30.000000000",
          "2025-04-21T19:05:43.000000000"
         ],
         "xaxis": "x7",
         "y": {
          "bdata": "iIQeVDRLdkCIhB5UNEt2QIiEHlQ0S3ZAiIQeVDRLdkA7JLBSd+ZXQBs3LdJ25ldANxrAWyDlV0A3GsBbIOVXQCmNj0o651dAIhFLZv/nV0DNAh60YehXQCpiCDRh6FdAidLe4AvnV0CJ0t7gC+dXQGjFDPww6ldAmRJz/VfrV0D0pkwe6+tXQHiCmV7q61dA",
          "dtype": "f8"
         },
         "yaxis": "y7"
        },
        {
         "line": {
          "color": "orange",
          "dash": "dash"
         },
         "mode": "lines",
         "name": "BB_Lower",
         "showlegend": false,
         "type": "scatter",
         "x": [
          "2025-04-21T19:02:44.000000000",
          "2025-04-21T19:02:58.000000000",
          "2025-04-21T19:03:06.000000000",
          "2025-04-21T19:03:19.000000000",
          "2025-04-21T19:03:27.000000000",
          "2025-04-21T19:03:40.000000000",
          "2025-04-21T19:03:48.000000000",
          "2025-04-21T19:03:56.000000000",
          "2025-04-21T19:04:09.000000000",
          "2025-04-21T19:04:17.000000000",
          "2025-04-21T19:04:30.000000000",
          "2025-04-21T19:04:38.000000000",
          "2025-04-21T19:04:51.000000000",
          "2025-04-21T19:05:00.000000000",
          "2025-04-21T19:05:12.000000000",
          "2025-04-21T19:05:21.000000000",
          "2025-04-21T19:05:30.000000000",
          "2025-04-21T19:05:43.000000000"
         ],
         "xaxis": "x7",
         "y": {
          "bdata": "HhemzHtHdkAeF6bMe0d2QB4Xpsx7R3ZAHhemzHtHdkD98PjdPuJXQLlt56EE41dANxrAWyDlV0A3GsBbIOVXQJmKlgjL41dA9OmAiMrjV0Cd21PWLORXQJRfD/Lx5FdAidLe4AvnV0CJ0t7gC+dXQGIIZAcN5VdA5+OwRwzlV0BCeIpon+VXQHTF8GnG5ldA",
          "dtype": "f8"
         },
         "yaxis": "y7"
        },
        {
         "fill": "toself",
         "fillcolor": "rgba(173, 216, 230, 0.2)",
         "hoverinfo": "skip",
         "line": {
          "color": "rgba(255,255,255,0)"
         },
         "showlegend": false,
         "type": "scatter",
         "x": [
          "2025-04-21T19:02:44",
          "2025-04-21T19:02:58",
          "2025-04-21T19:03:06",
          "2025-04-21T19:03:19",
          "2025-04-21T19:03:27",
          "2025-04-21T19:03:40",
          "2025-04-21T19:03:48",
          "2025-04-21T19:03:56",
          "2025-04-21T19:04:09",
          "2025-04-21T19:04:17",
          "2025-04-21T19:04:30",
          "2025-04-21T19:04:38",
          "2025-04-21T19:04:51",
          "2025-04-21T19:05:00",
          "2025-04-21T19:05:12",
          "2025-04-21T19:05:21",
          "2025-04-21T19:05:30",
          "2025-04-21T19:05:43",
          "2025-04-21T19:05:43",
          "2025-04-21T19:05:30",
          "2025-04-21T19:05:21",
          "2025-04-21T19:05:12",
          "2025-04-21T19:05:00",
          "2025-04-21T19:04:51",
          "2025-04-21T19:04:38",
          "2025-04-21T19:04:30",
          "2025-04-21T19:04:17",
          "2025-04-21T19:04:09",
          "2025-04-21T19:03:56",
          "2025-04-21T19:03:48",
          "2025-04-21T19:03:40",
          "2025-04-21T19:03:27",
          "2025-04-21T19:03:19",
          "2025-04-21T19:03:06",
          "2025-04-21T19:02:58",
          "2025-04-21T19:02:44"
         ],
         "xaxis": "x7",
         "y": [
          356.70027553482987,
          356.70027553482987,
          356.70027553482987,
          356.70027553482987,
          95.60103289796182,
          95.6010022584491,
          95.5801,
          95.5801,
          95.61293281573002,
          95.62496335345034,
          95.63096335345035,
          95.63093281573006,
          95.6101,
          95.6101,
          95.65923978087596,
          95.67724548566402,
          95.68622548566401,
          95.68617978087593,
          95.60586021912405,
          95.58785451433599,
          95.578874514336,
          95.57892021912406,
          95.6101,
          95.6101,
          95.57726718426994,
          95.56523664654965,
          95.55923664654966,
          95.55926718426998,
          95.5801,
          95.5801,
          95.54715774155092,
          95.53508710203819,
          356.46772446517014,
          356.46772446517014,
          356.46772446517014,
          356.46772446517014
         ],
         "yaxis": "y7"
        }
       ],
       "layout": {
        "annotations": [
         {
          "font": {
           "size": 16
          },
          "showarrow": false,
          "text": "AAPL",
          "x": 0.14444444444444446,
          "xanchor": "center",
          "xref": "paper",
          "y": 1,
          "yanchor": "bottom",
          "yref": "paper"
         },
         {
          "font": {
           "size": 16
          },
          "showarrow": false,
          "text": "MSFT",
          "x": 0.5,
          "xanchor": "center",
          "xref": "paper",
          "y": 1,
          "yanchor": "bottom",
          "yref": "paper"
         },
         {
          "font": {
           "size": 16
          },
          "showarrow": false,
          "text": "AMZN",
          "x": 0.8555555555555556,
          "xanchor": "center",
          "xref": "paper",
          "y": 1,
          "yanchor": "bottom",
          "yref": "paper"
         },
         {
          "font": {
           "size": 16
          },
          "showarrow": false,
          "text": "GOOGL",
          "x": 0.14444444444444446,
          "xanchor": "center",
          "xref": "paper",
          "y": 0.6111111111111112,
          "yanchor": "bottom",
          "yref": "paper"
         },
         {
          "font": {
           "size": 16
          },
          "showarrow": false,
          "text": "META",
          "x": 0.5,
          "xanchor": "center",
          "xref": "paper",
          "y": 0.6111111111111112,
          "yanchor": "bottom",
          "yref": "paper"
         },
         {
          "font": {
           "size": 16
          },
          "showarrow": false,
          "text": "TSLA",
          "x": 0.8555555555555556,
          "xanchor": "center",
          "xref": "paper",
          "y": 0.6111111111111112,
          "yanchor": "bottom",
          "yref": "paper"
         },
         {
          "font": {
           "size": 16
          },
          "showarrow": false,
          "text": "NVDA",
          "x": 0.14444444444444446,
          "xanchor": "center",
          "xref": "paper",
          "y": 0.22222222222222224,
          "yanchor": "bottom",
          "yref": "paper"
         }
        ],
        "height": 1000,
        "template": {
         "data": {
          "bar": [
           {
            "error_x": {
             "color": "#2a3f5f"
            },
            "error_y": {
             "color": "#2a3f5f"
            },
            "marker": {
             "line": {
              "color": "white",
              "width": 0.5
             },
             "pattern": {
              "fillmode": "overlay",
              "size": 10,
              "solidity": 0.2
             }
            },
            "type": "bar"
           }
          ],
          "barpolar": [
           {
            "marker": {
             "line": {
              "color": "white",
              "width": 0.5
             },
             "pattern": {
              "fillmode": "overlay",
              "size": 10,
              "solidity": 0.2
             }
            },
            "type": "barpolar"
           }
          ],
          "carpet": [
           {
            "aaxis": {
             "endlinecolor": "#2a3f5f",
             "gridcolor": "#C8D4E3",
             "linecolor": "#C8D4E3",
             "minorgridcolor": "#C8D4E3",
             "startlinecolor": "#2a3f5f"
            },
            "baxis": {
             "endlinecolor": "#2a3f5f",
             "gridcolor": "#C8D4E3",
             "linecolor": "#C8D4E3",
             "minorgridcolor": "#C8D4E3",
             "startlinecolor": "#2a3f5f"
            },
            "type": "carpet"
           }
          ],
          "choropleth": [
           {
            "colorbar": {
             "outlinewidth": 0,
             "ticks": ""
            },
            "type": "choropleth"
           }
          ],
          "contour": [
           {
            "colorbar": {
             "outlinewidth": 0,
             "ticks": ""
            },
            "colorscale": [
             [
              0,
              "#0d0887"
             ],
             [
              0.1111111111111111,
              "#46039f"
             ],
             [
              0.2222222222222222,
              "#7201a8"
             ],
             [
              0.3333333333333333,
              "#9c179e"
             ],
             [
              0.4444444444444444,
              "#bd3786"
             ],
             [
              0.5555555555555556,
              "#d8576b"
             ],
             [
              0.6666666666666666,
              "#ed7953"
             ],
             [
              0.7777777777777778,
              "#fb9f3a"
             ],
             [
              0.8888888888888888,
              "#fdca26"
             ],
             [
              1,
              "#f0f921"
             ]
            ],
            "type": "contour"
           }
          ],
          "contourcarpet": [
           {
            "colorbar": {
             "outlinewidth": 0,
             "ticks": ""
            },
            "type": "contourcarpet"
           }
          ],
          "heatmap": [
           {
            "colorbar": {
             "outlinewidth": 0,
             "ticks": ""
            },
            "colorscale": [
             [
              0,
              "#0d0887"
             ],
             [
              0.1111111111111111,
              "#46039f"
             ],
             [
              0.2222222222222222,
              "#7201a8"
             ],
             [
              0.3333333333333333,
              "#9c179e"
             ],
             [
              0.4444444444444444,
              "#bd3786"
             ],
             [
              0.5555555555555556,
              "#d8576b"
             ],
             [
              0.6666666666666666,
              "#ed7953"
             ],
             [
              0.7777777777777778,
              "#fb9f3a"
             ],
             [
              0.8888888888888888,
              "#fdca26"
             ],
             [
              1,
              "#f0f921"
             ]
            ],
            "type": "heatmap"
           }
          ],
          "histogram": [
           {
            "marker": {
             "pattern": {
              "fillmode": "overlay",
              "size": 10,
              "solidity": 0.2
             }
            },
            "type": "histogram"
           }
          ],
          "histogram2d": [
           {
            "colorbar": {
             "outlinewidth": 0,
             "ticks": ""
            },
            "colorscale": [
             [
              0,
              "#0d0887"
             ],
             [
              0.1111111111111111,
              "#46039f"
             ],
             [
              0.2222222222222222,
              "#7201a8"
             ],
             [
              0.3333333333333333,
              "#9c179e"
             ],
             [
              0.4444444444444444,
              "#bd3786"
             ],
             [
              0.5555555555555556,
              "#d8576b"
             ],
             [
              0.6666666666666666,
              "#ed7953"
             ],
             [
              0.7777777777777778,
              "#fb9f3a"
             ],
             [
              0.8888888888888888,
              "#fdca26"
             ],
             [
              1,
              "#f0f921"
             ]
            ],
            "type": "histogram2d"
           }
          ],
          "histogram2dcontour": [
           {
            "colorbar": {
             "outlinewidth": 0,
             "ticks": ""
            },
            "colorscale": [
             [
              0,
              "#0d0887"
             ],
             [
              0.1111111111111111,
              "#46039f"
             ],
             [
              0.2222222222222222,
              "#7201a8"
             ],
             [
              0.3333333333333333,
              "#9c179e"
             ],
             [
              0.4444444444444444,
              "#bd3786"
             ],
             [
              0.5555555555555556,
              "#d8576b"
             ],
             [
              0.6666666666666666,
              "#ed7953"
             ],
             [
              0.7777777777777778,
              "#fb9f3a"
             ],
             [
              0.8888888888888888,
              "#fdca26"
             ],
             [
              1,
              "#f0f921"
             ]
            ],
            "type": "histogram2dcontour"
           }
          ],
          "mesh3d": [
           {
            "colorbar": {
             "outlinewidth": 0,
             "ticks": ""
            },
            "type": "mesh3d"
           }
          ],
          "parcoords": [
           {
            "line": {
             "colorbar": {
              "outlinewidth": 0,
              "ticks": ""
             }
            },
            "type": "parcoords"
           }
          ],
          "pie": [
           {
            "automargin": true,
            "type": "pie"
           }
          ],
          "scatter": [
           {
            "fillpattern": {
             "fillmode": "overlay",
             "size": 10,
             "solidity": 0.2
            },
            "type": "scatter"
           }
          ],
          "scatter3d": [
           {
            "line": {
             "colorbar": {
              "outlinewidth": 0,
              "ticks": ""
             }
            },
            "marker": {
             "colorbar": {
              "outlinewidth": 0,
              "ticks": ""
             }
            },
            "type": "scatter3d"
           }
          ],
          "scattercarpet": [
           {
            "marker": {
             "colorbar": {
              "outlinewidth": 0,
              "ticks": ""
             }
            },
            "type": "scattercarpet"
           }
          ],
          "scattergeo": [
           {
            "marker": {
             "colorbar": {
              "outlinewidth": 0,
              "ticks": ""
             }
            },
            "type": "scattergeo"
           }
          ],
          "scattergl": [
           {
            "marker": {
             "colorbar": {
              "outlinewidth": 0,
              "ticks": ""
             }
            },
            "type": "scattergl"
           }
          ],
          "scattermap": [
           {
            "marker": {
             "colorbar": {
              "outlinewidth": 0,
              "ticks": ""
             }
            },
            "type": "scattermap"
           }
          ],
          "scattermapbox": [
           {
            "marker": {
             "colorbar": {
              "outlinewidth": 0,
              "ticks": ""
             }
            },
            "type": "scattermapbox"
           }
          ],
          "scatterpolar": [
           {
            "marker": {
             "colorbar": {
              "outlinewidth": 0,
              "ticks": ""
             }
            },
            "type": "scatterpolar"
           }
          ],
          "scatterpolargl": [
           {
            "marker": {
             "colorbar": {
              "outlinewidth": 0,
              "ticks": ""
             }
            },
            "type": "scatterpolargl"
           }
          ],
          "scatterternary": [
           {
            "marker": {
             "colorbar": {
              "outlinewidth": 0,
              "ticks": ""
             }
            },
            "type": "scatterternary"
           }
          ],
          "surface": [
           {
            "colorbar": {
             "outlinewidth": 0,
             "ticks": ""
            },
            "colorscale": [
             [
              0,
              "#0d0887"
             ],
             [
              0.1111111111111111,
              "#46039f"
             ],
             [
              0.2222222222222222,
              "#7201a8"
             ],
             [
              0.3333333333333333,
              "#9c179e"
             ],
             [
              0.4444444444444444,
              "#bd3786"
             ],
             [
              0.5555555555555556,
              "#d8576b"
             ],
             [
              0.6666666666666666,
              "#ed7953"
             ],
             [
              0.7777777777777778,
              "#fb9f3a"
             ],
             [
              0.8888888888888888,
              "#fdca26"
             ],
             [
              1,
              "#f0f921"
             ]
            ],
            "type": "surface"
           }
          ],
          "table": [
           {
            "cells": {
             "fill": {
              "color": "#EBF0F8"
             },
             "line": {
              "color": "white"
             }
            },
            "header": {
             "fill": {
              "color": "#C8D4E3"
             },
             "line": {
              "color": "white"
             }
            },
            "type": "table"
           }
          ]
         },
         "layout": {
          "annotationdefaults": {
           "arrowcolor": "#2a3f5f",
           "arrowhead": 0,
           "arrowwidth": 1
          },
          "autotypenumbers": "strict",
          "coloraxis": {
           "colorbar": {
            "outlinewidth": 0,
            "ticks": ""
           }
          },
          "colorscale": {
           "diverging": [
            [
             0,
             "#8e0152"
            ],
            [
             0.1,
             "#c51b7d"
            ],
            [
             0.2,
             "#de77ae"
            ],
            [
             0.3,
             "#f1b6da"
            ],
            [
             0.4,
             "#fde0ef"
            ],
            [
             0.5,
             "#f7f7f7"
            ],
            [
             0.6,
             "#e6f5d0"
            ],
            [
             0.7,
             "#b8e186"
            ],
            [
             0.8,
             "#7fbc41"
            ],
            [
             0.9,
             "#4d9221"
            ],
            [
             1,
             "#276419"
            ]
           ],
           "sequential": [
            [
             0,
             "#0d0887"
            ],
            [
             0.1111111111111111,
             "#46039f"
            ],
            [
             0.2222222222222222,
             "#7201a8"
            ],
            [
             0.3333333333333333,
             "#9c179e"
            ],
            [
             0.4444444444444444,
             "#bd3786"
            ],
            [
             0.5555555555555556,
             "#d8576b"
            ],
            [
             0.6666666666666666,
             "#ed7953"
            ],
            [
             0.7777777777777778,
             "#fb9f3a"
            ],
            [
             0.8888888888888888,
             "#fdca26"
            ],
            [
             1,
             "#f0f921"
            ]
           ],
           "sequentialminus": [
            [
             0,
             "#0d0887"
            ],
            [
             0.1111111111111111,
             "#46039f"
            ],
            [
             0.2222222222222222,
             "#7201a8"
            ],
            [
             0.3333333333333333,
             "#9c179e"
            ],
            [
             0.4444444444444444,
             "#bd3786"
            ],
            [
             0.5555555555555556,
             "#d8576b"
            ],
            [
             0.6666666666666666,
             "#ed7953"
            ],
            [
             0.7777777777777778,
             "#fb9f3a"
            ],
            [
             0.8888888888888888,
             "#fdca26"
            ],
            [
             1,
             "#f0f921"
            ]
           ]
          },
          "colorway": [
           "#636efa",
           "#EF553B",
           "#00cc96",
           "#ab63fa",
           "#FFA15A",
           "#19d3f3",
           "#FF6692",
           "#B6E880",
           "#FF97FF",
           "#FECB52"
          ],
          "font": {
           "color": "#2a3f5f"
          },
          "geo": {
           "bgcolor": "white",
           "lakecolor": "white",
           "landcolor": "white",
           "showlakes": true,
           "showland": true,
           "subunitcolor": "#C8D4E3"
          },
          "hoverlabel": {
           "align": "left"
          },
          "hovermode": "closest",
          "mapbox": {
           "style": "light"
          },
          "paper_bgcolor": "white",
          "plot_bgcolor": "white",
          "polar": {
           "angularaxis": {
            "gridcolor": "#EBF0F8",
            "linecolor": "#EBF0F8",
            "ticks": ""
           },
           "bgcolor": "white",
           "radialaxis": {
            "gridcolor": "#EBF0F8",
            "linecolor": "#EBF0F8",
            "ticks": ""
           }
          },
          "scene": {
           "xaxis": {
            "backgroundcolor": "white",
            "gridcolor": "#DFE8F3",
            "gridwidth": 2,
            "linecolor": "#EBF0F8",
            "showbackground": true,
            "ticks": "",
            "zerolinecolor": "#EBF0F8"
           },
           "yaxis": {
            "backgroundcolor": "white",
            "gridcolor": "#DFE8F3",
            "gridwidth": 2,
            "linecolor": "#EBF0F8",
            "showbackground": true,
            "ticks": "",
            "zerolinecolor": "#EBF0F8"
           },
           "zaxis": {
            "backgroundcolor": "white",
            "gridcolor": "#DFE8F3",
            "gridwidth": 2,
            "linecolor": "#EBF0F8",
            "showbackground": true,
            "ticks": "",
            "zerolinecolor": "#EBF0F8"
           }
          },
          "shapedefaults": {
           "line": {
            "color": "#2a3f5f"
           }
          },
          "ternary": {
           "aaxis": {
            "gridcolor": "#DFE8F3",
            "linecolor": "#A2B1C6",
            "ticks": ""
           },
           "baxis": {
            "gridcolor": "#DFE8F3",
            "linecolor": "#A2B1C6",
            "ticks": ""
           },
           "bgcolor": "white",
           "caxis": {
            "gridcolor": "#DFE8F3",
            "linecolor": "#A2B1C6",
            "ticks": ""
           }
          },
          "title": {
           "x": 0.05
          },
          "xaxis": {
           "automargin": true,
           "gridcolor": "#EBF0F8",
           "linecolor": "#EBF0F8",
           "ticks": "",
           "title": {
            "standoff": 15
           },
           "zerolinecolor": "#EBF0F8",
           "zerolinewidth": 2
          },
          "yaxis": {
           "automargin": true,
           "gridcolor": "#EBF0F8",
           "linecolor": "#EBF0F8",
           "ticks": "",
           "title": {
            "standoff": 15
           },
           "zerolinecolor": "#EBF0F8",
           "zerolinewidth": 2
          }
         }
        },
        "title": {
         "text": "Bollinger Bands Across Tickers (Real-Time)"
        },
        "width": 1000,
        "xaxis": {
         "anchor": "y",
         "domain": [
          0,
          0.2888888888888889
         ]
        },
        "xaxis2": {
         "anchor": "y2",
         "domain": [
          0.35555555555555557,
          0.6444444444444445
         ]
        },
        "xaxis3": {
         "anchor": "y3",
         "domain": [
          0.7111111111111111,
          1
         ]
        },
        "xaxis4": {
         "anchor": "y4",
         "domain": [
          0,
          0.2888888888888889
         ]
        },
        "xaxis5": {
         "anchor": "y5",
         "domain": [
          0.35555555555555557,
          0.6444444444444445
         ]
        },
        "xaxis6": {
         "anchor": "y6",
         "domain": [
          0.7111111111111111,
          1
         ]
        },
        "xaxis7": {
         "anchor": "y7",
         "domain": [
          0,
          0.2888888888888889
         ]
        },
        "xaxis8": {
         "anchor": "y8",
         "domain": [
          0.35555555555555557,
          0.6444444444444445
         ]
        },
        "xaxis9": {
         "anchor": "y9",
         "domain": [
          0.7111111111111111,
          1
         ]
        },
        "yaxis": {
         "anchor": "x",
         "domain": [
          0.7777777777777778,
          1
         ]
        },
        "yaxis2": {
         "anchor": "x2",
         "domain": [
          0.7777777777777778,
          1
         ]
        },
        "yaxis3": {
         "anchor": "x3",
         "domain": [
          0.7777777777777778,
          1
         ]
        },
        "yaxis4": {
         "anchor": "x4",
         "domain": [
          0.3888888888888889,
          0.6111111111111112
         ]
        },
        "yaxis5": {
         "anchor": "x5",
         "domain": [
          0.3888888888888889,
          0.6111111111111112
         ]
        },
        "yaxis6": {
         "anchor": "x6",
         "domain": [
          0.3888888888888889,
          0.6111111111111112
         ]
        },
        "yaxis7": {
         "anchor": "x7",
         "domain": [
          0,
          0.22222222222222224
         ]
        },
        "yaxis8": {
         "anchor": "x8",
         "domain": [
          0,
          0.22222222222222224
         ]
        },
        "yaxis9": {
         "anchor": "x9",
         "domain": [
          0,
          0.22222222222222224
         ]
        }
       }
      }
     },
     "metadata": {},
     "output_type": "display_data"
    }
   ],
   "source": [
    "\n",
    "# tickers\n",
    "tickers = ['AAPL', 'MSFT', 'AMZN', 'GOOGL', 'META', 'TSLA', 'NVDA']\n",
    "\n",
    "# Create subplot grid\n",
    "cols = 3\n",
    "rows = 3 \n",
    "fig = make_subplots(rows=3, cols=3, subplot_titles=[f\"{ticker}\" for ticker in tickers])\n",
    "\n",
    "#for loop to create a plot for each ticker\n",
    "for i, ticker in enumerate(tickers):\n",
    "    subset = df_cass_final[df_cass_final['ticker'] == ticker]\n",
    "    row = i // cols + 1\n",
    "    col = i % cols + 1\n",
    "#adding traces for the Bollinger Bands: BBmiddle, BBUpper, BBLower\n",
    "    fig.add_trace(go.Scatter(x=subset['date'], y=subset['BB_Middle'], mode='lines', name='BB_Middle',\n",
    "                             line=dict(color='black'), showlegend=(i == 0)), row=row, col=col)\n",
    "    fig.add_trace(go.Scatter(x=subset['date'], y=subset['BB_Upper'], mode='lines', name='BB_Upper',\n",
    "                             line=dict(color='blue', dash='dash'), showlegend=(i == 0)), row=row, col=col)\n",
    "    fig.add_trace(go.Scatter(x=subset['date'], y=subset['BB_Lower'], mode='lines', name='BB_Lower',\n",
    "                             line=dict(color='orange', dash='dash'), showlegend=(i == 0)), row=row, col=col)\n",
    "\n",
    "    # Adding a fill between trace so it looks like a regular Bollinger Band chart\n",
    "    fig.add_trace(go.Scatter(\n",
    "        x=subset['date'].tolist() + subset['date'][::-1].tolist(),\n",
    "        y=subset['BB_Upper'].tolist() + subset['BB_Lower'][::-1].tolist(),\n",
    "        fill='toself',\n",
    "        fillcolor='rgba(173, 216, 230, 0.2)',\n",
    "        line=dict(color='rgba(255,255,255,0)'),\n",
    "        hoverinfo=\"skip\",\n",
    "        showlegend=False\n",
    "    ), row=row, col=col)\n",
    "\n",
    "# updating height\n",
    "fig.update_layout(height=1000, width=1000,title_text=\"Bollinger Bands Across Tickers (Real-Time)\",template='plotly_white')\n",
    "\n",
    "fig.show()\n"
   ]
  },
  {
   "cell_type": "markdown",
   "metadata": {},
   "source": [
    "### The above graph shows Bollinger Bands can be shown using the Upper Band, Lower Band, and the Middle Band (the middle band is basically just the SMA re-labled). \n",
    "\n",
    "### The Upper Band is calculated with SMA + 2×standard deviation, showing a higher end of expected price range (overbought conditions).\n",
    "\n",
    "### The Lower Band is calculated with SMA - 2×standard deviation, showing a lower end of the expected price range (oversold conditions).\n",
    "### The graph is useful to show us the volatility of the stock as well. If a graph is flat and does not show a lot of variance, it is due to our limited real-time dataset, since was not a lot of movement in the time frame. "
   ]
  },
  {
   "cell_type": "code",
   "execution_count": 34,
   "metadata": {},
   "outputs": [
    {
     "data": {
      "image/png": "[encoded data removed]",
      "text/plain": [
       "<Figure size 640x480 with 2 Axes>"
      ]
     },
     "metadata": {},
     "output_type": "display_data"
    }
   ],
   "source": [
    "#heat map for just the featured engineered columns\n",
    "corr = df_cass_final[['BB_Upper', 'BB_Lower', 'ATR_5', 'RSI_5', 'MACD', 'SMA_5','EMA_5']].corr()\n",
    "sns.heatmap(corr, annot=True)\n",
    "plt.title(\"Correlation Between BB Standard Deviation, ATR, RSI and MACD\")\n",
    "plt.show()\n"
   ]
  },
  {
   "cell_type": "markdown",
   "metadata": {},
   "source": [
    "### Above is a correlation heat map which helps us see how some of our feature engineered columns correlate with one another. We can see that due to our limited sample size of 3 minutes, our Bollinger Bonds are pretty static and the upper and lower are correlated strongly with SMA_5. This is because we are driving the Bollinger Bonds from SMA_5. Furthermore, EMA is highly correlated with SMA(which is the source of BB_upper and BB_lower). THe remaining columns are not highly correlated with now another. MACD has a moderate correlation with ATR_5 and SMA_5 and the BBs which can show us that the MACD is only tracking pricetrends somewhat effectively not perfectly. RSI_5 seems to have a low to no correlations with anything. "
   ]
  },
  {
   "cell_type": "markdown",
   "metadata": {},
   "source": [
    "## Real Time Data Encoding\n",
    "\n",
    "### The goal is to apply one hot encoding on the tickers so the machine learning model has no issues with the string values. Additionally we are going to convert the datetime into date only, and then split it into year, month, day of month, weekday, hour and minute as well as time of day combining hour and minute (using 24HR clock so HourHourMinuteMinute)"
   ]
  },
  {
   "cell_type": "code",
   "execution_count": 35,
   "metadata": {},
   "outputs": [
    {
     "data": {
      "text/html": [
       "<div>\n",
       "<style scoped>\n",
       "    .dataframe tbody tr th:only-of-type {\n",
       "        vertical-align: middle;\n",
       "    }\n",
       "\n",
       "    .dataframe tbody tr th {\n",
       "        vertical-align: top;\n",
       "    }\n",
       "\n",
       "    .dataframe thead th {\n",
       "        text-align: right;\n",
       "    }\n",
       "</style>\n",
       "<table border=\"1\" class=\"dataframe\">\n",
       "  <thead>\n",
       "    <tr style=\"text-align: right;\">\n",
       "      <th></th>\n",
       "      <th>adj_close</th>\n",
       "      <th>close</th>\n",
       "      <th>high</th>\n",
       "      <th>low</th>\n",
       "      <th>open</th>\n",
       "      <th>previous_close</th>\n",
       "      <th>SMA_5</th>\n",
       "      <th>EMA_5</th>\n",
       "      <th>RSI_5</th>\n",
       "      <th>BB_Middle</th>\n",
       "      <th>...</th>\n",
       "      <th>weekday</th>\n",
       "      <th>day</th>\n",
       "      <th>time_of_day</th>\n",
       "      <th>ticker_AAPL</th>\n",
       "      <th>ticker_AMZN</th>\n",
       "      <th>ticker_GOOGL</th>\n",
       "      <th>ticker_META</th>\n",
       "      <th>ticker_MSFT</th>\n",
       "      <th>ticker_NVDA</th>\n",
       "      <th>ticker_TSLA</th>\n",
       "    </tr>\n",
       "  </thead>\n",
       "  <tbody>\n",
       "    <tr>\n",
       "      <th>0</th>\n",
       "      <td>190.64</td>\n",
       "      <td>190.64</td>\n",
       "      <td>193.80</td>\n",
       "      <td>189.8112</td>\n",
       "      <td>193.265</td>\n",
       "      <td>196.98</td>\n",
       "      <td>190.636</td>\n",
       "      <td>190.637037</td>\n",
       "      <td>100.0</td>\n",
       "      <td>190.636</td>\n",
       "      <td>...</td>\n",
       "      <td>0</td>\n",
       "      <td>21</td>\n",
       "      <td>1143</td>\n",
       "      <td>True</td>\n",
       "      <td>False</td>\n",
       "      <td>False</td>\n",
       "      <td>False</td>\n",
       "      <td>False</td>\n",
       "      <td>False</td>\n",
       "      <td>False</td>\n",
       "    </tr>\n",
       "    <tr>\n",
       "      <th>1</th>\n",
       "      <td>190.64</td>\n",
       "      <td>190.64</td>\n",
       "      <td>193.80</td>\n",
       "      <td>189.8112</td>\n",
       "      <td>193.265</td>\n",
       "      <td>196.98</td>\n",
       "      <td>190.638</td>\n",
       "      <td>190.638025</td>\n",
       "      <td>100.0</td>\n",
       "      <td>190.638</td>\n",
       "      <td>...</td>\n",
       "      <td>0</td>\n",
       "      <td>21</td>\n",
       "      <td>1143</td>\n",
       "      <td>True</td>\n",
       "      <td>False</td>\n",
       "      <td>False</td>\n",
       "      <td>False</td>\n",
       "      <td>False</td>\n",
       "      <td>False</td>\n",
       "      <td>False</td>\n",
       "    </tr>\n",
       "    <tr>\n",
       "      <th>2</th>\n",
       "      <td>190.64</td>\n",
       "      <td>190.64</td>\n",
       "      <td>193.80</td>\n",
       "      <td>189.8112</td>\n",
       "      <td>193.265</td>\n",
       "      <td>196.98</td>\n",
       "      <td>190.640</td>\n",
       "      <td>190.638683</td>\n",
       "      <td>100.0</td>\n",
       "      <td>190.640</td>\n",
       "      <td>...</td>\n",
       "      <td>0</td>\n",
       "      <td>21</td>\n",
       "      <td>1143</td>\n",
       "      <td>True</td>\n",
       "      <td>False</td>\n",
       "      <td>False</td>\n",
       "      <td>False</td>\n",
       "      <td>False</td>\n",
       "      <td>False</td>\n",
       "      <td>False</td>\n",
       "    </tr>\n",
       "    <tr>\n",
       "      <th>3</th>\n",
       "      <td>190.64</td>\n",
       "      <td>190.64</td>\n",
       "      <td>193.80</td>\n",
       "      <td>189.8112</td>\n",
       "      <td>193.265</td>\n",
       "      <td>196.98</td>\n",
       "      <td>190.640</td>\n",
       "      <td>190.639122</td>\n",
       "      <td>100.0</td>\n",
       "      <td>190.640</td>\n",
       "      <td>...</td>\n",
       "      <td>0</td>\n",
       "      <td>21</td>\n",
       "      <td>1143</td>\n",
       "      <td>True</td>\n",
       "      <td>False</td>\n",
       "      <td>False</td>\n",
       "      <td>False</td>\n",
       "      <td>False</td>\n",
       "      <td>False</td>\n",
       "      <td>False</td>\n",
       "    </tr>\n",
       "    <tr>\n",
       "      <th>4</th>\n",
       "      <td>190.74</td>\n",
       "      <td>190.74</td>\n",
       "      <td>193.80</td>\n",
       "      <td>189.8112</td>\n",
       "      <td>193.265</td>\n",
       "      <td>196.98</td>\n",
       "      <td>190.660</td>\n",
       "      <td>190.672748</td>\n",
       "      <td>100.0</td>\n",
       "      <td>190.660</td>\n",
       "      <td>...</td>\n",
       "      <td>0</td>\n",
       "      <td>21</td>\n",
       "      <td>1144</td>\n",
       "      <td>True</td>\n",
       "      <td>False</td>\n",
       "      <td>False</td>\n",
       "      <td>False</td>\n",
       "      <td>False</td>\n",
       "      <td>False</td>\n",
       "      <td>False</td>\n",
       "    </tr>\n",
       "    <tr>\n",
       "      <th>...</th>\n",
       "      <td>...</td>\n",
       "      <td>...</td>\n",
       "      <td>...</td>\n",
       "      <td>...</td>\n",
       "      <td>...</td>\n",
       "      <td>...</td>\n",
       "      <td>...</td>\n",
       "      <td>...</td>\n",
       "      <td>...</td>\n",
       "      <td>...</td>\n",
       "      <td>...</td>\n",
       "      <td>...</td>\n",
       "      <td>...</td>\n",
       "      <td>...</td>\n",
       "      <td>...</td>\n",
       "      <td>...</td>\n",
       "      <td>...</td>\n",
       "      <td>...</td>\n",
       "      <td>...</td>\n",
       "      <td>...</td>\n",
       "      <td>...</td>\n",
       "    </tr>\n",
       "    <tr>\n",
       "      <th>117</th>\n",
       "      <td>224.56</td>\n",
       "      <td>224.56</td>\n",
       "      <td>232.21</td>\n",
       "      <td>222.7900</td>\n",
       "      <td>230.260</td>\n",
       "      <td>241.37</td>\n",
       "      <td>224.560</td>\n",
       "      <td>224.551435</td>\n",
       "      <td>100.0</td>\n",
       "      <td>224.560</td>\n",
       "      <td>...</td>\n",
       "      <td>0</td>\n",
       "      <td>21</td>\n",
       "      <td>1145</td>\n",
       "      <td>False</td>\n",
       "      <td>False</td>\n",
       "      <td>False</td>\n",
       "      <td>False</td>\n",
       "      <td>False</td>\n",
       "      <td>False</td>\n",
       "      <td>True</td>\n",
       "    </tr>\n",
       "    <tr>\n",
       "      <th>118</th>\n",
       "      <td>224.66</td>\n",
       "      <td>224.66</td>\n",
       "      <td>232.21</td>\n",
       "      <td>222.7900</td>\n",
       "      <td>230.260</td>\n",
       "      <td>241.37</td>\n",
       "      <td>224.580</td>\n",
       "      <td>224.587623</td>\n",
       "      <td>100.0</td>\n",
       "      <td>224.580</td>\n",
       "      <td>...</td>\n",
       "      <td>0</td>\n",
       "      <td>21</td>\n",
       "      <td>1145</td>\n",
       "      <td>False</td>\n",
       "      <td>False</td>\n",
       "      <td>False</td>\n",
       "      <td>False</td>\n",
       "      <td>False</td>\n",
       "      <td>False</td>\n",
       "      <td>True</td>\n",
       "    </tr>\n",
       "    <tr>\n",
       "      <th>119</th>\n",
       "      <td>224.66</td>\n",
       "      <td>224.66</td>\n",
       "      <td>232.21</td>\n",
       "      <td>222.7900</td>\n",
       "      <td>230.260</td>\n",
       "      <td>241.37</td>\n",
       "      <td>224.600</td>\n",
       "      <td>224.611749</td>\n",
       "      <td>100.0</td>\n",
       "      <td>224.600</td>\n",
       "      <td>...</td>\n",
       "      <td>0</td>\n",
       "      <td>21</td>\n",
       "      <td>1145</td>\n",
       "      <td>False</td>\n",
       "      <td>False</td>\n",
       "      <td>False</td>\n",
       "      <td>False</td>\n",
       "      <td>False</td>\n",
       "      <td>False</td>\n",
       "      <td>True</td>\n",
       "    </tr>\n",
       "    <tr>\n",
       "      <th>120</th>\n",
       "      <td>224.66</td>\n",
       "      <td>224.66</td>\n",
       "      <td>232.21</td>\n",
       "      <td>222.7900</td>\n",
       "      <td>230.260</td>\n",
       "      <td>241.37</td>\n",
       "      <td>224.620</td>\n",
       "      <td>224.627833</td>\n",
       "      <td>100.0</td>\n",
       "      <td>224.620</td>\n",
       "      <td>...</td>\n",
       "      <td>0</td>\n",
       "      <td>21</td>\n",
       "      <td>1145</td>\n",
       "      <td>False</td>\n",
       "      <td>False</td>\n",
       "      <td>False</td>\n",
       "      <td>False</td>\n",
       "      <td>False</td>\n",
       "      <td>False</td>\n",
       "      <td>True</td>\n",
       "    </tr>\n",
       "    <tr>\n",
       "      <th>121</th>\n",
       "      <td>224.66</td>\n",
       "      <td>224.66</td>\n",
       "      <td>232.21</td>\n",
       "      <td>222.7900</td>\n",
       "      <td>230.260</td>\n",
       "      <td>241.37</td>\n",
       "      <td>224.640</td>\n",
       "      <td>224.638555</td>\n",
       "      <td>100.0</td>\n",
       "      <td>224.640</td>\n",
       "      <td>...</td>\n",
       "      <td>0</td>\n",
       "      <td>21</td>\n",
       "      <td>1145</td>\n",
       "      <td>False</td>\n",
       "      <td>False</td>\n",
       "      <td>False</td>\n",
       "      <td>False</td>\n",
       "      <td>False</td>\n",
       "      <td>False</td>\n",
       "      <td>True</td>\n",
       "    </tr>\n",
       "  </tbody>\n",
       "</table>\n",
       "<p>122 rows × 28 columns</p>\n",
       "</div>"
      ],
      "text/plain": [
       "     adj_close   close    high       low     open  previous_close    SMA_5  \\\n",
       "0       190.64  190.64  193.80  189.8112  193.265          196.98  190.636   \n",
       "1       190.64  190.64  193.80  189.8112  193.265          196.98  190.638   \n",
       "2       190.64  190.64  193.80  189.8112  193.265          196.98  190.640   \n",
       "3       190.64  190.64  193.80  189.8112  193.265          196.98  190.640   \n",
       "4       190.74  190.74  193.80  189.8112  193.265          196.98  190.660   \n",
       "..         ...     ...     ...       ...      ...             ...      ...   \n",
       "117     224.56  224.56  232.21  222.7900  230.260          241.37  224.560   \n",
       "118     224.66  224.66  232.21  222.7900  230.260          241.37  224.580   \n",
       "119     224.66  224.66  232.21  222.7900  230.260          241.37  224.600   \n",
       "120     224.66  224.66  232.21  222.7900  230.260          241.37  224.620   \n",
       "121     224.66  224.66  232.21  222.7900  230.260          241.37  224.640   \n",
       "\n",
       "          EMA_5  RSI_5  BB_Middle  ...  weekday  day  time_of_day  \\\n",
       "0    190.637037  100.0    190.636  ...        0   21         1143   \n",
       "1    190.638025  100.0    190.638  ...        0   21         1143   \n",
       "2    190.638683  100.0    190.640  ...        0   21         1143   \n",
       "3    190.639122  100.0    190.640  ...        0   21         1143   \n",
       "4    190.672748  100.0    190.660  ...        0   21         1144   \n",
       "..          ...    ...        ...  ...      ...  ...          ...   \n",
       "117  224.551435  100.0    224.560  ...        0   21         1145   \n",
       "118  224.587623  100.0    224.580  ...        0   21         1145   \n",
       "119  224.611749  100.0    224.600  ...        0   21         1145   \n",
       "120  224.627833  100.0    224.620  ...        0   21         1145   \n",
       "121  224.638555  100.0    224.640  ...        0   21         1145   \n",
       "\n",
       "     ticker_AAPL  ticker_AMZN  ticker_GOOGL  ticker_META  ticker_MSFT  \\\n",
       "0           True        False         False        False        False   \n",
       "1           True        False         False        False        False   \n",
       "2           True        False         False        False        False   \n",
       "3           True        False         False        False        False   \n",
       "4           True        False         False        False        False   \n",
       "..           ...          ...           ...          ...          ...   \n",
       "117        False        False         False        False        False   \n",
       "118        False        False         False        False        False   \n",
       "119        False        False         False        False        False   \n",
       "120        False        False         False        False        False   \n",
       "121        False        False         False        False        False   \n",
       "\n",
       "     ticker_NVDA  ticker_TSLA  \n",
       "0          False        False  \n",
       "1          False        False  \n",
       "2          False        False  \n",
       "3          False        False  \n",
       "4          False        False  \n",
       "..           ...          ...  \n",
       "117        False         True  \n",
       "118        False         True  \n",
       "119        False         True  \n",
       "120        False         True  \n",
       "121        False         True  \n",
       "\n",
       "[122 rows x 28 columns]"
      ]
     },
     "metadata": {},
     "output_type": "display_data"
    },
    {
     "name": "stdout",
     "output_type": "stream",
     "text": [
      "Printing out all the columns so we can see what we split up: \n",
      "\n",
      "['adj_close', 'close', 'high', 'low', 'open', 'previous_close', 'SMA_5', 'EMA_5', 'RSI_5', 'BB_Middle', 'BB_Std', 'BB_Upper', 'BB_Lower', 'MACD', 'MACD_Signal', 'ATR_5', 'year', 'month', 'weekday', 'day', 'time_of_day', 'ticker_AAPL', 'ticker_AMZN', 'ticker_GOOGL', 'ticker_META', 'ticker_MSFT', 'ticker_NVDA', 'ticker_TSLA']\n"
     ]
    }
   ],
   "source": [
    "\n",
    "def encodingdatefeatures(df):\n",
    "\n",
    "    # making sure we turn datae into date time then we can split it\n",
    "    df['date'] = pd.to_datetime(df['date'])\n",
    "\n",
    "    # extracting the dates similar to labs\n",
    "    df['year'] = df['date'].dt.year\n",
    "    df['month'] = df['date'].dt.month\n",
    "    df['weekday'] = df['date'].dt.weekday\n",
    "    df['day'] = df['date'].dt.day\n",
    "    df['time_of_day'] = df['date'].dt.hour * 60 + df['date'].dt.minute \n",
    "\n",
    "    #using one hot encoding on the ticker since its categorical\n",
    "    ticker_dummies = pd.get_dummies(df['ticker'], prefix='ticker')\n",
    "\n",
    "    # adding the onehot encoded column to the dataframe and removing original from DF\n",
    "    df = pd.concat([df.drop(['ticker', 'date'], axis=1), ticker_dummies], axis=1)\n",
    "    return df\n",
    "# applying and printing our results.also wanted to print the column list since it gets abbreviated\n",
    "df_cass_encoded = encodingdatefeatures(df_cass_final)\n",
    "display(df_cass_encoded)\n",
    "print(\"Printing out all the columns so we can see what we split up: \\n\")\n",
    "print(list(df_cass_encoded.columns))"
   ]
  },
  {
   "cell_type": "markdown",
   "metadata": {},
   "source": [
    "# Machine Learning "
   ]
  },
  {
   "cell_type": "markdown",
   "metadata": {},
   "source": [
    "### Real Time: Using LSTM first and then XGBoost. Then we can apply an ensemble method where we use weighted averaging between both"
   ]
  },
  {
   "cell_type": "code",
   "execution_count": 37,
   "metadata": {},
   "outputs": [
    {
     "name": "stderr",
     "output_type": "stream",
     "text": [
      "/Users/haseemarshad/Library/Python/3.9/lib/python/site-packages/keras/src/layers/rnn/rnn.py:200: UserWarning:\n",
      "\n",
      "Do not pass an `input_shape`/`input_dim` argument to a layer. When using Sequential models, prefer using an `Input(shape)` object as the first layer in the model instead.\n",
      "\n"
     ]
    },
    {
     "data": {
      "text/html": [
       "<pre style=\"white-space:pre;overflow-x:auto;line-height:normal;font-family:Menlo,'DejaVu Sans Mono',consolas,'Courier New',monospace\"><span style=\"font-weight: bold\">Model: \"sequential_1\"</span>\n",
       "</pre>\n"
      ],
      "text/plain": [
       "\u001b[1mModel: \"sequential_1\"\u001b[0m\n"
      ]
     },
     "metadata": {},
     "output_type": "display_data"
    },
    {
     "data": {
      "text/html": [
       "<pre style=\"white-space:pre;overflow-x:auto;line-height:normal;font-family:Menlo,'DejaVu Sans Mono',consolas,'Courier New',monospace\">┏━━━━━━━━━━━━━━━━━━━━━━━━━━━━━━━━━┳━━━━━━━━━━━━━━━━━━━━━━━━┳━━━━━━━━━━━━━━━┓\n",
       "┃<span style=\"font-weight: bold\"> Layer (type)                    </span>┃<span style=\"font-weight: bold\"> Output Shape           </span>┃<span style=\"font-weight: bold\">       Param # </span>┃\n",
       "┡━━━━━━━━━━━━━━━━━━━━━━━━━━━━━━━━━╇━━━━━━━━━━━━━━━━━━━━━━━━╇━━━━━━━━━━━━━━━┩\n",
       "│ lstm_1 (<span style=\"color: #0087ff; text-decoration-color: #0087ff\">LSTM</span>)                   │ (<span style=\"color: #00d7ff; text-decoration-color: #00d7ff\">None</span>, <span style=\"color: #00af00; text-decoration-color: #00af00\">64</span>)             │        <span style=\"color: #00af00; text-decoration-color: #00af00\">23,552</span> │\n",
       "├─────────────────────────────────┼────────────────────────┼───────────────┤\n",
       "│ dense_2 (<span style=\"color: #0087ff; text-decoration-color: #0087ff\">Dense</span>)                 │ (<span style=\"color: #00d7ff; text-decoration-color: #00d7ff\">None</span>, <span style=\"color: #00af00; text-decoration-color: #00af00\">32</span>)             │         <span style=\"color: #00af00; text-decoration-color: #00af00\">2,080</span> │\n",
       "├─────────────────────────────────┼────────────────────────┼───────────────┤\n",
       "│ dense_3 (<span style=\"color: #0087ff; text-decoration-color: #0087ff\">Dense</span>)                 │ (<span style=\"color: #00d7ff; text-decoration-color: #00d7ff\">None</span>, <span style=\"color: #00af00; text-decoration-color: #00af00\">2</span>)              │            <span style=\"color: #00af00; text-decoration-color: #00af00\">66</span> │\n",
       "└─────────────────────────────────┴────────────────────────┴───────────────┘\n",
       "</pre>\n"
      ],
      "text/plain": [
       "┏━━━━━━━━━━━━━━━━━━━━━━━━━━━━━━━━━┳━━━━━━━━━━━━━━━━━━━━━━━━┳━━━━━━━━━━━━━━━┓\n",
       "┃\u001b[1m \u001b[0m\u001b[1mLayer (type)                   \u001b[0m\u001b[1m \u001b[0m┃\u001b[1m \u001b[0m\u001b[1mOutput Shape          \u001b[0m\u001b[1m \u001b[0m┃\u001b[1m \u001b[0m\u001b[1m      Param #\u001b[0m\u001b[1m \u001b[0m┃\n",
       "┡━━━━━━━━━━━━━━━━━━━━━━━━━━━━━━━━━╇━━━━━━━━━━━━━━━━━━━━━━━━╇━━━━━━━━━━━━━━━┩\n",
       "│ lstm_1 (\u001b[38;5;33mLSTM\u001b[0m)                   │ (\u001b[38;5;45mNone\u001b[0m, \u001b[38;5;34m64\u001b[0m)             │        \u001b[38;5;34m23,552\u001b[0m │\n",
       "├─────────────────────────────────┼────────────────────────┼───────────────┤\n",
       "│ dense_2 (\u001b[38;5;33mDense\u001b[0m)                 │ (\u001b[38;5;45mNone\u001b[0m, \u001b[38;5;34m32\u001b[0m)             │         \u001b[38;5;34m2,080\u001b[0m │\n",
       "├─────────────────────────────────┼────────────────────────┼───────────────┤\n",
       "│ dense_3 (\u001b[38;5;33mDense\u001b[0m)                 │ (\u001b[38;5;45mNone\u001b[0m, \u001b[38;5;34m2\u001b[0m)              │            \u001b[38;5;34m66\u001b[0m │\n",
       "└─────────────────────────────────┴────────────────────────┴───────────────┘\n"
      ]
     },
     "metadata": {},
     "output_type": "display_data"
    },
    {
     "data": {
      "text/html": [
       "<pre style=\"white-space:pre;overflow-x:auto;line-height:normal;font-family:Menlo,'DejaVu Sans Mono',consolas,'Courier New',monospace\"><span style=\"font-weight: bold\"> Total params: </span><span style=\"color: #00af00; text-decoration-color: #00af00\">25,698</span> (100.38 KB)\n",
       "</pre>\n"
      ],
      "text/plain": [
       "\u001b[1m Total params: \u001b[0m\u001b[38;5;34m25,698\u001b[0m (100.38 KB)\n"
      ]
     },
     "metadata": {},
     "output_type": "display_data"
    },
    {
     "data": {
      "text/html": [
       "<pre style=\"white-space:pre;overflow-x:auto;line-height:normal;font-family:Menlo,'DejaVu Sans Mono',consolas,'Courier New',monospace\"><span style=\"font-weight: bold\"> Trainable params: </span><span style=\"color: #00af00; text-decoration-color: #00af00\">25,698</span> (100.38 KB)\n",
       "</pre>\n"
      ],
      "text/plain": [
       "\u001b[1m Trainable params: \u001b[0m\u001b[38;5;34m25,698\u001b[0m (100.38 KB)\n"
      ]
     },
     "metadata": {},
     "output_type": "display_data"
    },
    {
     "data": {
      "text/html": [
       "<pre style=\"white-space:pre;overflow-x:auto;line-height:normal;font-family:Menlo,'DejaVu Sans Mono',consolas,'Courier New',monospace\"><span style=\"font-weight: bold\"> Non-trainable params: </span><span style=\"color: #00af00; text-decoration-color: #00af00\">0</span> (0.00 B)\n",
       "</pre>\n"
      ],
      "text/plain": [
       "\u001b[1m Non-trainable params: \u001b[0m\u001b[38;5;34m0\u001b[0m (0.00 B)\n"
      ]
     },
     "metadata": {},
     "output_type": "display_data"
    },
    {
     "name": "stdout",
     "output_type": "stream",
     "text": [
      "Epoch 1/30\n",
      "\u001b[1m5/5\u001b[0m \u001b[32m━━━━━━━━━━━━━━━━━━━━\u001b[0m\u001b[37m\u001b[0m \u001b[1m1s\u001b[0m 57ms/step - loss: 0.1342 - val_loss: 0.0683\n",
      "Epoch 2/30\n",
      "\u001b[1m5/5\u001b[0m \u001b[32m━━━━━━━━━━━━━━━━━━━━\u001b[0m\u001b[37m\u001b[0m \u001b[1m0s\u001b[0m 16ms/step - loss: 0.0406 - val_loss: 0.0833\n",
      "Epoch 3/30\n",
      "\u001b[1m5/5\u001b[0m \u001b[32m━━━━━━━━━━━━━━━━━━━━\u001b[0m\u001b[37m\u001b[0m \u001b[1m0s\u001b[0m 17ms/step - loss: 0.0306 - val_loss: 0.0636\n",
      "Epoch 4/30\n",
      "\u001b[1m5/5\u001b[0m \u001b[32m━━━━━━━━━━━━━━━━━━━━\u001b[0m\u001b[37m\u001b[0m \u001b[1m0s\u001b[0m 17ms/step - loss: 0.0328 - val_loss: 0.0620\n",
      "Epoch 5/30\n",
      "\u001b[1m5/5\u001b[0m \u001b[32m━━━━━━━━━━━━━━━━━━━━\u001b[0m\u001b[37m\u001b[0m \u001b[1m0s\u001b[0m 23ms/step - loss: 0.0215 - val_loss: 0.0777\n",
      "Epoch 6/30\n",
      "\u001b[1m5/5\u001b[0m \u001b[32m━━━━━━━━━━━━━━━━━━━━\u001b[0m\u001b[37m\u001b[0m \u001b[1m0s\u001b[0m 16ms/step - loss: 0.0203 - val_loss: 0.0883\n",
      "Epoch 7/30\n",
      "\u001b[1m5/5\u001b[0m \u001b[32m━━━━━━━━━━━━━━━━━━━━\u001b[0m\u001b[37m\u001b[0m \u001b[1m0s\u001b[0m 17ms/step - loss: 0.0187 - val_loss: 0.0858\n",
      "Epoch 8/30\n",
      "\u001b[1m5/5\u001b[0m \u001b[32m━━━━━━━━━━━━━━━━━━━━\u001b[0m\u001b[37m\u001b[0m \u001b[1m0s\u001b[0m 17ms/step - loss: 0.0136 - val_loss: 0.0961\n",
      "Epoch 9/30\n",
      "\u001b[1m5/5\u001b[0m \u001b[32m━━━━━━━━━━━━━━━━━━━━\u001b[0m\u001b[37m\u001b[0m \u001b[1m0s\u001b[0m 17ms/step - loss: 0.0136 - val_loss: 0.0949\n",
      "Epoch 10/30\n",
      "\u001b[1m5/5\u001b[0m \u001b[32m━━━━━━━━━━━━━━━━━━━━\u001b[0m\u001b[37m\u001b[0m \u001b[1m0s\u001b[0m 16ms/step - loss: 0.0183 - val_loss: 0.0824\n",
      "Epoch 11/30\n",
      "\u001b[1m5/5\u001b[0m \u001b[32m━━━━━━━━━━━━━━━━━━━━\u001b[0m\u001b[37m\u001b[0m \u001b[1m0s\u001b[0m 15ms/step - loss: 0.0153 - val_loss: 0.0968\n",
      "Epoch 12/30\n",
      "\u001b[1m5/5\u001b[0m \u001b[32m━━━━━━━━━━━━━━━━━━━━\u001b[0m\u001b[37m\u001b[0m \u001b[1m0s\u001b[0m 15ms/step - loss: 0.0145 - val_loss: 0.1025\n",
      "Epoch 13/30\n",
      "\u001b[1m5/5\u001b[0m \u001b[32m━━━━━━━━━━━━━━━━━━━━\u001b[0m\u001b[37m\u001b[0m \u001b[1m0s\u001b[0m 16ms/step - loss: 0.0118 - val_loss: 0.0909\n",
      "Epoch 14/30\n",
      "\u001b[1m5/5\u001b[0m \u001b[32m━━━━━━━━━━━━━━━━━━━━\u001b[0m\u001b[37m\u001b[0m \u001b[1m0s\u001b[0m 16ms/step - loss: 0.0128 - val_loss: 0.0905\n",
      "Epoch 15/30\n",
      "\u001b[1m5/5\u001b[0m \u001b[32m━━━━━━━━━━━━━━━━━━━━\u001b[0m\u001b[37m\u001b[0m \u001b[1m0s\u001b[0m 16ms/step - loss: 0.0131 - val_loss: 0.1121\n",
      "Epoch 16/30\n",
      "\u001b[1m5/5\u001b[0m \u001b[32m━━━━━━━━━━━━━━━━━━━━\u001b[0m\u001b[37m\u001b[0m \u001b[1m0s\u001b[0m 16ms/step - loss: 0.0140 - val_loss: 0.0863\n",
      "Epoch 17/30\n",
      "\u001b[1m5/5\u001b[0m \u001b[32m━━━━━━━━━━━━━━━━━━━━\u001b[0m\u001b[37m\u001b[0m \u001b[1m0s\u001b[0m 16ms/step - loss: 0.0124 - val_loss: 0.0984\n",
      "Epoch 18/30\n",
      "\u001b[1m5/5\u001b[0m \u001b[32m━━━━━━━━━━━━━━━━━━━━\u001b[0m\u001b[37m\u001b[0m \u001b[1m0s\u001b[0m 16ms/step - loss: 0.0126 - val_loss: 0.1051\n",
      "Epoch 19/30\n",
      "\u001b[1m5/5\u001b[0m \u001b[32m━━━━━━━━━━━━━━━━━━━━\u001b[0m\u001b[37m\u001b[0m \u001b[1m0s\u001b[0m 16ms/step - loss: 0.0131 - val_loss: 0.0925\n",
      "Epoch 20/30\n",
      "\u001b[1m5/5\u001b[0m \u001b[32m━━━━━━━━━━━━━━━━━━━━\u001b[0m\u001b[37m\u001b[0m \u001b[1m0s\u001b[0m 17ms/step - loss: 0.0106 - val_loss: 0.0983\n",
      "Epoch 21/30\n",
      "\u001b[1m5/5\u001b[0m \u001b[32m━━━━━━━━━━━━━━━━━━━━\u001b[0m\u001b[37m\u001b[0m \u001b[1m0s\u001b[0m 17ms/step - loss: 0.0117 - val_loss: 0.1063\n",
      "Epoch 22/30\n",
      "\u001b[1m5/5\u001b[0m \u001b[32m━━━━━━━━━━━━━━━━━━━━\u001b[0m\u001b[37m\u001b[0m \u001b[1m0s\u001b[0m 18ms/step - loss: 0.0113 - val_loss: 0.0912\n",
      "Epoch 23/30\n",
      "\u001b[1m5/5\u001b[0m \u001b[32m━━━━━━━━━━━━━━━━━━━━\u001b[0m\u001b[37m\u001b[0m \u001b[1m0s\u001b[0m 19ms/step - loss: 0.0103 - val_loss: 0.1078\n",
      "Epoch 24/30\n",
      "\u001b[1m5/5\u001b[0m \u001b[32m━━━━━━━━━━━━━━━━━━━━\u001b[0m\u001b[37m\u001b[0m \u001b[1m0s\u001b[0m 18ms/step - loss: 0.0099 - val_loss: 0.0975\n",
      "Epoch 25/30\n",
      "\u001b[1m5/5\u001b[0m \u001b[32m━━━━━━━━━━━━━━━━━━━━\u001b[0m\u001b[37m\u001b[0m \u001b[1m0s\u001b[0m 18ms/step - loss: 0.0082 - val_loss: 0.1000\n",
      "Epoch 26/30\n",
      "\u001b[1m5/5\u001b[0m \u001b[32m━━━━━━━━━━━━━━━━━━━━\u001b[0m\u001b[37m\u001b[0m \u001b[1m0s\u001b[0m 16ms/step - loss: 0.0086 - val_loss: 0.1066\n",
      "Epoch 27/30\n",
      "\u001b[1m5/5\u001b[0m \u001b[32m━━━━━━━━━━━━━━━━━━━━\u001b[0m\u001b[37m\u001b[0m \u001b[1m0s\u001b[0m 17ms/step - loss: 0.0091 - val_loss: 0.0939\n",
      "Epoch 28/30\n",
      "\u001b[1m5/5\u001b[0m \u001b[32m━━━━━━━━━━━━━━━━━━━━\u001b[0m\u001b[37m\u001b[0m \u001b[1m0s\u001b[0m 17ms/step - loss: 0.0090 - val_loss: 0.0980\n",
      "Epoch 29/30\n",
      "\u001b[1m5/5\u001b[0m \u001b[32m━━━━━━━━━━━━━━━━━━━━\u001b[0m\u001b[37m\u001b[0m \u001b[1m0s\u001b[0m 17ms/step - loss: 0.0072 - val_loss: 0.1075\n",
      "Epoch 30/30\n",
      "\u001b[1m5/5\u001b[0m \u001b[32m━━━━━━━━━━━━━━━━━━━━\u001b[0m\u001b[37m\u001b[0m \u001b[1m0s\u001b[0m 17ms/step - loss: 0.0087 - val_loss: 0.0959\n",
      "\u001b[1m1/1\u001b[0m \u001b[32m━━━━━━━━━━━━━━━━━━━━\u001b[0m\u001b[37m\u001b[0m \u001b[1m0s\u001b[0m 116ms/step\n"
     ]
    },
    {
     "data": {
      "image/png": "[encoded data removed]",
      "text/plain": [
       "<Figure size 1400x600 with 2 Axes>"
      ]
     },
     "metadata": {},
     "output_type": "display_data"
    },
    {
     "name": "stdout",
     "output_type": "stream",
     "text": [
      "Close Price MSE: 4694.689048957891\n",
      "Close Price R²: -0.900282143154016\n",
      "MACD MSE: 0.0017270736767122997\n",
      "MACD R²: -1.1838478205131637\n"
     ]
    }
   ],
   "source": [
    "df_cass_encoded['target_close'] = df_cass_encoded['close'].shift(-1)\n",
    "df_cass_encoded['target_macd'] = df_cass_encoded['MACD'].shift(-1)\n",
    "# identify all of the features and our targets list\n",
    "features = ['adj_close', 'close', 'high', 'low', 'open', 'previous_close','SMA_5', 'EMA_5', 'RSI_5', 'BB_Middle', 'BB_Std', 'BB_Upper', 'BB_Lower','MACD_Signal', 'ATR_5', \n",
    "            'year', 'month', 'weekday', 'day', 'time_of_day','ticker_AAPL', 'ticker_AMZN', 'ticker_GOOGL', 'ticker_META','ticker_MSFT', 'ticker_NVDA', 'ticker_TSLA']\n",
    "targets = ['target_close', 'target_macd']\n",
    "\n",
    "#calling the min max standard scaler\n",
    "feature_scaler = MinMaxScaler()\n",
    "target_scaler = MinMaxScaler()\n",
    "scaled_real_features = feature_scaler.fit_transform(df_cass_encoded[features])\n",
    "scaled_real_targets = target_scaler.fit_transform(df_cass_encoded[targets])\n",
    "\n",
    "#creating LSTM sequences which are 10 time steps long\n",
    "def create_sequences(features, targets, sequence_length=10):\n",
    "    X, y = [], []\n",
    "    for i in range(len(features) - sequence_length):\n",
    "        X.append(features[i:i+sequence_length])\n",
    "        y.append(targets[i+sequence_length])\n",
    "    return np.array(X), np.array(y)\n",
    "X, y = create_sequences(scaled_real_features, scaled_real_targets, sequence_length=10)\n",
    "\n",
    "train_size = int(len(X) * 0.8)\n",
    "X_train, X_test = X[:train_size], X[train_size:]\n",
    "y_train, y_test = y[:train_size], y[train_size:]\n",
    "\n",
    "# creating the LSTM model\n",
    "model = Sequential([LSTM(64, input_shape=(X_train.shape[1], X_train.shape[2]), return_sequences=False),Dense(32, activation='relu'),Dense(y_train.shape[1])])\n",
    "\n",
    "model.compile(optimizer='adam', loss='mse')\n",
    "model.summary()\n",
    "\n",
    "#fitting the model\n",
    "history = model.fit(X_train, y_train, epochs=30, batch_size=16, validation_split=0.2)\n",
    "\n",
    "#model prediction and inverse scaling\n",
    "y_pred_scaled = model.predict(X_test)\n",
    "y_pred = target_scaler.inverse_transform(y_pred_scaled)\n",
    "y_test_orig = target_scaler.inverse_transform(y_test)\n",
    "\n",
    "# extracting the target variables\n",
    "pred_close, pred_macd = y_pred[:, 0], y_pred[:, 1]\n",
    "true_close, true_macd = y_test_orig[:, 0], y_test_orig[:, 1]\n",
    "\n",
    "#converting to numpy in case theres any nans then filter it out\n",
    "pred_close = np.array(pred_close)\n",
    "true_close = np.array(true_close)\n",
    "pred_macd = np.array(pred_macd)\n",
    "true_macd = np.array(true_macd)\n",
    "valid_close = ~np.isnan(pred_close) & ~np.isnan(true_close)\n",
    "valid_macd = ~np.isnan(pred_macd) & ~np.isnan(true_macd)\n",
    "\n",
    "#fit the filtering\n",
    "true_close_clean = true_close[valid_close]\n",
    "pred_close_clean = pred_close[valid_close]\n",
    "true_macd_clean = true_macd[valid_macd]\n",
    "pred_macd_clean = pred_macd[valid_macd]\n",
    "\n",
    "#settuing up the plot figure\n",
    "plt.figure(figsize=(14, 6))\n",
    "\n",
    "# plotting close price for the LSTM model\n",
    "plt.subplot(1, 2, 1)\n",
    "plt.plot(true_close_clean, label='True Close Price', color='green')\n",
    "plt.plot(pred_close_clean, label='Predicted Close Price', color='blue')\n",
    "plt.title('Close Price: Actual vs Predicted')\n",
    "plt.xlabel('Time Steps')\n",
    "plt.ylabel('Price')\n",
    "plt.legend()\n",
    "\n",
    "# plotting macd for the LSTM model\n",
    "plt.subplot(1, 2, 2)\n",
    "plt.plot(true_macd_clean, label='True MACD', color='green')\n",
    "plt.plot(pred_macd_clean, label='Predicted MACD', color='blue')\n",
    "plt.title('MACD: Actual vs Predicted')\n",
    "plt.xlabel('Time Steps')\n",
    "plt.ylabel('MACD Value')\n",
    "plt.legend()\n",
    "plt.tight_layout()\n",
    "plt.show()\n",
    "\n",
    "# printing evaluation statments for MSE and R2 for both close price and macd\n",
    "print(\"Close Price MSE:\", mean_squared_error(true_close_clean, pred_close_clean))\n",
    "print(\"Close Price R²:\", r2_score(true_close_clean, pred_close_clean))\n",
    "print(\"MACD MSE:\", mean_squared_error(true_macd_clean, pred_macd_clean))\n",
    "print(\"MACD R²:\", r2_score(true_macd_clean, pred_macd_clean))\n",
    "\n",
    "\n"
   ]
  },
  {
   "cell_type": "markdown",
   "metadata": {},
   "source": [
    "## importing libomp if you are on macos for the XGBoosting (1/2nd half of real time ensemble model)"
   ]
  },
  {
   "cell_type": "code",
   "execution_count": 38,
   "metadata": {},
   "outputs": [],
   "source": [
    "# remove the # below if you have a mac and are running in vscode!\n",
    "# !brew install libomp"
   ]
  },
  {
   "cell_type": "markdown",
   "metadata": {},
   "source": [
    "## Creating the code for xgboosting ,  80:20 train:test ratio"
   ]
  },
  {
   "cell_type": "code",
   "execution_count": 42,
   "metadata": {},
   "outputs": [
    {
     "data": {
      "image/png": "[encoded data removed]",
      "text/plain": [
       "<Figure size 1400x600 with 2 Axes>"
      ]
     },
     "metadata": {},
     "output_type": "display_data"
    },
    {
     "name": "stdout",
     "output_type": "stream",
     "text": [
      "Close Price MSE: 1333.088437804885\n",
      "Close Price R²: 0.6574991396993016\n",
      "MACD MSE: 0.0006624203659017152\n",
      "MACD R²: -0.02320360325565618\n"
     ]
    }
   ],
   "source": [
    "import pandas as pd\n",
    "import numpy as np\n",
    "import matplotlib.pyplot as plt\n",
    "from sklearn.preprocessing import StandardScaler\n",
    "from sklearn.model_selection import train_test_split\n",
    "from sklearn.metrics import mean_squared_error, r2_score\n",
    "from xgboost import XGBRegressor\n",
    "\n",
    "# === Step 1: Define targets (next timestep prediction) ===\n",
    "df_cass_encoded['target_close'] = df_cass_encoded['close'].shift(-1)\n",
    "df_cass_encoded['target_macd'] = df_cass_encoded['MACD'].shift(-1)\n",
    "df_cass_encoded.dropna(subset=['target_close', 'target_macd'], inplace=True)\n",
    "\n",
    "# === Step 2: Feature selection (avoid multicollinearity but preserve signal strength) ===\n",
    "features = [\n",
    "    'close', 'high', 'low', 'open', 'previous_close',\n",
    "    'SMA_5', 'EMA_5', 'RSI_5', 'BB_Upper', 'BB_Lower',\n",
    "    'MACD_Signal', 'ATR_5', 'time_of_day',\n",
    "    'ticker_AAPL', 'ticker_AMZN', 'ticker_GOOGL', \n",
    "    'ticker_META', 'ticker_MSFT', 'ticker_NVDA', 'ticker_TSLA'\n",
    "]\n",
    "targets = ['target_close', 'target_macd']\n",
    "\n",
    "# === Step 3: Scaling ===\n",
    "feature_scaler = StandardScaler()\n",
    "target_scaler = StandardScaler()\n",
    "X = feature_scaler.fit_transform(df_cass_encoded[features])\n",
    "y = target_scaler.fit_transform(df_cass_encoded[targets])\n",
    "\n",
    "# === Step 4: Train-test split (no shuffling for time series) ===\n",
    "X_train, X_test, y_train, y_test = train_test_split(X, y, test_size=0.2, shuffle=False)\n",
    "\n",
    "# === Step 5: XGBoost Regressor (tuned for low-latency real-time) ===\n",
    "xgb_model = XGBRegressor(\n",
    "    n_estimators=80,  # slightly reduced\n",
    "    max_depth=3,\n",
    "    learning_rate=0.08,\n",
    "    subsample=0.9,\n",
    "    colsample_bytree=0.8,\n",
    "    objective='reg:squarederror',\n",
    "    random_state=42\n",
    ")\n",
    "xgb_model.fit(X_train, y_train)\n",
    "\n",
    "# === Step 6: Prediction & Evaluation ===\n",
    "y_pred = xgb_model.predict(X_test)\n",
    "y_test_orig = target_scaler.inverse_transform(y_test)\n",
    "y_pred_orig = target_scaler.inverse_transform(y_pred)\n",
    "\n",
    "true_close, true_macd = y_test_orig[:, 0], y_test_orig[:, 1]\n",
    "pred_close, pred_macd = y_pred_orig[:, 0], y_pred_orig[:, 1]\n",
    "\n",
    "# === Step 7: Metrics ===\n",
    "close_mse = mean_squared_error(true_close, pred_close)\n",
    "close_r2 = r2_score(true_close, pred_close)\n",
    "macd_mse = mean_squared_error(true_macd, pred_macd)\n",
    "macd_r2 = r2_score(true_macd, pred_macd)\n",
    "\n",
    "\n",
    "# === Step 8: Visualization ===\n",
    "plt.figure(figsize=(14, 6))\n",
    "\n",
    "plt.subplot(1, 2, 1)\n",
    "plt.plot(true_close, label='True Close Price', color='green')\n",
    "plt.plot(pred_close, label='Predicted Close Price', color='blue')\n",
    "plt.title('Close Price: Actual vs Predicted (XGBoost)')\n",
    "plt.xlabel('Time Steps')\n",
    "plt.ylabel('Price')\n",
    "plt.legend()\n",
    "\n",
    "plt.subplot(1, 2, 2)\n",
    "plt.plot(true_macd, label='True MACD', color='green')\n",
    "plt.plot(pred_macd, label='Predicted MACD', color='blue')\n",
    "plt.title('MACD: Actual vs Predicted (XGBoost)')\n",
    "plt.xlabel('Time Steps')\n",
    "plt.ylabel('MACD Value')\n",
    "plt.legend()\n",
    "\n",
    "plt.tight_layout()\n",
    "plt.show()\n",
    "\n",
    "print(\"Close Price MSE:\", close_mse)\n",
    "print(\"Close Price R²:\", close_r2)\n",
    "print(\"MACD MSE:\", macd_mse)\n",
    "print(\"MACD R²:\", macd_r2)\n"
   ]
  },
  {
   "cell_type": "markdown",
   "metadata": {},
   "source": [
    "## Ensembling both models together to get a more consistent result. Applying weighted average ensemble principles since LSTM is better at close prediction but XGBoosting is better at MACD"
   ]
  },
  {
   "cell_type": "code",
   "execution_count": 43,
   "metadata": {},
   "outputs": [
    {
     "data": {
      "image/png": "[encoded data removed]",
      "text/plain": [
       "<Figure size 1400x600 with 2 Axes>"
      ]
     },
     "metadata": {},
     "output_type": "display_data"
    },
    {
     "name": "stdout",
     "output_type": "stream",
     "text": [
      "ENSEMBLE Close MSE: 579.5685833897065\n",
      "ENSEMBLE Close R²: 0.855590657252584\n",
      "ENSEMBLE MACD MSE: 0.0005729673087317065\n",
      "ENSEMBLE MACD R²: -0.04771675567170908\n"
     ]
    }
   ],
   "source": [
    "import numpy as np\n",
    "import matplotlib.pyplot as plt\n",
    "from sklearn.metrics import mean_squared_error, r2_score\n",
    "\n",
    "# === Step 1: Align array lengths for ensembling ===\n",
    "min_len = min(len(pred_close_clean), len(pred_close))\n",
    "\n",
    "true_close_aligned = true_close[:min_len]\n",
    "true_macd_aligned = true_macd[:min_len]\n",
    "\n",
    "pred_close_clean = pred_close_clean[:min_len]  # LSTM\n",
    "pred_macd_clean = pred_macd_clean[:min_len]\n",
    "\n",
    "pred_close = pred_close[:min_len]  # XGBoost\n",
    "pred_macd = pred_macd[:min_len]\n",
    "\n",
    "# === Step 2: Weighted Average Ensemble ===\n",
    "# Example weights: LSTM 60%, XGBoost 40% for close price, and flipped for MACD\n",
    "w_lstm_close = 0.7\n",
    "w_xgb_close = 0.3\n",
    "\n",
    "w_lstm_macd = 0.3\n",
    "w_xgb_macd = 0.7\n",
    "\n",
    "ensemble_pred_close = (w_lstm_close * pred_close_clean) + (w_xgb_close * pred_close)\n",
    "ensemble_pred_macd = (w_lstm_macd * pred_macd_clean) + (w_xgb_macd * pred_macd)\n",
    "\n",
    "# === Step 3: Evaluate Ensemble Performance ===\n",
    "close_mse = mean_squared_error(true_close_aligned, ensemble_pred_close)\n",
    "close_r2 = r2_score(true_close_aligned, ensemble_pred_close)\n",
    "\n",
    "macd_mse = mean_squared_error(true_macd_aligned, ensemble_pred_macd)\n",
    "macd_r2 = r2_score(true_macd_aligned, ensemble_pred_macd)\n",
    "\n",
    "# === Step 4: Plotting ===\n",
    "plt.figure(figsize=(14, 6))\n",
    "\n",
    "# Plot Close Price\n",
    "plt.subplot(1, 2, 1)\n",
    "plt.plot(true_close_aligned, label='True Close Price', color='green')\n",
    "plt.plot(ensemble_pred_close, label='Ensemble Close Prediction', color='blue')\n",
    "plt.title('Close Price: Actual vs Ensemble Prediction')\n",
    "plt.xlabel('Time Steps')\n",
    "plt.ylabel('Price')\n",
    "plt.legend()\n",
    "\n",
    "# Plot MACD\n",
    "plt.subplot(1, 2, 2)\n",
    "plt.plot(true_macd_aligned, label='True MACD', color='green')\n",
    "plt.plot(ensemble_pred_macd, label='Ensemble MACD Prediction', color='blue')\n",
    "plt.title('MACD: Actual vs Ensemble Prediction')\n",
    "plt.xlabel('Time Steps')\n",
    "plt.ylabel('MACD Value')\n",
    "plt.legend()\n",
    "\n",
    "plt.tight_layout()\n",
    "plt.show()\n",
    "\n",
    "print(\"ENSEMBLE Close MSE:\", close_mse)\n",
    "print(\"ENSEMBLE Close R²:\", close_r2)\n",
    "print(\"ENSEMBLE MACD MSE:\", macd_mse)\n",
    "print(\"ENSEMBLE MACD R²:\", macd_r2)\n"
   ]
  },
  {
   "cell_type": "markdown",
   "metadata": {},
   "source": [
    "versus running LSTM 5 times averaging it. then running xgboosting 5 times, averaging it. then ensembling both together with weighted. It would be beneficial beacuase if we run:\n",
    "\n",
    "Running 5x LSTM we are averaging over the 5 results. → reduces the noise/variance in deep model outputs\n",
    "\n",
    "Running 5x XGBoost averaging over the 5 results again. → stabilizes over tree splits and random seeds\n",
    "\n",
    "Afterwards we combine the best of both worlds. Weighted ensemble → combines sequential insight (LSTM) and pattern recognition (XGB)"
   ]
  },
  {
   "cell_type": "code",
   "execution_count": null,
   "metadata": {},
   "outputs": [],
   "source": []
  }
 ],
 "metadata": {
  "kernelspec": {
   "display_name": "Python 3",
   "language": "python",
   "name": "python3"
  },
  "language_info": {
   "codemirror_mode": {
    "name": "ipython",
    "version": 3
   },
   "file_extension": ".py",
   "mimetype": "text/x-python",
   "name": "python",
   "nbconvert_exporter": "python",
   "pygments_lexer": "ipython3",
   "version": "3.9.6"
  }
 },
 "nbformat": 4,
 "nbformat_minor": 2
}
