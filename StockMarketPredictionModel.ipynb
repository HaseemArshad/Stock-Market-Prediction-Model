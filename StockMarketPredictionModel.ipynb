{
 "cells": [
  {
   "cell_type": "markdown",
   "metadata": {},
   "source": [
    "# Stock Market Prediction Model of the Magnificient Seven "
   ]
  },
  {
   "cell_type": "markdown",
   "metadata": {},
   "source": [
    "#pip install the dependencies from requirements. May take up to 12 minutes"
   ]
  },
  {
   "cell_type": "code",
   "execution_count": 1,
   "metadata": {},
   "outputs": [
    {
     "name": "stdout",
     "output_type": "stream",
     "text": [
      "Defaulting to user installation because normal site-packages is not writeable\n",
      "Requirement already satisfied: pandas in /Users/haseemarshad/Library/Python/3.9/lib/python/site-packages (from -r requirements.txt (line 1)) (2.2.3)\n",
      "Requirement already satisfied: finnhub-python in /Users/haseemarshad/Library/Python/3.9/lib/python/site-packages (from -r requirements.txt (line 2)) (2.4.23)\n",
      "Requirement already satisfied: numpy in /Users/haseemarshad/Library/Python/3.9/lib/python/site-packages (from -r requirements.txt (line 3)) (2.0.2)\n",
      "Requirement already satisfied: cassandra-driver in /Users/haseemarshad/Library/Python/3.9/lib/python/site-packages (from -r requirements.txt (line 4)) (3.29.2)\n",
      "Requirement already satisfied: seaborn in /Users/haseemarshad/Library/Python/3.9/lib/python/site-packages (from -r requirements.txt (line 5)) (0.13.2)\n",
      "Requirement already satisfied: matplotlib in /Users/haseemarshad/Library/Python/3.9/lib/python/site-packages (from -r requirements.txt (line 6)) (3.9.4)\n",
      "Requirement already satisfied: plotly in /Users/haseemarshad/Library/Python/3.9/lib/python/site-packages (from -r requirements.txt (line 7)) (6.0.1)\n",
      "Requirement already satisfied: statsmodels in /Users/haseemarshad/Library/Python/3.9/lib/python/site-packages (from -r requirements.txt (line 8)) (0.14.4)\n",
      "Requirement already satisfied: tensorflow in /Users/haseemarshad/Library/Python/3.9/lib/python/site-packages (from -r requirements.txt (line 9)) (2.19.0)\n",
      "Requirement already satisfied: yfinance in /Users/haseemarshad/Library/Python/3.9/lib/python/site-packages (from -r requirements.txt (line 10)) (0.2.55)\n",
      "Requirement already satisfied: nbformat in /Users/haseemarshad/Library/Python/3.9/lib/python/site-packages (from -r requirements.txt (line 11)) (5.10.4)\n",
      "Requirement already satisfied: pytz>=2020.1 in /Users/haseemarshad/Library/Python/3.9/lib/python/site-packages (from pandas->-r requirements.txt (line 1)) (2025.1)\n",
      "Requirement already satisfied: python-dateutil>=2.8.2 in /Users/haseemarshad/Library/Python/3.9/lib/python/site-packages (from pandas->-r requirements.txt (line 1)) (2.9.0.post0)\n",
      "Requirement already satisfied: tzdata>=2022.7 in /Users/haseemarshad/Library/Python/3.9/lib/python/site-packages (from pandas->-r requirements.txt (line 1)) (2025.2)\n",
      "Requirement already satisfied: requests>=2.22.0 in /Users/haseemarshad/Library/Python/3.9/lib/python/site-packages (from finnhub-python->-r requirements.txt (line 2)) (2.32.3)\n",
      "Requirement already satisfied: geomet<0.3,>=0.1 in /Users/haseemarshad/Library/Python/3.9/lib/python/site-packages (from cassandra-driver->-r requirements.txt (line 4)) (0.2.1.post1)\n",
      "Requirement already satisfied: kiwisolver>=1.3.1 in /Users/haseemarshad/Library/Python/3.9/lib/python/site-packages (from matplotlib->-r requirements.txt (line 6)) (1.4.7)\n",
      "Requirement already satisfied: pillow>=8 in /Users/haseemarshad/Library/Python/3.9/lib/python/site-packages (from matplotlib->-r requirements.txt (line 6)) (11.1.0)\n",
      "Requirement already satisfied: importlib-resources>=3.2.0 in /Users/haseemarshad/Library/Python/3.9/lib/python/site-packages (from matplotlib->-r requirements.txt (line 6)) (6.5.2)\n",
      "Requirement already satisfied: fonttools>=4.22.0 in /Users/haseemarshad/Library/Python/3.9/lib/python/site-packages (from matplotlib->-r requirements.txt (line 6)) (4.56.0)\n",
      "Requirement already satisfied: contourpy>=1.0.1 in /Users/haseemarshad/Library/Python/3.9/lib/python/site-packages (from matplotlib->-r requirements.txt (line 6)) (1.3.0)\n",
      "Requirement already satisfied: pyparsing>=2.3.1 in /Users/haseemarshad/Library/Python/3.9/lib/python/site-packages (from matplotlib->-r requirements.txt (line 6)) (3.2.2)\n",
      "Requirement already satisfied: packaging>=20.0 in /Users/haseemarshad/Library/Python/3.9/lib/python/site-packages (from matplotlib->-r requirements.txt (line 6)) (24.2)\n",
      "Requirement already satisfied: cycler>=0.10 in /Users/haseemarshad/Library/Python/3.9/lib/python/site-packages (from matplotlib->-r requirements.txt (line 6)) (0.12.1)\n",
      "Requirement already satisfied: narwhals>=1.15.1 in /Users/haseemarshad/Library/Python/3.9/lib/python/site-packages (from plotly->-r requirements.txt (line 7)) (1.32.0)\n",
      "Requirement already satisfied: patsy>=0.5.6 in /Users/haseemarshad/Library/Python/3.9/lib/python/site-packages (from statsmodels->-r requirements.txt (line 8)) (1.0.1)\n",
      "Requirement already satisfied: scipy!=1.9.2,>=1.8 in /Users/haseemarshad/Library/Python/3.9/lib/python/site-packages (from statsmodels->-r requirements.txt (line 8)) (1.13.1)\n",
      "Requirement already satisfied: keras>=3.5.0 in /Users/haseemarshad/Library/Python/3.9/lib/python/site-packages (from tensorflow->-r requirements.txt (line 9)) (3.9.0)\n",
      "Requirement already satisfied: libclang>=13.0.0 in /Users/haseemarshad/Library/Python/3.9/lib/python/site-packages (from tensorflow->-r requirements.txt (line 9)) (18.1.1)\n",
      "Requirement already satisfied: tensorboard~=2.19.0 in /Users/haseemarshad/Library/Python/3.9/lib/python/site-packages (from tensorflow->-r requirements.txt (line 9)) (2.19.0)\n",
      "Requirement already satisfied: astunparse>=1.6.0 in /Users/haseemarshad/Library/Python/3.9/lib/python/site-packages (from tensorflow->-r requirements.txt (line 9)) (1.6.3)\n",
      "Requirement already satisfied: flatbuffers>=24.3.25 in /Users/haseemarshad/Library/Python/3.9/lib/python/site-packages (from tensorflow->-r requirements.txt (line 9)) (25.2.10)\n",
      "Requirement already satisfied: protobuf!=4.21.0,!=4.21.1,!=4.21.2,!=4.21.3,!=4.21.4,!=4.21.5,<6.0.0dev,>=3.20.3 in /Users/haseemarshad/Library/Python/3.9/lib/python/site-packages (from tensorflow->-r requirements.txt (line 9)) (5.29.4)\n",
      "Requirement already satisfied: ml-dtypes<1.0.0,>=0.5.1 in /Users/haseemarshad/Library/Python/3.9/lib/python/site-packages (from tensorflow->-r requirements.txt (line 9)) (0.5.1)\n",
      "Requirement already satisfied: typing-extensions>=3.6.6 in /Users/haseemarshad/Library/Python/3.9/lib/python/site-packages (from tensorflow->-r requirements.txt (line 9)) (4.12.2)\n",
      "Requirement already satisfied: grpcio<2.0,>=1.24.3 in /Users/haseemarshad/Library/Python/3.9/lib/python/site-packages (from tensorflow->-r requirements.txt (line 9)) (1.71.0)\n",
      "Requirement already satisfied: six>=1.12.0 in /Library/Developer/CommandLineTools/Library/Frameworks/Python3.framework/Versions/3.9/lib/python3.9/site-packages (from tensorflow->-r requirements.txt (line 9)) (1.15.0)\n",
      "Requirement already satisfied: wrapt>=1.11.0 in /Users/haseemarshad/Library/Python/3.9/lib/python/site-packages (from tensorflow->-r requirements.txt (line 9)) (1.17.2)\n",
      "Requirement already satisfied: setuptools in /Library/Developer/CommandLineTools/Library/Frameworks/Python3.framework/Versions/3.9/lib/python3.9/site-packages (from tensorflow->-r requirements.txt (line 9)) (58.0.4)\n",
      "Requirement already satisfied: opt-einsum>=2.3.2 in /Users/haseemarshad/Library/Python/3.9/lib/python/site-packages (from tensorflow->-r requirements.txt (line 9)) (3.4.0)\n",
      "Requirement already satisfied: google-pasta>=0.1.1 in /Users/haseemarshad/Library/Python/3.9/lib/python/site-packages (from tensorflow->-r requirements.txt (line 9)) (0.2.0)\n",
      "Requirement already satisfied: tensorflow-io-gcs-filesystem>=0.23.1 in /Users/haseemarshad/Library/Python/3.9/lib/python/site-packages (from tensorflow->-r requirements.txt (line 9)) (0.37.1)\n",
      "Requirement already satisfied: gast!=0.5.0,!=0.5.1,!=0.5.2,>=0.2.1 in /Users/haseemarshad/Library/Python/3.9/lib/python/site-packages (from tensorflow->-r requirements.txt (line 9)) (0.6.0)\n",
      "Requirement already satisfied: h5py>=3.11.0 in /Users/haseemarshad/Library/Python/3.9/lib/python/site-packages (from tensorflow->-r requirements.txt (line 9)) (3.13.0)\n",
      "Requirement already satisfied: termcolor>=1.1.0 in /Users/haseemarshad/Library/Python/3.9/lib/python/site-packages (from tensorflow->-r requirements.txt (line 9)) (2.5.0)\n",
      "Requirement already satisfied: absl-py>=1.0.0 in /Users/haseemarshad/Library/Python/3.9/lib/python/site-packages (from tensorflow->-r requirements.txt (line 9)) (2.2.0)\n",
      "Requirement already satisfied: frozendict>=2.3.4 in /Users/haseemarshad/Library/Python/3.9/lib/python/site-packages (from yfinance->-r requirements.txt (line 10)) (2.4.6)\n",
      "Requirement already satisfied: platformdirs>=2.0.0 in /Users/haseemarshad/Library/Python/3.9/lib/python/site-packages (from yfinance->-r requirements.txt (line 10)) (4.3.7)\n",
      "Requirement already satisfied: beautifulsoup4>=4.11.1 in /Users/haseemarshad/Library/Python/3.9/lib/python/site-packages (from yfinance->-r requirements.txt (line 10)) (4.13.3)\n",
      "Requirement already satisfied: peewee>=3.16.2 in /Users/haseemarshad/Library/Python/3.9/lib/python/site-packages (from yfinance->-r requirements.txt (line 10)) (3.17.9)\n",
      "Requirement already satisfied: multitasking>=0.0.7 in /Users/haseemarshad/Library/Python/3.9/lib/python/site-packages (from yfinance->-r requirements.txt (line 10)) (0.0.11)\n",
      "Requirement already satisfied: traitlets>=5.1 in /Users/haseemarshad/Library/Python/3.9/lib/python/site-packages (from nbformat->-r requirements.txt (line 11)) (5.14.3)\n",
      "Requirement already satisfied: jsonschema>=2.6 in /Users/haseemarshad/Library/Python/3.9/lib/python/site-packages (from nbformat->-r requirements.txt (line 11)) (4.23.0)\n",
      "Requirement already satisfied: jupyter-core!=5.0.*,>=4.12 in /Users/haseemarshad/Library/Python/3.9/lib/python/site-packages (from nbformat->-r requirements.txt (line 11)) (5.7.2)\n",
      "Requirement already satisfied: fastjsonschema>=2.15 in /Users/haseemarshad/Library/Python/3.9/lib/python/site-packages (from nbformat->-r requirements.txt (line 11)) (2.21.1)\n",
      "Requirement already satisfied: wheel<1.0,>=0.23.0 in /Library/Developer/CommandLineTools/Library/Frameworks/Python3.framework/Versions/3.9/lib/python3.9/site-packages (from astunparse>=1.6.0->tensorflow->-r requirements.txt (line 9)) (0.37.0)\n",
      "Requirement already satisfied: soupsieve>1.2 in /Users/haseemarshad/Library/Python/3.9/lib/python/site-packages (from beautifulsoup4>=4.11.1->yfinance->-r requirements.txt (line 10)) (2.6)\n",
      "Requirement already satisfied: click in /Users/haseemarshad/Library/Python/3.9/lib/python/site-packages (from geomet<0.3,>=0.1->cassandra-driver->-r requirements.txt (line 4)) (8.1.8)\n",
      "Requirement already satisfied: zipp>=3.1.0 in /Users/haseemarshad/Library/Python/3.9/lib/python/site-packages (from importlib-resources>=3.2.0->matplotlib->-r requirements.txt (line 6)) (3.21.0)\n",
      "Requirement already satisfied: rpds-py>=0.7.1 in /Users/haseemarshad/Library/Python/3.9/lib/python/site-packages (from jsonschema>=2.6->nbformat->-r requirements.txt (line 11)) (0.24.0)\n",
      "Requirement already satisfied: attrs>=22.2.0 in /Users/haseemarshad/Library/Python/3.9/lib/python/site-packages (from jsonschema>=2.6->nbformat->-r requirements.txt (line 11)) (25.3.0)\n",
      "Requirement already satisfied: referencing>=0.28.4 in /Users/haseemarshad/Library/Python/3.9/lib/python/site-packages (from jsonschema>=2.6->nbformat->-r requirements.txt (line 11)) (0.36.2)\n",
      "Requirement already satisfied: jsonschema-specifications>=2023.03.6 in /Users/haseemarshad/Library/Python/3.9/lib/python/site-packages (from jsonschema>=2.6->nbformat->-r requirements.txt (line 11)) (2024.10.1)\n",
      "Requirement already satisfied: optree in /Users/haseemarshad/Library/Python/3.9/lib/python/site-packages (from keras>=3.5.0->tensorflow->-r requirements.txt (line 9)) (0.14.1)\n",
      "Requirement already satisfied: rich in /Users/haseemarshad/Library/Python/3.9/lib/python/site-packages (from keras>=3.5.0->tensorflow->-r requirements.txt (line 9)) (13.9.4)\n",
      "Requirement already satisfied: namex in /Users/haseemarshad/Library/Python/3.9/lib/python/site-packages (from keras>=3.5.0->tensorflow->-r requirements.txt (line 9)) (0.0.8)\n",
      "Requirement already satisfied: certifi>=2017.4.17 in /Users/haseemarshad/Library/Python/3.9/lib/python/site-packages (from requests>=2.22.0->finnhub-python->-r requirements.txt (line 2)) (2025.1.31)\n",
      "Requirement already satisfied: charset-normalizer<4,>=2 in /Users/haseemarshad/Library/Python/3.9/lib/python/site-packages (from requests>=2.22.0->finnhub-python->-r requirements.txt (line 2)) (3.4.1)\n",
      "Requirement already satisfied: urllib3<3,>=1.21.1 in /Users/haseemarshad/Library/Python/3.9/lib/python/site-packages (from requests>=2.22.0->finnhub-python->-r requirements.txt (line 2)) (2.3.0)\n",
      "Requirement already satisfied: idna<4,>=2.5 in /Users/haseemarshad/Library/Python/3.9/lib/python/site-packages (from requests>=2.22.0->finnhub-python->-r requirements.txt (line 2)) (3.10)\n",
      "Requirement already satisfied: tensorboard-data-server<0.8.0,>=0.7.0 in /Users/haseemarshad/Library/Python/3.9/lib/python/site-packages (from tensorboard~=2.19.0->tensorflow->-r requirements.txt (line 9)) (0.7.2)\n",
      "Requirement already satisfied: werkzeug>=1.0.1 in /Users/haseemarshad/Library/Python/3.9/lib/python/site-packages (from tensorboard~=2.19.0->tensorflow->-r requirements.txt (line 9)) (3.1.3)\n",
      "Requirement already satisfied: markdown>=2.6.8 in /Users/haseemarshad/Library/Python/3.9/lib/python/site-packages (from tensorboard~=2.19.0->tensorflow->-r requirements.txt (line 9)) (3.7)\n",
      "Requirement already satisfied: importlib-metadata>=4.4 in /Users/haseemarshad/Library/Python/3.9/lib/python/site-packages (from markdown>=2.6.8->tensorboard~=2.19.0->tensorflow->-r requirements.txt (line 9)) (8.6.1)\n",
      "Requirement already satisfied: MarkupSafe>=2.1.1 in /Users/haseemarshad/Library/Python/3.9/lib/python/site-packages (from werkzeug>=1.0.1->tensorboard~=2.19.0->tensorflow->-r requirements.txt (line 9)) (3.0.2)\n",
      "Requirement already satisfied: pygments<3.0.0,>=2.13.0 in /Users/haseemarshad/Library/Python/3.9/lib/python/site-packages (from rich->keras>=3.5.0->tensorflow->-r requirements.txt (line 9)) (2.19.1)\n",
      "Requirement already satisfied: markdown-it-py>=2.2.0 in /Users/haseemarshad/Library/Python/3.9/lib/python/site-packages (from rich->keras>=3.5.0->tensorflow->-r requirements.txt (line 9)) (3.0.0)\n",
      "Requirement already satisfied: mdurl~=0.1 in /Users/haseemarshad/Library/Python/3.9/lib/python/site-packages (from markdown-it-py>=2.2.0->rich->keras>=3.5.0->tensorflow->-r requirements.txt (line 9)) (0.1.2)\n",
      "\u001b[33mWARNING: You are using pip version 21.2.4; however, version 25.0.1 is available.\n",
      "You should consider upgrading via the '/Library/Developer/CommandLineTools/usr/bin/python3 -m pip install --upgrade pip' command.\u001b[0m\n"
     ]
    }
   ],
   "source": [
    "!python3 -m pip install -r requirements.txt\n"
   ]
  },
  {
   "cell_type": "markdown",
   "metadata": {},
   "source": [
    "### importing our libraries after pipinstall"
   ]
  },
  {
   "cell_type": "code",
   "execution_count": 3,
   "metadata": {},
   "outputs": [],
   "source": [
    "\n",
    "#python data manipulation\n",
    "import pandas as pd\n",
    "import numpy as np\n",
    "\n",
    "#data visualizaiton tools, EDA\n",
    "import seaborn as sns\n",
    "import matplotlib.pyplot as plt\n",
    "import plotly.express as px\n",
    "\n",
    "#mysql and Cassandra\n",
    "from cassandra.cluster import Cluster          \n",
    "\n",
    "#ARIMA\n",
    "from statsmodels.tsa.arima.model import ARIMA\n",
    "import statsmodels.api as sm\n",
    "\n",
    "#LSTM Neural network\n",
    "from tensorflow.keras.models import Sequential\n",
    "from tensorflow.keras.layers import LSTM, Dense\n",
    "import tensorflow as tf\n",
    "\n",
    "# our finance data\n",
    "import yfinance as yf\n",
    "\n"
   ]
  },
  {
   "cell_type": "markdown",
   "metadata": {},
   "source": [
    "## Extracting the Historical Data.\n",
    "\n",
    "\n",
    " ### The historical aspect of the data is starting from January 1st 2020 to yesterday (april 6th), We can adjust this to most recent always. We extracted the 7 companies and start with first 7 features from our project proposal: Date/time, open price, low price, high price, adjusted close price, trading volume"
   ]
  },
  {
   "cell_type": "code",
   "execution_count": 172,
   "metadata": {},
   "outputs": [],
   "source": [
    "def extract_data(tickers, start_date=\"2020-01-01\", end_date=\"2025-04-06\", interval=\"1d\"):\n",
    "    # importing the yfinance api data, making sure the autoadjust is off because it overrides the close value if its on\n",
    "    df = yf.download(tickers, start=start_date, end=end_date, interval=interval, auto_adjust=False)\n",
    "    # tidying the data to make it better for analysis and transformation later\n",
    "    df.columns = df.columns.swaplevel(0, 1)\n",
    "    df = df.sort_index(axis=1, level=0)\n",
    "    df_flat = df.stack(level=0, future_stack=True).reset_index()  \n",
    "    df_flat.rename(columns={'level_0': 'Date'}, inplace=True)\n",
    "    # renaming 'Adj Close' to 'Adj_Close' for consistency\n",
    "    if 'Adj Close' in df_flat.columns:\n",
    "        df_flat.rename(columns={'Adj Close': 'Adj_Close'}, inplace=True)\n",
    "    # adding the previous day's close price per ticker\n",
    "    df_flat['Previous_Close'] = df_flat.groupby('Ticker')['Close'].shift(1)\n",
    "    # selecting the columns we expect and need\n",
    "    expected_cols = ['Date', 'Ticker', 'Open', 'High', 'Low', 'Close', 'Adj_Close', 'Previous_Close', 'Volume']\n",
    "    existing_cols = [col for col in expected_cols if col in df_flat.columns]\n",
    "    return df_flat[existing_cols]\n"
   ]
  },
  {
   "cell_type": "code",
   "execution_count": 173,
   "metadata": {},
   "outputs": [
    {
     "name": "stderr",
     "output_type": "stream",
     "text": [
      "[*********************100%***********************]  7 of 7 completed\n"
     ]
    },
    {
     "data": {
      "text/html": [
       "<div>\n",
       "<style scoped>\n",
       "    .dataframe tbody tr th:only-of-type {\n",
       "        vertical-align: middle;\n",
       "    }\n",
       "\n",
       "    .dataframe tbody tr th {\n",
       "        vertical-align: top;\n",
       "    }\n",
       "\n",
       "    .dataframe thead th {\n",
       "        text-align: right;\n",
       "    }\n",
       "</style>\n",
       "<table border=\"1\" class=\"dataframe\">\n",
       "  <thead>\n",
       "    <tr style=\"text-align: right;\">\n",
       "      <th>Price</th>\n",
       "      <th>Date</th>\n",
       "      <th>Ticker</th>\n",
       "      <th>Open</th>\n",
       "      <th>High</th>\n",
       "      <th>Low</th>\n",
       "      <th>Close</th>\n",
       "      <th>Adj_Close</th>\n",
       "      <th>Previous_Close</th>\n",
       "      <th>Volume</th>\n",
       "    </tr>\n",
       "  </thead>\n",
       "  <tbody>\n",
       "    <tr>\n",
       "      <th>0</th>\n",
       "      <td>2020-01-02</td>\n",
       "      <td>AAPL</td>\n",
       "      <td>74.059998</td>\n",
       "      <td>75.150002</td>\n",
       "      <td>73.797501</td>\n",
       "      <td>75.087502</td>\n",
       "      <td>72.716064</td>\n",
       "      <td>NaN</td>\n",
       "      <td>135480400</td>\n",
       "    </tr>\n",
       "    <tr>\n",
       "      <th>1</th>\n",
       "      <td>2020-01-02</td>\n",
       "      <td>AMZN</td>\n",
       "      <td>93.750000</td>\n",
       "      <td>94.900497</td>\n",
       "      <td>93.207497</td>\n",
       "      <td>94.900497</td>\n",
       "      <td>94.900497</td>\n",
       "      <td>NaN</td>\n",
       "      <td>80580000</td>\n",
       "    </tr>\n",
       "    <tr>\n",
       "      <th>2</th>\n",
       "      <td>2020-01-02</td>\n",
       "      <td>GOOGL</td>\n",
       "      <td>67.420502</td>\n",
       "      <td>68.433998</td>\n",
       "      <td>67.324501</td>\n",
       "      <td>68.433998</td>\n",
       "      <td>68.108368</td>\n",
       "      <td>NaN</td>\n",
       "      <td>27278000</td>\n",
       "    </tr>\n",
       "    <tr>\n",
       "      <th>3</th>\n",
       "      <td>2020-01-02</td>\n",
       "      <td>META</td>\n",
       "      <td>206.750000</td>\n",
       "      <td>209.789993</td>\n",
       "      <td>206.270004</td>\n",
       "      <td>209.779999</td>\n",
       "      <td>208.795944</td>\n",
       "      <td>NaN</td>\n",
       "      <td>12077100</td>\n",
       "    </tr>\n",
       "    <tr>\n",
       "      <th>4</th>\n",
       "      <td>2020-01-02</td>\n",
       "      <td>MSFT</td>\n",
       "      <td>158.779999</td>\n",
       "      <td>160.729996</td>\n",
       "      <td>158.330002</td>\n",
       "      <td>160.619995</td>\n",
       "      <td>153.323257</td>\n",
       "      <td>NaN</td>\n",
       "      <td>22622100</td>\n",
       "    </tr>\n",
       "    <tr>\n",
       "      <th>...</th>\n",
       "      <td>...</td>\n",
       "      <td>...</td>\n",
       "      <td>...</td>\n",
       "      <td>...</td>\n",
       "      <td>...</td>\n",
       "      <td>...</td>\n",
       "      <td>...</td>\n",
       "      <td>...</td>\n",
       "      <td>...</td>\n",
       "    </tr>\n",
       "    <tr>\n",
       "      <th>9249</th>\n",
       "      <td>2025-04-04</td>\n",
       "      <td>GOOGL</td>\n",
       "      <td>148.009995</td>\n",
       "      <td>151.070007</td>\n",
       "      <td>145.380005</td>\n",
       "      <td>145.600006</td>\n",
       "      <td>145.600006</td>\n",
       "      <td>150.720001</td>\n",
       "      <td>62138600</td>\n",
       "    </tr>\n",
       "    <tr>\n",
       "      <th>9250</th>\n",
       "      <td>2025-04-04</td>\n",
       "      <td>META</td>\n",
       "      <td>506.619995</td>\n",
       "      <td>518.000000</td>\n",
       "      <td>494.200012</td>\n",
       "      <td>504.730011</td>\n",
       "      <td>504.730011</td>\n",
       "      <td>531.619995</td>\n",
       "      <td>38515100</td>\n",
       "    </tr>\n",
       "    <tr>\n",
       "      <th>9251</th>\n",
       "      <td>2025-04-04</td>\n",
       "      <td>MSFT</td>\n",
       "      <td>364.130005</td>\n",
       "      <td>374.589996</td>\n",
       "      <td>359.480011</td>\n",
       "      <td>359.839996</td>\n",
       "      <td>359.839996</td>\n",
       "      <td>373.109985</td>\n",
       "      <td>49138700</td>\n",
       "    </tr>\n",
       "    <tr>\n",
       "      <th>9252</th>\n",
       "      <td>2025-04-04</td>\n",
       "      <td>NVDA</td>\n",
       "      <td>98.910004</td>\n",
       "      <td>100.129997</td>\n",
       "      <td>92.110001</td>\n",
       "      <td>94.309998</td>\n",
       "      <td>94.309998</td>\n",
       "      <td>101.800003</td>\n",
       "      <td>529707700</td>\n",
       "    </tr>\n",
       "    <tr>\n",
       "      <th>9253</th>\n",
       "      <td>2025-04-04</td>\n",
       "      <td>TSLA</td>\n",
       "      <td>255.380005</td>\n",
       "      <td>261.000000</td>\n",
       "      <td>236.000000</td>\n",
       "      <td>239.429993</td>\n",
       "      <td>239.429993</td>\n",
       "      <td>267.279999</td>\n",
       "      <td>180324400</td>\n",
       "    </tr>\n",
       "  </tbody>\n",
       "</table>\n",
       "<p>9254 rows × 9 columns</p>\n",
       "</div>"
      ],
      "text/plain": [
       "Price       Date Ticker        Open        High         Low       Close  \\\n",
       "0     2020-01-02   AAPL   74.059998   75.150002   73.797501   75.087502   \n",
       "1     2020-01-02   AMZN   93.750000   94.900497   93.207497   94.900497   \n",
       "2     2020-01-02  GOOGL   67.420502   68.433998   67.324501   68.433998   \n",
       "3     2020-01-02   META  206.750000  209.789993  206.270004  209.779999   \n",
       "4     2020-01-02   MSFT  158.779999  160.729996  158.330002  160.619995   \n",
       "...          ...    ...         ...         ...         ...         ...   \n",
       "9249  2025-04-04  GOOGL  148.009995  151.070007  145.380005  145.600006   \n",
       "9250  2025-04-04   META  506.619995  518.000000  494.200012  504.730011   \n",
       "9251  2025-04-04   MSFT  364.130005  374.589996  359.480011  359.839996   \n",
       "9252  2025-04-04   NVDA   98.910004  100.129997   92.110001   94.309998   \n",
       "9253  2025-04-04   TSLA  255.380005  261.000000  236.000000  239.429993   \n",
       "\n",
       "Price   Adj_Close  Previous_Close     Volume  \n",
       "0       72.716064             NaN  135480400  \n",
       "1       94.900497             NaN   80580000  \n",
       "2       68.108368             NaN   27278000  \n",
       "3      208.795944             NaN   12077100  \n",
       "4      153.323257             NaN   22622100  \n",
       "...           ...             ...        ...  \n",
       "9249   145.600006      150.720001   62138600  \n",
       "9250   504.730011      531.619995   38515100  \n",
       "9251   359.839996      373.109985   49138700  \n",
       "9252    94.309998      101.800003  529707700  \n",
       "9253   239.429993      267.279999  180324400  \n",
       "\n",
       "[9254 rows x 9 columns]"
      ]
     },
     "metadata": {},
     "output_type": "display_data"
    }
   ],
   "source": [
    "#giving yfinance a list of companies to return a list of data of. AND displaying the df\n",
    "tickers = [\"AAPL\", \"MSFT\", \"GOOGL\", \"AMZN\", \"META\", \"NVDA\", \"TSLA\"]\n",
    "df_raw = extract_data(tickers)\n",
    "display(df_raw)"
   ]
  },
  {
   "cell_type": "markdown",
   "metadata": {},
   "source": [
    "## Historical Data: Data Cleaning: \n",
    "### We will clean the data by taking care of any null values. We can use back and forward filling if there is a value missing from a float/int value. Otherwise we will drop the value if its in the date or Ticker/ or use the average of the past few days for the column. Additionally if there are are any duplicate records for a company and a speciifc date, one should be kept while rest dropped."
   ]
  },
  {
   "cell_type": "code",
   "execution_count": 174,
   "metadata": {},
   "outputs": [
    {
     "name": "stdout",
     "output_type": "stream",
     "text": [
      "Price\n",
      "Date              0\n",
      "Ticker            0\n",
      "Open              0\n",
      "High              0\n",
      "Low               0\n",
      "Close             0\n",
      "Adj_Close         0\n",
      "Previous_Close    7\n",
      "Volume            0\n",
      "dtype: int64\n",
      "Null values after cleaning:\n",
      "Price\n",
      "Date              0\n",
      "Ticker            0\n",
      "Open              0\n",
      "High              0\n",
      "Low               0\n",
      "Close             0\n",
      "Adj_Close         0\n",
      "Previous_Close    0\n",
      "Volume            0\n",
      "dtype: int64\n"
     ]
    },
    {
     "data": {
      "text/html": [
       "<div>\n",
       "<style scoped>\n",
       "    .dataframe tbody tr th:only-of-type {\n",
       "        vertical-align: middle;\n",
       "    }\n",
       "\n",
       "    .dataframe tbody tr th {\n",
       "        vertical-align: top;\n",
       "    }\n",
       "\n",
       "    .dataframe thead th {\n",
       "        text-align: right;\n",
       "    }\n",
       "</style>\n",
       "<table border=\"1\" class=\"dataframe\">\n",
       "  <thead>\n",
       "    <tr style=\"text-align: right;\">\n",
       "      <th>Price</th>\n",
       "      <th>Date</th>\n",
       "      <th>Ticker</th>\n",
       "      <th>Open</th>\n",
       "      <th>High</th>\n",
       "      <th>Low</th>\n",
       "      <th>Close</th>\n",
       "      <th>Adj_Close</th>\n",
       "      <th>Previous_Close</th>\n",
       "      <th>Volume</th>\n",
       "    </tr>\n",
       "  </thead>\n",
       "  <tbody>\n",
       "    <tr>\n",
       "      <th>0</th>\n",
       "      <td>2020-01-02</td>\n",
       "      <td>AAPL</td>\n",
       "      <td>74.059998</td>\n",
       "      <td>75.150002</td>\n",
       "      <td>73.797501</td>\n",
       "      <td>75.087502</td>\n",
       "      <td>72.716064</td>\n",
       "      <td>75.087502</td>\n",
       "      <td>135480400</td>\n",
       "    </tr>\n",
       "    <tr>\n",
       "      <th>1</th>\n",
       "      <td>2020-01-02</td>\n",
       "      <td>AMZN</td>\n",
       "      <td>93.750000</td>\n",
       "      <td>94.900497</td>\n",
       "      <td>93.207497</td>\n",
       "      <td>94.900497</td>\n",
       "      <td>94.900497</td>\n",
       "      <td>94.900497</td>\n",
       "      <td>80580000</td>\n",
       "    </tr>\n",
       "    <tr>\n",
       "      <th>2</th>\n",
       "      <td>2020-01-02</td>\n",
       "      <td>GOOGL</td>\n",
       "      <td>67.420502</td>\n",
       "      <td>68.433998</td>\n",
       "      <td>67.324501</td>\n",
       "      <td>68.433998</td>\n",
       "      <td>68.108368</td>\n",
       "      <td>68.433998</td>\n",
       "      <td>27278000</td>\n",
       "    </tr>\n",
       "    <tr>\n",
       "      <th>3</th>\n",
       "      <td>2020-01-02</td>\n",
       "      <td>META</td>\n",
       "      <td>206.750000</td>\n",
       "      <td>209.789993</td>\n",
       "      <td>206.270004</td>\n",
       "      <td>209.779999</td>\n",
       "      <td>208.795944</td>\n",
       "      <td>209.779999</td>\n",
       "      <td>12077100</td>\n",
       "    </tr>\n",
       "    <tr>\n",
       "      <th>4</th>\n",
       "      <td>2020-01-02</td>\n",
       "      <td>MSFT</td>\n",
       "      <td>158.779999</td>\n",
       "      <td>160.729996</td>\n",
       "      <td>158.330002</td>\n",
       "      <td>160.619995</td>\n",
       "      <td>153.323257</td>\n",
       "      <td>160.619995</td>\n",
       "      <td>22622100</td>\n",
       "    </tr>\n",
       "    <tr>\n",
       "      <th>...</th>\n",
       "      <td>...</td>\n",
       "      <td>...</td>\n",
       "      <td>...</td>\n",
       "      <td>...</td>\n",
       "      <td>...</td>\n",
       "      <td>...</td>\n",
       "      <td>...</td>\n",
       "      <td>...</td>\n",
       "      <td>...</td>\n",
       "    </tr>\n",
       "    <tr>\n",
       "      <th>9249</th>\n",
       "      <td>2025-04-04</td>\n",
       "      <td>GOOGL</td>\n",
       "      <td>148.009995</td>\n",
       "      <td>151.070007</td>\n",
       "      <td>145.380005</td>\n",
       "      <td>145.600006</td>\n",
       "      <td>145.600006</td>\n",
       "      <td>150.720001</td>\n",
       "      <td>62138600</td>\n",
       "    </tr>\n",
       "    <tr>\n",
       "      <th>9250</th>\n",
       "      <td>2025-04-04</td>\n",
       "      <td>META</td>\n",
       "      <td>506.619995</td>\n",
       "      <td>518.000000</td>\n",
       "      <td>494.200012</td>\n",
       "      <td>504.730011</td>\n",
       "      <td>504.730011</td>\n",
       "      <td>531.619995</td>\n",
       "      <td>38515100</td>\n",
       "    </tr>\n",
       "    <tr>\n",
       "      <th>9251</th>\n",
       "      <td>2025-04-04</td>\n",
       "      <td>MSFT</td>\n",
       "      <td>364.130005</td>\n",
       "      <td>374.589996</td>\n",
       "      <td>359.480011</td>\n",
       "      <td>359.839996</td>\n",
       "      <td>359.839996</td>\n",
       "      <td>373.109985</td>\n",
       "      <td>49138700</td>\n",
       "    </tr>\n",
       "    <tr>\n",
       "      <th>9252</th>\n",
       "      <td>2025-04-04</td>\n",
       "      <td>NVDA</td>\n",
       "      <td>98.910004</td>\n",
       "      <td>100.129997</td>\n",
       "      <td>92.110001</td>\n",
       "      <td>94.309998</td>\n",
       "      <td>94.309998</td>\n",
       "      <td>101.800003</td>\n",
       "      <td>529707700</td>\n",
       "    </tr>\n",
       "    <tr>\n",
       "      <th>9253</th>\n",
       "      <td>2025-04-04</td>\n",
       "      <td>TSLA</td>\n",
       "      <td>255.380005</td>\n",
       "      <td>261.000000</td>\n",
       "      <td>236.000000</td>\n",
       "      <td>239.429993</td>\n",
       "      <td>239.429993</td>\n",
       "      <td>267.279999</td>\n",
       "      <td>180324400</td>\n",
       "    </tr>\n",
       "  </tbody>\n",
       "</table>\n",
       "<p>9254 rows × 9 columns</p>\n",
       "</div>"
      ],
      "text/plain": [
       "Price       Date Ticker        Open        High         Low       Close  \\\n",
       "0     2020-01-02   AAPL   74.059998   75.150002   73.797501   75.087502   \n",
       "1     2020-01-02   AMZN   93.750000   94.900497   93.207497   94.900497   \n",
       "2     2020-01-02  GOOGL   67.420502   68.433998   67.324501   68.433998   \n",
       "3     2020-01-02   META  206.750000  209.789993  206.270004  209.779999   \n",
       "4     2020-01-02   MSFT  158.779999  160.729996  158.330002  160.619995   \n",
       "...          ...    ...         ...         ...         ...         ...   \n",
       "9249  2025-04-04  GOOGL  148.009995  151.070007  145.380005  145.600006   \n",
       "9250  2025-04-04   META  506.619995  518.000000  494.200012  504.730011   \n",
       "9251  2025-04-04   MSFT  364.130005  374.589996  359.480011  359.839996   \n",
       "9252  2025-04-04   NVDA   98.910004  100.129997   92.110001   94.309998   \n",
       "9253  2025-04-04   TSLA  255.380005  261.000000  236.000000  239.429993   \n",
       "\n",
       "Price   Adj_Close  Previous_Close     Volume  \n",
       "0       72.716064       75.087502  135480400  \n",
       "1       94.900497       94.900497   80580000  \n",
       "2       68.108368       68.433998   27278000  \n",
       "3      208.795944      209.779999   12077100  \n",
       "4      153.323257      160.619995   22622100  \n",
       "...           ...             ...        ...  \n",
       "9249   145.600006      150.720001   62138600  \n",
       "9250   504.730011      531.619995   38515100  \n",
       "9251   359.839996      373.109985   49138700  \n",
       "9252    94.309998      101.800003  529707700  \n",
       "9253   239.429993      267.279999  180324400  \n",
       "\n",
       "[9254 rows x 9 columns]"
      ]
     },
     "metadata": {},
     "output_type": "display_data"
    }
   ],
   "source": [
    "nans = df_raw.isna().sum()\n",
    "print(nans)\n",
    "def cleaning(df):\n",
    "    # Step 1: Drop duplicates (keep the first entry for each Ticker-Date pair)\n",
    "    df = df.drop_duplicates(subset=['Date', 'Ticker'], keep='first')\n",
    "\n",
    "    # Step 2: Define numeric columns to clean (excluding 'Date' and 'Ticker')\n",
    "    numeric_cols = ['Open', 'High', 'Low', 'Close', 'Adj_Close', 'Volume', 'Previous_Close']\n",
    "    \n",
    "    # Step 3: Fill missing values for numeric columns\n",
    "    for col in numeric_cols:\n",
    "        # Forward fill and backward fill first\n",
    "        df[col] = df.groupby('Ticker')[col].transform(lambda x: x.ffill().bfill())\n",
    "        \n",
    "        # Fill remaining NaNs with rolling mean (3-day window)\n",
    "        df[col] = df.groupby('Ticker')[col].transform(\n",
    "            lambda x: x.fillna(x.rolling(window=3, min_periods=1).mean())\n",
    "        )\n",
    "\n",
    "    # Step 4: Ensure 'Previous_Close' is properly filled (first entry has no previous data)\n",
    "    df['Previous_Close'] = df.groupby('Ticker')['Previous_Close'].ffill()\n",
    "\n",
    "    # Step 5: Drop rows with nulls in 'Date' or 'Ticker' (shouldn't exist, but safety check)\n",
    "    df = df.dropna(subset=['Date', 'Ticker'])\n",
    "\n",
    "    return df\n",
    "# Apply cleaning\n",
    "df_cleaned = cleaning(df_raw)\n",
    "\n",
    "# Verify results\n",
    "print(\"Null values after cleaning:\")\n",
    "print(df_cleaned.isna().sum())\n",
    "display(df_cleaned)"
   ]
  },
  {
   "cell_type": "markdown",
   "metadata": {},
   "source": [
    "## Historical Data, Feature Engineering:\n",
    "\n",
    "### We are going to be transforming the tidy dataframe by doing some feature engineering. We will create the following fields into our table by manipulating the prexisting data from df_cleaned: \n",
    "1. Simple Moving Average (SMA)\n",
    "2. Exponential Moving Average (EMA)\n",
    "3. Relative Strength Index (RSI)\n",
    "4. Bollinger Bands\n",
    "5. MACD (Moving Average Convergence Divergence)\n",
    "6. On-Balance Volume (OBV)\n",
    "7. Volatility (ATR - Average True Range)\n"
   ]
  },
  {
   "cell_type": "code",
   "execution_count": 175,
   "metadata": {},
   "outputs": [
    {
     "data": {
      "text/html": [
       "<div>\n",
       "<style scoped>\n",
       "    .dataframe tbody tr th:only-of-type {\n",
       "        vertical-align: middle;\n",
       "    }\n",
       "\n",
       "    .dataframe tbody tr th {\n",
       "        vertical-align: top;\n",
       "    }\n",
       "\n",
       "    .dataframe thead th {\n",
       "        text-align: right;\n",
       "    }\n",
       "</style>\n",
       "<table border=\"1\" class=\"dataframe\">\n",
       "  <thead>\n",
       "    <tr style=\"text-align: right;\">\n",
       "      <th>Price</th>\n",
       "      <th>Date</th>\n",
       "      <th>Ticker</th>\n",
       "      <th>SMA_20</th>\n",
       "      <th>EMA_20</th>\n",
       "      <th>RSI_14</th>\n",
       "      <th>BB_Upper</th>\n",
       "      <th>BB_Lower</th>\n",
       "      <th>MACD</th>\n",
       "    </tr>\n",
       "  </thead>\n",
       "  <tbody>\n",
       "    <tr>\n",
       "      <th>0</th>\n",
       "      <td>2020-01-02</td>\n",
       "      <td>AAPL</td>\n",
       "      <td>NaN</td>\n",
       "      <td>75.087502</td>\n",
       "      <td>NaN</td>\n",
       "      <td>NaN</td>\n",
       "      <td>NaN</td>\n",
       "      <td>0.000000</td>\n",
       "    </tr>\n",
       "    <tr>\n",
       "      <th>1</th>\n",
       "      <td>2020-01-03</td>\n",
       "      <td>AAPL</td>\n",
       "      <td>NaN</td>\n",
       "      <td>75.017977</td>\n",
       "      <td>NaN</td>\n",
       "      <td>NaN</td>\n",
       "      <td>NaN</td>\n",
       "      <td>-0.058234</td>\n",
       "    </tr>\n",
       "    <tr>\n",
       "      <th>2</th>\n",
       "      <td>2020-01-06</td>\n",
       "      <td>AAPL</td>\n",
       "      <td>NaN</td>\n",
       "      <td>75.011503</td>\n",
       "      <td>NaN</td>\n",
       "      <td>NaN</td>\n",
       "      <td>NaN</td>\n",
       "      <td>-0.055930</td>\n",
       "    </tr>\n",
       "    <tr>\n",
       "      <th>3</th>\n",
       "      <td>2020-01-07</td>\n",
       "      <td>AAPL</td>\n",
       "      <td>NaN</td>\n",
       "      <td>74.972075</td>\n",
       "      <td>NaN</td>\n",
       "      <td>NaN</td>\n",
       "      <td>NaN</td>\n",
       "      <td>-0.081607</td>\n",
       "    </tr>\n",
       "    <tr>\n",
       "      <th>4</th>\n",
       "      <td>2020-01-08</td>\n",
       "      <td>AAPL</td>\n",
       "      <td>NaN</td>\n",
       "      <td>75.050687</td>\n",
       "      <td>NaN</td>\n",
       "      <td>NaN</td>\n",
       "      <td>NaN</td>\n",
       "      <td>-0.005068</td>\n",
       "    </tr>\n",
       "    <tr>\n",
       "      <th>5</th>\n",
       "      <td>2020-01-09</td>\n",
       "      <td>AAPL</td>\n",
       "      <td>NaN</td>\n",
       "      <td>75.275145</td>\n",
       "      <td>NaN</td>\n",
       "      <td>NaN</td>\n",
       "      <td>NaN</td>\n",
       "      <td>0.183389</td>\n",
       "    </tr>\n",
       "    <tr>\n",
       "      <th>6</th>\n",
       "      <td>2020-01-10</td>\n",
       "      <td>AAPL</td>\n",
       "      <td>NaN</td>\n",
       "      <td>75.494893</td>\n",
       "      <td>NaN</td>\n",
       "      <td>NaN</td>\n",
       "      <td>NaN</td>\n",
       "      <td>0.342911</td>\n",
       "    </tr>\n",
       "    <tr>\n",
       "      <th>7</th>\n",
       "      <td>2020-01-13</td>\n",
       "      <td>AAPL</td>\n",
       "      <td>NaN</td>\n",
       "      <td>75.851570</td>\n",
       "      <td>NaN</td>\n",
       "      <td>NaN</td>\n",
       "      <td>NaN</td>\n",
       "      <td>0.596207</td>\n",
       "    </tr>\n",
       "    <tr>\n",
       "      <th>8</th>\n",
       "      <td>2020-01-14</td>\n",
       "      <td>AAPL</td>\n",
       "      <td>NaN</td>\n",
       "      <td>76.072372</td>\n",
       "      <td>NaN</td>\n",
       "      <td>NaN</td>\n",
       "      <td>NaN</td>\n",
       "      <td>0.702507</td>\n",
       "    </tr>\n",
       "    <tr>\n",
       "      <th>9</th>\n",
       "      <td>2020-01-15</td>\n",
       "      <td>AAPL</td>\n",
       "      <td>NaN</td>\n",
       "      <td>76.240241</td>\n",
       "      <td>NaN</td>\n",
       "      <td>NaN</td>\n",
       "      <td>NaN</td>\n",
       "      <td>0.751062</td>\n",
       "    </tr>\n",
       "    <tr>\n",
       "      <th>10</th>\n",
       "      <td>2020-01-16</td>\n",
       "      <td>AAPL</td>\n",
       "      <td>NaN</td>\n",
       "      <td>76.484980</td>\n",
       "      <td>NaN</td>\n",
       "      <td>NaN</td>\n",
       "      <td>NaN</td>\n",
       "      <td>0.858322</td>\n",
       "    </tr>\n",
       "    <tr>\n",
       "      <th>11</th>\n",
       "      <td>2020-01-17</td>\n",
       "      <td>AAPL</td>\n",
       "      <td>NaN</td>\n",
       "      <td>76.789506</td>\n",
       "      <td>NaN</td>\n",
       "      <td>NaN</td>\n",
       "      <td>NaN</td>\n",
       "      <td>1.002178</td>\n",
       "    </tr>\n",
       "    <tr>\n",
       "      <th>12</th>\n",
       "      <td>2020-01-21</td>\n",
       "      <td>AAPL</td>\n",
       "      <td>NaN</td>\n",
       "      <td>77.013601</td>\n",
       "      <td>NaN</td>\n",
       "      <td>NaN</td>\n",
       "      <td>NaN</td>\n",
       "      <td>1.060387</td>\n",
       "    </tr>\n",
       "    <tr>\n",
       "      <th>13</th>\n",
       "      <td>2020-01-22</td>\n",
       "      <td>AAPL</td>\n",
       "      <td>NaN</td>\n",
       "      <td>77.243258</td>\n",
       "      <td>70.868434</td>\n",
       "      <td>NaN</td>\n",
       "      <td>NaN</td>\n",
       "      <td>1.116444</td>\n",
       "    </tr>\n",
       "    <tr>\n",
       "      <th>14</th>\n",
       "      <td>2020-01-23</td>\n",
       "      <td>AAPL</td>\n",
       "      <td>NaN</td>\n",
       "      <td>77.487472</td>\n",
       "      <td>71.902570</td>\n",
       "      <td>NaN</td>\n",
       "      <td>NaN</td>\n",
       "      <td>1.178154</td>\n",
       "    </tr>\n",
       "    <tr>\n",
       "      <th>15</th>\n",
       "      <td>2020-01-24</td>\n",
       "      <td>AAPL</td>\n",
       "      <td>NaN</td>\n",
       "      <td>77.686522</td>\n",
       "      <td>75.401481</td>\n",
       "      <td>NaN</td>\n",
       "      <td>NaN</td>\n",
       "      <td>1.194728</td>\n",
       "    </tr>\n",
       "    <tr>\n",
       "      <th>16</th>\n",
       "      <td>2020-01-27</td>\n",
       "      <td>AAPL</td>\n",
       "      <td>NaN</td>\n",
       "      <td>77.643759</td>\n",
       "      <td>59.513444</td>\n",
       "      <td>NaN</td>\n",
       "      <td>NaN</td>\n",
       "      <td>1.007431</td>\n",
       "    </tr>\n",
       "    <tr>\n",
       "      <th>17</th>\n",
       "      <td>2020-01-28</td>\n",
       "      <td>AAPL</td>\n",
       "      <td>NaN</td>\n",
       "      <td>77.813163</td>\n",
       "      <td>67.412481</td>\n",
       "      <td>NaN</td>\n",
       "      <td>NaN</td>\n",
       "      <td>1.023510</td>\n",
       "    </tr>\n",
       "    <tr>\n",
       "      <th>18</th>\n",
       "      <td>2020-01-29</td>\n",
       "      <td>AAPL</td>\n",
       "      <td>NaN</td>\n",
       "      <td>78.124766</td>\n",
       "      <td>68.465163</td>\n",
       "      <td>NaN</td>\n",
       "      <td>NaN</td>\n",
       "      <td>1.157064</td>\n",
       "    </tr>\n",
       "    <tr>\n",
       "      <th>19</th>\n",
       "      <td>2020-01-30</td>\n",
       "      <td>AAPL</td>\n",
       "      <td>78.009125</td>\n",
       "      <td>78.395502</td>\n",
       "      <td>63.879136</td>\n",
       "      <td>82.191922</td>\n",
       "      <td>73.826328</td>\n",
       "      <td>1.239142</td>\n",
       "    </tr>\n",
       "  </tbody>\n",
       "</table>\n",
       "</div>"
      ],
      "text/plain": [
       "Price       Date Ticker     SMA_20     EMA_20     RSI_14   BB_Upper  \\\n",
       "0     2020-01-02   AAPL        NaN  75.087502        NaN        NaN   \n",
       "1     2020-01-03   AAPL        NaN  75.017977        NaN        NaN   \n",
       "2     2020-01-06   AAPL        NaN  75.011503        NaN        NaN   \n",
       "3     2020-01-07   AAPL        NaN  74.972075        NaN        NaN   \n",
       "4     2020-01-08   AAPL        NaN  75.050687        NaN        NaN   \n",
       "5     2020-01-09   AAPL        NaN  75.275145        NaN        NaN   \n",
       "6     2020-01-10   AAPL        NaN  75.494893        NaN        NaN   \n",
       "7     2020-01-13   AAPL        NaN  75.851570        NaN        NaN   \n",
       "8     2020-01-14   AAPL        NaN  76.072372        NaN        NaN   \n",
       "9     2020-01-15   AAPL        NaN  76.240241        NaN        NaN   \n",
       "10    2020-01-16   AAPL        NaN  76.484980        NaN        NaN   \n",
       "11    2020-01-17   AAPL        NaN  76.789506        NaN        NaN   \n",
       "12    2020-01-21   AAPL        NaN  77.013601        NaN        NaN   \n",
       "13    2020-01-22   AAPL        NaN  77.243258  70.868434        NaN   \n",
       "14    2020-01-23   AAPL        NaN  77.487472  71.902570        NaN   \n",
       "15    2020-01-24   AAPL        NaN  77.686522  75.401481        NaN   \n",
       "16    2020-01-27   AAPL        NaN  77.643759  59.513444        NaN   \n",
       "17    2020-01-28   AAPL        NaN  77.813163  67.412481        NaN   \n",
       "18    2020-01-29   AAPL        NaN  78.124766  68.465163        NaN   \n",
       "19    2020-01-30   AAPL  78.009125  78.395502  63.879136  82.191922   \n",
       "\n",
       "Price   BB_Lower      MACD  \n",
       "0            NaN  0.000000  \n",
       "1            NaN -0.058234  \n",
       "2            NaN -0.055930  \n",
       "3            NaN -0.081607  \n",
       "4            NaN -0.005068  \n",
       "5            NaN  0.183389  \n",
       "6            NaN  0.342911  \n",
       "7            NaN  0.596207  \n",
       "8            NaN  0.702507  \n",
       "9            NaN  0.751062  \n",
       "10           NaN  0.858322  \n",
       "11           NaN  1.002178  \n",
       "12           NaN  1.060387  \n",
       "13           NaN  1.116444  \n",
       "14           NaN  1.178154  \n",
       "15           NaN  1.194728  \n",
       "16           NaN  1.007431  \n",
       "17           NaN  1.023510  \n",
       "18           NaN  1.157064  \n",
       "19     73.826328  1.239142  "
      ]
     },
     "metadata": {},
     "output_type": "display_data"
    },
    {
     "data": {
      "text/html": [
       "<div>\n",
       "<style scoped>\n",
       "    .dataframe tbody tr th:only-of-type {\n",
       "        vertical-align: middle;\n",
       "    }\n",
       "\n",
       "    .dataframe tbody tr th {\n",
       "        vertical-align: top;\n",
       "    }\n",
       "\n",
       "    .dataframe thead th {\n",
       "        text-align: right;\n",
       "    }\n",
       "</style>\n",
       "<table border=\"1\" class=\"dataframe\">\n",
       "  <thead>\n",
       "    <tr style=\"text-align: right;\">\n",
       "      <th>Price</th>\n",
       "      <th>Date</th>\n",
       "      <th>Ticker</th>\n",
       "      <th>Open</th>\n",
       "      <th>High</th>\n",
       "      <th>Low</th>\n",
       "      <th>Close</th>\n",
       "      <th>Adj_Close</th>\n",
       "      <th>Previous_Close</th>\n",
       "      <th>Volume</th>\n",
       "      <th>SMA_20</th>\n",
       "      <th>EMA_20</th>\n",
       "      <th>RSI_14</th>\n",
       "      <th>BB_Middle</th>\n",
       "      <th>BB_Std</th>\n",
       "      <th>BB_Upper</th>\n",
       "      <th>BB_Lower</th>\n",
       "      <th>MACD</th>\n",
       "      <th>MACD_Signal</th>\n",
       "    </tr>\n",
       "  </thead>\n",
       "  <tbody>\n",
       "    <tr>\n",
       "      <th>5308</th>\n",
       "      <td>2020-01-31</td>\n",
       "      <td>MSFT</td>\n",
       "      <td>172.210007</td>\n",
       "      <td>172.399994</td>\n",
       "      <td>169.580002</td>\n",
       "      <td>170.229996</td>\n",
       "      <td>162.496704</td>\n",
       "      <td>172.779999</td>\n",
       "      <td>36142700</td>\n",
       "      <td>164.167999</td>\n",
       "      <td>165.244291</td>\n",
       "      <td>65.892017</td>\n",
       "      <td>164.167999</td>\n",
       "      <td>3.935323</td>\n",
       "      <td>172.038644</td>\n",
       "      <td>156.297353</td>\n",
       "      <td>2.175122</td>\n",
       "      <td>1.508417</td>\n",
       "    </tr>\n",
       "    <tr>\n",
       "      <th>5309</th>\n",
       "      <td>2020-02-03</td>\n",
       "      <td>MSFT</td>\n",
       "      <td>170.429993</td>\n",
       "      <td>174.500000</td>\n",
       "      <td>170.399994</td>\n",
       "      <td>174.380005</td>\n",
       "      <td>166.458176</td>\n",
       "      <td>170.229996</td>\n",
       "      <td>30107000</td>\n",
       "      <td>164.955999</td>\n",
       "      <td>166.114359</td>\n",
       "      <td>68.389658</td>\n",
       "      <td>164.955999</td>\n",
       "      <td>4.324559</td>\n",
       "      <td>173.605117</td>\n",
       "      <td>156.306881</td>\n",
       "      <td>2.627071</td>\n",
       "      <td>1.732148</td>\n",
       "    </tr>\n",
       "    <tr>\n",
       "      <th>5310</th>\n",
       "      <td>2020-02-04</td>\n",
       "      <td>MSFT</td>\n",
       "      <td>177.139999</td>\n",
       "      <td>180.639999</td>\n",
       "      <td>176.309998</td>\n",
       "      <td>180.119995</td>\n",
       "      <td>171.937363</td>\n",
       "      <td>174.380005</td>\n",
       "      <td>36433300</td>\n",
       "      <td>166.010499</td>\n",
       "      <td>167.448229</td>\n",
       "      <td>75.869974</td>\n",
       "      <td>166.010499</td>\n",
       "      <td>5.271194</td>\n",
       "      <td>176.552887</td>\n",
       "      <td>155.468110</td>\n",
       "      <td>3.409114</td>\n",
       "      <td>2.067541</td>\n",
       "    </tr>\n",
       "    <tr>\n",
       "      <th>5311</th>\n",
       "      <td>2020-02-05</td>\n",
       "      <td>MSFT</td>\n",
       "      <td>184.029999</td>\n",
       "      <td>184.199997</td>\n",
       "      <td>178.410004</td>\n",
       "      <td>179.899994</td>\n",
       "      <td>171.727432</td>\n",
       "      <td>180.119995</td>\n",
       "      <td>39186300</td>\n",
       "      <td>167.126498</td>\n",
       "      <td>168.634112</td>\n",
       "      <td>74.631681</td>\n",
       "      <td>167.126498</td>\n",
       "      <td>5.734751</td>\n",
       "      <td>178.596000</td>\n",
       "      <td>155.656997</td>\n",
       "      <td>3.965426</td>\n",
       "      <td>2.447118</td>\n",
       "    </tr>\n",
       "    <tr>\n",
       "      <th>5312</th>\n",
       "      <td>2020-02-06</td>\n",
       "      <td>MSFT</td>\n",
       "      <td>180.970001</td>\n",
       "      <td>183.820007</td>\n",
       "      <td>180.059998</td>\n",
       "      <td>183.630005</td>\n",
       "      <td>175.287979</td>\n",
       "      <td>179.899994</td>\n",
       "      <td>27751400</td>\n",
       "      <td>168.303499</td>\n",
       "      <td>170.062292</td>\n",
       "      <td>75.172992</td>\n",
       "      <td>168.303499</td>\n",
       "      <td>6.569494</td>\n",
       "      <td>181.442486</td>\n",
       "      <td>155.164511</td>\n",
       "      <td>4.653644</td>\n",
       "      <td>2.888423</td>\n",
       "    </tr>\n",
       "  </tbody>\n",
       "</table>\n",
       "</div>"
      ],
      "text/plain": [
       "Price       Date Ticker        Open        High         Low       Close  \\\n",
       "5308  2020-01-31   MSFT  172.210007  172.399994  169.580002  170.229996   \n",
       "5309  2020-02-03   MSFT  170.429993  174.500000  170.399994  174.380005   \n",
       "5310  2020-02-04   MSFT  177.139999  180.639999  176.309998  180.119995   \n",
       "5311  2020-02-05   MSFT  184.029999  184.199997  178.410004  179.899994   \n",
       "5312  2020-02-06   MSFT  180.970001  183.820007  180.059998  183.630005   \n",
       "\n",
       "Price   Adj_Close  Previous_Close    Volume      SMA_20      EMA_20  \\\n",
       "5308   162.496704      172.779999  36142700  164.167999  165.244291   \n",
       "5309   166.458176      170.229996  30107000  164.955999  166.114359   \n",
       "5310   171.937363      174.380005  36433300  166.010499  167.448229   \n",
       "5311   171.727432      180.119995  39186300  167.126498  168.634112   \n",
       "5312   175.287979      179.899994  27751400  168.303499  170.062292   \n",
       "\n",
       "Price     RSI_14   BB_Middle    BB_Std    BB_Upper    BB_Lower      MACD  \\\n",
       "5308   65.892017  164.167999  3.935323  172.038644  156.297353  2.175122   \n",
       "5309   68.389658  164.955999  4.324559  173.605117  156.306881  2.627071   \n",
       "5310   75.869974  166.010499  5.271194  176.552887  155.468110  3.409114   \n",
       "5311   74.631681  167.126498  5.734751  178.596000  155.656997  3.965426   \n",
       "5312   75.172992  168.303499  6.569494  181.442486  155.164511  4.653644   \n",
       "\n",
       "Price  MACD_Signal  \n",
       "5308      1.508417  \n",
       "5309      1.732148  \n",
       "5310      2.067541  \n",
       "5311      2.447118  \n",
       "5312      2.888423  "
      ]
     },
     "metadata": {},
     "output_type": "display_data"
    },
    {
     "data": {
      "text/html": [
       "<div>\n",
       "<style scoped>\n",
       "    .dataframe tbody tr th:only-of-type {\n",
       "        vertical-align: middle;\n",
       "    }\n",
       "\n",
       "    .dataframe tbody tr th {\n",
       "        vertical-align: top;\n",
       "    }\n",
       "\n",
       "    .dataframe thead th {\n",
       "        text-align: right;\n",
       "    }\n",
       "</style>\n",
       "<table border=\"1\" class=\"dataframe\">\n",
       "  <thead>\n",
       "    <tr style=\"text-align: right;\">\n",
       "      <th>Price</th>\n",
       "      <th>Date</th>\n",
       "      <th>Ticker</th>\n",
       "      <th>Open</th>\n",
       "      <th>High</th>\n",
       "      <th>Low</th>\n",
       "      <th>Close</th>\n",
       "      <th>Adj_Close</th>\n",
       "      <th>Previous_Close</th>\n",
       "      <th>Volume</th>\n",
       "      <th>SMA_20</th>\n",
       "      <th>EMA_20</th>\n",
       "      <th>RSI_14</th>\n",
       "      <th>BB_Middle</th>\n",
       "      <th>BB_Std</th>\n",
       "      <th>BB_Upper</th>\n",
       "      <th>BB_Lower</th>\n",
       "      <th>MACD</th>\n",
       "      <th>MACD_Signal</th>\n",
       "    </tr>\n",
       "  </thead>\n",
       "  <tbody>\n",
       "    <tr>\n",
       "      <th>1730</th>\n",
       "      <td>2021-08-16</td>\n",
       "      <td>AMZN</td>\n",
       "      <td>164.149994</td>\n",
       "      <td>165.000000</td>\n",
       "      <td>160.556503</td>\n",
       "      <td>164.949493</td>\n",
       "      <td>164.949493</td>\n",
       "      <td>164.698502</td>\n",
       "      <td>66394000</td>\n",
       "      <td>172.403975</td>\n",
       "      <td>170.279937</td>\n",
       "      <td>16.449412</td>\n",
       "      <td>172.403975</td>\n",
       "      <td>7.639477</td>\n",
       "      <td>187.682929</td>\n",
       "      <td>157.125021</td>\n",
       "      <td>-3.283385</td>\n",
       "      <td>-2.289339</td>\n",
       "    </tr>\n",
       "    <tr>\n",
       "      <th>3532</th>\n",
       "      <td>2023-07-14</td>\n",
       "      <td>GOOGL</td>\n",
       "      <td>124.800003</td>\n",
       "      <td>126.779999</td>\n",
       "      <td>123.489998</td>\n",
       "      <td>125.419998</td>\n",
       "      <td>124.823227</td>\n",
       "      <td>124.540001</td>\n",
       "      <td>33266800</td>\n",
       "      <td>120.856499</td>\n",
       "      <td>120.874578</td>\n",
       "      <td>56.454321</td>\n",
       "      <td>120.856499</td>\n",
       "      <td>2.623323</td>\n",
       "      <td>126.103145</td>\n",
       "      <td>115.609854</td>\n",
       "      <td>0.347237</td>\n",
       "      <td>0.080631</td>\n",
       "    </tr>\n",
       "    <tr>\n",
       "      <th>2583</th>\n",
       "      <td>2025-01-07</td>\n",
       "      <td>AMZN</td>\n",
       "      <td>227.899994</td>\n",
       "      <td>228.380005</td>\n",
       "      <td>221.460007</td>\n",
       "      <td>222.110001</td>\n",
       "      <td>222.110001</td>\n",
       "      <td>227.610001</td>\n",
       "      <td>28084200</td>\n",
       "      <td>225.517999</td>\n",
       "      <td>222.388615</td>\n",
       "      <td>37.793328</td>\n",
       "      <td>225.517999</td>\n",
       "      <td>3.804522</td>\n",
       "      <td>233.127043</td>\n",
       "      <td>217.908956</td>\n",
       "      <td>2.830529</td>\n",
       "      <td>4.049328</td>\n",
       "    </tr>\n",
       "    <tr>\n",
       "      <th>6633</th>\n",
       "      <td>2020-02-05</td>\n",
       "      <td>NVDA</td>\n",
       "      <td>6.299750</td>\n",
       "      <td>6.310000</td>\n",
       "      <td>6.185250</td>\n",
       "      <td>6.269000</td>\n",
       "      <td>6.242254</td>\n",
       "      <td>6.178250</td>\n",
       "      <td>208220000</td>\n",
       "      <td>6.157900</td>\n",
       "      <td>6.128394</td>\n",
       "      <td>54.567870</td>\n",
       "      <td>6.157900</td>\n",
       "      <td>0.110537</td>\n",
       "      <td>6.378974</td>\n",
       "      <td>5.936826</td>\n",
       "      <td>0.022969</td>\n",
       "      <td>0.028871</td>\n",
       "    </tr>\n",
       "    <tr>\n",
       "      <th>8038</th>\n",
       "      <td>2020-06-04</td>\n",
       "      <td>TSLA</td>\n",
       "      <td>59.325333</td>\n",
       "      <td>59.716667</td>\n",
       "      <td>57.229332</td>\n",
       "      <td>57.625332</td>\n",
       "      <td>57.625332</td>\n",
       "      <td>58.863998</td>\n",
       "      <td>133315500</td>\n",
       "      <td>55.007366</td>\n",
       "      <td>54.865779</td>\n",
       "      <td>65.176765</td>\n",
       "      <td>55.007366</td>\n",
       "      <td>2.126960</td>\n",
       "      <td>59.261286</td>\n",
       "      <td>50.753446</td>\n",
       "      <td>2.530437</td>\n",
       "      <td>2.481824</td>\n",
       "    </tr>\n",
       "    <tr>\n",
       "      <th>4909</th>\n",
       "      <td>2023-10-02</td>\n",
       "      <td>META</td>\n",
       "      <td>302.739990</td>\n",
       "      <td>307.179993</td>\n",
       "      <td>301.630005</td>\n",
       "      <td>306.820007</td>\n",
       "      <td>305.380768</td>\n",
       "      <td>300.209991</td>\n",
       "      <td>16265600</td>\n",
       "      <td>301.640500</td>\n",
       "      <td>300.872515</td>\n",
       "      <td>54.275774</td>\n",
       "      <td>301.640500</td>\n",
       "      <td>3.950926</td>\n",
       "      <td>309.542353</td>\n",
       "      <td>293.738647</td>\n",
       "      <td>0.964656</td>\n",
       "      <td>0.715210</td>\n",
       "    </tr>\n",
       "    <tr>\n",
       "      <th>5665</th>\n",
       "      <td>2021-07-01</td>\n",
       "      <td>MSFT</td>\n",
       "      <td>269.609985</td>\n",
       "      <td>271.839996</td>\n",
       "      <td>269.600006</td>\n",
       "      <td>271.600006</td>\n",
       "      <td>263.217896</td>\n",
       "      <td>270.899994</td>\n",
       "      <td>16725300</td>\n",
       "      <td>261.479499</td>\n",
       "      <td>262.592339</td>\n",
       "      <td>75.877594</td>\n",
       "      <td>261.479499</td>\n",
       "      <td>6.459592</td>\n",
       "      <td>274.398683</td>\n",
       "      <td>248.560315</td>\n",
       "      <td>5.229182</td>\n",
       "      <td>4.289221</td>\n",
       "    </tr>\n",
       "    <tr>\n",
       "      <th>2430</th>\n",
       "      <td>2024-05-29</td>\n",
       "      <td>AMZN</td>\n",
       "      <td>181.699997</td>\n",
       "      <td>184.080002</td>\n",
       "      <td>181.550003</td>\n",
       "      <td>182.020004</td>\n",
       "      <td>182.020004</td>\n",
       "      <td>182.149994</td>\n",
       "      <td>32009300</td>\n",
       "      <td>184.806001</td>\n",
       "      <td>183.212480</td>\n",
       "      <td>29.959756</td>\n",
       "      <td>184.806001</td>\n",
       "      <td>2.986227</td>\n",
       "      <td>190.778454</td>\n",
       "      <td>178.833547</td>\n",
       "      <td>0.049376</td>\n",
       "      <td>0.727710</td>\n",
       "    </tr>\n",
       "    <tr>\n",
       "      <th>7939</th>\n",
       "      <td>2020-01-13</td>\n",
       "      <td>TSLA</td>\n",
       "      <td>32.900002</td>\n",
       "      <td>35.042000</td>\n",
       "      <td>32.799999</td>\n",
       "      <td>34.990665</td>\n",
       "      <td>34.990665</td>\n",
       "      <td>31.876667</td>\n",
       "      <td>397764000</td>\n",
       "      <td>NaN</td>\n",
       "      <td>30.407609</td>\n",
       "      <td>NaN</td>\n",
       "      <td>NaN</td>\n",
       "      <td>NaN</td>\n",
       "      <td>NaN</td>\n",
       "      <td>NaN</td>\n",
       "      <td>1.095119</td>\n",
       "      <td>0.539253</td>\n",
       "    </tr>\n",
       "    <tr>\n",
       "      <th>449</th>\n",
       "      <td>2021-10-13</td>\n",
       "      <td>AAPL</td>\n",
       "      <td>141.240005</td>\n",
       "      <td>141.399994</td>\n",
       "      <td>139.199997</td>\n",
       "      <td>140.910004</td>\n",
       "      <td>138.284943</td>\n",
       "      <td>141.509995</td>\n",
       "      <td>78762700</td>\n",
       "      <td>143.437498</td>\n",
       "      <td>143.679877</td>\n",
       "      <td>34.034493</td>\n",
       "      <td>143.437498</td>\n",
       "      <td>2.436589</td>\n",
       "      <td>148.310676</td>\n",
       "      <td>138.564321</td>\n",
       "      <td>-1.730317</td>\n",
       "      <td>-1.678851</td>\n",
       "    </tr>\n",
       "  </tbody>\n",
       "</table>\n",
       "</div>"
      ],
      "text/plain": [
       "Price       Date Ticker        Open        High         Low       Close  \\\n",
       "1730  2021-08-16   AMZN  164.149994  165.000000  160.556503  164.949493   \n",
       "3532  2023-07-14  GOOGL  124.800003  126.779999  123.489998  125.419998   \n",
       "2583  2025-01-07   AMZN  227.899994  228.380005  221.460007  222.110001   \n",
       "6633  2020-02-05   NVDA    6.299750    6.310000    6.185250    6.269000   \n",
       "8038  2020-06-04   TSLA   59.325333   59.716667   57.229332   57.625332   \n",
       "4909  2023-10-02   META  302.739990  307.179993  301.630005  306.820007   \n",
       "5665  2021-07-01   MSFT  269.609985  271.839996  269.600006  271.600006   \n",
       "2430  2024-05-29   AMZN  181.699997  184.080002  181.550003  182.020004   \n",
       "7939  2020-01-13   TSLA   32.900002   35.042000   32.799999   34.990665   \n",
       "449   2021-10-13   AAPL  141.240005  141.399994  139.199997  140.910004   \n",
       "\n",
       "Price   Adj_Close  Previous_Close     Volume      SMA_20      EMA_20  \\\n",
       "1730   164.949493      164.698502   66394000  172.403975  170.279937   \n",
       "3532   124.823227      124.540001   33266800  120.856499  120.874578   \n",
       "2583   222.110001      227.610001   28084200  225.517999  222.388615   \n",
       "6633     6.242254        6.178250  208220000    6.157900    6.128394   \n",
       "8038    57.625332       58.863998  133315500   55.007366   54.865779   \n",
       "4909   305.380768      300.209991   16265600  301.640500  300.872515   \n",
       "5665   263.217896      270.899994   16725300  261.479499  262.592339   \n",
       "2430   182.020004      182.149994   32009300  184.806001  183.212480   \n",
       "7939    34.990665       31.876667  397764000         NaN   30.407609   \n",
       "449    138.284943      141.509995   78762700  143.437498  143.679877   \n",
       "\n",
       "Price     RSI_14   BB_Middle    BB_Std    BB_Upper    BB_Lower      MACD  \\\n",
       "1730   16.449412  172.403975  7.639477  187.682929  157.125021 -3.283385   \n",
       "3532   56.454321  120.856499  2.623323  126.103145  115.609854  0.347237   \n",
       "2583   37.793328  225.517999  3.804522  233.127043  217.908956  2.830529   \n",
       "6633   54.567870    6.157900  0.110537    6.378974    5.936826  0.022969   \n",
       "8038   65.176765   55.007366  2.126960   59.261286   50.753446  2.530437   \n",
       "4909   54.275774  301.640500  3.950926  309.542353  293.738647  0.964656   \n",
       "5665   75.877594  261.479499  6.459592  274.398683  248.560315  5.229182   \n",
       "2430   29.959756  184.806001  2.986227  190.778454  178.833547  0.049376   \n",
       "7939         NaN         NaN       NaN         NaN         NaN  1.095119   \n",
       "449    34.034493  143.437498  2.436589  148.310676  138.564321 -1.730317   \n",
       "\n",
       "Price  MACD_Signal  \n",
       "1730     -2.289339  \n",
       "3532      0.080631  \n",
       "2583      4.049328  \n",
       "6633      0.028871  \n",
       "8038      2.481824  \n",
       "4909      0.715210  \n",
       "5665      4.289221  \n",
       "2430      0.727710  \n",
       "7939      0.539253  \n",
       "449      -1.678851  "
      ]
     },
     "metadata": {},
     "output_type": "display_data"
    }
   ],
   "source": [
    "def transform(df):\n",
    "    # Ensure data is sorted by Ticker and Date\n",
    "    df = df.sort_values(['Ticker', 'Date']).reset_index(drop=True)\n",
    "    \n",
    "    # 1. Simple Moving Average (SMA)\n",
    "    #uses 20 periods of data (NaN till 19 row)\n",
    "    df['SMA_20'] = df.groupby('Ticker')['Close'].transform(lambda x: x.rolling(window=20).mean())\n",
    "    \n",
    "    # 2. Exponential Moving Average (EMA)\n",
    "    df['EMA_20'] = df.groupby('Ticker')['Close'].transform(lambda x: x.ewm(span=20, adjust=False).mean())\n",
    "    \n",
    "    # 3. Relative Strength Index (RSI)\n",
    "    #uses 14 periods of data (NaN till 13 row)\n",
    "    def compute_rsi(data, period=14):\n",
    "        delta = data.diff()\n",
    "        gain = delta.where(delta > 0, 0)\n",
    "        loss = -delta.where(delta < 0, 0)\n",
    "        avg_gain = gain.rolling(window=period).mean()\n",
    "        avg_loss = loss.rolling(window=period).mean()\n",
    "        rs = avg_gain / avg_loss\n",
    "        return 100 - (100 / (1 + rs))\n",
    "    df['RSI_14'] = df.groupby('Ticker')['Close'].transform(compute_rsi)\n",
    "    \n",
    "    # 4. Bollinger Bands\n",
    "    #NaN till we get SMA values (19th row)\n",
    "    df['BB_Middle'] = df['SMA_20']\n",
    "    df['BB_Std'] = df.groupby('Ticker')['Close'].transform(lambda x: x.rolling(window=20).std())\n",
    "    df['BB_Upper'] = df['BB_Middle'] + 2 * df['BB_Std']\n",
    "    df['BB_Lower'] = df['BB_Middle'] - 2 * df['BB_Std']\n",
    "    \n",
    "    # 5. MACD\n",
    "    def compute_macd(data):\n",
    "        ema12 = data.ewm(span=12, adjust=False).mean()\n",
    "        ema26 = data.ewm(span=26, adjust=False).mean()\n",
    "        return ema12 - ema26\n",
    "    df['MACD'] = df.groupby('Ticker')['Close'].transform(compute_macd)\n",
    "    df['MACD_Signal'] = df.groupby('Ticker')['MACD'].transform(lambda x: x.ewm(span=9, adjust=False).mean())\n",
    "    \n",
    "    # # 6. On-Balance Volume (OBV)\n",
    "    # def compute_obv(group):\n",
    "    #     obv = (np.where(group['Close'].diff() > 0, group['Volume'],\n",
    "    #             np.where(group['Close'].diff() < 0, -group['Volume'], 0))).cumsum()\n",
    "    #     return obv\n",
    "    \n",
    "    # df['OBV'] = df.groupby('Ticker', group_keys=False).apply(compute_obv).reset_index(drop=True)\n",
    "    \n",
    "    # # 7. Average True Range (ATR)\n",
    "    # def compute_atr(group):\n",
    "    #     high_low = group['High'] - group['Low']\n",
    "    #     high_close = (group['High'] - group['Close'].shift()).abs()\n",
    "    #     low_close = (group['Low'] - group['Close'].shift()).abs()\n",
    "    #     tr = pd.concat([high_low, high_close, low_close], axis=1).max(axis=1)\n",
    "    #     return tr.rolling(window=14).mean()\n",
    "    \n",
    "    # df['ATR_14'] = df.groupby('Ticker', group_keys=False).apply(compute_atr).reset_index(drop=True)\n",
    "    \n",
    "    # # Forward fill missing values created by rolling windows\n",
    "    # df = df.groupby('Ticker').ffill().reset_index(drop=True)\n",
    "    \n",
    "    return df\n",
    "\n",
    "# Apply transformation to cleaned data\n",
    "df_transformed = transform(df_cleaned)\n",
    "display(df_transformed[['Date', 'Ticker', 'SMA_20', 'EMA_20', 'RSI_14', 'BB_Upper', 'BB_Lower', 'MACD']].head(n=20)) #only shows APPL b/c all other tickers appear later. \n",
    "#add in 'OBV' and 'ATR_14' when fixed \n",
    "\n",
    "#to filter a specific ticker: \n",
    "display(df_transformed[df_transformed['Ticker'] == 'MSFT'].iloc[20:25])\n",
    "\n",
    "#to shuffle/show random rows: \n",
    "display(df_transformed.sample(10))  # Show random rows\n",
    "\n",
    "# count = len(df_transformed)\n",
    "# print(count)\n"
   ]
  },
  {
   "cell_type": "markdown",
   "metadata": {},
   "source": [
    "## Loading into MySQL with historical data "
   ]
  },
  {
   "cell_type": "markdown",
   "metadata": {},
   "source": [
    "## Extracting Real time data\n",
    "### Using Finnhub API to get real time data of the stock market , filling the Cassandra database every 10 seconds until 60seconds is reached for the past minute of data"
   ]
  },
  {
   "cell_type": "code",
   "execution_count": 5,
   "metadata": {},
   "outputs": [],
   "source": [
    "from datetime import datetime\n",
    "import finnhub\n",
    "\n",
    "#using finhub api, use api key\n",
    "finnhub_client = finnhub.Client(api_key=\"cvhdlvhr01qrtb3o0350cvhdlvhr01qrtb3o035g\")\n",
    "\n",
    "tickers = [\"AAPL\", \"MSFT\", \"GOOGL\", \"AMZN\", \"META\", \"NVDA\", \"TSLA\"]\n",
    "\n",
    "def get_realtime_quotes():\n",
    "    quotes = []\n",
    "    for symbol in tickers:\n",
    "        data = finnhub_client.quote(symbol)\n",
    "        quotes.append({\n",
    "            \"Date\": pd.to_datetime(data['t'], unit='s'),\n",
    "            \"Ticker\": symbol,\n",
    "            \"Open\": data['o'],\n",
    "            \"High\": data['h'],\n",
    "            \"Low\": data['l'],\n",
    "            \"Close\": data['c'],           \n",
    "            \"Adj_Close\": data['c'],       \n",
    "            \"Previous_Close\": data['pc'],  \n",
    "            \"Volume\": None               \n",
    "        })\n",
    "    return pd.DataFrame(quotes)\n"
   ]
  },
  {
   "cell_type": "markdown",
   "metadata": {},
   "source": [
    "## Loading into Cassandra with Real time data"
   ]
  },
  {
   "cell_type": "code",
   "execution_count": 6,
   "metadata": {},
   "outputs": [
    {
     "name": "stdout",
     "output_type": "stream",
     "text": [
      "Cassandra connection established.\n"
     ]
    },
    {
     "data": {
      "text/plain": [
       "<cassandra.cluster.ResultSet at 0x3034a84c0>"
      ]
     },
     "execution_count": 6,
     "metadata": {},
     "output_type": "execute_result"
    }
   ],
   "source": [
    "from cassandra.cluster import Cluster\n",
    "\n",
    "try:\n",
    "    cluster = Cluster(['localhost'])\n",
    "    session = cluster.connect()\n",
    "    print(\"Cassandra connection established.\")\n",
    "except Exception as e:\n",
    "    print(\"Connection error:\", e)\n",
    "\n",
    "\n",
    "# connecting to  the Cassandra session\n",
    "cluster = Cluster(['localhost'])\n",
    "session = cluster.connect()\n",
    "\n",
    "# we are making a keyspace called \"stock data\" and inside the keyspace we have a table called real_time_quotes where we are pulling data realtime from the finnhub api\n",
    "session.execute(\"\"\"\n",
    "    CREATE KEYSPACE IF NOT EXISTS stock_data \n",
    "    WITH replication = {'class': 'SimpleStrategy', 'replication_factor': 1};\n",
    "\"\"\")\n",
    "session.set_keyspace('stock_data')\n",
    "#schema for the cassandra csql table\n",
    "session.execute(\"\"\"\n",
    "    CREATE TABLE IF NOT EXISTS real_time_quotes (\n",
    "    ticker TEXT,\n",
    "    date TIMESTAMP,\n",
    "    open DOUBLE,\n",
    "    high DOUBLE,\n",
    "    low DOUBLE,\n",
    "    close DOUBLE,\n",
    "    adj_close DOUBLE,\n",
    "    volume BIGINT,\n",
    "    previous_close DOUBLE,\n",
    "    PRIMARY KEY (ticker, date)\n",
    ");\n",
    "\"\"\")\n"
   ]
  },
  {
   "cell_type": "code",
   "execution_count": 8,
   "metadata": {},
   "outputs": [],
   "source": [
    "#from cassandra.query import PreparedStatement\n",
    "import time\n",
    "#inserting the values from the api and clearing the white space and storing the columns as ticker, date, open, high, low, close, adj_close, and volume\n",
    "def insert_to_cassandra(df):\n",
    "    query = \"\"\"\n",
    "            INSERT INTO real_time_quotes (ticker, date, open, high, low, close, adj_close, volume, previous_close)\n",
    "            VALUES (%s, %s, %s, %s, %s, %s, %s, %s, %s)\n",
    "            \"\"\"\n",
    "\n",
    "    for _, row in df.iterrows():\n",
    "        session.execute(query, (\n",
    "            row['Ticker'],\n",
    "            row['Date'].to_pydatetime(),\n",
    "            row['Open'],\n",
    "            row['High'],\n",
    "            row['Low'],\n",
    "            row['Close'],\n",
    "            row['Adj_Close'],\n",
    "            row['Volume'] if pd.notna(row['Volume']) else 0,\n",
    "            row['Previous_Close'] if pd.notna(row['Previous_Close']) else None\n",
    "        ))  \n",
    "\n",
    "#making a backup incase the cassandra server acts up\n",
    "#def backup_to_csv(df, path='realtime_backup.csv'):\n",
    "    #header = not os.path.exists(path)\n",
    "    #df.to_csv(path, mode='a', index=False, header=header)\n",
    "\n"
   ]
  },
  {
   "cell_type": "code",
   "execution_count": 49,
   "metadata": {},
   "outputs": [
    {
     "name": "stdout",
     "output_type": "stream",
     "text": [
      " For 10 seconds: Adding a new batch of 7 rows into Cassandra DB.\n",
      " For 10 seconds: Adding a new batch of 7 rows into Cassandra DB.\n",
      " For 10 seconds: Adding a new batch of 7 rows into Cassandra DB.\n",
      " For 10 seconds: Adding a new batch of 7 rows into Cassandra DB.\n",
      " For 10 seconds: Adding a new batch of 7 rows into Cassandra DB.\n",
      " For 10 seconds: Adding a new batch of 7 rows into Cassandra DB.\n",
      " For 10 seconds: Adding a new batch of 7 rows into Cassandra DB.\n",
      " For 10 seconds: Adding a new batch of 7 rows into Cassandra DB.\n",
      " For 10 seconds: Adding a new batch of 7 rows into Cassandra DB.\n",
      " For 10 seconds: Adding a new batch of 7 rows into Cassandra DB.\n",
      " For 10 seconds: Adding a new batch of 7 rows into Cassandra DB.\n",
      " For 10 seconds: Adding a new batch of 7 rows into Cassandra DB.\n",
      " For 10 seconds: Adding a new batch of 7 rows into Cassandra DB.\n",
      " For 10 seconds: Adding a new batch of 7 rows into Cassandra DB.\n",
      " For 10 seconds: Adding a new batch of 7 rows into Cassandra DB.\n",
      " For 10 seconds: Adding a new batch of 7 rows into Cassandra DB.\n",
      " For 10 seconds: Adding a new batch of 7 rows into Cassandra DB.\n",
      " For 10 seconds: Adding a new batch of 7 rows into Cassandra DB.\n"
     ]
    }
   ],
   "source": [
    "# pulls stocks values every 10 seconds, 18 times for about 3 minutes + some buffer time \n",
    "for _ in range(18):\n",
    "    df_tenseconds = get_realtime_quotes()\n",
    "    insert_to_cassandra(df_tenseconds)\n",
    "    #backup_to_csv(df_hour)\n",
    "    print(\" For 10 seconds: Adding a new batch of 7 rows into Cassandra DB.\")\n",
    "    time.sleep(10)  # delay to avoid rate limiting with the API"
   ]
  },
  {
   "cell_type": "code",
   "execution_count": 9,
   "metadata": {},
   "outputs": [
    {
     "data": {
      "text/html": [
       "<div>\n",
       "<style scoped>\n",
       "    .dataframe tbody tr th:only-of-type {\n",
       "        vertical-align: middle;\n",
       "    }\n",
       "\n",
       "    .dataframe tbody tr th {\n",
       "        vertical-align: top;\n",
       "    }\n",
       "\n",
       "    .dataframe thead th {\n",
       "        text-align: right;\n",
       "    }\n",
       "</style>\n",
       "<table border=\"1\" class=\"dataframe\">\n",
       "  <thead>\n",
       "    <tr style=\"text-align: right;\">\n",
       "      <th></th>\n",
       "      <th>ticker</th>\n",
       "      <th>date</th>\n",
       "      <th>adj_close</th>\n",
       "      <th>close</th>\n",
       "      <th>high</th>\n",
       "      <th>low</th>\n",
       "      <th>open</th>\n",
       "      <th>previous_close</th>\n",
       "      <th>volume</th>\n",
       "    </tr>\n",
       "  </thead>\n",
       "  <tbody>\n",
       "    <tr>\n",
       "      <th>0</th>\n",
       "      <td>META</td>\n",
       "      <td>2025-04-11 17:06:15</td>\n",
       "      <td>539.950</td>\n",
       "      <td>539.950</td>\n",
       "      <td>551.55</td>\n",
       "      <td>528.5901</td>\n",
       "      <td>551.55</td>\n",
       "      <td>546.29</td>\n",
       "      <td>0</td>\n",
       "    </tr>\n",
       "    <tr>\n",
       "      <th>1</th>\n",
       "      <td>META</td>\n",
       "      <td>2025-04-11 17:06:23</td>\n",
       "      <td>539.950</td>\n",
       "      <td>539.950</td>\n",
       "      <td>551.55</td>\n",
       "      <td>528.5901</td>\n",
       "      <td>551.55</td>\n",
       "      <td>546.29</td>\n",
       "      <td>0</td>\n",
       "    </tr>\n",
       "    <tr>\n",
       "      <th>2</th>\n",
       "      <td>META</td>\n",
       "      <td>2025-04-11 17:06:35</td>\n",
       "      <td>539.950</td>\n",
       "      <td>539.950</td>\n",
       "      <td>551.55</td>\n",
       "      <td>528.5901</td>\n",
       "      <td>551.55</td>\n",
       "      <td>546.29</td>\n",
       "      <td>0</td>\n",
       "    </tr>\n",
       "    <tr>\n",
       "      <th>3</th>\n",
       "      <td>META</td>\n",
       "      <td>2025-04-11 17:06:41</td>\n",
       "      <td>539.950</td>\n",
       "      <td>539.950</td>\n",
       "      <td>551.55</td>\n",
       "      <td>528.5901</td>\n",
       "      <td>551.55</td>\n",
       "      <td>546.29</td>\n",
       "      <td>0</td>\n",
       "    </tr>\n",
       "    <tr>\n",
       "      <th>4</th>\n",
       "      <td>META</td>\n",
       "      <td>2025-04-11 17:06:53</td>\n",
       "      <td>539.950</td>\n",
       "      <td>539.950</td>\n",
       "      <td>551.55</td>\n",
       "      <td>528.5901</td>\n",
       "      <td>551.55</td>\n",
       "      <td>546.29</td>\n",
       "      <td>0</td>\n",
       "    </tr>\n",
       "    <tr>\n",
       "      <th>...</th>\n",
       "      <td>...</td>\n",
       "      <td>...</td>\n",
       "      <td>...</td>\n",
       "      <td>...</td>\n",
       "      <td>...</td>\n",
       "      <td>...</td>\n",
       "      <td>...</td>\n",
       "      <td>...</td>\n",
       "      <td>...</td>\n",
       "    </tr>\n",
       "    <tr>\n",
       "      <th>121</th>\n",
       "      <td>MSFT</td>\n",
       "      <td>2025-04-11 17:08:23</td>\n",
       "      <td>387.105</td>\n",
       "      <td>387.105</td>\n",
       "      <td>388.10</td>\n",
       "      <td>378.8900</td>\n",
       "      <td>384.00</td>\n",
       "      <td>381.35</td>\n",
       "      <td>0</td>\n",
       "    </tr>\n",
       "    <tr>\n",
       "      <th>122</th>\n",
       "      <td>MSFT</td>\n",
       "      <td>2025-04-11 17:08:36</td>\n",
       "      <td>387.105</td>\n",
       "      <td>387.105</td>\n",
       "      <td>388.10</td>\n",
       "      <td>378.8900</td>\n",
       "      <td>384.00</td>\n",
       "      <td>381.35</td>\n",
       "      <td>0</td>\n",
       "    </tr>\n",
       "    <tr>\n",
       "      <th>123</th>\n",
       "      <td>MSFT</td>\n",
       "      <td>2025-04-11 17:08:43</td>\n",
       "      <td>387.105</td>\n",
       "      <td>387.105</td>\n",
       "      <td>388.10</td>\n",
       "      <td>378.8900</td>\n",
       "      <td>384.00</td>\n",
       "      <td>381.35</td>\n",
       "      <td>0</td>\n",
       "    </tr>\n",
       "    <tr>\n",
       "      <th>124</th>\n",
       "      <td>MSFT</td>\n",
       "      <td>2025-04-11 17:08:57</td>\n",
       "      <td>387.105</td>\n",
       "      <td>387.105</td>\n",
       "      <td>388.10</td>\n",
       "      <td>378.8900</td>\n",
       "      <td>384.00</td>\n",
       "      <td>381.35</td>\n",
       "      <td>0</td>\n",
       "    </tr>\n",
       "    <tr>\n",
       "      <th>125</th>\n",
       "      <td>MSFT</td>\n",
       "      <td>2025-04-11 17:09:09</td>\n",
       "      <td>386.625</td>\n",
       "      <td>386.625</td>\n",
       "      <td>388.10</td>\n",
       "      <td>378.8900</td>\n",
       "      <td>384.00</td>\n",
       "      <td>381.35</td>\n",
       "      <td>0</td>\n",
       "    </tr>\n",
       "  </tbody>\n",
       "</table>\n",
       "<p>126 rows × 9 columns</p>\n",
       "</div>"
      ],
      "text/plain": [
       "    ticker                date  adj_close    close    high       low    open  \\\n",
       "0     META 2025-04-11 17:06:15    539.950  539.950  551.55  528.5901  551.55   \n",
       "1     META 2025-04-11 17:06:23    539.950  539.950  551.55  528.5901  551.55   \n",
       "2     META 2025-04-11 17:06:35    539.950  539.950  551.55  528.5901  551.55   \n",
       "3     META 2025-04-11 17:06:41    539.950  539.950  551.55  528.5901  551.55   \n",
       "4     META 2025-04-11 17:06:53    539.950  539.950  551.55  528.5901  551.55   \n",
       "..     ...                 ...        ...      ...     ...       ...     ...   \n",
       "121   MSFT 2025-04-11 17:08:23    387.105  387.105  388.10  378.8900  384.00   \n",
       "122   MSFT 2025-04-11 17:08:36    387.105  387.105  388.10  378.8900  384.00   \n",
       "123   MSFT 2025-04-11 17:08:43    387.105  387.105  388.10  378.8900  384.00   \n",
       "124   MSFT 2025-04-11 17:08:57    387.105  387.105  388.10  378.8900  384.00   \n",
       "125   MSFT 2025-04-11 17:09:09    386.625  386.625  388.10  378.8900  384.00   \n",
       "\n",
       "     previous_close  volume  \n",
       "0            546.29       0  \n",
       "1            546.29       0  \n",
       "2            546.29       0  \n",
       "3            546.29       0  \n",
       "4            546.29       0  \n",
       "..              ...     ...  \n",
       "121          381.35       0  \n",
       "122          381.35       0  \n",
       "123          381.35       0  \n",
       "124          381.35       0  \n",
       "125          381.35       0  \n",
       "\n",
       "[126 rows x 9 columns]"
      ]
     },
     "metadata": {},
     "output_type": "display_data"
    }
   ],
   "source": [
    "#turning the cassandra table into a python pandas dataframe for datamanipulation\n",
    "query = \"SELECT * FROM stock_data.real_time_quotes\"\n",
    "rows = session.execute(query)\n",
    "df_cassandra = pd.DataFrame(rows)\n",
    "display(df_cassandra)"
   ]
  },
  {
   "cell_type": "markdown",
   "metadata": {},
   "source": [
    "## Real Time Data: Data Cleaning \n"
   ]
  },
  {
   "cell_type": "code",
   "execution_count": 10,
   "metadata": {},
   "outputs": [
    {
     "data": {
      "text/html": [
       "<div>\n",
       "<style scoped>\n",
       "    .dataframe tbody tr th:only-of-type {\n",
       "        vertical-align: middle;\n",
       "    }\n",
       "\n",
       "    .dataframe tbody tr th {\n",
       "        vertical-align: top;\n",
       "    }\n",
       "\n",
       "    .dataframe thead th {\n",
       "        text-align: right;\n",
       "    }\n",
       "</style>\n",
       "<table border=\"1\" class=\"dataframe\">\n",
       "  <thead>\n",
       "    <tr style=\"text-align: right;\">\n",
       "      <th></th>\n",
       "      <th>ticker</th>\n",
       "      <th>date</th>\n",
       "      <th>adj_close</th>\n",
       "      <th>close</th>\n",
       "      <th>high</th>\n",
       "      <th>low</th>\n",
       "      <th>open</th>\n",
       "      <th>previous_close</th>\n",
       "      <th>volume</th>\n",
       "    </tr>\n",
       "  </thead>\n",
       "  <tbody>\n",
       "    <tr>\n",
       "      <th>0</th>\n",
       "      <td>META</td>\n",
       "      <td>2025-04-11 17:06:15</td>\n",
       "      <td>539.950</td>\n",
       "      <td>539.950</td>\n",
       "      <td>551.55</td>\n",
       "      <td>528.5901</td>\n",
       "      <td>551.55</td>\n",
       "      <td>546.29</td>\n",
       "      <td>0</td>\n",
       "    </tr>\n",
       "    <tr>\n",
       "      <th>1</th>\n",
       "      <td>META</td>\n",
       "      <td>2025-04-11 17:06:23</td>\n",
       "      <td>539.950</td>\n",
       "      <td>539.950</td>\n",
       "      <td>551.55</td>\n",
       "      <td>528.5901</td>\n",
       "      <td>551.55</td>\n",
       "      <td>546.29</td>\n",
       "      <td>0</td>\n",
       "    </tr>\n",
       "    <tr>\n",
       "      <th>2</th>\n",
       "      <td>META</td>\n",
       "      <td>2025-04-11 17:06:35</td>\n",
       "      <td>539.950</td>\n",
       "      <td>539.950</td>\n",
       "      <td>551.55</td>\n",
       "      <td>528.5901</td>\n",
       "      <td>551.55</td>\n",
       "      <td>546.29</td>\n",
       "      <td>0</td>\n",
       "    </tr>\n",
       "    <tr>\n",
       "      <th>3</th>\n",
       "      <td>META</td>\n",
       "      <td>2025-04-11 17:06:41</td>\n",
       "      <td>539.950</td>\n",
       "      <td>539.950</td>\n",
       "      <td>551.55</td>\n",
       "      <td>528.5901</td>\n",
       "      <td>551.55</td>\n",
       "      <td>546.29</td>\n",
       "      <td>0</td>\n",
       "    </tr>\n",
       "    <tr>\n",
       "      <th>4</th>\n",
       "      <td>META</td>\n",
       "      <td>2025-04-11 17:06:53</td>\n",
       "      <td>539.950</td>\n",
       "      <td>539.950</td>\n",
       "      <td>551.55</td>\n",
       "      <td>528.5901</td>\n",
       "      <td>551.55</td>\n",
       "      <td>546.29</td>\n",
       "      <td>0</td>\n",
       "    </tr>\n",
       "    <tr>\n",
       "      <th>...</th>\n",
       "      <td>...</td>\n",
       "      <td>...</td>\n",
       "      <td>...</td>\n",
       "      <td>...</td>\n",
       "      <td>...</td>\n",
       "      <td>...</td>\n",
       "      <td>...</td>\n",
       "      <td>...</td>\n",
       "      <td>...</td>\n",
       "    </tr>\n",
       "    <tr>\n",
       "      <th>121</th>\n",
       "      <td>MSFT</td>\n",
       "      <td>2025-04-11 17:08:23</td>\n",
       "      <td>387.105</td>\n",
       "      <td>387.105</td>\n",
       "      <td>388.10</td>\n",
       "      <td>378.8900</td>\n",
       "      <td>384.00</td>\n",
       "      <td>381.35</td>\n",
       "      <td>0</td>\n",
       "    </tr>\n",
       "    <tr>\n",
       "      <th>122</th>\n",
       "      <td>MSFT</td>\n",
       "      <td>2025-04-11 17:08:36</td>\n",
       "      <td>387.105</td>\n",
       "      <td>387.105</td>\n",
       "      <td>388.10</td>\n",
       "      <td>378.8900</td>\n",
       "      <td>384.00</td>\n",
       "      <td>381.35</td>\n",
       "      <td>0</td>\n",
       "    </tr>\n",
       "    <tr>\n",
       "      <th>123</th>\n",
       "      <td>MSFT</td>\n",
       "      <td>2025-04-11 17:08:43</td>\n",
       "      <td>387.105</td>\n",
       "      <td>387.105</td>\n",
       "      <td>388.10</td>\n",
       "      <td>378.8900</td>\n",
       "      <td>384.00</td>\n",
       "      <td>381.35</td>\n",
       "      <td>0</td>\n",
       "    </tr>\n",
       "    <tr>\n",
       "      <th>124</th>\n",
       "      <td>MSFT</td>\n",
       "      <td>2025-04-11 17:08:57</td>\n",
       "      <td>387.105</td>\n",
       "      <td>387.105</td>\n",
       "      <td>388.10</td>\n",
       "      <td>378.8900</td>\n",
       "      <td>384.00</td>\n",
       "      <td>381.35</td>\n",
       "      <td>0</td>\n",
       "    </tr>\n",
       "    <tr>\n",
       "      <th>125</th>\n",
       "      <td>MSFT</td>\n",
       "      <td>2025-04-11 17:09:09</td>\n",
       "      <td>386.625</td>\n",
       "      <td>386.625</td>\n",
       "      <td>388.10</td>\n",
       "      <td>378.8900</td>\n",
       "      <td>384.00</td>\n",
       "      <td>381.35</td>\n",
       "      <td>0</td>\n",
       "    </tr>\n",
       "  </tbody>\n",
       "</table>\n",
       "<p>126 rows × 9 columns</p>\n",
       "</div>"
      ],
      "text/plain": [
       "    ticker                date  adj_close    close    high       low    open  \\\n",
       "0     META 2025-04-11 17:06:15    539.950  539.950  551.55  528.5901  551.55   \n",
       "1     META 2025-04-11 17:06:23    539.950  539.950  551.55  528.5901  551.55   \n",
       "2     META 2025-04-11 17:06:35    539.950  539.950  551.55  528.5901  551.55   \n",
       "3     META 2025-04-11 17:06:41    539.950  539.950  551.55  528.5901  551.55   \n",
       "4     META 2025-04-11 17:06:53    539.950  539.950  551.55  528.5901  551.55   \n",
       "..     ...                 ...        ...      ...     ...       ...     ...   \n",
       "121   MSFT 2025-04-11 17:08:23    387.105  387.105  388.10  378.8900  384.00   \n",
       "122   MSFT 2025-04-11 17:08:36    387.105  387.105  388.10  378.8900  384.00   \n",
       "123   MSFT 2025-04-11 17:08:43    387.105  387.105  388.10  378.8900  384.00   \n",
       "124   MSFT 2025-04-11 17:08:57    387.105  387.105  388.10  378.8900  384.00   \n",
       "125   MSFT 2025-04-11 17:09:09    386.625  386.625  388.10  378.8900  384.00   \n",
       "\n",
       "     previous_close  volume  \n",
       "0            546.29       0  \n",
       "1            546.29       0  \n",
       "2            546.29       0  \n",
       "3            546.29       0  \n",
       "4            546.29       0  \n",
       "..              ...     ...  \n",
       "121          381.35       0  \n",
       "122          381.35       0  \n",
       "123          381.35       0  \n",
       "124          381.35       0  \n",
       "125          381.35       0  \n",
       "\n",
       "[126 rows x 9 columns]"
      ]
     },
     "metadata": {},
     "output_type": "display_data"
    },
    {
     "name": "stdout",
     "output_type": "stream",
     "text": [
      "\n",
      "Null Count for Real Time Data (Extracted from Cassandra):\n",
      "\n",
      "ticker            0\n",
      "date              0\n",
      "adj_close         0\n",
      "close             0\n",
      "high              0\n",
      "low               0\n",
      "open              0\n",
      "previous_close    0\n",
      "volume            0\n",
      "dtype: int64\n"
     ]
    }
   ],
   "source": [
    "def cleaning(df):\n",
    "    # making sure the date column is only in date time format\n",
    "    df['date'] = pd.to_datetime(df['date'])\n",
    "    #dropping rows that are missing ticker or date since its the most integral portion\n",
    "    df = df.dropna(subset=['ticker', 'date'])\n",
    "    # filling in the missing values using forward fill, or backfill when available \n",
    "    float_cols = ['open', 'high', 'low', 'close', 'adj_close', 'volume', 'previous_close']\n",
    "    for col in float_cols:\n",
    "        if col in df.columns:\n",
    "            df[col] = df[col].ffill().bfill()\n",
    "    # if there is still any remaining numerical columns (float)we can just average fill it \n",
    "    for col in float_cols:\n",
    "        if df[col].isna().any():\n",
    "            df[col] = df[col].fillna(df[col].mean())\n",
    "    # making sure theres no duplicate \n",
    "    df = df.drop_duplicates(subset=['ticker', 'date'], keep='last')\n",
    "    # reseting index if we drop\n",
    "    df = df.reset_index(drop=True)\n",
    "    return df\n",
    "\n",
    "\n",
    "#applying the cleaning function on our previous tile: df_cassandra dataframe\n",
    "df_cassandracleaned = cleaning(df_cassandra)\n",
    "display(df_cassandracleaned)\n",
    "print(\"\\nNull Count for Real Time Data (Extracted from Cassandra):\\n\")\n",
    "print(df_cassandracleaned.isnull().sum())"
   ]
  },
  {
   "cell_type": "markdown",
   "metadata": {},
   "source": [
    "### Note: Finnhub API does not provide real time volume in its free API model. Additionally accuracy of per second volume would be hard to predict. We would potentially need to drop this or exclude volume entirely from subsequent machine learning later"
   ]
  },
  {
   "cell_type": "markdown",
   "metadata": {},
   "source": [
    "## Real Time Data: Feature Engineering\n",
    "### Can only perform this on a weekday between 8am EST and 4pm EST. Otherwise we will not be able to get more than 1 iteration of results since stock market is closed realtime. \n",
    "1. Simple Moving Average (SMA)\n",
    "2. Exponential Moving Average (EMA)\n",
    "3. Relative Strength Index (RSI)\n",
    "4. Bollinger Bands\n",
    "5. MACD (Moving Average Convergence Divergence)\n",
    "6. On-Balance Volume (OBV)\n",
    "7. Volatility (ATR - Average True Range)\n"
   ]
  },
  {
   "cell_type": "code",
   "execution_count": 11,
   "metadata": {},
   "outputs": [
    {
     "data": {
      "text/html": [
       "<div>\n",
       "<style scoped>\n",
       "    .dataframe tbody tr th:only-of-type {\n",
       "        vertical-align: middle;\n",
       "    }\n",
       "\n",
       "    .dataframe tbody tr th {\n",
       "        vertical-align: top;\n",
       "    }\n",
       "\n",
       "    .dataframe thead th {\n",
       "        text-align: right;\n",
       "    }\n",
       "</style>\n",
       "<table border=\"1\" class=\"dataframe\">\n",
       "  <thead>\n",
       "    <tr style=\"text-align: right;\">\n",
       "      <th></th>\n",
       "      <th>ticker</th>\n",
       "      <th>date</th>\n",
       "      <th>adj_close</th>\n",
       "      <th>close</th>\n",
       "      <th>high</th>\n",
       "      <th>low</th>\n",
       "      <th>open</th>\n",
       "      <th>previous_close</th>\n",
       "      <th>volume</th>\n",
       "      <th>SMA_5</th>\n",
       "      <th>EMA_5</th>\n",
       "      <th>RSI_5</th>\n",
       "      <th>BB_Middle</th>\n",
       "      <th>BB_Std</th>\n",
       "      <th>BB_Upper</th>\n",
       "      <th>BB_Lower</th>\n",
       "      <th>MACD</th>\n",
       "      <th>MACD_Signal</th>\n",
       "      <th>OBV</th>\n",
       "      <th>ATR_5</th>\n",
       "    </tr>\n",
       "  </thead>\n",
       "  <tbody>\n",
       "    <tr>\n",
       "      <th>36</th>\n",
       "      <td>AAPL</td>\n",
       "      <td>2025-04-11 17:06:15</td>\n",
       "      <td>198.0950</td>\n",
       "      <td>198.0950</td>\n",
       "      <td>199.35</td>\n",
       "      <td>186.0600</td>\n",
       "      <td>191.83</td>\n",
       "      <td>190.42</td>\n",
       "      <td>0</td>\n",
       "      <td>NaN</td>\n",
       "      <td>198.095000</td>\n",
       "      <td>NaN</td>\n",
       "      <td>NaN</td>\n",
       "      <td>NaN</td>\n",
       "      <td>NaN</td>\n",
       "      <td>NaN</td>\n",
       "      <td>0.000000</td>\n",
       "      <td>0.000000</td>\n",
       "      <td>0</td>\n",
       "      <td>NaN</td>\n",
       "    </tr>\n",
       "    <tr>\n",
       "      <th>37</th>\n",
       "      <td>AAPL</td>\n",
       "      <td>2025-04-11 17:06:24</td>\n",
       "      <td>198.0950</td>\n",
       "      <td>198.0950</td>\n",
       "      <td>199.35</td>\n",
       "      <td>186.0600</td>\n",
       "      <td>191.83</td>\n",
       "      <td>190.42</td>\n",
       "      <td>0</td>\n",
       "      <td>NaN</td>\n",
       "      <td>198.095000</td>\n",
       "      <td>NaN</td>\n",
       "      <td>NaN</td>\n",
       "      <td>NaN</td>\n",
       "      <td>NaN</td>\n",
       "      <td>NaN</td>\n",
       "      <td>0.000000</td>\n",
       "      <td>0.000000</td>\n",
       "      <td>0</td>\n",
       "      <td>NaN</td>\n",
       "    </tr>\n",
       "    <tr>\n",
       "      <th>38</th>\n",
       "      <td>AAPL</td>\n",
       "      <td>2025-04-11 17:06:36</td>\n",
       "      <td>198.0950</td>\n",
       "      <td>198.0950</td>\n",
       "      <td>199.35</td>\n",
       "      <td>186.0600</td>\n",
       "      <td>191.83</td>\n",
       "      <td>190.42</td>\n",
       "      <td>0</td>\n",
       "      <td>NaN</td>\n",
       "      <td>198.095000</td>\n",
       "      <td>NaN</td>\n",
       "      <td>NaN</td>\n",
       "      <td>NaN</td>\n",
       "      <td>NaN</td>\n",
       "      <td>NaN</td>\n",
       "      <td>0.000000</td>\n",
       "      <td>0.000000</td>\n",
       "      <td>0</td>\n",
       "      <td>NaN</td>\n",
       "    </tr>\n",
       "    <tr>\n",
       "      <th>39</th>\n",
       "      <td>AAPL</td>\n",
       "      <td>2025-04-11 17:06:45</td>\n",
       "      <td>198.0950</td>\n",
       "      <td>198.0950</td>\n",
       "      <td>199.35</td>\n",
       "      <td>186.0600</td>\n",
       "      <td>191.83</td>\n",
       "      <td>190.42</td>\n",
       "      <td>0</td>\n",
       "      <td>NaN</td>\n",
       "      <td>198.095000</td>\n",
       "      <td>NaN</td>\n",
       "      <td>NaN</td>\n",
       "      <td>NaN</td>\n",
       "      <td>NaN</td>\n",
       "      <td>NaN</td>\n",
       "      <td>0.000000</td>\n",
       "      <td>0.000000</td>\n",
       "      <td>0</td>\n",
       "      <td>NaN</td>\n",
       "    </tr>\n",
       "    <tr>\n",
       "      <th>40</th>\n",
       "      <td>AAPL</td>\n",
       "      <td>2025-04-11 17:06:53</td>\n",
       "      <td>198.0950</td>\n",
       "      <td>198.0950</td>\n",
       "      <td>199.35</td>\n",
       "      <td>186.0600</td>\n",
       "      <td>191.83</td>\n",
       "      <td>190.42</td>\n",
       "      <td>0</td>\n",
       "      <td>198.09500</td>\n",
       "      <td>198.095000</td>\n",
       "      <td>NaN</td>\n",
       "      <td>198.09500</td>\n",
       "      <td>0.000000</td>\n",
       "      <td>198.095000</td>\n",
       "      <td>198.095000</td>\n",
       "      <td>0.000000</td>\n",
       "      <td>0.000000</td>\n",
       "      <td>0</td>\n",
       "      <td>13.2900</td>\n",
       "    </tr>\n",
       "    <tr>\n",
       "      <th>...</th>\n",
       "      <td>...</td>\n",
       "      <td>...</td>\n",
       "      <td>...</td>\n",
       "      <td>...</td>\n",
       "      <td>...</td>\n",
       "      <td>...</td>\n",
       "      <td>...</td>\n",
       "      <td>...</td>\n",
       "      <td>...</td>\n",
       "      <td>...</td>\n",
       "      <td>...</td>\n",
       "      <td>...</td>\n",
       "      <td>...</td>\n",
       "      <td>...</td>\n",
       "      <td>...</td>\n",
       "      <td>...</td>\n",
       "      <td>...</td>\n",
       "      <td>...</td>\n",
       "      <td>...</td>\n",
       "      <td>...</td>\n",
       "    </tr>\n",
       "    <tr>\n",
       "      <th>31</th>\n",
       "      <td>TSLA</td>\n",
       "      <td>2025-04-11 17:08:25</td>\n",
       "      <td>249.3514</td>\n",
       "      <td>249.3514</td>\n",
       "      <td>257.74</td>\n",
       "      <td>241.3629</td>\n",
       "      <td>253.00</td>\n",
       "      <td>252.40</td>\n",
       "      <td>0</td>\n",
       "      <td>249.41084</td>\n",
       "      <td>249.378001</td>\n",
       "      <td>0.0</td>\n",
       "      <td>249.41084</td>\n",
       "      <td>0.081392</td>\n",
       "      <td>249.573623</td>\n",
       "      <td>249.248057</td>\n",
       "      <td>0.158252</td>\n",
       "      <td>0.133662</td>\n",
       "      <td>0</td>\n",
       "      <td>16.3771</td>\n",
       "    </tr>\n",
       "    <tr>\n",
       "      <th>32</th>\n",
       "      <td>TSLA</td>\n",
       "      <td>2025-04-11 17:08:37</td>\n",
       "      <td>249.3514</td>\n",
       "      <td>249.3514</td>\n",
       "      <td>257.74</td>\n",
       "      <td>241.3629</td>\n",
       "      <td>253.00</td>\n",
       "      <td>252.40</td>\n",
       "      <td>0</td>\n",
       "      <td>249.38112</td>\n",
       "      <td>249.369134</td>\n",
       "      <td>0.0</td>\n",
       "      <td>249.38112</td>\n",
       "      <td>0.066456</td>\n",
       "      <td>249.514032</td>\n",
       "      <td>249.248208</td>\n",
       "      <td>0.151233</td>\n",
       "      <td>0.137176</td>\n",
       "      <td>0</td>\n",
       "      <td>16.3771</td>\n",
       "    </tr>\n",
       "    <tr>\n",
       "      <th>33</th>\n",
       "      <td>TSLA</td>\n",
       "      <td>2025-04-11 17:08:49</td>\n",
       "      <td>249.3514</td>\n",
       "      <td>249.3514</td>\n",
       "      <td>257.74</td>\n",
       "      <td>241.3629</td>\n",
       "      <td>253.00</td>\n",
       "      <td>252.40</td>\n",
       "      <td>0</td>\n",
       "      <td>249.35140</td>\n",
       "      <td>249.363223</td>\n",
       "      <td>0.0</td>\n",
       "      <td>249.35140</td>\n",
       "      <td>0.000000</td>\n",
       "      <td>249.351400</td>\n",
       "      <td>249.351400</td>\n",
       "      <td>0.144009</td>\n",
       "      <td>0.138543</td>\n",
       "      <td>0</td>\n",
       "      <td>16.3771</td>\n",
       "    </tr>\n",
       "    <tr>\n",
       "      <th>34</th>\n",
       "      <td>TSLA</td>\n",
       "      <td>2025-04-11 17:08:57</td>\n",
       "      <td>249.3514</td>\n",
       "      <td>249.3514</td>\n",
       "      <td>257.74</td>\n",
       "      <td>241.3629</td>\n",
       "      <td>253.00</td>\n",
       "      <td>252.40</td>\n",
       "      <td>0</td>\n",
       "      <td>249.35140</td>\n",
       "      <td>249.359282</td>\n",
       "      <td>NaN</td>\n",
       "      <td>249.35140</td>\n",
       "      <td>0.000000</td>\n",
       "      <td>249.351400</td>\n",
       "      <td>249.351400</td>\n",
       "      <td>0.136709</td>\n",
       "      <td>0.138176</td>\n",
       "      <td>0</td>\n",
       "      <td>16.3771</td>\n",
       "    </tr>\n",
       "    <tr>\n",
       "      <th>35</th>\n",
       "      <td>TSLA</td>\n",
       "      <td>2025-04-11 17:09:09</td>\n",
       "      <td>248.7000</td>\n",
       "      <td>248.7000</td>\n",
       "      <td>257.74</td>\n",
       "      <td>241.3629</td>\n",
       "      <td>253.00</td>\n",
       "      <td>252.40</td>\n",
       "      <td>0</td>\n",
       "      <td>249.22112</td>\n",
       "      <td>249.139521</td>\n",
       "      <td>0.0</td>\n",
       "      <td>249.22112</td>\n",
       "      <td>0.291315</td>\n",
       "      <td>249.803750</td>\n",
       "      <td>248.638490</td>\n",
       "      <td>0.077468</td>\n",
       "      <td>0.126034</td>\n",
       "      <td>0</td>\n",
       "      <td>16.3771</td>\n",
       "    </tr>\n",
       "  </tbody>\n",
       "</table>\n",
       "<p>126 rows × 20 columns</p>\n",
       "</div>"
      ],
      "text/plain": [
       "   ticker                date  adj_close     close    high       low    open  \\\n",
       "36   AAPL 2025-04-11 17:06:15   198.0950  198.0950  199.35  186.0600  191.83   \n",
       "37   AAPL 2025-04-11 17:06:24   198.0950  198.0950  199.35  186.0600  191.83   \n",
       "38   AAPL 2025-04-11 17:06:36   198.0950  198.0950  199.35  186.0600  191.83   \n",
       "39   AAPL 2025-04-11 17:06:45   198.0950  198.0950  199.35  186.0600  191.83   \n",
       "40   AAPL 2025-04-11 17:06:53   198.0950  198.0950  199.35  186.0600  191.83   \n",
       "..    ...                 ...        ...       ...     ...       ...     ...   \n",
       "31   TSLA 2025-04-11 17:08:25   249.3514  249.3514  257.74  241.3629  253.00   \n",
       "32   TSLA 2025-04-11 17:08:37   249.3514  249.3514  257.74  241.3629  253.00   \n",
       "33   TSLA 2025-04-11 17:08:49   249.3514  249.3514  257.74  241.3629  253.00   \n",
       "34   TSLA 2025-04-11 17:08:57   249.3514  249.3514  257.74  241.3629  253.00   \n",
       "35   TSLA 2025-04-11 17:09:09   248.7000  248.7000  257.74  241.3629  253.00   \n",
       "\n",
       "    previous_close  volume      SMA_5       EMA_5  RSI_5  BB_Middle    BB_Std  \\\n",
       "36          190.42       0        NaN  198.095000    NaN        NaN       NaN   \n",
       "37          190.42       0        NaN  198.095000    NaN        NaN       NaN   \n",
       "38          190.42       0        NaN  198.095000    NaN        NaN       NaN   \n",
       "39          190.42       0        NaN  198.095000    NaN        NaN       NaN   \n",
       "40          190.42       0  198.09500  198.095000    NaN  198.09500  0.000000   \n",
       "..             ...     ...        ...         ...    ...        ...       ...   \n",
       "31          252.40       0  249.41084  249.378001    0.0  249.41084  0.081392   \n",
       "32          252.40       0  249.38112  249.369134    0.0  249.38112  0.066456   \n",
       "33          252.40       0  249.35140  249.363223    0.0  249.35140  0.000000   \n",
       "34          252.40       0  249.35140  249.359282    NaN  249.35140  0.000000   \n",
       "35          252.40       0  249.22112  249.139521    0.0  249.22112  0.291315   \n",
       "\n",
       "      BB_Upper    BB_Lower      MACD  MACD_Signal  OBV    ATR_5  \n",
       "36         NaN         NaN  0.000000     0.000000    0      NaN  \n",
       "37         NaN         NaN  0.000000     0.000000    0      NaN  \n",
       "38         NaN         NaN  0.000000     0.000000    0      NaN  \n",
       "39         NaN         NaN  0.000000     0.000000    0      NaN  \n",
       "40  198.095000  198.095000  0.000000     0.000000    0  13.2900  \n",
       "..         ...         ...       ...          ...  ...      ...  \n",
       "31  249.573623  249.248057  0.158252     0.133662    0  16.3771  \n",
       "32  249.514032  249.248208  0.151233     0.137176    0  16.3771  \n",
       "33  249.351400  249.351400  0.144009     0.138543    0  16.3771  \n",
       "34  249.351400  249.351400  0.136709     0.138176    0  16.3771  \n",
       "35  249.803750  248.638490  0.077468     0.126034    0  16.3771  \n",
       "\n",
       "[126 rows x 20 columns]"
      ]
     },
     "metadata": {},
     "output_type": "display_data"
    }
   ],
   "source": [
    "def add_technical_indicators(df):\n",
    "    df = df.sort_values(by=['ticker', 'date'])\n",
    "    \n",
    "    # calculating Simple Moving Average (SMA)\n",
    "    df['SMA_5'] = df.groupby('ticker')['close'].transform(lambda x: x.rolling(window=5).mean())\n",
    "\n",
    "    # calculating Exponential Moving Average (EMA)\n",
    "    df['EMA_5'] = df.groupby('ticker')['close'].transform(lambda x: x.ewm(span=5, adjust=False).mean())\n",
    "\n",
    "    # calculating Relative Strength Index (RSI)\n",
    "    def compute_rsi(series, period=5):\n",
    "        delta = series.diff()\n",
    "        gain = delta.where(delta > 0, 0.0)\n",
    "        loss = -delta.where(delta < 0, 0.0)\n",
    "        avg_gain = gain.rolling(window=period).mean()\n",
    "        avg_loss = loss.rolling(window=period).mean()\n",
    "        rs = avg_gain / avg_loss\n",
    "        return 100 - (100 / (1 + rs))\n",
    "    \n",
    "    df['RSI_5'] = df.groupby('ticker')['close'].transform(lambda x: compute_rsi(x))\n",
    "\n",
    "    # calculating Bollinger Bands\n",
    "    df['BB_Middle'] = df.groupby('ticker')['close'].transform(lambda x: x.rolling(window=5).mean())\n",
    "    df['BB_Std'] = df.groupby('ticker')['close'].transform(lambda x: x.rolling(window=5).std())\n",
    "    df['BB_Upper'] = df['BB_Middle'] + 2 * df['BB_Std']\n",
    "    df['BB_Lower'] = df['BB_Middle'] - 2 * df['BB_Std']\n",
    "\n",
    "\n",
    "    # calculating MACD\n",
    "    ema12 = df.groupby('ticker')['close'].transform(lambda x: x.ewm(span=12, adjust=False).mean())\n",
    "    ema26 = df.groupby('ticker')['close'].transform(lambda x: x.ewm(span=26, adjust=False).mean())\n",
    "    df['MACD'] = ema12 - ema26\n",
    "    df['MACD_Signal'] = df.groupby('ticker')['MACD'].transform(lambda x: x.ewm(span=9, adjust=False).mean())\n",
    "\n",
    "    # calclulating On Balance Volume (OBV)\n",
    "    def compute_obv(group):\n",
    "        obv = [0]\n",
    "        for i in range(1, len(group)):\n",
    "            if group['close'].iloc[i] > group['close'].iloc[i - 1]:\n",
    "                obv.append(obv[-1] + group['volume'].iloc[i])\n",
    "            elif group['close'].iloc[i] < group['close'].iloc[i - 1]:\n",
    "                obv.append(obv[-1] - group['volume'].iloc[i])\n",
    "            else:\n",
    "                obv.append(obv[-1])\n",
    "        return pd.Series(obv, index=group.index)\n",
    "\n",
    "    df['OBV'] = df.groupby('ticker')[['close', 'volume']].apply(compute_obv).reset_index(level=0, drop=True)\n",
    "\n",
    "    # calculating Average True Range (ATR)\n",
    "    df['prev_close'] = df.groupby('ticker')['close'].shift(1)\n",
    "    df['high_low'] = df['high'] - df['low']\n",
    "    df['high_prev_close'] = (df['high'] - df['prev_close']).abs()\n",
    "    df['low_prev_close'] = (df['low'] - df['prev_close']).abs()\n",
    "    df['TR'] = df[['high_low', 'high_prev_close', 'low_prev_close']].max(axis=1)\n",
    "    df['ATR_5'] = df.groupby('ticker')['TR'].transform(lambda x: x.rolling(window=5).mean())\n",
    "\n",
    "    # dropping the temporary columns we had \n",
    "    df.drop(columns=['prev_close', 'high_low', 'high_prev_close', 'low_prev_close', 'TR'], inplace=True)\n",
    "\n",
    "    return df\n",
    "\n",
    "df_cleaned_cass_features=add_technical_indicators(df_cassandracleaned)\n",
    "display(df_cleaned_cass_features)"
   ]
  },
  {
   "cell_type": "markdown",
   "metadata": {},
   "source": [
    "## real time data: final cleaning \n",
    "Feature engineering introduced new features some of witch now contain nans such as SMA5, RSI5, Bollinger Bonds(BB upper, lower,std,middle), and ATR5. However OBV is 0 since it relies on volume which is not provided by 0. We would need to drop the volume and OBV column since it does not provide us data. However for: SMA_5, RSI_5, BB_Upper/Lower/Std/middle, ATR_5 they all have rollin windows of 5 values. So its suppose to have have NaN values in the first rows."
   ]
  },
  {
   "cell_type": "code",
   "execution_count": 12,
   "metadata": {},
   "outputs": [
    {
     "data": {
      "text/html": [
       "<div>\n",
       "<style scoped>\n",
       "    .dataframe tbody tr th:only-of-type {\n",
       "        vertical-align: middle;\n",
       "    }\n",
       "\n",
       "    .dataframe tbody tr th {\n",
       "        vertical-align: top;\n",
       "    }\n",
       "\n",
       "    .dataframe thead th {\n",
       "        text-align: right;\n",
       "    }\n",
       "</style>\n",
       "<table border=\"1\" class=\"dataframe\">\n",
       "  <thead>\n",
       "    <tr style=\"text-align: right;\">\n",
       "      <th></th>\n",
       "      <th>ticker</th>\n",
       "      <th>date</th>\n",
       "      <th>adj_close</th>\n",
       "      <th>close</th>\n",
       "      <th>high</th>\n",
       "      <th>low</th>\n",
       "      <th>open</th>\n",
       "      <th>previous_close</th>\n",
       "      <th>SMA_5</th>\n",
       "      <th>EMA_5</th>\n",
       "      <th>RSI_5</th>\n",
       "      <th>BB_Middle</th>\n",
       "      <th>BB_Std</th>\n",
       "      <th>BB_Upper</th>\n",
       "      <th>BB_Lower</th>\n",
       "      <th>MACD</th>\n",
       "      <th>MACD_Signal</th>\n",
       "      <th>ATR_5</th>\n",
       "    </tr>\n",
       "  </thead>\n",
       "  <tbody>\n",
       "    <tr>\n",
       "      <th>0</th>\n",
       "      <td>AAPL</td>\n",
       "      <td>2025-04-11 17:07:06</td>\n",
       "      <td>198.7600</td>\n",
       "      <td>198.7600</td>\n",
       "      <td>199.35</td>\n",
       "      <td>186.0600</td>\n",
       "      <td>191.83</td>\n",
       "      <td>190.42</td>\n",
       "      <td>198.22800</td>\n",
       "      <td>198.316667</td>\n",
       "      <td>100.0</td>\n",
       "      <td>198.22800</td>\n",
       "      <td>0.297397</td>\n",
       "      <td>198.822794</td>\n",
       "      <td>197.633206</td>\n",
       "      <td>0.053048</td>\n",
       "      <td>0.010610</td>\n",
       "      <td>13.2900</td>\n",
       "    </tr>\n",
       "    <tr>\n",
       "      <th>1</th>\n",
       "      <td>AAPL</td>\n",
       "      <td>2025-04-11 17:07:15</td>\n",
       "      <td>198.7600</td>\n",
       "      <td>198.7600</td>\n",
       "      <td>199.35</td>\n",
       "      <td>186.0600</td>\n",
       "      <td>191.83</td>\n",
       "      <td>190.42</td>\n",
       "      <td>198.36100</td>\n",
       "      <td>198.464444</td>\n",
       "      <td>100.0</td>\n",
       "      <td>198.36100</td>\n",
       "      <td>0.364236</td>\n",
       "      <td>199.089471</td>\n",
       "      <td>197.632529</td>\n",
       "      <td>0.094006</td>\n",
       "      <td>0.027289</td>\n",
       "      <td>13.2900</td>\n",
       "    </tr>\n",
       "    <tr>\n",
       "      <th>2</th>\n",
       "      <td>AAPL</td>\n",
       "      <td>2025-04-11 17:07:27</td>\n",
       "      <td>198.7600</td>\n",
       "      <td>198.7600</td>\n",
       "      <td>199.35</td>\n",
       "      <td>186.0600</td>\n",
       "      <td>191.83</td>\n",
       "      <td>190.42</td>\n",
       "      <td>198.49400</td>\n",
       "      <td>198.562963</td>\n",
       "      <td>100.0</td>\n",
       "      <td>198.49400</td>\n",
       "      <td>0.364236</td>\n",
       "      <td>199.222471</td>\n",
       "      <td>197.765529</td>\n",
       "      <td>0.125024</td>\n",
       "      <td>0.046836</td>\n",
       "      <td>13.2900</td>\n",
       "    </tr>\n",
       "    <tr>\n",
       "      <th>3</th>\n",
       "      <td>AAPL</td>\n",
       "      <td>2025-04-11 17:07:35</td>\n",
       "      <td>198.7600</td>\n",
       "      <td>198.7600</td>\n",
       "      <td>199.35</td>\n",
       "      <td>186.0600</td>\n",
       "      <td>191.83</td>\n",
       "      <td>190.42</td>\n",
       "      <td>198.62700</td>\n",
       "      <td>198.628642</td>\n",
       "      <td>100.0</td>\n",
       "      <td>198.62700</td>\n",
       "      <td>0.297397</td>\n",
       "      <td>199.221794</td>\n",
       "      <td>198.032206</td>\n",
       "      <td>0.147901</td>\n",
       "      <td>0.067049</td>\n",
       "      <td>13.2900</td>\n",
       "    </tr>\n",
       "    <tr>\n",
       "      <th>4</th>\n",
       "      <td>AAPL</td>\n",
       "      <td>2025-04-11 17:07:47</td>\n",
       "      <td>198.7600</td>\n",
       "      <td>198.7600</td>\n",
       "      <td>199.35</td>\n",
       "      <td>186.0600</td>\n",
       "      <td>191.83</td>\n",
       "      <td>190.42</td>\n",
       "      <td>198.76000</td>\n",
       "      <td>198.672428</td>\n",
       "      <td>100.0</td>\n",
       "      <td>198.76000</td>\n",
       "      <td>0.000000</td>\n",
       "      <td>198.760000</td>\n",
       "      <td>198.760000</td>\n",
       "      <td>0.164139</td>\n",
       "      <td>0.086467</td>\n",
       "      <td>13.2900</td>\n",
       "    </tr>\n",
       "    <tr>\n",
       "      <th>...</th>\n",
       "      <td>...</td>\n",
       "      <td>...</td>\n",
       "      <td>...</td>\n",
       "      <td>...</td>\n",
       "      <td>...</td>\n",
       "      <td>...</td>\n",
       "      <td>...</td>\n",
       "      <td>...</td>\n",
       "      <td>...</td>\n",
       "      <td>...</td>\n",
       "      <td>...</td>\n",
       "      <td>...</td>\n",
       "      <td>...</td>\n",
       "      <td>...</td>\n",
       "      <td>...</td>\n",
       "      <td>...</td>\n",
       "      <td>...</td>\n",
       "      <td>...</td>\n",
       "    </tr>\n",
       "    <tr>\n",
       "      <th>116</th>\n",
       "      <td>TSLA</td>\n",
       "      <td>2025-04-11 17:08:25</td>\n",
       "      <td>249.3514</td>\n",
       "      <td>249.3514</td>\n",
       "      <td>257.74</td>\n",
       "      <td>241.3629</td>\n",
       "      <td>253.00</td>\n",
       "      <td>252.40</td>\n",
       "      <td>249.41084</td>\n",
       "      <td>249.378001</td>\n",
       "      <td>0.0</td>\n",
       "      <td>249.41084</td>\n",
       "      <td>0.081392</td>\n",
       "      <td>249.573623</td>\n",
       "      <td>249.248057</td>\n",
       "      <td>0.158252</td>\n",
       "      <td>0.133662</td>\n",
       "      <td>16.3771</td>\n",
       "    </tr>\n",
       "    <tr>\n",
       "      <th>117</th>\n",
       "      <td>TSLA</td>\n",
       "      <td>2025-04-11 17:08:37</td>\n",
       "      <td>249.3514</td>\n",
       "      <td>249.3514</td>\n",
       "      <td>257.74</td>\n",
       "      <td>241.3629</td>\n",
       "      <td>253.00</td>\n",
       "      <td>252.40</td>\n",
       "      <td>249.38112</td>\n",
       "      <td>249.369134</td>\n",
       "      <td>0.0</td>\n",
       "      <td>249.38112</td>\n",
       "      <td>0.066456</td>\n",
       "      <td>249.514032</td>\n",
       "      <td>249.248208</td>\n",
       "      <td>0.151233</td>\n",
       "      <td>0.137176</td>\n",
       "      <td>16.3771</td>\n",
       "    </tr>\n",
       "    <tr>\n",
       "      <th>118</th>\n",
       "      <td>TSLA</td>\n",
       "      <td>2025-04-11 17:08:49</td>\n",
       "      <td>249.3514</td>\n",
       "      <td>249.3514</td>\n",
       "      <td>257.74</td>\n",
       "      <td>241.3629</td>\n",
       "      <td>253.00</td>\n",
       "      <td>252.40</td>\n",
       "      <td>249.35140</td>\n",
       "      <td>249.363223</td>\n",
       "      <td>0.0</td>\n",
       "      <td>249.35140</td>\n",
       "      <td>0.000000</td>\n",
       "      <td>249.351400</td>\n",
       "      <td>249.351400</td>\n",
       "      <td>0.144009</td>\n",
       "      <td>0.138543</td>\n",
       "      <td>16.3771</td>\n",
       "    </tr>\n",
       "    <tr>\n",
       "      <th>119</th>\n",
       "      <td>TSLA</td>\n",
       "      <td>2025-04-11 17:08:57</td>\n",
       "      <td>249.3514</td>\n",
       "      <td>249.3514</td>\n",
       "      <td>257.74</td>\n",
       "      <td>241.3629</td>\n",
       "      <td>253.00</td>\n",
       "      <td>252.40</td>\n",
       "      <td>249.35140</td>\n",
       "      <td>249.359282</td>\n",
       "      <td>0.0</td>\n",
       "      <td>249.35140</td>\n",
       "      <td>0.000000</td>\n",
       "      <td>249.351400</td>\n",
       "      <td>249.351400</td>\n",
       "      <td>0.136709</td>\n",
       "      <td>0.138176</td>\n",
       "      <td>16.3771</td>\n",
       "    </tr>\n",
       "    <tr>\n",
       "      <th>120</th>\n",
       "      <td>TSLA</td>\n",
       "      <td>2025-04-11 17:09:09</td>\n",
       "      <td>248.7000</td>\n",
       "      <td>248.7000</td>\n",
       "      <td>257.74</td>\n",
       "      <td>241.3629</td>\n",
       "      <td>253.00</td>\n",
       "      <td>252.40</td>\n",
       "      <td>249.22112</td>\n",
       "      <td>249.139521</td>\n",
       "      <td>0.0</td>\n",
       "      <td>249.22112</td>\n",
       "      <td>0.291315</td>\n",
       "      <td>249.803750</td>\n",
       "      <td>248.638490</td>\n",
       "      <td>0.077468</td>\n",
       "      <td>0.126034</td>\n",
       "      <td>16.3771</td>\n",
       "    </tr>\n",
       "  </tbody>\n",
       "</table>\n",
       "<p>121 rows × 18 columns</p>\n",
       "</div>"
      ],
      "text/plain": [
       "    ticker                date  adj_close     close    high       low    open  \\\n",
       "0     AAPL 2025-04-11 17:07:06   198.7600  198.7600  199.35  186.0600  191.83   \n",
       "1     AAPL 2025-04-11 17:07:15   198.7600  198.7600  199.35  186.0600  191.83   \n",
       "2     AAPL 2025-04-11 17:07:27   198.7600  198.7600  199.35  186.0600  191.83   \n",
       "3     AAPL 2025-04-11 17:07:35   198.7600  198.7600  199.35  186.0600  191.83   \n",
       "4     AAPL 2025-04-11 17:07:47   198.7600  198.7600  199.35  186.0600  191.83   \n",
       "..     ...                 ...        ...       ...     ...       ...     ...   \n",
       "116   TSLA 2025-04-11 17:08:25   249.3514  249.3514  257.74  241.3629  253.00   \n",
       "117   TSLA 2025-04-11 17:08:37   249.3514  249.3514  257.74  241.3629  253.00   \n",
       "118   TSLA 2025-04-11 17:08:49   249.3514  249.3514  257.74  241.3629  253.00   \n",
       "119   TSLA 2025-04-11 17:08:57   249.3514  249.3514  257.74  241.3629  253.00   \n",
       "120   TSLA 2025-04-11 17:09:09   248.7000  248.7000  257.74  241.3629  253.00   \n",
       "\n",
       "     previous_close      SMA_5       EMA_5  RSI_5  BB_Middle    BB_Std  \\\n",
       "0            190.42  198.22800  198.316667  100.0  198.22800  0.297397   \n",
       "1            190.42  198.36100  198.464444  100.0  198.36100  0.364236   \n",
       "2            190.42  198.49400  198.562963  100.0  198.49400  0.364236   \n",
       "3            190.42  198.62700  198.628642  100.0  198.62700  0.297397   \n",
       "4            190.42  198.76000  198.672428  100.0  198.76000  0.000000   \n",
       "..              ...        ...         ...    ...        ...       ...   \n",
       "116          252.40  249.41084  249.378001    0.0  249.41084  0.081392   \n",
       "117          252.40  249.38112  249.369134    0.0  249.38112  0.066456   \n",
       "118          252.40  249.35140  249.363223    0.0  249.35140  0.000000   \n",
       "119          252.40  249.35140  249.359282    0.0  249.35140  0.000000   \n",
       "120          252.40  249.22112  249.139521    0.0  249.22112  0.291315   \n",
       "\n",
       "       BB_Upper    BB_Lower      MACD  MACD_Signal    ATR_5  \n",
       "0    198.822794  197.633206  0.053048     0.010610  13.2900  \n",
       "1    199.089471  197.632529  0.094006     0.027289  13.2900  \n",
       "2    199.222471  197.765529  0.125024     0.046836  13.2900  \n",
       "3    199.221794  198.032206  0.147901     0.067049  13.2900  \n",
       "4    198.760000  198.760000  0.164139     0.086467  13.2900  \n",
       "..          ...         ...       ...          ...      ...  \n",
       "116  249.573623  249.248057  0.158252     0.133662  16.3771  \n",
       "117  249.514032  249.248208  0.151233     0.137176  16.3771  \n",
       "118  249.351400  249.351400  0.144009     0.138543  16.3771  \n",
       "119  249.351400  249.351400  0.136709     0.138176  16.3771  \n",
       "120  249.803750  248.638490  0.077468     0.126034  16.3771  \n",
       "\n",
       "[121 rows x 18 columns]"
      ]
     },
     "metadata": {},
     "output_type": "display_data"
    },
    {
     "name": "stdout",
     "output_type": "stream",
     "text": [
      "Which columns still have null?:\n",
      "ticker            0\n",
      "date              0\n",
      "adj_close         0\n",
      "close             0\n",
      "high              0\n",
      "low               0\n",
      "open              0\n",
      "previous_close    0\n",
      "SMA_5             0\n",
      "EMA_5             0\n",
      "RSI_5             0\n",
      "BB_Middle         0\n",
      "BB_Std            0\n",
      "BB_Upper          0\n",
      "BB_Lower          0\n",
      "MACD              0\n",
      "MACD_Signal       0\n",
      "ATR_5             0\n",
      "dtype: int64\n"
     ]
    }
   ],
   "source": [
    "def final_clean_realtime(df):\n",
    "    # first droppoing OBV and volume since it is not available in finnhub\n",
    "    df = df.drop(columns=['volume', 'OBV'])\n",
    "\n",
    "    #to remedy the remaining nulls we are applying forward fill \n",
    "    rolling_cols = ['SMA_5', 'EMA_5', 'RSI_5', 'BB_Middle', 'BB_Std', 'BB_Upper', 'BB_Lower', 'ATR_5']\n",
    "    df[rolling_cols] = df[rolling_cols].ffill()\n",
    "\n",
    "    #dropping the remaining nans that are not able to be forward filled\n",
    "    df = df.dropna(subset=rolling_cols).reset_index(drop=True)\n",
    "\n",
    "    return df\n",
    "\n",
    "df_cass_final = final_clean_realtime(df_cleaned_cass_features)\n",
    "display(df_cass_final)\n",
    "print('Which columns still have null?:')\n",
    "print(df_cass_final.isnull().sum())"
   ]
  },
  {
   "cell_type": "markdown",
   "metadata": {},
   "source": [
    "Analysis: We should keep NaNs during modeling prep later on since the remaining nans are only from rolling basis which is needed for our rolling features such as (SMA_5RSI_5,BB_Middle,BB_Std,BB_Upper,BB_Lower,ATR_5) to formulate a data point.\n",
    "\n",
    "We should drop or fill NaNs only for visualization, or use .dropna() just before plotting specific columns that require to have full rows without nans"
   ]
  },
  {
   "cell_type": "markdown",
   "metadata": {},
   "source": [
    "## Exploratory Data Analysis"
   ]
  },
  {
   "cell_type": "code",
   "execution_count": 13,
   "metadata": {},
   "outputs": [
    {
     "data": {
      "image/png": "[encoded data removed]",
      "text/plain": [
       "<Figure size 1400x600 with 1 Axes>"
      ]
     },
     "metadata": {},
     "output_type": "display_data"
    }
   ],
   "source": [
    "plt.figure(figsize=(14, 6))\n",
    "sns.lineplot(data=df_cass_final, x='date', y='close', hue='ticker', marker='o')\n",
    "plt.title(\"Close Price Comparison Over Time (All Tickers)\")\n",
    "plt.xlabel(\"Time\")\n",
    "plt.ylabel(\"Close Price\")\n",
    "plt.xticks(rotation=45)\n",
    "plt.grid(True)\n",
    "plt.tight_layout()\n",
    "plt.show()\n",
    "\n"
   ]
  },
  {
   "cell_type": "markdown",
   "metadata": {},
   "source": [
    "### Above is a line plot comparing all of the 7 companies by their real tiem close price changes. Each dot correlates to 1 quote retrieved at the time stamp. If the dot is missing for a line it was likely nan and dropped. "
   ]
  },
  {
   "cell_type": "code",
   "execution_count": 15,
   "metadata": {},
   "outputs": [
    {
     "data": {
      "application/vnd.plotly.v1+json": {
       "config": {
        "plotlyServerURL": "https://plot.ly"
       },
       "data": [
        {
         "close": {
          "bdata": "uB6F61HYaEC4HoXrUdhoQLgehetR2GhAuB6F61HYaEC4HoXrUdhoQLgehetR2GhAhetRuB7RaECF61G4HtFoQIXrUbge0WhAhetRuB7RaECF61G4HtFoQIXrUbge0WhAuB6F61HIaEA=",
          "dtype": "f8"
         },
         "high": {
          "bdata": "MzMzMzPraEAzMzMzM+toQDMzMzMz62hAMzMzMzPraEAzMzMzM+toQDMzMzMz62hAMzMzMzPraEAzMzMzM+toQDMzMzMz62hAMzMzMzPraEAzMzMzM+toQDMzMzMz62hAMzMzMzPraEA=",
          "dtype": "f8"
         },
         "low": {
          "bdata": "UrgehetBZ0BSuB6F60FnQFK4HoXrQWdAUrgehetBZ0BSuB6F60FnQFK4HoXrQWdAUrgehetBZ0BSuB6F60FnQFK4HoXrQWdAUrgehetBZ0BSuB6F60FnQFK4HoXrQWdAUrgehetBZ0A=",
          "dtype": "f8"
         },
         "open": {
          "bdata": "w/UoXI/6Z0DD9Shcj/pnQMP1KFyP+mdAw/UoXI/6Z0DD9Shcj/pnQMP1KFyP+mdAw/UoXI/6Z0DD9Shcj/pnQMP1KFyP+mdAw/UoXI/6Z0DD9Shcj/pnQMP1KFyP+mdAw/UoXI/6Z0A=",
          "dtype": "f8"
         },
         "type": "candlestick",
         "x": [
          "2025-04-11T17:07:06.000000000",
          "2025-04-11T17:07:15.000000000",
          "2025-04-11T17:07:27.000000000",
          "2025-04-11T17:07:35.000000000",
          "2025-04-11T17:07:47.000000000",
          "2025-04-11T17:07:56.000000000",
          "2025-04-11T17:08:08.000000000",
          "2025-04-11T17:08:16.000000000",
          "2025-04-11T17:08:25.000000000",
          "2025-04-11T17:08:37.000000000",
          "2025-04-11T17:08:45.000000000",
          "2025-04-11T17:08:57.000000000",
          "2025-04-11T17:09:09.000000000"
         ]
        }
       ],
       "layout": {
        "template": {
         "data": {
          "bar": [
           {
            "error_x": {
             "color": "#2a3f5f"
            },
            "error_y": {
             "color": "#2a3f5f"
            },
            "marker": {
             "line": {
              "color": "#E5ECF6",
              "width": 0.5
             },
             "pattern": {
              "fillmode": "overlay",
              "size": 10,
              "solidity": 0.2
             }
            },
            "type": "bar"
           }
          ],
          "barpolar": [
           {
            "marker": {
             "line": {
              "color": "#E5ECF6",
              "width": 0.5
             },
             "pattern": {
              "fillmode": "overlay",
              "size": 10,
              "solidity": 0.2
             }
            },
            "type": "barpolar"
           }
          ],
          "carpet": [
           {
            "aaxis": {
             "endlinecolor": "#2a3f5f",
             "gridcolor": "white",
             "linecolor": "white",
             "minorgridcolor": "white",
             "startlinecolor": "#2a3f5f"
            },
            "baxis": {
             "endlinecolor": "#2a3f5f",
             "gridcolor": "white",
             "linecolor": "white",
             "minorgridcolor": "white",
             "startlinecolor": "#2a3f5f"
            },
            "type": "carpet"
           }
          ],
          "choropleth": [
           {
            "colorbar": {
             "outlinewidth": 0,
             "ticks": ""
            },
            "type": "choropleth"
           }
          ],
          "contour": [
           {
            "colorbar": {
             "outlinewidth": 0,
             "ticks": ""
            },
            "colorscale": [
             [
              0,
              "#0d0887"
             ],
             [
              0.1111111111111111,
              "#46039f"
             ],
             [
              0.2222222222222222,
              "#7201a8"
             ],
             [
              0.3333333333333333,
              "#9c179e"
             ],
             [
              0.4444444444444444,
              "#bd3786"
             ],
             [
              0.5555555555555556,
              "#d8576b"
             ],
             [
              0.6666666666666666,
              "#ed7953"
             ],
             [
              0.7777777777777778,
              "#fb9f3a"
             ],
             [
              0.8888888888888888,
              "#fdca26"
             ],
             [
              1,
              "#f0f921"
             ]
            ],
            "type": "contour"
           }
          ],
          "contourcarpet": [
           {
            "colorbar": {
             "outlinewidth": 0,
             "ticks": ""
            },
            "type": "contourcarpet"
           }
          ],
          "heatmap": [
           {
            "colorbar": {
             "outlinewidth": 0,
             "ticks": ""
            },
            "colorscale": [
             [
              0,
              "#0d0887"
             ],
             [
              0.1111111111111111,
              "#46039f"
             ],
             [
              0.2222222222222222,
              "#7201a8"
             ],
             [
              0.3333333333333333,
              "#9c179e"
             ],
             [
              0.4444444444444444,
              "#bd3786"
             ],
             [
              0.5555555555555556,
              "#d8576b"
             ],
             [
              0.6666666666666666,
              "#ed7953"
             ],
             [
              0.7777777777777778,
              "#fb9f3a"
             ],
             [
              0.8888888888888888,
              "#fdca26"
             ],
             [
              1,
              "#f0f921"
             ]
            ],
            "type": "heatmap"
           }
          ],
          "histogram": [
           {
            "marker": {
             "pattern": {
              "fillmode": "overlay",
              "size": 10,
              "solidity": 0.2
             }
            },
            "type": "histogram"
           }
          ],
          "histogram2d": [
           {
            "colorbar": {
             "outlinewidth": 0,
             "ticks": ""
            },
            "colorscale": [
             [
              0,
              "#0d0887"
             ],
             [
              0.1111111111111111,
              "#46039f"
             ],
             [
              0.2222222222222222,
              "#7201a8"
             ],
             [
              0.3333333333333333,
              "#9c179e"
             ],
             [
              0.4444444444444444,
              "#bd3786"
             ],
             [
              0.5555555555555556,
              "#d8576b"
             ],
             [
              0.6666666666666666,
              "#ed7953"
             ],
             [
              0.7777777777777778,
              "#fb9f3a"
             ],
             [
              0.8888888888888888,
              "#fdca26"
             ],
             [
              1,
              "#f0f921"
             ]
            ],
            "type": "histogram2d"
           }
          ],
          "histogram2dcontour": [
           {
            "colorbar": {
             "outlinewidth": 0,
             "ticks": ""
            },
            "colorscale": [
             [
              0,
              "#0d0887"
             ],
             [
              0.1111111111111111,
              "#46039f"
             ],
             [
              0.2222222222222222,
              "#7201a8"
             ],
             [
              0.3333333333333333,
              "#9c179e"
             ],
             [
              0.4444444444444444,
              "#bd3786"
             ],
             [
              0.5555555555555556,
              "#d8576b"
             ],
             [
              0.6666666666666666,
              "#ed7953"
             ],
             [
              0.7777777777777778,
              "#fb9f3a"
             ],
             [
              0.8888888888888888,
              "#fdca26"
             ],
             [
              1,
              "#f0f921"
             ]
            ],
            "type": "histogram2dcontour"
           }
          ],
          "mesh3d": [
           {
            "colorbar": {
             "outlinewidth": 0,
             "ticks": ""
            },
            "type": "mesh3d"
           }
          ],
          "parcoords": [
           {
            "line": {
             "colorbar": {
              "outlinewidth": 0,
              "ticks": ""
             }
            },
            "type": "parcoords"
           }
          ],
          "pie": [
           {
            "automargin": true,
            "type": "pie"
           }
          ],
          "scatter": [
           {
            "fillpattern": {
             "fillmode": "overlay",
             "size": 10,
             "solidity": 0.2
            },
            "type": "scatter"
           }
          ],
          "scatter3d": [
           {
            "line": {
             "colorbar": {
              "outlinewidth": 0,
              "ticks": ""
             }
            },
            "marker": {
             "colorbar": {
              "outlinewidth": 0,
              "ticks": ""
             }
            },
            "type": "scatter3d"
           }
          ],
          "scattercarpet": [
           {
            "marker": {
             "colorbar": {
              "outlinewidth": 0,
              "ticks": ""
             }
            },
            "type": "scattercarpet"
           }
          ],
          "scattergeo": [
           {
            "marker": {
             "colorbar": {
              "outlinewidth": 0,
              "ticks": ""
             }
            },
            "type": "scattergeo"
           }
          ],
          "scattergl": [
           {
            "marker": {
             "colorbar": {
              "outlinewidth": 0,
              "ticks": ""
             }
            },
            "type": "scattergl"
           }
          ],
          "scattermap": [
           {
            "marker": {
             "colorbar": {
              "outlinewidth": 0,
              "ticks": ""
             }
            },
            "type": "scattermap"
           }
          ],
          "scattermapbox": [
           {
            "marker": {
             "colorbar": {
              "outlinewidth": 0,
              "ticks": ""
             }
            },
            "type": "scattermapbox"
           }
          ],
          "scatterpolar": [
           {
            "marker": {
             "colorbar": {
              "outlinewidth": 0,
              "ticks": ""
             }
            },
            "type": "scatterpolar"
           }
          ],
          "scatterpolargl": [
           {
            "marker": {
             "colorbar": {
              "outlinewidth": 0,
              "ticks": ""
             }
            },
            "type": "scatterpolargl"
           }
          ],
          "scatterternary": [
           {
            "marker": {
             "colorbar": {
              "outlinewidth": 0,
              "ticks": ""
             }
            },
            "type": "scatterternary"
           }
          ],
          "surface": [
           {
            "colorbar": {
             "outlinewidth": 0,
             "ticks": ""
            },
            "colorscale": [
             [
              0,
              "#0d0887"
             ],
             [
              0.1111111111111111,
              "#46039f"
             ],
             [
              0.2222222222222222,
              "#7201a8"
             ],
             [
              0.3333333333333333,
              "#9c179e"
             ],
             [
              0.4444444444444444,
              "#bd3786"
             ],
             [
              0.5555555555555556,
              "#d8576b"
             ],
             [
              0.6666666666666666,
              "#ed7953"
             ],
             [
              0.7777777777777778,
              "#fb9f3a"
             ],
             [
              0.8888888888888888,
              "#fdca26"
             ],
             [
              1,
              "#f0f921"
             ]
            ],
            "type": "surface"
           }
          ],
          "table": [
           {
            "cells": {
             "fill": {
              "color": "#EBF0F8"
             },
             "line": {
              "color": "white"
             }
            },
            "header": {
             "fill": {
              "color": "#C8D4E3"
             },
             "line": {
              "color": "white"
             }
            },
            "type": "table"
           }
          ]
         },
         "layout": {
          "annotationdefaults": {
           "arrowcolor": "#2a3f5f",
           "arrowhead": 0,
           "arrowwidth": 1
          },
          "autotypenumbers": "strict",
          "coloraxis": {
           "colorbar": {
            "outlinewidth": 0,
            "ticks": ""
           }
          },
          "colorscale": {
           "diverging": [
            [
             0,
             "#8e0152"
            ],
            [
             0.1,
             "#c51b7d"
            ],
            [
             0.2,
             "#de77ae"
            ],
            [
             0.3,
             "#f1b6da"
            ],
            [
             0.4,
             "#fde0ef"
            ],
            [
             0.5,
             "#f7f7f7"
            ],
            [
             0.6,
             "#e6f5d0"
            ],
            [
             0.7,
             "#b8e186"
            ],
            [
             0.8,
             "#7fbc41"
            ],
            [
             0.9,
             "#4d9221"
            ],
            [
             1,
             "#276419"
            ]
           ],
           "sequential": [
            [
             0,
             "#0d0887"
            ],
            [
             0.1111111111111111,
             "#46039f"
            ],
            [
             0.2222222222222222,
             "#7201a8"
            ],
            [
             0.3333333333333333,
             "#9c179e"
            ],
            [
             0.4444444444444444,
             "#bd3786"
            ],
            [
             0.5555555555555556,
             "#d8576b"
            ],
            [
             0.6666666666666666,
             "#ed7953"
            ],
            [
             0.7777777777777778,
             "#fb9f3a"
            ],
            [
             0.8888888888888888,
             "#fdca26"
            ],
            [
             1,
             "#f0f921"
            ]
           ],
           "sequentialminus": [
            [
             0,
             "#0d0887"
            ],
            [
             0.1111111111111111,
             "#46039f"
            ],
            [
             0.2222222222222222,
             "#7201a8"
            ],
            [
             0.3333333333333333,
             "#9c179e"
            ],
            [
             0.4444444444444444,
             "#bd3786"
            ],
            [
             0.5555555555555556,
             "#d8576b"
            ],
            [
             0.6666666666666666,
             "#ed7953"
            ],
            [
             0.7777777777777778,
             "#fb9f3a"
            ],
            [
             0.8888888888888888,
             "#fdca26"
            ],
            [
             1,
             "#f0f921"
            ]
           ]
          },
          "colorway": [
           "#636efa",
           "#EF553B",
           "#00cc96",
           "#ab63fa",
           "#FFA15A",
           "#19d3f3",
           "#FF6692",
           "#B6E880",
           "#FF97FF",
           "#FECB52"
          ],
          "font": {
           "color": "#2a3f5f"
          },
          "geo": {
           "bgcolor": "white",
           "lakecolor": "white",
           "landcolor": "#E5ECF6",
           "showlakes": true,
           "showland": true,
           "subunitcolor": "white"
          },
          "hoverlabel": {
           "align": "left"
          },
          "hovermode": "closest",
          "mapbox": {
           "style": "light"
          },
          "paper_bgcolor": "white",
          "plot_bgcolor": "#E5ECF6",
          "polar": {
           "angularaxis": {
            "gridcolor": "white",
            "linecolor": "white",
            "ticks": ""
           },
           "bgcolor": "#E5ECF6",
           "radialaxis": {
            "gridcolor": "white",
            "linecolor": "white",
            "ticks": ""
           }
          },
          "scene": {
           "xaxis": {
            "backgroundcolor": "#E5ECF6",
            "gridcolor": "white",
            "gridwidth": 2,
            "linecolor": "white",
            "showbackground": true,
            "ticks": "",
            "zerolinecolor": "white"
           },
           "yaxis": {
            "backgroundcolor": "#E5ECF6",
            "gridcolor": "white",
            "gridwidth": 2,
            "linecolor": "white",
            "showbackground": true,
            "ticks": "",
            "zerolinecolor": "white"
           },
           "zaxis": {
            "backgroundcolor": "#E5ECF6",
            "gridcolor": "white",
            "gridwidth": 2,
            "linecolor": "white",
            "showbackground": true,
            "ticks": "",
            "zerolinecolor": "white"
           }
          },
          "shapedefaults": {
           "line": {
            "color": "#2a3f5f"
           }
          },
          "ternary": {
           "aaxis": {
            "gridcolor": "white",
            "linecolor": "white",
            "ticks": ""
           },
           "baxis": {
            "gridcolor": "white",
            "linecolor": "white",
            "ticks": ""
           },
           "bgcolor": "#E5ECF6",
           "caxis": {
            "gridcolor": "white",
            "linecolor": "white",
            "ticks": ""
           }
          },
          "title": {
           "x": 0.05
          },
          "xaxis": {
           "automargin": true,
           "gridcolor": "white",
           "linecolor": "white",
           "ticks": "",
           "title": {
            "standoff": 15
           },
           "zerolinecolor": "white",
           "zerolinewidth": 2
          },
          "yaxis": {
           "automargin": true,
           "gridcolor": "white",
           "linecolor": "white",
           "ticks": "",
           "title": {
            "standoff": 15
           },
           "zerolinecolor": "white",
           "zerolinewidth": 2
          }
         }
        },
        "title": {
         "text": "AAPL Candlestick Chart"
        },
        "xaxis": {
         "title": {
          "text": "Time"
         }
        },
        "yaxis": {
         "title": {
          "text": "Price"
         }
        }
       }
      }
     },
     "metadata": {},
     "output_type": "display_data"
    },
    {
     "data": {
      "application/vnd.plotly.v1+json": {
       "config": {
        "plotlyServerURL": "https://plot.ly"
       },
       "data": [
        {
         "close": {
          "bdata": "CtejcD3qZkAK16NwPepmQArXo3A96mZACtejcD3qZkAK16NwPepmQOF6FK5H+WZA4XoUrkf5ZkDhehSuR/lmQOF6FK5H+WZA4XoUrkf5ZkDhehSuR/lmQAAAAAAA9GZAAAAAAAD0ZkAAAAAAAPRmQAAAAAAA9GZAAAAAAAD0ZkAAAAAAAPRmQGZmZmZm5mZA",
          "dtype": "f8"
         },
         "high": {
          "bdata": "4XoUrkcBZ0DhehSuRwFnQOF6FK5HAWdA4XoUrkcBZ0DhehSuRwFnQOF6FK5HAWdA4XoUrkcBZ0DhehSuRwFnQOF6FK5HAWdA4XoUrkcBZ0DhehSuRwFnQOF6FK5HAWdA4XoUrkcBZ0DhehSuRwFnQOF6FK5HAWdA4XoUrkcBZ0DhehSuRwFnQOF6FK5HAWdA",
          "dtype": "f8"
         },
         "low": {
          "bdata": "AAAAAABAZkAAAAAAAEBmQAAAAAAAQGZAAAAAAABAZkAAAAAAAEBmQAAAAAAAQGZAAAAAAABAZkAAAAAAAEBmQAAAAAAAQGZAAAAAAABAZkAAAAAAAEBmQAAAAAAAQGZAAAAAAABAZkAAAAAAAEBmQAAAAAAAQGZAAAAAAABAZkAAAAAAAEBmQAAAAAAAQGZA",
          "dtype": "f8"
         },
         "open": {
          "bdata": "rkfhehTWZkCuR+F6FNZmQK5H4XoU1mZArkfhehTWZkCuR+F6FNZmQK5H4XoU1mZArkfhehTWZkCuR+F6FNZmQK5H4XoU1mZArkfhehTWZkCuR+F6FNZmQK5H4XoU1mZArkfhehTWZkCuR+F6FNZmQK5H4XoU1mZArkfhehTWZkCuR+F6FNZmQK5H4XoU1mZA",
          "dtype": "f8"
         },
         "type": "candlestick",
         "x": [
          "2025-04-11T17:06:13.000000000",
          "2025-04-11T17:06:23.000000000",
          "2025-04-11T17:06:37.000000000",
          "2025-04-11T17:06:45.000000000",
          "2025-04-11T17:06:52.000000000",
          "2025-04-11T17:07:06.000000000",
          "2025-04-11T17:07:15.000000000",
          "2025-04-11T17:07:27.000000000",
          "2025-04-11T17:07:34.000000000",
          "2025-04-11T17:07:47.000000000",
          "2025-04-11T17:07:56.000000000",
          "2025-04-11T17:08:08.000000000",
          "2025-04-11T17:08:16.000000000",
          "2025-04-11T17:08:25.000000000",
          "2025-04-11T17:08:36.000000000",
          "2025-04-11T17:08:45.000000000",
          "2025-04-11T17:08:57.000000000",
          "2025-04-11T17:09:09.000000000"
         ]
        }
       ],
       "layout": {
        "template": {
         "data": {
          "bar": [
           {
            "error_x": {
             "color": "#2a3f5f"
            },
            "error_y": {
             "color": "#2a3f5f"
            },
            "marker": {
             "line": {
              "color": "#E5ECF6",
              "width": 0.5
             },
             "pattern": {
              "fillmode": "overlay",
              "size": 10,
              "solidity": 0.2
             }
            },
            "type": "bar"
           }
          ],
          "barpolar": [
           {
            "marker": {
             "line": {
              "color": "#E5ECF6",
              "width": 0.5
             },
             "pattern": {
              "fillmode": "overlay",
              "size": 10,
              "solidity": 0.2
             }
            },
            "type": "barpolar"
           }
          ],
          "carpet": [
           {
            "aaxis": {
             "endlinecolor": "#2a3f5f",
             "gridcolor": "white",
             "linecolor": "white",
             "minorgridcolor": "white",
             "startlinecolor": "#2a3f5f"
            },
            "baxis": {
             "endlinecolor": "#2a3f5f",
             "gridcolor": "white",
             "linecolor": "white",
             "minorgridcolor": "white",
             "startlinecolor": "#2a3f5f"
            },
            "type": "carpet"
           }
          ],
          "choropleth": [
           {
            "colorbar": {
             "outlinewidth": 0,
             "ticks": ""
            },
            "type": "choropleth"
           }
          ],
          "contour": [
           {
            "colorbar": {
             "outlinewidth": 0,
             "ticks": ""
            },
            "colorscale": [
             [
              0,
              "#0d0887"
             ],
             [
              0.1111111111111111,
              "#46039f"
             ],
             [
              0.2222222222222222,
              "#7201a8"
             ],
             [
              0.3333333333333333,
              "#9c179e"
             ],
             [
              0.4444444444444444,
              "#bd3786"
             ],
             [
              0.5555555555555556,
              "#d8576b"
             ],
             [
              0.6666666666666666,
              "#ed7953"
             ],
             [
              0.7777777777777778,
              "#fb9f3a"
             ],
             [
              0.8888888888888888,
              "#fdca26"
             ],
             [
              1,
              "#f0f921"
             ]
            ],
            "type": "contour"
           }
          ],
          "contourcarpet": [
           {
            "colorbar": {
             "outlinewidth": 0,
             "ticks": ""
            },
            "type": "contourcarpet"
           }
          ],
          "heatmap": [
           {
            "colorbar": {
             "outlinewidth": 0,
             "ticks": ""
            },
            "colorscale": [
             [
              0,
              "#0d0887"
             ],
             [
              0.1111111111111111,
              "#46039f"
             ],
             [
              0.2222222222222222,
              "#7201a8"
             ],
             [
              0.3333333333333333,
              "#9c179e"
             ],
             [
              0.4444444444444444,
              "#bd3786"
             ],
             [
              0.5555555555555556,
              "#d8576b"
             ],
             [
              0.6666666666666666,
              "#ed7953"
             ],
             [
              0.7777777777777778,
              "#fb9f3a"
             ],
             [
              0.8888888888888888,
              "#fdca26"
             ],
             [
              1,
              "#f0f921"
             ]
            ],
            "type": "heatmap"
           }
          ],
          "histogram": [
           {
            "marker": {
             "pattern": {
              "fillmode": "overlay",
              "size": 10,
              "solidity": 0.2
             }
            },
            "type": "histogram"
           }
          ],
          "histogram2d": [
           {
            "colorbar": {
             "outlinewidth": 0,
             "ticks": ""
            },
            "colorscale": [
             [
              0,
              "#0d0887"
             ],
             [
              0.1111111111111111,
              "#46039f"
             ],
             [
              0.2222222222222222,
              "#7201a8"
             ],
             [
              0.3333333333333333,
              "#9c179e"
             ],
             [
              0.4444444444444444,
              "#bd3786"
             ],
             [
              0.5555555555555556,
              "#d8576b"
             ],
             [
              0.6666666666666666,
              "#ed7953"
             ],
             [
              0.7777777777777778,
              "#fb9f3a"
             ],
             [
              0.8888888888888888,
              "#fdca26"
             ],
             [
              1,
              "#f0f921"
             ]
            ],
            "type": "histogram2d"
           }
          ],
          "histogram2dcontour": [
           {
            "colorbar": {
             "outlinewidth": 0,
             "ticks": ""
            },
            "colorscale": [
             [
              0,
              "#0d0887"
             ],
             [
              0.1111111111111111,
              "#46039f"
             ],
             [
              0.2222222222222222,
              "#7201a8"
             ],
             [
              0.3333333333333333,
              "#9c179e"
             ],
             [
              0.4444444444444444,
              "#bd3786"
             ],
             [
              0.5555555555555556,
              "#d8576b"
             ],
             [
              0.6666666666666666,
              "#ed7953"
             ],
             [
              0.7777777777777778,
              "#fb9f3a"
             ],
             [
              0.8888888888888888,
              "#fdca26"
             ],
             [
              1,
              "#f0f921"
             ]
            ],
            "type": "histogram2dcontour"
           }
          ],
          "mesh3d": [
           {
            "colorbar": {
             "outlinewidth": 0,
             "ticks": ""
            },
            "type": "mesh3d"
           }
          ],
          "parcoords": [
           {
            "line": {
             "colorbar": {
              "outlinewidth": 0,
              "ticks": ""
             }
            },
            "type": "parcoords"
           }
          ],
          "pie": [
           {
            "automargin": true,
            "type": "pie"
           }
          ],
          "scatter": [
           {
            "fillpattern": {
             "fillmode": "overlay",
             "size": 10,
             "solidity": 0.2
            },
            "type": "scatter"
           }
          ],
          "scatter3d": [
           {
            "line": {
             "colorbar": {
              "outlinewidth": 0,
              "ticks": ""
             }
            },
            "marker": {
             "colorbar": {
              "outlinewidth": 0,
              "ticks": ""
             }
            },
            "type": "scatter3d"
           }
          ],
          "scattercarpet": [
           {
            "marker": {
             "colorbar": {
              "outlinewidth": 0,
              "ticks": ""
             }
            },
            "type": "scattercarpet"
           }
          ],
          "scattergeo": [
           {
            "marker": {
             "colorbar": {
              "outlinewidth": 0,
              "ticks": ""
             }
            },
            "type": "scattergeo"
           }
          ],
          "scattergl": [
           {
            "marker": {
             "colorbar": {
              "outlinewidth": 0,
              "ticks": ""
             }
            },
            "type": "scattergl"
           }
          ],
          "scattermap": [
           {
            "marker": {
             "colorbar": {
              "outlinewidth": 0,
              "ticks": ""
             }
            },
            "type": "scattermap"
           }
          ],
          "scattermapbox": [
           {
            "marker": {
             "colorbar": {
              "outlinewidth": 0,
              "ticks": ""
             }
            },
            "type": "scattermapbox"
           }
          ],
          "scatterpolar": [
           {
            "marker": {
             "colorbar": {
              "outlinewidth": 0,
              "ticks": ""
             }
            },
            "type": "scatterpolar"
           }
          ],
          "scatterpolargl": [
           {
            "marker": {
             "colorbar": {
              "outlinewidth": 0,
              "ticks": ""
             }
            },
            "type": "scatterpolargl"
           }
          ],
          "scatterternary": [
           {
            "marker": {
             "colorbar": {
              "outlinewidth": 0,
              "ticks": ""
             }
            },
            "type": "scatterternary"
           }
          ],
          "surface": [
           {
            "colorbar": {
             "outlinewidth": 0,
             "ticks": ""
            },
            "colorscale": [
             [
              0,
              "#0d0887"
             ],
             [
              0.1111111111111111,
              "#46039f"
             ],
             [
              0.2222222222222222,
              "#7201a8"
             ],
             [
              0.3333333333333333,
              "#9c179e"
             ],
             [
              0.4444444444444444,
              "#bd3786"
             ],
             [
              0.5555555555555556,
              "#d8576b"
             ],
             [
              0.6666666666666666,
              "#ed7953"
             ],
             [
              0.7777777777777778,
              "#fb9f3a"
             ],
             [
              0.8888888888888888,
              "#fdca26"
             ],
             [
              1,
              "#f0f921"
             ]
            ],
            "type": "surface"
           }
          ],
          "table": [
           {
            "cells": {
             "fill": {
              "color": "#EBF0F8"
             },
             "line": {
              "color": "white"
             }
            },
            "header": {
             "fill": {
              "color": "#C8D4E3"
             },
             "line": {
              "color": "white"
             }
            },
            "type": "table"
           }
          ]
         },
         "layout": {
          "annotationdefaults": {
           "arrowcolor": "#2a3f5f",
           "arrowhead": 0,
           "arrowwidth": 1
          },
          "autotypenumbers": "strict",
          "coloraxis": {
           "colorbar": {
            "outlinewidth": 0,
            "ticks": ""
           }
          },
          "colorscale": {
           "diverging": [
            [
             0,
             "#8e0152"
            ],
            [
             0.1,
             "#c51b7d"
            ],
            [
             0.2,
             "#de77ae"
            ],
            [
             0.3,
             "#f1b6da"
            ],
            [
             0.4,
             "#fde0ef"
            ],
            [
             0.5,
             "#f7f7f7"
            ],
            [
             0.6,
             "#e6f5d0"
            ],
            [
             0.7,
             "#b8e186"
            ],
            [
             0.8,
             "#7fbc41"
            ],
            [
             0.9,
             "#4d9221"
            ],
            [
             1,
             "#276419"
            ]
           ],
           "sequential": [
            [
             0,
             "#0d0887"
            ],
            [
             0.1111111111111111,
             "#46039f"
            ],
            [
             0.2222222222222222,
             "#7201a8"
            ],
            [
             0.3333333333333333,
             "#9c179e"
            ],
            [
             0.4444444444444444,
             "#bd3786"
            ],
            [
             0.5555555555555556,
             "#d8576b"
            ],
            [
             0.6666666666666666,
             "#ed7953"
            ],
            [
             0.7777777777777778,
             "#fb9f3a"
            ],
            [
             0.8888888888888888,
             "#fdca26"
            ],
            [
             1,
             "#f0f921"
            ]
           ],
           "sequentialminus": [
            [
             0,
             "#0d0887"
            ],
            [
             0.1111111111111111,
             "#46039f"
            ],
            [
             0.2222222222222222,
             "#7201a8"
            ],
            [
             0.3333333333333333,
             "#9c179e"
            ],
            [
             0.4444444444444444,
             "#bd3786"
            ],
            [
             0.5555555555555556,
             "#d8576b"
            ],
            [
             0.6666666666666666,
             "#ed7953"
            ],
            [
             0.7777777777777778,
             "#fb9f3a"
            ],
            [
             0.8888888888888888,
             "#fdca26"
            ],
            [
             1,
             "#f0f921"
            ]
           ]
          },
          "colorway": [
           "#636efa",
           "#EF553B",
           "#00cc96",
           "#ab63fa",
           "#FFA15A",
           "#19d3f3",
           "#FF6692",
           "#B6E880",
           "#FF97FF",
           "#FECB52"
          ],
          "font": {
           "color": "#2a3f5f"
          },
          "geo": {
           "bgcolor": "white",
           "lakecolor": "white",
           "landcolor": "#E5ECF6",
           "showlakes": true,
           "showland": true,
           "subunitcolor": "white"
          },
          "hoverlabel": {
           "align": "left"
          },
          "hovermode": "closest",
          "mapbox": {
           "style": "light"
          },
          "paper_bgcolor": "white",
          "plot_bgcolor": "#E5ECF6",
          "polar": {
           "angularaxis": {
            "gridcolor": "white",
            "linecolor": "white",
            "ticks": ""
           },
           "bgcolor": "#E5ECF6",
           "radialaxis": {
            "gridcolor": "white",
            "linecolor": "white",
            "ticks": ""
           }
          },
          "scene": {
           "xaxis": {
            "backgroundcolor": "#E5ECF6",
            "gridcolor": "white",
            "gridwidth": 2,
            "linecolor": "white",
            "showbackground": true,
            "ticks": "",
            "zerolinecolor": "white"
           },
           "yaxis": {
            "backgroundcolor": "#E5ECF6",
            "gridcolor": "white",
            "gridwidth": 2,
            "linecolor": "white",
            "showbackground": true,
            "ticks": "",
            "zerolinecolor": "white"
           },
           "zaxis": {
            "backgroundcolor": "#E5ECF6",
            "gridcolor": "white",
            "gridwidth": 2,
            "linecolor": "white",
            "showbackground": true,
            "ticks": "",
            "zerolinecolor": "white"
           }
          },
          "shapedefaults": {
           "line": {
            "color": "#2a3f5f"
           }
          },
          "ternary": {
           "aaxis": {
            "gridcolor": "white",
            "linecolor": "white",
            "ticks": ""
           },
           "baxis": {
            "gridcolor": "white",
            "linecolor": "white",
            "ticks": ""
           },
           "bgcolor": "#E5ECF6",
           "caxis": {
            "gridcolor": "white",
            "linecolor": "white",
            "ticks": ""
           }
          },
          "title": {
           "x": 0.05
          },
          "xaxis": {
           "automargin": true,
           "gridcolor": "white",
           "linecolor": "white",
           "ticks": "",
           "title": {
            "standoff": 15
           },
           "zerolinecolor": "white",
           "zerolinewidth": 2
          },
          "yaxis": {
           "automargin": true,
           "gridcolor": "white",
           "linecolor": "white",
           "ticks": "",
           "title": {
            "standoff": 15
           },
           "zerolinecolor": "white",
           "zerolinewidth": 2
          }
         }
        },
        "title": {
         "text": "AMZN Candlestick Chart"
        },
        "xaxis": {
         "title": {
          "text": "Time"
         }
        },
        "yaxis": {
         "title": {
          "text": "Price"
         }
        }
       }
      }
     },
     "metadata": {},
     "output_type": "display_data"
    },
    {
     "data": {
      "application/vnd.plotly.v1+json": {
       "config": {
        "plotlyServerURL": "https://plot.ly"
       },
       "data": [
        {
         "close": {
          "bdata": "KVyPwvWgY0ApXI/C9aBjQClcj8L1oGNAKVyPwvWgY0ApXI/C9aBjQJqZmZmZqWNAmpmZmZmpY0CamZmZmaljQJqZmZmZqWNAmpmZmZmpY0CamZmZmaljQGZmZmZmpmNAZmZmZmamY0BmZmZmZqZjQGZmZmZmpmNAZmZmZmamY0BmZmZmZqZjQPYoXI/CnWNA",
          "dtype": "f8"
         },
         "high": {
          "bdata": "zczMzMywY0DNzMzMzLBjQM3MzMzMsGNAzczMzMywY0DNzMzMzLBjQM3MzMzMsGNAzczMzMywY0DNzMzMzLBjQM3MzMzMsGNAzczMzMywY0DNzMzMzLBjQM3MzMzMsGNAzczMzMywY0DNzMzMzLBjQM3MzMzMsGNAzczMzMywY0DNzMzMzLBjQM3MzMzMsGNA",
          "dtype": "f8"
         },
         "low": {
          "bdata": "CtejcD0aY0AK16NwPRpjQArXo3A9GmNACtejcD0aY0AK16NwPRpjQArXo3A9GmNACtejcD0aY0AK16NwPRpjQArXo3A9GmNACtejcD0aY0AK16NwPRpjQArXo3A9GmNACtejcD0aY0AK16NwPRpjQArXo3A9GmNACtejcD0aY0AK16NwPRpjQArXo3A9GmNA",
          "dtype": "f8"
         },
         "open": {
          "bdata": "UrgehetRY0BSuB6F61FjQFK4HoXrUWNAUrgehetRY0BSuB6F61FjQFK4HoXrUWNAUrgehetRY0BSuB6F61FjQFK4HoXrUWNAUrgehetRY0BSuB6F61FjQFK4HoXrUWNAUrgehetRY0BSuB6F61FjQFK4HoXrUWNAUrgehetRY0BSuB6F61FjQFK4HoXrUWNA",
          "dtype": "f8"
         },
         "type": "candlestick",
         "x": [
          "2025-04-11T17:06:14.000000000",
          "2025-04-11T17:06:24.000000000",
          "2025-04-11T17:06:37.000000000",
          "2025-04-11T17:06:45.000000000",
          "2025-04-11T17:06:52.000000000",
          "2025-04-11T17:07:06.000000000",
          "2025-04-11T17:07:15.000000000",
          "2025-04-11T17:07:26.000000000",
          "2025-04-11T17:07:35.000000000",
          "2025-04-11T17:07:47.000000000",
          "2025-04-11T17:07:56.000000000",
          "2025-04-11T17:08:08.000000000",
          "2025-04-11T17:08:16.000000000",
          "2025-04-11T17:08:25.000000000",
          "2025-04-11T17:08:37.000000000",
          "2025-04-11T17:08:45.000000000",
          "2025-04-11T17:08:57.000000000",
          "2025-04-11T17:09:09.000000000"
         ]
        }
       ],
       "layout": {
        "template": {
         "data": {
          "bar": [
           {
            "error_x": {
             "color": "#2a3f5f"
            },
            "error_y": {
             "color": "#2a3f5f"
            },
            "marker": {
             "line": {
              "color": "#E5ECF6",
              "width": 0.5
             },
             "pattern": {
              "fillmode": "overlay",
              "size": 10,
              "solidity": 0.2
             }
            },
            "type": "bar"
           }
          ],
          "barpolar": [
           {
            "marker": {
             "line": {
              "color": "#E5ECF6",
              "width": 0.5
             },
             "pattern": {
              "fillmode": "overlay",
              "size": 10,
              "solidity": 0.2
             }
            },
            "type": "barpolar"
           }
          ],
          "carpet": [
           {
            "aaxis": {
             "endlinecolor": "#2a3f5f",
             "gridcolor": "white",
             "linecolor": "white",
             "minorgridcolor": "white",
             "startlinecolor": "#2a3f5f"
            },
            "baxis": {
             "endlinecolor": "#2a3f5f",
             "gridcolor": "white",
             "linecolor": "white",
             "minorgridcolor": "white",
             "startlinecolor": "#2a3f5f"
            },
            "type": "carpet"
           }
          ],
          "choropleth": [
           {
            "colorbar": {
             "outlinewidth": 0,
             "ticks": ""
            },
            "type": "choropleth"
           }
          ],
          "contour": [
           {
            "colorbar": {
             "outlinewidth": 0,
             "ticks": ""
            },
            "colorscale": [
             [
              0,
              "#0d0887"
             ],
             [
              0.1111111111111111,
              "#46039f"
             ],
             [
              0.2222222222222222,
              "#7201a8"
             ],
             [
              0.3333333333333333,
              "#9c179e"
             ],
             [
              0.4444444444444444,
              "#bd3786"
             ],
             [
              0.5555555555555556,
              "#d8576b"
             ],
             [
              0.6666666666666666,
              "#ed7953"
             ],
             [
              0.7777777777777778,
              "#fb9f3a"
             ],
             [
              0.8888888888888888,
              "#fdca26"
             ],
             [
              1,
              "#f0f921"
             ]
            ],
            "type": "contour"
           }
          ],
          "contourcarpet": [
           {
            "colorbar": {
             "outlinewidth": 0,
             "ticks": ""
            },
            "type": "contourcarpet"
           }
          ],
          "heatmap": [
           {
            "colorbar": {
             "outlinewidth": 0,
             "ticks": ""
            },
            "colorscale": [
             [
              0,
              "#0d0887"
             ],
             [
              0.1111111111111111,
              "#46039f"
             ],
             [
              0.2222222222222222,
              "#7201a8"
             ],
             [
              0.3333333333333333,
              "#9c179e"
             ],
             [
              0.4444444444444444,
              "#bd3786"
             ],
             [
              0.5555555555555556,
              "#d8576b"
             ],
             [
              0.6666666666666666,
              "#ed7953"
             ],
             [
              0.7777777777777778,
              "#fb9f3a"
             ],
             [
              0.8888888888888888,
              "#fdca26"
             ],
             [
              1,
              "#f0f921"
             ]
            ],
            "type": "heatmap"
           }
          ],
          "histogram": [
           {
            "marker": {
             "pattern": {
              "fillmode": "overlay",
              "size": 10,
              "solidity": 0.2
             }
            },
            "type": "histogram"
           }
          ],
          "histogram2d": [
           {
            "colorbar": {
             "outlinewidth": 0,
             "ticks": ""
            },
            "colorscale": [
             [
              0,
              "#0d0887"
             ],
             [
              0.1111111111111111,
              "#46039f"
             ],
             [
              0.2222222222222222,
              "#7201a8"
             ],
             [
              0.3333333333333333,
              "#9c179e"
             ],
             [
              0.4444444444444444,
              "#bd3786"
             ],
             [
              0.5555555555555556,
              "#d8576b"
             ],
             [
              0.6666666666666666,
              "#ed7953"
             ],
             [
              0.7777777777777778,
              "#fb9f3a"
             ],
             [
              0.8888888888888888,
              "#fdca26"
             ],
             [
              1,
              "#f0f921"
             ]
            ],
            "type": "histogram2d"
           }
          ],
          "histogram2dcontour": [
           {
            "colorbar": {
             "outlinewidth": 0,
             "ticks": ""
            },
            "colorscale": [
             [
              0,
              "#0d0887"
             ],
             [
              0.1111111111111111,
              "#46039f"
             ],
             [
              0.2222222222222222,
              "#7201a8"
             ],
             [
              0.3333333333333333,
              "#9c179e"
             ],
             [
              0.4444444444444444,
              "#bd3786"
             ],
             [
              0.5555555555555556,
              "#d8576b"
             ],
             [
              0.6666666666666666,
              "#ed7953"
             ],
             [
              0.7777777777777778,
              "#fb9f3a"
             ],
             [
              0.8888888888888888,
              "#fdca26"
             ],
             [
              1,
              "#f0f921"
             ]
            ],
            "type": "histogram2dcontour"
           }
          ],
          "mesh3d": [
           {
            "colorbar": {
             "outlinewidth": 0,
             "ticks": ""
            },
            "type": "mesh3d"
           }
          ],
          "parcoords": [
           {
            "line": {
             "colorbar": {
              "outlinewidth": 0,
              "ticks": ""
             }
            },
            "type": "parcoords"
           }
          ],
          "pie": [
           {
            "automargin": true,
            "type": "pie"
           }
          ],
          "scatter": [
           {
            "fillpattern": {
             "fillmode": "overlay",
             "size": 10,
             "solidity": 0.2
            },
            "type": "scatter"
           }
          ],
          "scatter3d": [
           {
            "line": {
             "colorbar": {
              "outlinewidth": 0,
              "ticks": ""
             }
            },
            "marker": {
             "colorbar": {
              "outlinewidth": 0,
              "ticks": ""
             }
            },
            "type": "scatter3d"
           }
          ],
          "scattercarpet": [
           {
            "marker": {
             "colorbar": {
              "outlinewidth": 0,
              "ticks": ""
             }
            },
            "type": "scattercarpet"
           }
          ],
          "scattergeo": [
           {
            "marker": {
             "colorbar": {
              "outlinewidth": 0,
              "ticks": ""
             }
            },
            "type": "scattergeo"
           }
          ],
          "scattergl": [
           {
            "marker": {
             "colorbar": {
              "outlinewidth": 0,
              "ticks": ""
             }
            },
            "type": "scattergl"
           }
          ],
          "scattermap": [
           {
            "marker": {
             "colorbar": {
              "outlinewidth": 0,
              "ticks": ""
             }
            },
            "type": "scattermap"
           }
          ],
          "scattermapbox": [
           {
            "marker": {
             "colorbar": {
              "outlinewidth": 0,
              "ticks": ""
             }
            },
            "type": "scattermapbox"
           }
          ],
          "scatterpolar": [
           {
            "marker": {
             "colorbar": {
              "outlinewidth": 0,
              "ticks": ""
             }
            },
            "type": "scatterpolar"
           }
          ],
          "scatterpolargl": [
           {
            "marker": {
             "colorbar": {
              "outlinewidth": 0,
              "ticks": ""
             }
            },
            "type": "scatterpolargl"
           }
          ],
          "scatterternary": [
           {
            "marker": {
             "colorbar": {
              "outlinewidth": 0,
              "ticks": ""
             }
            },
            "type": "scatterternary"
           }
          ],
          "surface": [
           {
            "colorbar": {
             "outlinewidth": 0,
             "ticks": ""
            },
            "colorscale": [
             [
              0,
              "#0d0887"
             ],
             [
              0.1111111111111111,
              "#46039f"
             ],
             [
              0.2222222222222222,
              "#7201a8"
             ],
             [
              0.3333333333333333,
              "#9c179e"
             ],
             [
              0.4444444444444444,
              "#bd3786"
             ],
             [
              0.5555555555555556,
              "#d8576b"
             ],
             [
              0.6666666666666666,
              "#ed7953"
             ],
             [
              0.7777777777777778,
              "#fb9f3a"
             ],
             [
              0.8888888888888888,
              "#fdca26"
             ],
             [
              1,
              "#f0f921"
             ]
            ],
            "type": "surface"
           }
          ],
          "table": [
           {
            "cells": {
             "fill": {
              "color": "#EBF0F8"
             },
             "line": {
              "color": "white"
             }
            },
            "header": {
             "fill": {
              "color": "#C8D4E3"
             },
             "line": {
              "color": "white"
             }
            },
            "type": "table"
           }
          ]
         },
         "layout": {
          "annotationdefaults": {
           "arrowcolor": "#2a3f5f",
           "arrowhead": 0,
           "arrowwidth": 1
          },
          "autotypenumbers": "strict",
          "coloraxis": {
           "colorbar": {
            "outlinewidth": 0,
            "ticks": ""
           }
          },
          "colorscale": {
           "diverging": [
            [
             0,
             "#8e0152"
            ],
            [
             0.1,
             "#c51b7d"
            ],
            [
             0.2,
             "#de77ae"
            ],
            [
             0.3,
             "#f1b6da"
            ],
            [
             0.4,
             "#fde0ef"
            ],
            [
             0.5,
             "#f7f7f7"
            ],
            [
             0.6,
             "#e6f5d0"
            ],
            [
             0.7,
             "#b8e186"
            ],
            [
             0.8,
             "#7fbc41"
            ],
            [
             0.9,
             "#4d9221"
            ],
            [
             1,
             "#276419"
            ]
           ],
           "sequential": [
            [
             0,
             "#0d0887"
            ],
            [
             0.1111111111111111,
             "#46039f"
            ],
            [
             0.2222222222222222,
             "#7201a8"
            ],
            [
             0.3333333333333333,
             "#9c179e"
            ],
            [
             0.4444444444444444,
             "#bd3786"
            ],
            [
             0.5555555555555556,
             "#d8576b"
            ],
            [
             0.6666666666666666,
             "#ed7953"
            ],
            [
             0.7777777777777778,
             "#fb9f3a"
            ],
            [
             0.8888888888888888,
             "#fdca26"
            ],
            [
             1,
             "#f0f921"
            ]
           ],
           "sequentialminus": [
            [
             0,
             "#0d0887"
            ],
            [
             0.1111111111111111,
             "#46039f"
            ],
            [
             0.2222222222222222,
             "#7201a8"
            ],
            [
             0.3333333333333333,
             "#9c179e"
            ],
            [
             0.4444444444444444,
             "#bd3786"
            ],
            [
             0.5555555555555556,
             "#d8576b"
            ],
            [
             0.6666666666666666,
             "#ed7953"
            ],
            [
             0.7777777777777778,
             "#fb9f3a"
            ],
            [
             0.8888888888888888,
             "#fdca26"
            ],
            [
             1,
             "#f0f921"
            ]
           ]
          },
          "colorway": [
           "#636efa",
           "#EF553B",
           "#00cc96",
           "#ab63fa",
           "#FFA15A",
           "#19d3f3",
           "#FF6692",
           "#B6E880",
           "#FF97FF",
           "#FECB52"
          ],
          "font": {
           "color": "#2a3f5f"
          },
          "geo": {
           "bgcolor": "white",
           "lakecolor": "white",
           "landcolor": "#E5ECF6",
           "showlakes": true,
           "showland": true,
           "subunitcolor": "white"
          },
          "hoverlabel": {
           "align": "left"
          },
          "hovermode": "closest",
          "mapbox": {
           "style": "light"
          },
          "paper_bgcolor": "white",
          "plot_bgcolor": "#E5ECF6",
          "polar": {
           "angularaxis": {
            "gridcolor": "white",
            "linecolor": "white",
            "ticks": ""
           },
           "bgcolor": "#E5ECF6",
           "radialaxis": {
            "gridcolor": "white",
            "linecolor": "white",
            "ticks": ""
           }
          },
          "scene": {
           "xaxis": {
            "backgroundcolor": "#E5ECF6",
            "gridcolor": "white",
            "gridwidth": 2,
            "linecolor": "white",
            "showbackground": true,
            "ticks": "",
            "zerolinecolor": "white"
           },
           "yaxis": {
            "backgroundcolor": "#E5ECF6",
            "gridcolor": "white",
            "gridwidth": 2,
            "linecolor": "white",
            "showbackground": true,
            "ticks": "",
            "zerolinecolor": "white"
           },
           "zaxis": {
            "backgroundcolor": "#E5ECF6",
            "gridcolor": "white",
            "gridwidth": 2,
            "linecolor": "white",
            "showbackground": true,
            "ticks": "",
            "zerolinecolor": "white"
           }
          },
          "shapedefaults": {
           "line": {
            "color": "#2a3f5f"
           }
          },
          "ternary": {
           "aaxis": {
            "gridcolor": "white",
            "linecolor": "white",
            "ticks": ""
           },
           "baxis": {
            "gridcolor": "white",
            "linecolor": "white",
            "ticks": ""
           },
           "bgcolor": "#E5ECF6",
           "caxis": {
            "gridcolor": "white",
            "linecolor": "white",
            "ticks": ""
           }
          },
          "title": {
           "x": 0.05
          },
          "xaxis": {
           "automargin": true,
           "gridcolor": "white",
           "linecolor": "white",
           "ticks": "",
           "title": {
            "standoff": 15
           },
           "zerolinecolor": "white",
           "zerolinewidth": 2
          },
          "yaxis": {
           "automargin": true,
           "gridcolor": "white",
           "linecolor": "white",
           "ticks": "",
           "title": {
            "standoff": 15
           },
           "zerolinecolor": "white",
           "zerolinewidth": 2
          }
         }
        },
        "title": {
         "text": "GOOGL Candlestick Chart"
        },
        "xaxis": {
         "title": {
          "text": "Time"
         }
        },
        "yaxis": {
         "title": {
          "text": "Price"
         }
        }
       }
      }
     },
     "metadata": {},
     "output_type": "display_data"
    },
    {
     "data": {
      "application/vnd.plotly.v1+json": {
       "config": {
        "plotlyServerURL": "https://plot.ly"
       },
       "data": [
        {
         "close": {
          "bdata": "mpmZmZnfgECamZmZmd+AQJqZmZmZ34BAmpmZmZnfgECamZmZmd+AQH/ZPXlY7oBAf9k9eVjugEB/2T15WO6AQH/ZPXlY7oBAf9k9eVjugEB/2T15WO6AQHsUrkfh6oBAexSuR+HqgEB7FK5H4eqAQHsUrkfh6oBAexSuR+HqgEB7FK5H4eqAQAAAAAAA4oBA",
          "dtype": "f8"
         },
         "high": {
          "bdata": "ZmZmZmY8gUBmZmZmZjyBQGZmZmZmPIFAZmZmZmY8gUBmZmZmZjyBQGZmZmZmPIFAZmZmZmY8gUBmZmZmZjyBQGZmZmZmPIFAZmZmZmY8gUBmZmZmZjyBQGZmZmZmPIFAZmZmZmY8gUBmZmZmZjyBQGZmZmZmPIFAZmZmZmY8gUBmZmZmZjyBQGZmZmZmPIFA",
          "dtype": "f8"
         },
         "low": {
          "bdata": "9UpZhriEgED1SlmGuISAQPVKWYa4hIBA9UpZhriEgED1SlmGuISAQPVKWYa4hIBA9UpZhriEgED1SlmGuISAQPVKWYa4hIBA9UpZhriEgED1SlmGuISAQPVKWYa4hIBA9UpZhriEgED1SlmGuISAQPVKWYa4hIBA9UpZhriEgED1SlmGuISAQPVKWYa4hIBA",
          "dtype": "f8"
         },
         "open": {
          "bdata": "ZmZmZmY8gUBmZmZmZjyBQGZmZmZmPIFAZmZmZmY8gUBmZmZmZjyBQGZmZmZmPIFAZmZmZmY8gUBmZmZmZjyBQGZmZmZmPIFAZmZmZmY8gUBmZmZmZjyBQGZmZmZmPIFAZmZmZmY8gUBmZmZmZjyBQGZmZmZmPIFAZmZmZmY8gUBmZmZmZjyBQGZmZmZmPIFA",
          "dtype": "f8"
         },
         "type": "candlestick",
         "x": [
          "2025-04-11T17:06:15.000000000",
          "2025-04-11T17:06:23.000000000",
          "2025-04-11T17:06:35.000000000",
          "2025-04-11T17:06:41.000000000",
          "2025-04-11T17:06:53.000000000",
          "2025-04-11T17:07:06.000000000",
          "2025-04-11T17:07:15.000000000",
          "2025-04-11T17:07:27.000000000",
          "2025-04-11T17:07:33.000000000",
          "2025-04-11T17:07:47.000000000",
          "2025-04-11T17:07:54.000000000",
          "2025-04-11T17:08:08.000000000",
          "2025-04-11T17:08:15.000000000",
          "2025-04-11T17:08:24.000000000",
          "2025-04-11T17:08:36.000000000",
          "2025-04-11T17:08:45.000000000",
          "2025-04-11T17:08:56.000000000",
          "2025-04-11T17:09:09.000000000"
         ]
        }
       ],
       "layout": {
        "template": {
         "data": {
          "bar": [
           {
            "error_x": {
             "color": "#2a3f5f"
            },
            "error_y": {
             "color": "#2a3f5f"
            },
            "marker": {
             "line": {
              "color": "#E5ECF6",
              "width": 0.5
             },
             "pattern": {
              "fillmode": "overlay",
              "size": 10,
              "solidity": 0.2
             }
            },
            "type": "bar"
           }
          ],
          "barpolar": [
           {
            "marker": {
             "line": {
              "color": "#E5ECF6",
              "width": 0.5
             },
             "pattern": {
              "fillmode": "overlay",
              "size": 10,
              "solidity": 0.2
             }
            },
            "type": "barpolar"
           }
          ],
          "carpet": [
           {
            "aaxis": {
             "endlinecolor": "#2a3f5f",
             "gridcolor": "white",
             "linecolor": "white",
             "minorgridcolor": "white",
             "startlinecolor": "#2a3f5f"
            },
            "baxis": {
             "endlinecolor": "#2a3f5f",
             "gridcolor": "white",
             "linecolor": "white",
             "minorgridcolor": "white",
             "startlinecolor": "#2a3f5f"
            },
            "type": "carpet"
           }
          ],
          "choropleth": [
           {
            "colorbar": {
             "outlinewidth": 0,
             "ticks": ""
            },
            "type": "choropleth"
           }
          ],
          "contour": [
           {
            "colorbar": {
             "outlinewidth": 0,
             "ticks": ""
            },
            "colorscale": [
             [
              0,
              "#0d0887"
             ],
             [
              0.1111111111111111,
              "#46039f"
             ],
             [
              0.2222222222222222,
              "#7201a8"
             ],
             [
              0.3333333333333333,
              "#9c179e"
             ],
             [
              0.4444444444444444,
              "#bd3786"
             ],
             [
              0.5555555555555556,
              "#d8576b"
             ],
             [
              0.6666666666666666,
              "#ed7953"
             ],
             [
              0.7777777777777778,
              "#fb9f3a"
             ],
             [
              0.8888888888888888,
              "#fdca26"
             ],
             [
              1,
              "#f0f921"
             ]
            ],
            "type": "contour"
           }
          ],
          "contourcarpet": [
           {
            "colorbar": {
             "outlinewidth": 0,
             "ticks": ""
            },
            "type": "contourcarpet"
           }
          ],
          "heatmap": [
           {
            "colorbar": {
             "outlinewidth": 0,
             "ticks": ""
            },
            "colorscale": [
             [
              0,
              "#0d0887"
             ],
             [
              0.1111111111111111,
              "#46039f"
             ],
             [
              0.2222222222222222,
              "#7201a8"
             ],
             [
              0.3333333333333333,
              "#9c179e"
             ],
             [
              0.4444444444444444,
              "#bd3786"
             ],
             [
              0.5555555555555556,
              "#d8576b"
             ],
             [
              0.6666666666666666,
              "#ed7953"
             ],
             [
              0.7777777777777778,
              "#fb9f3a"
             ],
             [
              0.8888888888888888,
              "#fdca26"
             ],
             [
              1,
              "#f0f921"
             ]
            ],
            "type": "heatmap"
           }
          ],
          "histogram": [
           {
            "marker": {
             "pattern": {
              "fillmode": "overlay",
              "size": 10,
              "solidity": 0.2
             }
            },
            "type": "histogram"
           }
          ],
          "histogram2d": [
           {
            "colorbar": {
             "outlinewidth": 0,
             "ticks": ""
            },
            "colorscale": [
             [
              0,
              "#0d0887"
             ],
             [
              0.1111111111111111,
              "#46039f"
             ],
             [
              0.2222222222222222,
              "#7201a8"
             ],
             [
              0.3333333333333333,
              "#9c179e"
             ],
             [
              0.4444444444444444,
              "#bd3786"
             ],
             [
              0.5555555555555556,
              "#d8576b"
             ],
             [
              0.6666666666666666,
              "#ed7953"
             ],
             [
              0.7777777777777778,
              "#fb9f3a"
             ],
             [
              0.8888888888888888,
              "#fdca26"
             ],
             [
              1,
              "#f0f921"
             ]
            ],
            "type": "histogram2d"
           }
          ],
          "histogram2dcontour": [
           {
            "colorbar": {
             "outlinewidth": 0,
             "ticks": ""
            },
            "colorscale": [
             [
              0,
              "#0d0887"
             ],
             [
              0.1111111111111111,
              "#46039f"
             ],
             [
              0.2222222222222222,
              "#7201a8"
             ],
             [
              0.3333333333333333,
              "#9c179e"
             ],
             [
              0.4444444444444444,
              "#bd3786"
             ],
             [
              0.5555555555555556,
              "#d8576b"
             ],
             [
              0.6666666666666666,
              "#ed7953"
             ],
             [
              0.7777777777777778,
              "#fb9f3a"
             ],
             [
              0.8888888888888888,
              "#fdca26"
             ],
             [
              1,
              "#f0f921"
             ]
            ],
            "type": "histogram2dcontour"
           }
          ],
          "mesh3d": [
           {
            "colorbar": {
             "outlinewidth": 0,
             "ticks": ""
            },
            "type": "mesh3d"
           }
          ],
          "parcoords": [
           {
            "line": {
             "colorbar": {
              "outlinewidth": 0,
              "ticks": ""
             }
            },
            "type": "parcoords"
           }
          ],
          "pie": [
           {
            "automargin": true,
            "type": "pie"
           }
          ],
          "scatter": [
           {
            "fillpattern": {
             "fillmode": "overlay",
             "size": 10,
             "solidity": 0.2
            },
            "type": "scatter"
           }
          ],
          "scatter3d": [
           {
            "line": {
             "colorbar": {
              "outlinewidth": 0,
              "ticks": ""
             }
            },
            "marker": {
             "colorbar": {
              "outlinewidth": 0,
              "ticks": ""
             }
            },
            "type": "scatter3d"
           }
          ],
          "scattercarpet": [
           {
            "marker": {
             "colorbar": {
              "outlinewidth": 0,
              "ticks": ""
             }
            },
            "type": "scattercarpet"
           }
          ],
          "scattergeo": [
           {
            "marker": {
             "colorbar": {
              "outlinewidth": 0,
              "ticks": ""
             }
            },
            "type": "scattergeo"
           }
          ],
          "scattergl": [
           {
            "marker": {
             "colorbar": {
              "outlinewidth": 0,
              "ticks": ""
             }
            },
            "type": "scattergl"
           }
          ],
          "scattermap": [
           {
            "marker": {
             "colorbar": {
              "outlinewidth": 0,
              "ticks": ""
             }
            },
            "type": "scattermap"
           }
          ],
          "scattermapbox": [
           {
            "marker": {
             "colorbar": {
              "outlinewidth": 0,
              "ticks": ""
             }
            },
            "type": "scattermapbox"
           }
          ],
          "scatterpolar": [
           {
            "marker": {
             "colorbar": {
              "outlinewidth": 0,
              "ticks": ""
             }
            },
            "type": "scatterpolar"
           }
          ],
          "scatterpolargl": [
           {
            "marker": {
             "colorbar": {
              "outlinewidth": 0,
              "ticks": ""
             }
            },
            "type": "scatterpolargl"
           }
          ],
          "scatterternary": [
           {
            "marker": {
             "colorbar": {
              "outlinewidth": 0,
              "ticks": ""
             }
            },
            "type": "scatterternary"
           }
          ],
          "surface": [
           {
            "colorbar": {
             "outlinewidth": 0,
             "ticks": ""
            },
            "colorscale": [
             [
              0,
              "#0d0887"
             ],
             [
              0.1111111111111111,
              "#46039f"
             ],
             [
              0.2222222222222222,
              "#7201a8"
             ],
             [
              0.3333333333333333,
              "#9c179e"
             ],
             [
              0.4444444444444444,
              "#bd3786"
             ],
             [
              0.5555555555555556,
              "#d8576b"
             ],
             [
              0.6666666666666666,
              "#ed7953"
             ],
             [
              0.7777777777777778,
              "#fb9f3a"
             ],
             [
              0.8888888888888888,
              "#fdca26"
             ],
             [
              1,
              "#f0f921"
             ]
            ],
            "type": "surface"
           }
          ],
          "table": [
           {
            "cells": {
             "fill": {
              "color": "#EBF0F8"
             },
             "line": {
              "color": "white"
             }
            },
            "header": {
             "fill": {
              "color": "#C8D4E3"
             },
             "line": {
              "color": "white"
             }
            },
            "type": "table"
           }
          ]
         },
         "layout": {
          "annotationdefaults": {
           "arrowcolor": "#2a3f5f",
           "arrowhead": 0,
           "arrowwidth": 1
          },
          "autotypenumbers": "strict",
          "coloraxis": {
           "colorbar": {
            "outlinewidth": 0,
            "ticks": ""
           }
          },
          "colorscale": {
           "diverging": [
            [
             0,
             "#8e0152"
            ],
            [
             0.1,
             "#c51b7d"
            ],
            [
             0.2,
             "#de77ae"
            ],
            [
             0.3,
             "#f1b6da"
            ],
            [
             0.4,
             "#fde0ef"
            ],
            [
             0.5,
             "#f7f7f7"
            ],
            [
             0.6,
             "#e6f5d0"
            ],
            [
             0.7,
             "#b8e186"
            ],
            [
             0.8,
             "#7fbc41"
            ],
            [
             0.9,
             "#4d9221"
            ],
            [
             1,
             "#276419"
            ]
           ],
           "sequential": [
            [
             0,
             "#0d0887"
            ],
            [
             0.1111111111111111,
             "#46039f"
            ],
            [
             0.2222222222222222,
             "#7201a8"
            ],
            [
             0.3333333333333333,
             "#9c179e"
            ],
            [
             0.4444444444444444,
             "#bd3786"
            ],
            [
             0.5555555555555556,
             "#d8576b"
            ],
            [
             0.6666666666666666,
             "#ed7953"
            ],
            [
             0.7777777777777778,
             "#fb9f3a"
            ],
            [
             0.8888888888888888,
             "#fdca26"
            ],
            [
             1,
             "#f0f921"
            ]
           ],
           "sequentialminus": [
            [
             0,
             "#0d0887"
            ],
            [
             0.1111111111111111,
             "#46039f"
            ],
            [
             0.2222222222222222,
             "#7201a8"
            ],
            [
             0.3333333333333333,
             "#9c179e"
            ],
            [
             0.4444444444444444,
             "#bd3786"
            ],
            [
             0.5555555555555556,
             "#d8576b"
            ],
            [
             0.6666666666666666,
             "#ed7953"
            ],
            [
             0.7777777777777778,
             "#fb9f3a"
            ],
            [
             0.8888888888888888,
             "#fdca26"
            ],
            [
             1,
             "#f0f921"
            ]
           ]
          },
          "colorway": [
           "#636efa",
           "#EF553B",
           "#00cc96",
           "#ab63fa",
           "#FFA15A",
           "#19d3f3",
           "#FF6692",
           "#B6E880",
           "#FF97FF",
           "#FECB52"
          ],
          "font": {
           "color": "#2a3f5f"
          },
          "geo": {
           "bgcolor": "white",
           "lakecolor": "white",
           "landcolor": "#E5ECF6",
           "showlakes": true,
           "showland": true,
           "subunitcolor": "white"
          },
          "hoverlabel": {
           "align": "left"
          },
          "hovermode": "closest",
          "mapbox": {
           "style": "light"
          },
          "paper_bgcolor": "white",
          "plot_bgcolor": "#E5ECF6",
          "polar": {
           "angularaxis": {
            "gridcolor": "white",
            "linecolor": "white",
            "ticks": ""
           },
           "bgcolor": "#E5ECF6",
           "radialaxis": {
            "gridcolor": "white",
            "linecolor": "white",
            "ticks": ""
           }
          },
          "scene": {
           "xaxis": {
            "backgroundcolor": "#E5ECF6",
            "gridcolor": "white",
            "gridwidth": 2,
            "linecolor": "white",
            "showbackground": true,
            "ticks": "",
            "zerolinecolor": "white"
           },
           "yaxis": {
            "backgroundcolor": "#E5ECF6",
            "gridcolor": "white",
            "gridwidth": 2,
            "linecolor": "white",
            "showbackground": true,
            "ticks": "",
            "zerolinecolor": "white"
           },
           "zaxis": {
            "backgroundcolor": "#E5ECF6",
            "gridcolor": "white",
            "gridwidth": 2,
            "linecolor": "white",
            "showbackground": true,
            "ticks": "",
            "zerolinecolor": "white"
           }
          },
          "shapedefaults": {
           "line": {
            "color": "#2a3f5f"
           }
          },
          "ternary": {
           "aaxis": {
            "gridcolor": "white",
            "linecolor": "white",
            "ticks": ""
           },
           "baxis": {
            "gridcolor": "white",
            "linecolor": "white",
            "ticks": ""
           },
           "bgcolor": "#E5ECF6",
           "caxis": {
            "gridcolor": "white",
            "linecolor": "white",
            "ticks": ""
           }
          },
          "title": {
           "x": 0.05
          },
          "xaxis": {
           "automargin": true,
           "gridcolor": "white",
           "linecolor": "white",
           "ticks": "",
           "title": {
            "standoff": 15
           },
           "zerolinecolor": "white",
           "zerolinewidth": 2
          },
          "yaxis": {
           "automargin": true,
           "gridcolor": "white",
           "linecolor": "white",
           "ticks": "",
           "title": {
            "standoff": 15
           },
           "zerolinecolor": "white",
           "zerolinewidth": 2
          }
         }
        },
        "title": {
         "text": "META Candlestick Chart"
        },
        "xaxis": {
         "title": {
          "text": "Time"
         }
        },
        "yaxis": {
         "title": {
          "text": "Price"
         }
        }
       }
      }
     },
     "metadata": {},
     "output_type": "display_data"
    },
    {
     "data": {
      "application/vnd.plotly.v1+json": {
       "config": {
        "plotlyServerURL": "https://plot.ly"
       },
       "data": [
        {
         "close": {
          "bdata": "EFg5tMgreEAQWDm0yCt4QBBYObTIK3hAEFg5tMgreEAQWDm0yCt4QD0K16NwM3hAPQrXo3AzeEA9CtejcDN4QD0K16NwM3hAPQrXo3AzeEA9CtejcDN4QEjhehSuMXhASOF6FK4xeEBI4XoUrjF4QEjhehSuMXhASOF6FK4xeEBI4XoUrjF4QAAAAAAAKnhA",
          "dtype": "f8"
         },
         "high": {
          "bdata": "mpmZmZlBeECamZmZmUF4QJqZmZmZQXhAmpmZmZlBeECamZmZmUF4QJqZmZmZQXhAmpmZmZlBeECamZmZmUF4QJqZmZmZQXhAmpmZmZlBeECamZmZmUF4QJqZmZmZQXhAmpmZmZlBeECamZmZmUF4QJqZmZmZQXhAmpmZmZlBeECamZmZmUF4QJqZmZmZQXhA",
          "dtype": "f8"
         },
         "low": {
          "bdata": "CtejcD2ud0AK16NwPa53QArXo3A9rndACtejcD2ud0AK16NwPa53QArXo3A9rndACtejcD2ud0AK16NwPa53QArXo3A9rndACtejcD2ud0AK16NwPa53QArXo3A9rndACtejcD2ud0AK16NwPa53QArXo3A9rndACtejcD2ud0AK16NwPa53QArXo3A9rndA",
          "dtype": "f8"
         },
         "open": {
          "bdata": "AAAAAAAAeEAAAAAAAAB4QAAAAAAAAHhAAAAAAAAAeEAAAAAAAAB4QAAAAAAAAHhAAAAAAAAAeEAAAAAAAAB4QAAAAAAAAHhAAAAAAAAAeEAAAAAAAAB4QAAAAAAAAHhAAAAAAAAAeEAAAAAAAAB4QAAAAAAAAHhAAAAAAAAAeEAAAAAAAAB4QAAAAAAAAHhA",
          "dtype": "f8"
         },
         "type": "candlestick",
         "x": [
          "2025-04-11T17:06:15.000000000",
          "2025-04-11T17:06:19.000000000",
          "2025-04-11T17:06:31.000000000",
          "2025-04-11T17:06:40.000000000",
          "2025-04-11T17:06:52.000000000",
          "2025-04-11T17:07:02.000000000",
          "2025-04-11T17:07:13.000000000",
          "2025-04-11T17:07:25.000000000",
          "2025-04-11T17:07:35.000000000",
          "2025-04-11T17:07:47.000000000",
          "2025-04-11T17:07:52.000000000",
          "2025-04-11T17:08:08.000000000",
          "2025-04-11T17:08:16.000000000",
          "2025-04-11T17:08:23.000000000",
          "2025-04-11T17:08:36.000000000",
          "2025-04-11T17:08:43.000000000",
          "2025-04-11T17:08:57.000000000",
          "2025-04-11T17:09:09.000000000"
         ]
        }
       ],
       "layout": {
        "template": {
         "data": {
          "bar": [
           {
            "error_x": {
             "color": "#2a3f5f"
            },
            "error_y": {
             "color": "#2a3f5f"
            },
            "marker": {
             "line": {
              "color": "#E5ECF6",
              "width": 0.5
             },
             "pattern": {
              "fillmode": "overlay",
              "size": 10,
              "solidity": 0.2
             }
            },
            "type": "bar"
           }
          ],
          "barpolar": [
           {
            "marker": {
             "line": {
              "color": "#E5ECF6",
              "width": 0.5
             },
             "pattern": {
              "fillmode": "overlay",
              "size": 10,
              "solidity": 0.2
             }
            },
            "type": "barpolar"
           }
          ],
          "carpet": [
           {
            "aaxis": {
             "endlinecolor": "#2a3f5f",
             "gridcolor": "white",
             "linecolor": "white",
             "minorgridcolor": "white",
             "startlinecolor": "#2a3f5f"
            },
            "baxis": {
             "endlinecolor": "#2a3f5f",
             "gridcolor": "white",
             "linecolor": "white",
             "minorgridcolor": "white",
             "startlinecolor": "#2a3f5f"
            },
            "type": "carpet"
           }
          ],
          "choropleth": [
           {
            "colorbar": {
             "outlinewidth": 0,
             "ticks": ""
            },
            "type": "choropleth"
           }
          ],
          "contour": [
           {
            "colorbar": {
             "outlinewidth": 0,
             "ticks": ""
            },
            "colorscale": [
             [
              0,
              "#0d0887"
             ],
             [
              0.1111111111111111,
              "#46039f"
             ],
             [
              0.2222222222222222,
              "#7201a8"
             ],
             [
              0.3333333333333333,
              "#9c179e"
             ],
             [
              0.4444444444444444,
              "#bd3786"
             ],
             [
              0.5555555555555556,
              "#d8576b"
             ],
             [
              0.6666666666666666,
              "#ed7953"
             ],
             [
              0.7777777777777778,
              "#fb9f3a"
             ],
             [
              0.8888888888888888,
              "#fdca26"
             ],
             [
              1,
              "#f0f921"
             ]
            ],
            "type": "contour"
           }
          ],
          "contourcarpet": [
           {
            "colorbar": {
             "outlinewidth": 0,
             "ticks": ""
            },
            "type": "contourcarpet"
           }
          ],
          "heatmap": [
           {
            "colorbar": {
             "outlinewidth": 0,
             "ticks": ""
            },
            "colorscale": [
             [
              0,
              "#0d0887"
             ],
             [
              0.1111111111111111,
              "#46039f"
             ],
             [
              0.2222222222222222,
              "#7201a8"
             ],
             [
              0.3333333333333333,
              "#9c179e"
             ],
             [
              0.4444444444444444,
              "#bd3786"
             ],
             [
              0.5555555555555556,
              "#d8576b"
             ],
             [
              0.6666666666666666,
              "#ed7953"
             ],
             [
              0.7777777777777778,
              "#fb9f3a"
             ],
             [
              0.8888888888888888,
              "#fdca26"
             ],
             [
              1,
              "#f0f921"
             ]
            ],
            "type": "heatmap"
           }
          ],
          "histogram": [
           {
            "marker": {
             "pattern": {
              "fillmode": "overlay",
              "size": 10,
              "solidity": 0.2
             }
            },
            "type": "histogram"
           }
          ],
          "histogram2d": [
           {
            "colorbar": {
             "outlinewidth": 0,
             "ticks": ""
            },
            "colorscale": [
             [
              0,
              "#0d0887"
             ],
             [
              0.1111111111111111,
              "#46039f"
             ],
             [
              0.2222222222222222,
              "#7201a8"
             ],
             [
              0.3333333333333333,
              "#9c179e"
             ],
             [
              0.4444444444444444,
              "#bd3786"
             ],
             [
              0.5555555555555556,
              "#d8576b"
             ],
             [
              0.6666666666666666,
              "#ed7953"
             ],
             [
              0.7777777777777778,
              "#fb9f3a"
             ],
             [
              0.8888888888888888,
              "#fdca26"
             ],
             [
              1,
              "#f0f921"
             ]
            ],
            "type": "histogram2d"
           }
          ],
          "histogram2dcontour": [
           {
            "colorbar": {
             "outlinewidth": 0,
             "ticks": ""
            },
            "colorscale": [
             [
              0,
              "#0d0887"
             ],
             [
              0.1111111111111111,
              "#46039f"
             ],
             [
              0.2222222222222222,
              "#7201a8"
             ],
             [
              0.3333333333333333,
              "#9c179e"
             ],
             [
              0.4444444444444444,
              "#bd3786"
             ],
             [
              0.5555555555555556,
              "#d8576b"
             ],
             [
              0.6666666666666666,
              "#ed7953"
             ],
             [
              0.7777777777777778,
              "#fb9f3a"
             ],
             [
              0.8888888888888888,
              "#fdca26"
             ],
             [
              1,
              "#f0f921"
             ]
            ],
            "type": "histogram2dcontour"
           }
          ],
          "mesh3d": [
           {
            "colorbar": {
             "outlinewidth": 0,
             "ticks": ""
            },
            "type": "mesh3d"
           }
          ],
          "parcoords": [
           {
            "line": {
             "colorbar": {
              "outlinewidth": 0,
              "ticks": ""
             }
            },
            "type": "parcoords"
           }
          ],
          "pie": [
           {
            "automargin": true,
            "type": "pie"
           }
          ],
          "scatter": [
           {
            "fillpattern": {
             "fillmode": "overlay",
             "size": 10,
             "solidity": 0.2
            },
            "type": "scatter"
           }
          ],
          "scatter3d": [
           {
            "line": {
             "colorbar": {
              "outlinewidth": 0,
              "ticks": ""
             }
            },
            "marker": {
             "colorbar": {
              "outlinewidth": 0,
              "ticks": ""
             }
            },
            "type": "scatter3d"
           }
          ],
          "scattercarpet": [
           {
            "marker": {
             "colorbar": {
              "outlinewidth": 0,
              "ticks": ""
             }
            },
            "type": "scattercarpet"
           }
          ],
          "scattergeo": [
           {
            "marker": {
             "colorbar": {
              "outlinewidth": 0,
              "ticks": ""
             }
            },
            "type": "scattergeo"
           }
          ],
          "scattergl": [
           {
            "marker": {
             "colorbar": {
              "outlinewidth": 0,
              "ticks": ""
             }
            },
            "type": "scattergl"
           }
          ],
          "scattermap": [
           {
            "marker": {
             "colorbar": {
              "outlinewidth": 0,
              "ticks": ""
             }
            },
            "type": "scattermap"
           }
          ],
          "scattermapbox": [
           {
            "marker": {
             "colorbar": {
              "outlinewidth": 0,
              "ticks": ""
             }
            },
            "type": "scattermapbox"
           }
          ],
          "scatterpolar": [
           {
            "marker": {
             "colorbar": {
              "outlinewidth": 0,
              "ticks": ""
             }
            },
            "type": "scatterpolar"
           }
          ],
          "scatterpolargl": [
           {
            "marker": {
             "colorbar": {
              "outlinewidth": 0,
              "ticks": ""
             }
            },
            "type": "scatterpolargl"
           }
          ],
          "scatterternary": [
           {
            "marker": {
             "colorbar": {
              "outlinewidth": 0,
              "ticks": ""
             }
            },
            "type": "scatterternary"
           }
          ],
          "surface": [
           {
            "colorbar": {
             "outlinewidth": 0,
             "ticks": ""
            },
            "colorscale": [
             [
              0,
              "#0d0887"
             ],
             [
              0.1111111111111111,
              "#46039f"
             ],
             [
              0.2222222222222222,
              "#7201a8"
             ],
             [
              0.3333333333333333,
              "#9c179e"
             ],
             [
              0.4444444444444444,
              "#bd3786"
             ],
             [
              0.5555555555555556,
              "#d8576b"
             ],
             [
              0.6666666666666666,
              "#ed7953"
             ],
             [
              0.7777777777777778,
              "#fb9f3a"
             ],
             [
              0.8888888888888888,
              "#fdca26"
             ],
             [
              1,
              "#f0f921"
             ]
            ],
            "type": "surface"
           }
          ],
          "table": [
           {
            "cells": {
             "fill": {
              "color": "#EBF0F8"
             },
             "line": {
              "color": "white"
             }
            },
            "header": {
             "fill": {
              "color": "#C8D4E3"
             },
             "line": {
              "color": "white"
             }
            },
            "type": "table"
           }
          ]
         },
         "layout": {
          "annotationdefaults": {
           "arrowcolor": "#2a3f5f",
           "arrowhead": 0,
           "arrowwidth": 1
          },
          "autotypenumbers": "strict",
          "coloraxis": {
           "colorbar": {
            "outlinewidth": 0,
            "ticks": ""
           }
          },
          "colorscale": {
           "diverging": [
            [
             0,
             "#8e0152"
            ],
            [
             0.1,
             "#c51b7d"
            ],
            [
             0.2,
             "#de77ae"
            ],
            [
             0.3,
             "#f1b6da"
            ],
            [
             0.4,
             "#fde0ef"
            ],
            [
             0.5,
             "#f7f7f7"
            ],
            [
             0.6,
             "#e6f5d0"
            ],
            [
             0.7,
             "#b8e186"
            ],
            [
             0.8,
             "#7fbc41"
            ],
            [
             0.9,
             "#4d9221"
            ],
            [
             1,
             "#276419"
            ]
           ],
           "sequential": [
            [
             0,
             "#0d0887"
            ],
            [
             0.1111111111111111,
             "#46039f"
            ],
            [
             0.2222222222222222,
             "#7201a8"
            ],
            [
             0.3333333333333333,
             "#9c179e"
            ],
            [
             0.4444444444444444,
             "#bd3786"
            ],
            [
             0.5555555555555556,
             "#d8576b"
            ],
            [
             0.6666666666666666,
             "#ed7953"
            ],
            [
             0.7777777777777778,
             "#fb9f3a"
            ],
            [
             0.8888888888888888,
             "#fdca26"
            ],
            [
             1,
             "#f0f921"
            ]
           ],
           "sequentialminus": [
            [
             0,
             "#0d0887"
            ],
            [
             0.1111111111111111,
             "#46039f"
            ],
            [
             0.2222222222222222,
             "#7201a8"
            ],
            [
             0.3333333333333333,
             "#9c179e"
            ],
            [
             0.4444444444444444,
             "#bd3786"
            ],
            [
             0.5555555555555556,
             "#d8576b"
            ],
            [
             0.6666666666666666,
             "#ed7953"
            ],
            [
             0.7777777777777778,
             "#fb9f3a"
            ],
            [
             0.8888888888888888,
             "#fdca26"
            ],
            [
             1,
             "#f0f921"
            ]
           ]
          },
          "colorway": [
           "#636efa",
           "#EF553B",
           "#00cc96",
           "#ab63fa",
           "#FFA15A",
           "#19d3f3",
           "#FF6692",
           "#B6E880",
           "#FF97FF",
           "#FECB52"
          ],
          "font": {
           "color": "#2a3f5f"
          },
          "geo": {
           "bgcolor": "white",
           "lakecolor": "white",
           "landcolor": "#E5ECF6",
           "showlakes": true,
           "showland": true,
           "subunitcolor": "white"
          },
          "hoverlabel": {
           "align": "left"
          },
          "hovermode": "closest",
          "mapbox": {
           "style": "light"
          },
          "paper_bgcolor": "white",
          "plot_bgcolor": "#E5ECF6",
          "polar": {
           "angularaxis": {
            "gridcolor": "white",
            "linecolor": "white",
            "ticks": ""
           },
           "bgcolor": "#E5ECF6",
           "radialaxis": {
            "gridcolor": "white",
            "linecolor": "white",
            "ticks": ""
           }
          },
          "scene": {
           "xaxis": {
            "backgroundcolor": "#E5ECF6",
            "gridcolor": "white",
            "gridwidth": 2,
            "linecolor": "white",
            "showbackground": true,
            "ticks": "",
            "zerolinecolor": "white"
           },
           "yaxis": {
            "backgroundcolor": "#E5ECF6",
            "gridcolor": "white",
            "gridwidth": 2,
            "linecolor": "white",
            "showbackground": true,
            "ticks": "",
            "zerolinecolor": "white"
           },
           "zaxis": {
            "backgroundcolor": "#E5ECF6",
            "gridcolor": "white",
            "gridwidth": 2,
            "linecolor": "white",
            "showbackground": true,
            "ticks": "",
            "zerolinecolor": "white"
           }
          },
          "shapedefaults": {
           "line": {
            "color": "#2a3f5f"
           }
          },
          "ternary": {
           "aaxis": {
            "gridcolor": "white",
            "linecolor": "white",
            "ticks": ""
           },
           "baxis": {
            "gridcolor": "white",
            "linecolor": "white",
            "ticks": ""
           },
           "bgcolor": "#E5ECF6",
           "caxis": {
            "gridcolor": "white",
            "linecolor": "white",
            "ticks": ""
           }
          },
          "title": {
           "x": 0.05
          },
          "xaxis": {
           "automargin": true,
           "gridcolor": "white",
           "linecolor": "white",
           "ticks": "",
           "title": {
            "standoff": 15
           },
           "zerolinecolor": "white",
           "zerolinewidth": 2
          },
          "yaxis": {
           "automargin": true,
           "gridcolor": "white",
           "linecolor": "white",
           "ticks": "",
           "title": {
            "standoff": 15
           },
           "zerolinecolor": "white",
           "zerolinewidth": 2
          }
         }
        },
        "title": {
         "text": "MSFT Candlestick Chart"
        },
        "xaxis": {
         "title": {
          "text": "Time"
         }
        },
        "yaxis": {
         "title": {
          "text": "Price"
         }
        }
       }
      }
     },
     "metadata": {},
     "output_type": "display_data"
    },
    {
     "data": {
      "application/vnd.plotly.v1+json": {
       "config": {
        "plotlyServerURL": "https://plot.ly"
       },
       "data": [
        {
         "close": {
          "bdata": "3bWEfNCHW0DdtYR80IdbQN21hHzQh1tA3bWEfNCHW0DdtYR80IdbQDMzMzMzm1tAMzMzMzObW0AzMzMzM5tbQDMzMzMzm1tAMzMzMzObW0AzMzMzM5tbQBSuR+F6lFtAFK5H4XqUW0AUrkfhepRbQBSuR+F6lFtAFK5H4XqUW0AUrkfhepRbQLgehetRiFtA",
          "dtype": "f8"
         },
         "high": {
          "bdata": "pHA9CtfDW0CkcD0K18NbQKRwPQrXw1tApHA9CtfDW0CkcD0K18NbQKRwPQrXw1tApHA9CtfDW0CkcD0K18NbQKRwPQrXw1tApHA9CtfDW0CkcD0K18NbQKRwPQrXw1tApHA9CtfDW0CkcD0K18NbQKRwPQrXw1tApHA9CtfDW0CkcD0K18NbQKRwPQrXw1tA",
          "dtype": "f8"
         },
         "low": {
          "bdata": "H4XrUbjeWkAfhetRuN5aQB+F61G43lpAH4XrUbjeWkAfhetRuN5aQB+F61G43lpAH4XrUbjeWkAfhetRuN5aQB+F61G43lpAH4XrUbjeWkAfhetRuN5aQB+F61G43lpAH4XrUbjeWkAfhetRuN5aQB+F61G43lpAH4XrUbjeWkAfhetRuN5aQB+F61G43lpA",
          "dtype": "f8"
         },
         "open": {
          "bdata": "uB6F61E4W0C4HoXrUThbQLgehetROFtAuB6F61E4W0C4HoXrUThbQLgehetROFtAuB6F61E4W0C4HoXrUThbQLgehetROFtAuB6F61E4W0C4HoXrUThbQLgehetROFtAuB6F61E4W0C4HoXrUThbQLgehetROFtAuB6F61E4W0C4HoXrUThbQLgehetROFtA",
          "dtype": "f8"
         },
         "type": "candlestick",
         "x": [
          "2025-04-11T17:06:15.000000000",
          "2025-04-11T17:06:24.000000000",
          "2025-04-11T17:06:37.000000000",
          "2025-04-11T17:06:45.000000000",
          "2025-04-11T17:06:53.000000000",
          "2025-04-11T17:07:07.000000000",
          "2025-04-11T17:07:15.000000000",
          "2025-04-11T17:07:27.000000000",
          "2025-04-11T17:07:35.000000000",
          "2025-04-11T17:07:47.000000000",
          "2025-04-11T17:07:55.000000000",
          "2025-04-11T17:08:08.000000000",
          "2025-04-11T17:08:16.000000000",
          "2025-04-11T17:08:25.000000000",
          "2025-04-11T17:08:37.000000000",
          "2025-04-11T17:08:49.000000000",
          "2025-04-11T17:08:57.000000000",
          "2025-04-11T17:09:09.000000000"
         ]
        }
       ],
       "layout": {
        "template": {
         "data": {
          "bar": [
           {
            "error_x": {
             "color": "#2a3f5f"
            },
            "error_y": {
             "color": "#2a3f5f"
            },
            "marker": {
             "line": {
              "color": "#E5ECF6",
              "width": 0.5
             },
             "pattern": {
              "fillmode": "overlay",
              "size": 10,
              "solidity": 0.2
             }
            },
            "type": "bar"
           }
          ],
          "barpolar": [
           {
            "marker": {
             "line": {
              "color": "#E5ECF6",
              "width": 0.5
             },
             "pattern": {
              "fillmode": "overlay",
              "size": 10,
              "solidity": 0.2
             }
            },
            "type": "barpolar"
           }
          ],
          "carpet": [
           {
            "aaxis": {
             "endlinecolor": "#2a3f5f",
             "gridcolor": "white",
             "linecolor": "white",
             "minorgridcolor": "white",
             "startlinecolor": "#2a3f5f"
            },
            "baxis": {
             "endlinecolor": "#2a3f5f",
             "gridcolor": "white",
             "linecolor": "white",
             "minorgridcolor": "white",
             "startlinecolor": "#2a3f5f"
            },
            "type": "carpet"
           }
          ],
          "choropleth": [
           {
            "colorbar": {
             "outlinewidth": 0,
             "ticks": ""
            },
            "type": "choropleth"
           }
          ],
          "contour": [
           {
            "colorbar": {
             "outlinewidth": 0,
             "ticks": ""
            },
            "colorscale": [
             [
              0,
              "#0d0887"
             ],
             [
              0.1111111111111111,
              "#46039f"
             ],
             [
              0.2222222222222222,
              "#7201a8"
             ],
             [
              0.3333333333333333,
              "#9c179e"
             ],
             [
              0.4444444444444444,
              "#bd3786"
             ],
             [
              0.5555555555555556,
              "#d8576b"
             ],
             [
              0.6666666666666666,
              "#ed7953"
             ],
             [
              0.7777777777777778,
              "#fb9f3a"
             ],
             [
              0.8888888888888888,
              "#fdca26"
             ],
             [
              1,
              "#f0f921"
             ]
            ],
            "type": "contour"
           }
          ],
          "contourcarpet": [
           {
            "colorbar": {
             "outlinewidth": 0,
             "ticks": ""
            },
            "type": "contourcarpet"
           }
          ],
          "heatmap": [
           {
            "colorbar": {
             "outlinewidth": 0,
             "ticks": ""
            },
            "colorscale": [
             [
              0,
              "#0d0887"
             ],
             [
              0.1111111111111111,
              "#46039f"
             ],
             [
              0.2222222222222222,
              "#7201a8"
             ],
             [
              0.3333333333333333,
              "#9c179e"
             ],
             [
              0.4444444444444444,
              "#bd3786"
             ],
             [
              0.5555555555555556,
              "#d8576b"
             ],
             [
              0.6666666666666666,
              "#ed7953"
             ],
             [
              0.7777777777777778,
              "#fb9f3a"
             ],
             [
              0.8888888888888888,
              "#fdca26"
             ],
             [
              1,
              "#f0f921"
             ]
            ],
            "type": "heatmap"
           }
          ],
          "histogram": [
           {
            "marker": {
             "pattern": {
              "fillmode": "overlay",
              "size": 10,
              "solidity": 0.2
             }
            },
            "type": "histogram"
           }
          ],
          "histogram2d": [
           {
            "colorbar": {
             "outlinewidth": 0,
             "ticks": ""
            },
            "colorscale": [
             [
              0,
              "#0d0887"
             ],
             [
              0.1111111111111111,
              "#46039f"
             ],
             [
              0.2222222222222222,
              "#7201a8"
             ],
             [
              0.3333333333333333,
              "#9c179e"
             ],
             [
              0.4444444444444444,
              "#bd3786"
             ],
             [
              0.5555555555555556,
              "#d8576b"
             ],
             [
              0.6666666666666666,
              "#ed7953"
             ],
             [
              0.7777777777777778,
              "#fb9f3a"
             ],
             [
              0.8888888888888888,
              "#fdca26"
             ],
             [
              1,
              "#f0f921"
             ]
            ],
            "type": "histogram2d"
           }
          ],
          "histogram2dcontour": [
           {
            "colorbar": {
             "outlinewidth": 0,
             "ticks": ""
            },
            "colorscale": [
             [
              0,
              "#0d0887"
             ],
             [
              0.1111111111111111,
              "#46039f"
             ],
             [
              0.2222222222222222,
              "#7201a8"
             ],
             [
              0.3333333333333333,
              "#9c179e"
             ],
             [
              0.4444444444444444,
              "#bd3786"
             ],
             [
              0.5555555555555556,
              "#d8576b"
             ],
             [
              0.6666666666666666,
              "#ed7953"
             ],
             [
              0.7777777777777778,
              "#fb9f3a"
             ],
             [
              0.8888888888888888,
              "#fdca26"
             ],
             [
              1,
              "#f0f921"
             ]
            ],
            "type": "histogram2dcontour"
           }
          ],
          "mesh3d": [
           {
            "colorbar": {
             "outlinewidth": 0,
             "ticks": ""
            },
            "type": "mesh3d"
           }
          ],
          "parcoords": [
           {
            "line": {
             "colorbar": {
              "outlinewidth": 0,
              "ticks": ""
             }
            },
            "type": "parcoords"
           }
          ],
          "pie": [
           {
            "automargin": true,
            "type": "pie"
           }
          ],
          "scatter": [
           {
            "fillpattern": {
             "fillmode": "overlay",
             "size": 10,
             "solidity": 0.2
            },
            "type": "scatter"
           }
          ],
          "scatter3d": [
           {
            "line": {
             "colorbar": {
              "outlinewidth": 0,
              "ticks": ""
             }
            },
            "marker": {
             "colorbar": {
              "outlinewidth": 0,
              "ticks": ""
             }
            },
            "type": "scatter3d"
           }
          ],
          "scattercarpet": [
           {
            "marker": {
             "colorbar": {
              "outlinewidth": 0,
              "ticks": ""
             }
            },
            "type": "scattercarpet"
           }
          ],
          "scattergeo": [
           {
            "marker": {
             "colorbar": {
              "outlinewidth": 0,
              "ticks": ""
             }
            },
            "type": "scattergeo"
           }
          ],
          "scattergl": [
           {
            "marker": {
             "colorbar": {
              "outlinewidth": 0,
              "ticks": ""
             }
            },
            "type": "scattergl"
           }
          ],
          "scattermap": [
           {
            "marker": {
             "colorbar": {
              "outlinewidth": 0,
              "ticks": ""
             }
            },
            "type": "scattermap"
           }
          ],
          "scattermapbox": [
           {
            "marker": {
             "colorbar": {
              "outlinewidth": 0,
              "ticks": ""
             }
            },
            "type": "scattermapbox"
           }
          ],
          "scatterpolar": [
           {
            "marker": {
             "colorbar": {
              "outlinewidth": 0,
              "ticks": ""
             }
            },
            "type": "scatterpolar"
           }
          ],
          "scatterpolargl": [
           {
            "marker": {
             "colorbar": {
              "outlinewidth": 0,
              "ticks": ""
             }
            },
            "type": "scatterpolargl"
           }
          ],
          "scatterternary": [
           {
            "marker": {
             "colorbar": {
              "outlinewidth": 0,
              "ticks": ""
             }
            },
            "type": "scatterternary"
           }
          ],
          "surface": [
           {
            "colorbar": {
             "outlinewidth": 0,
             "ticks": ""
            },
            "colorscale": [
             [
              0,
              "#0d0887"
             ],
             [
              0.1111111111111111,
              "#46039f"
             ],
             [
              0.2222222222222222,
              "#7201a8"
             ],
             [
              0.3333333333333333,
              "#9c179e"
             ],
             [
              0.4444444444444444,
              "#bd3786"
             ],
             [
              0.5555555555555556,
              "#d8576b"
             ],
             [
              0.6666666666666666,
              "#ed7953"
             ],
             [
              0.7777777777777778,
              "#fb9f3a"
             ],
             [
              0.8888888888888888,
              "#fdca26"
             ],
             [
              1,
              "#f0f921"
             ]
            ],
            "type": "surface"
           }
          ],
          "table": [
           {
            "cells": {
             "fill": {
              "color": "#EBF0F8"
             },
             "line": {
              "color": "white"
             }
            },
            "header": {
             "fill": {
              "color": "#C8D4E3"
             },
             "line": {
              "color": "white"
             }
            },
            "type": "table"
           }
          ]
         },
         "layout": {
          "annotationdefaults": {
           "arrowcolor": "#2a3f5f",
           "arrowhead": 0,
           "arrowwidth": 1
          },
          "autotypenumbers": "strict",
          "coloraxis": {
           "colorbar": {
            "outlinewidth": 0,
            "ticks": ""
           }
          },
          "colorscale": {
           "diverging": [
            [
             0,
             "#8e0152"
            ],
            [
             0.1,
             "#c51b7d"
            ],
            [
             0.2,
             "#de77ae"
            ],
            [
             0.3,
             "#f1b6da"
            ],
            [
             0.4,
             "#fde0ef"
            ],
            [
             0.5,
             "#f7f7f7"
            ],
            [
             0.6,
             "#e6f5d0"
            ],
            [
             0.7,
             "#b8e186"
            ],
            [
             0.8,
             "#7fbc41"
            ],
            [
             0.9,
             "#4d9221"
            ],
            [
             1,
             "#276419"
            ]
           ],
           "sequential": [
            [
             0,
             "#0d0887"
            ],
            [
             0.1111111111111111,
             "#46039f"
            ],
            [
             0.2222222222222222,
             "#7201a8"
            ],
            [
             0.3333333333333333,
             "#9c179e"
            ],
            [
             0.4444444444444444,
             "#bd3786"
            ],
            [
             0.5555555555555556,
             "#d8576b"
            ],
            [
             0.6666666666666666,
             "#ed7953"
            ],
            [
             0.7777777777777778,
             "#fb9f3a"
            ],
            [
             0.8888888888888888,
             "#fdca26"
            ],
            [
             1,
             "#f0f921"
            ]
           ],
           "sequentialminus": [
            [
             0,
             "#0d0887"
            ],
            [
             0.1111111111111111,
             "#46039f"
            ],
            [
             0.2222222222222222,
             "#7201a8"
            ],
            [
             0.3333333333333333,
             "#9c179e"
            ],
            [
             0.4444444444444444,
             "#bd3786"
            ],
            [
             0.5555555555555556,
             "#d8576b"
            ],
            [
             0.6666666666666666,
             "#ed7953"
            ],
            [
             0.7777777777777778,
             "#fb9f3a"
            ],
            [
             0.8888888888888888,
             "#fdca26"
            ],
            [
             1,
             "#f0f921"
            ]
           ]
          },
          "colorway": [
           "#636efa",
           "#EF553B",
           "#00cc96",
           "#ab63fa",
           "#FFA15A",
           "#19d3f3",
           "#FF6692",
           "#B6E880",
           "#FF97FF",
           "#FECB52"
          ],
          "font": {
           "color": "#2a3f5f"
          },
          "geo": {
           "bgcolor": "white",
           "lakecolor": "white",
           "landcolor": "#E5ECF6",
           "showlakes": true,
           "showland": true,
           "subunitcolor": "white"
          },
          "hoverlabel": {
           "align": "left"
          },
          "hovermode": "closest",
          "mapbox": {
           "style": "light"
          },
          "paper_bgcolor": "white",
          "plot_bgcolor": "#E5ECF6",
          "polar": {
           "angularaxis": {
            "gridcolor": "white",
            "linecolor": "white",
            "ticks": ""
           },
           "bgcolor": "#E5ECF6",
           "radialaxis": {
            "gridcolor": "white",
            "linecolor": "white",
            "ticks": ""
           }
          },
          "scene": {
           "xaxis": {
            "backgroundcolor": "#E5ECF6",
            "gridcolor": "white",
            "gridwidth": 2,
            "linecolor": "white",
            "showbackground": true,
            "ticks": "",
            "zerolinecolor": "white"
           },
           "yaxis": {
            "backgroundcolor": "#E5ECF6",
            "gridcolor": "white",
            "gridwidth": 2,
            "linecolor": "white",
            "showbackground": true,
            "ticks": "",
            "zerolinecolor": "white"
           },
           "zaxis": {
            "backgroundcolor": "#E5ECF6",
            "gridcolor": "white",
            "gridwidth": 2,
            "linecolor": "white",
            "showbackground": true,
            "ticks": "",
            "zerolinecolor": "white"
           }
          },
          "shapedefaults": {
           "line": {
            "color": "#2a3f5f"
           }
          },
          "ternary": {
           "aaxis": {
            "gridcolor": "white",
            "linecolor": "white",
            "ticks": ""
           },
           "baxis": {
            "gridcolor": "white",
            "linecolor": "white",
            "ticks": ""
           },
           "bgcolor": "#E5ECF6",
           "caxis": {
            "gridcolor": "white",
            "linecolor": "white",
            "ticks": ""
           }
          },
          "title": {
           "x": 0.05
          },
          "xaxis": {
           "automargin": true,
           "gridcolor": "white",
           "linecolor": "white",
           "ticks": "",
           "title": {
            "standoff": 15
           },
           "zerolinecolor": "white",
           "zerolinewidth": 2
          },
          "yaxis": {
           "automargin": true,
           "gridcolor": "white",
           "linecolor": "white",
           "ticks": "",
           "title": {
            "standoff": 15
           },
           "zerolinecolor": "white",
           "zerolinewidth": 2
          }
         }
        },
        "title": {
         "text": "NVDA Candlestick Chart"
        },
        "xaxis": {
         "title": {
          "text": "Time"
         }
        },
        "yaxis": {
         "title": {
          "text": "Price"
         }
        }
       }
      }
     },
     "metadata": {},
     "output_type": "display_data"
    },
    {
     "data": {
      "application/vnd.plotly.v1+json": {
       "config": {
        "plotlyServerURL": "https://plot.ly"
       },
       "data": [
        {
         "close": {
          "bdata": "w/UoXI8ab0DD9ShcjxpvQMP1KFyPGm9Aw/UoXI8ab0DD9ShcjxpvQAAAAAAAMG9AAAAAAAAwb0AAAAAAADBvQAAAAAAAMG9AAAAAAAAwb0AAAAAAADBvQBB6Nqs+K29AEHo2qz4rb0AQejarPitvQBB6Nqs+K29AEHo2qz4rb0AQejarPitvQGZmZmZmFm9A",
          "dtype": "f8"
         },
         "high": {
          "bdata": "pHA9CtcbcECkcD0K1xtwQKRwPQrXG3BApHA9CtcbcECkcD0K1xtwQKRwPQrXG3BApHA9CtcbcECkcD0K1xtwQKRwPQrXG3BApHA9CtcbcECkcD0K1xtwQKRwPQrXG3BApHA9CtcbcECkcD0K1xtwQKRwPQrXG3BApHA9CtcbcECkcD0K1xtwQKRwPQrXG3BA",
          "dtype": "f8"
         },
         "low": {
          "bdata": "/fZ14JwrbkD99nXgnCtuQP32deCcK25A/fZ14JwrbkD99nXgnCtuQP32deCcK25A/fZ14JwrbkD99nXgnCtuQP32deCcK25A/fZ14JwrbkD99nXgnCtuQP32deCcK25A/fZ14JwrbkD99nXgnCtuQP32deCcK25A/fZ14JwrbkD99nXgnCtuQP32deCcK25A",
          "dtype": "f8"
         },
         "open": {
          "bdata": "AAAAAACgb0AAAAAAAKBvQAAAAAAAoG9AAAAAAACgb0AAAAAAAKBvQAAAAAAAoG9AAAAAAACgb0AAAAAAAKBvQAAAAAAAoG9AAAAAAACgb0AAAAAAAKBvQAAAAAAAoG9AAAAAAACgb0AAAAAAAKBvQAAAAAAAoG9AAAAAAACgb0AAAAAAAKBvQAAAAAAAoG9A",
          "dtype": "f8"
         },
         "type": "candlestick",
         "x": [
          "2025-04-11T17:06:15.000000000",
          "2025-04-11T17:06:24.000000000",
          "2025-04-11T17:06:37.000000000",
          "2025-04-11T17:06:45.000000000",
          "2025-04-11T17:06:53.000000000",
          "2025-04-11T17:07:07.000000000",
          "2025-04-11T17:07:15.000000000",
          "2025-04-11T17:07:27.000000000",
          "2025-04-11T17:07:35.000000000",
          "2025-04-11T17:07:47.000000000",
          "2025-04-11T17:07:56.000000000",
          "2025-04-11T17:08:08.000000000",
          "2025-04-11T17:08:16.000000000",
          "2025-04-11T17:08:25.000000000",
          "2025-04-11T17:08:37.000000000",
          "2025-04-11T17:08:49.000000000",
          "2025-04-11T17:08:57.000000000",
          "2025-04-11T17:09:09.000000000"
         ]
        }
       ],
       "layout": {
        "template": {
         "data": {
          "bar": [
           {
            "error_x": {
             "color": "#2a3f5f"
            },
            "error_y": {
             "color": "#2a3f5f"
            },
            "marker": {
             "line": {
              "color": "#E5ECF6",
              "width": 0.5
             },
             "pattern": {
              "fillmode": "overlay",
              "size": 10,
              "solidity": 0.2
             }
            },
            "type": "bar"
           }
          ],
          "barpolar": [
           {
            "marker": {
             "line": {
              "color": "#E5ECF6",
              "width": 0.5
             },
             "pattern": {
              "fillmode": "overlay",
              "size": 10,
              "solidity": 0.2
             }
            },
            "type": "barpolar"
           }
          ],
          "carpet": [
           {
            "aaxis": {
             "endlinecolor": "#2a3f5f",
             "gridcolor": "white",
             "linecolor": "white",
             "minorgridcolor": "white",
             "startlinecolor": "#2a3f5f"
            },
            "baxis": {
             "endlinecolor": "#2a3f5f",
             "gridcolor": "white",
             "linecolor": "white",
             "minorgridcolor": "white",
             "startlinecolor": "#2a3f5f"
            },
            "type": "carpet"
           }
          ],
          "choropleth": [
           {
            "colorbar": {
             "outlinewidth": 0,
             "ticks": ""
            },
            "type": "choropleth"
           }
          ],
          "contour": [
           {
            "colorbar": {
             "outlinewidth": 0,
             "ticks": ""
            },
            "colorscale": [
             [
              0,
              "#0d0887"
             ],
             [
              0.1111111111111111,
              "#46039f"
             ],
             [
              0.2222222222222222,
              "#7201a8"
             ],
             [
              0.3333333333333333,
              "#9c179e"
             ],
             [
              0.4444444444444444,
              "#bd3786"
             ],
             [
              0.5555555555555556,
              "#d8576b"
             ],
             [
              0.6666666666666666,
              "#ed7953"
             ],
             [
              0.7777777777777778,
              "#fb9f3a"
             ],
             [
              0.8888888888888888,
              "#fdca26"
             ],
             [
              1,
              "#f0f921"
             ]
            ],
            "type": "contour"
           }
          ],
          "contourcarpet": [
           {
            "colorbar": {
             "outlinewidth": 0,
             "ticks": ""
            },
            "type": "contourcarpet"
           }
          ],
          "heatmap": [
           {
            "colorbar": {
             "outlinewidth": 0,
             "ticks": ""
            },
            "colorscale": [
             [
              0,
              "#0d0887"
             ],
             [
              0.1111111111111111,
              "#46039f"
             ],
             [
              0.2222222222222222,
              "#7201a8"
             ],
             [
              0.3333333333333333,
              "#9c179e"
             ],
             [
              0.4444444444444444,
              "#bd3786"
             ],
             [
              0.5555555555555556,
              "#d8576b"
             ],
             [
              0.6666666666666666,
              "#ed7953"
             ],
             [
              0.7777777777777778,
              "#fb9f3a"
             ],
             [
              0.8888888888888888,
              "#fdca26"
             ],
             [
              1,
              "#f0f921"
             ]
            ],
            "type": "heatmap"
           }
          ],
          "histogram": [
           {
            "marker": {
             "pattern": {
              "fillmode": "overlay",
              "size": 10,
              "solidity": 0.2
             }
            },
            "type": "histogram"
           }
          ],
          "histogram2d": [
           {
            "colorbar": {
             "outlinewidth": 0,
             "ticks": ""
            },
            "colorscale": [
             [
              0,
              "#0d0887"
             ],
             [
              0.1111111111111111,
              "#46039f"
             ],
             [
              0.2222222222222222,
              "#7201a8"
             ],
             [
              0.3333333333333333,
              "#9c179e"
             ],
             [
              0.4444444444444444,
              "#bd3786"
             ],
             [
              0.5555555555555556,
              "#d8576b"
             ],
             [
              0.6666666666666666,
              "#ed7953"
             ],
             [
              0.7777777777777778,
              "#fb9f3a"
             ],
             [
              0.8888888888888888,
              "#fdca26"
             ],
             [
              1,
              "#f0f921"
             ]
            ],
            "type": "histogram2d"
           }
          ],
          "histogram2dcontour": [
           {
            "colorbar": {
             "outlinewidth": 0,
             "ticks": ""
            },
            "colorscale": [
             [
              0,
              "#0d0887"
             ],
             [
              0.1111111111111111,
              "#46039f"
             ],
             [
              0.2222222222222222,
              "#7201a8"
             ],
             [
              0.3333333333333333,
              "#9c179e"
             ],
             [
              0.4444444444444444,
              "#bd3786"
             ],
             [
              0.5555555555555556,
              "#d8576b"
             ],
             [
              0.6666666666666666,
              "#ed7953"
             ],
             [
              0.7777777777777778,
              "#fb9f3a"
             ],
             [
              0.8888888888888888,
              "#fdca26"
             ],
             [
              1,
              "#f0f921"
             ]
            ],
            "type": "histogram2dcontour"
           }
          ],
          "mesh3d": [
           {
            "colorbar": {
             "outlinewidth": 0,
             "ticks": ""
            },
            "type": "mesh3d"
           }
          ],
          "parcoords": [
           {
            "line": {
             "colorbar": {
              "outlinewidth": 0,
              "ticks": ""
             }
            },
            "type": "parcoords"
           }
          ],
          "pie": [
           {
            "automargin": true,
            "type": "pie"
           }
          ],
          "scatter": [
           {
            "fillpattern": {
             "fillmode": "overlay",
             "size": 10,
             "solidity": 0.2
            },
            "type": "scatter"
           }
          ],
          "scatter3d": [
           {
            "line": {
             "colorbar": {
              "outlinewidth": 0,
              "ticks": ""
             }
            },
            "marker": {
             "colorbar": {
              "outlinewidth": 0,
              "ticks": ""
             }
            },
            "type": "scatter3d"
           }
          ],
          "scattercarpet": [
           {
            "marker": {
             "colorbar": {
              "outlinewidth": 0,
              "ticks": ""
             }
            },
            "type": "scattercarpet"
           }
          ],
          "scattergeo": [
           {
            "marker": {
             "colorbar": {
              "outlinewidth": 0,
              "ticks": ""
             }
            },
            "type": "scattergeo"
           }
          ],
          "scattergl": [
           {
            "marker": {
             "colorbar": {
              "outlinewidth": 0,
              "ticks": ""
             }
            },
            "type": "scattergl"
           }
          ],
          "scattermap": [
           {
            "marker": {
             "colorbar": {
              "outlinewidth": 0,
              "ticks": ""
             }
            },
            "type": "scattermap"
           }
          ],
          "scattermapbox": [
           {
            "marker": {
             "colorbar": {
              "outlinewidth": 0,
              "ticks": ""
             }
            },
            "type": "scattermapbox"
           }
          ],
          "scatterpolar": [
           {
            "marker": {
             "colorbar": {
              "outlinewidth": 0,
              "ticks": ""
             }
            },
            "type": "scatterpolar"
           }
          ],
          "scatterpolargl": [
           {
            "marker": {
             "colorbar": {
              "outlinewidth": 0,
              "ticks": ""
             }
            },
            "type": "scatterpolargl"
           }
          ],
          "scatterternary": [
           {
            "marker": {
             "colorbar": {
              "outlinewidth": 0,
              "ticks": ""
             }
            },
            "type": "scatterternary"
           }
          ],
          "surface": [
           {
            "colorbar": {
             "outlinewidth": 0,
             "ticks": ""
            },
            "colorscale": [
             [
              0,
              "#0d0887"
             ],
             [
              0.1111111111111111,
              "#46039f"
             ],
             [
              0.2222222222222222,
              "#7201a8"
             ],
             [
              0.3333333333333333,
              "#9c179e"
             ],
             [
              0.4444444444444444,
              "#bd3786"
             ],
             [
              0.5555555555555556,
              "#d8576b"
             ],
             [
              0.6666666666666666,
              "#ed7953"
             ],
             [
              0.7777777777777778,
              "#fb9f3a"
             ],
             [
              0.8888888888888888,
              "#fdca26"
             ],
             [
              1,
              "#f0f921"
             ]
            ],
            "type": "surface"
           }
          ],
          "table": [
           {
            "cells": {
             "fill": {
              "color": "#EBF0F8"
             },
             "line": {
              "color": "white"
             }
            },
            "header": {
             "fill": {
              "color": "#C8D4E3"
             },
             "line": {
              "color": "white"
             }
            },
            "type": "table"
           }
          ]
         },
         "layout": {
          "annotationdefaults": {
           "arrowcolor": "#2a3f5f",
           "arrowhead": 0,
           "arrowwidth": 1
          },
          "autotypenumbers": "strict",
          "coloraxis": {
           "colorbar": {
            "outlinewidth": 0,
            "ticks": ""
           }
          },
          "colorscale": {
           "diverging": [
            [
             0,
             "#8e0152"
            ],
            [
             0.1,
             "#c51b7d"
            ],
            [
             0.2,
             "#de77ae"
            ],
            [
             0.3,
             "#f1b6da"
            ],
            [
             0.4,
             "#fde0ef"
            ],
            [
             0.5,
             "#f7f7f7"
            ],
            [
             0.6,
             "#e6f5d0"
            ],
            [
             0.7,
             "#b8e186"
            ],
            [
             0.8,
             "#7fbc41"
            ],
            [
             0.9,
             "#4d9221"
            ],
            [
             1,
             "#276419"
            ]
           ],
           "sequential": [
            [
             0,
             "#0d0887"
            ],
            [
             0.1111111111111111,
             "#46039f"
            ],
            [
             0.2222222222222222,
             "#7201a8"
            ],
            [
             0.3333333333333333,
             "#9c179e"
            ],
            [
             0.4444444444444444,
             "#bd3786"
            ],
            [
             0.5555555555555556,
             "#d8576b"
            ],
            [
             0.6666666666666666,
             "#ed7953"
            ],
            [
             0.7777777777777778,
             "#fb9f3a"
            ],
            [
             0.8888888888888888,
             "#fdca26"
            ],
            [
             1,
             "#f0f921"
            ]
           ],
           "sequentialminus": [
            [
             0,
             "#0d0887"
            ],
            [
             0.1111111111111111,
             "#46039f"
            ],
            [
             0.2222222222222222,
             "#7201a8"
            ],
            [
             0.3333333333333333,
             "#9c179e"
            ],
            [
             0.4444444444444444,
             "#bd3786"
            ],
            [
             0.5555555555555556,
             "#d8576b"
            ],
            [
             0.6666666666666666,
             "#ed7953"
            ],
            [
             0.7777777777777778,
             "#fb9f3a"
            ],
            [
             0.8888888888888888,
             "#fdca26"
            ],
            [
             1,
             "#f0f921"
            ]
           ]
          },
          "colorway": [
           "#636efa",
           "#EF553B",
           "#00cc96",
           "#ab63fa",
           "#FFA15A",
           "#19d3f3",
           "#FF6692",
           "#B6E880",
           "#FF97FF",
           "#FECB52"
          ],
          "font": {
           "color": "#2a3f5f"
          },
          "geo": {
           "bgcolor": "white",
           "lakecolor": "white",
           "landcolor": "#E5ECF6",
           "showlakes": true,
           "showland": true,
           "subunitcolor": "white"
          },
          "hoverlabel": {
           "align": "left"
          },
          "hovermode": "closest",
          "mapbox": {
           "style": "light"
          },
          "paper_bgcolor": "white",
          "plot_bgcolor": "#E5ECF6",
          "polar": {
           "angularaxis": {
            "gridcolor": "white",
            "linecolor": "white",
            "ticks": ""
           },
           "bgcolor": "#E5ECF6",
           "radialaxis": {
            "gridcolor": "white",
            "linecolor": "white",
            "ticks": ""
           }
          },
          "scene": {
           "xaxis": {
            "backgroundcolor": "#E5ECF6",
            "gridcolor": "white",
            "gridwidth": 2,
            "linecolor": "white",
            "showbackground": true,
            "ticks": "",
            "zerolinecolor": "white"
           },
           "yaxis": {
            "backgroundcolor": "#E5ECF6",
            "gridcolor": "white",
            "gridwidth": 2,
            "linecolor": "white",
            "showbackground": true,
            "ticks": "",
            "zerolinecolor": "white"
           },
           "zaxis": {
            "backgroundcolor": "#E5ECF6",
            "gridcolor": "white",
            "gridwidth": 2,
            "linecolor": "white",
            "showbackground": true,
            "ticks": "",
            "zerolinecolor": "white"
           }
          },
          "shapedefaults": {
           "line": {
            "color": "#2a3f5f"
           }
          },
          "ternary": {
           "aaxis": {
            "gridcolor": "white",
            "linecolor": "white",
            "ticks": ""
           },
           "baxis": {
            "gridcolor": "white",
            "linecolor": "white",
            "ticks": ""
           },
           "bgcolor": "#E5ECF6",
           "caxis": {
            "gridcolor": "white",
            "linecolor": "white",
            "ticks": ""
           }
          },
          "title": {
           "x": 0.05
          },
          "xaxis": {
           "automargin": true,
           "gridcolor": "white",
           "linecolor": "white",
           "ticks": "",
           "title": {
            "standoff": 15
           },
           "zerolinecolor": "white",
           "zerolinewidth": 2
          },
          "yaxis": {
           "automargin": true,
           "gridcolor": "white",
           "linecolor": "white",
           "ticks": "",
           "title": {
            "standoff": 15
           },
           "zerolinecolor": "white",
           "zerolinewidth": 2
          }
         }
        },
        "title": {
         "text": "TSLA Candlestick Chart"
        },
        "xaxis": {
         "title": {
          "text": "Time"
         }
        },
        "yaxis": {
         "title": {
          "text": "Price"
         }
        }
       }
      }
     },
     "metadata": {},
     "output_type": "display_data"
    }
   ],
   "source": [
    "import plotly.graph_objects as go\n",
    "\n",
    "for ticker in df_cass_final['ticker'].unique():\n",
    "    subset = df_cass_final[df_cass_final['ticker'] == ticker]\n",
    "    fig = go.Figure(data=[go.Candlestick(\n",
    "        x=subset['date'],\n",
    "        open=subset['open'],\n",
    "        high=subset['high'],\n",
    "        low=subset['low'],\n",
    "        close=subset['close']\n",
    "    )])\n",
    "    fig.update_layout(title=f\"{ticker} Candlestick Chart\", xaxis_title='Time', yaxis_title='Price')\n",
    "    fig.show()\n"
   ]
  },
  {
   "cell_type": "code",
   "execution_count": 69,
   "metadata": {},
   "outputs": [
    {
     "data": {
      "image/png": "[encoded data removed]",
      "text/plain": [
       "<Figure size 900x900 with 7 Axes>"
      ]
     },
     "metadata": {},
     "output_type": "display_data"
    }
   ],
   "source": [
    "g = sns.FacetGrid(df_cass_final, col=\"ticker\", col_wrap=3, sharex=True, sharey=True)\n",
    "g.map(sns.histplot, \"RSI_5\", bins=20, kde=True)\n",
    "g.fig.subplots_adjust(top=0.9)\n",
    "g.fig.suptitle(\"RSI Distribution Per Ticker\")\n",
    "plt.show()\n"
   ]
  },
  {
   "cell_type": "code",
   "execution_count": 59,
   "metadata": {},
   "outputs": [
    {
     "data": {
      "image/png": "[encoded data removed]",
      "text/plain": [
       "<Figure size 640x480 with 1 Axes>"
      ]
     },
     "metadata": {},
     "output_type": "display_data"
    }
   ],
   "source": [
    "sns.lineplot(data=df_cass_final, x=\"date\", y=\"ATR_5\", hue=\"ticker\")\n",
    "plt.title(\"Volatility Over Time (ATR_5)\")\n",
    "plt.xticks(rotation=45)\n",
    "plt.tight_layout()\n",
    "plt.show()\n"
   ]
  },
  {
   "cell_type": "code",
   "execution_count": 60,
   "metadata": {},
   "outputs": [
    {
     "data": {
      "image/png": "[encoded data removed]",
      "text/plain": [
       "<Figure size 1200x800 with 2 Axes>"
      ]
     },
     "metadata": {},
     "output_type": "display_data"
    }
   ],
   "source": [
    "plt.figure(figsize=(12, 8))\n",
    "sns.heatmap(df_cass_final.drop(columns=['date', 'ticker']).corr(), annot=True, cmap='coolwarm')\n",
    "plt.title(\"Feature Correlation Heatmap\")\n",
    "plt.show()\n"
   ]
  },
  {
   "cell_type": "code",
   "execution_count": 61,
   "metadata": {},
   "outputs": [
    {
     "data": {
      "image/png": "[encoded data removed]",
      "text/plain": [
       "<Figure size 640x480 with 1 Axes>"
      ]
     },
     "metadata": {},
     "output_type": "display_data"
    }
   ],
   "source": [
    "subset = df_cass_final[df_cass_final['ticker'] == 'AAPL']  # or any one ticker\n",
    "plt.plot(subset['date'], subset['close'], label='Close')\n",
    "plt.plot(subset['date'], subset['SMA_5'], label='SMA_5')\n",
    "plt.plot(subset['date'], subset['EMA_5'], label='EMA_5')\n",
    "plt.title(\"AAPL: Close vs. SMA vs. EMA\")\n",
    "plt.legend()\n",
    "plt.xticks(rotation=45)\n",
    "plt.tight_layout()\n",
    "plt.show()\n"
   ]
  },
  {
   "cell_type": "code",
   "execution_count": 62,
   "metadata": {},
   "outputs": [
    {
     "data": {
      "image/png": "[encoded data removed]",
      "text/plain": [
       "<Figure size 640x480 with 1 Axes>"
      ]
     },
     "metadata": {},
     "output_type": "display_data"
    }
   ],
   "source": [
    "subset = df_cass_final[df_cass_final['ticker'] == 'AAPL']\n",
    "plt.plot(subset['date'], subset['MACD'], label='MACD')\n",
    "plt.plot(subset['date'], subset['MACD_Signal'], label='MACD_Signal', linestyle='--')\n",
    "plt.title(\"MACD vs MACD Signal (AAPL)\")\n",
    "plt.legend()\n",
    "plt.xticks(rotation=45)\n",
    "plt.tight_layout()\n",
    "plt.show()\n"
   ]
  },
  {
   "cell_type": "code",
   "execution_count": 63,
   "metadata": {},
   "outputs": [
    {
     "data": {
      "image/png": "[encoded data removed]",
      "text/plain": [
       "<Figure size 640x480 with 1 Axes>"
      ]
     },
     "metadata": {},
     "output_type": "display_data"
    }
   ],
   "source": [
    "subset = df_cass_final[df_cass_final['ticker'] == 'AAPL']\n",
    "plt.plot(subset['date'], subset['close'], label='Close', color='black')\n",
    "plt.plot(subset['date'], subset['BB_Upper'], label='BB_Upper', linestyle='--')\n",
    "plt.plot(subset['date'], subset['BB_Lower'], label='BB_Lower', linestyle='--')\n",
    "plt.fill_between(subset['date'], subset['BB_Lower'], subset['BB_Upper'], alpha=0.1)\n",
    "plt.title(\"AAPL: Bollinger Bands\")\n",
    "plt.legend()\n",
    "plt.xticks(rotation=45)\n",
    "plt.tight_layout()\n",
    "plt.show()\n"
   ]
  },
  {
   "cell_type": "code",
   "execution_count": 64,
   "metadata": {},
   "outputs": [
    {
     "data": {
      "image/png": "[encoded data removed]",
      "text/plain": [
       "<Figure size 640x480 with 1 Axes>"
      ]
     },
     "metadata": {},
     "output_type": "display_data"
    }
   ],
   "source": [
    "sns.boxplot(data=df_cass_final, x=\"ticker\", y=\"MACD\")\n",
    "plt.title(\"MACD Range by Ticker\")\n",
    "plt.show()\n"
   ]
  },
  {
   "cell_type": "code",
   "execution_count": 65,
   "metadata": {},
   "outputs": [
    {
     "data": {
      "image/png": "[encoded data removed]",
      "text/plain": [
       "<Figure size 1500x1500 with 42 Axes>"
      ]
     },
     "metadata": {},
     "output_type": "display_data"
    }
   ],
   "source": [
    "sns.pairplot(df_cass_final[['close', 'SMA_5', 'EMA_5', 'RSI_5', 'MACD', 'ATR_5']])\n",
    "plt.suptitle(\"Pairwise Feature Comparison\", y=1.02)\n",
    "plt.show()\n"
   ]
  },
  {
   "cell_type": "code",
   "execution_count": 66,
   "metadata": {},
   "outputs": [
    {
     "data": {
      "image/png": "[encoded data removed]",
      "text/plain": [
       "<Figure size 640x480 with 1 Axes>"
      ]
     },
     "metadata": {},
     "output_type": "display_data"
    }
   ],
   "source": [
    "sns.kdeplot(data=df_cass_final, x='MACD', hue='ticker', fill=True)\n",
    "plt.title(\"MACD Distribution Across Tickers\")\n",
    "plt.show()\n"
   ]
  },
  {
   "cell_type": "markdown",
   "metadata": {},
   "source": [
    "## Real Time Data Encoding"
   ]
  },
  {
   "cell_type": "code",
   "execution_count": null,
   "metadata": {},
   "outputs": [],
   "source": []
  },
  {
   "cell_type": "markdown",
   "metadata": {},
   "source": [
    "## Machine Learning\n",
    "### ARIMA for MySQL (historical) and LSTM for Cassandra (real time)"
   ]
  },
  {
   "cell_type": "code",
   "execution_count": null,
   "metadata": {},
   "outputs": [],
   "source": []
  }
 ],
 "metadata": {
  "kernelspec": {
   "display_name": "Python 3",
   "language": "python",
   "name": "python3"
  },
  "language_info": {
   "codemirror_mode": {
    "name": "ipython",
    "version": 3
   },
   "file_extension": ".py",
   "mimetype": "text/x-python",
   "name": "python",
   "nbconvert_exporter": "python",
   "pygments_lexer": "ipython3",
   "version": "3.9.6"
  }
 },
 "nbformat": 4,
 "nbformat_minor": 2
}
