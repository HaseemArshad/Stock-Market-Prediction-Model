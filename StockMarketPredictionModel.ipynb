{
 "cells": [
  {
   "cell_type": "markdown",
   "metadata": {},
   "source": [
    "# Stock Market Prediction Model of the Magnificient Seven "
   ]
  },
  {
   "cell_type": "markdown",
   "metadata": {},
   "source": [
    "#pip install the dependencies from requirements. May take up to 12 minutes"
   ]
  },
  {
   "cell_type": "code",
   "execution_count": 112,
   "metadata": {},
   "outputs": [
    {
     "name": "stdout",
     "output_type": "stream",
     "text": [
      "Defaulting to user installation because normal site-packages is not writeable\n",
      "Requirement already satisfied: pandas in /Users/haseemarshad/Library/Python/3.9/lib/python/site-packages (from -r requirements.txt (line 1)) (2.2.3)\n",
      "Requirement already satisfied: finnhub-python in /Users/haseemarshad/Library/Python/3.9/lib/python/site-packages (from -r requirements.txt (line 2)) (2.4.23)\n",
      "Requirement already satisfied: numpy in /Users/haseemarshad/Library/Python/3.9/lib/python/site-packages (from -r requirements.txt (line 3)) (2.0.2)\n",
      "Requirement already satisfied: cassandra-driver in /Users/haseemarshad/Library/Python/3.9/lib/python/site-packages (from -r requirements.txt (line 4)) (3.29.2)\n",
      "Requirement already satisfied: seaborn in /Users/haseemarshad/Library/Python/3.9/lib/python/site-packages (from -r requirements.txt (line 5)) (0.13.2)\n",
      "Requirement already satisfied: matplotlib in /Users/haseemarshad/Library/Python/3.9/lib/python/site-packages (from -r requirements.txt (line 6)) (3.9.4)\n",
      "Requirement already satisfied: plotly in /Users/haseemarshad/Library/Python/3.9/lib/python/site-packages (from -r requirements.txt (line 7)) (6.0.1)\n",
      "Requirement already satisfied: statsmodels in /Users/haseemarshad/Library/Python/3.9/lib/python/site-packages (from -r requirements.txt (line 8)) (0.14.4)\n",
      "Requirement already satisfied: tensorflow in /Users/haseemarshad/Library/Python/3.9/lib/python/site-packages (from -r requirements.txt (line 9)) (2.19.0)\n",
      "Requirement already satisfied: yfinance in /Users/haseemarshad/Library/Python/3.9/lib/python/site-packages (from -r requirements.txt (line 10)) (0.2.55)\n",
      "Requirement already satisfied: nbformat in /Users/haseemarshad/Library/Python/3.9/lib/python/site-packages (from -r requirements.txt (line 11)) (5.10.4)\n",
      "Requirement already satisfied: sklearn in /Users/haseemarshad/Library/Python/3.9/lib/python/site-packages (from -r requirements.txt (line 12)) (0.0)\n",
      "Requirement already satisfied: xgboost in /Users/haseemarshad/Library/Python/3.9/lib/python/site-packages (from -r requirements.txt (line 13)) (2.1.4)\n",
      "Requirement already satisfied: pytz>=2020.1 in /Users/haseemarshad/Library/Python/3.9/lib/python/site-packages (from pandas->-r requirements.txt (line 1)) (2025.1)\n",
      "Requirement already satisfied: tzdata>=2022.7 in /Users/haseemarshad/Library/Python/3.9/lib/python/site-packages (from pandas->-r requirements.txt (line 1)) (2025.2)\n",
      "Requirement already satisfied: python-dateutil>=2.8.2 in /Users/haseemarshad/Library/Python/3.9/lib/python/site-packages (from pandas->-r requirements.txt (line 1)) (2.9.0.post0)\n",
      "Requirement already satisfied: requests>=2.22.0 in /Users/haseemarshad/Library/Python/3.9/lib/python/site-packages (from finnhub-python->-r requirements.txt (line 2)) (2.32.3)\n",
      "Requirement already satisfied: geomet<0.3,>=0.1 in /Users/haseemarshad/Library/Python/3.9/lib/python/site-packages (from cassandra-driver->-r requirements.txt (line 4)) (0.2.1.post1)\n",
      "Requirement already satisfied: pillow>=8 in /Users/haseemarshad/Library/Python/3.9/lib/python/site-packages (from matplotlib->-r requirements.txt (line 6)) (11.1.0)\n",
      "Requirement already satisfied: contourpy>=1.0.1 in /Users/haseemarshad/Library/Python/3.9/lib/python/site-packages (from matplotlib->-r requirements.txt (line 6)) (1.3.0)\n",
      "Requirement already satisfied: importlib-resources>=3.2.0 in /Users/haseemarshad/Library/Python/3.9/lib/python/site-packages (from matplotlib->-r requirements.txt (line 6)) (6.5.2)\n",
      "Requirement already satisfied: kiwisolver>=1.3.1 in /Users/haseemarshad/Library/Python/3.9/lib/python/site-packages (from matplotlib->-r requirements.txt (line 6)) (1.4.7)\n",
      "Requirement already satisfied: pyparsing>=2.3.1 in /Users/haseemarshad/Library/Python/3.9/lib/python/site-packages (from matplotlib->-r requirements.txt (line 6)) (3.2.2)\n",
      "Requirement already satisfied: packaging>=20.0 in /Users/haseemarshad/Library/Python/3.9/lib/python/site-packages (from matplotlib->-r requirements.txt (line 6)) (24.2)\n",
      "Requirement already satisfied: cycler>=0.10 in /Users/haseemarshad/Library/Python/3.9/lib/python/site-packages (from matplotlib->-r requirements.txt (line 6)) (0.12.1)\n",
      "Requirement already satisfied: fonttools>=4.22.0 in /Users/haseemarshad/Library/Python/3.9/lib/python/site-packages (from matplotlib->-r requirements.txt (line 6)) (4.56.0)\n",
      "Requirement already satisfied: narwhals>=1.15.1 in /Users/haseemarshad/Library/Python/3.9/lib/python/site-packages (from plotly->-r requirements.txt (line 7)) (1.32.0)\n",
      "Requirement already satisfied: patsy>=0.5.6 in /Users/haseemarshad/Library/Python/3.9/lib/python/site-packages (from statsmodels->-r requirements.txt (line 8)) (1.0.1)\n",
      "Requirement already satisfied: scipy!=1.9.2,>=1.8 in /Users/haseemarshad/Library/Python/3.9/lib/python/site-packages (from statsmodels->-r requirements.txt (line 8)) (1.13.1)\n",
      "Requirement already satisfied: h5py>=3.11.0 in /Users/haseemarshad/Library/Python/3.9/lib/python/site-packages (from tensorflow->-r requirements.txt (line 9)) (3.13.0)\n",
      "Requirement already satisfied: google-pasta>=0.1.1 in /Users/haseemarshad/Library/Python/3.9/lib/python/site-packages (from tensorflow->-r requirements.txt (line 9)) (0.2.0)\n",
      "Requirement already satisfied: flatbuffers>=24.3.25 in /Users/haseemarshad/Library/Python/3.9/lib/python/site-packages (from tensorflow->-r requirements.txt (line 9)) (25.2.10)\n",
      "Requirement already satisfied: gast!=0.5.0,!=0.5.1,!=0.5.2,>=0.2.1 in /Users/haseemarshad/Library/Python/3.9/lib/python/site-packages (from tensorflow->-r requirements.txt (line 9)) (0.6.0)\n",
      "Requirement already satisfied: wrapt>=1.11.0 in /Users/haseemarshad/Library/Python/3.9/lib/python/site-packages (from tensorflow->-r requirements.txt (line 9)) (1.17.2)\n",
      "Requirement already satisfied: typing-extensions>=3.6.6 in /Users/haseemarshad/Library/Python/3.9/lib/python/site-packages (from tensorflow->-r requirements.txt (line 9)) (4.12.2)\n",
      "Requirement already satisfied: astunparse>=1.6.0 in /Users/haseemarshad/Library/Python/3.9/lib/python/site-packages (from tensorflow->-r requirements.txt (line 9)) (1.6.3)\n",
      "Requirement already satisfied: termcolor>=1.1.0 in /Users/haseemarshad/Library/Python/3.9/lib/python/site-packages (from tensorflow->-r requirements.txt (line 9)) (2.5.0)\n",
      "Requirement already satisfied: opt-einsum>=2.3.2 in /Users/haseemarshad/Library/Python/3.9/lib/python/site-packages (from tensorflow->-r requirements.txt (line 9)) (3.4.0)\n",
      "Requirement already satisfied: grpcio<2.0,>=1.24.3 in /Users/haseemarshad/Library/Python/3.9/lib/python/site-packages (from tensorflow->-r requirements.txt (line 9)) (1.71.0)\n",
      "Requirement already satisfied: keras>=3.5.0 in /Users/haseemarshad/Library/Python/3.9/lib/python/site-packages (from tensorflow->-r requirements.txt (line 9)) (3.9.0)\n",
      "Requirement already satisfied: absl-py>=1.0.0 in /Users/haseemarshad/Library/Python/3.9/lib/python/site-packages (from tensorflow->-r requirements.txt (line 9)) (2.2.0)\n",
      "Requirement already satisfied: six>=1.12.0 in /Library/Developer/CommandLineTools/Library/Frameworks/Python3.framework/Versions/3.9/lib/python3.9/site-packages (from tensorflow->-r requirements.txt (line 9)) (1.15.0)\n",
      "Requirement already satisfied: tensorflow-io-gcs-filesystem>=0.23.1 in /Users/haseemarshad/Library/Python/3.9/lib/python/site-packages (from tensorflow->-r requirements.txt (line 9)) (0.37.1)\n",
      "Requirement already satisfied: libclang>=13.0.0 in /Users/haseemarshad/Library/Python/3.9/lib/python/site-packages (from tensorflow->-r requirements.txt (line 9)) (18.1.1)\n",
      "Requirement already satisfied: ml-dtypes<1.0.0,>=0.5.1 in /Users/haseemarshad/Library/Python/3.9/lib/python/site-packages (from tensorflow->-r requirements.txt (line 9)) (0.5.1)\n",
      "Requirement already satisfied: tensorboard~=2.19.0 in /Users/haseemarshad/Library/Python/3.9/lib/python/site-packages (from tensorflow->-r requirements.txt (line 9)) (2.19.0)\n",
      "Requirement already satisfied: setuptools in /Library/Developer/CommandLineTools/Library/Frameworks/Python3.framework/Versions/3.9/lib/python3.9/site-packages (from tensorflow->-r requirements.txt (line 9)) (58.0.4)\n",
      "Requirement already satisfied: protobuf!=4.21.0,!=4.21.1,!=4.21.2,!=4.21.3,!=4.21.4,!=4.21.5,<6.0.0dev,>=3.20.3 in /Users/haseemarshad/Library/Python/3.9/lib/python/site-packages (from tensorflow->-r requirements.txt (line 9)) (5.29.4)\n",
      "Requirement already satisfied: frozendict>=2.3.4 in /Users/haseemarshad/Library/Python/3.9/lib/python/site-packages (from yfinance->-r requirements.txt (line 10)) (2.4.6)\n",
      "Requirement already satisfied: platformdirs>=2.0.0 in /Users/haseemarshad/Library/Python/3.9/lib/python/site-packages (from yfinance->-r requirements.txt (line 10)) (4.3.7)\n",
      "Requirement already satisfied: multitasking>=0.0.7 in /Users/haseemarshad/Library/Python/3.9/lib/python/site-packages (from yfinance->-r requirements.txt (line 10)) (0.0.11)\n",
      "Requirement already satisfied: beautifulsoup4>=4.11.1 in /Users/haseemarshad/Library/Python/3.9/lib/python/site-packages (from yfinance->-r requirements.txt (line 10)) (4.13.3)\n",
      "Requirement already satisfied: peewee>=3.16.2 in /Users/haseemarshad/Library/Python/3.9/lib/python/site-packages (from yfinance->-r requirements.txt (line 10)) (3.17.9)\n",
      "Requirement already satisfied: jsonschema>=2.6 in /Users/haseemarshad/Library/Python/3.9/lib/python/site-packages (from nbformat->-r requirements.txt (line 11)) (4.23.0)\n",
      "Requirement already satisfied: traitlets>=5.1 in /Users/haseemarshad/Library/Python/3.9/lib/python/site-packages (from nbformat->-r requirements.txt (line 11)) (5.14.3)\n",
      "Requirement already satisfied: jupyter-core!=5.0.*,>=4.12 in /Users/haseemarshad/Library/Python/3.9/lib/python/site-packages (from nbformat->-r requirements.txt (line 11)) (5.7.2)\n",
      "Requirement already satisfied: fastjsonschema>=2.15 in /Users/haseemarshad/Library/Python/3.9/lib/python/site-packages (from nbformat->-r requirements.txt (line 11)) (2.21.1)\n",
      "Requirement already satisfied: scikit-learn in /Users/haseemarshad/Library/Python/3.9/lib/python/site-packages (from sklearn->-r requirements.txt (line 12)) (1.6.1)\n",
      "Requirement already satisfied: wheel<1.0,>=0.23.0 in /Library/Developer/CommandLineTools/Library/Frameworks/Python3.framework/Versions/3.9/lib/python3.9/site-packages (from astunparse>=1.6.0->tensorflow->-r requirements.txt (line 9)) (0.37.0)\n",
      "Requirement already satisfied: soupsieve>1.2 in /Users/haseemarshad/Library/Python/3.9/lib/python/site-packages (from beautifulsoup4>=4.11.1->yfinance->-r requirements.txt (line 10)) (2.6)\n",
      "Requirement already satisfied: click in /Users/haseemarshad/Library/Python/3.9/lib/python/site-packages (from geomet<0.3,>=0.1->cassandra-driver->-r requirements.txt (line 4)) (8.1.8)\n",
      "Requirement already satisfied: zipp>=3.1.0 in /Users/haseemarshad/Library/Python/3.9/lib/python/site-packages (from importlib-resources>=3.2.0->matplotlib->-r requirements.txt (line 6)) (3.21.0)\n",
      "Requirement already satisfied: jsonschema-specifications>=2023.03.6 in /Users/haseemarshad/Library/Python/3.9/lib/python/site-packages (from jsonschema>=2.6->nbformat->-r requirements.txt (line 11)) (2024.10.1)\n",
      "Requirement already satisfied: rpds-py>=0.7.1 in /Users/haseemarshad/Library/Python/3.9/lib/python/site-packages (from jsonschema>=2.6->nbformat->-r requirements.txt (line 11)) (0.24.0)\n",
      "Requirement already satisfied: referencing>=0.28.4 in /Users/haseemarshad/Library/Python/3.9/lib/python/site-packages (from jsonschema>=2.6->nbformat->-r requirements.txt (line 11)) (0.36.2)\n",
      "Requirement already satisfied: attrs>=22.2.0 in /Users/haseemarshad/Library/Python/3.9/lib/python/site-packages (from jsonschema>=2.6->nbformat->-r requirements.txt (line 11)) (25.3.0)\n",
      "Requirement already satisfied: rich in /Users/haseemarshad/Library/Python/3.9/lib/python/site-packages (from keras>=3.5.0->tensorflow->-r requirements.txt (line 9)) (13.9.4)\n",
      "Requirement already satisfied: namex in /Users/haseemarshad/Library/Python/3.9/lib/python/site-packages (from keras>=3.5.0->tensorflow->-r requirements.txt (line 9)) (0.0.8)\n",
      "Requirement already satisfied: optree in /Users/haseemarshad/Library/Python/3.9/lib/python/site-packages (from keras>=3.5.0->tensorflow->-r requirements.txt (line 9)) (0.14.1)\n",
      "Requirement already satisfied: idna<4,>=2.5 in /Users/haseemarshad/Library/Python/3.9/lib/python/site-packages (from requests>=2.22.0->finnhub-python->-r requirements.txt (line 2)) (3.10)\n",
      "Requirement already satisfied: urllib3<3,>=1.21.1 in /Users/haseemarshad/Library/Python/3.9/lib/python/site-packages (from requests>=2.22.0->finnhub-python->-r requirements.txt (line 2)) (2.3.0)\n",
      "Requirement already satisfied: certifi>=2017.4.17 in /Users/haseemarshad/Library/Python/3.9/lib/python/site-packages (from requests>=2.22.0->finnhub-python->-r requirements.txt (line 2)) (2025.1.31)\n",
      "Requirement already satisfied: charset-normalizer<4,>=2 in /Users/haseemarshad/Library/Python/3.9/lib/python/site-packages (from requests>=2.22.0->finnhub-python->-r requirements.txt (line 2)) (3.4.1)\n",
      "Requirement already satisfied: markdown>=2.6.8 in /Users/haseemarshad/Library/Python/3.9/lib/python/site-packages (from tensorboard~=2.19.0->tensorflow->-r requirements.txt (line 9)) (3.7)\n",
      "Requirement already satisfied: werkzeug>=1.0.1 in /Users/haseemarshad/Library/Python/3.9/lib/python/site-packages (from tensorboard~=2.19.0->tensorflow->-r requirements.txt (line 9)) (3.1.3)\n",
      "Requirement already satisfied: tensorboard-data-server<0.8.0,>=0.7.0 in /Users/haseemarshad/Library/Python/3.9/lib/python/site-packages (from tensorboard~=2.19.0->tensorflow->-r requirements.txt (line 9)) (0.7.2)\n",
      "Requirement already satisfied: importlib-metadata>=4.4 in /Users/haseemarshad/Library/Python/3.9/lib/python/site-packages (from markdown>=2.6.8->tensorboard~=2.19.0->tensorflow->-r requirements.txt (line 9)) (8.6.1)\n",
      "Requirement already satisfied: MarkupSafe>=2.1.1 in /Users/haseemarshad/Library/Python/3.9/lib/python/site-packages (from werkzeug>=1.0.1->tensorboard~=2.19.0->tensorflow->-r requirements.txt (line 9)) (3.0.2)\n",
      "Requirement already satisfied: markdown-it-py>=2.2.0 in /Users/haseemarshad/Library/Python/3.9/lib/python/site-packages (from rich->keras>=3.5.0->tensorflow->-r requirements.txt (line 9)) (3.0.0)\n",
      "Requirement already satisfied: pygments<3.0.0,>=2.13.0 in /Users/haseemarshad/Library/Python/3.9/lib/python/site-packages (from rich->keras>=3.5.0->tensorflow->-r requirements.txt (line 9)) (2.19.1)\n",
      "Requirement already satisfied: mdurl~=0.1 in /Users/haseemarshad/Library/Python/3.9/lib/python/site-packages (from markdown-it-py>=2.2.0->rich->keras>=3.5.0->tensorflow->-r requirements.txt (line 9)) (0.1.2)\n",
      "Requirement already satisfied: joblib>=1.2.0 in /Users/haseemarshad/Library/Python/3.9/lib/python/site-packages (from scikit-learn->sklearn->-r requirements.txt (line 12)) (1.4.2)\n",
      "Requirement already satisfied: threadpoolctl>=3.1.0 in /Users/haseemarshad/Library/Python/3.9/lib/python/site-packages (from scikit-learn->sklearn->-r requirements.txt (line 12)) (3.6.0)\n",
      "\u001b[33mWARNING: You are using pip version 21.2.4; however, version 25.0.1 is available.\n",
      "You should consider upgrading via the '/Library/Developer/CommandLineTools/usr/bin/python3 -m pip install --upgrade pip' command.\u001b[0m\n"
     ]
    }
   ],
   "source": [
    "!python3 -m pip install -r requirements.txt"
   ]
  },
  {
   "cell_type": "markdown",
   "metadata": {},
   "source": [
    "### importing our libraries after pipinstall"
   ]
  },
  {
   "cell_type": "code",
   "execution_count": 113,
   "metadata": {},
   "outputs": [],
   "source": [
    "\n",
    "#python data manipulation\n",
    "import pandas as pd\n",
    "import numpy as np\n",
    "\n",
    "#data visualizaiton tools, EDA\n",
    "import seaborn as sns\n",
    "import matplotlib.pyplot as plt\n",
    "import plotly.express as px\n",
    "\n",
    "#mysql and Cassandra\n",
    "from cassandra.cluster import Cluster          \n",
    "\n",
    "from sklearn.preprocessing import MinMaxScaler\n",
    "from sklearn.metrics import mean_squared_error, r2_score\n",
    "#ARIMA\n",
    "from statsmodels.tsa.arima.model import ARIMA\n",
    "import statsmodels.api as sm\n",
    "\n",
    "\n",
    "\n",
    "#LSTM Neural network\n",
    "from tensorflow.keras.models import Sequential\n",
    "from tensorflow.keras.layers import LSTM, Dense\n",
    "import tensorflow as tf\n",
    "\n",
    "# our finance data\n",
    "import yfinance as yf\n",
    "\n"
   ]
  },
  {
   "cell_type": "markdown",
   "metadata": {},
   "source": [
    "## Extracting the Historical Data.\n",
    "\n",
    "\n",
    " ### The historical aspect of the data is starting from January 1st 2020 to yesterday (april 6th), We can adjust this to most recent always. We extracted the 7 companies and start with first 7 features from our project proposal: Date/time, open price, low price, high price, adjusted close price, trading volume"
   ]
  },
  {
   "cell_type": "code",
   "execution_count": 114,
   "metadata": {},
   "outputs": [],
   "source": [
    "def extract_data(tickers, start_date=\"2020-01-01\", end_date=\"2025-04-06\", interval=\"1d\"):\n",
    "    # importing the yfinance api data, making sure the autoadjust is off because it overrides the close value if its on\n",
    "    df = yf.download(tickers, start=start_date, end=end_date, interval=interval, auto_adjust=False)\n",
    "    # tidying the data to make it better for analysis and transformation later\n",
    "    df.columns = df.columns.swaplevel(0, 1)\n",
    "    df = df.sort_index(axis=1, level=0)\n",
    "    df_flat = df.stack(level=0, future_stack=True).reset_index()  \n",
    "    df_flat.rename(columns={'level_0': 'Date'}, inplace=True)\n",
    "    # renaming 'Adj Close' to 'Adj_Close' for consistency\n",
    "    if 'Adj Close' in df_flat.columns:\n",
    "        df_flat.rename(columns={'Adj Close': 'Adj_Close'}, inplace=True)\n",
    "    # adding the previous day's close price per ticker\n",
    "    df_flat['Previous_Close'] = df_flat.groupby('Ticker')['Close'].shift(1)\n",
    "    # selecting the columns we expect and need\n",
    "    expected_cols = ['Date', 'Ticker', 'Open', 'High', 'Low', 'Close', 'Adj_Close', 'Previous_Close', 'Volume']\n",
    "    existing_cols = [col for col in expected_cols if col in df_flat.columns]\n",
    "    return df_flat[existing_cols]\n"
   ]
  },
  {
   "cell_type": "code",
   "execution_count": 115,
   "metadata": {},
   "outputs": [
    {
     "name": "stderr",
     "output_type": "stream",
     "text": [
      "[*********************100%***********************]  7 of 7 completed\n"
     ]
    },
    {
     "data": {
      "text/html": [
       "<div>\n",
       "<style scoped>\n",
       "    .dataframe tbody tr th:only-of-type {\n",
       "        vertical-align: middle;\n",
       "    }\n",
       "\n",
       "    .dataframe tbody tr th {\n",
       "        vertical-align: top;\n",
       "    }\n",
       "\n",
       "    .dataframe thead th {\n",
       "        text-align: right;\n",
       "    }\n",
       "</style>\n",
       "<table border=\"1\" class=\"dataframe\">\n",
       "  <thead>\n",
       "    <tr style=\"text-align: right;\">\n",
       "      <th>Price</th>\n",
       "      <th>Date</th>\n",
       "      <th>Ticker</th>\n",
       "      <th>Open</th>\n",
       "      <th>High</th>\n",
       "      <th>Low</th>\n",
       "      <th>Close</th>\n",
       "      <th>Adj_Close</th>\n",
       "      <th>Previous_Close</th>\n",
       "      <th>Volume</th>\n",
       "    </tr>\n",
       "  </thead>\n",
       "  <tbody>\n",
       "    <tr>\n",
       "      <th>0</th>\n",
       "      <td>2020-01-02</td>\n",
       "      <td>AAPL</td>\n",
       "      <td>74.059998</td>\n",
       "      <td>75.150002</td>\n",
       "      <td>73.797501</td>\n",
       "      <td>75.087502</td>\n",
       "      <td>72.716080</td>\n",
       "      <td>NaN</td>\n",
       "      <td>135480400</td>\n",
       "    </tr>\n",
       "    <tr>\n",
       "      <th>1</th>\n",
       "      <td>2020-01-02</td>\n",
       "      <td>AMZN</td>\n",
       "      <td>93.750000</td>\n",
       "      <td>94.900497</td>\n",
       "      <td>93.207497</td>\n",
       "      <td>94.900497</td>\n",
       "      <td>94.900497</td>\n",
       "      <td>NaN</td>\n",
       "      <td>80580000</td>\n",
       "    </tr>\n",
       "    <tr>\n",
       "      <th>2</th>\n",
       "      <td>2020-01-02</td>\n",
       "      <td>GOOGL</td>\n",
       "      <td>67.420502</td>\n",
       "      <td>68.433998</td>\n",
       "      <td>67.324501</td>\n",
       "      <td>68.433998</td>\n",
       "      <td>68.108383</td>\n",
       "      <td>NaN</td>\n",
       "      <td>27278000</td>\n",
       "    </tr>\n",
       "    <tr>\n",
       "      <th>3</th>\n",
       "      <td>2020-01-02</td>\n",
       "      <td>META</td>\n",
       "      <td>206.750000</td>\n",
       "      <td>209.789993</td>\n",
       "      <td>206.270004</td>\n",
       "      <td>209.779999</td>\n",
       "      <td>208.795929</td>\n",
       "      <td>NaN</td>\n",
       "      <td>12077100</td>\n",
       "    </tr>\n",
       "    <tr>\n",
       "      <th>4</th>\n",
       "      <td>2020-01-02</td>\n",
       "      <td>MSFT</td>\n",
       "      <td>158.779999</td>\n",
       "      <td>160.729996</td>\n",
       "      <td>158.330002</td>\n",
       "      <td>160.619995</td>\n",
       "      <td>153.323257</td>\n",
       "      <td>NaN</td>\n",
       "      <td>22622100</td>\n",
       "    </tr>\n",
       "    <tr>\n",
       "      <th>...</th>\n",
       "      <td>...</td>\n",
       "      <td>...</td>\n",
       "      <td>...</td>\n",
       "      <td>...</td>\n",
       "      <td>...</td>\n",
       "      <td>...</td>\n",
       "      <td>...</td>\n",
       "      <td>...</td>\n",
       "      <td>...</td>\n",
       "    </tr>\n",
       "    <tr>\n",
       "      <th>9249</th>\n",
       "      <td>2025-04-04</td>\n",
       "      <td>GOOGL</td>\n",
       "      <td>148.009995</td>\n",
       "      <td>151.070007</td>\n",
       "      <td>145.380005</td>\n",
       "      <td>145.600006</td>\n",
       "      <td>145.600006</td>\n",
       "      <td>150.720001</td>\n",
       "      <td>62259500</td>\n",
       "    </tr>\n",
       "    <tr>\n",
       "      <th>9250</th>\n",
       "      <td>2025-04-04</td>\n",
       "      <td>META</td>\n",
       "      <td>506.619995</td>\n",
       "      <td>518.000000</td>\n",
       "      <td>494.200012</td>\n",
       "      <td>504.730011</td>\n",
       "      <td>504.730011</td>\n",
       "      <td>531.619995</td>\n",
       "      <td>38589800</td>\n",
       "    </tr>\n",
       "    <tr>\n",
       "      <th>9251</th>\n",
       "      <td>2025-04-04</td>\n",
       "      <td>MSFT</td>\n",
       "      <td>364.130005</td>\n",
       "      <td>374.589996</td>\n",
       "      <td>359.480011</td>\n",
       "      <td>359.839996</td>\n",
       "      <td>359.839996</td>\n",
       "      <td>373.109985</td>\n",
       "      <td>49209900</td>\n",
       "    </tr>\n",
       "    <tr>\n",
       "      <th>9252</th>\n",
       "      <td>2025-04-04</td>\n",
       "      <td>NVDA</td>\n",
       "      <td>98.910004</td>\n",
       "      <td>100.129997</td>\n",
       "      <td>92.110001</td>\n",
       "      <td>94.309998</td>\n",
       "      <td>94.309998</td>\n",
       "      <td>101.800003</td>\n",
       "      <td>532273800</td>\n",
       "    </tr>\n",
       "    <tr>\n",
       "      <th>9253</th>\n",
       "      <td>2025-04-04</td>\n",
       "      <td>TSLA</td>\n",
       "      <td>255.380005</td>\n",
       "      <td>261.000000</td>\n",
       "      <td>236.000000</td>\n",
       "      <td>239.429993</td>\n",
       "      <td>239.429993</td>\n",
       "      <td>267.279999</td>\n",
       "      <td>181229400</td>\n",
       "    </tr>\n",
       "  </tbody>\n",
       "</table>\n",
       "<p>9254 rows × 9 columns</p>\n",
       "</div>"
      ],
      "text/plain": [
       "Price       Date Ticker        Open        High         Low       Close  \\\n",
       "0     2020-01-02   AAPL   74.059998   75.150002   73.797501   75.087502   \n",
       "1     2020-01-02   AMZN   93.750000   94.900497   93.207497   94.900497   \n",
       "2     2020-01-02  GOOGL   67.420502   68.433998   67.324501   68.433998   \n",
       "3     2020-01-02   META  206.750000  209.789993  206.270004  209.779999   \n",
       "4     2020-01-02   MSFT  158.779999  160.729996  158.330002  160.619995   \n",
       "...          ...    ...         ...         ...         ...         ...   \n",
       "9249  2025-04-04  GOOGL  148.009995  151.070007  145.380005  145.600006   \n",
       "9250  2025-04-04   META  506.619995  518.000000  494.200012  504.730011   \n",
       "9251  2025-04-04   MSFT  364.130005  374.589996  359.480011  359.839996   \n",
       "9252  2025-04-04   NVDA   98.910004  100.129997   92.110001   94.309998   \n",
       "9253  2025-04-04   TSLA  255.380005  261.000000  236.000000  239.429993   \n",
       "\n",
       "Price   Adj_Close  Previous_Close     Volume  \n",
       "0       72.716080             NaN  135480400  \n",
       "1       94.900497             NaN   80580000  \n",
       "2       68.108383             NaN   27278000  \n",
       "3      208.795929             NaN   12077100  \n",
       "4      153.323257             NaN   22622100  \n",
       "...           ...             ...        ...  \n",
       "9249   145.600006      150.720001   62259500  \n",
       "9250   504.730011      531.619995   38589800  \n",
       "9251   359.839996      373.109985   49209900  \n",
       "9252    94.309998      101.800003  532273800  \n",
       "9253   239.429993      267.279999  181229400  \n",
       "\n",
       "[9254 rows x 9 columns]"
      ]
     },
     "metadata": {},
     "output_type": "display_data"
    }
   ],
   "source": [
    "#giving yfinance a list of companies to return a list of data of. AND displaying the df\n",
    "tickers = [\"AAPL\", \"MSFT\", \"GOOGL\", \"AMZN\", \"META\", \"NVDA\", \"TSLA\"]\n",
    "df_raw = extract_data(tickers)\n",
    "display(df_raw)"
   ]
  },
  {
   "cell_type": "markdown",
   "metadata": {},
   "source": [
    "## Historical Data: Data Cleaning: \n",
    "### We will clean the data by taking care of any null values. We can use back and forward filling if there is a value missing from a float/int value. Otherwise we will drop the value if its in the date or Ticker/ or use the average of the past few days for the column. Additionally if there are are any duplicate records for a company and a speciifc date, one should be kept while rest dropped."
   ]
  },
  {
   "cell_type": "code",
   "execution_count": 116,
   "metadata": {},
   "outputs": [
    {
     "name": "stdout",
     "output_type": "stream",
     "text": [
      "Price\n",
      "Date              0\n",
      "Ticker            0\n",
      "Open              0\n",
      "High              0\n",
      "Low               0\n",
      "Close             0\n",
      "Adj_Close         0\n",
      "Previous_Close    7\n",
      "Volume            0\n",
      "dtype: int64\n",
      "Null values after cleaning:\n",
      "Price\n",
      "Date              0\n",
      "Ticker            0\n",
      "Open              0\n",
      "High              0\n",
      "Low               0\n",
      "Close             0\n",
      "Adj_Close         0\n",
      "Previous_Close    0\n",
      "Volume            0\n",
      "dtype: int64\n"
     ]
    },
    {
     "data": {
      "text/html": [
       "<div>\n",
       "<style scoped>\n",
       "    .dataframe tbody tr th:only-of-type {\n",
       "        vertical-align: middle;\n",
       "    }\n",
       "\n",
       "    .dataframe tbody tr th {\n",
       "        vertical-align: top;\n",
       "    }\n",
       "\n",
       "    .dataframe thead th {\n",
       "        text-align: right;\n",
       "    }\n",
       "</style>\n",
       "<table border=\"1\" class=\"dataframe\">\n",
       "  <thead>\n",
       "    <tr style=\"text-align: right;\">\n",
       "      <th>Price</th>\n",
       "      <th>Date</th>\n",
       "      <th>Ticker</th>\n",
       "      <th>Open</th>\n",
       "      <th>High</th>\n",
       "      <th>Low</th>\n",
       "      <th>Close</th>\n",
       "      <th>Adj_Close</th>\n",
       "      <th>Previous_Close</th>\n",
       "      <th>Volume</th>\n",
       "    </tr>\n",
       "  </thead>\n",
       "  <tbody>\n",
       "    <tr>\n",
       "      <th>0</th>\n",
       "      <td>2020-01-02</td>\n",
       "      <td>AAPL</td>\n",
       "      <td>74.059998</td>\n",
       "      <td>75.150002</td>\n",
       "      <td>73.797501</td>\n",
       "      <td>75.087502</td>\n",
       "      <td>72.716080</td>\n",
       "      <td>75.087502</td>\n",
       "      <td>135480400</td>\n",
       "    </tr>\n",
       "    <tr>\n",
       "      <th>1</th>\n",
       "      <td>2020-01-02</td>\n",
       "      <td>AMZN</td>\n",
       "      <td>93.750000</td>\n",
       "      <td>94.900497</td>\n",
       "      <td>93.207497</td>\n",
       "      <td>94.900497</td>\n",
       "      <td>94.900497</td>\n",
       "      <td>94.900497</td>\n",
       "      <td>80580000</td>\n",
       "    </tr>\n",
       "    <tr>\n",
       "      <th>2</th>\n",
       "      <td>2020-01-02</td>\n",
       "      <td>GOOGL</td>\n",
       "      <td>67.420502</td>\n",
       "      <td>68.433998</td>\n",
       "      <td>67.324501</td>\n",
       "      <td>68.433998</td>\n",
       "      <td>68.108383</td>\n",
       "      <td>68.433998</td>\n",
       "      <td>27278000</td>\n",
       "    </tr>\n",
       "    <tr>\n",
       "      <th>3</th>\n",
       "      <td>2020-01-02</td>\n",
       "      <td>META</td>\n",
       "      <td>206.750000</td>\n",
       "      <td>209.789993</td>\n",
       "      <td>206.270004</td>\n",
       "      <td>209.779999</td>\n",
       "      <td>208.795929</td>\n",
       "      <td>209.779999</td>\n",
       "      <td>12077100</td>\n",
       "    </tr>\n",
       "    <tr>\n",
       "      <th>4</th>\n",
       "      <td>2020-01-02</td>\n",
       "      <td>MSFT</td>\n",
       "      <td>158.779999</td>\n",
       "      <td>160.729996</td>\n",
       "      <td>158.330002</td>\n",
       "      <td>160.619995</td>\n",
       "      <td>153.323257</td>\n",
       "      <td>160.619995</td>\n",
       "      <td>22622100</td>\n",
       "    </tr>\n",
       "    <tr>\n",
       "      <th>...</th>\n",
       "      <td>...</td>\n",
       "      <td>...</td>\n",
       "      <td>...</td>\n",
       "      <td>...</td>\n",
       "      <td>...</td>\n",
       "      <td>...</td>\n",
       "      <td>...</td>\n",
       "      <td>...</td>\n",
       "      <td>...</td>\n",
       "    </tr>\n",
       "    <tr>\n",
       "      <th>9249</th>\n",
       "      <td>2025-04-04</td>\n",
       "      <td>GOOGL</td>\n",
       "      <td>148.009995</td>\n",
       "      <td>151.070007</td>\n",
       "      <td>145.380005</td>\n",
       "      <td>145.600006</td>\n",
       "      <td>145.600006</td>\n",
       "      <td>150.720001</td>\n",
       "      <td>62259500</td>\n",
       "    </tr>\n",
       "    <tr>\n",
       "      <th>9250</th>\n",
       "      <td>2025-04-04</td>\n",
       "      <td>META</td>\n",
       "      <td>506.619995</td>\n",
       "      <td>518.000000</td>\n",
       "      <td>494.200012</td>\n",
       "      <td>504.730011</td>\n",
       "      <td>504.730011</td>\n",
       "      <td>531.619995</td>\n",
       "      <td>38589800</td>\n",
       "    </tr>\n",
       "    <tr>\n",
       "      <th>9251</th>\n",
       "      <td>2025-04-04</td>\n",
       "      <td>MSFT</td>\n",
       "      <td>364.130005</td>\n",
       "      <td>374.589996</td>\n",
       "      <td>359.480011</td>\n",
       "      <td>359.839996</td>\n",
       "      <td>359.839996</td>\n",
       "      <td>373.109985</td>\n",
       "      <td>49209900</td>\n",
       "    </tr>\n",
       "    <tr>\n",
       "      <th>9252</th>\n",
       "      <td>2025-04-04</td>\n",
       "      <td>NVDA</td>\n",
       "      <td>98.910004</td>\n",
       "      <td>100.129997</td>\n",
       "      <td>92.110001</td>\n",
       "      <td>94.309998</td>\n",
       "      <td>94.309998</td>\n",
       "      <td>101.800003</td>\n",
       "      <td>532273800</td>\n",
       "    </tr>\n",
       "    <tr>\n",
       "      <th>9253</th>\n",
       "      <td>2025-04-04</td>\n",
       "      <td>TSLA</td>\n",
       "      <td>255.380005</td>\n",
       "      <td>261.000000</td>\n",
       "      <td>236.000000</td>\n",
       "      <td>239.429993</td>\n",
       "      <td>239.429993</td>\n",
       "      <td>267.279999</td>\n",
       "      <td>181229400</td>\n",
       "    </tr>\n",
       "  </tbody>\n",
       "</table>\n",
       "<p>9254 rows × 9 columns</p>\n",
       "</div>"
      ],
      "text/plain": [
       "Price       Date Ticker        Open        High         Low       Close  \\\n",
       "0     2020-01-02   AAPL   74.059998   75.150002   73.797501   75.087502   \n",
       "1     2020-01-02   AMZN   93.750000   94.900497   93.207497   94.900497   \n",
       "2     2020-01-02  GOOGL   67.420502   68.433998   67.324501   68.433998   \n",
       "3     2020-01-02   META  206.750000  209.789993  206.270004  209.779999   \n",
       "4     2020-01-02   MSFT  158.779999  160.729996  158.330002  160.619995   \n",
       "...          ...    ...         ...         ...         ...         ...   \n",
       "9249  2025-04-04  GOOGL  148.009995  151.070007  145.380005  145.600006   \n",
       "9250  2025-04-04   META  506.619995  518.000000  494.200012  504.730011   \n",
       "9251  2025-04-04   MSFT  364.130005  374.589996  359.480011  359.839996   \n",
       "9252  2025-04-04   NVDA   98.910004  100.129997   92.110001   94.309998   \n",
       "9253  2025-04-04   TSLA  255.380005  261.000000  236.000000  239.429993   \n",
       "\n",
       "Price   Adj_Close  Previous_Close     Volume  \n",
       "0       72.716080       75.087502  135480400  \n",
       "1       94.900497       94.900497   80580000  \n",
       "2       68.108383       68.433998   27278000  \n",
       "3      208.795929      209.779999   12077100  \n",
       "4      153.323257      160.619995   22622100  \n",
       "...           ...             ...        ...  \n",
       "9249   145.600006      150.720001   62259500  \n",
       "9250   504.730011      531.619995   38589800  \n",
       "9251   359.839996      373.109985   49209900  \n",
       "9252    94.309998      101.800003  532273800  \n",
       "9253   239.429993      267.279999  181229400  \n",
       "\n",
       "[9254 rows x 9 columns]"
      ]
     },
     "metadata": {},
     "output_type": "display_data"
    }
   ],
   "source": [
    "nans = df_raw.isna().sum()\n",
    "print(nans)\n",
    "def cleaning(df):\n",
    "    # Step 1: Drop duplicates (keep the first entry for each Ticker-Date pair)\n",
    "    df = df.drop_duplicates(subset=['Date', 'Ticker'], keep='first')\n",
    "\n",
    "    # Step 2: Define numeric columns to clean (excluding 'Date' and 'Ticker')\n",
    "    numeric_cols = ['Open', 'High', 'Low', 'Close', 'Adj_Close', 'Volume', 'Previous_Close']\n",
    "    \n",
    "    # Step 3: Fill missing values for numeric columns\n",
    "    for col in numeric_cols:\n",
    "        # Forward fill and backward fill first\n",
    "        df[col] = df.groupby('Ticker')[col].transform(lambda x: x.ffill().bfill())\n",
    "        \n",
    "        # Fill remaining NaNs with rolling mean (3-day window)\n",
    "        df[col] = df.groupby('Ticker')[col].transform(\n",
    "            lambda x: x.fillna(x.rolling(window=3, min_periods=1).mean())\n",
    "        )\n",
    "\n",
    "    # Step 4: Ensure 'Previous_Close' is properly filled (first entry has no previous data)\n",
    "    df['Previous_Close'] = df.groupby('Ticker')['Previous_Close'].ffill()\n",
    "\n",
    "    # Step 5: Drop rows with nulls in 'Date' or 'Ticker' (shouldn't exist, but safety check)\n",
    "    df = df.dropna(subset=['Date', 'Ticker'])\n",
    "\n",
    "    return df\n",
    "# Apply cleaning\n",
    "df_cleaned = cleaning(df_raw)\n",
    "\n",
    "# Verify results\n",
    "print(\"Null values after cleaning:\")\n",
    "print(df_cleaned.isna().sum())\n",
    "display(df_cleaned)"
   ]
  },
  {
   "cell_type": "markdown",
   "metadata": {},
   "source": [
    "## Historical Data, Feature Engineering:\n",
    "\n",
    "### We are going to be transforming the tidy dataframe by doing some feature engineering. We will create the following fields into our table by manipulating the prexisting data from df_cleaned: \n",
    "1. Simple Moving Average (SMA)\n",
    "2. Exponential Moving Average (EMA)\n",
    "3. Relative Strength Index (RSI)\n",
    "4. Bollinger Bands\n",
    "5. MACD (Moving Average Convergence Divergence)\n",
    "6. On-Balance Volume (OBV)\n",
    "7. Volatility (ATR - Average True Range)\n"
   ]
  },
  {
   "cell_type": "code",
   "execution_count": 117,
   "metadata": {},
   "outputs": [
    {
     "data": {
      "text/html": [
       "<div>\n",
       "<style scoped>\n",
       "    .dataframe tbody tr th:only-of-type {\n",
       "        vertical-align: middle;\n",
       "    }\n",
       "\n",
       "    .dataframe tbody tr th {\n",
       "        vertical-align: top;\n",
       "    }\n",
       "\n",
       "    .dataframe thead th {\n",
       "        text-align: right;\n",
       "    }\n",
       "</style>\n",
       "<table border=\"1\" class=\"dataframe\">\n",
       "  <thead>\n",
       "    <tr style=\"text-align: right;\">\n",
       "      <th>Price</th>\n",
       "      <th>Date</th>\n",
       "      <th>Ticker</th>\n",
       "      <th>SMA_20</th>\n",
       "      <th>EMA_20</th>\n",
       "      <th>RSI_14</th>\n",
       "      <th>BB_Upper</th>\n",
       "      <th>BB_Lower</th>\n",
       "      <th>MACD</th>\n",
       "    </tr>\n",
       "  </thead>\n",
       "  <tbody>\n",
       "    <tr>\n",
       "      <th>0</th>\n",
       "      <td>2020-01-02</td>\n",
       "      <td>AAPL</td>\n",
       "      <td>NaN</td>\n",
       "      <td>75.087502</td>\n",
       "      <td>NaN</td>\n",
       "      <td>NaN</td>\n",
       "      <td>NaN</td>\n",
       "      <td>0.000000</td>\n",
       "    </tr>\n",
       "    <tr>\n",
       "      <th>1</th>\n",
       "      <td>2020-01-03</td>\n",
       "      <td>AAPL</td>\n",
       "      <td>NaN</td>\n",
       "      <td>75.017977</td>\n",
       "      <td>NaN</td>\n",
       "      <td>NaN</td>\n",
       "      <td>NaN</td>\n",
       "      <td>-0.058234</td>\n",
       "    </tr>\n",
       "    <tr>\n",
       "      <th>2</th>\n",
       "      <td>2020-01-06</td>\n",
       "      <td>AAPL</td>\n",
       "      <td>NaN</td>\n",
       "      <td>75.011503</td>\n",
       "      <td>NaN</td>\n",
       "      <td>NaN</td>\n",
       "      <td>NaN</td>\n",
       "      <td>-0.055930</td>\n",
       "    </tr>\n",
       "    <tr>\n",
       "      <th>3</th>\n",
       "      <td>2020-01-07</td>\n",
       "      <td>AAPL</td>\n",
       "      <td>NaN</td>\n",
       "      <td>74.972075</td>\n",
       "      <td>NaN</td>\n",
       "      <td>NaN</td>\n",
       "      <td>NaN</td>\n",
       "      <td>-0.081607</td>\n",
       "    </tr>\n",
       "    <tr>\n",
       "      <th>4</th>\n",
       "      <td>2020-01-08</td>\n",
       "      <td>AAPL</td>\n",
       "      <td>NaN</td>\n",
       "      <td>75.050687</td>\n",
       "      <td>NaN</td>\n",
       "      <td>NaN</td>\n",
       "      <td>NaN</td>\n",
       "      <td>-0.005068</td>\n",
       "    </tr>\n",
       "    <tr>\n",
       "      <th>5</th>\n",
       "      <td>2020-01-09</td>\n",
       "      <td>AAPL</td>\n",
       "      <td>NaN</td>\n",
       "      <td>75.275145</td>\n",
       "      <td>NaN</td>\n",
       "      <td>NaN</td>\n",
       "      <td>NaN</td>\n",
       "      <td>0.183389</td>\n",
       "    </tr>\n",
       "    <tr>\n",
       "      <th>6</th>\n",
       "      <td>2020-01-10</td>\n",
       "      <td>AAPL</td>\n",
       "      <td>NaN</td>\n",
       "      <td>75.494893</td>\n",
       "      <td>NaN</td>\n",
       "      <td>NaN</td>\n",
       "      <td>NaN</td>\n",
       "      <td>0.342911</td>\n",
       "    </tr>\n",
       "    <tr>\n",
       "      <th>7</th>\n",
       "      <td>2020-01-13</td>\n",
       "      <td>AAPL</td>\n",
       "      <td>NaN</td>\n",
       "      <td>75.851570</td>\n",
       "      <td>NaN</td>\n",
       "      <td>NaN</td>\n",
       "      <td>NaN</td>\n",
       "      <td>0.596207</td>\n",
       "    </tr>\n",
       "    <tr>\n",
       "      <th>8</th>\n",
       "      <td>2020-01-14</td>\n",
       "      <td>AAPL</td>\n",
       "      <td>NaN</td>\n",
       "      <td>76.072372</td>\n",
       "      <td>NaN</td>\n",
       "      <td>NaN</td>\n",
       "      <td>NaN</td>\n",
       "      <td>0.702507</td>\n",
       "    </tr>\n",
       "    <tr>\n",
       "      <th>9</th>\n",
       "      <td>2020-01-15</td>\n",
       "      <td>AAPL</td>\n",
       "      <td>NaN</td>\n",
       "      <td>76.240241</td>\n",
       "      <td>NaN</td>\n",
       "      <td>NaN</td>\n",
       "      <td>NaN</td>\n",
       "      <td>0.751062</td>\n",
       "    </tr>\n",
       "    <tr>\n",
       "      <th>10</th>\n",
       "      <td>2020-01-16</td>\n",
       "      <td>AAPL</td>\n",
       "      <td>NaN</td>\n",
       "      <td>76.484980</td>\n",
       "      <td>NaN</td>\n",
       "      <td>NaN</td>\n",
       "      <td>NaN</td>\n",
       "      <td>0.858322</td>\n",
       "    </tr>\n",
       "    <tr>\n",
       "      <th>11</th>\n",
       "      <td>2020-01-17</td>\n",
       "      <td>AAPL</td>\n",
       "      <td>NaN</td>\n",
       "      <td>76.789506</td>\n",
       "      <td>NaN</td>\n",
       "      <td>NaN</td>\n",
       "      <td>NaN</td>\n",
       "      <td>1.002178</td>\n",
       "    </tr>\n",
       "    <tr>\n",
       "      <th>12</th>\n",
       "      <td>2020-01-21</td>\n",
       "      <td>AAPL</td>\n",
       "      <td>NaN</td>\n",
       "      <td>77.013601</td>\n",
       "      <td>NaN</td>\n",
       "      <td>NaN</td>\n",
       "      <td>NaN</td>\n",
       "      <td>1.060387</td>\n",
       "    </tr>\n",
       "    <tr>\n",
       "      <th>13</th>\n",
       "      <td>2020-01-22</td>\n",
       "      <td>AAPL</td>\n",
       "      <td>NaN</td>\n",
       "      <td>77.243258</td>\n",
       "      <td>70.868434</td>\n",
       "      <td>NaN</td>\n",
       "      <td>NaN</td>\n",
       "      <td>1.116444</td>\n",
       "    </tr>\n",
       "    <tr>\n",
       "      <th>14</th>\n",
       "      <td>2020-01-23</td>\n",
       "      <td>AAPL</td>\n",
       "      <td>NaN</td>\n",
       "      <td>77.487472</td>\n",
       "      <td>71.902570</td>\n",
       "      <td>NaN</td>\n",
       "      <td>NaN</td>\n",
       "      <td>1.178154</td>\n",
       "    </tr>\n",
       "    <tr>\n",
       "      <th>15</th>\n",
       "      <td>2020-01-24</td>\n",
       "      <td>AAPL</td>\n",
       "      <td>NaN</td>\n",
       "      <td>77.686522</td>\n",
       "      <td>75.401481</td>\n",
       "      <td>NaN</td>\n",
       "      <td>NaN</td>\n",
       "      <td>1.194728</td>\n",
       "    </tr>\n",
       "    <tr>\n",
       "      <th>16</th>\n",
       "      <td>2020-01-27</td>\n",
       "      <td>AAPL</td>\n",
       "      <td>NaN</td>\n",
       "      <td>77.643759</td>\n",
       "      <td>59.513444</td>\n",
       "      <td>NaN</td>\n",
       "      <td>NaN</td>\n",
       "      <td>1.007431</td>\n",
       "    </tr>\n",
       "    <tr>\n",
       "      <th>17</th>\n",
       "      <td>2020-01-28</td>\n",
       "      <td>AAPL</td>\n",
       "      <td>NaN</td>\n",
       "      <td>77.813163</td>\n",
       "      <td>67.412481</td>\n",
       "      <td>NaN</td>\n",
       "      <td>NaN</td>\n",
       "      <td>1.023510</td>\n",
       "    </tr>\n",
       "    <tr>\n",
       "      <th>18</th>\n",
       "      <td>2020-01-29</td>\n",
       "      <td>AAPL</td>\n",
       "      <td>NaN</td>\n",
       "      <td>78.124766</td>\n",
       "      <td>68.465163</td>\n",
       "      <td>NaN</td>\n",
       "      <td>NaN</td>\n",
       "      <td>1.157064</td>\n",
       "    </tr>\n",
       "    <tr>\n",
       "      <th>19</th>\n",
       "      <td>2020-01-30</td>\n",
       "      <td>AAPL</td>\n",
       "      <td>78.009125</td>\n",
       "      <td>78.395502</td>\n",
       "      <td>63.879136</td>\n",
       "      <td>82.191922</td>\n",
       "      <td>73.826328</td>\n",
       "      <td>1.239142</td>\n",
       "    </tr>\n",
       "  </tbody>\n",
       "</table>\n",
       "</div>"
      ],
      "text/plain": [
       "Price       Date Ticker     SMA_20     EMA_20     RSI_14   BB_Upper  \\\n",
       "0     2020-01-02   AAPL        NaN  75.087502        NaN        NaN   \n",
       "1     2020-01-03   AAPL        NaN  75.017977        NaN        NaN   \n",
       "2     2020-01-06   AAPL        NaN  75.011503        NaN        NaN   \n",
       "3     2020-01-07   AAPL        NaN  74.972075        NaN        NaN   \n",
       "4     2020-01-08   AAPL        NaN  75.050687        NaN        NaN   \n",
       "5     2020-01-09   AAPL        NaN  75.275145        NaN        NaN   \n",
       "6     2020-01-10   AAPL        NaN  75.494893        NaN        NaN   \n",
       "7     2020-01-13   AAPL        NaN  75.851570        NaN        NaN   \n",
       "8     2020-01-14   AAPL        NaN  76.072372        NaN        NaN   \n",
       "9     2020-01-15   AAPL        NaN  76.240241        NaN        NaN   \n",
       "10    2020-01-16   AAPL        NaN  76.484980        NaN        NaN   \n",
       "11    2020-01-17   AAPL        NaN  76.789506        NaN        NaN   \n",
       "12    2020-01-21   AAPL        NaN  77.013601        NaN        NaN   \n",
       "13    2020-01-22   AAPL        NaN  77.243258  70.868434        NaN   \n",
       "14    2020-01-23   AAPL        NaN  77.487472  71.902570        NaN   \n",
       "15    2020-01-24   AAPL        NaN  77.686522  75.401481        NaN   \n",
       "16    2020-01-27   AAPL        NaN  77.643759  59.513444        NaN   \n",
       "17    2020-01-28   AAPL        NaN  77.813163  67.412481        NaN   \n",
       "18    2020-01-29   AAPL        NaN  78.124766  68.465163        NaN   \n",
       "19    2020-01-30   AAPL  78.009125  78.395502  63.879136  82.191922   \n",
       "\n",
       "Price   BB_Lower      MACD  \n",
       "0            NaN  0.000000  \n",
       "1            NaN -0.058234  \n",
       "2            NaN -0.055930  \n",
       "3            NaN -0.081607  \n",
       "4            NaN -0.005068  \n",
       "5            NaN  0.183389  \n",
       "6            NaN  0.342911  \n",
       "7            NaN  0.596207  \n",
       "8            NaN  0.702507  \n",
       "9            NaN  0.751062  \n",
       "10           NaN  0.858322  \n",
       "11           NaN  1.002178  \n",
       "12           NaN  1.060387  \n",
       "13           NaN  1.116444  \n",
       "14           NaN  1.178154  \n",
       "15           NaN  1.194728  \n",
       "16           NaN  1.007431  \n",
       "17           NaN  1.023510  \n",
       "18           NaN  1.157064  \n",
       "19     73.826328  1.239142  "
      ]
     },
     "metadata": {},
     "output_type": "display_data"
    },
    {
     "data": {
      "text/html": [
       "<div>\n",
       "<style scoped>\n",
       "    .dataframe tbody tr th:only-of-type {\n",
       "        vertical-align: middle;\n",
       "    }\n",
       "\n",
       "    .dataframe tbody tr th {\n",
       "        vertical-align: top;\n",
       "    }\n",
       "\n",
       "    .dataframe thead th {\n",
       "        text-align: right;\n",
       "    }\n",
       "</style>\n",
       "<table border=\"1\" class=\"dataframe\">\n",
       "  <thead>\n",
       "    <tr style=\"text-align: right;\">\n",
       "      <th>Price</th>\n",
       "      <th>Date</th>\n",
       "      <th>Ticker</th>\n",
       "      <th>Open</th>\n",
       "      <th>High</th>\n",
       "      <th>Low</th>\n",
       "      <th>Close</th>\n",
       "      <th>Adj_Close</th>\n",
       "      <th>Previous_Close</th>\n",
       "      <th>Volume</th>\n",
       "      <th>SMA_20</th>\n",
       "      <th>EMA_20</th>\n",
       "      <th>RSI_14</th>\n",
       "      <th>BB_Middle</th>\n",
       "      <th>BB_Std</th>\n",
       "      <th>BB_Upper</th>\n",
       "      <th>BB_Lower</th>\n",
       "      <th>MACD</th>\n",
       "      <th>MACD_Signal</th>\n",
       "    </tr>\n",
       "  </thead>\n",
       "  <tbody>\n",
       "    <tr>\n",
       "      <th>5308</th>\n",
       "      <td>2020-01-31</td>\n",
       "      <td>MSFT</td>\n",
       "      <td>172.210007</td>\n",
       "      <td>172.399994</td>\n",
       "      <td>169.580002</td>\n",
       "      <td>170.229996</td>\n",
       "      <td>162.496719</td>\n",
       "      <td>172.779999</td>\n",
       "      <td>36142700</td>\n",
       "      <td>164.167999</td>\n",
       "      <td>165.244291</td>\n",
       "      <td>65.892017</td>\n",
       "      <td>164.167999</td>\n",
       "      <td>3.935323</td>\n",
       "      <td>172.038644</td>\n",
       "      <td>156.297353</td>\n",
       "      <td>2.175122</td>\n",
       "      <td>1.508417</td>\n",
       "    </tr>\n",
       "    <tr>\n",
       "      <th>5309</th>\n",
       "      <td>2020-02-03</td>\n",
       "      <td>MSFT</td>\n",
       "      <td>170.429993</td>\n",
       "      <td>174.500000</td>\n",
       "      <td>170.399994</td>\n",
       "      <td>174.380005</td>\n",
       "      <td>166.458176</td>\n",
       "      <td>170.229996</td>\n",
       "      <td>30107000</td>\n",
       "      <td>164.955999</td>\n",
       "      <td>166.114359</td>\n",
       "      <td>68.389658</td>\n",
       "      <td>164.955999</td>\n",
       "      <td>4.324559</td>\n",
       "      <td>173.605117</td>\n",
       "      <td>156.306881</td>\n",
       "      <td>2.627071</td>\n",
       "      <td>1.732148</td>\n",
       "    </tr>\n",
       "    <tr>\n",
       "      <th>5310</th>\n",
       "      <td>2020-02-04</td>\n",
       "      <td>MSFT</td>\n",
       "      <td>177.139999</td>\n",
       "      <td>180.639999</td>\n",
       "      <td>176.309998</td>\n",
       "      <td>180.119995</td>\n",
       "      <td>171.937393</td>\n",
       "      <td>174.380005</td>\n",
       "      <td>36433300</td>\n",
       "      <td>166.010499</td>\n",
       "      <td>167.448229</td>\n",
       "      <td>75.869974</td>\n",
       "      <td>166.010499</td>\n",
       "      <td>5.271194</td>\n",
       "      <td>176.552887</td>\n",
       "      <td>155.468110</td>\n",
       "      <td>3.409114</td>\n",
       "      <td>2.067541</td>\n",
       "    </tr>\n",
       "    <tr>\n",
       "      <th>5311</th>\n",
       "      <td>2020-02-05</td>\n",
       "      <td>MSFT</td>\n",
       "      <td>184.029999</td>\n",
       "      <td>184.199997</td>\n",
       "      <td>178.410004</td>\n",
       "      <td>179.899994</td>\n",
       "      <td>171.727402</td>\n",
       "      <td>180.119995</td>\n",
       "      <td>39186300</td>\n",
       "      <td>167.126498</td>\n",
       "      <td>168.634112</td>\n",
       "      <td>74.631681</td>\n",
       "      <td>167.126498</td>\n",
       "      <td>5.734751</td>\n",
       "      <td>178.596000</td>\n",
       "      <td>155.656997</td>\n",
       "      <td>3.965426</td>\n",
       "      <td>2.447118</td>\n",
       "    </tr>\n",
       "    <tr>\n",
       "      <th>5312</th>\n",
       "      <td>2020-02-06</td>\n",
       "      <td>MSFT</td>\n",
       "      <td>180.970001</td>\n",
       "      <td>183.820007</td>\n",
       "      <td>180.059998</td>\n",
       "      <td>183.630005</td>\n",
       "      <td>175.287949</td>\n",
       "      <td>179.899994</td>\n",
       "      <td>27751400</td>\n",
       "      <td>168.303499</td>\n",
       "      <td>170.062292</td>\n",
       "      <td>75.172992</td>\n",
       "      <td>168.303499</td>\n",
       "      <td>6.569494</td>\n",
       "      <td>181.442486</td>\n",
       "      <td>155.164511</td>\n",
       "      <td>4.653644</td>\n",
       "      <td>2.888423</td>\n",
       "    </tr>\n",
       "  </tbody>\n",
       "</table>\n",
       "</div>"
      ],
      "text/plain": [
       "Price       Date Ticker        Open        High         Low       Close  \\\n",
       "5308  2020-01-31   MSFT  172.210007  172.399994  169.580002  170.229996   \n",
       "5309  2020-02-03   MSFT  170.429993  174.500000  170.399994  174.380005   \n",
       "5310  2020-02-04   MSFT  177.139999  180.639999  176.309998  180.119995   \n",
       "5311  2020-02-05   MSFT  184.029999  184.199997  178.410004  179.899994   \n",
       "5312  2020-02-06   MSFT  180.970001  183.820007  180.059998  183.630005   \n",
       "\n",
       "Price   Adj_Close  Previous_Close    Volume      SMA_20      EMA_20  \\\n",
       "5308   162.496719      172.779999  36142700  164.167999  165.244291   \n",
       "5309   166.458176      170.229996  30107000  164.955999  166.114359   \n",
       "5310   171.937393      174.380005  36433300  166.010499  167.448229   \n",
       "5311   171.727402      180.119995  39186300  167.126498  168.634112   \n",
       "5312   175.287949      179.899994  27751400  168.303499  170.062292   \n",
       "\n",
       "Price     RSI_14   BB_Middle    BB_Std    BB_Upper    BB_Lower      MACD  \\\n",
       "5308   65.892017  164.167999  3.935323  172.038644  156.297353  2.175122   \n",
       "5309   68.389658  164.955999  4.324559  173.605117  156.306881  2.627071   \n",
       "5310   75.869974  166.010499  5.271194  176.552887  155.468110  3.409114   \n",
       "5311   74.631681  167.126498  5.734751  178.596000  155.656997  3.965426   \n",
       "5312   75.172992  168.303499  6.569494  181.442486  155.164511  4.653644   \n",
       "\n",
       "Price  MACD_Signal  \n",
       "5308      1.508417  \n",
       "5309      1.732148  \n",
       "5310      2.067541  \n",
       "5311      2.447118  \n",
       "5312      2.888423  "
      ]
     },
     "metadata": {},
     "output_type": "display_data"
    },
    {
     "data": {
      "text/html": [
       "<div>\n",
       "<style scoped>\n",
       "    .dataframe tbody tr th:only-of-type {\n",
       "        vertical-align: middle;\n",
       "    }\n",
       "\n",
       "    .dataframe tbody tr th {\n",
       "        vertical-align: top;\n",
       "    }\n",
       "\n",
       "    .dataframe thead th {\n",
       "        text-align: right;\n",
       "    }\n",
       "</style>\n",
       "<table border=\"1\" class=\"dataframe\">\n",
       "  <thead>\n",
       "    <tr style=\"text-align: right;\">\n",
       "      <th>Price</th>\n",
       "      <th>Date</th>\n",
       "      <th>Ticker</th>\n",
       "      <th>Open</th>\n",
       "      <th>High</th>\n",
       "      <th>Low</th>\n",
       "      <th>Close</th>\n",
       "      <th>Adj_Close</th>\n",
       "      <th>Previous_Close</th>\n",
       "      <th>Volume</th>\n",
       "      <th>SMA_20</th>\n",
       "      <th>EMA_20</th>\n",
       "      <th>RSI_14</th>\n",
       "      <th>BB_Middle</th>\n",
       "      <th>BB_Std</th>\n",
       "      <th>BB_Upper</th>\n",
       "      <th>BB_Lower</th>\n",
       "      <th>MACD</th>\n",
       "      <th>MACD_Signal</th>\n",
       "    </tr>\n",
       "  </thead>\n",
       "  <tbody>\n",
       "    <tr>\n",
       "      <th>2711</th>\n",
       "      <td>2020-04-08</td>\n",
       "      <td>GOOGL</td>\n",
       "      <td>60.154999</td>\n",
       "      <td>60.744999</td>\n",
       "      <td>59.197498</td>\n",
       "      <td>60.349998</td>\n",
       "      <td>60.062840</td>\n",
       "      <td>59.127998</td>\n",
       "      <td>40334000</td>\n",
       "      <td>56.349325</td>\n",
       "      <td>58.411698</td>\n",
       "      <td>58.792168</td>\n",
       "      <td>56.349325</td>\n",
       "      <td>2.279558</td>\n",
       "      <td>60.908441</td>\n",
       "      <td>51.790209</td>\n",
       "      <td>-1.666663</td>\n",
       "      <td>-2.688886</td>\n",
       "    </tr>\n",
       "    <tr>\n",
       "      <th>5505</th>\n",
       "      <td>2020-11-10</td>\n",
       "      <td>MSFT</td>\n",
       "      <td>214.500000</td>\n",
       "      <td>216.500000</td>\n",
       "      <td>209.720001</td>\n",
       "      <td>211.009995</td>\n",
       "      <td>203.026382</td>\n",
       "      <td>218.389999</td>\n",
       "      <td>44045100</td>\n",
       "      <td>213.486499</td>\n",
       "      <td>213.171932</td>\n",
       "      <td>46.833744</td>\n",
       "      <td>213.486499</td>\n",
       "      <td>6.821269</td>\n",
       "      <td>227.129036</td>\n",
       "      <td>199.843962</td>\n",
       "      <td>0.965166</td>\n",
       "      <td>0.332748</td>\n",
       "    </tr>\n",
       "    <tr>\n",
       "      <th>6907</th>\n",
       "      <td>2021-03-09</td>\n",
       "      <td>NVDA</td>\n",
       "      <td>12.130250</td>\n",
       "      <td>12.616750</td>\n",
       "      <td>12.059250</td>\n",
       "      <td>12.520250</td>\n",
       "      <td>12.491715</td>\n",
       "      <td>11.593250</td>\n",
       "      <td>521824000</td>\n",
       "      <td>13.912400</td>\n",
       "      <td>13.372332</td>\n",
       "      <td>31.360601</td>\n",
       "      <td>13.912400</td>\n",
       "      <td>1.097665</td>\n",
       "      <td>16.107730</td>\n",
       "      <td>11.717071</td>\n",
       "      <td>-0.408808</td>\n",
       "      <td>-0.131576</td>\n",
       "    </tr>\n",
       "    <tr>\n",
       "      <th>8070</th>\n",
       "      <td>2020-07-21</td>\n",
       "      <td>TSLA</td>\n",
       "      <td>109.328667</td>\n",
       "      <td>111.666664</td>\n",
       "      <td>103.866669</td>\n",
       "      <td>104.557335</td>\n",
       "      <td>104.557335</td>\n",
       "      <td>109.533333</td>\n",
       "      <td>241608000</td>\n",
       "      <td>87.215867</td>\n",
       "      <td>90.481942</td>\n",
       "      <td>78.022512</td>\n",
       "      <td>87.215867</td>\n",
       "      <td>15.995025</td>\n",
       "      <td>119.205916</td>\n",
       "      <td>55.225817</td>\n",
       "      <td>10.936490</td>\n",
       "      <td>9.877749</td>\n",
       "    </tr>\n",
       "    <tr>\n",
       "      <th>5450</th>\n",
       "      <td>2020-08-24</td>\n",
       "      <td>MSFT</td>\n",
       "      <td>214.789993</td>\n",
       "      <td>215.520004</td>\n",
       "      <td>212.429993</td>\n",
       "      <td>213.690002</td>\n",
       "      <td>205.604996</td>\n",
       "      <td>213.020004</td>\n",
       "      <td>25460100</td>\n",
       "      <td>209.888499</td>\n",
       "      <td>210.035717</td>\n",
       "      <td>50.576050</td>\n",
       "      <td>209.888499</td>\n",
       "      <td>4.389474</td>\n",
       "      <td>218.667447</td>\n",
       "      <td>201.109552</td>\n",
       "      <td>2.057857</td>\n",
       "      <td>1.956643</td>\n",
       "    </tr>\n",
       "    <tr>\n",
       "      <th>8036</th>\n",
       "      <td>2020-06-02</td>\n",
       "      <td>TSLA</td>\n",
       "      <td>59.646667</td>\n",
       "      <td>60.577332</td>\n",
       "      <td>58.066666</td>\n",
       "      <td>58.770668</td>\n",
       "      <td>58.770668</td>\n",
       "      <td>59.873333</td>\n",
       "      <td>203484000</td>\n",
       "      <td>54.352200</td>\n",
       "      <td>54.123858</td>\n",
       "      <td>67.018938</td>\n",
       "      <td>54.352200</td>\n",
       "      <td>2.027079</td>\n",
       "      <td>58.406358</td>\n",
       "      <td>50.298042</td>\n",
       "      <td>2.524869</td>\n",
       "      <td>2.437087</td>\n",
       "    </tr>\n",
       "    <tr>\n",
       "      <th>8907</th>\n",
       "      <td>2023-11-15</td>\n",
       "      <td>TSLA</td>\n",
       "      <td>239.289993</td>\n",
       "      <td>246.699997</td>\n",
       "      <td>236.449997</td>\n",
       "      <td>242.839996</td>\n",
       "      <td>242.839996</td>\n",
       "      <td>237.410004</td>\n",
       "      <td>150354000</td>\n",
       "      <td>216.033000</td>\n",
       "      <td>224.846147</td>\n",
       "      <td>72.407541</td>\n",
       "      <td>216.033000</td>\n",
       "      <td>11.027769</td>\n",
       "      <td>238.088538</td>\n",
       "      <td>193.977463</td>\n",
       "      <td>-2.519201</td>\n",
       "      <td>-6.876410</td>\n",
       "    </tr>\n",
       "    <tr>\n",
       "      <th>3332</th>\n",
       "      <td>2022-09-26</td>\n",
       "      <td>GOOGL</td>\n",
       "      <td>98.099998</td>\n",
       "      <td>99.879997</td>\n",
       "      <td>97.800003</td>\n",
       "      <td>98.169998</td>\n",
       "      <td>97.702881</td>\n",
       "      <td>98.739998</td>\n",
       "      <td>27072700</td>\n",
       "      <td>105.294500</td>\n",
       "      <td>104.889770</td>\n",
       "      <td>30.800001</td>\n",
       "      <td>105.294500</td>\n",
       "      <td>4.264409</td>\n",
       "      <td>113.823318</td>\n",
       "      <td>96.765682</td>\n",
       "      <td>-3.831780</td>\n",
       "      <td>-3.171467</td>\n",
       "    </tr>\n",
       "    <tr>\n",
       "      <th>6521</th>\n",
       "      <td>2024-11-25</td>\n",
       "      <td>MSFT</td>\n",
       "      <td>418.380005</td>\n",
       "      <td>421.079987</td>\n",
       "      <td>414.850006</td>\n",
       "      <td>418.790009</td>\n",
       "      <td>417.951965</td>\n",
       "      <td>417.000000</td>\n",
       "      <td>27691100</td>\n",
       "      <td>418.755002</td>\n",
       "      <td>418.716103</td>\n",
       "      <td>56.569288</td>\n",
       "      <td>418.755002</td>\n",
       "      <td>7.280439</td>\n",
       "      <td>433.315881</td>\n",
       "      <td>404.194123</td>\n",
       "      <td>-1.061799</td>\n",
       "      <td>-0.762079</td>\n",
       "    </tr>\n",
       "    <tr>\n",
       "      <th>4107</th>\n",
       "      <td>2020-07-24</td>\n",
       "      <td>META</td>\n",
       "      <td>230.190002</td>\n",
       "      <td>233.490005</td>\n",
       "      <td>226.899994</td>\n",
       "      <td>230.710007</td>\n",
       "      <td>229.627777</td>\n",
       "      <td>232.600006</td>\n",
       "      <td>18325800</td>\n",
       "      <td>237.068501</td>\n",
       "      <td>237.410551</td>\n",
       "      <td>35.042216</td>\n",
       "      <td>237.068501</td>\n",
       "      <td>8.048641</td>\n",
       "      <td>253.165783</td>\n",
       "      <td>220.971218</td>\n",
       "      <td>1.743318</td>\n",
       "      <td>3.285202</td>\n",
       "    </tr>\n",
       "  </tbody>\n",
       "</table>\n",
       "</div>"
      ],
      "text/plain": [
       "Price       Date Ticker        Open        High         Low       Close  \\\n",
       "2711  2020-04-08  GOOGL   60.154999   60.744999   59.197498   60.349998   \n",
       "5505  2020-11-10   MSFT  214.500000  216.500000  209.720001  211.009995   \n",
       "6907  2021-03-09   NVDA   12.130250   12.616750   12.059250   12.520250   \n",
       "8070  2020-07-21   TSLA  109.328667  111.666664  103.866669  104.557335   \n",
       "5450  2020-08-24   MSFT  214.789993  215.520004  212.429993  213.690002   \n",
       "8036  2020-06-02   TSLA   59.646667   60.577332   58.066666   58.770668   \n",
       "8907  2023-11-15   TSLA  239.289993  246.699997  236.449997  242.839996   \n",
       "3332  2022-09-26  GOOGL   98.099998   99.879997   97.800003   98.169998   \n",
       "6521  2024-11-25   MSFT  418.380005  421.079987  414.850006  418.790009   \n",
       "4107  2020-07-24   META  230.190002  233.490005  226.899994  230.710007   \n",
       "\n",
       "Price   Adj_Close  Previous_Close     Volume      SMA_20      EMA_20  \\\n",
       "2711    60.062840       59.127998   40334000   56.349325   58.411698   \n",
       "5505   203.026382      218.389999   44045100  213.486499  213.171932   \n",
       "6907    12.491715       11.593250  521824000   13.912400   13.372332   \n",
       "8070   104.557335      109.533333  241608000   87.215867   90.481942   \n",
       "5450   205.604996      213.020004   25460100  209.888499  210.035717   \n",
       "8036    58.770668       59.873333  203484000   54.352200   54.123858   \n",
       "8907   242.839996      237.410004  150354000  216.033000  224.846147   \n",
       "3332    97.702881       98.739998   27072700  105.294500  104.889770   \n",
       "6521   417.951965      417.000000   27691100  418.755002  418.716103   \n",
       "4107   229.627777      232.600006   18325800  237.068501  237.410551   \n",
       "\n",
       "Price     RSI_14   BB_Middle     BB_Std    BB_Upper    BB_Lower       MACD  \\\n",
       "2711   58.792168   56.349325   2.279558   60.908441   51.790209  -1.666663   \n",
       "5505   46.833744  213.486499   6.821269  227.129036  199.843962   0.965166   \n",
       "6907   31.360601   13.912400   1.097665   16.107730   11.717071  -0.408808   \n",
       "8070   78.022512   87.215867  15.995025  119.205916   55.225817  10.936490   \n",
       "5450   50.576050  209.888499   4.389474  218.667447  201.109552   2.057857   \n",
       "8036   67.018938   54.352200   2.027079   58.406358   50.298042   2.524869   \n",
       "8907   72.407541  216.033000  11.027769  238.088538  193.977463  -2.519201   \n",
       "3332   30.800001  105.294500   4.264409  113.823318   96.765682  -3.831780   \n",
       "6521   56.569288  418.755002   7.280439  433.315881  404.194123  -1.061799   \n",
       "4107   35.042216  237.068501   8.048641  253.165783  220.971218   1.743318   \n",
       "\n",
       "Price  MACD_Signal  \n",
       "2711     -2.688886  \n",
       "5505      0.332748  \n",
       "6907     -0.131576  \n",
       "8070      9.877749  \n",
       "5450      1.956643  \n",
       "8036      2.437087  \n",
       "8907     -6.876410  \n",
       "3332     -3.171467  \n",
       "6521     -0.762079  \n",
       "4107      3.285202  "
      ]
     },
     "metadata": {},
     "output_type": "display_data"
    }
   ],
   "source": [
    "def transform(df):\n",
    "    # Ensure data is sorted by Ticker and Date\n",
    "    df = df.sort_values(['Ticker', 'Date']).reset_index(drop=True)\n",
    "    \n",
    "    # 1. Simple Moving Average (SMA)\n",
    "    #uses 20 periods of data (NaN till 19 row)\n",
    "    df['SMA_20'] = df.groupby('Ticker')['Close'].transform(lambda x: x.rolling(window=20).mean())\n",
    "    \n",
    "    # 2. Exponential Moving Average (EMA)\n",
    "    df['EMA_20'] = df.groupby('Ticker')['Close'].transform(lambda x: x.ewm(span=20, adjust=False).mean())\n",
    "    \n",
    "    # 3. Relative Strength Index (RSI)\n",
    "    #uses 14 periods of data (NaN till 13 row)\n",
    "    def compute_rsi(data, period=14):\n",
    "        delta = data.diff()\n",
    "        gain = delta.where(delta > 0, 0)\n",
    "        loss = -delta.where(delta < 0, 0)\n",
    "        avg_gain = gain.rolling(window=period).mean()\n",
    "        avg_loss = loss.rolling(window=period).mean()\n",
    "        rs = avg_gain / avg_loss\n",
    "        return 100 - (100 / (1 + rs))\n",
    "    df['RSI_14'] = df.groupby('Ticker')['Close'].transform(compute_rsi)\n",
    "    \n",
    "    # 4. Bollinger Bands\n",
    "    #NaN till we get SMA values (19th row)\n",
    "    df['BB_Middle'] = df['SMA_20']\n",
    "    df['BB_Std'] = df.groupby('Ticker')['Close'].transform(lambda x: x.rolling(window=20).std())\n",
    "    df['BB_Upper'] = df['BB_Middle'] + 2 * df['BB_Std']\n",
    "    df['BB_Lower'] = df['BB_Middle'] - 2 * df['BB_Std']\n",
    "    \n",
    "    # 5. MACD\n",
    "    def compute_macd(data):\n",
    "        ema12 = data.ewm(span=12, adjust=False).mean()\n",
    "        ema26 = data.ewm(span=26, adjust=False).mean()\n",
    "        return ema12 - ema26\n",
    "    df['MACD'] = df.groupby('Ticker')['Close'].transform(compute_macd)\n",
    "    df['MACD_Signal'] = df.groupby('Ticker')['MACD'].transform(lambda x: x.ewm(span=9, adjust=False).mean())\n",
    "    \n",
    "    # # 6. On-Balance Volume (OBV)\n",
    "    # def compute_obv(group):\n",
    "    #     obv = (np.where(group['Close'].diff() > 0, group['Volume'],\n",
    "    #             np.where(group['Close'].diff() < 0, -group['Volume'], 0))).cumsum()\n",
    "    #     return obv\n",
    "    \n",
    "    # df['OBV'] = df.groupby('Ticker', group_keys=False).apply(compute_obv).reset_index(drop=True)\n",
    "    \n",
    "    # # 7. Average True Range (ATR)\n",
    "    # def compute_atr(group):\n",
    "    #     high_low = group['High'] - group['Low']\n",
    "    #     high_close = (group['High'] - group['Close'].shift()).abs()\n",
    "    #     low_close = (group['Low'] - group['Close'].shift()).abs()\n",
    "    #     tr = pd.concat([high_low, high_close, low_close], axis=1).max(axis=1)\n",
    "    #     return tr.rolling(window=14).mean()\n",
    "    \n",
    "    # df['ATR_14'] = df.groupby('Ticker', group_keys=False).apply(compute_atr).reset_index(drop=True)\n",
    "    \n",
    "    # # Forward fill missing values created by rolling windows\n",
    "    # df = df.groupby('Ticker').ffill().reset_index(drop=True)\n",
    "    \n",
    "    return df\n",
    "\n",
    "# Apply transformation to cleaned data\n",
    "df_transformed = transform(df_cleaned)\n",
    "display(df_transformed[['Date', 'Ticker', 'SMA_20', 'EMA_20', 'RSI_14', 'BB_Upper', 'BB_Lower', 'MACD']].head(n=20)) #only shows APPL b/c all other tickers appear later. \n",
    "#add in 'OBV' and 'ATR_14' when fixed \n",
    "\n",
    "#to filter a specific ticker: \n",
    "display(df_transformed[df_transformed['Ticker'] == 'MSFT'].iloc[20:25])\n",
    "\n",
    "#to shuffle/show random rows: \n",
    "display(df_transformed.sample(10))  # Show random rows\n",
    "\n",
    "# count = len(df_transformed)\n",
    "# print(count)\n"
   ]
  },
  {
   "cell_type": "markdown",
   "metadata": {},
   "source": [
    "## Loading into MySQL with historical data "
   ]
  },
  {
   "cell_type": "markdown",
   "metadata": {},
   "source": [
    "## Extracting Real time data\n",
    "### Using Finnhub API to get real time data of the stock market , filling the Cassandra database every 10 seconds until 60seconds is reached for the past minute of data"
   ]
  },
  {
   "cell_type": "code",
   "execution_count": 118,
   "metadata": {},
   "outputs": [],
   "source": [
    "from datetime import datetime\n",
    "import finnhub\n",
    "\n",
    "#using finhub api, use api key\n",
    "finnhub_client = finnhub.Client(api_key=\"cvhdlvhr01qrtb3o0350cvhdlvhr01qrtb3o035g\")\n",
    "\n",
    "tickers = [\"AAPL\", \"MSFT\", \"GOOGL\", \"AMZN\", \"META\", \"NVDA\", \"TSLA\"]\n",
    "\n",
    "def get_realtime_quotes():\n",
    "    quotes = []\n",
    "    for symbol in tickers:\n",
    "        data = finnhub_client.quote(symbol)\n",
    "        quotes.append({\n",
    "            \"Date\": pd.to_datetime(data['t'], unit='s'),\n",
    "            \"Ticker\": symbol,\n",
    "            \"Open\": data['o'],\n",
    "            \"High\": data['h'],\n",
    "            \"Low\": data['l'],\n",
    "            \"Close\": data['c'],           \n",
    "            \"Adj_Close\": data['c'],       \n",
    "            \"Previous_Close\": data['pc'],  \n",
    "            \"Volume\": None               \n",
    "        })\n",
    "    return pd.DataFrame(quotes)\n"
   ]
  },
  {
   "cell_type": "markdown",
   "metadata": {},
   "source": [
    "## Loading into Cassandra with Real time data"
   ]
  },
  {
   "cell_type": "code",
   "execution_count": 120,
   "metadata": {},
   "outputs": [
    {
     "name": "stdout",
     "output_type": "stream",
     "text": [
      "Cassandra connection established.\n"
     ]
    },
    {
     "data": {
      "text/plain": [
       "<cassandra.cluster.ResultSet at 0x355b9c670>"
      ]
     },
     "execution_count": 120,
     "metadata": {},
     "output_type": "execute_result"
    }
   ],
   "source": [
    "from cassandra.cluster import Cluster\n",
    "\n",
    "try:\n",
    "    cluster = Cluster(['localhost'])\n",
    "    session = cluster.connect()\n",
    "    print(\"Cassandra connection established.\")\n",
    "except Exception as e:\n",
    "    print(\"Connection error:\", e)\n",
    "\n",
    "\n",
    "# connecting to  the Cassandra session\n",
    "cluster = Cluster(['localhost'])\n",
    "session = cluster.connect()\n",
    "\n",
    "# we are making a keyspace called \"stock data\" and inside the keyspace we have a table called real_time_quotes where we are pulling data realtime from the finnhub api\n",
    "session.execute(\"\"\"\n",
    "    CREATE KEYSPACE IF NOT EXISTS stock_data \n",
    "    WITH replication = {'class': 'SimpleStrategy', 'replication_factor': 1};\n",
    "\"\"\")\n",
    "session.set_keyspace('stock_data')\n",
    "#schema for the cassandra csql table\n",
    "session.execute(\"\"\"\n",
    "    CREATE TABLE IF NOT EXISTS real_time_quotes (\n",
    "    ticker TEXT,\n",
    "    date TIMESTAMP,\n",
    "    open DOUBLE,\n",
    "    high DOUBLE,\n",
    "    low DOUBLE,\n",
    "    close DOUBLE,\n",
    "    adj_close DOUBLE,\n",
    "    volume BIGINT,\n",
    "    previous_close DOUBLE,\n",
    "    PRIMARY KEY (ticker, date)\n",
    ");\n",
    "\"\"\")\n"
   ]
  },
  {
   "cell_type": "code",
   "execution_count": 121,
   "metadata": {},
   "outputs": [],
   "source": [
    "#from cassandra.query import PreparedStatement\n",
    "import time\n",
    "#inserting the values from the api and clearing the white space and storing the columns as ticker, date, open, high, low, close, adj_close, and volume\n",
    "def insert_to_cassandra(df):\n",
    "    query = \"\"\"\n",
    "            INSERT INTO real_time_quotes (ticker, date, open, high, low, close, adj_close, volume, previous_close)\n",
    "            VALUES (%s, %s, %s, %s, %s, %s, %s, %s, %s)\n",
    "            \"\"\"\n",
    "\n",
    "    for _, row in df.iterrows():\n",
    "        session.execute(query, (\n",
    "            row['Ticker'],\n",
    "            row['Date'].to_pydatetime(),\n",
    "            row['Open'],\n",
    "            row['High'],\n",
    "            row['Low'],\n",
    "            row['Close'],\n",
    "            row['Adj_Close'],\n",
    "            row['Volume'] if pd.notna(row['Volume']) else 0,\n",
    "            row['Previous_Close'] if pd.notna(row['Previous_Close']) else None\n",
    "        ))  \n",
    "\n",
    "#making a backup incase the cassandra server acts up\n",
    "#def backup_to_csv(df, path='realtime_backup.csv'):\n",
    "    #header = not os.path.exists(path)\n",
    "    #df.to_csv(path, mode='a', index=False, header=header)\n",
    "\n"
   ]
  },
  {
   "cell_type": "code",
   "execution_count": 122,
   "metadata": {},
   "outputs": [
    {
     "name": "stdout",
     "output_type": "stream",
     "text": [
      " For 10 seconds: Adding a new batch of 7 rows into Cassandra DB.\n",
      " For 10 seconds: Adding a new batch of 7 rows into Cassandra DB.\n",
      " For 10 seconds: Adding a new batch of 7 rows into Cassandra DB.\n",
      " For 10 seconds: Adding a new batch of 7 rows into Cassandra DB.\n",
      " For 10 seconds: Adding a new batch of 7 rows into Cassandra DB.\n",
      " For 10 seconds: Adding a new batch of 7 rows into Cassandra DB.\n",
      " For 10 seconds: Adding a new batch of 7 rows into Cassandra DB.\n",
      " For 10 seconds: Adding a new batch of 7 rows into Cassandra DB.\n",
      " For 10 seconds: Adding a new batch of 7 rows into Cassandra DB.\n",
      " For 10 seconds: Adding a new batch of 7 rows into Cassandra DB.\n",
      " For 10 seconds: Adding a new batch of 7 rows into Cassandra DB.\n",
      " For 10 seconds: Adding a new batch of 7 rows into Cassandra DB.\n",
      " For 10 seconds: Adding a new batch of 7 rows into Cassandra DB.\n",
      " For 10 seconds: Adding a new batch of 7 rows into Cassandra DB.\n",
      " For 10 seconds: Adding a new batch of 7 rows into Cassandra DB.\n",
      " For 10 seconds: Adding a new batch of 7 rows into Cassandra DB.\n",
      " For 10 seconds: Adding a new batch of 7 rows into Cassandra DB.\n",
      " For 10 seconds: Adding a new batch of 7 rows into Cassandra DB.\n"
     ]
    }
   ],
   "source": [
    "# pulls stocks values every 10 seconds, 18 times for about 3 minutes + some buffer time \n",
    "for _ in range(18):\n",
    "    df_tenseconds = get_realtime_quotes()\n",
    "    insert_to_cassandra(df_tenseconds)\n",
    "    #backup_to_csv(df_hour)\n",
    "    print(\" For 10 seconds: Adding a new batch of 7 rows into Cassandra DB.\")\n",
    "    time.sleep(10)  # delay to avoid rate limiting with the API"
   ]
  },
  {
   "cell_type": "code",
   "execution_count": 123,
   "metadata": {},
   "outputs": [
    {
     "data": {
      "text/html": [
       "<div>\n",
       "<style scoped>\n",
       "    .dataframe tbody tr th:only-of-type {\n",
       "        vertical-align: middle;\n",
       "    }\n",
       "\n",
       "    .dataframe tbody tr th {\n",
       "        vertical-align: top;\n",
       "    }\n",
       "\n",
       "    .dataframe thead th {\n",
       "        text-align: right;\n",
       "    }\n",
       "</style>\n",
       "<table border=\"1\" class=\"dataframe\">\n",
       "  <thead>\n",
       "    <tr style=\"text-align: right;\">\n",
       "      <th></th>\n",
       "      <th>ticker</th>\n",
       "      <th>date</th>\n",
       "      <th>adj_close</th>\n",
       "      <th>close</th>\n",
       "      <th>high</th>\n",
       "      <th>low</th>\n",
       "      <th>open</th>\n",
       "      <th>previous_close</th>\n",
       "      <th>volume</th>\n",
       "    </tr>\n",
       "  </thead>\n",
       "  <tbody>\n",
       "    <tr>\n",
       "      <th>0</th>\n",
       "      <td>META</td>\n",
       "      <td>2025-04-21 18:45:45</td>\n",
       "      <td>483.000</td>\n",
       "      <td>483.000</td>\n",
       "      <td>493.50</td>\n",
       "      <td>479.8000</td>\n",
       "      <td>491.325</td>\n",
       "      <td>501.48</td>\n",
       "      <td>0</td>\n",
       "    </tr>\n",
       "    <tr>\n",
       "      <th>1</th>\n",
       "      <td>META</td>\n",
       "      <td>2025-04-21 18:45:59</td>\n",
       "      <td>483.000</td>\n",
       "      <td>483.000</td>\n",
       "      <td>493.50</td>\n",
       "      <td>479.8000</td>\n",
       "      <td>491.325</td>\n",
       "      <td>501.48</td>\n",
       "      <td>0</td>\n",
       "    </tr>\n",
       "    <tr>\n",
       "      <th>2</th>\n",
       "      <td>META</td>\n",
       "      <td>2025-04-21 18:46:08</td>\n",
       "      <td>483.545</td>\n",
       "      <td>483.545</td>\n",
       "      <td>493.50</td>\n",
       "      <td>479.8000</td>\n",
       "      <td>491.325</td>\n",
       "      <td>501.48</td>\n",
       "      <td>0</td>\n",
       "    </tr>\n",
       "    <tr>\n",
       "      <th>3</th>\n",
       "      <td>META</td>\n",
       "      <td>2025-04-21 18:46:16</td>\n",
       "      <td>483.545</td>\n",
       "      <td>483.545</td>\n",
       "      <td>493.50</td>\n",
       "      <td>479.8000</td>\n",
       "      <td>491.325</td>\n",
       "      <td>501.48</td>\n",
       "      <td>0</td>\n",
       "    </tr>\n",
       "    <tr>\n",
       "      <th>4</th>\n",
       "      <td>META</td>\n",
       "      <td>2025-04-21 18:46:31</td>\n",
       "      <td>483.545</td>\n",
       "      <td>483.545</td>\n",
       "      <td>493.50</td>\n",
       "      <td>479.8000</td>\n",
       "      <td>491.325</td>\n",
       "      <td>501.48</td>\n",
       "      <td>0</td>\n",
       "    </tr>\n",
       "    <tr>\n",
       "      <th>...</th>\n",
       "      <td>...</td>\n",
       "      <td>...</td>\n",
       "      <td>...</td>\n",
       "      <td>...</td>\n",
       "      <td>...</td>\n",
       "      <td>...</td>\n",
       "      <td>...</td>\n",
       "      <td>...</td>\n",
       "      <td>...</td>\n",
       "    </tr>\n",
       "    <tr>\n",
       "      <th>121</th>\n",
       "      <td>MSFT</td>\n",
       "      <td>2025-04-21 18:47:57</td>\n",
       "      <td>356.450</td>\n",
       "      <td>356.450</td>\n",
       "      <td>364.48</td>\n",
       "      <td>356.4100</td>\n",
       "      <td>362.815</td>\n",
       "      <td>367.78</td>\n",
       "      <td>0</td>\n",
       "    </tr>\n",
       "    <tr>\n",
       "      <th>122</th>\n",
       "      <td>MSFT</td>\n",
       "      <td>2025-04-21 18:48:12</td>\n",
       "      <td>356.355</td>\n",
       "      <td>356.355</td>\n",
       "      <td>364.48</td>\n",
       "      <td>356.2245</td>\n",
       "      <td>362.815</td>\n",
       "      <td>367.78</td>\n",
       "      <td>0</td>\n",
       "    </tr>\n",
       "    <tr>\n",
       "      <th>123</th>\n",
       "      <td>MSFT</td>\n",
       "      <td>2025-04-21 18:48:20</td>\n",
       "      <td>356.355</td>\n",
       "      <td>356.355</td>\n",
       "      <td>364.48</td>\n",
       "      <td>356.2245</td>\n",
       "      <td>362.815</td>\n",
       "      <td>367.78</td>\n",
       "      <td>0</td>\n",
       "    </tr>\n",
       "    <tr>\n",
       "      <th>124</th>\n",
       "      <td>MSFT</td>\n",
       "      <td>2025-04-21 18:48:32</td>\n",
       "      <td>356.355</td>\n",
       "      <td>356.355</td>\n",
       "      <td>364.48</td>\n",
       "      <td>356.2245</td>\n",
       "      <td>362.815</td>\n",
       "      <td>367.78</td>\n",
       "      <td>0</td>\n",
       "    </tr>\n",
       "    <tr>\n",
       "      <th>125</th>\n",
       "      <td>MSFT</td>\n",
       "      <td>2025-04-21 18:48:40</td>\n",
       "      <td>356.355</td>\n",
       "      <td>356.355</td>\n",
       "      <td>364.48</td>\n",
       "      <td>356.2245</td>\n",
       "      <td>362.815</td>\n",
       "      <td>367.78</td>\n",
       "      <td>0</td>\n",
       "    </tr>\n",
       "  </tbody>\n",
       "</table>\n",
       "<p>126 rows × 9 columns</p>\n",
       "</div>"
      ],
      "text/plain": [
       "    ticker                date  adj_close    close    high       low     open  \\\n",
       "0     META 2025-04-21 18:45:45    483.000  483.000  493.50  479.8000  491.325   \n",
       "1     META 2025-04-21 18:45:59    483.000  483.000  493.50  479.8000  491.325   \n",
       "2     META 2025-04-21 18:46:08    483.545  483.545  493.50  479.8000  491.325   \n",
       "3     META 2025-04-21 18:46:16    483.545  483.545  493.50  479.8000  491.325   \n",
       "4     META 2025-04-21 18:46:31    483.545  483.545  493.50  479.8000  491.325   \n",
       "..     ...                 ...        ...      ...     ...       ...      ...   \n",
       "121   MSFT 2025-04-21 18:47:57    356.450  356.450  364.48  356.4100  362.815   \n",
       "122   MSFT 2025-04-21 18:48:12    356.355  356.355  364.48  356.2245  362.815   \n",
       "123   MSFT 2025-04-21 18:48:20    356.355  356.355  364.48  356.2245  362.815   \n",
       "124   MSFT 2025-04-21 18:48:32    356.355  356.355  364.48  356.2245  362.815   \n",
       "125   MSFT 2025-04-21 18:48:40    356.355  356.355  364.48  356.2245  362.815   \n",
       "\n",
       "     previous_close  volume  \n",
       "0            501.48       0  \n",
       "1            501.48       0  \n",
       "2            501.48       0  \n",
       "3            501.48       0  \n",
       "4            501.48       0  \n",
       "..              ...     ...  \n",
       "121          367.78       0  \n",
       "122          367.78       0  \n",
       "123          367.78       0  \n",
       "124          367.78       0  \n",
       "125          367.78       0  \n",
       "\n",
       "[126 rows x 9 columns]"
      ]
     },
     "metadata": {},
     "output_type": "display_data"
    }
   ],
   "source": [
    "#turning the cassandra table into a python pandas dataframe for datamanipulation\n",
    "query = \"SELECT * FROM stock_data.real_time_quotes\"\n",
    "rows = session.execute(query)\n",
    "df_cassandra = pd.DataFrame(rows)\n",
    "display(df_cassandra)"
   ]
  },
  {
   "cell_type": "markdown",
   "metadata": {},
   "source": [
    "## Real Time Data: Data Cleaning \n",
    "Note: we are not removing outliers since time series stock data rely on drastic changes or spikes. Any outliers would be crucial to determine the volatility of a stock. \n"
   ]
  },
  {
   "cell_type": "code",
   "execution_count": 124,
   "metadata": {},
   "outputs": [
    {
     "data": {
      "text/html": [
       "<div>\n",
       "<style scoped>\n",
       "    .dataframe tbody tr th:only-of-type {\n",
       "        vertical-align: middle;\n",
       "    }\n",
       "\n",
       "    .dataframe tbody tr th {\n",
       "        vertical-align: top;\n",
       "    }\n",
       "\n",
       "    .dataframe thead th {\n",
       "        text-align: right;\n",
       "    }\n",
       "</style>\n",
       "<table border=\"1\" class=\"dataframe\">\n",
       "  <thead>\n",
       "    <tr style=\"text-align: right;\">\n",
       "      <th></th>\n",
       "      <th>ticker</th>\n",
       "      <th>date</th>\n",
       "      <th>adj_close</th>\n",
       "      <th>close</th>\n",
       "      <th>high</th>\n",
       "      <th>low</th>\n",
       "      <th>open</th>\n",
       "      <th>previous_close</th>\n",
       "      <th>volume</th>\n",
       "    </tr>\n",
       "  </thead>\n",
       "  <tbody>\n",
       "    <tr>\n",
       "      <th>0</th>\n",
       "      <td>META</td>\n",
       "      <td>2025-04-21 18:45:45</td>\n",
       "      <td>483.000</td>\n",
       "      <td>483.000</td>\n",
       "      <td>493.50</td>\n",
       "      <td>479.8000</td>\n",
       "      <td>491.325</td>\n",
       "      <td>501.48</td>\n",
       "      <td>0</td>\n",
       "    </tr>\n",
       "    <tr>\n",
       "      <th>1</th>\n",
       "      <td>META</td>\n",
       "      <td>2025-04-21 18:45:59</td>\n",
       "      <td>483.000</td>\n",
       "      <td>483.000</td>\n",
       "      <td>493.50</td>\n",
       "      <td>479.8000</td>\n",
       "      <td>491.325</td>\n",
       "      <td>501.48</td>\n",
       "      <td>0</td>\n",
       "    </tr>\n",
       "    <tr>\n",
       "      <th>2</th>\n",
       "      <td>META</td>\n",
       "      <td>2025-04-21 18:46:08</td>\n",
       "      <td>483.545</td>\n",
       "      <td>483.545</td>\n",
       "      <td>493.50</td>\n",
       "      <td>479.8000</td>\n",
       "      <td>491.325</td>\n",
       "      <td>501.48</td>\n",
       "      <td>0</td>\n",
       "    </tr>\n",
       "    <tr>\n",
       "      <th>3</th>\n",
       "      <td>META</td>\n",
       "      <td>2025-04-21 18:46:16</td>\n",
       "      <td>483.545</td>\n",
       "      <td>483.545</td>\n",
       "      <td>493.50</td>\n",
       "      <td>479.8000</td>\n",
       "      <td>491.325</td>\n",
       "      <td>501.48</td>\n",
       "      <td>0</td>\n",
       "    </tr>\n",
       "    <tr>\n",
       "      <th>4</th>\n",
       "      <td>META</td>\n",
       "      <td>2025-04-21 18:46:31</td>\n",
       "      <td>483.545</td>\n",
       "      <td>483.545</td>\n",
       "      <td>493.50</td>\n",
       "      <td>479.8000</td>\n",
       "      <td>491.325</td>\n",
       "      <td>501.48</td>\n",
       "      <td>0</td>\n",
       "    </tr>\n",
       "    <tr>\n",
       "      <th>...</th>\n",
       "      <td>...</td>\n",
       "      <td>...</td>\n",
       "      <td>...</td>\n",
       "      <td>...</td>\n",
       "      <td>...</td>\n",
       "      <td>...</td>\n",
       "      <td>...</td>\n",
       "      <td>...</td>\n",
       "      <td>...</td>\n",
       "    </tr>\n",
       "    <tr>\n",
       "      <th>121</th>\n",
       "      <td>MSFT</td>\n",
       "      <td>2025-04-21 18:47:57</td>\n",
       "      <td>356.450</td>\n",
       "      <td>356.450</td>\n",
       "      <td>364.48</td>\n",
       "      <td>356.4100</td>\n",
       "      <td>362.815</td>\n",
       "      <td>367.78</td>\n",
       "      <td>0</td>\n",
       "    </tr>\n",
       "    <tr>\n",
       "      <th>122</th>\n",
       "      <td>MSFT</td>\n",
       "      <td>2025-04-21 18:48:12</td>\n",
       "      <td>356.355</td>\n",
       "      <td>356.355</td>\n",
       "      <td>364.48</td>\n",
       "      <td>356.2245</td>\n",
       "      <td>362.815</td>\n",
       "      <td>367.78</td>\n",
       "      <td>0</td>\n",
       "    </tr>\n",
       "    <tr>\n",
       "      <th>123</th>\n",
       "      <td>MSFT</td>\n",
       "      <td>2025-04-21 18:48:20</td>\n",
       "      <td>356.355</td>\n",
       "      <td>356.355</td>\n",
       "      <td>364.48</td>\n",
       "      <td>356.2245</td>\n",
       "      <td>362.815</td>\n",
       "      <td>367.78</td>\n",
       "      <td>0</td>\n",
       "    </tr>\n",
       "    <tr>\n",
       "      <th>124</th>\n",
       "      <td>MSFT</td>\n",
       "      <td>2025-04-21 18:48:32</td>\n",
       "      <td>356.355</td>\n",
       "      <td>356.355</td>\n",
       "      <td>364.48</td>\n",
       "      <td>356.2245</td>\n",
       "      <td>362.815</td>\n",
       "      <td>367.78</td>\n",
       "      <td>0</td>\n",
       "    </tr>\n",
       "    <tr>\n",
       "      <th>125</th>\n",
       "      <td>MSFT</td>\n",
       "      <td>2025-04-21 18:48:40</td>\n",
       "      <td>356.355</td>\n",
       "      <td>356.355</td>\n",
       "      <td>364.48</td>\n",
       "      <td>356.2245</td>\n",
       "      <td>362.815</td>\n",
       "      <td>367.78</td>\n",
       "      <td>0</td>\n",
       "    </tr>\n",
       "  </tbody>\n",
       "</table>\n",
       "<p>126 rows × 9 columns</p>\n",
       "</div>"
      ],
      "text/plain": [
       "    ticker                date  adj_close    close    high       low     open  \\\n",
       "0     META 2025-04-21 18:45:45    483.000  483.000  493.50  479.8000  491.325   \n",
       "1     META 2025-04-21 18:45:59    483.000  483.000  493.50  479.8000  491.325   \n",
       "2     META 2025-04-21 18:46:08    483.545  483.545  493.50  479.8000  491.325   \n",
       "3     META 2025-04-21 18:46:16    483.545  483.545  493.50  479.8000  491.325   \n",
       "4     META 2025-04-21 18:46:31    483.545  483.545  493.50  479.8000  491.325   \n",
       "..     ...                 ...        ...      ...     ...       ...      ...   \n",
       "121   MSFT 2025-04-21 18:47:57    356.450  356.450  364.48  356.4100  362.815   \n",
       "122   MSFT 2025-04-21 18:48:12    356.355  356.355  364.48  356.2245  362.815   \n",
       "123   MSFT 2025-04-21 18:48:20    356.355  356.355  364.48  356.2245  362.815   \n",
       "124   MSFT 2025-04-21 18:48:32    356.355  356.355  364.48  356.2245  362.815   \n",
       "125   MSFT 2025-04-21 18:48:40    356.355  356.355  364.48  356.2245  362.815   \n",
       "\n",
       "     previous_close  volume  \n",
       "0            501.48       0  \n",
       "1            501.48       0  \n",
       "2            501.48       0  \n",
       "3            501.48       0  \n",
       "4            501.48       0  \n",
       "..              ...     ...  \n",
       "121          367.78       0  \n",
       "122          367.78       0  \n",
       "123          367.78       0  \n",
       "124          367.78       0  \n",
       "125          367.78       0  \n",
       "\n",
       "[126 rows x 9 columns]"
      ]
     },
     "metadata": {},
     "output_type": "display_data"
    },
    {
     "name": "stdout",
     "output_type": "stream",
     "text": [
      "\n",
      "Null Count for Real Time Data (Extracted from Cassandra):\n",
      "\n",
      "ticker            0\n",
      "date              0\n",
      "adj_close         0\n",
      "close             0\n",
      "high              0\n",
      "low               0\n",
      "open              0\n",
      "previous_close    0\n",
      "volume            0\n",
      "dtype: int64\n"
     ]
    }
   ],
   "source": [
    "def cleaning(df):\n",
    "    # making sure the date column is only in date time format\n",
    "    df['date'] = pd.to_datetime(df['date'])\n",
    "    #dropping rows that are missing ticker or date since its the most integral portion\n",
    "    df = df.dropna(subset=['ticker', 'date'])\n",
    "    # filling in the missing values using forward fill, or backfill when available \n",
    "    float_cols = ['open', 'high', 'low', 'close', 'adj_close', 'volume', 'previous_close']\n",
    "    for col in float_cols:\n",
    "        if col in df.columns:\n",
    "            df[col] = df[col].ffill().bfill()\n",
    "    # if there is still any remaining numerical columns (float)we can just average fill it \n",
    "    for col in float_cols:\n",
    "        if df[col].isna().any():\n",
    "            df[col] = df[col].fillna(df[col].mean())\n",
    "    # making sure theres no duplicate \n",
    "    df = df.drop_duplicates(subset=['ticker', 'date'], keep='last')\n",
    "    # reseting index if we drop\n",
    "    df = df.reset_index(drop=True)\n",
    "    return df\n",
    "\n",
    "\n",
    "#applying the cleaning function on our previous tile: df_cassandra dataframe\n",
    "df_cassandracleaned = cleaning(df_cassandra)\n",
    "display(df_cassandracleaned)\n",
    "print(\"\\nNull Count for Real Time Data (Extracted from Cassandra):\\n\")\n",
    "print(df_cassandracleaned.isnull().sum())"
   ]
  },
  {
   "cell_type": "markdown",
   "metadata": {},
   "source": [
    "### Note: Finnhub API does not provide real time volume in its free API model. Additionally accuracy of per second volume would be hard to predict. We would potentially need to drop this or exclude volume entirely from subsequent machine learning later"
   ]
  },
  {
   "cell_type": "markdown",
   "metadata": {},
   "source": [
    "## Real Time Data: Feature Engineering\n",
    "### Can only perform this on a weekday between 8am EST and 4pm EST. Otherwise we will not be able to get more than 1 iteration of results since stock market is closed realtime. \n",
    "1. Simple Moving Average (SMA)\n",
    "2. Exponential Moving Average (EMA)\n",
    "3. Relative Strength Index (RSI)\n",
    "4. Bollinger Bands\n",
    "5. MACD (Moving Average Convergence Divergence)\n",
    "6. On-Balance Volume (OBV)\n",
    "7. Volatility (ATR - Average True Range)\n"
   ]
  },
  {
   "cell_type": "code",
   "execution_count": 125,
   "metadata": {},
   "outputs": [
    {
     "data": {
      "text/html": [
       "<div>\n",
       "<style scoped>\n",
       "    .dataframe tbody tr th:only-of-type {\n",
       "        vertical-align: middle;\n",
       "    }\n",
       "\n",
       "    .dataframe tbody tr th {\n",
       "        vertical-align: top;\n",
       "    }\n",
       "\n",
       "    .dataframe thead th {\n",
       "        text-align: right;\n",
       "    }\n",
       "</style>\n",
       "<table border=\"1\" class=\"dataframe\">\n",
       "  <thead>\n",
       "    <tr style=\"text-align: right;\">\n",
       "      <th></th>\n",
       "      <th>ticker</th>\n",
       "      <th>date</th>\n",
       "      <th>adj_close</th>\n",
       "      <th>close</th>\n",
       "      <th>high</th>\n",
       "      <th>low</th>\n",
       "      <th>open</th>\n",
       "      <th>previous_close</th>\n",
       "      <th>volume</th>\n",
       "      <th>SMA_5</th>\n",
       "      <th>EMA_5</th>\n",
       "      <th>RSI_5</th>\n",
       "      <th>BB_Middle</th>\n",
       "      <th>BB_Std</th>\n",
       "      <th>BB_Upper</th>\n",
       "      <th>BB_Lower</th>\n",
       "      <th>MACD</th>\n",
       "      <th>MACD_Signal</th>\n",
       "      <th>OBV</th>\n",
       "      <th>ATR_5</th>\n",
       "    </tr>\n",
       "  </thead>\n",
       "  <tbody>\n",
       "    <tr>\n",
       "      <th>36</th>\n",
       "      <td>AAPL</td>\n",
       "      <td>2025-04-21 18:45:44</td>\n",
       "      <td>190.5950</td>\n",
       "      <td>190.5950</td>\n",
       "      <td>193.80</td>\n",
       "      <td>189.8112</td>\n",
       "      <td>193.265</td>\n",
       "      <td>196.98</td>\n",
       "      <td>0</td>\n",
       "      <td>NaN</td>\n",
       "      <td>190.595000</td>\n",
       "      <td>NaN</td>\n",
       "      <td>NaN</td>\n",
       "      <td>NaN</td>\n",
       "      <td>NaN</td>\n",
       "      <td>NaN</td>\n",
       "      <td>0.000000</td>\n",
       "      <td>0.000000</td>\n",
       "      <td>0</td>\n",
       "      <td>NaN</td>\n",
       "    </tr>\n",
       "    <tr>\n",
       "      <th>37</th>\n",
       "      <td>AAPL</td>\n",
       "      <td>2025-04-21 18:46:00</td>\n",
       "      <td>190.5950</td>\n",
       "      <td>190.5950</td>\n",
       "      <td>193.80</td>\n",
       "      <td>189.8112</td>\n",
       "      <td>193.265</td>\n",
       "      <td>196.98</td>\n",
       "      <td>0</td>\n",
       "      <td>NaN</td>\n",
       "      <td>190.595000</td>\n",
       "      <td>NaN</td>\n",
       "      <td>NaN</td>\n",
       "      <td>NaN</td>\n",
       "      <td>NaN</td>\n",
       "      <td>NaN</td>\n",
       "      <td>0.000000</td>\n",
       "      <td>0.000000</td>\n",
       "      <td>0</td>\n",
       "      <td>NaN</td>\n",
       "    </tr>\n",
       "    <tr>\n",
       "      <th>38</th>\n",
       "      <td>AAPL</td>\n",
       "      <td>2025-04-21 18:46:08</td>\n",
       "      <td>190.5750</td>\n",
       "      <td>190.5750</td>\n",
       "      <td>193.80</td>\n",
       "      <td>189.8112</td>\n",
       "      <td>193.265</td>\n",
       "      <td>196.98</td>\n",
       "      <td>0</td>\n",
       "      <td>NaN</td>\n",
       "      <td>190.588333</td>\n",
       "      <td>NaN</td>\n",
       "      <td>NaN</td>\n",
       "      <td>NaN</td>\n",
       "      <td>NaN</td>\n",
       "      <td>NaN</td>\n",
       "      <td>-0.001595</td>\n",
       "      <td>-0.000319</td>\n",
       "      <td>0</td>\n",
       "      <td>NaN</td>\n",
       "    </tr>\n",
       "    <tr>\n",
       "      <th>39</th>\n",
       "      <td>AAPL</td>\n",
       "      <td>2025-04-21 18:46:18</td>\n",
       "      <td>190.5750</td>\n",
       "      <td>190.5750</td>\n",
       "      <td>193.80</td>\n",
       "      <td>189.8112</td>\n",
       "      <td>193.265</td>\n",
       "      <td>196.98</td>\n",
       "      <td>0</td>\n",
       "      <td>NaN</td>\n",
       "      <td>190.583889</td>\n",
       "      <td>NaN</td>\n",
       "      <td>NaN</td>\n",
       "      <td>NaN</td>\n",
       "      <td>NaN</td>\n",
       "      <td>NaN</td>\n",
       "      <td>-0.002827</td>\n",
       "      <td>-0.000821</td>\n",
       "      <td>0</td>\n",
       "      <td>NaN</td>\n",
       "    </tr>\n",
       "    <tr>\n",
       "      <th>40</th>\n",
       "      <td>AAPL</td>\n",
       "      <td>2025-04-21 18:46:31</td>\n",
       "      <td>190.5750</td>\n",
       "      <td>190.5750</td>\n",
       "      <td>193.80</td>\n",
       "      <td>189.8112</td>\n",
       "      <td>193.265</td>\n",
       "      <td>196.98</td>\n",
       "      <td>0</td>\n",
       "      <td>190.5830</td>\n",
       "      <td>190.580926</td>\n",
       "      <td>0.0</td>\n",
       "      <td>190.5830</td>\n",
       "      <td>0.010954</td>\n",
       "      <td>190.604909</td>\n",
       "      <td>190.561091</td>\n",
       "      <td>-0.003760</td>\n",
       "      <td>-0.001409</td>\n",
       "      <td>0</td>\n",
       "      <td>3.9888</td>\n",
       "    </tr>\n",
       "    <tr>\n",
       "      <th>...</th>\n",
       "      <td>...</td>\n",
       "      <td>...</td>\n",
       "      <td>...</td>\n",
       "      <td>...</td>\n",
       "      <td>...</td>\n",
       "      <td>...</td>\n",
       "      <td>...</td>\n",
       "      <td>...</td>\n",
       "      <td>...</td>\n",
       "      <td>...</td>\n",
       "      <td>...</td>\n",
       "      <td>...</td>\n",
       "      <td>...</td>\n",
       "      <td>...</td>\n",
       "      <td>...</td>\n",
       "      <td>...</td>\n",
       "      <td>...</td>\n",
       "      <td>...</td>\n",
       "      <td>...</td>\n",
       "      <td>...</td>\n",
       "    </tr>\n",
       "    <tr>\n",
       "      <th>31</th>\n",
       "      <td>TSLA</td>\n",
       "      <td>2025-04-21 18:48:04</td>\n",
       "      <td>223.7292</td>\n",
       "      <td>223.7292</td>\n",
       "      <td>232.21</td>\n",
       "      <td>222.7900</td>\n",
       "      <td>230.260</td>\n",
       "      <td>241.37</td>\n",
       "      <td>0</td>\n",
       "      <td>223.9032</td>\n",
       "      <td>223.872596</td>\n",
       "      <td>0.0</td>\n",
       "      <td>223.9032</td>\n",
       "      <td>0.097269</td>\n",
       "      <td>224.097738</td>\n",
       "      <td>223.708662</td>\n",
       "      <td>-0.062772</td>\n",
       "      <td>-0.048302</td>\n",
       "      <td>0</td>\n",
       "      <td>9.4200</td>\n",
       "    </tr>\n",
       "    <tr>\n",
       "      <th>32</th>\n",
       "      <td>TSLA</td>\n",
       "      <td>2025-04-21 18:48:12</td>\n",
       "      <td>223.7292</td>\n",
       "      <td>223.7292</td>\n",
       "      <td>232.21</td>\n",
       "      <td>222.7900</td>\n",
       "      <td>230.260</td>\n",
       "      <td>241.37</td>\n",
       "      <td>0</td>\n",
       "      <td>223.8597</td>\n",
       "      <td>223.824797</td>\n",
       "      <td>0.0</td>\n",
       "      <td>223.8597</td>\n",
       "      <td>0.119130</td>\n",
       "      <td>224.097959</td>\n",
       "      <td>223.621441</td>\n",
       "      <td>-0.073984</td>\n",
       "      <td>-0.053439</td>\n",
       "      <td>0</td>\n",
       "      <td>9.4200</td>\n",
       "    </tr>\n",
       "    <tr>\n",
       "      <th>33</th>\n",
       "      <td>TSLA</td>\n",
       "      <td>2025-04-21 18:48:24</td>\n",
       "      <td>223.7292</td>\n",
       "      <td>223.7292</td>\n",
       "      <td>232.21</td>\n",
       "      <td>222.7900</td>\n",
       "      <td>230.260</td>\n",
       "      <td>241.37</td>\n",
       "      <td>0</td>\n",
       "      <td>223.8162</td>\n",
       "      <td>223.792931</td>\n",
       "      <td>0.0</td>\n",
       "      <td>223.8162</td>\n",
       "      <td>0.119130</td>\n",
       "      <td>224.054459</td>\n",
       "      <td>223.577941</td>\n",
       "      <td>-0.081926</td>\n",
       "      <td>-0.059136</td>\n",
       "      <td>0</td>\n",
       "      <td>9.4200</td>\n",
       "    </tr>\n",
       "    <tr>\n",
       "      <th>34</th>\n",
       "      <td>TSLA</td>\n",
       "      <td>2025-04-21 18:48:32</td>\n",
       "      <td>223.7292</td>\n",
       "      <td>223.7292</td>\n",
       "      <td>232.21</td>\n",
       "      <td>222.7900</td>\n",
       "      <td>230.260</td>\n",
       "      <td>241.37</td>\n",
       "      <td>0</td>\n",
       "      <td>223.7727</td>\n",
       "      <td>223.771688</td>\n",
       "      <td>0.0</td>\n",
       "      <td>223.7727</td>\n",
       "      <td>0.097269</td>\n",
       "      <td>223.967238</td>\n",
       "      <td>223.578162</td>\n",
       "      <td>-0.087214</td>\n",
       "      <td>-0.064752</td>\n",
       "      <td>0</td>\n",
       "      <td>9.4200</td>\n",
       "    </tr>\n",
       "    <tr>\n",
       "      <th>35</th>\n",
       "      <td>TSLA</td>\n",
       "      <td>2025-04-21 18:48:40</td>\n",
       "      <td>223.7292</td>\n",
       "      <td>223.7292</td>\n",
       "      <td>232.21</td>\n",
       "      <td>222.7900</td>\n",
       "      <td>230.260</td>\n",
       "      <td>241.37</td>\n",
       "      <td>0</td>\n",
       "      <td>223.7292</td>\n",
       "      <td>223.757525</td>\n",
       "      <td>0.0</td>\n",
       "      <td>223.7292</td>\n",
       "      <td>0.000000</td>\n",
       "      <td>223.729200</td>\n",
       "      <td>223.729200</td>\n",
       "      <td>-0.090364</td>\n",
       "      <td>-0.069874</td>\n",
       "      <td>0</td>\n",
       "      <td>9.4200</td>\n",
       "    </tr>\n",
       "  </tbody>\n",
       "</table>\n",
       "<p>126 rows × 20 columns</p>\n",
       "</div>"
      ],
      "text/plain": [
       "   ticker                date  adj_close     close    high       low     open  \\\n",
       "36   AAPL 2025-04-21 18:45:44   190.5950  190.5950  193.80  189.8112  193.265   \n",
       "37   AAPL 2025-04-21 18:46:00   190.5950  190.5950  193.80  189.8112  193.265   \n",
       "38   AAPL 2025-04-21 18:46:08   190.5750  190.5750  193.80  189.8112  193.265   \n",
       "39   AAPL 2025-04-21 18:46:18   190.5750  190.5750  193.80  189.8112  193.265   \n",
       "40   AAPL 2025-04-21 18:46:31   190.5750  190.5750  193.80  189.8112  193.265   \n",
       "..    ...                 ...        ...       ...     ...       ...      ...   \n",
       "31   TSLA 2025-04-21 18:48:04   223.7292  223.7292  232.21  222.7900  230.260   \n",
       "32   TSLA 2025-04-21 18:48:12   223.7292  223.7292  232.21  222.7900  230.260   \n",
       "33   TSLA 2025-04-21 18:48:24   223.7292  223.7292  232.21  222.7900  230.260   \n",
       "34   TSLA 2025-04-21 18:48:32   223.7292  223.7292  232.21  222.7900  230.260   \n",
       "35   TSLA 2025-04-21 18:48:40   223.7292  223.7292  232.21  222.7900  230.260   \n",
       "\n",
       "    previous_close  volume     SMA_5       EMA_5  RSI_5  BB_Middle    BB_Std  \\\n",
       "36          196.98       0       NaN  190.595000    NaN        NaN       NaN   \n",
       "37          196.98       0       NaN  190.595000    NaN        NaN       NaN   \n",
       "38          196.98       0       NaN  190.588333    NaN        NaN       NaN   \n",
       "39          196.98       0       NaN  190.583889    NaN        NaN       NaN   \n",
       "40          196.98       0  190.5830  190.580926    0.0   190.5830  0.010954   \n",
       "..             ...     ...       ...         ...    ...        ...       ...   \n",
       "31          241.37       0  223.9032  223.872596    0.0   223.9032  0.097269   \n",
       "32          241.37       0  223.8597  223.824797    0.0   223.8597  0.119130   \n",
       "33          241.37       0  223.8162  223.792931    0.0   223.8162  0.119130   \n",
       "34          241.37       0  223.7727  223.771688    0.0   223.7727  0.097269   \n",
       "35          241.37       0  223.7292  223.757525    0.0   223.7292  0.000000   \n",
       "\n",
       "      BB_Upper    BB_Lower      MACD  MACD_Signal  OBV   ATR_5  \n",
       "36         NaN         NaN  0.000000     0.000000    0     NaN  \n",
       "37         NaN         NaN  0.000000     0.000000    0     NaN  \n",
       "38         NaN         NaN -0.001595    -0.000319    0     NaN  \n",
       "39         NaN         NaN -0.002827    -0.000821    0     NaN  \n",
       "40  190.604909  190.561091 -0.003760    -0.001409    0  3.9888  \n",
       "..         ...         ...       ...          ...  ...     ...  \n",
       "31  224.097738  223.708662 -0.062772    -0.048302    0  9.4200  \n",
       "32  224.097959  223.621441 -0.073984    -0.053439    0  9.4200  \n",
       "33  224.054459  223.577941 -0.081926    -0.059136    0  9.4200  \n",
       "34  223.967238  223.578162 -0.087214    -0.064752    0  9.4200  \n",
       "35  223.729200  223.729200 -0.090364    -0.069874    0  9.4200  \n",
       "\n",
       "[126 rows x 20 columns]"
      ]
     },
     "metadata": {},
     "output_type": "display_data"
    }
   ],
   "source": [
    "def add_technical_indicators(df):\n",
    "    df = df.sort_values(by=['ticker', 'date'])\n",
    "    \n",
    "    # calculating Simple Moving Average (SMA)\n",
    "    df['SMA_5'] = df.groupby('ticker')['close'].transform(lambda x: x.rolling(window=5).mean())\n",
    "\n",
    "    # calculating Exponential Moving Average (EMA)\n",
    "    df['EMA_5'] = df.groupby('ticker')['close'].transform(lambda x: x.ewm(span=5, adjust=False).mean())\n",
    "\n",
    "    # calculating Relative Strength Index (RSI)\n",
    "    def compute_rsi(series, period=5):\n",
    "        delta = series.diff()\n",
    "        gain = delta.where(delta > 0, 0.0)\n",
    "        loss = -delta.where(delta < 0, 0.0)\n",
    "        avg_gain = gain.rolling(window=period).mean()\n",
    "        avg_loss = loss.rolling(window=period).mean()\n",
    "        rs = avg_gain / avg_loss\n",
    "        return 100 - (100 / (1 + rs))\n",
    "    \n",
    "    df['RSI_5'] = df.groupby('ticker')['close'].transform(lambda x: compute_rsi(x))\n",
    "\n",
    "    # calculating Bollinger Bands\n",
    "    df['BB_Middle'] = df.groupby('ticker')['close'].transform(lambda x: x.rolling(window=5).mean())\n",
    "    df['BB_Std'] = df.groupby('ticker')['close'].transform(lambda x: x.rolling(window=5).std())\n",
    "    df['BB_Upper'] = df['BB_Middle'] + 2 * df['BB_Std']\n",
    "    df['BB_Lower'] = df['BB_Middle'] - 2 * df['BB_Std']\n",
    "\n",
    "\n",
    "    # calculating MACD\n",
    "    ema12 = df.groupby('ticker')['close'].transform(lambda x: x.ewm(span=12, adjust=False).mean())\n",
    "    ema26 = df.groupby('ticker')['close'].transform(lambda x: x.ewm(span=26, adjust=False).mean())\n",
    "    df['MACD'] = ema12 - ema26\n",
    "    df['MACD_Signal'] = df.groupby('ticker')['MACD'].transform(lambda x: x.ewm(span=9, adjust=False).mean())\n",
    "\n",
    "    # calclulating On Balance Volume (OBV)\n",
    "    def compute_obv(group):\n",
    "        obv = [0]\n",
    "        for i in range(1, len(group)):\n",
    "            if group['close'].iloc[i] > group['close'].iloc[i - 1]:\n",
    "                obv.append(obv[-1] + group['volume'].iloc[i])\n",
    "            elif group['close'].iloc[i] < group['close'].iloc[i - 1]:\n",
    "                obv.append(obv[-1] - group['volume'].iloc[i])\n",
    "            else:\n",
    "                obv.append(obv[-1])\n",
    "        return pd.Series(obv, index=group.index)\n",
    "\n",
    "    df['OBV'] = df.groupby('ticker')[['close', 'volume']].apply(compute_obv).reset_index(level=0, drop=True)\n",
    "\n",
    "    # calculating Average True Range (ATR)\n",
    "    df['prev_close'] = df.groupby('ticker')['close'].shift(1)\n",
    "    df['high_low'] = df['high'] - df['low']\n",
    "    df['high_prev_close'] = (df['high'] - df['prev_close']).abs()\n",
    "    df['low_prev_close'] = (df['low'] - df['prev_close']).abs()\n",
    "    df['TR'] = df[['high_low', 'high_prev_close', 'low_prev_close']].max(axis=1)\n",
    "    df['ATR_5'] = df.groupby('ticker')['TR'].transform(lambda x: x.rolling(window=5).mean())\n",
    "\n",
    "    # dropping the temporary columns we had \n",
    "    df.drop(columns=['prev_close', 'high_low', 'high_prev_close', 'low_prev_close', 'TR'], inplace=True)\n",
    "\n",
    "    return df\n",
    "\n",
    "df_cleaned_cass_features=add_technical_indicators(df_cassandracleaned)\n",
    "display(df_cleaned_cass_features)"
   ]
  },
  {
   "cell_type": "markdown",
   "metadata": {},
   "source": [
    "## real time data: final cleaning \n",
    "Feature engineering introduced new features some of witch now contain nans such as SMA5, RSI5, Bollinger Bonds(BB upper, lower,std,middle), and ATR5. However OBV is 0 since it relies on volume which is not provided by 0. We would need to drop the volume and OBV column since it does not provide us data. However for: SMA_5, RSI_5, BB_Upper/Lower/Std/middle, ATR_5 they all have rollin windows of 5 values. So its suppose to have have NaN values in the first rows. We are not removing outliers since time series stock data rely on drastic changes or spikes."
   ]
  },
  {
   "cell_type": "code",
   "execution_count": 126,
   "metadata": {},
   "outputs": [
    {
     "data": {
      "text/html": [
       "<div>\n",
       "<style scoped>\n",
       "    .dataframe tbody tr th:only-of-type {\n",
       "        vertical-align: middle;\n",
       "    }\n",
       "\n",
       "    .dataframe tbody tr th {\n",
       "        vertical-align: top;\n",
       "    }\n",
       "\n",
       "    .dataframe thead th {\n",
       "        text-align: right;\n",
       "    }\n",
       "</style>\n",
       "<table border=\"1\" class=\"dataframe\">\n",
       "  <thead>\n",
       "    <tr style=\"text-align: right;\">\n",
       "      <th></th>\n",
       "      <th>ticker</th>\n",
       "      <th>date</th>\n",
       "      <th>adj_close</th>\n",
       "      <th>close</th>\n",
       "      <th>high</th>\n",
       "      <th>low</th>\n",
       "      <th>open</th>\n",
       "      <th>previous_close</th>\n",
       "      <th>SMA_5</th>\n",
       "      <th>EMA_5</th>\n",
       "      <th>RSI_5</th>\n",
       "      <th>BB_Middle</th>\n",
       "      <th>BB_Std</th>\n",
       "      <th>BB_Upper</th>\n",
       "      <th>BB_Lower</th>\n",
       "      <th>MACD</th>\n",
       "      <th>MACD_Signal</th>\n",
       "      <th>ATR_5</th>\n",
       "    </tr>\n",
       "  </thead>\n",
       "  <tbody>\n",
       "    <tr>\n",
       "      <th>0</th>\n",
       "      <td>AAPL</td>\n",
       "      <td>2025-04-21 18:46:31</td>\n",
       "      <td>190.5750</td>\n",
       "      <td>190.5750</td>\n",
       "      <td>193.80</td>\n",
       "      <td>189.8112</td>\n",
       "      <td>193.265</td>\n",
       "      <td>196.98</td>\n",
       "      <td>190.5830</td>\n",
       "      <td>190.580926</td>\n",
       "      <td>0.0</td>\n",
       "      <td>190.5830</td>\n",
       "      <td>0.010954</td>\n",
       "      <td>190.604909</td>\n",
       "      <td>190.561091</td>\n",
       "      <td>-0.003760</td>\n",
       "      <td>-0.001409</td>\n",
       "      <td>3.9888</td>\n",
       "    </tr>\n",
       "    <tr>\n",
       "      <th>1</th>\n",
       "      <td>AAPL</td>\n",
       "      <td>2025-04-21 18:46:38</td>\n",
       "      <td>190.5750</td>\n",
       "      <td>190.5750</td>\n",
       "      <td>193.80</td>\n",
       "      <td>189.8112</td>\n",
       "      <td>193.265</td>\n",
       "      <td>196.98</td>\n",
       "      <td>190.5790</td>\n",
       "      <td>190.578951</td>\n",
       "      <td>0.0</td>\n",
       "      <td>190.5790</td>\n",
       "      <td>0.008944</td>\n",
       "      <td>190.596889</td>\n",
       "      <td>190.561111</td>\n",
       "      <td>-0.004448</td>\n",
       "      <td>-0.002017</td>\n",
       "      <td>3.9888</td>\n",
       "    </tr>\n",
       "    <tr>\n",
       "      <th>2</th>\n",
       "      <td>AAPL</td>\n",
       "      <td>2025-04-21 18:46:47</td>\n",
       "      <td>190.5750</td>\n",
       "      <td>190.5750</td>\n",
       "      <td>193.80</td>\n",
       "      <td>189.8112</td>\n",
       "      <td>193.265</td>\n",
       "      <td>196.98</td>\n",
       "      <td>190.5750</td>\n",
       "      <td>190.577634</td>\n",
       "      <td>0.0</td>\n",
       "      <td>190.5750</td>\n",
       "      <td>0.000000</td>\n",
       "      <td>190.575000</td>\n",
       "      <td>190.575000</td>\n",
       "      <td>-0.004937</td>\n",
       "      <td>-0.002601</td>\n",
       "      <td>3.9888</td>\n",
       "    </tr>\n",
       "    <tr>\n",
       "      <th>3</th>\n",
       "      <td>AAPL</td>\n",
       "      <td>2025-04-21 18:47:00</td>\n",
       "      <td>190.5750</td>\n",
       "      <td>190.5750</td>\n",
       "      <td>193.80</td>\n",
       "      <td>189.8112</td>\n",
       "      <td>193.265</td>\n",
       "      <td>196.98</td>\n",
       "      <td>190.5750</td>\n",
       "      <td>190.576756</td>\n",
       "      <td>0.0</td>\n",
       "      <td>190.5750</td>\n",
       "      <td>0.000000</td>\n",
       "      <td>190.575000</td>\n",
       "      <td>190.575000</td>\n",
       "      <td>-0.005263</td>\n",
       "      <td>-0.003133</td>\n",
       "      <td>3.9888</td>\n",
       "    </tr>\n",
       "    <tr>\n",
       "      <th>4</th>\n",
       "      <td>AAPL</td>\n",
       "      <td>2025-04-21 18:47:08</td>\n",
       "      <td>190.4600</td>\n",
       "      <td>190.4600</td>\n",
       "      <td>193.80</td>\n",
       "      <td>189.8112</td>\n",
       "      <td>193.265</td>\n",
       "      <td>196.98</td>\n",
       "      <td>190.5520</td>\n",
       "      <td>190.537837</td>\n",
       "      <td>0.0</td>\n",
       "      <td>190.5520</td>\n",
       "      <td>0.051430</td>\n",
       "      <td>190.654859</td>\n",
       "      <td>190.449141</td>\n",
       "      <td>-0.014632</td>\n",
       "      <td>-0.005433</td>\n",
       "      <td>3.9888</td>\n",
       "    </tr>\n",
       "    <tr>\n",
       "      <th>...</th>\n",
       "      <td>...</td>\n",
       "      <td>...</td>\n",
       "      <td>...</td>\n",
       "      <td>...</td>\n",
       "      <td>...</td>\n",
       "      <td>...</td>\n",
       "      <td>...</td>\n",
       "      <td>...</td>\n",
       "      <td>...</td>\n",
       "      <td>...</td>\n",
       "      <td>...</td>\n",
       "      <td>...</td>\n",
       "      <td>...</td>\n",
       "      <td>...</td>\n",
       "      <td>...</td>\n",
       "      <td>...</td>\n",
       "      <td>...</td>\n",
       "      <td>...</td>\n",
       "    </tr>\n",
       "    <tr>\n",
       "      <th>117</th>\n",
       "      <td>TSLA</td>\n",
       "      <td>2025-04-21 18:48:04</td>\n",
       "      <td>223.7292</td>\n",
       "      <td>223.7292</td>\n",
       "      <td>232.21</td>\n",
       "      <td>222.7900</td>\n",
       "      <td>230.260</td>\n",
       "      <td>241.37</td>\n",
       "      <td>223.9032</td>\n",
       "      <td>223.872596</td>\n",
       "      <td>0.0</td>\n",
       "      <td>223.9032</td>\n",
       "      <td>0.097269</td>\n",
       "      <td>224.097738</td>\n",
       "      <td>223.708662</td>\n",
       "      <td>-0.062772</td>\n",
       "      <td>-0.048302</td>\n",
       "      <td>9.4200</td>\n",
       "    </tr>\n",
       "    <tr>\n",
       "      <th>118</th>\n",
       "      <td>TSLA</td>\n",
       "      <td>2025-04-21 18:48:12</td>\n",
       "      <td>223.7292</td>\n",
       "      <td>223.7292</td>\n",
       "      <td>232.21</td>\n",
       "      <td>222.7900</td>\n",
       "      <td>230.260</td>\n",
       "      <td>241.37</td>\n",
       "      <td>223.8597</td>\n",
       "      <td>223.824797</td>\n",
       "      <td>0.0</td>\n",
       "      <td>223.8597</td>\n",
       "      <td>0.119130</td>\n",
       "      <td>224.097959</td>\n",
       "      <td>223.621441</td>\n",
       "      <td>-0.073984</td>\n",
       "      <td>-0.053439</td>\n",
       "      <td>9.4200</td>\n",
       "    </tr>\n",
       "    <tr>\n",
       "      <th>119</th>\n",
       "      <td>TSLA</td>\n",
       "      <td>2025-04-21 18:48:24</td>\n",
       "      <td>223.7292</td>\n",
       "      <td>223.7292</td>\n",
       "      <td>232.21</td>\n",
       "      <td>222.7900</td>\n",
       "      <td>230.260</td>\n",
       "      <td>241.37</td>\n",
       "      <td>223.8162</td>\n",
       "      <td>223.792931</td>\n",
       "      <td>0.0</td>\n",
       "      <td>223.8162</td>\n",
       "      <td>0.119130</td>\n",
       "      <td>224.054459</td>\n",
       "      <td>223.577941</td>\n",
       "      <td>-0.081926</td>\n",
       "      <td>-0.059136</td>\n",
       "      <td>9.4200</td>\n",
       "    </tr>\n",
       "    <tr>\n",
       "      <th>120</th>\n",
       "      <td>TSLA</td>\n",
       "      <td>2025-04-21 18:48:32</td>\n",
       "      <td>223.7292</td>\n",
       "      <td>223.7292</td>\n",
       "      <td>232.21</td>\n",
       "      <td>222.7900</td>\n",
       "      <td>230.260</td>\n",
       "      <td>241.37</td>\n",
       "      <td>223.7727</td>\n",
       "      <td>223.771688</td>\n",
       "      <td>0.0</td>\n",
       "      <td>223.7727</td>\n",
       "      <td>0.097269</td>\n",
       "      <td>223.967238</td>\n",
       "      <td>223.578162</td>\n",
       "      <td>-0.087214</td>\n",
       "      <td>-0.064752</td>\n",
       "      <td>9.4200</td>\n",
       "    </tr>\n",
       "    <tr>\n",
       "      <th>121</th>\n",
       "      <td>TSLA</td>\n",
       "      <td>2025-04-21 18:48:40</td>\n",
       "      <td>223.7292</td>\n",
       "      <td>223.7292</td>\n",
       "      <td>232.21</td>\n",
       "      <td>222.7900</td>\n",
       "      <td>230.260</td>\n",
       "      <td>241.37</td>\n",
       "      <td>223.7292</td>\n",
       "      <td>223.757525</td>\n",
       "      <td>0.0</td>\n",
       "      <td>223.7292</td>\n",
       "      <td>0.000000</td>\n",
       "      <td>223.729200</td>\n",
       "      <td>223.729200</td>\n",
       "      <td>-0.090364</td>\n",
       "      <td>-0.069874</td>\n",
       "      <td>9.4200</td>\n",
       "    </tr>\n",
       "  </tbody>\n",
       "</table>\n",
       "<p>122 rows × 18 columns</p>\n",
       "</div>"
      ],
      "text/plain": [
       "    ticker                date  adj_close     close    high       low  \\\n",
       "0     AAPL 2025-04-21 18:46:31   190.5750  190.5750  193.80  189.8112   \n",
       "1     AAPL 2025-04-21 18:46:38   190.5750  190.5750  193.80  189.8112   \n",
       "2     AAPL 2025-04-21 18:46:47   190.5750  190.5750  193.80  189.8112   \n",
       "3     AAPL 2025-04-21 18:47:00   190.5750  190.5750  193.80  189.8112   \n",
       "4     AAPL 2025-04-21 18:47:08   190.4600  190.4600  193.80  189.8112   \n",
       "..     ...                 ...        ...       ...     ...       ...   \n",
       "117   TSLA 2025-04-21 18:48:04   223.7292  223.7292  232.21  222.7900   \n",
       "118   TSLA 2025-04-21 18:48:12   223.7292  223.7292  232.21  222.7900   \n",
       "119   TSLA 2025-04-21 18:48:24   223.7292  223.7292  232.21  222.7900   \n",
       "120   TSLA 2025-04-21 18:48:32   223.7292  223.7292  232.21  222.7900   \n",
       "121   TSLA 2025-04-21 18:48:40   223.7292  223.7292  232.21  222.7900   \n",
       "\n",
       "        open  previous_close     SMA_5       EMA_5  RSI_5  BB_Middle  \\\n",
       "0    193.265          196.98  190.5830  190.580926    0.0   190.5830   \n",
       "1    193.265          196.98  190.5790  190.578951    0.0   190.5790   \n",
       "2    193.265          196.98  190.5750  190.577634    0.0   190.5750   \n",
       "3    193.265          196.98  190.5750  190.576756    0.0   190.5750   \n",
       "4    193.265          196.98  190.5520  190.537837    0.0   190.5520   \n",
       "..       ...             ...       ...         ...    ...        ...   \n",
       "117  230.260          241.37  223.9032  223.872596    0.0   223.9032   \n",
       "118  230.260          241.37  223.8597  223.824797    0.0   223.8597   \n",
       "119  230.260          241.37  223.8162  223.792931    0.0   223.8162   \n",
       "120  230.260          241.37  223.7727  223.771688    0.0   223.7727   \n",
       "121  230.260          241.37  223.7292  223.757525    0.0   223.7292   \n",
       "\n",
       "       BB_Std    BB_Upper    BB_Lower      MACD  MACD_Signal   ATR_5  \n",
       "0    0.010954  190.604909  190.561091 -0.003760    -0.001409  3.9888  \n",
       "1    0.008944  190.596889  190.561111 -0.004448    -0.002017  3.9888  \n",
       "2    0.000000  190.575000  190.575000 -0.004937    -0.002601  3.9888  \n",
       "3    0.000000  190.575000  190.575000 -0.005263    -0.003133  3.9888  \n",
       "4    0.051430  190.654859  190.449141 -0.014632    -0.005433  3.9888  \n",
       "..        ...         ...         ...       ...          ...     ...  \n",
       "117  0.097269  224.097738  223.708662 -0.062772    -0.048302  9.4200  \n",
       "118  0.119130  224.097959  223.621441 -0.073984    -0.053439  9.4200  \n",
       "119  0.119130  224.054459  223.577941 -0.081926    -0.059136  9.4200  \n",
       "120  0.097269  223.967238  223.578162 -0.087214    -0.064752  9.4200  \n",
       "121  0.000000  223.729200  223.729200 -0.090364    -0.069874  9.4200  \n",
       "\n",
       "[122 rows x 18 columns]"
      ]
     },
     "metadata": {},
     "output_type": "display_data"
    },
    {
     "name": "stdout",
     "output_type": "stream",
     "text": [
      "Which columns still have null?:\n",
      "ticker            0\n",
      "date              0\n",
      "adj_close         0\n",
      "close             0\n",
      "high              0\n",
      "low               0\n",
      "open              0\n",
      "previous_close    0\n",
      "SMA_5             0\n",
      "EMA_5             0\n",
      "RSI_5             0\n",
      "BB_Middle         0\n",
      "BB_Std            0\n",
      "BB_Upper          0\n",
      "BB_Lower          0\n",
      "MACD              0\n",
      "MACD_Signal       0\n",
      "ATR_5             0\n",
      "dtype: int64\n"
     ]
    }
   ],
   "source": [
    "def final_clean_realtime(df):\n",
    "    # first droppoing OBV and volume since it is not available in finnhub\n",
    "    df = df.drop(columns=['volume', 'OBV'])\n",
    "\n",
    "    #to remedy the remaining nulls we are applying forward fill \n",
    "    rolling_cols = ['SMA_5', 'EMA_5', 'RSI_5', 'BB_Middle', 'BB_Std', 'BB_Upper', 'BB_Lower', 'ATR_5']\n",
    "    df[rolling_cols] = df[rolling_cols].ffill()\n",
    "\n",
    "    #dropping the remaining nans that are not able to be forward filled\n",
    "    df = df.dropna(subset=rolling_cols).reset_index(drop=True)\n",
    "\n",
    "    return df\n",
    "\n",
    "df_cass_final = final_clean_realtime(df_cleaned_cass_features)\n",
    "display(df_cass_final)\n",
    "print('Which columns still have null?:')\n",
    "print(df_cass_final.isnull().sum())"
   ]
  },
  {
   "cell_type": "markdown",
   "metadata": {},
   "source": [
    "### Analysis: We should keep NaNs during modeling prep later on since the remaining nans are only from rolling basis which is needed for our rolling features such as (SMA_5RSI_5,BB_Middle,BB_Std,BB_Upper,BB_Lower,ATR_5) to formulate a data point.\n",
    "\n",
    "### We should drop or fill NaNs only for visualization, or use .dropna() just before plotting specific columns that require to have full rows without nans"
   ]
  },
  {
   "cell_type": "markdown",
   "metadata": {},
   "source": [
    "## Exploratory Data Analysis"
   ]
  },
  {
   "cell_type": "code",
   "execution_count": 127,
   "metadata": {},
   "outputs": [
    {
     "data": {
      "application/vnd.plotly.v1+json": {
       "config": {
        "plotlyServerURL": "https://plot.ly"
       },
       "data": [
        {
         "legendgroup": "AAPL",
         "line": {
          "color": "blue"
         },
         "mode": "lines+markers",
         "name": "Close",
         "showlegend": true,
         "type": "scatter",
         "x": [
          "2025-04-21T18:46:31.000000000",
          "2025-04-21T18:46:38.000000000",
          "2025-04-21T18:46:47.000000000",
          "2025-04-21T18:47:00.000000000",
          "2025-04-21T18:47:08.000000000",
          "2025-04-21T18:47:21.000000000",
          "2025-04-21T18:47:29.000000000",
          "2025-04-21T18:47:40.000000000",
          "2025-04-21T18:47:51.000000000",
          "2025-04-21T18:47:59.000000000",
          "2025-04-21T18:48:08.000000000",
          "2025-04-21T18:48:23.000000000",
          "2025-04-21T18:48:32.000000000",
          "2025-04-21T18:48:40.000000000"
         ],
         "xaxis": "x",
         "y": {
          "bdata": "ZmZmZmbSZ0BmZmZmZtJnQGZmZmZm0mdAZmZmZmbSZ0AfhetRuM5nQB+F61G4zmdAH4XrUbjOZ0AfhetRuM5nQB+F61G4zmdAH4XrUbjOZ0AUrkfhesxnQBSuR+F6zGdAFK5H4XrMZ0AUrkfhesxnQA==",
          "dtype": "f8"
         },
         "yaxis": "y"
        },
        {
         "legendgroup": "AAPL",
         "line": {
          "color": "orange",
          "dash": "dash"
         },
         "mode": "lines+markers",
         "name": "SMA_5",
         "showlegend": true,
         "type": "scatter",
         "x": [
          "2025-04-21T18:46:31.000000000",
          "2025-04-21T18:46:38.000000000",
          "2025-04-21T18:46:47.000000000",
          "2025-04-21T18:47:00.000000000",
          "2025-04-21T18:47:08.000000000",
          "2025-04-21T18:47:21.000000000",
          "2025-04-21T18:47:29.000000000",
          "2025-04-21T18:47:40.000000000",
          "2025-04-21T18:47:51.000000000",
          "2025-04-21T18:47:59.000000000",
          "2025-04-21T18:48:08.000000000",
          "2025-04-21T18:48:23.000000000",
          "2025-04-21T18:48:32.000000000",
          "2025-04-21T18:48:40.000000000"
         ],
         "xaxis": "x",
         "y": {
          "bdata": "LbKd76fSZ0BKDAIrh9JnQGZmZmZm0mdAZmZmZmbSZ0CKbOf7qdFnQLByaJHt0GdA1XjpJjHQZ0D6fmq8dM9nQB+F61G4zmdAH4XrUbjOZ0CDwMqhRc5nQOf7qfHSzWdATDeJQWDNZ0CwcmiR7cxnQA==",
          "dtype": "f8"
         },
         "yaxis": "y"
        },
        {
         "legendgroup": "AAPL",
         "line": {
          "color": "green",
          "dash": "dot"
         },
         "mode": "lines+markers",
         "name": "EMA_5",
         "showlegend": true,
         "type": "scatter",
         "x": [
          "2025-04-21T18:46:31.000000000",
          "2025-04-21T18:46:38.000000000",
          "2025-04-21T18:46:47.000000000",
          "2025-04-21T18:47:00.000000000",
          "2025-04-21T18:47:08.000000000",
          "2025-04-21T18:47:21.000000000",
          "2025-04-21T18:47:29.000000000",
          "2025-04-21T18:47:40.000000000",
          "2025-04-21T18:47:51.000000000",
          "2025-04-21T18:47:59.000000000",
          "2025-04-21T18:48:08.000000000",
          "2025-04-21T18:48:23.000000000",
          "2025-04-21T18:48:32.000000000",
          "2025-04-21T18:48:40.000000000"
         ],
         "xaxis": "x",
         "y": {
          "bdata": "BKj38ZbSZ0B653HDhtJnQB5nw/l70mdA4WakyHTSZ0BLxmb2NdFnQJKwPWph0GdAF6J3t9PPZ0DF7UhAdc9nQOPKKUY2z2dA9wgVSgzPZ0Cs6iUnMc5nQHrW2w+fzWdAA8n/qj3NZ0AJwBe9/MxnQA==",
          "dtype": "f8"
         },
         "yaxis": "y"
        },
        {
         "legendgroup": "MSFT",
         "line": {
          "color": "blue"
         },
         "mode": "lines+markers",
         "name": "Close",
         "showlegend": false,
         "type": "scatter",
         "x": [
          "2025-04-21T18:45:45.000000000",
          "2025-04-21T18:46:00.000000000",
          "2025-04-21T18:46:08.000000000",
          "2025-04-21T18:46:17.000000000",
          "2025-04-21T18:46:29.000000000",
          "2025-04-21T18:46:39.000000000",
          "2025-04-21T18:46:47.000000000",
          "2025-04-21T18:47:00.000000000",
          "2025-04-21T18:47:08.000000000",
          "2025-04-21T18:47:15.000000000",
          "2025-04-21T18:47:28.000000000",
          "2025-04-21T18:47:40.000000000",
          "2025-04-21T18:47:51.000000000",
          "2025-04-21T18:47:57.000000000",
          "2025-04-21T18:48:12.000000000",
          "2025-04-21T18:48:20.000000000",
          "2025-04-21T18:48:32.000000000",
          "2025-04-21T18:48:40.000000000"
         ],
         "xaxis": "x2",
         "y": {
          "bdata": "UrgehetJdkBSuB6F60l2QOxRuB6FSXZA7FG4HoVJdkDsUbgehUl2QOxRuB6FSXZA7FG4HoVJdkDsUbgehUl2QDMzMzMzR3ZAMzMzMzNHdkAzMzMzM0d2QDMzMzMzR3ZAMzMzMzNHdkAzMzMzM0d2QEjhehSuRXZASOF6FK5FdkBI4XoUrkV2QEjhehSuRXZA",
          "dtype": "f8"
         },
         "yaxis": "y2"
        },
        {
         "legendgroup": "MSFT",
         "line": {
          "color": "orange",
          "dash": "dash"
         },
         "mode": "lines+markers",
         "name": "SMA_5",
         "showlegend": false,
         "type": "scatter",
         "x": [
          "2025-04-21T18:45:45.000000000",
          "2025-04-21T18:46:00.000000000",
          "2025-04-21T18:46:08.000000000",
          "2025-04-21T18:46:17.000000000",
          "2025-04-21T18:46:29.000000000",
          "2025-04-21T18:46:39.000000000",
          "2025-04-21T18:46:47.000000000",
          "2025-04-21T18:47:00.000000000",
          "2025-04-21T18:47:08.000000000",
          "2025-04-21T18:47:15.000000000",
          "2025-04-21T18:47:28.000000000",
          "2025-04-21T18:47:40.000000000",
          "2025-04-21T18:47:51.000000000",
          "2025-04-21T18:47:57.000000000",
          "2025-04-21T18:48:12.000000000",
          "2025-04-21T18:48:20.000000000",
          "2025-04-21T18:48:32.000000000",
          "2025-04-21T18:48:40.000000000"
         ],
         "xaxis": "x2",
         "y": {
          "bdata": "mpmZmZkrfkCamZmZmSt+QJqZmZmZK35AmpmZmZkrfkBI4XoUrkl2QJqZmZmZSXZA7FG4HoVJdkDsUbgehUl2QJQYBFYOSXZAO99PjZdIdkDjpZvEIEh2QIts5/upR3ZAMzMzMzNHdkAzMzMzM0d2QDiJQWDlRnZAO99PjZdGdkBANV66SUZ2QEOLbOf7RXZA",
          "dtype": "f8"
         },
         "yaxis": "y2"
        },
        {
         "legendgroup": "MSFT",
         "line": {
          "color": "green",
          "dash": "dot"
         },
         "mode": "lines+markers",
         "name": "EMA_5",
         "showlegend": false,
         "type": "scatter",
         "x": [
          "2025-04-21T18:45:45.000000000",
          "2025-04-21T18:46:00.000000000",
          "2025-04-21T18:46:08.000000000",
          "2025-04-21T18:46:17.000000000",
          "2025-04-21T18:46:29.000000000",
          "2025-04-21T18:46:39.000000000",
          "2025-04-21T18:46:47.000000000",
          "2025-04-21T18:47:00.000000000",
          "2025-04-21T18:47:08.000000000",
          "2025-04-21T18:47:15.000000000",
          "2025-04-21T18:47:28.000000000",
          "2025-04-21T18:47:40.000000000",
          "2025-04-21T18:47:51.000000000",
          "2025-04-21T18:47:57.000000000",
          "2025-04-21T18:48:12.000000000",
          "2025-04-21T18:48:20.000000000",
          "2025-04-21T18:48:32.000000000",
          "2025-04-21T18:48:40.000000000"
         ],
         "xaxis": "x2",
         "y": {
          "bdata": "UrgehetJdkBSuB6F60l2QDCW/GLJSXZAb3+QobJJdkDuGvN1o0l2QJiC31iZSXZAX3LSmpJJdkA5Eh8cjkl2QI1y0CPFSHZAb13xKD9IdkBbTwfX5Ud2QKPwFUuqR3ZA0wZ1mIJHdkCeFV8haEd2QNeuvcfURnZAqL/8i3JGdkCIddEOMUZ2QMjuCWYFRnZA",
          "dtype": "f8"
         },
         "yaxis": "y2"
        },
        {
         "legendgroup": "AMZN",
         "line": {
          "color": "blue"
         },
         "mode": "lines+markers",
         "name": "Close",
         "showlegend": false,
         "type": "scatter",
         "x": [
          "2025-04-21T18:45:44.000000000",
          "2025-04-21T18:46:00.000000000",
          "2025-04-21T18:46:08.000000000",
          "2025-04-21T18:46:18.000000000",
          "2025-04-21T18:46:31.000000000",
          "2025-04-21T18:46:39.000000000",
          "2025-04-21T18:46:48.000000000",
          "2025-04-21T18:47:00.000000000",
          "2025-04-21T18:47:09.000000000",
          "2025-04-21T18:47:21.000000000",
          "2025-04-21T18:47:30.000000000",
          "2025-04-21T18:47:43.000000000",
          "2025-04-21T18:47:51.000000000",
          "2025-04-21T18:47:58.000000000",
          "2025-04-21T18:48:12.000000000",
          "2025-04-21T18:48:23.000000000",
          "2025-04-21T18:48:32.000000000",
          "2025-04-21T18:48:40.000000000"
         ],
         "xaxis": "x3",
         "y": {
          "bdata": "H4XrUbi2ZEAfhetRuLZkQHE9CtejuGRAcT0K16O4ZEBxPQrXo7hkQHE9CtejuGRAcT0K16O4ZEBxPQrXo7hkQGZmZmZmtmRAZmZmZma2ZEBmZmZmZrZkQGZmZmZmtmRAZmZmZma2ZEBmZmZmZrZkQArXo3A9smRACtejcD2yZEAK16NwPbJkQArXo3A9smRA",
          "dtype": "f8"
         },
         "yaxis": "y3"
        },
        {
         "legendgroup": "AMZN",
         "line": {
          "color": "orange",
          "dash": "dash"
         },
         "mode": "lines+markers",
         "name": "SMA_5",
         "showlegend": false,
         "type": "scatter",
         "x": [
          "2025-04-21T18:45:44.000000000",
          "2025-04-21T18:46:00.000000000",
          "2025-04-21T18:46:08.000000000",
          "2025-04-21T18:46:18.000000000",
          "2025-04-21T18:46:31.000000000",
          "2025-04-21T18:46:39.000000000",
          "2025-04-21T18:46:48.000000000",
          "2025-04-21T18:47:00.000000000",
          "2025-04-21T18:47:09.000000000",
          "2025-04-21T18:47:21.000000000",
          "2025-04-21T18:47:30.000000000",
          "2025-04-21T18:47:43.000000000",
          "2025-04-21T18:47:51.000000000",
          "2025-04-21T18:47:58.000000000",
          "2025-04-21T18:48:12.000000000",
          "2025-04-21T18:48:23.000000000",
          "2025-04-21T18:48:32.000000000",
          "2025-04-21T18:48:40.000000000"
         ],
         "xaxis": "x3",
         "y": {
          "bdata": "sHJoke3MZ0CwcmiR7cxnQLByaJHtzGdAsHJoke3MZ0AdWmQ737dkQMZLN4lBuGRAcT0K16O4ZEBxPQrXo7hkQNV46SYxuGRAOrTIdr63ZECe76fGS7dkQAIrhxbZtmRAZmZmZma2ZEBmZmZmZrZkQCCwcmiRtWRA2vl+ary0ZECVQ4ts57NkQE+Nl24Ss2RA",
          "dtype": "f8"
         },
         "yaxis": "y3"
        },
        {
         "legendgroup": "AMZN",
         "line": {
          "color": "green",
          "dash": "dot"
         },
         "mode": "lines+markers",
         "name": "EMA_5",
         "showlegend": false,
         "type": "scatter",
         "x": [
          "2025-04-21T18:45:44.000000000",
          "2025-04-21T18:46:00.000000000",
          "2025-04-21T18:46:08.000000000",
          "2025-04-21T18:46:18.000000000",
          "2025-04-21T18:46:31.000000000",
          "2025-04-21T18:46:39.000000000",
          "2025-04-21T18:46:48.000000000",
          "2025-04-21T18:47:00.000000000",
          "2025-04-21T18:47:09.000000000",
          "2025-04-21T18:47:21.000000000",
          "2025-04-21T18:47:30.000000000",
          "2025-04-21T18:47:43.000000000",
          "2025-04-21T18:47:51.000000000",
          "2025-04-21T18:47:58.000000000",
          "2025-04-21T18:48:12.000000000",
          "2025-04-21T18:48:23.000000000",
          "2025-04-21T18:48:32.000000000",
          "2025-04-21T18:48:40.000000000"
         ],
         "xaxis": "x3",
         "y": {
          "bdata": "H4XrUbi2ZEAfhetRuLZkQJDC9Shct2RAMZb8Ysm3ZECceFY0ErhkQDm6579CuGRATDvzHGO4ZEADPFCweLhkQCRKAu3Ht2RAOv54FVK3ZED0IMiFA7dkQMXi/CXPtmRA+2N1O6y2ZEDKZHD0lLZkQIo1LHMitWRAChZUciu0ZEBgVhnHhrNkQJnWnP8Ys2RA",
          "dtype": "f8"
         },
         "yaxis": "y3"
        },
        {
         "legendgroup": "GOOGL",
         "line": {
          "color": "blue"
         },
         "mode": "lines+markers",
         "name": "Close",
         "showlegend": false,
         "type": "scatter",
         "x": [
          "2025-04-21T18:45:45.000000000",
          "2025-04-21T18:45:59.000000000",
          "2025-04-21T18:46:06.000000000",
          "2025-04-21T18:46:17.000000000",
          "2025-04-21T18:46:31.000000000",
          "2025-04-21T18:46:39.000000000",
          "2025-04-21T18:46:46.000000000",
          "2025-04-21T18:47:00.000000000",
          "2025-04-21T18:47:08.000000000",
          "2025-04-21T18:47:21.000000000",
          "2025-04-21T18:47:28.000000000",
          "2025-04-21T18:47:41.000000000",
          "2025-04-21T18:47:50.000000000",
          "2025-04-21T18:47:56.000000000",
          "2025-04-21T18:48:11.000000000",
          "2025-04-21T18:48:24.000000000",
          "2025-04-21T18:48:32.000000000",
          "2025-04-21T18:48:40.000000000"
         ],
         "xaxis": "x4",
         "y": {
          "bdata": "MzMzMzNLYkAzMzMzM0tiQDMzMzMzS2JAMzMzMzNLYkAzMzMzM0tiQDMzMzMzS2JAMzMzMzNLYkAzMzMzM0tiQMP1KFyPSmJAw/UoXI9KYkDD9Shcj0piQMP1KFyPSmJAw/UoXI9KYkDD9Shcj0piQBiV1AloSGJAGJXUCWhIYkAYldQJaEhiQBiV1AloSGJA",
          "dtype": "f8"
         },
         "yaxis": "y4"
        },
        {
         "legendgroup": "GOOGL",
         "line": {
          "color": "orange",
          "dash": "dash"
         },
         "mode": "lines+markers",
         "name": "SMA_5",
         "showlegend": false,
         "type": "scatter",
         "x": [
          "2025-04-21T18:45:45.000000000",
          "2025-04-21T18:45:59.000000000",
          "2025-04-21T18:46:06.000000000",
          "2025-04-21T18:46:17.000000000",
          "2025-04-21T18:46:31.000000000",
          "2025-04-21T18:46:39.000000000",
          "2025-04-21T18:46:46.000000000",
          "2025-04-21T18:47:00.000000000",
          "2025-04-21T18:47:08.000000000",
          "2025-04-21T18:47:21.000000000",
          "2025-04-21T18:47:28.000000000",
          "2025-04-21T18:47:41.000000000",
          "2025-04-21T18:47:50.000000000",
          "2025-04-21T18:47:56.000000000",
          "2025-04-21T18:48:11.000000000",
          "2025-04-21T18:48:24.000000000",
          "2025-04-21T18:48:32.000000000",
          "2025-04-21T18:48:40.000000000"
         ],
         "xaxis": "x4",
         "y": {
          "bdata": "T42XbhKzZEBPjZduErNkQE+Nl24Ss2RAT42XbhKzZEAzMzMzM0tiQDMzMzMzS2JAMzMzMzNLYkAzMzMzM0tiQFCNl24SS2JAbef7qfFKYkCKQWDl0EpiQKabxCCwSmJAw/UoXI9KYkDD9Shcj0piQAh8fhghSmJASwLU1LJJYkCQiCmRREliQNMOf03WSGJA",
          "dtype": "f8"
         },
         "yaxis": "y4"
        },
        {
         "legendgroup": "GOOGL",
         "line": {
          "color": "green",
          "dash": "dot"
         },
         "mode": "lines+markers",
         "name": "EMA_5",
         "showlegend": false,
         "type": "scatter",
         "x": [
          "2025-04-21T18:45:45.000000000",
          "2025-04-21T18:45:59.000000000",
          "2025-04-21T18:46:06.000000000",
          "2025-04-21T18:46:17.000000000",
          "2025-04-21T18:46:31.000000000",
          "2025-04-21T18:46:39.000000000",
          "2025-04-21T18:46:46.000000000",
          "2025-04-21T18:47:00.000000000",
          "2025-04-21T18:47:08.000000000",
          "2025-04-21T18:47:21.000000000",
          "2025-04-21T18:47:28.000000000",
          "2025-04-21T18:47:41.000000000",
          "2025-04-21T18:47:50.000000000",
          "2025-04-21T18:47:56.000000000",
          "2025-04-21T18:48:11.000000000",
          "2025-04-21T18:48:24.000000000",
          "2025-04-21T18:48:32.000000000",
          "2025-04-21T18:48:40.000000000"
         ],
         "xaxis": "x4",
         "y": {
          "bdata": "MzMzMzNLYkAzMzMzM0tiQDMzMzMzS2JAMzMzMzNLYkAzMzMzM0tiQDMzMzMzS2JAMzMzMzNLYkAzMzMzM0tiQGPJL5b8SmJALtiCLdhKYkBgN7rnv0piQNd2NLmvSmJAe/aF76RKYkA+9ma+nUpiQNzV4CzhSWJA8GqHdmNJYkCoI6GnD0liQCP0XMjXSGJA",
          "dtype": "f8"
         },
         "yaxis": "y4"
        },
        {
         "legendgroup": "META",
         "line": {
          "color": "blue"
         },
         "mode": "lines+markers",
         "name": "Close",
         "showlegend": false,
         "type": "scatter",
         "x": [
          "2025-04-21T18:45:45.000000000",
          "2025-04-21T18:45:59.000000000",
          "2025-04-21T18:46:08.000000000",
          "2025-04-21T18:46:16.000000000",
          "2025-04-21T18:46:31.000000000",
          "2025-04-21T18:46:39.000000000",
          "2025-04-21T18:46:48.000000000",
          "2025-04-21T18:47:00.000000000",
          "2025-04-21T18:47:08.000000000",
          "2025-04-21T18:47:21.000000000",
          "2025-04-21T18:47:25.000000000",
          "2025-04-21T18:47:39.000000000",
          "2025-04-21T18:47:51.000000000",
          "2025-04-21T18:48:04.000000000",
          "2025-04-21T18:48:06.000000000",
          "2025-04-21T18:48:23.000000000",
          "2025-04-21T18:48:31.000000000",
          "2025-04-21T18:48:33.000000000"
         ],
         "xaxis": "x5",
         "y": {
          "bdata": "AAAAAAAwfkAAAAAAADB+QB+F61G4OH5AH4XrUbg4fkAfhetRuDh+QB+F61G4OH5AH4XrUbg4fkAfhetRuDh+QPYoXI/CNX5A9ihcj8I1fkD2KFyPwjV+QPYoXI/CNX5A9ihcj8I1fkCamZmZmSt+QJqZmZmZK35AmpmZmZkrfkCamZmZmSt+QJqZmZmZK35A",
          "dtype": "f8"
         },
         "yaxis": "y5"
        },
        {
         "legendgroup": "META",
         "line": {
          "color": "orange",
          "dash": "dash"
         },
         "mode": "lines+markers",
         "name": "SMA_5",
         "showlegend": false,
         "type": "scatter",
         "x": [
          "2025-04-21T18:45:45.000000000",
          "2025-04-21T18:45:59.000000000",
          "2025-04-21T18:46:08.000000000",
          "2025-04-21T18:46:16.000000000",
          "2025-04-21T18:46:31.000000000",
          "2025-04-21T18:46:39.000000000",
          "2025-04-21T18:46:48.000000000",
          "2025-04-21T18:47:00.000000000",
          "2025-04-21T18:47:08.000000000",
          "2025-04-21T18:47:21.000000000",
          "2025-04-21T18:47:25.000000000",
          "2025-04-21T18:47:39.000000000",
          "2025-04-21T18:47:51.000000000",
          "2025-04-21T18:48:04.000000000",
          "2025-04-21T18:48:06.000000000",
          "2025-04-21T18:48:23.000000000",
          "2025-04-21T18:48:31.000000000",
          "2025-04-21T18:48:33.000000000"
         ],
         "xaxis": "x5",
         "y": {
          "bdata": "0w5/TdZIYkDTDn9N1khiQNMOf03WSGJA0w5/TdZIYkCtHFpkOzV+QObQItv5Nn5AH4XrUbg4fkAfhetRuDh+QOOlm8QgOH5AqMZLN4k3fkBt5/up8TZ+QDIIrBxaNn5A9ihcj8I1fkB9PzVeujN+QANWDi2yMX5Ai2zn+6kvfkATg8DKoS1+QJqZmZmZK35A",
          "dtype": "f8"
         },
         "yaxis": "y5"
        },
        {
         "legendgroup": "META",
         "line": {
          "color": "green",
          "dash": "dot"
         },
         "mode": "lines+markers",
         "name": "EMA_5",
         "showlegend": false,
         "type": "scatter",
         "x": [
          "2025-04-21T18:45:45.000000000",
          "2025-04-21T18:45:59.000000000",
          "2025-04-21T18:46:08.000000000",
          "2025-04-21T18:46:16.000000000",
          "2025-04-21T18:46:31.000000000",
          "2025-04-21T18:46:39.000000000",
          "2025-04-21T18:46:48.000000000",
          "2025-04-21T18:47:00.000000000",
          "2025-04-21T18:47:08.000000000",
          "2025-04-21T18:47:21.000000000",
          "2025-04-21T18:47:25.000000000",
          "2025-04-21T18:47:39.000000000",
          "2025-04-21T18:47:51.000000000",
          "2025-04-21T18:48:04.000000000",
          "2025-04-21T18:48:06.000000000",
          "2025-04-21T18:48:23.000000000",
          "2025-04-21T18:48:31.000000000",
          "2025-04-21T18:48:33.000000000"
         ],
         "xaxis": "x5",
         "y": {
          "bdata": "AAAAAAAwfkAAAAAAADB+QLaBThvoMn5AL9iCLdg0fkAqZ1DkIjZ+QHzGLl7/Nn5AXlsYWpI3fkCfvl5X9Dd+QGc3sxQ5N35AlzKWPbw2fkAN2oIDaTZ+QFv0dYcxNn5A5QUYigw2fkB3jJjkkDJ+QNiQQ3Y+MH5AxJO1LLIufkBhQKz7qS1+QB9e+9r5LH5A",
          "dtype": "f8"
         },
         "yaxis": "y5"
        },
        {
         "legendgroup": "TSLA",
         "line": {
          "color": "blue"
         },
         "mode": "lines+markers",
         "name": "Close",
         "showlegend": false,
         "type": "scatter",
         "x": [
          "2025-04-21T18:45:45.000000000",
          "2025-04-21T18:46:00.000000000",
          "2025-04-21T18:46:09.000000000",
          "2025-04-21T18:46:18.000000000",
          "2025-04-21T18:46:31.000000000",
          "2025-04-21T18:46:39.000000000",
          "2025-04-21T18:46:48.000000000",
          "2025-04-21T18:47:00.000000000",
          "2025-04-21T18:47:09.000000000",
          "2025-04-21T18:47:22.000000000",
          "2025-04-21T18:47:30.000000000",
          "2025-04-21T18:47:43.000000000",
          "2025-04-21T18:47:51.000000000",
          "2025-04-21T18:48:04.000000000",
          "2025-04-21T18:48:12.000000000",
          "2025-04-21T18:48:24.000000000",
          "2025-04-21T18:48:32.000000000",
          "2025-04-21T18:48:40.000000000"
         ],
         "xaxis": "x6",
         "y": {
          "bdata": "S1mGONYDbEBLWYY41gNsQIXrUbge/WtAhetRuB79a0CF61G4Hv1rQIXrUbge/WtAhetRuB79a0CF61G4Hv1rQPFjzF1L/mtA8WPMXUv+a0DxY8xdS/5rQPFjzF1L/mtA8WPMXUv+a0DIBz2bVfdrQMgHPZtV92tAyAc9m1X3a0DIBz2bVfdrQMgHPZtV92tA",
          "dtype": "f8"
         },
         "yaxis": "y6"
        },
        {
         "legendgroup": "TSLA",
         "line": {
          "color": "orange",
          "dash": "dash"
         },
         "mode": "lines+markers",
         "name": "SMA_5",
         "showlegend": false,
         "type": "scatter",
         "x": [
          "2025-04-21T18:45:45.000000000",
          "2025-04-21T18:46:00.000000000",
          "2025-04-21T18:46:09.000000000",
          "2025-04-21T18:46:18.000000000",
          "2025-04-21T18:46:31.000000000",
          "2025-04-21T18:46:39.000000000",
          "2025-04-21T18:46:48.000000000",
          "2025-04-21T18:47:00.000000000",
          "2025-04-21T18:47:09.000000000",
          "2025-04-21T18:47:22.000000000",
          "2025-04-21T18:47:30.000000000",
          "2025-04-21T18:47:43.000000000",
          "2025-04-21T18:47:51.000000000",
          "2025-04-21T18:48:04.000000000",
          "2025-04-21T18:48:12.000000000",
          "2025-04-21T18:48:24.000000000",
          "2025-04-21T18:48:32.000000000",
          "2025-04-21T18:48:40.000000000"
         ],
         "xaxis": "x6",
         "y": {
          "bdata": "bVZ9rrbOV0BtVn2uts5XQG1Wfa62zldAbVZ9rrbOV0AIsTOFzv9rQEbOwp52/mtAhetRuB79a0CF61G4Hv1rQAJqatla/WtAfeiC+pb9a0D4Zpsb0/1rQHXlszwP/mtA8WPMXUv+a0Dqt68D5/xrQOILk6mC+2tA2F92Tx76a0DQs1n1ufhrQMgHPZtV92tA",
          "dtype": "f8"
         },
         "yaxis": "y6"
        },
        {
         "legendgroup": "TSLA",
         "line": {
          "color": "green",
          "dash": "dot"
         },
         "mode": "lines+markers",
         "name": "EMA_5",
         "showlegend": false,
         "type": "scatter",
         "x": [
          "2025-04-21T18:45:45.000000000",
          "2025-04-21T18:46:00.000000000",
          "2025-04-21T18:46:09.000000000",
          "2025-04-21T18:46:18.000000000",
          "2025-04-21T18:46:31.000000000",
          "2025-04-21T18:46:39.000000000",
          "2025-04-21T18:46:48.000000000",
          "2025-04-21T18:47:00.000000000",
          "2025-04-21T18:47:09.000000000",
          "2025-04-21T18:47:22.000000000",
          "2025-04-21T18:47:30.000000000",
          "2025-04-21T18:47:43.000000000",
          "2025-04-21T18:47:51.000000000",
          "2025-04-21T18:48:04.000000000",
          "2025-04-21T18:48:12.000000000",
          "2025-04-21T18:48:24.000000000",
          "2025-04-21T18:48:32.000000000",
          "2025-04-21T18:48:40.000000000"
         ],
         "xaxis": "x6",
         "y": {
          "bdata": "S1mGONYDbEBLWYY41gNsQLQ0yg2ZAWxA+sZM8RoAbEAp06MzHP9rQEjb3V9y/mtAXYsEKAH+a0Brq3Ottf1rQJiT5pLn/WtAtoOI1gj+a0DKI58DH/5rQNjjWMwt/mtA4WN/pzf+a0DZ7xNO7PtrQH6iIb1k+mtA7G7VsV/5a0CLTE2qsfhrQErgR6U9+GtA",
          "dtype": "f8"
         },
         "yaxis": "y6"
        },
        {
         "legendgroup": "NVDA",
         "line": {
          "color": "blue"
         },
         "mode": "lines+markers",
         "name": "Close",
         "showlegend": false,
         "type": "scatter",
         "x": [
          "2025-04-21T18:45:45.000000000",
          "2025-04-21T18:45:59.000000000",
          "2025-04-21T18:46:09.000000000",
          "2025-04-21T18:46:17.000000000",
          "2025-04-21T18:46:31.000000000",
          "2025-04-21T18:46:39.000000000",
          "2025-04-21T18:46:48.000000000",
          "2025-04-21T18:47:00.000000000",
          "2025-04-21T18:47:08.000000000",
          "2025-04-21T18:47:21.000000000",
          "2025-04-21T18:47:30.000000000",
          "2025-04-21T18:47:43.000000000",
          "2025-04-21T18:47:51.000000000",
          "2025-04-21T18:48:02.000000000",
          "2025-04-21T18:48:12.000000000",
          "2025-04-21T18:48:24.000000000",
          "2025-04-21T18:48:32.000000000",
          "2025-04-21T18:48:40.000000000"
         ],
         "xaxis": "x7",
         "y": {
          "bdata": "UrgehevZV0BSuB6F69lXQPYoXI/C3VdA9ihcj8LdV0D2KFyPwt1XQPYoXI/C3VdA9ihcj8LdV0D2KFyPwt1XQLAD54wo1VdAsAPnjCjVV0CwA+eMKNVXQLAD54wo1VdAsAPnjCjVV0BtVn2uts5XQG1Wfa62zldAbVZ9rrbOV0BtVn2uts5XQG1Wfa62zldA",
          "dtype": "f8"
         },
         "yaxis": "y7"
        },
        {
         "legendgroup": "NVDA",
         "line": {
          "color": "orange",
          "dash": "dash"
         },
         "mode": "lines+markers",
         "name": "SMA_5",
         "showlegend": false,
         "type": "scatter",
         "x": [
          "2025-04-21T18:45:45.000000000",
          "2025-04-21T18:45:59.000000000",
          "2025-04-21T18:46:09.000000000",
          "2025-04-21T18:46:17.000000000",
          "2025-04-21T18:46:31.000000000",
          "2025-04-21T18:46:39.000000000",
          "2025-04-21T18:46:48.000000000",
          "2025-04-21T18:47:00.000000000",
          "2025-04-21T18:47:08.000000000",
          "2025-04-21T18:47:21.000000000",
          "2025-04-21T18:47:30.000000000",
          "2025-04-21T18:47:43.000000000",
          "2025-04-21T18:47:51.000000000",
          "2025-04-21T18:48:02.000000000",
          "2025-04-21T18:48:12.000000000",
          "2025-04-21T18:48:24.000000000",
          "2025-04-21T18:48:32.000000000",
          "2025-04-21T18:48:40.000000000"
         ],
         "xaxis": "x7",
         "y": {
          "bdata": "Q4ts5/tFdkBDi2zn+0V2QEOLbOf7RXZAQ4ts5/tFdkBOYhBYOdxXQKJFtvP93FdA9ihcj8LdV0D2KFyPwt1XQE7udygK3FdAprOTwVHaV0D/eK9amdhXQFg+y/Pg1ldAsAPnjCjVV0DWrZ6T3tNXQPtXVpqU0ldAIgIOoUrRV0BHrMWnANBXQG1Wfa62zldA",
          "dtype": "f8"
         },
         "yaxis": "y7"
        },
        {
         "legendgroup": "NVDA",
         "line": {
          "color": "green",
          "dash": "dot"
         },
         "mode": "lines+markers",
         "name": "EMA_5",
         "showlegend": false,
         "type": "scatter",
         "x": [
          "2025-04-21T18:45:45.000000000",
          "2025-04-21T18:45:59.000000000",
          "2025-04-21T18:46:09.000000000",
          "2025-04-21T18:46:17.000000000",
          "2025-04-21T18:46:31.000000000",
          "2025-04-21T18:46:39.000000000",
          "2025-04-21T18:46:48.000000000",
          "2025-04-21T18:47:00.000000000",
          "2025-04-21T18:47:08.000000000",
          "2025-04-21T18:47:21.000000000",
          "2025-04-21T18:47:30.000000000",
          "2025-04-21T18:47:43.000000000",
          "2025-04-21T18:47:51.000000000",
          "2025-04-21T18:48:02.000000000",
          "2025-04-21T18:48:12.000000000",
          "2025-04-21T18:48:24.000000000",
          "2025-04-21T18:48:32.000000000",
          "2025-04-21T18:48:40.000000000"
         ],
         "xaxis": "x7",
         "y": {
          "bdata": "UrgehevZV0BSuB6F69lXQDQzMzMz21dAddpApw3cV0BLn/RJn9xXQIQiF2EA3VdAqiQuG0HdV0AZJuhBbN1XQPZvkgWr2ldA30tZ3dTYV0DQMzNtm9dXQBt5xHfK1ldATad6KT/WV0Ct4dBVvNNXQJgItcgP0ldAiiJNFfLQV0AribKdM9BXQEF4S6O0z1dA",
          "dtype": "f8"
         },
         "yaxis": "y7"
        }
       ],
       "layout": {
        "annotations": [
         {
          "font": {
           "size": 16
          },
          "showarrow": false,
          "text": "AAPL",
          "x": 0.14444444444444446,
          "xanchor": "center",
          "xref": "paper",
          "y": 1,
          "yanchor": "bottom",
          "yref": "paper"
         },
         {
          "font": {
           "size": 16
          },
          "showarrow": false,
          "text": "MSFT",
          "x": 0.5,
          "xanchor": "center",
          "xref": "paper",
          "y": 1,
          "yanchor": "bottom",
          "yref": "paper"
         },
         {
          "font": {
           "size": 16
          },
          "showarrow": false,
          "text": "AMZN",
          "x": 0.8555555555555556,
          "xanchor": "center",
          "xref": "paper",
          "y": 1,
          "yanchor": "bottom",
          "yref": "paper"
         },
         {
          "font": {
           "size": 16
          },
          "showarrow": false,
          "text": "GOOGL",
          "x": 0.14444444444444446,
          "xanchor": "center",
          "xref": "paper",
          "y": 0.6111111111111112,
          "yanchor": "bottom",
          "yref": "paper"
         },
         {
          "font": {
           "size": 16
          },
          "showarrow": false,
          "text": "META",
          "x": 0.5,
          "xanchor": "center",
          "xref": "paper",
          "y": 0.6111111111111112,
          "yanchor": "bottom",
          "yref": "paper"
         },
         {
          "font": {
           "size": 16
          },
          "showarrow": false,
          "text": "TSLA",
          "x": 0.8555555555555556,
          "xanchor": "center",
          "xref": "paper",
          "y": 0.6111111111111112,
          "yanchor": "bottom",
          "yref": "paper"
         },
         {
          "font": {
           "size": 16
          },
          "showarrow": false,
          "text": "NVDA",
          "x": 0.14444444444444446,
          "xanchor": "center",
          "xref": "paper",
          "y": 0.22222222222222224,
          "yanchor": "bottom",
          "yref": "paper"
         }
        ],
        "height": 1000,
        "template": {
         "data": {
          "bar": [
           {
            "error_x": {
             "color": "#2a3f5f"
            },
            "error_y": {
             "color": "#2a3f5f"
            },
            "marker": {
             "line": {
              "color": "#E5ECF6",
              "width": 0.5
             },
             "pattern": {
              "fillmode": "overlay",
              "size": 10,
              "solidity": 0.2
             }
            },
            "type": "bar"
           }
          ],
          "barpolar": [
           {
            "marker": {
             "line": {
              "color": "#E5ECF6",
              "width": 0.5
             },
             "pattern": {
              "fillmode": "overlay",
              "size": 10,
              "solidity": 0.2
             }
            },
            "type": "barpolar"
           }
          ],
          "carpet": [
           {
            "aaxis": {
             "endlinecolor": "#2a3f5f",
             "gridcolor": "white",
             "linecolor": "white",
             "minorgridcolor": "white",
             "startlinecolor": "#2a3f5f"
            },
            "baxis": {
             "endlinecolor": "#2a3f5f",
             "gridcolor": "white",
             "linecolor": "white",
             "minorgridcolor": "white",
             "startlinecolor": "#2a3f5f"
            },
            "type": "carpet"
           }
          ],
          "choropleth": [
           {
            "colorbar": {
             "outlinewidth": 0,
             "ticks": ""
            },
            "type": "choropleth"
           }
          ],
          "contour": [
           {
            "colorbar": {
             "outlinewidth": 0,
             "ticks": ""
            },
            "colorscale": [
             [
              0,
              "#0d0887"
             ],
             [
              0.1111111111111111,
              "#46039f"
             ],
             [
              0.2222222222222222,
              "#7201a8"
             ],
             [
              0.3333333333333333,
              "#9c179e"
             ],
             [
              0.4444444444444444,
              "#bd3786"
             ],
             [
              0.5555555555555556,
              "#d8576b"
             ],
             [
              0.6666666666666666,
              "#ed7953"
             ],
             [
              0.7777777777777778,
              "#fb9f3a"
             ],
             [
              0.8888888888888888,
              "#fdca26"
             ],
             [
              1,
              "#f0f921"
             ]
            ],
            "type": "contour"
           }
          ],
          "contourcarpet": [
           {
            "colorbar": {
             "outlinewidth": 0,
             "ticks": ""
            },
            "type": "contourcarpet"
           }
          ],
          "heatmap": [
           {
            "colorbar": {
             "outlinewidth": 0,
             "ticks": ""
            },
            "colorscale": [
             [
              0,
              "#0d0887"
             ],
             [
              0.1111111111111111,
              "#46039f"
             ],
             [
              0.2222222222222222,
              "#7201a8"
             ],
             [
              0.3333333333333333,
              "#9c179e"
             ],
             [
              0.4444444444444444,
              "#bd3786"
             ],
             [
              0.5555555555555556,
              "#d8576b"
             ],
             [
              0.6666666666666666,
              "#ed7953"
             ],
             [
              0.7777777777777778,
              "#fb9f3a"
             ],
             [
              0.8888888888888888,
              "#fdca26"
             ],
             [
              1,
              "#f0f921"
             ]
            ],
            "type": "heatmap"
           }
          ],
          "histogram": [
           {
            "marker": {
             "pattern": {
              "fillmode": "overlay",
              "size": 10,
              "solidity": 0.2
             }
            },
            "type": "histogram"
           }
          ],
          "histogram2d": [
           {
            "colorbar": {
             "outlinewidth": 0,
             "ticks": ""
            },
            "colorscale": [
             [
              0,
              "#0d0887"
             ],
             [
              0.1111111111111111,
              "#46039f"
             ],
             [
              0.2222222222222222,
              "#7201a8"
             ],
             [
              0.3333333333333333,
              "#9c179e"
             ],
             [
              0.4444444444444444,
              "#bd3786"
             ],
             [
              0.5555555555555556,
              "#d8576b"
             ],
             [
              0.6666666666666666,
              "#ed7953"
             ],
             [
              0.7777777777777778,
              "#fb9f3a"
             ],
             [
              0.8888888888888888,
              "#fdca26"
             ],
             [
              1,
              "#f0f921"
             ]
            ],
            "type": "histogram2d"
           }
          ],
          "histogram2dcontour": [
           {
            "colorbar": {
             "outlinewidth": 0,
             "ticks": ""
            },
            "colorscale": [
             [
              0,
              "#0d0887"
             ],
             [
              0.1111111111111111,
              "#46039f"
             ],
             [
              0.2222222222222222,
              "#7201a8"
             ],
             [
              0.3333333333333333,
              "#9c179e"
             ],
             [
              0.4444444444444444,
              "#bd3786"
             ],
             [
              0.5555555555555556,
              "#d8576b"
             ],
             [
              0.6666666666666666,
              "#ed7953"
             ],
             [
              0.7777777777777778,
              "#fb9f3a"
             ],
             [
              0.8888888888888888,
              "#fdca26"
             ],
             [
              1,
              "#f0f921"
             ]
            ],
            "type": "histogram2dcontour"
           }
          ],
          "mesh3d": [
           {
            "colorbar": {
             "outlinewidth": 0,
             "ticks": ""
            },
            "type": "mesh3d"
           }
          ],
          "parcoords": [
           {
            "line": {
             "colorbar": {
              "outlinewidth": 0,
              "ticks": ""
             }
            },
            "type": "parcoords"
           }
          ],
          "pie": [
           {
            "automargin": true,
            "type": "pie"
           }
          ],
          "scatter": [
           {
            "fillpattern": {
             "fillmode": "overlay",
             "size": 10,
             "solidity": 0.2
            },
            "type": "scatter"
           }
          ],
          "scatter3d": [
           {
            "line": {
             "colorbar": {
              "outlinewidth": 0,
              "ticks": ""
             }
            },
            "marker": {
             "colorbar": {
              "outlinewidth": 0,
              "ticks": ""
             }
            },
            "type": "scatter3d"
           }
          ],
          "scattercarpet": [
           {
            "marker": {
             "colorbar": {
              "outlinewidth": 0,
              "ticks": ""
             }
            },
            "type": "scattercarpet"
           }
          ],
          "scattergeo": [
           {
            "marker": {
             "colorbar": {
              "outlinewidth": 0,
              "ticks": ""
             }
            },
            "type": "scattergeo"
           }
          ],
          "scattergl": [
           {
            "marker": {
             "colorbar": {
              "outlinewidth": 0,
              "ticks": ""
             }
            },
            "type": "scattergl"
           }
          ],
          "scattermap": [
           {
            "marker": {
             "colorbar": {
              "outlinewidth": 0,
              "ticks": ""
             }
            },
            "type": "scattermap"
           }
          ],
          "scattermapbox": [
           {
            "marker": {
             "colorbar": {
              "outlinewidth": 0,
              "ticks": ""
             }
            },
            "type": "scattermapbox"
           }
          ],
          "scatterpolar": [
           {
            "marker": {
             "colorbar": {
              "outlinewidth": 0,
              "ticks": ""
             }
            },
            "type": "scatterpolar"
           }
          ],
          "scatterpolargl": [
           {
            "marker": {
             "colorbar": {
              "outlinewidth": 0,
              "ticks": ""
             }
            },
            "type": "scatterpolargl"
           }
          ],
          "scatterternary": [
           {
            "marker": {
             "colorbar": {
              "outlinewidth": 0,
              "ticks": ""
             }
            },
            "type": "scatterternary"
           }
          ],
          "surface": [
           {
            "colorbar": {
             "outlinewidth": 0,
             "ticks": ""
            },
            "colorscale": [
             [
              0,
              "#0d0887"
             ],
             [
              0.1111111111111111,
              "#46039f"
             ],
             [
              0.2222222222222222,
              "#7201a8"
             ],
             [
              0.3333333333333333,
              "#9c179e"
             ],
             [
              0.4444444444444444,
              "#bd3786"
             ],
             [
              0.5555555555555556,
              "#d8576b"
             ],
             [
              0.6666666666666666,
              "#ed7953"
             ],
             [
              0.7777777777777778,
              "#fb9f3a"
             ],
             [
              0.8888888888888888,
              "#fdca26"
             ],
             [
              1,
              "#f0f921"
             ]
            ],
            "type": "surface"
           }
          ],
          "table": [
           {
            "cells": {
             "fill": {
              "color": "#EBF0F8"
             },
             "line": {
              "color": "white"
             }
            },
            "header": {
             "fill": {
              "color": "#C8D4E3"
             },
             "line": {
              "color": "white"
             }
            },
            "type": "table"
           }
          ]
         },
         "layout": {
          "annotationdefaults": {
           "arrowcolor": "#2a3f5f",
           "arrowhead": 0,
           "arrowwidth": 1
          },
          "autotypenumbers": "strict",
          "coloraxis": {
           "colorbar": {
            "outlinewidth": 0,
            "ticks": ""
           }
          },
          "colorscale": {
           "diverging": [
            [
             0,
             "#8e0152"
            ],
            [
             0.1,
             "#c51b7d"
            ],
            [
             0.2,
             "#de77ae"
            ],
            [
             0.3,
             "#f1b6da"
            ],
            [
             0.4,
             "#fde0ef"
            ],
            [
             0.5,
             "#f7f7f7"
            ],
            [
             0.6,
             "#e6f5d0"
            ],
            [
             0.7,
             "#b8e186"
            ],
            [
             0.8,
             "#7fbc41"
            ],
            [
             0.9,
             "#4d9221"
            ],
            [
             1,
             "#276419"
            ]
           ],
           "sequential": [
            [
             0,
             "#0d0887"
            ],
            [
             0.1111111111111111,
             "#46039f"
            ],
            [
             0.2222222222222222,
             "#7201a8"
            ],
            [
             0.3333333333333333,
             "#9c179e"
            ],
            [
             0.4444444444444444,
             "#bd3786"
            ],
            [
             0.5555555555555556,
             "#d8576b"
            ],
            [
             0.6666666666666666,
             "#ed7953"
            ],
            [
             0.7777777777777778,
             "#fb9f3a"
            ],
            [
             0.8888888888888888,
             "#fdca26"
            ],
            [
             1,
             "#f0f921"
            ]
           ],
           "sequentialminus": [
            [
             0,
             "#0d0887"
            ],
            [
             0.1111111111111111,
             "#46039f"
            ],
            [
             0.2222222222222222,
             "#7201a8"
            ],
            [
             0.3333333333333333,
             "#9c179e"
            ],
            [
             0.4444444444444444,
             "#bd3786"
            ],
            [
             0.5555555555555556,
             "#d8576b"
            ],
            [
             0.6666666666666666,
             "#ed7953"
            ],
            [
             0.7777777777777778,
             "#fb9f3a"
            ],
            [
             0.8888888888888888,
             "#fdca26"
            ],
            [
             1,
             "#f0f921"
            ]
           ]
          },
          "colorway": [
           "#636efa",
           "#EF553B",
           "#00cc96",
           "#ab63fa",
           "#FFA15A",
           "#19d3f3",
           "#FF6692",
           "#B6E880",
           "#FF97FF",
           "#FECB52"
          ],
          "font": {
           "color": "#2a3f5f"
          },
          "geo": {
           "bgcolor": "white",
           "lakecolor": "white",
           "landcolor": "#E5ECF6",
           "showlakes": true,
           "showland": true,
           "subunitcolor": "white"
          },
          "hoverlabel": {
           "align": "left"
          },
          "hovermode": "closest",
          "mapbox": {
           "style": "light"
          },
          "paper_bgcolor": "white",
          "plot_bgcolor": "#E5ECF6",
          "polar": {
           "angularaxis": {
            "gridcolor": "white",
            "linecolor": "white",
            "ticks": ""
           },
           "bgcolor": "#E5ECF6",
           "radialaxis": {
            "gridcolor": "white",
            "linecolor": "white",
            "ticks": ""
           }
          },
          "scene": {
           "xaxis": {
            "backgroundcolor": "#E5ECF6",
            "gridcolor": "white",
            "gridwidth": 2,
            "linecolor": "white",
            "showbackground": true,
            "ticks": "",
            "zerolinecolor": "white"
           },
           "yaxis": {
            "backgroundcolor": "#E5ECF6",
            "gridcolor": "white",
            "gridwidth": 2,
            "linecolor": "white",
            "showbackground": true,
            "ticks": "",
            "zerolinecolor": "white"
           },
           "zaxis": {
            "backgroundcolor": "#E5ECF6",
            "gridcolor": "white",
            "gridwidth": 2,
            "linecolor": "white",
            "showbackground": true,
            "ticks": "",
            "zerolinecolor": "white"
           }
          },
          "shapedefaults": {
           "line": {
            "color": "#2a3f5f"
           }
          },
          "ternary": {
           "aaxis": {
            "gridcolor": "white",
            "linecolor": "white",
            "ticks": ""
           },
           "baxis": {
            "gridcolor": "white",
            "linecolor": "white",
            "ticks": ""
           },
           "bgcolor": "#E5ECF6",
           "caxis": {
            "gridcolor": "white",
            "linecolor": "white",
            "ticks": ""
           }
          },
          "title": {
           "x": 0.05
          },
          "xaxis": {
           "automargin": true,
           "gridcolor": "white",
           "linecolor": "white",
           "ticks": "",
           "title": {
            "standoff": 15
           },
           "zerolinecolor": "white",
           "zerolinewidth": 2
          },
          "yaxis": {
           "automargin": true,
           "gridcolor": "white",
           "linecolor": "white",
           "ticks": "",
           "title": {
            "standoff": 15
           },
           "zerolinecolor": "white",
           "zerolinewidth": 2
          }
         }
        },
        "title": {
         "text": "Close Price vs. SMA vs. EMA per Ticker (Real-Time Data)"
        },
        "width": 1200,
        "xaxis": {
         "anchor": "y",
         "domain": [
          0,
          0.2888888888888889
         ]
        },
        "xaxis2": {
         "anchor": "y2",
         "domain": [
          0.35555555555555557,
          0.6444444444444445
         ]
        },
        "xaxis3": {
         "anchor": "y3",
         "domain": [
          0.7111111111111111,
          1
         ]
        },
        "xaxis4": {
         "anchor": "y4",
         "domain": [
          0,
          0.2888888888888889
         ]
        },
        "xaxis5": {
         "anchor": "y5",
         "domain": [
          0.35555555555555557,
          0.6444444444444445
         ]
        },
        "xaxis6": {
         "anchor": "y6",
         "domain": [
          0.7111111111111111,
          1
         ]
        },
        "xaxis7": {
         "anchor": "y7",
         "domain": [
          0,
          0.2888888888888889
         ]
        },
        "xaxis8": {
         "anchor": "y8",
         "domain": [
          0.35555555555555557,
          0.6444444444444445
         ]
        },
        "xaxis9": {
         "anchor": "y9",
         "domain": [
          0.7111111111111111,
          1
         ]
        },
        "yaxis": {
         "anchor": "x",
         "domain": [
          0.7777777777777778,
          1
         ]
        },
        "yaxis2": {
         "anchor": "x2",
         "domain": [
          0.7777777777777778,
          1
         ]
        },
        "yaxis3": {
         "anchor": "x3",
         "domain": [
          0.7777777777777778,
          1
         ]
        },
        "yaxis4": {
         "anchor": "x4",
         "domain": [
          0.3888888888888889,
          0.6111111111111112
         ]
        },
        "yaxis5": {
         "anchor": "x5",
         "domain": [
          0.3888888888888889,
          0.6111111111111112
         ]
        },
        "yaxis6": {
         "anchor": "x6",
         "domain": [
          0.3888888888888889,
          0.6111111111111112
         ]
        },
        "yaxis7": {
         "anchor": "x7",
         "domain": [
          0,
          0.22222222222222224
         ]
        },
        "yaxis8": {
         "anchor": "x8",
         "domain": [
          0,
          0.22222222222222224
         ]
        },
        "yaxis9": {
         "anchor": "x9",
         "domain": [
          0,
          0.22222222222222224
         ]
        }
       }
      }
     },
     "metadata": {},
     "output_type": "display_data"
    }
   ],
   "source": [
    "import plotly.graph_objects as go\n",
    "from plotly.subplots import make_subplots\n",
    "\n",
    "# tickers \n",
    "tickers = ['AAPL', 'MSFT', 'AMZN', 'GOOGL', 'META', 'TSLA', 'NVDA']\n",
    "\n",
    "#in order to fit 7 tickers we are going to use a  3x3 grid of subplots\n",
    "#writing it ouside the makesubplots function so we can use it in the for loop\n",
    "rows = 3\n",
    "cols = 3\n",
    "\n",
    "#creating the subplot\n",
    "fig = make_subplots(rows=3,cols=3,subplot_titles=[f\"{ticker}\" for ticker in tickers])\n",
    "\n",
    "# using a forloop and running each ticker and its Close price, SMA_5, and EMA_5 \n",
    "for i, ticker in enumerate(tickers):\n",
    "    row = i // cols + 1  \n",
    "    col = i % cols + 1 \n",
    "    subset = df_cass_final[df_cass_final['ticker'] == ticker]  \n",
    "\n",
    "    # adding close price line\n",
    "    fig.add_trace(\n",
    "        go.Scatter(x=subset['date'],y=subset['close'], mode='lines+markers', name='Close',legendgroup=ticker, showlegend=(i == 0),line=dict(color='blue')),\n",
    "        row=row, col=col)\n",
    "\n",
    "    # adding SMA_5 value line (Simple Moving Average)\n",
    "    fig.add_trace(\n",
    "        go.Scatter(x=subset['date'],y=subset['SMA_5'],mode='lines+markers', name='SMA_5',legendgroup=ticker,showlegend=(i == 0), line=dict(color='orange', dash='dash')),\n",
    "        row=row, col=col)\n",
    "    # adding EMA_5 value line (Exponential Moving Average)\n",
    "    fig.add_trace(\n",
    "        go.Scatter(x=subset['date'],y=subset['EMA_5'],mode='lines+markers',name='EMA_5',legendgroup=ticker,showlegend=(i == 0),line=dict(color='green', dash='dot') ),row=row, col=col)\n",
    "# updating the hieght and width and title\n",
    "fig.update_layout(height=1000,  width=1200, title_text=\"Close Price vs. SMA vs. EMA per Ticker (Real-Time Data)\")\n",
    "#show\n",
    "fig.show()\n"
   ]
  },
  {
   "cell_type": "markdown",
   "metadata": {},
   "source": [
    "### The above plot is a great summary analysis of SMA (average of last 5 close prices) and EMA (weighted average of the last 5 close prices) as it compares to our close price (last traded price at each time interval). This graph is useful in showing how closely EMA and SMA fit the close values. If EMA crosses above the SMA we can see a sigh of a bullish cross over which is often seen as a entry signal to buy stocks. However if SMA crosses over the EMA then it might be signs of a bearish crossover which indicates time to sell and exit out your stocks.  Note: There is a jump after 5 dots (data points) because SMA_5, EMA_5 take atleast 5 values before they are able to calculate their rolling average. \n"
   ]
  },
  {
   "cell_type": "code",
   "execution_count": 128,
   "metadata": {},
   "outputs": [
    {
     "data": {
      "application/vnd.plotly.v1+json": {
       "config": {
        "plotlyServerURL": "https://plot.ly"
       },
       "data": [
        {
         "close": {
          "bdata": "ZmZmZmbSZ0BmZmZmZtJnQGZmZmZm0mdAZmZmZmbSZ0AfhetRuM5nQB+F61G4zmdAH4XrUbjOZ0AfhetRuM5nQB+F61G4zmdAH4XrUbjOZ0AUrkfhesxnQBSuR+F6zGdAFK5H4XrMZ0AUrkfhesxnQA==",
          "dtype": "f8"
         },
         "high": {
          "bdata": "mpmZmZk5aECamZmZmTloQJqZmZmZOWhAmpmZmZk5aECamZmZmTloQJqZmZmZOWhAmpmZmZk5aECamZmZmTloQJqZmZmZOWhAmpmZmZk5aECamZmZmTloQJqZmZmZOWhAmpmZmZk5aECamZmZmTloQA==",
          "dtype": "f8"
         },
         "low": {
          "bdata": "fdCzWfW5Z0B90LNZ9blnQH3Qs1n1uWdAfdCzWfW5Z0B90LNZ9blnQH3Qs1n1uWdAfdCzWfW5Z0B90LNZ9blnQH3Qs1n1uWdAfdCzWfW5Z0B90LNZ9blnQH3Qs1n1uWdAfdCzWfW5Z0B90LNZ9blnQA==",
          "dtype": "f8"
         },
         "open": {
          "bdata": "FK5H4XooaEAUrkfheihoQBSuR+F6KGhAFK5H4XooaEAUrkfheihoQBSuR+F6KGhAFK5H4XooaEAUrkfheihoQBSuR+F6KGhAFK5H4XooaEAUrkfheihoQBSuR+F6KGhAFK5H4XooaEAUrkfheihoQA==",
          "dtype": "f8"
         },
         "type": "candlestick",
         "x": [
          "2025-04-21T18:46:31.000000000",
          "2025-04-21T18:46:38.000000000",
          "2025-04-21T18:46:47.000000000",
          "2025-04-21T18:47:00.000000000",
          "2025-04-21T18:47:08.000000000",
          "2025-04-21T18:47:21.000000000",
          "2025-04-21T18:47:29.000000000",
          "2025-04-21T18:47:40.000000000",
          "2025-04-21T18:47:51.000000000",
          "2025-04-21T18:47:59.000000000",
          "2025-04-21T18:48:08.000000000",
          "2025-04-21T18:48:23.000000000",
          "2025-04-21T18:48:32.000000000",
          "2025-04-21T18:48:40.000000000"
         ]
        }
       ],
       "layout": {
        "template": {
         "data": {
          "bar": [
           {
            "error_x": {
             "color": "#2a3f5f"
            },
            "error_y": {
             "color": "#2a3f5f"
            },
            "marker": {
             "line": {
              "color": "#E5ECF6",
              "width": 0.5
             },
             "pattern": {
              "fillmode": "overlay",
              "size": 10,
              "solidity": 0.2
             }
            },
            "type": "bar"
           }
          ],
          "barpolar": [
           {
            "marker": {
             "line": {
              "color": "#E5ECF6",
              "width": 0.5
             },
             "pattern": {
              "fillmode": "overlay",
              "size": 10,
              "solidity": 0.2
             }
            },
            "type": "barpolar"
           }
          ],
          "carpet": [
           {
            "aaxis": {
             "endlinecolor": "#2a3f5f",
             "gridcolor": "white",
             "linecolor": "white",
             "minorgridcolor": "white",
             "startlinecolor": "#2a3f5f"
            },
            "baxis": {
             "endlinecolor": "#2a3f5f",
             "gridcolor": "white",
             "linecolor": "white",
             "minorgridcolor": "white",
             "startlinecolor": "#2a3f5f"
            },
            "type": "carpet"
           }
          ],
          "choropleth": [
           {
            "colorbar": {
             "outlinewidth": 0,
             "ticks": ""
            },
            "type": "choropleth"
           }
          ],
          "contour": [
           {
            "colorbar": {
             "outlinewidth": 0,
             "ticks": ""
            },
            "colorscale": [
             [
              0,
              "#0d0887"
             ],
             [
              0.1111111111111111,
              "#46039f"
             ],
             [
              0.2222222222222222,
              "#7201a8"
             ],
             [
              0.3333333333333333,
              "#9c179e"
             ],
             [
              0.4444444444444444,
              "#bd3786"
             ],
             [
              0.5555555555555556,
              "#d8576b"
             ],
             [
              0.6666666666666666,
              "#ed7953"
             ],
             [
              0.7777777777777778,
              "#fb9f3a"
             ],
             [
              0.8888888888888888,
              "#fdca26"
             ],
             [
              1,
              "#f0f921"
             ]
            ],
            "type": "contour"
           }
          ],
          "contourcarpet": [
           {
            "colorbar": {
             "outlinewidth": 0,
             "ticks": ""
            },
            "type": "contourcarpet"
           }
          ],
          "heatmap": [
           {
            "colorbar": {
             "outlinewidth": 0,
             "ticks": ""
            },
            "colorscale": [
             [
              0,
              "#0d0887"
             ],
             [
              0.1111111111111111,
              "#46039f"
             ],
             [
              0.2222222222222222,
              "#7201a8"
             ],
             [
              0.3333333333333333,
              "#9c179e"
             ],
             [
              0.4444444444444444,
              "#bd3786"
             ],
             [
              0.5555555555555556,
              "#d8576b"
             ],
             [
              0.6666666666666666,
              "#ed7953"
             ],
             [
              0.7777777777777778,
              "#fb9f3a"
             ],
             [
              0.8888888888888888,
              "#fdca26"
             ],
             [
              1,
              "#f0f921"
             ]
            ],
            "type": "heatmap"
           }
          ],
          "histogram": [
           {
            "marker": {
             "pattern": {
              "fillmode": "overlay",
              "size": 10,
              "solidity": 0.2
             }
            },
            "type": "histogram"
           }
          ],
          "histogram2d": [
           {
            "colorbar": {
             "outlinewidth": 0,
             "ticks": ""
            },
            "colorscale": [
             [
              0,
              "#0d0887"
             ],
             [
              0.1111111111111111,
              "#46039f"
             ],
             [
              0.2222222222222222,
              "#7201a8"
             ],
             [
              0.3333333333333333,
              "#9c179e"
             ],
             [
              0.4444444444444444,
              "#bd3786"
             ],
             [
              0.5555555555555556,
              "#d8576b"
             ],
             [
              0.6666666666666666,
              "#ed7953"
             ],
             [
              0.7777777777777778,
              "#fb9f3a"
             ],
             [
              0.8888888888888888,
              "#fdca26"
             ],
             [
              1,
              "#f0f921"
             ]
            ],
            "type": "histogram2d"
           }
          ],
          "histogram2dcontour": [
           {
            "colorbar": {
             "outlinewidth": 0,
             "ticks": ""
            },
            "colorscale": [
             [
              0,
              "#0d0887"
             ],
             [
              0.1111111111111111,
              "#46039f"
             ],
             [
              0.2222222222222222,
              "#7201a8"
             ],
             [
              0.3333333333333333,
              "#9c179e"
             ],
             [
              0.4444444444444444,
              "#bd3786"
             ],
             [
              0.5555555555555556,
              "#d8576b"
             ],
             [
              0.6666666666666666,
              "#ed7953"
             ],
             [
              0.7777777777777778,
              "#fb9f3a"
             ],
             [
              0.8888888888888888,
              "#fdca26"
             ],
             [
              1,
              "#f0f921"
             ]
            ],
            "type": "histogram2dcontour"
           }
          ],
          "mesh3d": [
           {
            "colorbar": {
             "outlinewidth": 0,
             "ticks": ""
            },
            "type": "mesh3d"
           }
          ],
          "parcoords": [
           {
            "line": {
             "colorbar": {
              "outlinewidth": 0,
              "ticks": ""
             }
            },
            "type": "parcoords"
           }
          ],
          "pie": [
           {
            "automargin": true,
            "type": "pie"
           }
          ],
          "scatter": [
           {
            "fillpattern": {
             "fillmode": "overlay",
             "size": 10,
             "solidity": 0.2
            },
            "type": "scatter"
           }
          ],
          "scatter3d": [
           {
            "line": {
             "colorbar": {
              "outlinewidth": 0,
              "ticks": ""
             }
            },
            "marker": {
             "colorbar": {
              "outlinewidth": 0,
              "ticks": ""
             }
            },
            "type": "scatter3d"
           }
          ],
          "scattercarpet": [
           {
            "marker": {
             "colorbar": {
              "outlinewidth": 0,
              "ticks": ""
             }
            },
            "type": "scattercarpet"
           }
          ],
          "scattergeo": [
           {
            "marker": {
             "colorbar": {
              "outlinewidth": 0,
              "ticks": ""
             }
            },
            "type": "scattergeo"
           }
          ],
          "scattergl": [
           {
            "marker": {
             "colorbar": {
              "outlinewidth": 0,
              "ticks": ""
             }
            },
            "type": "scattergl"
           }
          ],
          "scattermap": [
           {
            "marker": {
             "colorbar": {
              "outlinewidth": 0,
              "ticks": ""
             }
            },
            "type": "scattermap"
           }
          ],
          "scattermapbox": [
           {
            "marker": {
             "colorbar": {
              "outlinewidth": 0,
              "ticks": ""
             }
            },
            "type": "scattermapbox"
           }
          ],
          "scatterpolar": [
           {
            "marker": {
             "colorbar": {
              "outlinewidth": 0,
              "ticks": ""
             }
            },
            "type": "scatterpolar"
           }
          ],
          "scatterpolargl": [
           {
            "marker": {
             "colorbar": {
              "outlinewidth": 0,
              "ticks": ""
             }
            },
            "type": "scatterpolargl"
           }
          ],
          "scatterternary": [
           {
            "marker": {
             "colorbar": {
              "outlinewidth": 0,
              "ticks": ""
             }
            },
            "type": "scatterternary"
           }
          ],
          "surface": [
           {
            "colorbar": {
             "outlinewidth": 0,
             "ticks": ""
            },
            "colorscale": [
             [
              0,
              "#0d0887"
             ],
             [
              0.1111111111111111,
              "#46039f"
             ],
             [
              0.2222222222222222,
              "#7201a8"
             ],
             [
              0.3333333333333333,
              "#9c179e"
             ],
             [
              0.4444444444444444,
              "#bd3786"
             ],
             [
              0.5555555555555556,
              "#d8576b"
             ],
             [
              0.6666666666666666,
              "#ed7953"
             ],
             [
              0.7777777777777778,
              "#fb9f3a"
             ],
             [
              0.8888888888888888,
              "#fdca26"
             ],
             [
              1,
              "#f0f921"
             ]
            ],
            "type": "surface"
           }
          ],
          "table": [
           {
            "cells": {
             "fill": {
              "color": "#EBF0F8"
             },
             "line": {
              "color": "white"
             }
            },
            "header": {
             "fill": {
              "color": "#C8D4E3"
             },
             "line": {
              "color": "white"
             }
            },
            "type": "table"
           }
          ]
         },
         "layout": {
          "annotationdefaults": {
           "arrowcolor": "#2a3f5f",
           "arrowhead": 0,
           "arrowwidth": 1
          },
          "autotypenumbers": "strict",
          "coloraxis": {
           "colorbar": {
            "outlinewidth": 0,
            "ticks": ""
           }
          },
          "colorscale": {
           "diverging": [
            [
             0,
             "#8e0152"
            ],
            [
             0.1,
             "#c51b7d"
            ],
            [
             0.2,
             "#de77ae"
            ],
            [
             0.3,
             "#f1b6da"
            ],
            [
             0.4,
             "#fde0ef"
            ],
            [
             0.5,
             "#f7f7f7"
            ],
            [
             0.6,
             "#e6f5d0"
            ],
            [
             0.7,
             "#b8e186"
            ],
            [
             0.8,
             "#7fbc41"
            ],
            [
             0.9,
             "#4d9221"
            ],
            [
             1,
             "#276419"
            ]
           ],
           "sequential": [
            [
             0,
             "#0d0887"
            ],
            [
             0.1111111111111111,
             "#46039f"
            ],
            [
             0.2222222222222222,
             "#7201a8"
            ],
            [
             0.3333333333333333,
             "#9c179e"
            ],
            [
             0.4444444444444444,
             "#bd3786"
            ],
            [
             0.5555555555555556,
             "#d8576b"
            ],
            [
             0.6666666666666666,
             "#ed7953"
            ],
            [
             0.7777777777777778,
             "#fb9f3a"
            ],
            [
             0.8888888888888888,
             "#fdca26"
            ],
            [
             1,
             "#f0f921"
            ]
           ],
           "sequentialminus": [
            [
             0,
             "#0d0887"
            ],
            [
             0.1111111111111111,
             "#46039f"
            ],
            [
             0.2222222222222222,
             "#7201a8"
            ],
            [
             0.3333333333333333,
             "#9c179e"
            ],
            [
             0.4444444444444444,
             "#bd3786"
            ],
            [
             0.5555555555555556,
             "#d8576b"
            ],
            [
             0.6666666666666666,
             "#ed7953"
            ],
            [
             0.7777777777777778,
             "#fb9f3a"
            ],
            [
             0.8888888888888888,
             "#fdca26"
            ],
            [
             1,
             "#f0f921"
            ]
           ]
          },
          "colorway": [
           "#636efa",
           "#EF553B",
           "#00cc96",
           "#ab63fa",
           "#FFA15A",
           "#19d3f3",
           "#FF6692",
           "#B6E880",
           "#FF97FF",
           "#FECB52"
          ],
          "font": {
           "color": "#2a3f5f"
          },
          "geo": {
           "bgcolor": "white",
           "lakecolor": "white",
           "landcolor": "#E5ECF6",
           "showlakes": true,
           "showland": true,
           "subunitcolor": "white"
          },
          "hoverlabel": {
           "align": "left"
          },
          "hovermode": "closest",
          "mapbox": {
           "style": "light"
          },
          "paper_bgcolor": "white",
          "plot_bgcolor": "#E5ECF6",
          "polar": {
           "angularaxis": {
            "gridcolor": "white",
            "linecolor": "white",
            "ticks": ""
           },
           "bgcolor": "#E5ECF6",
           "radialaxis": {
            "gridcolor": "white",
            "linecolor": "white",
            "ticks": ""
           }
          },
          "scene": {
           "xaxis": {
            "backgroundcolor": "#E5ECF6",
            "gridcolor": "white",
            "gridwidth": 2,
            "linecolor": "white",
            "showbackground": true,
            "ticks": "",
            "zerolinecolor": "white"
           },
           "yaxis": {
            "backgroundcolor": "#E5ECF6",
            "gridcolor": "white",
            "gridwidth": 2,
            "linecolor": "white",
            "showbackground": true,
            "ticks": "",
            "zerolinecolor": "white"
           },
           "zaxis": {
            "backgroundcolor": "#E5ECF6",
            "gridcolor": "white",
            "gridwidth": 2,
            "linecolor": "white",
            "showbackground": true,
            "ticks": "",
            "zerolinecolor": "white"
           }
          },
          "shapedefaults": {
           "line": {
            "color": "#2a3f5f"
           }
          },
          "ternary": {
           "aaxis": {
            "gridcolor": "white",
            "linecolor": "white",
            "ticks": ""
           },
           "baxis": {
            "gridcolor": "white",
            "linecolor": "white",
            "ticks": ""
           },
           "bgcolor": "#E5ECF6",
           "caxis": {
            "gridcolor": "white",
            "linecolor": "white",
            "ticks": ""
           }
          },
          "title": {
           "x": 0.05
          },
          "xaxis": {
           "automargin": true,
           "gridcolor": "white",
           "linecolor": "white",
           "ticks": "",
           "title": {
            "standoff": 15
           },
           "zerolinecolor": "white",
           "zerolinewidth": 2
          },
          "yaxis": {
           "automargin": true,
           "gridcolor": "white",
           "linecolor": "white",
           "ticks": "",
           "title": {
            "standoff": 15
           },
           "zerolinecolor": "white",
           "zerolinewidth": 2
          }
         }
        },
        "title": {
         "text": "AAPL Candlestick Chart (Real Time Data)"
        },
        "xaxis": {
         "title": {
          "text": "Time"
         }
        },
        "yaxis": {
         "title": {
          "text": "Price"
         }
        }
       }
      }
     },
     "metadata": {},
     "output_type": "display_data"
    },
    {
     "data": {
      "application/vnd.plotly.v1+json": {
       "config": {
        "plotlyServerURL": "https://plot.ly"
       },
       "data": [
        {
         "close": {
          "bdata": "H4XrUbi2ZEAfhetRuLZkQHE9CtejuGRAcT0K16O4ZEBxPQrXo7hkQHE9CtejuGRAcT0K16O4ZEBxPQrXo7hkQGZmZmZmtmRAZmZmZma2ZEBmZmZmZrZkQGZmZmZmtmRAZmZmZma2ZEBmZmZmZrZkQArXo3A9smRACtejcD2yZEAK16NwPbJkQArXo3A9smRA",
          "dtype": "f8"
         },
         "high": {
          "bdata": "MzMzMzMzZUAzMzMzMzNlQDMzMzMzM2VAMzMzMzMzZUAzMzMzMzNlQDMzMzMzM2VAMzMzMzMzZUAzMzMzMzNlQDMzMzMzM2VAMzMzMzMzZUAzMzMzMzNlQDMzMzMzM2VAMzMzMzMzZUAzMzMzMzNlQDMzMzMzM2VAMzMzMzMzZUAzMzMzMzNlQDMzMzMzM2VA",
          "dtype": "f8"
         },
         "low": {
          "bdata": "9ihcj8KtZED2KFyPwq1kQPYoXI/CrWRA9ihcj8KtZED2KFyPwq1kQPYoXI/CrWRA9ihcj8KtZED2KFyPwq1kQPYoXI/CrWRA9ihcj8KtZED2KFyPwq1kQPYoXI/CrWRA9ihcj8KtZED2KFyPwq1kQPYoXI/CrWRA9ihcj8KtZED2KFyPwq1kQPYoXI/CrWRA",
          "dtype": "f8"
         },
         "open": {
          "bdata": "MzMzMzMzZUAzMzMzMzNlQDMzMzMzM2VAMzMzMzMzZUAzMzMzMzNlQDMzMzMzM2VAMzMzMzMzZUAzMzMzMzNlQDMzMzMzM2VAMzMzMzMzZUAzMzMzMzNlQDMzMzMzM2VAMzMzMzMzZUAzMzMzMzNlQDMzMzMzM2VAMzMzMzMzZUAzMzMzMzNlQDMzMzMzM2VA",
          "dtype": "f8"
         },
         "type": "candlestick",
         "x": [
          "2025-04-21T18:45:44.000000000",
          "2025-04-21T18:46:00.000000000",
          "2025-04-21T18:46:08.000000000",
          "2025-04-21T18:46:18.000000000",
          "2025-04-21T18:46:31.000000000",
          "2025-04-21T18:46:39.000000000",
          "2025-04-21T18:46:48.000000000",
          "2025-04-21T18:47:00.000000000",
          "2025-04-21T18:47:09.000000000",
          "2025-04-21T18:47:21.000000000",
          "2025-04-21T18:47:30.000000000",
          "2025-04-21T18:47:43.000000000",
          "2025-04-21T18:47:51.000000000",
          "2025-04-21T18:47:58.000000000",
          "2025-04-21T18:48:12.000000000",
          "2025-04-21T18:48:23.000000000",
          "2025-04-21T18:48:32.000000000",
          "2025-04-21T18:48:40.000000000"
         ]
        }
       ],
       "layout": {
        "template": {
         "data": {
          "bar": [
           {
            "error_x": {
             "color": "#2a3f5f"
            },
            "error_y": {
             "color": "#2a3f5f"
            },
            "marker": {
             "line": {
              "color": "#E5ECF6",
              "width": 0.5
             },
             "pattern": {
              "fillmode": "overlay",
              "size": 10,
              "solidity": 0.2
             }
            },
            "type": "bar"
           }
          ],
          "barpolar": [
           {
            "marker": {
             "line": {
              "color": "#E5ECF6",
              "width": 0.5
             },
             "pattern": {
              "fillmode": "overlay",
              "size": 10,
              "solidity": 0.2
             }
            },
            "type": "barpolar"
           }
          ],
          "carpet": [
           {
            "aaxis": {
             "endlinecolor": "#2a3f5f",
             "gridcolor": "white",
             "linecolor": "white",
             "minorgridcolor": "white",
             "startlinecolor": "#2a3f5f"
            },
            "baxis": {
             "endlinecolor": "#2a3f5f",
             "gridcolor": "white",
             "linecolor": "white",
             "minorgridcolor": "white",
             "startlinecolor": "#2a3f5f"
            },
            "type": "carpet"
           }
          ],
          "choropleth": [
           {
            "colorbar": {
             "outlinewidth": 0,
             "ticks": ""
            },
            "type": "choropleth"
           }
          ],
          "contour": [
           {
            "colorbar": {
             "outlinewidth": 0,
             "ticks": ""
            },
            "colorscale": [
             [
              0,
              "#0d0887"
             ],
             [
              0.1111111111111111,
              "#46039f"
             ],
             [
              0.2222222222222222,
              "#7201a8"
             ],
             [
              0.3333333333333333,
              "#9c179e"
             ],
             [
              0.4444444444444444,
              "#bd3786"
             ],
             [
              0.5555555555555556,
              "#d8576b"
             ],
             [
              0.6666666666666666,
              "#ed7953"
             ],
             [
              0.7777777777777778,
              "#fb9f3a"
             ],
             [
              0.8888888888888888,
              "#fdca26"
             ],
             [
              1,
              "#f0f921"
             ]
            ],
            "type": "contour"
           }
          ],
          "contourcarpet": [
           {
            "colorbar": {
             "outlinewidth": 0,
             "ticks": ""
            },
            "type": "contourcarpet"
           }
          ],
          "heatmap": [
           {
            "colorbar": {
             "outlinewidth": 0,
             "ticks": ""
            },
            "colorscale": [
             [
              0,
              "#0d0887"
             ],
             [
              0.1111111111111111,
              "#46039f"
             ],
             [
              0.2222222222222222,
              "#7201a8"
             ],
             [
              0.3333333333333333,
              "#9c179e"
             ],
             [
              0.4444444444444444,
              "#bd3786"
             ],
             [
              0.5555555555555556,
              "#d8576b"
             ],
             [
              0.6666666666666666,
              "#ed7953"
             ],
             [
              0.7777777777777778,
              "#fb9f3a"
             ],
             [
              0.8888888888888888,
              "#fdca26"
             ],
             [
              1,
              "#f0f921"
             ]
            ],
            "type": "heatmap"
           }
          ],
          "histogram": [
           {
            "marker": {
             "pattern": {
              "fillmode": "overlay",
              "size": 10,
              "solidity": 0.2
             }
            },
            "type": "histogram"
           }
          ],
          "histogram2d": [
           {
            "colorbar": {
             "outlinewidth": 0,
             "ticks": ""
            },
            "colorscale": [
             [
              0,
              "#0d0887"
             ],
             [
              0.1111111111111111,
              "#46039f"
             ],
             [
              0.2222222222222222,
              "#7201a8"
             ],
             [
              0.3333333333333333,
              "#9c179e"
             ],
             [
              0.4444444444444444,
              "#bd3786"
             ],
             [
              0.5555555555555556,
              "#d8576b"
             ],
             [
              0.6666666666666666,
              "#ed7953"
             ],
             [
              0.7777777777777778,
              "#fb9f3a"
             ],
             [
              0.8888888888888888,
              "#fdca26"
             ],
             [
              1,
              "#f0f921"
             ]
            ],
            "type": "histogram2d"
           }
          ],
          "histogram2dcontour": [
           {
            "colorbar": {
             "outlinewidth": 0,
             "ticks": ""
            },
            "colorscale": [
             [
              0,
              "#0d0887"
             ],
             [
              0.1111111111111111,
              "#46039f"
             ],
             [
              0.2222222222222222,
              "#7201a8"
             ],
             [
              0.3333333333333333,
              "#9c179e"
             ],
             [
              0.4444444444444444,
              "#bd3786"
             ],
             [
              0.5555555555555556,
              "#d8576b"
             ],
             [
              0.6666666666666666,
              "#ed7953"
             ],
             [
              0.7777777777777778,
              "#fb9f3a"
             ],
             [
              0.8888888888888888,
              "#fdca26"
             ],
             [
              1,
              "#f0f921"
             ]
            ],
            "type": "histogram2dcontour"
           }
          ],
          "mesh3d": [
           {
            "colorbar": {
             "outlinewidth": 0,
             "ticks": ""
            },
            "type": "mesh3d"
           }
          ],
          "parcoords": [
           {
            "line": {
             "colorbar": {
              "outlinewidth": 0,
              "ticks": ""
             }
            },
            "type": "parcoords"
           }
          ],
          "pie": [
           {
            "automargin": true,
            "type": "pie"
           }
          ],
          "scatter": [
           {
            "fillpattern": {
             "fillmode": "overlay",
             "size": 10,
             "solidity": 0.2
            },
            "type": "scatter"
           }
          ],
          "scatter3d": [
           {
            "line": {
             "colorbar": {
              "outlinewidth": 0,
              "ticks": ""
             }
            },
            "marker": {
             "colorbar": {
              "outlinewidth": 0,
              "ticks": ""
             }
            },
            "type": "scatter3d"
           }
          ],
          "scattercarpet": [
           {
            "marker": {
             "colorbar": {
              "outlinewidth": 0,
              "ticks": ""
             }
            },
            "type": "scattercarpet"
           }
          ],
          "scattergeo": [
           {
            "marker": {
             "colorbar": {
              "outlinewidth": 0,
              "ticks": ""
             }
            },
            "type": "scattergeo"
           }
          ],
          "scattergl": [
           {
            "marker": {
             "colorbar": {
              "outlinewidth": 0,
              "ticks": ""
             }
            },
            "type": "scattergl"
           }
          ],
          "scattermap": [
           {
            "marker": {
             "colorbar": {
              "outlinewidth": 0,
              "ticks": ""
             }
            },
            "type": "scattermap"
           }
          ],
          "scattermapbox": [
           {
            "marker": {
             "colorbar": {
              "outlinewidth": 0,
              "ticks": ""
             }
            },
            "type": "scattermapbox"
           }
          ],
          "scatterpolar": [
           {
            "marker": {
             "colorbar": {
              "outlinewidth": 0,
              "ticks": ""
             }
            },
            "type": "scatterpolar"
           }
          ],
          "scatterpolargl": [
           {
            "marker": {
             "colorbar": {
              "outlinewidth": 0,
              "ticks": ""
             }
            },
            "type": "scatterpolargl"
           }
          ],
          "scatterternary": [
           {
            "marker": {
             "colorbar": {
              "outlinewidth": 0,
              "ticks": ""
             }
            },
            "type": "scatterternary"
           }
          ],
          "surface": [
           {
            "colorbar": {
             "outlinewidth": 0,
             "ticks": ""
            },
            "colorscale": [
             [
              0,
              "#0d0887"
             ],
             [
              0.1111111111111111,
              "#46039f"
             ],
             [
              0.2222222222222222,
              "#7201a8"
             ],
             [
              0.3333333333333333,
              "#9c179e"
             ],
             [
              0.4444444444444444,
              "#bd3786"
             ],
             [
              0.5555555555555556,
              "#d8576b"
             ],
             [
              0.6666666666666666,
              "#ed7953"
             ],
             [
              0.7777777777777778,
              "#fb9f3a"
             ],
             [
              0.8888888888888888,
              "#fdca26"
             ],
             [
              1,
              "#f0f921"
             ]
            ],
            "type": "surface"
           }
          ],
          "table": [
           {
            "cells": {
             "fill": {
              "color": "#EBF0F8"
             },
             "line": {
              "color": "white"
             }
            },
            "header": {
             "fill": {
              "color": "#C8D4E3"
             },
             "line": {
              "color": "white"
             }
            },
            "type": "table"
           }
          ]
         },
         "layout": {
          "annotationdefaults": {
           "arrowcolor": "#2a3f5f",
           "arrowhead": 0,
           "arrowwidth": 1
          },
          "autotypenumbers": "strict",
          "coloraxis": {
           "colorbar": {
            "outlinewidth": 0,
            "ticks": ""
           }
          },
          "colorscale": {
           "diverging": [
            [
             0,
             "#8e0152"
            ],
            [
             0.1,
             "#c51b7d"
            ],
            [
             0.2,
             "#de77ae"
            ],
            [
             0.3,
             "#f1b6da"
            ],
            [
             0.4,
             "#fde0ef"
            ],
            [
             0.5,
             "#f7f7f7"
            ],
            [
             0.6,
             "#e6f5d0"
            ],
            [
             0.7,
             "#b8e186"
            ],
            [
             0.8,
             "#7fbc41"
            ],
            [
             0.9,
             "#4d9221"
            ],
            [
             1,
             "#276419"
            ]
           ],
           "sequential": [
            [
             0,
             "#0d0887"
            ],
            [
             0.1111111111111111,
             "#46039f"
            ],
            [
             0.2222222222222222,
             "#7201a8"
            ],
            [
             0.3333333333333333,
             "#9c179e"
            ],
            [
             0.4444444444444444,
             "#bd3786"
            ],
            [
             0.5555555555555556,
             "#d8576b"
            ],
            [
             0.6666666666666666,
             "#ed7953"
            ],
            [
             0.7777777777777778,
             "#fb9f3a"
            ],
            [
             0.8888888888888888,
             "#fdca26"
            ],
            [
             1,
             "#f0f921"
            ]
           ],
           "sequentialminus": [
            [
             0,
             "#0d0887"
            ],
            [
             0.1111111111111111,
             "#46039f"
            ],
            [
             0.2222222222222222,
             "#7201a8"
            ],
            [
             0.3333333333333333,
             "#9c179e"
            ],
            [
             0.4444444444444444,
             "#bd3786"
            ],
            [
             0.5555555555555556,
             "#d8576b"
            ],
            [
             0.6666666666666666,
             "#ed7953"
            ],
            [
             0.7777777777777778,
             "#fb9f3a"
            ],
            [
             0.8888888888888888,
             "#fdca26"
            ],
            [
             1,
             "#f0f921"
            ]
           ]
          },
          "colorway": [
           "#636efa",
           "#EF553B",
           "#00cc96",
           "#ab63fa",
           "#FFA15A",
           "#19d3f3",
           "#FF6692",
           "#B6E880",
           "#FF97FF",
           "#FECB52"
          ],
          "font": {
           "color": "#2a3f5f"
          },
          "geo": {
           "bgcolor": "white",
           "lakecolor": "white",
           "landcolor": "#E5ECF6",
           "showlakes": true,
           "showland": true,
           "subunitcolor": "white"
          },
          "hoverlabel": {
           "align": "left"
          },
          "hovermode": "closest",
          "mapbox": {
           "style": "light"
          },
          "paper_bgcolor": "white",
          "plot_bgcolor": "#E5ECF6",
          "polar": {
           "angularaxis": {
            "gridcolor": "white",
            "linecolor": "white",
            "ticks": ""
           },
           "bgcolor": "#E5ECF6",
           "radialaxis": {
            "gridcolor": "white",
            "linecolor": "white",
            "ticks": ""
           }
          },
          "scene": {
           "xaxis": {
            "backgroundcolor": "#E5ECF6",
            "gridcolor": "white",
            "gridwidth": 2,
            "linecolor": "white",
            "showbackground": true,
            "ticks": "",
            "zerolinecolor": "white"
           },
           "yaxis": {
            "backgroundcolor": "#E5ECF6",
            "gridcolor": "white",
            "gridwidth": 2,
            "linecolor": "white",
            "showbackground": true,
            "ticks": "",
            "zerolinecolor": "white"
           },
           "zaxis": {
            "backgroundcolor": "#E5ECF6",
            "gridcolor": "white",
            "gridwidth": 2,
            "linecolor": "white",
            "showbackground": true,
            "ticks": "",
            "zerolinecolor": "white"
           }
          },
          "shapedefaults": {
           "line": {
            "color": "#2a3f5f"
           }
          },
          "ternary": {
           "aaxis": {
            "gridcolor": "white",
            "linecolor": "white",
            "ticks": ""
           },
           "baxis": {
            "gridcolor": "white",
            "linecolor": "white",
            "ticks": ""
           },
           "bgcolor": "#E5ECF6",
           "caxis": {
            "gridcolor": "white",
            "linecolor": "white",
            "ticks": ""
           }
          },
          "title": {
           "x": 0.05
          },
          "xaxis": {
           "automargin": true,
           "gridcolor": "white",
           "linecolor": "white",
           "ticks": "",
           "title": {
            "standoff": 15
           },
           "zerolinecolor": "white",
           "zerolinewidth": 2
          },
          "yaxis": {
           "automargin": true,
           "gridcolor": "white",
           "linecolor": "white",
           "ticks": "",
           "title": {
            "standoff": 15
           },
           "zerolinecolor": "white",
           "zerolinewidth": 2
          }
         }
        },
        "title": {
         "text": "AMZN Candlestick Chart (Real Time Data)"
        },
        "xaxis": {
         "title": {
          "text": "Time"
         }
        },
        "yaxis": {
         "title": {
          "text": "Price"
         }
        }
       }
      }
     },
     "metadata": {},
     "output_type": "display_data"
    },
    {
     "data": {
      "application/vnd.plotly.v1+json": {
       "config": {
        "plotlyServerURL": "https://plot.ly"
       },
       "data": [
        {
         "close": {
          "bdata": "MzMzMzNLYkAzMzMzM0tiQDMzMzMzS2JAMzMzMzNLYkAzMzMzM0tiQDMzMzMzS2JAMzMzMzNLYkAzMzMzM0tiQMP1KFyPSmJAw/UoXI9KYkDD9Shcj0piQMP1KFyPSmJAw/UoXI9KYkDD9Shcj0piQBiV1AloSGJAGJXUCWhIYkAYldQJaEhiQBiV1AloSGJA",
          "dtype": "f8"
         },
         "high": {
          "bdata": "CtejcD2eYkAK16NwPZ5iQArXo3A9nmJACtejcD2eYkAK16NwPZ5iQArXo3A9nmJACtejcD2eYkAK16NwPZ5iQArXo3A9nmJACtejcD2eYkAK16NwPZ5iQArXo3A9nmJACtejcD2eYkAK16NwPZ5iQArXo3A9nmJACtejcD2eYkAK16NwPZ5iQArXo3A9nmJA",
          "dtype": "f8"
         },
         "low": {
          "bdata": "16NwPQpHYkDXo3A9CkdiQNejcD0KR2JA16NwPQpHYkDXo3A9CkdiQNejcD0KR2JA16NwPQpHYkDXo3A9CkdiQNejcD0KR2JA16NwPQpHYkDXo3A9CkdiQNejcD0KR2JA16NwPQpHYkDXo3A9CkdiQNejcD0KR2JA16NwPQpHYkDXo3A9CkdiQNejcD0KR2JA",
          "dtype": "f8"
         },
         "open": {
          "bdata": "XI/C9SicYkBcj8L1KJxiQFyPwvUonGJAXI/C9SicYkBcj8L1KJxiQFyPwvUonGJAXI/C9SicYkBcj8L1KJxiQFyPwvUonGJAXI/C9SicYkBcj8L1KJxiQFyPwvUonGJAXI/C9SicYkBcj8L1KJxiQFyPwvUonGJAXI/C9SicYkBcj8L1KJxiQFyPwvUonGJA",
          "dtype": "f8"
         },
         "type": "candlestick",
         "x": [
          "2025-04-21T18:45:45.000000000",
          "2025-04-21T18:45:59.000000000",
          "2025-04-21T18:46:06.000000000",
          "2025-04-21T18:46:17.000000000",
          "2025-04-21T18:46:31.000000000",
          "2025-04-21T18:46:39.000000000",
          "2025-04-21T18:46:46.000000000",
          "2025-04-21T18:47:00.000000000",
          "2025-04-21T18:47:08.000000000",
          "2025-04-21T18:47:21.000000000",
          "2025-04-21T18:47:28.000000000",
          "2025-04-21T18:47:41.000000000",
          "2025-04-21T18:47:50.000000000",
          "2025-04-21T18:47:56.000000000",
          "2025-04-21T18:48:11.000000000",
          "2025-04-21T18:48:24.000000000",
          "2025-04-21T18:48:32.000000000",
          "2025-04-21T18:48:40.000000000"
         ]
        }
       ],
       "layout": {
        "template": {
         "data": {
          "bar": [
           {
            "error_x": {
             "color": "#2a3f5f"
            },
            "error_y": {
             "color": "#2a3f5f"
            },
            "marker": {
             "line": {
              "color": "#E5ECF6",
              "width": 0.5
             },
             "pattern": {
              "fillmode": "overlay",
              "size": 10,
              "solidity": 0.2
             }
            },
            "type": "bar"
           }
          ],
          "barpolar": [
           {
            "marker": {
             "line": {
              "color": "#E5ECF6",
              "width": 0.5
             },
             "pattern": {
              "fillmode": "overlay",
              "size": 10,
              "solidity": 0.2
             }
            },
            "type": "barpolar"
           }
          ],
          "carpet": [
           {
            "aaxis": {
             "endlinecolor": "#2a3f5f",
             "gridcolor": "white",
             "linecolor": "white",
             "minorgridcolor": "white",
             "startlinecolor": "#2a3f5f"
            },
            "baxis": {
             "endlinecolor": "#2a3f5f",
             "gridcolor": "white",
             "linecolor": "white",
             "minorgridcolor": "white",
             "startlinecolor": "#2a3f5f"
            },
            "type": "carpet"
           }
          ],
          "choropleth": [
           {
            "colorbar": {
             "outlinewidth": 0,
             "ticks": ""
            },
            "type": "choropleth"
           }
          ],
          "contour": [
           {
            "colorbar": {
             "outlinewidth": 0,
             "ticks": ""
            },
            "colorscale": [
             [
              0,
              "#0d0887"
             ],
             [
              0.1111111111111111,
              "#46039f"
             ],
             [
              0.2222222222222222,
              "#7201a8"
             ],
             [
              0.3333333333333333,
              "#9c179e"
             ],
             [
              0.4444444444444444,
              "#bd3786"
             ],
             [
              0.5555555555555556,
              "#d8576b"
             ],
             [
              0.6666666666666666,
              "#ed7953"
             ],
             [
              0.7777777777777778,
              "#fb9f3a"
             ],
             [
              0.8888888888888888,
              "#fdca26"
             ],
             [
              1,
              "#f0f921"
             ]
            ],
            "type": "contour"
           }
          ],
          "contourcarpet": [
           {
            "colorbar": {
             "outlinewidth": 0,
             "ticks": ""
            },
            "type": "contourcarpet"
           }
          ],
          "heatmap": [
           {
            "colorbar": {
             "outlinewidth": 0,
             "ticks": ""
            },
            "colorscale": [
             [
              0,
              "#0d0887"
             ],
             [
              0.1111111111111111,
              "#46039f"
             ],
             [
              0.2222222222222222,
              "#7201a8"
             ],
             [
              0.3333333333333333,
              "#9c179e"
             ],
             [
              0.4444444444444444,
              "#bd3786"
             ],
             [
              0.5555555555555556,
              "#d8576b"
             ],
             [
              0.6666666666666666,
              "#ed7953"
             ],
             [
              0.7777777777777778,
              "#fb9f3a"
             ],
             [
              0.8888888888888888,
              "#fdca26"
             ],
             [
              1,
              "#f0f921"
             ]
            ],
            "type": "heatmap"
           }
          ],
          "histogram": [
           {
            "marker": {
             "pattern": {
              "fillmode": "overlay",
              "size": 10,
              "solidity": 0.2
             }
            },
            "type": "histogram"
           }
          ],
          "histogram2d": [
           {
            "colorbar": {
             "outlinewidth": 0,
             "ticks": ""
            },
            "colorscale": [
             [
              0,
              "#0d0887"
             ],
             [
              0.1111111111111111,
              "#46039f"
             ],
             [
              0.2222222222222222,
              "#7201a8"
             ],
             [
              0.3333333333333333,
              "#9c179e"
             ],
             [
              0.4444444444444444,
              "#bd3786"
             ],
             [
              0.5555555555555556,
              "#d8576b"
             ],
             [
              0.6666666666666666,
              "#ed7953"
             ],
             [
              0.7777777777777778,
              "#fb9f3a"
             ],
             [
              0.8888888888888888,
              "#fdca26"
             ],
             [
              1,
              "#f0f921"
             ]
            ],
            "type": "histogram2d"
           }
          ],
          "histogram2dcontour": [
           {
            "colorbar": {
             "outlinewidth": 0,
             "ticks": ""
            },
            "colorscale": [
             [
              0,
              "#0d0887"
             ],
             [
              0.1111111111111111,
              "#46039f"
             ],
             [
              0.2222222222222222,
              "#7201a8"
             ],
             [
              0.3333333333333333,
              "#9c179e"
             ],
             [
              0.4444444444444444,
              "#bd3786"
             ],
             [
              0.5555555555555556,
              "#d8576b"
             ],
             [
              0.6666666666666666,
              "#ed7953"
             ],
             [
              0.7777777777777778,
              "#fb9f3a"
             ],
             [
              0.8888888888888888,
              "#fdca26"
             ],
             [
              1,
              "#f0f921"
             ]
            ],
            "type": "histogram2dcontour"
           }
          ],
          "mesh3d": [
           {
            "colorbar": {
             "outlinewidth": 0,
             "ticks": ""
            },
            "type": "mesh3d"
           }
          ],
          "parcoords": [
           {
            "line": {
             "colorbar": {
              "outlinewidth": 0,
              "ticks": ""
             }
            },
            "type": "parcoords"
           }
          ],
          "pie": [
           {
            "automargin": true,
            "type": "pie"
           }
          ],
          "scatter": [
           {
            "fillpattern": {
             "fillmode": "overlay",
             "size": 10,
             "solidity": 0.2
            },
            "type": "scatter"
           }
          ],
          "scatter3d": [
           {
            "line": {
             "colorbar": {
              "outlinewidth": 0,
              "ticks": ""
             }
            },
            "marker": {
             "colorbar": {
              "outlinewidth": 0,
              "ticks": ""
             }
            },
            "type": "scatter3d"
           }
          ],
          "scattercarpet": [
           {
            "marker": {
             "colorbar": {
              "outlinewidth": 0,
              "ticks": ""
             }
            },
            "type": "scattercarpet"
           }
          ],
          "scattergeo": [
           {
            "marker": {
             "colorbar": {
              "outlinewidth": 0,
              "ticks": ""
             }
            },
            "type": "scattergeo"
           }
          ],
          "scattergl": [
           {
            "marker": {
             "colorbar": {
              "outlinewidth": 0,
              "ticks": ""
             }
            },
            "type": "scattergl"
           }
          ],
          "scattermap": [
           {
            "marker": {
             "colorbar": {
              "outlinewidth": 0,
              "ticks": ""
             }
            },
            "type": "scattermap"
           }
          ],
          "scattermapbox": [
           {
            "marker": {
             "colorbar": {
              "outlinewidth": 0,
              "ticks": ""
             }
            },
            "type": "scattermapbox"
           }
          ],
          "scatterpolar": [
           {
            "marker": {
             "colorbar": {
              "outlinewidth": 0,
              "ticks": ""
             }
            },
            "type": "scatterpolar"
           }
          ],
          "scatterpolargl": [
           {
            "marker": {
             "colorbar": {
              "outlinewidth": 0,
              "ticks": ""
             }
            },
            "type": "scatterpolargl"
           }
          ],
          "scatterternary": [
           {
            "marker": {
             "colorbar": {
              "outlinewidth": 0,
              "ticks": ""
             }
            },
            "type": "scatterternary"
           }
          ],
          "surface": [
           {
            "colorbar": {
             "outlinewidth": 0,
             "ticks": ""
            },
            "colorscale": [
             [
              0,
              "#0d0887"
             ],
             [
              0.1111111111111111,
              "#46039f"
             ],
             [
              0.2222222222222222,
              "#7201a8"
             ],
             [
              0.3333333333333333,
              "#9c179e"
             ],
             [
              0.4444444444444444,
              "#bd3786"
             ],
             [
              0.5555555555555556,
              "#d8576b"
             ],
             [
              0.6666666666666666,
              "#ed7953"
             ],
             [
              0.7777777777777778,
              "#fb9f3a"
             ],
             [
              0.8888888888888888,
              "#fdca26"
             ],
             [
              1,
              "#f0f921"
             ]
            ],
            "type": "surface"
           }
          ],
          "table": [
           {
            "cells": {
             "fill": {
              "color": "#EBF0F8"
             },
             "line": {
              "color": "white"
             }
            },
            "header": {
             "fill": {
              "color": "#C8D4E3"
             },
             "line": {
              "color": "white"
             }
            },
            "type": "table"
           }
          ]
         },
         "layout": {
          "annotationdefaults": {
           "arrowcolor": "#2a3f5f",
           "arrowhead": 0,
           "arrowwidth": 1
          },
          "autotypenumbers": "strict",
          "coloraxis": {
           "colorbar": {
            "outlinewidth": 0,
            "ticks": ""
           }
          },
          "colorscale": {
           "diverging": [
            [
             0,
             "#8e0152"
            ],
            [
             0.1,
             "#c51b7d"
            ],
            [
             0.2,
             "#de77ae"
            ],
            [
             0.3,
             "#f1b6da"
            ],
            [
             0.4,
             "#fde0ef"
            ],
            [
             0.5,
             "#f7f7f7"
            ],
            [
             0.6,
             "#e6f5d0"
            ],
            [
             0.7,
             "#b8e186"
            ],
            [
             0.8,
             "#7fbc41"
            ],
            [
             0.9,
             "#4d9221"
            ],
            [
             1,
             "#276419"
            ]
           ],
           "sequential": [
            [
             0,
             "#0d0887"
            ],
            [
             0.1111111111111111,
             "#46039f"
            ],
            [
             0.2222222222222222,
             "#7201a8"
            ],
            [
             0.3333333333333333,
             "#9c179e"
            ],
            [
             0.4444444444444444,
             "#bd3786"
            ],
            [
             0.5555555555555556,
             "#d8576b"
            ],
            [
             0.6666666666666666,
             "#ed7953"
            ],
            [
             0.7777777777777778,
             "#fb9f3a"
            ],
            [
             0.8888888888888888,
             "#fdca26"
            ],
            [
             1,
             "#f0f921"
            ]
           ],
           "sequentialminus": [
            [
             0,
             "#0d0887"
            ],
            [
             0.1111111111111111,
             "#46039f"
            ],
            [
             0.2222222222222222,
             "#7201a8"
            ],
            [
             0.3333333333333333,
             "#9c179e"
            ],
            [
             0.4444444444444444,
             "#bd3786"
            ],
            [
             0.5555555555555556,
             "#d8576b"
            ],
            [
             0.6666666666666666,
             "#ed7953"
            ],
            [
             0.7777777777777778,
             "#fb9f3a"
            ],
            [
             0.8888888888888888,
             "#fdca26"
            ],
            [
             1,
             "#f0f921"
            ]
           ]
          },
          "colorway": [
           "#636efa",
           "#EF553B",
           "#00cc96",
           "#ab63fa",
           "#FFA15A",
           "#19d3f3",
           "#FF6692",
           "#B6E880",
           "#FF97FF",
           "#FECB52"
          ],
          "font": {
           "color": "#2a3f5f"
          },
          "geo": {
           "bgcolor": "white",
           "lakecolor": "white",
           "landcolor": "#E5ECF6",
           "showlakes": true,
           "showland": true,
           "subunitcolor": "white"
          },
          "hoverlabel": {
           "align": "left"
          },
          "hovermode": "closest",
          "mapbox": {
           "style": "light"
          },
          "paper_bgcolor": "white",
          "plot_bgcolor": "#E5ECF6",
          "polar": {
           "angularaxis": {
            "gridcolor": "white",
            "linecolor": "white",
            "ticks": ""
           },
           "bgcolor": "#E5ECF6",
           "radialaxis": {
            "gridcolor": "white",
            "linecolor": "white",
            "ticks": ""
           }
          },
          "scene": {
           "xaxis": {
            "backgroundcolor": "#E5ECF6",
            "gridcolor": "white",
            "gridwidth": 2,
            "linecolor": "white",
            "showbackground": true,
            "ticks": "",
            "zerolinecolor": "white"
           },
           "yaxis": {
            "backgroundcolor": "#E5ECF6",
            "gridcolor": "white",
            "gridwidth": 2,
            "linecolor": "white",
            "showbackground": true,
            "ticks": "",
            "zerolinecolor": "white"
           },
           "zaxis": {
            "backgroundcolor": "#E5ECF6",
            "gridcolor": "white",
            "gridwidth": 2,
            "linecolor": "white",
            "showbackground": true,
            "ticks": "",
            "zerolinecolor": "white"
           }
          },
          "shapedefaults": {
           "line": {
            "color": "#2a3f5f"
           }
          },
          "ternary": {
           "aaxis": {
            "gridcolor": "white",
            "linecolor": "white",
            "ticks": ""
           },
           "baxis": {
            "gridcolor": "white",
            "linecolor": "white",
            "ticks": ""
           },
           "bgcolor": "#E5ECF6",
           "caxis": {
            "gridcolor": "white",
            "linecolor": "white",
            "ticks": ""
           }
          },
          "title": {
           "x": 0.05
          },
          "xaxis": {
           "automargin": true,
           "gridcolor": "white",
           "linecolor": "white",
           "ticks": "",
           "title": {
            "standoff": 15
           },
           "zerolinecolor": "white",
           "zerolinewidth": 2
          },
          "yaxis": {
           "automargin": true,
           "gridcolor": "white",
           "linecolor": "white",
           "ticks": "",
           "title": {
            "standoff": 15
           },
           "zerolinecolor": "white",
           "zerolinewidth": 2
          }
         }
        },
        "title": {
         "text": "GOOGL Candlestick Chart (Real Time Data)"
        },
        "xaxis": {
         "title": {
          "text": "Time"
         }
        },
        "yaxis": {
         "title": {
          "text": "Price"
         }
        }
       }
      }
     },
     "metadata": {},
     "output_type": "display_data"
    },
    {
     "data": {
      "application/vnd.plotly.v1+json": {
       "config": {
        "plotlyServerURL": "https://plot.ly"
       },
       "data": [
        {
         "close": {
          "bdata": "AAAAAAAwfkAAAAAAADB+QB+F61G4OH5AH4XrUbg4fkAfhetRuDh+QB+F61G4OH5AH4XrUbg4fkAfhetRuDh+QPYoXI/CNX5A9ihcj8I1fkD2KFyPwjV+QPYoXI/CNX5A9ihcj8I1fkCamZmZmSt+QJqZmZmZK35AmpmZmZkrfkCamZmZmSt+QJqZmZmZK35A",
          "dtype": "f8"
         },
         "high": {
          "bdata": "AAAAAADYfkAAAAAAANh+QAAAAAAA2H5AAAAAAADYfkAAAAAAANh+QAAAAAAA2H5AAAAAAADYfkAAAAAAANh+QAAAAAAA2H5AAAAAAADYfkAAAAAAANh+QAAAAAAA2H5AAAAAAADYfkAAAAAAANh+QAAAAAAA2H5AAAAAAADYfkAAAAAAANh+QAAAAAAA2H5A",
          "dtype": "f8"
         },
         "low": {
          "bdata": "zczMzMz8fUDNzMzMzPx9QM3MzMzM/H1AzczMzMz8fUDNzMzMzPx9QM3MzMzM/H1AzczMzMz8fUDNzMzMzPx9QM3MzMzM/H1AzczMzMz8fUDNzMzMzPx9QM3MzMzM/H1AzczMzMz8fUDNzMzMzPx9QM3MzMzM/H1AzczMzMz8fUDNzMzMzPx9QM3MzMzM/H1A",
          "dtype": "f8"
         },
         "open": {
          "bdata": "MzMzMzO1fkAzMzMzM7V+QDMzMzMztX5AMzMzMzO1fkAzMzMzM7V+QDMzMzMztX5AMzMzMzO1fkAzMzMzM7V+QDMzMzMztX5AMzMzMzO1fkAzMzMzM7V+QDMzMzMztX5AMzMzMzO1fkAzMzMzM7V+QDMzMzMztX5AMzMzMzO1fkAzMzMzM7V+QDMzMzMztX5A",
          "dtype": "f8"
         },
         "type": "candlestick",
         "x": [
          "2025-04-21T18:45:45.000000000",
          "2025-04-21T18:45:59.000000000",
          "2025-04-21T18:46:08.000000000",
          "2025-04-21T18:46:16.000000000",
          "2025-04-21T18:46:31.000000000",
          "2025-04-21T18:46:39.000000000",
          "2025-04-21T18:46:48.000000000",
          "2025-04-21T18:47:00.000000000",
          "2025-04-21T18:47:08.000000000",
          "2025-04-21T18:47:21.000000000",
          "2025-04-21T18:47:25.000000000",
          "2025-04-21T18:47:39.000000000",
          "2025-04-21T18:47:51.000000000",
          "2025-04-21T18:48:04.000000000",
          "2025-04-21T18:48:06.000000000",
          "2025-04-21T18:48:23.000000000",
          "2025-04-21T18:48:31.000000000",
          "2025-04-21T18:48:33.000000000"
         ]
        }
       ],
       "layout": {
        "template": {
         "data": {
          "bar": [
           {
            "error_x": {
             "color": "#2a3f5f"
            },
            "error_y": {
             "color": "#2a3f5f"
            },
            "marker": {
             "line": {
              "color": "#E5ECF6",
              "width": 0.5
             },
             "pattern": {
              "fillmode": "overlay",
              "size": 10,
              "solidity": 0.2
             }
            },
            "type": "bar"
           }
          ],
          "barpolar": [
           {
            "marker": {
             "line": {
              "color": "#E5ECF6",
              "width": 0.5
             },
             "pattern": {
              "fillmode": "overlay",
              "size": 10,
              "solidity": 0.2
             }
            },
            "type": "barpolar"
           }
          ],
          "carpet": [
           {
            "aaxis": {
             "endlinecolor": "#2a3f5f",
             "gridcolor": "white",
             "linecolor": "white",
             "minorgridcolor": "white",
             "startlinecolor": "#2a3f5f"
            },
            "baxis": {
             "endlinecolor": "#2a3f5f",
             "gridcolor": "white",
             "linecolor": "white",
             "minorgridcolor": "white",
             "startlinecolor": "#2a3f5f"
            },
            "type": "carpet"
           }
          ],
          "choropleth": [
           {
            "colorbar": {
             "outlinewidth": 0,
             "ticks": ""
            },
            "type": "choropleth"
           }
          ],
          "contour": [
           {
            "colorbar": {
             "outlinewidth": 0,
             "ticks": ""
            },
            "colorscale": [
             [
              0,
              "#0d0887"
             ],
             [
              0.1111111111111111,
              "#46039f"
             ],
             [
              0.2222222222222222,
              "#7201a8"
             ],
             [
              0.3333333333333333,
              "#9c179e"
             ],
             [
              0.4444444444444444,
              "#bd3786"
             ],
             [
              0.5555555555555556,
              "#d8576b"
             ],
             [
              0.6666666666666666,
              "#ed7953"
             ],
             [
              0.7777777777777778,
              "#fb9f3a"
             ],
             [
              0.8888888888888888,
              "#fdca26"
             ],
             [
              1,
              "#f0f921"
             ]
            ],
            "type": "contour"
           }
          ],
          "contourcarpet": [
           {
            "colorbar": {
             "outlinewidth": 0,
             "ticks": ""
            },
            "type": "contourcarpet"
           }
          ],
          "heatmap": [
           {
            "colorbar": {
             "outlinewidth": 0,
             "ticks": ""
            },
            "colorscale": [
             [
              0,
              "#0d0887"
             ],
             [
              0.1111111111111111,
              "#46039f"
             ],
             [
              0.2222222222222222,
              "#7201a8"
             ],
             [
              0.3333333333333333,
              "#9c179e"
             ],
             [
              0.4444444444444444,
              "#bd3786"
             ],
             [
              0.5555555555555556,
              "#d8576b"
             ],
             [
              0.6666666666666666,
              "#ed7953"
             ],
             [
              0.7777777777777778,
              "#fb9f3a"
             ],
             [
              0.8888888888888888,
              "#fdca26"
             ],
             [
              1,
              "#f0f921"
             ]
            ],
            "type": "heatmap"
           }
          ],
          "histogram": [
           {
            "marker": {
             "pattern": {
              "fillmode": "overlay",
              "size": 10,
              "solidity": 0.2
             }
            },
            "type": "histogram"
           }
          ],
          "histogram2d": [
           {
            "colorbar": {
             "outlinewidth": 0,
             "ticks": ""
            },
            "colorscale": [
             [
              0,
              "#0d0887"
             ],
             [
              0.1111111111111111,
              "#46039f"
             ],
             [
              0.2222222222222222,
              "#7201a8"
             ],
             [
              0.3333333333333333,
              "#9c179e"
             ],
             [
              0.4444444444444444,
              "#bd3786"
             ],
             [
              0.5555555555555556,
              "#d8576b"
             ],
             [
              0.6666666666666666,
              "#ed7953"
             ],
             [
              0.7777777777777778,
              "#fb9f3a"
             ],
             [
              0.8888888888888888,
              "#fdca26"
             ],
             [
              1,
              "#f0f921"
             ]
            ],
            "type": "histogram2d"
           }
          ],
          "histogram2dcontour": [
           {
            "colorbar": {
             "outlinewidth": 0,
             "ticks": ""
            },
            "colorscale": [
             [
              0,
              "#0d0887"
             ],
             [
              0.1111111111111111,
              "#46039f"
             ],
             [
              0.2222222222222222,
              "#7201a8"
             ],
             [
              0.3333333333333333,
              "#9c179e"
             ],
             [
              0.4444444444444444,
              "#bd3786"
             ],
             [
              0.5555555555555556,
              "#d8576b"
             ],
             [
              0.6666666666666666,
              "#ed7953"
             ],
             [
              0.7777777777777778,
              "#fb9f3a"
             ],
             [
              0.8888888888888888,
              "#fdca26"
             ],
             [
              1,
              "#f0f921"
             ]
            ],
            "type": "histogram2dcontour"
           }
          ],
          "mesh3d": [
           {
            "colorbar": {
             "outlinewidth": 0,
             "ticks": ""
            },
            "type": "mesh3d"
           }
          ],
          "parcoords": [
           {
            "line": {
             "colorbar": {
              "outlinewidth": 0,
              "ticks": ""
             }
            },
            "type": "parcoords"
           }
          ],
          "pie": [
           {
            "automargin": true,
            "type": "pie"
           }
          ],
          "scatter": [
           {
            "fillpattern": {
             "fillmode": "overlay",
             "size": 10,
             "solidity": 0.2
            },
            "type": "scatter"
           }
          ],
          "scatter3d": [
           {
            "line": {
             "colorbar": {
              "outlinewidth": 0,
              "ticks": ""
             }
            },
            "marker": {
             "colorbar": {
              "outlinewidth": 0,
              "ticks": ""
             }
            },
            "type": "scatter3d"
           }
          ],
          "scattercarpet": [
           {
            "marker": {
             "colorbar": {
              "outlinewidth": 0,
              "ticks": ""
             }
            },
            "type": "scattercarpet"
           }
          ],
          "scattergeo": [
           {
            "marker": {
             "colorbar": {
              "outlinewidth": 0,
              "ticks": ""
             }
            },
            "type": "scattergeo"
           }
          ],
          "scattergl": [
           {
            "marker": {
             "colorbar": {
              "outlinewidth": 0,
              "ticks": ""
             }
            },
            "type": "scattergl"
           }
          ],
          "scattermap": [
           {
            "marker": {
             "colorbar": {
              "outlinewidth": 0,
              "ticks": ""
             }
            },
            "type": "scattermap"
           }
          ],
          "scattermapbox": [
           {
            "marker": {
             "colorbar": {
              "outlinewidth": 0,
              "ticks": ""
             }
            },
            "type": "scattermapbox"
           }
          ],
          "scatterpolar": [
           {
            "marker": {
             "colorbar": {
              "outlinewidth": 0,
              "ticks": ""
             }
            },
            "type": "scatterpolar"
           }
          ],
          "scatterpolargl": [
           {
            "marker": {
             "colorbar": {
              "outlinewidth": 0,
              "ticks": ""
             }
            },
            "type": "scatterpolargl"
           }
          ],
          "scatterternary": [
           {
            "marker": {
             "colorbar": {
              "outlinewidth": 0,
              "ticks": ""
             }
            },
            "type": "scatterternary"
           }
          ],
          "surface": [
           {
            "colorbar": {
             "outlinewidth": 0,
             "ticks": ""
            },
            "colorscale": [
             [
              0,
              "#0d0887"
             ],
             [
              0.1111111111111111,
              "#46039f"
             ],
             [
              0.2222222222222222,
              "#7201a8"
             ],
             [
              0.3333333333333333,
              "#9c179e"
             ],
             [
              0.4444444444444444,
              "#bd3786"
             ],
             [
              0.5555555555555556,
              "#d8576b"
             ],
             [
              0.6666666666666666,
              "#ed7953"
             ],
             [
              0.7777777777777778,
              "#fb9f3a"
             ],
             [
              0.8888888888888888,
              "#fdca26"
             ],
             [
              1,
              "#f0f921"
             ]
            ],
            "type": "surface"
           }
          ],
          "table": [
           {
            "cells": {
             "fill": {
              "color": "#EBF0F8"
             },
             "line": {
              "color": "white"
             }
            },
            "header": {
             "fill": {
              "color": "#C8D4E3"
             },
             "line": {
              "color": "white"
             }
            },
            "type": "table"
           }
          ]
         },
         "layout": {
          "annotationdefaults": {
           "arrowcolor": "#2a3f5f",
           "arrowhead": 0,
           "arrowwidth": 1
          },
          "autotypenumbers": "strict",
          "coloraxis": {
           "colorbar": {
            "outlinewidth": 0,
            "ticks": ""
           }
          },
          "colorscale": {
           "diverging": [
            [
             0,
             "#8e0152"
            ],
            [
             0.1,
             "#c51b7d"
            ],
            [
             0.2,
             "#de77ae"
            ],
            [
             0.3,
             "#f1b6da"
            ],
            [
             0.4,
             "#fde0ef"
            ],
            [
             0.5,
             "#f7f7f7"
            ],
            [
             0.6,
             "#e6f5d0"
            ],
            [
             0.7,
             "#b8e186"
            ],
            [
             0.8,
             "#7fbc41"
            ],
            [
             0.9,
             "#4d9221"
            ],
            [
             1,
             "#276419"
            ]
           ],
           "sequential": [
            [
             0,
             "#0d0887"
            ],
            [
             0.1111111111111111,
             "#46039f"
            ],
            [
             0.2222222222222222,
             "#7201a8"
            ],
            [
             0.3333333333333333,
             "#9c179e"
            ],
            [
             0.4444444444444444,
             "#bd3786"
            ],
            [
             0.5555555555555556,
             "#d8576b"
            ],
            [
             0.6666666666666666,
             "#ed7953"
            ],
            [
             0.7777777777777778,
             "#fb9f3a"
            ],
            [
             0.8888888888888888,
             "#fdca26"
            ],
            [
             1,
             "#f0f921"
            ]
           ],
           "sequentialminus": [
            [
             0,
             "#0d0887"
            ],
            [
             0.1111111111111111,
             "#46039f"
            ],
            [
             0.2222222222222222,
             "#7201a8"
            ],
            [
             0.3333333333333333,
             "#9c179e"
            ],
            [
             0.4444444444444444,
             "#bd3786"
            ],
            [
             0.5555555555555556,
             "#d8576b"
            ],
            [
             0.6666666666666666,
             "#ed7953"
            ],
            [
             0.7777777777777778,
             "#fb9f3a"
            ],
            [
             0.8888888888888888,
             "#fdca26"
            ],
            [
             1,
             "#f0f921"
            ]
           ]
          },
          "colorway": [
           "#636efa",
           "#EF553B",
           "#00cc96",
           "#ab63fa",
           "#FFA15A",
           "#19d3f3",
           "#FF6692",
           "#B6E880",
           "#FF97FF",
           "#FECB52"
          ],
          "font": {
           "color": "#2a3f5f"
          },
          "geo": {
           "bgcolor": "white",
           "lakecolor": "white",
           "landcolor": "#E5ECF6",
           "showlakes": true,
           "showland": true,
           "subunitcolor": "white"
          },
          "hoverlabel": {
           "align": "left"
          },
          "hovermode": "closest",
          "mapbox": {
           "style": "light"
          },
          "paper_bgcolor": "white",
          "plot_bgcolor": "#E5ECF6",
          "polar": {
           "angularaxis": {
            "gridcolor": "white",
            "linecolor": "white",
            "ticks": ""
           },
           "bgcolor": "#E5ECF6",
           "radialaxis": {
            "gridcolor": "white",
            "linecolor": "white",
            "ticks": ""
           }
          },
          "scene": {
           "xaxis": {
            "backgroundcolor": "#E5ECF6",
            "gridcolor": "white",
            "gridwidth": 2,
            "linecolor": "white",
            "showbackground": true,
            "ticks": "",
            "zerolinecolor": "white"
           },
           "yaxis": {
            "backgroundcolor": "#E5ECF6",
            "gridcolor": "white",
            "gridwidth": 2,
            "linecolor": "white",
            "showbackground": true,
            "ticks": "",
            "zerolinecolor": "white"
           },
           "zaxis": {
            "backgroundcolor": "#E5ECF6",
            "gridcolor": "white",
            "gridwidth": 2,
            "linecolor": "white",
            "showbackground": true,
            "ticks": "",
            "zerolinecolor": "white"
           }
          },
          "shapedefaults": {
           "line": {
            "color": "#2a3f5f"
           }
          },
          "ternary": {
           "aaxis": {
            "gridcolor": "white",
            "linecolor": "white",
            "ticks": ""
           },
           "baxis": {
            "gridcolor": "white",
            "linecolor": "white",
            "ticks": ""
           },
           "bgcolor": "#E5ECF6",
           "caxis": {
            "gridcolor": "white",
            "linecolor": "white",
            "ticks": ""
           }
          },
          "title": {
           "x": 0.05
          },
          "xaxis": {
           "automargin": true,
           "gridcolor": "white",
           "linecolor": "white",
           "ticks": "",
           "title": {
            "standoff": 15
           },
           "zerolinecolor": "white",
           "zerolinewidth": 2
          },
          "yaxis": {
           "automargin": true,
           "gridcolor": "white",
           "linecolor": "white",
           "ticks": "",
           "title": {
            "standoff": 15
           },
           "zerolinecolor": "white",
           "zerolinewidth": 2
          }
         }
        },
        "title": {
         "text": "META Candlestick Chart (Real Time Data)"
        },
        "xaxis": {
         "title": {
          "text": "Time"
         }
        },
        "yaxis": {
         "title": {
          "text": "Price"
         }
        }
       }
      }
     },
     "metadata": {},
     "output_type": "display_data"
    },
    {
     "data": {
      "application/vnd.plotly.v1+json": {
       "config": {
        "plotlyServerURL": "https://plot.ly"
       },
       "data": [
        {
         "close": {
          "bdata": "UrgehetJdkBSuB6F60l2QOxRuB6FSXZA7FG4HoVJdkDsUbgehUl2QOxRuB6FSXZA7FG4HoVJdkDsUbgehUl2QDMzMzMzR3ZAMzMzMzNHdkAzMzMzM0d2QDMzMzMzR3ZAMzMzMzNHdkAzMzMzM0d2QEjhehSuRXZASOF6FK5FdkBI4XoUrkV2QEjhehSuRXZA",
          "dtype": "f8"
         },
         "high": {
          "bdata": "SOF6FK7HdkBI4XoUrsd2QEjhehSux3ZASOF6FK7HdkBI4XoUrsd2QEjhehSux3ZASOF6FK7HdkBI4XoUrsd2QEjhehSux3ZASOF6FK7HdkBI4XoUrsd2QEjhehSux3ZASOF6FK7HdkBI4XoUrsd2QEjhehSux3ZASOF6FK7HdkBI4XoUrsd2QEjhehSux3ZA",
          "dtype": "f8"
         },
         "low": {
          "bdata": "uB6F61FIdkC4HoXrUUh2QFyPwvUoSHZAXI/C9ShIdkBcj8L1KEh2QFyPwvUoSHZAXI/C9ShIdkBcj8L1KEh2QMP1KFyPRnZAw/UoXI9GdkDD9Shcj0Z2QMP1KFyPRnZAw/UoXI9GdkDD9Shcj0Z2QDvfT42XQ3ZAO99PjZdDdkA730+Nl0N2QDvfT42XQ3ZA",
          "dtype": "f8"
         },
         "open": {
          "bdata": "16NwPQqtdkDXo3A9Cq12QNejcD0KrXZA16NwPQqtdkDXo3A9Cq12QNejcD0KrXZA16NwPQqtdkDXo3A9Cq12QNejcD0KrXZA16NwPQqtdkDXo3A9Cq12QNejcD0KrXZA16NwPQqtdkDXo3A9Cq12QNejcD0KrXZA16NwPQqtdkDXo3A9Cq12QNejcD0KrXZA",
          "dtype": "f8"
         },
         "type": "candlestick",
         "x": [
          "2025-04-21T18:45:45.000000000",
          "2025-04-21T18:46:00.000000000",
          "2025-04-21T18:46:08.000000000",
          "2025-04-21T18:46:17.000000000",
          "2025-04-21T18:46:29.000000000",
          "2025-04-21T18:46:39.000000000",
          "2025-04-21T18:46:47.000000000",
          "2025-04-21T18:47:00.000000000",
          "2025-04-21T18:47:08.000000000",
          "2025-04-21T18:47:15.000000000",
          "2025-04-21T18:47:28.000000000",
          "2025-04-21T18:47:40.000000000",
          "2025-04-21T18:47:51.000000000",
          "2025-04-21T18:47:57.000000000",
          "2025-04-21T18:48:12.000000000",
          "2025-04-21T18:48:20.000000000",
          "2025-04-21T18:48:32.000000000",
          "2025-04-21T18:48:40.000000000"
         ]
        }
       ],
       "layout": {
        "template": {
         "data": {
          "bar": [
           {
            "error_x": {
             "color": "#2a3f5f"
            },
            "error_y": {
             "color": "#2a3f5f"
            },
            "marker": {
             "line": {
              "color": "#E5ECF6",
              "width": 0.5
             },
             "pattern": {
              "fillmode": "overlay",
              "size": 10,
              "solidity": 0.2
             }
            },
            "type": "bar"
           }
          ],
          "barpolar": [
           {
            "marker": {
             "line": {
              "color": "#E5ECF6",
              "width": 0.5
             },
             "pattern": {
              "fillmode": "overlay",
              "size": 10,
              "solidity": 0.2
             }
            },
            "type": "barpolar"
           }
          ],
          "carpet": [
           {
            "aaxis": {
             "endlinecolor": "#2a3f5f",
             "gridcolor": "white",
             "linecolor": "white",
             "minorgridcolor": "white",
             "startlinecolor": "#2a3f5f"
            },
            "baxis": {
             "endlinecolor": "#2a3f5f",
             "gridcolor": "white",
             "linecolor": "white",
             "minorgridcolor": "white",
             "startlinecolor": "#2a3f5f"
            },
            "type": "carpet"
           }
          ],
          "choropleth": [
           {
            "colorbar": {
             "outlinewidth": 0,
             "ticks": ""
            },
            "type": "choropleth"
           }
          ],
          "contour": [
           {
            "colorbar": {
             "outlinewidth": 0,
             "ticks": ""
            },
            "colorscale": [
             [
              0,
              "#0d0887"
             ],
             [
              0.1111111111111111,
              "#46039f"
             ],
             [
              0.2222222222222222,
              "#7201a8"
             ],
             [
              0.3333333333333333,
              "#9c179e"
             ],
             [
              0.4444444444444444,
              "#bd3786"
             ],
             [
              0.5555555555555556,
              "#d8576b"
             ],
             [
              0.6666666666666666,
              "#ed7953"
             ],
             [
              0.7777777777777778,
              "#fb9f3a"
             ],
             [
              0.8888888888888888,
              "#fdca26"
             ],
             [
              1,
              "#f0f921"
             ]
            ],
            "type": "contour"
           }
          ],
          "contourcarpet": [
           {
            "colorbar": {
             "outlinewidth": 0,
             "ticks": ""
            },
            "type": "contourcarpet"
           }
          ],
          "heatmap": [
           {
            "colorbar": {
             "outlinewidth": 0,
             "ticks": ""
            },
            "colorscale": [
             [
              0,
              "#0d0887"
             ],
             [
              0.1111111111111111,
              "#46039f"
             ],
             [
              0.2222222222222222,
              "#7201a8"
             ],
             [
              0.3333333333333333,
              "#9c179e"
             ],
             [
              0.4444444444444444,
              "#bd3786"
             ],
             [
              0.5555555555555556,
              "#d8576b"
             ],
             [
              0.6666666666666666,
              "#ed7953"
             ],
             [
              0.7777777777777778,
              "#fb9f3a"
             ],
             [
              0.8888888888888888,
              "#fdca26"
             ],
             [
              1,
              "#f0f921"
             ]
            ],
            "type": "heatmap"
           }
          ],
          "histogram": [
           {
            "marker": {
             "pattern": {
              "fillmode": "overlay",
              "size": 10,
              "solidity": 0.2
             }
            },
            "type": "histogram"
           }
          ],
          "histogram2d": [
           {
            "colorbar": {
             "outlinewidth": 0,
             "ticks": ""
            },
            "colorscale": [
             [
              0,
              "#0d0887"
             ],
             [
              0.1111111111111111,
              "#46039f"
             ],
             [
              0.2222222222222222,
              "#7201a8"
             ],
             [
              0.3333333333333333,
              "#9c179e"
             ],
             [
              0.4444444444444444,
              "#bd3786"
             ],
             [
              0.5555555555555556,
              "#d8576b"
             ],
             [
              0.6666666666666666,
              "#ed7953"
             ],
             [
              0.7777777777777778,
              "#fb9f3a"
             ],
             [
              0.8888888888888888,
              "#fdca26"
             ],
             [
              1,
              "#f0f921"
             ]
            ],
            "type": "histogram2d"
           }
          ],
          "histogram2dcontour": [
           {
            "colorbar": {
             "outlinewidth": 0,
             "ticks": ""
            },
            "colorscale": [
             [
              0,
              "#0d0887"
             ],
             [
              0.1111111111111111,
              "#46039f"
             ],
             [
              0.2222222222222222,
              "#7201a8"
             ],
             [
              0.3333333333333333,
              "#9c179e"
             ],
             [
              0.4444444444444444,
              "#bd3786"
             ],
             [
              0.5555555555555556,
              "#d8576b"
             ],
             [
              0.6666666666666666,
              "#ed7953"
             ],
             [
              0.7777777777777778,
              "#fb9f3a"
             ],
             [
              0.8888888888888888,
              "#fdca26"
             ],
             [
              1,
              "#f0f921"
             ]
            ],
            "type": "histogram2dcontour"
           }
          ],
          "mesh3d": [
           {
            "colorbar": {
             "outlinewidth": 0,
             "ticks": ""
            },
            "type": "mesh3d"
           }
          ],
          "parcoords": [
           {
            "line": {
             "colorbar": {
              "outlinewidth": 0,
              "ticks": ""
             }
            },
            "type": "parcoords"
           }
          ],
          "pie": [
           {
            "automargin": true,
            "type": "pie"
           }
          ],
          "scatter": [
           {
            "fillpattern": {
             "fillmode": "overlay",
             "size": 10,
             "solidity": 0.2
            },
            "type": "scatter"
           }
          ],
          "scatter3d": [
           {
            "line": {
             "colorbar": {
              "outlinewidth": 0,
              "ticks": ""
             }
            },
            "marker": {
             "colorbar": {
              "outlinewidth": 0,
              "ticks": ""
             }
            },
            "type": "scatter3d"
           }
          ],
          "scattercarpet": [
           {
            "marker": {
             "colorbar": {
              "outlinewidth": 0,
              "ticks": ""
             }
            },
            "type": "scattercarpet"
           }
          ],
          "scattergeo": [
           {
            "marker": {
             "colorbar": {
              "outlinewidth": 0,
              "ticks": ""
             }
            },
            "type": "scattergeo"
           }
          ],
          "scattergl": [
           {
            "marker": {
             "colorbar": {
              "outlinewidth": 0,
              "ticks": ""
             }
            },
            "type": "scattergl"
           }
          ],
          "scattermap": [
           {
            "marker": {
             "colorbar": {
              "outlinewidth": 0,
              "ticks": ""
             }
            },
            "type": "scattermap"
           }
          ],
          "scattermapbox": [
           {
            "marker": {
             "colorbar": {
              "outlinewidth": 0,
              "ticks": ""
             }
            },
            "type": "scattermapbox"
           }
          ],
          "scatterpolar": [
           {
            "marker": {
             "colorbar": {
              "outlinewidth": 0,
              "ticks": ""
             }
            },
            "type": "scatterpolar"
           }
          ],
          "scatterpolargl": [
           {
            "marker": {
             "colorbar": {
              "outlinewidth": 0,
              "ticks": ""
             }
            },
            "type": "scatterpolargl"
           }
          ],
          "scatterternary": [
           {
            "marker": {
             "colorbar": {
              "outlinewidth": 0,
              "ticks": ""
             }
            },
            "type": "scatterternary"
           }
          ],
          "surface": [
           {
            "colorbar": {
             "outlinewidth": 0,
             "ticks": ""
            },
            "colorscale": [
             [
              0,
              "#0d0887"
             ],
             [
              0.1111111111111111,
              "#46039f"
             ],
             [
              0.2222222222222222,
              "#7201a8"
             ],
             [
              0.3333333333333333,
              "#9c179e"
             ],
             [
              0.4444444444444444,
              "#bd3786"
             ],
             [
              0.5555555555555556,
              "#d8576b"
             ],
             [
              0.6666666666666666,
              "#ed7953"
             ],
             [
              0.7777777777777778,
              "#fb9f3a"
             ],
             [
              0.8888888888888888,
              "#fdca26"
             ],
             [
              1,
              "#f0f921"
             ]
            ],
            "type": "surface"
           }
          ],
          "table": [
           {
            "cells": {
             "fill": {
              "color": "#EBF0F8"
             },
             "line": {
              "color": "white"
             }
            },
            "header": {
             "fill": {
              "color": "#C8D4E3"
             },
             "line": {
              "color": "white"
             }
            },
            "type": "table"
           }
          ]
         },
         "layout": {
          "annotationdefaults": {
           "arrowcolor": "#2a3f5f",
           "arrowhead": 0,
           "arrowwidth": 1
          },
          "autotypenumbers": "strict",
          "coloraxis": {
           "colorbar": {
            "outlinewidth": 0,
            "ticks": ""
           }
          },
          "colorscale": {
           "diverging": [
            [
             0,
             "#8e0152"
            ],
            [
             0.1,
             "#c51b7d"
            ],
            [
             0.2,
             "#de77ae"
            ],
            [
             0.3,
             "#f1b6da"
            ],
            [
             0.4,
             "#fde0ef"
            ],
            [
             0.5,
             "#f7f7f7"
            ],
            [
             0.6,
             "#e6f5d0"
            ],
            [
             0.7,
             "#b8e186"
            ],
            [
             0.8,
             "#7fbc41"
            ],
            [
             0.9,
             "#4d9221"
            ],
            [
             1,
             "#276419"
            ]
           ],
           "sequential": [
            [
             0,
             "#0d0887"
            ],
            [
             0.1111111111111111,
             "#46039f"
            ],
            [
             0.2222222222222222,
             "#7201a8"
            ],
            [
             0.3333333333333333,
             "#9c179e"
            ],
            [
             0.4444444444444444,
             "#bd3786"
            ],
            [
             0.5555555555555556,
             "#d8576b"
            ],
            [
             0.6666666666666666,
             "#ed7953"
            ],
            [
             0.7777777777777778,
             "#fb9f3a"
            ],
            [
             0.8888888888888888,
             "#fdca26"
            ],
            [
             1,
             "#f0f921"
            ]
           ],
           "sequentialminus": [
            [
             0,
             "#0d0887"
            ],
            [
             0.1111111111111111,
             "#46039f"
            ],
            [
             0.2222222222222222,
             "#7201a8"
            ],
            [
             0.3333333333333333,
             "#9c179e"
            ],
            [
             0.4444444444444444,
             "#bd3786"
            ],
            [
             0.5555555555555556,
             "#d8576b"
            ],
            [
             0.6666666666666666,
             "#ed7953"
            ],
            [
             0.7777777777777778,
             "#fb9f3a"
            ],
            [
             0.8888888888888888,
             "#fdca26"
            ],
            [
             1,
             "#f0f921"
            ]
           ]
          },
          "colorway": [
           "#636efa",
           "#EF553B",
           "#00cc96",
           "#ab63fa",
           "#FFA15A",
           "#19d3f3",
           "#FF6692",
           "#B6E880",
           "#FF97FF",
           "#FECB52"
          ],
          "font": {
           "color": "#2a3f5f"
          },
          "geo": {
           "bgcolor": "white",
           "lakecolor": "white",
           "landcolor": "#E5ECF6",
           "showlakes": true,
           "showland": true,
           "subunitcolor": "white"
          },
          "hoverlabel": {
           "align": "left"
          },
          "hovermode": "closest",
          "mapbox": {
           "style": "light"
          },
          "paper_bgcolor": "white",
          "plot_bgcolor": "#E5ECF6",
          "polar": {
           "angularaxis": {
            "gridcolor": "white",
            "linecolor": "white",
            "ticks": ""
           },
           "bgcolor": "#E5ECF6",
           "radialaxis": {
            "gridcolor": "white",
            "linecolor": "white",
            "ticks": ""
           }
          },
          "scene": {
           "xaxis": {
            "backgroundcolor": "#E5ECF6",
            "gridcolor": "white",
            "gridwidth": 2,
            "linecolor": "white",
            "showbackground": true,
            "ticks": "",
            "zerolinecolor": "white"
           },
           "yaxis": {
            "backgroundcolor": "#E5ECF6",
            "gridcolor": "white",
            "gridwidth": 2,
            "linecolor": "white",
            "showbackground": true,
            "ticks": "",
            "zerolinecolor": "white"
           },
           "zaxis": {
            "backgroundcolor": "#E5ECF6",
            "gridcolor": "white",
            "gridwidth": 2,
            "linecolor": "white",
            "showbackground": true,
            "ticks": "",
            "zerolinecolor": "white"
           }
          },
          "shapedefaults": {
           "line": {
            "color": "#2a3f5f"
           }
          },
          "ternary": {
           "aaxis": {
            "gridcolor": "white",
            "linecolor": "white",
            "ticks": ""
           },
           "baxis": {
            "gridcolor": "white",
            "linecolor": "white",
            "ticks": ""
           },
           "bgcolor": "#E5ECF6",
           "caxis": {
            "gridcolor": "white",
            "linecolor": "white",
            "ticks": ""
           }
          },
          "title": {
           "x": 0.05
          },
          "xaxis": {
           "automargin": true,
           "gridcolor": "white",
           "linecolor": "white",
           "ticks": "",
           "title": {
            "standoff": 15
           },
           "zerolinecolor": "white",
           "zerolinewidth": 2
          },
          "yaxis": {
           "automargin": true,
           "gridcolor": "white",
           "linecolor": "white",
           "ticks": "",
           "title": {
            "standoff": 15
           },
           "zerolinecolor": "white",
           "zerolinewidth": 2
          }
         }
        },
        "title": {
         "text": "MSFT Candlestick Chart (Real Time Data)"
        },
        "xaxis": {
         "title": {
          "text": "Time"
         }
        },
        "yaxis": {
         "title": {
          "text": "Price"
         }
        }
       }
      }
     },
     "metadata": {},
     "output_type": "display_data"
    },
    {
     "data": {
      "application/vnd.plotly.v1+json": {
       "config": {
        "plotlyServerURL": "https://plot.ly"
       },
       "data": [
        {
         "close": {
          "bdata": "UrgehevZV0BSuB6F69lXQPYoXI/C3VdA9ihcj8LdV0D2KFyPwt1XQPYoXI/C3VdA9ihcj8LdV0D2KFyPwt1XQLAD54wo1VdAsAPnjCjVV0CwA+eMKNVXQLAD54wo1VdAsAPnjCjVV0BtVn2uts5XQG1Wfa62zldAbVZ9rrbOV0BtVn2uts5XQG1Wfa62zldA",
          "dtype": "f8"
         },
         "high": {
          "bdata": "XI/C9SjcWEBcj8L1KNxYQFyPwvUo3FhAXI/C9SjcWEBcj8L1KNxYQFyPwvUo3FhAXI/C9SjcWEBcj8L1KNxYQFyPwvUo3FhAXI/C9SjcWEBcj8L1KNxYQFyPwvUo3FhAXI/C9SjcWEBcj8L1KNxYQFyPwvUo3FhAXI/C9SjcWEBcj8L1KNxYQFyPwvUo3FhA",
          "dtype": "f8"
         },
         "low": {
          "bdata": "w/UoXI/CV0DD9Shcj8JXQMP1KFyPwldAw/UoXI/CV0DD9Shcj8JXQMP1KFyPwldAw/UoXI/CV0DD9Shcj8JXQMP1KFyPwldAw/UoXI/CV0DD9Shcj8JXQMP1KFyPwldAw/UoXI/CV0DD9Shcj8JXQMP1KFyPwldAw/UoXI/CV0DD9Shcj8JXQMP1KFyPwldA",
          "dtype": "f8"
         },
         "open": {
          "bdata": "4XoUrkexWEDhehSuR7FYQOF6FK5HsVhA4XoUrkexWEDhehSuR7FYQOF6FK5HsVhA4XoUrkexWEDhehSuR7FYQOF6FK5HsVhA4XoUrkexWEDhehSuR7FYQOF6FK5HsVhA4XoUrkexWEDhehSuR7FYQOF6FK5HsVhA4XoUrkexWEDhehSuR7FYQOF6FK5HsVhA",
          "dtype": "f8"
         },
         "type": "candlestick",
         "x": [
          "2025-04-21T18:45:45.000000000",
          "2025-04-21T18:45:59.000000000",
          "2025-04-21T18:46:09.000000000",
          "2025-04-21T18:46:17.000000000",
          "2025-04-21T18:46:31.000000000",
          "2025-04-21T18:46:39.000000000",
          "2025-04-21T18:46:48.000000000",
          "2025-04-21T18:47:00.000000000",
          "2025-04-21T18:47:08.000000000",
          "2025-04-21T18:47:21.000000000",
          "2025-04-21T18:47:30.000000000",
          "2025-04-21T18:47:43.000000000",
          "2025-04-21T18:47:51.000000000",
          "2025-04-21T18:48:02.000000000",
          "2025-04-21T18:48:12.000000000",
          "2025-04-21T18:48:24.000000000",
          "2025-04-21T18:48:32.000000000",
          "2025-04-21T18:48:40.000000000"
         ]
        }
       ],
       "layout": {
        "template": {
         "data": {
          "bar": [
           {
            "error_x": {
             "color": "#2a3f5f"
            },
            "error_y": {
             "color": "#2a3f5f"
            },
            "marker": {
             "line": {
              "color": "#E5ECF6",
              "width": 0.5
             },
             "pattern": {
              "fillmode": "overlay",
              "size": 10,
              "solidity": 0.2
             }
            },
            "type": "bar"
           }
          ],
          "barpolar": [
           {
            "marker": {
             "line": {
              "color": "#E5ECF6",
              "width": 0.5
             },
             "pattern": {
              "fillmode": "overlay",
              "size": 10,
              "solidity": 0.2
             }
            },
            "type": "barpolar"
           }
          ],
          "carpet": [
           {
            "aaxis": {
             "endlinecolor": "#2a3f5f",
             "gridcolor": "white",
             "linecolor": "white",
             "minorgridcolor": "white",
             "startlinecolor": "#2a3f5f"
            },
            "baxis": {
             "endlinecolor": "#2a3f5f",
             "gridcolor": "white",
             "linecolor": "white",
             "minorgridcolor": "white",
             "startlinecolor": "#2a3f5f"
            },
            "type": "carpet"
           }
          ],
          "choropleth": [
           {
            "colorbar": {
             "outlinewidth": 0,
             "ticks": ""
            },
            "type": "choropleth"
           }
          ],
          "contour": [
           {
            "colorbar": {
             "outlinewidth": 0,
             "ticks": ""
            },
            "colorscale": [
             [
              0,
              "#0d0887"
             ],
             [
              0.1111111111111111,
              "#46039f"
             ],
             [
              0.2222222222222222,
              "#7201a8"
             ],
             [
              0.3333333333333333,
              "#9c179e"
             ],
             [
              0.4444444444444444,
              "#bd3786"
             ],
             [
              0.5555555555555556,
              "#d8576b"
             ],
             [
              0.6666666666666666,
              "#ed7953"
             ],
             [
              0.7777777777777778,
              "#fb9f3a"
             ],
             [
              0.8888888888888888,
              "#fdca26"
             ],
             [
              1,
              "#f0f921"
             ]
            ],
            "type": "contour"
           }
          ],
          "contourcarpet": [
           {
            "colorbar": {
             "outlinewidth": 0,
             "ticks": ""
            },
            "type": "contourcarpet"
           }
          ],
          "heatmap": [
           {
            "colorbar": {
             "outlinewidth": 0,
             "ticks": ""
            },
            "colorscale": [
             [
              0,
              "#0d0887"
             ],
             [
              0.1111111111111111,
              "#46039f"
             ],
             [
              0.2222222222222222,
              "#7201a8"
             ],
             [
              0.3333333333333333,
              "#9c179e"
             ],
             [
              0.4444444444444444,
              "#bd3786"
             ],
             [
              0.5555555555555556,
              "#d8576b"
             ],
             [
              0.6666666666666666,
              "#ed7953"
             ],
             [
              0.7777777777777778,
              "#fb9f3a"
             ],
             [
              0.8888888888888888,
              "#fdca26"
             ],
             [
              1,
              "#f0f921"
             ]
            ],
            "type": "heatmap"
           }
          ],
          "histogram": [
           {
            "marker": {
             "pattern": {
              "fillmode": "overlay",
              "size": 10,
              "solidity": 0.2
             }
            },
            "type": "histogram"
           }
          ],
          "histogram2d": [
           {
            "colorbar": {
             "outlinewidth": 0,
             "ticks": ""
            },
            "colorscale": [
             [
              0,
              "#0d0887"
             ],
             [
              0.1111111111111111,
              "#46039f"
             ],
             [
              0.2222222222222222,
              "#7201a8"
             ],
             [
              0.3333333333333333,
              "#9c179e"
             ],
             [
              0.4444444444444444,
              "#bd3786"
             ],
             [
              0.5555555555555556,
              "#d8576b"
             ],
             [
              0.6666666666666666,
              "#ed7953"
             ],
             [
              0.7777777777777778,
              "#fb9f3a"
             ],
             [
              0.8888888888888888,
              "#fdca26"
             ],
             [
              1,
              "#f0f921"
             ]
            ],
            "type": "histogram2d"
           }
          ],
          "histogram2dcontour": [
           {
            "colorbar": {
             "outlinewidth": 0,
             "ticks": ""
            },
            "colorscale": [
             [
              0,
              "#0d0887"
             ],
             [
              0.1111111111111111,
              "#46039f"
             ],
             [
              0.2222222222222222,
              "#7201a8"
             ],
             [
              0.3333333333333333,
              "#9c179e"
             ],
             [
              0.4444444444444444,
              "#bd3786"
             ],
             [
              0.5555555555555556,
              "#d8576b"
             ],
             [
              0.6666666666666666,
              "#ed7953"
             ],
             [
              0.7777777777777778,
              "#fb9f3a"
             ],
             [
              0.8888888888888888,
              "#fdca26"
             ],
             [
              1,
              "#f0f921"
             ]
            ],
            "type": "histogram2dcontour"
           }
          ],
          "mesh3d": [
           {
            "colorbar": {
             "outlinewidth": 0,
             "ticks": ""
            },
            "type": "mesh3d"
           }
          ],
          "parcoords": [
           {
            "line": {
             "colorbar": {
              "outlinewidth": 0,
              "ticks": ""
             }
            },
            "type": "parcoords"
           }
          ],
          "pie": [
           {
            "automargin": true,
            "type": "pie"
           }
          ],
          "scatter": [
           {
            "fillpattern": {
             "fillmode": "overlay",
             "size": 10,
             "solidity": 0.2
            },
            "type": "scatter"
           }
          ],
          "scatter3d": [
           {
            "line": {
             "colorbar": {
              "outlinewidth": 0,
              "ticks": ""
             }
            },
            "marker": {
             "colorbar": {
              "outlinewidth": 0,
              "ticks": ""
             }
            },
            "type": "scatter3d"
           }
          ],
          "scattercarpet": [
           {
            "marker": {
             "colorbar": {
              "outlinewidth": 0,
              "ticks": ""
             }
            },
            "type": "scattercarpet"
           }
          ],
          "scattergeo": [
           {
            "marker": {
             "colorbar": {
              "outlinewidth": 0,
              "ticks": ""
             }
            },
            "type": "scattergeo"
           }
          ],
          "scattergl": [
           {
            "marker": {
             "colorbar": {
              "outlinewidth": 0,
              "ticks": ""
             }
            },
            "type": "scattergl"
           }
          ],
          "scattermap": [
           {
            "marker": {
             "colorbar": {
              "outlinewidth": 0,
              "ticks": ""
             }
            },
            "type": "scattermap"
           }
          ],
          "scattermapbox": [
           {
            "marker": {
             "colorbar": {
              "outlinewidth": 0,
              "ticks": ""
             }
            },
            "type": "scattermapbox"
           }
          ],
          "scatterpolar": [
           {
            "marker": {
             "colorbar": {
              "outlinewidth": 0,
              "ticks": ""
             }
            },
            "type": "scatterpolar"
           }
          ],
          "scatterpolargl": [
           {
            "marker": {
             "colorbar": {
              "outlinewidth": 0,
              "ticks": ""
             }
            },
            "type": "scatterpolargl"
           }
          ],
          "scatterternary": [
           {
            "marker": {
             "colorbar": {
              "outlinewidth": 0,
              "ticks": ""
             }
            },
            "type": "scatterternary"
           }
          ],
          "surface": [
           {
            "colorbar": {
             "outlinewidth": 0,
             "ticks": ""
            },
            "colorscale": [
             [
              0,
              "#0d0887"
             ],
             [
              0.1111111111111111,
              "#46039f"
             ],
             [
              0.2222222222222222,
              "#7201a8"
             ],
             [
              0.3333333333333333,
              "#9c179e"
             ],
             [
              0.4444444444444444,
              "#bd3786"
             ],
             [
              0.5555555555555556,
              "#d8576b"
             ],
             [
              0.6666666666666666,
              "#ed7953"
             ],
             [
              0.7777777777777778,
              "#fb9f3a"
             ],
             [
              0.8888888888888888,
              "#fdca26"
             ],
             [
              1,
              "#f0f921"
             ]
            ],
            "type": "surface"
           }
          ],
          "table": [
           {
            "cells": {
             "fill": {
              "color": "#EBF0F8"
             },
             "line": {
              "color": "white"
             }
            },
            "header": {
             "fill": {
              "color": "#C8D4E3"
             },
             "line": {
              "color": "white"
             }
            },
            "type": "table"
           }
          ]
         },
         "layout": {
          "annotationdefaults": {
           "arrowcolor": "#2a3f5f",
           "arrowhead": 0,
           "arrowwidth": 1
          },
          "autotypenumbers": "strict",
          "coloraxis": {
           "colorbar": {
            "outlinewidth": 0,
            "ticks": ""
           }
          },
          "colorscale": {
           "diverging": [
            [
             0,
             "#8e0152"
            ],
            [
             0.1,
             "#c51b7d"
            ],
            [
             0.2,
             "#de77ae"
            ],
            [
             0.3,
             "#f1b6da"
            ],
            [
             0.4,
             "#fde0ef"
            ],
            [
             0.5,
             "#f7f7f7"
            ],
            [
             0.6,
             "#e6f5d0"
            ],
            [
             0.7,
             "#b8e186"
            ],
            [
             0.8,
             "#7fbc41"
            ],
            [
             0.9,
             "#4d9221"
            ],
            [
             1,
             "#276419"
            ]
           ],
           "sequential": [
            [
             0,
             "#0d0887"
            ],
            [
             0.1111111111111111,
             "#46039f"
            ],
            [
             0.2222222222222222,
             "#7201a8"
            ],
            [
             0.3333333333333333,
             "#9c179e"
            ],
            [
             0.4444444444444444,
             "#bd3786"
            ],
            [
             0.5555555555555556,
             "#d8576b"
            ],
            [
             0.6666666666666666,
             "#ed7953"
            ],
            [
             0.7777777777777778,
             "#fb9f3a"
            ],
            [
             0.8888888888888888,
             "#fdca26"
            ],
            [
             1,
             "#f0f921"
            ]
           ],
           "sequentialminus": [
            [
             0,
             "#0d0887"
            ],
            [
             0.1111111111111111,
             "#46039f"
            ],
            [
             0.2222222222222222,
             "#7201a8"
            ],
            [
             0.3333333333333333,
             "#9c179e"
            ],
            [
             0.4444444444444444,
             "#bd3786"
            ],
            [
             0.5555555555555556,
             "#d8576b"
            ],
            [
             0.6666666666666666,
             "#ed7953"
            ],
            [
             0.7777777777777778,
             "#fb9f3a"
            ],
            [
             0.8888888888888888,
             "#fdca26"
            ],
            [
             1,
             "#f0f921"
            ]
           ]
          },
          "colorway": [
           "#636efa",
           "#EF553B",
           "#00cc96",
           "#ab63fa",
           "#FFA15A",
           "#19d3f3",
           "#FF6692",
           "#B6E880",
           "#FF97FF",
           "#FECB52"
          ],
          "font": {
           "color": "#2a3f5f"
          },
          "geo": {
           "bgcolor": "white",
           "lakecolor": "white",
           "landcolor": "#E5ECF6",
           "showlakes": true,
           "showland": true,
           "subunitcolor": "white"
          },
          "hoverlabel": {
           "align": "left"
          },
          "hovermode": "closest",
          "mapbox": {
           "style": "light"
          },
          "paper_bgcolor": "white",
          "plot_bgcolor": "#E5ECF6",
          "polar": {
           "angularaxis": {
            "gridcolor": "white",
            "linecolor": "white",
            "ticks": ""
           },
           "bgcolor": "#E5ECF6",
           "radialaxis": {
            "gridcolor": "white",
            "linecolor": "white",
            "ticks": ""
           }
          },
          "scene": {
           "xaxis": {
            "backgroundcolor": "#E5ECF6",
            "gridcolor": "white",
            "gridwidth": 2,
            "linecolor": "white",
            "showbackground": true,
            "ticks": "",
            "zerolinecolor": "white"
           },
           "yaxis": {
            "backgroundcolor": "#E5ECF6",
            "gridcolor": "white",
            "gridwidth": 2,
            "linecolor": "white",
            "showbackground": true,
            "ticks": "",
            "zerolinecolor": "white"
           },
           "zaxis": {
            "backgroundcolor": "#E5ECF6",
            "gridcolor": "white",
            "gridwidth": 2,
            "linecolor": "white",
            "showbackground": true,
            "ticks": "",
            "zerolinecolor": "white"
           }
          },
          "shapedefaults": {
           "line": {
            "color": "#2a3f5f"
           }
          },
          "ternary": {
           "aaxis": {
            "gridcolor": "white",
            "linecolor": "white",
            "ticks": ""
           },
           "baxis": {
            "gridcolor": "white",
            "linecolor": "white",
            "ticks": ""
           },
           "bgcolor": "#E5ECF6",
           "caxis": {
            "gridcolor": "white",
            "linecolor": "white",
            "ticks": ""
           }
          },
          "title": {
           "x": 0.05
          },
          "xaxis": {
           "automargin": true,
           "gridcolor": "white",
           "linecolor": "white",
           "ticks": "",
           "title": {
            "standoff": 15
           },
           "zerolinecolor": "white",
           "zerolinewidth": 2
          },
          "yaxis": {
           "automargin": true,
           "gridcolor": "white",
           "linecolor": "white",
           "ticks": "",
           "title": {
            "standoff": 15
           },
           "zerolinecolor": "white",
           "zerolinewidth": 2
          }
         }
        },
        "title": {
         "text": "NVDA Candlestick Chart (Real Time Data)"
        },
        "xaxis": {
         "title": {
          "text": "Time"
         }
        },
        "yaxis": {
         "title": {
          "text": "Price"
         }
        }
       }
      }
     },
     "metadata": {},
     "output_type": "display_data"
    },
    {
     "data": {
      "application/vnd.plotly.v1+json": {
       "config": {
        "plotlyServerURL": "https://plot.ly"
       },
       "data": [
        {
         "close": {
          "bdata": "S1mGONYDbEBLWYY41gNsQIXrUbge/WtAhetRuB79a0CF61G4Hv1rQIXrUbge/WtAhetRuB79a0CF61G4Hv1rQPFjzF1L/mtA8WPMXUv+a0DxY8xdS/5rQPFjzF1L/mtA8WPMXUv+a0DIBz2bVfdrQMgHPZtV92tAyAc9m1X3a0DIBz2bVfdrQMgHPZtV92tA",
          "dtype": "f8"
         },
         "high": {
          "bdata": "H4XrUbgGbUAfhetRuAZtQB+F61G4Bm1AH4XrUbgGbUAfhetRuAZtQB+F61G4Bm1AH4XrUbgGbUAfhetRuAZtQB+F61G4Bm1AH4XrUbgGbUAfhetRuAZtQB+F61G4Bm1AH4XrUbgGbUAfhetRuAZtQB+F61G4Bm1AH4XrUbgGbUAfhetRuAZtQB+F61G4Bm1A",
          "dtype": "f8"
         },
         "low": {
          "bdata": "4XoUrkfZa0DhehSuR9lrQOF6FK5H2WtA4XoUrkfZa0DhehSuR9lrQOF6FK5H2WtA4XoUrkfZa0DhehSuR9lrQOF6FK5H2WtA4XoUrkfZa0DhehSuR9lrQOF6FK5H2WtA4XoUrkfZa0DhehSuR9lrQOF6FK5H2WtA4XoUrkfZa0DhehSuR9lrQOF6FK5H2WtA",
          "dtype": "f8"
         },
         "open": {
          "bdata": "uB6F61HIbEC4HoXrUchsQLgehetRyGxAuB6F61HIbEC4HoXrUchsQLgehetRyGxAuB6F61HIbEC4HoXrUchsQLgehetRyGxAuB6F61HIbEC4HoXrUchsQLgehetRyGxAuB6F61HIbEC4HoXrUchsQLgehetRyGxAuB6F61HIbEC4HoXrUchsQLgehetRyGxA",
          "dtype": "f8"
         },
         "type": "candlestick",
         "x": [
          "2025-04-21T18:45:45.000000000",
          "2025-04-21T18:46:00.000000000",
          "2025-04-21T18:46:09.000000000",
          "2025-04-21T18:46:18.000000000",
          "2025-04-21T18:46:31.000000000",
          "2025-04-21T18:46:39.000000000",
          "2025-04-21T18:46:48.000000000",
          "2025-04-21T18:47:00.000000000",
          "2025-04-21T18:47:09.000000000",
          "2025-04-21T18:47:22.000000000",
          "2025-04-21T18:47:30.000000000",
          "2025-04-21T18:47:43.000000000",
          "2025-04-21T18:47:51.000000000",
          "2025-04-21T18:48:04.000000000",
          "2025-04-21T18:48:12.000000000",
          "2025-04-21T18:48:24.000000000",
          "2025-04-21T18:48:32.000000000",
          "2025-04-21T18:48:40.000000000"
         ]
        }
       ],
       "layout": {
        "template": {
         "data": {
          "bar": [
           {
            "error_x": {
             "color": "#2a3f5f"
            },
            "error_y": {
             "color": "#2a3f5f"
            },
            "marker": {
             "line": {
              "color": "#E5ECF6",
              "width": 0.5
             },
             "pattern": {
              "fillmode": "overlay",
              "size": 10,
              "solidity": 0.2
             }
            },
            "type": "bar"
           }
          ],
          "barpolar": [
           {
            "marker": {
             "line": {
              "color": "#E5ECF6",
              "width": 0.5
             },
             "pattern": {
              "fillmode": "overlay",
              "size": 10,
              "solidity": 0.2
             }
            },
            "type": "barpolar"
           }
          ],
          "carpet": [
           {
            "aaxis": {
             "endlinecolor": "#2a3f5f",
             "gridcolor": "white",
             "linecolor": "white",
             "minorgridcolor": "white",
             "startlinecolor": "#2a3f5f"
            },
            "baxis": {
             "endlinecolor": "#2a3f5f",
             "gridcolor": "white",
             "linecolor": "white",
             "minorgridcolor": "white",
             "startlinecolor": "#2a3f5f"
            },
            "type": "carpet"
           }
          ],
          "choropleth": [
           {
            "colorbar": {
             "outlinewidth": 0,
             "ticks": ""
            },
            "type": "choropleth"
           }
          ],
          "contour": [
           {
            "colorbar": {
             "outlinewidth": 0,
             "ticks": ""
            },
            "colorscale": [
             [
              0,
              "#0d0887"
             ],
             [
              0.1111111111111111,
              "#46039f"
             ],
             [
              0.2222222222222222,
              "#7201a8"
             ],
             [
              0.3333333333333333,
              "#9c179e"
             ],
             [
              0.4444444444444444,
              "#bd3786"
             ],
             [
              0.5555555555555556,
              "#d8576b"
             ],
             [
              0.6666666666666666,
              "#ed7953"
             ],
             [
              0.7777777777777778,
              "#fb9f3a"
             ],
             [
              0.8888888888888888,
              "#fdca26"
             ],
             [
              1,
              "#f0f921"
             ]
            ],
            "type": "contour"
           }
          ],
          "contourcarpet": [
           {
            "colorbar": {
             "outlinewidth": 0,
             "ticks": ""
            },
            "type": "contourcarpet"
           }
          ],
          "heatmap": [
           {
            "colorbar": {
             "outlinewidth": 0,
             "ticks": ""
            },
            "colorscale": [
             [
              0,
              "#0d0887"
             ],
             [
              0.1111111111111111,
              "#46039f"
             ],
             [
              0.2222222222222222,
              "#7201a8"
             ],
             [
              0.3333333333333333,
              "#9c179e"
             ],
             [
              0.4444444444444444,
              "#bd3786"
             ],
             [
              0.5555555555555556,
              "#d8576b"
             ],
             [
              0.6666666666666666,
              "#ed7953"
             ],
             [
              0.7777777777777778,
              "#fb9f3a"
             ],
             [
              0.8888888888888888,
              "#fdca26"
             ],
             [
              1,
              "#f0f921"
             ]
            ],
            "type": "heatmap"
           }
          ],
          "histogram": [
           {
            "marker": {
             "pattern": {
              "fillmode": "overlay",
              "size": 10,
              "solidity": 0.2
             }
            },
            "type": "histogram"
           }
          ],
          "histogram2d": [
           {
            "colorbar": {
             "outlinewidth": 0,
             "ticks": ""
            },
            "colorscale": [
             [
              0,
              "#0d0887"
             ],
             [
              0.1111111111111111,
              "#46039f"
             ],
             [
              0.2222222222222222,
              "#7201a8"
             ],
             [
              0.3333333333333333,
              "#9c179e"
             ],
             [
              0.4444444444444444,
              "#bd3786"
             ],
             [
              0.5555555555555556,
              "#d8576b"
             ],
             [
              0.6666666666666666,
              "#ed7953"
             ],
             [
              0.7777777777777778,
              "#fb9f3a"
             ],
             [
              0.8888888888888888,
              "#fdca26"
             ],
             [
              1,
              "#f0f921"
             ]
            ],
            "type": "histogram2d"
           }
          ],
          "histogram2dcontour": [
           {
            "colorbar": {
             "outlinewidth": 0,
             "ticks": ""
            },
            "colorscale": [
             [
              0,
              "#0d0887"
             ],
             [
              0.1111111111111111,
              "#46039f"
             ],
             [
              0.2222222222222222,
              "#7201a8"
             ],
             [
              0.3333333333333333,
              "#9c179e"
             ],
             [
              0.4444444444444444,
              "#bd3786"
             ],
             [
              0.5555555555555556,
              "#d8576b"
             ],
             [
              0.6666666666666666,
              "#ed7953"
             ],
             [
              0.7777777777777778,
              "#fb9f3a"
             ],
             [
              0.8888888888888888,
              "#fdca26"
             ],
             [
              1,
              "#f0f921"
             ]
            ],
            "type": "histogram2dcontour"
           }
          ],
          "mesh3d": [
           {
            "colorbar": {
             "outlinewidth": 0,
             "ticks": ""
            },
            "type": "mesh3d"
           }
          ],
          "parcoords": [
           {
            "line": {
             "colorbar": {
              "outlinewidth": 0,
              "ticks": ""
             }
            },
            "type": "parcoords"
           }
          ],
          "pie": [
           {
            "automargin": true,
            "type": "pie"
           }
          ],
          "scatter": [
           {
            "fillpattern": {
             "fillmode": "overlay",
             "size": 10,
             "solidity": 0.2
            },
            "type": "scatter"
           }
          ],
          "scatter3d": [
           {
            "line": {
             "colorbar": {
              "outlinewidth": 0,
              "ticks": ""
             }
            },
            "marker": {
             "colorbar": {
              "outlinewidth": 0,
              "ticks": ""
             }
            },
            "type": "scatter3d"
           }
          ],
          "scattercarpet": [
           {
            "marker": {
             "colorbar": {
              "outlinewidth": 0,
              "ticks": ""
             }
            },
            "type": "scattercarpet"
           }
          ],
          "scattergeo": [
           {
            "marker": {
             "colorbar": {
              "outlinewidth": 0,
              "ticks": ""
             }
            },
            "type": "scattergeo"
           }
          ],
          "scattergl": [
           {
            "marker": {
             "colorbar": {
              "outlinewidth": 0,
              "ticks": ""
             }
            },
            "type": "scattergl"
           }
          ],
          "scattermap": [
           {
            "marker": {
             "colorbar": {
              "outlinewidth": 0,
              "ticks": ""
             }
            },
            "type": "scattermap"
           }
          ],
          "scattermapbox": [
           {
            "marker": {
             "colorbar": {
              "outlinewidth": 0,
              "ticks": ""
             }
            },
            "type": "scattermapbox"
           }
          ],
          "scatterpolar": [
           {
            "marker": {
             "colorbar": {
              "outlinewidth": 0,
              "ticks": ""
             }
            },
            "type": "scatterpolar"
           }
          ],
          "scatterpolargl": [
           {
            "marker": {
             "colorbar": {
              "outlinewidth": 0,
              "ticks": ""
             }
            },
            "type": "scatterpolargl"
           }
          ],
          "scatterternary": [
           {
            "marker": {
             "colorbar": {
              "outlinewidth": 0,
              "ticks": ""
             }
            },
            "type": "scatterternary"
           }
          ],
          "surface": [
           {
            "colorbar": {
             "outlinewidth": 0,
             "ticks": ""
            },
            "colorscale": [
             [
              0,
              "#0d0887"
             ],
             [
              0.1111111111111111,
              "#46039f"
             ],
             [
              0.2222222222222222,
              "#7201a8"
             ],
             [
              0.3333333333333333,
              "#9c179e"
             ],
             [
              0.4444444444444444,
              "#bd3786"
             ],
             [
              0.5555555555555556,
              "#d8576b"
             ],
             [
              0.6666666666666666,
              "#ed7953"
             ],
             [
              0.7777777777777778,
              "#fb9f3a"
             ],
             [
              0.8888888888888888,
              "#fdca26"
             ],
             [
              1,
              "#f0f921"
             ]
            ],
            "type": "surface"
           }
          ],
          "table": [
           {
            "cells": {
             "fill": {
              "color": "#EBF0F8"
             },
             "line": {
              "color": "white"
             }
            },
            "header": {
             "fill": {
              "color": "#C8D4E3"
             },
             "line": {
              "color": "white"
             }
            },
            "type": "table"
           }
          ]
         },
         "layout": {
          "annotationdefaults": {
           "arrowcolor": "#2a3f5f",
           "arrowhead": 0,
           "arrowwidth": 1
          },
          "autotypenumbers": "strict",
          "coloraxis": {
           "colorbar": {
            "outlinewidth": 0,
            "ticks": ""
           }
          },
          "colorscale": {
           "diverging": [
            [
             0,
             "#8e0152"
            ],
            [
             0.1,
             "#c51b7d"
            ],
            [
             0.2,
             "#de77ae"
            ],
            [
             0.3,
             "#f1b6da"
            ],
            [
             0.4,
             "#fde0ef"
            ],
            [
             0.5,
             "#f7f7f7"
            ],
            [
             0.6,
             "#e6f5d0"
            ],
            [
             0.7,
             "#b8e186"
            ],
            [
             0.8,
             "#7fbc41"
            ],
            [
             0.9,
             "#4d9221"
            ],
            [
             1,
             "#276419"
            ]
           ],
           "sequential": [
            [
             0,
             "#0d0887"
            ],
            [
             0.1111111111111111,
             "#46039f"
            ],
            [
             0.2222222222222222,
             "#7201a8"
            ],
            [
             0.3333333333333333,
             "#9c179e"
            ],
            [
             0.4444444444444444,
             "#bd3786"
            ],
            [
             0.5555555555555556,
             "#d8576b"
            ],
            [
             0.6666666666666666,
             "#ed7953"
            ],
            [
             0.7777777777777778,
             "#fb9f3a"
            ],
            [
             0.8888888888888888,
             "#fdca26"
            ],
            [
             1,
             "#f0f921"
            ]
           ],
           "sequentialminus": [
            [
             0,
             "#0d0887"
            ],
            [
             0.1111111111111111,
             "#46039f"
            ],
            [
             0.2222222222222222,
             "#7201a8"
            ],
            [
             0.3333333333333333,
             "#9c179e"
            ],
            [
             0.4444444444444444,
             "#bd3786"
            ],
            [
             0.5555555555555556,
             "#d8576b"
            ],
            [
             0.6666666666666666,
             "#ed7953"
            ],
            [
             0.7777777777777778,
             "#fb9f3a"
            ],
            [
             0.8888888888888888,
             "#fdca26"
            ],
            [
             1,
             "#f0f921"
            ]
           ]
          },
          "colorway": [
           "#636efa",
           "#EF553B",
           "#00cc96",
           "#ab63fa",
           "#FFA15A",
           "#19d3f3",
           "#FF6692",
           "#B6E880",
           "#FF97FF",
           "#FECB52"
          ],
          "font": {
           "color": "#2a3f5f"
          },
          "geo": {
           "bgcolor": "white",
           "lakecolor": "white",
           "landcolor": "#E5ECF6",
           "showlakes": true,
           "showland": true,
           "subunitcolor": "white"
          },
          "hoverlabel": {
           "align": "left"
          },
          "hovermode": "closest",
          "mapbox": {
           "style": "light"
          },
          "paper_bgcolor": "white",
          "plot_bgcolor": "#E5ECF6",
          "polar": {
           "angularaxis": {
            "gridcolor": "white",
            "linecolor": "white",
            "ticks": ""
           },
           "bgcolor": "#E5ECF6",
           "radialaxis": {
            "gridcolor": "white",
            "linecolor": "white",
            "ticks": ""
           }
          },
          "scene": {
           "xaxis": {
            "backgroundcolor": "#E5ECF6",
            "gridcolor": "white",
            "gridwidth": 2,
            "linecolor": "white",
            "showbackground": true,
            "ticks": "",
            "zerolinecolor": "white"
           },
           "yaxis": {
            "backgroundcolor": "#E5ECF6",
            "gridcolor": "white",
            "gridwidth": 2,
            "linecolor": "white",
            "showbackground": true,
            "ticks": "",
            "zerolinecolor": "white"
           },
           "zaxis": {
            "backgroundcolor": "#E5ECF6",
            "gridcolor": "white",
            "gridwidth": 2,
            "linecolor": "white",
            "showbackground": true,
            "ticks": "",
            "zerolinecolor": "white"
           }
          },
          "shapedefaults": {
           "line": {
            "color": "#2a3f5f"
           }
          },
          "ternary": {
           "aaxis": {
            "gridcolor": "white",
            "linecolor": "white",
            "ticks": ""
           },
           "baxis": {
            "gridcolor": "white",
            "linecolor": "white",
            "ticks": ""
           },
           "bgcolor": "#E5ECF6",
           "caxis": {
            "gridcolor": "white",
            "linecolor": "white",
            "ticks": ""
           }
          },
          "title": {
           "x": 0.05
          },
          "xaxis": {
           "automargin": true,
           "gridcolor": "white",
           "linecolor": "white",
           "ticks": "",
           "title": {
            "standoff": 15
           },
           "zerolinecolor": "white",
           "zerolinewidth": 2
          },
          "yaxis": {
           "automargin": true,
           "gridcolor": "white",
           "linecolor": "white",
           "ticks": "",
           "title": {
            "standoff": 15
           },
           "zerolinecolor": "white",
           "zerolinewidth": 2
          }
         }
        },
        "title": {
         "text": "TSLA Candlestick Chart (Real Time Data)"
        },
        "xaxis": {
         "title": {
          "text": "Time"
         }
        },
        "yaxis": {
         "title": {
          "text": "Price"
         }
        }
       }
      }
     },
     "metadata": {},
     "output_type": "display_data"
    }
   ],
   "source": [
    "# creating candlestick charts for each ticker\n",
    "#allowing the ability to see open, high, low, and close prices while hovering over in plotly\n",
    "for ticker in df_cass_final['ticker'].unique():\n",
    "    subset = df_cass_final[df_cass_final['ticker'] == ticker]\n",
    "    fig = go.Figure(data=[go.Candlestick(\n",
    "        x=subset['date'],\n",
    "        open=subset['open'],\n",
    "        high=subset['high'],\n",
    "        low=subset['low'],\n",
    "        close=subset['close']\n",
    "    )])\n",
    "    fig.update_layout(title=f\"{ticker} Candlestick Chart (Real Time Data)\", xaxis_title='Time', yaxis_title='Price')\n",
    "    fig.show()\n"
   ]
  },
  {
   "cell_type": "markdown",
   "metadata": {},
   "source": [
    "#### Above is a series of 7 candlestick graphs that relate to each of the 7 tickers of the magnificent 7.  Candlestick graphs are an industry standard for financial markets as they are helpful for short term time series analysis like ours. Each graph is made in plotly so that we can hover over each candle and see the changes of open price, low price, high price and closing price. This is useful unlike a boxplot since we can see real time changes rather than just distribution and outliers."
   ]
  },
  {
   "cell_type": "code",
   "execution_count": 129,
   "metadata": {},
   "outputs": [
    {
     "data": {
      "application/vnd.plotly.v1+json": {
       "config": {
        "plotlyServerURL": "https://plot.ly"
       },
       "data": [
        {
         "line": {
          "color": "blue"
         },
         "mode": "lines+markers",
         "name": "AAPL RSI",
         "showlegend": true,
         "type": "scatter",
         "x": [
          "2025-04-21T18:46:31.000000000",
          "2025-04-21T18:46:38.000000000",
          "2025-04-21T18:46:47.000000000",
          "2025-04-21T18:47:00.000000000",
          "2025-04-21T18:47:08.000000000",
          "2025-04-21T18:47:21.000000000",
          "2025-04-21T18:47:29.000000000",
          "2025-04-21T18:47:40.000000000",
          "2025-04-21T18:47:51.000000000",
          "2025-04-21T18:47:59.000000000",
          "2025-04-21T18:48:08.000000000",
          "2025-04-21T18:48:23.000000000",
          "2025-04-21T18:48:32.000000000",
          "2025-04-21T18:48:40.000000000"
         ],
         "xaxis": "x",
         "y": {
          "bdata": "AAAAAAAAAAAAAAAAAAAAAAAAAAAAAAAAAAAAAAAAAAAAAAAAAAAAAAAAAAAAAAAAAAAAAAAAAAAAAAAAAAAAAAAAAAAAAAAAAAAAAAAAAAAAAAAAAAAAAAAAAAAAAAAAAAAAAAAAAAAAAAAAAAAAAA==",
          "dtype": "f8"
         },
         "yaxis": "y"
        },
        {
         "line": {
          "color": "red",
          "dash": "dash"
         },
         "mode": "lines",
         "name": "RSI 70 (Overbought)",
         "showlegend": true,
         "type": "scatter",
         "x": [
          "2025-04-21T18:46:31.000000000",
          "2025-04-21T18:46:38.000000000",
          "2025-04-21T18:46:47.000000000",
          "2025-04-21T18:47:00.000000000",
          "2025-04-21T18:47:08.000000000",
          "2025-04-21T18:47:21.000000000",
          "2025-04-21T18:47:29.000000000",
          "2025-04-21T18:47:40.000000000",
          "2025-04-21T18:47:51.000000000",
          "2025-04-21T18:47:59.000000000",
          "2025-04-21T18:48:08.000000000",
          "2025-04-21T18:48:23.000000000",
          "2025-04-21T18:48:32.000000000",
          "2025-04-21T18:48:40.000000000"
         ],
         "xaxis": "x",
         "y": [
          70,
          70,
          70,
          70,
          70,
          70,
          70,
          70,
          70,
          70,
          70,
          70,
          70,
          70
         ],
         "yaxis": "y"
        },
        {
         "line": {
          "color": "green",
          "dash": "dash"
         },
         "mode": "lines",
         "name": "RSI 30 (Oversold)",
         "showlegend": true,
         "type": "scatter",
         "x": [
          "2025-04-21T18:46:31.000000000",
          "2025-04-21T18:46:38.000000000",
          "2025-04-21T18:46:47.000000000",
          "2025-04-21T18:47:00.000000000",
          "2025-04-21T18:47:08.000000000",
          "2025-04-21T18:47:21.000000000",
          "2025-04-21T18:47:29.000000000",
          "2025-04-21T18:47:40.000000000",
          "2025-04-21T18:47:51.000000000",
          "2025-04-21T18:47:59.000000000",
          "2025-04-21T18:48:08.000000000",
          "2025-04-21T18:48:23.000000000",
          "2025-04-21T18:48:32.000000000",
          "2025-04-21T18:48:40.000000000"
         ],
         "xaxis": "x",
         "y": [
          30,
          30,
          30,
          30,
          30,
          30,
          30,
          30,
          30,
          30,
          30,
          30,
          30,
          30
         ],
         "yaxis": "y"
        },
        {
         "line": {
          "color": "blue"
         },
         "mode": "lines+markers",
         "name": "MSFT RSI",
         "showlegend": true,
         "type": "scatter",
         "x": [
          "2025-04-21T18:45:45.000000000",
          "2025-04-21T18:46:00.000000000",
          "2025-04-21T18:46:08.000000000",
          "2025-04-21T18:46:17.000000000",
          "2025-04-21T18:46:29.000000000",
          "2025-04-21T18:46:39.000000000",
          "2025-04-21T18:46:47.000000000",
          "2025-04-21T18:47:00.000000000",
          "2025-04-21T18:47:08.000000000",
          "2025-04-21T18:47:15.000000000",
          "2025-04-21T18:47:28.000000000",
          "2025-04-21T18:47:40.000000000",
          "2025-04-21T18:47:51.000000000",
          "2025-04-21T18:47:57.000000000",
          "2025-04-21T18:48:12.000000000",
          "2025-04-21T18:48:20.000000000",
          "2025-04-21T18:48:32.000000000",
          "2025-04-21T18:48:40.000000000"
         ],
         "xaxis": "x2",
         "y": {
          "bdata": "AAAAAAAAAAAAAAAAAAAAAAAAAAAAAAAAAAAAAAAAAAAAAAAAAAAAAAAAAAAAAAAAAAAAAAAAAAAAAAAAAAAAAAAAAAAAAAAAAAAAAAAAAAAAAAAAAAAAAAAAAAAAAAAAAAAAAAAAAAAAAAAAAAAAAAAAAAAAAAAAAAAAAAAAAAAAAAAAAAAAAAAAAAAAAAAA",
          "dtype": "f8"
         },
         "yaxis": "y2"
        },
        {
         "line": {
          "color": "red",
          "dash": "dash"
         },
         "mode": "lines",
         "name": "RSI 70 (Overbought)",
         "showlegend": false,
         "type": "scatter",
         "x": [
          "2025-04-21T18:45:45.000000000",
          "2025-04-21T18:46:00.000000000",
          "2025-04-21T18:46:08.000000000",
          "2025-04-21T18:46:17.000000000",
          "2025-04-21T18:46:29.000000000",
          "2025-04-21T18:46:39.000000000",
          "2025-04-21T18:46:47.000000000",
          "2025-04-21T18:47:00.000000000",
          "2025-04-21T18:47:08.000000000",
          "2025-04-21T18:47:15.000000000",
          "2025-04-21T18:47:28.000000000",
          "2025-04-21T18:47:40.000000000",
          "2025-04-21T18:47:51.000000000",
          "2025-04-21T18:47:57.000000000",
          "2025-04-21T18:48:12.000000000",
          "2025-04-21T18:48:20.000000000",
          "2025-04-21T18:48:32.000000000",
          "2025-04-21T18:48:40.000000000"
         ],
         "xaxis": "x2",
         "y": [
          70,
          70,
          70,
          70,
          70,
          70,
          70,
          70,
          70,
          70,
          70,
          70,
          70,
          70,
          70,
          70,
          70,
          70
         ],
         "yaxis": "y2"
        },
        {
         "line": {
          "color": "green",
          "dash": "dash"
         },
         "mode": "lines",
         "name": "RSI 30 (Oversold)",
         "showlegend": false,
         "type": "scatter",
         "x": [
          "2025-04-21T18:45:45.000000000",
          "2025-04-21T18:46:00.000000000",
          "2025-04-21T18:46:08.000000000",
          "2025-04-21T18:46:17.000000000",
          "2025-04-21T18:46:29.000000000",
          "2025-04-21T18:46:39.000000000",
          "2025-04-21T18:46:47.000000000",
          "2025-04-21T18:47:00.000000000",
          "2025-04-21T18:47:08.000000000",
          "2025-04-21T18:47:15.000000000",
          "2025-04-21T18:47:28.000000000",
          "2025-04-21T18:47:40.000000000",
          "2025-04-21T18:47:51.000000000",
          "2025-04-21T18:47:57.000000000",
          "2025-04-21T18:48:12.000000000",
          "2025-04-21T18:48:20.000000000",
          "2025-04-21T18:48:32.000000000",
          "2025-04-21T18:48:40.000000000"
         ],
         "xaxis": "x2",
         "y": [
          30,
          30,
          30,
          30,
          30,
          30,
          30,
          30,
          30,
          30,
          30,
          30,
          30,
          30,
          30,
          30,
          30,
          30
         ],
         "yaxis": "y2"
        },
        {
         "line": {
          "color": "blue"
         },
         "mode": "lines+markers",
         "name": "AMZN RSI",
         "showlegend": true,
         "type": "scatter",
         "x": [
          "2025-04-21T18:45:44.000000000",
          "2025-04-21T18:46:00.000000000",
          "2025-04-21T18:46:08.000000000",
          "2025-04-21T18:46:18.000000000",
          "2025-04-21T18:46:31.000000000",
          "2025-04-21T18:46:39.000000000",
          "2025-04-21T18:46:48.000000000",
          "2025-04-21T18:47:00.000000000",
          "2025-04-21T18:47:09.000000000",
          "2025-04-21T18:47:21.000000000",
          "2025-04-21T18:47:30.000000000",
          "2025-04-21T18:47:43.000000000",
          "2025-04-21T18:47:51.000000000",
          "2025-04-21T18:47:58.000000000",
          "2025-04-21T18:48:12.000000000",
          "2025-04-21T18:48:23.000000000",
          "2025-04-21T18:48:32.000000000",
          "2025-04-21T18:48:40.000000000"
         ],
         "xaxis": "x3",
         "y": {
          "bdata": "AAAAAAAAAAAAAAAAAAAAAAAAAAAAAAAAAAAAAAAAAAAAAAAAAABZQAAAAAAAAFlAAAAAAAAAWUAAAAAAAABZQAAAAAAAAAAAAAAAAAAAAAAAAAAAAAAAAAAAAAAAAAAAAAAAAAAAAAAAAAAAAAAAAAAAAAAAAAAAAAAAAAAAAAAAAAAAAAAAAAAAAAAAAAAA",
          "dtype": "f8"
         },
         "yaxis": "y3"
        },
        {
         "line": {
          "color": "red",
          "dash": "dash"
         },
         "mode": "lines",
         "name": "RSI 70 (Overbought)",
         "showlegend": false,
         "type": "scatter",
         "x": [
          "2025-04-21T18:45:44.000000000",
          "2025-04-21T18:46:00.000000000",
          "2025-04-21T18:46:08.000000000",
          "2025-04-21T18:46:18.000000000",
          "2025-04-21T18:46:31.000000000",
          "2025-04-21T18:46:39.000000000",
          "2025-04-21T18:46:48.000000000",
          "2025-04-21T18:47:00.000000000",
          "2025-04-21T18:47:09.000000000",
          "2025-04-21T18:47:21.000000000",
          "2025-04-21T18:47:30.000000000",
          "2025-04-21T18:47:43.000000000",
          "2025-04-21T18:47:51.000000000",
          "2025-04-21T18:47:58.000000000",
          "2025-04-21T18:48:12.000000000",
          "2025-04-21T18:48:23.000000000",
          "2025-04-21T18:48:32.000000000",
          "2025-04-21T18:48:40.000000000"
         ],
         "xaxis": "x3",
         "y": [
          70,
          70,
          70,
          70,
          70,
          70,
          70,
          70,
          70,
          70,
          70,
          70,
          70,
          70,
          70,
          70,
          70,
          70
         ],
         "yaxis": "y3"
        },
        {
         "line": {
          "color": "green",
          "dash": "dash"
         },
         "mode": "lines",
         "name": "RSI 30 (Oversold)",
         "showlegend": false,
         "type": "scatter",
         "x": [
          "2025-04-21T18:45:44.000000000",
          "2025-04-21T18:46:00.000000000",
          "2025-04-21T18:46:08.000000000",
          "2025-04-21T18:46:18.000000000",
          "2025-04-21T18:46:31.000000000",
          "2025-04-21T18:46:39.000000000",
          "2025-04-21T18:46:48.000000000",
          "2025-04-21T18:47:00.000000000",
          "2025-04-21T18:47:09.000000000",
          "2025-04-21T18:47:21.000000000",
          "2025-04-21T18:47:30.000000000",
          "2025-04-21T18:47:43.000000000",
          "2025-04-21T18:47:51.000000000",
          "2025-04-21T18:47:58.000000000",
          "2025-04-21T18:48:12.000000000",
          "2025-04-21T18:48:23.000000000",
          "2025-04-21T18:48:32.000000000",
          "2025-04-21T18:48:40.000000000"
         ],
         "xaxis": "x3",
         "y": [
          30,
          30,
          30,
          30,
          30,
          30,
          30,
          30,
          30,
          30,
          30,
          30,
          30,
          30,
          30,
          30,
          30,
          30
         ],
         "yaxis": "y3"
        },
        {
         "line": {
          "color": "blue"
         },
         "mode": "lines+markers",
         "name": "GOOGL RSI",
         "showlegend": true,
         "type": "scatter",
         "x": [
          "2025-04-21T18:45:45.000000000",
          "2025-04-21T18:45:59.000000000",
          "2025-04-21T18:46:06.000000000",
          "2025-04-21T18:46:17.000000000",
          "2025-04-21T18:46:31.000000000",
          "2025-04-21T18:46:39.000000000",
          "2025-04-21T18:46:46.000000000",
          "2025-04-21T18:47:00.000000000",
          "2025-04-21T18:47:08.000000000",
          "2025-04-21T18:47:21.000000000",
          "2025-04-21T18:47:28.000000000",
          "2025-04-21T18:47:41.000000000",
          "2025-04-21T18:47:50.000000000",
          "2025-04-21T18:47:56.000000000",
          "2025-04-21T18:48:11.000000000",
          "2025-04-21T18:48:24.000000000",
          "2025-04-21T18:48:32.000000000",
          "2025-04-21T18:48:40.000000000"
         ],
         "xaxis": "x4",
         "y": {
          "bdata": "AAAAAAAAAAAAAAAAAAAAAAAAAAAAAAAAAAAAAAAAAAAAAAAAAAAAAAAAAAAAAAAAAAAAAAAAAAAAAAAAAAAAAAAAAAAAAAAAAAAAAAAAAAAAAAAAAAAAAAAAAAAAAAAAAAAAAAAAAAAAAAAAAAAAAAAAAAAAAAAAAAAAAAAAAAAAAAAAAAAAAAAAAAAAAAAA",
          "dtype": "f8"
         },
         "yaxis": "y4"
        },
        {
         "line": {
          "color": "red",
          "dash": "dash"
         },
         "mode": "lines",
         "name": "RSI 70 (Overbought)",
         "showlegend": false,
         "type": "scatter",
         "x": [
          "2025-04-21T18:45:45.000000000",
          "2025-04-21T18:45:59.000000000",
          "2025-04-21T18:46:06.000000000",
          "2025-04-21T18:46:17.000000000",
          "2025-04-21T18:46:31.000000000",
          "2025-04-21T18:46:39.000000000",
          "2025-04-21T18:46:46.000000000",
          "2025-04-21T18:47:00.000000000",
          "2025-04-21T18:47:08.000000000",
          "2025-04-21T18:47:21.000000000",
          "2025-04-21T18:47:28.000000000",
          "2025-04-21T18:47:41.000000000",
          "2025-04-21T18:47:50.000000000",
          "2025-04-21T18:47:56.000000000",
          "2025-04-21T18:48:11.000000000",
          "2025-04-21T18:48:24.000000000",
          "2025-04-21T18:48:32.000000000",
          "2025-04-21T18:48:40.000000000"
         ],
         "xaxis": "x4",
         "y": [
          70,
          70,
          70,
          70,
          70,
          70,
          70,
          70,
          70,
          70,
          70,
          70,
          70,
          70,
          70,
          70,
          70,
          70
         ],
         "yaxis": "y4"
        },
        {
         "line": {
          "color": "green",
          "dash": "dash"
         },
         "mode": "lines",
         "name": "RSI 30 (Oversold)",
         "showlegend": false,
         "type": "scatter",
         "x": [
          "2025-04-21T18:45:45.000000000",
          "2025-04-21T18:45:59.000000000",
          "2025-04-21T18:46:06.000000000",
          "2025-04-21T18:46:17.000000000",
          "2025-04-21T18:46:31.000000000",
          "2025-04-21T18:46:39.000000000",
          "2025-04-21T18:46:46.000000000",
          "2025-04-21T18:47:00.000000000",
          "2025-04-21T18:47:08.000000000",
          "2025-04-21T18:47:21.000000000",
          "2025-04-21T18:47:28.000000000",
          "2025-04-21T18:47:41.000000000",
          "2025-04-21T18:47:50.000000000",
          "2025-04-21T18:47:56.000000000",
          "2025-04-21T18:48:11.000000000",
          "2025-04-21T18:48:24.000000000",
          "2025-04-21T18:48:32.000000000",
          "2025-04-21T18:48:40.000000000"
         ],
         "xaxis": "x4",
         "y": [
          30,
          30,
          30,
          30,
          30,
          30,
          30,
          30,
          30,
          30,
          30,
          30,
          30,
          30,
          30,
          30,
          30,
          30
         ],
         "yaxis": "y4"
        },
        {
         "line": {
          "color": "blue"
         },
         "mode": "lines+markers",
         "name": "META RSI",
         "showlegend": true,
         "type": "scatter",
         "x": [
          "2025-04-21T18:45:45.000000000",
          "2025-04-21T18:45:59.000000000",
          "2025-04-21T18:46:08.000000000",
          "2025-04-21T18:46:16.000000000",
          "2025-04-21T18:46:31.000000000",
          "2025-04-21T18:46:39.000000000",
          "2025-04-21T18:46:48.000000000",
          "2025-04-21T18:47:00.000000000",
          "2025-04-21T18:47:08.000000000",
          "2025-04-21T18:47:21.000000000",
          "2025-04-21T18:47:25.000000000",
          "2025-04-21T18:47:39.000000000",
          "2025-04-21T18:47:51.000000000",
          "2025-04-21T18:48:04.000000000",
          "2025-04-21T18:48:06.000000000",
          "2025-04-21T18:48:23.000000000",
          "2025-04-21T18:48:31.000000000",
          "2025-04-21T18:48:33.000000000"
         ],
         "xaxis": "x5",
         "y": {
          "bdata": "AAAAAAAAAAAAAAAAAAAAAAAAAAAAAAAAAAAAAAAAAAAAAAAAAABZQAAAAAAAAFlAAAAAAAAAWUAAAAAAAABZQAAAAAAAAAAAAAAAAAAAAAAAAAAAAAAAAAAAAAAAAAAAAAAAAAAAAAAAAAAAAAAAAAAAAAAAAAAAAAAAAAAAAAAAAAAAAAAAAAAAAAAAAAAA",
          "dtype": "f8"
         },
         "yaxis": "y5"
        },
        {
         "line": {
          "color": "red",
          "dash": "dash"
         },
         "mode": "lines",
         "name": "RSI 70 (Overbought)",
         "showlegend": false,
         "type": "scatter",
         "x": [
          "2025-04-21T18:45:45.000000000",
          "2025-04-21T18:45:59.000000000",
          "2025-04-21T18:46:08.000000000",
          "2025-04-21T18:46:16.000000000",
          "2025-04-21T18:46:31.000000000",
          "2025-04-21T18:46:39.000000000",
          "2025-04-21T18:46:48.000000000",
          "2025-04-21T18:47:00.000000000",
          "2025-04-21T18:47:08.000000000",
          "2025-04-21T18:47:21.000000000",
          "2025-04-21T18:47:25.000000000",
          "2025-04-21T18:47:39.000000000",
          "2025-04-21T18:47:51.000000000",
          "2025-04-21T18:48:04.000000000",
          "2025-04-21T18:48:06.000000000",
          "2025-04-21T18:48:23.000000000",
          "2025-04-21T18:48:31.000000000",
          "2025-04-21T18:48:33.000000000"
         ],
         "xaxis": "x5",
         "y": [
          70,
          70,
          70,
          70,
          70,
          70,
          70,
          70,
          70,
          70,
          70,
          70,
          70,
          70,
          70,
          70,
          70,
          70
         ],
         "yaxis": "y5"
        },
        {
         "line": {
          "color": "green",
          "dash": "dash"
         },
         "mode": "lines",
         "name": "RSI 30 (Oversold)",
         "showlegend": false,
         "type": "scatter",
         "x": [
          "2025-04-21T18:45:45.000000000",
          "2025-04-21T18:45:59.000000000",
          "2025-04-21T18:46:08.000000000",
          "2025-04-21T18:46:16.000000000",
          "2025-04-21T18:46:31.000000000",
          "2025-04-21T18:46:39.000000000",
          "2025-04-21T18:46:48.000000000",
          "2025-04-21T18:47:00.000000000",
          "2025-04-21T18:47:08.000000000",
          "2025-04-21T18:47:21.000000000",
          "2025-04-21T18:47:25.000000000",
          "2025-04-21T18:47:39.000000000",
          "2025-04-21T18:47:51.000000000",
          "2025-04-21T18:48:04.000000000",
          "2025-04-21T18:48:06.000000000",
          "2025-04-21T18:48:23.000000000",
          "2025-04-21T18:48:31.000000000",
          "2025-04-21T18:48:33.000000000"
         ],
         "xaxis": "x5",
         "y": [
          30,
          30,
          30,
          30,
          30,
          30,
          30,
          30,
          30,
          30,
          30,
          30,
          30,
          30,
          30,
          30,
          30,
          30
         ],
         "yaxis": "y5"
        },
        {
         "line": {
          "color": "blue"
         },
         "mode": "lines+markers",
         "name": "TSLA RSI",
         "showlegend": true,
         "type": "scatter",
         "x": [
          "2025-04-21T18:45:45.000000000",
          "2025-04-21T18:46:00.000000000",
          "2025-04-21T18:46:09.000000000",
          "2025-04-21T18:46:18.000000000",
          "2025-04-21T18:46:31.000000000",
          "2025-04-21T18:46:39.000000000",
          "2025-04-21T18:46:48.000000000",
          "2025-04-21T18:47:00.000000000",
          "2025-04-21T18:47:09.000000000",
          "2025-04-21T18:47:22.000000000",
          "2025-04-21T18:47:30.000000000",
          "2025-04-21T18:47:43.000000000",
          "2025-04-21T18:47:51.000000000",
          "2025-04-21T18:48:04.000000000",
          "2025-04-21T18:48:12.000000000",
          "2025-04-21T18:48:24.000000000",
          "2025-04-21T18:48:32.000000000",
          "2025-04-21T18:48:40.000000000"
         ],
         "xaxis": "x6",
         "y": {
          "bdata": "AAAAAAAAAAAAAAAAAAAAAAAAAAAAAAAAAAAAAAAAAAAAAAAAAAAAAAAAAAAAAAAAAAAAAAAAAAAAAAAAAAAAAAAAAAAAAFlAAAAAAAAAWUAAAAAAAABZQAAAAAAAAFlAAAAAAAAAWUAAAAAAAAAAAAAAAAAAAAAAAAAAAAAAAAAAAAAAAAAAAAAAAAAAAAAA",
          "dtype": "f8"
         },
         "yaxis": "y6"
        },
        {
         "line": {
          "color": "red",
          "dash": "dash"
         },
         "mode": "lines",
         "name": "RSI 70 (Overbought)",
         "showlegend": false,
         "type": "scatter",
         "x": [
          "2025-04-21T18:45:45.000000000",
          "2025-04-21T18:46:00.000000000",
          "2025-04-21T18:46:09.000000000",
          "2025-04-21T18:46:18.000000000",
          "2025-04-21T18:46:31.000000000",
          "2025-04-21T18:46:39.000000000",
          "2025-04-21T18:46:48.000000000",
          "2025-04-21T18:47:00.000000000",
          "2025-04-21T18:47:09.000000000",
          "2025-04-21T18:47:22.000000000",
          "2025-04-21T18:47:30.000000000",
          "2025-04-21T18:47:43.000000000",
          "2025-04-21T18:47:51.000000000",
          "2025-04-21T18:48:04.000000000",
          "2025-04-21T18:48:12.000000000",
          "2025-04-21T18:48:24.000000000",
          "2025-04-21T18:48:32.000000000",
          "2025-04-21T18:48:40.000000000"
         ],
         "xaxis": "x6",
         "y": [
          70,
          70,
          70,
          70,
          70,
          70,
          70,
          70,
          70,
          70,
          70,
          70,
          70,
          70,
          70,
          70,
          70,
          70
         ],
         "yaxis": "y6"
        },
        {
         "line": {
          "color": "green",
          "dash": "dash"
         },
         "mode": "lines",
         "name": "RSI 30 (Oversold)",
         "showlegend": false,
         "type": "scatter",
         "x": [
          "2025-04-21T18:45:45.000000000",
          "2025-04-21T18:46:00.000000000",
          "2025-04-21T18:46:09.000000000",
          "2025-04-21T18:46:18.000000000",
          "2025-04-21T18:46:31.000000000",
          "2025-04-21T18:46:39.000000000",
          "2025-04-21T18:46:48.000000000",
          "2025-04-21T18:47:00.000000000",
          "2025-04-21T18:47:09.000000000",
          "2025-04-21T18:47:22.000000000",
          "2025-04-21T18:47:30.000000000",
          "2025-04-21T18:47:43.000000000",
          "2025-04-21T18:47:51.000000000",
          "2025-04-21T18:48:04.000000000",
          "2025-04-21T18:48:12.000000000",
          "2025-04-21T18:48:24.000000000",
          "2025-04-21T18:48:32.000000000",
          "2025-04-21T18:48:40.000000000"
         ],
         "xaxis": "x6",
         "y": [
          30,
          30,
          30,
          30,
          30,
          30,
          30,
          30,
          30,
          30,
          30,
          30,
          30,
          30,
          30,
          30,
          30,
          30
         ],
         "yaxis": "y6"
        },
        {
         "line": {
          "color": "blue"
         },
         "mode": "lines+markers",
         "name": "NVDA RSI",
         "showlegend": true,
         "type": "scatter",
         "x": [
          "2025-04-21T18:45:45.000000000",
          "2025-04-21T18:45:59.000000000",
          "2025-04-21T18:46:09.000000000",
          "2025-04-21T18:46:17.000000000",
          "2025-04-21T18:46:31.000000000",
          "2025-04-21T18:46:39.000000000",
          "2025-04-21T18:46:48.000000000",
          "2025-04-21T18:47:00.000000000",
          "2025-04-21T18:47:08.000000000",
          "2025-04-21T18:47:21.000000000",
          "2025-04-21T18:47:30.000000000",
          "2025-04-21T18:47:43.000000000",
          "2025-04-21T18:47:51.000000000",
          "2025-04-21T18:48:02.000000000",
          "2025-04-21T18:48:12.000000000",
          "2025-04-21T18:48:24.000000000",
          "2025-04-21T18:48:32.000000000",
          "2025-04-21T18:48:40.000000000"
         ],
         "xaxis": "x7",
         "y": {
          "bdata": "AAAAAAAAAAAAAAAAAAAAAAAAAAAAAAAAAAAAAAAAAAAAAAAAAABZQAAAAAAAAFlAAAAAAAAAWUAAAAAAAABZQAAAAAAAAAAAAAAAAAAAAAAAAAAAAAAAAAAAAAAAAAAAAAAAAAAAAAAAAAAAAAAAAAAAAAAAAAAAAAAAAAAAAAAAAAAAAAAAAAAAAAAAAAAA",
          "dtype": "f8"
         },
         "yaxis": "y7"
        },
        {
         "line": {
          "color": "red",
          "dash": "dash"
         },
         "mode": "lines",
         "name": "RSI 70 (Overbought)",
         "showlegend": false,
         "type": "scatter",
         "x": [
          "2025-04-21T18:45:45.000000000",
          "2025-04-21T18:45:59.000000000",
          "2025-04-21T18:46:09.000000000",
          "2025-04-21T18:46:17.000000000",
          "2025-04-21T18:46:31.000000000",
          "2025-04-21T18:46:39.000000000",
          "2025-04-21T18:46:48.000000000",
          "2025-04-21T18:47:00.000000000",
          "2025-04-21T18:47:08.000000000",
          "2025-04-21T18:47:21.000000000",
          "2025-04-21T18:47:30.000000000",
          "2025-04-21T18:47:43.000000000",
          "2025-04-21T18:47:51.000000000",
          "2025-04-21T18:48:02.000000000",
          "2025-04-21T18:48:12.000000000",
          "2025-04-21T18:48:24.000000000",
          "2025-04-21T18:48:32.000000000",
          "2025-04-21T18:48:40.000000000"
         ],
         "xaxis": "x7",
         "y": [
          70,
          70,
          70,
          70,
          70,
          70,
          70,
          70,
          70,
          70,
          70,
          70,
          70,
          70,
          70,
          70,
          70,
          70
         ],
         "yaxis": "y7"
        },
        {
         "line": {
          "color": "green",
          "dash": "dash"
         },
         "mode": "lines",
         "name": "RSI 30 (Oversold)",
         "showlegend": false,
         "type": "scatter",
         "x": [
          "2025-04-21T18:45:45.000000000",
          "2025-04-21T18:45:59.000000000",
          "2025-04-21T18:46:09.000000000",
          "2025-04-21T18:46:17.000000000",
          "2025-04-21T18:46:31.000000000",
          "2025-04-21T18:46:39.000000000",
          "2025-04-21T18:46:48.000000000",
          "2025-04-21T18:47:00.000000000",
          "2025-04-21T18:47:08.000000000",
          "2025-04-21T18:47:21.000000000",
          "2025-04-21T18:47:30.000000000",
          "2025-04-21T18:47:43.000000000",
          "2025-04-21T18:47:51.000000000",
          "2025-04-21T18:48:02.000000000",
          "2025-04-21T18:48:12.000000000",
          "2025-04-21T18:48:24.000000000",
          "2025-04-21T18:48:32.000000000",
          "2025-04-21T18:48:40.000000000"
         ],
         "xaxis": "x7",
         "y": [
          30,
          30,
          30,
          30,
          30,
          30,
          30,
          30,
          30,
          30,
          30,
          30,
          30,
          30,
          30,
          30,
          30,
          30
         ],
         "yaxis": "y7"
        }
       ],
       "layout": {
        "annotations": [
         {
          "font": {
           "size": 16
          },
          "showarrow": false,
          "text": "AAPL - RSI Over Time",
          "x": 0.14444444444444446,
          "xanchor": "center",
          "xref": "paper",
          "y": 1,
          "yanchor": "bottom",
          "yref": "paper"
         },
         {
          "font": {
           "size": 16
          },
          "showarrow": false,
          "text": "MSFT - RSI Over Time",
          "x": 0.5,
          "xanchor": "center",
          "xref": "paper",
          "y": 1,
          "yanchor": "bottom",
          "yref": "paper"
         },
         {
          "font": {
           "size": 16
          },
          "showarrow": false,
          "text": "AMZN - RSI Over Time",
          "x": 0.8555555555555556,
          "xanchor": "center",
          "xref": "paper",
          "y": 1,
          "yanchor": "bottom",
          "yref": "paper"
         },
         {
          "font": {
           "size": 16
          },
          "showarrow": false,
          "text": "GOOGL - RSI Over Time",
          "x": 0.14444444444444446,
          "xanchor": "center",
          "xref": "paper",
          "y": 0.6111111111111112,
          "yanchor": "bottom",
          "yref": "paper"
         },
         {
          "font": {
           "size": 16
          },
          "showarrow": false,
          "text": "META - RSI Over Time",
          "x": 0.5,
          "xanchor": "center",
          "xref": "paper",
          "y": 0.6111111111111112,
          "yanchor": "bottom",
          "yref": "paper"
         },
         {
          "font": {
           "size": 16
          },
          "showarrow": false,
          "text": "TSLA - RSI Over Time",
          "x": 0.8555555555555556,
          "xanchor": "center",
          "xref": "paper",
          "y": 0.6111111111111112,
          "yanchor": "bottom",
          "yref": "paper"
         },
         {
          "font": {
           "size": 16
          },
          "showarrow": false,
          "text": "NVDA - RSI Over Time",
          "x": 0.14444444444444446,
          "xanchor": "center",
          "xref": "paper",
          "y": 0.22222222222222224,
          "yanchor": "bottom",
          "yref": "paper"
         }
        ],
        "height": 1000,
        "template": {
         "data": {
          "bar": [
           {
            "error_x": {
             "color": "#2a3f5f"
            },
            "error_y": {
             "color": "#2a3f5f"
            },
            "marker": {
             "line": {
              "color": "#E5ECF6",
              "width": 0.5
             },
             "pattern": {
              "fillmode": "overlay",
              "size": 10,
              "solidity": 0.2
             }
            },
            "type": "bar"
           }
          ],
          "barpolar": [
           {
            "marker": {
             "line": {
              "color": "#E5ECF6",
              "width": 0.5
             },
             "pattern": {
              "fillmode": "overlay",
              "size": 10,
              "solidity": 0.2
             }
            },
            "type": "barpolar"
           }
          ],
          "carpet": [
           {
            "aaxis": {
             "endlinecolor": "#2a3f5f",
             "gridcolor": "white",
             "linecolor": "white",
             "minorgridcolor": "white",
             "startlinecolor": "#2a3f5f"
            },
            "baxis": {
             "endlinecolor": "#2a3f5f",
             "gridcolor": "white",
             "linecolor": "white",
             "minorgridcolor": "white",
             "startlinecolor": "#2a3f5f"
            },
            "type": "carpet"
           }
          ],
          "choropleth": [
           {
            "colorbar": {
             "outlinewidth": 0,
             "ticks": ""
            },
            "type": "choropleth"
           }
          ],
          "contour": [
           {
            "colorbar": {
             "outlinewidth": 0,
             "ticks": ""
            },
            "colorscale": [
             [
              0,
              "#0d0887"
             ],
             [
              0.1111111111111111,
              "#46039f"
             ],
             [
              0.2222222222222222,
              "#7201a8"
             ],
             [
              0.3333333333333333,
              "#9c179e"
             ],
             [
              0.4444444444444444,
              "#bd3786"
             ],
             [
              0.5555555555555556,
              "#d8576b"
             ],
             [
              0.6666666666666666,
              "#ed7953"
             ],
             [
              0.7777777777777778,
              "#fb9f3a"
             ],
             [
              0.8888888888888888,
              "#fdca26"
             ],
             [
              1,
              "#f0f921"
             ]
            ],
            "type": "contour"
           }
          ],
          "contourcarpet": [
           {
            "colorbar": {
             "outlinewidth": 0,
             "ticks": ""
            },
            "type": "contourcarpet"
           }
          ],
          "heatmap": [
           {
            "colorbar": {
             "outlinewidth": 0,
             "ticks": ""
            },
            "colorscale": [
             [
              0,
              "#0d0887"
             ],
             [
              0.1111111111111111,
              "#46039f"
             ],
             [
              0.2222222222222222,
              "#7201a8"
             ],
             [
              0.3333333333333333,
              "#9c179e"
             ],
             [
              0.4444444444444444,
              "#bd3786"
             ],
             [
              0.5555555555555556,
              "#d8576b"
             ],
             [
              0.6666666666666666,
              "#ed7953"
             ],
             [
              0.7777777777777778,
              "#fb9f3a"
             ],
             [
              0.8888888888888888,
              "#fdca26"
             ],
             [
              1,
              "#f0f921"
             ]
            ],
            "type": "heatmap"
           }
          ],
          "histogram": [
           {
            "marker": {
             "pattern": {
              "fillmode": "overlay",
              "size": 10,
              "solidity": 0.2
             }
            },
            "type": "histogram"
           }
          ],
          "histogram2d": [
           {
            "colorbar": {
             "outlinewidth": 0,
             "ticks": ""
            },
            "colorscale": [
             [
              0,
              "#0d0887"
             ],
             [
              0.1111111111111111,
              "#46039f"
             ],
             [
              0.2222222222222222,
              "#7201a8"
             ],
             [
              0.3333333333333333,
              "#9c179e"
             ],
             [
              0.4444444444444444,
              "#bd3786"
             ],
             [
              0.5555555555555556,
              "#d8576b"
             ],
             [
              0.6666666666666666,
              "#ed7953"
             ],
             [
              0.7777777777777778,
              "#fb9f3a"
             ],
             [
              0.8888888888888888,
              "#fdca26"
             ],
             [
              1,
              "#f0f921"
             ]
            ],
            "type": "histogram2d"
           }
          ],
          "histogram2dcontour": [
           {
            "colorbar": {
             "outlinewidth": 0,
             "ticks": ""
            },
            "colorscale": [
             [
              0,
              "#0d0887"
             ],
             [
              0.1111111111111111,
              "#46039f"
             ],
             [
              0.2222222222222222,
              "#7201a8"
             ],
             [
              0.3333333333333333,
              "#9c179e"
             ],
             [
              0.4444444444444444,
              "#bd3786"
             ],
             [
              0.5555555555555556,
              "#d8576b"
             ],
             [
              0.6666666666666666,
              "#ed7953"
             ],
             [
              0.7777777777777778,
              "#fb9f3a"
             ],
             [
              0.8888888888888888,
              "#fdca26"
             ],
             [
              1,
              "#f0f921"
             ]
            ],
            "type": "histogram2dcontour"
           }
          ],
          "mesh3d": [
           {
            "colorbar": {
             "outlinewidth": 0,
             "ticks": ""
            },
            "type": "mesh3d"
           }
          ],
          "parcoords": [
           {
            "line": {
             "colorbar": {
              "outlinewidth": 0,
              "ticks": ""
             }
            },
            "type": "parcoords"
           }
          ],
          "pie": [
           {
            "automargin": true,
            "type": "pie"
           }
          ],
          "scatter": [
           {
            "fillpattern": {
             "fillmode": "overlay",
             "size": 10,
             "solidity": 0.2
            },
            "type": "scatter"
           }
          ],
          "scatter3d": [
           {
            "line": {
             "colorbar": {
              "outlinewidth": 0,
              "ticks": ""
             }
            },
            "marker": {
             "colorbar": {
              "outlinewidth": 0,
              "ticks": ""
             }
            },
            "type": "scatter3d"
           }
          ],
          "scattercarpet": [
           {
            "marker": {
             "colorbar": {
              "outlinewidth": 0,
              "ticks": ""
             }
            },
            "type": "scattercarpet"
           }
          ],
          "scattergeo": [
           {
            "marker": {
             "colorbar": {
              "outlinewidth": 0,
              "ticks": ""
             }
            },
            "type": "scattergeo"
           }
          ],
          "scattergl": [
           {
            "marker": {
             "colorbar": {
              "outlinewidth": 0,
              "ticks": ""
             }
            },
            "type": "scattergl"
           }
          ],
          "scattermap": [
           {
            "marker": {
             "colorbar": {
              "outlinewidth": 0,
              "ticks": ""
             }
            },
            "type": "scattermap"
           }
          ],
          "scattermapbox": [
           {
            "marker": {
             "colorbar": {
              "outlinewidth": 0,
              "ticks": ""
             }
            },
            "type": "scattermapbox"
           }
          ],
          "scatterpolar": [
           {
            "marker": {
             "colorbar": {
              "outlinewidth": 0,
              "ticks": ""
             }
            },
            "type": "scatterpolar"
           }
          ],
          "scatterpolargl": [
           {
            "marker": {
             "colorbar": {
              "outlinewidth": 0,
              "ticks": ""
             }
            },
            "type": "scatterpolargl"
           }
          ],
          "scatterternary": [
           {
            "marker": {
             "colorbar": {
              "outlinewidth": 0,
              "ticks": ""
             }
            },
            "type": "scatterternary"
           }
          ],
          "surface": [
           {
            "colorbar": {
             "outlinewidth": 0,
             "ticks": ""
            },
            "colorscale": [
             [
              0,
              "#0d0887"
             ],
             [
              0.1111111111111111,
              "#46039f"
             ],
             [
              0.2222222222222222,
              "#7201a8"
             ],
             [
              0.3333333333333333,
              "#9c179e"
             ],
             [
              0.4444444444444444,
              "#bd3786"
             ],
             [
              0.5555555555555556,
              "#d8576b"
             ],
             [
              0.6666666666666666,
              "#ed7953"
             ],
             [
              0.7777777777777778,
              "#fb9f3a"
             ],
             [
              0.8888888888888888,
              "#fdca26"
             ],
             [
              1,
              "#f0f921"
             ]
            ],
            "type": "surface"
           }
          ],
          "table": [
           {
            "cells": {
             "fill": {
              "color": "#EBF0F8"
             },
             "line": {
              "color": "white"
             }
            },
            "header": {
             "fill": {
              "color": "#C8D4E3"
             },
             "line": {
              "color": "white"
             }
            },
            "type": "table"
           }
          ]
         },
         "layout": {
          "annotationdefaults": {
           "arrowcolor": "#2a3f5f",
           "arrowhead": 0,
           "arrowwidth": 1
          },
          "autotypenumbers": "strict",
          "coloraxis": {
           "colorbar": {
            "outlinewidth": 0,
            "ticks": ""
           }
          },
          "colorscale": {
           "diverging": [
            [
             0,
             "#8e0152"
            ],
            [
             0.1,
             "#c51b7d"
            ],
            [
             0.2,
             "#de77ae"
            ],
            [
             0.3,
             "#f1b6da"
            ],
            [
             0.4,
             "#fde0ef"
            ],
            [
             0.5,
             "#f7f7f7"
            ],
            [
             0.6,
             "#e6f5d0"
            ],
            [
             0.7,
             "#b8e186"
            ],
            [
             0.8,
             "#7fbc41"
            ],
            [
             0.9,
             "#4d9221"
            ],
            [
             1,
             "#276419"
            ]
           ],
           "sequential": [
            [
             0,
             "#0d0887"
            ],
            [
             0.1111111111111111,
             "#46039f"
            ],
            [
             0.2222222222222222,
             "#7201a8"
            ],
            [
             0.3333333333333333,
             "#9c179e"
            ],
            [
             0.4444444444444444,
             "#bd3786"
            ],
            [
             0.5555555555555556,
             "#d8576b"
            ],
            [
             0.6666666666666666,
             "#ed7953"
            ],
            [
             0.7777777777777778,
             "#fb9f3a"
            ],
            [
             0.8888888888888888,
             "#fdca26"
            ],
            [
             1,
             "#f0f921"
            ]
           ],
           "sequentialminus": [
            [
             0,
             "#0d0887"
            ],
            [
             0.1111111111111111,
             "#46039f"
            ],
            [
             0.2222222222222222,
             "#7201a8"
            ],
            [
             0.3333333333333333,
             "#9c179e"
            ],
            [
             0.4444444444444444,
             "#bd3786"
            ],
            [
             0.5555555555555556,
             "#d8576b"
            ],
            [
             0.6666666666666666,
             "#ed7953"
            ],
            [
             0.7777777777777778,
             "#fb9f3a"
            ],
            [
             0.8888888888888888,
             "#fdca26"
            ],
            [
             1,
             "#f0f921"
            ]
           ]
          },
          "colorway": [
           "#636efa",
           "#EF553B",
           "#00cc96",
           "#ab63fa",
           "#FFA15A",
           "#19d3f3",
           "#FF6692",
           "#B6E880",
           "#FF97FF",
           "#FECB52"
          ],
          "font": {
           "color": "#2a3f5f"
          },
          "geo": {
           "bgcolor": "white",
           "lakecolor": "white",
           "landcolor": "#E5ECF6",
           "showlakes": true,
           "showland": true,
           "subunitcolor": "white"
          },
          "hoverlabel": {
           "align": "left"
          },
          "hovermode": "closest",
          "mapbox": {
           "style": "light"
          },
          "paper_bgcolor": "white",
          "plot_bgcolor": "#E5ECF6",
          "polar": {
           "angularaxis": {
            "gridcolor": "white",
            "linecolor": "white",
            "ticks": ""
           },
           "bgcolor": "#E5ECF6",
           "radialaxis": {
            "gridcolor": "white",
            "linecolor": "white",
            "ticks": ""
           }
          },
          "scene": {
           "xaxis": {
            "backgroundcolor": "#E5ECF6",
            "gridcolor": "white",
            "gridwidth": 2,
            "linecolor": "white",
            "showbackground": true,
            "ticks": "",
            "zerolinecolor": "white"
           },
           "yaxis": {
            "backgroundcolor": "#E5ECF6",
            "gridcolor": "white",
            "gridwidth": 2,
            "linecolor": "white",
            "showbackground": true,
            "ticks": "",
            "zerolinecolor": "white"
           },
           "zaxis": {
            "backgroundcolor": "#E5ECF6",
            "gridcolor": "white",
            "gridwidth": 2,
            "linecolor": "white",
            "showbackground": true,
            "ticks": "",
            "zerolinecolor": "white"
           }
          },
          "shapedefaults": {
           "line": {
            "color": "#2a3f5f"
           }
          },
          "ternary": {
           "aaxis": {
            "gridcolor": "white",
            "linecolor": "white",
            "ticks": ""
           },
           "baxis": {
            "gridcolor": "white",
            "linecolor": "white",
            "ticks": ""
           },
           "bgcolor": "#E5ECF6",
           "caxis": {
            "gridcolor": "white",
            "linecolor": "white",
            "ticks": ""
           }
          },
          "title": {
           "x": 0.05
          },
          "xaxis": {
           "automargin": true,
           "gridcolor": "white",
           "linecolor": "white",
           "ticks": "",
           "title": {
            "standoff": 15
           },
           "zerolinecolor": "white",
           "zerolinewidth": 2
          },
          "yaxis": {
           "automargin": true,
           "gridcolor": "white",
           "linecolor": "white",
           "ticks": "",
           "title": {
            "standoff": 15
           },
           "zerolinecolor": "white",
           "zerolinewidth": 2
          }
         }
        },
        "title": {
         "text": "RSI Over Time (Real-Time Data)"
        },
        "width": 1100,
        "xaxis": {
         "anchor": "y",
         "domain": [
          0,
          0.2888888888888889
         ]
        },
        "xaxis2": {
         "anchor": "y2",
         "domain": [
          0.35555555555555557,
          0.6444444444444445
         ]
        },
        "xaxis3": {
         "anchor": "y3",
         "domain": [
          0.7111111111111111,
          1
         ]
        },
        "xaxis4": {
         "anchor": "y4",
         "domain": [
          0,
          0.2888888888888889
         ]
        },
        "xaxis5": {
         "anchor": "y5",
         "domain": [
          0.35555555555555557,
          0.6444444444444445
         ]
        },
        "xaxis6": {
         "anchor": "y6",
         "domain": [
          0.7111111111111111,
          1
         ]
        },
        "xaxis7": {
         "anchor": "y7",
         "domain": [
          0,
          0.2888888888888889
         ]
        },
        "xaxis8": {
         "anchor": "y8",
         "domain": [
          0.35555555555555557,
          0.6444444444444445
         ]
        },
        "xaxis9": {
         "anchor": "y9",
         "domain": [
          0.7111111111111111,
          1
         ]
        },
        "yaxis": {
         "anchor": "x",
         "domain": [
          0.7777777777777778,
          1
         ]
        },
        "yaxis2": {
         "anchor": "x2",
         "domain": [
          0.7777777777777778,
          1
         ]
        },
        "yaxis3": {
         "anchor": "x3",
         "domain": [
          0.7777777777777778,
          1
         ]
        },
        "yaxis4": {
         "anchor": "x4",
         "domain": [
          0.3888888888888889,
          0.6111111111111112
         ]
        },
        "yaxis5": {
         "anchor": "x5",
         "domain": [
          0.3888888888888889,
          0.6111111111111112
         ]
        },
        "yaxis6": {
         "anchor": "x6",
         "domain": [
          0.3888888888888889,
          0.6111111111111112
         ]
        },
        "yaxis7": {
         "anchor": "x7",
         "domain": [
          0,
          0.22222222222222224
         ]
        },
        "yaxis8": {
         "anchor": "x8",
         "domain": [
          0,
          0.22222222222222224
         ]
        },
        "yaxis9": {
         "anchor": "x9",
         "domain": [
          0,
          0.22222222222222224
         ]
        }
       }
      }
     },
     "metadata": {},
     "output_type": "display_data"
    }
   ],
   "source": [
    "\n",
    "#adding tickers, subplot dimensions and calling the other tickers\n",
    "tickers = ['AAPL', 'MSFT', 'AMZN', 'GOOGL', 'META', 'TSLA', 'NVDA']\n",
    "rows, cols = 3, 3\n",
    "fig = make_subplots(rows=rows, cols=cols, subplot_titles=[f\"{ticker} - RSI Over Time\" for ticker in tickers])\n",
    "\n",
    "# looping and adding our lines for traces\n",
    "for i, ticker in enumerate(tickers):\n",
    "    row = i // cols + 1\n",
    "    col = i % cols + 1\n",
    "    group = df_cass_final[df_cass_final['ticker'] == ticker]\n",
    "\n",
    "    # RSI value trace line\n",
    "    fig.add_trace(go.Scatter(x=group['date'],y=group['RSI_5'],mode='lines+markers',name=f\"{ticker} RSI\",line=dict(color='blue'),showlegend=True),row=row, col=col)\n",
    "\n",
    "    # adding the overbought and oversold to the first subplot only so it shows up in the legend, didnt appear error otherwise\n",
    "    show_legend = (i == 0)\n",
    "\n",
    "    # RSI when overbought\n",
    "    fig.add_trace(go.Scatter(x=group['date'],y=[70]*len(group),mode='lines',line=dict(color='red', dash='dash'),name='RSI 70 (Overbought)',showlegend=show_legend),\n",
    "        row=row, col=col)\n",
    "\n",
    "    # RSI when oversold\n",
    "    fig.add_trace(\n",
    "        go.Scatter(x=group['date'], y=[30]*len(group),mode='lines',line=dict(color='green', dash='dash'),name='RSI 30 (Oversold)',showlegend=show_legend),\n",
    "        row=row, col=col)\n",
    "\n",
    "# title, adding hxw\n",
    "fig.update_layout(height=1000,width=1100,title_text=\"RSI Over Time (Real-Time Data)\")\n",
    "fig.show()\n"
   ]
  },
  {
   "cell_type": "markdown",
   "metadata": {},
   "source": [
    "### The above graph shows the RSI index for all 7 companies based on increments over 3 minutes. Since we are operating in a scope of 3 minutes, the RSI does not have the most data so it's increasing and decreasing very sharply. Typically it is better suited for historical data. We can hover over the dots in the blue line to see each time stamp. The red line signifies the threshold of overbought stocks and the green line signifies oversold threshold. \n",
    "\n",
    "### If there is a period of 100 RSI that would mean that all the price changes recently were gains (no losses were reported). However, if it drops suddenly to 0, it would mean that the RSI calculation flipped due to its sensitivity to price drops (3-minute limit). This price drop to 0 relays the idea of all losses (no gains were reported). Side Note: There is a jump after 5 dots (data points) because RSI_5 take atleast 5 values before they are able to calculate their rolling average. "
   ]
  },
  {
   "cell_type": "code",
   "execution_count": 130,
   "metadata": {},
   "outputs": [
    {
     "name": "stderr",
     "output_type": "stream",
     "text": [
      "/var/folders/94/_l0wmbt11w71fxhk3zvh0t580000gn/T/ipykernel_1553/1009826423.py:6: DeprecationWarning:\n",
      "\n",
      "DataFrameGroupBy.apply operated on the grouping columns. This behavior is deprecated, and in a future version of pandas the grouping columns will be excluded from the operation. Either pass `include_groups=False` to exclude the groupings or explicitly select the grouping columns after groupby to silence this warning.\n",
      "\n"
     ]
    },
    {
     "data": {
      "application/vnd.plotly.v1+json": {
       "config": {
        "plotlyServerURL": "https://plot.ly"
       },
       "data": [
        {
         "fillpattern": {
          "shape": ""
         },
         "hovertemplate": "ticker=AAPL<br>date=%{x}<br>ATR_5=%{y}<extra></extra>",
         "legendgroup": "AAPL",
         "line": {
          "color": "#636efa"
         },
         "marker": {
          "symbol": "circle"
         },
         "mode": "lines+markers",
         "name": "AAPL",
         "orientation": "v",
         "showlegend": true,
         "stackgroup": "1",
         "type": "scatter",
         "x": [
          "2025-04-21T18:47:21.000000000",
          "2025-04-21T18:47:29.000000000",
          "2025-04-21T18:47:40.000000000",
          "2025-04-21T18:47:51.000000000",
          "2025-04-21T18:47:59.000000000",
          "2025-04-21T18:48:08.000000000",
          "2025-04-21T18:48:23.000000000",
          "2025-04-21T18:48:32.000000000",
          "2025-04-21T18:48:40.000000000"
         ],
         "xaxis": "x",
         "y": {
          "bdata": "QEdy+Q/pD0BAR3L5D+kPQEBHcvkP6Q9AQEdy+Q/pD0BAR3L5D+kPQEBHcvkP6Q9AQEdy+Q/pD0BAR3L5D+kPQEBHcvkP6Q9A",
          "dtype": "f8"
         },
         "yaxis": "y"
        },
        {
         "fillpattern": {
          "shape": ""
         },
         "hovertemplate": "ticker=AMZN<br>date=%{x}<br>ATR_5=%{y}<extra></extra>",
         "legendgroup": "AMZN",
         "line": {
          "color": "#EF553B"
         },
         "marker": {
          "symbol": "circle"
         },
         "mode": "lines+markers",
         "name": "AMZN",
         "orientation": "v",
         "showlegend": true,
         "stackgroup": "1",
         "type": "scatter",
         "x": [
          "2025-04-21T18:46:39.000000000",
          "2025-04-21T18:46:48.000000000",
          "2025-04-21T18:47:00.000000000",
          "2025-04-21T18:47:09.000000000",
          "2025-04-21T18:47:21.000000000",
          "2025-04-21T18:47:30.000000000",
          "2025-04-21T18:47:43.000000000",
          "2025-04-21T18:47:51.000000000",
          "2025-04-21T18:47:58.000000000",
          "2025-04-21T18:48:12.000000000",
          "2025-04-21T18:48:23.000000000",
          "2025-04-21T18:48:32.000000000",
          "2025-04-21T18:48:40.000000000"
         ],
         "xaxis": "x",
         "y": {
          "bdata": "oEfhehSuEECgR+F6FK4QQKBH4XoUrhBAoEfhehSuEECgR+F6FK4QQKBH4XoUrhBAoEfhehSuEECgR+F6FK4QQKBH4XoUrhBAoEfhehSuEECgR+F6FK4QQKBH4XoUrhBAoEfhehSuEEA=",
          "dtype": "f8"
         },
         "yaxis": "y"
        },
        {
         "fillpattern": {
          "shape": ""
         },
         "hovertemplate": "ticker=GOOGL<br>date=%{x}<br>ATR_5=%{y}<extra></extra>",
         "legendgroup": "GOOGL",
         "line": {
          "color": "#00cc96"
         },
         "marker": {
          "symbol": "circle"
         },
         "mode": "lines+markers",
         "name": "GOOGL",
         "orientation": "v",
         "showlegend": true,
         "stackgroup": "1",
         "type": "scatter",
         "x": [
          "2025-04-21T18:46:39.000000000",
          "2025-04-21T18:46:46.000000000",
          "2025-04-21T18:47:00.000000000",
          "2025-04-21T18:47:08.000000000",
          "2025-04-21T18:47:21.000000000",
          "2025-04-21T18:47:28.000000000",
          "2025-04-21T18:47:41.000000000",
          "2025-04-21T18:47:50.000000000",
          "2025-04-21T18:47:56.000000000",
          "2025-04-21T18:48:11.000000000",
          "2025-04-21T18:48:24.000000000",
          "2025-04-21T18:48:32.000000000",
          "2025-04-21T18:48:40.000000000"
         ],
         "xaxis": "x",
         "y": {
          "bdata": "wMzMzMzMBUDAzMzMzMwFQMDMzMzMzAVAwMzMzMzMBUDAzMzMzMwFQMDMzMzMzAVAwMzMzMzMBUDAzMzMzMwFQMDMzMzMzAVAwMzMzMzMBUDAzMzMzMwFQMDMzMzMzAVAwMzMzMzMBUA=",
          "dtype": "f8"
         },
         "yaxis": "y"
        },
        {
         "fillpattern": {
          "shape": ""
         },
         "hovertemplate": "ticker=META<br>date=%{x}<br>ATR_5=%{y}<extra></extra>",
         "legendgroup": "META",
         "line": {
          "color": "#ab63fa"
         },
         "marker": {
          "symbol": "circle"
         },
         "mode": "lines+markers",
         "name": "META",
         "orientation": "v",
         "showlegend": true,
         "stackgroup": "1",
         "type": "scatter",
         "x": [
          "2025-04-21T18:46:39.000000000",
          "2025-04-21T18:46:48.000000000",
          "2025-04-21T18:47:00.000000000",
          "2025-04-21T18:47:08.000000000",
          "2025-04-21T18:47:21.000000000",
          "2025-04-21T18:47:25.000000000",
          "2025-04-21T18:47:39.000000000",
          "2025-04-21T18:47:51.000000000",
          "2025-04-21T18:48:04.000000000",
          "2025-04-21T18:48:06.000000000",
          "2025-04-21T18:48:23.000000000",
          "2025-04-21T18:48:31.000000000",
          "2025-04-21T18:48:33.000000000"
         ],
         "xaxis": "x",
         "y": {
          "bdata": "YGZmZmZmK0BgZmZmZmYrQGBmZmZmZitAYGZmZmZmK0BgZmZmZmYrQGBmZmZmZitAYGZmZmZmK0BgZmZmZmYrQGBmZmZmZitAYGZmZmZmK0BgZmZmZmYrQGBmZmZmZitAYGZmZmZmK0A=",
          "dtype": "f8"
         },
         "yaxis": "y"
        },
        {
         "fillpattern": {
          "shape": ""
         },
         "hovertemplate": "ticker=MSFT<br>date=%{x}<br>ATR_5=%{y}<extra></extra>",
         "legendgroup": "MSFT",
         "line": {
          "color": "#FFA15A"
         },
         "marker": {
          "symbol": "circle"
         },
         "mode": "lines+markers",
         "name": "MSFT",
         "orientation": "v",
         "showlegend": true,
         "stackgroup": "1",
         "type": "scatter",
         "x": [
          "2025-04-21T18:46:39.000000000",
          "2025-04-21T18:46:47.000000000",
          "2025-04-21T18:47:00.000000000",
          "2025-04-21T18:47:08.000000000",
          "2025-04-21T18:47:15.000000000",
          "2025-04-21T18:47:28.000000000",
          "2025-04-21T18:47:40.000000000",
          "2025-04-21T18:47:51.000000000",
          "2025-04-21T18:47:57.000000000",
          "2025-04-21T18:48:12.000000000",
          "2025-04-21T18:48:20.000000000",
          "2025-04-21T18:48:32.000000000",
          "2025-04-21T18:48:40.000000000"
         ],
         "xaxis": "x",
         "y": {
          "bdata": "zRxaZDvfH0AAexSuR+EfQAB7FK5H4R9ADSlcj8L1H0CN61G4HgUgQJPC9ShcDyBAmpmZmZkZIECgcD0K1yMgQKBwPQrXIyBAoM2qz9U2IECgKhiV1EkgQKCHhVrTXCBAoOTyH9JvIEA=",
          "dtype": "f8"
         },
         "yaxis": "y"
        },
        {
         "fillpattern": {
          "shape": ""
         },
         "hovertemplate": "ticker=NVDA<br>date=%{x}<br>ATR_5=%{y}<extra></extra>",
         "legendgroup": "NVDA",
         "line": {
          "color": "#19d3f3"
         },
         "marker": {
          "symbol": "circle"
         },
         "mode": "lines+markers",
         "name": "NVDA",
         "orientation": "v",
         "showlegend": true,
         "stackgroup": "1",
         "type": "scatter",
         "x": [
          "2025-04-21T18:46:39.000000000",
          "2025-04-21T18:46:48.000000000",
          "2025-04-21T18:47:00.000000000",
          "2025-04-21T18:47:08.000000000",
          "2025-04-21T18:47:21.000000000",
          "2025-04-21T18:47:30.000000000",
          "2025-04-21T18:47:43.000000000",
          "2025-04-21T18:47:51.000000000",
          "2025-04-21T18:48:02.000000000",
          "2025-04-21T18:48:12.000000000",
          "2025-04-21T18:48:24.000000000",
          "2025-04-21T18:48:32.000000000",
          "2025-04-21T18:48:40.000000000"
         ],
         "xaxis": "x",
         "y": {
          "bdata": "kJmZmZmZEUCQmZmZmZkRQJCZmZmZmRFAkJmZmZmZEUCQmZmZmZkRQJCZmZmZmRFAkJmZmZmZEUCQmZmZmZkRQJCZmZmZmRFAkJmZmZmZEUCQmZmZmZkRQJCZmZmZmRFAkJmZmZmZEUA=",
          "dtype": "f8"
         },
         "yaxis": "y"
        },
        {
         "fillpattern": {
          "shape": ""
         },
         "hovertemplate": "ticker=TSLA<br>date=%{x}<br>ATR_5=%{y}<extra></extra>",
         "legendgroup": "TSLA",
         "line": {
          "color": "#FF6692"
         },
         "marker": {
          "symbol": "circle"
         },
         "mode": "lines+markers",
         "name": "TSLA",
         "orientation": "v",
         "showlegend": true,
         "stackgroup": "1",
         "type": "scatter",
         "x": [
          "2025-04-21T18:46:39.000000000",
          "2025-04-21T18:46:48.000000000",
          "2025-04-21T18:47:00.000000000",
          "2025-04-21T18:47:09.000000000",
          "2025-04-21T18:47:22.000000000",
          "2025-04-21T18:47:30.000000000",
          "2025-04-21T18:47:43.000000000",
          "2025-04-21T18:47:51.000000000",
          "2025-04-21T18:48:04.000000000",
          "2025-04-21T18:48:12.000000000",
          "2025-04-21T18:48:24.000000000",
          "2025-04-21T18:48:32.000000000",
          "2025-04-21T18:48:40.000000000"
         ],
         "xaxis": "x",
         "y": {
          "bdata": "4KNwPQrXIkDgo3A9CtciQOCjcD0K1yJA4KNwPQrXIkDgo3A9CtciQOCjcD0K1yJA4KNwPQrXIkDgo3A9CtciQOCjcD0K1yJA4KNwPQrXIkDgo3A9CtciQOCjcD0K1yJA4KNwPQrXIkA=",
          "dtype": "f8"
         },
         "yaxis": "y"
        }
       ],
       "layout": {
        "height": 500,
        "legend": {
         "title": {
          "text": "ticker"
         },
         "tracegroupgap": 0
        },
        "template": {
         "data": {
          "bar": [
           {
            "error_x": {
             "color": "#2a3f5f"
            },
            "error_y": {
             "color": "#2a3f5f"
            },
            "marker": {
             "line": {
              "color": "#E5ECF6",
              "width": 0.5
             },
             "pattern": {
              "fillmode": "overlay",
              "size": 10,
              "solidity": 0.2
             }
            },
            "type": "bar"
           }
          ],
          "barpolar": [
           {
            "marker": {
             "line": {
              "color": "#E5ECF6",
              "width": 0.5
             },
             "pattern": {
              "fillmode": "overlay",
              "size": 10,
              "solidity": 0.2
             }
            },
            "type": "barpolar"
           }
          ],
          "carpet": [
           {
            "aaxis": {
             "endlinecolor": "#2a3f5f",
             "gridcolor": "white",
             "linecolor": "white",
             "minorgridcolor": "white",
             "startlinecolor": "#2a3f5f"
            },
            "baxis": {
             "endlinecolor": "#2a3f5f",
             "gridcolor": "white",
             "linecolor": "white",
             "minorgridcolor": "white",
             "startlinecolor": "#2a3f5f"
            },
            "type": "carpet"
           }
          ],
          "choropleth": [
           {
            "colorbar": {
             "outlinewidth": 0,
             "ticks": ""
            },
            "type": "choropleth"
           }
          ],
          "contour": [
           {
            "colorbar": {
             "outlinewidth": 0,
             "ticks": ""
            },
            "colorscale": [
             [
              0,
              "#0d0887"
             ],
             [
              0.1111111111111111,
              "#46039f"
             ],
             [
              0.2222222222222222,
              "#7201a8"
             ],
             [
              0.3333333333333333,
              "#9c179e"
             ],
             [
              0.4444444444444444,
              "#bd3786"
             ],
             [
              0.5555555555555556,
              "#d8576b"
             ],
             [
              0.6666666666666666,
              "#ed7953"
             ],
             [
              0.7777777777777778,
              "#fb9f3a"
             ],
             [
              0.8888888888888888,
              "#fdca26"
             ],
             [
              1,
              "#f0f921"
             ]
            ],
            "type": "contour"
           }
          ],
          "contourcarpet": [
           {
            "colorbar": {
             "outlinewidth": 0,
             "ticks": ""
            },
            "type": "contourcarpet"
           }
          ],
          "heatmap": [
           {
            "colorbar": {
             "outlinewidth": 0,
             "ticks": ""
            },
            "colorscale": [
             [
              0,
              "#0d0887"
             ],
             [
              0.1111111111111111,
              "#46039f"
             ],
             [
              0.2222222222222222,
              "#7201a8"
             ],
             [
              0.3333333333333333,
              "#9c179e"
             ],
             [
              0.4444444444444444,
              "#bd3786"
             ],
             [
              0.5555555555555556,
              "#d8576b"
             ],
             [
              0.6666666666666666,
              "#ed7953"
             ],
             [
              0.7777777777777778,
              "#fb9f3a"
             ],
             [
              0.8888888888888888,
              "#fdca26"
             ],
             [
              1,
              "#f0f921"
             ]
            ],
            "type": "heatmap"
           }
          ],
          "histogram": [
           {
            "marker": {
             "pattern": {
              "fillmode": "overlay",
              "size": 10,
              "solidity": 0.2
             }
            },
            "type": "histogram"
           }
          ],
          "histogram2d": [
           {
            "colorbar": {
             "outlinewidth": 0,
             "ticks": ""
            },
            "colorscale": [
             [
              0,
              "#0d0887"
             ],
             [
              0.1111111111111111,
              "#46039f"
             ],
             [
              0.2222222222222222,
              "#7201a8"
             ],
             [
              0.3333333333333333,
              "#9c179e"
             ],
             [
              0.4444444444444444,
              "#bd3786"
             ],
             [
              0.5555555555555556,
              "#d8576b"
             ],
             [
              0.6666666666666666,
              "#ed7953"
             ],
             [
              0.7777777777777778,
              "#fb9f3a"
             ],
             [
              0.8888888888888888,
              "#fdca26"
             ],
             [
              1,
              "#f0f921"
             ]
            ],
            "type": "histogram2d"
           }
          ],
          "histogram2dcontour": [
           {
            "colorbar": {
             "outlinewidth": 0,
             "ticks": ""
            },
            "colorscale": [
             [
              0,
              "#0d0887"
             ],
             [
              0.1111111111111111,
              "#46039f"
             ],
             [
              0.2222222222222222,
              "#7201a8"
             ],
             [
              0.3333333333333333,
              "#9c179e"
             ],
             [
              0.4444444444444444,
              "#bd3786"
             ],
             [
              0.5555555555555556,
              "#d8576b"
             ],
             [
              0.6666666666666666,
              "#ed7953"
             ],
             [
              0.7777777777777778,
              "#fb9f3a"
             ],
             [
              0.8888888888888888,
              "#fdca26"
             ],
             [
              1,
              "#f0f921"
             ]
            ],
            "type": "histogram2dcontour"
           }
          ],
          "mesh3d": [
           {
            "colorbar": {
             "outlinewidth": 0,
             "ticks": ""
            },
            "type": "mesh3d"
           }
          ],
          "parcoords": [
           {
            "line": {
             "colorbar": {
              "outlinewidth": 0,
              "ticks": ""
             }
            },
            "type": "parcoords"
           }
          ],
          "pie": [
           {
            "automargin": true,
            "type": "pie"
           }
          ],
          "scatter": [
           {
            "fillpattern": {
             "fillmode": "overlay",
             "size": 10,
             "solidity": 0.2
            },
            "type": "scatter"
           }
          ],
          "scatter3d": [
           {
            "line": {
             "colorbar": {
              "outlinewidth": 0,
              "ticks": ""
             }
            },
            "marker": {
             "colorbar": {
              "outlinewidth": 0,
              "ticks": ""
             }
            },
            "type": "scatter3d"
           }
          ],
          "scattercarpet": [
           {
            "marker": {
             "colorbar": {
              "outlinewidth": 0,
              "ticks": ""
             }
            },
            "type": "scattercarpet"
           }
          ],
          "scattergeo": [
           {
            "marker": {
             "colorbar": {
              "outlinewidth": 0,
              "ticks": ""
             }
            },
            "type": "scattergeo"
           }
          ],
          "scattergl": [
           {
            "marker": {
             "colorbar": {
              "outlinewidth": 0,
              "ticks": ""
             }
            },
            "type": "scattergl"
           }
          ],
          "scattermap": [
           {
            "marker": {
             "colorbar": {
              "outlinewidth": 0,
              "ticks": ""
             }
            },
            "type": "scattermap"
           }
          ],
          "scattermapbox": [
           {
            "marker": {
             "colorbar": {
              "outlinewidth": 0,
              "ticks": ""
             }
            },
            "type": "scattermapbox"
           }
          ],
          "scatterpolar": [
           {
            "marker": {
             "colorbar": {
              "outlinewidth": 0,
              "ticks": ""
             }
            },
            "type": "scatterpolar"
           }
          ],
          "scatterpolargl": [
           {
            "marker": {
             "colorbar": {
              "outlinewidth": 0,
              "ticks": ""
             }
            },
            "type": "scatterpolargl"
           }
          ],
          "scatterternary": [
           {
            "marker": {
             "colorbar": {
              "outlinewidth": 0,
              "ticks": ""
             }
            },
            "type": "scatterternary"
           }
          ],
          "surface": [
           {
            "colorbar": {
             "outlinewidth": 0,
             "ticks": ""
            },
            "colorscale": [
             [
              0,
              "#0d0887"
             ],
             [
              0.1111111111111111,
              "#46039f"
             ],
             [
              0.2222222222222222,
              "#7201a8"
             ],
             [
              0.3333333333333333,
              "#9c179e"
             ],
             [
              0.4444444444444444,
              "#bd3786"
             ],
             [
              0.5555555555555556,
              "#d8576b"
             ],
             [
              0.6666666666666666,
              "#ed7953"
             ],
             [
              0.7777777777777778,
              "#fb9f3a"
             ],
             [
              0.8888888888888888,
              "#fdca26"
             ],
             [
              1,
              "#f0f921"
             ]
            ],
            "type": "surface"
           }
          ],
          "table": [
           {
            "cells": {
             "fill": {
              "color": "#EBF0F8"
             },
             "line": {
              "color": "white"
             }
            },
            "header": {
             "fill": {
              "color": "#C8D4E3"
             },
             "line": {
              "color": "white"
             }
            },
            "type": "table"
           }
          ]
         },
         "layout": {
          "annotationdefaults": {
           "arrowcolor": "#2a3f5f",
           "arrowhead": 0,
           "arrowwidth": 1
          },
          "autotypenumbers": "strict",
          "coloraxis": {
           "colorbar": {
            "outlinewidth": 0,
            "ticks": ""
           }
          },
          "colorscale": {
           "diverging": [
            [
             0,
             "#8e0152"
            ],
            [
             0.1,
             "#c51b7d"
            ],
            [
             0.2,
             "#de77ae"
            ],
            [
             0.3,
             "#f1b6da"
            ],
            [
             0.4,
             "#fde0ef"
            ],
            [
             0.5,
             "#f7f7f7"
            ],
            [
             0.6,
             "#e6f5d0"
            ],
            [
             0.7,
             "#b8e186"
            ],
            [
             0.8,
             "#7fbc41"
            ],
            [
             0.9,
             "#4d9221"
            ],
            [
             1,
             "#276419"
            ]
           ],
           "sequential": [
            [
             0,
             "#0d0887"
            ],
            [
             0.1111111111111111,
             "#46039f"
            ],
            [
             0.2222222222222222,
             "#7201a8"
            ],
            [
             0.3333333333333333,
             "#9c179e"
            ],
            [
             0.4444444444444444,
             "#bd3786"
            ],
            [
             0.5555555555555556,
             "#d8576b"
            ],
            [
             0.6666666666666666,
             "#ed7953"
            ],
            [
             0.7777777777777778,
             "#fb9f3a"
            ],
            [
             0.8888888888888888,
             "#fdca26"
            ],
            [
             1,
             "#f0f921"
            ]
           ],
           "sequentialminus": [
            [
             0,
             "#0d0887"
            ],
            [
             0.1111111111111111,
             "#46039f"
            ],
            [
             0.2222222222222222,
             "#7201a8"
            ],
            [
             0.3333333333333333,
             "#9c179e"
            ],
            [
             0.4444444444444444,
             "#bd3786"
            ],
            [
             0.5555555555555556,
             "#d8576b"
            ],
            [
             0.6666666666666666,
             "#ed7953"
            ],
            [
             0.7777777777777778,
             "#fb9f3a"
            ],
            [
             0.8888888888888888,
             "#fdca26"
            ],
            [
             1,
             "#f0f921"
            ]
           ]
          },
          "colorway": [
           "#636efa",
           "#EF553B",
           "#00cc96",
           "#ab63fa",
           "#FFA15A",
           "#19d3f3",
           "#FF6692",
           "#B6E880",
           "#FF97FF",
           "#FECB52"
          ],
          "font": {
           "color": "#2a3f5f"
          },
          "geo": {
           "bgcolor": "white",
           "lakecolor": "white",
           "landcolor": "#E5ECF6",
           "showlakes": true,
           "showland": true,
           "subunitcolor": "white"
          },
          "hoverlabel": {
           "align": "left"
          },
          "hovermode": "closest",
          "mapbox": {
           "style": "light"
          },
          "paper_bgcolor": "white",
          "plot_bgcolor": "#E5ECF6",
          "polar": {
           "angularaxis": {
            "gridcolor": "white",
            "linecolor": "white",
            "ticks": ""
           },
           "bgcolor": "#E5ECF6",
           "radialaxis": {
            "gridcolor": "white",
            "linecolor": "white",
            "ticks": ""
           }
          },
          "scene": {
           "xaxis": {
            "backgroundcolor": "#E5ECF6",
            "gridcolor": "white",
            "gridwidth": 2,
            "linecolor": "white",
            "showbackground": true,
            "ticks": "",
            "zerolinecolor": "white"
           },
           "yaxis": {
            "backgroundcolor": "#E5ECF6",
            "gridcolor": "white",
            "gridwidth": 2,
            "linecolor": "white",
            "showbackground": true,
            "ticks": "",
            "zerolinecolor": "white"
           },
           "zaxis": {
            "backgroundcolor": "#E5ECF6",
            "gridcolor": "white",
            "gridwidth": 2,
            "linecolor": "white",
            "showbackground": true,
            "ticks": "",
            "zerolinecolor": "white"
           }
          },
          "shapedefaults": {
           "line": {
            "color": "#2a3f5f"
           }
          },
          "ternary": {
           "aaxis": {
            "gridcolor": "white",
            "linecolor": "white",
            "ticks": ""
           },
           "baxis": {
            "gridcolor": "white",
            "linecolor": "white",
            "ticks": ""
           },
           "bgcolor": "#E5ECF6",
           "caxis": {
            "gridcolor": "white",
            "linecolor": "white",
            "ticks": ""
           }
          },
          "title": {
           "x": 0.05
          },
          "xaxis": {
           "automargin": true,
           "gridcolor": "white",
           "linecolor": "white",
           "ticks": "",
           "title": {
            "standoff": 15
           },
           "zerolinecolor": "white",
           "zerolinewidth": 2
          },
          "yaxis": {
           "automargin": true,
           "gridcolor": "white",
           "linecolor": "white",
           "ticks": "",
           "title": {
            "standoff": 15
           },
           "zerolinecolor": "white",
           "zerolinewidth": 2
          }
         }
        },
        "title": {
         "text": "ATR Area Plot Over Time (Real Time Data)"
        },
        "xaxis": {
         "anchor": "y",
         "domain": [
          0,
          1
         ],
         "title": {
          "text": "Time"
         }
        },
        "yaxis": {
         "anchor": "x",
         "domain": [
          0,
          1
         ],
         "title": {
          "text": "ATR (5-period)"
         }
        }
       }
      }
     },
     "metadata": {},
     "output_type": "display_data"
    }
   ],
   "source": [
    "import plotly.express as px\n",
    "#creating an area plot that shows the ATR or average true range over time \n",
    "# using the 5 period ATR but skipping the first 5 since the window is not done rotating \n",
    "\n",
    "fig = px.area(\n",
    "   df_cass_final.groupby('ticker').apply(lambda x: x.iloc[5:]).reset_index(drop=True),\n",
    "    x=\"date\",\n",
    "    y=\"ATR_5\",\n",
    "    color=\"ticker\",\n",
    "    title=\"ATR Area Plot Over Time (Real Time Data)\",\n",
    "    markers=True\n",
    ")\n",
    "#updating title, and axis and height\n",
    "fig.update_layout(xaxis_title=\"Time\",yaxis_title=\"ATR (5-period)\",height=500)\n",
    "fig.show()\n"
   ]
  },
  {
   "cell_type": "markdown",
   "metadata": {},
   "source": [
    "### Above is a plotly area graph that shows the Average True Range (or volatility) of the magnificent 7 companies in our 3-minute time frame. A higher value means that the stock might have more fluctuation in the short term. Note: this graph does not include the 5 original datapoints needed for the rollingwindow (it was filtered out for clarity)"
   ]
  },
  {
   "cell_type": "code",
   "execution_count": 131,
   "metadata": {},
   "outputs": [
    {
     "data": {
      "application/vnd.plotly.v1+json": {
       "config": {
        "plotlyServerURL": "https://plot.ly"
       },
       "data": [
        {
         "mode": "lines",
         "name": "AAPL MACD",
         "type": "scatter",
         "x": [
          "2025-04-21T18:46:31.000000000",
          "2025-04-21T18:46:38.000000000",
          "2025-04-21T18:46:47.000000000",
          "2025-04-21T18:47:00.000000000",
          "2025-04-21T18:47:08.000000000",
          "2025-04-21T18:47:21.000000000",
          "2025-04-21T18:47:29.000000000",
          "2025-04-21T18:47:40.000000000",
          "2025-04-21T18:47:51.000000000",
          "2025-04-21T18:47:59.000000000",
          "2025-04-21T18:48:08.000000000",
          "2025-04-21T18:48:23.000000000",
          "2025-04-21T18:48:32.000000000",
          "2025-04-21T18:48:40.000000000"
         ],
         "xaxis": "x",
         "y": {
          "bdata": "AABqSIzNbr8AgCp+OjhyvwCA2ydROHS/AAALX4mOdb8AwMFzl/eNvwDg+BttVJa/AAD4yrXUm78A4OuJ39KfvwDwaYhvS6G/ACCqjFQuor8AwEPJ94alvwDwi9hR56e/AABMeDZ+qb8AcKl+oXKqvw==",
          "dtype": "f8"
         },
         "yaxis": "y"
        },
        {
         "line": {
          "dash": "dash"
         },
         "mode": "lines",
         "name": "AAPL MACD_Signal",
         "type": "scatter",
         "x": [
          "2025-04-21T18:46:31.000000000",
          "2025-04-21T18:46:38.000000000",
          "2025-04-21T18:46:47.000000000",
          "2025-04-21T18:47:00.000000000",
          "2025-04-21T18:47:08.000000000",
          "2025-04-21T18:47:21.000000000",
          "2025-04-21T18:47:29.000000000",
          "2025-04-21T18:47:40.000000000",
          "2025-04-21T18:47:51.000000000",
          "2025-04-21T18:47:59.000000000",
          "2025-04-21T18:48:08.000000000",
          "2025-04-21T18:48:23.000000000",
          "2025-04-21T18:48:32.000000000",
          "2025-04-21T18:48:40.000000000"
         ],
         "xaxis": "x",
         "y": {
          "bdata": "cT32vxkUV7/HS0B/7oRgv20JWA+sTWW/WNRKMlqqab9XOzgPx0B2v7zXRhFI1YG/yt+b+Btmib9Rhm3lN4aQv3TLTiEmI5S/9xWD7Nlhl7+TkR10EVGbv3bUgrMuap+//FQQkx2qob/KwPuO0Wujvw==",
          "dtype": "f8"
         },
         "yaxis": "y"
        },
        {
         "mode": "lines",
         "name": "MSFT MACD",
         "type": "scatter",
         "x": [
          "2025-04-21T18:45:45.000000000",
          "2025-04-21T18:46:00.000000000",
          "2025-04-21T18:46:08.000000000",
          "2025-04-21T18:46:17.000000000",
          "2025-04-21T18:46:29.000000000",
          "2025-04-21T18:46:39.000000000",
          "2025-04-21T18:46:47.000000000",
          "2025-04-21T18:47:00.000000000",
          "2025-04-21T18:47:08.000000000",
          "2025-04-21T18:47:15.000000000",
          "2025-04-21T18:47:28.000000000",
          "2025-04-21T18:47:40.000000000",
          "2025-04-21T18:47:51.000000000",
          "2025-04-21T18:47:57.000000000",
          "2025-04-21T18:48:12.000000000",
          "2025-04-21T18:48:20.000000000",
          "2025-04-21T18:48:32.000000000",
          "2025-04-21T18:48:40.000000000"
         ],
         "xaxis": "x2",
         "y": {
          "bdata": "AAAAAAAAAAAAAAAAAAAAAAAAArtaVmC/AACCNXfzbL8AAEStd0BzvwAAtx1Jxna/AADUcWVGeb8AAM+2K/J6vwAAuGzi1JK/AABNu9oXnL8AoCMrv4OhvwDgLys8CKS/AGDUDLzGpb8A4JLCBuWmvwCg75HYY6u/AICZApSZrr8AcOSTDmKwvwAg8Xt+C7G/",
          "dtype": "f8"
         },
         "yaxis": "y2"
        },
        {
         "line": {
          "dash": "dash"
         },
         "mode": "lines",
         "name": "MSFT MACD_Signal",
         "type": "scatter",
         "x": [
          "2025-04-21T18:45:45.000000000",
          "2025-04-21T18:46:00.000000000",
          "2025-04-21T18:46:08.000000000",
          "2025-04-21T18:46:17.000000000",
          "2025-04-21T18:46:29.000000000",
          "2025-04-21T18:46:39.000000000",
          "2025-04-21T18:46:47.000000000",
          "2025-04-21T18:47:00.000000000",
          "2025-04-21T18:47:08.000000000",
          "2025-04-21T18:47:15.000000000",
          "2025-04-21T18:47:28.000000000",
          "2025-04-21T18:47:40.000000000",
          "2025-04-21T18:47:51.000000000",
          "2025-04-21T18:47:57.000000000",
          "2025-04-21T18:48:12.000000000",
          "2025-04-21T18:48:20.000000000",
          "2025-04-21T18:48:32.000000000",
          "2025-04-21T18:48:40.000000000"
         ],
         "xaxis": "x2",
         "y": {
          "bdata": "AAAAAAAAAAAAAAAAAAAAAJqZaV7EIzq/H4WvjvDOUL8ZBPYvINlcv6QBEh8qpmS/UAEwExehar9TzW9feApwv0Ok7Dzi5Xu/G6iwyX5lhr/jbEMqy+2Pv1u4x7vPyJS/sIbBAYtWmb9axQgcpW2dv747AMLTP6G/mHy4m2Dro7/g9u7qH32mv4AFhu0Yz6i/",
          "dtype": "f8"
         },
         "yaxis": "y2"
        },
        {
         "mode": "lines",
         "name": "AMZN MACD",
         "type": "scatter",
         "x": [
          "2025-04-21T18:45:44.000000000",
          "2025-04-21T18:46:00.000000000",
          "2025-04-21T18:46:08.000000000",
          "2025-04-21T18:46:18.000000000",
          "2025-04-21T18:46:31.000000000",
          "2025-04-21T18:46:39.000000000",
          "2025-04-21T18:46:48.000000000",
          "2025-04-21T18:47:00.000000000",
          "2025-04-21T18:47:09.000000000",
          "2025-04-21T18:47:21.000000000",
          "2025-04-21T18:47:30.000000000",
          "2025-04-21T18:47:43.000000000",
          "2025-04-21T18:47:51.000000000",
          "2025-04-21T18:47:58.000000000",
          "2025-04-21T18:48:12.000000000",
          "2025-04-21T18:48:23.000000000",
          "2025-04-21T18:48:32.000000000",
          "2025-04-21T18:48:40.000000000"
         ],
         "xaxis": "x3",
         "y": {
          "bdata": "AAAAAAAAAAAAAAAAAAAAAACAzkbTmnM/AIAaIOFegT8AwFA2KRqHPwCAQL1XVIs/AEDKu3lUjj8AoEgH5yqQPwCAaAYBGoY/AACUE/Opez8AAI4o7MdsPwAAlOjlnU4/AACgxHz4Ub8AAHGIautlvwBAb9N7MI2/AOC5FV63l78AoKZLsZeevwAQYanO0KG/",
          "dtype": "f8"
         },
         "yaxis": "y3"
        },
        {
         "line": {
          "dash": "dash"
         },
         "mode": "lines",
         "name": "AMZN MACD_Signal",
         "type": "scatter",
         "x": [
          "2025-04-21T18:45:44.000000000",
          "2025-04-21T18:46:00.000000000",
          "2025-04-21T18:46:08.000000000",
          "2025-04-21T18:46:18.000000000",
          "2025-04-21T18:46:31.000000000",
          "2025-04-21T18:46:39.000000000",
          "2025-04-21T18:46:48.000000000",
          "2025-04-21T18:47:00.000000000",
          "2025-04-21T18:47:09.000000000",
          "2025-04-21T18:47:21.000000000",
          "2025-04-21T18:47:30.000000000",
          "2025-04-21T18:47:43.000000000",
          "2025-04-21T18:47:51.000000000",
          "2025-04-21T18:47:58.000000000",
          "2025-04-21T18:48:12.000000000",
          "2025-04-21T18:48:23.000000000",
          "2025-04-21T18:48:32.000000000",
          "2025-04-21T18:48:40.000000000"
         ],
         "xaxis": "x3",
         "y": {
          "bdata": "AAAAAAAAAAAAAAAAAAAAAM3MsNceXk8/w/WeEYcrZD/oe/lPE09xPyFj4b5lx3g/tTUFF4L0fz/iu7ilwz+DP4JJQuzP0YM/Am5dpT6fgj+bcesfMVaAP1/P4lh053o/gD96cPCfdD80/6yYnp1sP1zC2SZyXw2/BHZsLhcoc781b9QwUOaDv5Eyka4YLI6/",
          "dtype": "f8"
         },
         "yaxis": "y3"
        },
        {
         "mode": "lines",
         "name": "GOOGL MACD",
         "type": "scatter",
         "x": [
          "2025-04-21T18:45:45.000000000",
          "2025-04-21T18:45:59.000000000",
          "2025-04-21T18:46:06.000000000",
          "2025-04-21T18:46:17.000000000",
          "2025-04-21T18:46:31.000000000",
          "2025-04-21T18:46:39.000000000",
          "2025-04-21T18:46:46.000000000",
          "2025-04-21T18:47:00.000000000",
          "2025-04-21T18:47:08.000000000",
          "2025-04-21T18:47:21.000000000",
          "2025-04-21T18:47:28.000000000",
          "2025-04-21T18:47:41.000000000",
          "2025-04-21T18:47:50.000000000",
          "2025-04-21T18:47:56.000000000",
          "2025-04-21T18:48:11.000000000",
          "2025-04-21T18:48:24.000000000",
          "2025-04-21T18:48:32.000000000",
          "2025-04-21T18:48:40.000000000"
         ],
         "xaxis": "x4",
         "y": {
          "bdata": "AAAAAAAAAAAAAAAAAAAAAAAAAAAAAAAAAAAAAAAAAAAAAAAAAAAAAAAAAAAAAAAAAAAAAAAAAAAAAAAAAAAAAAAAaF7EI1q/AADOKiwpZ78AAGtIjM1uvwAAK346OHK/AADcJ1E4dL8AgAtfiY51vwBALMqbLIa/AEDnUpXZjr8AIGHF1KWSvwBg0LPT9ZS/",
          "dtype": "f8"
         },
         "yaxis": "y4"
        },
        {
         "line": {
          "dash": "dash"
         },
         "mode": "lines",
         "name": "GOOGL MACD_Signal",
         "type": "scatter",
         "x": [
          "2025-04-21T18:45:45.000000000",
          "2025-04-21T18:45:59.000000000",
          "2025-04-21T18:46:06.000000000",
          "2025-04-21T18:46:17.000000000",
          "2025-04-21T18:46:31.000000000",
          "2025-04-21T18:46:39.000000000",
          "2025-04-21T18:46:46.000000000",
          "2025-04-21T18:47:00.000000000",
          "2025-04-21T18:47:08.000000000",
          "2025-04-21T18:47:21.000000000",
          "2025-04-21T18:47:28.000000000",
          "2025-04-21T18:47:41.000000000",
          "2025-04-21T18:47:50.000000000",
          "2025-04-21T18:47:56.000000000",
          "2025-04-21T18:48:11.000000000",
          "2025-04-21T18:48:24.000000000",
          "2025-04-21T18:48:32.000000000",
          "2025-04-21T18:48:40.000000000"
         ],
         "xaxis": "x4",
         "y": {
          "bdata": "AAAAAAAAAAAAAAAAAAAAAAAAAAAAAAAAAAAAAAAAAAAAAAAAAAAAAAAAAAAAAAAAAAAAAAAAAAAAAAAAAAAAAAAAIOVp6TS/Z2Z+F7TkSr/D9fa/GRRXv7XIQH/uhGC/kaBYD6xNZb90gEsyWqppv8gZY8vIInO/1MerkA+me7+IKQW8wYSCv6BHJKvvMoe/",
          "dtype": "f8"
         },
         "yaxis": "y4"
        },
        {
         "mode": "lines",
         "name": "META MACD",
         "type": "scatter",
         "x": [
          "2025-04-21T18:45:45.000000000",
          "2025-04-21T18:45:59.000000000",
          "2025-04-21T18:46:08.000000000",
          "2025-04-21T18:46:16.000000000",
          "2025-04-21T18:46:31.000000000",
          "2025-04-21T18:46:39.000000000",
          "2025-04-21T18:46:48.000000000",
          "2025-04-21T18:47:00.000000000",
          "2025-04-21T18:47:08.000000000",
          "2025-04-21T18:47:21.000000000",
          "2025-04-21T18:47:25.000000000",
          "2025-04-21T18:47:39.000000000",
          "2025-04-21T18:47:51.000000000",
          "2025-04-21T18:48:04.000000000",
          "2025-04-21T18:48:06.000000000",
          "2025-04-21T18:48:23.000000000",
          "2025-04-21T18:48:31.000000000",
          "2025-04-21T18:48:33.000000000"
         ],
         "xaxis": "x5",
         "y": {
          "bdata": "AAAAAAAAAAAAAAAAAAAAAACAZDh1QqY/AGBznA+5sz8AoKt1CTu6PwBg4Z7DB78/AIjxG/U3wT8AyO/6YFvCPwB4Q7+PJsE/ANBMY5MCwD8AIDGFNd69PwDQFjls17s/AABA9r3vuT8AAAPCfVymPwAAlIliPmC/AMA9549Ro78A8GIqJ7iwvwAQnpBoD7a/",
          "dtype": "f8"
         },
         "yaxis": "y5"
        },
        {
         "line": {
          "dash": "dash"
         },
         "mode": "lines",
         "name": "META MACD_Signal",
         "type": "scatter",
         "x": [
          "2025-04-21T18:45:45.000000000",
          "2025-04-21T18:45:59.000000000",
          "2025-04-21T18:46:08.000000000",
          "2025-04-21T18:46:16.000000000",
          "2025-04-21T18:46:31.000000000",
          "2025-04-21T18:46:39.000000000",
          "2025-04-21T18:46:48.000000000",
          "2025-04-21T18:47:00.000000000",
          "2025-04-21T18:47:08.000000000",
          "2025-04-21T18:47:21.000000000",
          "2025-04-21T18:47:25.000000000",
          "2025-04-21T18:47:39.000000000",
          "2025-04-21T18:47:51.000000000",
          "2025-04-21T18:48:04.000000000",
          "2025-04-21T18:48:06.000000000",
          "2025-04-21T18:48:23.000000000",
          "2025-04-21T18:48:31.000000000",
          "2025-04-21T18:48:33.000000000"
         ],
         "xaxis": "x5",
         "y": {
          "bdata": "AAAAAAAAAAAAAAAAAAAAADMzHS3EzoE/e5QBXMHmlj9le3jtHaejPx6JujBmIqw/c6ARhSQksj/2adTOENu1P18e+PFGWLg/TDjlgkDhuT8KzVqDca26P9UAGg4K6bo/eM1UCS63uj9gJEQBy5u3P4BjWmMLybI/NN8d11sxqj/tca2cc4icP185McCJtnQ/",
          "dtype": "f8"
         },
         "yaxis": "y5"
        },
        {
         "mode": "lines",
         "name": "TSLA MACD",
         "type": "scatter",
         "x": [
          "2025-04-21T18:45:45.000000000",
          "2025-04-21T18:46:00.000000000",
          "2025-04-21T18:46:09.000000000",
          "2025-04-21T18:46:18.000000000",
          "2025-04-21T18:46:31.000000000",
          "2025-04-21T18:46:39.000000000",
          "2025-04-21T18:46:48.000000000",
          "2025-04-21T18:47:00.000000000",
          "2025-04-21T18:47:09.000000000",
          "2025-04-21T18:47:22.000000000",
          "2025-04-21T18:47:30.000000000",
          "2025-04-21T18:47:43.000000000",
          "2025-04-21T18:47:51.000000000",
          "2025-04-21T18:48:04.000000000",
          "2025-04-21T18:48:12.000000000",
          "2025-04-21T18:48:24.000000000",
          "2025-04-21T18:48:32.000000000",
          "2025-04-21T18:48:40.000000000"
         ],
         "xaxis": "x6",
         "y": {
          "bdata": "AAAAAAAAAAAAAAAAAAAAAACAkIZhJZG/AEBGTVVinr8A4IA3bTSkvwAgzH7i5qe/ADBfTq6Gqr8AwHxVoUesvwDgOyAj1au/ABAJkDwqq78AcKLpFlWqvwBQH7xFYam/ANDOYTRYqL8AeC/p1BGwvwAQzK+l8LK/AIBkJhr5tL8AGKz8rVO2vwCAVSkUIre/",
          "dtype": "f8"
         },
         "yaxis": "y6"
        },
        {
         "line": {
          "dash": "dash"
         },
         "mode": "lines",
         "name": "TSLA MACD_Signal",
         "type": "scatter",
         "x": [
          "2025-04-21T18:45:45.000000000",
          "2025-04-21T18:46:00.000000000",
          "2025-04-21T18:46:09.000000000",
          "2025-04-21T18:46:18.000000000",
          "2025-04-21T18:46:31.000000000",
          "2025-04-21T18:46:39.000000000",
          "2025-04-21T18:46:48.000000000",
          "2025-04-21T18:47:00.000000000",
          "2025-04-21T18:47:09.000000000",
          "2025-04-21T18:47:22.000000000",
          "2025-04-21T18:47:30.000000000",
          "2025-04-21T18:47:43.000000000",
          "2025-04-21T18:47:51.000000000",
          "2025-04-21T18:48:04.000000000",
          "2025-04-21T18:48:12.000000000",
          "2025-04-21T18:48:24.000000000",
          "2025-04-21T18:48:32.000000000",
          "2025-04-21T18:48:40.000000000"
         ],
         "xaxis": "x6",
         "y": {
          "bdata": "AAAAAAAAAAAAAAAAAAAAADQz53ACb2u/cb2waO+jgb8osSeAsEaOv3cg+2XUq5W/xsa7PYnym79P3DCQvdWgvz8QM+DRCKO/ZkPEaRqppL+4svAcgMulv/qekwkOg6a/lXWfgeLgpr8RjpJeCruov6gR+pFKXKu/7dqJ6hJHrr/FwozDkJOwv57otKRE47G/",
          "dtype": "f8"
         },
         "yaxis": "y6"
        },
        {
         "mode": "lines",
         "name": "NVDA MACD",
         "type": "scatter",
         "x": [
          "2025-04-21T18:45:45.000000000",
          "2025-04-21T18:45:59.000000000",
          "2025-04-21T18:46:09.000000000",
          "2025-04-21T18:46:17.000000000",
          "2025-04-21T18:46:31.000000000",
          "2025-04-21T18:46:39.000000000",
          "2025-04-21T18:46:48.000000000",
          "2025-04-21T18:47:00.000000000",
          "2025-04-21T18:47:08.000000000",
          "2025-04-21T18:47:21.000000000",
          "2025-04-21T18:47:30.000000000",
          "2025-04-21T18:47:43.000000000",
          "2025-04-21T18:47:51.000000000",
          "2025-04-21T18:48:02.000000000",
          "2025-04-21T18:48:12.000000000",
          "2025-04-21T18:48:24.000000000",
          "2025-04-21T18:48:32.000000000",
          "2025-04-21T18:48:40.000000000"
         ],
         "xaxis": "x7",
         "y": {
          "bdata": "AAAAAAAAAAAAAAAAAAAAAAAAzkbTmnM/AIAaIOFegT8AwFA2KRqHPwDAQL1XVIs/AGDKu3lUjj8AoEgH5yqQPwCAdbEiKXc/AIBvWAlAY78AICmw4pmBvwAAUQuKa4u/AEBWNXdmkb8AQGUYqlGcvwBA6kSCRqK/AEg/ALlKpb8AUNTxnWmnvwDAIH+ozqi/",
          "dtype": "f8"
         },
         "yaxis": "y7"
        },
        {
         "line": {
          "dash": "dash"
         },
         "mode": "lines",
         "name": "NVDA MACD_Signal",
         "type": "scatter",
         "x": [
          "2025-04-21T18:45:45.000000000",
          "2025-04-21T18:45:59.000000000",
          "2025-04-21T18:46:09.000000000",
          "2025-04-21T18:46:17.000000000",
          "2025-04-21T18:46:31.000000000",
          "2025-04-21T18:46:39.000000000",
          "2025-04-21T18:46:48.000000000",
          "2025-04-21T18:47:00.000000000",
          "2025-04-21T18:47:08.000000000",
          "2025-04-21T18:47:21.000000000",
          "2025-04-21T18:47:30.000000000",
          "2025-04-21T18:47:43.000000000",
          "2025-04-21T18:47:51.000000000",
          "2025-04-21T18:48:02.000000000",
          "2025-04-21T18:48:12.000000000",
          "2025-04-21T18:48:24.000000000",
          "2025-04-21T18:48:32.000000000",
          "2025-04-21T18:48:40.000000000"
         ],
         "xaxis": "x7",
         "y": {
          "bdata": "AAAAAAAAAAAAAAAAAAAAAAAAsNceXk8/zcyeEYcrZD+Fa/lPE09xP55v4b5lx3g/f0wFF4L0fz8Axbilwz+DP2cqufwft4E/P+rpcWVrej/M9u7CuTBsP1gU/8L4txM/fp9DHfJYa7+zbJwPDsyAvymKON3ZDoy/qu0v8m29k78i3hS8MCiZvxyY6mJqDJ6/",
          "dtype": "f8"
         },
         "yaxis": "y7"
        }
       ],
       "layout": {
        "annotations": [
         {
          "font": {
           "size": 16
          },
          "showarrow": false,
          "text": "AAPL: MACD vs MACD Signal",
          "x": 0.225,
          "xanchor": "center",
          "xref": "paper",
          "y": 1,
          "yanchor": "bottom",
          "yref": "paper"
         },
         {
          "font": {
           "size": 16
          },
          "showarrow": false,
          "text": "MSFT: MACD vs MACD Signal",
          "x": 0.775,
          "xanchor": "center",
          "xref": "paper",
          "y": 1,
          "yanchor": "bottom",
          "yref": "paper"
         },
         {
          "font": {
           "size": 16
          },
          "showarrow": false,
          "text": "AMZN: MACD vs MACD Signal",
          "x": 0.225,
          "xanchor": "center",
          "xref": "paper",
          "y": 0.71875,
          "yanchor": "bottom",
          "yref": "paper"
         },
         {
          "font": {
           "size": 16
          },
          "showarrow": false,
          "text": "GOOGL: MACD vs MACD Signal",
          "x": 0.775,
          "xanchor": "center",
          "xref": "paper",
          "y": 0.71875,
          "yanchor": "bottom",
          "yref": "paper"
         },
         {
          "font": {
           "size": 16
          },
          "showarrow": false,
          "text": "META: MACD vs MACD Signal",
          "x": 0.225,
          "xanchor": "center",
          "xref": "paper",
          "y": 0.4375,
          "yanchor": "bottom",
          "yref": "paper"
         },
         {
          "font": {
           "size": 16
          },
          "showarrow": false,
          "text": "TSLA: MACD vs MACD Signal",
          "x": 0.775,
          "xanchor": "center",
          "xref": "paper",
          "y": 0.4375,
          "yanchor": "bottom",
          "yref": "paper"
         },
         {
          "font": {
           "size": 16
          },
          "showarrow": false,
          "text": "NVDA: MACD vs MACD Signal",
          "x": 0.225,
          "xanchor": "center",
          "xref": "paper",
          "y": 0.15625,
          "yanchor": "bottom",
          "yref": "paper"
         }
        ],
        "height": 1000,
        "template": {
         "data": {
          "bar": [
           {
            "error_x": {
             "color": "#2a3f5f"
            },
            "error_y": {
             "color": "#2a3f5f"
            },
            "marker": {
             "line": {
              "color": "#E5ECF6",
              "width": 0.5
             },
             "pattern": {
              "fillmode": "overlay",
              "size": 10,
              "solidity": 0.2
             }
            },
            "type": "bar"
           }
          ],
          "barpolar": [
           {
            "marker": {
             "line": {
              "color": "#E5ECF6",
              "width": 0.5
             },
             "pattern": {
              "fillmode": "overlay",
              "size": 10,
              "solidity": 0.2
             }
            },
            "type": "barpolar"
           }
          ],
          "carpet": [
           {
            "aaxis": {
             "endlinecolor": "#2a3f5f",
             "gridcolor": "white",
             "linecolor": "white",
             "minorgridcolor": "white",
             "startlinecolor": "#2a3f5f"
            },
            "baxis": {
             "endlinecolor": "#2a3f5f",
             "gridcolor": "white",
             "linecolor": "white",
             "minorgridcolor": "white",
             "startlinecolor": "#2a3f5f"
            },
            "type": "carpet"
           }
          ],
          "choropleth": [
           {
            "colorbar": {
             "outlinewidth": 0,
             "ticks": ""
            },
            "type": "choropleth"
           }
          ],
          "contour": [
           {
            "colorbar": {
             "outlinewidth": 0,
             "ticks": ""
            },
            "colorscale": [
             [
              0,
              "#0d0887"
             ],
             [
              0.1111111111111111,
              "#46039f"
             ],
             [
              0.2222222222222222,
              "#7201a8"
             ],
             [
              0.3333333333333333,
              "#9c179e"
             ],
             [
              0.4444444444444444,
              "#bd3786"
             ],
             [
              0.5555555555555556,
              "#d8576b"
             ],
             [
              0.6666666666666666,
              "#ed7953"
             ],
             [
              0.7777777777777778,
              "#fb9f3a"
             ],
             [
              0.8888888888888888,
              "#fdca26"
             ],
             [
              1,
              "#f0f921"
             ]
            ],
            "type": "contour"
           }
          ],
          "contourcarpet": [
           {
            "colorbar": {
             "outlinewidth": 0,
             "ticks": ""
            },
            "type": "contourcarpet"
           }
          ],
          "heatmap": [
           {
            "colorbar": {
             "outlinewidth": 0,
             "ticks": ""
            },
            "colorscale": [
             [
              0,
              "#0d0887"
             ],
             [
              0.1111111111111111,
              "#46039f"
             ],
             [
              0.2222222222222222,
              "#7201a8"
             ],
             [
              0.3333333333333333,
              "#9c179e"
             ],
             [
              0.4444444444444444,
              "#bd3786"
             ],
             [
              0.5555555555555556,
              "#d8576b"
             ],
             [
              0.6666666666666666,
              "#ed7953"
             ],
             [
              0.7777777777777778,
              "#fb9f3a"
             ],
             [
              0.8888888888888888,
              "#fdca26"
             ],
             [
              1,
              "#f0f921"
             ]
            ],
            "type": "heatmap"
           }
          ],
          "histogram": [
           {
            "marker": {
             "pattern": {
              "fillmode": "overlay",
              "size": 10,
              "solidity": 0.2
             }
            },
            "type": "histogram"
           }
          ],
          "histogram2d": [
           {
            "colorbar": {
             "outlinewidth": 0,
             "ticks": ""
            },
            "colorscale": [
             [
              0,
              "#0d0887"
             ],
             [
              0.1111111111111111,
              "#46039f"
             ],
             [
              0.2222222222222222,
              "#7201a8"
             ],
             [
              0.3333333333333333,
              "#9c179e"
             ],
             [
              0.4444444444444444,
              "#bd3786"
             ],
             [
              0.5555555555555556,
              "#d8576b"
             ],
             [
              0.6666666666666666,
              "#ed7953"
             ],
             [
              0.7777777777777778,
              "#fb9f3a"
             ],
             [
              0.8888888888888888,
              "#fdca26"
             ],
             [
              1,
              "#f0f921"
             ]
            ],
            "type": "histogram2d"
           }
          ],
          "histogram2dcontour": [
           {
            "colorbar": {
             "outlinewidth": 0,
             "ticks": ""
            },
            "colorscale": [
             [
              0,
              "#0d0887"
             ],
             [
              0.1111111111111111,
              "#46039f"
             ],
             [
              0.2222222222222222,
              "#7201a8"
             ],
             [
              0.3333333333333333,
              "#9c179e"
             ],
             [
              0.4444444444444444,
              "#bd3786"
             ],
             [
              0.5555555555555556,
              "#d8576b"
             ],
             [
              0.6666666666666666,
              "#ed7953"
             ],
             [
              0.7777777777777778,
              "#fb9f3a"
             ],
             [
              0.8888888888888888,
              "#fdca26"
             ],
             [
              1,
              "#f0f921"
             ]
            ],
            "type": "histogram2dcontour"
           }
          ],
          "mesh3d": [
           {
            "colorbar": {
             "outlinewidth": 0,
             "ticks": ""
            },
            "type": "mesh3d"
           }
          ],
          "parcoords": [
           {
            "line": {
             "colorbar": {
              "outlinewidth": 0,
              "ticks": ""
             }
            },
            "type": "parcoords"
           }
          ],
          "pie": [
           {
            "automargin": true,
            "type": "pie"
           }
          ],
          "scatter": [
           {
            "fillpattern": {
             "fillmode": "overlay",
             "size": 10,
             "solidity": 0.2
            },
            "type": "scatter"
           }
          ],
          "scatter3d": [
           {
            "line": {
             "colorbar": {
              "outlinewidth": 0,
              "ticks": ""
             }
            },
            "marker": {
             "colorbar": {
              "outlinewidth": 0,
              "ticks": ""
             }
            },
            "type": "scatter3d"
           }
          ],
          "scattercarpet": [
           {
            "marker": {
             "colorbar": {
              "outlinewidth": 0,
              "ticks": ""
             }
            },
            "type": "scattercarpet"
           }
          ],
          "scattergeo": [
           {
            "marker": {
             "colorbar": {
              "outlinewidth": 0,
              "ticks": ""
             }
            },
            "type": "scattergeo"
           }
          ],
          "scattergl": [
           {
            "marker": {
             "colorbar": {
              "outlinewidth": 0,
              "ticks": ""
             }
            },
            "type": "scattergl"
           }
          ],
          "scattermap": [
           {
            "marker": {
             "colorbar": {
              "outlinewidth": 0,
              "ticks": ""
             }
            },
            "type": "scattermap"
           }
          ],
          "scattermapbox": [
           {
            "marker": {
             "colorbar": {
              "outlinewidth": 0,
              "ticks": ""
             }
            },
            "type": "scattermapbox"
           }
          ],
          "scatterpolar": [
           {
            "marker": {
             "colorbar": {
              "outlinewidth": 0,
              "ticks": ""
             }
            },
            "type": "scatterpolar"
           }
          ],
          "scatterpolargl": [
           {
            "marker": {
             "colorbar": {
              "outlinewidth": 0,
              "ticks": ""
             }
            },
            "type": "scatterpolargl"
           }
          ],
          "scatterternary": [
           {
            "marker": {
             "colorbar": {
              "outlinewidth": 0,
              "ticks": ""
             }
            },
            "type": "scatterternary"
           }
          ],
          "surface": [
           {
            "colorbar": {
             "outlinewidth": 0,
             "ticks": ""
            },
            "colorscale": [
             [
              0,
              "#0d0887"
             ],
             [
              0.1111111111111111,
              "#46039f"
             ],
             [
              0.2222222222222222,
              "#7201a8"
             ],
             [
              0.3333333333333333,
              "#9c179e"
             ],
             [
              0.4444444444444444,
              "#bd3786"
             ],
             [
              0.5555555555555556,
              "#d8576b"
             ],
             [
              0.6666666666666666,
              "#ed7953"
             ],
             [
              0.7777777777777778,
              "#fb9f3a"
             ],
             [
              0.8888888888888888,
              "#fdca26"
             ],
             [
              1,
              "#f0f921"
             ]
            ],
            "type": "surface"
           }
          ],
          "table": [
           {
            "cells": {
             "fill": {
              "color": "#EBF0F8"
             },
             "line": {
              "color": "white"
             }
            },
            "header": {
             "fill": {
              "color": "#C8D4E3"
             },
             "line": {
              "color": "white"
             }
            },
            "type": "table"
           }
          ]
         },
         "layout": {
          "annotationdefaults": {
           "arrowcolor": "#2a3f5f",
           "arrowhead": 0,
           "arrowwidth": 1
          },
          "autotypenumbers": "strict",
          "coloraxis": {
           "colorbar": {
            "outlinewidth": 0,
            "ticks": ""
           }
          },
          "colorscale": {
           "diverging": [
            [
             0,
             "#8e0152"
            ],
            [
             0.1,
             "#c51b7d"
            ],
            [
             0.2,
             "#de77ae"
            ],
            [
             0.3,
             "#f1b6da"
            ],
            [
             0.4,
             "#fde0ef"
            ],
            [
             0.5,
             "#f7f7f7"
            ],
            [
             0.6,
             "#e6f5d0"
            ],
            [
             0.7,
             "#b8e186"
            ],
            [
             0.8,
             "#7fbc41"
            ],
            [
             0.9,
             "#4d9221"
            ],
            [
             1,
             "#276419"
            ]
           ],
           "sequential": [
            [
             0,
             "#0d0887"
            ],
            [
             0.1111111111111111,
             "#46039f"
            ],
            [
             0.2222222222222222,
             "#7201a8"
            ],
            [
             0.3333333333333333,
             "#9c179e"
            ],
            [
             0.4444444444444444,
             "#bd3786"
            ],
            [
             0.5555555555555556,
             "#d8576b"
            ],
            [
             0.6666666666666666,
             "#ed7953"
            ],
            [
             0.7777777777777778,
             "#fb9f3a"
            ],
            [
             0.8888888888888888,
             "#fdca26"
            ],
            [
             1,
             "#f0f921"
            ]
           ],
           "sequentialminus": [
            [
             0,
             "#0d0887"
            ],
            [
             0.1111111111111111,
             "#46039f"
            ],
            [
             0.2222222222222222,
             "#7201a8"
            ],
            [
             0.3333333333333333,
             "#9c179e"
            ],
            [
             0.4444444444444444,
             "#bd3786"
            ],
            [
             0.5555555555555556,
             "#d8576b"
            ],
            [
             0.6666666666666666,
             "#ed7953"
            ],
            [
             0.7777777777777778,
             "#fb9f3a"
            ],
            [
             0.8888888888888888,
             "#fdca26"
            ],
            [
             1,
             "#f0f921"
            ]
           ]
          },
          "colorway": [
           "#636efa",
           "#EF553B",
           "#00cc96",
           "#ab63fa",
           "#FFA15A",
           "#19d3f3",
           "#FF6692",
           "#B6E880",
           "#FF97FF",
           "#FECB52"
          ],
          "font": {
           "color": "#2a3f5f"
          },
          "geo": {
           "bgcolor": "white",
           "lakecolor": "white",
           "landcolor": "#E5ECF6",
           "showlakes": true,
           "showland": true,
           "subunitcolor": "white"
          },
          "hoverlabel": {
           "align": "left"
          },
          "hovermode": "closest",
          "mapbox": {
           "style": "light"
          },
          "paper_bgcolor": "white",
          "plot_bgcolor": "#E5ECF6",
          "polar": {
           "angularaxis": {
            "gridcolor": "white",
            "linecolor": "white",
            "ticks": ""
           },
           "bgcolor": "#E5ECF6",
           "radialaxis": {
            "gridcolor": "white",
            "linecolor": "white",
            "ticks": ""
           }
          },
          "scene": {
           "xaxis": {
            "backgroundcolor": "#E5ECF6",
            "gridcolor": "white",
            "gridwidth": 2,
            "linecolor": "white",
            "showbackground": true,
            "ticks": "",
            "zerolinecolor": "white"
           },
           "yaxis": {
            "backgroundcolor": "#E5ECF6",
            "gridcolor": "white",
            "gridwidth": 2,
            "linecolor": "white",
            "showbackground": true,
            "ticks": "",
            "zerolinecolor": "white"
           },
           "zaxis": {
            "backgroundcolor": "#E5ECF6",
            "gridcolor": "white",
            "gridwidth": 2,
            "linecolor": "white",
            "showbackground": true,
            "ticks": "",
            "zerolinecolor": "white"
           }
          },
          "shapedefaults": {
           "line": {
            "color": "#2a3f5f"
           }
          },
          "ternary": {
           "aaxis": {
            "gridcolor": "white",
            "linecolor": "white",
            "ticks": ""
           },
           "baxis": {
            "gridcolor": "white",
            "linecolor": "white",
            "ticks": ""
           },
           "bgcolor": "#E5ECF6",
           "caxis": {
            "gridcolor": "white",
            "linecolor": "white",
            "ticks": ""
           }
          },
          "title": {
           "x": 0.05
          },
          "xaxis": {
           "automargin": true,
           "gridcolor": "white",
           "linecolor": "white",
           "ticks": "",
           "title": {
            "standoff": 15
           },
           "zerolinecolor": "white",
           "zerolinewidth": 2
          },
          "yaxis": {
           "automargin": true,
           "gridcolor": "white",
           "linecolor": "white",
           "ticks": "",
           "title": {
            "standoff": 15
           },
           "zerolinecolor": "white",
           "zerolinewidth": 2
          }
         }
        },
        "title": {
         "text": "MACD vs MACD Signal for All Tickers (Real-Time Data)"
        },
        "xaxis": {
         "anchor": "y",
         "domain": [
          0,
          0.45
         ]
        },
        "xaxis2": {
         "anchor": "y2",
         "domain": [
          0.55,
          1
         ]
        },
        "xaxis3": {
         "anchor": "y3",
         "domain": [
          0,
          0.45
         ]
        },
        "xaxis4": {
         "anchor": "y4",
         "domain": [
          0.55,
          1
         ]
        },
        "xaxis5": {
         "anchor": "y5",
         "domain": [
          0,
          0.45
         ]
        },
        "xaxis6": {
         "anchor": "y6",
         "domain": [
          0.55,
          1
         ]
        },
        "xaxis7": {
         "anchor": "y7",
         "domain": [
          0,
          0.45
         ]
        },
        "xaxis8": {
         "anchor": "y8",
         "domain": [
          0.55,
          1
         ]
        },
        "yaxis": {
         "anchor": "x",
         "domain": [
          0.84375,
          1
         ]
        },
        "yaxis2": {
         "anchor": "x2",
         "domain": [
          0.84375,
          1
         ]
        },
        "yaxis3": {
         "anchor": "x3",
         "domain": [
          0.5625,
          0.71875
         ]
        },
        "yaxis4": {
         "anchor": "x4",
         "domain": [
          0.5625,
          0.71875
         ]
        },
        "yaxis5": {
         "anchor": "x5",
         "domain": [
          0.28125,
          0.4375
         ]
        },
        "yaxis6": {
         "anchor": "x6",
         "domain": [
          0.28125,
          0.4375
         ]
        },
        "yaxis7": {
         "anchor": "x7",
         "domain": [
          0,
          0.15625
         ]
        },
        "yaxis8": {
         "anchor": "x8",
         "domain": [
          0,
          0.15625
         ]
        }
       }
      }
     },
     "metadata": {},
     "output_type": "display_data"
    }
   ],
   "source": [
    "#creating a subplot for the MACD and MACD signal\n",
    "tickers = ['AAPL', 'MSFT', 'AMZN', 'GOOGL', 'META', 'TSLA', 'NVDA']\n",
    "fig = make_subplots(rows=4, cols=2, subplot_titles=[f\"{ticker}: MACD vs MACD Signal\" for ticker in tickers])\n",
    "row = 1\n",
    "col=1\n",
    "for i, ticker in enumerate(tickers):\n",
    "    subset = df_cass_final[df_cass_final['ticker'] == ticker]\n",
    "#adding a trace for the MACD and MACD signal\n",
    "    fig.add_trace(go.Scatter(x=subset['date'], y=subset['MACD'], mode='lines', name=f'{ticker} MACD'), row=row, col=col)\n",
    "    fig.add_trace(go.Scatter(x=subset['date'], y=subset['MACD_Signal'], mode='lines', name=f'{ticker} MACD_Signal',\n",
    "                             line=dict(dash='dash')), row=row, col=col)\n",
    "    col += 1\n",
    "    if col > 2:\n",
    "        row += 1\n",
    "        col = 1\n",
    "#updating height and adding title\n",
    "fig.update_layout(height=1000, title_text=\"MACD vs MACD Signal for All Tickers (Real-Time Data)\",)\n",
    "fig.show()\n"
   ]
  },
  {
   "cell_type": "markdown",
   "metadata": {},
   "source": [
    "### This subplot is comprised of 7 line graphs analyzing the Moving Average Convergence Divergence, (which is the difference between short-term and long-term EMAs), and MACD signal line which is a smoother indicator for buy/sell signals (bull vs bear signals). At every timestamp, when we see the MACD rising above a 0 it signifies a bullish trend which means to buy. The distance between a MACD and its signal line can show us the strength of the trend itself. If the MACD falls below 0 then we have a bearish trend. Additionally if there is a crossover of MACD above the signal lne then its a buy signal whereas the MACD below the signal line is a sell signal (bearish). This graph allows us to see which stocks are gaining momentum. Note: The first few rows do not have enough data which is why the graph is flat at the beginning for all companies."
   ]
  },
  {
   "cell_type": "code",
   "execution_count": 132,
   "metadata": {},
   "outputs": [
    {
     "data": {
      "application/vnd.plotly.v1+json": {
       "config": {
        "plotlyServerURL": "https://plot.ly"
       },
       "data": [
        {
         "alignmentgroup": "True",
         "hovertemplate": "Ticker=%{x}<br>MACD Value=%{y}<extra></extra>",
         "legendgroup": "AAPL",
         "marker": {
          "color": "#636efa"
         },
         "name": "AAPL",
         "notched": false,
         "offsetgroup": "AAPL",
         "orientation": "v",
         "showlegend": true,
         "type": "box",
         "x": [
          "AAPL",
          "AAPL",
          "AAPL",
          "AAPL",
          "AAPL",
          "AAPL",
          "AAPL",
          "AAPL",
          "AAPL",
          "AAPL",
          "AAPL",
          "AAPL",
          "AAPL",
          "AAPL"
         ],
         "x0": " ",
         "xaxis": "x",
         "y": {
          "bdata": "AABqSIzNbr8AgCp+OjhyvwCA2ydROHS/AAALX4mOdb8AwMFzl/eNvwDg+BttVJa/AAD4yrXUm78A4OuJ39KfvwDwaYhvS6G/ACCqjFQuor8AwEPJ94alvwDwi9hR56e/AABMeDZ+qb8AcKl+oXKqvw==",
          "dtype": "f8"
         },
         "y0": " ",
         "yaxis": "y"
        },
        {
         "alignmentgroup": "True",
         "hovertemplate": "Ticker=%{x}<br>MACD Value=%{y}<extra></extra>",
         "legendgroup": "AMZN",
         "marker": {
          "color": "#EF553B"
         },
         "name": "AMZN",
         "notched": false,
         "offsetgroup": "AMZN",
         "orientation": "v",
         "showlegend": true,
         "type": "box",
         "x": [
          "AMZN",
          "AMZN",
          "AMZN",
          "AMZN",
          "AMZN",
          "AMZN",
          "AMZN",
          "AMZN",
          "AMZN",
          "AMZN",
          "AMZN",
          "AMZN",
          "AMZN",
          "AMZN",
          "AMZN",
          "AMZN",
          "AMZN",
          "AMZN"
         ],
         "x0": " ",
         "xaxis": "x",
         "y": {
          "bdata": "AAAAAAAAAAAAAAAAAAAAAACAzkbTmnM/AIAaIOFegT8AwFA2KRqHPwCAQL1XVIs/AEDKu3lUjj8AoEgH5yqQPwCAaAYBGoY/AACUE/Opez8AAI4o7MdsPwAAlOjlnU4/AACgxHz4Ub8AAHGIautlvwBAb9N7MI2/AOC5FV63l78AoKZLsZeevwAQYanO0KG/",
          "dtype": "f8"
         },
         "y0": " ",
         "yaxis": "y"
        },
        {
         "alignmentgroup": "True",
         "hovertemplate": "Ticker=%{x}<br>MACD Value=%{y}<extra></extra>",
         "legendgroup": "GOOGL",
         "marker": {
          "color": "#00cc96"
         },
         "name": "GOOGL",
         "notched": false,
         "offsetgroup": "GOOGL",
         "orientation": "v",
         "showlegend": true,
         "type": "box",
         "x": [
          "GOOGL",
          "GOOGL",
          "GOOGL",
          "GOOGL",
          "GOOGL",
          "GOOGL",
          "GOOGL",
          "GOOGL",
          "GOOGL",
          "GOOGL",
          "GOOGL",
          "GOOGL",
          "GOOGL",
          "GOOGL",
          "GOOGL",
          "GOOGL",
          "GOOGL",
          "GOOGL"
         ],
         "x0": " ",
         "xaxis": "x",
         "y": {
          "bdata": "AAAAAAAAAAAAAAAAAAAAAAAAAAAAAAAAAAAAAAAAAAAAAAAAAAAAAAAAAAAAAAAAAAAAAAAAAAAAAAAAAAAAAAAAaF7EI1q/AADOKiwpZ78AAGtIjM1uvwAAK346OHK/AADcJ1E4dL8AgAtfiY51vwBALMqbLIa/AEDnUpXZjr8AIGHF1KWSvwBg0LPT9ZS/",
          "dtype": "f8"
         },
         "y0": " ",
         "yaxis": "y"
        },
        {
         "alignmentgroup": "True",
         "hovertemplate": "Ticker=%{x}<br>MACD Value=%{y}<extra></extra>",
         "legendgroup": "META",
         "marker": {
          "color": "#ab63fa"
         },
         "name": "META",
         "notched": false,
         "offsetgroup": "META",
         "orientation": "v",
         "showlegend": true,
         "type": "box",
         "x": [
          "META",
          "META",
          "META",
          "META",
          "META",
          "META",
          "META",
          "META",
          "META",
          "META",
          "META",
          "META",
          "META",
          "META",
          "META",
          "META",
          "META",
          "META"
         ],
         "x0": " ",
         "xaxis": "x",
         "y": {
          "bdata": "AAAAAAAAAAAAAAAAAAAAAACAZDh1QqY/AGBznA+5sz8AoKt1CTu6PwBg4Z7DB78/AIjxG/U3wT8AyO/6YFvCPwB4Q7+PJsE/ANBMY5MCwD8AIDGFNd69PwDQFjls17s/AABA9r3vuT8AAAPCfVymPwAAlIliPmC/AMA9549Ro78A8GIqJ7iwvwAQnpBoD7a/",
          "dtype": "f8"
         },
         "y0": " ",
         "yaxis": "y"
        },
        {
         "alignmentgroup": "True",
         "hovertemplate": "Ticker=%{x}<br>MACD Value=%{y}<extra></extra>",
         "legendgroup": "MSFT",
         "marker": {
          "color": "#FFA15A"
         },
         "name": "MSFT",
         "notched": false,
         "offsetgroup": "MSFT",
         "orientation": "v",
         "showlegend": true,
         "type": "box",
         "x": [
          "MSFT",
          "MSFT",
          "MSFT",
          "MSFT",
          "MSFT",
          "MSFT",
          "MSFT",
          "MSFT",
          "MSFT",
          "MSFT",
          "MSFT",
          "MSFT",
          "MSFT",
          "MSFT",
          "MSFT",
          "MSFT",
          "MSFT",
          "MSFT"
         ],
         "x0": " ",
         "xaxis": "x",
         "y": {
          "bdata": "AAAAAAAAAAAAAAAAAAAAAAAAArtaVmC/AACCNXfzbL8AAEStd0BzvwAAtx1Jxna/AADUcWVGeb8AAM+2K/J6vwAAuGzi1JK/AABNu9oXnL8AoCMrv4OhvwDgLys8CKS/AGDUDLzGpb8A4JLCBuWmvwCg75HYY6u/AICZApSZrr8AcOSTDmKwvwAg8Xt+C7G/",
          "dtype": "f8"
         },
         "y0": " ",
         "yaxis": "y"
        },
        {
         "alignmentgroup": "True",
         "hovertemplate": "Ticker=%{x}<br>MACD Value=%{y}<extra></extra>",
         "legendgroup": "NVDA",
         "marker": {
          "color": "#19d3f3"
         },
         "name": "NVDA",
         "notched": false,
         "offsetgroup": "NVDA",
         "orientation": "v",
         "showlegend": true,
         "type": "box",
         "x": [
          "NVDA",
          "NVDA",
          "NVDA",
          "NVDA",
          "NVDA",
          "NVDA",
          "NVDA",
          "NVDA",
          "NVDA",
          "NVDA",
          "NVDA",
          "NVDA",
          "NVDA",
          "NVDA",
          "NVDA",
          "NVDA",
          "NVDA",
          "NVDA"
         ],
         "x0": " ",
         "xaxis": "x",
         "y": {
          "bdata": "AAAAAAAAAAAAAAAAAAAAAAAAzkbTmnM/AIAaIOFegT8AwFA2KRqHPwDAQL1XVIs/AGDKu3lUjj8AoEgH5yqQPwCAdbEiKXc/AIBvWAlAY78AICmw4pmBvwAAUQuKa4u/AEBWNXdmkb8AQGUYqlGcvwBA6kSCRqK/AEg/ALlKpb8AUNTxnWmnvwDAIH+ozqi/",
          "dtype": "f8"
         },
         "y0": " ",
         "yaxis": "y"
        },
        {
         "alignmentgroup": "True",
         "hovertemplate": "Ticker=%{x}<br>MACD Value=%{y}<extra></extra>",
         "legendgroup": "TSLA",
         "marker": {
          "color": "#FF6692"
         },
         "name": "TSLA",
         "notched": false,
         "offsetgroup": "TSLA",
         "orientation": "v",
         "showlegend": true,
         "type": "box",
         "x": [
          "TSLA",
          "TSLA",
          "TSLA",
          "TSLA",
          "TSLA",
          "TSLA",
          "TSLA",
          "TSLA",
          "TSLA",
          "TSLA",
          "TSLA",
          "TSLA",
          "TSLA",
          "TSLA",
          "TSLA",
          "TSLA",
          "TSLA",
          "TSLA"
         ],
         "x0": " ",
         "xaxis": "x",
         "y": {
          "bdata": "AAAAAAAAAAAAAAAAAAAAAACAkIZhJZG/AEBGTVVinr8A4IA3bTSkvwAgzH7i5qe/ADBfTq6Gqr8AwHxVoUesvwDgOyAj1au/ABAJkDwqq78AcKLpFlWqvwBQH7xFYam/ANDOYTRYqL8AeC/p1BGwvwAQzK+l8LK/AIBkJhr5tL8AGKz8rVO2vwCAVSkUIre/",
          "dtype": "f8"
         },
         "y0": " ",
         "yaxis": "y"
        }
       ],
       "layout": {
        "boxmode": "overlay",
        "legend": {
         "title": {
          "text": "Ticker"
         },
         "tracegroupgap": 0
        },
        "template": {
         "data": {
          "bar": [
           {
            "error_x": {
             "color": "#2a3f5f"
            },
            "error_y": {
             "color": "#2a3f5f"
            },
            "marker": {
             "line": {
              "color": "#E5ECF6",
              "width": 0.5
             },
             "pattern": {
              "fillmode": "overlay",
              "size": 10,
              "solidity": 0.2
             }
            },
            "type": "bar"
           }
          ],
          "barpolar": [
           {
            "marker": {
             "line": {
              "color": "#E5ECF6",
              "width": 0.5
             },
             "pattern": {
              "fillmode": "overlay",
              "size": 10,
              "solidity": 0.2
             }
            },
            "type": "barpolar"
           }
          ],
          "carpet": [
           {
            "aaxis": {
             "endlinecolor": "#2a3f5f",
             "gridcolor": "white",
             "linecolor": "white",
             "minorgridcolor": "white",
             "startlinecolor": "#2a3f5f"
            },
            "baxis": {
             "endlinecolor": "#2a3f5f",
             "gridcolor": "white",
             "linecolor": "white",
             "minorgridcolor": "white",
             "startlinecolor": "#2a3f5f"
            },
            "type": "carpet"
           }
          ],
          "choropleth": [
           {
            "colorbar": {
             "outlinewidth": 0,
             "ticks": ""
            },
            "type": "choropleth"
           }
          ],
          "contour": [
           {
            "colorbar": {
             "outlinewidth": 0,
             "ticks": ""
            },
            "colorscale": [
             [
              0,
              "#0d0887"
             ],
             [
              0.1111111111111111,
              "#46039f"
             ],
             [
              0.2222222222222222,
              "#7201a8"
             ],
             [
              0.3333333333333333,
              "#9c179e"
             ],
             [
              0.4444444444444444,
              "#bd3786"
             ],
             [
              0.5555555555555556,
              "#d8576b"
             ],
             [
              0.6666666666666666,
              "#ed7953"
             ],
             [
              0.7777777777777778,
              "#fb9f3a"
             ],
             [
              0.8888888888888888,
              "#fdca26"
             ],
             [
              1,
              "#f0f921"
             ]
            ],
            "type": "contour"
           }
          ],
          "contourcarpet": [
           {
            "colorbar": {
             "outlinewidth": 0,
             "ticks": ""
            },
            "type": "contourcarpet"
           }
          ],
          "heatmap": [
           {
            "colorbar": {
             "outlinewidth": 0,
             "ticks": ""
            },
            "colorscale": [
             [
              0,
              "#0d0887"
             ],
             [
              0.1111111111111111,
              "#46039f"
             ],
             [
              0.2222222222222222,
              "#7201a8"
             ],
             [
              0.3333333333333333,
              "#9c179e"
             ],
             [
              0.4444444444444444,
              "#bd3786"
             ],
             [
              0.5555555555555556,
              "#d8576b"
             ],
             [
              0.6666666666666666,
              "#ed7953"
             ],
             [
              0.7777777777777778,
              "#fb9f3a"
             ],
             [
              0.8888888888888888,
              "#fdca26"
             ],
             [
              1,
              "#f0f921"
             ]
            ],
            "type": "heatmap"
           }
          ],
          "histogram": [
           {
            "marker": {
             "pattern": {
              "fillmode": "overlay",
              "size": 10,
              "solidity": 0.2
             }
            },
            "type": "histogram"
           }
          ],
          "histogram2d": [
           {
            "colorbar": {
             "outlinewidth": 0,
             "ticks": ""
            },
            "colorscale": [
             [
              0,
              "#0d0887"
             ],
             [
              0.1111111111111111,
              "#46039f"
             ],
             [
              0.2222222222222222,
              "#7201a8"
             ],
             [
              0.3333333333333333,
              "#9c179e"
             ],
             [
              0.4444444444444444,
              "#bd3786"
             ],
             [
              0.5555555555555556,
              "#d8576b"
             ],
             [
              0.6666666666666666,
              "#ed7953"
             ],
             [
              0.7777777777777778,
              "#fb9f3a"
             ],
             [
              0.8888888888888888,
              "#fdca26"
             ],
             [
              1,
              "#f0f921"
             ]
            ],
            "type": "histogram2d"
           }
          ],
          "histogram2dcontour": [
           {
            "colorbar": {
             "outlinewidth": 0,
             "ticks": ""
            },
            "colorscale": [
             [
              0,
              "#0d0887"
             ],
             [
              0.1111111111111111,
              "#46039f"
             ],
             [
              0.2222222222222222,
              "#7201a8"
             ],
             [
              0.3333333333333333,
              "#9c179e"
             ],
             [
              0.4444444444444444,
              "#bd3786"
             ],
             [
              0.5555555555555556,
              "#d8576b"
             ],
             [
              0.6666666666666666,
              "#ed7953"
             ],
             [
              0.7777777777777778,
              "#fb9f3a"
             ],
             [
              0.8888888888888888,
              "#fdca26"
             ],
             [
              1,
              "#f0f921"
             ]
            ],
            "type": "histogram2dcontour"
           }
          ],
          "mesh3d": [
           {
            "colorbar": {
             "outlinewidth": 0,
             "ticks": ""
            },
            "type": "mesh3d"
           }
          ],
          "parcoords": [
           {
            "line": {
             "colorbar": {
              "outlinewidth": 0,
              "ticks": ""
             }
            },
            "type": "parcoords"
           }
          ],
          "pie": [
           {
            "automargin": true,
            "type": "pie"
           }
          ],
          "scatter": [
           {
            "fillpattern": {
             "fillmode": "overlay",
             "size": 10,
             "solidity": 0.2
            },
            "type": "scatter"
           }
          ],
          "scatter3d": [
           {
            "line": {
             "colorbar": {
              "outlinewidth": 0,
              "ticks": ""
             }
            },
            "marker": {
             "colorbar": {
              "outlinewidth": 0,
              "ticks": ""
             }
            },
            "type": "scatter3d"
           }
          ],
          "scattercarpet": [
           {
            "marker": {
             "colorbar": {
              "outlinewidth": 0,
              "ticks": ""
             }
            },
            "type": "scattercarpet"
           }
          ],
          "scattergeo": [
           {
            "marker": {
             "colorbar": {
              "outlinewidth": 0,
              "ticks": ""
             }
            },
            "type": "scattergeo"
           }
          ],
          "scattergl": [
           {
            "marker": {
             "colorbar": {
              "outlinewidth": 0,
              "ticks": ""
             }
            },
            "type": "scattergl"
           }
          ],
          "scattermap": [
           {
            "marker": {
             "colorbar": {
              "outlinewidth": 0,
              "ticks": ""
             }
            },
            "type": "scattermap"
           }
          ],
          "scattermapbox": [
           {
            "marker": {
             "colorbar": {
              "outlinewidth": 0,
              "ticks": ""
             }
            },
            "type": "scattermapbox"
           }
          ],
          "scatterpolar": [
           {
            "marker": {
             "colorbar": {
              "outlinewidth": 0,
              "ticks": ""
             }
            },
            "type": "scatterpolar"
           }
          ],
          "scatterpolargl": [
           {
            "marker": {
             "colorbar": {
              "outlinewidth": 0,
              "ticks": ""
             }
            },
            "type": "scatterpolargl"
           }
          ],
          "scatterternary": [
           {
            "marker": {
             "colorbar": {
              "outlinewidth": 0,
              "ticks": ""
             }
            },
            "type": "scatterternary"
           }
          ],
          "surface": [
           {
            "colorbar": {
             "outlinewidth": 0,
             "ticks": ""
            },
            "colorscale": [
             [
              0,
              "#0d0887"
             ],
             [
              0.1111111111111111,
              "#46039f"
             ],
             [
              0.2222222222222222,
              "#7201a8"
             ],
             [
              0.3333333333333333,
              "#9c179e"
             ],
             [
              0.4444444444444444,
              "#bd3786"
             ],
             [
              0.5555555555555556,
              "#d8576b"
             ],
             [
              0.6666666666666666,
              "#ed7953"
             ],
             [
              0.7777777777777778,
              "#fb9f3a"
             ],
             [
              0.8888888888888888,
              "#fdca26"
             ],
             [
              1,
              "#f0f921"
             ]
            ],
            "type": "surface"
           }
          ],
          "table": [
           {
            "cells": {
             "fill": {
              "color": "#EBF0F8"
             },
             "line": {
              "color": "white"
             }
            },
            "header": {
             "fill": {
              "color": "#C8D4E3"
             },
             "line": {
              "color": "white"
             }
            },
            "type": "table"
           }
          ]
         },
         "layout": {
          "annotationdefaults": {
           "arrowcolor": "#2a3f5f",
           "arrowhead": 0,
           "arrowwidth": 1
          },
          "autotypenumbers": "strict",
          "coloraxis": {
           "colorbar": {
            "outlinewidth": 0,
            "ticks": ""
           }
          },
          "colorscale": {
           "diverging": [
            [
             0,
             "#8e0152"
            ],
            [
             0.1,
             "#c51b7d"
            ],
            [
             0.2,
             "#de77ae"
            ],
            [
             0.3,
             "#f1b6da"
            ],
            [
             0.4,
             "#fde0ef"
            ],
            [
             0.5,
             "#f7f7f7"
            ],
            [
             0.6,
             "#e6f5d0"
            ],
            [
             0.7,
             "#b8e186"
            ],
            [
             0.8,
             "#7fbc41"
            ],
            [
             0.9,
             "#4d9221"
            ],
            [
             1,
             "#276419"
            ]
           ],
           "sequential": [
            [
             0,
             "#0d0887"
            ],
            [
             0.1111111111111111,
             "#46039f"
            ],
            [
             0.2222222222222222,
             "#7201a8"
            ],
            [
             0.3333333333333333,
             "#9c179e"
            ],
            [
             0.4444444444444444,
             "#bd3786"
            ],
            [
             0.5555555555555556,
             "#d8576b"
            ],
            [
             0.6666666666666666,
             "#ed7953"
            ],
            [
             0.7777777777777778,
             "#fb9f3a"
            ],
            [
             0.8888888888888888,
             "#fdca26"
            ],
            [
             1,
             "#f0f921"
            ]
           ],
           "sequentialminus": [
            [
             0,
             "#0d0887"
            ],
            [
             0.1111111111111111,
             "#46039f"
            ],
            [
             0.2222222222222222,
             "#7201a8"
            ],
            [
             0.3333333333333333,
             "#9c179e"
            ],
            [
             0.4444444444444444,
             "#bd3786"
            ],
            [
             0.5555555555555556,
             "#d8576b"
            ],
            [
             0.6666666666666666,
             "#ed7953"
            ],
            [
             0.7777777777777778,
             "#fb9f3a"
            ],
            [
             0.8888888888888888,
             "#fdca26"
            ],
            [
             1,
             "#f0f921"
            ]
           ]
          },
          "colorway": [
           "#636efa",
           "#EF553B",
           "#00cc96",
           "#ab63fa",
           "#FFA15A",
           "#19d3f3",
           "#FF6692",
           "#B6E880",
           "#FF97FF",
           "#FECB52"
          ],
          "font": {
           "color": "#2a3f5f"
          },
          "geo": {
           "bgcolor": "white",
           "lakecolor": "white",
           "landcolor": "#E5ECF6",
           "showlakes": true,
           "showland": true,
           "subunitcolor": "white"
          },
          "hoverlabel": {
           "align": "left"
          },
          "hovermode": "closest",
          "mapbox": {
           "style": "light"
          },
          "paper_bgcolor": "white",
          "plot_bgcolor": "#E5ECF6",
          "polar": {
           "angularaxis": {
            "gridcolor": "white",
            "linecolor": "white",
            "ticks": ""
           },
           "bgcolor": "#E5ECF6",
           "radialaxis": {
            "gridcolor": "white",
            "linecolor": "white",
            "ticks": ""
           }
          },
          "scene": {
           "xaxis": {
            "backgroundcolor": "#E5ECF6",
            "gridcolor": "white",
            "gridwidth": 2,
            "linecolor": "white",
            "showbackground": true,
            "ticks": "",
            "zerolinecolor": "white"
           },
           "yaxis": {
            "backgroundcolor": "#E5ECF6",
            "gridcolor": "white",
            "gridwidth": 2,
            "linecolor": "white",
            "showbackground": true,
            "ticks": "",
            "zerolinecolor": "white"
           },
           "zaxis": {
            "backgroundcolor": "#E5ECF6",
            "gridcolor": "white",
            "gridwidth": 2,
            "linecolor": "white",
            "showbackground": true,
            "ticks": "",
            "zerolinecolor": "white"
           }
          },
          "shapedefaults": {
           "line": {
            "color": "#2a3f5f"
           }
          },
          "ternary": {
           "aaxis": {
            "gridcolor": "white",
            "linecolor": "white",
            "ticks": ""
           },
           "baxis": {
            "gridcolor": "white",
            "linecolor": "white",
            "ticks": ""
           },
           "bgcolor": "#E5ECF6",
           "caxis": {
            "gridcolor": "white",
            "linecolor": "white",
            "ticks": ""
           }
          },
          "title": {
           "x": 0.05
          },
          "xaxis": {
           "automargin": true,
           "gridcolor": "white",
           "linecolor": "white",
           "ticks": "",
           "title": {
            "standoff": 15
           },
           "zerolinecolor": "white",
           "zerolinewidth": 2
          },
          "yaxis": {
           "automargin": true,
           "gridcolor": "white",
           "linecolor": "white",
           "ticks": "",
           "title": {
            "standoff": 15
           },
           "zerolinecolor": "white",
           "zerolinewidth": 2
          }
         }
        },
        "title": {
         "text": "MACD Distribution by Ticker (Real-Time)"
        },
        "xaxis": {
         "anchor": "y",
         "categoryarray": [
          "AAPL",
          "AMZN",
          "GOOGL",
          "META",
          "MSFT",
          "NVDA",
          "TSLA"
         ],
         "categoryorder": "array",
         "domain": [
          0,
          1
         ],
         "title": {
          "text": "Ticker"
         }
        },
        "yaxis": {
         "anchor": "x",
         "domain": [
          0,
          1
         ],
         "title": {
          "text": "MACD Value"
         }
        }
       }
      }
     },
     "metadata": {},
     "output_type": "display_data"
    }
   ],
   "source": [
    "#creating a box plot that shows the distrubtion of MACD. This is different from previous graph because it lets us see things like outliers and the median\n",
    "fig = px.box(\n",
    "    df_cass_final, \n",
    "    x='ticker', \n",
    "    y='MACD', \n",
    "    color='ticker',\n",
    "    title='MACD Distribution by Ticker (Real-Time)',\n",
    "    labels={'ticker': 'Ticker', 'MACD': 'MACD Value'},\n",
    ")\n",
    "#updating layout\n",
    "fig.update_layout(\n",
    "    yaxis_title='MACD Value',\n",
    "    xaxis_title='Ticker',)\n",
    "fig.show()\n",
    "\n"
   ]
  },
  {
   "cell_type": "markdown",
   "metadata": {},
   "source": [
    "### The plot above shows a boxplot of the Distribution of the Moving Average Convergence Divergence (MACD). We can see the median MACD for each company. Additionally the height of the box shows us the interquartile range. A larger IQR means a higher amount of volatility in monentum. Dots represent outliers. If we see tighter and smaller distributions it implies that the company is currently more stable in the past 3 minutes of real time anaylsis. Whereas if the MACD values are higher and at a bigger box height, it could imply a larger price divergence. This grpah is useful for a quick analysis between each company unlike the prior tile above."
   ]
  },
  {
   "cell_type": "code",
   "execution_count": 133,
   "metadata": {},
   "outputs": [
    {
     "data": {
      "application/vnd.plotly.v1+json": {
       "config": {
        "plotlyServerURL": "https://plot.ly"
       },
       "data": [
        {
         "line": {
          "color": "black"
         },
         "mode": "lines",
         "name": "BB_Middle",
         "showlegend": true,
         "type": "scatter",
         "x": [
          "2025-04-21T18:46:31.000000000",
          "2025-04-21T18:46:38.000000000",
          "2025-04-21T18:46:47.000000000",
          "2025-04-21T18:47:00.000000000",
          "2025-04-21T18:47:08.000000000",
          "2025-04-21T18:47:21.000000000",
          "2025-04-21T18:47:29.000000000",
          "2025-04-21T18:47:40.000000000",
          "2025-04-21T18:47:51.000000000",
          "2025-04-21T18:47:59.000000000",
          "2025-04-21T18:48:08.000000000",
          "2025-04-21T18:48:23.000000000",
          "2025-04-21T18:48:32.000000000",
          "2025-04-21T18:48:40.000000000"
         ],
         "xaxis": "x",
         "y": {
          "bdata": "LbKd76fSZ0BKDAIrh9JnQGZmZmZm0mdAZmZmZmbSZ0CKbOf7qdFnQLByaJHt0GdA1XjpJjHQZ0D6fmq8dM9nQB+F61G4zmdAH4XrUbjOZ0CDwMqhRc5nQOf7qfHSzWdATDeJQWDNZ0CwcmiR7cxnQA==",
          "dtype": "f8"
         },
         "yaxis": "y"
        },
        {
         "line": {
          "color": "blue",
          "dash": "dash"
         },
         "mode": "lines",
         "name": "BB_Upper",
         "showlegend": true,
         "type": "scatter",
         "x": [
          "2025-04-21T18:46:31.000000000",
          "2025-04-21T18:46:38.000000000",
          "2025-04-21T18:46:47.000000000",
          "2025-04-21T18:47:00.000000000",
          "2025-04-21T18:47:08.000000000",
          "2025-04-21T18:47:21.000000000",
          "2025-04-21T18:47:29.000000000",
          "2025-04-21T18:47:40.000000000",
          "2025-04-21T18:47:51.000000000",
          "2025-04-21T18:47:59.000000000",
          "2025-04-21T18:48:08.000000000",
          "2025-04-21T18:48:23.000000000",
          "2025-04-21T18:48:32.000000000",
          "2025-04-21T18:48:40.000000000"
         ],
         "xaxis": "x",
         "y": {
          "bdata": "Cg7qaVvTZ0AN4gC2GdNnQGZmZmZm0mdAZmZmZmbSZ0CmuSCb9NRnQOKCn5D11GdAB4kgJjnUZ0AWzKNbv9JnQB+F61G4zmdAH4XrUbjOZ0CrrEaIRtBnQGo9tR1H0GdAz3iUbdTPZ0DWXuR37s5nQA==",
          "dtype": "f8"
         },
         "yaxis": "y"
        },
        {
         "line": {
          "color": "orange",
          "dash": "dash"
         },
         "mode": "lines",
         "name": "BB_Lower",
         "showlegend": true,
         "type": "scatter",
         "x": [
          "2025-04-21T18:46:31.000000000",
          "2025-04-21T18:46:38.000000000",
          "2025-04-21T18:46:47.000000000",
          "2025-04-21T18:47:00.000000000",
          "2025-04-21T18:47:08.000000000",
          "2025-04-21T18:47:21.000000000",
          "2025-04-21T18:47:29.000000000",
          "2025-04-21T18:47:40.000000000",
          "2025-04-21T18:47:51.000000000",
          "2025-04-21T18:47:59.000000000",
          "2025-04-21T18:48:08.000000000",
          "2025-04-21T18:48:23.000000000",
          "2025-04-21T18:48:32.000000000",
          "2025-04-21T18:48:40.000000000"
         ],
         "xaxis": "x",
         "y": {
          "bdata": "UFZRdfTRZ0CHNgOg9NFnQGZmZmZm0mdAZmZmZmbSZ0BuH65cX85nQH5iMZLlzGdAo2iyJynMZ0DeMTEdKsxnQB+F61G4zmdAH4XrUbjOZ0Bb1E67RMxnQGS6nsVey2dAyfV9FezKZ0CKhuyq7MpnQA==",
          "dtype": "f8"
         },
         "yaxis": "y"
        },
        {
         "fill": "toself",
         "fillcolor": "rgba(173, 216, 230, 0.2)",
         "hoverinfo": "skip",
         "line": {
          "color": "rgba(255,255,255,0)"
         },
         "showlegend": false,
         "type": "scatter",
         "x": [
          "2025-04-21T18:46:31",
          "2025-04-21T18:46:38",
          "2025-04-21T18:46:47",
          "2025-04-21T18:47:00",
          "2025-04-21T18:47:08",
          "2025-04-21T18:47:21",
          "2025-04-21T18:47:29",
          "2025-04-21T18:47:40",
          "2025-04-21T18:47:51",
          "2025-04-21T18:47:59",
          "2025-04-21T18:48:08",
          "2025-04-21T18:48:23",
          "2025-04-21T18:48:32",
          "2025-04-21T18:48:40",
          "2025-04-21T18:48:40",
          "2025-04-21T18:48:32",
          "2025-04-21T18:48:23",
          "2025-04-21T18:48:08",
          "2025-04-21T18:47:59",
          "2025-04-21T18:47:51",
          "2025-04-21T18:47:40",
          "2025-04-21T18:47:29",
          "2025-04-21T18:47:21",
          "2025-04-21T18:47:08",
          "2025-04-21T18:47:00",
          "2025-04-21T18:46:47",
          "2025-04-21T18:46:38",
          "2025-04-21T18:46:31"
         ],
         "xaxis": "x",
         "y": [
          190.60490890230022,
          190.59688854382003,
          190.575,
          190.575,
          190.65485912696494,
          190.65497618822616,
          190.63197618822616,
          190.58585912696498,
          190.46,
          190.46,
          190.50860990337,
          190.5086811580507,
          190.49468115805072,
          190.46660990336994,
          190.34139009663005,
          190.3413188419493,
          190.35531884194927,
          190.38339009663,
          190.46,
          190.46,
          190.38014087303503,
          190.38002381177384,
          190.40302381177383,
          190.449140873035,
          190.575,
          190.575,
          190.56111145618,
          190.56109109769977
         ],
         "yaxis": "y"
        },
        {
         "line": {
          "color": "black"
         },
         "mode": "lines",
         "name": "BB_Middle",
         "showlegend": false,
         "type": "scatter",
         "x": [
          "2025-04-21T18:45:45.000000000",
          "2025-04-21T18:46:00.000000000",
          "2025-04-21T18:46:08.000000000",
          "2025-04-21T18:46:17.000000000",
          "2025-04-21T18:46:29.000000000",
          "2025-04-21T18:46:39.000000000",
          "2025-04-21T18:46:47.000000000",
          "2025-04-21T18:47:00.000000000",
          "2025-04-21T18:47:08.000000000",
          "2025-04-21T18:47:15.000000000",
          "2025-04-21T18:47:28.000000000",
          "2025-04-21T18:47:40.000000000",
          "2025-04-21T18:47:51.000000000",
          "2025-04-21T18:47:57.000000000",
          "2025-04-21T18:48:12.000000000",
          "2025-04-21T18:48:20.000000000",
          "2025-04-21T18:48:32.000000000",
          "2025-04-21T18:48:40.000000000"
         ],
         "xaxis": "x2",
         "y": {
          "bdata": "mpmZmZkrfkCamZmZmSt+QJqZmZmZK35AmpmZmZkrfkBI4XoUrkl2QJqZmZmZSXZA7FG4HoVJdkDsUbgehUl2QJQYBFYOSXZAO99PjZdIdkDjpZvEIEh2QIts5/upR3ZAMzMzMzNHdkAzMzMzM0d2QDiJQWDlRnZAO99PjZdGdkBANV66SUZ2QEOLbOf7RXZA",
          "dtype": "f8"
         },
         "yaxis": "y2"
        },
        {
         "line": {
          "color": "blue",
          "dash": "dash"
         },
         "mode": "lines",
         "name": "BB_Upper",
         "showlegend": false,
         "type": "scatter",
         "x": [
          "2025-04-21T18:45:45.000000000",
          "2025-04-21T18:46:00.000000000",
          "2025-04-21T18:46:08.000000000",
          "2025-04-21T18:46:17.000000000",
          "2025-04-21T18:46:29.000000000",
          "2025-04-21T18:46:39.000000000",
          "2025-04-21T18:46:47.000000000",
          "2025-04-21T18:47:00.000000000",
          "2025-04-21T18:47:08.000000000",
          "2025-04-21T18:47:15.000000000",
          "2025-04-21T18:47:28.000000000",
          "2025-04-21T18:47:40.000000000",
          "2025-04-21T18:47:51.000000000",
          "2025-04-21T18:47:57.000000000",
          "2025-04-21T18:48:12.000000000",
          "2025-04-21T18:48:20.000000000",
          "2025-04-21T18:48:32.000000000",
          "2025-04-21T18:48:40.000000000"
         ],
         "xaxis": "x2",
         "y": {
          "bdata": "mpmZmZkrfkCamZmZmSt+QJqZmZmZK35AmpmZmZkrfkCxmupAHkp2QDPfeDD1SXZA7FG4HoVJdkDsUbgehUl2QHXf340hS3ZAO6ykKCJLdkDjcvBfq0p2QG0zwzO9SXZAMzMzMzNHdkAzMzMzM0d2QOrEXmpBSHZAajnFz0FIdkBwj9P880d2QPbGifFXR3ZA",
          "dtype": "f8"
         },
         "yaxis": "y2"
        },
        {
         "line": {
          "color": "orange",
          "dash": "dash"
         },
         "mode": "lines",
         "name": "BB_Lower",
         "showlegend": false,
         "type": "scatter",
         "x": [
          "2025-04-21T18:45:45.000000000",
          "2025-04-21T18:46:00.000000000",
          "2025-04-21T18:46:08.000000000",
          "2025-04-21T18:46:17.000000000",
          "2025-04-21T18:46:29.000000000",
          "2025-04-21T18:46:39.000000000",
          "2025-04-21T18:46:47.000000000",
          "2025-04-21T18:47:00.000000000",
          "2025-04-21T18:47:08.000000000",
          "2025-04-21T18:47:15.000000000",
          "2025-04-21T18:47:28.000000000",
          "2025-04-21T18:47:40.000000000",
          "2025-04-21T18:47:51.000000000",
          "2025-04-21T18:47:57.000000000",
          "2025-04-21T18:48:12.000000000",
          "2025-04-21T18:48:20.000000000",
          "2025-04-21T18:48:32.000000000",
          "2025-04-21T18:48:40.000000000"
         ],
         "xaxis": "x2",
         "y": {
          "bdata": "mpmZmZkrfkCamZmZmSt+QJqZmZmZK35AmpmZmZkrfkDfJwvoPUl2QAFUugI+SXZA7FG4HoVJdkDsUbgehUl2QLNRKB77RnZAOxL78QxGdkDj2EYplkV2QKmlC8SWRXZAMzMzMzNHdkAzMzMzM0d2QIZNJFaJRXZADIXaSu1EdkAQ2+h3n0R2QJBPT92fRHZA",
          "dtype": "f8"
         },
         "yaxis": "y2"
        },
        {
         "fill": "toself",
         "fillcolor": "rgba(173, 216, 230, 0.2)",
         "hoverinfo": "skip",
         "line": {
          "color": "rgba(255,255,255,0)"
         },
         "showlegend": false,
         "type": "scatter",
         "x": [
          "2025-04-21T18:45:45",
          "2025-04-21T18:46:00",
          "2025-04-21T18:46:08",
          "2025-04-21T18:46:17",
          "2025-04-21T18:46:29",
          "2025-04-21T18:46:39",
          "2025-04-21T18:46:47",
          "2025-04-21T18:47:00",
          "2025-04-21T18:47:08",
          "2025-04-21T18:47:15",
          "2025-04-21T18:47:28",
          "2025-04-21T18:47:40",
          "2025-04-21T18:47:51",
          "2025-04-21T18:47:57",
          "2025-04-21T18:48:12",
          "2025-04-21T18:48:20",
          "2025-04-21T18:48:32",
          "2025-04-21T18:48:40",
          "2025-04-21T18:48:40",
          "2025-04-21T18:48:32",
          "2025-04-21T18:48:20",
          "2025-04-21T18:48:12",
          "2025-04-21T18:47:57",
          "2025-04-21T18:47:51",
          "2025-04-21T18:47:40",
          "2025-04-21T18:47:28",
          "2025-04-21T18:47:15",
          "2025-04-21T18:47:08",
          "2025-04-21T18:47:00",
          "2025-04-21T18:46:47",
          "2025-04-21T18:46:39",
          "2025-04-21T18:46:29",
          "2025-04-21T18:46:17",
          "2025-04-21T18:46:08",
          "2025-04-21T18:46:00",
          "2025-04-21T18:45:45"
         ],
         "xaxis": "x2",
         "y": [
          482.725,
          482.725,
          482.725,
          482.725,
          356.63238612787524,
          356.622360679775,
          356.595,
          356.595,
          356.6956919426951,
          356.69583954167655,
          356.66683954167655,
          356.6086919426951,
          356.45,
          356.45,
          356.5159705831453,
          356.51606728592617,
          356.4970672859263,
          356.4589705831453,
          356.28902941685465,
          356.2889327140738,
          356.3079327140738,
          356.3460294168548,
          356.45,
          356.45,
          356.3493080573049,
          356.3491604583234,
          356.3781604583234,
          356.436308057305,
          356.595,
          356.595,
          356.57763932022505,
          356.5776138721248,
          482.725,
          482.725,
          482.725,
          482.725
         ],
         "yaxis": "y2"
        },
        {
         "line": {
          "color": "black"
         },
         "mode": "lines",
         "name": "BB_Middle",
         "showlegend": false,
         "type": "scatter",
         "x": [
          "2025-04-21T18:45:44.000000000",
          "2025-04-21T18:46:00.000000000",
          "2025-04-21T18:46:08.000000000",
          "2025-04-21T18:46:18.000000000",
          "2025-04-21T18:46:31.000000000",
          "2025-04-21T18:46:39.000000000",
          "2025-04-21T18:46:48.000000000",
          "2025-04-21T18:47:00.000000000",
          "2025-04-21T18:47:09.000000000",
          "2025-04-21T18:47:21.000000000",
          "2025-04-21T18:47:30.000000000",
          "2025-04-21T18:47:43.000000000",
          "2025-04-21T18:47:51.000000000",
          "2025-04-21T18:47:58.000000000",
          "2025-04-21T18:48:12.000000000",
          "2025-04-21T18:48:23.000000000",
          "2025-04-21T18:48:32.000000000",
          "2025-04-21T18:48:40.000000000"
         ],
         "xaxis": "x3",
         "y": {
          "bdata": "sHJoke3MZ0CwcmiR7cxnQLByaJHtzGdAsHJoke3MZ0AdWmQ737dkQMZLN4lBuGRAcT0K16O4ZEBxPQrXo7hkQNV46SYxuGRAOrTIdr63ZECe76fGS7dkQAIrhxbZtmRAZmZmZma2ZEBmZmZmZrZkQCCwcmiRtWRA2vl+ary0ZECVQ4ts57NkQE+Nl24Ss2RA",
          "dtype": "f8"
         },
         "yaxis": "y3"
        },
        {
         "line": {
          "color": "blue",
          "dash": "dash"
         },
         "mode": "lines",
         "name": "BB_Upper",
         "showlegend": false,
         "type": "scatter",
         "x": [
          "2025-04-21T18:45:44.000000000",
          "2025-04-21T18:46:00.000000000",
          "2025-04-21T18:46:08.000000000",
          "2025-04-21T18:46:18.000000000",
          "2025-04-21T18:46:31.000000000",
          "2025-04-21T18:46:39.000000000",
          "2025-04-21T18:46:48.000000000",
          "2025-04-21T18:47:00.000000000",
          "2025-04-21T18:47:09.000000000",
          "2025-04-21T18:47:21.000000000",
          "2025-04-21T18:47:30.000000000",
          "2025-04-21T18:47:43.000000000",
          "2025-04-21T18:47:51.000000000",
          "2025-04-21T18:47:58.000000000",
          "2025-04-21T18:48:12.000000000",
          "2025-04-21T18:48:23.000000000",
          "2025-04-21T18:48:32.000000000",
          "2025-04-21T18:48:40.000000000"
         ],
         "xaxis": "x3",
         "y": {
          "bdata": "1l7kd+7OZ0DWXuR37s5nQNZe5HfuzmdA1l7kd+7OZ0CybUmq+blkQA3NMyr5uWRAcT0K16O4ZEBxPQrXo7hkQP1kZQ0yumRAvvXTojK6ZEAhMbPyv7lkQCkXA/3ZuGRAZmZmZma2ZEBmZmZmZrZkQIwd6+9JuWRA8E5vBUu5ZECqmHsHdrhkQLj6D/bKtmRA",
          "dtype": "f8"
         },
         "yaxis": "y3"
        },
        {
         "line": {
          "color": "orange",
          "dash": "dash"
         },
         "mode": "lines",
         "name": "BB_Lower",
         "showlegend": false,
         "type": "scatter",
         "x": [
          "2025-04-21T18:45:44.000000000",
          "2025-04-21T18:46:00.000000000",
          "2025-04-21T18:46:08.000000000",
          "2025-04-21T18:46:18.000000000",
          "2025-04-21T18:46:31.000000000",
          "2025-04-21T18:46:39.000000000",
          "2025-04-21T18:46:48.000000000",
          "2025-04-21T18:47:00.000000000",
          "2025-04-21T18:47:09.000000000",
          "2025-04-21T18:47:21.000000000",
          "2025-04-21T18:47:30.000000000",
          "2025-04-21T18:47:43.000000000",
          "2025-04-21T18:47:51.000000000",
          "2025-04-21T18:47:58.000000000",
          "2025-04-21T18:48:12.000000000",
          "2025-04-21T18:48:23.000000000",
          "2025-04-21T18:48:32.000000000",
          "2025-04-21T18:48:40.000000000"
         ],
         "xaxis": "x3",
         "y": {
          "bdata": "iobsquzKZ0CKhuyq7MpnQIqG7KrsymdAiobsquzKZ0CIRn/MxLVkQH/KOuiJtmRAcT0K16O4ZEBxPQrXo7hkQK2MbUAwtmRAtnK9Skq1ZEAbrpya17RkQNs+CzDYtGRAZmZmZma2ZEBmZmZmZrZkQLRC+uDYsWRAxKSOzy2wZECA7prRWK9kQOYfH+dZr2RA",
          "dtype": "f8"
         },
         "yaxis": "y3"
        },
        {
         "fill": "toself",
         "fillcolor": "rgba(173, 216, 230, 0.2)",
         "hoverinfo": "skip",
         "line": {
          "color": "rgba(255,255,255,0)"
         },
         "showlegend": false,
         "type": "scatter",
         "x": [
          "2025-04-21T18:45:44",
          "2025-04-21T18:46:00",
          "2025-04-21T18:46:08",
          "2025-04-21T18:46:18",
          "2025-04-21T18:46:31",
          "2025-04-21T18:46:39",
          "2025-04-21T18:46:48",
          "2025-04-21T18:47:00",
          "2025-04-21T18:47:09",
          "2025-04-21T18:47:21",
          "2025-04-21T18:47:30",
          "2025-04-21T18:47:43",
          "2025-04-21T18:47:51",
          "2025-04-21T18:47:58",
          "2025-04-21T18:48:12",
          "2025-04-21T18:48:23",
          "2025-04-21T18:48:32",
          "2025-04-21T18:48:40",
          "2025-04-21T18:48:40",
          "2025-04-21T18:48:32",
          "2025-04-21T18:48:23",
          "2025-04-21T18:48:12",
          "2025-04-21T18:47:58",
          "2025-04-21T18:47:51",
          "2025-04-21T18:47:43",
          "2025-04-21T18:47:30",
          "2025-04-21T18:47:21",
          "2025-04-21T18:47:09",
          "2025-04-21T18:47:00",
          "2025-04-21T18:46:48",
          "2025-04-21T18:46:39",
          "2025-04-21T18:46:31",
          "2025-04-21T18:46:18",
          "2025-04-21T18:46:08",
          "2025-04-21T18:46:00",
          "2025-04-21T18:45:44"
         ],
         "xaxis": "x3",
         "y": [
          190.46660990336994,
          190.46660990336994,
          190.46660990336994,
          190.46660990336994,
          165.81172670690063,
          165.81166563146,
          165.77,
          165.77,
          165.81860990337,
          165.81868115805077,
          165.80468115805073,
          165.77660990336997,
          165.7,
          165.7,
          165.7902755348299,
          165.79040786495125,
          165.76440786495124,
          165.7122755348298,
          165.47972446517014,
          165.47959213504873,
          165.5055921350487,
          165.55772446517005,
          165.7,
          165.7,
          165.65139009663002,
          165.6513188419493,
          165.66531884194927,
          165.69339009663,
          165.77,
          165.77,
          165.70433436853997,
          165.6802732930994,
          190.34139009663005,
          190.34139009663005,
          190.34139009663005,
          190.34139009663005
         ],
         "yaxis": "y3"
        },
        {
         "line": {
          "color": "black"
         },
         "mode": "lines",
         "name": "BB_Middle",
         "showlegend": false,
         "type": "scatter",
         "x": [
          "2025-04-21T18:45:45.000000000",
          "2025-04-21T18:45:59.000000000",
          "2025-04-21T18:46:06.000000000",
          "2025-04-21T18:46:17.000000000",
          "2025-04-21T18:46:31.000000000",
          "2025-04-21T18:46:39.000000000",
          "2025-04-21T18:46:46.000000000",
          "2025-04-21T18:47:00.000000000",
          "2025-04-21T18:47:08.000000000",
          "2025-04-21T18:47:21.000000000",
          "2025-04-21T18:47:28.000000000",
          "2025-04-21T18:47:41.000000000",
          "2025-04-21T18:47:50.000000000",
          "2025-04-21T18:47:56.000000000",
          "2025-04-21T18:48:11.000000000",
          "2025-04-21T18:48:24.000000000",
          "2025-04-21T18:48:32.000000000",
          "2025-04-21T18:48:40.000000000"
         ],
         "xaxis": "x4",
         "y": {
          "bdata": "T42XbhKzZEBPjZduErNkQE+Nl24Ss2RAT42XbhKzZEAzMzMzM0tiQDMzMzMzS2JAMzMzMzNLYkAzMzMzM0tiQFCNl24SS2JAbef7qfFKYkCKQWDl0EpiQKabxCCwSmJAw/UoXI9KYkDD9Shcj0piQAh8fhghSmJASwLU1LJJYkCQiCmRREliQNMOf03WSGJA",
          "dtype": "f8"
         },
         "yaxis": "y4"
        },
        {
         "line": {
          "color": "blue",
          "dash": "dash"
         },
         "mode": "lines",
         "name": "BB_Upper",
         "showlegend": false,
         "type": "scatter",
         "x": [
          "2025-04-21T18:45:45.000000000",
          "2025-04-21T18:45:59.000000000",
          "2025-04-21T18:46:06.000000000",
          "2025-04-21T18:46:17.000000000",
          "2025-04-21T18:46:31.000000000",
          "2025-04-21T18:46:39.000000000",
          "2025-04-21T18:46:46.000000000",
          "2025-04-21T18:47:00.000000000",
          "2025-04-21T18:47:08.000000000",
          "2025-04-21T18:47:21.000000000",
          "2025-04-21T18:47:28.000000000",
          "2025-04-21T18:47:41.000000000",
          "2025-04-21T18:47:50.000000000",
          "2025-04-21T18:47:56.000000000",
          "2025-04-21T18:48:11.000000000",
          "2025-04-21T18:48:24.000000000",
          "2025-04-21T18:48:32.000000000",
          "2025-04-21T18:48:40.000000000"
         ],
         "xaxis": "x4",
         "y": {
          "bdata": "uPoP9sq2ZEC4+g/2yrZkQLj6D/bKtmRAuPoP9sq2ZEAzMzMzM0tiQDMzMzMzS2JAMzMzMzNLYkAzMzMzM0tiQBJjlvmkS2JASUNIJKVLYkBmnaxfhEtiQGlxw6tCS2JAw/UoXI9KYkDD9Shcj0piQA8qdDYOTGJASzIfxg5MYkCRuHSCoEtiQNu8dGvDSmJA",
          "dtype": "f8"
         },
         "yaxis": "y4"
        },
        {
         "line": {
          "color": "orange",
          "dash": "dash"
         },
         "mode": "lines",
         "name": "BB_Lower",
         "showlegend": false,
         "type": "scatter",
         "x": [
          "2025-04-21T18:45:45.000000000",
          "2025-04-21T18:45:59.000000000",
          "2025-04-21T18:46:06.000000000",
          "2025-04-21T18:46:17.000000000",
          "2025-04-21T18:46:31.000000000",
          "2025-04-21T18:46:39.000000000",
          "2025-04-21T18:46:46.000000000",
          "2025-04-21T18:47:00.000000000",
          "2025-04-21T18:47:08.000000000",
          "2025-04-21T18:47:21.000000000",
          "2025-04-21T18:47:28.000000000",
          "2025-04-21T18:47:41.000000000",
          "2025-04-21T18:47:50.000000000",
          "2025-04-21T18:47:56.000000000",
          "2025-04-21T18:48:11.000000000",
          "2025-04-21T18:48:24.000000000",
          "2025-04-21T18:48:32.000000000",
          "2025-04-21T18:48:40.000000000"
         ],
         "xaxis": "x4",
         "y": {
          "bdata": "5h8f51mvZEDmHx/nWa9kQOYfH+dZr2RA5h8f51mvZEAzMzMzM0tiQDMzMzMzS2JAMzMzMzNLYkAzMzMzM0tiQI63mON/SmJAkYuvLz5KYkCu5RNrHUpiQOPFxZUdSmJAw/UoXI9KYkDD9Shcj0piQAHOiPozSGJAS9KI41ZHYkCPWN6f6EZiQMtgiS/pRmJA",
          "dtype": "f8"
         },
         "yaxis": "y4"
        },
        {
         "fill": "toself",
         "fillcolor": "rgba(173, 216, 230, 0.2)",
         "hoverinfo": "skip",
         "line": {
          "color": "rgba(255,255,255,0)"
         },
         "showlegend": false,
         "type": "scatter",
         "x": [
          "2025-04-21T18:45:45",
          "2025-04-21T18:45:59",
          "2025-04-21T18:46:06",
          "2025-04-21T18:46:17",
          "2025-04-21T18:46:31",
          "2025-04-21T18:46:39",
          "2025-04-21T18:46:46",
          "2025-04-21T18:47:00",
          "2025-04-21T18:47:08",
          "2025-04-21T18:47:21",
          "2025-04-21T18:47:28",
          "2025-04-21T18:47:41",
          "2025-04-21T18:47:50",
          "2025-04-21T18:47:56",
          "2025-04-21T18:48:11",
          "2025-04-21T18:48:24",
          "2025-04-21T18:48:32",
          "2025-04-21T18:48:40",
          "2025-04-21T18:48:40",
          "2025-04-21T18:48:32",
          "2025-04-21T18:48:24",
          "2025-04-21T18:48:11",
          "2025-04-21T18:47:56",
          "2025-04-21T18:47:50",
          "2025-04-21T18:47:41",
          "2025-04-21T18:47:28",
          "2025-04-21T18:47:21",
          "2025-04-21T18:47:08",
          "2025-04-21T18:47:00",
          "2025-04-21T18:46:46",
          "2025-04-21T18:46:39",
          "2025-04-21T18:46:31",
          "2025-04-21T18:46:17",
          "2025-04-21T18:46:06",
          "2025-04-21T18:45:59",
          "2025-04-21T18:45:45"
         ],
         "xaxis": "x4",
         "y": [
          165.7122755348298,
          165.7122755348298,
          165.7122755348298,
          165.7122755348298,
          146.35,
          146.35,
          146.35,
          146.35,
          146.36388854382,
          146.3639089023002,
          146.35990890230022,
          146.35188854382002,
          146.33,
          146.33,
          146.3767349499544,
          146.37680345624025,
          146.3633434562403,
          146.33635494995437,
          146.21596505004558,
          146.21589654375973,
          146.22935654375974,
          146.25634505004567,
          146.33,
          146.33,
          146.31611145617998,
          146.31609109769983,
          146.32009109769982,
          146.32811145618,
          146.35,
          146.35,
          146.35,
          146.35,
          165.47972446517014,
          165.47972446517014,
          165.47972446517014,
          165.47972446517014
         ],
         "yaxis": "y4"
        },
        {
         "line": {
          "color": "black"
         },
         "mode": "lines",
         "name": "BB_Middle",
         "showlegend": false,
         "type": "scatter",
         "x": [
          "2025-04-21T18:45:45.000000000",
          "2025-04-21T18:45:59.000000000",
          "2025-04-21T18:46:08.000000000",
          "2025-04-21T18:46:16.000000000",
          "2025-04-21T18:46:31.000000000",
          "2025-04-21T18:46:39.000000000",
          "2025-04-21T18:46:48.000000000",
          "2025-04-21T18:47:00.000000000",
          "2025-04-21T18:47:08.000000000",
          "2025-04-21T18:47:21.000000000",
          "2025-04-21T18:47:25.000000000",
          "2025-04-21T18:47:39.000000000",
          "2025-04-21T18:47:51.000000000",
          "2025-04-21T18:48:04.000000000",
          "2025-04-21T18:48:06.000000000",
          "2025-04-21T18:48:23.000000000",
          "2025-04-21T18:48:31.000000000",
          "2025-04-21T18:48:33.000000000"
         ],
         "xaxis": "x5",
         "y": {
          "bdata": "0w5/TdZIYkDTDn9N1khiQNMOf03WSGJA0w5/TdZIYkCtHFpkOzV+QObQItv5Nn5AH4XrUbg4fkAfhetRuDh+QOOlm8QgOH5AqMZLN4k3fkBt5/up8TZ+QDIIrBxaNn5A9ihcj8I1fkB9PzVeujN+QANWDi2yMX5Ai2zn+6kvfkATg8DKoS1+QJqZmZmZK35A",
          "dtype": "f8"
         },
         "yaxis": "y5"
        },
        {
         "line": {
          "color": "blue",
          "dash": "dash"
         },
         "mode": "lines",
         "name": "BB_Upper",
         "showlegend": false,
         "type": "scatter",
         "x": [
          "2025-04-21T18:45:45.000000000",
          "2025-04-21T18:45:59.000000000",
          "2025-04-21T18:46:08.000000000",
          "2025-04-21T18:46:16.000000000",
          "2025-04-21T18:46:31.000000000",
          "2025-04-21T18:46:39.000000000",
          "2025-04-21T18:46:48.000000000",
          "2025-04-21T18:47:00.000000000",
          "2025-04-21T18:47:08.000000000",
          "2025-04-21T18:47:21.000000000",
          "2025-04-21T18:47:25.000000000",
          "2025-04-21T18:47:39.000000000",
          "2025-04-21T18:47:51.000000000",
          "2025-04-21T18:48:04.000000000",
          "2025-04-21T18:48:06.000000000",
          "2025-04-21T18:48:23.000000000",
          "2025-04-21T18:48:31.000000000",
          "2025-04-21T18:48:33.000000000"
         ],
         "xaxis": "x5",
         "y": {
          "bdata": "27x0a8NKYkDbvHRrw0piQNu8dGvDSmJA27x0a8NKYkBHgKrGyD5+QFvx8oDGPn5AH4XrUbg4fkAfhetRuDh+QIBCdofGOn5Af+/sTMc6fkBEEJ2/Lzp+QM6kht//OH5A9ihcj8I1fkDkwMK80Dx+QEmIimLTPH5A0Z5jMcs6fkB6BE4puDZ+QJqZmZmZK35A",
          "dtype": "f8"
         },
         "yaxis": "y5"
        },
        {
         "line": {
          "color": "orange",
          "dash": "dash"
         },
         "mode": "lines",
         "name": "BB_Lower",
         "showlegend": false,
         "type": "scatter",
         "x": [
          "2025-04-21T18:45:45.000000000",
          "2025-04-21T18:45:59.000000000",
          "2025-04-21T18:46:08.000000000",
          "2025-04-21T18:46:16.000000000",
          "2025-04-21T18:46:31.000000000",
          "2025-04-21T18:46:39.000000000",
          "2025-04-21T18:46:48.000000000",
          "2025-04-21T18:47:00.000000000",
          "2025-04-21T18:47:08.000000000",
          "2025-04-21T18:47:21.000000000",
          "2025-04-21T18:47:25.000000000",
          "2025-04-21T18:47:39.000000000",
          "2025-04-21T18:47:51.000000000",
          "2025-04-21T18:48:04.000000000",
          "2025-04-21T18:48:06.000000000",
          "2025-04-21T18:48:23.000000000",
          "2025-04-21T18:48:31.000000000",
          "2025-04-21T18:48:33.000000000"
         ],
         "xaxis": "x5",
         "y": {
          "bdata": "y2CJL+lGYkDLYIkv6UZiQMtgiS/pRmJAy2CJL+lGYkATuQkCrit+QHGwUjUtL35AH4XrUbg4fkAfhetRuDh+QEYJwQF7NX5A0Z2qIUs0fkCWvlqUszN+QJZr0Vm0M35A9ihcj8I1fkAWvqf/oyp+QL0jkveQJn5ARTprxogkfkCsATNsiyR+QJqZmZmZK35A",
          "dtype": "f8"
         },
         "yaxis": "y5"
        },
        {
         "fill": "toself",
         "fillcolor": "rgba(173, 216, 230, 0.2)",
         "hoverinfo": "skip",
         "line": {
          "color": "rgba(255,255,255,0)"
         },
         "showlegend": false,
         "type": "scatter",
         "x": [
          "2025-04-21T18:45:45",
          "2025-04-21T18:45:59",
          "2025-04-21T18:46:08",
          "2025-04-21T18:46:16",
          "2025-04-21T18:46:31",
          "2025-04-21T18:46:39",
          "2025-04-21T18:46:48",
          "2025-04-21T18:47:00",
          "2025-04-21T18:47:08",
          "2025-04-21T18:47:21",
          "2025-04-21T18:47:25",
          "2025-04-21T18:47:39",
          "2025-04-21T18:47:51",
          "2025-04-21T18:48:04",
          "2025-04-21T18:48:06",
          "2025-04-21T18:48:23",
          "2025-04-21T18:48:31",
          "2025-04-21T18:48:33",
          "2025-04-21T18:48:33",
          "2025-04-21T18:48:31",
          "2025-04-21T18:48:23",
          "2025-04-21T18:48:06",
          "2025-04-21T18:48:04",
          "2025-04-21T18:47:51",
          "2025-04-21T18:47:39",
          "2025-04-21T18:47:25",
          "2025-04-21T18:47:21",
          "2025-04-21T18:47:08",
          "2025-04-21T18:47:00",
          "2025-04-21T18:46:48",
          "2025-04-21T18:46:39",
          "2025-04-21T18:46:31",
          "2025-04-21T18:46:16",
          "2025-04-21T18:46:08",
          "2025-04-21T18:45:59",
          "2025-04-21T18:45:45"
         ],
         "xaxis": "x5",
         "y": [
          146.33635494995437,
          146.33635494995437,
          146.33635494995437,
          146.33635494995437,
          483.9240175876807,
          483.92346281909494,
          483.545,
          483.545,
          483.6734690303347,
          483.6736573462767,
          483.6366573462767,
          483.5624690303347,
          483.36,
          483.80096126628473,
          483.8016076480313,
          483.6746076480313,
          483.41996126628476,
          482.725,
          482.725,
          482.2840387337153,
          482.28339235196864,
          482.4103923519686,
          482.6650387337153,
          483.36,
          483.2315309696654,
          483.23134265372335,
          483.2683426537233,
          483.3425309696653,
          483.545,
          483.545,
          482.94853718090513,
          482.72998241231943,
          146.21596505004558,
          146.21596505004558,
          146.21596505004558,
          146.21596505004558
         ],
         "yaxis": "y5"
        },
        {
         "line": {
          "color": "black"
         },
         "mode": "lines",
         "name": "BB_Middle",
         "showlegend": false,
         "type": "scatter",
         "x": [
          "2025-04-21T18:45:45.000000000",
          "2025-04-21T18:46:00.000000000",
          "2025-04-21T18:46:09.000000000",
          "2025-04-21T18:46:18.000000000",
          "2025-04-21T18:46:31.000000000",
          "2025-04-21T18:46:39.000000000",
          "2025-04-21T18:46:48.000000000",
          "2025-04-21T18:47:00.000000000",
          "2025-04-21T18:47:09.000000000",
          "2025-04-21T18:47:22.000000000",
          "2025-04-21T18:47:30.000000000",
          "2025-04-21T18:47:43.000000000",
          "2025-04-21T18:47:51.000000000",
          "2025-04-21T18:48:04.000000000",
          "2025-04-21T18:48:12.000000000",
          "2025-04-21T18:48:24.000000000",
          "2025-04-21T18:48:32.000000000",
          "2025-04-21T18:48:40.000000000"
         ],
         "xaxis": "x6",
         "y": {
          "bdata": "bVZ9rrbOV0BtVn2uts5XQG1Wfa62zldAbVZ9rrbOV0AIsTOFzv9rQEbOwp52/mtAhetRuB79a0CF61G4Hv1rQAJqatla/WtAfeiC+pb9a0D4Zpsb0/1rQHXlszwP/mtA8WPMXUv+a0Dqt68D5/xrQOILk6mC+2tA2F92Tx76a0DQs1n1ufhrQMgHPZtV92tA",
          "dtype": "f8"
         },
         "yaxis": "y6"
        },
        {
         "line": {
          "color": "blue",
          "dash": "dash"
         },
         "mode": "lines",
         "name": "BB_Upper",
         "showlegend": false,
         "type": "scatter",
         "x": [
          "2025-04-21T18:45:45.000000000",
          "2025-04-21T18:46:00.000000000",
          "2025-04-21T18:46:09.000000000",
          "2025-04-21T18:46:18.000000000",
          "2025-04-21T18:46:31.000000000",
          "2025-04-21T18:46:39.000000000",
          "2025-04-21T18:46:48.000000000",
          "2025-04-21T18:47:00.000000000",
          "2025-04-21T18:47:09.000000000",
          "2025-04-21T18:47:22.000000000",
          "2025-04-21T18:47:30.000000000",
          "2025-04-21T18:47:43.000000000",
          "2025-04-21T18:47:51.000000000",
          "2025-04-21T18:48:04.000000000",
          "2025-04-21T18:48:12.000000000",
          "2025-04-21T18:48:24.000000000",
          "2025-04-21T18:48:32.000000000",
          "2025-04-21T18:48:40.000000000"
         ],
         "xaxis": "x6",
         "y": {
          "bdata": "bVZ9rrbOV0BtVn2uts5XQG1Wfa62zldAbVZ9rrbOV0CNMpojKgdsQAhho5Z4BGxAhetRuB79a0CF61G4Hv1rQCCtbsFn/mtAkfz3UeD+a0AMexBzHP9rQJMouCQc/2tA8WPMXUv+a0CKDEOrIANsQN5ykXsiA2xA1cZ0Ib4BbEBxCO2c8/5rQMgHPZtV92tA",
          "dtype": "f8"
         },
         "yaxis": "y6"
        },
        {
         "line": {
          "color": "orange",
          "dash": "dash"
         },
         "mode": "lines",
         "name": "BB_Lower",
         "showlegend": false,
         "type": "scatter",
         "x": [
          "2025-04-21T18:45:45.000000000",
          "2025-04-21T18:46:00.000000000",
          "2025-04-21T18:46:09.000000000",
          "2025-04-21T18:46:18.000000000",
          "2025-04-21T18:46:31.000000000",
          "2025-04-21T18:46:39.000000000",
          "2025-04-21T18:46:48.000000000",
          "2025-04-21T18:47:00.000000000",
          "2025-04-21T18:47:09.000000000",
          "2025-04-21T18:47:22.000000000",
          "2025-04-21T18:47:30.000000000",
          "2025-04-21T18:47:43.000000000",
          "2025-04-21T18:47:51.000000000",
          "2025-04-21T18:48:04.000000000",
          "2025-04-21T18:48:12.000000000",
          "2025-04-21T18:48:24.000000000",
          "2025-04-21T18:48:32.000000000",
          "2025-04-21T18:48:40.000000000"
         ],
         "xaxis": "x6",
         "y": {
          "bdata": "bVZ9rrbOV0BtVn2uts5XQG1Wfa62zldAbVZ9rrbOV0CDL83mcvhrQIQ74qZ0+GtAhetRuB79a0CF61G4Hv1rQOQmZvFN/GtAadQNo038a0DkUibEifxrQFeir1QC/WtA8WPMXUv+a0BKYxxcrfZrQOaklNfi82tA2/h3fX7ya0AvX8ZNgPJrQMgHPZtV92tA",
          "dtype": "f8"
         },
         "yaxis": "y6"
        },
        {
         "fill": "toself",
         "fillcolor": "rgba(173, 216, 230, 0.2)",
         "hoverinfo": "skip",
         "line": {
          "color": "rgba(255,255,255,0)"
         },
         "showlegend": false,
         "type": "scatter",
         "x": [
          "2025-04-21T18:45:45",
          "2025-04-21T18:46:00",
          "2025-04-21T18:46:09",
          "2025-04-21T18:46:18",
          "2025-04-21T18:46:31",
          "2025-04-21T18:46:39",
          "2025-04-21T18:46:48",
          "2025-04-21T18:47:00",
          "2025-04-21T18:47:09",
          "2025-04-21T18:47:22",
          "2025-04-21T18:47:30",
          "2025-04-21T18:47:43",
          "2025-04-21T18:47:51",
          "2025-04-21T18:48:04",
          "2025-04-21T18:48:12",
          "2025-04-21T18:48:24",
          "2025-04-21T18:48:32",
          "2025-04-21T18:48:40",
          "2025-04-21T18:48:40",
          "2025-04-21T18:48:32",
          "2025-04-21T18:48:24",
          "2025-04-21T18:48:12",
          "2025-04-21T18:48:04",
          "2025-04-21T18:47:51",
          "2025-04-21T18:47:43",
          "2025-04-21T18:47:30",
          "2025-04-21T18:47:22",
          "2025-04-21T18:47:09",
          "2025-04-21T18:47:00",
          "2025-04-21T18:46:48",
          "2025-04-21T18:46:39",
          "2025-04-21T18:46:31",
          "2025-04-21T18:46:18",
          "2025-04-21T18:46:09",
          "2025-04-21T18:46:00",
          "2025-04-21T18:45:45"
         ],
         "xaxis": "x6",
         "y": [
          95.2299,
          95.2299,
          95.2299,
          95.2299,
          224.2238939296407,
          224.13972026739089,
          223.91,
          223.91,
          223.95016547790965,
          223.96488283572083,
          223.9722228357208,
          223.97218547790962,
          223.9467,
          224.0977379140425,
          224.09795931251477,
          224.05445931251475,
          223.9672379140425,
          223.7292,
          223.7292,
          223.57816208595747,
          223.5779406874852,
          223.6214406874853,
          223.70866208595754,
          223.9467,
          223.90653452209037,
          223.89181716427913,
          223.88447716427916,
          223.8845145220904,
          223.91,
          223.91,
          223.7642397326091,
          223.76402607035934,
          95.2299,
          95.2299,
          95.2299,
          95.2299
         ],
         "yaxis": "y6"
        },
        {
         "line": {
          "color": "black"
         },
         "mode": "lines",
         "name": "BB_Middle",
         "showlegend": false,
         "type": "scatter",
         "x": [
          "2025-04-21T18:45:45.000000000",
          "2025-04-21T18:45:59.000000000",
          "2025-04-21T18:46:09.000000000",
          "2025-04-21T18:46:17.000000000",
          "2025-04-21T18:46:31.000000000",
          "2025-04-21T18:46:39.000000000",
          "2025-04-21T18:46:48.000000000",
          "2025-04-21T18:47:00.000000000",
          "2025-04-21T18:47:08.000000000",
          "2025-04-21T18:47:21.000000000",
          "2025-04-21T18:47:30.000000000",
          "2025-04-21T18:47:43.000000000",
          "2025-04-21T18:47:51.000000000",
          "2025-04-21T18:48:02.000000000",
          "2025-04-21T18:48:12.000000000",
          "2025-04-21T18:48:24.000000000",
          "2025-04-21T18:48:32.000000000",
          "2025-04-21T18:48:40.000000000"
         ],
         "xaxis": "x7",
         "y": {
          "bdata": "Q4ts5/tFdkBDi2zn+0V2QEOLbOf7RXZAQ4ts5/tFdkBOYhBYOdxXQKJFtvP93FdA9ihcj8LdV0D2KFyPwt1XQE7udygK3FdAprOTwVHaV0D/eK9amdhXQFg+y/Pg1ldAsAPnjCjVV0DWrZ6T3tNXQPtXVpqU0ldAIgIOoUrRV0BHrMWnANBXQG1Wfa62zldA",
          "dtype": "f8"
         },
         "yaxis": "y7"
        },
        {
         "line": {
          "color": "blue",
          "dash": "dash"
         },
         "mode": "lines",
         "name": "BB_Upper",
         "showlegend": false,
         "type": "scatter",
         "x": [
          "2025-04-21T18:45:45.000000000",
          "2025-04-21T18:45:59.000000000",
          "2025-04-21T18:46:09.000000000",
          "2025-04-21T18:46:17.000000000",
          "2025-04-21T18:46:31.000000000",
          "2025-04-21T18:46:39.000000000",
          "2025-04-21T18:46:48.000000000",
          "2025-04-21T18:47:00.000000000",
          "2025-04-21T18:47:08.000000000",
          "2025-04-21T18:47:21.000000000",
          "2025-04-21T18:47:30.000000000",
          "2025-04-21T18:47:43.000000000",
          "2025-04-21T18:47:51.000000000",
          "2025-04-21T18:48:02.000000000",
          "2025-04-21T18:48:12.000000000",
          "2025-04-21T18:48:24.000000000",
          "2025-04-21T18:48:32.000000000",
          "2025-04-21T18:48:40.000000000"
         ],
         "xaxis": "x7",
         "y": {
          "bdata": "9saJ8VdHdkD2xonxV0d2QPbGifFXR3ZA9saJ8VdHdkB4ido1buBXQDBIrzVt4FdA9ihcj8LdV0D2KFyPwt1XQIrfAbK741dAiWfT773jV0DhLO+IBeJXQJEvVX2S3ldAsAPnjCjVV0BQv59DotlXQNOYj/Gj2VdA+UJH+FnYV0C6vcZXxNVXQG1Wfa62zldA",
          "dtype": "f8"
         },
         "yaxis": "y7"
        },
        {
         "line": {
          "color": "orange",
          "dash": "dash"
         },
         "mode": "lines",
         "name": "BB_Lower",
         "showlegend": false,
         "type": "scatter",
         "x": [
          "2025-04-21T18:45:45.000000000",
          "2025-04-21T18:45:59.000000000",
          "2025-04-21T18:46:09.000000000",
          "2025-04-21T18:46:17.000000000",
          "2025-04-21T18:46:31.000000000",
          "2025-04-21T18:46:39.000000000",
          "2025-04-21T18:46:48.000000000",
          "2025-04-21T18:47:00.000000000",
          "2025-04-21T18:47:08.000000000",
          "2025-04-21T18:47:21.000000000",
          "2025-04-21T18:47:30.000000000",
          "2025-04-21T18:47:43.000000000",
          "2025-04-21T18:47:51.000000000",
          "2025-04-21T18:48:02.000000000",
          "2025-04-21T18:48:12.000000000",
          "2025-04-21T18:48:24.000000000",
          "2025-04-21T18:48:32.000000000",
          "2025-04-21T18:48:40.000000000"
         ],
         "xaxis": "x7",
         "y": {
          "bdata": "kE9P3Z9EdkCQT0/dn0R2QJBPT92fRHZAkE9P3Z9EdkAkO0Z6BNhXQBRDvbGO2VdA9ihcj8LdV0D2KFyPwt1XQBL97Z5Y1FdAw/9Tk+XQV0AdxW8sLc9XQB9NQWovz1dAsAPnjCjVV0BcnJ3jGs5XQCMXHUOFy1dAS8HUSTvKV0DUmsT3PMpXQG1Wfa62zldA",
          "dtype": "f8"
         },
         "yaxis": "y7"
        },
        {
         "fill": "toself",
         "fillcolor": "rgba(173, 216, 230, 0.2)",
         "hoverinfo": "skip",
         "line": {
          "color": "rgba(255,255,255,0)"
         },
         "showlegend": false,
         "type": "scatter",
         "x": [
          "2025-04-21T18:45:45",
          "2025-04-21T18:45:59",
          "2025-04-21T18:46:09",
          "2025-04-21T18:46:17",
          "2025-04-21T18:46:31",
          "2025-04-21T18:46:39",
          "2025-04-21T18:46:48",
          "2025-04-21T18:47:00",
          "2025-04-21T18:47:08",
          "2025-04-21T18:47:21",
          "2025-04-21T18:47:30",
          "2025-04-21T18:47:43",
          "2025-04-21T18:47:51",
          "2025-04-21T18:48:02",
          "2025-04-21T18:48:12",
          "2025-04-21T18:48:24",
          "2025-04-21T18:48:32",
          "2025-04-21T18:48:40",
          "2025-04-21T18:48:40",
          "2025-04-21T18:48:32",
          "2025-04-21T18:48:24",
          "2025-04-21T18:48:12",
          "2025-04-21T18:48:02",
          "2025-04-21T18:47:51",
          "2025-04-21T18:47:43",
          "2025-04-21T18:47:30",
          "2025-04-21T18:47:21",
          "2025-04-21T18:47:08",
          "2025-04-21T18:47:00",
          "2025-04-21T18:46:48",
          "2025-04-21T18:46:39",
          "2025-04-21T18:46:31",
          "2025-04-21T18:46:17",
          "2025-04-21T18:46:09",
          "2025-04-21T18:45:59",
          "2025-04-21T18:45:45"
         ],
         "xaxis": "x7",
         "y": [
          356.4589705831453,
          356.4589705831453,
          356.4589705831453,
          356.4589705831453,
          95.50672670690062,
          95.50666563146001,
          95.465,
          95.465,
          95.55833101447038,
          95.55846782345738,
          95.53158782345737,
          95.47769101447035,
          95.3306,
          95.40052881813358,
          95.40063132308141,
          95.38049132308142,
          95.34010881813347,
          95.2299,
          95.2299,
          95.15997118186652,
          95.1598686769186,
          95.18000867691858,
          95.22039118186643,
          95.3306,
          95.23726898552967,
          95.23713217654263,
          95.26401217654261,
          95.31790898552961,
          95.465,
          95.465,
          95.39933436854,
          95.37527329309938,
          356.28902941685465,
          356.28902941685465,
          356.28902941685465,
          356.28902941685465
         ],
         "yaxis": "y7"
        }
       ],
       "layout": {
        "annotations": [
         {
          "font": {
           "size": 16
          },
          "showarrow": false,
          "text": "AAPL",
          "x": 0.14444444444444446,
          "xanchor": "center",
          "xref": "paper",
          "y": 1,
          "yanchor": "bottom",
          "yref": "paper"
         },
         {
          "font": {
           "size": 16
          },
          "showarrow": false,
          "text": "MSFT",
          "x": 0.5,
          "xanchor": "center",
          "xref": "paper",
          "y": 1,
          "yanchor": "bottom",
          "yref": "paper"
         },
         {
          "font": {
           "size": 16
          },
          "showarrow": false,
          "text": "AMZN",
          "x": 0.8555555555555556,
          "xanchor": "center",
          "xref": "paper",
          "y": 1,
          "yanchor": "bottom",
          "yref": "paper"
         },
         {
          "font": {
           "size": 16
          },
          "showarrow": false,
          "text": "GOOGL",
          "x": 0.14444444444444446,
          "xanchor": "center",
          "xref": "paper",
          "y": 0.6111111111111112,
          "yanchor": "bottom",
          "yref": "paper"
         },
         {
          "font": {
           "size": 16
          },
          "showarrow": false,
          "text": "META",
          "x": 0.5,
          "xanchor": "center",
          "xref": "paper",
          "y": 0.6111111111111112,
          "yanchor": "bottom",
          "yref": "paper"
         },
         {
          "font": {
           "size": 16
          },
          "showarrow": false,
          "text": "TSLA",
          "x": 0.8555555555555556,
          "xanchor": "center",
          "xref": "paper",
          "y": 0.6111111111111112,
          "yanchor": "bottom",
          "yref": "paper"
         },
         {
          "font": {
           "size": 16
          },
          "showarrow": false,
          "text": "NVDA",
          "x": 0.14444444444444446,
          "xanchor": "center",
          "xref": "paper",
          "y": 0.22222222222222224,
          "yanchor": "bottom",
          "yref": "paper"
         }
        ],
        "height": 1000,
        "template": {
         "data": {
          "bar": [
           {
            "error_x": {
             "color": "#2a3f5f"
            },
            "error_y": {
             "color": "#2a3f5f"
            },
            "marker": {
             "line": {
              "color": "white",
              "width": 0.5
             },
             "pattern": {
              "fillmode": "overlay",
              "size": 10,
              "solidity": 0.2
             }
            },
            "type": "bar"
           }
          ],
          "barpolar": [
           {
            "marker": {
             "line": {
              "color": "white",
              "width": 0.5
             },
             "pattern": {
              "fillmode": "overlay",
              "size": 10,
              "solidity": 0.2
             }
            },
            "type": "barpolar"
           }
          ],
          "carpet": [
           {
            "aaxis": {
             "endlinecolor": "#2a3f5f",
             "gridcolor": "#C8D4E3",
             "linecolor": "#C8D4E3",
             "minorgridcolor": "#C8D4E3",
             "startlinecolor": "#2a3f5f"
            },
            "baxis": {
             "endlinecolor": "#2a3f5f",
             "gridcolor": "#C8D4E3",
             "linecolor": "#C8D4E3",
             "minorgridcolor": "#C8D4E3",
             "startlinecolor": "#2a3f5f"
            },
            "type": "carpet"
           }
          ],
          "choropleth": [
           {
            "colorbar": {
             "outlinewidth": 0,
             "ticks": ""
            },
            "type": "choropleth"
           }
          ],
          "contour": [
           {
            "colorbar": {
             "outlinewidth": 0,
             "ticks": ""
            },
            "colorscale": [
             [
              0,
              "#0d0887"
             ],
             [
              0.1111111111111111,
              "#46039f"
             ],
             [
              0.2222222222222222,
              "#7201a8"
             ],
             [
              0.3333333333333333,
              "#9c179e"
             ],
             [
              0.4444444444444444,
              "#bd3786"
             ],
             [
              0.5555555555555556,
              "#d8576b"
             ],
             [
              0.6666666666666666,
              "#ed7953"
             ],
             [
              0.7777777777777778,
              "#fb9f3a"
             ],
             [
              0.8888888888888888,
              "#fdca26"
             ],
             [
              1,
              "#f0f921"
             ]
            ],
            "type": "contour"
           }
          ],
          "contourcarpet": [
           {
            "colorbar": {
             "outlinewidth": 0,
             "ticks": ""
            },
            "type": "contourcarpet"
           }
          ],
          "heatmap": [
           {
            "colorbar": {
             "outlinewidth": 0,
             "ticks": ""
            },
            "colorscale": [
             [
              0,
              "#0d0887"
             ],
             [
              0.1111111111111111,
              "#46039f"
             ],
             [
              0.2222222222222222,
              "#7201a8"
             ],
             [
              0.3333333333333333,
              "#9c179e"
             ],
             [
              0.4444444444444444,
              "#bd3786"
             ],
             [
              0.5555555555555556,
              "#d8576b"
             ],
             [
              0.6666666666666666,
              "#ed7953"
             ],
             [
              0.7777777777777778,
              "#fb9f3a"
             ],
             [
              0.8888888888888888,
              "#fdca26"
             ],
             [
              1,
              "#f0f921"
             ]
            ],
            "type": "heatmap"
           }
          ],
          "histogram": [
           {
            "marker": {
             "pattern": {
              "fillmode": "overlay",
              "size": 10,
              "solidity": 0.2
             }
            },
            "type": "histogram"
           }
          ],
          "histogram2d": [
           {
            "colorbar": {
             "outlinewidth": 0,
             "ticks": ""
            },
            "colorscale": [
             [
              0,
              "#0d0887"
             ],
             [
              0.1111111111111111,
              "#46039f"
             ],
             [
              0.2222222222222222,
              "#7201a8"
             ],
             [
              0.3333333333333333,
              "#9c179e"
             ],
             [
              0.4444444444444444,
              "#bd3786"
             ],
             [
              0.5555555555555556,
              "#d8576b"
             ],
             [
              0.6666666666666666,
              "#ed7953"
             ],
             [
              0.7777777777777778,
              "#fb9f3a"
             ],
             [
              0.8888888888888888,
              "#fdca26"
             ],
             [
              1,
              "#f0f921"
             ]
            ],
            "type": "histogram2d"
           }
          ],
          "histogram2dcontour": [
           {
            "colorbar": {
             "outlinewidth": 0,
             "ticks": ""
            },
            "colorscale": [
             [
              0,
              "#0d0887"
             ],
             [
              0.1111111111111111,
              "#46039f"
             ],
             [
              0.2222222222222222,
              "#7201a8"
             ],
             [
              0.3333333333333333,
              "#9c179e"
             ],
             [
              0.4444444444444444,
              "#bd3786"
             ],
             [
              0.5555555555555556,
              "#d8576b"
             ],
             [
              0.6666666666666666,
              "#ed7953"
             ],
             [
              0.7777777777777778,
              "#fb9f3a"
             ],
             [
              0.8888888888888888,
              "#fdca26"
             ],
             [
              1,
              "#f0f921"
             ]
            ],
            "type": "histogram2dcontour"
           }
          ],
          "mesh3d": [
           {
            "colorbar": {
             "outlinewidth": 0,
             "ticks": ""
            },
            "type": "mesh3d"
           }
          ],
          "parcoords": [
           {
            "line": {
             "colorbar": {
              "outlinewidth": 0,
              "ticks": ""
             }
            },
            "type": "parcoords"
           }
          ],
          "pie": [
           {
            "automargin": true,
            "type": "pie"
           }
          ],
          "scatter": [
           {
            "fillpattern": {
             "fillmode": "overlay",
             "size": 10,
             "solidity": 0.2
            },
            "type": "scatter"
           }
          ],
          "scatter3d": [
           {
            "line": {
             "colorbar": {
              "outlinewidth": 0,
              "ticks": ""
             }
            },
            "marker": {
             "colorbar": {
              "outlinewidth": 0,
              "ticks": ""
             }
            },
            "type": "scatter3d"
           }
          ],
          "scattercarpet": [
           {
            "marker": {
             "colorbar": {
              "outlinewidth": 0,
              "ticks": ""
             }
            },
            "type": "scattercarpet"
           }
          ],
          "scattergeo": [
           {
            "marker": {
             "colorbar": {
              "outlinewidth": 0,
              "ticks": ""
             }
            },
            "type": "scattergeo"
           }
          ],
          "scattergl": [
           {
            "marker": {
             "colorbar": {
              "outlinewidth": 0,
              "ticks": ""
             }
            },
            "type": "scattergl"
           }
          ],
          "scattermap": [
           {
            "marker": {
             "colorbar": {
              "outlinewidth": 0,
              "ticks": ""
             }
            },
            "type": "scattermap"
           }
          ],
          "scattermapbox": [
           {
            "marker": {
             "colorbar": {
              "outlinewidth": 0,
              "ticks": ""
             }
            },
            "type": "scattermapbox"
           }
          ],
          "scatterpolar": [
           {
            "marker": {
             "colorbar": {
              "outlinewidth": 0,
              "ticks": ""
             }
            },
            "type": "scatterpolar"
           }
          ],
          "scatterpolargl": [
           {
            "marker": {
             "colorbar": {
              "outlinewidth": 0,
              "ticks": ""
             }
            },
            "type": "scatterpolargl"
           }
          ],
          "scatterternary": [
           {
            "marker": {
             "colorbar": {
              "outlinewidth": 0,
              "ticks": ""
             }
            },
            "type": "scatterternary"
           }
          ],
          "surface": [
           {
            "colorbar": {
             "outlinewidth": 0,
             "ticks": ""
            },
            "colorscale": [
             [
              0,
              "#0d0887"
             ],
             [
              0.1111111111111111,
              "#46039f"
             ],
             [
              0.2222222222222222,
              "#7201a8"
             ],
             [
              0.3333333333333333,
              "#9c179e"
             ],
             [
              0.4444444444444444,
              "#bd3786"
             ],
             [
              0.5555555555555556,
              "#d8576b"
             ],
             [
              0.6666666666666666,
              "#ed7953"
             ],
             [
              0.7777777777777778,
              "#fb9f3a"
             ],
             [
              0.8888888888888888,
              "#fdca26"
             ],
             [
              1,
              "#f0f921"
             ]
            ],
            "type": "surface"
           }
          ],
          "table": [
           {
            "cells": {
             "fill": {
              "color": "#EBF0F8"
             },
             "line": {
              "color": "white"
             }
            },
            "header": {
             "fill": {
              "color": "#C8D4E3"
             },
             "line": {
              "color": "white"
             }
            },
            "type": "table"
           }
          ]
         },
         "layout": {
          "annotationdefaults": {
           "arrowcolor": "#2a3f5f",
           "arrowhead": 0,
           "arrowwidth": 1
          },
          "autotypenumbers": "strict",
          "coloraxis": {
           "colorbar": {
            "outlinewidth": 0,
            "ticks": ""
           }
          },
          "colorscale": {
           "diverging": [
            [
             0,
             "#8e0152"
            ],
            [
             0.1,
             "#c51b7d"
            ],
            [
             0.2,
             "#de77ae"
            ],
            [
             0.3,
             "#f1b6da"
            ],
            [
             0.4,
             "#fde0ef"
            ],
            [
             0.5,
             "#f7f7f7"
            ],
            [
             0.6,
             "#e6f5d0"
            ],
            [
             0.7,
             "#b8e186"
            ],
            [
             0.8,
             "#7fbc41"
            ],
            [
             0.9,
             "#4d9221"
            ],
            [
             1,
             "#276419"
            ]
           ],
           "sequential": [
            [
             0,
             "#0d0887"
            ],
            [
             0.1111111111111111,
             "#46039f"
            ],
            [
             0.2222222222222222,
             "#7201a8"
            ],
            [
             0.3333333333333333,
             "#9c179e"
            ],
            [
             0.4444444444444444,
             "#bd3786"
            ],
            [
             0.5555555555555556,
             "#d8576b"
            ],
            [
             0.6666666666666666,
             "#ed7953"
            ],
            [
             0.7777777777777778,
             "#fb9f3a"
            ],
            [
             0.8888888888888888,
             "#fdca26"
            ],
            [
             1,
             "#f0f921"
            ]
           ],
           "sequentialminus": [
            [
             0,
             "#0d0887"
            ],
            [
             0.1111111111111111,
             "#46039f"
            ],
            [
             0.2222222222222222,
             "#7201a8"
            ],
            [
             0.3333333333333333,
             "#9c179e"
            ],
            [
             0.4444444444444444,
             "#bd3786"
            ],
            [
             0.5555555555555556,
             "#d8576b"
            ],
            [
             0.6666666666666666,
             "#ed7953"
            ],
            [
             0.7777777777777778,
             "#fb9f3a"
            ],
            [
             0.8888888888888888,
             "#fdca26"
            ],
            [
             1,
             "#f0f921"
            ]
           ]
          },
          "colorway": [
           "#636efa",
           "#EF553B",
           "#00cc96",
           "#ab63fa",
           "#FFA15A",
           "#19d3f3",
           "#FF6692",
           "#B6E880",
           "#FF97FF",
           "#FECB52"
          ],
          "font": {
           "color": "#2a3f5f"
          },
          "geo": {
           "bgcolor": "white",
           "lakecolor": "white",
           "landcolor": "white",
           "showlakes": true,
           "showland": true,
           "subunitcolor": "#C8D4E3"
          },
          "hoverlabel": {
           "align": "left"
          },
          "hovermode": "closest",
          "mapbox": {
           "style": "light"
          },
          "paper_bgcolor": "white",
          "plot_bgcolor": "white",
          "polar": {
           "angularaxis": {
            "gridcolor": "#EBF0F8",
            "linecolor": "#EBF0F8",
            "ticks": ""
           },
           "bgcolor": "white",
           "radialaxis": {
            "gridcolor": "#EBF0F8",
            "linecolor": "#EBF0F8",
            "ticks": ""
           }
          },
          "scene": {
           "xaxis": {
            "backgroundcolor": "white",
            "gridcolor": "#DFE8F3",
            "gridwidth": 2,
            "linecolor": "#EBF0F8",
            "showbackground": true,
            "ticks": "",
            "zerolinecolor": "#EBF0F8"
           },
           "yaxis": {
            "backgroundcolor": "white",
            "gridcolor": "#DFE8F3",
            "gridwidth": 2,
            "linecolor": "#EBF0F8",
            "showbackground": true,
            "ticks": "",
            "zerolinecolor": "#EBF0F8"
           },
           "zaxis": {
            "backgroundcolor": "white",
            "gridcolor": "#DFE8F3",
            "gridwidth": 2,
            "linecolor": "#EBF0F8",
            "showbackground": true,
            "ticks": "",
            "zerolinecolor": "#EBF0F8"
           }
          },
          "shapedefaults": {
           "line": {
            "color": "#2a3f5f"
           }
          },
          "ternary": {
           "aaxis": {
            "gridcolor": "#DFE8F3",
            "linecolor": "#A2B1C6",
            "ticks": ""
           },
           "baxis": {
            "gridcolor": "#DFE8F3",
            "linecolor": "#A2B1C6",
            "ticks": ""
           },
           "bgcolor": "white",
           "caxis": {
            "gridcolor": "#DFE8F3",
            "linecolor": "#A2B1C6",
            "ticks": ""
           }
          },
          "title": {
           "x": 0.05
          },
          "xaxis": {
           "automargin": true,
           "gridcolor": "#EBF0F8",
           "linecolor": "#EBF0F8",
           "ticks": "",
           "title": {
            "standoff": 15
           },
           "zerolinecolor": "#EBF0F8",
           "zerolinewidth": 2
          },
          "yaxis": {
           "automargin": true,
           "gridcolor": "#EBF0F8",
           "linecolor": "#EBF0F8",
           "ticks": "",
           "title": {
            "standoff": 15
           },
           "zerolinecolor": "#EBF0F8",
           "zerolinewidth": 2
          }
         }
        },
        "title": {
         "text": "Bollinger Bands Across Tickers (Real-Time)"
        },
        "width": 1000,
        "xaxis": {
         "anchor": "y",
         "domain": [
          0,
          0.2888888888888889
         ]
        },
        "xaxis2": {
         "anchor": "y2",
         "domain": [
          0.35555555555555557,
          0.6444444444444445
         ]
        },
        "xaxis3": {
         "anchor": "y3",
         "domain": [
          0.7111111111111111,
          1
         ]
        },
        "xaxis4": {
         "anchor": "y4",
         "domain": [
          0,
          0.2888888888888889
         ]
        },
        "xaxis5": {
         "anchor": "y5",
         "domain": [
          0.35555555555555557,
          0.6444444444444445
         ]
        },
        "xaxis6": {
         "anchor": "y6",
         "domain": [
          0.7111111111111111,
          1
         ]
        },
        "xaxis7": {
         "anchor": "y7",
         "domain": [
          0,
          0.2888888888888889
         ]
        },
        "xaxis8": {
         "anchor": "y8",
         "domain": [
          0.35555555555555557,
          0.6444444444444445
         ]
        },
        "xaxis9": {
         "anchor": "y9",
         "domain": [
          0.7111111111111111,
          1
         ]
        },
        "yaxis": {
         "anchor": "x",
         "domain": [
          0.7777777777777778,
          1
         ]
        },
        "yaxis2": {
         "anchor": "x2",
         "domain": [
          0.7777777777777778,
          1
         ]
        },
        "yaxis3": {
         "anchor": "x3",
         "domain": [
          0.7777777777777778,
          1
         ]
        },
        "yaxis4": {
         "anchor": "x4",
         "domain": [
          0.3888888888888889,
          0.6111111111111112
         ]
        },
        "yaxis5": {
         "anchor": "x5",
         "domain": [
          0.3888888888888889,
          0.6111111111111112
         ]
        },
        "yaxis6": {
         "anchor": "x6",
         "domain": [
          0.3888888888888889,
          0.6111111111111112
         ]
        },
        "yaxis7": {
         "anchor": "x7",
         "domain": [
          0,
          0.22222222222222224
         ]
        },
        "yaxis8": {
         "anchor": "x8",
         "domain": [
          0,
          0.22222222222222224
         ]
        },
        "yaxis9": {
         "anchor": "x9",
         "domain": [
          0,
          0.22222222222222224
         ]
        }
       }
      }
     },
     "metadata": {},
     "output_type": "display_data"
    }
   ],
   "source": [
    "\n",
    "# tickers\n",
    "tickers = ['AAPL', 'MSFT', 'AMZN', 'GOOGL', 'META', 'TSLA', 'NVDA']\n",
    "\n",
    "# Create subplot grid\n",
    "cols = 3\n",
    "rows = 3 \n",
    "fig = make_subplots(rows=3, cols=3, subplot_titles=[f\"{ticker}\" for ticker in tickers])\n",
    "\n",
    "#for loop to create a plot for each ticker\n",
    "for i, ticker in enumerate(tickers):\n",
    "    subset = df_cass_final[df_cass_final['ticker'] == ticker]\n",
    "    row = i // cols + 1\n",
    "    col = i % cols + 1\n",
    "#adding traces for the Bollinger Bands: BBmiddle, BBUpper, BBLower\n",
    "    fig.add_trace(go.Scatter(x=subset['date'], y=subset['BB_Middle'], mode='lines', name='BB_Middle',\n",
    "                             line=dict(color='black'), showlegend=(i == 0)), row=row, col=col)\n",
    "    fig.add_trace(go.Scatter(x=subset['date'], y=subset['BB_Upper'], mode='lines', name='BB_Upper',\n",
    "                             line=dict(color='blue', dash='dash'), showlegend=(i == 0)), row=row, col=col)\n",
    "    fig.add_trace(go.Scatter(x=subset['date'], y=subset['BB_Lower'], mode='lines', name='BB_Lower',\n",
    "                             line=dict(color='orange', dash='dash'), showlegend=(i == 0)), row=row, col=col)\n",
    "\n",
    "    # Adding a fill between trace so it looks like a regular Bollinger Band chart\n",
    "    fig.add_trace(go.Scatter(\n",
    "        x=subset['date'].tolist() + subset['date'][::-1].tolist(),\n",
    "        y=subset['BB_Upper'].tolist() + subset['BB_Lower'][::-1].tolist(),\n",
    "        fill='toself',\n",
    "        fillcolor='rgba(173, 216, 230, 0.2)',\n",
    "        line=dict(color='rgba(255,255,255,0)'),\n",
    "        hoverinfo=\"skip\",\n",
    "        showlegend=False\n",
    "    ), row=row, col=col)\n",
    "\n",
    "# updating height\n",
    "fig.update_layout(height=1000, width=1000,title_text=\"Bollinger Bands Across Tickers (Real-Time)\",template='plotly_white')\n",
    "\n",
    "fig.show()\n"
   ]
  },
  {
   "cell_type": "markdown",
   "metadata": {},
   "source": [
    "### The above graph shows Bollinger Bands can be shown using the Upper Band, Lower Band, and the Middle Band (the middle band is basically just the SMA re-labled). \n",
    "\n",
    "### The Upper Band is calculated with SMA + 2×standard deviation, showing a higher end of expected price range (overbought conditions).\n",
    "\n",
    "### The Lower Band is calculated with SMA - 2×standard deviation, showing a lower end of the expected price range (oversold conditions).\n",
    "### The graph is useful to show us the volatility of the stock as well. If a graph is flat and does not show a lot of variance, it is due to our limited real-time dataset, since was not a lot of movement in the time frame. "
   ]
  },
  {
   "cell_type": "code",
   "execution_count": 134,
   "metadata": {},
   "outputs": [
    {
     "data": {
      "image/png": "[encoded data removed]",
      "text/plain": [
       "<Figure size 640x480 with 2 Axes>"
      ]
     },
     "metadata": {},
     "output_type": "display_data"
    }
   ],
   "source": [
    "#heat map for just the featured engineered columns\n",
    "corr = df_cass_final[['BB_Upper', 'BB_Lower', 'ATR_5', 'RSI_5', 'MACD', 'SMA_5','EMA_5']].corr()\n",
    "sns.heatmap(corr, annot=True)\n",
    "plt.title(\"Correlation Between BB Standard Deviation, ATR, RSI and MACD\")\n",
    "plt.show()\n"
   ]
  },
  {
   "cell_type": "markdown",
   "metadata": {},
   "source": [
    "### Above is a correlation heat map which helps us see how some of our feature engineered columns correlate with one another. We can see that due to our limited sample size of 3 minutes, our Bollinger Bonds are pretty static and the upper and lower are correlated strongly with SMA_5. This is because we are driving the Bollinger Bonds from SMA_5. Furthermore, EMA is highly correlated with SMA(which is the source of BB_upper and BB_lower). THe remaining columns are not highly correlated with now another. MACD has a moderate correlation with ATR_5 and SMA_5 and the BBs which can show us that the MACD is only tracking pricetrends somewhat effectively not perfectly. RSI_5 seems to have a low to no correlations with anything. "
   ]
  },
  {
   "cell_type": "markdown",
   "metadata": {},
   "source": [
    "## Real Time Data Encoding\n",
    "\n",
    "### The goal is to apply one hot encoding on the tickers so the machine learning model has no issues with the string values. Additionally we are going to convert the datetime into date only, and then split it into year, month, day of month, weekday, hour and minute as well as time of day combining hour and minute (using 24HR clock so HourHourMinuteMinute)"
   ]
  },
  {
   "cell_type": "code",
   "execution_count": 135,
   "metadata": {},
   "outputs": [
    {
     "data": {
      "text/html": [
       "<div>\n",
       "<style scoped>\n",
       "    .dataframe tbody tr th:only-of-type {\n",
       "        vertical-align: middle;\n",
       "    }\n",
       "\n",
       "    .dataframe tbody tr th {\n",
       "        vertical-align: top;\n",
       "    }\n",
       "\n",
       "    .dataframe thead th {\n",
       "        text-align: right;\n",
       "    }\n",
       "</style>\n",
       "<table border=\"1\" class=\"dataframe\">\n",
       "  <thead>\n",
       "    <tr style=\"text-align: right;\">\n",
       "      <th></th>\n",
       "      <th>adj_close</th>\n",
       "      <th>close</th>\n",
       "      <th>high</th>\n",
       "      <th>low</th>\n",
       "      <th>open</th>\n",
       "      <th>previous_close</th>\n",
       "      <th>SMA_5</th>\n",
       "      <th>EMA_5</th>\n",
       "      <th>RSI_5</th>\n",
       "      <th>BB_Middle</th>\n",
       "      <th>...</th>\n",
       "      <th>weekday</th>\n",
       "      <th>day</th>\n",
       "      <th>time_of_day</th>\n",
       "      <th>ticker_AAPL</th>\n",
       "      <th>ticker_AMZN</th>\n",
       "      <th>ticker_GOOGL</th>\n",
       "      <th>ticker_META</th>\n",
       "      <th>ticker_MSFT</th>\n",
       "      <th>ticker_NVDA</th>\n",
       "      <th>ticker_TSLA</th>\n",
       "    </tr>\n",
       "  </thead>\n",
       "  <tbody>\n",
       "    <tr>\n",
       "      <th>0</th>\n",
       "      <td>190.5750</td>\n",
       "      <td>190.5750</td>\n",
       "      <td>193.80</td>\n",
       "      <td>189.8112</td>\n",
       "      <td>193.265</td>\n",
       "      <td>196.98</td>\n",
       "      <td>190.5830</td>\n",
       "      <td>190.580926</td>\n",
       "      <td>0.0</td>\n",
       "      <td>190.5830</td>\n",
       "      <td>...</td>\n",
       "      <td>0</td>\n",
       "      <td>21</td>\n",
       "      <td>1126</td>\n",
       "      <td>True</td>\n",
       "      <td>False</td>\n",
       "      <td>False</td>\n",
       "      <td>False</td>\n",
       "      <td>False</td>\n",
       "      <td>False</td>\n",
       "      <td>False</td>\n",
       "    </tr>\n",
       "    <tr>\n",
       "      <th>1</th>\n",
       "      <td>190.5750</td>\n",
       "      <td>190.5750</td>\n",
       "      <td>193.80</td>\n",
       "      <td>189.8112</td>\n",
       "      <td>193.265</td>\n",
       "      <td>196.98</td>\n",
       "      <td>190.5790</td>\n",
       "      <td>190.578951</td>\n",
       "      <td>0.0</td>\n",
       "      <td>190.5790</td>\n",
       "      <td>...</td>\n",
       "      <td>0</td>\n",
       "      <td>21</td>\n",
       "      <td>1126</td>\n",
       "      <td>True</td>\n",
       "      <td>False</td>\n",
       "      <td>False</td>\n",
       "      <td>False</td>\n",
       "      <td>False</td>\n",
       "      <td>False</td>\n",
       "      <td>False</td>\n",
       "    </tr>\n",
       "    <tr>\n",
       "      <th>2</th>\n",
       "      <td>190.5750</td>\n",
       "      <td>190.5750</td>\n",
       "      <td>193.80</td>\n",
       "      <td>189.8112</td>\n",
       "      <td>193.265</td>\n",
       "      <td>196.98</td>\n",
       "      <td>190.5750</td>\n",
       "      <td>190.577634</td>\n",
       "      <td>0.0</td>\n",
       "      <td>190.5750</td>\n",
       "      <td>...</td>\n",
       "      <td>0</td>\n",
       "      <td>21</td>\n",
       "      <td>1126</td>\n",
       "      <td>True</td>\n",
       "      <td>False</td>\n",
       "      <td>False</td>\n",
       "      <td>False</td>\n",
       "      <td>False</td>\n",
       "      <td>False</td>\n",
       "      <td>False</td>\n",
       "    </tr>\n",
       "    <tr>\n",
       "      <th>3</th>\n",
       "      <td>190.5750</td>\n",
       "      <td>190.5750</td>\n",
       "      <td>193.80</td>\n",
       "      <td>189.8112</td>\n",
       "      <td>193.265</td>\n",
       "      <td>196.98</td>\n",
       "      <td>190.5750</td>\n",
       "      <td>190.576756</td>\n",
       "      <td>0.0</td>\n",
       "      <td>190.5750</td>\n",
       "      <td>...</td>\n",
       "      <td>0</td>\n",
       "      <td>21</td>\n",
       "      <td>1127</td>\n",
       "      <td>True</td>\n",
       "      <td>False</td>\n",
       "      <td>False</td>\n",
       "      <td>False</td>\n",
       "      <td>False</td>\n",
       "      <td>False</td>\n",
       "      <td>False</td>\n",
       "    </tr>\n",
       "    <tr>\n",
       "      <th>4</th>\n",
       "      <td>190.4600</td>\n",
       "      <td>190.4600</td>\n",
       "      <td>193.80</td>\n",
       "      <td>189.8112</td>\n",
       "      <td>193.265</td>\n",
       "      <td>196.98</td>\n",
       "      <td>190.5520</td>\n",
       "      <td>190.537837</td>\n",
       "      <td>0.0</td>\n",
       "      <td>190.5520</td>\n",
       "      <td>...</td>\n",
       "      <td>0</td>\n",
       "      <td>21</td>\n",
       "      <td>1127</td>\n",
       "      <td>True</td>\n",
       "      <td>False</td>\n",
       "      <td>False</td>\n",
       "      <td>False</td>\n",
       "      <td>False</td>\n",
       "      <td>False</td>\n",
       "      <td>False</td>\n",
       "    </tr>\n",
       "    <tr>\n",
       "      <th>...</th>\n",
       "      <td>...</td>\n",
       "      <td>...</td>\n",
       "      <td>...</td>\n",
       "      <td>...</td>\n",
       "      <td>...</td>\n",
       "      <td>...</td>\n",
       "      <td>...</td>\n",
       "      <td>...</td>\n",
       "      <td>...</td>\n",
       "      <td>...</td>\n",
       "      <td>...</td>\n",
       "      <td>...</td>\n",
       "      <td>...</td>\n",
       "      <td>...</td>\n",
       "      <td>...</td>\n",
       "      <td>...</td>\n",
       "      <td>...</td>\n",
       "      <td>...</td>\n",
       "      <td>...</td>\n",
       "      <td>...</td>\n",
       "      <td>...</td>\n",
       "    </tr>\n",
       "    <tr>\n",
       "      <th>117</th>\n",
       "      <td>223.7292</td>\n",
       "      <td>223.7292</td>\n",
       "      <td>232.21</td>\n",
       "      <td>222.7900</td>\n",
       "      <td>230.260</td>\n",
       "      <td>241.37</td>\n",
       "      <td>223.9032</td>\n",
       "      <td>223.872596</td>\n",
       "      <td>0.0</td>\n",
       "      <td>223.9032</td>\n",
       "      <td>...</td>\n",
       "      <td>0</td>\n",
       "      <td>21</td>\n",
       "      <td>1128</td>\n",
       "      <td>False</td>\n",
       "      <td>False</td>\n",
       "      <td>False</td>\n",
       "      <td>False</td>\n",
       "      <td>False</td>\n",
       "      <td>False</td>\n",
       "      <td>True</td>\n",
       "    </tr>\n",
       "    <tr>\n",
       "      <th>118</th>\n",
       "      <td>223.7292</td>\n",
       "      <td>223.7292</td>\n",
       "      <td>232.21</td>\n",
       "      <td>222.7900</td>\n",
       "      <td>230.260</td>\n",
       "      <td>241.37</td>\n",
       "      <td>223.8597</td>\n",
       "      <td>223.824797</td>\n",
       "      <td>0.0</td>\n",
       "      <td>223.8597</td>\n",
       "      <td>...</td>\n",
       "      <td>0</td>\n",
       "      <td>21</td>\n",
       "      <td>1128</td>\n",
       "      <td>False</td>\n",
       "      <td>False</td>\n",
       "      <td>False</td>\n",
       "      <td>False</td>\n",
       "      <td>False</td>\n",
       "      <td>False</td>\n",
       "      <td>True</td>\n",
       "    </tr>\n",
       "    <tr>\n",
       "      <th>119</th>\n",
       "      <td>223.7292</td>\n",
       "      <td>223.7292</td>\n",
       "      <td>232.21</td>\n",
       "      <td>222.7900</td>\n",
       "      <td>230.260</td>\n",
       "      <td>241.37</td>\n",
       "      <td>223.8162</td>\n",
       "      <td>223.792931</td>\n",
       "      <td>0.0</td>\n",
       "      <td>223.8162</td>\n",
       "      <td>...</td>\n",
       "      <td>0</td>\n",
       "      <td>21</td>\n",
       "      <td>1128</td>\n",
       "      <td>False</td>\n",
       "      <td>False</td>\n",
       "      <td>False</td>\n",
       "      <td>False</td>\n",
       "      <td>False</td>\n",
       "      <td>False</td>\n",
       "      <td>True</td>\n",
       "    </tr>\n",
       "    <tr>\n",
       "      <th>120</th>\n",
       "      <td>223.7292</td>\n",
       "      <td>223.7292</td>\n",
       "      <td>232.21</td>\n",
       "      <td>222.7900</td>\n",
       "      <td>230.260</td>\n",
       "      <td>241.37</td>\n",
       "      <td>223.7727</td>\n",
       "      <td>223.771688</td>\n",
       "      <td>0.0</td>\n",
       "      <td>223.7727</td>\n",
       "      <td>...</td>\n",
       "      <td>0</td>\n",
       "      <td>21</td>\n",
       "      <td>1128</td>\n",
       "      <td>False</td>\n",
       "      <td>False</td>\n",
       "      <td>False</td>\n",
       "      <td>False</td>\n",
       "      <td>False</td>\n",
       "      <td>False</td>\n",
       "      <td>True</td>\n",
       "    </tr>\n",
       "    <tr>\n",
       "      <th>121</th>\n",
       "      <td>223.7292</td>\n",
       "      <td>223.7292</td>\n",
       "      <td>232.21</td>\n",
       "      <td>222.7900</td>\n",
       "      <td>230.260</td>\n",
       "      <td>241.37</td>\n",
       "      <td>223.7292</td>\n",
       "      <td>223.757525</td>\n",
       "      <td>0.0</td>\n",
       "      <td>223.7292</td>\n",
       "      <td>...</td>\n",
       "      <td>0</td>\n",
       "      <td>21</td>\n",
       "      <td>1128</td>\n",
       "      <td>False</td>\n",
       "      <td>False</td>\n",
       "      <td>False</td>\n",
       "      <td>False</td>\n",
       "      <td>False</td>\n",
       "      <td>False</td>\n",
       "      <td>True</td>\n",
       "    </tr>\n",
       "  </tbody>\n",
       "</table>\n",
       "<p>122 rows × 28 columns</p>\n",
       "</div>"
      ],
      "text/plain": [
       "     adj_close     close    high       low     open  previous_close     SMA_5  \\\n",
       "0     190.5750  190.5750  193.80  189.8112  193.265          196.98  190.5830   \n",
       "1     190.5750  190.5750  193.80  189.8112  193.265          196.98  190.5790   \n",
       "2     190.5750  190.5750  193.80  189.8112  193.265          196.98  190.5750   \n",
       "3     190.5750  190.5750  193.80  189.8112  193.265          196.98  190.5750   \n",
       "4     190.4600  190.4600  193.80  189.8112  193.265          196.98  190.5520   \n",
       "..         ...       ...     ...       ...      ...             ...       ...   \n",
       "117   223.7292  223.7292  232.21  222.7900  230.260          241.37  223.9032   \n",
       "118   223.7292  223.7292  232.21  222.7900  230.260          241.37  223.8597   \n",
       "119   223.7292  223.7292  232.21  222.7900  230.260          241.37  223.8162   \n",
       "120   223.7292  223.7292  232.21  222.7900  230.260          241.37  223.7727   \n",
       "121   223.7292  223.7292  232.21  222.7900  230.260          241.37  223.7292   \n",
       "\n",
       "          EMA_5  RSI_5  BB_Middle  ...  weekday  day  time_of_day  \\\n",
       "0    190.580926    0.0   190.5830  ...        0   21         1126   \n",
       "1    190.578951    0.0   190.5790  ...        0   21         1126   \n",
       "2    190.577634    0.0   190.5750  ...        0   21         1126   \n",
       "3    190.576756    0.0   190.5750  ...        0   21         1127   \n",
       "4    190.537837    0.0   190.5520  ...        0   21         1127   \n",
       "..          ...    ...        ...  ...      ...  ...          ...   \n",
       "117  223.872596    0.0   223.9032  ...        0   21         1128   \n",
       "118  223.824797    0.0   223.8597  ...        0   21         1128   \n",
       "119  223.792931    0.0   223.8162  ...        0   21         1128   \n",
       "120  223.771688    0.0   223.7727  ...        0   21         1128   \n",
       "121  223.757525    0.0   223.7292  ...        0   21         1128   \n",
       "\n",
       "     ticker_AAPL  ticker_AMZN  ticker_GOOGL  ticker_META  ticker_MSFT  \\\n",
       "0           True        False         False        False        False   \n",
       "1           True        False         False        False        False   \n",
       "2           True        False         False        False        False   \n",
       "3           True        False         False        False        False   \n",
       "4           True        False         False        False        False   \n",
       "..           ...          ...           ...          ...          ...   \n",
       "117        False        False         False        False        False   \n",
       "118        False        False         False        False        False   \n",
       "119        False        False         False        False        False   \n",
       "120        False        False         False        False        False   \n",
       "121        False        False         False        False        False   \n",
       "\n",
       "     ticker_NVDA  ticker_TSLA  \n",
       "0          False        False  \n",
       "1          False        False  \n",
       "2          False        False  \n",
       "3          False        False  \n",
       "4          False        False  \n",
       "..           ...          ...  \n",
       "117        False         True  \n",
       "118        False         True  \n",
       "119        False         True  \n",
       "120        False         True  \n",
       "121        False         True  \n",
       "\n",
       "[122 rows x 28 columns]"
      ]
     },
     "metadata": {},
     "output_type": "display_data"
    },
    {
     "name": "stdout",
     "output_type": "stream",
     "text": [
      "Printing out all the columns so we can see what we split up: \n",
      "\n",
      "['adj_close', 'close', 'high', 'low', 'open', 'previous_close', 'SMA_5', 'EMA_5', 'RSI_5', 'BB_Middle', 'BB_Std', 'BB_Upper', 'BB_Lower', 'MACD', 'MACD_Signal', 'ATR_5', 'year', 'month', 'weekday', 'day', 'time_of_day', 'ticker_AAPL', 'ticker_AMZN', 'ticker_GOOGL', 'ticker_META', 'ticker_MSFT', 'ticker_NVDA', 'ticker_TSLA']\n"
     ]
    }
   ],
   "source": [
    "\n",
    "def encodingdatefeatures(df):\n",
    "\n",
    "    # making sure we turn datae into date time then we can split it\n",
    "    df['date'] = pd.to_datetime(df['date'])\n",
    "\n",
    "    # extracting the dates similar to labs\n",
    "    df['year'] = df['date'].dt.year\n",
    "    df['month'] = df['date'].dt.month\n",
    "    df['weekday'] = df['date'].dt.weekday\n",
    "    df['day'] = df['date'].dt.day\n",
    "    df['time_of_day'] = df['date'].dt.hour * 60 + df['date'].dt.minute \n",
    "\n",
    "    #using one hot encoding on the ticker since its categorical\n",
    "    ticker_dummies = pd.get_dummies(df['ticker'], prefix='ticker')\n",
    "\n",
    "    # adding the onehot encoded column to the dataframe and removing original from DF\n",
    "    df = pd.concat([df.drop(['ticker', 'date'], axis=1), ticker_dummies], axis=1)\n",
    "    return df\n",
    "# applying and printing our results.also wanted to print the column list since it gets abbreviated\n",
    "df_cass_encoded = encodingdatefeatures(df_cass_final)\n",
    "display(df_cass_encoded)\n",
    "print(\"Printing out all the columns so we can see what we split up: \\n\")\n",
    "print(list(df_cass_encoded.columns))"
   ]
  },
  {
   "cell_type": "markdown",
   "metadata": {},
   "source": [
    "# Machine Learning "
   ]
  },
  {
   "cell_type": "markdown",
   "metadata": {},
   "source": [
    "### Real Time: Using LSTM first and then XGBoost. Then we can apply an ensemble method where we use weighted averaging between both"
   ]
  },
  {
   "cell_type": "code",
   "execution_count": 139,
   "metadata": {},
   "outputs": [
    {
     "name": "stderr",
     "output_type": "stream",
     "text": [
      "/Users/haseemarshad/Library/Python/3.9/lib/python/site-packages/keras/src/layers/rnn/rnn.py:200: UserWarning:\n",
      "\n",
      "Do not pass an `input_shape`/`input_dim` argument to a layer. When using Sequential models, prefer using an `Input(shape)` object as the first layer in the model instead.\n",
      "\n"
     ]
    },
    {
     "data": {
      "text/html": [
       "<pre style=\"white-space:pre;overflow-x:auto;line-height:normal;font-family:Menlo,'DejaVu Sans Mono',consolas,'Courier New',monospace\"><span style=\"font-weight: bold\">Model: \"sequential_32\"</span>\n",
       "</pre>\n"
      ],
      "text/plain": [
       "\u001b[1mModel: \"sequential_32\"\u001b[0m\n"
      ]
     },
     "metadata": {},
     "output_type": "display_data"
    },
    {
     "data": {
      "text/html": [
       "<pre style=\"white-space:pre;overflow-x:auto;line-height:normal;font-family:Menlo,'DejaVu Sans Mono',consolas,'Courier New',monospace\">┏━━━━━━━━━━━━━━━━━━━━━━━━━━━━━━━━━┳━━━━━━━━━━━━━━━━━━━━━━━━┳━━━━━━━━━━━━━━━┓\n",
       "┃<span style=\"font-weight: bold\"> Layer (type)                    </span>┃<span style=\"font-weight: bold\"> Output Shape           </span>┃<span style=\"font-weight: bold\">       Param # </span>┃\n",
       "┡━━━━━━━━━━━━━━━━━━━━━━━━━━━━━━━━━╇━━━━━━━━━━━━━━━━━━━━━━━━╇━━━━━━━━━━━━━━━┩\n",
       "│ lstm_32 (<span style=\"color: #0087ff; text-decoration-color: #0087ff\">LSTM</span>)                  │ (<span style=\"color: #00d7ff; text-decoration-color: #00d7ff\">None</span>, <span style=\"color: #00af00; text-decoration-color: #00af00\">64</span>)             │        <span style=\"color: #00af00; text-decoration-color: #00af00\">23,552</span> │\n",
       "├─────────────────────────────────┼────────────────────────┼───────────────┤\n",
       "│ dense_64 (<span style=\"color: #0087ff; text-decoration-color: #0087ff\">Dense</span>)                │ (<span style=\"color: #00d7ff; text-decoration-color: #00d7ff\">None</span>, <span style=\"color: #00af00; text-decoration-color: #00af00\">32</span>)             │         <span style=\"color: #00af00; text-decoration-color: #00af00\">2,080</span> │\n",
       "├─────────────────────────────────┼────────────────────────┼───────────────┤\n",
       "│ dense_65 (<span style=\"color: #0087ff; text-decoration-color: #0087ff\">Dense</span>)                │ (<span style=\"color: #00d7ff; text-decoration-color: #00d7ff\">None</span>, <span style=\"color: #00af00; text-decoration-color: #00af00\">2</span>)              │            <span style=\"color: #00af00; text-decoration-color: #00af00\">66</span> │\n",
       "└─────────────────────────────────┴────────────────────────┴───────────────┘\n",
       "</pre>\n"
      ],
      "text/plain": [
       "┏━━━━━━━━━━━━━━━━━━━━━━━━━━━━━━━━━┳━━━━━━━━━━━━━━━━━━━━━━━━┳━━━━━━━━━━━━━━━┓\n",
       "┃\u001b[1m \u001b[0m\u001b[1mLayer (type)                   \u001b[0m\u001b[1m \u001b[0m┃\u001b[1m \u001b[0m\u001b[1mOutput Shape          \u001b[0m\u001b[1m \u001b[0m┃\u001b[1m \u001b[0m\u001b[1m      Param #\u001b[0m\u001b[1m \u001b[0m┃\n",
       "┡━━━━━━━━━━━━━━━━━━━━━━━━━━━━━━━━━╇━━━━━━━━━━━━━━━━━━━━━━━━╇━━━━━━━━━━━━━━━┩\n",
       "│ lstm_32 (\u001b[38;5;33mLSTM\u001b[0m)                  │ (\u001b[38;5;45mNone\u001b[0m, \u001b[38;5;34m64\u001b[0m)             │        \u001b[38;5;34m23,552\u001b[0m │\n",
       "├─────────────────────────────────┼────────────────────────┼───────────────┤\n",
       "│ dense_64 (\u001b[38;5;33mDense\u001b[0m)                │ (\u001b[38;5;45mNone\u001b[0m, \u001b[38;5;34m32\u001b[0m)             │         \u001b[38;5;34m2,080\u001b[0m │\n",
       "├─────────────────────────────────┼────────────────────────┼───────────────┤\n",
       "│ dense_65 (\u001b[38;5;33mDense\u001b[0m)                │ (\u001b[38;5;45mNone\u001b[0m, \u001b[38;5;34m2\u001b[0m)              │            \u001b[38;5;34m66\u001b[0m │\n",
       "└─────────────────────────────────┴────────────────────────┴───────────────┘\n"
      ]
     },
     "metadata": {},
     "output_type": "display_data"
    },
    {
     "data": {
      "text/html": [
       "<pre style=\"white-space:pre;overflow-x:auto;line-height:normal;font-family:Menlo,'DejaVu Sans Mono',consolas,'Courier New',monospace\"><span style=\"font-weight: bold\"> Total params: </span><span style=\"color: #00af00; text-decoration-color: #00af00\">25,698</span> (100.38 KB)\n",
       "</pre>\n"
      ],
      "text/plain": [
       "\u001b[1m Total params: \u001b[0m\u001b[38;5;34m25,698\u001b[0m (100.38 KB)\n"
      ]
     },
     "metadata": {},
     "output_type": "display_data"
    },
    {
     "data": {
      "text/html": [
       "<pre style=\"white-space:pre;overflow-x:auto;line-height:normal;font-family:Menlo,'DejaVu Sans Mono',consolas,'Courier New',monospace\"><span style=\"font-weight: bold\"> Trainable params: </span><span style=\"color: #00af00; text-decoration-color: #00af00\">25,698</span> (100.38 KB)\n",
       "</pre>\n"
      ],
      "text/plain": [
       "\u001b[1m Trainable params: \u001b[0m\u001b[38;5;34m25,698\u001b[0m (100.38 KB)\n"
      ]
     },
     "metadata": {},
     "output_type": "display_data"
    },
    {
     "data": {
      "text/html": [
       "<pre style=\"white-space:pre;overflow-x:auto;line-height:normal;font-family:Menlo,'DejaVu Sans Mono',consolas,'Courier New',monospace\"><span style=\"font-weight: bold\"> Non-trainable params: </span><span style=\"color: #00af00; text-decoration-color: #00af00\">0</span> (0.00 B)\n",
       "</pre>\n"
      ],
      "text/plain": [
       "\u001b[1m Non-trainable params: \u001b[0m\u001b[38;5;34m0\u001b[0m (0.00 B)\n"
      ]
     },
     "metadata": {},
     "output_type": "display_data"
    },
    {
     "name": "stdout",
     "output_type": "stream",
     "text": [
      "Epoch 1/30\n",
      "\u001b[1m5/5\u001b[0m \u001b[32m━━━━━━━━━━━━━━━━━━━━\u001b[0m\u001b[37m\u001b[0m \u001b[1m2s\u001b[0m 71ms/step - loss: 0.2383 - val_loss: 0.0993\n",
      "Epoch 2/30\n",
      "\u001b[1m5/5\u001b[0m \u001b[32m━━━━━━━━━━━━━━━━━━━━\u001b[0m\u001b[37m\u001b[0m \u001b[1m0s\u001b[0m 16ms/step - loss: 0.0850 - val_loss: 0.1751\n",
      "Epoch 3/30\n",
      "\u001b[1m5/5\u001b[0m \u001b[32m━━━━━━━━━━━━━━━━━━━━\u001b[0m\u001b[37m\u001b[0m \u001b[1m0s\u001b[0m 16ms/step - loss: 0.0491 - val_loss: 0.1496\n",
      "Epoch 4/30\n",
      "\u001b[1m5/5\u001b[0m \u001b[32m━━━━━━━━━━━━━━━━━━━━\u001b[0m\u001b[37m\u001b[0m \u001b[1m0s\u001b[0m 16ms/step - loss: 0.0378 - val_loss: 0.1043\n",
      "Epoch 5/30\n",
      "\u001b[1m5/5\u001b[0m \u001b[32m━━━━━━━━━━━━━━━━━━━━\u001b[0m\u001b[37m\u001b[0m \u001b[1m0s\u001b[0m 15ms/step - loss: 0.0254 - val_loss: 0.1011\n",
      "Epoch 6/30\n",
      "\u001b[1m5/5\u001b[0m \u001b[32m━━━━━━━━━━━━━━━━━━━━\u001b[0m\u001b[37m\u001b[0m \u001b[1m0s\u001b[0m 16ms/step - loss: 0.0303 - val_loss: 0.1030\n",
      "Epoch 7/30\n",
      "\u001b[1m5/5\u001b[0m \u001b[32m━━━━━━━━━━━━━━━━━━━━\u001b[0m\u001b[37m\u001b[0m \u001b[1m0s\u001b[0m 16ms/step - loss: 0.0215 - val_loss: 0.1043\n",
      "Epoch 8/30\n",
      "\u001b[1m5/5\u001b[0m \u001b[32m━━━━━━━━━━━━━━━━━━━━\u001b[0m\u001b[37m\u001b[0m \u001b[1m0s\u001b[0m 15ms/step - loss: 0.0231 - val_loss: 0.1064\n",
      "Epoch 9/30\n",
      "\u001b[1m5/5\u001b[0m \u001b[32m━━━━━━━━━━━━━━━━━━━━\u001b[0m\u001b[37m\u001b[0m \u001b[1m0s\u001b[0m 17ms/step - loss: 0.0173 - val_loss: 0.1035\n",
      "Epoch 10/30\n",
      "\u001b[1m5/5\u001b[0m \u001b[32m━━━━━━━━━━━━━━━━━━━━\u001b[0m\u001b[37m\u001b[0m \u001b[1m0s\u001b[0m 15ms/step - loss: 0.0158 - val_loss: 0.1096\n",
      "Epoch 11/30\n",
      "\u001b[1m5/5\u001b[0m \u001b[32m━━━━━━━━━━━━━━━━━━━━\u001b[0m\u001b[37m\u001b[0m \u001b[1m0s\u001b[0m 15ms/step - loss: 0.0177 - val_loss: 0.1226\n",
      "Epoch 12/30\n",
      "\u001b[1m5/5\u001b[0m \u001b[32m━━━━━━━━━━━━━━━━━━━━\u001b[0m\u001b[37m\u001b[0m \u001b[1m0s\u001b[0m 15ms/step - loss: 0.0135 - val_loss: 0.1183\n",
      "Epoch 13/30\n",
      "\u001b[1m5/5\u001b[0m \u001b[32m━━━━━━━━━━━━━━━━━━━━\u001b[0m\u001b[37m\u001b[0m \u001b[1m0s\u001b[0m 15ms/step - loss: 0.0137 - val_loss: 0.1324\n",
      "Epoch 14/30\n",
      "\u001b[1m5/5\u001b[0m \u001b[32m━━━━━━━━━━━━━━━━━━━━\u001b[0m\u001b[37m\u001b[0m \u001b[1m0s\u001b[0m 14ms/step - loss: 0.0140 - val_loss: 0.1287\n",
      "Epoch 15/30\n",
      "\u001b[1m5/5\u001b[0m \u001b[32m━━━━━━━━━━━━━━━━━━━━\u001b[0m\u001b[37m\u001b[0m \u001b[1m0s\u001b[0m 15ms/step - loss: 0.0105 - val_loss: 0.1375\n",
      "Epoch 16/30\n",
      "\u001b[1m5/5\u001b[0m \u001b[32m━━━━━━━━━━━━━━━━━━━━\u001b[0m\u001b[37m\u001b[0m \u001b[1m0s\u001b[0m 15ms/step - loss: 0.0130 - val_loss: 0.1314\n",
      "Epoch 17/30\n",
      "\u001b[1m5/5\u001b[0m \u001b[32m━━━━━━━━━━━━━━━━━━━━\u001b[0m\u001b[37m\u001b[0m \u001b[1m0s\u001b[0m 15ms/step - loss: 0.0095 - val_loss: 0.1419\n",
      "Epoch 18/30\n",
      "\u001b[1m5/5\u001b[0m \u001b[32m━━━━━━━━━━━━━━━━━━━━\u001b[0m\u001b[37m\u001b[0m \u001b[1m0s\u001b[0m 15ms/step - loss: 0.0109 - val_loss: 0.1500\n",
      "Epoch 19/30\n",
      "\u001b[1m5/5\u001b[0m \u001b[32m━━━━━━━━━━━━━━━━━━━━\u001b[0m\u001b[37m\u001b[0m \u001b[1m0s\u001b[0m 15ms/step - loss: 0.0086 - val_loss: 0.1515\n",
      "Epoch 20/30\n",
      "\u001b[1m5/5\u001b[0m \u001b[32m━━━━━━━━━━━━━━━━━━━━\u001b[0m\u001b[37m\u001b[0m \u001b[1m0s\u001b[0m 15ms/step - loss: 0.0104 - val_loss: 0.1376\n",
      "Epoch 21/30\n",
      "\u001b[1m5/5\u001b[0m \u001b[32m━━━━━━━━━━━━━━━━━━━━\u001b[0m\u001b[37m\u001b[0m \u001b[1m0s\u001b[0m 30ms/step - loss: 0.0120 - val_loss: 0.1603\n",
      "Epoch 22/30\n",
      "\u001b[1m5/5\u001b[0m \u001b[32m━━━━━━━━━━━━━━━━━━━━\u001b[0m\u001b[37m\u001b[0m \u001b[1m0s\u001b[0m 16ms/step - loss: 0.0098 - val_loss: 0.1461\n",
      "Epoch 23/30\n",
      "\u001b[1m5/5\u001b[0m \u001b[32m━━━━━━━━━━━━━━━━━━━━\u001b[0m\u001b[37m\u001b[0m \u001b[1m0s\u001b[0m 15ms/step - loss: 0.0103 - val_loss: 0.1478\n",
      "Epoch 24/30\n",
      "\u001b[1m5/5\u001b[0m \u001b[32m━━━━━━━━━━━━━━━━━━━━\u001b[0m\u001b[37m\u001b[0m \u001b[1m0s\u001b[0m 17ms/step - loss: 0.0078 - val_loss: 0.1625\n",
      "Epoch 25/30\n",
      "\u001b[1m5/5\u001b[0m \u001b[32m━━━━━━━━━━━━━━━━━━━━\u001b[0m\u001b[37m\u001b[0m \u001b[1m0s\u001b[0m 15ms/step - loss: 0.0120 - val_loss: 0.1439\n",
      "Epoch 26/30\n",
      "\u001b[1m5/5\u001b[0m \u001b[32m━━━━━━━━━━━━━━━━━━━━\u001b[0m\u001b[37m\u001b[0m \u001b[1m0s\u001b[0m 15ms/step - loss: 0.0097 - val_loss: 0.1575\n",
      "Epoch 27/30\n",
      "\u001b[1m5/5\u001b[0m \u001b[32m━━━━━━━━━━━━━━━━━━━━\u001b[0m\u001b[37m\u001b[0m \u001b[1m0s\u001b[0m 15ms/step - loss: 0.0075 - val_loss: 0.1603\n",
      "Epoch 28/30\n",
      "\u001b[1m5/5\u001b[0m \u001b[32m━━━━━━━━━━━━━━━━━━━━\u001b[0m\u001b[37m\u001b[0m \u001b[1m0s\u001b[0m 16ms/step - loss: 0.0063 - val_loss: 0.1513\n",
      "Epoch 29/30\n",
      "\u001b[1m5/5\u001b[0m \u001b[32m━━━━━━━━━━━━━━━━━━━━\u001b[0m\u001b[37m\u001b[0m \u001b[1m0s\u001b[0m 17ms/step - loss: 0.0082 - val_loss: 0.1574\n",
      "Epoch 30/30\n",
      "\u001b[1m5/5\u001b[0m \u001b[32m━━━━━━━━━━━━━━━━━━━━\u001b[0m\u001b[37m\u001b[0m \u001b[1m0s\u001b[0m 19ms/step - loss: 0.0080 - val_loss: 0.1657\n",
      "\u001b[1m1/1\u001b[0m \u001b[32m━━━━━━━━━━━━━━━━━━━━\u001b[0m\u001b[37m\u001b[0m \u001b[1m0s\u001b[0m 147ms/step\n"
     ]
    },
    {
     "data": {
      "image/png": "[encoded data removed]",
      "text/plain": [
       "<Figure size 1400x600 with 2 Axes>"
      ]
     },
     "metadata": {},
     "output_type": "display_data"
    },
    {
     "name": "stdout",
     "output_type": "stream",
     "text": [
      "Close Price MSE: 11586.010019438103\n",
      "Close Price R²: -3.7047302179282813\n",
      "MACD MSE: 0.0017755804671025937\n",
      "MACD R²: -2.3343868640502947\n"
     ]
    }
   ],
   "source": [
    "df_cass_encoded['target_close'] = df_cass_encoded['close'].shift(-1)\n",
    "df_cass_encoded['target_macd'] = df_cass_encoded['MACD'].shift(-1)\n",
    "# identify all of the features and our targets list\n",
    "features = ['adj_close', 'close', 'high', 'low', 'open', 'previous_close','SMA_5', 'EMA_5', 'RSI_5', 'BB_Middle', 'BB_Std', 'BB_Upper', 'BB_Lower','MACD_Signal', 'ATR_5', \n",
    "            'year', 'month', 'weekday', 'day', 'time_of_day','ticker_AAPL', 'ticker_AMZN', 'ticker_GOOGL', 'ticker_META','ticker_MSFT', 'ticker_NVDA', 'ticker_TSLA']\n",
    "targets = ['target_close', 'target_macd']\n",
    "\n",
    "#calling the min max standard scaler\n",
    "feature_scaler = MinMaxScaler()\n",
    "target_scaler = MinMaxScaler()\n",
    "scaled_real_features = feature_scaler.fit_transform(df_cass_encoded[features])\n",
    "scaled_real_targets = target_scaler.fit_transform(df_cass_encoded[targets])\n",
    "\n",
    "#creating LSTM sequences which are 10 time steps long\n",
    "def create_sequences(features, targets, sequence_length=10):\n",
    "    X, y = [], []\n",
    "    for i in range(len(features) - sequence_length):\n",
    "        X.append(features[i:i+sequence_length])\n",
    "        y.append(targets[i+sequence_length])\n",
    "    return np.array(X), np.array(y)\n",
    "X, y = create_sequences(scaled_real_features, scaled_real_targets, sequence_length=10)\n",
    "\n",
    "train_size = int(len(X) * 0.8)\n",
    "X_train, X_test = X[:train_size], X[train_size:]\n",
    "y_train, y_test = y[:train_size], y[train_size:]\n",
    "\n",
    "# creating the LSTM model\n",
    "model = Sequential([LSTM(64, input_shape=(X_train.shape[1], X_train.shape[2]), return_sequences=False),Dense(32, activation='relu'),Dense(y_train.shape[1])])\n",
    "\n",
    "model.compile(optimizer='adam', loss='mse')\n",
    "model.summary()\n",
    "\n",
    "#fitting the model\n",
    "history = model.fit(X_train, y_train, epochs=30, batch_size=16, validation_split=0.2)\n",
    "\n",
    "#model prediction and inverse scaling\n",
    "y_pred_scaled = model.predict(X_test)\n",
    "y_pred = target_scaler.inverse_transform(y_pred_scaled)\n",
    "y_test_orig = target_scaler.inverse_transform(y_test)\n",
    "\n",
    "# extracting the target variables\n",
    "pred_close, pred_macd = y_pred[:, 0], y_pred[:, 1]\n",
    "true_close, true_macd = y_test_orig[:, 0], y_test_orig[:, 1]\n",
    "\n",
    "#converting to numpy in case theres any nans then filter it out\n",
    "pred_close = np.array(pred_close)\n",
    "true_close = np.array(true_close)\n",
    "pred_macd = np.array(pred_macd)\n",
    "true_macd = np.array(true_macd)\n",
    "valid_close = ~np.isnan(pred_close) & ~np.isnan(true_close)\n",
    "valid_macd = ~np.isnan(pred_macd) & ~np.isnan(true_macd)\n",
    "\n",
    "#fit the filtering\n",
    "true_close_clean = true_close[valid_close]\n",
    "pred_close_clean = pred_close[valid_close]\n",
    "true_macd_clean = true_macd[valid_macd]\n",
    "pred_macd_clean = pred_macd[valid_macd]\n",
    "\n",
    "#settuing up the plot figure\n",
    "plt.figure(figsize=(14, 6))\n",
    "\n",
    "# plotting close price for the LSTM model\n",
    "plt.subplot(1, 2, 1)\n",
    "plt.plot(true_close_clean, label='True Close Price', color='green')\n",
    "plt.plot(pred_close_clean, label='Predicted Close Price', color='blue')\n",
    "plt.title('Close Price: Actual vs Predicted')\n",
    "plt.xlabel('Time Steps')\n",
    "plt.ylabel('Price')\n",
    "plt.legend()\n",
    "\n",
    "# plotting macd for the LSTM model\n",
    "plt.subplot(1, 2, 2)\n",
    "plt.plot(true_macd_clean, label='True MACD', color='green')\n",
    "plt.plot(pred_macd_clean, label='Predicted MACD', color='blue')\n",
    "plt.title('MACD: Actual vs Predicted')\n",
    "plt.xlabel('Time Steps')\n",
    "plt.ylabel('MACD Value')\n",
    "plt.legend()\n",
    "plt.tight_layout()\n",
    "plt.show()\n",
    "\n",
    "# printing evaluation statments for MSE and R2 for both close price and macd\n",
    "print(\"Close Price MSE:\", mean_squared_error(true_close_clean, pred_close_clean))\n",
    "print(\"Close Price R²:\", r2_score(true_close_clean, pred_close_clean))\n",
    "print(\"MACD MSE:\", mean_squared_error(true_macd_clean, pred_macd_clean))\n",
    "print(\"MACD R²:\", r2_score(true_macd_clean, pred_macd_clean))\n",
    "\n",
    "\n"
   ]
  },
  {
   "cell_type": "markdown",
   "metadata": {},
   "source": [
    "## importing libomp if you are on macos for the XGBoosting (1/2nd half of real time ensemble model)"
   ]
  },
  {
   "cell_type": "code",
   "execution_count": 140,
   "metadata": {},
   "outputs": [
    {
     "name": "stdout",
     "output_type": "stream",
     "text": [
      "\u001b[34m==>\u001b[0m \u001b[1mAuto-updating Homebrew...\u001b[0m\n",
      "Adjust how often this is run with HOMEBREW_AUTO_UPDATE_SECS or disable with\n",
      "HOMEBREW_NO_AUTO_UPDATE. Hide these hints with HOMEBREW_NO_ENV_HINTS (see `man brew`).\n",
      "\u001b[34m==>\u001b[0m \u001b[1mAuto-updated Homebrew!\u001b[0m\n",
      "Updated 2 taps (homebrew/core and homebrew/cask).\n",
      "\u001b[34m==>\u001b[0m \u001b[1mNew Formulae\u001b[0m\n",
      "brename                    prog8                      technitium-library\n",
      "cargo-shear                technitium-dns\n",
      "\u001b[34m==>\u001b[0m \u001b[1mNew Casks\u001b[0m\n",
      "highlight                                warp@preview\n",
      "\n",
      "You have \u001b[1m9\u001b[0m outdated formulae installed.\n",
      "\n",
      "\u001b[33mWarning:\u001b[0m libomp 20.1.3 is already installed and up-to-date.\n",
      "To reinstall 20.1.3, run:\n",
      "  brew reinstall libomp\n"
     ]
    }
   ],
   "source": [
    "!brew install libomp"
   ]
  },
  {
   "cell_type": "markdown",
   "metadata": {},
   "source": [
    "## Creating the code for xgboosting ,  80:20 train:test ratio"
   ]
  },
  {
   "cell_type": "code",
   "execution_count": 142,
   "metadata": {},
   "outputs": [
    {
     "data": {
      "image/png": "[encoded data removed]",
      "text/plain": [
       "<Figure size 1400x600 with 2 Axes>"
      ]
     },
     "metadata": {},
     "output_type": "display_data"
    },
    {
     "name": "stdout",
     "output_type": "stream",
     "text": [
      "Close Price MSE: 10042.614960029961\n",
      "Close Price R²: -1.9372447480167416\n",
      "MACD MSE: 0.0012941878206554154\n",
      "MACD R²: -1.6132534669303253\n"
     ]
    }
   ],
   "source": [
    "import pandas as pd\n",
    "import numpy as np\n",
    "import matplotlib.pyplot as plt\n",
    "from sklearn.preprocessing import StandardScaler\n",
    "from sklearn.model_selection import train_test_split\n",
    "from sklearn.metrics import mean_squared_error, r2_score\n",
    "from xgboost import XGBRegressor\n",
    "\n",
    "# === Step 1: Define targets (next timestep prediction) ===\n",
    "df_cass_encoded['target_close'] = df_cass_encoded['close'].shift(-1)\n",
    "df_cass_encoded['target_macd'] = df_cass_encoded['MACD'].shift(-1)\n",
    "df_cass_encoded.dropna(subset=['target_close', 'target_macd'], inplace=True)\n",
    "\n",
    "# === Step 2: Feature selection (avoid multicollinearity but preserve signal strength) ===\n",
    "features = [\n",
    "    'close', 'high', 'low', 'open', 'previous_close',\n",
    "    'SMA_5', 'EMA_5', 'RSI_5', 'BB_Upper', 'BB_Lower',\n",
    "    'MACD_Signal', 'ATR_5', 'time_of_day',\n",
    "    'ticker_AAPL', 'ticker_AMZN', 'ticker_GOOGL', \n",
    "    'ticker_META', 'ticker_MSFT', 'ticker_NVDA', 'ticker_TSLA'\n",
    "]\n",
    "targets = ['target_close', 'target_macd']\n",
    "\n",
    "# === Step 3: Scaling ===\n",
    "feature_scaler = StandardScaler()\n",
    "target_scaler = StandardScaler()\n",
    "X = feature_scaler.fit_transform(df_cass_encoded[features])\n",
    "y = target_scaler.fit_transform(df_cass_encoded[targets])\n",
    "\n",
    "# === Step 4: Train-test split (no shuffling for time series) ===\n",
    "X_train, X_test, y_train, y_test = train_test_split(X, y, test_size=0.2, shuffle=False)\n",
    "\n",
    "# === Step 5: XGBoost Regressor (tuned for low-latency real-time) ===\n",
    "xgb_model = XGBRegressor(\n",
    "    n_estimators=80,  # slightly reduced\n",
    "    max_depth=3,\n",
    "    learning_rate=0.08,\n",
    "    subsample=0.9,\n",
    "    colsample_bytree=0.8,\n",
    "    objective='reg:squarederror',\n",
    "    random_state=42\n",
    ")\n",
    "xgb_model.fit(X_train, y_train)\n",
    "\n",
    "# === Step 6: Prediction & Evaluation ===\n",
    "y_pred = xgb_model.predict(X_test)\n",
    "y_test_orig = target_scaler.inverse_transform(y_test)\n",
    "y_pred_orig = target_scaler.inverse_transform(y_pred)\n",
    "\n",
    "true_close, true_macd = y_test_orig[:, 0], y_test_orig[:, 1]\n",
    "pred_close, pred_macd = y_pred_orig[:, 0], y_pred_orig[:, 1]\n",
    "\n",
    "# === Step 7: Metrics ===\n",
    "close_mse = mean_squared_error(true_close, pred_close)\n",
    "close_r2 = r2_score(true_close, pred_close)\n",
    "macd_mse = mean_squared_error(true_macd, pred_macd)\n",
    "macd_r2 = r2_score(true_macd, pred_macd)\n",
    "\n",
    "\n",
    "# === Step 8: Visualization ===\n",
    "plt.figure(figsize=(14, 6))\n",
    "\n",
    "plt.subplot(1, 2, 1)\n",
    "plt.plot(true_close, label='True Close Price', color='green')\n",
    "plt.plot(pred_close, label='Predicted Close Price', color='blue')\n",
    "plt.title('Close Price: Actual vs Predicted (XGBoost)')\n",
    "plt.xlabel('Time Steps')\n",
    "plt.ylabel('Price')\n",
    "plt.legend()\n",
    "\n",
    "plt.subplot(1, 2, 2)\n",
    "plt.plot(true_macd, label='True MACD', color='green')\n",
    "plt.plot(pred_macd, label='Predicted MACD', color='blue')\n",
    "plt.title('MACD: Actual vs Predicted (XGBoost)')\n",
    "plt.xlabel('Time Steps')\n",
    "plt.ylabel('MACD Value')\n",
    "plt.legend()\n",
    "\n",
    "plt.tight_layout()\n",
    "plt.show()\n",
    "\n",
    "print(\"Close Price MSE:\", close_mse)\n",
    "print(\"Close Price R²:\", close_r2)\n",
    "print(\"MACD MSE:\", macd_mse)\n",
    "print(\"MACD R²:\", macd_r2)\n"
   ]
  },
  {
   "cell_type": "markdown",
   "metadata": {},
   "source": [
    "## Ensembling both models together to get a more consistent result. Applying weighted average ensemble principles since LSTM is better at close prediction but XGBoosting is better at MACD"
   ]
  },
  {
   "cell_type": "code",
   "execution_count": 69,
   "metadata": {},
   "outputs": [
    {
     "data": {
      "image/png": "[encoded data removed]",
      "text/plain": [
       "<Figure size 1400x600 with 2 Axes>"
      ]
     },
     "metadata": {},
     "output_type": "display_data"
    },
    {
     "name": "stdout",
     "output_type": "stream",
     "text": [
      "ENSEMBLE Close MSE: 2045.5935754663262\n",
      "ENSEMBLE Close R²: 0.5115856413382969\n",
      "ENSEMBLE MACD MSE: 0.0008986001948967047\n",
      "ENSEMBLE MACD R²: 0.7734746027788532\n"
     ]
    }
   ],
   "source": [
    "import numpy as np\n",
    "import matplotlib.pyplot as plt\n",
    "from sklearn.metrics import mean_squared_error, r2_score\n",
    "\n",
    "# === Step 1: Align array lengths for ensembling ===\n",
    "min_len = min(len(pred_close_clean), len(pred_close))\n",
    "\n",
    "true_close_aligned = true_close[:min_len]\n",
    "true_macd_aligned = true_macd[:min_len]\n",
    "\n",
    "pred_close_clean = pred_close_clean[:min_len]  # LSTM\n",
    "pred_macd_clean = pred_macd_clean[:min_len]\n",
    "\n",
    "pred_close = pred_close[:min_len]  # XGBoost\n",
    "pred_macd = pred_macd[:min_len]\n",
    "\n",
    "# === Step 2: Weighted Average Ensemble ===\n",
    "# Example weights: LSTM 60%, XGBoost 40% for close price, and flipped for MACD\n",
    "w_lstm_close = 0.7\n",
    "w_xgb_close = 0.3\n",
    "\n",
    "w_lstm_macd = 0.3\n",
    "w_xgb_macd = 0.7\n",
    "\n",
    "ensemble_pred_close = (w_lstm_close * pred_close_clean) + (w_xgb_close * pred_close)\n",
    "ensemble_pred_macd = (w_lstm_macd * pred_macd_clean) + (w_xgb_macd * pred_macd)\n",
    "\n",
    "# === Step 3: Evaluate Ensemble Performance ===\n",
    "close_mse = mean_squared_error(true_close_aligned, ensemble_pred_close)\n",
    "close_r2 = r2_score(true_close_aligned, ensemble_pred_close)\n",
    "\n",
    "macd_mse = mean_squared_error(true_macd_aligned, ensemble_pred_macd)\n",
    "macd_r2 = r2_score(true_macd_aligned, ensemble_pred_macd)\n",
    "\n",
    "# === Step 4: Plotting ===\n",
    "plt.figure(figsize=(14, 6))\n",
    "\n",
    "# Plot Close Price\n",
    "plt.subplot(1, 2, 1)\n",
    "plt.plot(true_close_aligned, label='True Close Price', color='green')\n",
    "plt.plot(ensemble_pred_close, label='Ensemble Close Prediction', color='blue')\n",
    "plt.title('Close Price: Actual vs Ensemble Prediction')\n",
    "plt.xlabel('Time Steps')\n",
    "plt.ylabel('Price')\n",
    "plt.legend()\n",
    "\n",
    "# Plot MACD\n",
    "plt.subplot(1, 2, 2)\n",
    "plt.plot(true_macd_aligned, label='True MACD', color='green')\n",
    "plt.plot(ensemble_pred_macd, label='Ensemble MACD Prediction', color='blue')\n",
    "plt.title('MACD: Actual vs Ensemble Prediction')\n",
    "plt.xlabel('Time Steps')\n",
    "plt.ylabel('MACD Value')\n",
    "plt.legend()\n",
    "\n",
    "plt.tight_layout()\n",
    "plt.show()\n",
    "\n",
    "print(\"ENSEMBLE Close MSE:\", close_mse)\n",
    "print(\"ENSEMBLE Close R²:\", close_r2)\n",
    "print(\"ENSEMBLE MACD MSE:\", macd_mse)\n",
    "print(\"ENSEMBLE MACD R²:\", macd_r2)\n"
   ]
  },
  {
   "cell_type": "markdown",
   "metadata": {},
   "source": [
    "versus running LSTM 5 times averaging it. then running xgboosting 5 times, averaging it. then ensembling both together with weighted. It would be beneficial beacuase if we run:\n",
    "\n",
    "Running 5x LSTM we are averaging over the 5 results. → reduces the noise/variance in deep model outputs\n",
    "\n",
    "Running 5x XGBoost averaging over the 5 results again. → stabilizes over tree splits and random seeds\n",
    "\n",
    "Afterwards we combine the best of both worlds. Weighted ensemble → combines sequential insight (LSTM) and pattern recognition (XGB)"
   ]
  },
  {
   "cell_type": "code",
   "execution_count": null,
   "metadata": {},
   "outputs": [],
   "source": []
  }
 ],
 "metadata": {
  "kernelspec": {
   "display_name": "Python 3",
   "language": "python",
   "name": "python3"
  },
  "language_info": {
   "codemirror_mode": {
    "name": "ipython",
    "version": 3
   },
   "file_extension": ".py",
   "mimetype": "text/x-python",
   "name": "python",
   "nbconvert_exporter": "python",
   "pygments_lexer": "ipython3",
   "version": "3.9.6"
  }
 },
 "nbformat": 4,
 "nbformat_minor": 2
}
