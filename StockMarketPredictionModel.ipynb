{
 "cells": [
  {
   "cell_type": "markdown",
   "metadata": {},
   "source": [
    "# Stock Market Prediction Model of the Magnificient Seven "
   ]
  },
  {
   "cell_type": "markdown",
   "metadata": {},
   "source": [
    "#pip install the dependencies from requirements. May take up to 12 minutes"
   ]
  },
  {
   "cell_type": "code",
   "execution_count": 190,
   "metadata": {},
   "outputs": [
    {
     "name": "stdout",
     "output_type": "stream",
     "text": [
      "Defaulting to user installation because normal site-packages is not writeable\n",
      "Requirement already satisfied: pandas in /Users/haseemarshad/Library/Python/3.9/lib/python/site-packages (from -r requirements.txt (line 1)) (2.2.3)\n",
      "Requirement already satisfied: finnhub-python in /Users/haseemarshad/Library/Python/3.9/lib/python/site-packages (from -r requirements.txt (line 2)) (2.4.23)\n",
      "Requirement already satisfied: numpy in /Users/haseemarshad/Library/Python/3.9/lib/python/site-packages (from -r requirements.txt (line 3)) (2.0.2)\n",
      "Requirement already satisfied: cassandra-driver in /Users/haseemarshad/Library/Python/3.9/lib/python/site-packages (from -r requirements.txt (line 4)) (3.29.2)\n",
      "Requirement already satisfied: seaborn in /Users/haseemarshad/Library/Python/3.9/lib/python/site-packages (from -r requirements.txt (line 5)) (0.13.2)\n",
      "Requirement already satisfied: matplotlib in /Users/haseemarshad/Library/Python/3.9/lib/python/site-packages (from -r requirements.txt (line 6)) (3.9.4)\n",
      "Requirement already satisfied: plotly in /Users/haseemarshad/Library/Python/3.9/lib/python/site-packages (from -r requirements.txt (line 7)) (6.0.1)\n",
      "Requirement already satisfied: statsmodels in /Users/haseemarshad/Library/Python/3.9/lib/python/site-packages (from -r requirements.txt (line 8)) (0.14.4)\n",
      "Requirement already satisfied: tensorflow in /Users/haseemarshad/Library/Python/3.9/lib/python/site-packages (from -r requirements.txt (line 9)) (2.19.0)\n",
      "Requirement already satisfied: yfinance in /Users/haseemarshad/Library/Python/3.9/lib/python/site-packages (from -r requirements.txt (line 10)) (0.2.55)\n",
      "Requirement already satisfied: nbformat in /Users/haseemarshad/Library/Python/3.9/lib/python/site-packages (from -r requirements.txt (line 11)) (5.10.4)\n",
      "Requirement already satisfied: sklearn in /Users/haseemarshad/Library/Python/3.9/lib/python/site-packages (from -r requirements.txt (line 12)) (0.0)\n",
      "Requirement already satisfied: xgboost in /Users/haseemarshad/Library/Python/3.9/lib/python/site-packages (from -r requirements.txt (line 13)) (2.1.4)\n",
      "Requirement already satisfied: python-dateutil>=2.8.2 in /Users/haseemarshad/Library/Python/3.9/lib/python/site-packages (from pandas->-r requirements.txt (line 1)) (2.9.0.post0)\n",
      "Requirement already satisfied: tzdata>=2022.7 in /Users/haseemarshad/Library/Python/3.9/lib/python/site-packages (from pandas->-r requirements.txt (line 1)) (2025.2)\n",
      "Requirement already satisfied: pytz>=2020.1 in /Users/haseemarshad/Library/Python/3.9/lib/python/site-packages (from pandas->-r requirements.txt (line 1)) (2025.1)\n",
      "Requirement already satisfied: requests>=2.22.0 in /Users/haseemarshad/Library/Python/3.9/lib/python/site-packages (from finnhub-python->-r requirements.txt (line 2)) (2.32.3)\n",
      "Requirement already satisfied: geomet<0.3,>=0.1 in /Users/haseemarshad/Library/Python/3.9/lib/python/site-packages (from cassandra-driver->-r requirements.txt (line 4)) (0.2.1.post1)\n",
      "Requirement already satisfied: pillow>=8 in /Users/haseemarshad/Library/Python/3.9/lib/python/site-packages (from matplotlib->-r requirements.txt (line 6)) (11.1.0)\n",
      "Requirement already satisfied: cycler>=0.10 in /Users/haseemarshad/Library/Python/3.9/lib/python/site-packages (from matplotlib->-r requirements.txt (line 6)) (0.12.1)\n",
      "Requirement already satisfied: packaging>=20.0 in /Users/haseemarshad/Library/Python/3.9/lib/python/site-packages (from matplotlib->-r requirements.txt (line 6)) (24.2)\n",
      "Requirement already satisfied: fonttools>=4.22.0 in /Users/haseemarshad/Library/Python/3.9/lib/python/site-packages (from matplotlib->-r requirements.txt (line 6)) (4.56.0)\n",
      "Requirement already satisfied: importlib-resources>=3.2.0 in /Users/haseemarshad/Library/Python/3.9/lib/python/site-packages (from matplotlib->-r requirements.txt (line 6)) (6.5.2)\n",
      "Requirement already satisfied: contourpy>=1.0.1 in /Users/haseemarshad/Library/Python/3.9/lib/python/site-packages (from matplotlib->-r requirements.txt (line 6)) (1.3.0)\n",
      "Requirement already satisfied: kiwisolver>=1.3.1 in /Users/haseemarshad/Library/Python/3.9/lib/python/site-packages (from matplotlib->-r requirements.txt (line 6)) (1.4.7)\n",
      "Requirement already satisfied: pyparsing>=2.3.1 in /Users/haseemarshad/Library/Python/3.9/lib/python/site-packages (from matplotlib->-r requirements.txt (line 6)) (3.2.2)\n",
      "Requirement already satisfied: narwhals>=1.15.1 in /Users/haseemarshad/Library/Python/3.9/lib/python/site-packages (from plotly->-r requirements.txt (line 7)) (1.32.0)\n",
      "Requirement already satisfied: patsy>=0.5.6 in /Users/haseemarshad/Library/Python/3.9/lib/python/site-packages (from statsmodels->-r requirements.txt (line 8)) (1.0.1)\n",
      "Requirement already satisfied: scipy!=1.9.2,>=1.8 in /Users/haseemarshad/Library/Python/3.9/lib/python/site-packages (from statsmodels->-r requirements.txt (line 8)) (1.13.1)\n",
      "Requirement already satisfied: libclang>=13.0.0 in /Users/haseemarshad/Library/Python/3.9/lib/python/site-packages (from tensorflow->-r requirements.txt (line 9)) (18.1.1)\n",
      "Requirement already satisfied: tensorflow-io-gcs-filesystem>=0.23.1 in /Users/haseemarshad/Library/Python/3.9/lib/python/site-packages (from tensorflow->-r requirements.txt (line 9)) (0.37.1)\n",
      "Requirement already satisfied: opt-einsum>=2.3.2 in /Users/haseemarshad/Library/Python/3.9/lib/python/site-packages (from tensorflow->-r requirements.txt (line 9)) (3.4.0)\n",
      "Requirement already satisfied: astunparse>=1.6.0 in /Users/haseemarshad/Library/Python/3.9/lib/python/site-packages (from tensorflow->-r requirements.txt (line 9)) (1.6.3)\n",
      "Requirement already satisfied: flatbuffers>=24.3.25 in /Users/haseemarshad/Library/Python/3.9/lib/python/site-packages (from tensorflow->-r requirements.txt (line 9)) (25.2.10)\n",
      "Requirement already satisfied: tensorboard~=2.19.0 in /Users/haseemarshad/Library/Python/3.9/lib/python/site-packages (from tensorflow->-r requirements.txt (line 9)) (2.19.0)\n",
      "Requirement already satisfied: ml-dtypes<1.0.0,>=0.5.1 in /Users/haseemarshad/Library/Python/3.9/lib/python/site-packages (from tensorflow->-r requirements.txt (line 9)) (0.5.1)\n",
      "Requirement already satisfied: keras>=3.5.0 in /Users/haseemarshad/Library/Python/3.9/lib/python/site-packages (from tensorflow->-r requirements.txt (line 9)) (3.9.0)\n",
      "Requirement already satisfied: absl-py>=1.0.0 in /Users/haseemarshad/Library/Python/3.9/lib/python/site-packages (from tensorflow->-r requirements.txt (line 9)) (2.2.0)\n",
      "Requirement already satisfied: grpcio<2.0,>=1.24.3 in /Users/haseemarshad/Library/Python/3.9/lib/python/site-packages (from tensorflow->-r requirements.txt (line 9)) (1.71.0)\n",
      "Requirement already satisfied: termcolor>=1.1.0 in /Users/haseemarshad/Library/Python/3.9/lib/python/site-packages (from tensorflow->-r requirements.txt (line 9)) (2.5.0)\n",
      "Requirement already satisfied: google-pasta>=0.1.1 in /Users/haseemarshad/Library/Python/3.9/lib/python/site-packages (from tensorflow->-r requirements.txt (line 9)) (0.2.0)\n",
      "Requirement already satisfied: h5py>=3.11.0 in /Users/haseemarshad/Library/Python/3.9/lib/python/site-packages (from tensorflow->-r requirements.txt (line 9)) (3.13.0)\n",
      "Requirement already satisfied: setuptools in /Library/Developer/CommandLineTools/Library/Frameworks/Python3.framework/Versions/3.9/lib/python3.9/site-packages (from tensorflow->-r requirements.txt (line 9)) (58.0.4)\n",
      "Requirement already satisfied: gast!=0.5.0,!=0.5.1,!=0.5.2,>=0.2.1 in /Users/haseemarshad/Library/Python/3.9/lib/python/site-packages (from tensorflow->-r requirements.txt (line 9)) (0.6.0)\n",
      "Requirement already satisfied: protobuf!=4.21.0,!=4.21.1,!=4.21.2,!=4.21.3,!=4.21.4,!=4.21.5,<6.0.0dev,>=3.20.3 in /Users/haseemarshad/Library/Python/3.9/lib/python/site-packages (from tensorflow->-r requirements.txt (line 9)) (5.29.4)\n",
      "Requirement already satisfied: six>=1.12.0 in /Library/Developer/CommandLineTools/Library/Frameworks/Python3.framework/Versions/3.9/lib/python3.9/site-packages (from tensorflow->-r requirements.txt (line 9)) (1.15.0)\n",
      "Requirement already satisfied: typing-extensions>=3.6.6 in /Users/haseemarshad/Library/Python/3.9/lib/python/site-packages (from tensorflow->-r requirements.txt (line 9)) (4.12.2)\n",
      "Requirement already satisfied: wrapt>=1.11.0 in /Users/haseemarshad/Library/Python/3.9/lib/python/site-packages (from tensorflow->-r requirements.txt (line 9)) (1.17.2)\n",
      "Requirement already satisfied: multitasking>=0.0.7 in /Users/haseemarshad/Library/Python/3.9/lib/python/site-packages (from yfinance->-r requirements.txt (line 10)) (0.0.11)\n",
      "Requirement already satisfied: frozendict>=2.3.4 in /Users/haseemarshad/Library/Python/3.9/lib/python/site-packages (from yfinance->-r requirements.txt (line 10)) (2.4.6)\n",
      "Requirement already satisfied: beautifulsoup4>=4.11.1 in /Users/haseemarshad/Library/Python/3.9/lib/python/site-packages (from yfinance->-r requirements.txt (line 10)) (4.13.3)\n",
      "Requirement already satisfied: peewee>=3.16.2 in /Users/haseemarshad/Library/Python/3.9/lib/python/site-packages (from yfinance->-r requirements.txt (line 10)) (3.17.9)\n",
      "Requirement already satisfied: platformdirs>=2.0.0 in /Users/haseemarshad/Library/Python/3.9/lib/python/site-packages (from yfinance->-r requirements.txt (line 10)) (4.3.7)\n",
      "Requirement already satisfied: jupyter-core!=5.0.*,>=4.12 in /Users/haseemarshad/Library/Python/3.9/lib/python/site-packages (from nbformat->-r requirements.txt (line 11)) (5.7.2)\n",
      "Requirement already satisfied: traitlets>=5.1 in /Users/haseemarshad/Library/Python/3.9/lib/python/site-packages (from nbformat->-r requirements.txt (line 11)) (5.14.3)\n",
      "Requirement already satisfied: jsonschema>=2.6 in /Users/haseemarshad/Library/Python/3.9/lib/python/site-packages (from nbformat->-r requirements.txt (line 11)) (4.23.0)\n",
      "Requirement already satisfied: fastjsonschema>=2.15 in /Users/haseemarshad/Library/Python/3.9/lib/python/site-packages (from nbformat->-r requirements.txt (line 11)) (2.21.1)\n",
      "Requirement already satisfied: scikit-learn in /Users/haseemarshad/Library/Python/3.9/lib/python/site-packages (from sklearn->-r requirements.txt (line 12)) (1.6.1)\n",
      "Requirement already satisfied: wheel<1.0,>=0.23.0 in /Library/Developer/CommandLineTools/Library/Frameworks/Python3.framework/Versions/3.9/lib/python3.9/site-packages (from astunparse>=1.6.0->tensorflow->-r requirements.txt (line 9)) (0.37.0)\n",
      "Requirement already satisfied: soupsieve>1.2 in /Users/haseemarshad/Library/Python/3.9/lib/python/site-packages (from beautifulsoup4>=4.11.1->yfinance->-r requirements.txt (line 10)) (2.6)\n",
      "Requirement already satisfied: click in /Users/haseemarshad/Library/Python/3.9/lib/python/site-packages (from geomet<0.3,>=0.1->cassandra-driver->-r requirements.txt (line 4)) (8.1.8)\n",
      "Requirement already satisfied: zipp>=3.1.0 in /Users/haseemarshad/Library/Python/3.9/lib/python/site-packages (from importlib-resources>=3.2.0->matplotlib->-r requirements.txt (line 6)) (3.21.0)\n",
      "Requirement already satisfied: rpds-py>=0.7.1 in /Users/haseemarshad/Library/Python/3.9/lib/python/site-packages (from jsonschema>=2.6->nbformat->-r requirements.txt (line 11)) (0.24.0)\n",
      "Requirement already satisfied: referencing>=0.28.4 in /Users/haseemarshad/Library/Python/3.9/lib/python/site-packages (from jsonschema>=2.6->nbformat->-r requirements.txt (line 11)) (0.36.2)\n",
      "Requirement already satisfied: attrs>=22.2.0 in /Users/haseemarshad/Library/Python/3.9/lib/python/site-packages (from jsonschema>=2.6->nbformat->-r requirements.txt (line 11)) (25.3.0)\n",
      "Requirement already satisfied: jsonschema-specifications>=2023.03.6 in /Users/haseemarshad/Library/Python/3.9/lib/python/site-packages (from jsonschema>=2.6->nbformat->-r requirements.txt (line 11)) (2024.10.1)\n",
      "Requirement already satisfied: namex in /Users/haseemarshad/Library/Python/3.9/lib/python/site-packages (from keras>=3.5.0->tensorflow->-r requirements.txt (line 9)) (0.0.8)\n",
      "Requirement already satisfied: optree in /Users/haseemarshad/Library/Python/3.9/lib/python/site-packages (from keras>=3.5.0->tensorflow->-r requirements.txt (line 9)) (0.14.1)\n",
      "Requirement already satisfied: rich in /Users/haseemarshad/Library/Python/3.9/lib/python/site-packages (from keras>=3.5.0->tensorflow->-r requirements.txt (line 9)) (13.9.4)\n",
      "Requirement already satisfied: urllib3<3,>=1.21.1 in /Users/haseemarshad/Library/Python/3.9/lib/python/site-packages (from requests>=2.22.0->finnhub-python->-r requirements.txt (line 2)) (2.3.0)\n",
      "Requirement already satisfied: idna<4,>=2.5 in /Users/haseemarshad/Library/Python/3.9/lib/python/site-packages (from requests>=2.22.0->finnhub-python->-r requirements.txt (line 2)) (3.10)\n",
      "Requirement already satisfied: certifi>=2017.4.17 in /Users/haseemarshad/Library/Python/3.9/lib/python/site-packages (from requests>=2.22.0->finnhub-python->-r requirements.txt (line 2)) (2025.1.31)\n",
      "Requirement already satisfied: charset-normalizer<4,>=2 in /Users/haseemarshad/Library/Python/3.9/lib/python/site-packages (from requests>=2.22.0->finnhub-python->-r requirements.txt (line 2)) (3.4.1)\n",
      "Requirement already satisfied: werkzeug>=1.0.1 in /Users/haseemarshad/Library/Python/3.9/lib/python/site-packages (from tensorboard~=2.19.0->tensorflow->-r requirements.txt (line 9)) (3.1.3)\n",
      "Requirement already satisfied: markdown>=2.6.8 in /Users/haseemarshad/Library/Python/3.9/lib/python/site-packages (from tensorboard~=2.19.0->tensorflow->-r requirements.txt (line 9)) (3.7)\n",
      "Requirement already satisfied: tensorboard-data-server<0.8.0,>=0.7.0 in /Users/haseemarshad/Library/Python/3.9/lib/python/site-packages (from tensorboard~=2.19.0->tensorflow->-r requirements.txt (line 9)) (0.7.2)\n",
      "Requirement already satisfied: importlib-metadata>=4.4 in /Users/haseemarshad/Library/Python/3.9/lib/python/site-packages (from markdown>=2.6.8->tensorboard~=2.19.0->tensorflow->-r requirements.txt (line 9)) (8.6.1)\n",
      "Requirement already satisfied: MarkupSafe>=2.1.1 in /Users/haseemarshad/Library/Python/3.9/lib/python/site-packages (from werkzeug>=1.0.1->tensorboard~=2.19.0->tensorflow->-r requirements.txt (line 9)) (3.0.2)\n",
      "Requirement already satisfied: pygments<3.0.0,>=2.13.0 in /Users/haseemarshad/Library/Python/3.9/lib/python/site-packages (from rich->keras>=3.5.0->tensorflow->-r requirements.txt (line 9)) (2.19.1)\n",
      "Requirement already satisfied: markdown-it-py>=2.2.0 in /Users/haseemarshad/Library/Python/3.9/lib/python/site-packages (from rich->keras>=3.5.0->tensorflow->-r requirements.txt (line 9)) (3.0.0)\n",
      "Requirement already satisfied: mdurl~=0.1 in /Users/haseemarshad/Library/Python/3.9/lib/python/site-packages (from markdown-it-py>=2.2.0->rich->keras>=3.5.0->tensorflow->-r requirements.txt (line 9)) (0.1.2)\n",
      "Requirement already satisfied: joblib>=1.2.0 in /Users/haseemarshad/Library/Python/3.9/lib/python/site-packages (from scikit-learn->sklearn->-r requirements.txt (line 12)) (1.4.2)\n",
      "Requirement already satisfied: threadpoolctl>=3.1.0 in /Users/haseemarshad/Library/Python/3.9/lib/python/site-packages (from scikit-learn->sklearn->-r requirements.txt (line 12)) (3.6.0)\n",
      "\u001b[33mWARNING: You are using pip version 21.2.4; however, version 25.0.1 is available.\n",
      "You should consider upgrading via the '/Library/Developer/CommandLineTools/usr/bin/python3 -m pip install --upgrade pip' command.\u001b[0m\n"
     ]
    }
   ],
   "source": [
    "!python3 -m pip install -r requirements.txt"
   ]
  },
  {
   "cell_type": "markdown",
   "metadata": {},
   "source": [
    "### importing our libraries after pipinstall"
   ]
  },
  {
   "cell_type": "code",
   "execution_count": 110,
   "metadata": {},
   "outputs": [],
   "source": [
    "\n",
    "#python data manipulation\n",
    "import pandas as pd\n",
    "import numpy as np\n",
    "\n",
    "#data visualizaiton tools, EDA\n",
    "import seaborn as sns\n",
    "import matplotlib.pyplot as plt\n",
    "import plotly.express as px\n",
    "\n",
    "#mysql and Cassandra\n",
    "from cassandra.cluster import Cluster          \n",
    "\n",
    "from sklearn.preprocessing import MinMaxScaler\n",
    "from sklearn.metrics import mean_squared_error, r2_score\n",
    "#ARIMA\n",
    "from statsmodels.tsa.arima.model import ARIMA\n",
    "import statsmodels.api as sm\n",
    "\n",
    "\n",
    "\n",
    "#LSTM Neural network\n",
    "from tensorflow.keras.models import Sequential\n",
    "from tensorflow.keras.layers import LSTM, Dense\n",
    "import tensorflow as tf\n",
    "\n",
    "# our finance data\n",
    "import yfinance as yf\n",
    "\n"
   ]
  },
  {
   "cell_type": "markdown",
   "metadata": {},
   "source": [
    "## Extracting the Historical Data.\n",
    "\n",
    "\n",
    " ### The historical aspect of the data is starting from January 1st 2020 to yesterday (april 6th), We can adjust this to most recent always. We extracted the 7 companies and start with first 7 features from our project proposal: Date/time, open price, low price, high price, adjusted close price, trading volume"
   ]
  },
  {
   "cell_type": "code",
   "execution_count": 172,
   "metadata": {},
   "outputs": [],
   "source": [
    "def extract_data(tickers, start_date=\"2020-01-01\", end_date=\"2025-04-06\", interval=\"1d\"):\n",
    "    # importing the yfinance api data, making sure the autoadjust is off because it overrides the close value if its on\n",
    "    df = yf.download(tickers, start=start_date, end=end_date, interval=interval, auto_adjust=False)\n",
    "    # tidying the data to make it better for analysis and transformation later\n",
    "    df.columns = df.columns.swaplevel(0, 1)\n",
    "    df = df.sort_index(axis=1, level=0)\n",
    "    df_flat = df.stack(level=0, future_stack=True).reset_index()  \n",
    "    df_flat.rename(columns={'level_0': 'Date'}, inplace=True)\n",
    "    # renaming 'Adj Close' to 'Adj_Close' for consistency\n",
    "    if 'Adj Close' in df_flat.columns:\n",
    "        df_flat.rename(columns={'Adj Close': 'Adj_Close'}, inplace=True)\n",
    "    # adding the previous day's close price per ticker\n",
    "    df_flat['Previous_Close'] = df_flat.groupby('Ticker')['Close'].shift(1)\n",
    "    # selecting the columns we expect and need\n",
    "    expected_cols = ['Date', 'Ticker', 'Open', 'High', 'Low', 'Close', 'Adj_Close', 'Previous_Close', 'Volume']\n",
    "    existing_cols = [col for col in expected_cols if col in df_flat.columns]\n",
    "    return df_flat[existing_cols]\n"
   ]
  },
  {
   "cell_type": "code",
   "execution_count": 173,
   "metadata": {},
   "outputs": [
    {
     "name": "stderr",
     "output_type": "stream",
     "text": [
      "[*********************100%***********************]  7 of 7 completed\n"
     ]
    },
    {
     "data": {
      "text/html": [
       "<div>\n",
       "<style scoped>\n",
       "    .dataframe tbody tr th:only-of-type {\n",
       "        vertical-align: middle;\n",
       "    }\n",
       "\n",
       "    .dataframe tbody tr th {\n",
       "        vertical-align: top;\n",
       "    }\n",
       "\n",
       "    .dataframe thead th {\n",
       "        text-align: right;\n",
       "    }\n",
       "</style>\n",
       "<table border=\"1\" class=\"dataframe\">\n",
       "  <thead>\n",
       "    <tr style=\"text-align: right;\">\n",
       "      <th>Price</th>\n",
       "      <th>Date</th>\n",
       "      <th>Ticker</th>\n",
       "      <th>Open</th>\n",
       "      <th>High</th>\n",
       "      <th>Low</th>\n",
       "      <th>Close</th>\n",
       "      <th>Adj_Close</th>\n",
       "      <th>Previous_Close</th>\n",
       "      <th>Volume</th>\n",
       "    </tr>\n",
       "  </thead>\n",
       "  <tbody>\n",
       "    <tr>\n",
       "      <th>0</th>\n",
       "      <td>2020-01-02</td>\n",
       "      <td>AAPL</td>\n",
       "      <td>74.059998</td>\n",
       "      <td>75.150002</td>\n",
       "      <td>73.797501</td>\n",
       "      <td>75.087502</td>\n",
       "      <td>72.716064</td>\n",
       "      <td>NaN</td>\n",
       "      <td>135480400</td>\n",
       "    </tr>\n",
       "    <tr>\n",
       "      <th>1</th>\n",
       "      <td>2020-01-02</td>\n",
       "      <td>AMZN</td>\n",
       "      <td>93.750000</td>\n",
       "      <td>94.900497</td>\n",
       "      <td>93.207497</td>\n",
       "      <td>94.900497</td>\n",
       "      <td>94.900497</td>\n",
       "      <td>NaN</td>\n",
       "      <td>80580000</td>\n",
       "    </tr>\n",
       "    <tr>\n",
       "      <th>2</th>\n",
       "      <td>2020-01-02</td>\n",
       "      <td>GOOGL</td>\n",
       "      <td>67.420502</td>\n",
       "      <td>68.433998</td>\n",
       "      <td>67.324501</td>\n",
       "      <td>68.433998</td>\n",
       "      <td>68.108368</td>\n",
       "      <td>NaN</td>\n",
       "      <td>27278000</td>\n",
       "    </tr>\n",
       "    <tr>\n",
       "      <th>3</th>\n",
       "      <td>2020-01-02</td>\n",
       "      <td>META</td>\n",
       "      <td>206.750000</td>\n",
       "      <td>209.789993</td>\n",
       "      <td>206.270004</td>\n",
       "      <td>209.779999</td>\n",
       "      <td>208.795944</td>\n",
       "      <td>NaN</td>\n",
       "      <td>12077100</td>\n",
       "    </tr>\n",
       "    <tr>\n",
       "      <th>4</th>\n",
       "      <td>2020-01-02</td>\n",
       "      <td>MSFT</td>\n",
       "      <td>158.779999</td>\n",
       "      <td>160.729996</td>\n",
       "      <td>158.330002</td>\n",
       "      <td>160.619995</td>\n",
       "      <td>153.323257</td>\n",
       "      <td>NaN</td>\n",
       "      <td>22622100</td>\n",
       "    </tr>\n",
       "    <tr>\n",
       "      <th>...</th>\n",
       "      <td>...</td>\n",
       "      <td>...</td>\n",
       "      <td>...</td>\n",
       "      <td>...</td>\n",
       "      <td>...</td>\n",
       "      <td>...</td>\n",
       "      <td>...</td>\n",
       "      <td>...</td>\n",
       "      <td>...</td>\n",
       "    </tr>\n",
       "    <tr>\n",
       "      <th>9249</th>\n",
       "      <td>2025-04-04</td>\n",
       "      <td>GOOGL</td>\n",
       "      <td>148.009995</td>\n",
       "      <td>151.070007</td>\n",
       "      <td>145.380005</td>\n",
       "      <td>145.600006</td>\n",
       "      <td>145.600006</td>\n",
       "      <td>150.720001</td>\n",
       "      <td>62138600</td>\n",
       "    </tr>\n",
       "    <tr>\n",
       "      <th>9250</th>\n",
       "      <td>2025-04-04</td>\n",
       "      <td>META</td>\n",
       "      <td>506.619995</td>\n",
       "      <td>518.000000</td>\n",
       "      <td>494.200012</td>\n",
       "      <td>504.730011</td>\n",
       "      <td>504.730011</td>\n",
       "      <td>531.619995</td>\n",
       "      <td>38515100</td>\n",
       "    </tr>\n",
       "    <tr>\n",
       "      <th>9251</th>\n",
       "      <td>2025-04-04</td>\n",
       "      <td>MSFT</td>\n",
       "      <td>364.130005</td>\n",
       "      <td>374.589996</td>\n",
       "      <td>359.480011</td>\n",
       "      <td>359.839996</td>\n",
       "      <td>359.839996</td>\n",
       "      <td>373.109985</td>\n",
       "      <td>49138700</td>\n",
       "    </tr>\n",
       "    <tr>\n",
       "      <th>9252</th>\n",
       "      <td>2025-04-04</td>\n",
       "      <td>NVDA</td>\n",
       "      <td>98.910004</td>\n",
       "      <td>100.129997</td>\n",
       "      <td>92.110001</td>\n",
       "      <td>94.309998</td>\n",
       "      <td>94.309998</td>\n",
       "      <td>101.800003</td>\n",
       "      <td>529707700</td>\n",
       "    </tr>\n",
       "    <tr>\n",
       "      <th>9253</th>\n",
       "      <td>2025-04-04</td>\n",
       "      <td>TSLA</td>\n",
       "      <td>255.380005</td>\n",
       "      <td>261.000000</td>\n",
       "      <td>236.000000</td>\n",
       "      <td>239.429993</td>\n",
       "      <td>239.429993</td>\n",
       "      <td>267.279999</td>\n",
       "      <td>180324400</td>\n",
       "    </tr>\n",
       "  </tbody>\n",
       "</table>\n",
       "<p>9254 rows × 9 columns</p>\n",
       "</div>"
      ],
      "text/plain": [
       "Price       Date Ticker        Open        High         Low       Close  \\\n",
       "0     2020-01-02   AAPL   74.059998   75.150002   73.797501   75.087502   \n",
       "1     2020-01-02   AMZN   93.750000   94.900497   93.207497   94.900497   \n",
       "2     2020-01-02  GOOGL   67.420502   68.433998   67.324501   68.433998   \n",
       "3     2020-01-02   META  206.750000  209.789993  206.270004  209.779999   \n",
       "4     2020-01-02   MSFT  158.779999  160.729996  158.330002  160.619995   \n",
       "...          ...    ...         ...         ...         ...         ...   \n",
       "9249  2025-04-04  GOOGL  148.009995  151.070007  145.380005  145.600006   \n",
       "9250  2025-04-04   META  506.619995  518.000000  494.200012  504.730011   \n",
       "9251  2025-04-04   MSFT  364.130005  374.589996  359.480011  359.839996   \n",
       "9252  2025-04-04   NVDA   98.910004  100.129997   92.110001   94.309998   \n",
       "9253  2025-04-04   TSLA  255.380005  261.000000  236.000000  239.429993   \n",
       "\n",
       "Price   Adj_Close  Previous_Close     Volume  \n",
       "0       72.716064             NaN  135480400  \n",
       "1       94.900497             NaN   80580000  \n",
       "2       68.108368             NaN   27278000  \n",
       "3      208.795944             NaN   12077100  \n",
       "4      153.323257             NaN   22622100  \n",
       "...           ...             ...        ...  \n",
       "9249   145.600006      150.720001   62138600  \n",
       "9250   504.730011      531.619995   38515100  \n",
       "9251   359.839996      373.109985   49138700  \n",
       "9252    94.309998      101.800003  529707700  \n",
       "9253   239.429993      267.279999  180324400  \n",
       "\n",
       "[9254 rows x 9 columns]"
      ]
     },
     "metadata": {},
     "output_type": "display_data"
    }
   ],
   "source": [
    "#giving yfinance a list of companies to return a list of data of. AND displaying the df\n",
    "tickers = [\"AAPL\", \"MSFT\", \"GOOGL\", \"AMZN\", \"META\", \"NVDA\", \"TSLA\"]\n",
    "df_raw = extract_data(tickers)\n",
    "display(df_raw)"
   ]
  },
  {
   "cell_type": "markdown",
   "metadata": {},
   "source": [
    "## Historical Data: Data Cleaning: \n",
    "### We will clean the data by taking care of any null values. We can use back and forward filling if there is a value missing from a float/int value. Otherwise we will drop the value if its in the date or Ticker/ or use the average of the past few days for the column. Additionally if there are are any duplicate records for a company and a speciifc date, one should be kept while rest dropped."
   ]
  },
  {
   "cell_type": "code",
   "execution_count": 174,
   "metadata": {},
   "outputs": [
    {
     "name": "stdout",
     "output_type": "stream",
     "text": [
      "Price\n",
      "Date              0\n",
      "Ticker            0\n",
      "Open              0\n",
      "High              0\n",
      "Low               0\n",
      "Close             0\n",
      "Adj_Close         0\n",
      "Previous_Close    7\n",
      "Volume            0\n",
      "dtype: int64\n",
      "Null values after cleaning:\n",
      "Price\n",
      "Date              0\n",
      "Ticker            0\n",
      "Open              0\n",
      "High              0\n",
      "Low               0\n",
      "Close             0\n",
      "Adj_Close         0\n",
      "Previous_Close    0\n",
      "Volume            0\n",
      "dtype: int64\n"
     ]
    },
    {
     "data": {
      "text/html": [
       "<div>\n",
       "<style scoped>\n",
       "    .dataframe tbody tr th:only-of-type {\n",
       "        vertical-align: middle;\n",
       "    }\n",
       "\n",
       "    .dataframe tbody tr th {\n",
       "        vertical-align: top;\n",
       "    }\n",
       "\n",
       "    .dataframe thead th {\n",
       "        text-align: right;\n",
       "    }\n",
       "</style>\n",
       "<table border=\"1\" class=\"dataframe\">\n",
       "  <thead>\n",
       "    <tr style=\"text-align: right;\">\n",
       "      <th>Price</th>\n",
       "      <th>Date</th>\n",
       "      <th>Ticker</th>\n",
       "      <th>Open</th>\n",
       "      <th>High</th>\n",
       "      <th>Low</th>\n",
       "      <th>Close</th>\n",
       "      <th>Adj_Close</th>\n",
       "      <th>Previous_Close</th>\n",
       "      <th>Volume</th>\n",
       "    </tr>\n",
       "  </thead>\n",
       "  <tbody>\n",
       "    <tr>\n",
       "      <th>0</th>\n",
       "      <td>2020-01-02</td>\n",
       "      <td>AAPL</td>\n",
       "      <td>74.059998</td>\n",
       "      <td>75.150002</td>\n",
       "      <td>73.797501</td>\n",
       "      <td>75.087502</td>\n",
       "      <td>72.716064</td>\n",
       "      <td>75.087502</td>\n",
       "      <td>135480400</td>\n",
       "    </tr>\n",
       "    <tr>\n",
       "      <th>1</th>\n",
       "      <td>2020-01-02</td>\n",
       "      <td>AMZN</td>\n",
       "      <td>93.750000</td>\n",
       "      <td>94.900497</td>\n",
       "      <td>93.207497</td>\n",
       "      <td>94.900497</td>\n",
       "      <td>94.900497</td>\n",
       "      <td>94.900497</td>\n",
       "      <td>80580000</td>\n",
       "    </tr>\n",
       "    <tr>\n",
       "      <th>2</th>\n",
       "      <td>2020-01-02</td>\n",
       "      <td>GOOGL</td>\n",
       "      <td>67.420502</td>\n",
       "      <td>68.433998</td>\n",
       "      <td>67.324501</td>\n",
       "      <td>68.433998</td>\n",
       "      <td>68.108368</td>\n",
       "      <td>68.433998</td>\n",
       "      <td>27278000</td>\n",
       "    </tr>\n",
       "    <tr>\n",
       "      <th>3</th>\n",
       "      <td>2020-01-02</td>\n",
       "      <td>META</td>\n",
       "      <td>206.750000</td>\n",
       "      <td>209.789993</td>\n",
       "      <td>206.270004</td>\n",
       "      <td>209.779999</td>\n",
       "      <td>208.795944</td>\n",
       "      <td>209.779999</td>\n",
       "      <td>12077100</td>\n",
       "    </tr>\n",
       "    <tr>\n",
       "      <th>4</th>\n",
       "      <td>2020-01-02</td>\n",
       "      <td>MSFT</td>\n",
       "      <td>158.779999</td>\n",
       "      <td>160.729996</td>\n",
       "      <td>158.330002</td>\n",
       "      <td>160.619995</td>\n",
       "      <td>153.323257</td>\n",
       "      <td>160.619995</td>\n",
       "      <td>22622100</td>\n",
       "    </tr>\n",
       "    <tr>\n",
       "      <th>...</th>\n",
       "      <td>...</td>\n",
       "      <td>...</td>\n",
       "      <td>...</td>\n",
       "      <td>...</td>\n",
       "      <td>...</td>\n",
       "      <td>...</td>\n",
       "      <td>...</td>\n",
       "      <td>...</td>\n",
       "      <td>...</td>\n",
       "    </tr>\n",
       "    <tr>\n",
       "      <th>9249</th>\n",
       "      <td>2025-04-04</td>\n",
       "      <td>GOOGL</td>\n",
       "      <td>148.009995</td>\n",
       "      <td>151.070007</td>\n",
       "      <td>145.380005</td>\n",
       "      <td>145.600006</td>\n",
       "      <td>145.600006</td>\n",
       "      <td>150.720001</td>\n",
       "      <td>62138600</td>\n",
       "    </tr>\n",
       "    <tr>\n",
       "      <th>9250</th>\n",
       "      <td>2025-04-04</td>\n",
       "      <td>META</td>\n",
       "      <td>506.619995</td>\n",
       "      <td>518.000000</td>\n",
       "      <td>494.200012</td>\n",
       "      <td>504.730011</td>\n",
       "      <td>504.730011</td>\n",
       "      <td>531.619995</td>\n",
       "      <td>38515100</td>\n",
       "    </tr>\n",
       "    <tr>\n",
       "      <th>9251</th>\n",
       "      <td>2025-04-04</td>\n",
       "      <td>MSFT</td>\n",
       "      <td>364.130005</td>\n",
       "      <td>374.589996</td>\n",
       "      <td>359.480011</td>\n",
       "      <td>359.839996</td>\n",
       "      <td>359.839996</td>\n",
       "      <td>373.109985</td>\n",
       "      <td>49138700</td>\n",
       "    </tr>\n",
       "    <tr>\n",
       "      <th>9252</th>\n",
       "      <td>2025-04-04</td>\n",
       "      <td>NVDA</td>\n",
       "      <td>98.910004</td>\n",
       "      <td>100.129997</td>\n",
       "      <td>92.110001</td>\n",
       "      <td>94.309998</td>\n",
       "      <td>94.309998</td>\n",
       "      <td>101.800003</td>\n",
       "      <td>529707700</td>\n",
       "    </tr>\n",
       "    <tr>\n",
       "      <th>9253</th>\n",
       "      <td>2025-04-04</td>\n",
       "      <td>TSLA</td>\n",
       "      <td>255.380005</td>\n",
       "      <td>261.000000</td>\n",
       "      <td>236.000000</td>\n",
       "      <td>239.429993</td>\n",
       "      <td>239.429993</td>\n",
       "      <td>267.279999</td>\n",
       "      <td>180324400</td>\n",
       "    </tr>\n",
       "  </tbody>\n",
       "</table>\n",
       "<p>9254 rows × 9 columns</p>\n",
       "</div>"
      ],
      "text/plain": [
       "Price       Date Ticker        Open        High         Low       Close  \\\n",
       "0     2020-01-02   AAPL   74.059998   75.150002   73.797501   75.087502   \n",
       "1     2020-01-02   AMZN   93.750000   94.900497   93.207497   94.900497   \n",
       "2     2020-01-02  GOOGL   67.420502   68.433998   67.324501   68.433998   \n",
       "3     2020-01-02   META  206.750000  209.789993  206.270004  209.779999   \n",
       "4     2020-01-02   MSFT  158.779999  160.729996  158.330002  160.619995   \n",
       "...          ...    ...         ...         ...         ...         ...   \n",
       "9249  2025-04-04  GOOGL  148.009995  151.070007  145.380005  145.600006   \n",
       "9250  2025-04-04   META  506.619995  518.000000  494.200012  504.730011   \n",
       "9251  2025-04-04   MSFT  364.130005  374.589996  359.480011  359.839996   \n",
       "9252  2025-04-04   NVDA   98.910004  100.129997   92.110001   94.309998   \n",
       "9253  2025-04-04   TSLA  255.380005  261.000000  236.000000  239.429993   \n",
       "\n",
       "Price   Adj_Close  Previous_Close     Volume  \n",
       "0       72.716064       75.087502  135480400  \n",
       "1       94.900497       94.900497   80580000  \n",
       "2       68.108368       68.433998   27278000  \n",
       "3      208.795944      209.779999   12077100  \n",
       "4      153.323257      160.619995   22622100  \n",
       "...           ...             ...        ...  \n",
       "9249   145.600006      150.720001   62138600  \n",
       "9250   504.730011      531.619995   38515100  \n",
       "9251   359.839996      373.109985   49138700  \n",
       "9252    94.309998      101.800003  529707700  \n",
       "9253   239.429993      267.279999  180324400  \n",
       "\n",
       "[9254 rows x 9 columns]"
      ]
     },
     "metadata": {},
     "output_type": "display_data"
    }
   ],
   "source": [
    "nans = df_raw.isna().sum()\n",
    "print(nans)\n",
    "def cleaning(df):\n",
    "    # Step 1: Drop duplicates (keep the first entry for each Ticker-Date pair)\n",
    "    df = df.drop_duplicates(subset=['Date', 'Ticker'], keep='first')\n",
    "\n",
    "    # Step 2: Define numeric columns to clean (excluding 'Date' and 'Ticker')\n",
    "    numeric_cols = ['Open', 'High', 'Low', 'Close', 'Adj_Close', 'Volume', 'Previous_Close']\n",
    "    \n",
    "    # Step 3: Fill missing values for numeric columns\n",
    "    for col in numeric_cols:\n",
    "        # Forward fill and backward fill first\n",
    "        df[col] = df.groupby('Ticker')[col].transform(lambda x: x.ffill().bfill())\n",
    "        \n",
    "        # Fill remaining NaNs with rolling mean (3-day window)\n",
    "        df[col] = df.groupby('Ticker')[col].transform(\n",
    "            lambda x: x.fillna(x.rolling(window=3, min_periods=1).mean())\n",
    "        )\n",
    "\n",
    "    # Step 4: Ensure 'Previous_Close' is properly filled (first entry has no previous data)\n",
    "    df['Previous_Close'] = df.groupby('Ticker')['Previous_Close'].ffill()\n",
    "\n",
    "    # Step 5: Drop rows with nulls in 'Date' or 'Ticker' (shouldn't exist, but safety check)\n",
    "    df = df.dropna(subset=['Date', 'Ticker'])\n",
    "\n",
    "    return df\n",
    "# Apply cleaning\n",
    "df_cleaned = cleaning(df_raw)\n",
    "\n",
    "# Verify results\n",
    "print(\"Null values after cleaning:\")\n",
    "print(df_cleaned.isna().sum())\n",
    "display(df_cleaned)"
   ]
  },
  {
   "cell_type": "markdown",
   "metadata": {},
   "source": [
    "## Historical Data, Feature Engineering:\n",
    "\n",
    "### We are going to be transforming the tidy dataframe by doing some feature engineering. We will create the following fields into our table by manipulating the prexisting data from df_cleaned: \n",
    "1. Simple Moving Average (SMA)\n",
    "2. Exponential Moving Average (EMA)\n",
    "3. Relative Strength Index (RSI)\n",
    "4. Bollinger Bands\n",
    "5. MACD (Moving Average Convergence Divergence)\n",
    "6. On-Balance Volume (OBV)\n",
    "7. Volatility (ATR - Average True Range)\n"
   ]
  },
  {
   "cell_type": "code",
   "execution_count": 175,
   "metadata": {},
   "outputs": [
    {
     "data": {
      "text/html": [
       "<div>\n",
       "<style scoped>\n",
       "    .dataframe tbody tr th:only-of-type {\n",
       "        vertical-align: middle;\n",
       "    }\n",
       "\n",
       "    .dataframe tbody tr th {\n",
       "        vertical-align: top;\n",
       "    }\n",
       "\n",
       "    .dataframe thead th {\n",
       "        text-align: right;\n",
       "    }\n",
       "</style>\n",
       "<table border=\"1\" class=\"dataframe\">\n",
       "  <thead>\n",
       "    <tr style=\"text-align: right;\">\n",
       "      <th>Price</th>\n",
       "      <th>Date</th>\n",
       "      <th>Ticker</th>\n",
       "      <th>SMA_20</th>\n",
       "      <th>EMA_20</th>\n",
       "      <th>RSI_14</th>\n",
       "      <th>BB_Upper</th>\n",
       "      <th>BB_Lower</th>\n",
       "      <th>MACD</th>\n",
       "    </tr>\n",
       "  </thead>\n",
       "  <tbody>\n",
       "    <tr>\n",
       "      <th>0</th>\n",
       "      <td>2020-01-02</td>\n",
       "      <td>AAPL</td>\n",
       "      <td>NaN</td>\n",
       "      <td>75.087502</td>\n",
       "      <td>NaN</td>\n",
       "      <td>NaN</td>\n",
       "      <td>NaN</td>\n",
       "      <td>0.000000</td>\n",
       "    </tr>\n",
       "    <tr>\n",
       "      <th>1</th>\n",
       "      <td>2020-01-03</td>\n",
       "      <td>AAPL</td>\n",
       "      <td>NaN</td>\n",
       "      <td>75.017977</td>\n",
       "      <td>NaN</td>\n",
       "      <td>NaN</td>\n",
       "      <td>NaN</td>\n",
       "      <td>-0.058234</td>\n",
       "    </tr>\n",
       "    <tr>\n",
       "      <th>2</th>\n",
       "      <td>2020-01-06</td>\n",
       "      <td>AAPL</td>\n",
       "      <td>NaN</td>\n",
       "      <td>75.011503</td>\n",
       "      <td>NaN</td>\n",
       "      <td>NaN</td>\n",
       "      <td>NaN</td>\n",
       "      <td>-0.055930</td>\n",
       "    </tr>\n",
       "    <tr>\n",
       "      <th>3</th>\n",
       "      <td>2020-01-07</td>\n",
       "      <td>AAPL</td>\n",
       "      <td>NaN</td>\n",
       "      <td>74.972075</td>\n",
       "      <td>NaN</td>\n",
       "      <td>NaN</td>\n",
       "      <td>NaN</td>\n",
       "      <td>-0.081607</td>\n",
       "    </tr>\n",
       "    <tr>\n",
       "      <th>4</th>\n",
       "      <td>2020-01-08</td>\n",
       "      <td>AAPL</td>\n",
       "      <td>NaN</td>\n",
       "      <td>75.050687</td>\n",
       "      <td>NaN</td>\n",
       "      <td>NaN</td>\n",
       "      <td>NaN</td>\n",
       "      <td>-0.005068</td>\n",
       "    </tr>\n",
       "    <tr>\n",
       "      <th>5</th>\n",
       "      <td>2020-01-09</td>\n",
       "      <td>AAPL</td>\n",
       "      <td>NaN</td>\n",
       "      <td>75.275145</td>\n",
       "      <td>NaN</td>\n",
       "      <td>NaN</td>\n",
       "      <td>NaN</td>\n",
       "      <td>0.183389</td>\n",
       "    </tr>\n",
       "    <tr>\n",
       "      <th>6</th>\n",
       "      <td>2020-01-10</td>\n",
       "      <td>AAPL</td>\n",
       "      <td>NaN</td>\n",
       "      <td>75.494893</td>\n",
       "      <td>NaN</td>\n",
       "      <td>NaN</td>\n",
       "      <td>NaN</td>\n",
       "      <td>0.342911</td>\n",
       "    </tr>\n",
       "    <tr>\n",
       "      <th>7</th>\n",
       "      <td>2020-01-13</td>\n",
       "      <td>AAPL</td>\n",
       "      <td>NaN</td>\n",
       "      <td>75.851570</td>\n",
       "      <td>NaN</td>\n",
       "      <td>NaN</td>\n",
       "      <td>NaN</td>\n",
       "      <td>0.596207</td>\n",
       "    </tr>\n",
       "    <tr>\n",
       "      <th>8</th>\n",
       "      <td>2020-01-14</td>\n",
       "      <td>AAPL</td>\n",
       "      <td>NaN</td>\n",
       "      <td>76.072372</td>\n",
       "      <td>NaN</td>\n",
       "      <td>NaN</td>\n",
       "      <td>NaN</td>\n",
       "      <td>0.702507</td>\n",
       "    </tr>\n",
       "    <tr>\n",
       "      <th>9</th>\n",
       "      <td>2020-01-15</td>\n",
       "      <td>AAPL</td>\n",
       "      <td>NaN</td>\n",
       "      <td>76.240241</td>\n",
       "      <td>NaN</td>\n",
       "      <td>NaN</td>\n",
       "      <td>NaN</td>\n",
       "      <td>0.751062</td>\n",
       "    </tr>\n",
       "    <tr>\n",
       "      <th>10</th>\n",
       "      <td>2020-01-16</td>\n",
       "      <td>AAPL</td>\n",
       "      <td>NaN</td>\n",
       "      <td>76.484980</td>\n",
       "      <td>NaN</td>\n",
       "      <td>NaN</td>\n",
       "      <td>NaN</td>\n",
       "      <td>0.858322</td>\n",
       "    </tr>\n",
       "    <tr>\n",
       "      <th>11</th>\n",
       "      <td>2020-01-17</td>\n",
       "      <td>AAPL</td>\n",
       "      <td>NaN</td>\n",
       "      <td>76.789506</td>\n",
       "      <td>NaN</td>\n",
       "      <td>NaN</td>\n",
       "      <td>NaN</td>\n",
       "      <td>1.002178</td>\n",
       "    </tr>\n",
       "    <tr>\n",
       "      <th>12</th>\n",
       "      <td>2020-01-21</td>\n",
       "      <td>AAPL</td>\n",
       "      <td>NaN</td>\n",
       "      <td>77.013601</td>\n",
       "      <td>NaN</td>\n",
       "      <td>NaN</td>\n",
       "      <td>NaN</td>\n",
       "      <td>1.060387</td>\n",
       "    </tr>\n",
       "    <tr>\n",
       "      <th>13</th>\n",
       "      <td>2020-01-22</td>\n",
       "      <td>AAPL</td>\n",
       "      <td>NaN</td>\n",
       "      <td>77.243258</td>\n",
       "      <td>70.868434</td>\n",
       "      <td>NaN</td>\n",
       "      <td>NaN</td>\n",
       "      <td>1.116444</td>\n",
       "    </tr>\n",
       "    <tr>\n",
       "      <th>14</th>\n",
       "      <td>2020-01-23</td>\n",
       "      <td>AAPL</td>\n",
       "      <td>NaN</td>\n",
       "      <td>77.487472</td>\n",
       "      <td>71.902570</td>\n",
       "      <td>NaN</td>\n",
       "      <td>NaN</td>\n",
       "      <td>1.178154</td>\n",
       "    </tr>\n",
       "    <tr>\n",
       "      <th>15</th>\n",
       "      <td>2020-01-24</td>\n",
       "      <td>AAPL</td>\n",
       "      <td>NaN</td>\n",
       "      <td>77.686522</td>\n",
       "      <td>75.401481</td>\n",
       "      <td>NaN</td>\n",
       "      <td>NaN</td>\n",
       "      <td>1.194728</td>\n",
       "    </tr>\n",
       "    <tr>\n",
       "      <th>16</th>\n",
       "      <td>2020-01-27</td>\n",
       "      <td>AAPL</td>\n",
       "      <td>NaN</td>\n",
       "      <td>77.643759</td>\n",
       "      <td>59.513444</td>\n",
       "      <td>NaN</td>\n",
       "      <td>NaN</td>\n",
       "      <td>1.007431</td>\n",
       "    </tr>\n",
       "    <tr>\n",
       "      <th>17</th>\n",
       "      <td>2020-01-28</td>\n",
       "      <td>AAPL</td>\n",
       "      <td>NaN</td>\n",
       "      <td>77.813163</td>\n",
       "      <td>67.412481</td>\n",
       "      <td>NaN</td>\n",
       "      <td>NaN</td>\n",
       "      <td>1.023510</td>\n",
       "    </tr>\n",
       "    <tr>\n",
       "      <th>18</th>\n",
       "      <td>2020-01-29</td>\n",
       "      <td>AAPL</td>\n",
       "      <td>NaN</td>\n",
       "      <td>78.124766</td>\n",
       "      <td>68.465163</td>\n",
       "      <td>NaN</td>\n",
       "      <td>NaN</td>\n",
       "      <td>1.157064</td>\n",
       "    </tr>\n",
       "    <tr>\n",
       "      <th>19</th>\n",
       "      <td>2020-01-30</td>\n",
       "      <td>AAPL</td>\n",
       "      <td>78.009125</td>\n",
       "      <td>78.395502</td>\n",
       "      <td>63.879136</td>\n",
       "      <td>82.191922</td>\n",
       "      <td>73.826328</td>\n",
       "      <td>1.239142</td>\n",
       "    </tr>\n",
       "  </tbody>\n",
       "</table>\n",
       "</div>"
      ],
      "text/plain": [
       "Price       Date Ticker     SMA_20     EMA_20     RSI_14   BB_Upper  \\\n",
       "0     2020-01-02   AAPL        NaN  75.087502        NaN        NaN   \n",
       "1     2020-01-03   AAPL        NaN  75.017977        NaN        NaN   \n",
       "2     2020-01-06   AAPL        NaN  75.011503        NaN        NaN   \n",
       "3     2020-01-07   AAPL        NaN  74.972075        NaN        NaN   \n",
       "4     2020-01-08   AAPL        NaN  75.050687        NaN        NaN   \n",
       "5     2020-01-09   AAPL        NaN  75.275145        NaN        NaN   \n",
       "6     2020-01-10   AAPL        NaN  75.494893        NaN        NaN   \n",
       "7     2020-01-13   AAPL        NaN  75.851570        NaN        NaN   \n",
       "8     2020-01-14   AAPL        NaN  76.072372        NaN        NaN   \n",
       "9     2020-01-15   AAPL        NaN  76.240241        NaN        NaN   \n",
       "10    2020-01-16   AAPL        NaN  76.484980        NaN        NaN   \n",
       "11    2020-01-17   AAPL        NaN  76.789506        NaN        NaN   \n",
       "12    2020-01-21   AAPL        NaN  77.013601        NaN        NaN   \n",
       "13    2020-01-22   AAPL        NaN  77.243258  70.868434        NaN   \n",
       "14    2020-01-23   AAPL        NaN  77.487472  71.902570        NaN   \n",
       "15    2020-01-24   AAPL        NaN  77.686522  75.401481        NaN   \n",
       "16    2020-01-27   AAPL        NaN  77.643759  59.513444        NaN   \n",
       "17    2020-01-28   AAPL        NaN  77.813163  67.412481        NaN   \n",
       "18    2020-01-29   AAPL        NaN  78.124766  68.465163        NaN   \n",
       "19    2020-01-30   AAPL  78.009125  78.395502  63.879136  82.191922   \n",
       "\n",
       "Price   BB_Lower      MACD  \n",
       "0            NaN  0.000000  \n",
       "1            NaN -0.058234  \n",
       "2            NaN -0.055930  \n",
       "3            NaN -0.081607  \n",
       "4            NaN -0.005068  \n",
       "5            NaN  0.183389  \n",
       "6            NaN  0.342911  \n",
       "7            NaN  0.596207  \n",
       "8            NaN  0.702507  \n",
       "9            NaN  0.751062  \n",
       "10           NaN  0.858322  \n",
       "11           NaN  1.002178  \n",
       "12           NaN  1.060387  \n",
       "13           NaN  1.116444  \n",
       "14           NaN  1.178154  \n",
       "15           NaN  1.194728  \n",
       "16           NaN  1.007431  \n",
       "17           NaN  1.023510  \n",
       "18           NaN  1.157064  \n",
       "19     73.826328  1.239142  "
      ]
     },
     "metadata": {},
     "output_type": "display_data"
    },
    {
     "data": {
      "text/html": [
       "<div>\n",
       "<style scoped>\n",
       "    .dataframe tbody tr th:only-of-type {\n",
       "        vertical-align: middle;\n",
       "    }\n",
       "\n",
       "    .dataframe tbody tr th {\n",
       "        vertical-align: top;\n",
       "    }\n",
       "\n",
       "    .dataframe thead th {\n",
       "        text-align: right;\n",
       "    }\n",
       "</style>\n",
       "<table border=\"1\" class=\"dataframe\">\n",
       "  <thead>\n",
       "    <tr style=\"text-align: right;\">\n",
       "      <th>Price</th>\n",
       "      <th>Date</th>\n",
       "      <th>Ticker</th>\n",
       "      <th>Open</th>\n",
       "      <th>High</th>\n",
       "      <th>Low</th>\n",
       "      <th>Close</th>\n",
       "      <th>Adj_Close</th>\n",
       "      <th>Previous_Close</th>\n",
       "      <th>Volume</th>\n",
       "      <th>SMA_20</th>\n",
       "      <th>EMA_20</th>\n",
       "      <th>RSI_14</th>\n",
       "      <th>BB_Middle</th>\n",
       "      <th>BB_Std</th>\n",
       "      <th>BB_Upper</th>\n",
       "      <th>BB_Lower</th>\n",
       "      <th>MACD</th>\n",
       "      <th>MACD_Signal</th>\n",
       "    </tr>\n",
       "  </thead>\n",
       "  <tbody>\n",
       "    <tr>\n",
       "      <th>5308</th>\n",
       "      <td>2020-01-31</td>\n",
       "      <td>MSFT</td>\n",
       "      <td>172.210007</td>\n",
       "      <td>172.399994</td>\n",
       "      <td>169.580002</td>\n",
       "      <td>170.229996</td>\n",
       "      <td>162.496704</td>\n",
       "      <td>172.779999</td>\n",
       "      <td>36142700</td>\n",
       "      <td>164.167999</td>\n",
       "      <td>165.244291</td>\n",
       "      <td>65.892017</td>\n",
       "      <td>164.167999</td>\n",
       "      <td>3.935323</td>\n",
       "      <td>172.038644</td>\n",
       "      <td>156.297353</td>\n",
       "      <td>2.175122</td>\n",
       "      <td>1.508417</td>\n",
       "    </tr>\n",
       "    <tr>\n",
       "      <th>5309</th>\n",
       "      <td>2020-02-03</td>\n",
       "      <td>MSFT</td>\n",
       "      <td>170.429993</td>\n",
       "      <td>174.500000</td>\n",
       "      <td>170.399994</td>\n",
       "      <td>174.380005</td>\n",
       "      <td>166.458176</td>\n",
       "      <td>170.229996</td>\n",
       "      <td>30107000</td>\n",
       "      <td>164.955999</td>\n",
       "      <td>166.114359</td>\n",
       "      <td>68.389658</td>\n",
       "      <td>164.955999</td>\n",
       "      <td>4.324559</td>\n",
       "      <td>173.605117</td>\n",
       "      <td>156.306881</td>\n",
       "      <td>2.627071</td>\n",
       "      <td>1.732148</td>\n",
       "    </tr>\n",
       "    <tr>\n",
       "      <th>5310</th>\n",
       "      <td>2020-02-04</td>\n",
       "      <td>MSFT</td>\n",
       "      <td>177.139999</td>\n",
       "      <td>180.639999</td>\n",
       "      <td>176.309998</td>\n",
       "      <td>180.119995</td>\n",
       "      <td>171.937363</td>\n",
       "      <td>174.380005</td>\n",
       "      <td>36433300</td>\n",
       "      <td>166.010499</td>\n",
       "      <td>167.448229</td>\n",
       "      <td>75.869974</td>\n",
       "      <td>166.010499</td>\n",
       "      <td>5.271194</td>\n",
       "      <td>176.552887</td>\n",
       "      <td>155.468110</td>\n",
       "      <td>3.409114</td>\n",
       "      <td>2.067541</td>\n",
       "    </tr>\n",
       "    <tr>\n",
       "      <th>5311</th>\n",
       "      <td>2020-02-05</td>\n",
       "      <td>MSFT</td>\n",
       "      <td>184.029999</td>\n",
       "      <td>184.199997</td>\n",
       "      <td>178.410004</td>\n",
       "      <td>179.899994</td>\n",
       "      <td>171.727432</td>\n",
       "      <td>180.119995</td>\n",
       "      <td>39186300</td>\n",
       "      <td>167.126498</td>\n",
       "      <td>168.634112</td>\n",
       "      <td>74.631681</td>\n",
       "      <td>167.126498</td>\n",
       "      <td>5.734751</td>\n",
       "      <td>178.596000</td>\n",
       "      <td>155.656997</td>\n",
       "      <td>3.965426</td>\n",
       "      <td>2.447118</td>\n",
       "    </tr>\n",
       "    <tr>\n",
       "      <th>5312</th>\n",
       "      <td>2020-02-06</td>\n",
       "      <td>MSFT</td>\n",
       "      <td>180.970001</td>\n",
       "      <td>183.820007</td>\n",
       "      <td>180.059998</td>\n",
       "      <td>183.630005</td>\n",
       "      <td>175.287979</td>\n",
       "      <td>179.899994</td>\n",
       "      <td>27751400</td>\n",
       "      <td>168.303499</td>\n",
       "      <td>170.062292</td>\n",
       "      <td>75.172992</td>\n",
       "      <td>168.303499</td>\n",
       "      <td>6.569494</td>\n",
       "      <td>181.442486</td>\n",
       "      <td>155.164511</td>\n",
       "      <td>4.653644</td>\n",
       "      <td>2.888423</td>\n",
       "    </tr>\n",
       "  </tbody>\n",
       "</table>\n",
       "</div>"
      ],
      "text/plain": [
       "Price       Date Ticker        Open        High         Low       Close  \\\n",
       "5308  2020-01-31   MSFT  172.210007  172.399994  169.580002  170.229996   \n",
       "5309  2020-02-03   MSFT  170.429993  174.500000  170.399994  174.380005   \n",
       "5310  2020-02-04   MSFT  177.139999  180.639999  176.309998  180.119995   \n",
       "5311  2020-02-05   MSFT  184.029999  184.199997  178.410004  179.899994   \n",
       "5312  2020-02-06   MSFT  180.970001  183.820007  180.059998  183.630005   \n",
       "\n",
       "Price   Adj_Close  Previous_Close    Volume      SMA_20      EMA_20  \\\n",
       "5308   162.496704      172.779999  36142700  164.167999  165.244291   \n",
       "5309   166.458176      170.229996  30107000  164.955999  166.114359   \n",
       "5310   171.937363      174.380005  36433300  166.010499  167.448229   \n",
       "5311   171.727432      180.119995  39186300  167.126498  168.634112   \n",
       "5312   175.287979      179.899994  27751400  168.303499  170.062292   \n",
       "\n",
       "Price     RSI_14   BB_Middle    BB_Std    BB_Upper    BB_Lower      MACD  \\\n",
       "5308   65.892017  164.167999  3.935323  172.038644  156.297353  2.175122   \n",
       "5309   68.389658  164.955999  4.324559  173.605117  156.306881  2.627071   \n",
       "5310   75.869974  166.010499  5.271194  176.552887  155.468110  3.409114   \n",
       "5311   74.631681  167.126498  5.734751  178.596000  155.656997  3.965426   \n",
       "5312   75.172992  168.303499  6.569494  181.442486  155.164511  4.653644   \n",
       "\n",
       "Price  MACD_Signal  \n",
       "5308      1.508417  \n",
       "5309      1.732148  \n",
       "5310      2.067541  \n",
       "5311      2.447118  \n",
       "5312      2.888423  "
      ]
     },
     "metadata": {},
     "output_type": "display_data"
    },
    {
     "data": {
      "text/html": [
       "<div>\n",
       "<style scoped>\n",
       "    .dataframe tbody tr th:only-of-type {\n",
       "        vertical-align: middle;\n",
       "    }\n",
       "\n",
       "    .dataframe tbody tr th {\n",
       "        vertical-align: top;\n",
       "    }\n",
       "\n",
       "    .dataframe thead th {\n",
       "        text-align: right;\n",
       "    }\n",
       "</style>\n",
       "<table border=\"1\" class=\"dataframe\">\n",
       "  <thead>\n",
       "    <tr style=\"text-align: right;\">\n",
       "      <th>Price</th>\n",
       "      <th>Date</th>\n",
       "      <th>Ticker</th>\n",
       "      <th>Open</th>\n",
       "      <th>High</th>\n",
       "      <th>Low</th>\n",
       "      <th>Close</th>\n",
       "      <th>Adj_Close</th>\n",
       "      <th>Previous_Close</th>\n",
       "      <th>Volume</th>\n",
       "      <th>SMA_20</th>\n",
       "      <th>EMA_20</th>\n",
       "      <th>RSI_14</th>\n",
       "      <th>BB_Middle</th>\n",
       "      <th>BB_Std</th>\n",
       "      <th>BB_Upper</th>\n",
       "      <th>BB_Lower</th>\n",
       "      <th>MACD</th>\n",
       "      <th>MACD_Signal</th>\n",
       "    </tr>\n",
       "  </thead>\n",
       "  <tbody>\n",
       "    <tr>\n",
       "      <th>1730</th>\n",
       "      <td>2021-08-16</td>\n",
       "      <td>AMZN</td>\n",
       "      <td>164.149994</td>\n",
       "      <td>165.000000</td>\n",
       "      <td>160.556503</td>\n",
       "      <td>164.949493</td>\n",
       "      <td>164.949493</td>\n",
       "      <td>164.698502</td>\n",
       "      <td>66394000</td>\n",
       "      <td>172.403975</td>\n",
       "      <td>170.279937</td>\n",
       "      <td>16.449412</td>\n",
       "      <td>172.403975</td>\n",
       "      <td>7.639477</td>\n",
       "      <td>187.682929</td>\n",
       "      <td>157.125021</td>\n",
       "      <td>-3.283385</td>\n",
       "      <td>-2.289339</td>\n",
       "    </tr>\n",
       "    <tr>\n",
       "      <th>3532</th>\n",
       "      <td>2023-07-14</td>\n",
       "      <td>GOOGL</td>\n",
       "      <td>124.800003</td>\n",
       "      <td>126.779999</td>\n",
       "      <td>123.489998</td>\n",
       "      <td>125.419998</td>\n",
       "      <td>124.823227</td>\n",
       "      <td>124.540001</td>\n",
       "      <td>33266800</td>\n",
       "      <td>120.856499</td>\n",
       "      <td>120.874578</td>\n",
       "      <td>56.454321</td>\n",
       "      <td>120.856499</td>\n",
       "      <td>2.623323</td>\n",
       "      <td>126.103145</td>\n",
       "      <td>115.609854</td>\n",
       "      <td>0.347237</td>\n",
       "      <td>0.080631</td>\n",
       "    </tr>\n",
       "    <tr>\n",
       "      <th>2583</th>\n",
       "      <td>2025-01-07</td>\n",
       "      <td>AMZN</td>\n",
       "      <td>227.899994</td>\n",
       "      <td>228.380005</td>\n",
       "      <td>221.460007</td>\n",
       "      <td>222.110001</td>\n",
       "      <td>222.110001</td>\n",
       "      <td>227.610001</td>\n",
       "      <td>28084200</td>\n",
       "      <td>225.517999</td>\n",
       "      <td>222.388615</td>\n",
       "      <td>37.793328</td>\n",
       "      <td>225.517999</td>\n",
       "      <td>3.804522</td>\n",
       "      <td>233.127043</td>\n",
       "      <td>217.908956</td>\n",
       "      <td>2.830529</td>\n",
       "      <td>4.049328</td>\n",
       "    </tr>\n",
       "    <tr>\n",
       "      <th>6633</th>\n",
       "      <td>2020-02-05</td>\n",
       "      <td>NVDA</td>\n",
       "      <td>6.299750</td>\n",
       "      <td>6.310000</td>\n",
       "      <td>6.185250</td>\n",
       "      <td>6.269000</td>\n",
       "      <td>6.242254</td>\n",
       "      <td>6.178250</td>\n",
       "      <td>208220000</td>\n",
       "      <td>6.157900</td>\n",
       "      <td>6.128394</td>\n",
       "      <td>54.567870</td>\n",
       "      <td>6.157900</td>\n",
       "      <td>0.110537</td>\n",
       "      <td>6.378974</td>\n",
       "      <td>5.936826</td>\n",
       "      <td>0.022969</td>\n",
       "      <td>0.028871</td>\n",
       "    </tr>\n",
       "    <tr>\n",
       "      <th>8038</th>\n",
       "      <td>2020-06-04</td>\n",
       "      <td>TSLA</td>\n",
       "      <td>59.325333</td>\n",
       "      <td>59.716667</td>\n",
       "      <td>57.229332</td>\n",
       "      <td>57.625332</td>\n",
       "      <td>57.625332</td>\n",
       "      <td>58.863998</td>\n",
       "      <td>133315500</td>\n",
       "      <td>55.007366</td>\n",
       "      <td>54.865779</td>\n",
       "      <td>65.176765</td>\n",
       "      <td>55.007366</td>\n",
       "      <td>2.126960</td>\n",
       "      <td>59.261286</td>\n",
       "      <td>50.753446</td>\n",
       "      <td>2.530437</td>\n",
       "      <td>2.481824</td>\n",
       "    </tr>\n",
       "    <tr>\n",
       "      <th>4909</th>\n",
       "      <td>2023-10-02</td>\n",
       "      <td>META</td>\n",
       "      <td>302.739990</td>\n",
       "      <td>307.179993</td>\n",
       "      <td>301.630005</td>\n",
       "      <td>306.820007</td>\n",
       "      <td>305.380768</td>\n",
       "      <td>300.209991</td>\n",
       "      <td>16265600</td>\n",
       "      <td>301.640500</td>\n",
       "      <td>300.872515</td>\n",
       "      <td>54.275774</td>\n",
       "      <td>301.640500</td>\n",
       "      <td>3.950926</td>\n",
       "      <td>309.542353</td>\n",
       "      <td>293.738647</td>\n",
       "      <td>0.964656</td>\n",
       "      <td>0.715210</td>\n",
       "    </tr>\n",
       "    <tr>\n",
       "      <th>5665</th>\n",
       "      <td>2021-07-01</td>\n",
       "      <td>MSFT</td>\n",
       "      <td>269.609985</td>\n",
       "      <td>271.839996</td>\n",
       "      <td>269.600006</td>\n",
       "      <td>271.600006</td>\n",
       "      <td>263.217896</td>\n",
       "      <td>270.899994</td>\n",
       "      <td>16725300</td>\n",
       "      <td>261.479499</td>\n",
       "      <td>262.592339</td>\n",
       "      <td>75.877594</td>\n",
       "      <td>261.479499</td>\n",
       "      <td>6.459592</td>\n",
       "      <td>274.398683</td>\n",
       "      <td>248.560315</td>\n",
       "      <td>5.229182</td>\n",
       "      <td>4.289221</td>\n",
       "    </tr>\n",
       "    <tr>\n",
       "      <th>2430</th>\n",
       "      <td>2024-05-29</td>\n",
       "      <td>AMZN</td>\n",
       "      <td>181.699997</td>\n",
       "      <td>184.080002</td>\n",
       "      <td>181.550003</td>\n",
       "      <td>182.020004</td>\n",
       "      <td>182.020004</td>\n",
       "      <td>182.149994</td>\n",
       "      <td>32009300</td>\n",
       "      <td>184.806001</td>\n",
       "      <td>183.212480</td>\n",
       "      <td>29.959756</td>\n",
       "      <td>184.806001</td>\n",
       "      <td>2.986227</td>\n",
       "      <td>190.778454</td>\n",
       "      <td>178.833547</td>\n",
       "      <td>0.049376</td>\n",
       "      <td>0.727710</td>\n",
       "    </tr>\n",
       "    <tr>\n",
       "      <th>7939</th>\n",
       "      <td>2020-01-13</td>\n",
       "      <td>TSLA</td>\n",
       "      <td>32.900002</td>\n",
       "      <td>35.042000</td>\n",
       "      <td>32.799999</td>\n",
       "      <td>34.990665</td>\n",
       "      <td>34.990665</td>\n",
       "      <td>31.876667</td>\n",
       "      <td>397764000</td>\n",
       "      <td>NaN</td>\n",
       "      <td>30.407609</td>\n",
       "      <td>NaN</td>\n",
       "      <td>NaN</td>\n",
       "      <td>NaN</td>\n",
       "      <td>NaN</td>\n",
       "      <td>NaN</td>\n",
       "      <td>1.095119</td>\n",
       "      <td>0.539253</td>\n",
       "    </tr>\n",
       "    <tr>\n",
       "      <th>449</th>\n",
       "      <td>2021-10-13</td>\n",
       "      <td>AAPL</td>\n",
       "      <td>141.240005</td>\n",
       "      <td>141.399994</td>\n",
       "      <td>139.199997</td>\n",
       "      <td>140.910004</td>\n",
       "      <td>138.284943</td>\n",
       "      <td>141.509995</td>\n",
       "      <td>78762700</td>\n",
       "      <td>143.437498</td>\n",
       "      <td>143.679877</td>\n",
       "      <td>34.034493</td>\n",
       "      <td>143.437498</td>\n",
       "      <td>2.436589</td>\n",
       "      <td>148.310676</td>\n",
       "      <td>138.564321</td>\n",
       "      <td>-1.730317</td>\n",
       "      <td>-1.678851</td>\n",
       "    </tr>\n",
       "  </tbody>\n",
       "</table>\n",
       "</div>"
      ],
      "text/plain": [
       "Price       Date Ticker        Open        High         Low       Close  \\\n",
       "1730  2021-08-16   AMZN  164.149994  165.000000  160.556503  164.949493   \n",
       "3532  2023-07-14  GOOGL  124.800003  126.779999  123.489998  125.419998   \n",
       "2583  2025-01-07   AMZN  227.899994  228.380005  221.460007  222.110001   \n",
       "6633  2020-02-05   NVDA    6.299750    6.310000    6.185250    6.269000   \n",
       "8038  2020-06-04   TSLA   59.325333   59.716667   57.229332   57.625332   \n",
       "4909  2023-10-02   META  302.739990  307.179993  301.630005  306.820007   \n",
       "5665  2021-07-01   MSFT  269.609985  271.839996  269.600006  271.600006   \n",
       "2430  2024-05-29   AMZN  181.699997  184.080002  181.550003  182.020004   \n",
       "7939  2020-01-13   TSLA   32.900002   35.042000   32.799999   34.990665   \n",
       "449   2021-10-13   AAPL  141.240005  141.399994  139.199997  140.910004   \n",
       "\n",
       "Price   Adj_Close  Previous_Close     Volume      SMA_20      EMA_20  \\\n",
       "1730   164.949493      164.698502   66394000  172.403975  170.279937   \n",
       "3532   124.823227      124.540001   33266800  120.856499  120.874578   \n",
       "2583   222.110001      227.610001   28084200  225.517999  222.388615   \n",
       "6633     6.242254        6.178250  208220000    6.157900    6.128394   \n",
       "8038    57.625332       58.863998  133315500   55.007366   54.865779   \n",
       "4909   305.380768      300.209991   16265600  301.640500  300.872515   \n",
       "5665   263.217896      270.899994   16725300  261.479499  262.592339   \n",
       "2430   182.020004      182.149994   32009300  184.806001  183.212480   \n",
       "7939    34.990665       31.876667  397764000         NaN   30.407609   \n",
       "449    138.284943      141.509995   78762700  143.437498  143.679877   \n",
       "\n",
       "Price     RSI_14   BB_Middle    BB_Std    BB_Upper    BB_Lower      MACD  \\\n",
       "1730   16.449412  172.403975  7.639477  187.682929  157.125021 -3.283385   \n",
       "3532   56.454321  120.856499  2.623323  126.103145  115.609854  0.347237   \n",
       "2583   37.793328  225.517999  3.804522  233.127043  217.908956  2.830529   \n",
       "6633   54.567870    6.157900  0.110537    6.378974    5.936826  0.022969   \n",
       "8038   65.176765   55.007366  2.126960   59.261286   50.753446  2.530437   \n",
       "4909   54.275774  301.640500  3.950926  309.542353  293.738647  0.964656   \n",
       "5665   75.877594  261.479499  6.459592  274.398683  248.560315  5.229182   \n",
       "2430   29.959756  184.806001  2.986227  190.778454  178.833547  0.049376   \n",
       "7939         NaN         NaN       NaN         NaN         NaN  1.095119   \n",
       "449    34.034493  143.437498  2.436589  148.310676  138.564321 -1.730317   \n",
       "\n",
       "Price  MACD_Signal  \n",
       "1730     -2.289339  \n",
       "3532      0.080631  \n",
       "2583      4.049328  \n",
       "6633      0.028871  \n",
       "8038      2.481824  \n",
       "4909      0.715210  \n",
       "5665      4.289221  \n",
       "2430      0.727710  \n",
       "7939      0.539253  \n",
       "449      -1.678851  "
      ]
     },
     "metadata": {},
     "output_type": "display_data"
    }
   ],
   "source": [
    "def transform(df):\n",
    "    # Ensure data is sorted by Ticker and Date\n",
    "    df = df.sort_values(['Ticker', 'Date']).reset_index(drop=True)\n",
    "    \n",
    "    # 1. Simple Moving Average (SMA)\n",
    "    #uses 20 periods of data (NaN till 19 row)\n",
    "    df['SMA_20'] = df.groupby('Ticker')['Close'].transform(lambda x: x.rolling(window=20).mean())\n",
    "    \n",
    "    # 2. Exponential Moving Average (EMA)\n",
    "    df['EMA_20'] = df.groupby('Ticker')['Close'].transform(lambda x: x.ewm(span=20, adjust=False).mean())\n",
    "    \n",
    "    # 3. Relative Strength Index (RSI)\n",
    "    #uses 14 periods of data (NaN till 13 row)\n",
    "    def compute_rsi(data, period=14):\n",
    "        delta = data.diff()\n",
    "        gain = delta.where(delta > 0, 0)\n",
    "        loss = -delta.where(delta < 0, 0)\n",
    "        avg_gain = gain.rolling(window=period).mean()\n",
    "        avg_loss = loss.rolling(window=period).mean()\n",
    "        rs = avg_gain / avg_loss\n",
    "        return 100 - (100 / (1 + rs))\n",
    "    df['RSI_14'] = df.groupby('Ticker')['Close'].transform(compute_rsi)\n",
    "    \n",
    "    # 4. Bollinger Bands\n",
    "    #NaN till we get SMA values (19th row)\n",
    "    df['BB_Middle'] = df['SMA_20']\n",
    "    df['BB_Std'] = df.groupby('Ticker')['Close'].transform(lambda x: x.rolling(window=20).std())\n",
    "    df['BB_Upper'] = df['BB_Middle'] + 2 * df['BB_Std']\n",
    "    df['BB_Lower'] = df['BB_Middle'] - 2 * df['BB_Std']\n",
    "    \n",
    "    # 5. MACD\n",
    "    def compute_macd(data):\n",
    "        ema12 = data.ewm(span=12, adjust=False).mean()\n",
    "        ema26 = data.ewm(span=26, adjust=False).mean()\n",
    "        return ema12 - ema26\n",
    "    df['MACD'] = df.groupby('Ticker')['Close'].transform(compute_macd)\n",
    "    df['MACD_Signal'] = df.groupby('Ticker')['MACD'].transform(lambda x: x.ewm(span=9, adjust=False).mean())\n",
    "    \n",
    "    # # 6. On-Balance Volume (OBV)\n",
    "    # def compute_obv(group):\n",
    "    #     obv = (np.where(group['Close'].diff() > 0, group['Volume'],\n",
    "    #             np.where(group['Close'].diff() < 0, -group['Volume'], 0))).cumsum()\n",
    "    #     return obv\n",
    "    \n",
    "    # df['OBV'] = df.groupby('Ticker', group_keys=False).apply(compute_obv).reset_index(drop=True)\n",
    "    \n",
    "    # # 7. Average True Range (ATR)\n",
    "    # def compute_atr(group):\n",
    "    #     high_low = group['High'] - group['Low']\n",
    "    #     high_close = (group['High'] - group['Close'].shift()).abs()\n",
    "    #     low_close = (group['Low'] - group['Close'].shift()).abs()\n",
    "    #     tr = pd.concat([high_low, high_close, low_close], axis=1).max(axis=1)\n",
    "    #     return tr.rolling(window=14).mean()\n",
    "    \n",
    "    # df['ATR_14'] = df.groupby('Ticker', group_keys=False).apply(compute_atr).reset_index(drop=True)\n",
    "    \n",
    "    # # Forward fill missing values created by rolling windows\n",
    "    # df = df.groupby('Ticker').ffill().reset_index(drop=True)\n",
    "    \n",
    "    return df\n",
    "\n",
    "# Apply transformation to cleaned data\n",
    "df_transformed = transform(df_cleaned)\n",
    "display(df_transformed[['Date', 'Ticker', 'SMA_20', 'EMA_20', 'RSI_14', 'BB_Upper', 'BB_Lower', 'MACD']].head(n=20)) #only shows APPL b/c all other tickers appear later. \n",
    "#add in 'OBV' and 'ATR_14' when fixed \n",
    "\n",
    "#to filter a specific ticker: \n",
    "display(df_transformed[df_transformed['Ticker'] == 'MSFT'].iloc[20:25])\n",
    "\n",
    "#to shuffle/show random rows: \n",
    "display(df_transformed.sample(10))  # Show random rows\n",
    "\n",
    "# count = len(df_transformed)\n",
    "# print(count)\n"
   ]
  },
  {
   "cell_type": "markdown",
   "metadata": {},
   "source": [
    "## Loading into MySQL with historical data "
   ]
  },
  {
   "cell_type": "markdown",
   "metadata": {},
   "source": [
    "## Extracting Real time data\n",
    "### Using Finnhub API to get real time data of the stock market , filling the Cassandra database every 10 seconds until 60seconds is reached for the past minute of data"
   ]
  },
  {
   "cell_type": "code",
   "execution_count": 9,
   "metadata": {},
   "outputs": [],
   "source": [
    "from datetime import datetime\n",
    "import finnhub\n",
    "\n",
    "#using finhub api, use api key\n",
    "finnhub_client = finnhub.Client(api_key=\"cvhdlvhr01qrtb3o0350cvhdlvhr01qrtb3o035g\")\n",
    "\n",
    "tickers = [\"AAPL\", \"MSFT\", \"GOOGL\", \"AMZN\", \"META\", \"NVDA\", \"TSLA\"]\n",
    "\n",
    "def get_realtime_quotes():\n",
    "    quotes = []\n",
    "    for symbol in tickers:\n",
    "        data = finnhub_client.quote(symbol)\n",
    "        quotes.append({\n",
    "            \"Date\": pd.to_datetime(data['t'], unit='s'),\n",
    "            \"Ticker\": symbol,\n",
    "            \"Open\": data['o'],\n",
    "            \"High\": data['h'],\n",
    "            \"Low\": data['l'],\n",
    "            \"Close\": data['c'],           \n",
    "            \"Adj_Close\": data['c'],       \n",
    "            \"Previous_Close\": data['pc'],  \n",
    "            \"Volume\": None               \n",
    "        })\n",
    "    return pd.DataFrame(quotes)\n"
   ]
  },
  {
   "cell_type": "markdown",
   "metadata": {},
   "source": [
    "## Loading into Cassandra with Real time data"
   ]
  },
  {
   "cell_type": "code",
   "execution_count": 10,
   "metadata": {},
   "outputs": [
    {
     "name": "stdout",
     "output_type": "stream",
     "text": [
      "Cassandra connection established.\n"
     ]
    },
    {
     "data": {
      "text/plain": [
       "<cassandra.cluster.ResultSet at 0x17f7ac340>"
      ]
     },
     "execution_count": 10,
     "metadata": {},
     "output_type": "execute_result"
    }
   ],
   "source": [
    "from cassandra.cluster import Cluster\n",
    "\n",
    "try:\n",
    "    cluster = Cluster(['localhost'])\n",
    "    session = cluster.connect()\n",
    "    print(\"Cassandra connection established.\")\n",
    "except Exception as e:\n",
    "    print(\"Connection error:\", e)\n",
    "\n",
    "\n",
    "# connecting to  the Cassandra session\n",
    "cluster = Cluster(['localhost'])\n",
    "session = cluster.connect()\n",
    "\n",
    "# we are making a keyspace called \"stock data\" and inside the keyspace we have a table called real_time_quotes where we are pulling data realtime from the finnhub api\n",
    "session.execute(\"\"\"\n",
    "    CREATE KEYSPACE IF NOT EXISTS stock_data \n",
    "    WITH replication = {'class': 'SimpleStrategy', 'replication_factor': 1};\n",
    "\"\"\")\n",
    "session.set_keyspace('stock_data')\n",
    "#schema for the cassandra csql table\n",
    "session.execute(\"\"\"\n",
    "    CREATE TABLE IF NOT EXISTS real_time_quotes (\n",
    "    ticker TEXT,\n",
    "    date TIMESTAMP,\n",
    "    open DOUBLE,\n",
    "    high DOUBLE,\n",
    "    low DOUBLE,\n",
    "    close DOUBLE,\n",
    "    adj_close DOUBLE,\n",
    "    volume BIGINT,\n",
    "    previous_close DOUBLE,\n",
    "    PRIMARY KEY (ticker, date)\n",
    ");\n",
    "\"\"\")\n"
   ]
  },
  {
   "cell_type": "code",
   "execution_count": 11,
   "metadata": {},
   "outputs": [],
   "source": [
    "#from cassandra.query import PreparedStatement\n",
    "import time\n",
    "#inserting the values from the api and clearing the white space and storing the columns as ticker, date, open, high, low, close, adj_close, and volume\n",
    "def insert_to_cassandra(df):\n",
    "    query = \"\"\"\n",
    "            INSERT INTO real_time_quotes (ticker, date, open, high, low, close, adj_close, volume, previous_close)\n",
    "            VALUES (%s, %s, %s, %s, %s, %s, %s, %s, %s)\n",
    "            \"\"\"\n",
    "\n",
    "    for _, row in df.iterrows():\n",
    "        session.execute(query, (\n",
    "            row['Ticker'],\n",
    "            row['Date'].to_pydatetime(),\n",
    "            row['Open'],\n",
    "            row['High'],\n",
    "            row['Low'],\n",
    "            row['Close'],\n",
    "            row['Adj_Close'],\n",
    "            row['Volume'] if pd.notna(row['Volume']) else 0,\n",
    "            row['Previous_Close'] if pd.notna(row['Previous_Close']) else None\n",
    "        ))  \n",
    "\n",
    "#making a backup incase the cassandra server acts up\n",
    "#def backup_to_csv(df, path='realtime_backup.csv'):\n",
    "    #header = not os.path.exists(path)\n",
    "    #df.to_csv(path, mode='a', index=False, header=header)\n",
    "\n"
   ]
  },
  {
   "cell_type": "code",
   "execution_count": 49,
   "metadata": {},
   "outputs": [
    {
     "name": "stdout",
     "output_type": "stream",
     "text": [
      " For 10 seconds: Adding a new batch of 7 rows into Cassandra DB.\n",
      " For 10 seconds: Adding a new batch of 7 rows into Cassandra DB.\n",
      " For 10 seconds: Adding a new batch of 7 rows into Cassandra DB.\n",
      " For 10 seconds: Adding a new batch of 7 rows into Cassandra DB.\n",
      " For 10 seconds: Adding a new batch of 7 rows into Cassandra DB.\n",
      " For 10 seconds: Adding a new batch of 7 rows into Cassandra DB.\n",
      " For 10 seconds: Adding a new batch of 7 rows into Cassandra DB.\n",
      " For 10 seconds: Adding a new batch of 7 rows into Cassandra DB.\n",
      " For 10 seconds: Adding a new batch of 7 rows into Cassandra DB.\n",
      " For 10 seconds: Adding a new batch of 7 rows into Cassandra DB.\n",
      " For 10 seconds: Adding a new batch of 7 rows into Cassandra DB.\n",
      " For 10 seconds: Adding a new batch of 7 rows into Cassandra DB.\n",
      " For 10 seconds: Adding a new batch of 7 rows into Cassandra DB.\n",
      " For 10 seconds: Adding a new batch of 7 rows into Cassandra DB.\n",
      " For 10 seconds: Adding a new batch of 7 rows into Cassandra DB.\n",
      " For 10 seconds: Adding a new batch of 7 rows into Cassandra DB.\n",
      " For 10 seconds: Adding a new batch of 7 rows into Cassandra DB.\n",
      " For 10 seconds: Adding a new batch of 7 rows into Cassandra DB.\n"
     ]
    }
   ],
   "source": [
    "# pulls stocks values every 10 seconds, 18 times for about 3 minutes + some buffer time \n",
    "for _ in range(18):\n",
    "    df_tenseconds = get_realtime_quotes()\n",
    "    insert_to_cassandra(df_tenseconds)\n",
    "    #backup_to_csv(df_hour)\n",
    "    print(\" For 10 seconds: Adding a new batch of 7 rows into Cassandra DB.\")\n",
    "    time.sleep(10)  # delay to avoid rate limiting with the API"
   ]
  },
  {
   "cell_type": "code",
   "execution_count": 13,
   "metadata": {},
   "outputs": [
    {
     "data": {
      "text/html": [
       "<div>\n",
       "<style scoped>\n",
       "    .dataframe tbody tr th:only-of-type {\n",
       "        vertical-align: middle;\n",
       "    }\n",
       "\n",
       "    .dataframe tbody tr th {\n",
       "        vertical-align: top;\n",
       "    }\n",
       "\n",
       "    .dataframe thead th {\n",
       "        text-align: right;\n",
       "    }\n",
       "</style>\n",
       "<table border=\"1\" class=\"dataframe\">\n",
       "  <thead>\n",
       "    <tr style=\"text-align: right;\">\n",
       "      <th></th>\n",
       "      <th>ticker</th>\n",
       "      <th>date</th>\n",
       "      <th>adj_close</th>\n",
       "      <th>close</th>\n",
       "      <th>high</th>\n",
       "      <th>low</th>\n",
       "      <th>open</th>\n",
       "      <th>previous_close</th>\n",
       "      <th>volume</th>\n",
       "    </tr>\n",
       "  </thead>\n",
       "  <tbody>\n",
       "    <tr>\n",
       "      <th>0</th>\n",
       "      <td>META</td>\n",
       "      <td>2025-04-11 17:06:15</td>\n",
       "      <td>539.950</td>\n",
       "      <td>539.950</td>\n",
       "      <td>551.55</td>\n",
       "      <td>528.5901</td>\n",
       "      <td>551.55</td>\n",
       "      <td>546.29</td>\n",
       "      <td>0</td>\n",
       "    </tr>\n",
       "    <tr>\n",
       "      <th>1</th>\n",
       "      <td>META</td>\n",
       "      <td>2025-04-11 17:06:23</td>\n",
       "      <td>539.950</td>\n",
       "      <td>539.950</td>\n",
       "      <td>551.55</td>\n",
       "      <td>528.5901</td>\n",
       "      <td>551.55</td>\n",
       "      <td>546.29</td>\n",
       "      <td>0</td>\n",
       "    </tr>\n",
       "    <tr>\n",
       "      <th>2</th>\n",
       "      <td>META</td>\n",
       "      <td>2025-04-11 17:06:35</td>\n",
       "      <td>539.950</td>\n",
       "      <td>539.950</td>\n",
       "      <td>551.55</td>\n",
       "      <td>528.5901</td>\n",
       "      <td>551.55</td>\n",
       "      <td>546.29</td>\n",
       "      <td>0</td>\n",
       "    </tr>\n",
       "    <tr>\n",
       "      <th>3</th>\n",
       "      <td>META</td>\n",
       "      <td>2025-04-11 17:06:41</td>\n",
       "      <td>539.950</td>\n",
       "      <td>539.950</td>\n",
       "      <td>551.55</td>\n",
       "      <td>528.5901</td>\n",
       "      <td>551.55</td>\n",
       "      <td>546.29</td>\n",
       "      <td>0</td>\n",
       "    </tr>\n",
       "    <tr>\n",
       "      <th>4</th>\n",
       "      <td>META</td>\n",
       "      <td>2025-04-11 17:06:53</td>\n",
       "      <td>539.950</td>\n",
       "      <td>539.950</td>\n",
       "      <td>551.55</td>\n",
       "      <td>528.5901</td>\n",
       "      <td>551.55</td>\n",
       "      <td>546.29</td>\n",
       "      <td>0</td>\n",
       "    </tr>\n",
       "    <tr>\n",
       "      <th>...</th>\n",
       "      <td>...</td>\n",
       "      <td>...</td>\n",
       "      <td>...</td>\n",
       "      <td>...</td>\n",
       "      <td>...</td>\n",
       "      <td>...</td>\n",
       "      <td>...</td>\n",
       "      <td>...</td>\n",
       "      <td>...</td>\n",
       "    </tr>\n",
       "    <tr>\n",
       "      <th>121</th>\n",
       "      <td>MSFT</td>\n",
       "      <td>2025-04-11 17:08:23</td>\n",
       "      <td>387.105</td>\n",
       "      <td>387.105</td>\n",
       "      <td>388.10</td>\n",
       "      <td>378.8900</td>\n",
       "      <td>384.00</td>\n",
       "      <td>381.35</td>\n",
       "      <td>0</td>\n",
       "    </tr>\n",
       "    <tr>\n",
       "      <th>122</th>\n",
       "      <td>MSFT</td>\n",
       "      <td>2025-04-11 17:08:36</td>\n",
       "      <td>387.105</td>\n",
       "      <td>387.105</td>\n",
       "      <td>388.10</td>\n",
       "      <td>378.8900</td>\n",
       "      <td>384.00</td>\n",
       "      <td>381.35</td>\n",
       "      <td>0</td>\n",
       "    </tr>\n",
       "    <tr>\n",
       "      <th>123</th>\n",
       "      <td>MSFT</td>\n",
       "      <td>2025-04-11 17:08:43</td>\n",
       "      <td>387.105</td>\n",
       "      <td>387.105</td>\n",
       "      <td>388.10</td>\n",
       "      <td>378.8900</td>\n",
       "      <td>384.00</td>\n",
       "      <td>381.35</td>\n",
       "      <td>0</td>\n",
       "    </tr>\n",
       "    <tr>\n",
       "      <th>124</th>\n",
       "      <td>MSFT</td>\n",
       "      <td>2025-04-11 17:08:57</td>\n",
       "      <td>387.105</td>\n",
       "      <td>387.105</td>\n",
       "      <td>388.10</td>\n",
       "      <td>378.8900</td>\n",
       "      <td>384.00</td>\n",
       "      <td>381.35</td>\n",
       "      <td>0</td>\n",
       "    </tr>\n",
       "    <tr>\n",
       "      <th>125</th>\n",
       "      <td>MSFT</td>\n",
       "      <td>2025-04-11 17:09:09</td>\n",
       "      <td>386.625</td>\n",
       "      <td>386.625</td>\n",
       "      <td>388.10</td>\n",
       "      <td>378.8900</td>\n",
       "      <td>384.00</td>\n",
       "      <td>381.35</td>\n",
       "      <td>0</td>\n",
       "    </tr>\n",
       "  </tbody>\n",
       "</table>\n",
       "<p>126 rows × 9 columns</p>\n",
       "</div>"
      ],
      "text/plain": [
       "    ticker                date  adj_close    close    high       low    open  \\\n",
       "0     META 2025-04-11 17:06:15    539.950  539.950  551.55  528.5901  551.55   \n",
       "1     META 2025-04-11 17:06:23    539.950  539.950  551.55  528.5901  551.55   \n",
       "2     META 2025-04-11 17:06:35    539.950  539.950  551.55  528.5901  551.55   \n",
       "3     META 2025-04-11 17:06:41    539.950  539.950  551.55  528.5901  551.55   \n",
       "4     META 2025-04-11 17:06:53    539.950  539.950  551.55  528.5901  551.55   \n",
       "..     ...                 ...        ...      ...     ...       ...     ...   \n",
       "121   MSFT 2025-04-11 17:08:23    387.105  387.105  388.10  378.8900  384.00   \n",
       "122   MSFT 2025-04-11 17:08:36    387.105  387.105  388.10  378.8900  384.00   \n",
       "123   MSFT 2025-04-11 17:08:43    387.105  387.105  388.10  378.8900  384.00   \n",
       "124   MSFT 2025-04-11 17:08:57    387.105  387.105  388.10  378.8900  384.00   \n",
       "125   MSFT 2025-04-11 17:09:09    386.625  386.625  388.10  378.8900  384.00   \n",
       "\n",
       "     previous_close  volume  \n",
       "0            546.29       0  \n",
       "1            546.29       0  \n",
       "2            546.29       0  \n",
       "3            546.29       0  \n",
       "4            546.29       0  \n",
       "..              ...     ...  \n",
       "121          381.35       0  \n",
       "122          381.35       0  \n",
       "123          381.35       0  \n",
       "124          381.35       0  \n",
       "125          381.35       0  \n",
       "\n",
       "[126 rows x 9 columns]"
      ]
     },
     "metadata": {},
     "output_type": "display_data"
    }
   ],
   "source": [
    "#turning the cassandra table into a python pandas dataframe for datamanipulation\n",
    "query = \"SELECT * FROM stock_data.real_time_quotes\"\n",
    "rows = session.execute(query)\n",
    "df_cassandra = pd.DataFrame(rows)\n",
    "display(df_cassandra)"
   ]
  },
  {
   "cell_type": "markdown",
   "metadata": {},
   "source": [
    "## Real Time Data: Data Cleaning \n",
    "Note: we are not removing outliers since time series stock data rely on drastic changes or spikes. Any outliers would be crucial to determine the volatility of a stock. \n"
   ]
  },
  {
   "cell_type": "code",
   "execution_count": 14,
   "metadata": {},
   "outputs": [
    {
     "data": {
      "text/html": [
       "<div>\n",
       "<style scoped>\n",
       "    .dataframe tbody tr th:only-of-type {\n",
       "        vertical-align: middle;\n",
       "    }\n",
       "\n",
       "    .dataframe tbody tr th {\n",
       "        vertical-align: top;\n",
       "    }\n",
       "\n",
       "    .dataframe thead th {\n",
       "        text-align: right;\n",
       "    }\n",
       "</style>\n",
       "<table border=\"1\" class=\"dataframe\">\n",
       "  <thead>\n",
       "    <tr style=\"text-align: right;\">\n",
       "      <th></th>\n",
       "      <th>ticker</th>\n",
       "      <th>date</th>\n",
       "      <th>adj_close</th>\n",
       "      <th>close</th>\n",
       "      <th>high</th>\n",
       "      <th>low</th>\n",
       "      <th>open</th>\n",
       "      <th>previous_close</th>\n",
       "      <th>volume</th>\n",
       "    </tr>\n",
       "  </thead>\n",
       "  <tbody>\n",
       "    <tr>\n",
       "      <th>0</th>\n",
       "      <td>META</td>\n",
       "      <td>2025-04-11 17:06:15</td>\n",
       "      <td>539.950</td>\n",
       "      <td>539.950</td>\n",
       "      <td>551.55</td>\n",
       "      <td>528.5901</td>\n",
       "      <td>551.55</td>\n",
       "      <td>546.29</td>\n",
       "      <td>0</td>\n",
       "    </tr>\n",
       "    <tr>\n",
       "      <th>1</th>\n",
       "      <td>META</td>\n",
       "      <td>2025-04-11 17:06:23</td>\n",
       "      <td>539.950</td>\n",
       "      <td>539.950</td>\n",
       "      <td>551.55</td>\n",
       "      <td>528.5901</td>\n",
       "      <td>551.55</td>\n",
       "      <td>546.29</td>\n",
       "      <td>0</td>\n",
       "    </tr>\n",
       "    <tr>\n",
       "      <th>2</th>\n",
       "      <td>META</td>\n",
       "      <td>2025-04-11 17:06:35</td>\n",
       "      <td>539.950</td>\n",
       "      <td>539.950</td>\n",
       "      <td>551.55</td>\n",
       "      <td>528.5901</td>\n",
       "      <td>551.55</td>\n",
       "      <td>546.29</td>\n",
       "      <td>0</td>\n",
       "    </tr>\n",
       "    <tr>\n",
       "      <th>3</th>\n",
       "      <td>META</td>\n",
       "      <td>2025-04-11 17:06:41</td>\n",
       "      <td>539.950</td>\n",
       "      <td>539.950</td>\n",
       "      <td>551.55</td>\n",
       "      <td>528.5901</td>\n",
       "      <td>551.55</td>\n",
       "      <td>546.29</td>\n",
       "      <td>0</td>\n",
       "    </tr>\n",
       "    <tr>\n",
       "      <th>4</th>\n",
       "      <td>META</td>\n",
       "      <td>2025-04-11 17:06:53</td>\n",
       "      <td>539.950</td>\n",
       "      <td>539.950</td>\n",
       "      <td>551.55</td>\n",
       "      <td>528.5901</td>\n",
       "      <td>551.55</td>\n",
       "      <td>546.29</td>\n",
       "      <td>0</td>\n",
       "    </tr>\n",
       "    <tr>\n",
       "      <th>...</th>\n",
       "      <td>...</td>\n",
       "      <td>...</td>\n",
       "      <td>...</td>\n",
       "      <td>...</td>\n",
       "      <td>...</td>\n",
       "      <td>...</td>\n",
       "      <td>...</td>\n",
       "      <td>...</td>\n",
       "      <td>...</td>\n",
       "    </tr>\n",
       "    <tr>\n",
       "      <th>121</th>\n",
       "      <td>MSFT</td>\n",
       "      <td>2025-04-11 17:08:23</td>\n",
       "      <td>387.105</td>\n",
       "      <td>387.105</td>\n",
       "      <td>388.10</td>\n",
       "      <td>378.8900</td>\n",
       "      <td>384.00</td>\n",
       "      <td>381.35</td>\n",
       "      <td>0</td>\n",
       "    </tr>\n",
       "    <tr>\n",
       "      <th>122</th>\n",
       "      <td>MSFT</td>\n",
       "      <td>2025-04-11 17:08:36</td>\n",
       "      <td>387.105</td>\n",
       "      <td>387.105</td>\n",
       "      <td>388.10</td>\n",
       "      <td>378.8900</td>\n",
       "      <td>384.00</td>\n",
       "      <td>381.35</td>\n",
       "      <td>0</td>\n",
       "    </tr>\n",
       "    <tr>\n",
       "      <th>123</th>\n",
       "      <td>MSFT</td>\n",
       "      <td>2025-04-11 17:08:43</td>\n",
       "      <td>387.105</td>\n",
       "      <td>387.105</td>\n",
       "      <td>388.10</td>\n",
       "      <td>378.8900</td>\n",
       "      <td>384.00</td>\n",
       "      <td>381.35</td>\n",
       "      <td>0</td>\n",
       "    </tr>\n",
       "    <tr>\n",
       "      <th>124</th>\n",
       "      <td>MSFT</td>\n",
       "      <td>2025-04-11 17:08:57</td>\n",
       "      <td>387.105</td>\n",
       "      <td>387.105</td>\n",
       "      <td>388.10</td>\n",
       "      <td>378.8900</td>\n",
       "      <td>384.00</td>\n",
       "      <td>381.35</td>\n",
       "      <td>0</td>\n",
       "    </tr>\n",
       "    <tr>\n",
       "      <th>125</th>\n",
       "      <td>MSFT</td>\n",
       "      <td>2025-04-11 17:09:09</td>\n",
       "      <td>386.625</td>\n",
       "      <td>386.625</td>\n",
       "      <td>388.10</td>\n",
       "      <td>378.8900</td>\n",
       "      <td>384.00</td>\n",
       "      <td>381.35</td>\n",
       "      <td>0</td>\n",
       "    </tr>\n",
       "  </tbody>\n",
       "</table>\n",
       "<p>126 rows × 9 columns</p>\n",
       "</div>"
      ],
      "text/plain": [
       "    ticker                date  adj_close    close    high       low    open  \\\n",
       "0     META 2025-04-11 17:06:15    539.950  539.950  551.55  528.5901  551.55   \n",
       "1     META 2025-04-11 17:06:23    539.950  539.950  551.55  528.5901  551.55   \n",
       "2     META 2025-04-11 17:06:35    539.950  539.950  551.55  528.5901  551.55   \n",
       "3     META 2025-04-11 17:06:41    539.950  539.950  551.55  528.5901  551.55   \n",
       "4     META 2025-04-11 17:06:53    539.950  539.950  551.55  528.5901  551.55   \n",
       "..     ...                 ...        ...      ...     ...       ...     ...   \n",
       "121   MSFT 2025-04-11 17:08:23    387.105  387.105  388.10  378.8900  384.00   \n",
       "122   MSFT 2025-04-11 17:08:36    387.105  387.105  388.10  378.8900  384.00   \n",
       "123   MSFT 2025-04-11 17:08:43    387.105  387.105  388.10  378.8900  384.00   \n",
       "124   MSFT 2025-04-11 17:08:57    387.105  387.105  388.10  378.8900  384.00   \n",
       "125   MSFT 2025-04-11 17:09:09    386.625  386.625  388.10  378.8900  384.00   \n",
       "\n",
       "     previous_close  volume  \n",
       "0            546.29       0  \n",
       "1            546.29       0  \n",
       "2            546.29       0  \n",
       "3            546.29       0  \n",
       "4            546.29       0  \n",
       "..              ...     ...  \n",
       "121          381.35       0  \n",
       "122          381.35       0  \n",
       "123          381.35       0  \n",
       "124          381.35       0  \n",
       "125          381.35       0  \n",
       "\n",
       "[126 rows x 9 columns]"
      ]
     },
     "metadata": {},
     "output_type": "display_data"
    },
    {
     "name": "stdout",
     "output_type": "stream",
     "text": [
      "\n",
      "Null Count for Real Time Data (Extracted from Cassandra):\n",
      "\n",
      "ticker            0\n",
      "date              0\n",
      "adj_close         0\n",
      "close             0\n",
      "high              0\n",
      "low               0\n",
      "open              0\n",
      "previous_close    0\n",
      "volume            0\n",
      "dtype: int64\n"
     ]
    }
   ],
   "source": [
    "def cleaning(df):\n",
    "    # making sure the date column is only in date time format\n",
    "    df['date'] = pd.to_datetime(df['date'])\n",
    "    #dropping rows that are missing ticker or date since its the most integral portion\n",
    "    df = df.dropna(subset=['ticker', 'date'])\n",
    "    # filling in the missing values using forward fill, or backfill when available \n",
    "    float_cols = ['open', 'high', 'low', 'close', 'adj_close', 'volume', 'previous_close']\n",
    "    for col in float_cols:\n",
    "        if col in df.columns:\n",
    "            df[col] = df[col].ffill().bfill()\n",
    "    # if there is still any remaining numerical columns (float)we can just average fill it \n",
    "    for col in float_cols:\n",
    "        if df[col].isna().any():\n",
    "            df[col] = df[col].fillna(df[col].mean())\n",
    "    # making sure theres no duplicate \n",
    "    df = df.drop_duplicates(subset=['ticker', 'date'], keep='last')\n",
    "    # reseting index if we drop\n",
    "    df = df.reset_index(drop=True)\n",
    "    return df\n",
    "\n",
    "\n",
    "#applying the cleaning function on our previous tile: df_cassandra dataframe\n",
    "df_cassandracleaned = cleaning(df_cassandra)\n",
    "display(df_cassandracleaned)\n",
    "print(\"\\nNull Count for Real Time Data (Extracted from Cassandra):\\n\")\n",
    "print(df_cassandracleaned.isnull().sum())"
   ]
  },
  {
   "cell_type": "markdown",
   "metadata": {},
   "source": [
    "### Note: Finnhub API does not provide real time volume in its free API model. Additionally accuracy of per second volume would be hard to predict. We would potentially need to drop this or exclude volume entirely from subsequent machine learning later"
   ]
  },
  {
   "cell_type": "markdown",
   "metadata": {},
   "source": [
    "## Real Time Data: Feature Engineering\n",
    "### Can only perform this on a weekday between 8am EST and 4pm EST. Otherwise we will not be able to get more than 1 iteration of results since stock market is closed realtime. \n",
    "1. Simple Moving Average (SMA)\n",
    "2. Exponential Moving Average (EMA)\n",
    "3. Relative Strength Index (RSI)\n",
    "4. Bollinger Bands\n",
    "5. MACD (Moving Average Convergence Divergence)\n",
    "6. On-Balance Volume (OBV)\n",
    "7. Volatility (ATR - Average True Range)\n"
   ]
  },
  {
   "cell_type": "code",
   "execution_count": 15,
   "metadata": {},
   "outputs": [
    {
     "data": {
      "text/html": [
       "<div>\n",
       "<style scoped>\n",
       "    .dataframe tbody tr th:only-of-type {\n",
       "        vertical-align: middle;\n",
       "    }\n",
       "\n",
       "    .dataframe tbody tr th {\n",
       "        vertical-align: top;\n",
       "    }\n",
       "\n",
       "    .dataframe thead th {\n",
       "        text-align: right;\n",
       "    }\n",
       "</style>\n",
       "<table border=\"1\" class=\"dataframe\">\n",
       "  <thead>\n",
       "    <tr style=\"text-align: right;\">\n",
       "      <th></th>\n",
       "      <th>ticker</th>\n",
       "      <th>date</th>\n",
       "      <th>adj_close</th>\n",
       "      <th>close</th>\n",
       "      <th>high</th>\n",
       "      <th>low</th>\n",
       "      <th>open</th>\n",
       "      <th>previous_close</th>\n",
       "      <th>volume</th>\n",
       "      <th>SMA_5</th>\n",
       "      <th>EMA_5</th>\n",
       "      <th>RSI_5</th>\n",
       "      <th>BB_Middle</th>\n",
       "      <th>BB_Std</th>\n",
       "      <th>BB_Upper</th>\n",
       "      <th>BB_Lower</th>\n",
       "      <th>MACD</th>\n",
       "      <th>MACD_Signal</th>\n",
       "      <th>OBV</th>\n",
       "      <th>ATR_5</th>\n",
       "    </tr>\n",
       "  </thead>\n",
       "  <tbody>\n",
       "    <tr>\n",
       "      <th>36</th>\n",
       "      <td>AAPL</td>\n",
       "      <td>2025-04-11 17:06:15</td>\n",
       "      <td>198.0950</td>\n",
       "      <td>198.0950</td>\n",
       "      <td>199.35</td>\n",
       "      <td>186.0600</td>\n",
       "      <td>191.83</td>\n",
       "      <td>190.42</td>\n",
       "      <td>0</td>\n",
       "      <td>NaN</td>\n",
       "      <td>198.095000</td>\n",
       "      <td>NaN</td>\n",
       "      <td>NaN</td>\n",
       "      <td>NaN</td>\n",
       "      <td>NaN</td>\n",
       "      <td>NaN</td>\n",
       "      <td>0.000000</td>\n",
       "      <td>0.000000</td>\n",
       "      <td>0</td>\n",
       "      <td>NaN</td>\n",
       "    </tr>\n",
       "    <tr>\n",
       "      <th>37</th>\n",
       "      <td>AAPL</td>\n",
       "      <td>2025-04-11 17:06:24</td>\n",
       "      <td>198.0950</td>\n",
       "      <td>198.0950</td>\n",
       "      <td>199.35</td>\n",
       "      <td>186.0600</td>\n",
       "      <td>191.83</td>\n",
       "      <td>190.42</td>\n",
       "      <td>0</td>\n",
       "      <td>NaN</td>\n",
       "      <td>198.095000</td>\n",
       "      <td>NaN</td>\n",
       "      <td>NaN</td>\n",
       "      <td>NaN</td>\n",
       "      <td>NaN</td>\n",
       "      <td>NaN</td>\n",
       "      <td>0.000000</td>\n",
       "      <td>0.000000</td>\n",
       "      <td>0</td>\n",
       "      <td>NaN</td>\n",
       "    </tr>\n",
       "    <tr>\n",
       "      <th>38</th>\n",
       "      <td>AAPL</td>\n",
       "      <td>2025-04-11 17:06:36</td>\n",
       "      <td>198.0950</td>\n",
       "      <td>198.0950</td>\n",
       "      <td>199.35</td>\n",
       "      <td>186.0600</td>\n",
       "      <td>191.83</td>\n",
       "      <td>190.42</td>\n",
       "      <td>0</td>\n",
       "      <td>NaN</td>\n",
       "      <td>198.095000</td>\n",
       "      <td>NaN</td>\n",
       "      <td>NaN</td>\n",
       "      <td>NaN</td>\n",
       "      <td>NaN</td>\n",
       "      <td>NaN</td>\n",
       "      <td>0.000000</td>\n",
       "      <td>0.000000</td>\n",
       "      <td>0</td>\n",
       "      <td>NaN</td>\n",
       "    </tr>\n",
       "    <tr>\n",
       "      <th>39</th>\n",
       "      <td>AAPL</td>\n",
       "      <td>2025-04-11 17:06:45</td>\n",
       "      <td>198.0950</td>\n",
       "      <td>198.0950</td>\n",
       "      <td>199.35</td>\n",
       "      <td>186.0600</td>\n",
       "      <td>191.83</td>\n",
       "      <td>190.42</td>\n",
       "      <td>0</td>\n",
       "      <td>NaN</td>\n",
       "      <td>198.095000</td>\n",
       "      <td>NaN</td>\n",
       "      <td>NaN</td>\n",
       "      <td>NaN</td>\n",
       "      <td>NaN</td>\n",
       "      <td>NaN</td>\n",
       "      <td>0.000000</td>\n",
       "      <td>0.000000</td>\n",
       "      <td>0</td>\n",
       "      <td>NaN</td>\n",
       "    </tr>\n",
       "    <tr>\n",
       "      <th>40</th>\n",
       "      <td>AAPL</td>\n",
       "      <td>2025-04-11 17:06:53</td>\n",
       "      <td>198.0950</td>\n",
       "      <td>198.0950</td>\n",
       "      <td>199.35</td>\n",
       "      <td>186.0600</td>\n",
       "      <td>191.83</td>\n",
       "      <td>190.42</td>\n",
       "      <td>0</td>\n",
       "      <td>198.09500</td>\n",
       "      <td>198.095000</td>\n",
       "      <td>NaN</td>\n",
       "      <td>198.09500</td>\n",
       "      <td>0.000000</td>\n",
       "      <td>198.095000</td>\n",
       "      <td>198.095000</td>\n",
       "      <td>0.000000</td>\n",
       "      <td>0.000000</td>\n",
       "      <td>0</td>\n",
       "      <td>13.2900</td>\n",
       "    </tr>\n",
       "    <tr>\n",
       "      <th>...</th>\n",
       "      <td>...</td>\n",
       "      <td>...</td>\n",
       "      <td>...</td>\n",
       "      <td>...</td>\n",
       "      <td>...</td>\n",
       "      <td>...</td>\n",
       "      <td>...</td>\n",
       "      <td>...</td>\n",
       "      <td>...</td>\n",
       "      <td>...</td>\n",
       "      <td>...</td>\n",
       "      <td>...</td>\n",
       "      <td>...</td>\n",
       "      <td>...</td>\n",
       "      <td>...</td>\n",
       "      <td>...</td>\n",
       "      <td>...</td>\n",
       "      <td>...</td>\n",
       "      <td>...</td>\n",
       "      <td>...</td>\n",
       "    </tr>\n",
       "    <tr>\n",
       "      <th>31</th>\n",
       "      <td>TSLA</td>\n",
       "      <td>2025-04-11 17:08:25</td>\n",
       "      <td>249.3514</td>\n",
       "      <td>249.3514</td>\n",
       "      <td>257.74</td>\n",
       "      <td>241.3629</td>\n",
       "      <td>253.00</td>\n",
       "      <td>252.40</td>\n",
       "      <td>0</td>\n",
       "      <td>249.41084</td>\n",
       "      <td>249.378001</td>\n",
       "      <td>0.0</td>\n",
       "      <td>249.41084</td>\n",
       "      <td>0.081392</td>\n",
       "      <td>249.573623</td>\n",
       "      <td>249.248057</td>\n",
       "      <td>0.158252</td>\n",
       "      <td>0.133662</td>\n",
       "      <td>0</td>\n",
       "      <td>16.3771</td>\n",
       "    </tr>\n",
       "    <tr>\n",
       "      <th>32</th>\n",
       "      <td>TSLA</td>\n",
       "      <td>2025-04-11 17:08:37</td>\n",
       "      <td>249.3514</td>\n",
       "      <td>249.3514</td>\n",
       "      <td>257.74</td>\n",
       "      <td>241.3629</td>\n",
       "      <td>253.00</td>\n",
       "      <td>252.40</td>\n",
       "      <td>0</td>\n",
       "      <td>249.38112</td>\n",
       "      <td>249.369134</td>\n",
       "      <td>0.0</td>\n",
       "      <td>249.38112</td>\n",
       "      <td>0.066456</td>\n",
       "      <td>249.514032</td>\n",
       "      <td>249.248208</td>\n",
       "      <td>0.151233</td>\n",
       "      <td>0.137176</td>\n",
       "      <td>0</td>\n",
       "      <td>16.3771</td>\n",
       "    </tr>\n",
       "    <tr>\n",
       "      <th>33</th>\n",
       "      <td>TSLA</td>\n",
       "      <td>2025-04-11 17:08:49</td>\n",
       "      <td>249.3514</td>\n",
       "      <td>249.3514</td>\n",
       "      <td>257.74</td>\n",
       "      <td>241.3629</td>\n",
       "      <td>253.00</td>\n",
       "      <td>252.40</td>\n",
       "      <td>0</td>\n",
       "      <td>249.35140</td>\n",
       "      <td>249.363223</td>\n",
       "      <td>0.0</td>\n",
       "      <td>249.35140</td>\n",
       "      <td>0.000000</td>\n",
       "      <td>249.351400</td>\n",
       "      <td>249.351400</td>\n",
       "      <td>0.144009</td>\n",
       "      <td>0.138543</td>\n",
       "      <td>0</td>\n",
       "      <td>16.3771</td>\n",
       "    </tr>\n",
       "    <tr>\n",
       "      <th>34</th>\n",
       "      <td>TSLA</td>\n",
       "      <td>2025-04-11 17:08:57</td>\n",
       "      <td>249.3514</td>\n",
       "      <td>249.3514</td>\n",
       "      <td>257.74</td>\n",
       "      <td>241.3629</td>\n",
       "      <td>253.00</td>\n",
       "      <td>252.40</td>\n",
       "      <td>0</td>\n",
       "      <td>249.35140</td>\n",
       "      <td>249.359282</td>\n",
       "      <td>NaN</td>\n",
       "      <td>249.35140</td>\n",
       "      <td>0.000000</td>\n",
       "      <td>249.351400</td>\n",
       "      <td>249.351400</td>\n",
       "      <td>0.136709</td>\n",
       "      <td>0.138176</td>\n",
       "      <td>0</td>\n",
       "      <td>16.3771</td>\n",
       "    </tr>\n",
       "    <tr>\n",
       "      <th>35</th>\n",
       "      <td>TSLA</td>\n",
       "      <td>2025-04-11 17:09:09</td>\n",
       "      <td>248.7000</td>\n",
       "      <td>248.7000</td>\n",
       "      <td>257.74</td>\n",
       "      <td>241.3629</td>\n",
       "      <td>253.00</td>\n",
       "      <td>252.40</td>\n",
       "      <td>0</td>\n",
       "      <td>249.22112</td>\n",
       "      <td>249.139521</td>\n",
       "      <td>0.0</td>\n",
       "      <td>249.22112</td>\n",
       "      <td>0.291315</td>\n",
       "      <td>249.803750</td>\n",
       "      <td>248.638490</td>\n",
       "      <td>0.077468</td>\n",
       "      <td>0.126034</td>\n",
       "      <td>0</td>\n",
       "      <td>16.3771</td>\n",
       "    </tr>\n",
       "  </tbody>\n",
       "</table>\n",
       "<p>126 rows × 20 columns</p>\n",
       "</div>"
      ],
      "text/plain": [
       "   ticker                date  adj_close     close    high       low    open  \\\n",
       "36   AAPL 2025-04-11 17:06:15   198.0950  198.0950  199.35  186.0600  191.83   \n",
       "37   AAPL 2025-04-11 17:06:24   198.0950  198.0950  199.35  186.0600  191.83   \n",
       "38   AAPL 2025-04-11 17:06:36   198.0950  198.0950  199.35  186.0600  191.83   \n",
       "39   AAPL 2025-04-11 17:06:45   198.0950  198.0950  199.35  186.0600  191.83   \n",
       "40   AAPL 2025-04-11 17:06:53   198.0950  198.0950  199.35  186.0600  191.83   \n",
       "..    ...                 ...        ...       ...     ...       ...     ...   \n",
       "31   TSLA 2025-04-11 17:08:25   249.3514  249.3514  257.74  241.3629  253.00   \n",
       "32   TSLA 2025-04-11 17:08:37   249.3514  249.3514  257.74  241.3629  253.00   \n",
       "33   TSLA 2025-04-11 17:08:49   249.3514  249.3514  257.74  241.3629  253.00   \n",
       "34   TSLA 2025-04-11 17:08:57   249.3514  249.3514  257.74  241.3629  253.00   \n",
       "35   TSLA 2025-04-11 17:09:09   248.7000  248.7000  257.74  241.3629  253.00   \n",
       "\n",
       "    previous_close  volume      SMA_5       EMA_5  RSI_5  BB_Middle    BB_Std  \\\n",
       "36          190.42       0        NaN  198.095000    NaN        NaN       NaN   \n",
       "37          190.42       0        NaN  198.095000    NaN        NaN       NaN   \n",
       "38          190.42       0        NaN  198.095000    NaN        NaN       NaN   \n",
       "39          190.42       0        NaN  198.095000    NaN        NaN       NaN   \n",
       "40          190.42       0  198.09500  198.095000    NaN  198.09500  0.000000   \n",
       "..             ...     ...        ...         ...    ...        ...       ...   \n",
       "31          252.40       0  249.41084  249.378001    0.0  249.41084  0.081392   \n",
       "32          252.40       0  249.38112  249.369134    0.0  249.38112  0.066456   \n",
       "33          252.40       0  249.35140  249.363223    0.0  249.35140  0.000000   \n",
       "34          252.40       0  249.35140  249.359282    NaN  249.35140  0.000000   \n",
       "35          252.40       0  249.22112  249.139521    0.0  249.22112  0.291315   \n",
       "\n",
       "      BB_Upper    BB_Lower      MACD  MACD_Signal  OBV    ATR_5  \n",
       "36         NaN         NaN  0.000000     0.000000    0      NaN  \n",
       "37         NaN         NaN  0.000000     0.000000    0      NaN  \n",
       "38         NaN         NaN  0.000000     0.000000    0      NaN  \n",
       "39         NaN         NaN  0.000000     0.000000    0      NaN  \n",
       "40  198.095000  198.095000  0.000000     0.000000    0  13.2900  \n",
       "..         ...         ...       ...          ...  ...      ...  \n",
       "31  249.573623  249.248057  0.158252     0.133662    0  16.3771  \n",
       "32  249.514032  249.248208  0.151233     0.137176    0  16.3771  \n",
       "33  249.351400  249.351400  0.144009     0.138543    0  16.3771  \n",
       "34  249.351400  249.351400  0.136709     0.138176    0  16.3771  \n",
       "35  249.803750  248.638490  0.077468     0.126034    0  16.3771  \n",
       "\n",
       "[126 rows x 20 columns]"
      ]
     },
     "metadata": {},
     "output_type": "display_data"
    }
   ],
   "source": [
    "def add_technical_indicators(df):\n",
    "    df = df.sort_values(by=['ticker', 'date'])\n",
    "    \n",
    "    # calculating Simple Moving Average (SMA)\n",
    "    df['SMA_5'] = df.groupby('ticker')['close'].transform(lambda x: x.rolling(window=5).mean())\n",
    "\n",
    "    # calculating Exponential Moving Average (EMA)\n",
    "    df['EMA_5'] = df.groupby('ticker')['close'].transform(lambda x: x.ewm(span=5, adjust=False).mean())\n",
    "\n",
    "    # calculating Relative Strength Index (RSI)\n",
    "    def compute_rsi(series, period=5):\n",
    "        delta = series.diff()\n",
    "        gain = delta.where(delta > 0, 0.0)\n",
    "        loss = -delta.where(delta < 0, 0.0)\n",
    "        avg_gain = gain.rolling(window=period).mean()\n",
    "        avg_loss = loss.rolling(window=period).mean()\n",
    "        rs = avg_gain / avg_loss\n",
    "        return 100 - (100 / (1 + rs))\n",
    "    \n",
    "    df['RSI_5'] = df.groupby('ticker')['close'].transform(lambda x: compute_rsi(x))\n",
    "\n",
    "    # calculating Bollinger Bands\n",
    "    df['BB_Middle'] = df.groupby('ticker')['close'].transform(lambda x: x.rolling(window=5).mean())\n",
    "    df['BB_Std'] = df.groupby('ticker')['close'].transform(lambda x: x.rolling(window=5).std())\n",
    "    df['BB_Upper'] = df['BB_Middle'] + 2 * df['BB_Std']\n",
    "    df['BB_Lower'] = df['BB_Middle'] - 2 * df['BB_Std']\n",
    "\n",
    "\n",
    "    # calculating MACD\n",
    "    ema12 = df.groupby('ticker')['close'].transform(lambda x: x.ewm(span=12, adjust=False).mean())\n",
    "    ema26 = df.groupby('ticker')['close'].transform(lambda x: x.ewm(span=26, adjust=False).mean())\n",
    "    df['MACD'] = ema12 - ema26\n",
    "    df['MACD_Signal'] = df.groupby('ticker')['MACD'].transform(lambda x: x.ewm(span=9, adjust=False).mean())\n",
    "\n",
    "    # calclulating On Balance Volume (OBV)\n",
    "    def compute_obv(group):\n",
    "        obv = [0]\n",
    "        for i in range(1, len(group)):\n",
    "            if group['close'].iloc[i] > group['close'].iloc[i - 1]:\n",
    "                obv.append(obv[-1] + group['volume'].iloc[i])\n",
    "            elif group['close'].iloc[i] < group['close'].iloc[i - 1]:\n",
    "                obv.append(obv[-1] - group['volume'].iloc[i])\n",
    "            else:\n",
    "                obv.append(obv[-1])\n",
    "        return pd.Series(obv, index=group.index)\n",
    "\n",
    "    df['OBV'] = df.groupby('ticker')[['close', 'volume']].apply(compute_obv).reset_index(level=0, drop=True)\n",
    "\n",
    "    # calculating Average True Range (ATR)\n",
    "    df['prev_close'] = df.groupby('ticker')['close'].shift(1)\n",
    "    df['high_low'] = df['high'] - df['low']\n",
    "    df['high_prev_close'] = (df['high'] - df['prev_close']).abs()\n",
    "    df['low_prev_close'] = (df['low'] - df['prev_close']).abs()\n",
    "    df['TR'] = df[['high_low', 'high_prev_close', 'low_prev_close']].max(axis=1)\n",
    "    df['ATR_5'] = df.groupby('ticker')['TR'].transform(lambda x: x.rolling(window=5).mean())\n",
    "\n",
    "    # dropping the temporary columns we had \n",
    "    df.drop(columns=['prev_close', 'high_low', 'high_prev_close', 'low_prev_close', 'TR'], inplace=True)\n",
    "\n",
    "    return df\n",
    "\n",
    "df_cleaned_cass_features=add_technical_indicators(df_cassandracleaned)\n",
    "display(df_cleaned_cass_features)"
   ]
  },
  {
   "cell_type": "markdown",
   "metadata": {},
   "source": [
    "## real time data: final cleaning \n",
    "Feature engineering introduced new features some of witch now contain nans such as SMA5, RSI5, Bollinger Bonds(BB upper, lower,std,middle), and ATR5. However OBV is 0 since it relies on volume which is not provided by 0. We would need to drop the volume and OBV column since it does not provide us data. However for: SMA_5, RSI_5, BB_Upper/Lower/Std/middle, ATR_5 they all have rollin windows of 5 values. So its suppose to have have NaN values in the first rows. We are not removing outliers since time series stock data rely on drastic changes or spikes."
   ]
  },
  {
   "cell_type": "code",
   "execution_count": 16,
   "metadata": {},
   "outputs": [
    {
     "data": {
      "text/html": [
       "<div>\n",
       "<style scoped>\n",
       "    .dataframe tbody tr th:only-of-type {\n",
       "        vertical-align: middle;\n",
       "    }\n",
       "\n",
       "    .dataframe tbody tr th {\n",
       "        vertical-align: top;\n",
       "    }\n",
       "\n",
       "    .dataframe thead th {\n",
       "        text-align: right;\n",
       "    }\n",
       "</style>\n",
       "<table border=\"1\" class=\"dataframe\">\n",
       "  <thead>\n",
       "    <tr style=\"text-align: right;\">\n",
       "      <th></th>\n",
       "      <th>ticker</th>\n",
       "      <th>date</th>\n",
       "      <th>adj_close</th>\n",
       "      <th>close</th>\n",
       "      <th>high</th>\n",
       "      <th>low</th>\n",
       "      <th>open</th>\n",
       "      <th>previous_close</th>\n",
       "      <th>SMA_5</th>\n",
       "      <th>EMA_5</th>\n",
       "      <th>RSI_5</th>\n",
       "      <th>BB_Middle</th>\n",
       "      <th>BB_Std</th>\n",
       "      <th>BB_Upper</th>\n",
       "      <th>BB_Lower</th>\n",
       "      <th>MACD</th>\n",
       "      <th>MACD_Signal</th>\n",
       "      <th>ATR_5</th>\n",
       "    </tr>\n",
       "  </thead>\n",
       "  <tbody>\n",
       "    <tr>\n",
       "      <th>0</th>\n",
       "      <td>AAPL</td>\n",
       "      <td>2025-04-11 17:07:06</td>\n",
       "      <td>198.7600</td>\n",
       "      <td>198.7600</td>\n",
       "      <td>199.35</td>\n",
       "      <td>186.0600</td>\n",
       "      <td>191.83</td>\n",
       "      <td>190.42</td>\n",
       "      <td>198.22800</td>\n",
       "      <td>198.316667</td>\n",
       "      <td>100.0</td>\n",
       "      <td>198.22800</td>\n",
       "      <td>0.297397</td>\n",
       "      <td>198.822794</td>\n",
       "      <td>197.633206</td>\n",
       "      <td>0.053048</td>\n",
       "      <td>0.010610</td>\n",
       "      <td>13.2900</td>\n",
       "    </tr>\n",
       "    <tr>\n",
       "      <th>1</th>\n",
       "      <td>AAPL</td>\n",
       "      <td>2025-04-11 17:07:15</td>\n",
       "      <td>198.7600</td>\n",
       "      <td>198.7600</td>\n",
       "      <td>199.35</td>\n",
       "      <td>186.0600</td>\n",
       "      <td>191.83</td>\n",
       "      <td>190.42</td>\n",
       "      <td>198.36100</td>\n",
       "      <td>198.464444</td>\n",
       "      <td>100.0</td>\n",
       "      <td>198.36100</td>\n",
       "      <td>0.364236</td>\n",
       "      <td>199.089471</td>\n",
       "      <td>197.632529</td>\n",
       "      <td>0.094006</td>\n",
       "      <td>0.027289</td>\n",
       "      <td>13.2900</td>\n",
       "    </tr>\n",
       "    <tr>\n",
       "      <th>2</th>\n",
       "      <td>AAPL</td>\n",
       "      <td>2025-04-11 17:07:27</td>\n",
       "      <td>198.7600</td>\n",
       "      <td>198.7600</td>\n",
       "      <td>199.35</td>\n",
       "      <td>186.0600</td>\n",
       "      <td>191.83</td>\n",
       "      <td>190.42</td>\n",
       "      <td>198.49400</td>\n",
       "      <td>198.562963</td>\n",
       "      <td>100.0</td>\n",
       "      <td>198.49400</td>\n",
       "      <td>0.364236</td>\n",
       "      <td>199.222471</td>\n",
       "      <td>197.765529</td>\n",
       "      <td>0.125024</td>\n",
       "      <td>0.046836</td>\n",
       "      <td>13.2900</td>\n",
       "    </tr>\n",
       "    <tr>\n",
       "      <th>3</th>\n",
       "      <td>AAPL</td>\n",
       "      <td>2025-04-11 17:07:35</td>\n",
       "      <td>198.7600</td>\n",
       "      <td>198.7600</td>\n",
       "      <td>199.35</td>\n",
       "      <td>186.0600</td>\n",
       "      <td>191.83</td>\n",
       "      <td>190.42</td>\n",
       "      <td>198.62700</td>\n",
       "      <td>198.628642</td>\n",
       "      <td>100.0</td>\n",
       "      <td>198.62700</td>\n",
       "      <td>0.297397</td>\n",
       "      <td>199.221794</td>\n",
       "      <td>198.032206</td>\n",
       "      <td>0.147901</td>\n",
       "      <td>0.067049</td>\n",
       "      <td>13.2900</td>\n",
       "    </tr>\n",
       "    <tr>\n",
       "      <th>4</th>\n",
       "      <td>AAPL</td>\n",
       "      <td>2025-04-11 17:07:47</td>\n",
       "      <td>198.7600</td>\n",
       "      <td>198.7600</td>\n",
       "      <td>199.35</td>\n",
       "      <td>186.0600</td>\n",
       "      <td>191.83</td>\n",
       "      <td>190.42</td>\n",
       "      <td>198.76000</td>\n",
       "      <td>198.672428</td>\n",
       "      <td>100.0</td>\n",
       "      <td>198.76000</td>\n",
       "      <td>0.000000</td>\n",
       "      <td>198.760000</td>\n",
       "      <td>198.760000</td>\n",
       "      <td>0.164139</td>\n",
       "      <td>0.086467</td>\n",
       "      <td>13.2900</td>\n",
       "    </tr>\n",
       "    <tr>\n",
       "      <th>...</th>\n",
       "      <td>...</td>\n",
       "      <td>...</td>\n",
       "      <td>...</td>\n",
       "      <td>...</td>\n",
       "      <td>...</td>\n",
       "      <td>...</td>\n",
       "      <td>...</td>\n",
       "      <td>...</td>\n",
       "      <td>...</td>\n",
       "      <td>...</td>\n",
       "      <td>...</td>\n",
       "      <td>...</td>\n",
       "      <td>...</td>\n",
       "      <td>...</td>\n",
       "      <td>...</td>\n",
       "      <td>...</td>\n",
       "      <td>...</td>\n",
       "      <td>...</td>\n",
       "    </tr>\n",
       "    <tr>\n",
       "      <th>116</th>\n",
       "      <td>TSLA</td>\n",
       "      <td>2025-04-11 17:08:25</td>\n",
       "      <td>249.3514</td>\n",
       "      <td>249.3514</td>\n",
       "      <td>257.74</td>\n",
       "      <td>241.3629</td>\n",
       "      <td>253.00</td>\n",
       "      <td>252.40</td>\n",
       "      <td>249.41084</td>\n",
       "      <td>249.378001</td>\n",
       "      <td>0.0</td>\n",
       "      <td>249.41084</td>\n",
       "      <td>0.081392</td>\n",
       "      <td>249.573623</td>\n",
       "      <td>249.248057</td>\n",
       "      <td>0.158252</td>\n",
       "      <td>0.133662</td>\n",
       "      <td>16.3771</td>\n",
       "    </tr>\n",
       "    <tr>\n",
       "      <th>117</th>\n",
       "      <td>TSLA</td>\n",
       "      <td>2025-04-11 17:08:37</td>\n",
       "      <td>249.3514</td>\n",
       "      <td>249.3514</td>\n",
       "      <td>257.74</td>\n",
       "      <td>241.3629</td>\n",
       "      <td>253.00</td>\n",
       "      <td>252.40</td>\n",
       "      <td>249.38112</td>\n",
       "      <td>249.369134</td>\n",
       "      <td>0.0</td>\n",
       "      <td>249.38112</td>\n",
       "      <td>0.066456</td>\n",
       "      <td>249.514032</td>\n",
       "      <td>249.248208</td>\n",
       "      <td>0.151233</td>\n",
       "      <td>0.137176</td>\n",
       "      <td>16.3771</td>\n",
       "    </tr>\n",
       "    <tr>\n",
       "      <th>118</th>\n",
       "      <td>TSLA</td>\n",
       "      <td>2025-04-11 17:08:49</td>\n",
       "      <td>249.3514</td>\n",
       "      <td>249.3514</td>\n",
       "      <td>257.74</td>\n",
       "      <td>241.3629</td>\n",
       "      <td>253.00</td>\n",
       "      <td>252.40</td>\n",
       "      <td>249.35140</td>\n",
       "      <td>249.363223</td>\n",
       "      <td>0.0</td>\n",
       "      <td>249.35140</td>\n",
       "      <td>0.000000</td>\n",
       "      <td>249.351400</td>\n",
       "      <td>249.351400</td>\n",
       "      <td>0.144009</td>\n",
       "      <td>0.138543</td>\n",
       "      <td>16.3771</td>\n",
       "    </tr>\n",
       "    <tr>\n",
       "      <th>119</th>\n",
       "      <td>TSLA</td>\n",
       "      <td>2025-04-11 17:08:57</td>\n",
       "      <td>249.3514</td>\n",
       "      <td>249.3514</td>\n",
       "      <td>257.74</td>\n",
       "      <td>241.3629</td>\n",
       "      <td>253.00</td>\n",
       "      <td>252.40</td>\n",
       "      <td>249.35140</td>\n",
       "      <td>249.359282</td>\n",
       "      <td>0.0</td>\n",
       "      <td>249.35140</td>\n",
       "      <td>0.000000</td>\n",
       "      <td>249.351400</td>\n",
       "      <td>249.351400</td>\n",
       "      <td>0.136709</td>\n",
       "      <td>0.138176</td>\n",
       "      <td>16.3771</td>\n",
       "    </tr>\n",
       "    <tr>\n",
       "      <th>120</th>\n",
       "      <td>TSLA</td>\n",
       "      <td>2025-04-11 17:09:09</td>\n",
       "      <td>248.7000</td>\n",
       "      <td>248.7000</td>\n",
       "      <td>257.74</td>\n",
       "      <td>241.3629</td>\n",
       "      <td>253.00</td>\n",
       "      <td>252.40</td>\n",
       "      <td>249.22112</td>\n",
       "      <td>249.139521</td>\n",
       "      <td>0.0</td>\n",
       "      <td>249.22112</td>\n",
       "      <td>0.291315</td>\n",
       "      <td>249.803750</td>\n",
       "      <td>248.638490</td>\n",
       "      <td>0.077468</td>\n",
       "      <td>0.126034</td>\n",
       "      <td>16.3771</td>\n",
       "    </tr>\n",
       "  </tbody>\n",
       "</table>\n",
       "<p>121 rows × 18 columns</p>\n",
       "</div>"
      ],
      "text/plain": [
       "    ticker                date  adj_close     close    high       low    open  \\\n",
       "0     AAPL 2025-04-11 17:07:06   198.7600  198.7600  199.35  186.0600  191.83   \n",
       "1     AAPL 2025-04-11 17:07:15   198.7600  198.7600  199.35  186.0600  191.83   \n",
       "2     AAPL 2025-04-11 17:07:27   198.7600  198.7600  199.35  186.0600  191.83   \n",
       "3     AAPL 2025-04-11 17:07:35   198.7600  198.7600  199.35  186.0600  191.83   \n",
       "4     AAPL 2025-04-11 17:07:47   198.7600  198.7600  199.35  186.0600  191.83   \n",
       "..     ...                 ...        ...       ...     ...       ...     ...   \n",
       "116   TSLA 2025-04-11 17:08:25   249.3514  249.3514  257.74  241.3629  253.00   \n",
       "117   TSLA 2025-04-11 17:08:37   249.3514  249.3514  257.74  241.3629  253.00   \n",
       "118   TSLA 2025-04-11 17:08:49   249.3514  249.3514  257.74  241.3629  253.00   \n",
       "119   TSLA 2025-04-11 17:08:57   249.3514  249.3514  257.74  241.3629  253.00   \n",
       "120   TSLA 2025-04-11 17:09:09   248.7000  248.7000  257.74  241.3629  253.00   \n",
       "\n",
       "     previous_close      SMA_5       EMA_5  RSI_5  BB_Middle    BB_Std  \\\n",
       "0            190.42  198.22800  198.316667  100.0  198.22800  0.297397   \n",
       "1            190.42  198.36100  198.464444  100.0  198.36100  0.364236   \n",
       "2            190.42  198.49400  198.562963  100.0  198.49400  0.364236   \n",
       "3            190.42  198.62700  198.628642  100.0  198.62700  0.297397   \n",
       "4            190.42  198.76000  198.672428  100.0  198.76000  0.000000   \n",
       "..              ...        ...         ...    ...        ...       ...   \n",
       "116          252.40  249.41084  249.378001    0.0  249.41084  0.081392   \n",
       "117          252.40  249.38112  249.369134    0.0  249.38112  0.066456   \n",
       "118          252.40  249.35140  249.363223    0.0  249.35140  0.000000   \n",
       "119          252.40  249.35140  249.359282    0.0  249.35140  0.000000   \n",
       "120          252.40  249.22112  249.139521    0.0  249.22112  0.291315   \n",
       "\n",
       "       BB_Upper    BB_Lower      MACD  MACD_Signal    ATR_5  \n",
       "0    198.822794  197.633206  0.053048     0.010610  13.2900  \n",
       "1    199.089471  197.632529  0.094006     0.027289  13.2900  \n",
       "2    199.222471  197.765529  0.125024     0.046836  13.2900  \n",
       "3    199.221794  198.032206  0.147901     0.067049  13.2900  \n",
       "4    198.760000  198.760000  0.164139     0.086467  13.2900  \n",
       "..          ...         ...       ...          ...      ...  \n",
       "116  249.573623  249.248057  0.158252     0.133662  16.3771  \n",
       "117  249.514032  249.248208  0.151233     0.137176  16.3771  \n",
       "118  249.351400  249.351400  0.144009     0.138543  16.3771  \n",
       "119  249.351400  249.351400  0.136709     0.138176  16.3771  \n",
       "120  249.803750  248.638490  0.077468     0.126034  16.3771  \n",
       "\n",
       "[121 rows x 18 columns]"
      ]
     },
     "metadata": {},
     "output_type": "display_data"
    },
    {
     "name": "stdout",
     "output_type": "stream",
     "text": [
      "Which columns still have null?:\n",
      "ticker            0\n",
      "date              0\n",
      "adj_close         0\n",
      "close             0\n",
      "high              0\n",
      "low               0\n",
      "open              0\n",
      "previous_close    0\n",
      "SMA_5             0\n",
      "EMA_5             0\n",
      "RSI_5             0\n",
      "BB_Middle         0\n",
      "BB_Std            0\n",
      "BB_Upper          0\n",
      "BB_Lower          0\n",
      "MACD              0\n",
      "MACD_Signal       0\n",
      "ATR_5             0\n",
      "dtype: int64\n"
     ]
    }
   ],
   "source": [
    "def final_clean_realtime(df):\n",
    "    # first droppoing OBV and volume since it is not available in finnhub\n",
    "    df = df.drop(columns=['volume', 'OBV'])\n",
    "\n",
    "    #to remedy the remaining nulls we are applying forward fill \n",
    "    rolling_cols = ['SMA_5', 'EMA_5', 'RSI_5', 'BB_Middle', 'BB_Std', 'BB_Upper', 'BB_Lower', 'ATR_5']\n",
    "    df[rolling_cols] = df[rolling_cols].ffill()\n",
    "\n",
    "    #dropping the remaining nans that are not able to be forward filled\n",
    "    df = df.dropna(subset=rolling_cols).reset_index(drop=True)\n",
    "\n",
    "    return df\n",
    "\n",
    "df_cass_final = final_clean_realtime(df_cleaned_cass_features)\n",
    "display(df_cass_final)\n",
    "print('Which columns still have null?:')\n",
    "print(df_cass_final.isnull().sum())"
   ]
  },
  {
   "cell_type": "markdown",
   "metadata": {},
   "source": [
    "### Analysis: We should keep NaNs during modeling prep later on since the remaining nans are only from rolling basis which is needed for our rolling features such as (SMA_5RSI_5,BB_Middle,BB_Std,BB_Upper,BB_Lower,ATR_5) to formulate a data point.\n",
    "\n",
    "### We should drop or fill NaNs only for visualization, or use .dropna() just before plotting specific columns that require to have full rows without nans"
   ]
  },
  {
   "cell_type": "markdown",
   "metadata": {},
   "source": [
    "## Exploratory Data Analysis"
   ]
  },
  {
   "cell_type": "code",
   "execution_count": 78,
   "metadata": {},
   "outputs": [
    {
     "data": {
      "application/vnd.plotly.v1+json": {
       "config": {
        "plotlyServerURL": "https://plot.ly"
       },
       "data": [
        {
         "legendgroup": "AAPL",
         "line": {
          "color": "blue"
         },
         "mode": "lines+markers",
         "name": "Close",
         "showlegend": true,
         "type": "scatter",
         "x": [
          "2025-04-11T17:07:06.000000000",
          "2025-04-11T17:07:15.000000000",
          "2025-04-11T17:07:27.000000000",
          "2025-04-11T17:07:35.000000000",
          "2025-04-11T17:07:47.000000000",
          "2025-04-11T17:07:56.000000000",
          "2025-04-11T17:08:08.000000000",
          "2025-04-11T17:08:16.000000000",
          "2025-04-11T17:08:25.000000000",
          "2025-04-11T17:08:37.000000000",
          "2025-04-11T17:08:45.000000000",
          "2025-04-11T17:08:57.000000000",
          "2025-04-11T17:09:09.000000000"
         ],
         "xaxis": "x",
         "y": {
          "bdata": "uB6F61HYaEC4HoXrUdhoQLgehetR2GhAuB6F61HYaEC4HoXrUdhoQLgehetR2GhAhetRuB7RaECF61G4HtFoQIXrUbge0WhAhetRuB7RaECF61G4HtFoQIXrUbge0WhAuB6F61HIaEA=",
          "dtype": "f8"
         },
         "yaxis": "y"
        },
        {
         "legendgroup": "AAPL",
         "line": {
          "color": "orange",
          "dash": "dash"
         },
         "mode": "lines+markers",
         "name": "SMA_5",
         "showlegend": true,
         "type": "scatter",
         "x": [
          "2025-04-11T17:07:06.000000000",
          "2025-04-11T17:07:15.000000000",
          "2025-04-11T17:07:27.000000000",
          "2025-04-11T17:07:35.000000000",
          "2025-04-11T17:07:47.000000000",
          "2025-04-11T17:07:56.000000000",
          "2025-04-11T17:08:08.000000000",
          "2025-04-11T17:08:16.000000000",
          "2025-04-11T17:08:25.000000000",
          "2025-04-11T17:08:37.000000000",
          "2025-04-11T17:08:45.000000000",
          "2025-04-11T17:08:57.000000000",
          "2025-04-11T17:09:09.000000000"
         ],
         "xaxis": "x",
         "y": {
          "bdata": "nu+nxkvHaEBlO99PjctoQCuHFtnOz2hA8tJNYhDUaEC4HoXrUdhoQLgehetR2GhAehSuR+HWaEA9CtejcNVoQAAAAAAA1GhAwvUoXI/SaECF61G4HtFoQIXrUbge0WhAj8L1KFzPaEA=",
          "dtype": "f8"
         },
         "yaxis": "y"
        },
        {
         "legendgroup": "AAPL",
         "line": {
          "color": "green",
          "dash": "dot"
         },
         "mode": "lines+markers",
         "name": "EMA_5",
         "showlegend": true,
         "type": "scatter",
         "x": [
          "2025-04-11T17:07:06.000000000",
          "2025-04-11T17:07:15.000000000",
          "2025-04-11T17:07:27.000000000",
          "2025-04-11T17:07:35.000000000",
          "2025-04-11T17:07:47.000000000",
          "2025-04-11T17:07:56.000000000",
          "2025-04-11T17:08:08.000000000",
          "2025-04-11T17:08:16.000000000",
          "2025-04-11T17:08:25.000000000",
          "2025-04-11T17:08:37.000000000",
          "2025-04-11T17:08:45.000000000",
          "2025-04-11T17:08:57.000000000",
          "2025-04-11T17:09:09.000000000"
         ],
         "xaxis": "x",
         "y": {
          "bdata": "IyIiIiLKaEBVdpi63M5oQCFZ58oD0mhA/5rG1R3UaEDoxrCHhNVoQNmO96hz1mhAva0VrqzUaEBVwilcfdNoQLt6jCWz0mhAqfV4VizSaEDznBZ30tFoQHkM1YyW0WhAjhJlrH/OaEA=",
          "dtype": "f8"
         },
         "yaxis": "y"
        },
        {
         "legendgroup": "MSFT",
         "line": {
          "color": "blue"
         },
         "mode": "lines+markers",
         "name": "Close",
         "showlegend": false,
         "type": "scatter",
         "x": [
          "2025-04-11T17:06:15.000000000",
          "2025-04-11T17:06:19.000000000",
          "2025-04-11T17:06:31.000000000",
          "2025-04-11T17:06:40.000000000",
          "2025-04-11T17:06:52.000000000",
          "2025-04-11T17:07:02.000000000",
          "2025-04-11T17:07:13.000000000",
          "2025-04-11T17:07:25.000000000",
          "2025-04-11T17:07:35.000000000",
          "2025-04-11T17:07:47.000000000",
          "2025-04-11T17:07:52.000000000",
          "2025-04-11T17:08:08.000000000",
          "2025-04-11T17:08:16.000000000",
          "2025-04-11T17:08:23.000000000",
          "2025-04-11T17:08:36.000000000",
          "2025-04-11T17:08:43.000000000",
          "2025-04-11T17:08:57.000000000",
          "2025-04-11T17:09:09.000000000"
         ],
         "xaxis": "x2",
         "y": {
          "bdata": "EFg5tMgreEAQWDm0yCt4QBBYObTIK3hAEFg5tMgreEAQWDm0yCt4QD0K16NwM3hAPQrXo3AzeEA9CtejcDN4QD0K16NwM3hAPQrXo3AzeEA9CtejcDN4QEjhehSuMXhASOF6FK4xeEBI4XoUrjF4QEjhehSuMXhASOF6FK4xeEBI4XoUrjF4QAAAAAAAKnhA",
          "dtype": "f8"
         },
         "yaxis": "y2"
        },
        {
         "legendgroup": "MSFT",
         "line": {
          "color": "orange",
          "dash": "dash"
         },
         "mode": "lines+markers",
         "name": "SMA_5",
         "showlegend": false,
         "type": "scatter",
         "x": [
          "2025-04-11T17:06:15.000000000",
          "2025-04-11T17:06:19.000000000",
          "2025-04-11T17:06:31.000000000",
          "2025-04-11T17:06:40.000000000",
          "2025-04-11T17:06:52.000000000",
          "2025-04-11T17:07:02.000000000",
          "2025-04-11T17:07:13.000000000",
          "2025-04-11T17:07:25.000000000",
          "2025-04-11T17:07:35.000000000",
          "2025-04-11T17:07:47.000000000",
          "2025-04-11T17:07:52.000000000",
          "2025-04-11T17:08:08.000000000",
          "2025-04-11T17:08:16.000000000",
          "2025-04-11T17:08:23.000000000",
          "2025-04-11T17:08:36.000000000",
          "2025-04-11T17:08:43.000000000",
          "2025-04-11T17:08:57.000000000",
          "2025-04-11T17:09:09.000000000"
         ],
         "xaxis": "x2",
         "y": {
          "bdata": "yna+nxrpgEDKdr6fGumAQMp2vp8a6YBAyna+nxrpgEAQWDm0yCt4QLJ78rBQLXhAVZ+rrdgueED4wmSqYDB4QJrmHafoMXhAPQrXo3AzeEA9CtejcDN4QAsCK4cWM3hA2/l+arwyeECq8dJNYjJ4QHrpJjEIMnhASOF6FK4xeEBI4XoUrjF4QKAaL90kMHhA",
          "dtype": "f8"
         },
         "yaxis": "y2"
        },
        {
         "legendgroup": "MSFT",
         "line": {
          "color": "green",
          "dash": "dot"
         },
         "mode": "lines+markers",
         "name": "EMA_5",
         "showlegend": false,
         "type": "scatter",
         "x": [
          "2025-04-11T17:06:15.000000000",
          "2025-04-11T17:06:19.000000000",
          "2025-04-11T17:06:31.000000000",
          "2025-04-11T17:06:40.000000000",
          "2025-04-11T17:06:52.000000000",
          "2025-04-11T17:07:02.000000000",
          "2025-04-11T17:07:13.000000000",
          "2025-04-11T17:07:25.000000000",
          "2025-04-11T17:07:35.000000000",
          "2025-04-11T17:07:47.000000000",
          "2025-04-11T17:07:52.000000000",
          "2025-04-11T17:08:08.000000000",
          "2025-04-11T17:08:16.000000000",
          "2025-04-11T17:08:23.000000000",
          "2025-04-11T17:08:36.000000000",
          "2025-04-11T17:08:43.000000000",
          "2025-04-11T17:08:57.000000000",
          "2025-04-11T17:09:09.000000000"
         ],
         "xaxis": "x2",
         "y": {
          "bdata": "EFg5tMgreEAQWDm0yCt4QBBYObTIK3hAEFg5tMgreEAQWDm0yCt4QHWTGARWLnhAuGWtjgkweECQnBDrKzF4QMpr/X3tMXhARkubim4yeEDuigSTxDJ4QAz9K75nMnhAy/Pw2ikyeEBKmMmYADJ4QPQFWhflMXhAZqQPwdIxeECyuIiHxjF4QHfQBQUvL3hA",
          "dtype": "f8"
         },
         "yaxis": "y2"
        },
        {
         "legendgroup": "AMZN",
         "line": {
          "color": "blue"
         },
         "mode": "lines+markers",
         "name": "Close",
         "showlegend": false,
         "type": "scatter",
         "x": [
          "2025-04-11T17:06:13.000000000",
          "2025-04-11T17:06:23.000000000",
          "2025-04-11T17:06:37.000000000",
          "2025-04-11T17:06:45.000000000",
          "2025-04-11T17:06:52.000000000",
          "2025-04-11T17:07:06.000000000",
          "2025-04-11T17:07:15.000000000",
          "2025-04-11T17:07:27.000000000",
          "2025-04-11T17:07:34.000000000",
          "2025-04-11T17:07:47.000000000",
          "2025-04-11T17:07:56.000000000",
          "2025-04-11T17:08:08.000000000",
          "2025-04-11T17:08:16.000000000",
          "2025-04-11T17:08:25.000000000",
          "2025-04-11T17:08:36.000000000",
          "2025-04-11T17:08:45.000000000",
          "2025-04-11T17:08:57.000000000",
          "2025-04-11T17:09:09.000000000"
         ],
         "xaxis": "x3",
         "y": {
          "bdata": "CtejcD3qZkAK16NwPepmQArXo3A96mZACtejcD3qZkAK16NwPepmQOF6FK5H+WZA4XoUrkf5ZkDhehSuR/lmQOF6FK5H+WZA4XoUrkf5ZkDhehSuR/lmQAAAAAAA9GZAAAAAAAD0ZkAAAAAAAPRmQAAAAAAA9GZAAAAAAAD0ZkAAAAAAAPRmQGZmZmZm5mZA",
          "dtype": "f8"
         },
         "yaxis": "y3"
        },
        {
         "legendgroup": "AMZN",
         "line": {
          "color": "orange",
          "dash": "dash"
         },
         "mode": "lines+markers",
         "name": "SMA_5",
         "showlegend": false,
         "type": "scatter",
         "x": [
          "2025-04-11T17:06:13.000000000",
          "2025-04-11T17:06:23.000000000",
          "2025-04-11T17:06:37.000000000",
          "2025-04-11T17:06:45.000000000",
          "2025-04-11T17:06:52.000000000",
          "2025-04-11T17:07:06.000000000",
          "2025-04-11T17:07:15.000000000",
          "2025-04-11T17:07:27.000000000",
          "2025-04-11T17:07:34.000000000",
          "2025-04-11T17:07:47.000000000",
          "2025-04-11T17:07:56.000000000",
          "2025-04-11T17:08:08.000000000",
          "2025-04-11T17:08:16.000000000",
          "2025-04-11T17:08:25.000000000",
          "2025-04-11T17:08:36.000000000",
          "2025-04-11T17:08:45.000000000",
          "2025-04-11T17:08:57.000000000",
          "2025-04-11T17:09:09.000000000"
         ],
         "xaxis": "x3",
         "y": {
          "bdata": "j8L1KFzPaECPwvUoXM9oQI/C9Shcz2hAj8L1KFzPaEAK16NwPepmQGmR7Xw/7WZAxks3iUHwZkAlBoGVQ/NmQIPAyqFF9mZA4XoUrkf5ZkDhehSuR/lmQE5iEFg5+GZAukkMAiv3ZkAmMQisHPZmQJMYBFYO9WZAAAAAAAD0ZkAAAAAAAPRmQOJ6FK5H8WZA",
          "dtype": "f8"
         },
         "yaxis": "y3"
        },
        {
         "legendgroup": "AMZN",
         "line": {
          "color": "green",
          "dash": "dot"
         },
         "mode": "lines+markers",
         "name": "EMA_5",
         "showlegend": false,
         "type": "scatter",
         "x": [
          "2025-04-11T17:06:13.000000000",
          "2025-04-11T17:06:23.000000000",
          "2025-04-11T17:06:37.000000000",
          "2025-04-11T17:06:45.000000000",
          "2025-04-11T17:06:52.000000000",
          "2025-04-11T17:07:06.000000000",
          "2025-04-11T17:07:15.000000000",
          "2025-04-11T17:07:27.000000000",
          "2025-04-11T17:07:34.000000000",
          "2025-04-11T17:07:47.000000000",
          "2025-04-11T17:07:56.000000000",
          "2025-04-11T17:08:08.000000000",
          "2025-04-11T17:08:16.000000000",
          "2025-04-11T17:08:25.000000000",
          "2025-04-11T17:08:36.000000000",
          "2025-04-11T17:08:45.000000000",
          "2025-04-11T17:08:57.000000000",
          "2025-04-11T17:09:09.000000000"
         ],
         "xaxis": "x3",
         "y": {
          "bdata": "CtejcD3qZkAK16NwPepmQArXo3A96mZACtejcD3qZkAK16NwPepmQKcNdNpA72ZAEDJUdpjyZkAB9T7e0vRmQKEhhiNP9mZADOoKp0z3ZkCpb2Op9fdmQHFKQsaj9mZAoTEshML1ZkBsdh1YLPVmQPNOvjrI9GZATd9+fIX0ZkA06qn9WPRmQJoTPsuy72ZA",
          "dtype": "f8"
         },
         "yaxis": "y3"
        },
        {
         "legendgroup": "GOOGL",
         "line": {
          "color": "blue"
         },
         "mode": "lines+markers",
         "name": "Close",
         "showlegend": false,
         "type": "scatter",
         "x": [
          "2025-04-11T17:06:14.000000000",
          "2025-04-11T17:06:24.000000000",
          "2025-04-11T17:06:37.000000000",
          "2025-04-11T17:06:45.000000000",
          "2025-04-11T17:06:52.000000000",
          "2025-04-11T17:07:06.000000000",
          "2025-04-11T17:07:15.000000000",
          "2025-04-11T17:07:26.000000000",
          "2025-04-11T17:07:35.000000000",
          "2025-04-11T17:07:47.000000000",
          "2025-04-11T17:07:56.000000000",
          "2025-04-11T17:08:08.000000000",
          "2025-04-11T17:08:16.000000000",
          "2025-04-11T17:08:25.000000000",
          "2025-04-11T17:08:37.000000000",
          "2025-04-11T17:08:45.000000000",
          "2025-04-11T17:08:57.000000000",
          "2025-04-11T17:09:09.000000000"
         ],
         "xaxis": "x4",
         "y": {
          "bdata": "KVyPwvWgY0ApXI/C9aBjQClcj8L1oGNAKVyPwvWgY0ApXI/C9aBjQJqZmZmZqWNAmpmZmZmpY0CamZmZmaljQJqZmZmZqWNAmpmZmZmpY0CamZmZmaljQGZmZmZmpmNAZmZmZmamY0BmZmZmZqZjQGZmZmZmpmNAZmZmZmamY0BmZmZmZqZjQPYoXI/CnWNA",
          "dtype": "f8"
         },
         "yaxis": "y4"
        },
        {
         "legendgroup": "GOOGL",
         "line": {
          "color": "orange",
          "dash": "dash"
         },
         "mode": "lines+markers",
         "name": "SMA_5",
         "showlegend": false,
         "type": "scatter",
         "x": [
          "2025-04-11T17:06:14.000000000",
          "2025-04-11T17:06:24.000000000",
          "2025-04-11T17:06:37.000000000",
          "2025-04-11T17:06:45.000000000",
          "2025-04-11T17:06:52.000000000",
          "2025-04-11T17:07:06.000000000",
          "2025-04-11T17:07:15.000000000",
          "2025-04-11T17:07:26.000000000",
          "2025-04-11T17:07:35.000000000",
          "2025-04-11T17:07:47.000000000",
          "2025-04-11T17:07:56.000000000",
          "2025-04-11T17:08:08.000000000",
          "2025-04-11T17:08:16.000000000",
          "2025-04-11T17:08:25.000000000",
          "2025-04-11T17:08:37.000000000",
          "2025-04-11T17:08:45.000000000",
          "2025-04-11T17:08:57.000000000",
          "2025-04-11T17:09:09.000000000"
         ],
         "xaxis": "x4",
         "y": {
          "bdata": "4noUrkfxZkDiehSuR/FmQOJ6FK5H8WZA4noUrkfxZkApXI/C9aBjQKabxCCwomNAI9v5fmqkY0CgGi/dJKZjQB1aZDvfp2NAmpmZmZmpY0CamZmZmaljQCpcj8L1qGNAuB6F61GoY0BI4XoUrqdjQNajcD0Kp2NAZmZmZmamY0BmZmZmZqZjQOomMQispGNA",
          "dtype": "f8"
         },
         "yaxis": "y4"
        },
        {
         "legendgroup": "GOOGL",
         "line": {
          "color": "green",
          "dash": "dot"
         },
         "mode": "lines+markers",
         "name": "EMA_5",
         "showlegend": false,
         "type": "scatter",
         "x": [
          "2025-04-11T17:06:14.000000000",
          "2025-04-11T17:06:24.000000000",
          "2025-04-11T17:06:37.000000000",
          "2025-04-11T17:06:45.000000000",
          "2025-04-11T17:06:52.000000000",
          "2025-04-11T17:07:06.000000000",
          "2025-04-11T17:07:15.000000000",
          "2025-04-11T17:07:26.000000000",
          "2025-04-11T17:07:35.000000000",
          "2025-04-11T17:07:47.000000000",
          "2025-04-11T17:07:56.000000000",
          "2025-04-11T17:08:08.000000000",
          "2025-04-11T17:08:16.000000000",
          "2025-04-11T17:08:25.000000000",
          "2025-04-11T17:08:37.000000000",
          "2025-04-11T17:08:45.000000000",
          "2025-04-11T17:08:57.000000000",
          "2025-04-11T17:09:09.000000000"
         ],
         "xaxis": "x4",
         "y": {
          "bdata": "KVyPwvWgY0ApXI/C9aBjQClcj8L1oGNAKVyPwvWgY0ApXI/C9aBjQKRwPQrXo2NA9ihcj8KlY0DYo3A9CqdjQBlLfrHkp2NA7w8yVHaoY0Aok1Rr16hjQD2EWhQHqGNAoM+zL3ynY0CNrESXH6djQIDqT9zhpmNAzRMCtbimY0AA2nhFnaZjQKhJb7Opo2NA",
          "dtype": "f8"
         },
         "yaxis": "y4"
        },
        {
         "legendgroup": "META",
         "line": {
          "color": "blue"
         },
         "mode": "lines+markers",
         "name": "Close",
         "showlegend": false,
         "type": "scatter",
         "x": [
          "2025-04-11T17:06:15.000000000",
          "2025-04-11T17:06:23.000000000",
          "2025-04-11T17:06:35.000000000",
          "2025-04-11T17:06:41.000000000",
          "2025-04-11T17:06:53.000000000",
          "2025-04-11T17:07:06.000000000",
          "2025-04-11T17:07:15.000000000",
          "2025-04-11T17:07:27.000000000",
          "2025-04-11T17:07:33.000000000",
          "2025-04-11T17:07:47.000000000",
          "2025-04-11T17:07:54.000000000",
          "2025-04-11T17:08:08.000000000",
          "2025-04-11T17:08:15.000000000",
          "2025-04-11T17:08:24.000000000",
          "2025-04-11T17:08:36.000000000",
          "2025-04-11T17:08:45.000000000",
          "2025-04-11T17:08:56.000000000",
          "2025-04-11T17:09:09.000000000"
         ],
         "xaxis": "x5",
         "y": {
          "bdata": "mpmZmZnfgECamZmZmd+AQJqZmZmZ34BAmpmZmZnfgECamZmZmd+AQH/ZPXlY7oBAf9k9eVjugEB/2T15WO6AQH/ZPXlY7oBAf9k9eVjugEB/2T15WO6AQHsUrkfh6oBAexSuR+HqgEB7FK5H4eqAQHsUrkfh6oBAexSuR+HqgEB7FK5H4eqAQAAAAAAA4oBA",
          "dtype": "f8"
         },
         "yaxis": "y5"
        },
        {
         "legendgroup": "META",
         "line": {
          "color": "orange",
          "dash": "dash"
         },
         "mode": "lines+markers",
         "name": "SMA_5",
         "showlegend": false,
         "type": "scatter",
         "x": [
          "2025-04-11T17:06:15.000000000",
          "2025-04-11T17:06:23.000000000",
          "2025-04-11T17:06:35.000000000",
          "2025-04-11T17:06:41.000000000",
          "2025-04-11T17:06:53.000000000",
          "2025-04-11T17:07:06.000000000",
          "2025-04-11T17:07:15.000000000",
          "2025-04-11T17:07:27.000000000",
          "2025-04-11T17:07:33.000000000",
          "2025-04-11T17:07:47.000000000",
          "2025-04-11T17:07:54.000000000",
          "2025-04-11T17:08:08.000000000",
          "2025-04-11T17:08:15.000000000",
          "2025-04-11T17:08:24.000000000",
          "2025-04-11T17:08:36.000000000",
          "2025-04-11T17:08:45.000000000",
          "2025-04-11T17:08:56.000000000",
          "2025-04-11T17:09:09.000000000"
         ],
         "xaxis": "x5",
         "y": {
          "bdata": "6iYxCKykY0DqJjEIrKRjQOomMQispGNA6iYxCKykY0CamZmZmd+AQJXZIJOM4oBAjxmojH/lgECKWS+GcuiAQIWZtn9l64BAf9k9eVjugEB/2T15WO6AQEvl7Qin7YBAFvGdmPXsgEDi/E0oROyAQK8I/reS64BAexSuR+HqgEB7FK5H4eqAQMp2vp8a6YBA",
          "dtype": "f8"
         },
         "yaxis": "y5"
        },
        {
         "legendgroup": "META",
         "line": {
          "color": "green",
          "dash": "dot"
         },
         "mode": "lines+markers",
         "name": "EMA_5",
         "showlegend": false,
         "type": "scatter",
         "x": [
          "2025-04-11T17:06:15.000000000",
          "2025-04-11T17:06:23.000000000",
          "2025-04-11T17:06:35.000000000",
          "2025-04-11T17:06:41.000000000",
          "2025-04-11T17:06:53.000000000",
          "2025-04-11T17:07:06.000000000",
          "2025-04-11T17:07:15.000000000",
          "2025-04-11T17:07:27.000000000",
          "2025-04-11T17:07:33.000000000",
          "2025-04-11T17:07:47.000000000",
          "2025-04-11T17:07:54.000000000",
          "2025-04-11T17:08:08.000000000",
          "2025-04-11T17:08:15.000000000",
          "2025-04-11T17:08:24.000000000",
          "2025-04-11T17:08:36.000000000",
          "2025-04-11T17:08:45.000000000",
          "2025-04-11T17:08:56.000000000",
          "2025-04-11T17:09:09.000000000"
         ],
         "xaxis": "x5",
         "y": {
          "bdata": "mpmZmZnfgECamZmZmd+AQJqZmZmZ34BAmpmZmZnfgECamZmZmd+AQOeuJeSD5IBAbxKDwMrngEAfqhb++emAQJVkztFu64BAjovzXmfsgECJpWESDe2AQC910M5T7IBASapvTNjrgEBaeIT1heuAQGWs5xBP64BAbSR/eCrrgEAdH+QSEuuAQL4UmAwM6IBA",
          "dtype": "f8"
         },
         "yaxis": "y5"
        },
        {
         "legendgroup": "TSLA",
         "line": {
          "color": "blue"
         },
         "mode": "lines+markers",
         "name": "Close",
         "showlegend": false,
         "type": "scatter",
         "x": [
          "2025-04-11T17:06:15.000000000",
          "2025-04-11T17:06:24.000000000",
          "2025-04-11T17:06:37.000000000",
          "2025-04-11T17:06:45.000000000",
          "2025-04-11T17:06:53.000000000",
          "2025-04-11T17:07:07.000000000",
          "2025-04-11T17:07:15.000000000",
          "2025-04-11T17:07:27.000000000",
          "2025-04-11T17:07:35.000000000",
          "2025-04-11T17:07:47.000000000",
          "2025-04-11T17:07:56.000000000",
          "2025-04-11T17:08:08.000000000",
          "2025-04-11T17:08:16.000000000",
          "2025-04-11T17:08:25.000000000",
          "2025-04-11T17:08:37.000000000",
          "2025-04-11T17:08:49.000000000",
          "2025-04-11T17:08:57.000000000",
          "2025-04-11T17:09:09.000000000"
         ],
         "xaxis": "x6",
         "y": {
          "bdata": "w/UoXI8ab0DD9ShcjxpvQMP1KFyPGm9Aw/UoXI8ab0DD9ShcjxpvQAAAAAAAMG9AAAAAAAAwb0AAAAAAADBvQAAAAAAAMG9AAAAAAAAwb0AAAAAAADBvQBB6Nqs+K29AEHo2qz4rb0AQejarPitvQBB6Nqs+K29AEHo2qz4rb0AQejarPitvQGZmZmZmFm9A",
          "dtype": "f8"
         },
         "yaxis": "y6"
        },
        {
         "legendgroup": "TSLA",
         "line": {
          "color": "orange",
          "dash": "dash"
         },
         "mode": "lines+markers",
         "name": "SMA_5",
         "showlegend": false,
         "type": "scatter",
         "x": [
          "2025-04-11T17:06:15.000000000",
          "2025-04-11T17:06:24.000000000",
          "2025-04-11T17:06:37.000000000",
          "2025-04-11T17:06:45.000000000",
          "2025-04-11T17:06:53.000000000",
          "2025-04-11T17:07:07.000000000",
          "2025-04-11T17:07:15.000000000",
          "2025-04-11T17:07:27.000000000",
          "2025-04-11T17:07:35.000000000",
          "2025-04-11T17:07:47.000000000",
          "2025-04-11T17:07:56.000000000",
          "2025-04-11T17:08:08.000000000",
          "2025-04-11T17:08:16.000000000",
          "2025-04-11T17:08:25.000000000",
          "2025-04-11T17:08:37.000000000",
          "2025-04-11T17:08:49.000000000",
          "2025-04-11T17:08:57.000000000",
          "2025-04-11T17:09:09.000000000"
         ],
         "xaxis": "x6",
         "y": {
          "bdata": "NV66SQySW0A1XrpJDJJbQDVeukkMkltANV66SQySW0DD9ShcjxpvQAIrhxbZHm9AQmDl0CIjb0CClUOLbCdvQMDKoUW2K29AAAAAAAAwb0AAAAAAADBvQNB+pIgML29AoP1IERkub0BwfO2ZJS1vQED7kSIyLG9AEHo2qz4rb0AQejarPitvQLsPQGoTJ29A",
          "dtype": "f8"
         },
         "yaxis": "y6"
        },
        {
         "legendgroup": "TSLA",
         "line": {
          "color": "green",
          "dash": "dot"
         },
         "mode": "lines+markers",
         "name": "EMA_5",
         "showlegend": false,
         "type": "scatter",
         "x": [
          "2025-04-11T17:06:15.000000000",
          "2025-04-11T17:06:24.000000000",
          "2025-04-11T17:06:37.000000000",
          "2025-04-11T17:06:45.000000000",
          "2025-04-11T17:06:53.000000000",
          "2025-04-11T17:07:07.000000000",
          "2025-04-11T17:07:15.000000000",
          "2025-04-11T17:07:27.000000000",
          "2025-04-11T17:07:35.000000000",
          "2025-04-11T17:07:47.000000000",
          "2025-04-11T17:07:56.000000000",
          "2025-04-11T17:08:08.000000000",
          "2025-04-11T17:08:16.000000000",
          "2025-04-11T17:08:25.000000000",
          "2025-04-11T17:08:37.000000000",
          "2025-04-11T17:08:49.000000000",
          "2025-04-11T17:08:57.000000000",
          "2025-04-11T17:09:09.000000000"
         ],
         "xaxis": "x6",
         "y": {
          "bdata": "w/UoXI8ab0DD9ShcjxpvQMP1KFyPGm9Aw/UoXI8ab0DD9ShcjxpvQIJOG+i0IW9AAt+8mngmb0AC6n28pSlvQAKc/tLDK29AAmhUNy0tb0AC8OIkHi5vQAceVPwoLW9AYOf0i4Usb0BGGGCWGCxvQDSOp/LPK29A09yBhZ8rb0A9Eb48fytvQPaCS/V2JG9A",
          "dtype": "f8"
         },
         "yaxis": "y6"
        },
        {
         "legendgroup": "NVDA",
         "line": {
          "color": "blue"
         },
         "mode": "lines+markers",
         "name": "Close",
         "showlegend": false,
         "type": "scatter",
         "x": [
          "2025-04-11T17:06:15.000000000",
          "2025-04-11T17:06:24.000000000",
          "2025-04-11T17:06:37.000000000",
          "2025-04-11T17:06:45.000000000",
          "2025-04-11T17:06:53.000000000",
          "2025-04-11T17:07:07.000000000",
          "2025-04-11T17:07:15.000000000",
          "2025-04-11T17:07:27.000000000",
          "2025-04-11T17:07:35.000000000",
          "2025-04-11T17:07:47.000000000",
          "2025-04-11T17:07:55.000000000",
          "2025-04-11T17:08:08.000000000",
          "2025-04-11T17:08:16.000000000",
          "2025-04-11T17:08:25.000000000",
          "2025-04-11T17:08:37.000000000",
          "2025-04-11T17:08:49.000000000",
          "2025-04-11T17:08:57.000000000",
          "2025-04-11T17:09:09.000000000"
         ],
         "xaxis": "x7",
         "y": {
          "bdata": "3bWEfNCHW0DdtYR80IdbQN21hHzQh1tA3bWEfNCHW0DdtYR80IdbQDMzMzMzm1tAMzMzMzObW0AzMzMzM5tbQDMzMzMzm1tAMzMzMzObW0AzMzMzM5tbQBSuR+F6lFtAFK5H4XqUW0AUrkfhepRbQBSuR+F6lFtAFK5H4XqUW0AUrkfhepRbQLgehetRiFtA",
          "dtype": "f8"
         },
         "yaxis": "y7"
        },
        {
         "legendgroup": "NVDA",
         "line": {
          "color": "orange",
          "dash": "dash"
         },
         "mode": "lines+markers",
         "name": "SMA_5",
         "showlegend": false,
         "type": "scatter",
         "x": [
          "2025-04-11T17:06:15.000000000",
          "2025-04-11T17:06:24.000000000",
          "2025-04-11T17:06:37.000000000",
          "2025-04-11T17:06:45.000000000",
          "2025-04-11T17:06:53.000000000",
          "2025-04-11T17:07:07.000000000",
          "2025-04-11T17:07:15.000000000",
          "2025-04-11T17:07:27.000000000",
          "2025-04-11T17:07:35.000000000",
          "2025-04-11T17:07:47.000000000",
          "2025-04-11T17:07:55.000000000",
          "2025-04-11T17:08:08.000000000",
          "2025-04-11T17:08:16.000000000",
          "2025-04-11T17:08:25.000000000",
          "2025-04-11T17:08:37.000000000",
          "2025-04-11T17:08:49.000000000",
          "2025-04-11T17:08:57.000000000",
          "2025-04-11T17:09:09.000000000"
         ],
         "xaxis": "x7",
         "y": {
          "bdata": "oBov3SQweECgGi/dJDB4QKAaL90kMHhAoBov3SQweEDdtYR80IdbQIhodAexi1tAMhtkkpGPW0DdzVMdcpNbQIiAQ6hSl1tAMzMzMzObW0AzMzMzM5tbQGDl0CLbmVtAjZduEoOYW0C6SQwCK5dbQOb7qfHSlVtAFK5H4XqUW0AUrkfhepRbQDVeukkMkltA",
          "dtype": "f8"
         },
         "yaxis": "y7"
        },
        {
         "legendgroup": "NVDA",
         "line": {
          "color": "green",
          "dash": "dot"
         },
         "mode": "lines+markers",
         "name": "EMA_5",
         "showlegend": false,
         "type": "scatter",
         "x": [
          "2025-04-11T17:06:15.000000000",
          "2025-04-11T17:06:24.000000000",
          "2025-04-11T17:06:37.000000000",
          "2025-04-11T17:06:45.000000000",
          "2025-04-11T17:06:53.000000000",
          "2025-04-11T17:07:07.000000000",
          "2025-04-11T17:07:15.000000000",
          "2025-04-11T17:07:27.000000000",
          "2025-04-11T17:07:35.000000000",
          "2025-04-11T17:07:47.000000000",
          "2025-04-11T17:07:55.000000000",
          "2025-04-11T17:08:08.000000000",
          "2025-04-11T17:08:16.000000000",
          "2025-04-11T17:08:25.000000000",
          "2025-04-11T17:08:37.000000000",
          "2025-04-11T17:08:49.000000000",
          "2025-04-11T17:08:57.000000000",
          "2025-04-11T17:09:09.000000000"
         ],
         "xaxis": "x7",
         "y": {
          "bdata": "3bWEfNCHW0DdtYR80IdbQN21hHzQh1tA3bWEfNCHW0DdtYR80IdbQE+KablGjltAm8KsjJWSW0Aj6C7EdJVbQH5WMOlel1tAEKCGrKWYW0DHexWEf5lbQOHh0E3Tl1tAndBN1LWWW0AaxUuD95VbQG69n6J4lVtAULjXDCSVW0A8Cv2o65RbQBAR1Wm4kFtA",
          "dtype": "f8"
         },
         "yaxis": "y7"
        }
       ],
       "layout": {
        "annotations": [
         {
          "font": {
           "size": 16
          },
          "showarrow": false,
          "text": "AAPL",
          "x": 0.14444444444444446,
          "xanchor": "center",
          "xref": "paper",
          "y": 1,
          "yanchor": "bottom",
          "yref": "paper"
         },
         {
          "font": {
           "size": 16
          },
          "showarrow": false,
          "text": "MSFT",
          "x": 0.5,
          "xanchor": "center",
          "xref": "paper",
          "y": 1,
          "yanchor": "bottom",
          "yref": "paper"
         },
         {
          "font": {
           "size": 16
          },
          "showarrow": false,
          "text": "AMZN",
          "x": 0.8555555555555556,
          "xanchor": "center",
          "xref": "paper",
          "y": 1,
          "yanchor": "bottom",
          "yref": "paper"
         },
         {
          "font": {
           "size": 16
          },
          "showarrow": false,
          "text": "GOOGL",
          "x": 0.14444444444444446,
          "xanchor": "center",
          "xref": "paper",
          "y": 0.6111111111111112,
          "yanchor": "bottom",
          "yref": "paper"
         },
         {
          "font": {
           "size": 16
          },
          "showarrow": false,
          "text": "META",
          "x": 0.5,
          "xanchor": "center",
          "xref": "paper",
          "y": 0.6111111111111112,
          "yanchor": "bottom",
          "yref": "paper"
         },
         {
          "font": {
           "size": 16
          },
          "showarrow": false,
          "text": "TSLA",
          "x": 0.8555555555555556,
          "xanchor": "center",
          "xref": "paper",
          "y": 0.6111111111111112,
          "yanchor": "bottom",
          "yref": "paper"
         },
         {
          "font": {
           "size": 16
          },
          "showarrow": false,
          "text": "NVDA",
          "x": 0.14444444444444446,
          "xanchor": "center",
          "xref": "paper",
          "y": 0.22222222222222224,
          "yanchor": "bottom",
          "yref": "paper"
         }
        ],
        "height": 1000,
        "template": {
         "data": {
          "bar": [
           {
            "error_x": {
             "color": "#2a3f5f"
            },
            "error_y": {
             "color": "#2a3f5f"
            },
            "marker": {
             "line": {
              "color": "#E5ECF6",
              "width": 0.5
             },
             "pattern": {
              "fillmode": "overlay",
              "size": 10,
              "solidity": 0.2
             }
            },
            "type": "bar"
           }
          ],
          "barpolar": [
           {
            "marker": {
             "line": {
              "color": "#E5ECF6",
              "width": 0.5
             },
             "pattern": {
              "fillmode": "overlay",
              "size": 10,
              "solidity": 0.2
             }
            },
            "type": "barpolar"
           }
          ],
          "carpet": [
           {
            "aaxis": {
             "endlinecolor": "#2a3f5f",
             "gridcolor": "white",
             "linecolor": "white",
             "minorgridcolor": "white",
             "startlinecolor": "#2a3f5f"
            },
            "baxis": {
             "endlinecolor": "#2a3f5f",
             "gridcolor": "white",
             "linecolor": "white",
             "minorgridcolor": "white",
             "startlinecolor": "#2a3f5f"
            },
            "type": "carpet"
           }
          ],
          "choropleth": [
           {
            "colorbar": {
             "outlinewidth": 0,
             "ticks": ""
            },
            "type": "choropleth"
           }
          ],
          "contour": [
           {
            "colorbar": {
             "outlinewidth": 0,
             "ticks": ""
            },
            "colorscale": [
             [
              0,
              "#0d0887"
             ],
             [
              0.1111111111111111,
              "#46039f"
             ],
             [
              0.2222222222222222,
              "#7201a8"
             ],
             [
              0.3333333333333333,
              "#9c179e"
             ],
             [
              0.4444444444444444,
              "#bd3786"
             ],
             [
              0.5555555555555556,
              "#d8576b"
             ],
             [
              0.6666666666666666,
              "#ed7953"
             ],
             [
              0.7777777777777778,
              "#fb9f3a"
             ],
             [
              0.8888888888888888,
              "#fdca26"
             ],
             [
              1,
              "#f0f921"
             ]
            ],
            "type": "contour"
           }
          ],
          "contourcarpet": [
           {
            "colorbar": {
             "outlinewidth": 0,
             "ticks": ""
            },
            "type": "contourcarpet"
           }
          ],
          "heatmap": [
           {
            "colorbar": {
             "outlinewidth": 0,
             "ticks": ""
            },
            "colorscale": [
             [
              0,
              "#0d0887"
             ],
             [
              0.1111111111111111,
              "#46039f"
             ],
             [
              0.2222222222222222,
              "#7201a8"
             ],
             [
              0.3333333333333333,
              "#9c179e"
             ],
             [
              0.4444444444444444,
              "#bd3786"
             ],
             [
              0.5555555555555556,
              "#d8576b"
             ],
             [
              0.6666666666666666,
              "#ed7953"
             ],
             [
              0.7777777777777778,
              "#fb9f3a"
             ],
             [
              0.8888888888888888,
              "#fdca26"
             ],
             [
              1,
              "#f0f921"
             ]
            ],
            "type": "heatmap"
           }
          ],
          "histogram": [
           {
            "marker": {
             "pattern": {
              "fillmode": "overlay",
              "size": 10,
              "solidity": 0.2
             }
            },
            "type": "histogram"
           }
          ],
          "histogram2d": [
           {
            "colorbar": {
             "outlinewidth": 0,
             "ticks": ""
            },
            "colorscale": [
             [
              0,
              "#0d0887"
             ],
             [
              0.1111111111111111,
              "#46039f"
             ],
             [
              0.2222222222222222,
              "#7201a8"
             ],
             [
              0.3333333333333333,
              "#9c179e"
             ],
             [
              0.4444444444444444,
              "#bd3786"
             ],
             [
              0.5555555555555556,
              "#d8576b"
             ],
             [
              0.6666666666666666,
              "#ed7953"
             ],
             [
              0.7777777777777778,
              "#fb9f3a"
             ],
             [
              0.8888888888888888,
              "#fdca26"
             ],
             [
              1,
              "#f0f921"
             ]
            ],
            "type": "histogram2d"
           }
          ],
          "histogram2dcontour": [
           {
            "colorbar": {
             "outlinewidth": 0,
             "ticks": ""
            },
            "colorscale": [
             [
              0,
              "#0d0887"
             ],
             [
              0.1111111111111111,
              "#46039f"
             ],
             [
              0.2222222222222222,
              "#7201a8"
             ],
             [
              0.3333333333333333,
              "#9c179e"
             ],
             [
              0.4444444444444444,
              "#bd3786"
             ],
             [
              0.5555555555555556,
              "#d8576b"
             ],
             [
              0.6666666666666666,
              "#ed7953"
             ],
             [
              0.7777777777777778,
              "#fb9f3a"
             ],
             [
              0.8888888888888888,
              "#fdca26"
             ],
             [
              1,
              "#f0f921"
             ]
            ],
            "type": "histogram2dcontour"
           }
          ],
          "mesh3d": [
           {
            "colorbar": {
             "outlinewidth": 0,
             "ticks": ""
            },
            "type": "mesh3d"
           }
          ],
          "parcoords": [
           {
            "line": {
             "colorbar": {
              "outlinewidth": 0,
              "ticks": ""
             }
            },
            "type": "parcoords"
           }
          ],
          "pie": [
           {
            "automargin": true,
            "type": "pie"
           }
          ],
          "scatter": [
           {
            "fillpattern": {
             "fillmode": "overlay",
             "size": 10,
             "solidity": 0.2
            },
            "type": "scatter"
           }
          ],
          "scatter3d": [
           {
            "line": {
             "colorbar": {
              "outlinewidth": 0,
              "ticks": ""
             }
            },
            "marker": {
             "colorbar": {
              "outlinewidth": 0,
              "ticks": ""
             }
            },
            "type": "scatter3d"
           }
          ],
          "scattercarpet": [
           {
            "marker": {
             "colorbar": {
              "outlinewidth": 0,
              "ticks": ""
             }
            },
            "type": "scattercarpet"
           }
          ],
          "scattergeo": [
           {
            "marker": {
             "colorbar": {
              "outlinewidth": 0,
              "ticks": ""
             }
            },
            "type": "scattergeo"
           }
          ],
          "scattergl": [
           {
            "marker": {
             "colorbar": {
              "outlinewidth": 0,
              "ticks": ""
             }
            },
            "type": "scattergl"
           }
          ],
          "scattermap": [
           {
            "marker": {
             "colorbar": {
              "outlinewidth": 0,
              "ticks": ""
             }
            },
            "type": "scattermap"
           }
          ],
          "scattermapbox": [
           {
            "marker": {
             "colorbar": {
              "outlinewidth": 0,
              "ticks": ""
             }
            },
            "type": "scattermapbox"
           }
          ],
          "scatterpolar": [
           {
            "marker": {
             "colorbar": {
              "outlinewidth": 0,
              "ticks": ""
             }
            },
            "type": "scatterpolar"
           }
          ],
          "scatterpolargl": [
           {
            "marker": {
             "colorbar": {
              "outlinewidth": 0,
              "ticks": ""
             }
            },
            "type": "scatterpolargl"
           }
          ],
          "scatterternary": [
           {
            "marker": {
             "colorbar": {
              "outlinewidth": 0,
              "ticks": ""
             }
            },
            "type": "scatterternary"
           }
          ],
          "surface": [
           {
            "colorbar": {
             "outlinewidth": 0,
             "ticks": ""
            },
            "colorscale": [
             [
              0,
              "#0d0887"
             ],
             [
              0.1111111111111111,
              "#46039f"
             ],
             [
              0.2222222222222222,
              "#7201a8"
             ],
             [
              0.3333333333333333,
              "#9c179e"
             ],
             [
              0.4444444444444444,
              "#bd3786"
             ],
             [
              0.5555555555555556,
              "#d8576b"
             ],
             [
              0.6666666666666666,
              "#ed7953"
             ],
             [
              0.7777777777777778,
              "#fb9f3a"
             ],
             [
              0.8888888888888888,
              "#fdca26"
             ],
             [
              1,
              "#f0f921"
             ]
            ],
            "type": "surface"
           }
          ],
          "table": [
           {
            "cells": {
             "fill": {
              "color": "#EBF0F8"
             },
             "line": {
              "color": "white"
             }
            },
            "header": {
             "fill": {
              "color": "#C8D4E3"
             },
             "line": {
              "color": "white"
             }
            },
            "type": "table"
           }
          ]
         },
         "layout": {
          "annotationdefaults": {
           "arrowcolor": "#2a3f5f",
           "arrowhead": 0,
           "arrowwidth": 1
          },
          "autotypenumbers": "strict",
          "coloraxis": {
           "colorbar": {
            "outlinewidth": 0,
            "ticks": ""
           }
          },
          "colorscale": {
           "diverging": [
            [
             0,
             "#8e0152"
            ],
            [
             0.1,
             "#c51b7d"
            ],
            [
             0.2,
             "#de77ae"
            ],
            [
             0.3,
             "#f1b6da"
            ],
            [
             0.4,
             "#fde0ef"
            ],
            [
             0.5,
             "#f7f7f7"
            ],
            [
             0.6,
             "#e6f5d0"
            ],
            [
             0.7,
             "#b8e186"
            ],
            [
             0.8,
             "#7fbc41"
            ],
            [
             0.9,
             "#4d9221"
            ],
            [
             1,
             "#276419"
            ]
           ],
           "sequential": [
            [
             0,
             "#0d0887"
            ],
            [
             0.1111111111111111,
             "#46039f"
            ],
            [
             0.2222222222222222,
             "#7201a8"
            ],
            [
             0.3333333333333333,
             "#9c179e"
            ],
            [
             0.4444444444444444,
             "#bd3786"
            ],
            [
             0.5555555555555556,
             "#d8576b"
            ],
            [
             0.6666666666666666,
             "#ed7953"
            ],
            [
             0.7777777777777778,
             "#fb9f3a"
            ],
            [
             0.8888888888888888,
             "#fdca26"
            ],
            [
             1,
             "#f0f921"
            ]
           ],
           "sequentialminus": [
            [
             0,
             "#0d0887"
            ],
            [
             0.1111111111111111,
             "#46039f"
            ],
            [
             0.2222222222222222,
             "#7201a8"
            ],
            [
             0.3333333333333333,
             "#9c179e"
            ],
            [
             0.4444444444444444,
             "#bd3786"
            ],
            [
             0.5555555555555556,
             "#d8576b"
            ],
            [
             0.6666666666666666,
             "#ed7953"
            ],
            [
             0.7777777777777778,
             "#fb9f3a"
            ],
            [
             0.8888888888888888,
             "#fdca26"
            ],
            [
             1,
             "#f0f921"
            ]
           ]
          },
          "colorway": [
           "#636efa",
           "#EF553B",
           "#00cc96",
           "#ab63fa",
           "#FFA15A",
           "#19d3f3",
           "#FF6692",
           "#B6E880",
           "#FF97FF",
           "#FECB52"
          ],
          "font": {
           "color": "#2a3f5f"
          },
          "geo": {
           "bgcolor": "white",
           "lakecolor": "white",
           "landcolor": "#E5ECF6",
           "showlakes": true,
           "showland": true,
           "subunitcolor": "white"
          },
          "hoverlabel": {
           "align": "left"
          },
          "hovermode": "closest",
          "mapbox": {
           "style": "light"
          },
          "paper_bgcolor": "white",
          "plot_bgcolor": "#E5ECF6",
          "polar": {
           "angularaxis": {
            "gridcolor": "white",
            "linecolor": "white",
            "ticks": ""
           },
           "bgcolor": "#E5ECF6",
           "radialaxis": {
            "gridcolor": "white",
            "linecolor": "white",
            "ticks": ""
           }
          },
          "scene": {
           "xaxis": {
            "backgroundcolor": "#E5ECF6",
            "gridcolor": "white",
            "gridwidth": 2,
            "linecolor": "white",
            "showbackground": true,
            "ticks": "",
            "zerolinecolor": "white"
           },
           "yaxis": {
            "backgroundcolor": "#E5ECF6",
            "gridcolor": "white",
            "gridwidth": 2,
            "linecolor": "white",
            "showbackground": true,
            "ticks": "",
            "zerolinecolor": "white"
           },
           "zaxis": {
            "backgroundcolor": "#E5ECF6",
            "gridcolor": "white",
            "gridwidth": 2,
            "linecolor": "white",
            "showbackground": true,
            "ticks": "",
            "zerolinecolor": "white"
           }
          },
          "shapedefaults": {
           "line": {
            "color": "#2a3f5f"
           }
          },
          "ternary": {
           "aaxis": {
            "gridcolor": "white",
            "linecolor": "white",
            "ticks": ""
           },
           "baxis": {
            "gridcolor": "white",
            "linecolor": "white",
            "ticks": ""
           },
           "bgcolor": "#E5ECF6",
           "caxis": {
            "gridcolor": "white",
            "linecolor": "white",
            "ticks": ""
           }
          },
          "title": {
           "x": 0.05
          },
          "xaxis": {
           "automargin": true,
           "gridcolor": "white",
           "linecolor": "white",
           "ticks": "",
           "title": {
            "standoff": 15
           },
           "zerolinecolor": "white",
           "zerolinewidth": 2
          },
          "yaxis": {
           "automargin": true,
           "gridcolor": "white",
           "linecolor": "white",
           "ticks": "",
           "title": {
            "standoff": 15
           },
           "zerolinecolor": "white",
           "zerolinewidth": 2
          }
         }
        },
        "title": {
         "text": "Close Price vs. SMA vs. EMA per Ticker (Real-Time Data)"
        },
        "width": 1200,
        "xaxis": {
         "anchor": "y",
         "domain": [
          0,
          0.2888888888888889
         ]
        },
        "xaxis2": {
         "anchor": "y2",
         "domain": [
          0.35555555555555557,
          0.6444444444444445
         ]
        },
        "xaxis3": {
         "anchor": "y3",
         "domain": [
          0.7111111111111111,
          1
         ]
        },
        "xaxis4": {
         "anchor": "y4",
         "domain": [
          0,
          0.2888888888888889
         ]
        },
        "xaxis5": {
         "anchor": "y5",
         "domain": [
          0.35555555555555557,
          0.6444444444444445
         ]
        },
        "xaxis6": {
         "anchor": "y6",
         "domain": [
          0.7111111111111111,
          1
         ]
        },
        "xaxis7": {
         "anchor": "y7",
         "domain": [
          0,
          0.2888888888888889
         ]
        },
        "xaxis8": {
         "anchor": "y8",
         "domain": [
          0.35555555555555557,
          0.6444444444444445
         ]
        },
        "xaxis9": {
         "anchor": "y9",
         "domain": [
          0.7111111111111111,
          1
         ]
        },
        "yaxis": {
         "anchor": "x",
         "domain": [
          0.7777777777777778,
          1
         ]
        },
        "yaxis2": {
         "anchor": "x2",
         "domain": [
          0.7777777777777778,
          1
         ]
        },
        "yaxis3": {
         "anchor": "x3",
         "domain": [
          0.7777777777777778,
          1
         ]
        },
        "yaxis4": {
         "anchor": "x4",
         "domain": [
          0.3888888888888889,
          0.6111111111111112
         ]
        },
        "yaxis5": {
         "anchor": "x5",
         "domain": [
          0.3888888888888889,
          0.6111111111111112
         ]
        },
        "yaxis6": {
         "anchor": "x6",
         "domain": [
          0.3888888888888889,
          0.6111111111111112
         ]
        },
        "yaxis7": {
         "anchor": "x7",
         "domain": [
          0,
          0.22222222222222224
         ]
        },
        "yaxis8": {
         "anchor": "x8",
         "domain": [
          0,
          0.22222222222222224
         ]
        },
        "yaxis9": {
         "anchor": "x9",
         "domain": [
          0,
          0.22222222222222224
         ]
        }
       }
      }
     },
     "metadata": {},
     "output_type": "display_data"
    }
   ],
   "source": [
    "import plotly.graph_objects as go\n",
    "from plotly.subplots import make_subplots\n",
    "\n",
    "# tickers \n",
    "tickers = ['AAPL', 'MSFT', 'AMZN', 'GOOGL', 'META', 'TSLA', 'NVDA']\n",
    "\n",
    "#in order to fit 7 tickers we are going to use a  3x3 grid of subplots\n",
    "#writing it ouside the makesubplots function so we can use it in the for loop\n",
    "rows = 3\n",
    "cols = 3\n",
    "\n",
    "#creating the subplot\n",
    "fig = make_subplots(rows=3,cols=3,subplot_titles=[f\"{ticker}\" for ticker in tickers])\n",
    "\n",
    "# using a forloop and running each ticker and its Close price, SMA_5, and EMA_5 \n",
    "for i, ticker in enumerate(tickers):\n",
    "    row = i // cols + 1  \n",
    "    col = i % cols + 1 \n",
    "    subset = df_cass_final[df_cass_final['ticker'] == ticker]  \n",
    "\n",
    "    # adding close price line\n",
    "    fig.add_trace(\n",
    "        go.Scatter(x=subset['date'],y=subset['close'], mode='lines+markers', name='Close',legendgroup=ticker, showlegend=(i == 0),line=dict(color='blue')),\n",
    "        row=row, col=col)\n",
    "\n",
    "    # adding SMA_5 value line (Simple Moving Average)\n",
    "    fig.add_trace(\n",
    "        go.Scatter(x=subset['date'],y=subset['SMA_5'],mode='lines+markers', name='SMA_5',legendgroup=ticker,showlegend=(i == 0), line=dict(color='orange', dash='dash')),\n",
    "        row=row, col=col)\n",
    "    # adding EMA_5 value line (Exponential Moving Average)\n",
    "    fig.add_trace(\n",
    "        go.Scatter(x=subset['date'],y=subset['EMA_5'],mode='lines+markers',name='EMA_5',legendgroup=ticker,showlegend=(i == 0),line=dict(color='green', dash='dot') ),row=row, col=col)\n",
    "# updating the hieght and width and title\n",
    "fig.update_layout(height=1000,  width=1200, title_text=\"Close Price vs. SMA vs. EMA per Ticker (Real-Time Data)\")\n",
    "#show\n",
    "fig.show()\n"
   ]
  },
  {
   "cell_type": "markdown",
   "metadata": {},
   "source": [
    "### The above plot is a great summary analysis of SMA (average of last 5 close prices) and EMA (weighted average of the last 5 close prices) as it compares to our close price (last traded price at each time interval). This graph is useful in showing how closely EMA and SMA fit the close values. If EMA crosses above the SMA we can see a sigh of a bullish cross over which is often seen as a entry signal to buy stocks. However if SMA crosses over the EMA then it might be signs of a bearish crossover which indicates time to sell and exit out your stocks.  Note: There is a jump after 5 dots (data points) because SMA_5, EMA_5 take atleast 5 values before they are able to calculate their rolling average. \n"
   ]
  },
  {
   "cell_type": "code",
   "execution_count": 96,
   "metadata": {},
   "outputs": [
    {
     "data": {
      "application/vnd.plotly.v1+json": {
       "config": {
        "plotlyServerURL": "https://plot.ly"
       },
       "data": [
        {
         "close": {
          "bdata": "uB6F61HYaEC4HoXrUdhoQLgehetR2GhAuB6F61HYaEC4HoXrUdhoQLgehetR2GhAhetRuB7RaECF61G4HtFoQIXrUbge0WhAhetRuB7RaECF61G4HtFoQIXrUbge0WhAuB6F61HIaEA=",
          "dtype": "f8"
         },
         "high": {
          "bdata": "MzMzMzPraEAzMzMzM+toQDMzMzMz62hAMzMzMzPraEAzMzMzM+toQDMzMzMz62hAMzMzMzPraEAzMzMzM+toQDMzMzMz62hAMzMzMzPraEAzMzMzM+toQDMzMzMz62hAMzMzMzPraEA=",
          "dtype": "f8"
         },
         "low": {
          "bdata": "UrgehetBZ0BSuB6F60FnQFK4HoXrQWdAUrgehetBZ0BSuB6F60FnQFK4HoXrQWdAUrgehetBZ0BSuB6F60FnQFK4HoXrQWdAUrgehetBZ0BSuB6F60FnQFK4HoXrQWdAUrgehetBZ0A=",
          "dtype": "f8"
         },
         "open": {
          "bdata": "w/UoXI/6Z0DD9Shcj/pnQMP1KFyP+mdAw/UoXI/6Z0DD9Shcj/pnQMP1KFyP+mdAw/UoXI/6Z0DD9Shcj/pnQMP1KFyP+mdAw/UoXI/6Z0DD9Shcj/pnQMP1KFyP+mdAw/UoXI/6Z0A=",
          "dtype": "f8"
         },
         "type": "candlestick",
         "x": [
          "2025-04-11T17:07:06.000000000",
          "2025-04-11T17:07:15.000000000",
          "2025-04-11T17:07:27.000000000",
          "2025-04-11T17:07:35.000000000",
          "2025-04-11T17:07:47.000000000",
          "2025-04-11T17:07:56.000000000",
          "2025-04-11T17:08:08.000000000",
          "2025-04-11T17:08:16.000000000",
          "2025-04-11T17:08:25.000000000",
          "2025-04-11T17:08:37.000000000",
          "2025-04-11T17:08:45.000000000",
          "2025-04-11T17:08:57.000000000",
          "2025-04-11T17:09:09.000000000"
         ]
        }
       ],
       "layout": {
        "template": {
         "data": {
          "bar": [
           {
            "error_x": {
             "color": "#2a3f5f"
            },
            "error_y": {
             "color": "#2a3f5f"
            },
            "marker": {
             "line": {
              "color": "#E5ECF6",
              "width": 0.5
             },
             "pattern": {
              "fillmode": "overlay",
              "size": 10,
              "solidity": 0.2
             }
            },
            "type": "bar"
           }
          ],
          "barpolar": [
           {
            "marker": {
             "line": {
              "color": "#E5ECF6",
              "width": 0.5
             },
             "pattern": {
              "fillmode": "overlay",
              "size": 10,
              "solidity": 0.2
             }
            },
            "type": "barpolar"
           }
          ],
          "carpet": [
           {
            "aaxis": {
             "endlinecolor": "#2a3f5f",
             "gridcolor": "white",
             "linecolor": "white",
             "minorgridcolor": "white",
             "startlinecolor": "#2a3f5f"
            },
            "baxis": {
             "endlinecolor": "#2a3f5f",
             "gridcolor": "white",
             "linecolor": "white",
             "minorgridcolor": "white",
             "startlinecolor": "#2a3f5f"
            },
            "type": "carpet"
           }
          ],
          "choropleth": [
           {
            "colorbar": {
             "outlinewidth": 0,
             "ticks": ""
            },
            "type": "choropleth"
           }
          ],
          "contour": [
           {
            "colorbar": {
             "outlinewidth": 0,
             "ticks": ""
            },
            "colorscale": [
             [
              0,
              "#0d0887"
             ],
             [
              0.1111111111111111,
              "#46039f"
             ],
             [
              0.2222222222222222,
              "#7201a8"
             ],
             [
              0.3333333333333333,
              "#9c179e"
             ],
             [
              0.4444444444444444,
              "#bd3786"
             ],
             [
              0.5555555555555556,
              "#d8576b"
             ],
             [
              0.6666666666666666,
              "#ed7953"
             ],
             [
              0.7777777777777778,
              "#fb9f3a"
             ],
             [
              0.8888888888888888,
              "#fdca26"
             ],
             [
              1,
              "#f0f921"
             ]
            ],
            "type": "contour"
           }
          ],
          "contourcarpet": [
           {
            "colorbar": {
             "outlinewidth": 0,
             "ticks": ""
            },
            "type": "contourcarpet"
           }
          ],
          "heatmap": [
           {
            "colorbar": {
             "outlinewidth": 0,
             "ticks": ""
            },
            "colorscale": [
             [
              0,
              "#0d0887"
             ],
             [
              0.1111111111111111,
              "#46039f"
             ],
             [
              0.2222222222222222,
              "#7201a8"
             ],
             [
              0.3333333333333333,
              "#9c179e"
             ],
             [
              0.4444444444444444,
              "#bd3786"
             ],
             [
              0.5555555555555556,
              "#d8576b"
             ],
             [
              0.6666666666666666,
              "#ed7953"
             ],
             [
              0.7777777777777778,
              "#fb9f3a"
             ],
             [
              0.8888888888888888,
              "#fdca26"
             ],
             [
              1,
              "#f0f921"
             ]
            ],
            "type": "heatmap"
           }
          ],
          "histogram": [
           {
            "marker": {
             "pattern": {
              "fillmode": "overlay",
              "size": 10,
              "solidity": 0.2
             }
            },
            "type": "histogram"
           }
          ],
          "histogram2d": [
           {
            "colorbar": {
             "outlinewidth": 0,
             "ticks": ""
            },
            "colorscale": [
             [
              0,
              "#0d0887"
             ],
             [
              0.1111111111111111,
              "#46039f"
             ],
             [
              0.2222222222222222,
              "#7201a8"
             ],
             [
              0.3333333333333333,
              "#9c179e"
             ],
             [
              0.4444444444444444,
              "#bd3786"
             ],
             [
              0.5555555555555556,
              "#d8576b"
             ],
             [
              0.6666666666666666,
              "#ed7953"
             ],
             [
              0.7777777777777778,
              "#fb9f3a"
             ],
             [
              0.8888888888888888,
              "#fdca26"
             ],
             [
              1,
              "#f0f921"
             ]
            ],
            "type": "histogram2d"
           }
          ],
          "histogram2dcontour": [
           {
            "colorbar": {
             "outlinewidth": 0,
             "ticks": ""
            },
            "colorscale": [
             [
              0,
              "#0d0887"
             ],
             [
              0.1111111111111111,
              "#46039f"
             ],
             [
              0.2222222222222222,
              "#7201a8"
             ],
             [
              0.3333333333333333,
              "#9c179e"
             ],
             [
              0.4444444444444444,
              "#bd3786"
             ],
             [
              0.5555555555555556,
              "#d8576b"
             ],
             [
              0.6666666666666666,
              "#ed7953"
             ],
             [
              0.7777777777777778,
              "#fb9f3a"
             ],
             [
              0.8888888888888888,
              "#fdca26"
             ],
             [
              1,
              "#f0f921"
             ]
            ],
            "type": "histogram2dcontour"
           }
          ],
          "mesh3d": [
           {
            "colorbar": {
             "outlinewidth": 0,
             "ticks": ""
            },
            "type": "mesh3d"
           }
          ],
          "parcoords": [
           {
            "line": {
             "colorbar": {
              "outlinewidth": 0,
              "ticks": ""
             }
            },
            "type": "parcoords"
           }
          ],
          "pie": [
           {
            "automargin": true,
            "type": "pie"
           }
          ],
          "scatter": [
           {
            "fillpattern": {
             "fillmode": "overlay",
             "size": 10,
             "solidity": 0.2
            },
            "type": "scatter"
           }
          ],
          "scatter3d": [
           {
            "line": {
             "colorbar": {
              "outlinewidth": 0,
              "ticks": ""
             }
            },
            "marker": {
             "colorbar": {
              "outlinewidth": 0,
              "ticks": ""
             }
            },
            "type": "scatter3d"
           }
          ],
          "scattercarpet": [
           {
            "marker": {
             "colorbar": {
              "outlinewidth": 0,
              "ticks": ""
             }
            },
            "type": "scattercarpet"
           }
          ],
          "scattergeo": [
           {
            "marker": {
             "colorbar": {
              "outlinewidth": 0,
              "ticks": ""
             }
            },
            "type": "scattergeo"
           }
          ],
          "scattergl": [
           {
            "marker": {
             "colorbar": {
              "outlinewidth": 0,
              "ticks": ""
             }
            },
            "type": "scattergl"
           }
          ],
          "scattermap": [
           {
            "marker": {
             "colorbar": {
              "outlinewidth": 0,
              "ticks": ""
             }
            },
            "type": "scattermap"
           }
          ],
          "scattermapbox": [
           {
            "marker": {
             "colorbar": {
              "outlinewidth": 0,
              "ticks": ""
             }
            },
            "type": "scattermapbox"
           }
          ],
          "scatterpolar": [
           {
            "marker": {
             "colorbar": {
              "outlinewidth": 0,
              "ticks": ""
             }
            },
            "type": "scatterpolar"
           }
          ],
          "scatterpolargl": [
           {
            "marker": {
             "colorbar": {
              "outlinewidth": 0,
              "ticks": ""
             }
            },
            "type": "scatterpolargl"
           }
          ],
          "scatterternary": [
           {
            "marker": {
             "colorbar": {
              "outlinewidth": 0,
              "ticks": ""
             }
            },
            "type": "scatterternary"
           }
          ],
          "surface": [
           {
            "colorbar": {
             "outlinewidth": 0,
             "ticks": ""
            },
            "colorscale": [
             [
              0,
              "#0d0887"
             ],
             [
              0.1111111111111111,
              "#46039f"
             ],
             [
              0.2222222222222222,
              "#7201a8"
             ],
             [
              0.3333333333333333,
              "#9c179e"
             ],
             [
              0.4444444444444444,
              "#bd3786"
             ],
             [
              0.5555555555555556,
              "#d8576b"
             ],
             [
              0.6666666666666666,
              "#ed7953"
             ],
             [
              0.7777777777777778,
              "#fb9f3a"
             ],
             [
              0.8888888888888888,
              "#fdca26"
             ],
             [
              1,
              "#f0f921"
             ]
            ],
            "type": "surface"
           }
          ],
          "table": [
           {
            "cells": {
             "fill": {
              "color": "#EBF0F8"
             },
             "line": {
              "color": "white"
             }
            },
            "header": {
             "fill": {
              "color": "#C8D4E3"
             },
             "line": {
              "color": "white"
             }
            },
            "type": "table"
           }
          ]
         },
         "layout": {
          "annotationdefaults": {
           "arrowcolor": "#2a3f5f",
           "arrowhead": 0,
           "arrowwidth": 1
          },
          "autotypenumbers": "strict",
          "coloraxis": {
           "colorbar": {
            "outlinewidth": 0,
            "ticks": ""
           }
          },
          "colorscale": {
           "diverging": [
            [
             0,
             "#8e0152"
            ],
            [
             0.1,
             "#c51b7d"
            ],
            [
             0.2,
             "#de77ae"
            ],
            [
             0.3,
             "#f1b6da"
            ],
            [
             0.4,
             "#fde0ef"
            ],
            [
             0.5,
             "#f7f7f7"
            ],
            [
             0.6,
             "#e6f5d0"
            ],
            [
             0.7,
             "#b8e186"
            ],
            [
             0.8,
             "#7fbc41"
            ],
            [
             0.9,
             "#4d9221"
            ],
            [
             1,
             "#276419"
            ]
           ],
           "sequential": [
            [
             0,
             "#0d0887"
            ],
            [
             0.1111111111111111,
             "#46039f"
            ],
            [
             0.2222222222222222,
             "#7201a8"
            ],
            [
             0.3333333333333333,
             "#9c179e"
            ],
            [
             0.4444444444444444,
             "#bd3786"
            ],
            [
             0.5555555555555556,
             "#d8576b"
            ],
            [
             0.6666666666666666,
             "#ed7953"
            ],
            [
             0.7777777777777778,
             "#fb9f3a"
            ],
            [
             0.8888888888888888,
             "#fdca26"
            ],
            [
             1,
             "#f0f921"
            ]
           ],
           "sequentialminus": [
            [
             0,
             "#0d0887"
            ],
            [
             0.1111111111111111,
             "#46039f"
            ],
            [
             0.2222222222222222,
             "#7201a8"
            ],
            [
             0.3333333333333333,
             "#9c179e"
            ],
            [
             0.4444444444444444,
             "#bd3786"
            ],
            [
             0.5555555555555556,
             "#d8576b"
            ],
            [
             0.6666666666666666,
             "#ed7953"
            ],
            [
             0.7777777777777778,
             "#fb9f3a"
            ],
            [
             0.8888888888888888,
             "#fdca26"
            ],
            [
             1,
             "#f0f921"
            ]
           ]
          },
          "colorway": [
           "#636efa",
           "#EF553B",
           "#00cc96",
           "#ab63fa",
           "#FFA15A",
           "#19d3f3",
           "#FF6692",
           "#B6E880",
           "#FF97FF",
           "#FECB52"
          ],
          "font": {
           "color": "#2a3f5f"
          },
          "geo": {
           "bgcolor": "white",
           "lakecolor": "white",
           "landcolor": "#E5ECF6",
           "showlakes": true,
           "showland": true,
           "subunitcolor": "white"
          },
          "hoverlabel": {
           "align": "left"
          },
          "hovermode": "closest",
          "mapbox": {
           "style": "light"
          },
          "paper_bgcolor": "white",
          "plot_bgcolor": "#E5ECF6",
          "polar": {
           "angularaxis": {
            "gridcolor": "white",
            "linecolor": "white",
            "ticks": ""
           },
           "bgcolor": "#E5ECF6",
           "radialaxis": {
            "gridcolor": "white",
            "linecolor": "white",
            "ticks": ""
           }
          },
          "scene": {
           "xaxis": {
            "backgroundcolor": "#E5ECF6",
            "gridcolor": "white",
            "gridwidth": 2,
            "linecolor": "white",
            "showbackground": true,
            "ticks": "",
            "zerolinecolor": "white"
           },
           "yaxis": {
            "backgroundcolor": "#E5ECF6",
            "gridcolor": "white",
            "gridwidth": 2,
            "linecolor": "white",
            "showbackground": true,
            "ticks": "",
            "zerolinecolor": "white"
           },
           "zaxis": {
            "backgroundcolor": "#E5ECF6",
            "gridcolor": "white",
            "gridwidth": 2,
            "linecolor": "white",
            "showbackground": true,
            "ticks": "",
            "zerolinecolor": "white"
           }
          },
          "shapedefaults": {
           "line": {
            "color": "#2a3f5f"
           }
          },
          "ternary": {
           "aaxis": {
            "gridcolor": "white",
            "linecolor": "white",
            "ticks": ""
           },
           "baxis": {
            "gridcolor": "white",
            "linecolor": "white",
            "ticks": ""
           },
           "bgcolor": "#E5ECF6",
           "caxis": {
            "gridcolor": "white",
            "linecolor": "white",
            "ticks": ""
           }
          },
          "title": {
           "x": 0.05
          },
          "xaxis": {
           "automargin": true,
           "gridcolor": "white",
           "linecolor": "white",
           "ticks": "",
           "title": {
            "standoff": 15
           },
           "zerolinecolor": "white",
           "zerolinewidth": 2
          },
          "yaxis": {
           "automargin": true,
           "gridcolor": "white",
           "linecolor": "white",
           "ticks": "",
           "title": {
            "standoff": 15
           },
           "zerolinecolor": "white",
           "zerolinewidth": 2
          }
         }
        },
        "title": {
         "text": "AAPL Candlestick Chart (Real Time Data)"
        },
        "xaxis": {
         "title": {
          "text": "Time"
         }
        },
        "yaxis": {
         "title": {
          "text": "Price"
         }
        }
       }
      }
     },
     "metadata": {},
     "output_type": "display_data"
    },
    {
     "data": {
      "application/vnd.plotly.v1+json": {
       "config": {
        "plotlyServerURL": "https://plot.ly"
       },
       "data": [
        {
         "close": {
          "bdata": "CtejcD3qZkAK16NwPepmQArXo3A96mZACtejcD3qZkAK16NwPepmQOF6FK5H+WZA4XoUrkf5ZkDhehSuR/lmQOF6FK5H+WZA4XoUrkf5ZkDhehSuR/lmQAAAAAAA9GZAAAAAAAD0ZkAAAAAAAPRmQAAAAAAA9GZAAAAAAAD0ZkAAAAAAAPRmQGZmZmZm5mZA",
          "dtype": "f8"
         },
         "high": {
          "bdata": "4XoUrkcBZ0DhehSuRwFnQOF6FK5HAWdA4XoUrkcBZ0DhehSuRwFnQOF6FK5HAWdA4XoUrkcBZ0DhehSuRwFnQOF6FK5HAWdA4XoUrkcBZ0DhehSuRwFnQOF6FK5HAWdA4XoUrkcBZ0DhehSuRwFnQOF6FK5HAWdA4XoUrkcBZ0DhehSuRwFnQOF6FK5HAWdA",
          "dtype": "f8"
         },
         "low": {
          "bdata": "AAAAAABAZkAAAAAAAEBmQAAAAAAAQGZAAAAAAABAZkAAAAAAAEBmQAAAAAAAQGZAAAAAAABAZkAAAAAAAEBmQAAAAAAAQGZAAAAAAABAZkAAAAAAAEBmQAAAAAAAQGZAAAAAAABAZkAAAAAAAEBmQAAAAAAAQGZAAAAAAABAZkAAAAAAAEBmQAAAAAAAQGZA",
          "dtype": "f8"
         },
         "open": {
          "bdata": "rkfhehTWZkCuR+F6FNZmQK5H4XoU1mZArkfhehTWZkCuR+F6FNZmQK5H4XoU1mZArkfhehTWZkCuR+F6FNZmQK5H4XoU1mZArkfhehTWZkCuR+F6FNZmQK5H4XoU1mZArkfhehTWZkCuR+F6FNZmQK5H4XoU1mZArkfhehTWZkCuR+F6FNZmQK5H4XoU1mZA",
          "dtype": "f8"
         },
         "type": "candlestick",
         "x": [
          "2025-04-11T17:06:13.000000000",
          "2025-04-11T17:06:23.000000000",
          "2025-04-11T17:06:37.000000000",
          "2025-04-11T17:06:45.000000000",
          "2025-04-11T17:06:52.000000000",
          "2025-04-11T17:07:06.000000000",
          "2025-04-11T17:07:15.000000000",
          "2025-04-11T17:07:27.000000000",
          "2025-04-11T17:07:34.000000000",
          "2025-04-11T17:07:47.000000000",
          "2025-04-11T17:07:56.000000000",
          "2025-04-11T17:08:08.000000000",
          "2025-04-11T17:08:16.000000000",
          "2025-04-11T17:08:25.000000000",
          "2025-04-11T17:08:36.000000000",
          "2025-04-11T17:08:45.000000000",
          "2025-04-11T17:08:57.000000000",
          "2025-04-11T17:09:09.000000000"
         ]
        }
       ],
       "layout": {
        "template": {
         "data": {
          "bar": [
           {
            "error_x": {
             "color": "#2a3f5f"
            },
            "error_y": {
             "color": "#2a3f5f"
            },
            "marker": {
             "line": {
              "color": "#E5ECF6",
              "width": 0.5
             },
             "pattern": {
              "fillmode": "overlay",
              "size": 10,
              "solidity": 0.2
             }
            },
            "type": "bar"
           }
          ],
          "barpolar": [
           {
            "marker": {
             "line": {
              "color": "#E5ECF6",
              "width": 0.5
             },
             "pattern": {
              "fillmode": "overlay",
              "size": 10,
              "solidity": 0.2
             }
            },
            "type": "barpolar"
           }
          ],
          "carpet": [
           {
            "aaxis": {
             "endlinecolor": "#2a3f5f",
             "gridcolor": "white",
             "linecolor": "white",
             "minorgridcolor": "white",
             "startlinecolor": "#2a3f5f"
            },
            "baxis": {
             "endlinecolor": "#2a3f5f",
             "gridcolor": "white",
             "linecolor": "white",
             "minorgridcolor": "white",
             "startlinecolor": "#2a3f5f"
            },
            "type": "carpet"
           }
          ],
          "choropleth": [
           {
            "colorbar": {
             "outlinewidth": 0,
             "ticks": ""
            },
            "type": "choropleth"
           }
          ],
          "contour": [
           {
            "colorbar": {
             "outlinewidth": 0,
             "ticks": ""
            },
            "colorscale": [
             [
              0,
              "#0d0887"
             ],
             [
              0.1111111111111111,
              "#46039f"
             ],
             [
              0.2222222222222222,
              "#7201a8"
             ],
             [
              0.3333333333333333,
              "#9c179e"
             ],
             [
              0.4444444444444444,
              "#bd3786"
             ],
             [
              0.5555555555555556,
              "#d8576b"
             ],
             [
              0.6666666666666666,
              "#ed7953"
             ],
             [
              0.7777777777777778,
              "#fb9f3a"
             ],
             [
              0.8888888888888888,
              "#fdca26"
             ],
             [
              1,
              "#f0f921"
             ]
            ],
            "type": "contour"
           }
          ],
          "contourcarpet": [
           {
            "colorbar": {
             "outlinewidth": 0,
             "ticks": ""
            },
            "type": "contourcarpet"
           }
          ],
          "heatmap": [
           {
            "colorbar": {
             "outlinewidth": 0,
             "ticks": ""
            },
            "colorscale": [
             [
              0,
              "#0d0887"
             ],
             [
              0.1111111111111111,
              "#46039f"
             ],
             [
              0.2222222222222222,
              "#7201a8"
             ],
             [
              0.3333333333333333,
              "#9c179e"
             ],
             [
              0.4444444444444444,
              "#bd3786"
             ],
             [
              0.5555555555555556,
              "#d8576b"
             ],
             [
              0.6666666666666666,
              "#ed7953"
             ],
             [
              0.7777777777777778,
              "#fb9f3a"
             ],
             [
              0.8888888888888888,
              "#fdca26"
             ],
             [
              1,
              "#f0f921"
             ]
            ],
            "type": "heatmap"
           }
          ],
          "histogram": [
           {
            "marker": {
             "pattern": {
              "fillmode": "overlay",
              "size": 10,
              "solidity": 0.2
             }
            },
            "type": "histogram"
           }
          ],
          "histogram2d": [
           {
            "colorbar": {
             "outlinewidth": 0,
             "ticks": ""
            },
            "colorscale": [
             [
              0,
              "#0d0887"
             ],
             [
              0.1111111111111111,
              "#46039f"
             ],
             [
              0.2222222222222222,
              "#7201a8"
             ],
             [
              0.3333333333333333,
              "#9c179e"
             ],
             [
              0.4444444444444444,
              "#bd3786"
             ],
             [
              0.5555555555555556,
              "#d8576b"
             ],
             [
              0.6666666666666666,
              "#ed7953"
             ],
             [
              0.7777777777777778,
              "#fb9f3a"
             ],
             [
              0.8888888888888888,
              "#fdca26"
             ],
             [
              1,
              "#f0f921"
             ]
            ],
            "type": "histogram2d"
           }
          ],
          "histogram2dcontour": [
           {
            "colorbar": {
             "outlinewidth": 0,
             "ticks": ""
            },
            "colorscale": [
             [
              0,
              "#0d0887"
             ],
             [
              0.1111111111111111,
              "#46039f"
             ],
             [
              0.2222222222222222,
              "#7201a8"
             ],
             [
              0.3333333333333333,
              "#9c179e"
             ],
             [
              0.4444444444444444,
              "#bd3786"
             ],
             [
              0.5555555555555556,
              "#d8576b"
             ],
             [
              0.6666666666666666,
              "#ed7953"
             ],
             [
              0.7777777777777778,
              "#fb9f3a"
             ],
             [
              0.8888888888888888,
              "#fdca26"
             ],
             [
              1,
              "#f0f921"
             ]
            ],
            "type": "histogram2dcontour"
           }
          ],
          "mesh3d": [
           {
            "colorbar": {
             "outlinewidth": 0,
             "ticks": ""
            },
            "type": "mesh3d"
           }
          ],
          "parcoords": [
           {
            "line": {
             "colorbar": {
              "outlinewidth": 0,
              "ticks": ""
             }
            },
            "type": "parcoords"
           }
          ],
          "pie": [
           {
            "automargin": true,
            "type": "pie"
           }
          ],
          "scatter": [
           {
            "fillpattern": {
             "fillmode": "overlay",
             "size": 10,
             "solidity": 0.2
            },
            "type": "scatter"
           }
          ],
          "scatter3d": [
           {
            "line": {
             "colorbar": {
              "outlinewidth": 0,
              "ticks": ""
             }
            },
            "marker": {
             "colorbar": {
              "outlinewidth": 0,
              "ticks": ""
             }
            },
            "type": "scatter3d"
           }
          ],
          "scattercarpet": [
           {
            "marker": {
             "colorbar": {
              "outlinewidth": 0,
              "ticks": ""
             }
            },
            "type": "scattercarpet"
           }
          ],
          "scattergeo": [
           {
            "marker": {
             "colorbar": {
              "outlinewidth": 0,
              "ticks": ""
             }
            },
            "type": "scattergeo"
           }
          ],
          "scattergl": [
           {
            "marker": {
             "colorbar": {
              "outlinewidth": 0,
              "ticks": ""
             }
            },
            "type": "scattergl"
           }
          ],
          "scattermap": [
           {
            "marker": {
             "colorbar": {
              "outlinewidth": 0,
              "ticks": ""
             }
            },
            "type": "scattermap"
           }
          ],
          "scattermapbox": [
           {
            "marker": {
             "colorbar": {
              "outlinewidth": 0,
              "ticks": ""
             }
            },
            "type": "scattermapbox"
           }
          ],
          "scatterpolar": [
           {
            "marker": {
             "colorbar": {
              "outlinewidth": 0,
              "ticks": ""
             }
            },
            "type": "scatterpolar"
           }
          ],
          "scatterpolargl": [
           {
            "marker": {
             "colorbar": {
              "outlinewidth": 0,
              "ticks": ""
             }
            },
            "type": "scatterpolargl"
           }
          ],
          "scatterternary": [
           {
            "marker": {
             "colorbar": {
              "outlinewidth": 0,
              "ticks": ""
             }
            },
            "type": "scatterternary"
           }
          ],
          "surface": [
           {
            "colorbar": {
             "outlinewidth": 0,
             "ticks": ""
            },
            "colorscale": [
             [
              0,
              "#0d0887"
             ],
             [
              0.1111111111111111,
              "#46039f"
             ],
             [
              0.2222222222222222,
              "#7201a8"
             ],
             [
              0.3333333333333333,
              "#9c179e"
             ],
             [
              0.4444444444444444,
              "#bd3786"
             ],
             [
              0.5555555555555556,
              "#d8576b"
             ],
             [
              0.6666666666666666,
              "#ed7953"
             ],
             [
              0.7777777777777778,
              "#fb9f3a"
             ],
             [
              0.8888888888888888,
              "#fdca26"
             ],
             [
              1,
              "#f0f921"
             ]
            ],
            "type": "surface"
           }
          ],
          "table": [
           {
            "cells": {
             "fill": {
              "color": "#EBF0F8"
             },
             "line": {
              "color": "white"
             }
            },
            "header": {
             "fill": {
              "color": "#C8D4E3"
             },
             "line": {
              "color": "white"
             }
            },
            "type": "table"
           }
          ]
         },
         "layout": {
          "annotationdefaults": {
           "arrowcolor": "#2a3f5f",
           "arrowhead": 0,
           "arrowwidth": 1
          },
          "autotypenumbers": "strict",
          "coloraxis": {
           "colorbar": {
            "outlinewidth": 0,
            "ticks": ""
           }
          },
          "colorscale": {
           "diverging": [
            [
             0,
             "#8e0152"
            ],
            [
             0.1,
             "#c51b7d"
            ],
            [
             0.2,
             "#de77ae"
            ],
            [
             0.3,
             "#f1b6da"
            ],
            [
             0.4,
             "#fde0ef"
            ],
            [
             0.5,
             "#f7f7f7"
            ],
            [
             0.6,
             "#e6f5d0"
            ],
            [
             0.7,
             "#b8e186"
            ],
            [
             0.8,
             "#7fbc41"
            ],
            [
             0.9,
             "#4d9221"
            ],
            [
             1,
             "#276419"
            ]
           ],
           "sequential": [
            [
             0,
             "#0d0887"
            ],
            [
             0.1111111111111111,
             "#46039f"
            ],
            [
             0.2222222222222222,
             "#7201a8"
            ],
            [
             0.3333333333333333,
             "#9c179e"
            ],
            [
             0.4444444444444444,
             "#bd3786"
            ],
            [
             0.5555555555555556,
             "#d8576b"
            ],
            [
             0.6666666666666666,
             "#ed7953"
            ],
            [
             0.7777777777777778,
             "#fb9f3a"
            ],
            [
             0.8888888888888888,
             "#fdca26"
            ],
            [
             1,
             "#f0f921"
            ]
           ],
           "sequentialminus": [
            [
             0,
             "#0d0887"
            ],
            [
             0.1111111111111111,
             "#46039f"
            ],
            [
             0.2222222222222222,
             "#7201a8"
            ],
            [
             0.3333333333333333,
             "#9c179e"
            ],
            [
             0.4444444444444444,
             "#bd3786"
            ],
            [
             0.5555555555555556,
             "#d8576b"
            ],
            [
             0.6666666666666666,
             "#ed7953"
            ],
            [
             0.7777777777777778,
             "#fb9f3a"
            ],
            [
             0.8888888888888888,
             "#fdca26"
            ],
            [
             1,
             "#f0f921"
            ]
           ]
          },
          "colorway": [
           "#636efa",
           "#EF553B",
           "#00cc96",
           "#ab63fa",
           "#FFA15A",
           "#19d3f3",
           "#FF6692",
           "#B6E880",
           "#FF97FF",
           "#FECB52"
          ],
          "font": {
           "color": "#2a3f5f"
          },
          "geo": {
           "bgcolor": "white",
           "lakecolor": "white",
           "landcolor": "#E5ECF6",
           "showlakes": true,
           "showland": true,
           "subunitcolor": "white"
          },
          "hoverlabel": {
           "align": "left"
          },
          "hovermode": "closest",
          "mapbox": {
           "style": "light"
          },
          "paper_bgcolor": "white",
          "plot_bgcolor": "#E5ECF6",
          "polar": {
           "angularaxis": {
            "gridcolor": "white",
            "linecolor": "white",
            "ticks": ""
           },
           "bgcolor": "#E5ECF6",
           "radialaxis": {
            "gridcolor": "white",
            "linecolor": "white",
            "ticks": ""
           }
          },
          "scene": {
           "xaxis": {
            "backgroundcolor": "#E5ECF6",
            "gridcolor": "white",
            "gridwidth": 2,
            "linecolor": "white",
            "showbackground": true,
            "ticks": "",
            "zerolinecolor": "white"
           },
           "yaxis": {
            "backgroundcolor": "#E5ECF6",
            "gridcolor": "white",
            "gridwidth": 2,
            "linecolor": "white",
            "showbackground": true,
            "ticks": "",
            "zerolinecolor": "white"
           },
           "zaxis": {
            "backgroundcolor": "#E5ECF6",
            "gridcolor": "white",
            "gridwidth": 2,
            "linecolor": "white",
            "showbackground": true,
            "ticks": "",
            "zerolinecolor": "white"
           }
          },
          "shapedefaults": {
           "line": {
            "color": "#2a3f5f"
           }
          },
          "ternary": {
           "aaxis": {
            "gridcolor": "white",
            "linecolor": "white",
            "ticks": ""
           },
           "baxis": {
            "gridcolor": "white",
            "linecolor": "white",
            "ticks": ""
           },
           "bgcolor": "#E5ECF6",
           "caxis": {
            "gridcolor": "white",
            "linecolor": "white",
            "ticks": ""
           }
          },
          "title": {
           "x": 0.05
          },
          "xaxis": {
           "automargin": true,
           "gridcolor": "white",
           "linecolor": "white",
           "ticks": "",
           "title": {
            "standoff": 15
           },
           "zerolinecolor": "white",
           "zerolinewidth": 2
          },
          "yaxis": {
           "automargin": true,
           "gridcolor": "white",
           "linecolor": "white",
           "ticks": "",
           "title": {
            "standoff": 15
           },
           "zerolinecolor": "white",
           "zerolinewidth": 2
          }
         }
        },
        "title": {
         "text": "AMZN Candlestick Chart (Real Time Data)"
        },
        "xaxis": {
         "title": {
          "text": "Time"
         }
        },
        "yaxis": {
         "title": {
          "text": "Price"
         }
        }
       }
      }
     },
     "metadata": {},
     "output_type": "display_data"
    },
    {
     "data": {
      "application/vnd.plotly.v1+json": {
       "config": {
        "plotlyServerURL": "https://plot.ly"
       },
       "data": [
        {
         "close": {
          "bdata": "KVyPwvWgY0ApXI/C9aBjQClcj8L1oGNAKVyPwvWgY0ApXI/C9aBjQJqZmZmZqWNAmpmZmZmpY0CamZmZmaljQJqZmZmZqWNAmpmZmZmpY0CamZmZmaljQGZmZmZmpmNAZmZmZmamY0BmZmZmZqZjQGZmZmZmpmNAZmZmZmamY0BmZmZmZqZjQPYoXI/CnWNA",
          "dtype": "f8"
         },
         "high": {
          "bdata": "zczMzMywY0DNzMzMzLBjQM3MzMzMsGNAzczMzMywY0DNzMzMzLBjQM3MzMzMsGNAzczMzMywY0DNzMzMzLBjQM3MzMzMsGNAzczMzMywY0DNzMzMzLBjQM3MzMzMsGNAzczMzMywY0DNzMzMzLBjQM3MzMzMsGNAzczMzMywY0DNzMzMzLBjQM3MzMzMsGNA",
          "dtype": "f8"
         },
         "low": {
          "bdata": "CtejcD0aY0AK16NwPRpjQArXo3A9GmNACtejcD0aY0AK16NwPRpjQArXo3A9GmNACtejcD0aY0AK16NwPRpjQArXo3A9GmNACtejcD0aY0AK16NwPRpjQArXo3A9GmNACtejcD0aY0AK16NwPRpjQArXo3A9GmNACtejcD0aY0AK16NwPRpjQArXo3A9GmNA",
          "dtype": "f8"
         },
         "open": {
          "bdata": "UrgehetRY0BSuB6F61FjQFK4HoXrUWNAUrgehetRY0BSuB6F61FjQFK4HoXrUWNAUrgehetRY0BSuB6F61FjQFK4HoXrUWNAUrgehetRY0BSuB6F61FjQFK4HoXrUWNAUrgehetRY0BSuB6F61FjQFK4HoXrUWNAUrgehetRY0BSuB6F61FjQFK4HoXrUWNA",
          "dtype": "f8"
         },
         "type": "candlestick",
         "x": [
          "2025-04-11T17:06:14.000000000",
          "2025-04-11T17:06:24.000000000",
          "2025-04-11T17:06:37.000000000",
          "2025-04-11T17:06:45.000000000",
          "2025-04-11T17:06:52.000000000",
          "2025-04-11T17:07:06.000000000",
          "2025-04-11T17:07:15.000000000",
          "2025-04-11T17:07:26.000000000",
          "2025-04-11T17:07:35.000000000",
          "2025-04-11T17:07:47.000000000",
          "2025-04-11T17:07:56.000000000",
          "2025-04-11T17:08:08.000000000",
          "2025-04-11T17:08:16.000000000",
          "2025-04-11T17:08:25.000000000",
          "2025-04-11T17:08:37.000000000",
          "2025-04-11T17:08:45.000000000",
          "2025-04-11T17:08:57.000000000",
          "2025-04-11T17:09:09.000000000"
         ]
        }
       ],
       "layout": {
        "template": {
         "data": {
          "bar": [
           {
            "error_x": {
             "color": "#2a3f5f"
            },
            "error_y": {
             "color": "#2a3f5f"
            },
            "marker": {
             "line": {
              "color": "#E5ECF6",
              "width": 0.5
             },
             "pattern": {
              "fillmode": "overlay",
              "size": 10,
              "solidity": 0.2
             }
            },
            "type": "bar"
           }
          ],
          "barpolar": [
           {
            "marker": {
             "line": {
              "color": "#E5ECF6",
              "width": 0.5
             },
             "pattern": {
              "fillmode": "overlay",
              "size": 10,
              "solidity": 0.2
             }
            },
            "type": "barpolar"
           }
          ],
          "carpet": [
           {
            "aaxis": {
             "endlinecolor": "#2a3f5f",
             "gridcolor": "white",
             "linecolor": "white",
             "minorgridcolor": "white",
             "startlinecolor": "#2a3f5f"
            },
            "baxis": {
             "endlinecolor": "#2a3f5f",
             "gridcolor": "white",
             "linecolor": "white",
             "minorgridcolor": "white",
             "startlinecolor": "#2a3f5f"
            },
            "type": "carpet"
           }
          ],
          "choropleth": [
           {
            "colorbar": {
             "outlinewidth": 0,
             "ticks": ""
            },
            "type": "choropleth"
           }
          ],
          "contour": [
           {
            "colorbar": {
             "outlinewidth": 0,
             "ticks": ""
            },
            "colorscale": [
             [
              0,
              "#0d0887"
             ],
             [
              0.1111111111111111,
              "#46039f"
             ],
             [
              0.2222222222222222,
              "#7201a8"
             ],
             [
              0.3333333333333333,
              "#9c179e"
             ],
             [
              0.4444444444444444,
              "#bd3786"
             ],
             [
              0.5555555555555556,
              "#d8576b"
             ],
             [
              0.6666666666666666,
              "#ed7953"
             ],
             [
              0.7777777777777778,
              "#fb9f3a"
             ],
             [
              0.8888888888888888,
              "#fdca26"
             ],
             [
              1,
              "#f0f921"
             ]
            ],
            "type": "contour"
           }
          ],
          "contourcarpet": [
           {
            "colorbar": {
             "outlinewidth": 0,
             "ticks": ""
            },
            "type": "contourcarpet"
           }
          ],
          "heatmap": [
           {
            "colorbar": {
             "outlinewidth": 0,
             "ticks": ""
            },
            "colorscale": [
             [
              0,
              "#0d0887"
             ],
             [
              0.1111111111111111,
              "#46039f"
             ],
             [
              0.2222222222222222,
              "#7201a8"
             ],
             [
              0.3333333333333333,
              "#9c179e"
             ],
             [
              0.4444444444444444,
              "#bd3786"
             ],
             [
              0.5555555555555556,
              "#d8576b"
             ],
             [
              0.6666666666666666,
              "#ed7953"
             ],
             [
              0.7777777777777778,
              "#fb9f3a"
             ],
             [
              0.8888888888888888,
              "#fdca26"
             ],
             [
              1,
              "#f0f921"
             ]
            ],
            "type": "heatmap"
           }
          ],
          "histogram": [
           {
            "marker": {
             "pattern": {
              "fillmode": "overlay",
              "size": 10,
              "solidity": 0.2
             }
            },
            "type": "histogram"
           }
          ],
          "histogram2d": [
           {
            "colorbar": {
             "outlinewidth": 0,
             "ticks": ""
            },
            "colorscale": [
             [
              0,
              "#0d0887"
             ],
             [
              0.1111111111111111,
              "#46039f"
             ],
             [
              0.2222222222222222,
              "#7201a8"
             ],
             [
              0.3333333333333333,
              "#9c179e"
             ],
             [
              0.4444444444444444,
              "#bd3786"
             ],
             [
              0.5555555555555556,
              "#d8576b"
             ],
             [
              0.6666666666666666,
              "#ed7953"
             ],
             [
              0.7777777777777778,
              "#fb9f3a"
             ],
             [
              0.8888888888888888,
              "#fdca26"
             ],
             [
              1,
              "#f0f921"
             ]
            ],
            "type": "histogram2d"
           }
          ],
          "histogram2dcontour": [
           {
            "colorbar": {
             "outlinewidth": 0,
             "ticks": ""
            },
            "colorscale": [
             [
              0,
              "#0d0887"
             ],
             [
              0.1111111111111111,
              "#46039f"
             ],
             [
              0.2222222222222222,
              "#7201a8"
             ],
             [
              0.3333333333333333,
              "#9c179e"
             ],
             [
              0.4444444444444444,
              "#bd3786"
             ],
             [
              0.5555555555555556,
              "#d8576b"
             ],
             [
              0.6666666666666666,
              "#ed7953"
             ],
             [
              0.7777777777777778,
              "#fb9f3a"
             ],
             [
              0.8888888888888888,
              "#fdca26"
             ],
             [
              1,
              "#f0f921"
             ]
            ],
            "type": "histogram2dcontour"
           }
          ],
          "mesh3d": [
           {
            "colorbar": {
             "outlinewidth": 0,
             "ticks": ""
            },
            "type": "mesh3d"
           }
          ],
          "parcoords": [
           {
            "line": {
             "colorbar": {
              "outlinewidth": 0,
              "ticks": ""
             }
            },
            "type": "parcoords"
           }
          ],
          "pie": [
           {
            "automargin": true,
            "type": "pie"
           }
          ],
          "scatter": [
           {
            "fillpattern": {
             "fillmode": "overlay",
             "size": 10,
             "solidity": 0.2
            },
            "type": "scatter"
           }
          ],
          "scatter3d": [
           {
            "line": {
             "colorbar": {
              "outlinewidth": 0,
              "ticks": ""
             }
            },
            "marker": {
             "colorbar": {
              "outlinewidth": 0,
              "ticks": ""
             }
            },
            "type": "scatter3d"
           }
          ],
          "scattercarpet": [
           {
            "marker": {
             "colorbar": {
              "outlinewidth": 0,
              "ticks": ""
             }
            },
            "type": "scattercarpet"
           }
          ],
          "scattergeo": [
           {
            "marker": {
             "colorbar": {
              "outlinewidth": 0,
              "ticks": ""
             }
            },
            "type": "scattergeo"
           }
          ],
          "scattergl": [
           {
            "marker": {
             "colorbar": {
              "outlinewidth": 0,
              "ticks": ""
             }
            },
            "type": "scattergl"
           }
          ],
          "scattermap": [
           {
            "marker": {
             "colorbar": {
              "outlinewidth": 0,
              "ticks": ""
             }
            },
            "type": "scattermap"
           }
          ],
          "scattermapbox": [
           {
            "marker": {
             "colorbar": {
              "outlinewidth": 0,
              "ticks": ""
             }
            },
            "type": "scattermapbox"
           }
          ],
          "scatterpolar": [
           {
            "marker": {
             "colorbar": {
              "outlinewidth": 0,
              "ticks": ""
             }
            },
            "type": "scatterpolar"
           }
          ],
          "scatterpolargl": [
           {
            "marker": {
             "colorbar": {
              "outlinewidth": 0,
              "ticks": ""
             }
            },
            "type": "scatterpolargl"
           }
          ],
          "scatterternary": [
           {
            "marker": {
             "colorbar": {
              "outlinewidth": 0,
              "ticks": ""
             }
            },
            "type": "scatterternary"
           }
          ],
          "surface": [
           {
            "colorbar": {
             "outlinewidth": 0,
             "ticks": ""
            },
            "colorscale": [
             [
              0,
              "#0d0887"
             ],
             [
              0.1111111111111111,
              "#46039f"
             ],
             [
              0.2222222222222222,
              "#7201a8"
             ],
             [
              0.3333333333333333,
              "#9c179e"
             ],
             [
              0.4444444444444444,
              "#bd3786"
             ],
             [
              0.5555555555555556,
              "#d8576b"
             ],
             [
              0.6666666666666666,
              "#ed7953"
             ],
             [
              0.7777777777777778,
              "#fb9f3a"
             ],
             [
              0.8888888888888888,
              "#fdca26"
             ],
             [
              1,
              "#f0f921"
             ]
            ],
            "type": "surface"
           }
          ],
          "table": [
           {
            "cells": {
             "fill": {
              "color": "#EBF0F8"
             },
             "line": {
              "color": "white"
             }
            },
            "header": {
             "fill": {
              "color": "#C8D4E3"
             },
             "line": {
              "color": "white"
             }
            },
            "type": "table"
           }
          ]
         },
         "layout": {
          "annotationdefaults": {
           "arrowcolor": "#2a3f5f",
           "arrowhead": 0,
           "arrowwidth": 1
          },
          "autotypenumbers": "strict",
          "coloraxis": {
           "colorbar": {
            "outlinewidth": 0,
            "ticks": ""
           }
          },
          "colorscale": {
           "diverging": [
            [
             0,
             "#8e0152"
            ],
            [
             0.1,
             "#c51b7d"
            ],
            [
             0.2,
             "#de77ae"
            ],
            [
             0.3,
             "#f1b6da"
            ],
            [
             0.4,
             "#fde0ef"
            ],
            [
             0.5,
             "#f7f7f7"
            ],
            [
             0.6,
             "#e6f5d0"
            ],
            [
             0.7,
             "#b8e186"
            ],
            [
             0.8,
             "#7fbc41"
            ],
            [
             0.9,
             "#4d9221"
            ],
            [
             1,
             "#276419"
            ]
           ],
           "sequential": [
            [
             0,
             "#0d0887"
            ],
            [
             0.1111111111111111,
             "#46039f"
            ],
            [
             0.2222222222222222,
             "#7201a8"
            ],
            [
             0.3333333333333333,
             "#9c179e"
            ],
            [
             0.4444444444444444,
             "#bd3786"
            ],
            [
             0.5555555555555556,
             "#d8576b"
            ],
            [
             0.6666666666666666,
             "#ed7953"
            ],
            [
             0.7777777777777778,
             "#fb9f3a"
            ],
            [
             0.8888888888888888,
             "#fdca26"
            ],
            [
             1,
             "#f0f921"
            ]
           ],
           "sequentialminus": [
            [
             0,
             "#0d0887"
            ],
            [
             0.1111111111111111,
             "#46039f"
            ],
            [
             0.2222222222222222,
             "#7201a8"
            ],
            [
             0.3333333333333333,
             "#9c179e"
            ],
            [
             0.4444444444444444,
             "#bd3786"
            ],
            [
             0.5555555555555556,
             "#d8576b"
            ],
            [
             0.6666666666666666,
             "#ed7953"
            ],
            [
             0.7777777777777778,
             "#fb9f3a"
            ],
            [
             0.8888888888888888,
             "#fdca26"
            ],
            [
             1,
             "#f0f921"
            ]
           ]
          },
          "colorway": [
           "#636efa",
           "#EF553B",
           "#00cc96",
           "#ab63fa",
           "#FFA15A",
           "#19d3f3",
           "#FF6692",
           "#B6E880",
           "#FF97FF",
           "#FECB52"
          ],
          "font": {
           "color": "#2a3f5f"
          },
          "geo": {
           "bgcolor": "white",
           "lakecolor": "white",
           "landcolor": "#E5ECF6",
           "showlakes": true,
           "showland": true,
           "subunitcolor": "white"
          },
          "hoverlabel": {
           "align": "left"
          },
          "hovermode": "closest",
          "mapbox": {
           "style": "light"
          },
          "paper_bgcolor": "white",
          "plot_bgcolor": "#E5ECF6",
          "polar": {
           "angularaxis": {
            "gridcolor": "white",
            "linecolor": "white",
            "ticks": ""
           },
           "bgcolor": "#E5ECF6",
           "radialaxis": {
            "gridcolor": "white",
            "linecolor": "white",
            "ticks": ""
           }
          },
          "scene": {
           "xaxis": {
            "backgroundcolor": "#E5ECF6",
            "gridcolor": "white",
            "gridwidth": 2,
            "linecolor": "white",
            "showbackground": true,
            "ticks": "",
            "zerolinecolor": "white"
           },
           "yaxis": {
            "backgroundcolor": "#E5ECF6",
            "gridcolor": "white",
            "gridwidth": 2,
            "linecolor": "white",
            "showbackground": true,
            "ticks": "",
            "zerolinecolor": "white"
           },
           "zaxis": {
            "backgroundcolor": "#E5ECF6",
            "gridcolor": "white",
            "gridwidth": 2,
            "linecolor": "white",
            "showbackground": true,
            "ticks": "",
            "zerolinecolor": "white"
           }
          },
          "shapedefaults": {
           "line": {
            "color": "#2a3f5f"
           }
          },
          "ternary": {
           "aaxis": {
            "gridcolor": "white",
            "linecolor": "white",
            "ticks": ""
           },
           "baxis": {
            "gridcolor": "white",
            "linecolor": "white",
            "ticks": ""
           },
           "bgcolor": "#E5ECF6",
           "caxis": {
            "gridcolor": "white",
            "linecolor": "white",
            "ticks": ""
           }
          },
          "title": {
           "x": 0.05
          },
          "xaxis": {
           "automargin": true,
           "gridcolor": "white",
           "linecolor": "white",
           "ticks": "",
           "title": {
            "standoff": 15
           },
           "zerolinecolor": "white",
           "zerolinewidth": 2
          },
          "yaxis": {
           "automargin": true,
           "gridcolor": "white",
           "linecolor": "white",
           "ticks": "",
           "title": {
            "standoff": 15
           },
           "zerolinecolor": "white",
           "zerolinewidth": 2
          }
         }
        },
        "title": {
         "text": "GOOGL Candlestick Chart (Real Time Data)"
        },
        "xaxis": {
         "title": {
          "text": "Time"
         }
        },
        "yaxis": {
         "title": {
          "text": "Price"
         }
        }
       }
      }
     },
     "metadata": {},
     "output_type": "display_data"
    },
    {
     "data": {
      "application/vnd.plotly.v1+json": {
       "config": {
        "plotlyServerURL": "https://plot.ly"
       },
       "data": [
        {
         "close": {
          "bdata": "mpmZmZnfgECamZmZmd+AQJqZmZmZ34BAmpmZmZnfgECamZmZmd+AQH/ZPXlY7oBAf9k9eVjugEB/2T15WO6AQH/ZPXlY7oBAf9k9eVjugEB/2T15WO6AQHsUrkfh6oBAexSuR+HqgEB7FK5H4eqAQHsUrkfh6oBAexSuR+HqgEB7FK5H4eqAQAAAAAAA4oBA",
          "dtype": "f8"
         },
         "high": {
          "bdata": "ZmZmZmY8gUBmZmZmZjyBQGZmZmZmPIFAZmZmZmY8gUBmZmZmZjyBQGZmZmZmPIFAZmZmZmY8gUBmZmZmZjyBQGZmZmZmPIFAZmZmZmY8gUBmZmZmZjyBQGZmZmZmPIFAZmZmZmY8gUBmZmZmZjyBQGZmZmZmPIFAZmZmZmY8gUBmZmZmZjyBQGZmZmZmPIFA",
          "dtype": "f8"
         },
         "low": {
          "bdata": "9UpZhriEgED1SlmGuISAQPVKWYa4hIBA9UpZhriEgED1SlmGuISAQPVKWYa4hIBA9UpZhriEgED1SlmGuISAQPVKWYa4hIBA9UpZhriEgED1SlmGuISAQPVKWYa4hIBA9UpZhriEgED1SlmGuISAQPVKWYa4hIBA9UpZhriEgED1SlmGuISAQPVKWYa4hIBA",
          "dtype": "f8"
         },
         "open": {
          "bdata": "ZmZmZmY8gUBmZmZmZjyBQGZmZmZmPIFAZmZmZmY8gUBmZmZmZjyBQGZmZmZmPIFAZmZmZmY8gUBmZmZmZjyBQGZmZmZmPIFAZmZmZmY8gUBmZmZmZjyBQGZmZmZmPIFAZmZmZmY8gUBmZmZmZjyBQGZmZmZmPIFAZmZmZmY8gUBmZmZmZjyBQGZmZmZmPIFA",
          "dtype": "f8"
         },
         "type": "candlestick",
         "x": [
          "2025-04-11T17:06:15.000000000",
          "2025-04-11T17:06:23.000000000",
          "2025-04-11T17:06:35.000000000",
          "2025-04-11T17:06:41.000000000",
          "2025-04-11T17:06:53.000000000",
          "2025-04-11T17:07:06.000000000",
          "2025-04-11T17:07:15.000000000",
          "2025-04-11T17:07:27.000000000",
          "2025-04-11T17:07:33.000000000",
          "2025-04-11T17:07:47.000000000",
          "2025-04-11T17:07:54.000000000",
          "2025-04-11T17:08:08.000000000",
          "2025-04-11T17:08:15.000000000",
          "2025-04-11T17:08:24.000000000",
          "2025-04-11T17:08:36.000000000",
          "2025-04-11T17:08:45.000000000",
          "2025-04-11T17:08:56.000000000",
          "2025-04-11T17:09:09.000000000"
         ]
        }
       ],
       "layout": {
        "template": {
         "data": {
          "bar": [
           {
            "error_x": {
             "color": "#2a3f5f"
            },
            "error_y": {
             "color": "#2a3f5f"
            },
            "marker": {
             "line": {
              "color": "#E5ECF6",
              "width": 0.5
             },
             "pattern": {
              "fillmode": "overlay",
              "size": 10,
              "solidity": 0.2
             }
            },
            "type": "bar"
           }
          ],
          "barpolar": [
           {
            "marker": {
             "line": {
              "color": "#E5ECF6",
              "width": 0.5
             },
             "pattern": {
              "fillmode": "overlay",
              "size": 10,
              "solidity": 0.2
             }
            },
            "type": "barpolar"
           }
          ],
          "carpet": [
           {
            "aaxis": {
             "endlinecolor": "#2a3f5f",
             "gridcolor": "white",
             "linecolor": "white",
             "minorgridcolor": "white",
             "startlinecolor": "#2a3f5f"
            },
            "baxis": {
             "endlinecolor": "#2a3f5f",
             "gridcolor": "white",
             "linecolor": "white",
             "minorgridcolor": "white",
             "startlinecolor": "#2a3f5f"
            },
            "type": "carpet"
           }
          ],
          "choropleth": [
           {
            "colorbar": {
             "outlinewidth": 0,
             "ticks": ""
            },
            "type": "choropleth"
           }
          ],
          "contour": [
           {
            "colorbar": {
             "outlinewidth": 0,
             "ticks": ""
            },
            "colorscale": [
             [
              0,
              "#0d0887"
             ],
             [
              0.1111111111111111,
              "#46039f"
             ],
             [
              0.2222222222222222,
              "#7201a8"
             ],
             [
              0.3333333333333333,
              "#9c179e"
             ],
             [
              0.4444444444444444,
              "#bd3786"
             ],
             [
              0.5555555555555556,
              "#d8576b"
             ],
             [
              0.6666666666666666,
              "#ed7953"
             ],
             [
              0.7777777777777778,
              "#fb9f3a"
             ],
             [
              0.8888888888888888,
              "#fdca26"
             ],
             [
              1,
              "#f0f921"
             ]
            ],
            "type": "contour"
           }
          ],
          "contourcarpet": [
           {
            "colorbar": {
             "outlinewidth": 0,
             "ticks": ""
            },
            "type": "contourcarpet"
           }
          ],
          "heatmap": [
           {
            "colorbar": {
             "outlinewidth": 0,
             "ticks": ""
            },
            "colorscale": [
             [
              0,
              "#0d0887"
             ],
             [
              0.1111111111111111,
              "#46039f"
             ],
             [
              0.2222222222222222,
              "#7201a8"
             ],
             [
              0.3333333333333333,
              "#9c179e"
             ],
             [
              0.4444444444444444,
              "#bd3786"
             ],
             [
              0.5555555555555556,
              "#d8576b"
             ],
             [
              0.6666666666666666,
              "#ed7953"
             ],
             [
              0.7777777777777778,
              "#fb9f3a"
             ],
             [
              0.8888888888888888,
              "#fdca26"
             ],
             [
              1,
              "#f0f921"
             ]
            ],
            "type": "heatmap"
           }
          ],
          "histogram": [
           {
            "marker": {
             "pattern": {
              "fillmode": "overlay",
              "size": 10,
              "solidity": 0.2
             }
            },
            "type": "histogram"
           }
          ],
          "histogram2d": [
           {
            "colorbar": {
             "outlinewidth": 0,
             "ticks": ""
            },
            "colorscale": [
             [
              0,
              "#0d0887"
             ],
             [
              0.1111111111111111,
              "#46039f"
             ],
             [
              0.2222222222222222,
              "#7201a8"
             ],
             [
              0.3333333333333333,
              "#9c179e"
             ],
             [
              0.4444444444444444,
              "#bd3786"
             ],
             [
              0.5555555555555556,
              "#d8576b"
             ],
             [
              0.6666666666666666,
              "#ed7953"
             ],
             [
              0.7777777777777778,
              "#fb9f3a"
             ],
             [
              0.8888888888888888,
              "#fdca26"
             ],
             [
              1,
              "#f0f921"
             ]
            ],
            "type": "histogram2d"
           }
          ],
          "histogram2dcontour": [
           {
            "colorbar": {
             "outlinewidth": 0,
             "ticks": ""
            },
            "colorscale": [
             [
              0,
              "#0d0887"
             ],
             [
              0.1111111111111111,
              "#46039f"
             ],
             [
              0.2222222222222222,
              "#7201a8"
             ],
             [
              0.3333333333333333,
              "#9c179e"
             ],
             [
              0.4444444444444444,
              "#bd3786"
             ],
             [
              0.5555555555555556,
              "#d8576b"
             ],
             [
              0.6666666666666666,
              "#ed7953"
             ],
             [
              0.7777777777777778,
              "#fb9f3a"
             ],
             [
              0.8888888888888888,
              "#fdca26"
             ],
             [
              1,
              "#f0f921"
             ]
            ],
            "type": "histogram2dcontour"
           }
          ],
          "mesh3d": [
           {
            "colorbar": {
             "outlinewidth": 0,
             "ticks": ""
            },
            "type": "mesh3d"
           }
          ],
          "parcoords": [
           {
            "line": {
             "colorbar": {
              "outlinewidth": 0,
              "ticks": ""
             }
            },
            "type": "parcoords"
           }
          ],
          "pie": [
           {
            "automargin": true,
            "type": "pie"
           }
          ],
          "scatter": [
           {
            "fillpattern": {
             "fillmode": "overlay",
             "size": 10,
             "solidity": 0.2
            },
            "type": "scatter"
           }
          ],
          "scatter3d": [
           {
            "line": {
             "colorbar": {
              "outlinewidth": 0,
              "ticks": ""
             }
            },
            "marker": {
             "colorbar": {
              "outlinewidth": 0,
              "ticks": ""
             }
            },
            "type": "scatter3d"
           }
          ],
          "scattercarpet": [
           {
            "marker": {
             "colorbar": {
              "outlinewidth": 0,
              "ticks": ""
             }
            },
            "type": "scattercarpet"
           }
          ],
          "scattergeo": [
           {
            "marker": {
             "colorbar": {
              "outlinewidth": 0,
              "ticks": ""
             }
            },
            "type": "scattergeo"
           }
          ],
          "scattergl": [
           {
            "marker": {
             "colorbar": {
              "outlinewidth": 0,
              "ticks": ""
             }
            },
            "type": "scattergl"
           }
          ],
          "scattermap": [
           {
            "marker": {
             "colorbar": {
              "outlinewidth": 0,
              "ticks": ""
             }
            },
            "type": "scattermap"
           }
          ],
          "scattermapbox": [
           {
            "marker": {
             "colorbar": {
              "outlinewidth": 0,
              "ticks": ""
             }
            },
            "type": "scattermapbox"
           }
          ],
          "scatterpolar": [
           {
            "marker": {
             "colorbar": {
              "outlinewidth": 0,
              "ticks": ""
             }
            },
            "type": "scatterpolar"
           }
          ],
          "scatterpolargl": [
           {
            "marker": {
             "colorbar": {
              "outlinewidth": 0,
              "ticks": ""
             }
            },
            "type": "scatterpolargl"
           }
          ],
          "scatterternary": [
           {
            "marker": {
             "colorbar": {
              "outlinewidth": 0,
              "ticks": ""
             }
            },
            "type": "scatterternary"
           }
          ],
          "surface": [
           {
            "colorbar": {
             "outlinewidth": 0,
             "ticks": ""
            },
            "colorscale": [
             [
              0,
              "#0d0887"
             ],
             [
              0.1111111111111111,
              "#46039f"
             ],
             [
              0.2222222222222222,
              "#7201a8"
             ],
             [
              0.3333333333333333,
              "#9c179e"
             ],
             [
              0.4444444444444444,
              "#bd3786"
             ],
             [
              0.5555555555555556,
              "#d8576b"
             ],
             [
              0.6666666666666666,
              "#ed7953"
             ],
             [
              0.7777777777777778,
              "#fb9f3a"
             ],
             [
              0.8888888888888888,
              "#fdca26"
             ],
             [
              1,
              "#f0f921"
             ]
            ],
            "type": "surface"
           }
          ],
          "table": [
           {
            "cells": {
             "fill": {
              "color": "#EBF0F8"
             },
             "line": {
              "color": "white"
             }
            },
            "header": {
             "fill": {
              "color": "#C8D4E3"
             },
             "line": {
              "color": "white"
             }
            },
            "type": "table"
           }
          ]
         },
         "layout": {
          "annotationdefaults": {
           "arrowcolor": "#2a3f5f",
           "arrowhead": 0,
           "arrowwidth": 1
          },
          "autotypenumbers": "strict",
          "coloraxis": {
           "colorbar": {
            "outlinewidth": 0,
            "ticks": ""
           }
          },
          "colorscale": {
           "diverging": [
            [
             0,
             "#8e0152"
            ],
            [
             0.1,
             "#c51b7d"
            ],
            [
             0.2,
             "#de77ae"
            ],
            [
             0.3,
             "#f1b6da"
            ],
            [
             0.4,
             "#fde0ef"
            ],
            [
             0.5,
             "#f7f7f7"
            ],
            [
             0.6,
             "#e6f5d0"
            ],
            [
             0.7,
             "#b8e186"
            ],
            [
             0.8,
             "#7fbc41"
            ],
            [
             0.9,
             "#4d9221"
            ],
            [
             1,
             "#276419"
            ]
           ],
           "sequential": [
            [
             0,
             "#0d0887"
            ],
            [
             0.1111111111111111,
             "#46039f"
            ],
            [
             0.2222222222222222,
             "#7201a8"
            ],
            [
             0.3333333333333333,
             "#9c179e"
            ],
            [
             0.4444444444444444,
             "#bd3786"
            ],
            [
             0.5555555555555556,
             "#d8576b"
            ],
            [
             0.6666666666666666,
             "#ed7953"
            ],
            [
             0.7777777777777778,
             "#fb9f3a"
            ],
            [
             0.8888888888888888,
             "#fdca26"
            ],
            [
             1,
             "#f0f921"
            ]
           ],
           "sequentialminus": [
            [
             0,
             "#0d0887"
            ],
            [
             0.1111111111111111,
             "#46039f"
            ],
            [
             0.2222222222222222,
             "#7201a8"
            ],
            [
             0.3333333333333333,
             "#9c179e"
            ],
            [
             0.4444444444444444,
             "#bd3786"
            ],
            [
             0.5555555555555556,
             "#d8576b"
            ],
            [
             0.6666666666666666,
             "#ed7953"
            ],
            [
             0.7777777777777778,
             "#fb9f3a"
            ],
            [
             0.8888888888888888,
             "#fdca26"
            ],
            [
             1,
             "#f0f921"
            ]
           ]
          },
          "colorway": [
           "#636efa",
           "#EF553B",
           "#00cc96",
           "#ab63fa",
           "#FFA15A",
           "#19d3f3",
           "#FF6692",
           "#B6E880",
           "#FF97FF",
           "#FECB52"
          ],
          "font": {
           "color": "#2a3f5f"
          },
          "geo": {
           "bgcolor": "white",
           "lakecolor": "white",
           "landcolor": "#E5ECF6",
           "showlakes": true,
           "showland": true,
           "subunitcolor": "white"
          },
          "hoverlabel": {
           "align": "left"
          },
          "hovermode": "closest",
          "mapbox": {
           "style": "light"
          },
          "paper_bgcolor": "white",
          "plot_bgcolor": "#E5ECF6",
          "polar": {
           "angularaxis": {
            "gridcolor": "white",
            "linecolor": "white",
            "ticks": ""
           },
           "bgcolor": "#E5ECF6",
           "radialaxis": {
            "gridcolor": "white",
            "linecolor": "white",
            "ticks": ""
           }
          },
          "scene": {
           "xaxis": {
            "backgroundcolor": "#E5ECF6",
            "gridcolor": "white",
            "gridwidth": 2,
            "linecolor": "white",
            "showbackground": true,
            "ticks": "",
            "zerolinecolor": "white"
           },
           "yaxis": {
            "backgroundcolor": "#E5ECF6",
            "gridcolor": "white",
            "gridwidth": 2,
            "linecolor": "white",
            "showbackground": true,
            "ticks": "",
            "zerolinecolor": "white"
           },
           "zaxis": {
            "backgroundcolor": "#E5ECF6",
            "gridcolor": "white",
            "gridwidth": 2,
            "linecolor": "white",
            "showbackground": true,
            "ticks": "",
            "zerolinecolor": "white"
           }
          },
          "shapedefaults": {
           "line": {
            "color": "#2a3f5f"
           }
          },
          "ternary": {
           "aaxis": {
            "gridcolor": "white",
            "linecolor": "white",
            "ticks": ""
           },
           "baxis": {
            "gridcolor": "white",
            "linecolor": "white",
            "ticks": ""
           },
           "bgcolor": "#E5ECF6",
           "caxis": {
            "gridcolor": "white",
            "linecolor": "white",
            "ticks": ""
           }
          },
          "title": {
           "x": 0.05
          },
          "xaxis": {
           "automargin": true,
           "gridcolor": "white",
           "linecolor": "white",
           "ticks": "",
           "title": {
            "standoff": 15
           },
           "zerolinecolor": "white",
           "zerolinewidth": 2
          },
          "yaxis": {
           "automargin": true,
           "gridcolor": "white",
           "linecolor": "white",
           "ticks": "",
           "title": {
            "standoff": 15
           },
           "zerolinecolor": "white",
           "zerolinewidth": 2
          }
         }
        },
        "title": {
         "text": "META Candlestick Chart (Real Time Data)"
        },
        "xaxis": {
         "title": {
          "text": "Time"
         }
        },
        "yaxis": {
         "title": {
          "text": "Price"
         }
        }
       }
      }
     },
     "metadata": {},
     "output_type": "display_data"
    },
    {
     "data": {
      "application/vnd.plotly.v1+json": {
       "config": {
        "plotlyServerURL": "https://plot.ly"
       },
       "data": [
        {
         "close": {
          "bdata": "EFg5tMgreEAQWDm0yCt4QBBYObTIK3hAEFg5tMgreEAQWDm0yCt4QD0K16NwM3hAPQrXo3AzeEA9CtejcDN4QD0K16NwM3hAPQrXo3AzeEA9CtejcDN4QEjhehSuMXhASOF6FK4xeEBI4XoUrjF4QEjhehSuMXhASOF6FK4xeEBI4XoUrjF4QAAAAAAAKnhA",
          "dtype": "f8"
         },
         "high": {
          "bdata": "mpmZmZlBeECamZmZmUF4QJqZmZmZQXhAmpmZmZlBeECamZmZmUF4QJqZmZmZQXhAmpmZmZlBeECamZmZmUF4QJqZmZmZQXhAmpmZmZlBeECamZmZmUF4QJqZmZmZQXhAmpmZmZlBeECamZmZmUF4QJqZmZmZQXhAmpmZmZlBeECamZmZmUF4QJqZmZmZQXhA",
          "dtype": "f8"
         },
         "low": {
          "bdata": "CtejcD2ud0AK16NwPa53QArXo3A9rndACtejcD2ud0AK16NwPa53QArXo3A9rndACtejcD2ud0AK16NwPa53QArXo3A9rndACtejcD2ud0AK16NwPa53QArXo3A9rndACtejcD2ud0AK16NwPa53QArXo3A9rndACtejcD2ud0AK16NwPa53QArXo3A9rndA",
          "dtype": "f8"
         },
         "open": {
          "bdata": "AAAAAAAAeEAAAAAAAAB4QAAAAAAAAHhAAAAAAAAAeEAAAAAAAAB4QAAAAAAAAHhAAAAAAAAAeEAAAAAAAAB4QAAAAAAAAHhAAAAAAAAAeEAAAAAAAAB4QAAAAAAAAHhAAAAAAAAAeEAAAAAAAAB4QAAAAAAAAHhAAAAAAAAAeEAAAAAAAAB4QAAAAAAAAHhA",
          "dtype": "f8"
         },
         "type": "candlestick",
         "x": [
          "2025-04-11T17:06:15.000000000",
          "2025-04-11T17:06:19.000000000",
          "2025-04-11T17:06:31.000000000",
          "2025-04-11T17:06:40.000000000",
          "2025-04-11T17:06:52.000000000",
          "2025-04-11T17:07:02.000000000",
          "2025-04-11T17:07:13.000000000",
          "2025-04-11T17:07:25.000000000",
          "2025-04-11T17:07:35.000000000",
          "2025-04-11T17:07:47.000000000",
          "2025-04-11T17:07:52.000000000",
          "2025-04-11T17:08:08.000000000",
          "2025-04-11T17:08:16.000000000",
          "2025-04-11T17:08:23.000000000",
          "2025-04-11T17:08:36.000000000",
          "2025-04-11T17:08:43.000000000",
          "2025-04-11T17:08:57.000000000",
          "2025-04-11T17:09:09.000000000"
         ]
        }
       ],
       "layout": {
        "template": {
         "data": {
          "bar": [
           {
            "error_x": {
             "color": "#2a3f5f"
            },
            "error_y": {
             "color": "#2a3f5f"
            },
            "marker": {
             "line": {
              "color": "#E5ECF6",
              "width": 0.5
             },
             "pattern": {
              "fillmode": "overlay",
              "size": 10,
              "solidity": 0.2
             }
            },
            "type": "bar"
           }
          ],
          "barpolar": [
           {
            "marker": {
             "line": {
              "color": "#E5ECF6",
              "width": 0.5
             },
             "pattern": {
              "fillmode": "overlay",
              "size": 10,
              "solidity": 0.2
             }
            },
            "type": "barpolar"
           }
          ],
          "carpet": [
           {
            "aaxis": {
             "endlinecolor": "#2a3f5f",
             "gridcolor": "white",
             "linecolor": "white",
             "minorgridcolor": "white",
             "startlinecolor": "#2a3f5f"
            },
            "baxis": {
             "endlinecolor": "#2a3f5f",
             "gridcolor": "white",
             "linecolor": "white",
             "minorgridcolor": "white",
             "startlinecolor": "#2a3f5f"
            },
            "type": "carpet"
           }
          ],
          "choropleth": [
           {
            "colorbar": {
             "outlinewidth": 0,
             "ticks": ""
            },
            "type": "choropleth"
           }
          ],
          "contour": [
           {
            "colorbar": {
             "outlinewidth": 0,
             "ticks": ""
            },
            "colorscale": [
             [
              0,
              "#0d0887"
             ],
             [
              0.1111111111111111,
              "#46039f"
             ],
             [
              0.2222222222222222,
              "#7201a8"
             ],
             [
              0.3333333333333333,
              "#9c179e"
             ],
             [
              0.4444444444444444,
              "#bd3786"
             ],
             [
              0.5555555555555556,
              "#d8576b"
             ],
             [
              0.6666666666666666,
              "#ed7953"
             ],
             [
              0.7777777777777778,
              "#fb9f3a"
             ],
             [
              0.8888888888888888,
              "#fdca26"
             ],
             [
              1,
              "#f0f921"
             ]
            ],
            "type": "contour"
           }
          ],
          "contourcarpet": [
           {
            "colorbar": {
             "outlinewidth": 0,
             "ticks": ""
            },
            "type": "contourcarpet"
           }
          ],
          "heatmap": [
           {
            "colorbar": {
             "outlinewidth": 0,
             "ticks": ""
            },
            "colorscale": [
             [
              0,
              "#0d0887"
             ],
             [
              0.1111111111111111,
              "#46039f"
             ],
             [
              0.2222222222222222,
              "#7201a8"
             ],
             [
              0.3333333333333333,
              "#9c179e"
             ],
             [
              0.4444444444444444,
              "#bd3786"
             ],
             [
              0.5555555555555556,
              "#d8576b"
             ],
             [
              0.6666666666666666,
              "#ed7953"
             ],
             [
              0.7777777777777778,
              "#fb9f3a"
             ],
             [
              0.8888888888888888,
              "#fdca26"
             ],
             [
              1,
              "#f0f921"
             ]
            ],
            "type": "heatmap"
           }
          ],
          "histogram": [
           {
            "marker": {
             "pattern": {
              "fillmode": "overlay",
              "size": 10,
              "solidity": 0.2
             }
            },
            "type": "histogram"
           }
          ],
          "histogram2d": [
           {
            "colorbar": {
             "outlinewidth": 0,
             "ticks": ""
            },
            "colorscale": [
             [
              0,
              "#0d0887"
             ],
             [
              0.1111111111111111,
              "#46039f"
             ],
             [
              0.2222222222222222,
              "#7201a8"
             ],
             [
              0.3333333333333333,
              "#9c179e"
             ],
             [
              0.4444444444444444,
              "#bd3786"
             ],
             [
              0.5555555555555556,
              "#d8576b"
             ],
             [
              0.6666666666666666,
              "#ed7953"
             ],
             [
              0.7777777777777778,
              "#fb9f3a"
             ],
             [
              0.8888888888888888,
              "#fdca26"
             ],
             [
              1,
              "#f0f921"
             ]
            ],
            "type": "histogram2d"
           }
          ],
          "histogram2dcontour": [
           {
            "colorbar": {
             "outlinewidth": 0,
             "ticks": ""
            },
            "colorscale": [
             [
              0,
              "#0d0887"
             ],
             [
              0.1111111111111111,
              "#46039f"
             ],
             [
              0.2222222222222222,
              "#7201a8"
             ],
             [
              0.3333333333333333,
              "#9c179e"
             ],
             [
              0.4444444444444444,
              "#bd3786"
             ],
             [
              0.5555555555555556,
              "#d8576b"
             ],
             [
              0.6666666666666666,
              "#ed7953"
             ],
             [
              0.7777777777777778,
              "#fb9f3a"
             ],
             [
              0.8888888888888888,
              "#fdca26"
             ],
             [
              1,
              "#f0f921"
             ]
            ],
            "type": "histogram2dcontour"
           }
          ],
          "mesh3d": [
           {
            "colorbar": {
             "outlinewidth": 0,
             "ticks": ""
            },
            "type": "mesh3d"
           }
          ],
          "parcoords": [
           {
            "line": {
             "colorbar": {
              "outlinewidth": 0,
              "ticks": ""
             }
            },
            "type": "parcoords"
           }
          ],
          "pie": [
           {
            "automargin": true,
            "type": "pie"
           }
          ],
          "scatter": [
           {
            "fillpattern": {
             "fillmode": "overlay",
             "size": 10,
             "solidity": 0.2
            },
            "type": "scatter"
           }
          ],
          "scatter3d": [
           {
            "line": {
             "colorbar": {
              "outlinewidth": 0,
              "ticks": ""
             }
            },
            "marker": {
             "colorbar": {
              "outlinewidth": 0,
              "ticks": ""
             }
            },
            "type": "scatter3d"
           }
          ],
          "scattercarpet": [
           {
            "marker": {
             "colorbar": {
              "outlinewidth": 0,
              "ticks": ""
             }
            },
            "type": "scattercarpet"
           }
          ],
          "scattergeo": [
           {
            "marker": {
             "colorbar": {
              "outlinewidth": 0,
              "ticks": ""
             }
            },
            "type": "scattergeo"
           }
          ],
          "scattergl": [
           {
            "marker": {
             "colorbar": {
              "outlinewidth": 0,
              "ticks": ""
             }
            },
            "type": "scattergl"
           }
          ],
          "scattermap": [
           {
            "marker": {
             "colorbar": {
              "outlinewidth": 0,
              "ticks": ""
             }
            },
            "type": "scattermap"
           }
          ],
          "scattermapbox": [
           {
            "marker": {
             "colorbar": {
              "outlinewidth": 0,
              "ticks": ""
             }
            },
            "type": "scattermapbox"
           }
          ],
          "scatterpolar": [
           {
            "marker": {
             "colorbar": {
              "outlinewidth": 0,
              "ticks": ""
             }
            },
            "type": "scatterpolar"
           }
          ],
          "scatterpolargl": [
           {
            "marker": {
             "colorbar": {
              "outlinewidth": 0,
              "ticks": ""
             }
            },
            "type": "scatterpolargl"
           }
          ],
          "scatterternary": [
           {
            "marker": {
             "colorbar": {
              "outlinewidth": 0,
              "ticks": ""
             }
            },
            "type": "scatterternary"
           }
          ],
          "surface": [
           {
            "colorbar": {
             "outlinewidth": 0,
             "ticks": ""
            },
            "colorscale": [
             [
              0,
              "#0d0887"
             ],
             [
              0.1111111111111111,
              "#46039f"
             ],
             [
              0.2222222222222222,
              "#7201a8"
             ],
             [
              0.3333333333333333,
              "#9c179e"
             ],
             [
              0.4444444444444444,
              "#bd3786"
             ],
             [
              0.5555555555555556,
              "#d8576b"
             ],
             [
              0.6666666666666666,
              "#ed7953"
             ],
             [
              0.7777777777777778,
              "#fb9f3a"
             ],
             [
              0.8888888888888888,
              "#fdca26"
             ],
             [
              1,
              "#f0f921"
             ]
            ],
            "type": "surface"
           }
          ],
          "table": [
           {
            "cells": {
             "fill": {
              "color": "#EBF0F8"
             },
             "line": {
              "color": "white"
             }
            },
            "header": {
             "fill": {
              "color": "#C8D4E3"
             },
             "line": {
              "color": "white"
             }
            },
            "type": "table"
           }
          ]
         },
         "layout": {
          "annotationdefaults": {
           "arrowcolor": "#2a3f5f",
           "arrowhead": 0,
           "arrowwidth": 1
          },
          "autotypenumbers": "strict",
          "coloraxis": {
           "colorbar": {
            "outlinewidth": 0,
            "ticks": ""
           }
          },
          "colorscale": {
           "diverging": [
            [
             0,
             "#8e0152"
            ],
            [
             0.1,
             "#c51b7d"
            ],
            [
             0.2,
             "#de77ae"
            ],
            [
             0.3,
             "#f1b6da"
            ],
            [
             0.4,
             "#fde0ef"
            ],
            [
             0.5,
             "#f7f7f7"
            ],
            [
             0.6,
             "#e6f5d0"
            ],
            [
             0.7,
             "#b8e186"
            ],
            [
             0.8,
             "#7fbc41"
            ],
            [
             0.9,
             "#4d9221"
            ],
            [
             1,
             "#276419"
            ]
           ],
           "sequential": [
            [
             0,
             "#0d0887"
            ],
            [
             0.1111111111111111,
             "#46039f"
            ],
            [
             0.2222222222222222,
             "#7201a8"
            ],
            [
             0.3333333333333333,
             "#9c179e"
            ],
            [
             0.4444444444444444,
             "#bd3786"
            ],
            [
             0.5555555555555556,
             "#d8576b"
            ],
            [
             0.6666666666666666,
             "#ed7953"
            ],
            [
             0.7777777777777778,
             "#fb9f3a"
            ],
            [
             0.8888888888888888,
             "#fdca26"
            ],
            [
             1,
             "#f0f921"
            ]
           ],
           "sequentialminus": [
            [
             0,
             "#0d0887"
            ],
            [
             0.1111111111111111,
             "#46039f"
            ],
            [
             0.2222222222222222,
             "#7201a8"
            ],
            [
             0.3333333333333333,
             "#9c179e"
            ],
            [
             0.4444444444444444,
             "#bd3786"
            ],
            [
             0.5555555555555556,
             "#d8576b"
            ],
            [
             0.6666666666666666,
             "#ed7953"
            ],
            [
             0.7777777777777778,
             "#fb9f3a"
            ],
            [
             0.8888888888888888,
             "#fdca26"
            ],
            [
             1,
             "#f0f921"
            ]
           ]
          },
          "colorway": [
           "#636efa",
           "#EF553B",
           "#00cc96",
           "#ab63fa",
           "#FFA15A",
           "#19d3f3",
           "#FF6692",
           "#B6E880",
           "#FF97FF",
           "#FECB52"
          ],
          "font": {
           "color": "#2a3f5f"
          },
          "geo": {
           "bgcolor": "white",
           "lakecolor": "white",
           "landcolor": "#E5ECF6",
           "showlakes": true,
           "showland": true,
           "subunitcolor": "white"
          },
          "hoverlabel": {
           "align": "left"
          },
          "hovermode": "closest",
          "mapbox": {
           "style": "light"
          },
          "paper_bgcolor": "white",
          "plot_bgcolor": "#E5ECF6",
          "polar": {
           "angularaxis": {
            "gridcolor": "white",
            "linecolor": "white",
            "ticks": ""
           },
           "bgcolor": "#E5ECF6",
           "radialaxis": {
            "gridcolor": "white",
            "linecolor": "white",
            "ticks": ""
           }
          },
          "scene": {
           "xaxis": {
            "backgroundcolor": "#E5ECF6",
            "gridcolor": "white",
            "gridwidth": 2,
            "linecolor": "white",
            "showbackground": true,
            "ticks": "",
            "zerolinecolor": "white"
           },
           "yaxis": {
            "backgroundcolor": "#E5ECF6",
            "gridcolor": "white",
            "gridwidth": 2,
            "linecolor": "white",
            "showbackground": true,
            "ticks": "",
            "zerolinecolor": "white"
           },
           "zaxis": {
            "backgroundcolor": "#E5ECF6",
            "gridcolor": "white",
            "gridwidth": 2,
            "linecolor": "white",
            "showbackground": true,
            "ticks": "",
            "zerolinecolor": "white"
           }
          },
          "shapedefaults": {
           "line": {
            "color": "#2a3f5f"
           }
          },
          "ternary": {
           "aaxis": {
            "gridcolor": "white",
            "linecolor": "white",
            "ticks": ""
           },
           "baxis": {
            "gridcolor": "white",
            "linecolor": "white",
            "ticks": ""
           },
           "bgcolor": "#E5ECF6",
           "caxis": {
            "gridcolor": "white",
            "linecolor": "white",
            "ticks": ""
           }
          },
          "title": {
           "x": 0.05
          },
          "xaxis": {
           "automargin": true,
           "gridcolor": "white",
           "linecolor": "white",
           "ticks": "",
           "title": {
            "standoff": 15
           },
           "zerolinecolor": "white",
           "zerolinewidth": 2
          },
          "yaxis": {
           "automargin": true,
           "gridcolor": "white",
           "linecolor": "white",
           "ticks": "",
           "title": {
            "standoff": 15
           },
           "zerolinecolor": "white",
           "zerolinewidth": 2
          }
         }
        },
        "title": {
         "text": "MSFT Candlestick Chart (Real Time Data)"
        },
        "xaxis": {
         "title": {
          "text": "Time"
         }
        },
        "yaxis": {
         "title": {
          "text": "Price"
         }
        }
       }
      }
     },
     "metadata": {},
     "output_type": "display_data"
    },
    {
     "data": {
      "application/vnd.plotly.v1+json": {
       "config": {
        "plotlyServerURL": "https://plot.ly"
       },
       "data": [
        {
         "close": {
          "bdata": "3bWEfNCHW0DdtYR80IdbQN21hHzQh1tA3bWEfNCHW0DdtYR80IdbQDMzMzMzm1tAMzMzMzObW0AzMzMzM5tbQDMzMzMzm1tAMzMzMzObW0AzMzMzM5tbQBSuR+F6lFtAFK5H4XqUW0AUrkfhepRbQBSuR+F6lFtAFK5H4XqUW0AUrkfhepRbQLgehetRiFtA",
          "dtype": "f8"
         },
         "high": {
          "bdata": "pHA9CtfDW0CkcD0K18NbQKRwPQrXw1tApHA9CtfDW0CkcD0K18NbQKRwPQrXw1tApHA9CtfDW0CkcD0K18NbQKRwPQrXw1tApHA9CtfDW0CkcD0K18NbQKRwPQrXw1tApHA9CtfDW0CkcD0K18NbQKRwPQrXw1tApHA9CtfDW0CkcD0K18NbQKRwPQrXw1tA",
          "dtype": "f8"
         },
         "low": {
          "bdata": "H4XrUbjeWkAfhetRuN5aQB+F61G43lpAH4XrUbjeWkAfhetRuN5aQB+F61G43lpAH4XrUbjeWkAfhetRuN5aQB+F61G43lpAH4XrUbjeWkAfhetRuN5aQB+F61G43lpAH4XrUbjeWkAfhetRuN5aQB+F61G43lpAH4XrUbjeWkAfhetRuN5aQB+F61G43lpA",
          "dtype": "f8"
         },
         "open": {
          "bdata": "uB6F61E4W0C4HoXrUThbQLgehetROFtAuB6F61E4W0C4HoXrUThbQLgehetROFtAuB6F61E4W0C4HoXrUThbQLgehetROFtAuB6F61E4W0C4HoXrUThbQLgehetROFtAuB6F61E4W0C4HoXrUThbQLgehetROFtAuB6F61E4W0C4HoXrUThbQLgehetROFtA",
          "dtype": "f8"
         },
         "type": "candlestick",
         "x": [
          "2025-04-11T17:06:15.000000000",
          "2025-04-11T17:06:24.000000000",
          "2025-04-11T17:06:37.000000000",
          "2025-04-11T17:06:45.000000000",
          "2025-04-11T17:06:53.000000000",
          "2025-04-11T17:07:07.000000000",
          "2025-04-11T17:07:15.000000000",
          "2025-04-11T17:07:27.000000000",
          "2025-04-11T17:07:35.000000000",
          "2025-04-11T17:07:47.000000000",
          "2025-04-11T17:07:55.000000000",
          "2025-04-11T17:08:08.000000000",
          "2025-04-11T17:08:16.000000000",
          "2025-04-11T17:08:25.000000000",
          "2025-04-11T17:08:37.000000000",
          "2025-04-11T17:08:49.000000000",
          "2025-04-11T17:08:57.000000000",
          "2025-04-11T17:09:09.000000000"
         ]
        }
       ],
       "layout": {
        "template": {
         "data": {
          "bar": [
           {
            "error_x": {
             "color": "#2a3f5f"
            },
            "error_y": {
             "color": "#2a3f5f"
            },
            "marker": {
             "line": {
              "color": "#E5ECF6",
              "width": 0.5
             },
             "pattern": {
              "fillmode": "overlay",
              "size": 10,
              "solidity": 0.2
             }
            },
            "type": "bar"
           }
          ],
          "barpolar": [
           {
            "marker": {
             "line": {
              "color": "#E5ECF6",
              "width": 0.5
             },
             "pattern": {
              "fillmode": "overlay",
              "size": 10,
              "solidity": 0.2
             }
            },
            "type": "barpolar"
           }
          ],
          "carpet": [
           {
            "aaxis": {
             "endlinecolor": "#2a3f5f",
             "gridcolor": "white",
             "linecolor": "white",
             "minorgridcolor": "white",
             "startlinecolor": "#2a3f5f"
            },
            "baxis": {
             "endlinecolor": "#2a3f5f",
             "gridcolor": "white",
             "linecolor": "white",
             "minorgridcolor": "white",
             "startlinecolor": "#2a3f5f"
            },
            "type": "carpet"
           }
          ],
          "choropleth": [
           {
            "colorbar": {
             "outlinewidth": 0,
             "ticks": ""
            },
            "type": "choropleth"
           }
          ],
          "contour": [
           {
            "colorbar": {
             "outlinewidth": 0,
             "ticks": ""
            },
            "colorscale": [
             [
              0,
              "#0d0887"
             ],
             [
              0.1111111111111111,
              "#46039f"
             ],
             [
              0.2222222222222222,
              "#7201a8"
             ],
             [
              0.3333333333333333,
              "#9c179e"
             ],
             [
              0.4444444444444444,
              "#bd3786"
             ],
             [
              0.5555555555555556,
              "#d8576b"
             ],
             [
              0.6666666666666666,
              "#ed7953"
             ],
             [
              0.7777777777777778,
              "#fb9f3a"
             ],
             [
              0.8888888888888888,
              "#fdca26"
             ],
             [
              1,
              "#f0f921"
             ]
            ],
            "type": "contour"
           }
          ],
          "contourcarpet": [
           {
            "colorbar": {
             "outlinewidth": 0,
             "ticks": ""
            },
            "type": "contourcarpet"
           }
          ],
          "heatmap": [
           {
            "colorbar": {
             "outlinewidth": 0,
             "ticks": ""
            },
            "colorscale": [
             [
              0,
              "#0d0887"
             ],
             [
              0.1111111111111111,
              "#46039f"
             ],
             [
              0.2222222222222222,
              "#7201a8"
             ],
             [
              0.3333333333333333,
              "#9c179e"
             ],
             [
              0.4444444444444444,
              "#bd3786"
             ],
             [
              0.5555555555555556,
              "#d8576b"
             ],
             [
              0.6666666666666666,
              "#ed7953"
             ],
             [
              0.7777777777777778,
              "#fb9f3a"
             ],
             [
              0.8888888888888888,
              "#fdca26"
             ],
             [
              1,
              "#f0f921"
             ]
            ],
            "type": "heatmap"
           }
          ],
          "histogram": [
           {
            "marker": {
             "pattern": {
              "fillmode": "overlay",
              "size": 10,
              "solidity": 0.2
             }
            },
            "type": "histogram"
           }
          ],
          "histogram2d": [
           {
            "colorbar": {
             "outlinewidth": 0,
             "ticks": ""
            },
            "colorscale": [
             [
              0,
              "#0d0887"
             ],
             [
              0.1111111111111111,
              "#46039f"
             ],
             [
              0.2222222222222222,
              "#7201a8"
             ],
             [
              0.3333333333333333,
              "#9c179e"
             ],
             [
              0.4444444444444444,
              "#bd3786"
             ],
             [
              0.5555555555555556,
              "#d8576b"
             ],
             [
              0.6666666666666666,
              "#ed7953"
             ],
             [
              0.7777777777777778,
              "#fb9f3a"
             ],
             [
              0.8888888888888888,
              "#fdca26"
             ],
             [
              1,
              "#f0f921"
             ]
            ],
            "type": "histogram2d"
           }
          ],
          "histogram2dcontour": [
           {
            "colorbar": {
             "outlinewidth": 0,
             "ticks": ""
            },
            "colorscale": [
             [
              0,
              "#0d0887"
             ],
             [
              0.1111111111111111,
              "#46039f"
             ],
             [
              0.2222222222222222,
              "#7201a8"
             ],
             [
              0.3333333333333333,
              "#9c179e"
             ],
             [
              0.4444444444444444,
              "#bd3786"
             ],
             [
              0.5555555555555556,
              "#d8576b"
             ],
             [
              0.6666666666666666,
              "#ed7953"
             ],
             [
              0.7777777777777778,
              "#fb9f3a"
             ],
             [
              0.8888888888888888,
              "#fdca26"
             ],
             [
              1,
              "#f0f921"
             ]
            ],
            "type": "histogram2dcontour"
           }
          ],
          "mesh3d": [
           {
            "colorbar": {
             "outlinewidth": 0,
             "ticks": ""
            },
            "type": "mesh3d"
           }
          ],
          "parcoords": [
           {
            "line": {
             "colorbar": {
              "outlinewidth": 0,
              "ticks": ""
             }
            },
            "type": "parcoords"
           }
          ],
          "pie": [
           {
            "automargin": true,
            "type": "pie"
           }
          ],
          "scatter": [
           {
            "fillpattern": {
             "fillmode": "overlay",
             "size": 10,
             "solidity": 0.2
            },
            "type": "scatter"
           }
          ],
          "scatter3d": [
           {
            "line": {
             "colorbar": {
              "outlinewidth": 0,
              "ticks": ""
             }
            },
            "marker": {
             "colorbar": {
              "outlinewidth": 0,
              "ticks": ""
             }
            },
            "type": "scatter3d"
           }
          ],
          "scattercarpet": [
           {
            "marker": {
             "colorbar": {
              "outlinewidth": 0,
              "ticks": ""
             }
            },
            "type": "scattercarpet"
           }
          ],
          "scattergeo": [
           {
            "marker": {
             "colorbar": {
              "outlinewidth": 0,
              "ticks": ""
             }
            },
            "type": "scattergeo"
           }
          ],
          "scattergl": [
           {
            "marker": {
             "colorbar": {
              "outlinewidth": 0,
              "ticks": ""
             }
            },
            "type": "scattergl"
           }
          ],
          "scattermap": [
           {
            "marker": {
             "colorbar": {
              "outlinewidth": 0,
              "ticks": ""
             }
            },
            "type": "scattermap"
           }
          ],
          "scattermapbox": [
           {
            "marker": {
             "colorbar": {
              "outlinewidth": 0,
              "ticks": ""
             }
            },
            "type": "scattermapbox"
           }
          ],
          "scatterpolar": [
           {
            "marker": {
             "colorbar": {
              "outlinewidth": 0,
              "ticks": ""
             }
            },
            "type": "scatterpolar"
           }
          ],
          "scatterpolargl": [
           {
            "marker": {
             "colorbar": {
              "outlinewidth": 0,
              "ticks": ""
             }
            },
            "type": "scatterpolargl"
           }
          ],
          "scatterternary": [
           {
            "marker": {
             "colorbar": {
              "outlinewidth": 0,
              "ticks": ""
             }
            },
            "type": "scatterternary"
           }
          ],
          "surface": [
           {
            "colorbar": {
             "outlinewidth": 0,
             "ticks": ""
            },
            "colorscale": [
             [
              0,
              "#0d0887"
             ],
             [
              0.1111111111111111,
              "#46039f"
             ],
             [
              0.2222222222222222,
              "#7201a8"
             ],
             [
              0.3333333333333333,
              "#9c179e"
             ],
             [
              0.4444444444444444,
              "#bd3786"
             ],
             [
              0.5555555555555556,
              "#d8576b"
             ],
             [
              0.6666666666666666,
              "#ed7953"
             ],
             [
              0.7777777777777778,
              "#fb9f3a"
             ],
             [
              0.8888888888888888,
              "#fdca26"
             ],
             [
              1,
              "#f0f921"
             ]
            ],
            "type": "surface"
           }
          ],
          "table": [
           {
            "cells": {
             "fill": {
              "color": "#EBF0F8"
             },
             "line": {
              "color": "white"
             }
            },
            "header": {
             "fill": {
              "color": "#C8D4E3"
             },
             "line": {
              "color": "white"
             }
            },
            "type": "table"
           }
          ]
         },
         "layout": {
          "annotationdefaults": {
           "arrowcolor": "#2a3f5f",
           "arrowhead": 0,
           "arrowwidth": 1
          },
          "autotypenumbers": "strict",
          "coloraxis": {
           "colorbar": {
            "outlinewidth": 0,
            "ticks": ""
           }
          },
          "colorscale": {
           "diverging": [
            [
             0,
             "#8e0152"
            ],
            [
             0.1,
             "#c51b7d"
            ],
            [
             0.2,
             "#de77ae"
            ],
            [
             0.3,
             "#f1b6da"
            ],
            [
             0.4,
             "#fde0ef"
            ],
            [
             0.5,
             "#f7f7f7"
            ],
            [
             0.6,
             "#e6f5d0"
            ],
            [
             0.7,
             "#b8e186"
            ],
            [
             0.8,
             "#7fbc41"
            ],
            [
             0.9,
             "#4d9221"
            ],
            [
             1,
             "#276419"
            ]
           ],
           "sequential": [
            [
             0,
             "#0d0887"
            ],
            [
             0.1111111111111111,
             "#46039f"
            ],
            [
             0.2222222222222222,
             "#7201a8"
            ],
            [
             0.3333333333333333,
             "#9c179e"
            ],
            [
             0.4444444444444444,
             "#bd3786"
            ],
            [
             0.5555555555555556,
             "#d8576b"
            ],
            [
             0.6666666666666666,
             "#ed7953"
            ],
            [
             0.7777777777777778,
             "#fb9f3a"
            ],
            [
             0.8888888888888888,
             "#fdca26"
            ],
            [
             1,
             "#f0f921"
            ]
           ],
           "sequentialminus": [
            [
             0,
             "#0d0887"
            ],
            [
             0.1111111111111111,
             "#46039f"
            ],
            [
             0.2222222222222222,
             "#7201a8"
            ],
            [
             0.3333333333333333,
             "#9c179e"
            ],
            [
             0.4444444444444444,
             "#bd3786"
            ],
            [
             0.5555555555555556,
             "#d8576b"
            ],
            [
             0.6666666666666666,
             "#ed7953"
            ],
            [
             0.7777777777777778,
             "#fb9f3a"
            ],
            [
             0.8888888888888888,
             "#fdca26"
            ],
            [
             1,
             "#f0f921"
            ]
           ]
          },
          "colorway": [
           "#636efa",
           "#EF553B",
           "#00cc96",
           "#ab63fa",
           "#FFA15A",
           "#19d3f3",
           "#FF6692",
           "#B6E880",
           "#FF97FF",
           "#FECB52"
          ],
          "font": {
           "color": "#2a3f5f"
          },
          "geo": {
           "bgcolor": "white",
           "lakecolor": "white",
           "landcolor": "#E5ECF6",
           "showlakes": true,
           "showland": true,
           "subunitcolor": "white"
          },
          "hoverlabel": {
           "align": "left"
          },
          "hovermode": "closest",
          "mapbox": {
           "style": "light"
          },
          "paper_bgcolor": "white",
          "plot_bgcolor": "#E5ECF6",
          "polar": {
           "angularaxis": {
            "gridcolor": "white",
            "linecolor": "white",
            "ticks": ""
           },
           "bgcolor": "#E5ECF6",
           "radialaxis": {
            "gridcolor": "white",
            "linecolor": "white",
            "ticks": ""
           }
          },
          "scene": {
           "xaxis": {
            "backgroundcolor": "#E5ECF6",
            "gridcolor": "white",
            "gridwidth": 2,
            "linecolor": "white",
            "showbackground": true,
            "ticks": "",
            "zerolinecolor": "white"
           },
           "yaxis": {
            "backgroundcolor": "#E5ECF6",
            "gridcolor": "white",
            "gridwidth": 2,
            "linecolor": "white",
            "showbackground": true,
            "ticks": "",
            "zerolinecolor": "white"
           },
           "zaxis": {
            "backgroundcolor": "#E5ECF6",
            "gridcolor": "white",
            "gridwidth": 2,
            "linecolor": "white",
            "showbackground": true,
            "ticks": "",
            "zerolinecolor": "white"
           }
          },
          "shapedefaults": {
           "line": {
            "color": "#2a3f5f"
           }
          },
          "ternary": {
           "aaxis": {
            "gridcolor": "white",
            "linecolor": "white",
            "ticks": ""
           },
           "baxis": {
            "gridcolor": "white",
            "linecolor": "white",
            "ticks": ""
           },
           "bgcolor": "#E5ECF6",
           "caxis": {
            "gridcolor": "white",
            "linecolor": "white",
            "ticks": ""
           }
          },
          "title": {
           "x": 0.05
          },
          "xaxis": {
           "automargin": true,
           "gridcolor": "white",
           "linecolor": "white",
           "ticks": "",
           "title": {
            "standoff": 15
           },
           "zerolinecolor": "white",
           "zerolinewidth": 2
          },
          "yaxis": {
           "automargin": true,
           "gridcolor": "white",
           "linecolor": "white",
           "ticks": "",
           "title": {
            "standoff": 15
           },
           "zerolinecolor": "white",
           "zerolinewidth": 2
          }
         }
        },
        "title": {
         "text": "NVDA Candlestick Chart (Real Time Data)"
        },
        "xaxis": {
         "title": {
          "text": "Time"
         }
        },
        "yaxis": {
         "title": {
          "text": "Price"
         }
        }
       }
      }
     },
     "metadata": {},
     "output_type": "display_data"
    },
    {
     "data": {
      "application/vnd.plotly.v1+json": {
       "config": {
        "plotlyServerURL": "https://plot.ly"
       },
       "data": [
        {
         "close": {
          "bdata": "w/UoXI8ab0DD9ShcjxpvQMP1KFyPGm9Aw/UoXI8ab0DD9ShcjxpvQAAAAAAAMG9AAAAAAAAwb0AAAAAAADBvQAAAAAAAMG9AAAAAAAAwb0AAAAAAADBvQBB6Nqs+K29AEHo2qz4rb0AQejarPitvQBB6Nqs+K29AEHo2qz4rb0AQejarPitvQGZmZmZmFm9A",
          "dtype": "f8"
         },
         "high": {
          "bdata": "pHA9CtcbcECkcD0K1xtwQKRwPQrXG3BApHA9CtcbcECkcD0K1xtwQKRwPQrXG3BApHA9CtcbcECkcD0K1xtwQKRwPQrXG3BApHA9CtcbcECkcD0K1xtwQKRwPQrXG3BApHA9CtcbcECkcD0K1xtwQKRwPQrXG3BApHA9CtcbcECkcD0K1xtwQKRwPQrXG3BA",
          "dtype": "f8"
         },
         "low": {
          "bdata": "/fZ14JwrbkD99nXgnCtuQP32deCcK25A/fZ14JwrbkD99nXgnCtuQP32deCcK25A/fZ14JwrbkD99nXgnCtuQP32deCcK25A/fZ14JwrbkD99nXgnCtuQP32deCcK25A/fZ14JwrbkD99nXgnCtuQP32deCcK25A/fZ14JwrbkD99nXgnCtuQP32deCcK25A",
          "dtype": "f8"
         },
         "open": {
          "bdata": "AAAAAACgb0AAAAAAAKBvQAAAAAAAoG9AAAAAAACgb0AAAAAAAKBvQAAAAAAAoG9AAAAAAACgb0AAAAAAAKBvQAAAAAAAoG9AAAAAAACgb0AAAAAAAKBvQAAAAAAAoG9AAAAAAACgb0AAAAAAAKBvQAAAAAAAoG9AAAAAAACgb0AAAAAAAKBvQAAAAAAAoG9A",
          "dtype": "f8"
         },
         "type": "candlestick",
         "x": [
          "2025-04-11T17:06:15.000000000",
          "2025-04-11T17:06:24.000000000",
          "2025-04-11T17:06:37.000000000",
          "2025-04-11T17:06:45.000000000",
          "2025-04-11T17:06:53.000000000",
          "2025-04-11T17:07:07.000000000",
          "2025-04-11T17:07:15.000000000",
          "2025-04-11T17:07:27.000000000",
          "2025-04-11T17:07:35.000000000",
          "2025-04-11T17:07:47.000000000",
          "2025-04-11T17:07:56.000000000",
          "2025-04-11T17:08:08.000000000",
          "2025-04-11T17:08:16.000000000",
          "2025-04-11T17:08:25.000000000",
          "2025-04-11T17:08:37.000000000",
          "2025-04-11T17:08:49.000000000",
          "2025-04-11T17:08:57.000000000",
          "2025-04-11T17:09:09.000000000"
         ]
        }
       ],
       "layout": {
        "template": {
         "data": {
          "bar": [
           {
            "error_x": {
             "color": "#2a3f5f"
            },
            "error_y": {
             "color": "#2a3f5f"
            },
            "marker": {
             "line": {
              "color": "#E5ECF6",
              "width": 0.5
             },
             "pattern": {
              "fillmode": "overlay",
              "size": 10,
              "solidity": 0.2
             }
            },
            "type": "bar"
           }
          ],
          "barpolar": [
           {
            "marker": {
             "line": {
              "color": "#E5ECF6",
              "width": 0.5
             },
             "pattern": {
              "fillmode": "overlay",
              "size": 10,
              "solidity": 0.2
             }
            },
            "type": "barpolar"
           }
          ],
          "carpet": [
           {
            "aaxis": {
             "endlinecolor": "#2a3f5f",
             "gridcolor": "white",
             "linecolor": "white",
             "minorgridcolor": "white",
             "startlinecolor": "#2a3f5f"
            },
            "baxis": {
             "endlinecolor": "#2a3f5f",
             "gridcolor": "white",
             "linecolor": "white",
             "minorgridcolor": "white",
             "startlinecolor": "#2a3f5f"
            },
            "type": "carpet"
           }
          ],
          "choropleth": [
           {
            "colorbar": {
             "outlinewidth": 0,
             "ticks": ""
            },
            "type": "choropleth"
           }
          ],
          "contour": [
           {
            "colorbar": {
             "outlinewidth": 0,
             "ticks": ""
            },
            "colorscale": [
             [
              0,
              "#0d0887"
             ],
             [
              0.1111111111111111,
              "#46039f"
             ],
             [
              0.2222222222222222,
              "#7201a8"
             ],
             [
              0.3333333333333333,
              "#9c179e"
             ],
             [
              0.4444444444444444,
              "#bd3786"
             ],
             [
              0.5555555555555556,
              "#d8576b"
             ],
             [
              0.6666666666666666,
              "#ed7953"
             ],
             [
              0.7777777777777778,
              "#fb9f3a"
             ],
             [
              0.8888888888888888,
              "#fdca26"
             ],
             [
              1,
              "#f0f921"
             ]
            ],
            "type": "contour"
           }
          ],
          "contourcarpet": [
           {
            "colorbar": {
             "outlinewidth": 0,
             "ticks": ""
            },
            "type": "contourcarpet"
           }
          ],
          "heatmap": [
           {
            "colorbar": {
             "outlinewidth": 0,
             "ticks": ""
            },
            "colorscale": [
             [
              0,
              "#0d0887"
             ],
             [
              0.1111111111111111,
              "#46039f"
             ],
             [
              0.2222222222222222,
              "#7201a8"
             ],
             [
              0.3333333333333333,
              "#9c179e"
             ],
             [
              0.4444444444444444,
              "#bd3786"
             ],
             [
              0.5555555555555556,
              "#d8576b"
             ],
             [
              0.6666666666666666,
              "#ed7953"
             ],
             [
              0.7777777777777778,
              "#fb9f3a"
             ],
             [
              0.8888888888888888,
              "#fdca26"
             ],
             [
              1,
              "#f0f921"
             ]
            ],
            "type": "heatmap"
           }
          ],
          "histogram": [
           {
            "marker": {
             "pattern": {
              "fillmode": "overlay",
              "size": 10,
              "solidity": 0.2
             }
            },
            "type": "histogram"
           }
          ],
          "histogram2d": [
           {
            "colorbar": {
             "outlinewidth": 0,
             "ticks": ""
            },
            "colorscale": [
             [
              0,
              "#0d0887"
             ],
             [
              0.1111111111111111,
              "#46039f"
             ],
             [
              0.2222222222222222,
              "#7201a8"
             ],
             [
              0.3333333333333333,
              "#9c179e"
             ],
             [
              0.4444444444444444,
              "#bd3786"
             ],
             [
              0.5555555555555556,
              "#d8576b"
             ],
             [
              0.6666666666666666,
              "#ed7953"
             ],
             [
              0.7777777777777778,
              "#fb9f3a"
             ],
             [
              0.8888888888888888,
              "#fdca26"
             ],
             [
              1,
              "#f0f921"
             ]
            ],
            "type": "histogram2d"
           }
          ],
          "histogram2dcontour": [
           {
            "colorbar": {
             "outlinewidth": 0,
             "ticks": ""
            },
            "colorscale": [
             [
              0,
              "#0d0887"
             ],
             [
              0.1111111111111111,
              "#46039f"
             ],
             [
              0.2222222222222222,
              "#7201a8"
             ],
             [
              0.3333333333333333,
              "#9c179e"
             ],
             [
              0.4444444444444444,
              "#bd3786"
             ],
             [
              0.5555555555555556,
              "#d8576b"
             ],
             [
              0.6666666666666666,
              "#ed7953"
             ],
             [
              0.7777777777777778,
              "#fb9f3a"
             ],
             [
              0.8888888888888888,
              "#fdca26"
             ],
             [
              1,
              "#f0f921"
             ]
            ],
            "type": "histogram2dcontour"
           }
          ],
          "mesh3d": [
           {
            "colorbar": {
             "outlinewidth": 0,
             "ticks": ""
            },
            "type": "mesh3d"
           }
          ],
          "parcoords": [
           {
            "line": {
             "colorbar": {
              "outlinewidth": 0,
              "ticks": ""
             }
            },
            "type": "parcoords"
           }
          ],
          "pie": [
           {
            "automargin": true,
            "type": "pie"
           }
          ],
          "scatter": [
           {
            "fillpattern": {
             "fillmode": "overlay",
             "size": 10,
             "solidity": 0.2
            },
            "type": "scatter"
           }
          ],
          "scatter3d": [
           {
            "line": {
             "colorbar": {
              "outlinewidth": 0,
              "ticks": ""
             }
            },
            "marker": {
             "colorbar": {
              "outlinewidth": 0,
              "ticks": ""
             }
            },
            "type": "scatter3d"
           }
          ],
          "scattercarpet": [
           {
            "marker": {
             "colorbar": {
              "outlinewidth": 0,
              "ticks": ""
             }
            },
            "type": "scattercarpet"
           }
          ],
          "scattergeo": [
           {
            "marker": {
             "colorbar": {
              "outlinewidth": 0,
              "ticks": ""
             }
            },
            "type": "scattergeo"
           }
          ],
          "scattergl": [
           {
            "marker": {
             "colorbar": {
              "outlinewidth": 0,
              "ticks": ""
             }
            },
            "type": "scattergl"
           }
          ],
          "scattermap": [
           {
            "marker": {
             "colorbar": {
              "outlinewidth": 0,
              "ticks": ""
             }
            },
            "type": "scattermap"
           }
          ],
          "scattermapbox": [
           {
            "marker": {
             "colorbar": {
              "outlinewidth": 0,
              "ticks": ""
             }
            },
            "type": "scattermapbox"
           }
          ],
          "scatterpolar": [
           {
            "marker": {
             "colorbar": {
              "outlinewidth": 0,
              "ticks": ""
             }
            },
            "type": "scatterpolar"
           }
          ],
          "scatterpolargl": [
           {
            "marker": {
             "colorbar": {
              "outlinewidth": 0,
              "ticks": ""
             }
            },
            "type": "scatterpolargl"
           }
          ],
          "scatterternary": [
           {
            "marker": {
             "colorbar": {
              "outlinewidth": 0,
              "ticks": ""
             }
            },
            "type": "scatterternary"
           }
          ],
          "surface": [
           {
            "colorbar": {
             "outlinewidth": 0,
             "ticks": ""
            },
            "colorscale": [
             [
              0,
              "#0d0887"
             ],
             [
              0.1111111111111111,
              "#46039f"
             ],
             [
              0.2222222222222222,
              "#7201a8"
             ],
             [
              0.3333333333333333,
              "#9c179e"
             ],
             [
              0.4444444444444444,
              "#bd3786"
             ],
             [
              0.5555555555555556,
              "#d8576b"
             ],
             [
              0.6666666666666666,
              "#ed7953"
             ],
             [
              0.7777777777777778,
              "#fb9f3a"
             ],
             [
              0.8888888888888888,
              "#fdca26"
             ],
             [
              1,
              "#f0f921"
             ]
            ],
            "type": "surface"
           }
          ],
          "table": [
           {
            "cells": {
             "fill": {
              "color": "#EBF0F8"
             },
             "line": {
              "color": "white"
             }
            },
            "header": {
             "fill": {
              "color": "#C8D4E3"
             },
             "line": {
              "color": "white"
             }
            },
            "type": "table"
           }
          ]
         },
         "layout": {
          "annotationdefaults": {
           "arrowcolor": "#2a3f5f",
           "arrowhead": 0,
           "arrowwidth": 1
          },
          "autotypenumbers": "strict",
          "coloraxis": {
           "colorbar": {
            "outlinewidth": 0,
            "ticks": ""
           }
          },
          "colorscale": {
           "diverging": [
            [
             0,
             "#8e0152"
            ],
            [
             0.1,
             "#c51b7d"
            ],
            [
             0.2,
             "#de77ae"
            ],
            [
             0.3,
             "#f1b6da"
            ],
            [
             0.4,
             "#fde0ef"
            ],
            [
             0.5,
             "#f7f7f7"
            ],
            [
             0.6,
             "#e6f5d0"
            ],
            [
             0.7,
             "#b8e186"
            ],
            [
             0.8,
             "#7fbc41"
            ],
            [
             0.9,
             "#4d9221"
            ],
            [
             1,
             "#276419"
            ]
           ],
           "sequential": [
            [
             0,
             "#0d0887"
            ],
            [
             0.1111111111111111,
             "#46039f"
            ],
            [
             0.2222222222222222,
             "#7201a8"
            ],
            [
             0.3333333333333333,
             "#9c179e"
            ],
            [
             0.4444444444444444,
             "#bd3786"
            ],
            [
             0.5555555555555556,
             "#d8576b"
            ],
            [
             0.6666666666666666,
             "#ed7953"
            ],
            [
             0.7777777777777778,
             "#fb9f3a"
            ],
            [
             0.8888888888888888,
             "#fdca26"
            ],
            [
             1,
             "#f0f921"
            ]
           ],
           "sequentialminus": [
            [
             0,
             "#0d0887"
            ],
            [
             0.1111111111111111,
             "#46039f"
            ],
            [
             0.2222222222222222,
             "#7201a8"
            ],
            [
             0.3333333333333333,
             "#9c179e"
            ],
            [
             0.4444444444444444,
             "#bd3786"
            ],
            [
             0.5555555555555556,
             "#d8576b"
            ],
            [
             0.6666666666666666,
             "#ed7953"
            ],
            [
             0.7777777777777778,
             "#fb9f3a"
            ],
            [
             0.8888888888888888,
             "#fdca26"
            ],
            [
             1,
             "#f0f921"
            ]
           ]
          },
          "colorway": [
           "#636efa",
           "#EF553B",
           "#00cc96",
           "#ab63fa",
           "#FFA15A",
           "#19d3f3",
           "#FF6692",
           "#B6E880",
           "#FF97FF",
           "#FECB52"
          ],
          "font": {
           "color": "#2a3f5f"
          },
          "geo": {
           "bgcolor": "white",
           "lakecolor": "white",
           "landcolor": "#E5ECF6",
           "showlakes": true,
           "showland": true,
           "subunitcolor": "white"
          },
          "hoverlabel": {
           "align": "left"
          },
          "hovermode": "closest",
          "mapbox": {
           "style": "light"
          },
          "paper_bgcolor": "white",
          "plot_bgcolor": "#E5ECF6",
          "polar": {
           "angularaxis": {
            "gridcolor": "white",
            "linecolor": "white",
            "ticks": ""
           },
           "bgcolor": "#E5ECF6",
           "radialaxis": {
            "gridcolor": "white",
            "linecolor": "white",
            "ticks": ""
           }
          },
          "scene": {
           "xaxis": {
            "backgroundcolor": "#E5ECF6",
            "gridcolor": "white",
            "gridwidth": 2,
            "linecolor": "white",
            "showbackground": true,
            "ticks": "",
            "zerolinecolor": "white"
           },
           "yaxis": {
            "backgroundcolor": "#E5ECF6",
            "gridcolor": "white",
            "gridwidth": 2,
            "linecolor": "white",
            "showbackground": true,
            "ticks": "",
            "zerolinecolor": "white"
           },
           "zaxis": {
            "backgroundcolor": "#E5ECF6",
            "gridcolor": "white",
            "gridwidth": 2,
            "linecolor": "white",
            "showbackground": true,
            "ticks": "",
            "zerolinecolor": "white"
           }
          },
          "shapedefaults": {
           "line": {
            "color": "#2a3f5f"
           }
          },
          "ternary": {
           "aaxis": {
            "gridcolor": "white",
            "linecolor": "white",
            "ticks": ""
           },
           "baxis": {
            "gridcolor": "white",
            "linecolor": "white",
            "ticks": ""
           },
           "bgcolor": "#E5ECF6",
           "caxis": {
            "gridcolor": "white",
            "linecolor": "white",
            "ticks": ""
           }
          },
          "title": {
           "x": 0.05
          },
          "xaxis": {
           "automargin": true,
           "gridcolor": "white",
           "linecolor": "white",
           "ticks": "",
           "title": {
            "standoff": 15
           },
           "zerolinecolor": "white",
           "zerolinewidth": 2
          },
          "yaxis": {
           "automargin": true,
           "gridcolor": "white",
           "linecolor": "white",
           "ticks": "",
           "title": {
            "standoff": 15
           },
           "zerolinecolor": "white",
           "zerolinewidth": 2
          }
         }
        },
        "title": {
         "text": "TSLA Candlestick Chart (Real Time Data)"
        },
        "xaxis": {
         "title": {
          "text": "Time"
         }
        },
        "yaxis": {
         "title": {
          "text": "Price"
         }
        }
       }
      }
     },
     "metadata": {},
     "output_type": "display_data"
    }
   ],
   "source": [
    "# creating candlestick charts for each ticker\n",
    "#allowing the ability to see open, high, low, and close prices while hovering over in plotly\n",
    "for ticker in df_cass_final['ticker'].unique():\n",
    "    subset = df_cass_final[df_cass_final['ticker'] == ticker]\n",
    "    fig = go.Figure(data=[go.Candlestick(\n",
    "        x=subset['date'],\n",
    "        open=subset['open'],\n",
    "        high=subset['high'],\n",
    "        low=subset['low'],\n",
    "        close=subset['close']\n",
    "    )])\n",
    "    fig.update_layout(title=f\"{ticker} Candlestick Chart (Real Time Data)\", xaxis_title='Time', yaxis_title='Price')\n",
    "    fig.show()\n"
   ]
  },
  {
   "cell_type": "markdown",
   "metadata": {},
   "source": [
    "#### Above is a series of 7 candlestick graphs that relate to each of the 7 tickers of the magnificent 7.  Candlestick graphs are an industry standard for financial markets as they are helpful for short term time series analysis like ours. Each graph is made in plotly so that we can hover over each candle and see the changes of open price, low price, high price and closing price. This is useful unlike a boxplot since we can see real time changes rather than just distribution and outliers."
   ]
  },
  {
   "cell_type": "code",
   "execution_count": 95,
   "metadata": {},
   "outputs": [
    {
     "data": {
      "application/vnd.plotly.v1+json": {
       "config": {
        "plotlyServerURL": "https://plot.ly"
       },
       "data": [
        {
         "line": {
          "color": "blue"
         },
         "mode": "lines+markers",
         "name": "AAPL RSI",
         "showlegend": true,
         "type": "scatter",
         "x": [
          "2025-04-11T17:07:06.000000000",
          "2025-04-11T17:07:15.000000000",
          "2025-04-11T17:07:27.000000000",
          "2025-04-11T17:07:35.000000000",
          "2025-04-11T17:07:47.000000000",
          "2025-04-11T17:07:56.000000000",
          "2025-04-11T17:08:08.000000000",
          "2025-04-11T17:08:16.000000000",
          "2025-04-11T17:08:25.000000000",
          "2025-04-11T17:08:37.000000000",
          "2025-04-11T17:08:45.000000000",
          "2025-04-11T17:08:57.000000000",
          "2025-04-11T17:09:09.000000000"
         ],
         "xaxis": "x",
         "y": {
          "bdata": "AAAAAAAAWUAAAAAAAABZQAAAAAAAAFlAAAAAAAAAWUAAAAAAAABZQAAAAAAAAFlAAAAAAAAAAAAAAAAAAAAAAAAAAAAAAAAAAAAAAAAAAAAAAAAAAAAAAAAAAAAAAAAAAAAAAAAAAAA=",
          "dtype": "f8"
         },
         "yaxis": "y"
        },
        {
         "line": {
          "color": "red",
          "dash": "dash"
         },
         "mode": "lines",
         "name": "RSI 70 (Overbought)",
         "showlegend": true,
         "type": "scatter",
         "x": [
          "2025-04-11T17:07:06.000000000",
          "2025-04-11T17:07:15.000000000",
          "2025-04-11T17:07:27.000000000",
          "2025-04-11T17:07:35.000000000",
          "2025-04-11T17:07:47.000000000",
          "2025-04-11T17:07:56.000000000",
          "2025-04-11T17:08:08.000000000",
          "2025-04-11T17:08:16.000000000",
          "2025-04-11T17:08:25.000000000",
          "2025-04-11T17:08:37.000000000",
          "2025-04-11T17:08:45.000000000",
          "2025-04-11T17:08:57.000000000",
          "2025-04-11T17:09:09.000000000"
         ],
         "xaxis": "x",
         "y": [
          70,
          70,
          70,
          70,
          70,
          70,
          70,
          70,
          70,
          70,
          70,
          70,
          70
         ],
         "yaxis": "y"
        },
        {
         "line": {
          "color": "green",
          "dash": "dash"
         },
         "mode": "lines",
         "name": "RSI 30 (Oversold)",
         "showlegend": true,
         "type": "scatter",
         "x": [
          "2025-04-11T17:07:06.000000000",
          "2025-04-11T17:07:15.000000000",
          "2025-04-11T17:07:27.000000000",
          "2025-04-11T17:07:35.000000000",
          "2025-04-11T17:07:47.000000000",
          "2025-04-11T17:07:56.000000000",
          "2025-04-11T17:08:08.000000000",
          "2025-04-11T17:08:16.000000000",
          "2025-04-11T17:08:25.000000000",
          "2025-04-11T17:08:37.000000000",
          "2025-04-11T17:08:45.000000000",
          "2025-04-11T17:08:57.000000000",
          "2025-04-11T17:09:09.000000000"
         ],
         "xaxis": "x",
         "y": [
          30,
          30,
          30,
          30,
          30,
          30,
          30,
          30,
          30,
          30,
          30,
          30,
          30
         ],
         "yaxis": "y"
        },
        {
         "line": {
          "color": "blue"
         },
         "mode": "lines+markers",
         "name": "MSFT RSI",
         "showlegend": true,
         "type": "scatter",
         "x": [
          "2025-04-11T17:06:15.000000000",
          "2025-04-11T17:06:19.000000000",
          "2025-04-11T17:06:31.000000000",
          "2025-04-11T17:06:40.000000000",
          "2025-04-11T17:06:52.000000000",
          "2025-04-11T17:07:02.000000000",
          "2025-04-11T17:07:13.000000000",
          "2025-04-11T17:07:25.000000000",
          "2025-04-11T17:07:35.000000000",
          "2025-04-11T17:07:47.000000000",
          "2025-04-11T17:07:52.000000000",
          "2025-04-11T17:08:08.000000000",
          "2025-04-11T17:08:16.000000000",
          "2025-04-11T17:08:23.000000000",
          "2025-04-11T17:08:36.000000000",
          "2025-04-11T17:08:43.000000000",
          "2025-04-11T17:08:57.000000000",
          "2025-04-11T17:09:09.000000000"
         ],
         "xaxis": "x2",
         "y": {
          "bdata": "AAAAAAAAAAAAAAAAAAAAAAAAAAAAAAAAAAAAAAAAAAAAAAAAAAAAAAAAAAAAAFlAAAAAAAAAWUAAAAAAAABZQAAAAAAAAFlAAAAAAAAAWUAAAAAAAABZQAAAAAAAAAAAAAAAAAAAAAAAAAAAAAAAAAAAAAAAAAAAAAAAAAAAAAAAAAAAAAAAAAAAAAAAAAAA",
          "dtype": "f8"
         },
         "yaxis": "y2"
        },
        {
         "line": {
          "color": "red",
          "dash": "dash"
         },
         "mode": "lines",
         "name": "RSI 70 (Overbought)",
         "showlegend": false,
         "type": "scatter",
         "x": [
          "2025-04-11T17:06:15.000000000",
          "2025-04-11T17:06:19.000000000",
          "2025-04-11T17:06:31.000000000",
          "2025-04-11T17:06:40.000000000",
          "2025-04-11T17:06:52.000000000",
          "2025-04-11T17:07:02.000000000",
          "2025-04-11T17:07:13.000000000",
          "2025-04-11T17:07:25.000000000",
          "2025-04-11T17:07:35.000000000",
          "2025-04-11T17:07:47.000000000",
          "2025-04-11T17:07:52.000000000",
          "2025-04-11T17:08:08.000000000",
          "2025-04-11T17:08:16.000000000",
          "2025-04-11T17:08:23.000000000",
          "2025-04-11T17:08:36.000000000",
          "2025-04-11T17:08:43.000000000",
          "2025-04-11T17:08:57.000000000",
          "2025-04-11T17:09:09.000000000"
         ],
         "xaxis": "x2",
         "y": [
          70,
          70,
          70,
          70,
          70,
          70,
          70,
          70,
          70,
          70,
          70,
          70,
          70,
          70,
          70,
          70,
          70,
          70
         ],
         "yaxis": "y2"
        },
        {
         "line": {
          "color": "green",
          "dash": "dash"
         },
         "mode": "lines",
         "name": "RSI 30 (Oversold)",
         "showlegend": false,
         "type": "scatter",
         "x": [
          "2025-04-11T17:06:15.000000000",
          "2025-04-11T17:06:19.000000000",
          "2025-04-11T17:06:31.000000000",
          "2025-04-11T17:06:40.000000000",
          "2025-04-11T17:06:52.000000000",
          "2025-04-11T17:07:02.000000000",
          "2025-04-11T17:07:13.000000000",
          "2025-04-11T17:07:25.000000000",
          "2025-04-11T17:07:35.000000000",
          "2025-04-11T17:07:47.000000000",
          "2025-04-11T17:07:52.000000000",
          "2025-04-11T17:08:08.000000000",
          "2025-04-11T17:08:16.000000000",
          "2025-04-11T17:08:23.000000000",
          "2025-04-11T17:08:36.000000000",
          "2025-04-11T17:08:43.000000000",
          "2025-04-11T17:08:57.000000000",
          "2025-04-11T17:09:09.000000000"
         ],
         "xaxis": "x2",
         "y": [
          30,
          30,
          30,
          30,
          30,
          30,
          30,
          30,
          30,
          30,
          30,
          30,
          30,
          30,
          30,
          30,
          30,
          30
         ],
         "yaxis": "y2"
        },
        {
         "line": {
          "color": "blue"
         },
         "mode": "lines+markers",
         "name": "AMZN RSI",
         "showlegend": true,
         "type": "scatter",
         "x": [
          "2025-04-11T17:06:13.000000000",
          "2025-04-11T17:06:23.000000000",
          "2025-04-11T17:06:37.000000000",
          "2025-04-11T17:06:45.000000000",
          "2025-04-11T17:06:52.000000000",
          "2025-04-11T17:07:06.000000000",
          "2025-04-11T17:07:15.000000000",
          "2025-04-11T17:07:27.000000000",
          "2025-04-11T17:07:34.000000000",
          "2025-04-11T17:07:47.000000000",
          "2025-04-11T17:07:56.000000000",
          "2025-04-11T17:08:08.000000000",
          "2025-04-11T17:08:16.000000000",
          "2025-04-11T17:08:25.000000000",
          "2025-04-11T17:08:36.000000000",
          "2025-04-11T17:08:45.000000000",
          "2025-04-11T17:08:57.000000000",
          "2025-04-11T17:09:09.000000000"
         ],
         "xaxis": "x3",
         "y": {
          "bdata": "AAAAAAAAAAAAAAAAAAAAAAAAAAAAAAAAAAAAAAAAAAAAAAAAAAAAAAAAAAAAAFlAAAAAAAAAWUAAAAAAAABZQAAAAAAAAFlAAAAAAAAAWUAAAAAAAABZQAAAAAAAAAAAAAAAAAAAAAAAAAAAAAAAAAAAAAAAAAAAAAAAAAAAAAAAAAAAAAAAAAAAAAAAAAAA",
          "dtype": "f8"
         },
         "yaxis": "y3"
        },
        {
         "line": {
          "color": "red",
          "dash": "dash"
         },
         "mode": "lines",
         "name": "RSI 70 (Overbought)",
         "showlegend": false,
         "type": "scatter",
         "x": [
          "2025-04-11T17:06:13.000000000",
          "2025-04-11T17:06:23.000000000",
          "2025-04-11T17:06:37.000000000",
          "2025-04-11T17:06:45.000000000",
          "2025-04-11T17:06:52.000000000",
          "2025-04-11T17:07:06.000000000",
          "2025-04-11T17:07:15.000000000",
          "2025-04-11T17:07:27.000000000",
          "2025-04-11T17:07:34.000000000",
          "2025-04-11T17:07:47.000000000",
          "2025-04-11T17:07:56.000000000",
          "2025-04-11T17:08:08.000000000",
          "2025-04-11T17:08:16.000000000",
          "2025-04-11T17:08:25.000000000",
          "2025-04-11T17:08:36.000000000",
          "2025-04-11T17:08:45.000000000",
          "2025-04-11T17:08:57.000000000",
          "2025-04-11T17:09:09.000000000"
         ],
         "xaxis": "x3",
         "y": [
          70,
          70,
          70,
          70,
          70,
          70,
          70,
          70,
          70,
          70,
          70,
          70,
          70,
          70,
          70,
          70,
          70,
          70
         ],
         "yaxis": "y3"
        },
        {
         "line": {
          "color": "green",
          "dash": "dash"
         },
         "mode": "lines",
         "name": "RSI 30 (Oversold)",
         "showlegend": false,
         "type": "scatter",
         "x": [
          "2025-04-11T17:06:13.000000000",
          "2025-04-11T17:06:23.000000000",
          "2025-04-11T17:06:37.000000000",
          "2025-04-11T17:06:45.000000000",
          "2025-04-11T17:06:52.000000000",
          "2025-04-11T17:07:06.000000000",
          "2025-04-11T17:07:15.000000000",
          "2025-04-11T17:07:27.000000000",
          "2025-04-11T17:07:34.000000000",
          "2025-04-11T17:07:47.000000000",
          "2025-04-11T17:07:56.000000000",
          "2025-04-11T17:08:08.000000000",
          "2025-04-11T17:08:16.000000000",
          "2025-04-11T17:08:25.000000000",
          "2025-04-11T17:08:36.000000000",
          "2025-04-11T17:08:45.000000000",
          "2025-04-11T17:08:57.000000000",
          "2025-04-11T17:09:09.000000000"
         ],
         "xaxis": "x3",
         "y": [
          30,
          30,
          30,
          30,
          30,
          30,
          30,
          30,
          30,
          30,
          30,
          30,
          30,
          30,
          30,
          30,
          30,
          30
         ],
         "yaxis": "y3"
        },
        {
         "line": {
          "color": "blue"
         },
         "mode": "lines+markers",
         "name": "GOOGL RSI",
         "showlegend": true,
         "type": "scatter",
         "x": [
          "2025-04-11T17:06:14.000000000",
          "2025-04-11T17:06:24.000000000",
          "2025-04-11T17:06:37.000000000",
          "2025-04-11T17:06:45.000000000",
          "2025-04-11T17:06:52.000000000",
          "2025-04-11T17:07:06.000000000",
          "2025-04-11T17:07:15.000000000",
          "2025-04-11T17:07:26.000000000",
          "2025-04-11T17:07:35.000000000",
          "2025-04-11T17:07:47.000000000",
          "2025-04-11T17:07:56.000000000",
          "2025-04-11T17:08:08.000000000",
          "2025-04-11T17:08:16.000000000",
          "2025-04-11T17:08:25.000000000",
          "2025-04-11T17:08:37.000000000",
          "2025-04-11T17:08:45.000000000",
          "2025-04-11T17:08:57.000000000",
          "2025-04-11T17:09:09.000000000"
         ],
         "xaxis": "x4",
         "y": {
          "bdata": "AAAAAAAAAAAAAAAAAAAAAAAAAAAAAAAAAAAAAAAAAAAAAAAAAAAAAAAAAAAAAFlAAAAAAAAAWUAAAAAAAABZQAAAAAAAAFlAAAAAAAAAWUAAAAAAAABZQAAAAAAAAAAAAAAAAAAAAAAAAAAAAAAAAAAAAAAAAAAAAAAAAAAAAAAAAAAAAAAAAAAAAAAAAAAA",
          "dtype": "f8"
         },
         "yaxis": "y4"
        },
        {
         "line": {
          "color": "red",
          "dash": "dash"
         },
         "mode": "lines",
         "name": "RSI 70 (Overbought)",
         "showlegend": false,
         "type": "scatter",
         "x": [
          "2025-04-11T17:06:14.000000000",
          "2025-04-11T17:06:24.000000000",
          "2025-04-11T17:06:37.000000000",
          "2025-04-11T17:06:45.000000000",
          "2025-04-11T17:06:52.000000000",
          "2025-04-11T17:07:06.000000000",
          "2025-04-11T17:07:15.000000000",
          "2025-04-11T17:07:26.000000000",
          "2025-04-11T17:07:35.000000000",
          "2025-04-11T17:07:47.000000000",
          "2025-04-11T17:07:56.000000000",
          "2025-04-11T17:08:08.000000000",
          "2025-04-11T17:08:16.000000000",
          "2025-04-11T17:08:25.000000000",
          "2025-04-11T17:08:37.000000000",
          "2025-04-11T17:08:45.000000000",
          "2025-04-11T17:08:57.000000000",
          "2025-04-11T17:09:09.000000000"
         ],
         "xaxis": "x4",
         "y": [
          70,
          70,
          70,
          70,
          70,
          70,
          70,
          70,
          70,
          70,
          70,
          70,
          70,
          70,
          70,
          70,
          70,
          70
         ],
         "yaxis": "y4"
        },
        {
         "line": {
          "color": "green",
          "dash": "dash"
         },
         "mode": "lines",
         "name": "RSI 30 (Oversold)",
         "showlegend": false,
         "type": "scatter",
         "x": [
          "2025-04-11T17:06:14.000000000",
          "2025-04-11T17:06:24.000000000",
          "2025-04-11T17:06:37.000000000",
          "2025-04-11T17:06:45.000000000",
          "2025-04-11T17:06:52.000000000",
          "2025-04-11T17:07:06.000000000",
          "2025-04-11T17:07:15.000000000",
          "2025-04-11T17:07:26.000000000",
          "2025-04-11T17:07:35.000000000",
          "2025-04-11T17:07:47.000000000",
          "2025-04-11T17:07:56.000000000",
          "2025-04-11T17:08:08.000000000",
          "2025-04-11T17:08:16.000000000",
          "2025-04-11T17:08:25.000000000",
          "2025-04-11T17:08:37.000000000",
          "2025-04-11T17:08:45.000000000",
          "2025-04-11T17:08:57.000000000",
          "2025-04-11T17:09:09.000000000"
         ],
         "xaxis": "x4",
         "y": [
          30,
          30,
          30,
          30,
          30,
          30,
          30,
          30,
          30,
          30,
          30,
          30,
          30,
          30,
          30,
          30,
          30,
          30
         ],
         "yaxis": "y4"
        },
        {
         "line": {
          "color": "blue"
         },
         "mode": "lines+markers",
         "name": "META RSI",
         "showlegend": true,
         "type": "scatter",
         "x": [
          "2025-04-11T17:06:15.000000000",
          "2025-04-11T17:06:23.000000000",
          "2025-04-11T17:06:35.000000000",
          "2025-04-11T17:06:41.000000000",
          "2025-04-11T17:06:53.000000000",
          "2025-04-11T17:07:06.000000000",
          "2025-04-11T17:07:15.000000000",
          "2025-04-11T17:07:27.000000000",
          "2025-04-11T17:07:33.000000000",
          "2025-04-11T17:07:47.000000000",
          "2025-04-11T17:07:54.000000000",
          "2025-04-11T17:08:08.000000000",
          "2025-04-11T17:08:15.000000000",
          "2025-04-11T17:08:24.000000000",
          "2025-04-11T17:08:36.000000000",
          "2025-04-11T17:08:45.000000000",
          "2025-04-11T17:08:56.000000000",
          "2025-04-11T17:09:09.000000000"
         ],
         "xaxis": "x5",
         "y": {
          "bdata": "AAAAAAAAAAAAAAAAAAAAAAAAAAAAAAAAAAAAAAAAAAAAAAAAAAAAAAAAAAAAAFlAAAAAAAAAWUAAAAAAAABZQAAAAAAAAFlAAAAAAAAAWUAAAAAAAABZQAAAAAAAAAAAAAAAAAAAAAAAAAAAAAAAAAAAAAAAAAAAAAAAAAAAAAAAAAAAAAAAAAAAAAAAAAAA",
          "dtype": "f8"
         },
         "yaxis": "y5"
        },
        {
         "line": {
          "color": "red",
          "dash": "dash"
         },
         "mode": "lines",
         "name": "RSI 70 (Overbought)",
         "showlegend": false,
         "type": "scatter",
         "x": [
          "2025-04-11T17:06:15.000000000",
          "2025-04-11T17:06:23.000000000",
          "2025-04-11T17:06:35.000000000",
          "2025-04-11T17:06:41.000000000",
          "2025-04-11T17:06:53.000000000",
          "2025-04-11T17:07:06.000000000",
          "2025-04-11T17:07:15.000000000",
          "2025-04-11T17:07:27.000000000",
          "2025-04-11T17:07:33.000000000",
          "2025-04-11T17:07:47.000000000",
          "2025-04-11T17:07:54.000000000",
          "2025-04-11T17:08:08.000000000",
          "2025-04-11T17:08:15.000000000",
          "2025-04-11T17:08:24.000000000",
          "2025-04-11T17:08:36.000000000",
          "2025-04-11T17:08:45.000000000",
          "2025-04-11T17:08:56.000000000",
          "2025-04-11T17:09:09.000000000"
         ],
         "xaxis": "x5",
         "y": [
          70,
          70,
          70,
          70,
          70,
          70,
          70,
          70,
          70,
          70,
          70,
          70,
          70,
          70,
          70,
          70,
          70,
          70
         ],
         "yaxis": "y5"
        },
        {
         "line": {
          "color": "green",
          "dash": "dash"
         },
         "mode": "lines",
         "name": "RSI 30 (Oversold)",
         "showlegend": false,
         "type": "scatter",
         "x": [
          "2025-04-11T17:06:15.000000000",
          "2025-04-11T17:06:23.000000000",
          "2025-04-11T17:06:35.000000000",
          "2025-04-11T17:06:41.000000000",
          "2025-04-11T17:06:53.000000000",
          "2025-04-11T17:07:06.000000000",
          "2025-04-11T17:07:15.000000000",
          "2025-04-11T17:07:27.000000000",
          "2025-04-11T17:07:33.000000000",
          "2025-04-11T17:07:47.000000000",
          "2025-04-11T17:07:54.000000000",
          "2025-04-11T17:08:08.000000000",
          "2025-04-11T17:08:15.000000000",
          "2025-04-11T17:08:24.000000000",
          "2025-04-11T17:08:36.000000000",
          "2025-04-11T17:08:45.000000000",
          "2025-04-11T17:08:56.000000000",
          "2025-04-11T17:09:09.000000000"
         ],
         "xaxis": "x5",
         "y": [
          30,
          30,
          30,
          30,
          30,
          30,
          30,
          30,
          30,
          30,
          30,
          30,
          30,
          30,
          30,
          30,
          30,
          30
         ],
         "yaxis": "y5"
        },
        {
         "line": {
          "color": "blue"
         },
         "mode": "lines+markers",
         "name": "TSLA RSI",
         "showlegend": true,
         "type": "scatter",
         "x": [
          "2025-04-11T17:06:15.000000000",
          "2025-04-11T17:06:24.000000000",
          "2025-04-11T17:06:37.000000000",
          "2025-04-11T17:06:45.000000000",
          "2025-04-11T17:06:53.000000000",
          "2025-04-11T17:07:07.000000000",
          "2025-04-11T17:07:15.000000000",
          "2025-04-11T17:07:27.000000000",
          "2025-04-11T17:07:35.000000000",
          "2025-04-11T17:07:47.000000000",
          "2025-04-11T17:07:56.000000000",
          "2025-04-11T17:08:08.000000000",
          "2025-04-11T17:08:16.000000000",
          "2025-04-11T17:08:25.000000000",
          "2025-04-11T17:08:37.000000000",
          "2025-04-11T17:08:49.000000000",
          "2025-04-11T17:08:57.000000000",
          "2025-04-11T17:09:09.000000000"
         ],
         "xaxis": "x6",
         "y": {
          "bdata": "AAAAAAAAAAAAAAAAAAAAAAAAAAAAAAAAAAAAAAAAAAAAAAAAAAAAAAAAAAAAAFlAAAAAAAAAWUAAAAAAAABZQAAAAAAAAFlAAAAAAAAAWUAAAAAAAABZQAAAAAAAAAAAAAAAAAAAAAAAAAAAAAAAAAAAAAAAAAAAAAAAAAAAAAAAAAAAAAAAAAAAAAAAAAAA",
          "dtype": "f8"
         },
         "yaxis": "y6"
        },
        {
         "line": {
          "color": "red",
          "dash": "dash"
         },
         "mode": "lines",
         "name": "RSI 70 (Overbought)",
         "showlegend": false,
         "type": "scatter",
         "x": [
          "2025-04-11T17:06:15.000000000",
          "2025-04-11T17:06:24.000000000",
          "2025-04-11T17:06:37.000000000",
          "2025-04-11T17:06:45.000000000",
          "2025-04-11T17:06:53.000000000",
          "2025-04-11T17:07:07.000000000",
          "2025-04-11T17:07:15.000000000",
          "2025-04-11T17:07:27.000000000",
          "2025-04-11T17:07:35.000000000",
          "2025-04-11T17:07:47.000000000",
          "2025-04-11T17:07:56.000000000",
          "2025-04-11T17:08:08.000000000",
          "2025-04-11T17:08:16.000000000",
          "2025-04-11T17:08:25.000000000",
          "2025-04-11T17:08:37.000000000",
          "2025-04-11T17:08:49.000000000",
          "2025-04-11T17:08:57.000000000",
          "2025-04-11T17:09:09.000000000"
         ],
         "xaxis": "x6",
         "y": [
          70,
          70,
          70,
          70,
          70,
          70,
          70,
          70,
          70,
          70,
          70,
          70,
          70,
          70,
          70,
          70,
          70,
          70
         ],
         "yaxis": "y6"
        },
        {
         "line": {
          "color": "green",
          "dash": "dash"
         },
         "mode": "lines",
         "name": "RSI 30 (Oversold)",
         "showlegend": false,
         "type": "scatter",
         "x": [
          "2025-04-11T17:06:15.000000000",
          "2025-04-11T17:06:24.000000000",
          "2025-04-11T17:06:37.000000000",
          "2025-04-11T17:06:45.000000000",
          "2025-04-11T17:06:53.000000000",
          "2025-04-11T17:07:07.000000000",
          "2025-04-11T17:07:15.000000000",
          "2025-04-11T17:07:27.000000000",
          "2025-04-11T17:07:35.000000000",
          "2025-04-11T17:07:47.000000000",
          "2025-04-11T17:07:56.000000000",
          "2025-04-11T17:08:08.000000000",
          "2025-04-11T17:08:16.000000000",
          "2025-04-11T17:08:25.000000000",
          "2025-04-11T17:08:37.000000000",
          "2025-04-11T17:08:49.000000000",
          "2025-04-11T17:08:57.000000000",
          "2025-04-11T17:09:09.000000000"
         ],
         "xaxis": "x6",
         "y": [
          30,
          30,
          30,
          30,
          30,
          30,
          30,
          30,
          30,
          30,
          30,
          30,
          30,
          30,
          30,
          30,
          30,
          30
         ],
         "yaxis": "y6"
        },
        {
         "line": {
          "color": "blue"
         },
         "mode": "lines+markers",
         "name": "NVDA RSI",
         "showlegend": true,
         "type": "scatter",
         "x": [
          "2025-04-11T17:06:15.000000000",
          "2025-04-11T17:06:24.000000000",
          "2025-04-11T17:06:37.000000000",
          "2025-04-11T17:06:45.000000000",
          "2025-04-11T17:06:53.000000000",
          "2025-04-11T17:07:07.000000000",
          "2025-04-11T17:07:15.000000000",
          "2025-04-11T17:07:27.000000000",
          "2025-04-11T17:07:35.000000000",
          "2025-04-11T17:07:47.000000000",
          "2025-04-11T17:07:55.000000000",
          "2025-04-11T17:08:08.000000000",
          "2025-04-11T17:08:16.000000000",
          "2025-04-11T17:08:25.000000000",
          "2025-04-11T17:08:37.000000000",
          "2025-04-11T17:08:49.000000000",
          "2025-04-11T17:08:57.000000000",
          "2025-04-11T17:09:09.000000000"
         ],
         "xaxis": "x7",
         "y": {
          "bdata": "AAAAAAAAAAAAAAAAAAAAAAAAAAAAAAAAAAAAAAAAAAAAAAAAAAAAAAAAAAAAAFlAAAAAAAAAWUAAAAAAAABZQAAAAAAAAFlAAAAAAAAAWUAAAAAAAABZQAAAAAAAAAAAAAAAAAAAAAAAAAAAAAAAAAAAAAAAAAAAAAAAAAAAAAAAAAAAAAAAAAAAAAAAAAAA",
          "dtype": "f8"
         },
         "yaxis": "y7"
        },
        {
         "line": {
          "color": "red",
          "dash": "dash"
         },
         "mode": "lines",
         "name": "RSI 70 (Overbought)",
         "showlegend": false,
         "type": "scatter",
         "x": [
          "2025-04-11T17:06:15.000000000",
          "2025-04-11T17:06:24.000000000",
          "2025-04-11T17:06:37.000000000",
          "2025-04-11T17:06:45.000000000",
          "2025-04-11T17:06:53.000000000",
          "2025-04-11T17:07:07.000000000",
          "2025-04-11T17:07:15.000000000",
          "2025-04-11T17:07:27.000000000",
          "2025-04-11T17:07:35.000000000",
          "2025-04-11T17:07:47.000000000",
          "2025-04-11T17:07:55.000000000",
          "2025-04-11T17:08:08.000000000",
          "2025-04-11T17:08:16.000000000",
          "2025-04-11T17:08:25.000000000",
          "2025-04-11T17:08:37.000000000",
          "2025-04-11T17:08:49.000000000",
          "2025-04-11T17:08:57.000000000",
          "2025-04-11T17:09:09.000000000"
         ],
         "xaxis": "x7",
         "y": [
          70,
          70,
          70,
          70,
          70,
          70,
          70,
          70,
          70,
          70,
          70,
          70,
          70,
          70,
          70,
          70,
          70,
          70
         ],
         "yaxis": "y7"
        },
        {
         "line": {
          "color": "green",
          "dash": "dash"
         },
         "mode": "lines",
         "name": "RSI 30 (Oversold)",
         "showlegend": false,
         "type": "scatter",
         "x": [
          "2025-04-11T17:06:15.000000000",
          "2025-04-11T17:06:24.000000000",
          "2025-04-11T17:06:37.000000000",
          "2025-04-11T17:06:45.000000000",
          "2025-04-11T17:06:53.000000000",
          "2025-04-11T17:07:07.000000000",
          "2025-04-11T17:07:15.000000000",
          "2025-04-11T17:07:27.000000000",
          "2025-04-11T17:07:35.000000000",
          "2025-04-11T17:07:47.000000000",
          "2025-04-11T17:07:55.000000000",
          "2025-04-11T17:08:08.000000000",
          "2025-04-11T17:08:16.000000000",
          "2025-04-11T17:08:25.000000000",
          "2025-04-11T17:08:37.000000000",
          "2025-04-11T17:08:49.000000000",
          "2025-04-11T17:08:57.000000000",
          "2025-04-11T17:09:09.000000000"
         ],
         "xaxis": "x7",
         "y": [
          30,
          30,
          30,
          30,
          30,
          30,
          30,
          30,
          30,
          30,
          30,
          30,
          30,
          30,
          30,
          30,
          30,
          30
         ],
         "yaxis": "y7"
        }
       ],
       "layout": {
        "annotations": [
         {
          "font": {
           "size": 16
          },
          "showarrow": false,
          "text": "AAPL - RSI Over Time",
          "x": 0.14444444444444446,
          "xanchor": "center",
          "xref": "paper",
          "y": 1,
          "yanchor": "bottom",
          "yref": "paper"
         },
         {
          "font": {
           "size": 16
          },
          "showarrow": false,
          "text": "MSFT - RSI Over Time",
          "x": 0.5,
          "xanchor": "center",
          "xref": "paper",
          "y": 1,
          "yanchor": "bottom",
          "yref": "paper"
         },
         {
          "font": {
           "size": 16
          },
          "showarrow": false,
          "text": "AMZN - RSI Over Time",
          "x": 0.8555555555555556,
          "xanchor": "center",
          "xref": "paper",
          "y": 1,
          "yanchor": "bottom",
          "yref": "paper"
         },
         {
          "font": {
           "size": 16
          },
          "showarrow": false,
          "text": "GOOGL - RSI Over Time",
          "x": 0.14444444444444446,
          "xanchor": "center",
          "xref": "paper",
          "y": 0.6111111111111112,
          "yanchor": "bottom",
          "yref": "paper"
         },
         {
          "font": {
           "size": 16
          },
          "showarrow": false,
          "text": "META - RSI Over Time",
          "x": 0.5,
          "xanchor": "center",
          "xref": "paper",
          "y": 0.6111111111111112,
          "yanchor": "bottom",
          "yref": "paper"
         },
         {
          "font": {
           "size": 16
          },
          "showarrow": false,
          "text": "TSLA - RSI Over Time",
          "x": 0.8555555555555556,
          "xanchor": "center",
          "xref": "paper",
          "y": 0.6111111111111112,
          "yanchor": "bottom",
          "yref": "paper"
         },
         {
          "font": {
           "size": 16
          },
          "showarrow": false,
          "text": "NVDA - RSI Over Time",
          "x": 0.14444444444444446,
          "xanchor": "center",
          "xref": "paper",
          "y": 0.22222222222222224,
          "yanchor": "bottom",
          "yref": "paper"
         }
        ],
        "height": 1000,
        "template": {
         "data": {
          "bar": [
           {
            "error_x": {
             "color": "#2a3f5f"
            },
            "error_y": {
             "color": "#2a3f5f"
            },
            "marker": {
             "line": {
              "color": "#E5ECF6",
              "width": 0.5
             },
             "pattern": {
              "fillmode": "overlay",
              "size": 10,
              "solidity": 0.2
             }
            },
            "type": "bar"
           }
          ],
          "barpolar": [
           {
            "marker": {
             "line": {
              "color": "#E5ECF6",
              "width": 0.5
             },
             "pattern": {
              "fillmode": "overlay",
              "size": 10,
              "solidity": 0.2
             }
            },
            "type": "barpolar"
           }
          ],
          "carpet": [
           {
            "aaxis": {
             "endlinecolor": "#2a3f5f",
             "gridcolor": "white",
             "linecolor": "white",
             "minorgridcolor": "white",
             "startlinecolor": "#2a3f5f"
            },
            "baxis": {
             "endlinecolor": "#2a3f5f",
             "gridcolor": "white",
             "linecolor": "white",
             "minorgridcolor": "white",
             "startlinecolor": "#2a3f5f"
            },
            "type": "carpet"
           }
          ],
          "choropleth": [
           {
            "colorbar": {
             "outlinewidth": 0,
             "ticks": ""
            },
            "type": "choropleth"
           }
          ],
          "contour": [
           {
            "colorbar": {
             "outlinewidth": 0,
             "ticks": ""
            },
            "colorscale": [
             [
              0,
              "#0d0887"
             ],
             [
              0.1111111111111111,
              "#46039f"
             ],
             [
              0.2222222222222222,
              "#7201a8"
             ],
             [
              0.3333333333333333,
              "#9c179e"
             ],
             [
              0.4444444444444444,
              "#bd3786"
             ],
             [
              0.5555555555555556,
              "#d8576b"
             ],
             [
              0.6666666666666666,
              "#ed7953"
             ],
             [
              0.7777777777777778,
              "#fb9f3a"
             ],
             [
              0.8888888888888888,
              "#fdca26"
             ],
             [
              1,
              "#f0f921"
             ]
            ],
            "type": "contour"
           }
          ],
          "contourcarpet": [
           {
            "colorbar": {
             "outlinewidth": 0,
             "ticks": ""
            },
            "type": "contourcarpet"
           }
          ],
          "heatmap": [
           {
            "colorbar": {
             "outlinewidth": 0,
             "ticks": ""
            },
            "colorscale": [
             [
              0,
              "#0d0887"
             ],
             [
              0.1111111111111111,
              "#46039f"
             ],
             [
              0.2222222222222222,
              "#7201a8"
             ],
             [
              0.3333333333333333,
              "#9c179e"
             ],
             [
              0.4444444444444444,
              "#bd3786"
             ],
             [
              0.5555555555555556,
              "#d8576b"
             ],
             [
              0.6666666666666666,
              "#ed7953"
             ],
             [
              0.7777777777777778,
              "#fb9f3a"
             ],
             [
              0.8888888888888888,
              "#fdca26"
             ],
             [
              1,
              "#f0f921"
             ]
            ],
            "type": "heatmap"
           }
          ],
          "histogram": [
           {
            "marker": {
             "pattern": {
              "fillmode": "overlay",
              "size": 10,
              "solidity": 0.2
             }
            },
            "type": "histogram"
           }
          ],
          "histogram2d": [
           {
            "colorbar": {
             "outlinewidth": 0,
             "ticks": ""
            },
            "colorscale": [
             [
              0,
              "#0d0887"
             ],
             [
              0.1111111111111111,
              "#46039f"
             ],
             [
              0.2222222222222222,
              "#7201a8"
             ],
             [
              0.3333333333333333,
              "#9c179e"
             ],
             [
              0.4444444444444444,
              "#bd3786"
             ],
             [
              0.5555555555555556,
              "#d8576b"
             ],
             [
              0.6666666666666666,
              "#ed7953"
             ],
             [
              0.7777777777777778,
              "#fb9f3a"
             ],
             [
              0.8888888888888888,
              "#fdca26"
             ],
             [
              1,
              "#f0f921"
             ]
            ],
            "type": "histogram2d"
           }
          ],
          "histogram2dcontour": [
           {
            "colorbar": {
             "outlinewidth": 0,
             "ticks": ""
            },
            "colorscale": [
             [
              0,
              "#0d0887"
             ],
             [
              0.1111111111111111,
              "#46039f"
             ],
             [
              0.2222222222222222,
              "#7201a8"
             ],
             [
              0.3333333333333333,
              "#9c179e"
             ],
             [
              0.4444444444444444,
              "#bd3786"
             ],
             [
              0.5555555555555556,
              "#d8576b"
             ],
             [
              0.6666666666666666,
              "#ed7953"
             ],
             [
              0.7777777777777778,
              "#fb9f3a"
             ],
             [
              0.8888888888888888,
              "#fdca26"
             ],
             [
              1,
              "#f0f921"
             ]
            ],
            "type": "histogram2dcontour"
           }
          ],
          "mesh3d": [
           {
            "colorbar": {
             "outlinewidth": 0,
             "ticks": ""
            },
            "type": "mesh3d"
           }
          ],
          "parcoords": [
           {
            "line": {
             "colorbar": {
              "outlinewidth": 0,
              "ticks": ""
             }
            },
            "type": "parcoords"
           }
          ],
          "pie": [
           {
            "automargin": true,
            "type": "pie"
           }
          ],
          "scatter": [
           {
            "fillpattern": {
             "fillmode": "overlay",
             "size": 10,
             "solidity": 0.2
            },
            "type": "scatter"
           }
          ],
          "scatter3d": [
           {
            "line": {
             "colorbar": {
              "outlinewidth": 0,
              "ticks": ""
             }
            },
            "marker": {
             "colorbar": {
              "outlinewidth": 0,
              "ticks": ""
             }
            },
            "type": "scatter3d"
           }
          ],
          "scattercarpet": [
           {
            "marker": {
             "colorbar": {
              "outlinewidth": 0,
              "ticks": ""
             }
            },
            "type": "scattercarpet"
           }
          ],
          "scattergeo": [
           {
            "marker": {
             "colorbar": {
              "outlinewidth": 0,
              "ticks": ""
             }
            },
            "type": "scattergeo"
           }
          ],
          "scattergl": [
           {
            "marker": {
             "colorbar": {
              "outlinewidth": 0,
              "ticks": ""
             }
            },
            "type": "scattergl"
           }
          ],
          "scattermap": [
           {
            "marker": {
             "colorbar": {
              "outlinewidth": 0,
              "ticks": ""
             }
            },
            "type": "scattermap"
           }
          ],
          "scattermapbox": [
           {
            "marker": {
             "colorbar": {
              "outlinewidth": 0,
              "ticks": ""
             }
            },
            "type": "scattermapbox"
           }
          ],
          "scatterpolar": [
           {
            "marker": {
             "colorbar": {
              "outlinewidth": 0,
              "ticks": ""
             }
            },
            "type": "scatterpolar"
           }
          ],
          "scatterpolargl": [
           {
            "marker": {
             "colorbar": {
              "outlinewidth": 0,
              "ticks": ""
             }
            },
            "type": "scatterpolargl"
           }
          ],
          "scatterternary": [
           {
            "marker": {
             "colorbar": {
              "outlinewidth": 0,
              "ticks": ""
             }
            },
            "type": "scatterternary"
           }
          ],
          "surface": [
           {
            "colorbar": {
             "outlinewidth": 0,
             "ticks": ""
            },
            "colorscale": [
             [
              0,
              "#0d0887"
             ],
             [
              0.1111111111111111,
              "#46039f"
             ],
             [
              0.2222222222222222,
              "#7201a8"
             ],
             [
              0.3333333333333333,
              "#9c179e"
             ],
             [
              0.4444444444444444,
              "#bd3786"
             ],
             [
              0.5555555555555556,
              "#d8576b"
             ],
             [
              0.6666666666666666,
              "#ed7953"
             ],
             [
              0.7777777777777778,
              "#fb9f3a"
             ],
             [
              0.8888888888888888,
              "#fdca26"
             ],
             [
              1,
              "#f0f921"
             ]
            ],
            "type": "surface"
           }
          ],
          "table": [
           {
            "cells": {
             "fill": {
              "color": "#EBF0F8"
             },
             "line": {
              "color": "white"
             }
            },
            "header": {
             "fill": {
              "color": "#C8D4E3"
             },
             "line": {
              "color": "white"
             }
            },
            "type": "table"
           }
          ]
         },
         "layout": {
          "annotationdefaults": {
           "arrowcolor": "#2a3f5f",
           "arrowhead": 0,
           "arrowwidth": 1
          },
          "autotypenumbers": "strict",
          "coloraxis": {
           "colorbar": {
            "outlinewidth": 0,
            "ticks": ""
           }
          },
          "colorscale": {
           "diverging": [
            [
             0,
             "#8e0152"
            ],
            [
             0.1,
             "#c51b7d"
            ],
            [
             0.2,
             "#de77ae"
            ],
            [
             0.3,
             "#f1b6da"
            ],
            [
             0.4,
             "#fde0ef"
            ],
            [
             0.5,
             "#f7f7f7"
            ],
            [
             0.6,
             "#e6f5d0"
            ],
            [
             0.7,
             "#b8e186"
            ],
            [
             0.8,
             "#7fbc41"
            ],
            [
             0.9,
             "#4d9221"
            ],
            [
             1,
             "#276419"
            ]
           ],
           "sequential": [
            [
             0,
             "#0d0887"
            ],
            [
             0.1111111111111111,
             "#46039f"
            ],
            [
             0.2222222222222222,
             "#7201a8"
            ],
            [
             0.3333333333333333,
             "#9c179e"
            ],
            [
             0.4444444444444444,
             "#bd3786"
            ],
            [
             0.5555555555555556,
             "#d8576b"
            ],
            [
             0.6666666666666666,
             "#ed7953"
            ],
            [
             0.7777777777777778,
             "#fb9f3a"
            ],
            [
             0.8888888888888888,
             "#fdca26"
            ],
            [
             1,
             "#f0f921"
            ]
           ],
           "sequentialminus": [
            [
             0,
             "#0d0887"
            ],
            [
             0.1111111111111111,
             "#46039f"
            ],
            [
             0.2222222222222222,
             "#7201a8"
            ],
            [
             0.3333333333333333,
             "#9c179e"
            ],
            [
             0.4444444444444444,
             "#bd3786"
            ],
            [
             0.5555555555555556,
             "#d8576b"
            ],
            [
             0.6666666666666666,
             "#ed7953"
            ],
            [
             0.7777777777777778,
             "#fb9f3a"
            ],
            [
             0.8888888888888888,
             "#fdca26"
            ],
            [
             1,
             "#f0f921"
            ]
           ]
          },
          "colorway": [
           "#636efa",
           "#EF553B",
           "#00cc96",
           "#ab63fa",
           "#FFA15A",
           "#19d3f3",
           "#FF6692",
           "#B6E880",
           "#FF97FF",
           "#FECB52"
          ],
          "font": {
           "color": "#2a3f5f"
          },
          "geo": {
           "bgcolor": "white",
           "lakecolor": "white",
           "landcolor": "#E5ECF6",
           "showlakes": true,
           "showland": true,
           "subunitcolor": "white"
          },
          "hoverlabel": {
           "align": "left"
          },
          "hovermode": "closest",
          "mapbox": {
           "style": "light"
          },
          "paper_bgcolor": "white",
          "plot_bgcolor": "#E5ECF6",
          "polar": {
           "angularaxis": {
            "gridcolor": "white",
            "linecolor": "white",
            "ticks": ""
           },
           "bgcolor": "#E5ECF6",
           "radialaxis": {
            "gridcolor": "white",
            "linecolor": "white",
            "ticks": ""
           }
          },
          "scene": {
           "xaxis": {
            "backgroundcolor": "#E5ECF6",
            "gridcolor": "white",
            "gridwidth": 2,
            "linecolor": "white",
            "showbackground": true,
            "ticks": "",
            "zerolinecolor": "white"
           },
           "yaxis": {
            "backgroundcolor": "#E5ECF6",
            "gridcolor": "white",
            "gridwidth": 2,
            "linecolor": "white",
            "showbackground": true,
            "ticks": "",
            "zerolinecolor": "white"
           },
           "zaxis": {
            "backgroundcolor": "#E5ECF6",
            "gridcolor": "white",
            "gridwidth": 2,
            "linecolor": "white",
            "showbackground": true,
            "ticks": "",
            "zerolinecolor": "white"
           }
          },
          "shapedefaults": {
           "line": {
            "color": "#2a3f5f"
           }
          },
          "ternary": {
           "aaxis": {
            "gridcolor": "white",
            "linecolor": "white",
            "ticks": ""
           },
           "baxis": {
            "gridcolor": "white",
            "linecolor": "white",
            "ticks": ""
           },
           "bgcolor": "#E5ECF6",
           "caxis": {
            "gridcolor": "white",
            "linecolor": "white",
            "ticks": ""
           }
          },
          "title": {
           "x": 0.05
          },
          "xaxis": {
           "automargin": true,
           "gridcolor": "white",
           "linecolor": "white",
           "ticks": "",
           "title": {
            "standoff": 15
           },
           "zerolinecolor": "white",
           "zerolinewidth": 2
          },
          "yaxis": {
           "automargin": true,
           "gridcolor": "white",
           "linecolor": "white",
           "ticks": "",
           "title": {
            "standoff": 15
           },
           "zerolinecolor": "white",
           "zerolinewidth": 2
          }
         }
        },
        "title": {
         "text": "RSI Over Time (Real-Time Data)"
        },
        "width": 1100,
        "xaxis": {
         "anchor": "y",
         "domain": [
          0,
          0.2888888888888889
         ]
        },
        "xaxis2": {
         "anchor": "y2",
         "domain": [
          0.35555555555555557,
          0.6444444444444445
         ]
        },
        "xaxis3": {
         "anchor": "y3",
         "domain": [
          0.7111111111111111,
          1
         ]
        },
        "xaxis4": {
         "anchor": "y4",
         "domain": [
          0,
          0.2888888888888889
         ]
        },
        "xaxis5": {
         "anchor": "y5",
         "domain": [
          0.35555555555555557,
          0.6444444444444445
         ]
        },
        "xaxis6": {
         "anchor": "y6",
         "domain": [
          0.7111111111111111,
          1
         ]
        },
        "xaxis7": {
         "anchor": "y7",
         "domain": [
          0,
          0.2888888888888889
         ]
        },
        "xaxis8": {
         "anchor": "y8",
         "domain": [
          0.35555555555555557,
          0.6444444444444445
         ]
        },
        "xaxis9": {
         "anchor": "y9",
         "domain": [
          0.7111111111111111,
          1
         ]
        },
        "yaxis": {
         "anchor": "x",
         "domain": [
          0.7777777777777778,
          1
         ]
        },
        "yaxis2": {
         "anchor": "x2",
         "domain": [
          0.7777777777777778,
          1
         ]
        },
        "yaxis3": {
         "anchor": "x3",
         "domain": [
          0.7777777777777778,
          1
         ]
        },
        "yaxis4": {
         "anchor": "x4",
         "domain": [
          0.3888888888888889,
          0.6111111111111112
         ]
        },
        "yaxis5": {
         "anchor": "x5",
         "domain": [
          0.3888888888888889,
          0.6111111111111112
         ]
        },
        "yaxis6": {
         "anchor": "x6",
         "domain": [
          0.3888888888888889,
          0.6111111111111112
         ]
        },
        "yaxis7": {
         "anchor": "x7",
         "domain": [
          0,
          0.22222222222222224
         ]
        },
        "yaxis8": {
         "anchor": "x8",
         "domain": [
          0,
          0.22222222222222224
         ]
        },
        "yaxis9": {
         "anchor": "x9",
         "domain": [
          0,
          0.22222222222222224
         ]
        }
       }
      }
     },
     "metadata": {},
     "output_type": "display_data"
    }
   ],
   "source": [
    "\n",
    "#adding tickers, subplot dimensions and calling the other tickers\n",
    "tickers = ['AAPL', 'MSFT', 'AMZN', 'GOOGL', 'META', 'TSLA', 'NVDA']\n",
    "rows, cols = 3, 3\n",
    "fig = make_subplots(rows=rows, cols=cols, subplot_titles=[f\"{ticker} - RSI Over Time\" for ticker in tickers])\n",
    "\n",
    "# looping and adding our lines for traces\n",
    "for i, ticker in enumerate(tickers):\n",
    "    row = i // cols + 1\n",
    "    col = i % cols + 1\n",
    "    group = df_cass_final[df_cass_final['ticker'] == ticker]\n",
    "\n",
    "    # RSI value trace line\n",
    "    fig.add_trace(go.Scatter(x=group['date'],y=group['RSI_5'],mode='lines+markers',name=f\"{ticker} RSI\",line=dict(color='blue'),showlegend=True),row=row, col=col)\n",
    "\n",
    "    # adding the overbought and oversold to the first subplot only so it shows up in the legend, didnt appear error otherwise\n",
    "    show_legend = (i == 0)\n",
    "\n",
    "    # RSI when overbought\n",
    "    fig.add_trace(go.Scatter(x=group['date'],y=[70]*len(group),mode='lines',line=dict(color='red', dash='dash'),name='RSI 70 (Overbought)',showlegend=show_legend),\n",
    "        row=row, col=col)\n",
    "\n",
    "    # RSI when oversold\n",
    "    fig.add_trace(\n",
    "        go.Scatter(x=group['date'], y=[30]*len(group),mode='lines',line=dict(color='green', dash='dash'),name='RSI 30 (Oversold)',showlegend=show_legend),\n",
    "        row=row, col=col)\n",
    "\n",
    "# title, adding hxw\n",
    "fig.update_layout(height=1000,width=1100,title_text=\"RSI Over Time (Real-Time Data)\")\n",
    "fig.show()\n"
   ]
  },
  {
   "cell_type": "markdown",
   "metadata": {},
   "source": [
    "### The above graph shows the RSI index for all 7 companies based on increments over 3 minutes. Since we are operating in a scope of 3 minutes, the RSI does not have the most data so it's increasing and decreasing very sharply. Typically it is better suited for historical data. We can hover over the dots in the blue line to see each time stamp. The red line signifies the threshold of overbought stocks and the green line signifies oversold threshold. \n",
    "\n",
    "### If there is a period of 100 RSI that would mean that all the price changes recently were gains (no losses were reported). However, if it drops suddenly to 0, it would mean that the RSI calculation flipped due to its sensitivity to price drops (3-minute limit). This price drop to 0 relays the idea of all losses (no gains were reported). Side Note: There is a jump after 5 dots (data points) because RSI_5 take atleast 5 values before they are able to calculate their rolling average. "
   ]
  },
  {
   "cell_type": "code",
   "execution_count": 93,
   "metadata": {},
   "outputs": [
    {
     "name": "stderr",
     "output_type": "stream",
     "text": [
      "/var/folders/94/_l0wmbt11w71fxhk3zvh0t580000gn/T/ipykernel_1553/1009826423.py:6: DeprecationWarning:\n",
      "\n",
      "DataFrameGroupBy.apply operated on the grouping columns. This behavior is deprecated, and in a future version of pandas the grouping columns will be excluded from the operation. Either pass `include_groups=False` to exclude the groupings or explicitly select the grouping columns after groupby to silence this warning.\n",
      "\n"
     ]
    },
    {
     "data": {
      "application/vnd.plotly.v1+json": {
       "config": {
        "plotlyServerURL": "https://plot.ly"
       },
       "data": [
        {
         "fillpattern": {
          "shape": ""
         },
         "hovertemplate": "ticker=AAPL<br>date=%{x}<br>ATR_5=%{y}<extra></extra>",
         "legendgroup": "AAPL",
         "line": {
          "color": "#636efa"
         },
         "marker": {
          "symbol": "circle"
         },
         "mode": "lines+markers",
         "name": "AAPL",
         "orientation": "v",
         "showlegend": true,
         "stackgroup": "1",
         "type": "scatter",
         "x": [
          "2025-04-11T17:07:56.000000000",
          "2025-04-11T17:08:08.000000000",
          "2025-04-11T17:08:16.000000000",
          "2025-04-11T17:08:25.000000000",
          "2025-04-11T17:08:37.000000000",
          "2025-04-11T17:08:45.000000000",
          "2025-04-11T17:08:57.000000000",
          "2025-04-11T17:09:09.000000000"
         ],
         "xaxis": "x",
         "y": {
          "bdata": "EK5H4XqUKkAQrkfhepQqQBCuR+F6lCpAEK5H4XqUKkAQrkfhepQqQBCuR+F6lCpAEK5H4XqUKkAQrkfhepQqQA==",
          "dtype": "f8"
         },
         "yaxis": "y"
        },
        {
         "fillpattern": {
          "shape": ""
         },
         "hovertemplate": "ticker=AMZN<br>date=%{x}<br>ATR_5=%{y}<extra></extra>",
         "legendgroup": "AMZN",
         "line": {
          "color": "#EF553B"
         },
         "marker": {
          "symbol": "circle"
         },
         "mode": "lines+markers",
         "name": "AMZN",
         "orientation": "v",
         "showlegend": true,
         "stackgroup": "1",
         "type": "scatter",
         "x": [
          "2025-04-11T17:07:06.000000000",
          "2025-04-11T17:07:15.000000000",
          "2025-04-11T17:07:27.000000000",
          "2025-04-11T17:07:34.000000000",
          "2025-04-11T17:07:47.000000000",
          "2025-04-11T17:07:56.000000000",
          "2025-04-11T17:08:08.000000000",
          "2025-04-11T17:08:16.000000000",
          "2025-04-11T17:08:25.000000000",
          "2025-04-11T17:08:36.000000000",
          "2025-04-11T17:08:45.000000000",
          "2025-04-11T17:08:57.000000000",
          "2025-04-11T17:09:09.000000000"
         ],
         "xaxis": "x",
         "y": {
          "bdata": "IFyPwvUoGEAgXI/C9SgYQCBcj8L1KBhAIFyPwvUoGEAgXI/C9SgYQCBcj8L1KBhAIFyPwvUoGEAgXI/C9SgYQCBcj8L1KBhAIFyPwvUoGEAgXI/C9SgYQCBcj8L1KBhAIFyPwvUoGEA=",
          "dtype": "f8"
         },
         "yaxis": "y"
        },
        {
         "fillpattern": {
          "shape": ""
         },
         "hovertemplate": "ticker=GOOGL<br>date=%{x}<br>ATR_5=%{y}<extra></extra>",
         "legendgroup": "GOOGL",
         "line": {
          "color": "#00cc96"
         },
         "marker": {
          "symbol": "circle"
         },
         "mode": "lines+markers",
         "name": "GOOGL",
         "orientation": "v",
         "showlegend": true,
         "stackgroup": "1",
         "type": "scatter",
         "x": [
          "2025-04-11T17:07:06.000000000",
          "2025-04-11T17:07:15.000000000",
          "2025-04-11T17:07:26.000000000",
          "2025-04-11T17:07:35.000000000",
          "2025-04-11T17:07:47.000000000",
          "2025-04-11T17:07:56.000000000",
          "2025-04-11T17:08:08.000000000",
          "2025-04-11T17:08:16.000000000",
          "2025-04-11T17:08:25.000000000",
          "2025-04-11T17:08:37.000000000",
          "2025-04-11T17:08:45.000000000",
          "2025-04-11T17:08:57.000000000",
          "2025-04-11T17:09:09.000000000"
         ],
         "xaxis": "x",
         "y": {
          "bdata": "YLgehevREkBguB6F69ESQGC4HoXr0RJAYLgehevREkBguB6F69ESQGC4HoXr0RJAYLgehevREkBguB6F69ESQGC4HoXr0RJAYLgehevREkBguB6F69ESQGC4HoXr0RJAYLgehevREkA=",
          "dtype": "f8"
         },
         "yaxis": "y"
        },
        {
         "fillpattern": {
          "shape": ""
         },
         "hovertemplate": "ticker=META<br>date=%{x}<br>ATR_5=%{y}<extra></extra>",
         "legendgroup": "META",
         "line": {
          "color": "#ab63fa"
         },
         "marker": {
          "symbol": "circle"
         },
         "mode": "lines+markers",
         "name": "META",
         "orientation": "v",
         "showlegend": true,
         "stackgroup": "1",
         "type": "scatter",
         "x": [
          "2025-04-11T17:07:06.000000000",
          "2025-04-11T17:07:15.000000000",
          "2025-04-11T17:07:27.000000000",
          "2025-04-11T17:07:33.000000000",
          "2025-04-11T17:07:47.000000000",
          "2025-04-11T17:07:54.000000000",
          "2025-04-11T17:08:08.000000000",
          "2025-04-11T17:08:15.000000000",
          "2025-04-11T17:08:24.000000000",
          "2025-04-11T17:08:36.000000000",
          "2025-04-11T17:08:45.000000000",
          "2025-04-11T17:08:56.000000000",
          "2025-04-11T17:09:09.000000000"
         ],
         "xaxis": "x",
         "y": {
          "bdata": "IG6jAbz1NkAgbqMBvPU2QCBuowG89TZAIG6jAbz1NkAgbqMBvPU2QCBuowG89TZAIG6jAbz1NkAgbqMBvPU2QCBuowG89TZAIG6jAbz1NkAgbqMBvPU2QCBuowG89TZAIG6jAbz1NkA=",
          "dtype": "f8"
         },
         "yaxis": "y"
        },
        {
         "fillpattern": {
          "shape": ""
         },
         "hovertemplate": "ticker=MSFT<br>date=%{x}<br>ATR_5=%{y}<extra></extra>",
         "legendgroup": "MSFT",
         "line": {
          "color": "#FFA15A"
         },
         "marker": {
          "symbol": "circle"
         },
         "mode": "lines+markers",
         "name": "MSFT",
         "orientation": "v",
         "showlegend": true,
         "stackgroup": "1",
         "type": "scatter",
         "x": [
          "2025-04-11T17:07:02.000000000",
          "2025-04-11T17:07:13.000000000",
          "2025-04-11T17:07:25.000000000",
          "2025-04-11T17:07:35.000000000",
          "2025-04-11T17:07:47.000000000",
          "2025-04-11T17:07:52.000000000",
          "2025-04-11T17:08:08.000000000",
          "2025-04-11T17:08:16.000000000",
          "2025-04-11T17:08:23.000000000",
          "2025-04-11T17:08:36.000000000",
          "2025-04-11T17:08:43.000000000",
          "2025-04-11T17:08:57.000000000",
          "2025-04-11T17:09:09.000000000"
         ],
         "xaxis": "x",
         "y": {
          "bdata": "AFK4HoVrIkAAUrgehWsiQABSuB6FayJAAFK4HoVrIkAAUrgehWsiQABSuB6FayJAAFK4HoVrIkAAUrgehWsiQABSuB6FayJAAFK4HoVrIkAAUrgehWsiQABSuB6FayJAAFK4HoVrIkA=",
          "dtype": "f8"
         },
         "yaxis": "y"
        },
        {
         "fillpattern": {
          "shape": ""
         },
         "hovertemplate": "ticker=NVDA<br>date=%{x}<br>ATR_5=%{y}<extra></extra>",
         "legendgroup": "NVDA",
         "line": {
          "color": "#19d3f3"
         },
         "marker": {
          "symbol": "circle"
         },
         "mode": "lines+markers",
         "name": "NVDA",
         "orientation": "v",
         "showlegend": true,
         "stackgroup": "1",
         "type": "scatter",
         "x": [
          "2025-04-11T17:07:07.000000000",
          "2025-04-11T17:07:15.000000000",
          "2025-04-11T17:07:27.000000000",
          "2025-04-11T17:07:35.000000000",
          "2025-04-11T17:07:47.000000000",
          "2025-04-11T17:07:55.000000000",
          "2025-04-11T17:08:08.000000000",
          "2025-04-11T17:08:16.000000000",
          "2025-04-11T17:08:25.000000000",
          "2025-04-11T17:08:37.000000000",
          "2025-04-11T17:08:49.000000000",
          "2025-04-11T17:08:57.000000000",
          "2025-04-11T17:09:09.000000000"
         ],
         "xaxis": "x",
         "y": {
          "bdata": "oHA9CtejDECgcD0K16MMQKBwPQrXowxAoHA9CtejDECgcD0K16MMQKBwPQrXowxAoHA9CtejDECgcD0K16MMQKBwPQrXowxAoHA9CtejDECgcD0K16MMQKBwPQrXowxAoHA9CtejDEA=",
          "dtype": "f8"
         },
         "yaxis": "y"
        },
        {
         "fillpattern": {
          "shape": ""
         },
         "hovertemplate": "ticker=TSLA<br>date=%{x}<br>ATR_5=%{y}<extra></extra>",
         "legendgroup": "TSLA",
         "line": {
          "color": "#FF6692"
         },
         "marker": {
          "symbol": "circle"
         },
         "mode": "lines+markers",
         "name": "TSLA",
         "orientation": "v",
         "showlegend": true,
         "stackgroup": "1",
         "type": "scatter",
         "x": [
          "2025-04-11T17:07:07.000000000",
          "2025-04-11T17:07:15.000000000",
          "2025-04-11T17:07:27.000000000",
          "2025-04-11T17:07:35.000000000",
          "2025-04-11T17:07:47.000000000",
          "2025-04-11T17:07:56.000000000",
          "2025-04-11T17:08:08.000000000",
          "2025-04-11T17:08:16.000000000",
          "2025-04-11T17:08:25.000000000",
          "2025-04-11T17:08:37.000000000",
          "2025-04-11T17:08:49.000000000",
          "2025-04-11T17:08:57.000000000",
          "2025-04-11T17:09:09.000000000"
         ],
         "xaxis": "x",
         "y": {
          "bdata": "WFInoIlgMEBYUiegiWAwQFhSJ6CJYDBAWFInoIlgMEBYUiegiWAwQFhSJ6CJYDBAWFInoIlgMEBYUiegiWAwQFhSJ6CJYDBAWFInoIlgMEBYUiegiWAwQFhSJ6CJYDBAWFInoIlgMEA=",
          "dtype": "f8"
         },
         "yaxis": "y"
        }
       ],
       "layout": {
        "height": 500,
        "legend": {
         "title": {
          "text": "ticker"
         },
         "tracegroupgap": 0
        },
        "template": {
         "data": {
          "bar": [
           {
            "error_x": {
             "color": "#2a3f5f"
            },
            "error_y": {
             "color": "#2a3f5f"
            },
            "marker": {
             "line": {
              "color": "#E5ECF6",
              "width": 0.5
             },
             "pattern": {
              "fillmode": "overlay",
              "size": 10,
              "solidity": 0.2
             }
            },
            "type": "bar"
           }
          ],
          "barpolar": [
           {
            "marker": {
             "line": {
              "color": "#E5ECF6",
              "width": 0.5
             },
             "pattern": {
              "fillmode": "overlay",
              "size": 10,
              "solidity": 0.2
             }
            },
            "type": "barpolar"
           }
          ],
          "carpet": [
           {
            "aaxis": {
             "endlinecolor": "#2a3f5f",
             "gridcolor": "white",
             "linecolor": "white",
             "minorgridcolor": "white",
             "startlinecolor": "#2a3f5f"
            },
            "baxis": {
             "endlinecolor": "#2a3f5f",
             "gridcolor": "white",
             "linecolor": "white",
             "minorgridcolor": "white",
             "startlinecolor": "#2a3f5f"
            },
            "type": "carpet"
           }
          ],
          "choropleth": [
           {
            "colorbar": {
             "outlinewidth": 0,
             "ticks": ""
            },
            "type": "choropleth"
           }
          ],
          "contour": [
           {
            "colorbar": {
             "outlinewidth": 0,
             "ticks": ""
            },
            "colorscale": [
             [
              0,
              "#0d0887"
             ],
             [
              0.1111111111111111,
              "#46039f"
             ],
             [
              0.2222222222222222,
              "#7201a8"
             ],
             [
              0.3333333333333333,
              "#9c179e"
             ],
             [
              0.4444444444444444,
              "#bd3786"
             ],
             [
              0.5555555555555556,
              "#d8576b"
             ],
             [
              0.6666666666666666,
              "#ed7953"
             ],
             [
              0.7777777777777778,
              "#fb9f3a"
             ],
             [
              0.8888888888888888,
              "#fdca26"
             ],
             [
              1,
              "#f0f921"
             ]
            ],
            "type": "contour"
           }
          ],
          "contourcarpet": [
           {
            "colorbar": {
             "outlinewidth": 0,
             "ticks": ""
            },
            "type": "contourcarpet"
           }
          ],
          "heatmap": [
           {
            "colorbar": {
             "outlinewidth": 0,
             "ticks": ""
            },
            "colorscale": [
             [
              0,
              "#0d0887"
             ],
             [
              0.1111111111111111,
              "#46039f"
             ],
             [
              0.2222222222222222,
              "#7201a8"
             ],
             [
              0.3333333333333333,
              "#9c179e"
             ],
             [
              0.4444444444444444,
              "#bd3786"
             ],
             [
              0.5555555555555556,
              "#d8576b"
             ],
             [
              0.6666666666666666,
              "#ed7953"
             ],
             [
              0.7777777777777778,
              "#fb9f3a"
             ],
             [
              0.8888888888888888,
              "#fdca26"
             ],
             [
              1,
              "#f0f921"
             ]
            ],
            "type": "heatmap"
           }
          ],
          "histogram": [
           {
            "marker": {
             "pattern": {
              "fillmode": "overlay",
              "size": 10,
              "solidity": 0.2
             }
            },
            "type": "histogram"
           }
          ],
          "histogram2d": [
           {
            "colorbar": {
             "outlinewidth": 0,
             "ticks": ""
            },
            "colorscale": [
             [
              0,
              "#0d0887"
             ],
             [
              0.1111111111111111,
              "#46039f"
             ],
             [
              0.2222222222222222,
              "#7201a8"
             ],
             [
              0.3333333333333333,
              "#9c179e"
             ],
             [
              0.4444444444444444,
              "#bd3786"
             ],
             [
              0.5555555555555556,
              "#d8576b"
             ],
             [
              0.6666666666666666,
              "#ed7953"
             ],
             [
              0.7777777777777778,
              "#fb9f3a"
             ],
             [
              0.8888888888888888,
              "#fdca26"
             ],
             [
              1,
              "#f0f921"
             ]
            ],
            "type": "histogram2d"
           }
          ],
          "histogram2dcontour": [
           {
            "colorbar": {
             "outlinewidth": 0,
             "ticks": ""
            },
            "colorscale": [
             [
              0,
              "#0d0887"
             ],
             [
              0.1111111111111111,
              "#46039f"
             ],
             [
              0.2222222222222222,
              "#7201a8"
             ],
             [
              0.3333333333333333,
              "#9c179e"
             ],
             [
              0.4444444444444444,
              "#bd3786"
             ],
             [
              0.5555555555555556,
              "#d8576b"
             ],
             [
              0.6666666666666666,
              "#ed7953"
             ],
             [
              0.7777777777777778,
              "#fb9f3a"
             ],
             [
              0.8888888888888888,
              "#fdca26"
             ],
             [
              1,
              "#f0f921"
             ]
            ],
            "type": "histogram2dcontour"
           }
          ],
          "mesh3d": [
           {
            "colorbar": {
             "outlinewidth": 0,
             "ticks": ""
            },
            "type": "mesh3d"
           }
          ],
          "parcoords": [
           {
            "line": {
             "colorbar": {
              "outlinewidth": 0,
              "ticks": ""
             }
            },
            "type": "parcoords"
           }
          ],
          "pie": [
           {
            "automargin": true,
            "type": "pie"
           }
          ],
          "scatter": [
           {
            "fillpattern": {
             "fillmode": "overlay",
             "size": 10,
             "solidity": 0.2
            },
            "type": "scatter"
           }
          ],
          "scatter3d": [
           {
            "line": {
             "colorbar": {
              "outlinewidth": 0,
              "ticks": ""
             }
            },
            "marker": {
             "colorbar": {
              "outlinewidth": 0,
              "ticks": ""
             }
            },
            "type": "scatter3d"
           }
          ],
          "scattercarpet": [
           {
            "marker": {
             "colorbar": {
              "outlinewidth": 0,
              "ticks": ""
             }
            },
            "type": "scattercarpet"
           }
          ],
          "scattergeo": [
           {
            "marker": {
             "colorbar": {
              "outlinewidth": 0,
              "ticks": ""
             }
            },
            "type": "scattergeo"
           }
          ],
          "scattergl": [
           {
            "marker": {
             "colorbar": {
              "outlinewidth": 0,
              "ticks": ""
             }
            },
            "type": "scattergl"
           }
          ],
          "scattermap": [
           {
            "marker": {
             "colorbar": {
              "outlinewidth": 0,
              "ticks": ""
             }
            },
            "type": "scattermap"
           }
          ],
          "scattermapbox": [
           {
            "marker": {
             "colorbar": {
              "outlinewidth": 0,
              "ticks": ""
             }
            },
            "type": "scattermapbox"
           }
          ],
          "scatterpolar": [
           {
            "marker": {
             "colorbar": {
              "outlinewidth": 0,
              "ticks": ""
             }
            },
            "type": "scatterpolar"
           }
          ],
          "scatterpolargl": [
           {
            "marker": {
             "colorbar": {
              "outlinewidth": 0,
              "ticks": ""
             }
            },
            "type": "scatterpolargl"
           }
          ],
          "scatterternary": [
           {
            "marker": {
             "colorbar": {
              "outlinewidth": 0,
              "ticks": ""
             }
            },
            "type": "scatterternary"
           }
          ],
          "surface": [
           {
            "colorbar": {
             "outlinewidth": 0,
             "ticks": ""
            },
            "colorscale": [
             [
              0,
              "#0d0887"
             ],
             [
              0.1111111111111111,
              "#46039f"
             ],
             [
              0.2222222222222222,
              "#7201a8"
             ],
             [
              0.3333333333333333,
              "#9c179e"
             ],
             [
              0.4444444444444444,
              "#bd3786"
             ],
             [
              0.5555555555555556,
              "#d8576b"
             ],
             [
              0.6666666666666666,
              "#ed7953"
             ],
             [
              0.7777777777777778,
              "#fb9f3a"
             ],
             [
              0.8888888888888888,
              "#fdca26"
             ],
             [
              1,
              "#f0f921"
             ]
            ],
            "type": "surface"
           }
          ],
          "table": [
           {
            "cells": {
             "fill": {
              "color": "#EBF0F8"
             },
             "line": {
              "color": "white"
             }
            },
            "header": {
             "fill": {
              "color": "#C8D4E3"
             },
             "line": {
              "color": "white"
             }
            },
            "type": "table"
           }
          ]
         },
         "layout": {
          "annotationdefaults": {
           "arrowcolor": "#2a3f5f",
           "arrowhead": 0,
           "arrowwidth": 1
          },
          "autotypenumbers": "strict",
          "coloraxis": {
           "colorbar": {
            "outlinewidth": 0,
            "ticks": ""
           }
          },
          "colorscale": {
           "diverging": [
            [
             0,
             "#8e0152"
            ],
            [
             0.1,
             "#c51b7d"
            ],
            [
             0.2,
             "#de77ae"
            ],
            [
             0.3,
             "#f1b6da"
            ],
            [
             0.4,
             "#fde0ef"
            ],
            [
             0.5,
             "#f7f7f7"
            ],
            [
             0.6,
             "#e6f5d0"
            ],
            [
             0.7,
             "#b8e186"
            ],
            [
             0.8,
             "#7fbc41"
            ],
            [
             0.9,
             "#4d9221"
            ],
            [
             1,
             "#276419"
            ]
           ],
           "sequential": [
            [
             0,
             "#0d0887"
            ],
            [
             0.1111111111111111,
             "#46039f"
            ],
            [
             0.2222222222222222,
             "#7201a8"
            ],
            [
             0.3333333333333333,
             "#9c179e"
            ],
            [
             0.4444444444444444,
             "#bd3786"
            ],
            [
             0.5555555555555556,
             "#d8576b"
            ],
            [
             0.6666666666666666,
             "#ed7953"
            ],
            [
             0.7777777777777778,
             "#fb9f3a"
            ],
            [
             0.8888888888888888,
             "#fdca26"
            ],
            [
             1,
             "#f0f921"
            ]
           ],
           "sequentialminus": [
            [
             0,
             "#0d0887"
            ],
            [
             0.1111111111111111,
             "#46039f"
            ],
            [
             0.2222222222222222,
             "#7201a8"
            ],
            [
             0.3333333333333333,
             "#9c179e"
            ],
            [
             0.4444444444444444,
             "#bd3786"
            ],
            [
             0.5555555555555556,
             "#d8576b"
            ],
            [
             0.6666666666666666,
             "#ed7953"
            ],
            [
             0.7777777777777778,
             "#fb9f3a"
            ],
            [
             0.8888888888888888,
             "#fdca26"
            ],
            [
             1,
             "#f0f921"
            ]
           ]
          },
          "colorway": [
           "#636efa",
           "#EF553B",
           "#00cc96",
           "#ab63fa",
           "#FFA15A",
           "#19d3f3",
           "#FF6692",
           "#B6E880",
           "#FF97FF",
           "#FECB52"
          ],
          "font": {
           "color": "#2a3f5f"
          },
          "geo": {
           "bgcolor": "white",
           "lakecolor": "white",
           "landcolor": "#E5ECF6",
           "showlakes": true,
           "showland": true,
           "subunitcolor": "white"
          },
          "hoverlabel": {
           "align": "left"
          },
          "hovermode": "closest",
          "mapbox": {
           "style": "light"
          },
          "paper_bgcolor": "white",
          "plot_bgcolor": "#E5ECF6",
          "polar": {
           "angularaxis": {
            "gridcolor": "white",
            "linecolor": "white",
            "ticks": ""
           },
           "bgcolor": "#E5ECF6",
           "radialaxis": {
            "gridcolor": "white",
            "linecolor": "white",
            "ticks": ""
           }
          },
          "scene": {
           "xaxis": {
            "backgroundcolor": "#E5ECF6",
            "gridcolor": "white",
            "gridwidth": 2,
            "linecolor": "white",
            "showbackground": true,
            "ticks": "",
            "zerolinecolor": "white"
           },
           "yaxis": {
            "backgroundcolor": "#E5ECF6",
            "gridcolor": "white",
            "gridwidth": 2,
            "linecolor": "white",
            "showbackground": true,
            "ticks": "",
            "zerolinecolor": "white"
           },
           "zaxis": {
            "backgroundcolor": "#E5ECF6",
            "gridcolor": "white",
            "gridwidth": 2,
            "linecolor": "white",
            "showbackground": true,
            "ticks": "",
            "zerolinecolor": "white"
           }
          },
          "shapedefaults": {
           "line": {
            "color": "#2a3f5f"
           }
          },
          "ternary": {
           "aaxis": {
            "gridcolor": "white",
            "linecolor": "white",
            "ticks": ""
           },
           "baxis": {
            "gridcolor": "white",
            "linecolor": "white",
            "ticks": ""
           },
           "bgcolor": "#E5ECF6",
           "caxis": {
            "gridcolor": "white",
            "linecolor": "white",
            "ticks": ""
           }
          },
          "title": {
           "x": 0.05
          },
          "xaxis": {
           "automargin": true,
           "gridcolor": "white",
           "linecolor": "white",
           "ticks": "",
           "title": {
            "standoff": 15
           },
           "zerolinecolor": "white",
           "zerolinewidth": 2
          },
          "yaxis": {
           "automargin": true,
           "gridcolor": "white",
           "linecolor": "white",
           "ticks": "",
           "title": {
            "standoff": 15
           },
           "zerolinecolor": "white",
           "zerolinewidth": 2
          }
         }
        },
        "title": {
         "text": "ATR Area Plot Over Time (Real Time Data)"
        },
        "xaxis": {
         "anchor": "y",
         "domain": [
          0,
          1
         ],
         "title": {
          "text": "Time"
         }
        },
        "yaxis": {
         "anchor": "x",
         "domain": [
          0,
          1
         ],
         "title": {
          "text": "ATR (5-period)"
         }
        }
       }
      }
     },
     "metadata": {},
     "output_type": "display_data"
    }
   ],
   "source": [
    "import plotly.express as px\n",
    "#creating an area plot that shows the ATR or average true range over time \n",
    "# using the 5 period ATR but skipping the first 5 since the window is not done rotating \n",
    "\n",
    "fig = px.area(\n",
    "   df_cass_final.groupby('ticker').apply(lambda x: x.iloc[5:]).reset_index(drop=True),\n",
    "    x=\"date\",\n",
    "    y=\"ATR_5\",\n",
    "    color=\"ticker\",\n",
    "    title=\"ATR Area Plot Over Time (Real Time Data)\",\n",
    "    markers=True\n",
    ")\n",
    "#updating title, and axis and height\n",
    "fig.update_layout(xaxis_title=\"Time\",yaxis_title=\"ATR (5-period)\",height=500)\n",
    "fig.show()\n"
   ]
  },
  {
   "cell_type": "markdown",
   "metadata": {},
   "source": [
    "### Above is a plotly area graph that shows the Average True Range (or volatility) of the magnificent 7 companies in our 3-minute time frame. A higher value means that the stock might have more fluctuation in the short term. Note: this graph does not include the 5 original datapoints needed for the rollingwindow (it was filtered out for clarity)"
   ]
  },
  {
   "cell_type": "code",
   "execution_count": 97,
   "metadata": {},
   "outputs": [
    {
     "data": {
      "application/vnd.plotly.v1+json": {
       "config": {
        "plotlyServerURL": "https://plot.ly"
       },
       "data": [
        {
         "mode": "lines",
         "name": "AAPL MACD",
         "type": "scatter",
         "x": [
          "2025-04-11T17:07:06.000000000",
          "2025-04-11T17:07:15.000000000",
          "2025-04-11T17:07:27.000000000",
          "2025-04-11T17:07:35.000000000",
          "2025-04-11T17:07:47.000000000",
          "2025-04-11T17:07:56.000000000",
          "2025-04-11T17:08:08.000000000",
          "2025-04-11T17:08:16.000000000",
          "2025-04-11T17:08:25.000000000",
          "2025-04-11T17:08:37.000000000",
          "2025-04-11T17:08:45.000000000",
          "2025-04-11T17:08:57.000000000",
          "2025-04-11T17:09:09.000000000"
         ],
         "xaxis": "x",
         "y": {
          "bdata": "ACAYCiopqz8AAHrkxxC4PwDkn+HJAMA/AMgYx2zuwj8A0GpThALFPwDwwbwaZsY/AJTAizXvxD8AKN4HaozDPwBghRlpPcI/AEgTDLsBwT8AyI9sk7G/PwCYA5HRg70/AEAl7gnbtT8=",
          "dtype": "f8"
         },
         "yaxis": "y"
        },
        {
         "line": {
          "dash": "dash"
         },
         "mode": "lines",
         "name": "AAPL MACD_Signal",
         "type": "scatter",
         "x": [
          "2025-04-11T17:07:06.000000000",
          "2025-04-11T17:07:15.000000000",
          "2025-04-11T17:07:27.000000000",
          "2025-04-11T17:07:35.000000000",
          "2025-04-11T17:07:47.000000000",
          "2025-04-11T17:07:56.000000000",
          "2025-04-11T17:08:08.000000000",
          "2025-04-11T17:08:16.000000000",
          "2025-04-11T17:08:25.000000000",
          "2025-04-11T17:08:37.000000000",
          "2025-04-11T17:08:45.000000000",
          "2025-04-11T17:08:57.000000000",
          "2025-04-11T17:09:09.000000000"
         ],
         "xaxis": "x",
         "y": {
          "bdata": "zUwTCIi6hT/tUWkgo/GbPyzXdsHi+qc/33I50B8qsT+zSPLHtCK2PymaQrgBq7o/IVCC/km1vT9Ogyc1/5W/P+x6KudHSMA/ij2M7l5twD9v+OR8p0/AP1m8avIaAMA/9QZ/s8b4vT8=",
          "dtype": "f8"
         },
         "yaxis": "y"
        },
        {
         "mode": "lines",
         "name": "MSFT MACD",
         "type": "scatter",
         "x": [
          "2025-04-11T17:06:15.000000000",
          "2025-04-11T17:06:19.000000000",
          "2025-04-11T17:06:31.000000000",
          "2025-04-11T17:06:40.000000000",
          "2025-04-11T17:06:52.000000000",
          "2025-04-11T17:07:02.000000000",
          "2025-04-11T17:07:13.000000000",
          "2025-04-11T17:07:25.000000000",
          "2025-04-11T17:07:35.000000000",
          "2025-04-11T17:07:47.000000000",
          "2025-04-11T17:07:52.000000000",
          "2025-04-11T17:08:08.000000000",
          "2025-04-11T17:08:16.000000000",
          "2025-04-11T17:08:23.000000000",
          "2025-04-11T17:08:36.000000000",
          "2025-04-11T17:08:43.000000000",
          "2025-04-11T17:08:57.000000000",
          "2025-04-11T17:09:09.000000000"
         ],
         "xaxis": "x2",
         "y": {
          "bdata": "AAAAAAAAAAAAAAAAAAAAAAAAAAAAAAAAAAAAAAAAAAAAAAAAAAAAAAAgYjcki6M/APAzn/tQsT8AQCXirQe3PwDQQqp6Prs/ABA0JzY8vj8AkA/o9x3APwBwDIq/L78/ALCJZKUCvj8AcDo1ML+8PwCgX8/mbbs/APDuu58Vuj8AMIjgyru4PwDgfE2LLqs/",
          "dtype": "f8"
         },
         "yaxis": "y2"
        },
        {
         "line": {
          "dash": "dash"
         },
         "mode": "lines",
         "name": "MSFT MACD_Signal",
         "type": "scatter",
         "x": [
          "2025-04-11T17:06:15.000000000",
          "2025-04-11T17:06:19.000000000",
          "2025-04-11T17:06:31.000000000",
          "2025-04-11T17:06:40.000000000",
          "2025-04-11T17:06:52.000000000",
          "2025-04-11T17:07:02.000000000",
          "2025-04-11T17:07:13.000000000",
          "2025-04-11T17:07:25.000000000",
          "2025-04-11T17:07:35.000000000",
          "2025-04-11T17:07:47.000000000",
          "2025-04-11T17:07:52.000000000",
          "2025-04-11T17:08:08.000000000",
          "2025-04-11T17:08:16.000000000",
          "2025-04-11T17:08:23.000000000",
          "2025-04-11T17:08:36.000000000",
          "2025-04-11T17:08:43.000000000",
          "2025-04-11T17:08:57.000000000",
          "2025-04-11T17:09:09.000000000"
         ],
         "xaxis": "x2",
         "y": {
          "bdata": "AAAAAAAAAAAAAAAAAAAAAAAAAAAAAAAAAAAAAAAAAAAAAAAAAAAAAGdmA78GRX8/4joqP2QblD9bZLlzOkGhP0lwFQeTs6g/ocbyrvHarz8NiZpvXTCzP9dQsUGklrU/RsoPr9dFtz9r67GWHF64P1bcB6Le+rg/eBM2p2szuT/65ayyfhu5P5UBSrDZzbY/",
          "dtype": "f8"
         },
         "yaxis": "y2"
        },
        {
         "mode": "lines",
         "name": "AMZN MACD",
         "type": "scatter",
         "x": [
          "2025-04-11T17:06:13.000000000",
          "2025-04-11T17:06:23.000000000",
          "2025-04-11T17:06:37.000000000",
          "2025-04-11T17:06:45.000000000",
          "2025-04-11T17:06:52.000000000",
          "2025-04-11T17:07:06.000000000",
          "2025-04-11T17:07:15.000000000",
          "2025-04-11T17:07:27.000000000",
          "2025-04-11T17:07:34.000000000",
          "2025-04-11T17:07:47.000000000",
          "2025-04-11T17:07:56.000000000",
          "2025-04-11T17:08:08.000000000",
          "2025-04-11T17:08:16.000000000",
          "2025-04-11T17:08:25.000000000",
          "2025-04-11T17:08:36.000000000",
          "2025-04-11T17:08:45.000000000",
          "2025-04-11T17:08:57.000000000",
          "2025-04-11T17:09:09.000000000"
         ],
         "xaxis": "x3",
         "y": {
          "bdata": "AAAAAAAAAAAAAAAAAAAAAAAAAAAAAAAAAAAAAAAAAAAAAAAAAAAAAABwVDVEMqM/AEBvbzwCsT8AAC8F8562PwBQT+mVwro/AHCLMreyvT8A4JjDWam/PwAgjHoseL0/AGCOIIhquz8AUPh/uH65PwBotCMFs7c/AMCuR7cFtj8AOB97HnW0PwCgVfhno6Q/",
          "dtype": "f8"
         },
         "yaxis": "y3"
        },
        {
         "line": {
          "dash": "dash"
         },
         "mode": "lines",
         "name": "AMZN MACD_Signal",
         "type": "scatter",
         "x": [
          "2025-04-11T17:06:13.000000000",
          "2025-04-11T17:06:23.000000000",
          "2025-04-11T17:06:37.000000000",
          "2025-04-11T17:06:45.000000000",
          "2025-04-11T17:06:52.000000000",
          "2025-04-11T17:07:06.000000000",
          "2025-04-11T17:07:15.000000000",
          "2025-04-11T17:07:27.000000000",
          "2025-04-11T17:07:34.000000000",
          "2025-04-11T17:07:47.000000000",
          "2025-04-11T17:07:56.000000000",
          "2025-04-11T17:08:08.000000000",
          "2025-04-11T17:08:16.000000000",
          "2025-04-11T17:08:25.000000000",
          "2025-04-11T17:08:36.000000000",
          "2025-04-11T17:08:45.000000000",
          "2025-04-11T17:08:57.000000000",
          "2025-04-11T17:09:09.000000000"
         ],
         "xaxis": "x3",
         "y": {
          "bdata": "AAAAAAAAAAAAAAAAAAAAAAAAAAAAAAAAAAAAAAAAAAAAAAAAAAAAAJoZh4jTtn4/7NFAQfS/kz8rh/nowvKgP/BY50o+Q6g/9HOKthRKrz9iju88GtmyP094qK/q+LQ/DA1w+dZCtj/XgL56aui2P+B7vM/vELc/5+/sGn7btj+GMSounmC2PzhRKiQ897M/",
          "dtype": "f8"
         },
         "yaxis": "y3"
        },
        {
         "mode": "lines",
         "name": "GOOGL MACD",
         "type": "scatter",
         "x": [
          "2025-04-11T17:06:14.000000000",
          "2025-04-11T17:06:24.000000000",
          "2025-04-11T17:06:37.000000000",
          "2025-04-11T17:06:45.000000000",
          "2025-04-11T17:06:52.000000000",
          "2025-04-11T17:07:06.000000000",
          "2025-04-11T17:07:15.000000000",
          "2025-04-11T17:07:26.000000000",
          "2025-04-11T17:07:35.000000000",
          "2025-04-11T17:07:47.000000000",
          "2025-04-11T17:07:56.000000000",
          "2025-04-11T17:08:08.000000000",
          "2025-04-11T17:08:16.000000000",
          "2025-04-11T17:08:25.000000000",
          "2025-04-11T17:08:37.000000000",
          "2025-04-11T17:08:45.000000000",
          "2025-04-11T17:08:57.000000000",
          "2025-04-11T17:09:09.000000000"
         ],
         "xaxis": "x4",
         "y": {
          "bdata": "AAAAAAAAAAAAAAAAAAAAAAAAAAAAAAAAAAAAAAAAAAAAAAAAAAAAAADAp68tDpY/ANAdRL2Koz8A0Bpdbv2pPwDA6LTivq4/ANCheYQPsT8AsDHoQzCyPwA4do+i0rA/AHDFZ0Ifrz8A4A+sVMqsPwDg48Oooqo/ACDpgbukqD8AUFehUs2mPwBArx6/JJQ/",
          "dtype": "f8"
         },
         "yaxis": "y4"
        },
        {
         "line": {
          "dash": "dash"
         },
         "mode": "lines",
         "name": "GOOGL MACD_Signal",
         "type": "scatter",
         "x": [
          "2025-04-11T17:06:14.000000000",
          "2025-04-11T17:06:24.000000000",
          "2025-04-11T17:06:37.000000000",
          "2025-04-11T17:06:45.000000000",
          "2025-04-11T17:06:52.000000000",
          "2025-04-11T17:07:06.000000000",
          "2025-04-11T17:07:15.000000000",
          "2025-04-11T17:07:26.000000000",
          "2025-04-11T17:07:35.000000000",
          "2025-04-11T17:07:47.000000000",
          "2025-04-11T17:07:56.000000000",
          "2025-04-11T17:08:08.000000000",
          "2025-04-11T17:08:16.000000000",
          "2025-04-11T17:08:25.000000000",
          "2025-04-11T17:08:37.000000000",
          "2025-04-11T17:08:45.000000000",
          "2025-04-11T17:08:57.000000000",
          "2025-04-11T17:09:09.000000000"
         ],
         "xaxis": "x4",
         "y": {
          "bdata": "AAAAAAAAAAAAAAAAAAAAAAAAAAAAAAAAAAAAAAAAAAAAAAAAAAAAAAAAU1nxpHE/Z6bS8/ewhj/Dlfi59XiTP2mRvXZS4Js/xPPyLIn5oT831m8avKelP8bBiE6kDag/BUv7uZB3qT84z2XqtyGqP8cFf6+BO6o/OT6U2SbqqT/IQbs0yUqpP20hdOCAP6Y/",
          "dtype": "f8"
         },
         "yaxis": "y4"
        },
        {
         "mode": "lines",
         "name": "META MACD",
         "type": "scatter",
         "x": [
          "2025-04-11T17:06:15.000000000",
          "2025-04-11T17:06:23.000000000",
          "2025-04-11T17:06:35.000000000",
          "2025-04-11T17:06:41.000000000",
          "2025-04-11T17:06:53.000000000",
          "2025-04-11T17:07:06.000000000",
          "2025-04-11T17:07:15.000000000",
          "2025-04-11T17:07:27.000000000",
          "2025-04-11T17:07:33.000000000",
          "2025-04-11T17:07:47.000000000",
          "2025-04-11T17:07:54.000000000",
          "2025-04-11T17:08:08.000000000",
          "2025-04-11T17:08:15.000000000",
          "2025-04-11T17:08:24.000000000",
          "2025-04-11T17:08:36.000000000",
          "2025-04-11T17:08:45.000000000",
          "2025-04-11T17:08:56.000000000",
          "2025-04-11T17:09:09.000000000"
         ],
         "xaxis": "x5",
         "y": {
          "bdata": "AAAAAAAAAAAAAAAAAAAAAAAAAAAAAAAAAAAAAAAAAAAAAAAAAAAAAACgaYES0sI/AEiUFAGt0D8AgCQ0mC3WPwD4jzB9PNo/ACAUgeUd3T8AIKpVsQrfPwC4LC8K/N0/AOiWdoPQ3D8AwAd1x5HbPwBgDr+gR9o/ABjhV0v42D8AuOHNuKjXPwDQTUkIstA/",
          "dtype": "f8"
         },
         "yaxis": "y5"
        },
        {
         "line": {
          "dash": "dash"
         },
         "mode": "lines",
         "name": "META MACD_Signal",
         "type": "scatter",
         "x": [
          "2025-04-11T17:06:15.000000000",
          "2025-04-11T17:06:23.000000000",
          "2025-04-11T17:06:35.000000000",
          "2025-04-11T17:06:41.000000000",
          "2025-04-11T17:06:53.000000000",
          "2025-04-11T17:07:06.000000000",
          "2025-04-11T17:07:15.000000000",
          "2025-04-11T17:07:27.000000000",
          "2025-04-11T17:07:33.000000000",
          "2025-04-11T17:07:47.000000000",
          "2025-04-11T17:07:54.000000000",
          "2025-04-11T17:08:08.000000000",
          "2025-04-11T17:08:15.000000000",
          "2025-04-11T17:08:24.000000000",
          "2025-04-11T17:08:36.000000000",
          "2025-04-11T17:08:45.000000000",
          "2025-04-11T17:08:56.000000000",
          "2025-04-11T17:09:09.000000000"
         ],
         "xaxis": "x5",
         "y": {
          "bdata": "AAAAAAAAAAAAAAAAAAAAAAAAAAAAAAAAAAAAAAAAAAAAAAAAAAAAAAAAqWjqHJ4/AKDLi/xcsz8AQJMZ1Z3AP5rJFVupycc/fBSzr0mtzj8yqGlXp3rSP/VEKhy7x9Q/XjJzYRZj1j+yTvf+bGzXP4+4yIuq/tc/DDJngZcw2D/XTBn3ahXYP+Azigckm9Y/",
          "dtype": "f8"
         },
         "yaxis": "y5"
        },
        {
         "mode": "lines",
         "name": "TSLA MACD",
         "type": "scatter",
         "x": [
          "2025-04-11T17:06:15.000000000",
          "2025-04-11T17:06:24.000000000",
          "2025-04-11T17:06:37.000000000",
          "2025-04-11T17:06:45.000000000",
          "2025-04-11T17:06:53.000000000",
          "2025-04-11T17:07:07.000000000",
          "2025-04-11T17:07:15.000000000",
          "2025-04-11T17:07:27.000000000",
          "2025-04-11T17:07:35.000000000",
          "2025-04-11T17:07:47.000000000",
          "2025-04-11T17:07:56.000000000",
          "2025-04-11T17:08:08.000000000",
          "2025-04-11T17:08:16.000000000",
          "2025-04-11T17:08:25.000000000",
          "2025-04-11T17:08:37.000000000",
          "2025-04-11T17:08:49.000000000",
          "2025-04-11T17:08:57.000000000",
          "2025-04-11T17:09:09.000000000"
         ],
         "xaxis": "x6",
         "y": {
          "bdata": "AAAAAAAAAAAAAAAAAAAAAAAAAAAAAAAAAAAAAAAAAAAAAAAAAAAAAADg1JJxXas/AJjPPBo/uD8AUOhtlx/APwAgFTzdEsM/AIi69fQqxT8ABIDPN5HGPwDAsi6i48U/ABxgdMYbxT8AUI8NnEHEPwCQTDqWW8M/AJj+SOVuwj8AOBNgrX/BPwA4Xojt1LM/",
          "dtype": "f8"
         },
         "yaxis": "y6"
        },
        {
         "line": {
          "dash": "dash"
         },
         "mode": "lines",
         "name": "TSLA MACD_Signal",
         "type": "scatter",
         "x": [
          "2025-04-11T17:06:15.000000000",
          "2025-04-11T17:06:24.000000000",
          "2025-04-11T17:06:37.000000000",
          "2025-04-11T17:06:45.000000000",
          "2025-04-11T17:06:53.000000000",
          "2025-04-11T17:07:07.000000000",
          "2025-04-11T17:07:15.000000000",
          "2025-04-11T17:07:27.000000000",
          "2025-04-11T17:07:35.000000000",
          "2025-04-11T17:07:47.000000000",
          "2025-04-11T17:07:56.000000000",
          "2025-04-11T17:08:08.000000000",
          "2025-04-11T17:08:16.000000000",
          "2025-04-11T17:08:25.000000000",
          "2025-04-11T17:08:37.000000000",
          "2025-04-11T17:08:49.000000000",
          "2025-04-11T17:08:57.000000000",
          "2025-04-11T17:09:09.000000000"
         ],
         "xaxis": "x6",
         "y": {
          "bdata": "AAAAAAAAAAAAAAAAAAAAAAAAAAAAAAAAAAAAAAAAAAAAAAAAAAAAAACA3dta5IU/Z0aYiGwnnD+Qwvb0CimoPzr0N60pS7E/yPkQIFBNtj/UL6dsVt66P90/zZwfQL4/JR8yiWdSwD+49Xdw2BvBP/p6omX+jsE/L+e0LMa7wT9Z9/o2wa/BP3vLa4blIcA/",
          "dtype": "f8"
         },
         "yaxis": "y6"
        },
        {
         "mode": "lines",
         "name": "NVDA MACD",
         "type": "scatter",
         "x": [
          "2025-04-11T17:06:15.000000000",
          "2025-04-11T17:06:24.000000000",
          "2025-04-11T17:06:37.000000000",
          "2025-04-11T17:06:45.000000000",
          "2025-04-11T17:06:53.000000000",
          "2025-04-11T17:07:07.000000000",
          "2025-04-11T17:07:15.000000000",
          "2025-04-11T17:07:27.000000000",
          "2025-04-11T17:07:35.000000000",
          "2025-04-11T17:07:47.000000000",
          "2025-04-11T17:07:55.000000000",
          "2025-04-11T17:08:08.000000000",
          "2025-04-11T17:08:16.000000000",
          "2025-04-11T17:08:25.000000000",
          "2025-04-11T17:08:37.000000000",
          "2025-04-11T17:08:49.000000000",
          "2025-04-11T17:08:57.000000000",
          "2025-04-11T17:09:09.000000000"
         ],
         "xaxis": "x7",
         "y": {
          "bdata": "AAAAAAAAAAAAAAAAAAAAAAAAAAAAAAAAAAAAAAAAAAAAAAAAAAAAAAAwzf4svpg/APBGFlXspT8A4Iz8KSitPwDA3dj7PrE/APiRI7Ujsz8ArF3Ko2e0PwA8Z174BLM/ACQ+uZu3sT8AuIdOvX6wPwAYGOH7sq4/ANCJDOuNrD8AyL89b4yqPwBAf9wP6qA/",
          "dtype": "f8"
         },
         "yaxis": "y7"
        },
        {
         "line": {
          "dash": "dash"
         },
         "mode": "lines",
         "name": "NVDA MACD_Signal",
         "type": "scatter",
         "x": [
          "2025-04-11T17:06:15.000000000",
          "2025-04-11T17:06:24.000000000",
          "2025-04-11T17:06:37.000000000",
          "2025-04-11T17:06:45.000000000",
          "2025-04-11T17:06:53.000000000",
          "2025-04-11T17:07:07.000000000",
          "2025-04-11T17:07:15.000000000",
          "2025-04-11T17:07:27.000000000",
          "2025-04-11T17:07:35.000000000",
          "2025-04-11T17:07:47.000000000",
          "2025-04-11T17:07:55.000000000",
          "2025-04-11T17:08:08.000000000",
          "2025-04-11T17:08:16.000000000",
          "2025-04-11T17:08:25.000000000",
          "2025-04-11T17:08:37.000000000",
          "2025-04-11T17:08:49.000000000",
          "2025-04-11T17:08:57.000000000",
          "2025-04-11T17:09:09.000000000"
         ],
         "xaxis": "x7",
         "y": {
          "bdata": "AAAAAAAAAAAAAAAAAAAAAAAAAAAAAAAAAAAAAAAAAAAAAAAAAAAAAADAPTJXy3M/AEAeWc10iT8AQBHvYtiVPzQzv2zlRZ8/4qpT0z0qpD+Czc7GP0uoP2i8zsT8Cqs/uj6+GqK4rD9iFWjOM5OtPxxJizjCzK0/Spcklv2MrT881HaER/OsP5e2qy8Ji6o/",
          "dtype": "f8"
         },
         "yaxis": "y7"
        }
       ],
       "layout": {
        "annotations": [
         {
          "font": {
           "size": 16
          },
          "showarrow": false,
          "text": "AAPL: MACD vs MACD Signal",
          "x": 0.225,
          "xanchor": "center",
          "xref": "paper",
          "y": 1,
          "yanchor": "bottom",
          "yref": "paper"
         },
         {
          "font": {
           "size": 16
          },
          "showarrow": false,
          "text": "MSFT: MACD vs MACD Signal",
          "x": 0.775,
          "xanchor": "center",
          "xref": "paper",
          "y": 1,
          "yanchor": "bottom",
          "yref": "paper"
         },
         {
          "font": {
           "size": 16
          },
          "showarrow": false,
          "text": "AMZN: MACD vs MACD Signal",
          "x": 0.225,
          "xanchor": "center",
          "xref": "paper",
          "y": 0.71875,
          "yanchor": "bottom",
          "yref": "paper"
         },
         {
          "font": {
           "size": 16
          },
          "showarrow": false,
          "text": "GOOGL: MACD vs MACD Signal",
          "x": 0.775,
          "xanchor": "center",
          "xref": "paper",
          "y": 0.71875,
          "yanchor": "bottom",
          "yref": "paper"
         },
         {
          "font": {
           "size": 16
          },
          "showarrow": false,
          "text": "META: MACD vs MACD Signal",
          "x": 0.225,
          "xanchor": "center",
          "xref": "paper",
          "y": 0.4375,
          "yanchor": "bottom",
          "yref": "paper"
         },
         {
          "font": {
           "size": 16
          },
          "showarrow": false,
          "text": "TSLA: MACD vs MACD Signal",
          "x": 0.775,
          "xanchor": "center",
          "xref": "paper",
          "y": 0.4375,
          "yanchor": "bottom",
          "yref": "paper"
         },
         {
          "font": {
           "size": 16
          },
          "showarrow": false,
          "text": "NVDA: MACD vs MACD Signal",
          "x": 0.225,
          "xanchor": "center",
          "xref": "paper",
          "y": 0.15625,
          "yanchor": "bottom",
          "yref": "paper"
         }
        ],
        "height": 1000,
        "template": {
         "data": {
          "bar": [
           {
            "error_x": {
             "color": "#2a3f5f"
            },
            "error_y": {
             "color": "#2a3f5f"
            },
            "marker": {
             "line": {
              "color": "#E5ECF6",
              "width": 0.5
             },
             "pattern": {
              "fillmode": "overlay",
              "size": 10,
              "solidity": 0.2
             }
            },
            "type": "bar"
           }
          ],
          "barpolar": [
           {
            "marker": {
             "line": {
              "color": "#E5ECF6",
              "width": 0.5
             },
             "pattern": {
              "fillmode": "overlay",
              "size": 10,
              "solidity": 0.2
             }
            },
            "type": "barpolar"
           }
          ],
          "carpet": [
           {
            "aaxis": {
             "endlinecolor": "#2a3f5f",
             "gridcolor": "white",
             "linecolor": "white",
             "minorgridcolor": "white",
             "startlinecolor": "#2a3f5f"
            },
            "baxis": {
             "endlinecolor": "#2a3f5f",
             "gridcolor": "white",
             "linecolor": "white",
             "minorgridcolor": "white",
             "startlinecolor": "#2a3f5f"
            },
            "type": "carpet"
           }
          ],
          "choropleth": [
           {
            "colorbar": {
             "outlinewidth": 0,
             "ticks": ""
            },
            "type": "choropleth"
           }
          ],
          "contour": [
           {
            "colorbar": {
             "outlinewidth": 0,
             "ticks": ""
            },
            "colorscale": [
             [
              0,
              "#0d0887"
             ],
             [
              0.1111111111111111,
              "#46039f"
             ],
             [
              0.2222222222222222,
              "#7201a8"
             ],
             [
              0.3333333333333333,
              "#9c179e"
             ],
             [
              0.4444444444444444,
              "#bd3786"
             ],
             [
              0.5555555555555556,
              "#d8576b"
             ],
             [
              0.6666666666666666,
              "#ed7953"
             ],
             [
              0.7777777777777778,
              "#fb9f3a"
             ],
             [
              0.8888888888888888,
              "#fdca26"
             ],
             [
              1,
              "#f0f921"
             ]
            ],
            "type": "contour"
           }
          ],
          "contourcarpet": [
           {
            "colorbar": {
             "outlinewidth": 0,
             "ticks": ""
            },
            "type": "contourcarpet"
           }
          ],
          "heatmap": [
           {
            "colorbar": {
             "outlinewidth": 0,
             "ticks": ""
            },
            "colorscale": [
             [
              0,
              "#0d0887"
             ],
             [
              0.1111111111111111,
              "#46039f"
             ],
             [
              0.2222222222222222,
              "#7201a8"
             ],
             [
              0.3333333333333333,
              "#9c179e"
             ],
             [
              0.4444444444444444,
              "#bd3786"
             ],
             [
              0.5555555555555556,
              "#d8576b"
             ],
             [
              0.6666666666666666,
              "#ed7953"
             ],
             [
              0.7777777777777778,
              "#fb9f3a"
             ],
             [
              0.8888888888888888,
              "#fdca26"
             ],
             [
              1,
              "#f0f921"
             ]
            ],
            "type": "heatmap"
           }
          ],
          "histogram": [
           {
            "marker": {
             "pattern": {
              "fillmode": "overlay",
              "size": 10,
              "solidity": 0.2
             }
            },
            "type": "histogram"
           }
          ],
          "histogram2d": [
           {
            "colorbar": {
             "outlinewidth": 0,
             "ticks": ""
            },
            "colorscale": [
             [
              0,
              "#0d0887"
             ],
             [
              0.1111111111111111,
              "#46039f"
             ],
             [
              0.2222222222222222,
              "#7201a8"
             ],
             [
              0.3333333333333333,
              "#9c179e"
             ],
             [
              0.4444444444444444,
              "#bd3786"
             ],
             [
              0.5555555555555556,
              "#d8576b"
             ],
             [
              0.6666666666666666,
              "#ed7953"
             ],
             [
              0.7777777777777778,
              "#fb9f3a"
             ],
             [
              0.8888888888888888,
              "#fdca26"
             ],
             [
              1,
              "#f0f921"
             ]
            ],
            "type": "histogram2d"
           }
          ],
          "histogram2dcontour": [
           {
            "colorbar": {
             "outlinewidth": 0,
             "ticks": ""
            },
            "colorscale": [
             [
              0,
              "#0d0887"
             ],
             [
              0.1111111111111111,
              "#46039f"
             ],
             [
              0.2222222222222222,
              "#7201a8"
             ],
             [
              0.3333333333333333,
              "#9c179e"
             ],
             [
              0.4444444444444444,
              "#bd3786"
             ],
             [
              0.5555555555555556,
              "#d8576b"
             ],
             [
              0.6666666666666666,
              "#ed7953"
             ],
             [
              0.7777777777777778,
              "#fb9f3a"
             ],
             [
              0.8888888888888888,
              "#fdca26"
             ],
             [
              1,
              "#f0f921"
             ]
            ],
            "type": "histogram2dcontour"
           }
          ],
          "mesh3d": [
           {
            "colorbar": {
             "outlinewidth": 0,
             "ticks": ""
            },
            "type": "mesh3d"
           }
          ],
          "parcoords": [
           {
            "line": {
             "colorbar": {
              "outlinewidth": 0,
              "ticks": ""
             }
            },
            "type": "parcoords"
           }
          ],
          "pie": [
           {
            "automargin": true,
            "type": "pie"
           }
          ],
          "scatter": [
           {
            "fillpattern": {
             "fillmode": "overlay",
             "size": 10,
             "solidity": 0.2
            },
            "type": "scatter"
           }
          ],
          "scatter3d": [
           {
            "line": {
             "colorbar": {
              "outlinewidth": 0,
              "ticks": ""
             }
            },
            "marker": {
             "colorbar": {
              "outlinewidth": 0,
              "ticks": ""
             }
            },
            "type": "scatter3d"
           }
          ],
          "scattercarpet": [
           {
            "marker": {
             "colorbar": {
              "outlinewidth": 0,
              "ticks": ""
             }
            },
            "type": "scattercarpet"
           }
          ],
          "scattergeo": [
           {
            "marker": {
             "colorbar": {
              "outlinewidth": 0,
              "ticks": ""
             }
            },
            "type": "scattergeo"
           }
          ],
          "scattergl": [
           {
            "marker": {
             "colorbar": {
              "outlinewidth": 0,
              "ticks": ""
             }
            },
            "type": "scattergl"
           }
          ],
          "scattermap": [
           {
            "marker": {
             "colorbar": {
              "outlinewidth": 0,
              "ticks": ""
             }
            },
            "type": "scattermap"
           }
          ],
          "scattermapbox": [
           {
            "marker": {
             "colorbar": {
              "outlinewidth": 0,
              "ticks": ""
             }
            },
            "type": "scattermapbox"
           }
          ],
          "scatterpolar": [
           {
            "marker": {
             "colorbar": {
              "outlinewidth": 0,
              "ticks": ""
             }
            },
            "type": "scatterpolar"
           }
          ],
          "scatterpolargl": [
           {
            "marker": {
             "colorbar": {
              "outlinewidth": 0,
              "ticks": ""
             }
            },
            "type": "scatterpolargl"
           }
          ],
          "scatterternary": [
           {
            "marker": {
             "colorbar": {
              "outlinewidth": 0,
              "ticks": ""
             }
            },
            "type": "scatterternary"
           }
          ],
          "surface": [
           {
            "colorbar": {
             "outlinewidth": 0,
             "ticks": ""
            },
            "colorscale": [
             [
              0,
              "#0d0887"
             ],
             [
              0.1111111111111111,
              "#46039f"
             ],
             [
              0.2222222222222222,
              "#7201a8"
             ],
             [
              0.3333333333333333,
              "#9c179e"
             ],
             [
              0.4444444444444444,
              "#bd3786"
             ],
             [
              0.5555555555555556,
              "#d8576b"
             ],
             [
              0.6666666666666666,
              "#ed7953"
             ],
             [
              0.7777777777777778,
              "#fb9f3a"
             ],
             [
              0.8888888888888888,
              "#fdca26"
             ],
             [
              1,
              "#f0f921"
             ]
            ],
            "type": "surface"
           }
          ],
          "table": [
           {
            "cells": {
             "fill": {
              "color": "#EBF0F8"
             },
             "line": {
              "color": "white"
             }
            },
            "header": {
             "fill": {
              "color": "#C8D4E3"
             },
             "line": {
              "color": "white"
             }
            },
            "type": "table"
           }
          ]
         },
         "layout": {
          "annotationdefaults": {
           "arrowcolor": "#2a3f5f",
           "arrowhead": 0,
           "arrowwidth": 1
          },
          "autotypenumbers": "strict",
          "coloraxis": {
           "colorbar": {
            "outlinewidth": 0,
            "ticks": ""
           }
          },
          "colorscale": {
           "diverging": [
            [
             0,
             "#8e0152"
            ],
            [
             0.1,
             "#c51b7d"
            ],
            [
             0.2,
             "#de77ae"
            ],
            [
             0.3,
             "#f1b6da"
            ],
            [
             0.4,
             "#fde0ef"
            ],
            [
             0.5,
             "#f7f7f7"
            ],
            [
             0.6,
             "#e6f5d0"
            ],
            [
             0.7,
             "#b8e186"
            ],
            [
             0.8,
             "#7fbc41"
            ],
            [
             0.9,
             "#4d9221"
            ],
            [
             1,
             "#276419"
            ]
           ],
           "sequential": [
            [
             0,
             "#0d0887"
            ],
            [
             0.1111111111111111,
             "#46039f"
            ],
            [
             0.2222222222222222,
             "#7201a8"
            ],
            [
             0.3333333333333333,
             "#9c179e"
            ],
            [
             0.4444444444444444,
             "#bd3786"
            ],
            [
             0.5555555555555556,
             "#d8576b"
            ],
            [
             0.6666666666666666,
             "#ed7953"
            ],
            [
             0.7777777777777778,
             "#fb9f3a"
            ],
            [
             0.8888888888888888,
             "#fdca26"
            ],
            [
             1,
             "#f0f921"
            ]
           ],
           "sequentialminus": [
            [
             0,
             "#0d0887"
            ],
            [
             0.1111111111111111,
             "#46039f"
            ],
            [
             0.2222222222222222,
             "#7201a8"
            ],
            [
             0.3333333333333333,
             "#9c179e"
            ],
            [
             0.4444444444444444,
             "#bd3786"
            ],
            [
             0.5555555555555556,
             "#d8576b"
            ],
            [
             0.6666666666666666,
             "#ed7953"
            ],
            [
             0.7777777777777778,
             "#fb9f3a"
            ],
            [
             0.8888888888888888,
             "#fdca26"
            ],
            [
             1,
             "#f0f921"
            ]
           ]
          },
          "colorway": [
           "#636efa",
           "#EF553B",
           "#00cc96",
           "#ab63fa",
           "#FFA15A",
           "#19d3f3",
           "#FF6692",
           "#B6E880",
           "#FF97FF",
           "#FECB52"
          ],
          "font": {
           "color": "#2a3f5f"
          },
          "geo": {
           "bgcolor": "white",
           "lakecolor": "white",
           "landcolor": "#E5ECF6",
           "showlakes": true,
           "showland": true,
           "subunitcolor": "white"
          },
          "hoverlabel": {
           "align": "left"
          },
          "hovermode": "closest",
          "mapbox": {
           "style": "light"
          },
          "paper_bgcolor": "white",
          "plot_bgcolor": "#E5ECF6",
          "polar": {
           "angularaxis": {
            "gridcolor": "white",
            "linecolor": "white",
            "ticks": ""
           },
           "bgcolor": "#E5ECF6",
           "radialaxis": {
            "gridcolor": "white",
            "linecolor": "white",
            "ticks": ""
           }
          },
          "scene": {
           "xaxis": {
            "backgroundcolor": "#E5ECF6",
            "gridcolor": "white",
            "gridwidth": 2,
            "linecolor": "white",
            "showbackground": true,
            "ticks": "",
            "zerolinecolor": "white"
           },
           "yaxis": {
            "backgroundcolor": "#E5ECF6",
            "gridcolor": "white",
            "gridwidth": 2,
            "linecolor": "white",
            "showbackground": true,
            "ticks": "",
            "zerolinecolor": "white"
           },
           "zaxis": {
            "backgroundcolor": "#E5ECF6",
            "gridcolor": "white",
            "gridwidth": 2,
            "linecolor": "white",
            "showbackground": true,
            "ticks": "",
            "zerolinecolor": "white"
           }
          },
          "shapedefaults": {
           "line": {
            "color": "#2a3f5f"
           }
          },
          "ternary": {
           "aaxis": {
            "gridcolor": "white",
            "linecolor": "white",
            "ticks": ""
           },
           "baxis": {
            "gridcolor": "white",
            "linecolor": "white",
            "ticks": ""
           },
           "bgcolor": "#E5ECF6",
           "caxis": {
            "gridcolor": "white",
            "linecolor": "white",
            "ticks": ""
           }
          },
          "title": {
           "x": 0.05
          },
          "xaxis": {
           "automargin": true,
           "gridcolor": "white",
           "linecolor": "white",
           "ticks": "",
           "title": {
            "standoff": 15
           },
           "zerolinecolor": "white",
           "zerolinewidth": 2
          },
          "yaxis": {
           "automargin": true,
           "gridcolor": "white",
           "linecolor": "white",
           "ticks": "",
           "title": {
            "standoff": 15
           },
           "zerolinecolor": "white",
           "zerolinewidth": 2
          }
         }
        },
        "title": {
         "text": "MACD vs MACD Signal for All Tickers (Real-Time Data)"
        },
        "xaxis": {
         "anchor": "y",
         "domain": [
          0,
          0.45
         ]
        },
        "xaxis2": {
         "anchor": "y2",
         "domain": [
          0.55,
          1
         ]
        },
        "xaxis3": {
         "anchor": "y3",
         "domain": [
          0,
          0.45
         ]
        },
        "xaxis4": {
         "anchor": "y4",
         "domain": [
          0.55,
          1
         ]
        },
        "xaxis5": {
         "anchor": "y5",
         "domain": [
          0,
          0.45
         ]
        },
        "xaxis6": {
         "anchor": "y6",
         "domain": [
          0.55,
          1
         ]
        },
        "xaxis7": {
         "anchor": "y7",
         "domain": [
          0,
          0.45
         ]
        },
        "xaxis8": {
         "anchor": "y8",
         "domain": [
          0.55,
          1
         ]
        },
        "yaxis": {
         "anchor": "x",
         "domain": [
          0.84375,
          1
         ]
        },
        "yaxis2": {
         "anchor": "x2",
         "domain": [
          0.84375,
          1
         ]
        },
        "yaxis3": {
         "anchor": "x3",
         "domain": [
          0.5625,
          0.71875
         ]
        },
        "yaxis4": {
         "anchor": "x4",
         "domain": [
          0.5625,
          0.71875
         ]
        },
        "yaxis5": {
         "anchor": "x5",
         "domain": [
          0.28125,
          0.4375
         ]
        },
        "yaxis6": {
         "anchor": "x6",
         "domain": [
          0.28125,
          0.4375
         ]
        },
        "yaxis7": {
         "anchor": "x7",
         "domain": [
          0,
          0.15625
         ]
        },
        "yaxis8": {
         "anchor": "x8",
         "domain": [
          0,
          0.15625
         ]
        }
       }
      }
     },
     "metadata": {},
     "output_type": "display_data"
    }
   ],
   "source": [
    "#creating a subplot for the MACD and MACD signal\n",
    "tickers = ['AAPL', 'MSFT', 'AMZN', 'GOOGL', 'META', 'TSLA', 'NVDA']\n",
    "fig = make_subplots(rows=4, cols=2, subplot_titles=[f\"{ticker}: MACD vs MACD Signal\" for ticker in tickers])\n",
    "row = 1\n",
    "col=1\n",
    "for i, ticker in enumerate(tickers):\n",
    "    subset = df_cass_final[df_cass_final['ticker'] == ticker]\n",
    "#adding a trace for the MACD and MACD signal\n",
    "    fig.add_trace(go.Scatter(x=subset['date'], y=subset['MACD'], mode='lines', name=f'{ticker} MACD'), row=row, col=col)\n",
    "    fig.add_trace(go.Scatter(x=subset['date'], y=subset['MACD_Signal'], mode='lines', name=f'{ticker} MACD_Signal',\n",
    "                             line=dict(dash='dash')), row=row, col=col)\n",
    "    col += 1\n",
    "    if col > 2:\n",
    "        row += 1\n",
    "        col = 1\n",
    "#updating height and adding title\n",
    "fig.update_layout(height=1000, title_text=\"MACD vs MACD Signal for All Tickers (Real-Time Data)\",)\n",
    "fig.show()\n"
   ]
  },
  {
   "cell_type": "markdown",
   "metadata": {},
   "source": [
    "### This subplot is comprised of 7 line graphs analyzing the Moving Average Convergence Divergence, (which is the difference between short-term and long-term EMAs), and MACD signal line which is a smoother indicator for buy/sell signals (bull vs bear signals). At every timestamp, when we see the MACD rising above a 0 it signifies a bullish trend which means to buy. The distance between a MACD and its signal line can show us the strength of the trend itself. If the MACD falls below 0 then we have a bearish trend. Additionally if there is a crossover of MACD above the signal lne then its a buy signal whereas the MACD below the signal line is a sell signal (bearish). This graph allows us to see which stocks are gaining momentum. Note: The first few rows do not have enough data which is why the graph is flat at the beginning for all companies."
   ]
  },
  {
   "cell_type": "code",
   "execution_count": 99,
   "metadata": {},
   "outputs": [
    {
     "data": {
      "application/vnd.plotly.v1+json": {
       "config": {
        "plotlyServerURL": "https://plot.ly"
       },
       "data": [
        {
         "alignmentgroup": "True",
         "hovertemplate": "Ticker=%{x}<br>MACD Value=%{y}<extra></extra>",
         "legendgroup": "AAPL",
         "marker": {
          "color": "#636efa"
         },
         "name": "AAPL",
         "notched": false,
         "offsetgroup": "AAPL",
         "orientation": "v",
         "showlegend": true,
         "type": "box",
         "x": [
          "AAPL",
          "AAPL",
          "AAPL",
          "AAPL",
          "AAPL",
          "AAPL",
          "AAPL",
          "AAPL",
          "AAPL",
          "AAPL",
          "AAPL",
          "AAPL",
          "AAPL"
         ],
         "x0": " ",
         "xaxis": "x",
         "y": {
          "bdata": "ACAYCiopqz8AAHrkxxC4PwDkn+HJAMA/AMgYx2zuwj8A0GpThALFPwDwwbwaZsY/AJTAizXvxD8AKN4HaozDPwBghRlpPcI/AEgTDLsBwT8AyI9sk7G/PwCYA5HRg70/AEAl7gnbtT8=",
          "dtype": "f8"
         },
         "y0": " ",
         "yaxis": "y"
        },
        {
         "alignmentgroup": "True",
         "hovertemplate": "Ticker=%{x}<br>MACD Value=%{y}<extra></extra>",
         "legendgroup": "AMZN",
         "marker": {
          "color": "#EF553B"
         },
         "name": "AMZN",
         "notched": false,
         "offsetgroup": "AMZN",
         "orientation": "v",
         "showlegend": true,
         "type": "box",
         "x": [
          "AMZN",
          "AMZN",
          "AMZN",
          "AMZN",
          "AMZN",
          "AMZN",
          "AMZN",
          "AMZN",
          "AMZN",
          "AMZN",
          "AMZN",
          "AMZN",
          "AMZN",
          "AMZN",
          "AMZN",
          "AMZN",
          "AMZN",
          "AMZN"
         ],
         "x0": " ",
         "xaxis": "x",
         "y": {
          "bdata": "AAAAAAAAAAAAAAAAAAAAAAAAAAAAAAAAAAAAAAAAAAAAAAAAAAAAAABwVDVEMqM/AEBvbzwCsT8AAC8F8562PwBQT+mVwro/AHCLMreyvT8A4JjDWam/PwAgjHoseL0/AGCOIIhquz8AUPh/uH65PwBotCMFs7c/AMCuR7cFtj8AOB97HnW0PwCgVfhno6Q/",
          "dtype": "f8"
         },
         "y0": " ",
         "yaxis": "y"
        },
        {
         "alignmentgroup": "True",
         "hovertemplate": "Ticker=%{x}<br>MACD Value=%{y}<extra></extra>",
         "legendgroup": "GOOGL",
         "marker": {
          "color": "#00cc96"
         },
         "name": "GOOGL",
         "notched": false,
         "offsetgroup": "GOOGL",
         "orientation": "v",
         "showlegend": true,
         "type": "box",
         "x": [
          "GOOGL",
          "GOOGL",
          "GOOGL",
          "GOOGL",
          "GOOGL",
          "GOOGL",
          "GOOGL",
          "GOOGL",
          "GOOGL",
          "GOOGL",
          "GOOGL",
          "GOOGL",
          "GOOGL",
          "GOOGL",
          "GOOGL",
          "GOOGL",
          "GOOGL",
          "GOOGL"
         ],
         "x0": " ",
         "xaxis": "x",
         "y": {
          "bdata": "AAAAAAAAAAAAAAAAAAAAAAAAAAAAAAAAAAAAAAAAAAAAAAAAAAAAAADAp68tDpY/ANAdRL2Koz8A0Bpdbv2pPwDA6LTivq4/ANCheYQPsT8AsDHoQzCyPwA4do+i0rA/AHDFZ0Ifrz8A4A+sVMqsPwDg48Oooqo/ACDpgbukqD8AUFehUs2mPwBArx6/JJQ/",
          "dtype": "f8"
         },
         "y0": " ",
         "yaxis": "y"
        },
        {
         "alignmentgroup": "True",
         "hovertemplate": "Ticker=%{x}<br>MACD Value=%{y}<extra></extra>",
         "legendgroup": "META",
         "marker": {
          "color": "#ab63fa"
         },
         "name": "META",
         "notched": false,
         "offsetgroup": "META",
         "orientation": "v",
         "showlegend": true,
         "type": "box",
         "x": [
          "META",
          "META",
          "META",
          "META",
          "META",
          "META",
          "META",
          "META",
          "META",
          "META",
          "META",
          "META",
          "META",
          "META",
          "META",
          "META",
          "META",
          "META"
         ],
         "x0": " ",
         "xaxis": "x",
         "y": {
          "bdata": "AAAAAAAAAAAAAAAAAAAAAAAAAAAAAAAAAAAAAAAAAAAAAAAAAAAAAACgaYES0sI/AEiUFAGt0D8AgCQ0mC3WPwD4jzB9PNo/ACAUgeUd3T8AIKpVsQrfPwC4LC8K/N0/AOiWdoPQ3D8AwAd1x5HbPwBgDr+gR9o/ABjhV0v42D8AuOHNuKjXPwDQTUkIstA/",
          "dtype": "f8"
         },
         "y0": " ",
         "yaxis": "y"
        },
        {
         "alignmentgroup": "True",
         "hovertemplate": "Ticker=%{x}<br>MACD Value=%{y}<extra></extra>",
         "legendgroup": "MSFT",
         "marker": {
          "color": "#FFA15A"
         },
         "name": "MSFT",
         "notched": false,
         "offsetgroup": "MSFT",
         "orientation": "v",
         "showlegend": true,
         "type": "box",
         "x": [
          "MSFT",
          "MSFT",
          "MSFT",
          "MSFT",
          "MSFT",
          "MSFT",
          "MSFT",
          "MSFT",
          "MSFT",
          "MSFT",
          "MSFT",
          "MSFT",
          "MSFT",
          "MSFT",
          "MSFT",
          "MSFT",
          "MSFT",
          "MSFT"
         ],
         "x0": " ",
         "xaxis": "x",
         "y": {
          "bdata": "AAAAAAAAAAAAAAAAAAAAAAAAAAAAAAAAAAAAAAAAAAAAAAAAAAAAAAAgYjcki6M/APAzn/tQsT8AQCXirQe3PwDQQqp6Prs/ABA0JzY8vj8AkA/o9x3APwBwDIq/L78/ALCJZKUCvj8AcDo1ML+8PwCgX8/mbbs/APDuu58Vuj8AMIjgyru4PwDgfE2LLqs/",
          "dtype": "f8"
         },
         "y0": " ",
         "yaxis": "y"
        },
        {
         "alignmentgroup": "True",
         "hovertemplate": "Ticker=%{x}<br>MACD Value=%{y}<extra></extra>",
         "legendgroup": "NVDA",
         "marker": {
          "color": "#19d3f3"
         },
         "name": "NVDA",
         "notched": false,
         "offsetgroup": "NVDA",
         "orientation": "v",
         "showlegend": true,
         "type": "box",
         "x": [
          "NVDA",
          "NVDA",
          "NVDA",
          "NVDA",
          "NVDA",
          "NVDA",
          "NVDA",
          "NVDA",
          "NVDA",
          "NVDA",
          "NVDA",
          "NVDA",
          "NVDA",
          "NVDA",
          "NVDA",
          "NVDA",
          "NVDA",
          "NVDA"
         ],
         "x0": " ",
         "xaxis": "x",
         "y": {
          "bdata": "AAAAAAAAAAAAAAAAAAAAAAAAAAAAAAAAAAAAAAAAAAAAAAAAAAAAAAAwzf4svpg/APBGFlXspT8A4Iz8KSitPwDA3dj7PrE/APiRI7Ujsz8ArF3Ko2e0PwA8Z174BLM/ACQ+uZu3sT8AuIdOvX6wPwAYGOH7sq4/ANCJDOuNrD8AyL89b4yqPwBAf9wP6qA/",
          "dtype": "f8"
         },
         "y0": " ",
         "yaxis": "y"
        },
        {
         "alignmentgroup": "True",
         "hovertemplate": "Ticker=%{x}<br>MACD Value=%{y}<extra></extra>",
         "legendgroup": "TSLA",
         "marker": {
          "color": "#FF6692"
         },
         "name": "TSLA",
         "notched": false,
         "offsetgroup": "TSLA",
         "orientation": "v",
         "showlegend": true,
         "type": "box",
         "x": [
          "TSLA",
          "TSLA",
          "TSLA",
          "TSLA",
          "TSLA",
          "TSLA",
          "TSLA",
          "TSLA",
          "TSLA",
          "TSLA",
          "TSLA",
          "TSLA",
          "TSLA",
          "TSLA",
          "TSLA",
          "TSLA",
          "TSLA",
          "TSLA"
         ],
         "x0": " ",
         "xaxis": "x",
         "y": {
          "bdata": "AAAAAAAAAAAAAAAAAAAAAAAAAAAAAAAAAAAAAAAAAAAAAAAAAAAAAADg1JJxXas/AJjPPBo/uD8AUOhtlx/APwAgFTzdEsM/AIi69fQqxT8ABIDPN5HGPwDAsi6i48U/ABxgdMYbxT8AUI8NnEHEPwCQTDqWW8M/AJj+SOVuwj8AOBNgrX/BPwA4Xojt1LM/",
          "dtype": "f8"
         },
         "y0": " ",
         "yaxis": "y"
        }
       ],
       "layout": {
        "boxmode": "overlay",
        "legend": {
         "title": {
          "text": "Ticker"
         },
         "tracegroupgap": 0
        },
        "template": {
         "data": {
          "bar": [
           {
            "error_x": {
             "color": "#2a3f5f"
            },
            "error_y": {
             "color": "#2a3f5f"
            },
            "marker": {
             "line": {
              "color": "white",
              "width": 0.5
             },
             "pattern": {
              "fillmode": "overlay",
              "size": 10,
              "solidity": 0.2
             }
            },
            "type": "bar"
           }
          ],
          "barpolar": [
           {
            "marker": {
             "line": {
              "color": "white",
              "width": 0.5
             },
             "pattern": {
              "fillmode": "overlay",
              "size": 10,
              "solidity": 0.2
             }
            },
            "type": "barpolar"
           }
          ],
          "carpet": [
           {
            "aaxis": {
             "endlinecolor": "#2a3f5f",
             "gridcolor": "#C8D4E3",
             "linecolor": "#C8D4E3",
             "minorgridcolor": "#C8D4E3",
             "startlinecolor": "#2a3f5f"
            },
            "baxis": {
             "endlinecolor": "#2a3f5f",
             "gridcolor": "#C8D4E3",
             "linecolor": "#C8D4E3",
             "minorgridcolor": "#C8D4E3",
             "startlinecolor": "#2a3f5f"
            },
            "type": "carpet"
           }
          ],
          "choropleth": [
           {
            "colorbar": {
             "outlinewidth": 0,
             "ticks": ""
            },
            "type": "choropleth"
           }
          ],
          "contour": [
           {
            "colorbar": {
             "outlinewidth": 0,
             "ticks": ""
            },
            "colorscale": [
             [
              0,
              "#0d0887"
             ],
             [
              0.1111111111111111,
              "#46039f"
             ],
             [
              0.2222222222222222,
              "#7201a8"
             ],
             [
              0.3333333333333333,
              "#9c179e"
             ],
             [
              0.4444444444444444,
              "#bd3786"
             ],
             [
              0.5555555555555556,
              "#d8576b"
             ],
             [
              0.6666666666666666,
              "#ed7953"
             ],
             [
              0.7777777777777778,
              "#fb9f3a"
             ],
             [
              0.8888888888888888,
              "#fdca26"
             ],
             [
              1,
              "#f0f921"
             ]
            ],
            "type": "contour"
           }
          ],
          "contourcarpet": [
           {
            "colorbar": {
             "outlinewidth": 0,
             "ticks": ""
            },
            "type": "contourcarpet"
           }
          ],
          "heatmap": [
           {
            "colorbar": {
             "outlinewidth": 0,
             "ticks": ""
            },
            "colorscale": [
             [
              0,
              "#0d0887"
             ],
             [
              0.1111111111111111,
              "#46039f"
             ],
             [
              0.2222222222222222,
              "#7201a8"
             ],
             [
              0.3333333333333333,
              "#9c179e"
             ],
             [
              0.4444444444444444,
              "#bd3786"
             ],
             [
              0.5555555555555556,
              "#d8576b"
             ],
             [
              0.6666666666666666,
              "#ed7953"
             ],
             [
              0.7777777777777778,
              "#fb9f3a"
             ],
             [
              0.8888888888888888,
              "#fdca26"
             ],
             [
              1,
              "#f0f921"
             ]
            ],
            "type": "heatmap"
           }
          ],
          "histogram": [
           {
            "marker": {
             "pattern": {
              "fillmode": "overlay",
              "size": 10,
              "solidity": 0.2
             }
            },
            "type": "histogram"
           }
          ],
          "histogram2d": [
           {
            "colorbar": {
             "outlinewidth": 0,
             "ticks": ""
            },
            "colorscale": [
             [
              0,
              "#0d0887"
             ],
             [
              0.1111111111111111,
              "#46039f"
             ],
             [
              0.2222222222222222,
              "#7201a8"
             ],
             [
              0.3333333333333333,
              "#9c179e"
             ],
             [
              0.4444444444444444,
              "#bd3786"
             ],
             [
              0.5555555555555556,
              "#d8576b"
             ],
             [
              0.6666666666666666,
              "#ed7953"
             ],
             [
              0.7777777777777778,
              "#fb9f3a"
             ],
             [
              0.8888888888888888,
              "#fdca26"
             ],
             [
              1,
              "#f0f921"
             ]
            ],
            "type": "histogram2d"
           }
          ],
          "histogram2dcontour": [
           {
            "colorbar": {
             "outlinewidth": 0,
             "ticks": ""
            },
            "colorscale": [
             [
              0,
              "#0d0887"
             ],
             [
              0.1111111111111111,
              "#46039f"
             ],
             [
              0.2222222222222222,
              "#7201a8"
             ],
             [
              0.3333333333333333,
              "#9c179e"
             ],
             [
              0.4444444444444444,
              "#bd3786"
             ],
             [
              0.5555555555555556,
              "#d8576b"
             ],
             [
              0.6666666666666666,
              "#ed7953"
             ],
             [
              0.7777777777777778,
              "#fb9f3a"
             ],
             [
              0.8888888888888888,
              "#fdca26"
             ],
             [
              1,
              "#f0f921"
             ]
            ],
            "type": "histogram2dcontour"
           }
          ],
          "mesh3d": [
           {
            "colorbar": {
             "outlinewidth": 0,
             "ticks": ""
            },
            "type": "mesh3d"
           }
          ],
          "parcoords": [
           {
            "line": {
             "colorbar": {
              "outlinewidth": 0,
              "ticks": ""
             }
            },
            "type": "parcoords"
           }
          ],
          "pie": [
           {
            "automargin": true,
            "type": "pie"
           }
          ],
          "scatter": [
           {
            "fillpattern": {
             "fillmode": "overlay",
             "size": 10,
             "solidity": 0.2
            },
            "type": "scatter"
           }
          ],
          "scatter3d": [
           {
            "line": {
             "colorbar": {
              "outlinewidth": 0,
              "ticks": ""
             }
            },
            "marker": {
             "colorbar": {
              "outlinewidth": 0,
              "ticks": ""
             }
            },
            "type": "scatter3d"
           }
          ],
          "scattercarpet": [
           {
            "marker": {
             "colorbar": {
              "outlinewidth": 0,
              "ticks": ""
             }
            },
            "type": "scattercarpet"
           }
          ],
          "scattergeo": [
           {
            "marker": {
             "colorbar": {
              "outlinewidth": 0,
              "ticks": ""
             }
            },
            "type": "scattergeo"
           }
          ],
          "scattergl": [
           {
            "marker": {
             "colorbar": {
              "outlinewidth": 0,
              "ticks": ""
             }
            },
            "type": "scattergl"
           }
          ],
          "scattermap": [
           {
            "marker": {
             "colorbar": {
              "outlinewidth": 0,
              "ticks": ""
             }
            },
            "type": "scattermap"
           }
          ],
          "scattermapbox": [
           {
            "marker": {
             "colorbar": {
              "outlinewidth": 0,
              "ticks": ""
             }
            },
            "type": "scattermapbox"
           }
          ],
          "scatterpolar": [
           {
            "marker": {
             "colorbar": {
              "outlinewidth": 0,
              "ticks": ""
             }
            },
            "type": "scatterpolar"
           }
          ],
          "scatterpolargl": [
           {
            "marker": {
             "colorbar": {
              "outlinewidth": 0,
              "ticks": ""
             }
            },
            "type": "scatterpolargl"
           }
          ],
          "scatterternary": [
           {
            "marker": {
             "colorbar": {
              "outlinewidth": 0,
              "ticks": ""
             }
            },
            "type": "scatterternary"
           }
          ],
          "surface": [
           {
            "colorbar": {
             "outlinewidth": 0,
             "ticks": ""
            },
            "colorscale": [
             [
              0,
              "#0d0887"
             ],
             [
              0.1111111111111111,
              "#46039f"
             ],
             [
              0.2222222222222222,
              "#7201a8"
             ],
             [
              0.3333333333333333,
              "#9c179e"
             ],
             [
              0.4444444444444444,
              "#bd3786"
             ],
             [
              0.5555555555555556,
              "#d8576b"
             ],
             [
              0.6666666666666666,
              "#ed7953"
             ],
             [
              0.7777777777777778,
              "#fb9f3a"
             ],
             [
              0.8888888888888888,
              "#fdca26"
             ],
             [
              1,
              "#f0f921"
             ]
            ],
            "type": "surface"
           }
          ],
          "table": [
           {
            "cells": {
             "fill": {
              "color": "#EBF0F8"
             },
             "line": {
              "color": "white"
             }
            },
            "header": {
             "fill": {
              "color": "#C8D4E3"
             },
             "line": {
              "color": "white"
             }
            },
            "type": "table"
           }
          ]
         },
         "layout": {
          "annotationdefaults": {
           "arrowcolor": "#2a3f5f",
           "arrowhead": 0,
           "arrowwidth": 1
          },
          "autotypenumbers": "strict",
          "coloraxis": {
           "colorbar": {
            "outlinewidth": 0,
            "ticks": ""
           }
          },
          "colorscale": {
           "diverging": [
            [
             0,
             "#8e0152"
            ],
            [
             0.1,
             "#c51b7d"
            ],
            [
             0.2,
             "#de77ae"
            ],
            [
             0.3,
             "#f1b6da"
            ],
            [
             0.4,
             "#fde0ef"
            ],
            [
             0.5,
             "#f7f7f7"
            ],
            [
             0.6,
             "#e6f5d0"
            ],
            [
             0.7,
             "#b8e186"
            ],
            [
             0.8,
             "#7fbc41"
            ],
            [
             0.9,
             "#4d9221"
            ],
            [
             1,
             "#276419"
            ]
           ],
           "sequential": [
            [
             0,
             "#0d0887"
            ],
            [
             0.1111111111111111,
             "#46039f"
            ],
            [
             0.2222222222222222,
             "#7201a8"
            ],
            [
             0.3333333333333333,
             "#9c179e"
            ],
            [
             0.4444444444444444,
             "#bd3786"
            ],
            [
             0.5555555555555556,
             "#d8576b"
            ],
            [
             0.6666666666666666,
             "#ed7953"
            ],
            [
             0.7777777777777778,
             "#fb9f3a"
            ],
            [
             0.8888888888888888,
             "#fdca26"
            ],
            [
             1,
             "#f0f921"
            ]
           ],
           "sequentialminus": [
            [
             0,
             "#0d0887"
            ],
            [
             0.1111111111111111,
             "#46039f"
            ],
            [
             0.2222222222222222,
             "#7201a8"
            ],
            [
             0.3333333333333333,
             "#9c179e"
            ],
            [
             0.4444444444444444,
             "#bd3786"
            ],
            [
             0.5555555555555556,
             "#d8576b"
            ],
            [
             0.6666666666666666,
             "#ed7953"
            ],
            [
             0.7777777777777778,
             "#fb9f3a"
            ],
            [
             0.8888888888888888,
             "#fdca26"
            ],
            [
             1,
             "#f0f921"
            ]
           ]
          },
          "colorway": [
           "#636efa",
           "#EF553B",
           "#00cc96",
           "#ab63fa",
           "#FFA15A",
           "#19d3f3",
           "#FF6692",
           "#B6E880",
           "#FF97FF",
           "#FECB52"
          ],
          "font": {
           "color": "#2a3f5f"
          },
          "geo": {
           "bgcolor": "white",
           "lakecolor": "white",
           "landcolor": "white",
           "showlakes": true,
           "showland": true,
           "subunitcolor": "#C8D4E3"
          },
          "hoverlabel": {
           "align": "left"
          },
          "hovermode": "closest",
          "mapbox": {
           "style": "light"
          },
          "paper_bgcolor": "white",
          "plot_bgcolor": "white",
          "polar": {
           "angularaxis": {
            "gridcolor": "#EBF0F8",
            "linecolor": "#EBF0F8",
            "ticks": ""
           },
           "bgcolor": "white",
           "radialaxis": {
            "gridcolor": "#EBF0F8",
            "linecolor": "#EBF0F8",
            "ticks": ""
           }
          },
          "scene": {
           "xaxis": {
            "backgroundcolor": "white",
            "gridcolor": "#DFE8F3",
            "gridwidth": 2,
            "linecolor": "#EBF0F8",
            "showbackground": true,
            "ticks": "",
            "zerolinecolor": "#EBF0F8"
           },
           "yaxis": {
            "backgroundcolor": "white",
            "gridcolor": "#DFE8F3",
            "gridwidth": 2,
            "linecolor": "#EBF0F8",
            "showbackground": true,
            "ticks": "",
            "zerolinecolor": "#EBF0F8"
           },
           "zaxis": {
            "backgroundcolor": "white",
            "gridcolor": "#DFE8F3",
            "gridwidth": 2,
            "linecolor": "#EBF0F8",
            "showbackground": true,
            "ticks": "",
            "zerolinecolor": "#EBF0F8"
           }
          },
          "shapedefaults": {
           "line": {
            "color": "#2a3f5f"
           }
          },
          "ternary": {
           "aaxis": {
            "gridcolor": "#DFE8F3",
            "linecolor": "#A2B1C6",
            "ticks": ""
           },
           "baxis": {
            "gridcolor": "#DFE8F3",
            "linecolor": "#A2B1C6",
            "ticks": ""
           },
           "bgcolor": "white",
           "caxis": {
            "gridcolor": "#DFE8F3",
            "linecolor": "#A2B1C6",
            "ticks": ""
           }
          },
          "title": {
           "x": 0.05
          },
          "xaxis": {
           "automargin": true,
           "gridcolor": "#EBF0F8",
           "linecolor": "#EBF0F8",
           "ticks": "",
           "title": {
            "standoff": 15
           },
           "zerolinecolor": "#EBF0F8",
           "zerolinewidth": 2
          },
          "yaxis": {
           "automargin": true,
           "gridcolor": "#EBF0F8",
           "linecolor": "#EBF0F8",
           "ticks": "",
           "title": {
            "standoff": 15
           },
           "zerolinecolor": "#EBF0F8",
           "zerolinewidth": 2
          }
         }
        },
        "title": {
         "text": "MACD Distribution by Ticker (Real-Time)"
        },
        "xaxis": {
         "anchor": "y",
         "categoryarray": [
          "AAPL",
          "AMZN",
          "GOOGL",
          "META",
          "MSFT",
          "NVDA",
          "TSLA"
         ],
         "categoryorder": "array",
         "domain": [
          0,
          1
         ],
         "title": {
          "text": "Ticker"
         }
        },
        "yaxis": {
         "anchor": "x",
         "domain": [
          0,
          1
         ],
         "title": {
          "text": "MACD Value"
         }
        }
       }
      }
     },
     "metadata": {},
     "output_type": "display_data"
    }
   ],
   "source": [
    "#creating a box plot that shows the distrubtion of MACD. This is different from previous graph because it lets us see things like outliers and the median\n",
    "fig = px.box(\n",
    "    df_cass_final, \n",
    "    x='ticker', \n",
    "    y='MACD', \n",
    "    color='ticker',\n",
    "    title='MACD Distribution by Ticker (Real-Time)',\n",
    "    labels={'ticker': 'Ticker', 'MACD': 'MACD Value'},\n",
    ")\n",
    "#updating layout\n",
    "fig.update_layout(\n",
    "    yaxis_title='MACD Value',\n",
    "    xaxis_title='Ticker',)\n",
    "fig.show()\n",
    "\n"
   ]
  },
  {
   "cell_type": "markdown",
   "metadata": {},
   "source": [
    "### The plot above shows a boxplot of the Distribution of the Moving Average Convergence Divergence (MACD). We can see the median MACD for each company. Additionally the height of the box shows us the interquartile range. A larger IQR means a higher amount of volatility in monentum. Dots represent outliers. If we see tighter and smaller distributions it implies that the company is currently more stable in the past 3 minutes of real time anaylsis. Whereas if the MACD values are higher and at a bigger box height, it could imply a larger price divergence. This grpah is useful for a quick analysis between each company unlike the prior tile above."
   ]
  },
  {
   "cell_type": "code",
   "execution_count": 105,
   "metadata": {},
   "outputs": [
    {
     "data": {
      "application/vnd.plotly.v1+json": {
       "config": {
        "plotlyServerURL": "https://plot.ly"
       },
       "data": [
        {
         "line": {
          "color": "black"
         },
         "mode": "lines",
         "name": "BB_Middle",
         "showlegend": true,
         "type": "scatter",
         "x": [
          "2025-04-11T17:07:06.000000000",
          "2025-04-11T17:07:15.000000000",
          "2025-04-11T17:07:27.000000000",
          "2025-04-11T17:07:35.000000000",
          "2025-04-11T17:07:47.000000000",
          "2025-04-11T17:07:56.000000000",
          "2025-04-11T17:08:08.000000000",
          "2025-04-11T17:08:16.000000000",
          "2025-04-11T17:08:25.000000000",
          "2025-04-11T17:08:37.000000000",
          "2025-04-11T17:08:45.000000000",
          "2025-04-11T17:08:57.000000000",
          "2025-04-11T17:09:09.000000000"
         ],
         "xaxis": "x",
         "y": {
          "bdata": "nu+nxkvHaEBlO99PjctoQCuHFtnOz2hA8tJNYhDUaEC4HoXrUdhoQLgehetR2GhAehSuR+HWaEA9CtejcNVoQAAAAAAA1GhAwvUoXI/SaECF61G4HtFoQIXrUbge0WhAj8L1KFzPaEA=",
          "dtype": "f8"
         },
         "yaxis": "y"
        },
        {
         "line": {
          "color": "blue",
          "dash": "dash"
         },
         "mode": "lines",
         "name": "BB_Upper",
         "showlegend": true,
         "type": "scatter",
         "x": [
          "2025-04-11T17:07:06.000000000",
          "2025-04-11T17:07:15.000000000",
          "2025-04-11T17:07:27.000000000",
          "2025-04-11T17:07:35.000000000",
          "2025-04-11T17:07:47.000000000",
          "2025-04-11T17:07:56.000000000",
          "2025-04-11T17:08:08.000000000",
          "2025-04-11T17:08:16.000000000",
          "2025-04-11T17:08:25.000000000",
          "2025-04-11T17:08:37.000000000",
          "2025-04-11T17:08:45.000000000",
          "2025-04-11T17:08:57.000000000",
          "2025-04-11T17:09:09.000000000"
         ],
         "xaxis": "x",
         "y": {
          "bdata": "FzNBVFTaaEDCKUry3OJoQIh1gXse52hAaRbn7xjnaEC4HoXrUdhoQLgehetR2GhAPPlg41HdaECnE7LDU91oQGsJ2x/j22hAh9rb9//YaECF61G4HtFoQIXrUbge0WhAvL0lIDvXaEA=",
          "dtype": "f8"
         },
         "yaxis": "y"
        },
        {
         "line": {
          "color": "orange",
          "dash": "dash"
         },
         "mode": "lines",
         "name": "BB_Lower",
         "showlegend": true,
         "type": "scatter",
         "x": [
          "2025-04-11T17:07:06.000000000",
          "2025-04-11T17:07:15.000000000",
          "2025-04-11T17:07:27.000000000",
          "2025-04-11T17:07:35.000000000",
          "2025-04-11T17:07:47.000000000",
          "2025-04-11T17:07:56.000000000",
          "2025-04-11T17:08:08.000000000",
          "2025-04-11T17:08:16.000000000",
          "2025-04-11T17:08:25.000000000",
          "2025-04-11T17:08:37.000000000",
          "2025-04-11T17:08:45.000000000",
          "2025-04-11T17:08:57.000000000",
          "2025-04-11T17:09:09.000000000"
         ],
         "xaxis": "x",
         "y": {
          "bdata": "JawOOUO0aEAITXStPbRoQM6YqzZ/uGhAe4+01AfBaEC4HoXrUdhoQLgehetR2GhAuC/7q3DQaEDTAPyDjc1oQJX2JOAczGhA/RB2wB7MaECF61G4HtFoQIXrUbge0WhAYsfFMX3HaEA=",
          "dtype": "f8"
         },
         "yaxis": "y"
        },
        {
         "fill": "toself",
         "fillcolor": "rgba(173, 216, 230, 0.2)",
         "hoverinfo": "skip",
         "line": {
          "color": "rgba(255,255,255,0)"
         },
         "showlegend": false,
         "type": "scatter",
         "x": [
          "2025-04-11T17:07:06",
          "2025-04-11T17:07:15",
          "2025-04-11T17:07:27",
          "2025-04-11T17:07:35",
          "2025-04-11T17:07:47",
          "2025-04-11T17:07:56",
          "2025-04-11T17:08:08",
          "2025-04-11T17:08:16",
          "2025-04-11T17:08:25",
          "2025-04-11T17:08:37",
          "2025-04-11T17:08:45",
          "2025-04-11T17:08:57",
          "2025-04-11T17:09:09",
          "2025-04-11T17:09:09",
          "2025-04-11T17:08:57",
          "2025-04-11T17:08:45",
          "2025-04-11T17:08:37",
          "2025-04-11T17:08:25",
          "2025-04-11T17:08:16",
          "2025-04-11T17:08:08",
          "2025-04-11T17:07:56",
          "2025-04-11T17:07:47",
          "2025-04-11T17:07:35",
          "2025-04-11T17:07:27",
          "2025-04-11T17:07:15",
          "2025-04-11T17:07:06"
         ],
         "xaxis": "x",
         "y": [
          198.82279408201495,
          199.08947100148185,
          199.22247100148184,
          199.2217940820149,
          198.76,
          198.76,
          198.91624611797477,
          198.91647515087718,
          198.87147515087722,
          198.78124611797486,
          198.535,
          198.535,
          198.72596747752493,
          198.23403252247505,
          198.535,
          198.535,
          198.3787538820251,
          198.37852484912278,
          198.4235248491228,
          198.51375388202518,
          198.76,
          198.76,
          198.03220591798512,
          197.76552899851816,
          197.63252899851818,
          197.63320591798507
         ],
         "yaxis": "y"
        },
        {
         "line": {
          "color": "black"
         },
         "mode": "lines",
         "name": "BB_Middle",
         "showlegend": false,
         "type": "scatter",
         "x": [
          "2025-04-11T17:06:15.000000000",
          "2025-04-11T17:06:19.000000000",
          "2025-04-11T17:06:31.000000000",
          "2025-04-11T17:06:40.000000000",
          "2025-04-11T17:06:52.000000000",
          "2025-04-11T17:07:02.000000000",
          "2025-04-11T17:07:13.000000000",
          "2025-04-11T17:07:25.000000000",
          "2025-04-11T17:07:35.000000000",
          "2025-04-11T17:07:47.000000000",
          "2025-04-11T17:07:52.000000000",
          "2025-04-11T17:08:08.000000000",
          "2025-04-11T17:08:16.000000000",
          "2025-04-11T17:08:23.000000000",
          "2025-04-11T17:08:36.000000000",
          "2025-04-11T17:08:43.000000000",
          "2025-04-11T17:08:57.000000000",
          "2025-04-11T17:09:09.000000000"
         ],
         "xaxis": "x2",
         "y": {
          "bdata": "yna+nxrpgEDKdr6fGumAQMp2vp8a6YBAyna+nxrpgEAQWDm0yCt4QLJ78rBQLXhAVZ+rrdgueED4wmSqYDB4QJrmHafoMXhAPQrXo3AzeEA9CtejcDN4QAsCK4cWM3hA2/l+arwyeECq8dJNYjJ4QHrpJjEIMnhASOF6FK4xeEBI4XoUrjF4QKAaL90kMHhA",
          "dtype": "f8"
         },
         "yaxis": "y2"
        },
        {
         "line": {
          "color": "blue",
          "dash": "dash"
         },
         "mode": "lines",
         "name": "BB_Upper",
         "showlegend": false,
         "type": "scatter",
         "x": [
          "2025-04-11T17:06:15.000000000",
          "2025-04-11T17:06:19.000000000",
          "2025-04-11T17:06:31.000000000",
          "2025-04-11T17:06:40.000000000",
          "2025-04-11T17:06:52.000000000",
          "2025-04-11T17:07:02.000000000",
          "2025-04-11T17:07:13.000000000",
          "2025-04-11T17:07:25.000000000",
          "2025-04-11T17:07:35.000000000",
          "2025-04-11T17:07:47.000000000",
          "2025-04-11T17:07:52.000000000",
          "2025-04-11T17:08:08.000000000",
          "2025-04-11T17:08:16.000000000",
          "2025-04-11T17:08:23.000000000",
          "2025-04-11T17:08:36.000000000",
          "2025-04-11T17:08:43.000000000",
          "2025-04-11T17:08:57.000000000",
          "2025-04-11T17:09:09.000000000"
         ],
         "xaxis": "x2",
         "y": {
          "bdata": "rUxO6AvxgECtTE7oC/GAQK1MTugL8YBArUxO6AvxgEAQWDm0yCt4QPuLFLYpNHhAA3dDrjs3eEClmvyqwzh4QOD2P6zBOHhAPQrXo3AzeEA9CtejcDN4QM/NZ4WpNHhAa/bQ+qk0eEA77iTeTzR4QEK1Yy+bM3hASOF6FK4xeEBI4XoUrjF4QLkfIWEDN3hA",
          "dtype": "f8"
         },
         "yaxis": "y2"
        },
        {
         "line": {
          "color": "orange",
          "dash": "dash"
         },
         "mode": "lines",
         "name": "BB_Lower",
         "showlegend": false,
         "type": "scatter",
         "x": [
          "2025-04-11T17:06:15.000000000",
          "2025-04-11T17:06:19.000000000",
          "2025-04-11T17:06:31.000000000",
          "2025-04-11T17:06:40.000000000",
          "2025-04-11T17:06:52.000000000",
          "2025-04-11T17:07:02.000000000",
          "2025-04-11T17:07:13.000000000",
          "2025-04-11T17:07:25.000000000",
          "2025-04-11T17:07:35.000000000",
          "2025-04-11T17:07:47.000000000",
          "2025-04-11T17:07:52.000000000",
          "2025-04-11T17:08:08.000000000",
          "2025-04-11T17:08:16.000000000",
          "2025-04-11T17:08:23.000000000",
          "2025-04-11T17:08:36.000000000",
          "2025-04-11T17:08:43.000000000",
          "2025-04-11T17:08:57.000000000",
          "2025-04-11T17:09:09.000000000"
         ],
         "xaxis": "x2",
         "y": {
          "bdata": "56AuVynhgEDnoC5XKeGAQOegLlcp4YBA56AuVynhgEAQWDm0yCt4QGlr0Kt3JnhAp8cTrXUmeEBL68yp/Sd4QFTW+6EPK3hAPQrXo3AzeEA9CtejcDN4QEc27oiDMXhAS/0s2s4weEAZ9YC9dDB4QLId6jJ1MHhASOF6FK4xeEBI4XoUrjF4QIcVPVlGKXhA",
          "dtype": "f8"
         },
         "yaxis": "y2"
        },
        {
         "fill": "toself",
         "fillcolor": "rgba(173, 216, 230, 0.2)",
         "hoverinfo": "skip",
         "line": {
          "color": "rgba(255,255,255,0)"
         },
         "showlegend": false,
         "type": "scatter",
         "x": [
          "2025-04-11T17:06:15",
          "2025-04-11T17:06:19",
          "2025-04-11T17:06:31",
          "2025-04-11T17:06:40",
          "2025-04-11T17:06:52",
          "2025-04-11T17:07:02",
          "2025-04-11T17:07:13",
          "2025-04-11T17:07:25",
          "2025-04-11T17:07:35",
          "2025-04-11T17:07:47",
          "2025-04-11T17:07:52",
          "2025-04-11T17:08:08",
          "2025-04-11T17:08:16",
          "2025-04-11T17:08:23",
          "2025-04-11T17:08:36",
          "2025-04-11T17:08:43",
          "2025-04-11T17:08:57",
          "2025-04-11T17:09:09",
          "2025-04-11T17:09:09",
          "2025-04-11T17:08:57",
          "2025-04-11T17:08:43",
          "2025-04-11T17:08:36",
          "2025-04-11T17:08:23",
          "2025-04-11T17:08:16",
          "2025-04-11T17:08:08",
          "2025-04-11T17:07:52",
          "2025-04-11T17:07:47",
          "2025-04-11T17:07:35",
          "2025-04-11T17:07:25",
          "2025-04-11T17:07:13",
          "2025-04-11T17:07:02",
          "2025-04-11T17:06:52",
          "2025-04-11T17:06:40",
          "2025-04-11T17:06:31",
          "2025-04-11T17:06:19",
          "2025-04-11T17:06:15"
         ],
         "xaxis": "x2",
         "y": [
          542.1308141820097,
          542.1308141820097,
          542.1308141820097,
          542.1308141820097,
          386.7365,
          387.2601834108934,
          387.45207048753235,
          387.5477704875323,
          387.5472834108932,
          387.215,
          387.215,
          387.2913869910089,
          387.29149896265034,
          387.2694989626504,
          387.22538699100926,
          387.105,
          387.105,
          387.4383250516799,
          386.57967494832013,
          387.105,
          387.105,
          387.0286130089909,
          387.0285010373496,
          387.05050103734965,
          387.09461300899096,
          387.215,
          387.215,
          386.6913165891067,
          386.49942951246766,
          386.4037295124676,
          386.4042165891065,
          386.7365,
          540.1451858179906,
          540.1451858179906,
          540.1451858179906,
          540.1451858179906
         ],
         "yaxis": "y2"
        },
        {
         "line": {
          "color": "black"
         },
         "mode": "lines",
         "name": "BB_Middle",
         "showlegend": false,
         "type": "scatter",
         "x": [
          "2025-04-11T17:06:13.000000000",
          "2025-04-11T17:06:23.000000000",
          "2025-04-11T17:06:37.000000000",
          "2025-04-11T17:06:45.000000000",
          "2025-04-11T17:06:52.000000000",
          "2025-04-11T17:07:06.000000000",
          "2025-04-11T17:07:15.000000000",
          "2025-04-11T17:07:27.000000000",
          "2025-04-11T17:07:34.000000000",
          "2025-04-11T17:07:47.000000000",
          "2025-04-11T17:07:56.000000000",
          "2025-04-11T17:08:08.000000000",
          "2025-04-11T17:08:16.000000000",
          "2025-04-11T17:08:25.000000000",
          "2025-04-11T17:08:36.000000000",
          "2025-04-11T17:08:45.000000000",
          "2025-04-11T17:08:57.000000000",
          "2025-04-11T17:09:09.000000000"
         ],
         "xaxis": "x3",
         "y": {
          "bdata": "j8L1KFzPaECPwvUoXM9oQI/C9Shcz2hAj8L1KFzPaEAK16NwPepmQGmR7Xw/7WZAxks3iUHwZkAlBoGVQ/NmQIPAyqFF9mZA4XoUrkf5ZkDhehSuR/lmQE5iEFg5+GZAukkMAiv3ZkAmMQisHPZmQJMYBFYO9WZAAAAAAAD0ZkAAAAAAAPRmQOJ6FK5H8WZA",
          "dtype": "f8"
         },
         "yaxis": "y3"
        },
        {
         "line": {
          "color": "blue",
          "dash": "dash"
         },
         "mode": "lines",
         "name": "BB_Upper",
         "showlegend": false,
         "type": "scatter",
         "x": [
          "2025-04-11T17:06:13.000000000",
          "2025-04-11T17:06:23.000000000",
          "2025-04-11T17:06:37.000000000",
          "2025-04-11T17:06:45.000000000",
          "2025-04-11T17:06:52.000000000",
          "2025-04-11T17:07:06.000000000",
          "2025-04-11T17:07:15.000000000",
          "2025-04-11T17:07:27.000000000",
          "2025-04-11T17:07:34.000000000",
          "2025-04-11T17:07:47.000000000",
          "2025-04-11T17:07:56.000000000",
          "2025-04-11T17:08:08.000000000",
          "2025-04-11T17:08:16.000000000",
          "2025-04-11T17:08:25.000000000",
          "2025-04-11T17:08:36.000000000",
          "2025-04-11T17:08:45.000000000",
          "2025-04-11T17:08:57.000000000",
          "2025-04-11T17:09:09.000000000"
         ],
         "xaxis": "x3",
         "y": {
          "bdata": "vL0lIDvXaEC8vSUgO9doQLy9JSA712hAvL0lIDvXaEAK16NwPepmQL0wUj+z+mZAgLo5Q7sAZ0DedINPvQNnQNVfL2S5A2dA4XoUrkf5ZkDhehSuR/lmQMzFxlLy/GZAkT8Cs/P8ZkD8Jv5c5ftmQBB8ulDH+WZAAAAAAAD0ZkAAAAAAAPRmQD25u7dx/WZA",
          "dtype": "f8"
         },
         "yaxis": "y3"
        },
        {
         "line": {
          "color": "orange",
          "dash": "dash"
         },
         "mode": "lines",
         "name": "BB_Lower",
         "showlegend": false,
         "type": "scatter",
         "x": [
          "2025-04-11T17:06:13.000000000",
          "2025-04-11T17:06:23.000000000",
          "2025-04-11T17:06:37.000000000",
          "2025-04-11T17:06:45.000000000",
          "2025-04-11T17:06:52.000000000",
          "2025-04-11T17:07:06.000000000",
          "2025-04-11T17:07:15.000000000",
          "2025-04-11T17:07:27.000000000",
          "2025-04-11T17:07:34.000000000",
          "2025-04-11T17:07:47.000000000",
          "2025-04-11T17:07:56.000000000",
          "2025-04-11T17:08:08.000000000",
          "2025-04-11T17:08:16.000000000",
          "2025-04-11T17:08:25.000000000",
          "2025-04-11T17:08:36.000000000",
          "2025-04-11T17:08:45.000000000",
          "2025-04-11T17:08:57.000000000",
          "2025-04-11T17:09:09.000000000"
         ],
         "xaxis": "x3",
         "y": {
          "bdata": "YsfFMX3HaEBix8UxfcdoQGLHxTF9x2hAYsfFMX3HaEAK16NwPepmQBXyiLrL32ZADN00z8ffZkBsl37byeJmQDEhZt/R6GZA4XoUrkf5ZkDhehSuR/lmQND+WV2A82ZA41MWUWLxZkBQOxL7U/BmQBa1TVtV8GZAAAAAAAD0ZkAAAAAAAPRmQIc8baQd5WZA",
          "dtype": "f8"
         },
         "yaxis": "y3"
        },
        {
         "fill": "toself",
         "fillcolor": "rgba(173, 216, 230, 0.2)",
         "hoverinfo": "skip",
         "line": {
          "color": "rgba(255,255,255,0)"
         },
         "showlegend": false,
         "type": "scatter",
         "x": [
          "2025-04-11T17:06:13",
          "2025-04-11T17:06:23",
          "2025-04-11T17:06:37",
          "2025-04-11T17:06:45",
          "2025-04-11T17:06:52",
          "2025-04-11T17:07:06",
          "2025-04-11T17:07:15",
          "2025-04-11T17:07:27",
          "2025-04-11T17:07:34",
          "2025-04-11T17:07:47",
          "2025-04-11T17:07:56",
          "2025-04-11T17:08:08",
          "2025-04-11T17:08:16",
          "2025-04-11T17:08:25",
          "2025-04-11T17:08:36",
          "2025-04-11T17:08:45",
          "2025-04-11T17:08:57",
          "2025-04-11T17:09:09",
          "2025-04-11T17:09:09",
          "2025-04-11T17:08:57",
          "2025-04-11T17:08:45",
          "2025-04-11T17:08:36",
          "2025-04-11T17:08:25",
          "2025-04-11T17:08:16",
          "2025-04-11T17:08:08",
          "2025-04-11T17:07:56",
          "2025-04-11T17:07:47",
          "2025-04-11T17:07:34",
          "2025-04-11T17:07:27",
          "2025-04-11T17:07:15",
          "2025-04-11T17:07:06",
          "2025-04-11T17:06:52",
          "2025-04-11T17:06:45",
          "2025-04-11T17:06:37",
          "2025-04-11T17:06:23",
          "2025-04-11T17:06:13"
         ],
         "xaxis": "x3",
         "y": [
          198.72596747752493,
          198.72596747752493,
          198.72596747752493,
          198.72596747752493,
          183.32,
          183.83438077977,
          184.02285920405484,
          184.11685920405483,
          184.1163807797699,
          183.79,
          183.79,
          183.90458048651487,
          183.90474844397662,
          183.87174844397657,
          183.80558048651483,
          183.625,
          183.625,
          183.92013155617488,
          183.15986844382516,
          183.625,
          183.625,
          183.51041951348515,
          183.51025155602338,
          183.54325155602336,
          183.60941951348514,
          183.79,
          183.79,
          183.27561922023008,
          183.08714079594517,
          182.99314079594512,
          182.99361922023004,
          183.32,
          198.23403252247505,
          198.23403252247505,
          198.23403252247505,
          198.23403252247505
         ],
         "yaxis": "y3"
        },
        {
         "line": {
          "color": "black"
         },
         "mode": "lines",
         "name": "BB_Middle",
         "showlegend": false,
         "type": "scatter",
         "x": [
          "2025-04-11T17:06:14.000000000",
          "2025-04-11T17:06:24.000000000",
          "2025-04-11T17:06:37.000000000",
          "2025-04-11T17:06:45.000000000",
          "2025-04-11T17:06:52.000000000",
          "2025-04-11T17:07:06.000000000",
          "2025-04-11T17:07:15.000000000",
          "2025-04-11T17:07:26.000000000",
          "2025-04-11T17:07:35.000000000",
          "2025-04-11T17:07:47.000000000",
          "2025-04-11T17:07:56.000000000",
          "2025-04-11T17:08:08.000000000",
          "2025-04-11T17:08:16.000000000",
          "2025-04-11T17:08:25.000000000",
          "2025-04-11T17:08:37.000000000",
          "2025-04-11T17:08:45.000000000",
          "2025-04-11T17:08:57.000000000",
          "2025-04-11T17:09:09.000000000"
         ],
         "xaxis": "x4",
         "y": {
          "bdata": "4noUrkfxZkDiehSuR/FmQOJ6FK5H8WZA4noUrkfxZkApXI/C9aBjQKabxCCwomNAI9v5fmqkY0CgGi/dJKZjQB1aZDvfp2NAmpmZmZmpY0CamZmZmaljQCpcj8L1qGNAuB6F61GoY0BI4XoUrqdjQNajcD0Kp2NAZmZmZmamY0BmZmZmZqZjQOomMQispGNA",
          "dtype": "f8"
         },
         "yaxis": "y4"
        },
        {
         "line": {
          "color": "blue",
          "dash": "dash"
         },
         "mode": "lines",
         "name": "BB_Upper",
         "showlegend": false,
         "type": "scatter",
         "x": [
          "2025-04-11T17:06:14.000000000",
          "2025-04-11T17:06:24.000000000",
          "2025-04-11T17:06:37.000000000",
          "2025-04-11T17:06:45.000000000",
          "2025-04-11T17:06:52.000000000",
          "2025-04-11T17:07:06.000000000",
          "2025-04-11T17:07:15.000000000",
          "2025-04-11T17:07:26.000000000",
          "2025-04-11T17:07:35.000000000",
          "2025-04-11T17:07:47.000000000",
          "2025-04-11T17:07:56.000000000",
          "2025-04-11T17:08:08.000000000",
          "2025-04-11T17:08:16.000000000",
          "2025-04-11T17:08:25.000000000",
          "2025-04-11T17:08:37.000000000",
          "2025-04-11T17:08:45.000000000",
          "2025-04-11T17:08:57.000000000",
          "2025-04-11T17:09:09.000000000"
         ],
         "xaxis": "x4",
         "y": {
          "bdata": "Pbm7t3H9ZkA9ubu3cf1mQD25u7dx/WZAPbm7t3H9ZkApXI/C9aBjQGThNHVqqmNAQrMAcuGtY0C/8jXQm69jQNuf1I+Zr2NAmpmZmZmpY0CamZmZmaljQPWIiXnSq2NABuoCT9OrY0CWrPh3L6tjQKLQavTmqWNAZmZmZmamY0BmZmZmZqZjQKpsoVxmrGNA",
          "dtype": "f8"
         },
         "yaxis": "y4"
        },
        {
         "line": {
          "color": "orange",
          "dash": "dash"
         },
         "mode": "lines",
         "name": "BB_Lower",
         "showlegend": false,
         "type": "scatter",
         "x": [
          "2025-04-11T17:06:14.000000000",
          "2025-04-11T17:06:24.000000000",
          "2025-04-11T17:06:37.000000000",
          "2025-04-11T17:06:45.000000000",
          "2025-04-11T17:06:52.000000000",
          "2025-04-11T17:07:06.000000000",
          "2025-04-11T17:07:15.000000000",
          "2025-04-11T17:07:26.000000000",
          "2025-04-11T17:07:35.000000000",
          "2025-04-11T17:07:47.000000000",
          "2025-04-11T17:07:56.000000000",
          "2025-04-11T17:08:08.000000000",
          "2025-04-11T17:08:16.000000000",
          "2025-04-11T17:08:25.000000000",
          "2025-04-11T17:08:37.000000000",
          "2025-04-11T17:08:45.000000000",
          "2025-04-11T17:08:57.000000000",
          "2025-04-11T17:09:09.000000000"
         ],
         "xaxis": "x4",
         "y": {
          "bdata": "hzxtpB3lZkCHPG2kHeVmQIc8baQd5WZAhzxtpB3lZkApXI/C9aBjQOhVVMz1mmNABAPzi/OaY0CBQijqrZxjQF8U9OYkoGNAmpmZmZmpY0CamZmZmaljQF8vlQsZpmNAalMHiNCkY0D6Ff2wLKRjQAp3doYtpGNAZmZmZmamY0BmZmZmZqZjQCrhwLPxnGNA",
          "dtype": "f8"
         },
         "yaxis": "y4"
        },
        {
         "fill": "toself",
         "fillcolor": "rgba(173, 216, 230, 0.2)",
         "hoverinfo": "skip",
         "line": {
          "color": "rgba(255,255,255,0)"
         },
         "showlegend": false,
         "type": "scatter",
         "x": [
          "2025-04-11T17:06:14",
          "2025-04-11T17:06:24",
          "2025-04-11T17:06:37",
          "2025-04-11T17:06:45",
          "2025-04-11T17:06:52",
          "2025-04-11T17:07:06",
          "2025-04-11T17:07:15",
          "2025-04-11T17:07:26",
          "2025-04-11T17:07:35",
          "2025-04-11T17:07:47",
          "2025-04-11T17:07:56",
          "2025-04-11T17:08:08",
          "2025-04-11T17:08:16",
          "2025-04-11T17:08:25",
          "2025-04-11T17:08:37",
          "2025-04-11T17:08:45",
          "2025-04-11T17:08:57",
          "2025-04-11T17:09:09",
          "2025-04-11T17:09:09",
          "2025-04-11T17:08:57",
          "2025-04-11T17:08:45",
          "2025-04-11T17:08:37",
          "2025-04-11T17:08:25",
          "2025-04-11T17:08:16",
          "2025-04-11T17:08:08",
          "2025-04-11T17:07:56",
          "2025-04-11T17:07:47",
          "2025-04-11T17:07:35",
          "2025-04-11T17:07:26",
          "2025-04-11T17:07:15",
          "2025-04-11T17:07:06",
          "2025-04-11T17:06:52",
          "2025-04-11T17:06:45",
          "2025-04-11T17:06:37",
          "2025-04-11T17:06:24",
          "2025-04-11T17:06:14"
         ],
         "xaxis": "x4",
         "y": [
          183.92013155617488,
          183.92013155617488,
          183.92013155617488,
          183.92013155617488,
          157.03,
          157.32549534157,
          157.4337701810528,
          157.4877701810528,
          157.48749534157,
          157.3,
          157.3,
          157.36944271910002,
          157.36954451150103,
          157.34954451150105,
          157.3094427191,
          157.2,
          157.2,
          157.38749534157006,
          156.90450465842997,
          157.2,
          157.2,
          157.13055728089995,
          157.13045548849897,
          157.15045548849895,
          157.19055728090004,
          157.3,
          157.3,
          157.00450465843002,
          156.8962298189472,
          156.8422298189472,
          156.84250465843002,
          157.03,
          183.15986844382516,
          183.15986844382516,
          183.15986844382516,
          183.15986844382516
         ],
         "yaxis": "y4"
        },
        {
         "line": {
          "color": "black"
         },
         "mode": "lines",
         "name": "BB_Middle",
         "showlegend": false,
         "type": "scatter",
         "x": [
          "2025-04-11T17:06:15.000000000",
          "2025-04-11T17:06:23.000000000",
          "2025-04-11T17:06:35.000000000",
          "2025-04-11T17:06:41.000000000",
          "2025-04-11T17:06:53.000000000",
          "2025-04-11T17:07:06.000000000",
          "2025-04-11T17:07:15.000000000",
          "2025-04-11T17:07:27.000000000",
          "2025-04-11T17:07:33.000000000",
          "2025-04-11T17:07:47.000000000",
          "2025-04-11T17:07:54.000000000",
          "2025-04-11T17:08:08.000000000",
          "2025-04-11T17:08:15.000000000",
          "2025-04-11T17:08:24.000000000",
          "2025-04-11T17:08:36.000000000",
          "2025-04-11T17:08:45.000000000",
          "2025-04-11T17:08:56.000000000",
          "2025-04-11T17:09:09.000000000"
         ],
         "xaxis": "x5",
         "y": {
          "bdata": "6iYxCKykY0DqJjEIrKRjQOomMQispGNA6iYxCKykY0CamZmZmd+AQJXZIJOM4oBAjxmojH/lgECKWS+GcuiAQIWZtn9l64BAf9k9eVjugEB/2T15WO6AQEvl7Qin7YBAFvGdmPXsgEDi/E0oROyAQK8I/reS64BAexSuR+HqgEB7FK5H4eqAQMp2vp8a6YBA",
          "dtype": "f8"
         },
         "yaxis": "y5"
        },
        {
         "line": {
          "color": "blue",
          "dash": "dash"
         },
         "mode": "lines",
         "name": "BB_Upper",
         "showlegend": false,
         "type": "scatter",
         "x": [
          "2025-04-11T17:06:15.000000000",
          "2025-04-11T17:06:23.000000000",
          "2025-04-11T17:06:35.000000000",
          "2025-04-11T17:06:41.000000000",
          "2025-04-11T17:06:53.000000000",
          "2025-04-11T17:07:06.000000000",
          "2025-04-11T17:07:15.000000000",
          "2025-04-11T17:07:27.000000000",
          "2025-04-11T17:07:33.000000000",
          "2025-04-11T17:07:47.000000000",
          "2025-04-11T17:07:54.000000000",
          "2025-04-11T17:08:08.000000000",
          "2025-04-11T17:08:15.000000000",
          "2025-04-11T17:08:24.000000000",
          "2025-04-11T17:08:36.000000000",
          "2025-04-11T17:08:45.000000000",
          "2025-04-11T17:08:56.000000000",
          "2025-04-11T17:09:09.000000000"
         ],
         "xaxis": "x5",
         "y": {
          "bdata": "qmyhXGasY0CqbKFcZqxjQKpsoVxmrGNAqmyhXGasY0CamZmZmd+AQLKbn+y874BAgXJet6b1gEB7suWwmfiAQJ9bNdmV+IBAf9k9eVjugEB/2T15WO6AQNkvoZDA8IBA8XbSd8HwgEC9goIHEPCAQEFTsT+s7oBAexSuR+HqgEB7FK5H4eqAQK1MTugL8YBA",
          "dtype": "f8"
         },
         "yaxis": "y5"
        },
        {
         "line": {
          "color": "orange",
          "dash": "dash"
         },
         "mode": "lines",
         "name": "BB_Lower",
         "showlegend": false,
         "type": "scatter",
         "x": [
          "2025-04-11T17:06:15.000000000",
          "2025-04-11T17:06:23.000000000",
          "2025-04-11T17:06:35.000000000",
          "2025-04-11T17:06:41.000000000",
          "2025-04-11T17:06:53.000000000",
          "2025-04-11T17:07:06.000000000",
          "2025-04-11T17:07:15.000000000",
          "2025-04-11T17:07:27.000000000",
          "2025-04-11T17:07:33.000000000",
          "2025-04-11T17:07:47.000000000",
          "2025-04-11T17:07:54.000000000",
          "2025-04-11T17:08:08.000000000",
          "2025-04-11T17:08:15.000000000",
          "2025-04-11T17:08:24.000000000",
          "2025-04-11T17:08:36.000000000",
          "2025-04-11T17:08:45.000000000",
          "2025-04-11T17:08:56.000000000",
          "2025-04-11T17:09:09.000000000"
         ],
         "xaxis": "x5",
         "y": {
          "bdata": "KuHAs/GcY0Aq4cCz8ZxjQCrhwLPxnGNAKuHAs/GcY0CamZmZmd+AQHgXojlc1YBAncDxYVjVgECZAHlbS9iAQGvXNyY13oBAf9k9eVjugEB/2T15WO6AQL2aOoGN6oBAO2tpuSnpgEAHdxlJeOiAQB2+SjB56IBAexSuR+HqgEB7FK5H4eqAQOegLlcp4YBA",
          "dtype": "f8"
         },
         "yaxis": "y5"
        },
        {
         "fill": "toself",
         "fillcolor": "rgba(173, 216, 230, 0.2)",
         "hoverinfo": "skip",
         "line": {
          "color": "rgba(255,255,255,0)"
         },
         "showlegend": false,
         "type": "scatter",
         "x": [
          "2025-04-11T17:06:15",
          "2025-04-11T17:06:23",
          "2025-04-11T17:06:35",
          "2025-04-11T17:06:41",
          "2025-04-11T17:06:53",
          "2025-04-11T17:07:06",
          "2025-04-11T17:07:15",
          "2025-04-11T17:07:27",
          "2025-04-11T17:07:33",
          "2025-04-11T17:07:47",
          "2025-04-11T17:07:54",
          "2025-04-11T17:08:08",
          "2025-04-11T17:08:15",
          "2025-04-11T17:08:24",
          "2025-04-11T17:08:36",
          "2025-04-11T17:08:45",
          "2025-04-11T17:08:56",
          "2025-04-11T17:09:09",
          "2025-04-11T17:09:09",
          "2025-04-11T17:08:56",
          "2025-04-11T17:08:45",
          "2025-04-11T17:08:36",
          "2025-04-11T17:08:24",
          "2025-04-11T17:08:15",
          "2025-04-11T17:08:08",
          "2025-04-11T17:07:54",
          "2025-04-11T17:07:47",
          "2025-04-11T17:07:33",
          "2025-04-11T17:07:27",
          "2025-04-11T17:07:15",
          "2025-04-11T17:07:06",
          "2025-04-11T17:06:53",
          "2025-04-11T17:06:41",
          "2025-04-11T17:06:35",
          "2025-04-11T17:06:23",
          "2025-04-11T17:06:15"
         ],
         "xaxis": "x5",
         "y": [
          157.38749534157006,
          157.38749534157006,
          157.38749534157006,
          157.38749534157006,
          539.95,
          541.967248198451,
          542.7064044359869,
          543.0750444359868,
          543.0731681984506,
          541.7932,
          541.7932,
          542.0940258591392,
          542.0944668238209,
          542.0078268238209,
          541.8341058591396,
          541.36,
          541.36,
          542.1308141820097,
          540.1451858179906,
          541.36,
          541.36,
          541.0591741408604,
          541.0587331761789,
          541.1453731761789,
          541.3190941408608,
          541.7932,
          541.7932,
          539.7759518015495,
          539.0367955640132,
          538.6681555640131,
          538.6700318015492,
          539.95,
          156.90450465842997,
          156.90450465842997,
          156.90450465842997,
          156.90450465842997
         ],
         "yaxis": "y5"
        },
        {
         "line": {
          "color": "black"
         },
         "mode": "lines",
         "name": "BB_Middle",
         "showlegend": false,
         "type": "scatter",
         "x": [
          "2025-04-11T17:06:15.000000000",
          "2025-04-11T17:06:24.000000000",
          "2025-04-11T17:06:37.000000000",
          "2025-04-11T17:06:45.000000000",
          "2025-04-11T17:06:53.000000000",
          "2025-04-11T17:07:07.000000000",
          "2025-04-11T17:07:15.000000000",
          "2025-04-11T17:07:27.000000000",
          "2025-04-11T17:07:35.000000000",
          "2025-04-11T17:07:47.000000000",
          "2025-04-11T17:07:56.000000000",
          "2025-04-11T17:08:08.000000000",
          "2025-04-11T17:08:16.000000000",
          "2025-04-11T17:08:25.000000000",
          "2025-04-11T17:08:37.000000000",
          "2025-04-11T17:08:49.000000000",
          "2025-04-11T17:08:57.000000000",
          "2025-04-11T17:09:09.000000000"
         ],
         "xaxis": "x6",
         "y": {
          "bdata": "NV66SQySW0A1XrpJDJJbQDVeukkMkltANV66SQySW0DD9ShcjxpvQAIrhxbZHm9AQmDl0CIjb0CClUOLbCdvQMDKoUW2K29AAAAAAAAwb0AAAAAAADBvQNB+pIgML29AoP1IERkub0BwfO2ZJS1vQED7kSIyLG9AEHo2qz4rb0AQejarPitvQLsPQGoTJ29A",
          "dtype": "f8"
         },
         "yaxis": "y6"
        },
        {
         "line": {
          "color": "blue",
          "dash": "dash"
         },
         "mode": "lines",
         "name": "BB_Upper",
         "showlegend": false,
         "type": "scatter",
         "x": [
          "2025-04-11T17:06:15.000000000",
          "2025-04-11T17:06:24.000000000",
          "2025-04-11T17:06:37.000000000",
          "2025-04-11T17:06:45.000000000",
          "2025-04-11T17:06:53.000000000",
          "2025-04-11T17:07:07.000000000",
          "2025-04-11T17:07:15.000000000",
          "2025-04-11T17:07:27.000000000",
          "2025-04-11T17:07:35.000000000",
          "2025-04-11T17:07:47.000000000",
          "2025-04-11T17:07:56.000000000",
          "2025-04-11T17:08:08.000000000",
          "2025-04-11T17:08:16.000000000",
          "2025-04-11T17:08:25.000000000",
          "2025-04-11T17:08:37.000000000",
          "2025-04-11T17:08:49.000000000",
          "2025-04-11T17:08:57.000000000",
          "2025-04-11T17:09:09.000000000"
         ],
         "xaxis": "x6",
         "y": {
          "bdata": "nzukmuycW0CfO6Sa7JxbQJ87pJrsnFtAnzukmuycW0DD9ShcjxpvQOsj4EYGMm9Al2XjUZ86b0DXmkEM6T5vQKjD+nXjPm9AAAAAAAAwb0AAAAAAADBvQAgKD1lNM29ARwRIlk4zb0AZg+weWzJvQH6G/PJyMG9AEHo2qz4rb0AQejarPitvQNDqplG4OW9A",
          "dtype": "f8"
         },
         "yaxis": "y6"
        },
        {
         "line": {
          "color": "orange",
          "dash": "dash"
         },
         "mode": "lines",
         "name": "BB_Lower",
         "showlegend": false,
         "type": "scatter",
         "x": [
          "2025-04-11T17:06:15.000000000",
          "2025-04-11T17:06:24.000000000",
          "2025-04-11T17:06:37.000000000",
          "2025-04-11T17:06:45.000000000",
          "2025-04-11T17:06:53.000000000",
          "2025-04-11T17:07:07.000000000",
          "2025-04-11T17:07:15.000000000",
          "2025-04-11T17:07:27.000000000",
          "2025-04-11T17:07:35.000000000",
          "2025-04-11T17:07:47.000000000",
          "2025-04-11T17:07:56.000000000",
          "2025-04-11T17:08:08.000000000",
          "2025-04-11T17:08:16.000000000",
          "2025-04-11T17:08:25.000000000",
          "2025-04-11T17:08:37.000000000",
          "2025-04-11T17:08:49.000000000",
          "2025-04-11T17:08:57.000000000",
          "2025-04-11T17:09:09.000000000"
         ],
         "xaxis": "x6",
         "y": {
          "bdata": "y4DQ+CuHW0DLgND4K4dbQMuA0Pgrh1tAy4DQ+CuHW0DD9ShcjxpvQBkyLuarC29A7VrnT6YLb0AtkEUK8A9vQNjRSBWJGG9AAAAAAAAwb0AAAAAAADBvQJjzObjLKm9A+fZJjOMob0DHde4U8CdvQAJwJ1LxJ29AEHo2qz4rb0AQejarPitvQKY02YJuFG9A",
          "dtype": "f8"
         },
         "yaxis": "y6"
        },
        {
         "fill": "toself",
         "fillcolor": "rgba(173, 216, 230, 0.2)",
         "hoverinfo": "skip",
         "line": {
          "color": "rgba(255,255,255,0)"
         },
         "showlegend": false,
         "type": "scatter",
         "x": [
          "2025-04-11T17:06:15",
          "2025-04-11T17:06:24",
          "2025-04-11T17:06:37",
          "2025-04-11T17:06:45",
          "2025-04-11T17:06:53",
          "2025-04-11T17:07:07",
          "2025-04-11T17:07:15",
          "2025-04-11T17:07:27",
          "2025-04-11T17:07:35",
          "2025-04-11T17:07:47",
          "2025-04-11T17:07:56",
          "2025-04-11T17:08:08",
          "2025-04-11T17:08:16",
          "2025-04-11T17:08:25",
          "2025-04-11T17:08:37",
          "2025-04-11T17:08:49",
          "2025-04-11T17:08:57",
          "2025-04-11T17:09:09",
          "2025-04-11T17:09:09",
          "2025-04-11T17:08:57",
          "2025-04-11T17:08:49",
          "2025-04-11T17:08:37",
          "2025-04-11T17:08:25",
          "2025-04-11T17:08:16",
          "2025-04-11T17:08:08",
          "2025-04-11T17:07:56",
          "2025-04-11T17:07:47",
          "2025-04-11T17:07:35",
          "2025-04-11T17:07:27",
          "2025-04-11T17:07:15",
          "2025-04-11T17:07:07",
          "2025-04-11T17:06:53",
          "2025-04-11T17:06:45",
          "2025-04-11T17:06:37",
          "2025-04-11T17:06:24",
          "2025-04-11T17:06:15"
         ],
         "xaxis": "x6",
         "y": [
          110.45194116628998,
          110.45194116628998,
          110.45194116628998,
          110.45194116628998,
          248.83,
          249.56326621796993,
          249.83194822705693,
          249.96594822705694,
          249.96526621796988,
          249.5,
          249.5,
          249.60319188058224,
          249.6033431440903,
          249.57362314409036,
          249.51403188058242,
          249.3514,
          249.3514,
          249.8037498722174,
          248.63849012778263,
          249.3514,
          249.3514,
          249.2482081194176,
          249.24805685590965,
          249.2777768559097,
          249.33736811941776,
          249.5,
          249.5,
          248.7667337820301,
          248.4980517729431,
          248.3640517729431,
          248.36473378203007,
          248.83,
          110.11205883371001,
          110.11205883371001,
          110.11205883371001,
          110.11205883371001
         ],
         "yaxis": "y6"
        },
        {
         "line": {
          "color": "black"
         },
         "mode": "lines",
         "name": "BB_Middle",
         "showlegend": false,
         "type": "scatter",
         "x": [
          "2025-04-11T17:06:15.000000000",
          "2025-04-11T17:06:24.000000000",
          "2025-04-11T17:06:37.000000000",
          "2025-04-11T17:06:45.000000000",
          "2025-04-11T17:06:53.000000000",
          "2025-04-11T17:07:07.000000000",
          "2025-04-11T17:07:15.000000000",
          "2025-04-11T17:07:27.000000000",
          "2025-04-11T17:07:35.000000000",
          "2025-04-11T17:07:47.000000000",
          "2025-04-11T17:07:55.000000000",
          "2025-04-11T17:08:08.000000000",
          "2025-04-11T17:08:16.000000000",
          "2025-04-11T17:08:25.000000000",
          "2025-04-11T17:08:37.000000000",
          "2025-04-11T17:08:49.000000000",
          "2025-04-11T17:08:57.000000000",
          "2025-04-11T17:09:09.000000000"
         ],
         "xaxis": "x7",
         "y": {
          "bdata": "oBov3SQweECgGi/dJDB4QKAaL90kMHhAoBov3SQweEDdtYR80IdbQIhodAexi1tAMhtkkpGPW0DdzVMdcpNbQIiAQ6hSl1tAMzMzMzObW0AzMzMzM5tbQGDl0CLbmVtAjZduEoOYW0C6SQwCK5dbQOb7qfHSlVtAFK5H4XqUW0AUrkfhepRbQDVeukkMkltA",
          "dtype": "f8"
         },
         "yaxis": "y7"
        },
        {
         "line": {
          "color": "blue",
          "dash": "dash"
         },
         "mode": "lines",
         "name": "BB_Upper",
         "showlegend": false,
         "type": "scatter",
         "x": [
          "2025-04-11T17:06:15.000000000",
          "2025-04-11T17:06:24.000000000",
          "2025-04-11T17:06:37.000000000",
          "2025-04-11T17:06:45.000000000",
          "2025-04-11T17:06:53.000000000",
          "2025-04-11T17:07:07.000000000",
          "2025-04-11T17:07:15.000000000",
          "2025-04-11T17:07:27.000000000",
          "2025-04-11T17:07:35.000000000",
          "2025-04-11T17:07:47.000000000",
          "2025-04-11T17:07:55.000000000",
          "2025-04-11T17:08:08.000000000",
          "2025-04-11T17:08:16.000000000",
          "2025-04-11T17:08:25.000000000",
          "2025-04-11T17:08:37.000000000",
          "2025-04-11T17:08:49.000000000",
          "2025-04-11T17:08:57.000000000",
          "2025-04-11T17:09:09.000000000"
         ],
         "xaxis": "x7",
         "y": {
          "bdata": "uR8hYQM3eEC5HyFhAzd4QLkfIWEDN3hAuR8hYQM3eEDdtYR80IdbQGa4qtAHnVtAIg7E882kW0DNwLN+rqhbQGbQeXGpqFtAMzMzMzObW0AzMzMzM5tbQNepRNbdn1tAF1yQlt+fW0BEDi6Gh55bQF7AHaXVm1tAFK5H4XqUW0AUrkfhepRbQJ87pJrsnFtA",
          "dtype": "f8"
         },
         "yaxis": "y7"
        },
        {
         "line": {
          "color": "orange",
          "dash": "dash"
         },
         "mode": "lines",
         "name": "BB_Lower",
         "showlegend": false,
         "type": "scatter",
         "x": [
          "2025-04-11T17:06:15.000000000",
          "2025-04-11T17:06:24.000000000",
          "2025-04-11T17:06:37.000000000",
          "2025-04-11T17:06:45.000000000",
          "2025-04-11T17:06:53.000000000",
          "2025-04-11T17:07:07.000000000",
          "2025-04-11T17:07:15.000000000",
          "2025-04-11T17:07:27.000000000",
          "2025-04-11T17:07:35.000000000",
          "2025-04-11T17:07:47.000000000",
          "2025-04-11T17:07:55.000000000",
          "2025-04-11T17:08:08.000000000",
          "2025-04-11T17:08:16.000000000",
          "2025-04-11T17:08:25.000000000",
          "2025-04-11T17:08:37.000000000",
          "2025-04-11T17:08:49.000000000",
          "2025-04-11T17:08:57.000000000",
          "2025-04-11T17:09:09.000000000"
         ],
         "xaxis": "x7",
         "y": {
          "bdata": "hxU9WUYpeECHFT1ZRil4QIcVPVlGKXhAhxU9WUYpeEDdtYR80IdbQKoYPj5aeltAQigEMVV6W0Dt2vO7NX5bQKowDd/7hVtAMzMzMzObW0AzMzMzM5tbQOkgXW/Yk1tAA9NMjiaRW0Awhep9zo9bQG43Nj7Qj1tAFK5H4XqUW0AUrkfhepRbQMuA0Pgrh1tA",
          "dtype": "f8"
         },
         "yaxis": "y7"
        },
        {
         "fill": "toself",
         "fillcolor": "rgba(173, 216, 230, 0.2)",
         "hoverinfo": "skip",
         "line": {
          "color": "rgba(255,255,255,0)"
         },
         "showlegend": false,
         "type": "scatter",
         "x": [
          "2025-04-11T17:06:15",
          "2025-04-11T17:06:24",
          "2025-04-11T17:06:37",
          "2025-04-11T17:06:45",
          "2025-04-11T17:06:53",
          "2025-04-11T17:07:07",
          "2025-04-11T17:07:15",
          "2025-04-11T17:07:27",
          "2025-04-11T17:07:35",
          "2025-04-11T17:07:47",
          "2025-04-11T17:07:55",
          "2025-04-11T17:08:08",
          "2025-04-11T17:08:16",
          "2025-04-11T17:08:25",
          "2025-04-11T17:08:37",
          "2025-04-11T17:08:49",
          "2025-04-11T17:08:57",
          "2025-04-11T17:09:09",
          "2025-04-11T17:09:09",
          "2025-04-11T17:08:57",
          "2025-04-11T17:08:49",
          "2025-04-11T17:08:37",
          "2025-04-11T17:08:25",
          "2025-04-11T17:08:16",
          "2025-04-11T17:08:08",
          "2025-04-11T17:07:55",
          "2025-04-11T17:07:47",
          "2025-04-11T17:07:35",
          "2025-04-11T17:07:27",
          "2025-04-11T17:07:15",
          "2025-04-11T17:07:07",
          "2025-04-11T17:06:53",
          "2025-04-11T17:06:45",
          "2025-04-11T17:06:37",
          "2025-04-11T17:06:24",
          "2025-04-11T17:06:15"
         ],
         "xaxis": "x7",
         "y": [
          387.4383250516799,
          387.4383250516799,
          387.4383250516799,
          387.4383250516799,
          110.1221,
          110.45360199615388,
          110.57507032533661,
          110.63565032533661,
          110.63534199615387,
          110.425,
          110.425,
          110.49791485505499,
          110.49802173707609,
          110.47702173707609,
          110.43491485505498,
          110.32,
          110.32,
          110.45194116628998,
          110.11205883371001,
          110.32,
          110.32,
          110.24708514494498,
          110.2469782629239,
          110.2679782629239,
          110.310085144945,
          110.425,
          110.425,
          110.09349800384612,
          109.97202967466337,
          109.91144967466337,
          109.91175800384613,
          110.1221,
          386.57967494832013,
          386.57967494832013,
          386.57967494832013,
          386.57967494832013
         ],
         "yaxis": "y7"
        }
       ],
       "layout": {
        "annotations": [
         {
          "font": {
           "size": 16
          },
          "showarrow": false,
          "text": "AAPL",
          "x": 0.14444444444444446,
          "xanchor": "center",
          "xref": "paper",
          "y": 1,
          "yanchor": "bottom",
          "yref": "paper"
         },
         {
          "font": {
           "size": 16
          },
          "showarrow": false,
          "text": "MSFT",
          "x": 0.5,
          "xanchor": "center",
          "xref": "paper",
          "y": 1,
          "yanchor": "bottom",
          "yref": "paper"
         },
         {
          "font": {
           "size": 16
          },
          "showarrow": false,
          "text": "AMZN",
          "x": 0.8555555555555556,
          "xanchor": "center",
          "xref": "paper",
          "y": 1,
          "yanchor": "bottom",
          "yref": "paper"
         },
         {
          "font": {
           "size": 16
          },
          "showarrow": false,
          "text": "GOOGL",
          "x": 0.14444444444444446,
          "xanchor": "center",
          "xref": "paper",
          "y": 0.6111111111111112,
          "yanchor": "bottom",
          "yref": "paper"
         },
         {
          "font": {
           "size": 16
          },
          "showarrow": false,
          "text": "META",
          "x": 0.5,
          "xanchor": "center",
          "xref": "paper",
          "y": 0.6111111111111112,
          "yanchor": "bottom",
          "yref": "paper"
         },
         {
          "font": {
           "size": 16
          },
          "showarrow": false,
          "text": "TSLA",
          "x": 0.8555555555555556,
          "xanchor": "center",
          "xref": "paper",
          "y": 0.6111111111111112,
          "yanchor": "bottom",
          "yref": "paper"
         },
         {
          "font": {
           "size": 16
          },
          "showarrow": false,
          "text": "NVDA",
          "x": 0.14444444444444446,
          "xanchor": "center",
          "xref": "paper",
          "y": 0.22222222222222224,
          "yanchor": "bottom",
          "yref": "paper"
         }
        ],
        "height": 1000,
        "template": {
         "data": {
          "bar": [
           {
            "error_x": {
             "color": "#2a3f5f"
            },
            "error_y": {
             "color": "#2a3f5f"
            },
            "marker": {
             "line": {
              "color": "white",
              "width": 0.5
             },
             "pattern": {
              "fillmode": "overlay",
              "size": 10,
              "solidity": 0.2
             }
            },
            "type": "bar"
           }
          ],
          "barpolar": [
           {
            "marker": {
             "line": {
              "color": "white",
              "width": 0.5
             },
             "pattern": {
              "fillmode": "overlay",
              "size": 10,
              "solidity": 0.2
             }
            },
            "type": "barpolar"
           }
          ],
          "carpet": [
           {
            "aaxis": {
             "endlinecolor": "#2a3f5f",
             "gridcolor": "#C8D4E3",
             "linecolor": "#C8D4E3",
             "minorgridcolor": "#C8D4E3",
             "startlinecolor": "#2a3f5f"
            },
            "baxis": {
             "endlinecolor": "#2a3f5f",
             "gridcolor": "#C8D4E3",
             "linecolor": "#C8D4E3",
             "minorgridcolor": "#C8D4E3",
             "startlinecolor": "#2a3f5f"
            },
            "type": "carpet"
           }
          ],
          "choropleth": [
           {
            "colorbar": {
             "outlinewidth": 0,
             "ticks": ""
            },
            "type": "choropleth"
           }
          ],
          "contour": [
           {
            "colorbar": {
             "outlinewidth": 0,
             "ticks": ""
            },
            "colorscale": [
             [
              0,
              "#0d0887"
             ],
             [
              0.1111111111111111,
              "#46039f"
             ],
             [
              0.2222222222222222,
              "#7201a8"
             ],
             [
              0.3333333333333333,
              "#9c179e"
             ],
             [
              0.4444444444444444,
              "#bd3786"
             ],
             [
              0.5555555555555556,
              "#d8576b"
             ],
             [
              0.6666666666666666,
              "#ed7953"
             ],
             [
              0.7777777777777778,
              "#fb9f3a"
             ],
             [
              0.8888888888888888,
              "#fdca26"
             ],
             [
              1,
              "#f0f921"
             ]
            ],
            "type": "contour"
           }
          ],
          "contourcarpet": [
           {
            "colorbar": {
             "outlinewidth": 0,
             "ticks": ""
            },
            "type": "contourcarpet"
           }
          ],
          "heatmap": [
           {
            "colorbar": {
             "outlinewidth": 0,
             "ticks": ""
            },
            "colorscale": [
             [
              0,
              "#0d0887"
             ],
             [
              0.1111111111111111,
              "#46039f"
             ],
             [
              0.2222222222222222,
              "#7201a8"
             ],
             [
              0.3333333333333333,
              "#9c179e"
             ],
             [
              0.4444444444444444,
              "#bd3786"
             ],
             [
              0.5555555555555556,
              "#d8576b"
             ],
             [
              0.6666666666666666,
              "#ed7953"
             ],
             [
              0.7777777777777778,
              "#fb9f3a"
             ],
             [
              0.8888888888888888,
              "#fdca26"
             ],
             [
              1,
              "#f0f921"
             ]
            ],
            "type": "heatmap"
           }
          ],
          "histogram": [
           {
            "marker": {
             "pattern": {
              "fillmode": "overlay",
              "size": 10,
              "solidity": 0.2
             }
            },
            "type": "histogram"
           }
          ],
          "histogram2d": [
           {
            "colorbar": {
             "outlinewidth": 0,
             "ticks": ""
            },
            "colorscale": [
             [
              0,
              "#0d0887"
             ],
             [
              0.1111111111111111,
              "#46039f"
             ],
             [
              0.2222222222222222,
              "#7201a8"
             ],
             [
              0.3333333333333333,
              "#9c179e"
             ],
             [
              0.4444444444444444,
              "#bd3786"
             ],
             [
              0.5555555555555556,
              "#d8576b"
             ],
             [
              0.6666666666666666,
              "#ed7953"
             ],
             [
              0.7777777777777778,
              "#fb9f3a"
             ],
             [
              0.8888888888888888,
              "#fdca26"
             ],
             [
              1,
              "#f0f921"
             ]
            ],
            "type": "histogram2d"
           }
          ],
          "histogram2dcontour": [
           {
            "colorbar": {
             "outlinewidth": 0,
             "ticks": ""
            },
            "colorscale": [
             [
              0,
              "#0d0887"
             ],
             [
              0.1111111111111111,
              "#46039f"
             ],
             [
              0.2222222222222222,
              "#7201a8"
             ],
             [
              0.3333333333333333,
              "#9c179e"
             ],
             [
              0.4444444444444444,
              "#bd3786"
             ],
             [
              0.5555555555555556,
              "#d8576b"
             ],
             [
              0.6666666666666666,
              "#ed7953"
             ],
             [
              0.7777777777777778,
              "#fb9f3a"
             ],
             [
              0.8888888888888888,
              "#fdca26"
             ],
             [
              1,
              "#f0f921"
             ]
            ],
            "type": "histogram2dcontour"
           }
          ],
          "mesh3d": [
           {
            "colorbar": {
             "outlinewidth": 0,
             "ticks": ""
            },
            "type": "mesh3d"
           }
          ],
          "parcoords": [
           {
            "line": {
             "colorbar": {
              "outlinewidth": 0,
              "ticks": ""
             }
            },
            "type": "parcoords"
           }
          ],
          "pie": [
           {
            "automargin": true,
            "type": "pie"
           }
          ],
          "scatter": [
           {
            "fillpattern": {
             "fillmode": "overlay",
             "size": 10,
             "solidity": 0.2
            },
            "type": "scatter"
           }
          ],
          "scatter3d": [
           {
            "line": {
             "colorbar": {
              "outlinewidth": 0,
              "ticks": ""
             }
            },
            "marker": {
             "colorbar": {
              "outlinewidth": 0,
              "ticks": ""
             }
            },
            "type": "scatter3d"
           }
          ],
          "scattercarpet": [
           {
            "marker": {
             "colorbar": {
              "outlinewidth": 0,
              "ticks": ""
             }
            },
            "type": "scattercarpet"
           }
          ],
          "scattergeo": [
           {
            "marker": {
             "colorbar": {
              "outlinewidth": 0,
              "ticks": ""
             }
            },
            "type": "scattergeo"
           }
          ],
          "scattergl": [
           {
            "marker": {
             "colorbar": {
              "outlinewidth": 0,
              "ticks": ""
             }
            },
            "type": "scattergl"
           }
          ],
          "scattermap": [
           {
            "marker": {
             "colorbar": {
              "outlinewidth": 0,
              "ticks": ""
             }
            },
            "type": "scattermap"
           }
          ],
          "scattermapbox": [
           {
            "marker": {
             "colorbar": {
              "outlinewidth": 0,
              "ticks": ""
             }
            },
            "type": "scattermapbox"
           }
          ],
          "scatterpolar": [
           {
            "marker": {
             "colorbar": {
              "outlinewidth": 0,
              "ticks": ""
             }
            },
            "type": "scatterpolar"
           }
          ],
          "scatterpolargl": [
           {
            "marker": {
             "colorbar": {
              "outlinewidth": 0,
              "ticks": ""
             }
            },
            "type": "scatterpolargl"
           }
          ],
          "scatterternary": [
           {
            "marker": {
             "colorbar": {
              "outlinewidth": 0,
              "ticks": ""
             }
            },
            "type": "scatterternary"
           }
          ],
          "surface": [
           {
            "colorbar": {
             "outlinewidth": 0,
             "ticks": ""
            },
            "colorscale": [
             [
              0,
              "#0d0887"
             ],
             [
              0.1111111111111111,
              "#46039f"
             ],
             [
              0.2222222222222222,
              "#7201a8"
             ],
             [
              0.3333333333333333,
              "#9c179e"
             ],
             [
              0.4444444444444444,
              "#bd3786"
             ],
             [
              0.5555555555555556,
              "#d8576b"
             ],
             [
              0.6666666666666666,
              "#ed7953"
             ],
             [
              0.7777777777777778,
              "#fb9f3a"
             ],
             [
              0.8888888888888888,
              "#fdca26"
             ],
             [
              1,
              "#f0f921"
             ]
            ],
            "type": "surface"
           }
          ],
          "table": [
           {
            "cells": {
             "fill": {
              "color": "#EBF0F8"
             },
             "line": {
              "color": "white"
             }
            },
            "header": {
             "fill": {
              "color": "#C8D4E3"
             },
             "line": {
              "color": "white"
             }
            },
            "type": "table"
           }
          ]
         },
         "layout": {
          "annotationdefaults": {
           "arrowcolor": "#2a3f5f",
           "arrowhead": 0,
           "arrowwidth": 1
          },
          "autotypenumbers": "strict",
          "coloraxis": {
           "colorbar": {
            "outlinewidth": 0,
            "ticks": ""
           }
          },
          "colorscale": {
           "diverging": [
            [
             0,
             "#8e0152"
            ],
            [
             0.1,
             "#c51b7d"
            ],
            [
             0.2,
             "#de77ae"
            ],
            [
             0.3,
             "#f1b6da"
            ],
            [
             0.4,
             "#fde0ef"
            ],
            [
             0.5,
             "#f7f7f7"
            ],
            [
             0.6,
             "#e6f5d0"
            ],
            [
             0.7,
             "#b8e186"
            ],
            [
             0.8,
             "#7fbc41"
            ],
            [
             0.9,
             "#4d9221"
            ],
            [
             1,
             "#276419"
            ]
           ],
           "sequential": [
            [
             0,
             "#0d0887"
            ],
            [
             0.1111111111111111,
             "#46039f"
            ],
            [
             0.2222222222222222,
             "#7201a8"
            ],
            [
             0.3333333333333333,
             "#9c179e"
            ],
            [
             0.4444444444444444,
             "#bd3786"
            ],
            [
             0.5555555555555556,
             "#d8576b"
            ],
            [
             0.6666666666666666,
             "#ed7953"
            ],
            [
             0.7777777777777778,
             "#fb9f3a"
            ],
            [
             0.8888888888888888,
             "#fdca26"
            ],
            [
             1,
             "#f0f921"
            ]
           ],
           "sequentialminus": [
            [
             0,
             "#0d0887"
            ],
            [
             0.1111111111111111,
             "#46039f"
            ],
            [
             0.2222222222222222,
             "#7201a8"
            ],
            [
             0.3333333333333333,
             "#9c179e"
            ],
            [
             0.4444444444444444,
             "#bd3786"
            ],
            [
             0.5555555555555556,
             "#d8576b"
            ],
            [
             0.6666666666666666,
             "#ed7953"
            ],
            [
             0.7777777777777778,
             "#fb9f3a"
            ],
            [
             0.8888888888888888,
             "#fdca26"
            ],
            [
             1,
             "#f0f921"
            ]
           ]
          },
          "colorway": [
           "#636efa",
           "#EF553B",
           "#00cc96",
           "#ab63fa",
           "#FFA15A",
           "#19d3f3",
           "#FF6692",
           "#B6E880",
           "#FF97FF",
           "#FECB52"
          ],
          "font": {
           "color": "#2a3f5f"
          },
          "geo": {
           "bgcolor": "white",
           "lakecolor": "white",
           "landcolor": "white",
           "showlakes": true,
           "showland": true,
           "subunitcolor": "#C8D4E3"
          },
          "hoverlabel": {
           "align": "left"
          },
          "hovermode": "closest",
          "mapbox": {
           "style": "light"
          },
          "paper_bgcolor": "white",
          "plot_bgcolor": "white",
          "polar": {
           "angularaxis": {
            "gridcolor": "#EBF0F8",
            "linecolor": "#EBF0F8",
            "ticks": ""
           },
           "bgcolor": "white",
           "radialaxis": {
            "gridcolor": "#EBF0F8",
            "linecolor": "#EBF0F8",
            "ticks": ""
           }
          },
          "scene": {
           "xaxis": {
            "backgroundcolor": "white",
            "gridcolor": "#DFE8F3",
            "gridwidth": 2,
            "linecolor": "#EBF0F8",
            "showbackground": true,
            "ticks": "",
            "zerolinecolor": "#EBF0F8"
           },
           "yaxis": {
            "backgroundcolor": "white",
            "gridcolor": "#DFE8F3",
            "gridwidth": 2,
            "linecolor": "#EBF0F8",
            "showbackground": true,
            "ticks": "",
            "zerolinecolor": "#EBF0F8"
           },
           "zaxis": {
            "backgroundcolor": "white",
            "gridcolor": "#DFE8F3",
            "gridwidth": 2,
            "linecolor": "#EBF0F8",
            "showbackground": true,
            "ticks": "",
            "zerolinecolor": "#EBF0F8"
           }
          },
          "shapedefaults": {
           "line": {
            "color": "#2a3f5f"
           }
          },
          "ternary": {
           "aaxis": {
            "gridcolor": "#DFE8F3",
            "linecolor": "#A2B1C6",
            "ticks": ""
           },
           "baxis": {
            "gridcolor": "#DFE8F3",
            "linecolor": "#A2B1C6",
            "ticks": ""
           },
           "bgcolor": "white",
           "caxis": {
            "gridcolor": "#DFE8F3",
            "linecolor": "#A2B1C6",
            "ticks": ""
           }
          },
          "title": {
           "x": 0.05
          },
          "xaxis": {
           "automargin": true,
           "gridcolor": "#EBF0F8",
           "linecolor": "#EBF0F8",
           "ticks": "",
           "title": {
            "standoff": 15
           },
           "zerolinecolor": "#EBF0F8",
           "zerolinewidth": 2
          },
          "yaxis": {
           "automargin": true,
           "gridcolor": "#EBF0F8",
           "linecolor": "#EBF0F8",
           "ticks": "",
           "title": {
            "standoff": 15
           },
           "zerolinecolor": "#EBF0F8",
           "zerolinewidth": 2
          }
         }
        },
        "title": {
         "text": "Bollinger Bands Across Tickers (Real-Time)"
        },
        "width": 1000,
        "xaxis": {
         "anchor": "y",
         "domain": [
          0,
          0.2888888888888889
         ]
        },
        "xaxis2": {
         "anchor": "y2",
         "domain": [
          0.35555555555555557,
          0.6444444444444445
         ]
        },
        "xaxis3": {
         "anchor": "y3",
         "domain": [
          0.7111111111111111,
          1
         ]
        },
        "xaxis4": {
         "anchor": "y4",
         "domain": [
          0,
          0.2888888888888889
         ]
        },
        "xaxis5": {
         "anchor": "y5",
         "domain": [
          0.35555555555555557,
          0.6444444444444445
         ]
        },
        "xaxis6": {
         "anchor": "y6",
         "domain": [
          0.7111111111111111,
          1
         ]
        },
        "xaxis7": {
         "anchor": "y7",
         "domain": [
          0,
          0.2888888888888889
         ]
        },
        "xaxis8": {
         "anchor": "y8",
         "domain": [
          0.35555555555555557,
          0.6444444444444445
         ]
        },
        "xaxis9": {
         "anchor": "y9",
         "domain": [
          0.7111111111111111,
          1
         ]
        },
        "yaxis": {
         "anchor": "x",
         "domain": [
          0.7777777777777778,
          1
         ]
        },
        "yaxis2": {
         "anchor": "x2",
         "domain": [
          0.7777777777777778,
          1
         ]
        },
        "yaxis3": {
         "anchor": "x3",
         "domain": [
          0.7777777777777778,
          1
         ]
        },
        "yaxis4": {
         "anchor": "x4",
         "domain": [
          0.3888888888888889,
          0.6111111111111112
         ]
        },
        "yaxis5": {
         "anchor": "x5",
         "domain": [
          0.3888888888888889,
          0.6111111111111112
         ]
        },
        "yaxis6": {
         "anchor": "x6",
         "domain": [
          0.3888888888888889,
          0.6111111111111112
         ]
        },
        "yaxis7": {
         "anchor": "x7",
         "domain": [
          0,
          0.22222222222222224
         ]
        },
        "yaxis8": {
         "anchor": "x8",
         "domain": [
          0,
          0.22222222222222224
         ]
        },
        "yaxis9": {
         "anchor": "x9",
         "domain": [
          0,
          0.22222222222222224
         ]
        }
       }
      }
     },
     "metadata": {},
     "output_type": "display_data"
    }
   ],
   "source": [
    "\n",
    "# tickers\n",
    "tickers = ['AAPL', 'MSFT', 'AMZN', 'GOOGL', 'META', 'TSLA', 'NVDA']\n",
    "\n",
    "# Create subplot grid\n",
    "cols = 3\n",
    "rows = 3 \n",
    "fig = make_subplots(rows=3, cols=3, subplot_titles=[f\"{ticker}\" for ticker in tickers])\n",
    "\n",
    "#for loop to create a plot for each ticker\n",
    "for i, ticker in enumerate(tickers):\n",
    "    subset = df_cass_final[df_cass_final['ticker'] == ticker]\n",
    "    row = i // cols + 1\n",
    "    col = i % cols + 1\n",
    "#adding traces for the Bollinger Bands: BBmiddle, BBUpper, BBLower\n",
    "    fig.add_trace(go.Scatter(x=subset['date'], y=subset['BB_Middle'], mode='lines', name='BB_Middle',\n",
    "                             line=dict(color='black'), showlegend=(i == 0)), row=row, col=col)\n",
    "    fig.add_trace(go.Scatter(x=subset['date'], y=subset['BB_Upper'], mode='lines', name='BB_Upper',\n",
    "                             line=dict(color='blue', dash='dash'), showlegend=(i == 0)), row=row, col=col)\n",
    "    fig.add_trace(go.Scatter(x=subset['date'], y=subset['BB_Lower'], mode='lines', name='BB_Lower',\n",
    "                             line=dict(color='orange', dash='dash'), showlegend=(i == 0)), row=row, col=col)\n",
    "\n",
    "    # Adding a fill between trace so it looks like a regular Bollinger Band chart\n",
    "    fig.add_trace(go.Scatter(\n",
    "        x=subset['date'].tolist() + subset['date'][::-1].tolist(),\n",
    "        y=subset['BB_Upper'].tolist() + subset['BB_Lower'][::-1].tolist(),\n",
    "        fill='toself',\n",
    "        fillcolor='rgba(173, 216, 230, 0.2)',\n",
    "        line=dict(color='rgba(255,255,255,0)'),\n",
    "        hoverinfo=\"skip\",\n",
    "        showlegend=False\n",
    "    ), row=row, col=col)\n",
    "\n",
    "# updating height\n",
    "fig.update_layout(height=1000, width=1000,title_text=\"Bollinger Bands Across Tickers (Real-Time)\",template='plotly_white')\n",
    "\n",
    "fig.show()\n"
   ]
  },
  {
   "cell_type": "markdown",
   "metadata": {},
   "source": [
    "### The above graph shows Bollinger Bands can be shown using the Upper Band, Lower Band, and the Middle Band (the middle band is basically just the SMA re-labled). \n",
    "\n",
    "### The Upper Band is calculated with SMA + 2×standard deviation, showing a higher end of expected price range (overbought conditions).\n",
    "\n",
    "### The Lower Band is calculated with SMA - 2×standard deviation, showing a lower end of the expected price range (oversold conditions).\n",
    "### The graph is useful to show us the volatility of the stock as well. If a graph is flat and does not show a lot of variance, it is due to our limited real-time dataset, since was not a lot of movement in the time frame. "
   ]
  },
  {
   "cell_type": "code",
   "execution_count": 103,
   "metadata": {},
   "outputs": [
    {
     "data": {
      "image/png": "[encoded data removed]",
      "text/plain": [
       "<Figure size 640x480 with 2 Axes>"
      ]
     },
     "metadata": {},
     "output_type": "display_data"
    }
   ],
   "source": [
    "#heat map for just the featured engineered columns\n",
    "corr = df_cass_final[['BB_Upper', 'BB_Lower', 'ATR_5', 'RSI_5', 'MACD', 'SMA_5','EMA_5']].corr()\n",
    "sns.heatmap(corr, annot=True)\n",
    "plt.title(\"Correlation Between BB Standard Deviation, ATR, RSI and MACD\")\n",
    "plt.show()\n"
   ]
  },
  {
   "cell_type": "markdown",
   "metadata": {},
   "source": [
    "### Above is a correlation heat map which helps us see how some of our feature engineered columns correlate with one another. We can see that due to our limited sample size of 3 minutes, our Bollinger Bonds are pretty static and the upper and lower are correlated strongly with SMA_5. This is because we are driving the Bollinger Bonds from SMA_5. Furthermore, EMA is highly correlated with SMA(which is the source of BB_upper and BB_lower). THe remaining columns are not highly correlated with now another. MACD has a moderate correlation with ATR_5 and SMA_5 and the BBs which can show us that the MACD is only tracking pricetrends somewhat effectively not perfectly. RSI_5 seems to have a low to no correlations with anything. "
   ]
  },
  {
   "cell_type": "markdown",
   "metadata": {},
   "source": [
    "## Real Time Data Encoding\n",
    "\n",
    "### The goal is to apply one hot encoding on the tickers so the machine learning model has no issues with the string values. Additionally we are going to convert the datetime into date only, and then split it into year, month, day of month, weekday, hour and minute as well as time of day combining hour and minute (using 24HR clock so HourHourMinuteMinute)"
   ]
  },
  {
   "cell_type": "code",
   "execution_count": 107,
   "metadata": {},
   "outputs": [
    {
     "data": {
      "text/html": [
       "<div>\n",
       "<style scoped>\n",
       "    .dataframe tbody tr th:only-of-type {\n",
       "        vertical-align: middle;\n",
       "    }\n",
       "\n",
       "    .dataframe tbody tr th {\n",
       "        vertical-align: top;\n",
       "    }\n",
       "\n",
       "    .dataframe thead th {\n",
       "        text-align: right;\n",
       "    }\n",
       "</style>\n",
       "<table border=\"1\" class=\"dataframe\">\n",
       "  <thead>\n",
       "    <tr style=\"text-align: right;\">\n",
       "      <th></th>\n",
       "      <th>adj_close</th>\n",
       "      <th>close</th>\n",
       "      <th>high</th>\n",
       "      <th>low</th>\n",
       "      <th>open</th>\n",
       "      <th>previous_close</th>\n",
       "      <th>SMA_5</th>\n",
       "      <th>EMA_5</th>\n",
       "      <th>RSI_5</th>\n",
       "      <th>BB_Middle</th>\n",
       "      <th>...</th>\n",
       "      <th>weekday</th>\n",
       "      <th>day</th>\n",
       "      <th>time_of_day</th>\n",
       "      <th>ticker_AAPL</th>\n",
       "      <th>ticker_AMZN</th>\n",
       "      <th>ticker_GOOGL</th>\n",
       "      <th>ticker_META</th>\n",
       "      <th>ticker_MSFT</th>\n",
       "      <th>ticker_NVDA</th>\n",
       "      <th>ticker_TSLA</th>\n",
       "    </tr>\n",
       "  </thead>\n",
       "  <tbody>\n",
       "    <tr>\n",
       "      <th>0</th>\n",
       "      <td>198.7600</td>\n",
       "      <td>198.7600</td>\n",
       "      <td>199.35</td>\n",
       "      <td>186.0600</td>\n",
       "      <td>191.83</td>\n",
       "      <td>190.42</td>\n",
       "      <td>198.22800</td>\n",
       "      <td>198.316667</td>\n",
       "      <td>100.0</td>\n",
       "      <td>198.22800</td>\n",
       "      <td>...</td>\n",
       "      <td>4</td>\n",
       "      <td>11</td>\n",
       "      <td>1027</td>\n",
       "      <td>True</td>\n",
       "      <td>False</td>\n",
       "      <td>False</td>\n",
       "      <td>False</td>\n",
       "      <td>False</td>\n",
       "      <td>False</td>\n",
       "      <td>False</td>\n",
       "    </tr>\n",
       "    <tr>\n",
       "      <th>1</th>\n",
       "      <td>198.7600</td>\n",
       "      <td>198.7600</td>\n",
       "      <td>199.35</td>\n",
       "      <td>186.0600</td>\n",
       "      <td>191.83</td>\n",
       "      <td>190.42</td>\n",
       "      <td>198.36100</td>\n",
       "      <td>198.464444</td>\n",
       "      <td>100.0</td>\n",
       "      <td>198.36100</td>\n",
       "      <td>...</td>\n",
       "      <td>4</td>\n",
       "      <td>11</td>\n",
       "      <td>1027</td>\n",
       "      <td>True</td>\n",
       "      <td>False</td>\n",
       "      <td>False</td>\n",
       "      <td>False</td>\n",
       "      <td>False</td>\n",
       "      <td>False</td>\n",
       "      <td>False</td>\n",
       "    </tr>\n",
       "    <tr>\n",
       "      <th>2</th>\n",
       "      <td>198.7600</td>\n",
       "      <td>198.7600</td>\n",
       "      <td>199.35</td>\n",
       "      <td>186.0600</td>\n",
       "      <td>191.83</td>\n",
       "      <td>190.42</td>\n",
       "      <td>198.49400</td>\n",
       "      <td>198.562963</td>\n",
       "      <td>100.0</td>\n",
       "      <td>198.49400</td>\n",
       "      <td>...</td>\n",
       "      <td>4</td>\n",
       "      <td>11</td>\n",
       "      <td>1027</td>\n",
       "      <td>True</td>\n",
       "      <td>False</td>\n",
       "      <td>False</td>\n",
       "      <td>False</td>\n",
       "      <td>False</td>\n",
       "      <td>False</td>\n",
       "      <td>False</td>\n",
       "    </tr>\n",
       "    <tr>\n",
       "      <th>3</th>\n",
       "      <td>198.7600</td>\n",
       "      <td>198.7600</td>\n",
       "      <td>199.35</td>\n",
       "      <td>186.0600</td>\n",
       "      <td>191.83</td>\n",
       "      <td>190.42</td>\n",
       "      <td>198.62700</td>\n",
       "      <td>198.628642</td>\n",
       "      <td>100.0</td>\n",
       "      <td>198.62700</td>\n",
       "      <td>...</td>\n",
       "      <td>4</td>\n",
       "      <td>11</td>\n",
       "      <td>1027</td>\n",
       "      <td>True</td>\n",
       "      <td>False</td>\n",
       "      <td>False</td>\n",
       "      <td>False</td>\n",
       "      <td>False</td>\n",
       "      <td>False</td>\n",
       "      <td>False</td>\n",
       "    </tr>\n",
       "    <tr>\n",
       "      <th>4</th>\n",
       "      <td>198.7600</td>\n",
       "      <td>198.7600</td>\n",
       "      <td>199.35</td>\n",
       "      <td>186.0600</td>\n",
       "      <td>191.83</td>\n",
       "      <td>190.42</td>\n",
       "      <td>198.76000</td>\n",
       "      <td>198.672428</td>\n",
       "      <td>100.0</td>\n",
       "      <td>198.76000</td>\n",
       "      <td>...</td>\n",
       "      <td>4</td>\n",
       "      <td>11</td>\n",
       "      <td>1027</td>\n",
       "      <td>True</td>\n",
       "      <td>False</td>\n",
       "      <td>False</td>\n",
       "      <td>False</td>\n",
       "      <td>False</td>\n",
       "      <td>False</td>\n",
       "      <td>False</td>\n",
       "    </tr>\n",
       "    <tr>\n",
       "      <th>...</th>\n",
       "      <td>...</td>\n",
       "      <td>...</td>\n",
       "      <td>...</td>\n",
       "      <td>...</td>\n",
       "      <td>...</td>\n",
       "      <td>...</td>\n",
       "      <td>...</td>\n",
       "      <td>...</td>\n",
       "      <td>...</td>\n",
       "      <td>...</td>\n",
       "      <td>...</td>\n",
       "      <td>...</td>\n",
       "      <td>...</td>\n",
       "      <td>...</td>\n",
       "      <td>...</td>\n",
       "      <td>...</td>\n",
       "      <td>...</td>\n",
       "      <td>...</td>\n",
       "      <td>...</td>\n",
       "      <td>...</td>\n",
       "      <td>...</td>\n",
       "    </tr>\n",
       "    <tr>\n",
       "      <th>116</th>\n",
       "      <td>249.3514</td>\n",
       "      <td>249.3514</td>\n",
       "      <td>257.74</td>\n",
       "      <td>241.3629</td>\n",
       "      <td>253.00</td>\n",
       "      <td>252.40</td>\n",
       "      <td>249.41084</td>\n",
       "      <td>249.378001</td>\n",
       "      <td>0.0</td>\n",
       "      <td>249.41084</td>\n",
       "      <td>...</td>\n",
       "      <td>4</td>\n",
       "      <td>11</td>\n",
       "      <td>1028</td>\n",
       "      <td>False</td>\n",
       "      <td>False</td>\n",
       "      <td>False</td>\n",
       "      <td>False</td>\n",
       "      <td>False</td>\n",
       "      <td>False</td>\n",
       "      <td>True</td>\n",
       "    </tr>\n",
       "    <tr>\n",
       "      <th>117</th>\n",
       "      <td>249.3514</td>\n",
       "      <td>249.3514</td>\n",
       "      <td>257.74</td>\n",
       "      <td>241.3629</td>\n",
       "      <td>253.00</td>\n",
       "      <td>252.40</td>\n",
       "      <td>249.38112</td>\n",
       "      <td>249.369134</td>\n",
       "      <td>0.0</td>\n",
       "      <td>249.38112</td>\n",
       "      <td>...</td>\n",
       "      <td>4</td>\n",
       "      <td>11</td>\n",
       "      <td>1028</td>\n",
       "      <td>False</td>\n",
       "      <td>False</td>\n",
       "      <td>False</td>\n",
       "      <td>False</td>\n",
       "      <td>False</td>\n",
       "      <td>False</td>\n",
       "      <td>True</td>\n",
       "    </tr>\n",
       "    <tr>\n",
       "      <th>118</th>\n",
       "      <td>249.3514</td>\n",
       "      <td>249.3514</td>\n",
       "      <td>257.74</td>\n",
       "      <td>241.3629</td>\n",
       "      <td>253.00</td>\n",
       "      <td>252.40</td>\n",
       "      <td>249.35140</td>\n",
       "      <td>249.363223</td>\n",
       "      <td>0.0</td>\n",
       "      <td>249.35140</td>\n",
       "      <td>...</td>\n",
       "      <td>4</td>\n",
       "      <td>11</td>\n",
       "      <td>1028</td>\n",
       "      <td>False</td>\n",
       "      <td>False</td>\n",
       "      <td>False</td>\n",
       "      <td>False</td>\n",
       "      <td>False</td>\n",
       "      <td>False</td>\n",
       "      <td>True</td>\n",
       "    </tr>\n",
       "    <tr>\n",
       "      <th>119</th>\n",
       "      <td>249.3514</td>\n",
       "      <td>249.3514</td>\n",
       "      <td>257.74</td>\n",
       "      <td>241.3629</td>\n",
       "      <td>253.00</td>\n",
       "      <td>252.40</td>\n",
       "      <td>249.35140</td>\n",
       "      <td>249.359282</td>\n",
       "      <td>0.0</td>\n",
       "      <td>249.35140</td>\n",
       "      <td>...</td>\n",
       "      <td>4</td>\n",
       "      <td>11</td>\n",
       "      <td>1028</td>\n",
       "      <td>False</td>\n",
       "      <td>False</td>\n",
       "      <td>False</td>\n",
       "      <td>False</td>\n",
       "      <td>False</td>\n",
       "      <td>False</td>\n",
       "      <td>True</td>\n",
       "    </tr>\n",
       "    <tr>\n",
       "      <th>120</th>\n",
       "      <td>248.7000</td>\n",
       "      <td>248.7000</td>\n",
       "      <td>257.74</td>\n",
       "      <td>241.3629</td>\n",
       "      <td>253.00</td>\n",
       "      <td>252.40</td>\n",
       "      <td>249.22112</td>\n",
       "      <td>249.139521</td>\n",
       "      <td>0.0</td>\n",
       "      <td>249.22112</td>\n",
       "      <td>...</td>\n",
       "      <td>4</td>\n",
       "      <td>11</td>\n",
       "      <td>1029</td>\n",
       "      <td>False</td>\n",
       "      <td>False</td>\n",
       "      <td>False</td>\n",
       "      <td>False</td>\n",
       "      <td>False</td>\n",
       "      <td>False</td>\n",
       "      <td>True</td>\n",
       "    </tr>\n",
       "  </tbody>\n",
       "</table>\n",
       "<p>121 rows × 28 columns</p>\n",
       "</div>"
      ],
      "text/plain": [
       "     adj_close     close    high       low    open  previous_close      SMA_5  \\\n",
       "0     198.7600  198.7600  199.35  186.0600  191.83          190.42  198.22800   \n",
       "1     198.7600  198.7600  199.35  186.0600  191.83          190.42  198.36100   \n",
       "2     198.7600  198.7600  199.35  186.0600  191.83          190.42  198.49400   \n",
       "3     198.7600  198.7600  199.35  186.0600  191.83          190.42  198.62700   \n",
       "4     198.7600  198.7600  199.35  186.0600  191.83          190.42  198.76000   \n",
       "..         ...       ...     ...       ...     ...             ...        ...   \n",
       "116   249.3514  249.3514  257.74  241.3629  253.00          252.40  249.41084   \n",
       "117   249.3514  249.3514  257.74  241.3629  253.00          252.40  249.38112   \n",
       "118   249.3514  249.3514  257.74  241.3629  253.00          252.40  249.35140   \n",
       "119   249.3514  249.3514  257.74  241.3629  253.00          252.40  249.35140   \n",
       "120   248.7000  248.7000  257.74  241.3629  253.00          252.40  249.22112   \n",
       "\n",
       "          EMA_5  RSI_5  BB_Middle  ...  weekday  day  time_of_day  \\\n",
       "0    198.316667  100.0  198.22800  ...        4   11         1027   \n",
       "1    198.464444  100.0  198.36100  ...        4   11         1027   \n",
       "2    198.562963  100.0  198.49400  ...        4   11         1027   \n",
       "3    198.628642  100.0  198.62700  ...        4   11         1027   \n",
       "4    198.672428  100.0  198.76000  ...        4   11         1027   \n",
       "..          ...    ...        ...  ...      ...  ...          ...   \n",
       "116  249.378001    0.0  249.41084  ...        4   11         1028   \n",
       "117  249.369134    0.0  249.38112  ...        4   11         1028   \n",
       "118  249.363223    0.0  249.35140  ...        4   11         1028   \n",
       "119  249.359282    0.0  249.35140  ...        4   11         1028   \n",
       "120  249.139521    0.0  249.22112  ...        4   11         1029   \n",
       "\n",
       "     ticker_AAPL  ticker_AMZN  ticker_GOOGL  ticker_META  ticker_MSFT  \\\n",
       "0           True        False         False        False        False   \n",
       "1           True        False         False        False        False   \n",
       "2           True        False         False        False        False   \n",
       "3           True        False         False        False        False   \n",
       "4           True        False         False        False        False   \n",
       "..           ...          ...           ...          ...          ...   \n",
       "116        False        False         False        False        False   \n",
       "117        False        False         False        False        False   \n",
       "118        False        False         False        False        False   \n",
       "119        False        False         False        False        False   \n",
       "120        False        False         False        False        False   \n",
       "\n",
       "     ticker_NVDA  ticker_TSLA  \n",
       "0          False        False  \n",
       "1          False        False  \n",
       "2          False        False  \n",
       "3          False        False  \n",
       "4          False        False  \n",
       "..           ...          ...  \n",
       "116        False         True  \n",
       "117        False         True  \n",
       "118        False         True  \n",
       "119        False         True  \n",
       "120        False         True  \n",
       "\n",
       "[121 rows x 28 columns]"
      ]
     },
     "metadata": {},
     "output_type": "display_data"
    },
    {
     "name": "stdout",
     "output_type": "stream",
     "text": [
      "Printing out all the columns so we can see what we split up: \n",
      "\n",
      "['adj_close', 'close', 'high', 'low', 'open', 'previous_close', 'SMA_5', 'EMA_5', 'RSI_5', 'BB_Middle', 'BB_Std', 'BB_Upper', 'BB_Lower', 'MACD', 'MACD_Signal', 'ATR_5', 'year', 'month', 'weekday', 'day', 'time_of_day', 'ticker_AAPL', 'ticker_AMZN', 'ticker_GOOGL', 'ticker_META', 'ticker_MSFT', 'ticker_NVDA', 'ticker_TSLA']\n"
     ]
    }
   ],
   "source": [
    "\n",
    "def encodingdatefeatures(df):\n",
    "\n",
    "    # making sure we turn datae into date time then we can split it\n",
    "    df['date'] = pd.to_datetime(df['date'])\n",
    "\n",
    "    # extracting the dates similar to labs\n",
    "    df['year'] = df['date'].dt.year\n",
    "    df['month'] = df['date'].dt.month\n",
    "    df['weekday'] = df['date'].dt.weekday\n",
    "    df['day'] = df['date'].dt.day\n",
    "    df['time_of_day'] = df['date'].dt.hour * 60 + df['date'].dt.minute \n",
    "\n",
    "    #using one hot encoding on the ticker since its categorical\n",
    "    ticker_dummies = pd.get_dummies(df['ticker'], prefix='ticker')\n",
    "\n",
    "    # adding the onehot encoded column to the dataframe and removing original from DF\n",
    "    df = pd.concat([df.drop(['ticker', 'date'], axis=1), ticker_dummies], axis=1)\n",
    "    return df\n",
    "# applying and printing our results.also wanted to print the column list since it gets abbreviated\n",
    "df_cass_encoded = encodingdatefeatures(df_cass_final)\n",
    "display(df_cass_encoded)\n",
    "print(\"Printing out all the columns so we can see what we split up: \\n\")\n",
    "print(list(df_cass_encoded.columns))"
   ]
  },
  {
   "cell_type": "markdown",
   "metadata": {},
   "source": [
    "# Machine Learning "
   ]
  },
  {
   "cell_type": "markdown",
   "metadata": {},
   "source": [
    "### Real Time: Using LSTM first and then XGBoost. Then we can apply an ensemble method where we use weighted averaging between both"
   ]
  },
  {
   "cell_type": "code",
   "execution_count": null,
   "metadata": {},
   "outputs": [
    {
     "name": "stderr",
     "output_type": "stream",
     "text": [
      "/Users/haseemarshad/Library/Python/3.9/lib/python/site-packages/keras/src/layers/rnn/rnn.py:200: UserWarning:\n",
      "\n",
      "Do not pass an `input_shape`/`input_dim` argument to a layer. When using Sequential models, prefer using an `Input(shape)` object as the first layer in the model instead.\n",
      "\n"
     ]
    },
    {
     "data": {
      "text/html": [
       "<pre style=\"white-space:pre;overflow-x:auto;line-height:normal;font-family:Menlo,'DejaVu Sans Mono',consolas,'Courier New',monospace\"><span style=\"font-weight: bold\">Model: \"sequential_28\"</span>\n",
       "</pre>\n"
      ],
      "text/plain": [
       "\u001b[1mModel: \"sequential_28\"\u001b[0m\n"
      ]
     },
     "metadata": {},
     "output_type": "display_data"
    },
    {
     "data": {
      "text/html": [
       "<pre style=\"white-space:pre;overflow-x:auto;line-height:normal;font-family:Menlo,'DejaVu Sans Mono',consolas,'Courier New',monospace\">┏━━━━━━━━━━━━━━━━━━━━━━━━━━━━━━━━━┳━━━━━━━━━━━━━━━━━━━━━━━━┳━━━━━━━━━━━━━━━┓\n",
       "┃<span style=\"font-weight: bold\"> Layer (type)                    </span>┃<span style=\"font-weight: bold\"> Output Shape           </span>┃<span style=\"font-weight: bold\">       Param # </span>┃\n",
       "┡━━━━━━━━━━━━━━━━━━━━━━━━━━━━━━━━━╇━━━━━━━━━━━━━━━━━━━━━━━━╇━━━━━━━━━━━━━━━┩\n",
       "│ lstm_28 (<span style=\"color: #0087ff; text-decoration-color: #0087ff\">LSTM</span>)                  │ (<span style=\"color: #00d7ff; text-decoration-color: #00d7ff\">None</span>, <span style=\"color: #00af00; text-decoration-color: #00af00\">64</span>)             │        <span style=\"color: #00af00; text-decoration-color: #00af00\">23,552</span> │\n",
       "├─────────────────────────────────┼────────────────────────┼───────────────┤\n",
       "│ dense_56 (<span style=\"color: #0087ff; text-decoration-color: #0087ff\">Dense</span>)                │ (<span style=\"color: #00d7ff; text-decoration-color: #00d7ff\">None</span>, <span style=\"color: #00af00; text-decoration-color: #00af00\">32</span>)             │         <span style=\"color: #00af00; text-decoration-color: #00af00\">2,080</span> │\n",
       "├─────────────────────────────────┼────────────────────────┼───────────────┤\n",
       "│ dense_57 (<span style=\"color: #0087ff; text-decoration-color: #0087ff\">Dense</span>)                │ (<span style=\"color: #00d7ff; text-decoration-color: #00d7ff\">None</span>, <span style=\"color: #00af00; text-decoration-color: #00af00\">2</span>)              │            <span style=\"color: #00af00; text-decoration-color: #00af00\">66</span> │\n",
       "└─────────────────────────────────┴────────────────────────┴───────────────┘\n",
       "</pre>\n"
      ],
      "text/plain": [
       "┏━━━━━━━━━━━━━━━━━━━━━━━━━━━━━━━━━┳━━━━━━━━━━━━━━━━━━━━━━━━┳━━━━━━━━━━━━━━━┓\n",
       "┃\u001b[1m \u001b[0m\u001b[1mLayer (type)                   \u001b[0m\u001b[1m \u001b[0m┃\u001b[1m \u001b[0m\u001b[1mOutput Shape          \u001b[0m\u001b[1m \u001b[0m┃\u001b[1m \u001b[0m\u001b[1m      Param #\u001b[0m\u001b[1m \u001b[0m┃\n",
       "┡━━━━━━━━━━━━━━━━━━━━━━━━━━━━━━━━━╇━━━━━━━━━━━━━━━━━━━━━━━━╇━━━━━━━━━━━━━━━┩\n",
       "│ lstm_28 (\u001b[38;5;33mLSTM\u001b[0m)                  │ (\u001b[38;5;45mNone\u001b[0m, \u001b[38;5;34m64\u001b[0m)             │        \u001b[38;5;34m23,552\u001b[0m │\n",
       "├─────────────────────────────────┼────────────────────────┼───────────────┤\n",
       "│ dense_56 (\u001b[38;5;33mDense\u001b[0m)                │ (\u001b[38;5;45mNone\u001b[0m, \u001b[38;5;34m32\u001b[0m)             │         \u001b[38;5;34m2,080\u001b[0m │\n",
       "├─────────────────────────────────┼────────────────────────┼───────────────┤\n",
       "│ dense_57 (\u001b[38;5;33mDense\u001b[0m)                │ (\u001b[38;5;45mNone\u001b[0m, \u001b[38;5;34m2\u001b[0m)              │            \u001b[38;5;34m66\u001b[0m │\n",
       "└─────────────────────────────────┴────────────────────────┴───────────────┘\n"
      ]
     },
     "metadata": {},
     "output_type": "display_data"
    },
    {
     "data": {
      "text/html": [
       "<pre style=\"white-space:pre;overflow-x:auto;line-height:normal;font-family:Menlo,'DejaVu Sans Mono',consolas,'Courier New',monospace\"><span style=\"font-weight: bold\"> Total params: </span><span style=\"color: #00af00; text-decoration-color: #00af00\">25,698</span> (100.38 KB)\n",
       "</pre>\n"
      ],
      "text/plain": [
       "\u001b[1m Total params: \u001b[0m\u001b[38;5;34m25,698\u001b[0m (100.38 KB)\n"
      ]
     },
     "metadata": {},
     "output_type": "display_data"
    },
    {
     "data": {
      "text/html": [
       "<pre style=\"white-space:pre;overflow-x:auto;line-height:normal;font-family:Menlo,'DejaVu Sans Mono',consolas,'Courier New',monospace\"><span style=\"font-weight: bold\"> Trainable params: </span><span style=\"color: #00af00; text-decoration-color: #00af00\">25,698</span> (100.38 KB)\n",
       "</pre>\n"
      ],
      "text/plain": [
       "\u001b[1m Trainable params: \u001b[0m\u001b[38;5;34m25,698\u001b[0m (100.38 KB)\n"
      ]
     },
     "metadata": {},
     "output_type": "display_data"
    },
    {
     "data": {
      "text/html": [
       "<pre style=\"white-space:pre;overflow-x:auto;line-height:normal;font-family:Menlo,'DejaVu Sans Mono',consolas,'Courier New',monospace\"><span style=\"font-weight: bold\"> Non-trainable params: </span><span style=\"color: #00af00; text-decoration-color: #00af00\">0</span> (0.00 B)\n",
       "</pre>\n"
      ],
      "text/plain": [
       "\u001b[1m Non-trainable params: \u001b[0m\u001b[38;5;34m0\u001b[0m (0.00 B)\n"
      ]
     },
     "metadata": {},
     "output_type": "display_data"
    },
    {
     "name": "stdout",
     "output_type": "stream",
     "text": [
      "Epoch 1/30\n",
      "\u001b[1m5/5\u001b[0m \u001b[32m━━━━━━━━━━━━━━━━━━━━\u001b[0m\u001b[37m\u001b[0m \u001b[1m2s\u001b[0m 73ms/step - loss: 0.1608 - val_loss: 0.0481\n",
      "Epoch 2/30\n",
      "\u001b[1m5/5\u001b[0m \u001b[32m━━━━━━━━━━━━━━━━━━━━\u001b[0m\u001b[37m\u001b[0m \u001b[1m0s\u001b[0m 17ms/step - loss: 0.0716 - val_loss: 0.1067\n",
      "Epoch 3/30\n",
      "\u001b[1m5/5\u001b[0m \u001b[32m━━━━━━━━━━━━━━━━━━━━\u001b[0m\u001b[37m\u001b[0m \u001b[1m0s\u001b[0m 16ms/step - loss: 0.0537 - val_loss: 0.1011\n",
      "Epoch 4/30\n",
      "\u001b[1m5/5\u001b[0m \u001b[32m━━━━━━━━━━━━━━━━━━━━\u001b[0m\u001b[37m\u001b[0m \u001b[1m0s\u001b[0m 16ms/step - loss: 0.0483 - val_loss: 0.0610\n",
      "Epoch 5/30\n",
      "\u001b[1m5/5\u001b[0m \u001b[32m━━━━━━━━━━━━━━━━━━━━\u001b[0m\u001b[37m\u001b[0m \u001b[1m0s\u001b[0m 17ms/step - loss: 0.0328 - val_loss: 0.0474\n",
      "Epoch 6/30\n",
      "\u001b[1m5/5\u001b[0m \u001b[32m━━━━━━━━━━━━━━━━━━━━\u001b[0m\u001b[37m\u001b[0m \u001b[1m0s\u001b[0m 16ms/step - loss: 0.0413 - val_loss: 0.0517\n",
      "Epoch 7/30\n",
      "\u001b[1m5/5\u001b[0m \u001b[32m━━━━━━━━━━━━━━━━━━━━\u001b[0m\u001b[37m\u001b[0m \u001b[1m0s\u001b[0m 16ms/step - loss: 0.0359 - val_loss: 0.0525\n",
      "Epoch 8/30\n",
      "\u001b[1m5/5\u001b[0m \u001b[32m━━━━━━━━━━━━━━━━━━━━\u001b[0m\u001b[37m\u001b[0m \u001b[1m0s\u001b[0m 17ms/step - loss: 0.0318 - val_loss: 0.0496\n",
      "Epoch 9/30\n",
      "\u001b[1m5/5\u001b[0m \u001b[32m━━━━━━━━━━━━━━━━━━━━\u001b[0m\u001b[37m\u001b[0m \u001b[1m0s\u001b[0m 16ms/step - loss: 0.0244 - val_loss: 0.0426\n",
      "Epoch 10/30\n",
      "\u001b[1m5/5\u001b[0m \u001b[32m━━━━━━━━━━━━━━━━━━━━\u001b[0m\u001b[37m\u001b[0m \u001b[1m0s\u001b[0m 16ms/step - loss: 0.0284 - val_loss: 0.0431\n",
      "Epoch 11/30\n",
      "\u001b[1m5/5\u001b[0m \u001b[32m━━━━━━━━━━━━━━━━━━━━\u001b[0m\u001b[37m\u001b[0m \u001b[1m0s\u001b[0m 20ms/step - loss: 0.0228 - val_loss: 0.0505\n",
      "Epoch 12/30\n",
      "\u001b[1m5/5\u001b[0m \u001b[32m━━━━━━━━━━━━━━━━━━━━\u001b[0m\u001b[37m\u001b[0m \u001b[1m0s\u001b[0m 15ms/step - loss: 0.0179 - val_loss: 0.0576\n",
      "Epoch 13/30\n",
      "\u001b[1m5/5\u001b[0m \u001b[32m━━━━━━━━━━━━━━━━━━━━\u001b[0m\u001b[37m\u001b[0m \u001b[1m0s\u001b[0m 15ms/step - loss: 0.0160 - val_loss: 0.0659\n",
      "Epoch 14/30\n",
      "\u001b[1m5/5\u001b[0m \u001b[32m━━━━━━━━━━━━━━━━━━━━\u001b[0m\u001b[37m\u001b[0m \u001b[1m0s\u001b[0m 16ms/step - loss: 0.0129 - val_loss: 0.0701\n",
      "Epoch 15/30\n",
      "\u001b[1m5/5\u001b[0m \u001b[32m━━━━━━━━━━━━━━━━━━━━\u001b[0m\u001b[37m\u001b[0m \u001b[1m0s\u001b[0m 16ms/step - loss: 0.0118 - val_loss: 0.0709\n",
      "Epoch 16/30\n",
      "\u001b[1m5/5\u001b[0m \u001b[32m━━━━━━━━━━━━━━━━━━━━\u001b[0m\u001b[37m\u001b[0m \u001b[1m0s\u001b[0m 15ms/step - loss: 0.0147 - val_loss: 0.0767\n",
      "Epoch 17/30\n",
      "\u001b[1m5/5\u001b[0m \u001b[32m━━━━━━━━━━━━━━━━━━━━\u001b[0m\u001b[37m\u001b[0m \u001b[1m0s\u001b[0m 17ms/step - loss: 0.0109 - val_loss: 0.0757\n",
      "Epoch 18/30\n",
      "\u001b[1m5/5\u001b[0m \u001b[32m━━━━━━━━━━━━━━━━━━━━\u001b[0m\u001b[37m\u001b[0m \u001b[1m0s\u001b[0m 18ms/step - loss: 0.0122 - val_loss: 0.0770\n",
      "Epoch 19/30\n",
      "\u001b[1m5/5\u001b[0m \u001b[32m━━━━━━━━━━━━━━━━━━━━\u001b[0m\u001b[37m\u001b[0m \u001b[1m0s\u001b[0m 17ms/step - loss: 0.0091 - val_loss: 0.0795\n",
      "Epoch 20/30\n",
      "\u001b[1m5/5\u001b[0m \u001b[32m━━━━━━━━━━━━━━━━━━━━\u001b[0m\u001b[37m\u001b[0m \u001b[1m0s\u001b[0m 16ms/step - loss: 0.0098 - val_loss: 0.0715\n",
      "Epoch 21/30\n",
      "\u001b[1m5/5\u001b[0m \u001b[32m━━━━━━━━━━━━━━━━━━━━\u001b[0m\u001b[37m\u001b[0m \u001b[1m0s\u001b[0m 16ms/step - loss: 0.0121 - val_loss: 0.0759\n",
      "Epoch 22/30\n",
      "\u001b[1m5/5\u001b[0m \u001b[32m━━━━━━━━━━━━━━━━━━━━\u001b[0m\u001b[37m\u001b[0m \u001b[1m0s\u001b[0m 16ms/step - loss: 0.0076 - val_loss: 0.0780\n",
      "Epoch 23/30\n",
      "\u001b[1m5/5\u001b[0m \u001b[32m━━━━━━━━━━━━━━━━━━━━\u001b[0m\u001b[37m\u001b[0m \u001b[1m0s\u001b[0m 16ms/step - loss: 0.0078 - val_loss: 0.0817\n",
      "Epoch 24/30\n",
      "\u001b[1m5/5\u001b[0m \u001b[32m━━━━━━━━━━━━━━━━━━━━\u001b[0m\u001b[37m\u001b[0m \u001b[1m0s\u001b[0m 16ms/step - loss: 0.0069 - val_loss: 0.0821\n",
      "Epoch 25/30\n",
      "\u001b[1m5/5\u001b[0m \u001b[32m━━━━━━━━━━━━━━━━━━━━\u001b[0m\u001b[37m\u001b[0m \u001b[1m0s\u001b[0m 15ms/step - loss: 0.0085 - val_loss: 0.0847\n",
      "Epoch 26/30\n",
      "\u001b[1m5/5\u001b[0m \u001b[32m━━━━━━━━━━━━━━━━━━━━\u001b[0m\u001b[37m\u001b[0m \u001b[1m0s\u001b[0m 29ms/step - loss: 0.0088 - val_loss: 0.0852\n",
      "Epoch 27/30\n",
      "\u001b[1m5/5\u001b[0m \u001b[32m━━━━━━━━━━━━━━━━━━━━\u001b[0m\u001b[37m\u001b[0m \u001b[1m0s\u001b[0m 16ms/step - loss: 0.0048 - val_loss: 0.0870\n",
      "Epoch 28/30\n",
      "\u001b[1m5/5\u001b[0m \u001b[32m━━━━━━━━━━━━━━━━━━━━\u001b[0m\u001b[37m\u001b[0m \u001b[1m0s\u001b[0m 16ms/step - loss: 0.0041 - val_loss: 0.0821\n",
      "Epoch 29/30\n",
      "\u001b[1m5/5\u001b[0m \u001b[32m━━━━━━━━━━━━━━━━━━━━\u001b[0m\u001b[37m\u001b[0m \u001b[1m0s\u001b[0m 15ms/step - loss: 0.0087 - val_loss: 0.0842\n",
      "Epoch 30/30\n",
      "\u001b[1m5/5\u001b[0m \u001b[32m━━━━━━━━━━━━━━━━━━━━\u001b[0m\u001b[37m\u001b[0m \u001b[1m0s\u001b[0m 16ms/step - loss: 0.0067 - val_loss: 0.0895\n",
      "\u001b[1m1/1\u001b[0m \u001b[32m━━━━━━━━━━━━━━━━━━━━\u001b[0m\u001b[37m\u001b[0m \u001b[1m0s\u001b[0m 126ms/step\n"
     ]
    },
    {
     "data": {
      "image/png": "[encoded data removed]",
      "text/plain": [
       "<Figure size 1400x600 with 2 Axes>"
      ]
     },
     "metadata": {},
     "output_type": "display_data"
    },
    {
     "name": "stdout",
     "output_type": "stream",
     "text": [
      "Close Price MSE: 2297.758824114271\n",
      "Close Price R²: 0.19997202764065714\n",
      "MACD MSE: 0.001738603008962083\n",
      "MACD R²: 0.5859155182534113\n"
     ]
    }
   ],
   "source": [
    "df_cass_encoded['target_close'] = df_cass_encoded['close'].shift(-1)\n",
    "df_cass_encoded['target_macd'] = df_cass_encoded['MACD'].shift(-1)\n",
    "# identify all of the features and our targets list\n",
    "features = ['adj_close', 'close', 'high', 'low', 'open', 'previous_close','SMA_5', 'EMA_5', 'RSI_5', 'BB_Middle', 'BB_Std', 'BB_Upper', 'BB_Lower','MACD_Signal', 'ATR_5', \n",
    "            'year', 'month', 'weekday', 'day', 'time_of_day','ticker_AAPL', 'ticker_AMZN', 'ticker_GOOGL', 'ticker_META','ticker_MSFT', 'ticker_NVDA', 'ticker_TSLA']\n",
    "targets = ['target_close', 'target_macd']\n",
    "\n",
    "#calling the min max standard scaler\n",
    "feature_scaler = MinMaxScaler()\n",
    "target_scaler = MinMaxScaler()\n",
    "scaled_real_features = feature_scaler.fit_transform(df_cass_encoded[features])\n",
    "scaled_real_targets = target_scaler.fit_transform(df_cass_encoded[targets])\n",
    "\n",
    "#creating LSTM sequences which are 10 time steps long\n",
    "def create_sequences(features, targets, sequence_length=10):\n",
    "    X, y = [], []\n",
    "    for i in range(len(features) - sequence_length):\n",
    "        X.append(features[i:i+sequence_length])\n",
    "        y.append(targets[i+sequence_length])\n",
    "    return np.array(X), np.array(y)\n",
    "X, y = create_sequences(scaled_real_features, scaled_real_targets, sequence_length=10)\n",
    "\n",
    "train_size = int(len(X) * 0.8)\n",
    "X_train, X_test = X[:train_size], X[train_size:]\n",
    "y_train, y_test = y[:train_size], y[train_size:]\n",
    "\n",
    "# creating the LSTM model\n",
    "model = Sequential([LSTM(64, input_shape=(X_train.shape[1], X_train.shape[2]), return_sequences=False),Dense(32, activation='relu'),Dense(y_train.shape[1])])\n",
    "\n",
    "model.compile(optimizer='adam', loss='mse')\n",
    "model.summary()\n",
    "\n",
    "#fitting the model\n",
    "history = model.fit(X_train, y_train, epochs=30, batch_size=16, validation_split=0.2)\n",
    "\n",
    "#model prediction and inverse scaling\n",
    "y_pred_scaled = model.predict(X_test)\n",
    "y_pred = target_scaler.inverse_transform(y_pred_scaled)\n",
    "y_test_orig = target_scaler.inverse_transform(y_test)\n",
    "\n",
    "# extracting the target variables\n",
    "pred_close, pred_macd = y_pred[:, 0], y_pred[:, 1]\n",
    "true_close, true_macd = y_test_orig[:, 0], y_test_orig[:, 1]\n",
    "\n",
    "#converting to numpy in case theres any nans then filter it out\n",
    "pred_close = np.array(pred_close)\n",
    "true_close = np.array(true_close)\n",
    "pred_macd = np.array(pred_macd)\n",
    "true_macd = np.array(true_macd)\n",
    "valid_close = ~np.isnan(pred_close) & ~np.isnan(true_close)\n",
    "valid_macd = ~np.isnan(pred_macd) & ~np.isnan(true_macd)\n",
    "\n",
    "#fit the filtering\n",
    "true_close_clean = true_close[valid_close]\n",
    "pred_close_clean = pred_close[valid_close]\n",
    "true_macd_clean = true_macd[valid_macd]\n",
    "pred_macd_clean = pred_macd[valid_macd]\n",
    "\n",
    "#settuing up the plot figure\n",
    "plt.figure(figsize=(14, 6))\n",
    "\n",
    "# plotting close price for the LSTM model\n",
    "plt.subplot(1, 2, 1)\n",
    "plt.plot(true_close_clean, label='True Close Price', color='green')\n",
    "plt.plot(pred_close_clean, label='Predicted Close Price', color='blue')\n",
    "plt.title('Close Price: Actual vs Predicted')\n",
    "plt.xlabel('Time Steps')\n",
    "plt.ylabel('Price')\n",
    "plt.legend()\n",
    "\n",
    "# plotting macd for the LSTM model\n",
    "plt.subplot(1, 2, 2)\n",
    "plt.plot(true_macd_clean, label='True MACD', color='green')\n",
    "plt.plot(pred_macd_clean, label='Predicted MACD', color='blue')\n",
    "plt.title('MACD: Actual vs Predicted')\n",
    "plt.xlabel('Time Steps')\n",
    "plt.ylabel('MACD Value')\n",
    "plt.legend()\n",
    "plt.tight_layout()\n",
    "plt.show()\n",
    "\n",
    "# printing evaluation statments for MSE and R2 for both close price and macd\n",
    "print(\"Close Price MSE:\", mean_squared_error(true_close_clean, pred_close_clean))\n",
    "print(\"Close Price R²:\", r2_score(true_close_clean, pred_close_clean))\n",
    "print(\"MACD MSE:\", mean_squared_error(true_macd_clean, pred_macd_clean))\n",
    "print(\"MACD R²:\", r2_score(true_macd_clean, pred_macd_clean))\n",
    "\n",
    "\n"
   ]
  },
  {
   "cell_type": "markdown",
   "metadata": {},
   "source": [
    "## importing libomp if you are on macos for the XGBoosting (1/2nd half of real time ensemble model)"
   ]
  },
  {
   "cell_type": "code",
   "execution_count": 56,
   "metadata": {},
   "outputs": [
    {
     "name": "stdout",
     "output_type": "stream",
     "text": [
      "\u001b[34m==>\u001b[0m \u001b[1mAuto-updating Homebrew...\u001b[0m\n",
      "Adjust how often this is run with HOMEBREW_AUTO_UPDATE_SECS or disable with\n",
      "HOMEBREW_NO_AUTO_UPDATE. Hide these hints with HOMEBREW_NO_ENV_HINTS (see `man brew`).\n",
      "\u001b[34m==>\u001b[0m \u001b[1mAuto-updated Homebrew!\u001b[0m\n",
      "Updated 2 taps (homebrew/core and homebrew/cask).\n",
      "\u001b[34m==>\u001b[0m \u001b[1mNew Formulae\u001b[0m\n",
      "api-linter                 protoc-gen-doc             uhubctl\n",
      "buffrs                     sacad                      xtl\n",
      "\u001b[34m==>\u001b[0m \u001b[1mNew Casks\u001b[0m\n",
      "deepchat            font-ancizar-serif  liviable            viables\n",
      "font-ancizar-sans   font-huninn         profit              vimy\n",
      "\n",
      "You have \u001b[1m9\u001b[0m outdated formulae installed.\n",
      "\n",
      "\u001b[33mWarning:\u001b[0m libomp 20.1.3 is already installed and up-to-date.\n",
      "To reinstall 20.1.3, run:\n",
      "  brew reinstall libomp\n"
     ]
    }
   ],
   "source": [
    "!brew install libomp"
   ]
  },
  {
   "cell_type": "markdown",
   "metadata": {},
   "source": [
    "## Creating the code for xgboosting ,  80:20 train:test ratio"
   ]
  },
  {
   "cell_type": "code",
   "execution_count": 68,
   "metadata": {},
   "outputs": [
    {
     "name": "stdout",
     "output_type": "stream",
     "text": [
      "Close Price MSE: 3351.919131408728\n",
      "Close Price R²: 0.15977017762859247\n",
      "MACD MSE: 0.000837776795500361\n",
      "MACD R²: 0.7847235094679801\n"
     ]
    },
    {
     "data": {
      "image/png": "[encoded data removed]",
      "text/plain": [
       "<Figure size 1400x600 with 2 Axes>"
      ]
     },
     "metadata": {},
     "output_type": "display_data"
    }
   ],
   "source": [
    "import pandas as pd\n",
    "import numpy as np\n",
    "import matplotlib.pyplot as plt\n",
    "from sklearn.preprocessing import StandardScaler\n",
    "from sklearn.model_selection import train_test_split\n",
    "from sklearn.metrics import mean_squared_error, r2_score\n",
    "from xgboost import XGBRegressor\n",
    "\n",
    "# === Step 1: Define targets (next timestep prediction) ===\n",
    "df_cass_encoded['target_close'] = df_cass_encoded['close'].shift(-1)\n",
    "df_cass_encoded['target_macd'] = df_cass_encoded['MACD'].shift(-1)\n",
    "df_cass_encoded.dropna(subset=['target_close', 'target_macd'], inplace=True)\n",
    "\n",
    "# === Step 2: Feature selection (avoid multicollinearity but preserve signal strength) ===\n",
    "features = [\n",
    "    'close', 'high', 'low', 'open', 'previous_close',\n",
    "    'SMA_5', 'EMA_5', 'RSI_5', 'BB_Upper', 'BB_Lower',\n",
    "    'MACD_Signal', 'ATR_5', 'time_of_day',\n",
    "    'ticker_AAPL', 'ticker_AMZN', 'ticker_GOOGL', \n",
    "    'ticker_META', 'ticker_MSFT', 'ticker_NVDA', 'ticker_TSLA'\n",
    "]\n",
    "targets = ['target_close', 'target_macd']\n",
    "\n",
    "# === Step 3: Scaling ===\n",
    "feature_scaler = StandardScaler()\n",
    "target_scaler = StandardScaler()\n",
    "X = feature_scaler.fit_transform(df_cass_encoded[features])\n",
    "y = target_scaler.fit_transform(df_cass_encoded[targets])\n",
    "\n",
    "# === Step 4: Train-test split (no shuffling for time series) ===\n",
    "X_train, X_test, y_train, y_test = train_test_split(X, y, test_size=0.2, shuffle=False)\n",
    "\n",
    "# === Step 5: XGBoost Regressor (tuned for low-latency real-time) ===\n",
    "xgb_model = XGBRegressor(\n",
    "    n_estimators=80,  # slightly reduced\n",
    "    max_depth=3,\n",
    "    learning_rate=0.08,\n",
    "    subsample=0.9,\n",
    "    colsample_bytree=0.8,\n",
    "    objective='reg:squarederror',\n",
    "    random_state=42\n",
    ")\n",
    "xgb_model.fit(X_train, y_train)\n",
    "\n",
    "# === Step 6: Prediction & Evaluation ===\n",
    "y_pred = xgb_model.predict(X_test)\n",
    "y_test_orig = target_scaler.inverse_transform(y_test)\n",
    "y_pred_orig = target_scaler.inverse_transform(y_pred)\n",
    "\n",
    "true_close, true_macd = y_test_orig[:, 0], y_test_orig[:, 1]\n",
    "pred_close, pred_macd = y_pred_orig[:, 0], y_pred_orig[:, 1]\n",
    "\n",
    "# === Step 7: Metrics ===\n",
    "close_mse = mean_squared_error(true_close, pred_close)\n",
    "close_r2 = r2_score(true_close, pred_close)\n",
    "macd_mse = mean_squared_error(true_macd, pred_macd)\n",
    "macd_r2 = r2_score(true_macd, pred_macd)\n",
    "\n",
    "print(\"Close Price MSE:\", close_mse)\n",
    "print(\"Close Price R²:\", close_r2)\n",
    "print(\"MACD MSE:\", macd_mse)\n",
    "print(\"MACD R²:\", macd_r2)\n",
    "\n",
    "# === Step 8: Visualization ===\n",
    "plt.figure(figsize=(14, 6))\n",
    "\n",
    "plt.subplot(1, 2, 1)\n",
    "plt.plot(true_close, label='True Close Price', color='green')\n",
    "plt.plot(pred_close, label='Predicted Close Price', color='blue')\n",
    "plt.title('Close Price: Actual vs Predicted (XGBoost)')\n",
    "plt.xlabel('Time Steps')\n",
    "plt.ylabel('Price')\n",
    "plt.legend()\n",
    "\n",
    "plt.subplot(1, 2, 2)\n",
    "plt.plot(true_macd, label='True MACD', color='green')\n",
    "plt.plot(pred_macd, label='Predicted MACD', color='blue')\n",
    "plt.title('MACD: Actual vs Predicted (XGBoost)')\n",
    "plt.xlabel('Time Steps')\n",
    "plt.ylabel('MACD Value')\n",
    "plt.legend()\n",
    "\n",
    "plt.tight_layout()\n",
    "plt.show()\n"
   ]
  },
  {
   "cell_type": "markdown",
   "metadata": {},
   "source": [
    "## Ensembling both models together to get a more consistent result. Applying weighted average ensemble principles since LSTM is better at close prediction but XGBoosting is better at MACD"
   ]
  },
  {
   "cell_type": "code",
   "execution_count": 69,
   "metadata": {},
   "outputs": [
    {
     "data": {
      "image/png": "[encoded data removed]",
      "text/plain": [
       "<Figure size 1400x600 with 2 Axes>"
      ]
     },
     "metadata": {},
     "output_type": "display_data"
    },
    {
     "name": "stdout",
     "output_type": "stream",
     "text": [
      "ENSEMBLE Close MSE: 2045.5935754663262\n",
      "ENSEMBLE Close R²: 0.5115856413382969\n",
      "ENSEMBLE MACD MSE: 0.0008986001948967047\n",
      "ENSEMBLE MACD R²: 0.7734746027788532\n"
     ]
    }
   ],
   "source": [
    "import numpy as np\n",
    "import matplotlib.pyplot as plt\n",
    "from sklearn.metrics import mean_squared_error, r2_score\n",
    "\n",
    "# === Step 1: Align array lengths for ensembling ===\n",
    "min_len = min(len(pred_close_clean), len(pred_close))\n",
    "\n",
    "true_close_aligned = true_close[:min_len]\n",
    "true_macd_aligned = true_macd[:min_len]\n",
    "\n",
    "pred_close_clean = pred_close_clean[:min_len]  # LSTM\n",
    "pred_macd_clean = pred_macd_clean[:min_len]\n",
    "\n",
    "pred_close = pred_close[:min_len]  # XGBoost\n",
    "pred_macd = pred_macd[:min_len]\n",
    "\n",
    "# === Step 2: Weighted Average Ensemble ===\n",
    "# Example weights: LSTM 60%, XGBoost 40% for close price, and flipped for MACD\n",
    "w_lstm_close = 0.7\n",
    "w_xgb_close = 0.3\n",
    "\n",
    "w_lstm_macd = 0.3\n",
    "w_xgb_macd = 0.7\n",
    "\n",
    "ensemble_pred_close = (w_lstm_close * pred_close_clean) + (w_xgb_close * pred_close)\n",
    "ensemble_pred_macd = (w_lstm_macd * pred_macd_clean) + (w_xgb_macd * pred_macd)\n",
    "\n",
    "# === Step 3: Evaluate Ensemble Performance ===\n",
    "close_mse = mean_squared_error(true_close_aligned, ensemble_pred_close)\n",
    "close_r2 = r2_score(true_close_aligned, ensemble_pred_close)\n",
    "\n",
    "macd_mse = mean_squared_error(true_macd_aligned, ensemble_pred_macd)\n",
    "macd_r2 = r2_score(true_macd_aligned, ensemble_pred_macd)\n",
    "\n",
    "# === Step 4: Plotting ===\n",
    "plt.figure(figsize=(14, 6))\n",
    "\n",
    "# Plot Close Price\n",
    "plt.subplot(1, 2, 1)\n",
    "plt.plot(true_close_aligned, label='True Close Price', color='green')\n",
    "plt.plot(ensemble_pred_close, label='Ensemble Close Prediction', color='blue')\n",
    "plt.title('Close Price: Actual vs Ensemble Prediction')\n",
    "plt.xlabel('Time Steps')\n",
    "plt.ylabel('Price')\n",
    "plt.legend()\n",
    "\n",
    "# Plot MACD\n",
    "plt.subplot(1, 2, 2)\n",
    "plt.plot(true_macd_aligned, label='True MACD', color='green')\n",
    "plt.plot(ensemble_pred_macd, label='Ensemble MACD Prediction', color='blue')\n",
    "plt.title('MACD: Actual vs Ensemble Prediction')\n",
    "plt.xlabel('Time Steps')\n",
    "plt.ylabel('MACD Value')\n",
    "plt.legend()\n",
    "\n",
    "plt.tight_layout()\n",
    "plt.show()\n",
    "\n",
    "print(\"ENSEMBLE Close MSE:\", close_mse)\n",
    "print(\"ENSEMBLE Close R²:\", close_r2)\n",
    "print(\"ENSEMBLE MACD MSE:\", macd_mse)\n",
    "print(\"ENSEMBLE MACD R²:\", macd_r2)\n"
   ]
  },
  {
   "cell_type": "markdown",
   "metadata": {},
   "source": [
    "versus running LSTM 5 times averaging it. then running xgboosting 5 times, averaging it. then ensembling both together with weighted. It would be beneficial beacuase if we run:\n",
    "\n",
    "Running 5x LSTM we are averaging over the 5 results. → reduces the noise/variance in deep model outputs\n",
    "\n",
    "Running 5x XGBoost averaging over the 5 results again. → stabilizes over tree splits and random seeds\n",
    "\n",
    "Afterwards we combine the best of both worlds. Weighted ensemble → combines sequential insight (LSTM) and pattern recognition (XGB)"
   ]
  },
  {
   "cell_type": "code",
   "execution_count": null,
   "metadata": {},
   "outputs": [],
   "source": []
  }
 ],
 "metadata": {
  "kernelspec": {
   "display_name": "Python 3",
   "language": "python",
   "name": "python3"
  },
  "language_info": {
   "codemirror_mode": {
    "name": "ipython",
    "version": 3
   },
   "file_extension": ".py",
   "mimetype": "text/x-python",
   "name": "python",
   "nbconvert_exporter": "python",
   "pygments_lexer": "ipython3",
   "version": "3.9.6"
  }
 },
 "nbformat": 4,
 "nbformat_minor": 2
}
